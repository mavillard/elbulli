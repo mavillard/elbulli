{
 "cells": [
  {
   "cell_type": "code",
   "execution_count": 1,
   "metadata": {
    "collapsed": true
   },
   "outputs": [],
   "source": [
    "import os\n",
    "from collections import defaultdict\n",
    "\n",
    "import networkx as nx\n",
    "import nltk"
   ]
  },
  {
   "cell_type": "markdown",
   "metadata": {},
   "source": [
    "# General"
   ]
  },
  {
   "cell_type": "markdown",
   "metadata": {},
   "source": [
    "## Type"
   ]
  },
  {
   "cell_type": "code",
   "execution_count": 2,
   "metadata": {
    "collapsed": false
   },
   "outputs": [],
   "source": [
    "type_dict = defaultdict(set)\n",
    "\n",
    "path = 'data/classifications/type/'\n",
    "for filename in os.listdir(path):\n",
    "    with open(path + filename) as f:\n",
    "        for line in f:\n",
    "            if not line.startswith('#'):\n",
    "                ingredient = line.strip().lower()\n",
    "                type_dict[ingredient].add(filename[2:-4])\n",
    "\n",
    "type_dict = dict(type_dict)"
   ]
  },
  {
   "cell_type": "code",
   "execution_count": 3,
   "metadata": {
    "collapsed": false
   },
   "outputs": [
    {
     "name": "stdout",
     "output_type": "stream",
     "text": [
      "cabra {'dairy', 'meats'}\n",
      "helado {'dairy', 'sweets'}\n",
      "tomate {'vegetables', 'fruits'}\n",
      "hinojo {'vegetables', 'spicies_and_condimients'}\n"
     ]
    }
   ],
   "source": [
    "ambiguous = []\n",
    "\n",
    "for i in type_dict:\n",
    "    if len(type_dict[i]) > 1:\n",
    "        ambiguous.append(i)\n",
    "\n",
    "for i in ambiguous:\n",
    "    print(i, type_dict[i])"
   ]
  },
  {
   "cell_type": "code",
   "execution_count": 4,
   "metadata": {
    "collapsed": false
   },
   "outputs": [],
   "source": [
    "type_dict['hinojo'].remove('vegetables')\n",
    "type_dict['tomate'].remove('fruits')\n",
    "type_dict['helado'].remove('sweets')\n",
    "type_dict['cabra'].remove('meats')"
   ]
  },
  {
   "cell_type": "code",
   "execution_count": 5,
   "metadata": {
    "collapsed": false
   },
   "outputs": [],
   "source": [
    "for i in type_dict:\n",
    "    if len(type_dict[i]) > 1:\n",
    "        print(i)"
   ]
  },
  {
   "cell_type": "code",
   "execution_count": 6,
   "metadata": {
    "collapsed": true
   },
   "outputs": [],
   "source": [
    "for i in type_dict:\n",
    "    type_dict[i] = type_dict[i].pop()"
   ]
  },
  {
   "cell_type": "markdown",
   "metadata": {},
   "source": [
    "## Cuisine"
   ]
  },
  {
   "cell_type": "code",
   "execution_count": 7,
   "metadata": {
    "collapsed": false
   },
   "outputs": [],
   "source": [
    "cuisine_dict = defaultdict(set)\n",
    "\n",
    "path = 'data/classifications/cuisine/'\n",
    "for filename in os.listdir(path):\n",
    "    with open(path + filename) as f:\n",
    "        for line in f:\n",
    "            if not line.startswith('#'):\n",
    "                ingredient = line.strip().lower()\n",
    "                cuisine_dict[ingredient].add(filename[2:-4])\n",
    "\n",
    "cuisine_dict = dict(cuisine_dict)"
   ]
  },
  {
   "cell_type": "code",
   "execution_count": 8,
   "metadata": {
    "collapsed": false
   },
   "outputs": [
    {
     "name": "stdout",
     "output_type": "stream",
     "text": [
      "legumbres {'western', 'asian'}\n",
      "soja {'western', 'asian'}\n",
      "hongos {'western', 'asian'}\n",
      "leche de coco {'western', 'asian'}\n",
      "bonito {'western', 'asian'}\n",
      "atún {'western', 'asian'}\n",
      "pepinos {'western', 'asian'}\n",
      "vaca {'western', 'asian'}\n",
      "cebollino {'western', 'asian'}\n",
      "pimienta {'western', 'asian'}\n",
      "frutos secos {'western', 'asian'}\n",
      "agar-agar {'asian', 'molecular'}\n",
      "surimi {'western', 'asian'}\n",
      "ajíes {'western', 'asian'}\n",
      "azúcar {'western', 'asian'}\n",
      "pollo {'western', 'asian'}\n",
      "pepino {'western', 'asian'}\n",
      "mostaza {'western', 'asian'}\n",
      "espinacas {'western', 'asian'}\n",
      "sake {'western', 'asian'}\n",
      "cerdo {'western', 'asian'}\n",
      "arroz {'western', 'asian'}\n",
      "batata {'western', 'asian'}\n",
      "cilantro {'western', 'asian'}\n",
      "nueces {'western', 'asian'}\n",
      "puerro {'western', 'asian'}\n",
      "espinaca {'western', 'asian'}\n",
      "té {'western', 'asian'}\n",
      "tofu {'western', 'asian'}\n",
      "chalota {'western', 'asian'}\n",
      "jengibre {'western', 'asian'}\n",
      "lechuga {'western', 'asian'}\n",
      "sal {'western', 'asian', 'molecular'}\n",
      "cebolla {'western', 'asian'}\n",
      "castaña {'western', 'asian'}\n",
      "huevos {'western', 'asian'}\n",
      "caballo {'western', 'asian'}\n",
      "marisco {'western', 'asian'}\n",
      "nabos {'western', 'asian'}\n",
      "caballa {'western', 'asian'}\n",
      "encurtidos {'western', 'asian'}\n",
      "berenjena {'western', 'asian'}\n",
      "ajo {'western', 'asian'}\n",
      "cordero {'western', 'asian'}\n"
     ]
    }
   ],
   "source": [
    "ambiguous = []\n",
    "\n",
    "for i in cuisine_dict:\n",
    "    if len(cuisine_dict[i]) > 1:\n",
    "        ambiguous.append(i)\n",
    "\n",
    "for i in ambiguous:\n",
    "    print(i, cuisine_dict[i])"
   ]
  },
  {
   "cell_type": "code",
   "execution_count": 9,
   "metadata": {
    "collapsed": false
   },
   "outputs": [],
   "source": [
    "cuisine_dict['cilantro'].remove('western')\n",
    "cuisine_dict['sake'].remove('western')\n",
    "cuisine_dict['vaca'].remove('asian')\n",
    "cuisine_dict['cebollino'].remove('asian')\n",
    "cuisine_dict['puerro'].remove('asian')\n",
    "cuisine_dict['huevos'].remove('asian')\n",
    "cuisine_dict['cebolla'].remove('asian')\n",
    "cuisine_dict['soja'].remove('western')\n",
    "cuisine_dict['chalota'].remove('western')\n",
    "cuisine_dict['pepinos'].remove('asian')\n",
    "cuisine_dict['sal'].remove('asian')\n",
    "cuisine_dict['sal'].remove('molecular')\n",
    "cuisine_dict['tofu'].remove('western')\n",
    "cuisine_dict['hongos'].remove('asian')\n",
    "cuisine_dict['mostaza'].remove('asian')\n",
    "cuisine_dict['ajíes'].remove('asian')\n",
    "cuisine_dict['espinaca'].remove('asian')\n",
    "cuisine_dict['arroz'].remove('asian')\n",
    "cuisine_dict['batata'].remove('asian')\n",
    "cuisine_dict['cerdo'].remove('asian')\n",
    "cuisine_dict['pimienta'].remove('asian')\n",
    "cuisine_dict['nabos'].remove('asian')\n",
    "cuisine_dict['legumbres'].remove('asian')\n",
    "cuisine_dict['pollo'].remove('asian')\n",
    "cuisine_dict['nueces'].remove('asian')\n",
    "cuisine_dict['surimi'].remove('western')\n",
    "cuisine_dict['caballo'].remove('asian')\n",
    "cuisine_dict['bonito'].remove('asian')\n",
    "cuisine_dict['cordero'].remove('asian')\n",
    "cuisine_dict['atún'].remove('asian')\n",
    "cuisine_dict['encurtidos'].remove('asian')\n",
    "cuisine_dict['ajo'].remove('asian')\n",
    "cuisine_dict['frutos secos'].remove('asian')\n",
    "cuisine_dict['berenjena'].remove('asian')\n",
    "cuisine_dict['azúcar'].remove('asian')\n",
    "cuisine_dict['agar-agar'].remove('asian')\n",
    "cuisine_dict['marisco'].remove('asian')\n",
    "cuisine_dict['espinacas'].remove('asian')\n",
    "cuisine_dict['pepino'].remove('asian')\n",
    "cuisine_dict['leche de coco'].remove('western')\n",
    "cuisine_dict['té'].remove('asian')\n",
    "cuisine_dict['castaña'].remove('asian')\n",
    "cuisine_dict['caballa'].remove('asian')\n",
    "cuisine_dict['lechuga'].remove('asian')\n",
    "cuisine_dict['jengibre'].remove('western')"
   ]
  },
  {
   "cell_type": "code",
   "execution_count": 10,
   "metadata": {
    "collapsed": false
   },
   "outputs": [],
   "source": [
    "for i in cuisine_dict:\n",
    "    if len(cuisine_dict[i]) > 1:\n",
    "        print(i)"
   ]
  },
  {
   "cell_type": "code",
   "execution_count": 11,
   "metadata": {
    "collapsed": true
   },
   "outputs": [],
   "source": [
    "for i in cuisine_dict:\n",
    "    cuisine_dict[i] = cuisine_dict[i].pop()"
   ]
  },
  {
   "cell_type": "markdown",
   "metadata": {},
   "source": [
    "# Synonym graph"
   ]
  },
  {
   "cell_type": "code",
   "execution_count": 2,
   "metadata": {
    "collapsed": true
   },
   "outputs": [],
   "source": [
    "ingredients_graph = nx.read_gexf('data/spanish_ingredients_lexicon_6.gexf')"
   ]
  },
  {
   "cell_type": "markdown",
   "metadata": {},
   "source": [
    "## Type"
   ]
  },
  {
   "cell_type": "code",
   "execution_count": 190,
   "metadata": {
    "collapsed": false
   },
   "outputs": [],
   "source": [
    "for ingr, dat in ingredients_graph.nodes_iter(data=True):\n",
    "    if ingr in type_dict:\n",
    "        dat['type'] = type_dict[ingr]"
   ]
  },
  {
   "cell_type": "code",
   "execution_count": 191,
   "metadata": {
    "collapsed": false
   },
   "outputs": [
    {
     "name": "stdout",
     "output_type": "stream",
     "text": [
      "{'biscotes', 'biscote', 'tostadas', 'biscottes', 'tostada', 'biscotte'}\n",
      "biscotes {'count': 0, 'label': 'biscotes'}\n",
      "biscote {'type': 'cereals', 'count': 0, 'label': 'biscote'}\n",
      "tostadas {'count': 16, 'label': 'tostadas'}\n",
      "biscottes {'count': 0, 'label': 'biscottes'}\n",
      "tostada {'type': 'spicies_and_condimients', 'count': 6, 'label': 'tostada'}\n",
      "biscotte {'count': 0, 'label': 'biscotte'}\n",
      "\n",
      "{'pimientas', 'pimienta'}\n",
      "pimientas {'type': 'vegetables', 'count': 2, 'label': 'pimientas'}\n",
      "pimienta {'type': 'spicies_and_condimients', 'count': 24, 'label': 'pimienta'}\n",
      "\n"
     ]
    }
   ],
   "source": [
    "ambiguous = []\n",
    "\n",
    "for syns in nx.connected_components(ingredients_graph):\n",
    "    types = set()\n",
    "    for ingr in syns:\n",
    "        dat = ingredients_graph.node[ingr]\n",
    "        if 'type' in dat:\n",
    "            types.add(dat['type'])\n",
    "    if len(types) > 1:\n",
    "        ambiguous.append(syns)\n",
    "\n",
    "for syns in ambiguous:\n",
    "    print(syns)\n",
    "    for ingr in syns:\n",
    "        print(ingr, ingredients_graph.node[ingr])\n",
    "    print()"
   ]
  },
  {
   "cell_type": "code",
   "execution_count": 192,
   "metadata": {
    "collapsed": false
   },
   "outputs": [],
   "source": [
    "ingredients_graph.node['tostada']['type'] = 'cereals'\n",
    "ingredients_graph.node['pimientas']['type'] = 'spicies_and_condimients'"
   ]
  },
  {
   "cell_type": "code",
   "execution_count": 193,
   "metadata": {
    "collapsed": true
   },
   "outputs": [],
   "source": [
    "for syns in nx.connected_components(ingredients_graph):\n",
    "    types = set()\n",
    "    for ingr in syns:\n",
    "        dat = ingredients_graph.node[ingr]\n",
    "        if 'type' in dat:\n",
    "            types.add(dat['type'])\n",
    "    if len(types) > 1:\n",
    "        print(syns)"
   ]
  },
  {
   "cell_type": "code",
   "execution_count": 194,
   "metadata": {
    "collapsed": false
   },
   "outputs": [],
   "source": [
    "for syns in nx.connected_components(ingredients_graph):\n",
    "    for ingr in syns:\n",
    "        dat = ingredients_graph.node[ingr]\n",
    "        if 'type' in dat:\n",
    "            for ingr in syns:\n",
    "                ingredients_graph.node[ingr]['type'] = dat['type']\n",
    "            break"
   ]
  },
  {
   "cell_type": "markdown",
   "metadata": {},
   "source": [
    "## Cuisine"
   ]
  },
  {
   "cell_type": "code",
   "execution_count": 195,
   "metadata": {
    "collapsed": false
   },
   "outputs": [],
   "source": [
    "for ingr, dat in ingredients_graph.nodes_iter(data=True):\n",
    "    if ingr in cuisine_dict:\n",
    "        dat['cuisine'] = cuisine_dict[ingr]"
   ]
  },
  {
   "cell_type": "code",
   "execution_count": 196,
   "metadata": {
    "collapsed": false
   },
   "outputs": [
    {
     "name": "stdout",
     "output_type": "stream",
     "text": [
      "{'verdura encurtidas', 'vegetaleses vinagres', 'tsukemono', 'vegetal vinagre', 'verdura encurtida', 'encurtido', 'vegetales en vinagres', 'vegetal en vinagre', 'encurtido de verdura', 'vegetal en vinagres', 'vegetaleses en vinagre', 'vegetales vinagres', 'verduras encurtida', 'encurtidos verdurases', 'encurtido verdura', 'vegetal vinagres', 'encurtidos', 'tsukemonos', 'encurtido de verduras', 'encurtido verduras', 'vegetales en vinagre', 'vegetaleses vinagre', 'vegetales vinagre', 'vegetaleses en vinagres', 'verduras encurtidas', 'encurtidos de verdurases'}\n",
      "verdura encurtidas {'count': 0, 'label': 'verdura encurtidas'}\n",
      "vegetaleses vinagres {'count': 0, 'label': 'vegetaleses vinagres'}\n",
      "tsukemono {'count': 0, 'cuisine': 'asian', 'label': 'tsukemono'}\n",
      "vegetal vinagre {'count': 0, 'label': 'vegetal vinagre'}\n",
      "verdura encurtida {'count': 0, 'label': 'verdura encurtida'}\n",
      "encurtido {'count': 0, 'label': 'encurtido'}\n",
      "vegetales en vinagres {'count': 0, 'label': 'vegetales en vinagres'}\n",
      "vegetal en vinagre {'count': 0, 'label': 'vegetal en vinagre'}\n",
      "encurtido de verdura {'count': 0, 'label': 'encurtido de verdura'}\n",
      "vegetal en vinagres {'count': 0, 'label': 'vegetal en vinagres'}\n",
      "vegetaleses en vinagre {'count': 0, 'label': 'vegetaleses en vinagre'}\n",
      "vegetales vinagres {'count': 0, 'label': 'vegetales vinagres'}\n",
      "verduras encurtida {'count': 0, 'label': 'verduras encurtida'}\n",
      "encurtidos verdurases {'count': 0, 'label': 'encurtidos verdurases'}\n",
      "encurtido verdura {'count': 0, 'label': 'encurtido verdura'}\n",
      "vegetal vinagres {'count': 0, 'label': 'vegetal vinagres'}\n",
      "encurtidos {'count': 0, 'cuisine': 'western', 'label': 'encurtidos'}\n",
      "tsukemonos {'count': 0, 'label': 'tsukemonos'}\n",
      "encurtido de verduras {'count': 0, 'cuisine': 'asian', 'label': 'encurtido de verduras'}\n",
      "encurtido verduras {'count': 0, 'label': 'encurtido verduras'}\n",
      "vegetales en vinagre {'count': 0, 'cuisine': 'asian', 'label': 'vegetales en vinagre'}\n",
      "vegetaleses vinagre {'count': 0, 'label': 'vegetaleses vinagre'}\n",
      "vegetales vinagre {'count': 0, 'label': 'vegetales vinagre'}\n",
      "vegetaleses en vinagres {'count': 0, 'label': 'vegetaleses en vinagres'}\n",
      "verduras encurtidas {'count': 0, 'cuisine': 'asian', 'label': 'verduras encurtidas'}\n",
      "encurtidos de verdurases {'count': 0, 'label': 'encurtidos de verdurases'}\n",
      "\n",
      "{'ajonjolí', 'sesamo', 'alegrias', 'alegría', 'sésamo', 'ajonjoli', 'sésamos', 'ajonjolíes', 'sesamos', 'alegrías', 'alegria', 'ajonjolies'}\n",
      "ajonjolí {'type': 'spicies_and_condimients', 'count': 0, 'cuisine': 'asian', 'label': 'ajonjolí'}\n",
      "sesamo {'type': 'spicies_and_condimients', 'count': 0, 'label': 'sesamo'}\n",
      "alegrias {'type': 'spicies_and_condimients', 'count': 0, 'label': 'alegrias'}\n",
      "alegría {'type': 'spicies_and_condimients', 'count': 0, 'label': 'alegría'}\n",
      "sésamo {'type': 'spicies_and_condimients', 'count': 1, 'cuisine': 'western', 'label': 'sésamo'}\n",
      "ajonjoli {'type': 'spicies_and_condimients', 'count': 0, 'label': 'ajonjoli'}\n",
      "sésamos {'type': 'spicies_and_condimients', 'count': 0, 'cuisine': 'asian', 'label': 'sésamos'}\n",
      "ajonjolíes {'type': 'spicies_and_condimients', 'count': 0, 'label': 'ajonjolíes'}\n",
      "sesamos {'type': 'spicies_and_condimients', 'count': 0, 'label': 'sesamos'}\n",
      "alegrías {'type': 'spicies_and_condimients', 'count': 0, 'label': 'alegrías'}\n",
      "alegria {'type': 'spicies_and_condimients', 'count': 0, 'label': 'alegria'}\n",
      "ajonjolies {'type': 'spicies_and_condimients', 'count': 0, 'label': 'ajonjolies'}\n",
      "\n",
      "{'batata', 'boniato', 'boniatos', 'batatas', 'camotes', 'camote'}\n",
      "batata {'type': 'vegetables', 'count': 1, 'cuisine': 'western', 'label': 'batata'}\n",
      "boniato {'type': 'vegetables', 'count': 0, 'label': 'boniato'}\n",
      "boniatos {'type': 'vegetables', 'count': 0, 'cuisine': 'asian', 'label': 'boniatos'}\n",
      "batatas {'type': 'vegetables', 'count': 0, 'cuisine': 'asian', 'label': 'batatas'}\n",
      "camotes {'type': 'vegetables', 'count': 0, 'label': 'camotes'}\n",
      "camote {'type': 'vegetables', 'count': 0, 'cuisine': 'western', 'label': 'camote'}\n",
      "\n",
      "{'fideo', 'fideos', 'espaguetis', 'espagueti'}\n",
      "fideo {'type': 'cereals', 'count': 1, 'cuisine': 'western', 'label': 'fideo'}\n",
      "fideos {'type': 'cereals', 'count': 0, 'cuisine': 'asian', 'label': 'fideos'}\n",
      "espaguetis {'type': 'cereals', 'count': 4, 'label': 'espaguetis'}\n",
      "espagueti {'type': 'cereals', 'count': 0, 'cuisine': 'western', 'label': 'espagueti'}\n",
      "\n",
      "{'ajies', 'ajis', 'chile', 'guindilla', 'chiles', 'ají', 'ajíes', 'aji', 'guindillas'}\n",
      "ajies {'type': 'spicies_and_condimients', 'count': 0, 'label': 'ajies'}\n",
      "ajis {'type': 'spicies_and_condimients', 'count': 0, 'label': 'ajis'}\n",
      "chile {'type': 'spicies_and_condimients', 'count': 0, 'cuisine': 'western', 'label': 'chile'}\n",
      "guindilla {'type': 'spicies_and_condimients', 'count': 12, 'label': 'guindilla'}\n",
      "chiles {'type': 'spicies_and_condimients', 'count': 0, 'cuisine': 'asian', 'label': 'chiles'}\n",
      "ají {'type': 'spicies_and_condimients', 'count': 0, 'label': 'ají'}\n",
      "ajíes {'type': 'spicies_and_condimients', 'count': 0, 'cuisine': 'western', 'label': 'ajíes'}\n",
      "aji {'type': 'spicies_and_condimients', 'count': 0, 'label': 'aji'}\n",
      "guindillas {'type': 'spicies_and_condimients', 'count': 5, 'cuisine': 'asian', 'label': 'guindillas'}\n",
      "\n",
      "{'puercos', 'puerco', 'chancho', 'chanchos', 'cerdo', 'cerdos'}\n",
      "puercos {'type': 'meats', 'count': 0, 'label': 'puercos'}\n",
      "puerco {'type': 'meats', 'count': 0, 'cuisine': 'western', 'label': 'puerco'}\n",
      "chancho {'type': 'meats', 'count': 0, 'cuisine': 'asian', 'label': 'chancho'}\n",
      "chanchos {'type': 'meats', 'count': 0, 'label': 'chanchos'}\n",
      "cerdo {'type': 'meats', 'count': 14, 'cuisine': 'western', 'label': 'cerdo'}\n",
      "cerdos {'type': 'meats', 'count': 0, 'label': 'cerdos'}\n",
      "\n",
      "{'cilantro', 'cilantros', 'perejiles chino', 'perejiles chinos', 'culantro', 'perejil chinos', 'perejil chino', 'culantros'}\n",
      "cilantro {'type': 'spicies_and_condimients', 'count': 15, 'cuisine': 'asian', 'label': 'cilantro'}\n",
      "cilantros {'type': 'spicies_and_condimients', 'count': 0, 'label': 'cilantros'}\n",
      "perejiles chino {'type': 'spicies_and_condimients', 'count': 0, 'label': 'perejiles chino'}\n",
      "perejiles chinos {'type': 'spicies_and_condimients', 'count': 0, 'label': 'perejiles chinos'}\n",
      "culantro {'type': 'spicies_and_condimients', 'count': 0, 'cuisine': 'western', 'label': 'culantro'}\n",
      "perejil chinos {'type': 'spicies_and_condimients', 'count': 0, 'label': 'perejil chinos'}\n",
      "perejil chino {'type': 'spicies_and_condimients', 'count': 0, 'cuisine': 'asian', 'label': 'perejil chino'}\n",
      "culantros {'type': 'spicies_and_condimients', 'count': 0, 'label': 'culantros'}\n",
      "\n",
      "{'tallarín', 'tallarines', 'tallarin'}\n",
      "tallarín {'type': 'cereals', 'count': 0, 'cuisine': 'western', 'label': 'tallarín'}\n",
      "tallarines {'type': 'cereals', 'count': 1, 'cuisine': 'asian', 'label': 'tallarines'}\n",
      "tallarin {'type': 'cereals', 'count': 0, 'label': 'tallarin'}\n",
      "\n",
      "{'arroz', 'arroces', 'kome', 'komes'}\n",
      "arroz {'type': 'cereals', 'count': 19, 'cuisine': 'western', 'label': 'arroz'}\n",
      "arroces {'type': 'cereals', 'count': 0, 'label': 'arroces'}\n",
      "kome {'type': 'cereals', 'count': 0, 'cuisine': 'asian', 'label': 'kome'}\n",
      "komes {'type': 'cereals', 'count': 0, 'label': 'komes'}\n",
      "\n",
      "{'retasu', 'lechugas', 'retasus', 'lechuga'}\n",
      "retasu {'type': 'vegetables', 'count': 0, 'cuisine': 'asian', 'label': 'retasu'}\n",
      "lechugas {'type': 'vegetables', 'count': 2, 'cuisine': 'western', 'label': 'lechugas'}\n",
      "retasus {'type': 'vegetables', 'count': 0, 'label': 'retasus'}\n",
      "lechuga {'type': 'vegetables', 'count': 2, 'cuisine': 'western', 'label': 'lechuga'}\n",
      "\n",
      "{'cacahuete', 'cacahuetes'}\n",
      "cacahuete {'type': 'spicies_and_condimients', 'count': 2, 'cuisine': 'western', 'label': 'cacahuete'}\n",
      "cacahuetes {'type': 'spicies_and_condimients', 'count': 3, 'cuisine': 'asian', 'label': 'cacahuetes'}\n",
      "\n",
      "{'alberchigos', 'prunu armeniaca', 'prunus armeniaca', 'albaricoques', 'prunuses armeniacas', 'albérchigo', 'alberchigo', 'albérchigos', 'albaricoque'}\n",
      "alberchigos {'type': 'fruits', 'count': 0, 'label': 'alberchigos'}\n",
      "prunu armeniaca {'type': 'fruits', 'count': 0, 'label': 'prunu armeniaca'}\n",
      "prunus armeniaca {'type': 'fruits', 'count': 0, 'label': 'prunus armeniaca'}\n",
      "albaricoques {'type': 'fruits', 'count': 9, 'cuisine': 'asian', 'label': 'albaricoques'}\n",
      "prunuses armeniacas {'type': 'fruits', 'count': 0, 'label': 'prunuses armeniacas'}\n",
      "albérchigo {'type': 'fruits', 'count': 0, 'label': 'albérchigo'}\n",
      "alberchigo {'type': 'fruits', 'count': 0, 'label': 'alberchigo'}\n",
      "albérchigos {'type': 'fruits', 'count': 0, 'label': 'albérchigos'}\n",
      "albaricoque {'type': 'fruits', 'count': 7, 'cuisine': 'western', 'label': 'albaricoque'}\n",
      "\n",
      "{'algas', 'alga'}\n",
      "algas {'type': 'seafood', 'count': 0, 'cuisine': 'asian', 'label': 'algas'}\n",
      "alga {'type': 'seafood', 'count': 2, 'cuisine': 'western', 'label': 'alga'}\n",
      "\n"
     ]
    }
   ],
   "source": [
    "ambiguous = []\n",
    "\n",
    "for syns in nx.connected_components(ingredients_graph):\n",
    "    cuisines = set()\n",
    "    for ingr in syns:\n",
    "        dat = ingredients_graph.node[ingr]\n",
    "        if 'cuisine' in dat:\n",
    "            cuisines.add(dat['cuisine'])\n",
    "    if len(cuisines) > 1:\n",
    "        ambiguous.append(syns)\n",
    "\n",
    "for syns in ambiguous:\n",
    "    print(syns)\n",
    "    for ingr in syns:\n",
    "        print(ingr, ingredients_graph.node[ingr])\n",
    "    print()"
   ]
  },
  {
   "cell_type": "code",
   "execution_count": 197,
   "metadata": {
    "collapsed": false
   },
   "outputs": [],
   "source": [
    "ingredients_graph.node['encurtidos']['cuisine'] = 'asian'\n",
    "ingredients_graph.node['ajonjolí']['cuisine'] = 'western'\n",
    "ingredients_graph.node['sésamos']['cuisine'] = 'western'\n",
    "ingredients_graph.node['boniatos']['cuisine'] = 'western'\n",
    "ingredients_graph.node['batatas']['cuisine'] = 'western'\n",
    "ingredients_graph.node['fideos']['cuisine'] = 'western'\n",
    "ingredients_graph.node['chiles']['cuisine'] = 'western'\n",
    "ingredients_graph.node['guindillas']['cuisine'] = 'western'\n",
    "ingredients_graph.node['chancho']['cuisine'] = 'western'\n",
    "ingredients_graph.node['culantro']['cuisine'] = 'asian'\n",
    "ingredients_graph.node['tallarines']['cuisine'] = 'western'\n",
    "ingredients_graph.node['kome']['cuisine'] = 'western'\n",
    "ingredients_graph.node['retasu']['cuisine'] = 'western'\n",
    "ingredients_graph.node['cacahuetes']['cuisine'] = 'western'\n",
    "ingredients_graph.node['albaricoques']['cuisine'] = 'western'\n",
    "ingredients_graph.node['alga']['cuisine'] = 'asian'"
   ]
  },
  {
   "cell_type": "code",
   "execution_count": 198,
   "metadata": {
    "collapsed": false
   },
   "outputs": [],
   "source": [
    "for syns in nx.connected_components(ingredients_graph):\n",
    "    cuisines = set()\n",
    "    for ingr in syns:\n",
    "        dat = ingredients_graph.node[ingr]\n",
    "        if 'cuisine' in dat:\n",
    "            cuisines.add(dat['cuisine'])\n",
    "    if len(cuisines) > 1:\n",
    "        print(syns)"
   ]
  },
  {
   "cell_type": "code",
   "execution_count": 199,
   "metadata": {
    "collapsed": false
   },
   "outputs": [],
   "source": [
    "for syns in nx.connected_components(ingredients_graph):\n",
    "    for ingr in syns:\n",
    "        dat = ingredients_graph.node[ingr]\n",
    "        if 'cuisine' in dat:\n",
    "            for ingr in syns:\n",
    "                ingredients_graph.node[ingr]['cuisine'] = dat['cuisine']\n",
    "            break"
   ]
  },
  {
   "cell_type": "markdown",
   "metadata": {},
   "source": [
    "# Superclasses"
   ]
  },
  {
   "cell_type": "code",
   "execution_count": 3,
   "metadata": {
    "collapsed": false
   },
   "outputs": [],
   "source": [
    "repr_ingredients_dict = {}\n",
    "\n",
    "for syns in nx.connected_components(ingredients_graph):\n",
    "    max_ingr = ''\n",
    "    max_count = 0\n",
    "    for ingr in syns:\n",
    "        dat = ingredients_graph.node[ingr]\n",
    "        if dat['count'] > max_count:\n",
    "            max_ingr = ingr\n",
    "            max_count = dat['count']\n",
    "    if max_ingr:\n",
    "        for ingr in syns:\n",
    "            dat = ingredients_graph.node[ingr]\n",
    "            dat['repr'] = max_ingr"
   ]
  },
  {
   "cell_type": "code",
   "execution_count": 4,
   "metadata": {
    "collapsed": false
   },
   "outputs": [],
   "source": [
    "for ingr, dat in ingredients_graph.nodes_iter(data=True):\n",
    "    if 'repr' in dat:\n",
    "        superclasses = []\n",
    "        tokens = nltk.word_tokenize(dat['repr'])\n",
    "        for token in tokens:\n",
    "            if token in ingredients_graph:\n",
    "                if 'repr' in ingredients_graph.node[token]:\n",
    "                    superclass = ingredients_graph.node[token]['repr']\n",
    "                else:\n",
    "                    superclass = token\n",
    "                superclasses.append(superclass)\n",
    "                break\n",
    "        if superclasses:\n",
    "            dat['superclass'] = superclasses[0]\n",
    "        else:\n",
    "            dat['superclass'] = tokens[0]"
   ]
  },
  {
   "cell_type": "code",
   "execution_count": 5,
   "metadata": {
    "collapsed": true
   },
   "outputs": [],
   "source": [
    "c = d = 0\n",
    "for ingr, dat in ingredients_graph.nodes_iter(data=True):\n",
    "    if 'type' in dat:\n",
    "        c+=1\n",
    "    if 'cuisine' in dat:\n",
    "        d+=1"
   ]
  },
  {
   "cell_type": "code",
   "execution_count": 24,
   "metadata": {
    "collapsed": false
   },
   "outputs": [
    {
     "name": "stdout",
     "output_type": "stream",
     "text": [
      "{'superclass': 'hierba', 'label': 'hierba luisa', 'count': 11, 'repr': 'hierba luisa'}\n",
      "{'superclass': 'tosaka', 'label': 'tosaka roja', 'count': 1, 'repr': 'tosaka roja'}\n",
      "{'superclass': 'hierba', 'label': 'hierba buena', 'count': 1, 'repr': 'hierba buena'}\n",
      "{'superclass': 'hierba', 'label': 'hierba luisa fresca', 'count': 25, 'repr': 'hierba luisa fresca'}\n",
      "{'superclass': 'colorante', 'label': 'colorante rojo', 'count': 3, 'repr': 'colorante rojo'}\n",
      "{'superclass': 'jugo', 'label': 'jugo de frutos rojos', 'count': 2, 'repr': 'jugo de frutos rojos'}\n",
      "{'superclass': 'frutos', 'label': 'frutos rojos', 'count': 1, 'repr': 'frutos rojos'}\n",
      "{'superclass': 'láminas', 'label': 'láminas de crocant', 'count': 1, 'repr': 'láminas de crocant'}\n",
      "{'superclass': 'diente', 'label': 'diente de león', 'count': 4, 'repr': 'diente de león'}\n",
      "{'superclass': 'ficoide', 'label': 'ficoide glaciale', 'count': 3, 'repr': 'ficoide glaciale'}\n",
      "{'superclass': 'emulsionante', 'label': 'emulsionante en polvo', 'count': 1, 'repr': 'emulsionante en polvo'}\n",
      "{'superclass': 'hoja', 'label': 'hoja de roble', 'count': 1, 'repr': 'hoja de roble'}\n",
      "{'superclass': 'hoja', 'label': 'hoja de roble morada', 'count': 3, 'repr': 'hoja de roble morada'}\n",
      "{'superclass': 'gelificante', 'label': 'gelificante vegetal', 'count': 2, 'repr': 'gelificante vegetal'}\n",
      "{'superclass': 'efervescente', 'label': 'efervescente gallefi', 'count': 2, 'repr': 'efervescente gallefi'}\n",
      "{'superclass': 'hierbas', 'label': 'hierbas aromáticas', 'count': 2, 'repr': 'hierbas aromáticas'}\n",
      "{'superclass': 'ancas', 'label': 'ancas de rana', 'count': 2, 'repr': 'ancas de rana'}\n",
      "{'superclass': 'masa', 'label': 'masa madre', 'count': 10, 'repr': 'masa madre'}\n",
      "{'superclass': 'caldo', 'label': 'caldo de suquet', 'count': 1, 'repr': 'caldo de suquet'}\n",
      "{'superclass': 'lollo', 'label': 'lollo rosso', 'count': 2, 'repr': 'lollo rosso'}\n",
      "{'superclass': 'pedro', 'label': 'pedro ximénez', 'count': 1, 'repr': 'pedro ximénez'}\n",
      "{'superclass': 'caldo', 'label': 'caldo de rossinyols', 'count': 1, 'repr': 'caldo de rossinyols'}\n",
      "{'superclass': 'sechuan', 'label': 'sechuan button', 'count': 7, 'repr': 'sechuan button'}\n",
      "{'superclass': 'tosaka', 'label': 'tosaka verde', 'count': 1, 'repr': 'tosaka verde'}\n",
      "{'superclass': 'ácido', 'label': 'ácido ascórbico', 'count': 25, 'repr': 'ácido ascórbico'}\n",
      "{'superclass': 'grand', 'label': 'grand marnier', 'count': 4, 'repr': 'grand marnier'}\n",
      "{'superclass': 'caldo', 'label': 'caldo de cefalópodos', 'count': 1, 'repr': 'caldo de cefalópodos'}\n",
      "{'superclass': 'espuma', 'label': 'espuma fría', 'count': 5, 'repr': 'espuma fría'}\n"
     ]
    }
   ],
   "source": [
    "b=c=d=0\n",
    "for ingr, dat in ingredients_graph.nodes_iter(data=True):\n",
    "    if dat['count'] > 0 and 'superclass' in dat:\n",
    "        b+=1\n",
    "        if dat['superclass'] not in ingredients_graph:\n",
    "            print(dat)\n",
    "            c+=1\n",
    "        else:\n",
    "            d+=1"
   ]
  },
  {
   "cell_type": "code",
   "execution_count": 25,
   "metadata": {
    "collapsed": false
   },
   "outputs": [
    {
     "data": {
      "text/plain": [
       "1609"
      ]
     },
     "execution_count": 25,
     "metadata": {},
     "output_type": "execute_result"
    }
   ],
   "source": [
    "b"
   ]
  },
  {
   "cell_type": "code",
   "execution_count": 26,
   "metadata": {
    "collapsed": false
   },
   "outputs": [
    {
     "data": {
      "text/plain": [
       "28"
      ]
     },
     "execution_count": 26,
     "metadata": {},
     "output_type": "execute_result"
    }
   ],
   "source": [
    "c"
   ]
  },
  {
   "cell_type": "code",
   "execution_count": 27,
   "metadata": {
    "collapsed": false
   },
   "outputs": [
    {
     "data": {
      "text/plain": [
       "1581"
      ]
     },
     "execution_count": 27,
     "metadata": {},
     "output_type": "execute_result"
    }
   ],
   "source": [
    "d"
   ]
  },
  {
   "cell_type": "code",
   "execution_count": 6,
   "metadata": {
    "collapsed": false
   },
   "outputs": [
    {
     "data": {
      "text/plain": [
       "26472"
      ]
     },
     "execution_count": 6,
     "metadata": {},
     "output_type": "execute_result"
    }
   ],
   "source": [
    "len(ingredients_graph)"
   ]
  },
  {
   "cell_type": "code",
   "execution_count": 7,
   "metadata": {
    "collapsed": false
   },
   "outputs": [
    {
     "data": {
      "text/plain": [
       "0"
      ]
     },
     "execution_count": 7,
     "metadata": {},
     "output_type": "execute_result"
    }
   ],
   "source": [
    "c"
   ]
  },
  {
   "cell_type": "code",
   "execution_count": 8,
   "metadata": {
    "collapsed": false
   },
   "outputs": [
    {
     "data": {
      "text/plain": [
       "0"
      ]
     },
     "execution_count": 8,
     "metadata": {},
     "output_type": "execute_result"
    }
   ],
   "source": [
    "d"
   ]
  },
  {
   "cell_type": "code",
   "execution_count": 217,
   "metadata": {
    "collapsed": false
   },
   "outputs": [],
   "source": [
    "for ingr, dat in ingredients_graph.nodes_iter(data=True):\n",
    "    if 'type' not in dat and 'superclass' in dat:\n",
    "        superclass = dat['superclass']\n",
    "        if superclass in ingredients_graph:\n",
    "            super_dat = ingredients_graph.node[superclass]\n",
    "            if 'type' in super_dat:\n",
    "                dat['type'] = super_dat['type']"
   ]
  },
  {
   "cell_type": "code",
   "execution_count": 222,
   "metadata": {
    "collapsed": false
   },
   "outputs": [],
   "source": [
    "c=d=e=0\n",
    "for ingr, dat in ingredients_graph.nodes_iter(data=True):\n",
    "    if dat['count'] > 0:\n",
    "        if 'type' not in dat:\n",
    "            c+=1\n",
    "        if 'cuisine' not in dat:\n",
    "            d+=1\n",
    "        e+=1"
   ]
  },
  {
   "cell_type": "code",
   "execution_count": 224,
   "metadata": {
    "collapsed": false
   },
   "outputs": [
    {
     "data": {
      "text/plain": [
       "1609"
      ]
     },
     "execution_count": 224,
     "metadata": {},
     "output_type": "execute_result"
    }
   ],
   "source": [
    "e"
   ]
  },
  {
   "cell_type": "code",
   "execution_count": 225,
   "metadata": {
    "collapsed": false
   },
   "outputs": [
    {
     "data": {
      "text/plain": [
       "568"
      ]
     },
     "execution_count": 225,
     "metadata": {},
     "output_type": "execute_result"
    }
   ],
   "source": [
    "c"
   ]
  },
  {
   "cell_type": "code",
   "execution_count": 226,
   "metadata": {
    "collapsed": false
   },
   "outputs": [
    {
     "data": {
      "text/plain": [
       "1222"
      ]
     },
     "execution_count": 226,
     "metadata": {},
     "output_type": "execute_result"
    }
   ],
   "source": [
    "d"
   ]
  },
  {
   "cell_type": "markdown",
   "metadata": {},
   "source": [
    "# elBulli"
   ]
  },
  {
   "cell_type": "code",
   "execution_count": 60,
   "metadata": {
    "collapsed": false
   },
   "outputs": [],
   "source": [
    "a=b=d=e=c=0\n",
    "with open('data/ingredients/es_elbulli_ingredients.txt') as f:\n",
    "    for line in f:\n",
    "        ingredient = line.strip()\n",
    "        if ingredient in type_dict:\n",
    "            a+=1\n",
    "        else:\n",
    "            b+=1\n",
    "        if ingredient in cuisine_dict:\n",
    "            d+=1\n",
    "        else:\n",
    "            e+=1\n",
    "        c+=1"
   ]
  },
  {
   "cell_type": "code",
   "execution_count": 61,
   "metadata": {
    "collapsed": false
   },
   "outputs": [
    {
     "data": {
      "text/plain": [
       "162"
      ]
     },
     "execution_count": 61,
     "metadata": {},
     "output_type": "execute_result"
    }
   ],
   "source": [
    "a"
   ]
  },
  {
   "cell_type": "code",
   "execution_count": 62,
   "metadata": {
    "collapsed": false
   },
   "outputs": [
    {
     "data": {
      "text/plain": [
       "1762"
      ]
     },
     "execution_count": 62,
     "metadata": {},
     "output_type": "execute_result"
    }
   ],
   "source": [
    "b"
   ]
  },
  {
   "cell_type": "code",
   "execution_count": 63,
   "metadata": {
    "collapsed": false
   },
   "outputs": [
    {
     "data": {
      "text/plain": [
       "224"
      ]
     },
     "execution_count": 63,
     "metadata": {},
     "output_type": "execute_result"
    }
   ],
   "source": [
    "d"
   ]
  },
  {
   "cell_type": "code",
   "execution_count": 64,
   "metadata": {
    "collapsed": false
   },
   "outputs": [
    {
     "data": {
      "text/plain": [
       "1700"
      ]
     },
     "execution_count": 64,
     "metadata": {},
     "output_type": "execute_result"
    }
   ],
   "source": [
    "e"
   ]
  },
  {
   "cell_type": "code",
   "execution_count": 65,
   "metadata": {
    "collapsed": false
   },
   "outputs": [
    {
     "data": {
      "text/plain": [
       "1924"
      ]
     },
     "execution_count": 65,
     "metadata": {},
     "output_type": "execute_result"
    }
   ],
   "source": [
    "c"
   ]
  },
  {
   "cell_type": "code",
   "execution_count": 66,
   "metadata": {
    "collapsed": false
   },
   "outputs": [],
   "source": [
    "a=b=d=e=c=0\n",
    "with open('data/ingredients/es_elbulli_ingredients.txt') as f:\n",
    "    for line in f:\n",
    "        for ingredient in line.strip().split(' o '):\n",
    "            if 'type' in ingredients_graph.node[ingredient]:\n",
    "                a+=1\n",
    "            else:\n",
    "                b+=1\n",
    "#                 print(ingredient)\n",
    "            if 'cuisine' in ingredients_graph.node[ingredient]:\n",
    "                d+=1\n",
    "            else:\n",
    "                e+=1\n",
    "#                 print(ingredient)\n",
    "            c+=1"
   ]
  },
  {
   "cell_type": "code",
   "execution_count": 67,
   "metadata": {
    "collapsed": false
   },
   "outputs": [
    {
     "data": {
      "text/plain": [
       "194"
      ]
     },
     "execution_count": 67,
     "metadata": {},
     "output_type": "execute_result"
    }
   ],
   "source": [
    "a"
   ]
  },
  {
   "cell_type": "code",
   "execution_count": 68,
   "metadata": {
    "collapsed": false
   },
   "outputs": [
    {
     "data": {
      "text/plain": [
       "1734"
      ]
     },
     "execution_count": 68,
     "metadata": {},
     "output_type": "execute_result"
    }
   ],
   "source": [
    "b"
   ]
  },
  {
   "cell_type": "code",
   "execution_count": 69,
   "metadata": {
    "collapsed": false
   },
   "outputs": [
    {
     "data": {
      "text/plain": [
       "224"
      ]
     },
     "execution_count": 69,
     "metadata": {},
     "output_type": "execute_result"
    }
   ],
   "source": [
    "d"
   ]
  },
  {
   "cell_type": "code",
   "execution_count": 70,
   "metadata": {
    "collapsed": false
   },
   "outputs": [
    {
     "data": {
      "text/plain": [
       "1704"
      ]
     },
     "execution_count": 70,
     "metadata": {},
     "output_type": "execute_result"
    }
   ],
   "source": [
    "e"
   ]
  },
  {
   "cell_type": "code",
   "execution_count": 71,
   "metadata": {
    "collapsed": false
   },
   "outputs": [
    {
     "data": {
      "text/plain": [
       "1928"
      ]
     },
     "execution_count": 71,
     "metadata": {},
     "output_type": "execute_result"
    }
   ],
   "source": [
    "c"
   ]
  },
  {
   "cell_type": "code",
   "execution_count": 19,
   "metadata": {
    "collapsed": false
   },
   "outputs": [
    {
     "data": {
      "text/plain": [
       "1034"
      ]
     },
     "execution_count": 19,
     "metadata": {},
     "output_type": "execute_result"
    }
   ],
   "source": [
    "a=b=c=0\n",
    "with open('data/ingredients/es_quehayenlanevera_ingredients.txt') as f:\n",
    "    for line in f:\n",
    "        ingredient = line.strip()\n",
    "        if ingredient in type_dict:\n",
    "            a+=1\n",
    "        else:\n",
    "            b+=1\n",
    "        c+=1"
   ]
  },
  {
   "cell_type": "code",
   "execution_count": null,
   "metadata": {
    "collapsed": true
   },
   "outputs": [],
   "source": []
  }
 ],
 "metadata": {
  "kernelspec": {
   "display_name": "Python 3",
   "language": "python",
   "name": "python3"
  },
  "language_info": {
   "codemirror_mode": {
    "name": "ipython",
    "version": 3
   },
   "file_extension": ".py",
   "mimetype": "text/x-python",
   "name": "python",
   "nbconvert_exporter": "python",
   "pygments_lexer": "ipython3",
   "version": "3.4.3"
  }
 },
 "nbformat": 4,
 "nbformat_minor": 0
}
