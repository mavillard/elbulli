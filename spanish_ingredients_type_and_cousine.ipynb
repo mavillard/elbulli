{
 "cells": [
  {
   "cell_type": "code",
   "execution_count": 1,
   "metadata": {
    "collapsed": true
   },
   "outputs": [],
   "source": [
    "import os\n",
    "import pickle\n",
    "from collections import defaultdict\n",
    "\n",
    "import networkx as nx\n",
    "import nltk"
   ]
  },
  {
   "cell_type": "markdown",
   "metadata": {},
   "source": [
    "# Type"
   ]
  },
  {
   "cell_type": "code",
   "execution_count": 11,
   "metadata": {
    "collapsed": false
   },
   "outputs": [],
   "source": [
    "type_dict = defaultdict(set)\n",
    "\n",
    "path = 'data/classifications/type/'\n",
    "for filename in os.listdir(path):\n",
    "    with open(path + filename) as f:\n",
    "        for line in f:\n",
    "            if not line.startswith('#'):\n",
    "                ingredient = line.strip().lower()\n",
    "                type_dict[ingredient].add(filename[2:-4])\n",
    "\n",
    "type_dict = dict(type_dict)"
   ]
  },
  {
   "cell_type": "code",
   "execution_count": 12,
   "metadata": {
    "collapsed": false
   },
   "outputs": [
    {
     "name": "stdout",
     "output_type": "stream",
     "text": [
      "Ambiguity: avellana {'nuts', 'fruits'}\n",
      "Ambiguity: pimiento rojo {'spicies_and_condimients', 'vegetables'}\n",
      "Ambiguity: cebolla {'spicies_and_condimients', 'vegetables'}\n",
      "Ambiguity: hinojo {'spicies_and_condimients', 'vegetables'}\n",
      "Ambiguity: semillas de sésamo {'spicies_and_condimients', 'cereals'}\n",
      "Ambiguity: niboshi {'spicies_and_condimients', 'seafood'}\n",
      "Ambiguity: helado {'dairy', 'sweets'}\n",
      "Ambiguity: cabra {'dairy', 'meats'}\n",
      "Ambiguity: tofu {'spicies_and_condimients', 'vegetables'}\n",
      "Ambiguity: konbu {'spicies_and_condimients', 'vegetables'}\n",
      "Ambiguity: miso {'spicies_and_condimients', 'vegetables'}\n",
      "Ambiguity: sake {'spicies_and_condimients', 'drinks'}\n",
      "Ambiguity: nuez {'nuts', 'fruits'}\n",
      "Ambiguity: pepinillo {'spicies_and_condimients', 'vegetables'}\n",
      "Ambiguity: puerro {'spicies_and_condimients', 'vegetables'}\n",
      "Ambiguity: vainilla {'spicies_and_condimients', 'sweets'}\n",
      "Ambiguity: azúcar {'spicies_and_condimients', 'sweets'}\n",
      "Ambiguity: tomate {'fruits', 'vegetables'}\n",
      "Ambiguity: cacahuete {'spicies_and_condimients', 'nuts'}\n",
      "Ambiguity: almendra {'spicies_and_condimients', 'nuts'}\n"
     ]
    }
   ],
   "source": [
    "ambiguous = []\n",
    "\n",
    "for i in type_dict:\n",
    "    if len(type_dict[i]) > 1:\n",
    "        ambiguous.append(i)\n",
    "\n",
    "for i in ambiguous:\n",
    "    print('Ambiguity:', i, type_dict[i])"
   ]
  },
  {
   "cell_type": "code",
   "execution_count": 13,
   "metadata": {
    "collapsed": false
   },
   "outputs": [],
   "source": [
    "type_dict['avellana'].remove('fruits')\n",
    "type_dict['pimiento rojo'].remove('spicies_and_condimients')\n",
    "type_dict['cebolla'].remove('spicies_and_condimients')\n",
    "type_dict['hinojo'].remove('vegetables')\n",
    "type_dict['semillas de sésamo'].remove('cereals')\n",
    "type_dict['niboshi'].remove('spicies_and_condimients')\n",
    "type_dict['tomate'].remove('fruits')\n",
    "type_dict['helado'].remove('sweets')\n",
    "type_dict['cabra'].remove('meats')\n",
    "type_dict['konbu'].remove('spicies_and_condimients')\n",
    "type_dict['tofu'].remove('spicies_and_condimients')\n",
    "type_dict['miso'].remove('spicies_and_condimients')\n",
    "type_dict['sake'].remove('spicies_and_condimients')\n",
    "type_dict['nuez'].remove('fruits')\n",
    "type_dict['pepinillo'].remove('spicies_and_condimients')\n",
    "type_dict['puerro'].remove('spicies_and_condimients')\n",
    "type_dict['vainilla'].remove('spicies_and_condimients')\n",
    "type_dict['azúcar'].remove('spicies_and_condimients')\n",
    "type_dict['cacahuete'].remove('spicies_and_condimients')\n",
    "type_dict['almendra'].remove('spicies_and_condimients')"
   ]
  },
  {
   "cell_type": "code",
   "execution_count": 15,
   "metadata": {
    "collapsed": false
   },
   "outputs": [
    {
     "name": "stdout",
     "output_type": "stream",
     "text": [
      "No more ambiguities\n"
     ]
    }
   ],
   "source": [
    "a = False\n",
    "for i in type_dict:\n",
    "    if len(type_dict[i]) > 1:\n",
    "        a = True\n",
    "if not a:\n",
    "    print('No more ambiguities')"
   ]
  },
  {
   "cell_type": "code",
   "execution_count": 16,
   "metadata": {
    "collapsed": true
   },
   "outputs": [],
   "source": [
    "for i in type_dict:\n",
    "    type_dict[i] = type_dict[i].pop()"
   ]
  },
  {
   "cell_type": "code",
   "execution_count": 17,
   "metadata": {
    "collapsed": true
   },
   "outputs": [],
   "source": [
    "with open('data/spanish_ingredients_type.pickle', 'wb') as f:\n",
    "    pickle.dump(type_dict, f)"
   ]
  },
  {
   "cell_type": "markdown",
   "metadata": {},
   "source": [
    "# Cuisine"
   ]
  },
  {
   "cell_type": "code",
   "execution_count": 8,
   "metadata": {
    "collapsed": false
   },
   "outputs": [],
   "source": [
    "cuisine_dict = defaultdict(set)\n",
    "\n",
    "path = 'data/classifications/cuisine/'\n",
    "for filename in os.listdir(path):\n",
    "    with open(path + filename) as f:\n",
    "        for line in f:\n",
    "            if not line.startswith('#'):\n",
    "                ingredient = line.strip().lower()\n",
    "                cuisine_dict[ingredient].add(filename[2:-4])\n",
    "\n",
    "cuisine_dict = dict(cuisine_dict)"
   ]
  },
  {
   "cell_type": "code",
   "execution_count": 9,
   "metadata": {
    "collapsed": false
   },
   "outputs": [
    {
     "name": "stdout",
     "output_type": "stream",
     "text": [
      "Ambiguity: caballo {'asian', 'western'}\n",
      "Ambiguity: nueces {'asian', 'western'}\n",
      "Ambiguity: espinacas {'asian', 'western'}\n",
      "Ambiguity: cordero {'asian', 'western'}\n",
      "Ambiguity: ajíes {'asian', 'western'}\n",
      "Ambiguity: azúcar {'asian', 'western'}\n",
      "Ambiguity: atún {'asian', 'western'}\n",
      "Ambiguity: huevos {'asian', 'western'}\n",
      "Ambiguity: cebollino {'asian', 'western'}\n",
      "Ambiguity: ajo {'asian', 'western'}\n",
      "Ambiguity: nabos {'asian', 'western'}\n",
      "Ambiguity: té {'asian', 'western'}\n",
      "Ambiguity: pimienta {'asian', 'western'}\n",
      "Ambiguity: cilantro {'asian', 'western'}\n",
      "Ambiguity: encurtidos {'asian', 'western'}\n",
      "Ambiguity: jengibre {'asian', 'western'}\n",
      "Ambiguity: pepino {'asian', 'western'}\n",
      "Ambiguity: batata {'asian', 'western'}\n",
      "Ambiguity: agar-agar {'molecular', 'asian'}\n",
      "Ambiguity: frutos secos {'asian', 'western'}\n",
      "Ambiguity: tofu {'asian', 'western'}\n",
      "Ambiguity: soja {'asian', 'western'}\n",
      "Ambiguity: pollo {'asian', 'western'}\n",
      "Ambiguity: cebolla {'asian', 'western'}\n",
      "Ambiguity: pepinos {'asian', 'western'}\n",
      "Ambiguity: marisco {'asian', 'western'}\n",
      "Ambiguity: arroz {'asian', 'western'}\n",
      "Ambiguity: cerdo {'asian', 'western'}\n",
      "Ambiguity: sake {'asian', 'western'}\n",
      "Ambiguity: hongos {'asian', 'western'}\n",
      "Ambiguity: sal {'molecular', 'asian', 'western'}\n",
      "Ambiguity: lechuga {'asian', 'western'}\n",
      "Ambiguity: caballa {'asian', 'western'}\n",
      "Ambiguity: surimi {'asian', 'western'}\n",
      "Ambiguity: espinaca {'asian', 'western'}\n",
      "Ambiguity: leche de coco {'asian', 'western'}\n",
      "Ambiguity: vaca {'asian', 'western'}\n",
      "Ambiguity: puerro {'asian', 'western'}\n",
      "Ambiguity: bonito {'asian', 'western'}\n",
      "Ambiguity: chalota {'asian', 'western'}\n",
      "Ambiguity: berenjena {'asian', 'western'}\n",
      "Ambiguity: castaña {'asian', 'western'}\n",
      "Ambiguity: legumbres {'asian', 'western'}\n",
      "Ambiguity: mostaza {'asian', 'western'}\n"
     ]
    }
   ],
   "source": [
    "ambiguous = []\n",
    "\n",
    "for i in cuisine_dict:\n",
    "    if len(cuisine_dict[i]) > 1:\n",
    "        ambiguous.append(i)\n",
    "\n",
    "for i in ambiguous:\n",
    "    print('Ambiguity:', i, cuisine_dict[i])"
   ]
  },
  {
   "cell_type": "code",
   "execution_count": 10,
   "metadata": {
    "collapsed": false
   },
   "outputs": [],
   "source": [
    "cuisine_dict['cilantro'].remove('western')\n",
    "cuisine_dict['sake'].remove('western')\n",
    "cuisine_dict['vaca'].remove('asian')\n",
    "cuisine_dict['cebollino'].remove('asian')\n",
    "cuisine_dict['puerro'].remove('asian')\n",
    "cuisine_dict['huevos'].remove('asian')\n",
    "cuisine_dict['cebolla'].remove('asian')\n",
    "cuisine_dict['soja'].remove('western')\n",
    "cuisine_dict['chalota'].remove('western')\n",
    "cuisine_dict['pepinos'].remove('asian')\n",
    "cuisine_dict['sal'].remove('asian')\n",
    "cuisine_dict['sal'].remove('molecular')\n",
    "cuisine_dict['tofu'].remove('western')\n",
    "cuisine_dict['hongos'].remove('asian')\n",
    "cuisine_dict['mostaza'].remove('asian')\n",
    "cuisine_dict['ajíes'].remove('asian')\n",
    "cuisine_dict['espinaca'].remove('asian')\n",
    "cuisine_dict['arroz'].remove('asian')\n",
    "cuisine_dict['batata'].remove('asian')\n",
    "cuisine_dict['cerdo'].remove('asian')\n",
    "cuisine_dict['pimienta'].remove('asian')\n",
    "cuisine_dict['nabos'].remove('asian')\n",
    "cuisine_dict['legumbres'].remove('asian')\n",
    "cuisine_dict['pollo'].remove('asian')\n",
    "cuisine_dict['nueces'].remove('asian')\n",
    "cuisine_dict['surimi'].remove('western')\n",
    "cuisine_dict['caballo'].remove('asian')\n",
    "cuisine_dict['bonito'].remove('asian')\n",
    "cuisine_dict['cordero'].remove('asian')\n",
    "cuisine_dict['atún'].remove('asian')\n",
    "cuisine_dict['encurtidos'].remove('asian')\n",
    "cuisine_dict['ajo'].remove('asian')\n",
    "cuisine_dict['frutos secos'].remove('asian')\n",
    "cuisine_dict['berenjena'].remove('asian')\n",
    "cuisine_dict['azúcar'].remove('asian')\n",
    "cuisine_dict['agar-agar'].remove('asian')\n",
    "cuisine_dict['marisco'].remove('asian')\n",
    "cuisine_dict['espinacas'].remove('asian')\n",
    "cuisine_dict['pepino'].remove('asian')\n",
    "cuisine_dict['leche de coco'].remove('western')\n",
    "cuisine_dict['té'].remove('asian')\n",
    "cuisine_dict['castaña'].remove('asian')\n",
    "cuisine_dict['caballa'].remove('asian')\n",
    "cuisine_dict['lechuga'].remove('asian')\n",
    "cuisine_dict['jengibre'].remove('western')"
   ]
  },
  {
   "cell_type": "code",
   "execution_count": 11,
   "metadata": {
    "collapsed": false
   },
   "outputs": [
    {
     "name": "stdout",
     "output_type": "stream",
     "text": [
      "No more ambiguities\n"
     ]
    }
   ],
   "source": [
    "a = False\n",
    "for i in cuisine_dict:\n",
    "    if len(cuisine_dict[i]) > 1:\n",
    "        a = True\n",
    "        break\n",
    "if not a:\n",
    "    print('No more ambiguities')"
   ]
  },
  {
   "cell_type": "code",
   "execution_count": 12,
   "metadata": {
    "collapsed": true
   },
   "outputs": [],
   "source": [
    "for i in cuisine_dict:\n",
    "    cuisine_dict[i] = cuisine_dict[i].pop()"
   ]
  },
  {
   "cell_type": "code",
   "execution_count": 13,
   "metadata": {
    "collapsed": true
   },
   "outputs": [],
   "source": [
    "with open('data/spanish_ingredients_cuisine.pickle', 'wb') as f:\n",
    "    pickle.dump(cuisine_dict, f)"
   ]
  },
  {
   "cell_type": "code",
   "execution_count": null,
   "metadata": {
    "collapsed": true
   },
   "outputs": [],
   "source": []
  }
 ],
 "metadata": {
  "kernelspec": {
   "display_name": "Python 3",
   "language": "python",
   "name": "python3"
  },
  "language_info": {
   "codemirror_mode": {
    "name": "ipython",
    "version": 3
   },
   "file_extension": ".py",
   "mimetype": "text/x-python",
   "name": "python",
   "nbconvert_exporter": "python",
   "pygments_lexer": "ipython3",
   "version": "3.4.3"
  }
 },
 "nbformat": 4,
 "nbformat_minor": 0
}
