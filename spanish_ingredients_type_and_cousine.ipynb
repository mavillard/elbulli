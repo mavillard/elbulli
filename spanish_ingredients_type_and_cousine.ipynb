{
 "cells": [
  {
   "cell_type": "code",
   "execution_count": 1,
   "metadata": {
    "collapsed": true
   },
   "outputs": [],
   "source": [
    "import os\n",
    "import pickle\n",
    "from collections import Counter\n",
    "from collections import defaultdict\n",
    "\n",
    "import networkx as nx\n",
    "import nltk\n",
    "from pymongo import MongoClient"
   ]
  },
  {
   "cell_type": "markdown",
   "metadata": {},
   "source": [
    "# Type"
   ]
  },
  {
   "cell_type": "markdown",
   "metadata": {},
   "source": [
    "## Lists of ingredients"
   ]
  },
  {
   "cell_type": "code",
   "execution_count": 2,
   "metadata": {
    "collapsed": false
   },
   "outputs": [],
   "source": [
    "type_dict = defaultdict(set)\n",
    "\n",
    "path = 'data/classifications/type/'\n",
    "for filename in os.listdir(path):\n",
    "    with open(path + filename) as f:\n",
    "        for line in f:\n",
    "            if not line.startswith('#'):\n",
    "                ingredient = line.strip().lower()\n",
    "                type_dict[ingredient].add(filename[2:-4])\n",
    "\n",
    "type_dict = dict(type_dict)"
   ]
  },
  {
   "cell_type": "code",
   "execution_count": 3,
   "metadata": {
    "collapsed": false
   },
   "outputs": [
    {
     "name": "stdout",
     "output_type": "stream",
     "text": [
      "Ambiguity: hinojo {'spicies_and_condimients', 'vegetables'}\n",
      "Ambiguity: puerro {'spicies_and_condimients', 'vegetables'}\n",
      "Ambiguity: vainilla {'spicies_and_condimients', 'sweets'}\n",
      "Ambiguity: tofu {'spicies_and_condimients', 'vegetables'}\n",
      "Ambiguity: avellana {'fruits', 'nuts'}\n",
      "Ambiguity: semillas de sésamo {'spicies_and_condimients', 'cereals'}\n",
      "Ambiguity: cacahuete {'spicies_and_condimients', 'nuts'}\n",
      "Ambiguity: konbu {'spicies_and_condimients', 'vegetables'}\n",
      "Ambiguity: cabra {'meats', 'dairy'}\n",
      "Ambiguity: miso {'spicies_and_condimients', 'vegetables'}\n",
      "Ambiguity: nuez {'fruits', 'nuts'}\n",
      "Ambiguity: azúcar {'spicies_and_condimients', 'sweets'}\n",
      "Ambiguity: tomate {'vegetables', 'fruits'}\n",
      "Ambiguity: niboshi {'spicies_and_condimients', 'seafood'}\n",
      "Ambiguity: almendra {'spicies_and_condimients', 'nuts'}\n",
      "Ambiguity: pepinillo {'spicies_and_condimients', 'vegetables'}\n",
      "Ambiguity: helado {'dairy', 'sweets'}\n",
      "Ambiguity: pimiento rojo {'spicies_and_condimients', 'vegetables'}\n",
      "Ambiguity: sake {'spicies_and_condimients', 'drinks'}\n",
      "Ambiguity: cebolla {'spicies_and_condimients', 'vegetables'}\n"
     ]
    }
   ],
   "source": [
    "ambiguous = []\n",
    "\n",
    "for i in type_dict:\n",
    "    if len(type_dict[i]) > 1:\n",
    "        ambiguous.append(i)\n",
    "\n",
    "for i in ambiguous:\n",
    "    print('Ambiguity:', i, type_dict[i])"
   ]
  },
  {
   "cell_type": "code",
   "execution_count": 4,
   "metadata": {
    "collapsed": false
   },
   "outputs": [],
   "source": [
    "type_dict['avellana'].remove('fruits')\n",
    "type_dict['pimiento rojo'].remove('spicies_and_condimients')\n",
    "type_dict['cebolla'].remove('spicies_and_condimients')\n",
    "type_dict['hinojo'].remove('vegetables')\n",
    "type_dict['semillas de sésamo'].remove('cereals')\n",
    "type_dict['niboshi'].remove('spicies_and_condimients')\n",
    "type_dict['tomate'].remove('fruits')\n",
    "type_dict['helado'].remove('sweets')\n",
    "type_dict['cabra'].remove('meats')\n",
    "type_dict['konbu'].remove('spicies_and_condimients')\n",
    "type_dict['tofu'].remove('spicies_and_condimients')\n",
    "type_dict['miso'].remove('spicies_and_condimients')\n",
    "type_dict['sake'].remove('spicies_and_condimients')\n",
    "type_dict['nuez'].remove('fruits')\n",
    "type_dict['pepinillo'].remove('spicies_and_condimients')\n",
    "type_dict['puerro'].remove('spicies_and_condimients')\n",
    "type_dict['vainilla'].remove('spicies_and_condimients')\n",
    "type_dict['azúcar'].remove('spicies_and_condimients')\n",
    "type_dict['cacahuete'].remove('spicies_and_condimients')\n",
    "type_dict['almendra'].remove('spicies_and_condimients')"
   ]
  },
  {
   "cell_type": "code",
   "execution_count": 5,
   "metadata": {
    "collapsed": false
   },
   "outputs": [
    {
     "name": "stdout",
     "output_type": "stream",
     "text": [
      "No more ambiguities\n"
     ]
    }
   ],
   "source": [
    "a = False\n",
    "for i in type_dict:\n",
    "    if len(type_dict[i]) > 1:\n",
    "        a = True\n",
    "if not a:\n",
    "    print('No more ambiguities')"
   ]
  },
  {
   "cell_type": "code",
   "execution_count": 6,
   "metadata": {
    "collapsed": true
   },
   "outputs": [],
   "source": [
    "for i in type_dict:\n",
    "    type_dict[i] = type_dict[i].pop()"
   ]
  },
  {
   "cell_type": "code",
   "execution_count": 7,
   "metadata": {
    "collapsed": true
   },
   "outputs": [],
   "source": [
    "with open('data/spanish_ingredients_type.pickle', 'wb') as f:\n",
    "    pickle.dump(type_dict, f)"
   ]
  },
  {
   "cell_type": "markdown",
   "metadata": {},
   "source": [
    "# Cuisine"
   ]
  },
  {
   "cell_type": "markdown",
   "metadata": {},
   "source": [
    "## Lists of ingredients"
   ]
  },
  {
   "cell_type": "code",
   "execution_count": 8,
   "metadata": {
    "collapsed": false
   },
   "outputs": [],
   "source": [
    "cuisine_dict = defaultdict(set)\n",
    "\n",
    "path = 'data/classifications/cuisine/'\n",
    "for filename in os.listdir(path):\n",
    "    with open(path + filename) as f:\n",
    "        for line in f:\n",
    "            if not line.startswith('#'):\n",
    "                ingredient = line.strip().lower()\n",
    "                cuisine_dict[ingredient].add(filename[2:-4])\n",
    "\n",
    "cuisine_dict = dict(cuisine_dict)"
   ]
  },
  {
   "cell_type": "code",
   "execution_count": 9,
   "metadata": {
    "collapsed": false
   },
   "outputs": [
    {
     "name": "stdout",
     "output_type": "stream",
     "text": [
      "Ambiguity: caballo {'asian', 'western'}\n",
      "Ambiguity: jengibre {'asian', 'western'}\n",
      "Ambiguity: nabos {'asian', 'western'}\n",
      "Ambiguity: tofu {'asian', 'western'}\n",
      "Ambiguity: sal {'asian', 'modernist', 'western'}\n",
      "Ambiguity: marisco {'asian', 'western'}\n",
      "Ambiguity: bonito {'asian', 'western'}\n",
      "Ambiguity: lechuga {'asian', 'western'}\n",
      "Ambiguity: chalota {'asian', 'western'}\n",
      "Ambiguity: pepinos {'asian', 'western'}\n",
      "Ambiguity: cebollino {'asian', 'western'}\n",
      "Ambiguity: cilantro {'asian', 'western'}\n",
      "Ambiguity: frutos secos {'asian', 'western'}\n",
      "Ambiguity: vaca {'asian', 'western'}\n",
      "Ambiguity: ajíes {'asian', 'western'}\n",
      "Ambiguity: agar-agar {'asian', 'modernist'}\n",
      "Ambiguity: té {'asian', 'western'}\n",
      "Ambiguity: espinacas {'asian', 'western'}\n",
      "Ambiguity: atún {'asian', 'western'}\n",
      "Ambiguity: berenjena {'asian', 'western'}\n",
      "Ambiguity: puerro {'asian', 'western'}\n",
      "Ambiguity: cerdo {'asian', 'western'}\n",
      "Ambiguity: espinaca {'asian', 'western'}\n",
      "Ambiguity: huevos {'asian', 'western'}\n",
      "Ambiguity: pepino {'asian', 'western'}\n",
      "Ambiguity: hongos {'asian', 'western'}\n",
      "Ambiguity: castaña {'asian', 'western'}\n",
      "Ambiguity: leche de coco {'asian', 'western'}\n",
      "Ambiguity: ajo {'asian', 'western'}\n",
      "Ambiguity: azúcar {'asian', 'western'}\n",
      "Ambiguity: legumbres {'asian', 'western'}\n",
      "Ambiguity: pollo {'asian', 'western'}\n",
      "Ambiguity: arroz {'asian', 'western'}\n",
      "Ambiguity: soja {'asian', 'western'}\n",
      "Ambiguity: pimienta {'asian', 'western'}\n",
      "Ambiguity: surimi {'asian', 'western'}\n",
      "Ambiguity: cebolla {'asian', 'western'}\n",
      "Ambiguity: cordero {'asian', 'western'}\n",
      "Ambiguity: nueces {'asian', 'western'}\n",
      "Ambiguity: batata {'asian', 'western'}\n",
      "Ambiguity: encurtidos {'asian', 'western'}\n",
      "Ambiguity: caballa {'asian', 'western'}\n",
      "Ambiguity: sake {'asian', 'western'}\n",
      "Ambiguity: mostaza {'asian', 'western'}\n"
     ]
    }
   ],
   "source": [
    "ambiguous = []\n",
    "\n",
    "for i in cuisine_dict:\n",
    "    if len(cuisine_dict[i]) > 1:\n",
    "        ambiguous.append(i)\n",
    "\n",
    "for i in ambiguous:\n",
    "    print('Ambiguity:', i, cuisine_dict[i])"
   ]
  },
  {
   "cell_type": "code",
   "execution_count": 10,
   "metadata": {
    "collapsed": false
   },
   "outputs": [],
   "source": [
    "cuisine_dict['cilantro'].remove('western')\n",
    "cuisine_dict['sake'].remove('western')\n",
    "cuisine_dict['vaca'].remove('asian')\n",
    "cuisine_dict['cebollino'].remove('asian')\n",
    "cuisine_dict['puerro'].remove('asian')\n",
    "cuisine_dict['huevos'].remove('asian')\n",
    "cuisine_dict['cebolla'].remove('asian')\n",
    "cuisine_dict['soja'].remove('western')\n",
    "cuisine_dict['chalota'].remove('western')\n",
    "cuisine_dict['pepinos'].remove('asian')\n",
    "cuisine_dict['sal'].remove('asian')\n",
    "cuisine_dict['sal'].remove('modernist')\n",
    "cuisine_dict['tofu'].remove('western')\n",
    "cuisine_dict['hongos'].remove('asian')\n",
    "cuisine_dict['mostaza'].remove('asian')\n",
    "cuisine_dict['ajíes'].remove('asian')\n",
    "cuisine_dict['espinaca'].remove('asian')\n",
    "cuisine_dict['arroz'].remove('asian')\n",
    "cuisine_dict['batata'].remove('asian')\n",
    "cuisine_dict['cerdo'].remove('asian')\n",
    "cuisine_dict['pimienta'].remove('asian')\n",
    "cuisine_dict['nabos'].remove('asian')\n",
    "cuisine_dict['legumbres'].remove('asian')\n",
    "cuisine_dict['pollo'].remove('asian')\n",
    "cuisine_dict['nueces'].remove('asian')\n",
    "cuisine_dict['surimi'].remove('western')\n",
    "cuisine_dict['caballo'].remove('asian')\n",
    "cuisine_dict['bonito'].remove('asian')\n",
    "cuisine_dict['cordero'].remove('asian')\n",
    "cuisine_dict['atún'].remove('asian')\n",
    "cuisine_dict['encurtidos'].remove('asian')\n",
    "cuisine_dict['ajo'].remove('asian')\n",
    "cuisine_dict['frutos secos'].remove('asian')\n",
    "cuisine_dict['berenjena'].remove('asian')\n",
    "cuisine_dict['azúcar'].remove('asian')\n",
    "cuisine_dict['agar-agar'].remove('asian')\n",
    "cuisine_dict['marisco'].remove('asian')\n",
    "cuisine_dict['espinacas'].remove('asian')\n",
    "cuisine_dict['pepino'].remove('asian')\n",
    "cuisine_dict['leche de coco'].remove('western')\n",
    "cuisine_dict['té'].remove('asian')\n",
    "cuisine_dict['castaña'].remove('asian')\n",
    "cuisine_dict['caballa'].remove('asian')\n",
    "cuisine_dict['lechuga'].remove('asian')\n",
    "cuisine_dict['jengibre'].remove('western')"
   ]
  },
  {
   "cell_type": "code",
   "execution_count": 11,
   "metadata": {
    "collapsed": false
   },
   "outputs": [
    {
     "name": "stdout",
     "output_type": "stream",
     "text": [
      "No more ambiguities\n"
     ]
    }
   ],
   "source": [
    "a = False\n",
    "for i in cuisine_dict:\n",
    "    if len(cuisine_dict[i]) > 1:\n",
    "        a = True\n",
    "        break\n",
    "if not a:\n",
    "    print('No more ambiguities')"
   ]
  },
  {
   "cell_type": "code",
   "execution_count": 12,
   "metadata": {
    "collapsed": true
   },
   "outputs": [],
   "source": [
    "for i in cuisine_dict:\n",
    "    cuisine_dict[i] = cuisine_dict[i].pop()"
   ]
  },
  {
   "cell_type": "markdown",
   "metadata": {},
   "source": [
    "## Cookpad ingredients"
   ]
  },
  {
   "cell_type": "code",
   "execution_count": 13,
   "metadata": {
    "collapsed": false
   },
   "outputs": [],
   "source": [
    "client = MongoClient()\n",
    "db = client.recipes"
   ]
  },
  {
   "cell_type": "code",
   "execution_count": 14,
   "metadata": {
    "collapsed": false
   },
   "outputs": [
    {
     "data": {
      "text/plain": [
       "[('España', 8242),\n",
       " ('Argentina', 2458),\n",
       " ('', 1704),\n",
       " ('México', 1233),\n",
       " ('Italia', 660),\n",
       " ('Colombia', 377),\n",
       " ('Ecuador', 315),\n",
       " ('Francia', 302),\n",
       " ('EE.UU.', 300),\n",
       " ('Venezuela', 191),\n",
       " ('Chile', 159),\n",
       " ('Inglaterra', 151),\n",
       " ('China', 141),\n",
       " ('Perú', 122),\n",
       " ('Japón', 117),\n",
       " ('Uruguay', 109),\n",
       " ('Marruecos', 103),\n",
       " ('Puerto Rico', 88),\n",
       " ('Alemania', 87),\n",
       " ('Cuba', 73),\n",
       " ('Costa Rica', 69),\n",
       " ('India', 65),\n",
       " ('Grecia', 64),\n",
       " ('Brasil', 59),\n",
       " ('Rep. Dominicana', 56),\n",
       " ('Portugal', 53),\n",
       " ('Rumania', 53),\n",
       " ('Bolivia', 50),\n",
       " ('Castilla y León (ESPAÑA)', 38),\n",
       " ('Suecia', 37)]"
      ]
     },
     "execution_count": 14,
     "metadata": {},
     "output_type": "execute_result"
    }
   ],
   "source": [
    "# Number of recipes pero cuisine\n",
    "all_cuisines = []\n",
    "for r in db.cookpad_raw.find():\n",
    "    all_cuisines.append(r['cuisine'])\n",
    "c = Counter(all_cuisines)\n",
    "most_common_cuisines = c.most_common()\n",
    "most_common_cuisines[:30]"
   ]
  },
  {
   "cell_type": "code",
   "execution_count": 15,
   "metadata": {
    "collapsed": false
   },
   "outputs": [
    {
     "data": {
      "text/plain": [
       "18378"
      ]
     },
     "execution_count": 15,
     "metadata": {},
     "output_type": "execute_result"
    }
   ],
   "source": [
    "db.cookpad_raw.count()"
   ]
  },
  {
   "cell_type": "code",
   "execution_count": 16,
   "metadata": {
    "collapsed": false
   },
   "outputs": [],
   "source": [
    "southwestern_cuisines = ['España', 'Italia', 'Grecia', 'Portugal']\n",
    "local_ingredients = set()\n",
    "for r in db.cookpad_raw.find():\n",
    "    if any(c.lower() in r['cuisine'].lower() for c in southwestern_cuisines):\n",
    "        local_ingredients = local_ingredients.union(r['ingredients'])"
   ]
  },
  {
   "cell_type": "code",
   "execution_count": 17,
   "metadata": {
    "collapsed": false
   },
   "outputs": [
    {
     "data": {
      "text/plain": [
       "1692"
      ]
     },
     "execution_count": 17,
     "metadata": {},
     "output_type": "execute_result"
    }
   ],
   "source": [
    "len(local_ingredients)"
   ]
  },
  {
   "cell_type": "code",
   "execution_count": 18,
   "metadata": {
    "collapsed": false
   },
   "outputs": [
    {
     "name": "stdout",
     "output_type": "stream",
     "text": [
      "harina de trigo - asian\n",
      "brotes de soja - asian\n",
      "wasabi - asian\n",
      "cacahuetes - asian\n",
      "lecitina de soja - modernist\n",
      "fruta - asian\n",
      "fideos de arroz - asian\n",
      "agar agar - modernist\n",
      "pectina - modernist\n",
      "semillas de sésamo - asian\n",
      "chalota - asian\n",
      "tallarines - asian\n",
      "algas - asian\n",
      "chancho - asian\n",
      "té verde - asian\n",
      "fideos chinos - asian\n",
      "lima - asian\n",
      "nata montada - modernist\n",
      "salsa soja - asian\n",
      "ajonjolí - asian\n",
      "setas chinas - asian\n",
      "almidón de maíz - modernist\n",
      "shiitake - asian\n",
      "leche de coco - asian\n",
      "goma - asian\n",
      "chiles - asian\n",
      "soja - asian\n",
      "pimiento rojo - asian\n",
      "tinta de calamar - modernist\n",
      "gelatina en polvo - modernist\n",
      "teriyaki - asian\n",
      "vinagre de arroz - asian\n",
      "nata cocina - modernist\n",
      "crémor tártaro - modernist\n",
      "fécula de tapioca - modernist\n",
      "lactosa - modernist\n",
      "bicarbonato de sodio - modernist\n",
      "guindillas - asian\n",
      "salsa worcestershire - asian\n",
      "pimentón dulce de la vera - modernist\n",
      "agar - modernist\n",
      "glicerina - modernist\n",
      "guindilla en polvo - asian\n",
      "vinagre balsámico de modena - modernist\n",
      "tofu - asian\n",
      "huevos de codorniz - asian\n",
      "perca - asian\n",
      "albaricoques - asian\n",
      "jengibre - asian\n",
      "cebolla tierna - asian\n",
      "batatas - asian\n",
      "carne - asian\n",
      "surimi - asian\n",
      "su - asian\n",
      "caqui - asian\n",
      "cítricos - asian\n",
      "fideos - asian\n",
      "chalote - asian\n",
      "vino de arroz - asian\n",
      "salsa de soja - asian\n",
      "wakame - asian\n",
      "alga wakame - asian\n",
      "anís estrellado - asian\n",
      "fécula de patata - modernist\n",
      "cilantro - asian\n",
      "cebolla frita - asian\n",
      "boniatos - asian\n",
      "porotos - asian\n",
      "xantana - modernist\n",
      "soya - asian\n"
     ]
    }
   ],
   "source": [
    "for i in local_ingredients:\n",
    "    if i in cuisine_dict:\n",
    "        if cuisine_dict[i] != 'western':\n",
    "            print(i, '-', cuisine_dict[i])"
   ]
  },
  {
   "cell_type": "code",
   "execution_count": 19,
   "metadata": {
    "collapsed": true
   },
   "outputs": [],
   "source": [
    "fix = ['fruta', 'cacahuetes', 'boniatos', 'harina de trigo', 'cítricos', 'fideos', 'semillas de sésamo',\n",
    "       'lima', 'carne', 'albaricoques', 'chancho', 'batatas', 'nata montada', 'pimiento rojo',\n",
    "       'tinta de calamar', 'nata cocina', 'pimentón dulce de la vera', 'huevos de codorniz', 'cebollita frita']\n",
    "for i in fix:\n",
    "    cuisine_dict[i] = 'western'"
   ]
  },
  {
   "cell_type": "code",
   "execution_count": 20,
   "metadata": {
    "collapsed": false
   },
   "outputs": [],
   "source": [
    "for i in local_ingredients:\n",
    "    if i not in cuisine_dict:\n",
    "        cuisine_dict[i] = 'western'"
   ]
  },
  {
   "cell_type": "markdown",
   "metadata": {},
   "source": [
    "## elBulli ingredients"
   ]
  },
  {
   "cell_type": "code",
   "execution_count": 21,
   "metadata": {
    "collapsed": false
   },
   "outputs": [
    {
     "data": {
      "text/plain": [
       "1214"
      ]
     },
     "execution_count": 21,
     "metadata": {},
     "output_type": "execute_result"
    }
   ],
   "source": [
    "db.elbulli_raw.count()"
   ]
  },
  {
   "cell_type": "code",
   "execution_count": 22,
   "metadata": {
    "collapsed": false
   },
   "outputs": [],
   "source": [
    "elbulli_ingredients = set()\n",
    "for r in db.elbulli_raw.find():\n",
    "    elbulli_ingredients = elbulli_ingredients.union(r['ingredients'])"
   ]
  },
  {
   "cell_type": "code",
   "execution_count": 23,
   "metadata": {
    "collapsed": false
   },
   "outputs": [
    {
     "data": {
      "text/plain": [
       "1675"
      ]
     },
     "execution_count": 23,
     "metadata": {},
     "output_type": "execute_result"
    }
   ],
   "source": [
    "len(elbulli_ingredients)"
   ]
  },
  {
   "cell_type": "code",
   "execution_count": 24,
   "metadata": {
    "collapsed": false
   },
   "outputs": [],
   "source": [
    "for i in elbulli_ingredients:\n",
    "    if i not in cuisine_dict:\n",
    "        cuisine_dict[i] = 'modernist'"
   ]
  },
  {
   "cell_type": "code",
   "execution_count": 25,
   "metadata": {
    "collapsed": true
   },
   "outputs": [],
   "source": [
    "with open('data/spanish_ingredients_cuisine.pickle', 'wb') as f:\n",
    "    pickle.dump(cuisine_dict, f)"
   ]
  },
  {
   "cell_type": "code",
   "execution_count": null,
   "metadata": {
    "collapsed": true
   },
   "outputs": [],
   "source": []
  }
 ],
 "metadata": {
  "kernelspec": {
   "display_name": "Python 3",
   "language": "python",
   "name": "python3"
  },
  "language_info": {
   "codemirror_mode": {
    "name": "ipython",
    "version": 3
   },
   "file_extension": ".py",
   "mimetype": "text/x-python",
   "name": "python",
   "nbconvert_exporter": "python",
   "pygments_lexer": "ipython3",
   "version": "3.4.3"
  }
 },
 "nbformat": 4,
 "nbformat_minor": 0
}
