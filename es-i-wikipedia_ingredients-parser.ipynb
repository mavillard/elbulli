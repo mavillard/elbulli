{
 "cells": [
  {
   "cell_type": "code",
   "execution_count": 1,
   "metadata": {
    "collapsed": false
   },
   "outputs": [],
   "source": [
    "from bs4 import BeautifulSoup"
   ]
  },
  {
   "cell_type": "code",
   "execution_count": 2,
   "metadata": {
    "collapsed": false
   },
   "outputs": [],
   "source": [
    "def trim(s):\n",
    "    return ' '.join(s.split())"
   ]
  },
  {
   "cell_type": "code",
   "execution_count": 3,
   "metadata": {
    "collapsed": true
   },
   "outputs": [],
   "source": [
    "def clean(l):\n",
    "    r = []\n",
    "    for e in l:\n",
    "        x = e.strip().lower()\n",
    "        if x == 'actinidia deliciosa':\n",
    "            x = ['actinidia deliciosa o kiwi']\n",
    "        elif x == 'anser anser':\n",
    "            x = ['anser anser o oca']\n",
    "        elif x == 'faisan':\n",
    "            x = ['faisán']\n",
    "        elif x == 'huevo':\n",
    "            x = ['huevo', 'clara o clara de huevo', 'yema o yema de huevo']\n",
    "        elif x == 'mangifera indica':\n",
    "            x = ['mangifera indica o mango']\n",
    "        elif x == 'prunus armeniaca':\n",
    "            x = ['prunus armeniaca o albaricoque']\n",
    "        elif x == 'raíz (botánica)':\n",
    "            x = ['raíz', 'tubérculo']\n",
    "        elif x == 'recetas de cocina':\n",
    "            x = []\n",
    "        elif x == 'trachurus trachurus':\n",
    "            x = ['trachurus trachurus o chicharro o jurel o escribano']\n",
    "        elif x == 'ursidae':\n",
    "            x = ['ursidae o oso']\n",
    "        elif x == 'wikcionario':\n",
    "            x = []\n",
    "        elif x == 'wikimedia commons':\n",
    "            x = []\n",
    "        elif ' (' in x:\n",
    "            x = [x.split(' (')[0]]\n",
    "        else:\n",
    "            x = [x]\n",
    "        r.extend(x)\n",
    "    return set(r)"
   ]
  },
  {
   "cell_type": "code",
   "execution_count": 4,
   "metadata": {
    "collapsed": false
   },
   "outputs": [],
   "source": [
    "ingredients = set()\n",
    "\n",
    "with open('data/ingredients/es/wikipedia/wikipedia_spanish_ingredients.html') as f:\n",
    "    soup = BeautifulSoup(f.read(), 'html.parser')\n",
    "    elems = soup.select('div#bodyContent h2 ~ ul li > a:nth-of-type(1), \\\n",
    "                         div#bodyContent h3 ~ ul li > a:nth-of-type(1), \\\n",
    "                         div#bodyContent h4 ~ ul li > a:nth-of-type(1)')\n",
    "    ingrs = clean(map(lambda x: trim(x['title']), elems))\n",
    "    ingredients = ingredients.union(ingrs)\n",
    "\n",
    "ingredients = sorted(ingredients)"
   ]
  },
  {
   "cell_type": "code",
   "execution_count": 5,
   "metadata": {
    "collapsed": false
   },
   "outputs": [
    {
     "data": {
      "text/plain": [
       "159"
      ]
     },
     "execution_count": 5,
     "metadata": {},
     "output_type": "execute_result"
    }
   ],
   "source": [
    "len(ingredients)"
   ]
  },
  {
   "cell_type": "code",
   "execution_count": 6,
   "metadata": {
    "collapsed": false
   },
   "outputs": [
    {
     "data": {
      "text/plain": [
       "['aceite de maíz',\n",
       " 'aceite de oliva',\n",
       " 'aceite de soja',\n",
       " 'acelga',\n",
       " 'actinidia deliciosa o kiwi',\n",
       " 'agua',\n",
       " 'agua carbonatada',\n",
       " 'agua mineral',\n",
       " 'aguacate',\n",
       " 'alcachofa',\n",
       " 'almeja',\n",
       " 'alubia',\n",
       " 'ancas de rana',\n",
       " 'anchoa',\n",
       " 'anser anser o oca',\n",
       " 'arroz',\n",
       " 'atún',\n",
       " 'avestruz',\n",
       " 'bacalao',\n",
       " 'batata',\n",
       " 'berenjena',\n",
       " 'berro',\n",
       " 'bison',\n",
       " 'bonito',\n",
       " 'boquerón',\n",
       " 'brecol',\n",
       " 'brócoli',\n",
       " 'buey',\n",
       " 'caballa',\n",
       " 'caballo',\n",
       " 'cabra',\n",
       " 'café',\n",
       " 'calabacín',\n",
       " 'calabaza',\n",
       " 'calamar',\n",
       " 'camarón',\n",
       " 'capón',\n",
       " 'caracol',\n",
       " 'cardo',\n",
       " 'cebolla',\n",
       " 'cebolleta',\n",
       " 'cerdo',\n",
       " 'cereal',\n",
       " 'cereza',\n",
       " 'cerveza',\n",
       " 'cerveza sin alcohol',\n",
       " 'ciervo',\n",
       " 'cigala',\n",
       " 'ciruela',\n",
       " 'col',\n",
       " 'cola',\n",
       " 'coles de bruselas',\n",
       " 'coliflor',\n",
       " 'conejo',\n",
       " 'cordero',\n",
       " 'corvina',\n",
       " 'crema de leche',\n",
       " 'dorada',\n",
       " 'endivia',\n",
       " 'escarola',\n",
       " 'espinaca',\n",
       " 'espárrago',\n",
       " 'faisán',\n",
       " 'frambuesa',\n",
       " 'fresa',\n",
       " 'fruta del bosque',\n",
       " 'fruta seca',\n",
       " 'frutos secos',\n",
       " 'gallina',\n",
       " 'gamba',\n",
       " 'garbanzo',\n",
       " 'granada',\n",
       " 'guisante',\n",
       " 'habas',\n",
       " 'harina',\n",
       " 'helado',\n",
       " 'higo',\n",
       " 'hinojo',\n",
       " 'hongo',\n",
       " 'horchata',\n",
       " 'huevo',\n",
       " 'jabalí',\n",
       " 'judías',\n",
       " 'langostino',\n",
       " 'leche',\n",
       " 'lechuga',\n",
       " 'legumbres',\n",
       " 'lenguado',\n",
       " 'lenteja',\n",
       " 'licor',\n",
       " 'liebre',\n",
       " 'limón',\n",
       " 'lubina',\n",
       " 'mandarina',\n",
       " 'mangifera indica o mango',\n",
       " 'manzana',\n",
       " 'maíz',\n",
       " 'mejillón',\n",
       " 'melocoton',\n",
       " 'melón',\n",
       " 'membrillo',\n",
       " 'merluza',\n",
       " 'mero',\n",
       " 'naranja',\n",
       " 'nectarina',\n",
       " 'ostra',\n",
       " 'oveja',\n",
       " 'palmito',\n",
       " 'paloma',\n",
       " 'palometa',\n",
       " 'pan',\n",
       " 'pasta',\n",
       " 'patata',\n",
       " 'pato',\n",
       " 'pavo',\n",
       " 'pejerrey',\n",
       " 'pepino',\n",
       " 'pera',\n",
       " 'percebe',\n",
       " 'perdiz',\n",
       " 'pimienta',\n",
       " 'pimiento',\n",
       " 'piña',\n",
       " 'plátano',\n",
       " 'pollo',\n",
       " 'pomelo',\n",
       " 'prunus armeniaca o albaricoque',\n",
       " 'puerro',\n",
       " 'pulpo',\n",
       " 'queso',\n",
       " 'rape',\n",
       " 'raíz',\n",
       " 'remolacha',\n",
       " 'rodaballo',\n",
       " 'salmón',\n",
       " 'sandía',\n",
       " 'sardina',\n",
       " 'sepia',\n",
       " 'seta',\n",
       " 'sidra',\n",
       " 'soja',\n",
       " 'ternera',\n",
       " 'tomate',\n",
       " 'trachurus trachurus o chicharro o jurel o escribano',\n",
       " 'trucha',\n",
       " 'tubérculo',\n",
       " 'té',\n",
       " 'ursidae o oso',\n",
       " 'uva',\n",
       " 'vaca',\n",
       " 'vieira',\n",
       " 'vino blanco',\n",
       " 'vino caliente',\n",
       " 'vino rosado',\n",
       " 'vino tinto',\n",
       " 'whisky',\n",
       " 'yogur',\n",
       " 'zanahoria',\n",
       " 'zumo']"
      ]
     },
     "execution_count": 6,
     "metadata": {},
     "output_type": "execute_result"
    }
   ],
   "source": [
    "ingredients"
   ]
  },
  {
   "cell_type": "code",
   "execution_count": 7,
   "metadata": {
    "collapsed": true
   },
   "outputs": [],
   "source": [
    "with open('data/ingredients/es_wikipedia_ingredients.txt', 'w') as f:\n",
    "    f.write('\\n'.join(ingredients))"
   ]
  },
  {
   "cell_type": "code",
   "execution_count": null,
   "metadata": {
    "collapsed": true
   },
   "outputs": [],
   "source": []
  }
 ],
 "metadata": {
  "kernelspec": {
   "display_name": "Python 3",
   "language": "python",
   "name": "python3"
  },
  "language_info": {
   "codemirror_mode": {
    "name": "ipython",
    "version": 3
   },
   "file_extension": ".py",
   "mimetype": "text/x-python",
   "name": "python",
   "nbconvert_exporter": "python",
   "pygments_lexer": "ipython3",
   "version": "3.4.3"
  }
 },
 "nbformat": 4,
 "nbformat_minor": 0
}
