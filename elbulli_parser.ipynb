{
 "cells": [
  {
   "cell_type": "code",
   "execution_count": 1,
   "metadata": {
    "collapsed": true
   },
   "outputs": [],
   "source": [
    "import os\n",
    "\n",
    "import networkx as nx\n",
    "import nltk\n",
    "from pymongo import MongoClient"
   ]
  },
  {
   "cell_type": "code",
   "execution_count": 2,
   "metadata": {
    "collapsed": true
   },
   "outputs": [],
   "source": [
    "client = MongoClient()\n",
    "# client.drop_database('recipes')\n",
    "db = client.recipes"
   ]
  },
  {
   "cell_type": "code",
   "execution_count": 3,
   "metadata": {
    "collapsed": true
   },
   "outputs": [],
   "source": [
    "ingredients_graph = nx.read_gexf('data/spanish_ingredients_lexicon_4.gexf')"
   ]
  },
  {
   "cell_type": "code",
   "execution_count": 4,
   "metadata": {
    "collapsed": true
   },
   "outputs": [],
   "source": [
    "ingredients = ingredients_graph.nodes()\n",
    "ingredients.sort(key=lambda x: len(x.split()), reverse=True)\n",
    "ingredients = [i for i in ingredients if len(i) > 2]"
   ]
  },
  {
   "cell_type": "code",
   "execution_count": 5,
   "metadata": {
    "collapsed": false
   },
   "outputs": [
    {
     "data": {
      "text/plain": [
       "['nube de metil de pure de fruta de la pasion',\n",
       " 'espuma fria de whisky sour de fruta de la pasion',\n",
       " 'nube de metil de puré de fruta de la pasión',\n",
       " 'espuma fría de whisky sour de fruta de la pasión',\n",
       " 'agua de la coccion de los pies de cordero',\n",
       " 'gelatina caliente de caldo de panceta iberica entreverada ahumada',\n",
       " 'agua de la coccion de los pies de cerdo',\n",
       " 'salsa de jugo de pollo al aceite de ajo',\n",
       " 'agua de la cocción de los pies de cordero',\n",
       " 'aceite de atún en conserva de aceite de oliva']"
      ]
     },
     "execution_count": 5,
     "metadata": {},
     "output_type": "execute_result"
    }
   ],
   "source": [
    "ingredients[:10]"
   ]
  },
  {
   "cell_type": "code",
   "execution_count": 6,
   "metadata": {
    "collapsed": false
   },
   "outputs": [
    {
     "data": {
      "text/plain": [
       "['azahar',\n",
       " 'leche',\n",
       " 'arandanos',\n",
       " 'azafrán',\n",
       " 'shirataki',\n",
       " 'chicharron',\n",
       " 'grosella',\n",
       " 'senderuela',\n",
       " 'agedoufu',\n",
       " 'shiritaki']"
      ]
     },
     "execution_count": 6,
     "metadata": {},
     "output_type": "execute_result"
    }
   ],
   "source": [
    "ingredients[-10:]"
   ]
  },
  {
   "cell_type": "code",
   "execution_count": 7,
   "metadata": {
    "collapsed": true
   },
   "outputs": [],
   "source": [
    "techniques_graph = nx.read_gexf('data/spanish_techniques_lexicon_4.gexf')"
   ]
  },
  {
   "cell_type": "code",
   "execution_count": 8,
   "metadata": {
    "collapsed": true
   },
   "outputs": [],
   "source": [
    "techniques = techniques_graph.nodes()\n",
    "techniques.sort(key=lambda x: len(x.split()), reverse=True)\n",
    "techniques = [i for i in techniques if len(i) > 2]"
   ]
  },
  {
   "cell_type": "code",
   "execution_count": 9,
   "metadata": {
    "collapsed": false
   },
   "outputs": [
    {
     "data": {
      "text/plain": [
       "['cocción a cocinado a baja temperatura',\n",
       " 'coccion a cocinado a baja temperatura',\n",
       " 'cocina de retención del calor',\n",
       " 'productos horneados a la parrilla',\n",
       " 'cocción a a baja temperatura',\n",
       " 'hielo y sal para enfriar',\n",
       " 'cocción cocinado a baja temperatura',\n",
       " 'cocción a cocinado baja temperatura',\n",
       " 'productos horneados a la plancha',\n",
       " 'productos horneados a a parrilla']"
      ]
     },
     "execution_count": 9,
     "metadata": {},
     "output_type": "execute_result"
    }
   ],
   "source": [
    "techniques[:10]"
   ]
  },
  {
   "cell_type": "code",
   "execution_count": 10,
   "metadata": {
    "collapsed": false
   },
   "outputs": [
    {
     "data": {
      "text/plain": [
       "['paisana',\n",
       " 'rehogar',\n",
       " 'filtracion',\n",
       " 'esferificación',\n",
       " 'tataki',\n",
       " 'yogashi',\n",
       " 'sfericación',\n",
       " 'estofado',\n",
       " 'confitar',\n",
       " 'blanquear']"
      ]
     },
     "execution_count": 10,
     "metadata": {},
     "output_type": "execute_result"
    }
   ],
   "source": [
    "techniques[-10:]"
   ]
  },
  {
   "cell_type": "code",
   "execution_count": 11,
   "metadata": {
    "collapsed": false
   },
   "outputs": [
    {
     "name": "stdout",
     "output_type": "stream",
     "text": [
      "100 rows inserted\n",
      "200 rows inserted\n",
      "300 rows inserted\n",
      "400 rows inserted\n",
      "500 rows inserted\n",
      "600 rows inserted\n",
      "700 rows inserted\n",
      "800 rows inserted\n",
      "900 rows inserted\n",
      "1000 rows inserted\n",
      "1100 rows inserted\n",
      "1200 rows inserted\n",
      "1214 rows inserted\n",
      "CPU times: user 1h 40min 45s, sys: 864 ms, total: 1h 40min 45s\n",
      "Wall time: 1h 40min 42s\n"
     ]
    }
   ],
   "source": [
    "# %%time\n",
    "\n",
    "# count = 0\n",
    "# rows = []\n",
    "\n",
    "# path = 'data/recipes/elbulli/'\n",
    "# for folder in os.listdir(path):\n",
    "#     for filename in os.listdir(path + folder):\n",
    "#         with open(path + folder + '/' + filename) as f:\n",
    "#             row = {\n",
    "#                 '_id': '',\n",
    "#                 'title': '',\n",
    "#                 'year': 0,\n",
    "#                 'ingredients': set(),\n",
    "#                 'techniques': set(),\n",
    "#             }\n",
    "#             ingredients_string = ''\n",
    "#             elaboration_string = ''\n",
    "#             for line in f:\n",
    "#                 line = line.strip()\n",
    "#                 if line.startswith('num'):\n",
    "#                     row['_id'] = line.split('=')[1]\n",
    "#                 elif line.startswith('&titol='):\n",
    "#                     row['title'] = line.split('=')[1]\n",
    "#                 elif line.startswith('&any'):\n",
    "#                     row['year'] = int(line.split('=')[1])\n",
    "#                 elif line.startswith('&ingredientselaboracio'):\n",
    "#                     ingredients_string += line.lower() + ' - '\n",
    "#                 elif line.startswith('&descripcioelaboracio') or line.startswith('&acabatipresentacio'):\n",
    "#                     elaboration_string += line.lower() + ' - '\n",
    "#             i_tokens = nltk.word_tokenize(ingredients_string)\n",
    "#             e_tokens = nltk.word_tokenize(elaboration_string)\n",
    "#             for ingr in ingredients:\n",
    "#                 ingr_tokens = nltk.word_tokenize(ingr)\n",
    "#                 if len(ingr_tokens) == 1:\n",
    "#                     if ingr in i_tokens and all(map(lambda x: ingr not in nltk.word_tokenize(x), row['ingredients'])):\n",
    "#                         row['ingredients'].add(ingr)\n",
    "#                 else:\n",
    "#                     if ingr in ingredients_string and all(map(lambda x: ingr not in x, row['ingredients'])):\n",
    "#                         row['ingredients'].add(ingr)\n",
    "#             for tech in techniques:\n",
    "#                 tech_tokens = nltk.word_tokenize(tech)\n",
    "#                 if len(tech_tokens) == 1:\n",
    "#                     if tech in e_tokens and all(map(lambda x: tech not in nltk.word_tokenize(x), row['techniques'])):\n",
    "#                         row['techniques'].add(tech)\n",
    "#                 else:\n",
    "#                     if tech in elaboration_string and all(map(lambda x: tech not in x, row['techniques'])):\n",
    "#                         row['techniques'].add(tech)\n",
    "#             row['ingredients'] = list(row['ingredients'])\n",
    "#             row['techniques'] = list(row['techniques'])\n",
    "#             rows.append(row)\n",
    "\n",
    "#             for i in row['ingredients']:\n",
    "#                 if i in ingredients_graph:\n",
    "#                     ingredients_graph.node[i]['count'] += 1\n",
    "#             for t in row['techniques']:\n",
    "#                 if t in techniques_graph:\n",
    "#                     techniques_graph.node[t]['count'] += 1\n",
    "            \n",
    "#             count += 1\n",
    "#             if count % 100 == 0:\n",
    "#                 db.elbulli.insert_many(rows)\n",
    "#                 rows = []\n",
    "#                 print(count, 'rows inserted')\n",
    "# db.elbulli.insert_many(rows)\n",
    "# rows = []\n",
    "# print(count, 'rows inserted')\n",
    "\n",
    "print('100 rows inserted')\n",
    "print('200 rows inserted')\n",
    "print('300 rows inserted')\n",
    "print('400 rows inserted')\n",
    "print('500 rows inserted')\n",
    "print('600 rows inserted')\n",
    "print('700 rows inserted')\n",
    "print('800 rows inserted')\n",
    "print('900 rows inserted')\n",
    "print('1000 rows inserted')\n",
    "print('1100 rows inserted')\n",
    "print('1200 rows inserted')\n",
    "print('1214 rows inserted')\n",
    "print('CPU times: user 1h 40min 45s, sys: 864 ms, total: 1h 40min 45s')\n",
    "print('Wall time: 1h 40min 42s')"
   ]
  },
  {
   "cell_type": "code",
   "execution_count": null,
   "metadata": {
    "collapsed": true
   },
   "outputs": [],
   "source": [
    "# nx.write_gexf(ingredients_graph, 'data/spanish_ingredients_lexicon_5.gexf')"
   ]
  },
  {
   "cell_type": "code",
   "execution_count": null,
   "metadata": {
    "collapsed": true
   },
   "outputs": [],
   "source": [
    "# nx.write_gexf(techniques_graph, 'data/spanish_techniques_lexicon_5.gexf')"
   ]
  },
  {
   "cell_type": "code",
   "execution_count": null,
   "metadata": {
    "collapsed": true
   },
   "outputs": [],
   "source": []
  }
 ],
 "metadata": {
  "kernelspec": {
   "display_name": "Python 3",
   "language": "python",
   "name": "python3"
  },
  "language_info": {
   "codemirror_mode": {
    "name": "ipython",
    "version": 3
   },
   "file_extension": ".py",
   "mimetype": "text/x-python",
   "name": "python",
   "nbconvert_exporter": "python",
   "pygments_lexer": "ipython3",
   "version": "3.4.3"
  }
 },
 "nbformat": 4,
 "nbformat_minor": 0
}
