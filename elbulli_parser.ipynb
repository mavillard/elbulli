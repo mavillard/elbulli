{
 "cells": [
  {
   "cell_type": "code",
   "execution_count": 1,
   "metadata": {
    "collapsed": true
   },
   "outputs": [],
   "source": [
    "import os\n",
    "from collections import Counter\n",
    "\n",
    "import networkx as nx\n",
    "import nltk\n",
    "from pymongo import MongoClient"
   ]
  },
  {
   "cell_type": "code",
   "execution_count": 2,
   "metadata": {
    "collapsed": false
   },
   "outputs": [],
   "source": [
    "client = MongoClient()\n",
    "# client.drop_database('recipes')\n",
    "db = client.recipes"
   ]
  },
  {
   "cell_type": "markdown",
   "metadata": {},
   "source": [
    "# Parser"
   ]
  },
  {
   "cell_type": "code",
   "execution_count": 3,
   "metadata": {
    "collapsed": true
   },
   "outputs": [],
   "source": [
    "spanish_stopwords = set()\n",
    "with open('data/spanish_stopwords.txt') as f:\n",
    "    for line in f:\n",
    "        word = line.strip()\n",
    "        spanish_stopwords.add(word)"
   ]
  },
  {
   "cell_type": "code",
   "execution_count": 4,
   "metadata": {
    "collapsed": true
   },
   "outputs": [],
   "source": [
    "# def sublist(a, b):\n",
    "#     res = False\n",
    "#     for i in range(len(b)-len(a)+1):\n",
    "#         if b[i:i+len(a)] == a:\n",
    "#             res = True\n",
    "#             break\n",
    "#     return res\n",
    "\n",
    "# def sublist(a, b):\n",
    "#     str_a = str(a)[1:-1]\n",
    "#     str_b = str(b)[1:-1]\n",
    "#     return str_a in str_b\n",
    "\n",
    "def sublist(a, b):\n",
    "    return any(a == b[i:i+len(a)] for i in range(len(b)-len(a)+1))"
   ]
  },
  {
   "cell_type": "code",
   "execution_count": 5,
   "metadata": {
    "collapsed": true
   },
   "outputs": [],
   "source": [
    "ingredients_graph = nx.read_gexf('data/spanish_ingredients_lexicon_5.gexf')"
   ]
  },
  {
   "cell_type": "code",
   "execution_count": 6,
   "metadata": {
    "collapsed": false
   },
   "outputs": [],
   "source": [
    "ingredients = ingredients_graph.nodes()\n",
    "ingredients.sort(key=lambda x: len(x.split()), reverse=True)\n",
    "ingredients = [i for i in ingredients if i not in spanish_stopwords]"
   ]
  },
  {
   "cell_type": "code",
   "execution_count": 7,
   "metadata": {
    "collapsed": false
   },
   "outputs": [
    {
     "data": {
      "text/plain": [
       "['espuma fría de whisky sour de fruta de la pasión',\n",
       " 'nubes de metiles de purés de frutas de la pasiones',\n",
       " 'nube de metil de puré de fruta de la pasión',\n",
       " 'espumas frías de whiskyes soures de frutas de la pasiones',\n",
       " 'polvo de gelatina fría de zumo de kumquat liofilizada',\n",
       " 'gelatinas calientes de caldos de pancetas ibéricas entreveradas ahumadas',\n",
       " 'agua de la cocción de los pies de cordero',\n",
       " 'salsas de jugos de pollos al aceites de ajos',\n",
       " 'agua de la cocción de los pies de cerdo',\n",
       " 'aceites de atunes en conservas de aceites de olivas']"
      ]
     },
     "execution_count": 7,
     "metadata": {},
     "output_type": "execute_result"
    }
   ],
   "source": [
    "ingredients[:10]"
   ]
  },
  {
   "cell_type": "code",
   "execution_count": 8,
   "metadata": {
    "collapsed": false
   },
   "outputs": [
    {
     "data": {
      "text/plain": [
       "['gelatina',\n",
       " 'mentaiko',\n",
       " 'tuétano',\n",
       " 'sequías',\n",
       " 'basas',\n",
       " 'almendras',\n",
       " 'gumbos',\n",
       " 'nitrógeno',\n",
       " 'membrillos',\n",
       " 'vainillina']"
      ]
     },
     "execution_count": 8,
     "metadata": {},
     "output_type": "execute_result"
    }
   ],
   "source": [
    "ingredients[-10:]"
   ]
  },
  {
   "cell_type": "code",
   "execution_count": 9,
   "metadata": {
    "collapsed": true
   },
   "outputs": [],
   "source": [
    "techniques_graph = nx.read_gexf('data/spanish_techniques_lexicon_5.gexf')"
   ]
  },
  {
   "cell_type": "code",
   "execution_count": 10,
   "metadata": {
    "collapsed": true
   },
   "outputs": [],
   "source": [
    "techniques = techniques_graph.nodes()\n",
    "techniques.sort(key=lambda x: len(x.split()), reverse=True)\n",
    "techniques = [t for t in techniques if t not in spanish_stopwords]"
   ]
  },
  {
   "cell_type": "code",
   "execution_count": 11,
   "metadata": {
    "collapsed": false
   },
   "outputs": [
    {
     "data": {
      "text/plain": [
       "['cocinado de retención del calorizado',\n",
       " 'hielo y sal para enfriar',\n",
       " 'hielo y salado para enfriado',\n",
       " 'cocinado en a la cazuela',\n",
       " 'cocinar en a la cazuela',\n",
       " 'hielo y salar para enfriar',\n",
       " 'cocinando en a la cazuela',\n",
       " 'cocinar de retención del calorizar',\n",
       " 'hielo y salando para enfriando',\n",
       " 'cocina de retención del calor']"
      ]
     },
     "execution_count": 11,
     "metadata": {},
     "output_type": "execute_result"
    }
   ],
   "source": [
    "techniques[:10]"
   ]
  },
  {
   "cell_type": "code",
   "execution_count": 12,
   "metadata": {
    "collapsed": false
   },
   "outputs": [
    {
     "data": {
      "text/plain": [
       "['sifflets',\n",
       " 'conserva',\n",
       " 'brunoisse',\n",
       " 'duro',\n",
       " 'braseada',\n",
       " 'repostar',\n",
       " 'rebozar',\n",
       " 'asar',\n",
       " 'conchado',\n",
       " 'espesando']"
      ]
     },
     "execution_count": 12,
     "metadata": {},
     "output_type": "execute_result"
    }
   ],
   "source": [
    "techniques[-10:]"
   ]
  },
  {
   "cell_type": "code",
   "execution_count": 13,
   "metadata": {
    "collapsed": false
   },
   "outputs": [],
   "source": [
    "# %%time\n",
    "\n",
    "# db.elbulli_raw.drop()\n",
    "\n",
    "# count = 0\n",
    "# rows = []\n",
    "\n",
    "# path = 'data/recipes/elbulli/'\n",
    "# for folder in os.listdir(path):\n",
    "#     for filename_number in sorted(map(lambda x: int(x[:-4]), os.listdir(path + folder))):\n",
    "#         filename = str(filename_number) + '.dat'\n",
    "#         with open(path + folder + '/' + filename) as f:\n",
    "#             row = {\n",
    "#                 '_id': '',\n",
    "#                 'title': '',\n",
    "#                 'year': 0,\n",
    "#                 'ingredients': set(),\n",
    "#                 'techniques': set(),\n",
    "#             }\n",
    "#             i_text = ''\n",
    "#             t_text = ''\n",
    "#             for line in f:\n",
    "#                 line = line.strip()\n",
    "#                 if line.startswith('num'):\n",
    "#                     row['_id'] = line.split('=')[1]\n",
    "#                 elif line.startswith('&titol='):\n",
    "#                     row['title'] = line.split('=')[1]\n",
    "#                 elif line.startswith('&any'):\n",
    "#                     row['year'] = int(line.split('=')[1])\n",
    "#                 elif line.startswith('&ingredientselaboracio'):\n",
    "#                     equals_index = line.index('=')\n",
    "#                     i_text += line[equals_index + 1:].lower() + ' - '\n",
    "#                 elif line.startswith('&descripcioelaboracio') or \\\n",
    "#                      line.startswith('&acabatipresentacio') or \\\n",
    "#                      line.startswith('&titolelaboracio'):\n",
    "#                     equals_index = line.index('=')\n",
    "#                     t_text += line[equals_index + 1:].lower() + ' - '\n",
    "#             i_text_tokens = nltk.word_tokenize(i_text)\n",
    "#             for ingr in ingredients:\n",
    "#                 ingr_tokens = nltk.word_tokenize(ingr)\n",
    "#                 if sublist(ingr_tokens, i_text_tokens):\n",
    "#                     ingredients_graph.node[ingr]['count'] += 1\n",
    "#                     row['ingredients'].add(ingr)\n",
    "#                     i_text = i_text.replace(ingr, '')\n",
    "#                     i_text_tokens = nltk.word_tokenize(i_text)\n",
    "#             row['ingredients'] = list(row['ingredients'])\n",
    "#             t_text_tokens = nltk.word_tokenize(t_text)\n",
    "#             for tech in techniques:\n",
    "#                 tech_tokens = nltk.word_tokenize(tech)\n",
    "#                 if sublist(tech_tokens, t_text_tokens):\n",
    "#                     techniques_graph.node[tech]['count'] += 1\n",
    "#                     row['techniques'].add(tech)\n",
    "#                     t_text = t_text.replace(tech, '')\n",
    "#                     t_text_tokens = nltk.word_tokenize(t_text)\n",
    "#             row['techniques'] = list(row['techniques'])\n",
    "#             rows.append(row)\n",
    "            \n",
    "#             count += 1\n",
    "#             if count % 100 == 0:\n",
    "#                 db.elbulli_raw.insert_many(rows)\n",
    "#                 rows = []\n",
    "#                 print(count, 'rows inserted')\n",
    "# db.elbulli_raw.insert_many(rows)\n",
    "# rows = []\n",
    "# print(count, 'rows inserted')\n",
    "\n",
    "# CPU times: user 1h 26min 4s, sys: 796 ms, total: 1h 26min 4s\n",
    "# Wall time: 1h 26min 3s"
   ]
  },
  {
   "cell_type": "code",
   "execution_count": 14,
   "metadata": {
    "collapsed": true
   },
   "outputs": [],
   "source": [
    "# nx.write_gexf(ingredients_graph, 'data/elbulli_ingredients_lexicon_1.gexf')"
   ]
  },
  {
   "cell_type": "code",
   "execution_count": 15,
   "metadata": {
    "collapsed": true
   },
   "outputs": [],
   "source": [
    "# nx.write_gexf(techniques_graph, 'data/elbulli_techniques_lexicon_1.gexf')"
   ]
  },
  {
   "cell_type": "code",
   "execution_count": 16,
   "metadata": {
    "collapsed": true
   },
   "outputs": [],
   "source": [
    "ingredients_graph = nx.read_gexf('data/elbulli_ingredients_lexicon_1.gexf')"
   ]
  },
  {
   "cell_type": "code",
   "execution_count": 17,
   "metadata": {
    "collapsed": true
   },
   "outputs": [],
   "source": [
    "techniques_graph = nx.read_gexf('data/elbulli_techniques_lexicon_1.gexf')"
   ]
  },
  {
   "cell_type": "markdown",
   "metadata": {},
   "source": [
    "# Only ingredients found in elbulli's recipes"
   ]
  },
  {
   "cell_type": "code",
   "execution_count": 18,
   "metadata": {
    "collapsed": true
   },
   "outputs": [],
   "source": [
    "def add_edge(g, n1, n2):\n",
    "    if n1 != n2 and not nx.has_path(g, n1, n2):\n",
    "        g.add_edge(n1, n2)"
   ]
  },
  {
   "cell_type": "code",
   "execution_count": 19,
   "metadata": {
    "collapsed": true
   },
   "outputs": [],
   "source": [
    "def del_node_and_link_neighbors(g, n):\n",
    "    neighbors = g.neighbors(n)\n",
    "    g.remove_node(n)\n",
    "    if len(neighbors) > 1:\n",
    "        add_edge(g, neighbors[0], neighbors[1])"
   ]
  },
  {
   "cell_type": "code",
   "execution_count": 20,
   "metadata": {
    "collapsed": false
   },
   "outputs": [],
   "source": [
    "for n in ingredients_graph.nodes():\n",
    "    if ingredients_graph.node[n]['count'] == 0:\n",
    "        del_node_and_link_neighbors(ingredients_graph, n)"
   ]
  },
  {
   "cell_type": "code",
   "execution_count": 21,
   "metadata": {
    "collapsed": false
   },
   "outputs": [
    {
     "data": {
      "text/plain": [
       "1614"
      ]
     },
     "execution_count": 21,
     "metadata": {},
     "output_type": "execute_result"
    }
   ],
   "source": [
    "len(ingredients_graph)"
   ]
  },
  {
   "cell_type": "code",
   "execution_count": 22,
   "metadata": {
    "collapsed": false
   },
   "outputs": [
    {
     "data": {
      "text/plain": [
       "233"
      ]
     },
     "execution_count": 22,
     "metadata": {},
     "output_type": "execute_result"
    }
   ],
   "source": [
    "ingredients_graph.number_of_edges()"
   ]
  },
  {
   "cell_type": "code",
   "execution_count": 23,
   "metadata": {
    "collapsed": false,
    "scrolled": true
   },
   "outputs": [
    {
     "data": {
      "text/plain": [
       "1381"
      ]
     },
     "execution_count": 23,
     "metadata": {},
     "output_type": "execute_result"
    }
   ],
   "source": [
    "nx.number_connected_components(ingredients_graph)"
   ]
  },
  {
   "cell_type": "code",
   "execution_count": 24,
   "metadata": {
    "collapsed": true
   },
   "outputs": [],
   "source": [
    "nx.write_gexf(ingredients_graph, 'data/elbulli_ingredients_lexicon_2.gexf')"
   ]
  },
  {
   "cell_type": "code",
   "execution_count": 25,
   "metadata": {
    "collapsed": true
   },
   "outputs": [],
   "source": [
    "ingredients_graph = nx.read_gexf('data/elbulli_ingredients_lexicon_2.gexf')"
   ]
  },
  {
   "cell_type": "code",
   "execution_count": 26,
   "metadata": {
    "collapsed": true
   },
   "outputs": [],
   "source": [
    "for n in techniques_graph.nodes():\n",
    "    if techniques_graph.node[n]['count'] == 0:\n",
    "        del_node_and_link_neighbors(techniques_graph, n)"
   ]
  },
  {
   "cell_type": "code",
   "execution_count": 27,
   "metadata": {
    "collapsed": false
   },
   "outputs": [
    {
     "data": {
      "text/plain": [
       "181"
      ]
     },
     "execution_count": 27,
     "metadata": {},
     "output_type": "execute_result"
    }
   ],
   "source": [
    "len(techniques_graph)"
   ]
  },
  {
   "cell_type": "code",
   "execution_count": 28,
   "metadata": {
    "collapsed": false
   },
   "outputs": [
    {
     "data": {
      "text/plain": [
       "101"
      ]
     },
     "execution_count": 28,
     "metadata": {},
     "output_type": "execute_result"
    }
   ],
   "source": [
    "techniques_graph.number_of_edges()"
   ]
  },
  {
   "cell_type": "code",
   "execution_count": 29,
   "metadata": {
    "collapsed": false
   },
   "outputs": [
    {
     "data": {
      "text/plain": [
       "80"
      ]
     },
     "execution_count": 29,
     "metadata": {},
     "output_type": "execute_result"
    }
   ],
   "source": [
    "nx.number_connected_components(techniques_graph)"
   ]
  },
  {
   "cell_type": "code",
   "execution_count": 30,
   "metadata": {
    "collapsed": true
   },
   "outputs": [],
   "source": [
    "nx.write_gexf(techniques_graph, 'data/elbulli_techniques_lexicon_2.gexf')"
   ]
  },
  {
   "cell_type": "code",
   "execution_count": 31,
   "metadata": {
    "collapsed": true
   },
   "outputs": [],
   "source": [
    "techniques_graph = nx.read_gexf('data/elbulli_techniques_lexicon_2.gexf')"
   ]
  },
  {
   "cell_type": "markdown",
   "metadata": {},
   "source": [
    "# Representatives"
   ]
  },
  {
   "cell_type": "code",
   "execution_count": 32,
   "metadata": {
    "collapsed": true
   },
   "outputs": [],
   "source": [
    "# def get_related_node(g, n, r):\n",
    "#     ms = [m for m, rels in g[n].items() for rel in rels.values() if rel['label'] == r]\n",
    "#     return ms[0]\n",
    "\n",
    "def get_related_node(g, n, r):\n",
    "    ms = [y for x, y, d in g.edges_iter(data=True) if x == n and d['label'] == r]\n",
    "    return ms[0]"
   ]
  },
  {
   "cell_type": "code",
   "execution_count": 33,
   "metadata": {
    "collapsed": false
   },
   "outputs": [],
   "source": [
    "ingredients_multidigraph = nx.MultiDiGraph()\n",
    "\n",
    "for syns in nx.connected_components(ingredients_graph):\n",
    "    max_ingr = ''\n",
    "    max_count = 0\n",
    "    total_count = 0\n",
    "    for ingr in syns:\n",
    "        dat = ingredients_graph.node[ingr]\n",
    "        if dat['count'] > max_count:\n",
    "            max_ingr = ingr\n",
    "            max_count = dat['count']\n",
    "        total_count += dat['count']\n",
    "    ingredients_multidigraph.add_node(max_ingr, {'repr_count': total_count})\n",
    "    for ingr in syns:\n",
    "        ingredients_multidigraph.add_node(ingr, ingredients_graph.node[ingr])\n",
    "        ingredients_multidigraph.add_edge(ingr, max_ingr, label='repr')"
   ]
  },
  {
   "cell_type": "code",
   "execution_count": 34,
   "metadata": {
    "collapsed": false
   },
   "outputs": [
    {
     "data": {
      "text/plain": [
       "1614"
      ]
     },
     "execution_count": 34,
     "metadata": {},
     "output_type": "execute_result"
    }
   ],
   "source": [
    "len(ingredients_multidigraph)"
   ]
  },
  {
   "cell_type": "code",
   "execution_count": 35,
   "metadata": {
    "collapsed": false
   },
   "outputs": [
    {
     "data": {
      "text/plain": [
       "1614"
      ]
     },
     "execution_count": 35,
     "metadata": {},
     "output_type": "execute_result"
    }
   ],
   "source": [
    "ingredients_multidigraph.number_of_edges()"
   ]
  },
  {
   "cell_type": "code",
   "execution_count": 36,
   "metadata": {
    "collapsed": true
   },
   "outputs": [],
   "source": [
    "nx.write_gexf(ingredients_multidigraph, 'data/elbulli_ingredients_lexicon_3.gexf')"
   ]
  },
  {
   "cell_type": "code",
   "execution_count": 37,
   "metadata": {
    "collapsed": true
   },
   "outputs": [],
   "source": [
    "ingredients_multidigraph = nx.read_gexf('data/elbulli_ingredients_lexicon_3.gexf')\n",
    "ingredients_multidigraph = nx.MultiDiGraph(ingredients_multidigraph)"
   ]
  },
  {
   "cell_type": "code",
   "execution_count": 38,
   "metadata": {
    "collapsed": false
   },
   "outputs": [],
   "source": [
    "techniques_multidigraph = nx.MultiDiGraph()\n",
    "\n",
    "for syns in nx.connected_components(techniques_graph):\n",
    "    max_tech = ''\n",
    "    max_count = 0\n",
    "    total_count = 0\n",
    "    for tech in syns:\n",
    "        dat = techniques_graph.node[tech]\n",
    "        if dat['count'] > max_count:\n",
    "            max_tech = tech\n",
    "            max_count = dat['count']\n",
    "        total_count += dat['count']\n",
    "    techniques_multidigraph.add_node(max_tech, {'repr_count': total_count})\n",
    "    for tech in syns:\n",
    "        techniques_multidigraph.add_node(tech, techniques_graph.node[tech])\n",
    "        techniques_multidigraph.add_edge(tech, max_tech, label='repr')"
   ]
  },
  {
   "cell_type": "code",
   "execution_count": 39,
   "metadata": {
    "collapsed": false
   },
   "outputs": [
    {
     "data": {
      "text/plain": [
       "181"
      ]
     },
     "execution_count": 39,
     "metadata": {},
     "output_type": "execute_result"
    }
   ],
   "source": [
    "len(techniques_multidigraph)"
   ]
  },
  {
   "cell_type": "code",
   "execution_count": 40,
   "metadata": {
    "collapsed": false
   },
   "outputs": [
    {
     "data": {
      "text/plain": [
       "181"
      ]
     },
     "execution_count": 40,
     "metadata": {},
     "output_type": "execute_result"
    }
   ],
   "source": [
    "techniques_multidigraph.number_of_edges()"
   ]
  },
  {
   "cell_type": "code",
   "execution_count": 41,
   "metadata": {
    "collapsed": true
   },
   "outputs": [],
   "source": [
    "nx.write_gexf(techniques_multidigraph, 'data/elbulli_techniques_lexicon_3.gexf')"
   ]
  },
  {
   "cell_type": "code",
   "execution_count": 42,
   "metadata": {
    "collapsed": true
   },
   "outputs": [],
   "source": [
    "techniques_multidigraph = nx.read_gexf('data/elbulli_techniques_lexicon_3.gexf')\n",
    "techniques_multidigraph = nx.MultiDiGraph(techniques_multidigraph)"
   ]
  },
  {
   "cell_type": "markdown",
   "metadata": {},
   "source": [
    "# Superclasses"
   ]
  },
  {
   "cell_type": "code",
   "execution_count": 43,
   "metadata": {
    "collapsed": false
   },
   "outputs": [],
   "source": [
    "def add_superclass(g, n, sc):\n",
    "    if sc not in g:\n",
    "        g.add_node(sc, {'sc_count': 1})\n",
    "        g.add_edge(sc, sc, label='repr')\n",
    "        g.add_edge(sc, sc, label='superclass')\n",
    "    elif 'sc_count' not in g.node[sc]:\n",
    "        g.node[sc]['sc_count'] = 1\n",
    "    else:\n",
    "        g.node[sc]['sc_count'] += 1\n",
    "    g.add_edge(n, sc, label='superclass')"
   ]
  },
  {
   "cell_type": "code",
   "execution_count": 44,
   "metadata": {
    "collapsed": false
   },
   "outputs": [],
   "source": [
    "for ingr in ingredients_multidigraph.nodes():\n",
    "    representantive = get_related_node(ingredients_multidigraph, ingr, 'repr')\n",
    "    tokens = nltk.word_tokenize(representantive)\n",
    "    candidates = [token for token in tokens if token in ingredients]\n",
    "    if not candidates:\n",
    "        sc = tokens[0]\n",
    "    else:\n",
    "        sc = candidates[0]\n",
    "    add_superclass(ingredients_multidigraph, ingr, sc)"
   ]
  },
  {
   "cell_type": "code",
   "execution_count": 45,
   "metadata": {
    "collapsed": false
   },
   "outputs": [
    {
     "data": {
      "text/plain": [
       "1682"
      ]
     },
     "execution_count": 45,
     "metadata": {},
     "output_type": "execute_result"
    }
   ],
   "source": [
    "len(ingredients_multidigraph)"
   ]
  },
  {
   "cell_type": "code",
   "execution_count": 46,
   "metadata": {
    "collapsed": false
   },
   "outputs": [
    {
     "data": {
      "text/plain": [
       "3364"
      ]
     },
     "execution_count": 46,
     "metadata": {},
     "output_type": "execute_result"
    }
   ],
   "source": [
    "ingredients_multidigraph.number_of_edges()"
   ]
  },
  {
   "cell_type": "code",
   "execution_count": 47,
   "metadata": {
    "collapsed": true
   },
   "outputs": [],
   "source": [
    "nx.write_gexf(ingredients_multidigraph, 'data/elbulli_ingredients_lexicon_4.gexf')"
   ]
  },
  {
   "cell_type": "code",
   "execution_count": 48,
   "metadata": {
    "collapsed": true
   },
   "outputs": [],
   "source": [
    "ingredients_multidigraph = nx.read_gexf('data/elbulli_ingredients_lexicon_4.gexf')\n",
    "ingredients_multidigraph = nx.MultiDiGraph(ingredients_multidigraph)"
   ]
  },
  {
   "cell_type": "code",
   "execution_count": 49,
   "metadata": {
    "collapsed": false
   },
   "outputs": [],
   "source": [
    "for tech in techniques_multidigraph.nodes():\n",
    "    representantive = get_related_node(techniques_multidigraph, tech, 'repr')\n",
    "    tokens = nltk.word_tokenize(representantive)\n",
    "    candidates = [token for token in tokens if token in techniques]\n",
    "    if not candidates:\n",
    "        sc = tokens[0]\n",
    "    else:\n",
    "        sc = candidates[0]\n",
    "    add_superclass(techniques_multidigraph, tech, sc)"
   ]
  },
  {
   "cell_type": "code",
   "execution_count": 50,
   "metadata": {
    "collapsed": false
   },
   "outputs": [
    {
     "data": {
      "text/plain": [
       "188"
      ]
     },
     "execution_count": 50,
     "metadata": {},
     "output_type": "execute_result"
    }
   ],
   "source": [
    "len(techniques_multidigraph)"
   ]
  },
  {
   "cell_type": "code",
   "execution_count": 51,
   "metadata": {
    "collapsed": false
   },
   "outputs": [
    {
     "data": {
      "text/plain": [
       "376"
      ]
     },
     "execution_count": 51,
     "metadata": {},
     "output_type": "execute_result"
    }
   ],
   "source": [
    "techniques_multidigraph.number_of_edges()"
   ]
  },
  {
   "cell_type": "code",
   "execution_count": 52,
   "metadata": {
    "collapsed": true
   },
   "outputs": [],
   "source": [
    "nx.write_gexf(techniques_multidigraph, 'data/elbulli_techniques_lexicon_4.gexf')"
   ]
  },
  {
   "cell_type": "code",
   "execution_count": 53,
   "metadata": {
    "collapsed": false
   },
   "outputs": [],
   "source": [
    "techniques_multidigraph = nx.read_gexf('data/elbulli_techniques_lexicon_4.gexf')\n",
    "techniques_multidigraph = nx.MultiDiGraph(techniques_multidigraph)"
   ]
  },
  {
   "cell_type": "code",
   "execution_count": null,
   "metadata": {
    "collapsed": true
   },
   "outputs": [],
   "source": []
  }
 ],
 "metadata": {
  "kernelspec": {
   "display_name": "Python 3",
   "language": "python",
   "name": "python3"
  },
  "language_info": {
   "codemirror_mode": {
    "name": "ipython",
    "version": 3
   },
   "file_extension": ".py",
   "mimetype": "text/x-python",
   "name": "python",
   "nbconvert_exporter": "python",
   "pygments_lexer": "ipython3",
   "version": "3.4.3"
  }
 },
 "nbformat": 4,
 "nbformat_minor": 0
}
