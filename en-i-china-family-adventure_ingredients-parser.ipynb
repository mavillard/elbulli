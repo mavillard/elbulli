{
 "cells": [
  {
   "cell_type": "code",
   "execution_count": 1,
   "metadata": {
    "collapsed": false
   },
   "outputs": [],
   "source": [
    "import string\n",
    "\n",
    "from bs4 import BeautifulSoup"
   ]
  },
  {
   "cell_type": "code",
   "execution_count": 2,
   "metadata": {
    "collapsed": true
   },
   "outputs": [],
   "source": [
    "def trim(s):\n",
    "    return ' '.join(s.split())"
   ]
  },
  {
   "cell_type": "code",
   "execution_count": 3,
   "metadata": {
    "collapsed": true
   },
   "outputs": [],
   "source": [
    "def clean(l):\n",
    "    r = []\n",
    "    for e in l:\n",
    "        x = e.strip().lower()\n",
    "        if x == 'chinese cabbage':\n",
    "            x = ['chinese cabbage or snow cabbage']\n",
    "        elif x == 'chinese mushrooms (dried)':\n",
    "            x = ['chinese mushrooms']\n",
    "        elif x == 'egg or wheat noodles':\n",
    "            x = ['egg noodles', 'wheat noodles']\n",
    "        else:\n",
    "            x = [x]\n",
    "        r.extend(x)\n",
    "    return set(r)"
   ]
  },
  {
   "cell_type": "code",
   "execution_count": 4,
   "metadata": {
    "collapsed": false
   },
   "outputs": [],
   "source": [
    "ingredients = set()\n",
    "\n",
    "with open('data/ingredients/en/china-family-adventure/china-family-adventure_ingredients.html') as f:\n",
    "    soup = BeautifulSoup(f.read(), 'html.parser')\n",
    "    elems = soup.select('div.content-box table tr td b font[size=+1]')\n",
    "    ingrs = clean(map(lambda x: trim(x.text), elems))\n",
    "    ingredients = ingredients.union(ingrs)\n",
    "\n",
    "ingredients = sorted(ingredients)"
   ]
  },
  {
   "cell_type": "code",
   "execution_count": 5,
   "metadata": {
    "collapsed": false
   },
   "outputs": [
    {
     "data": {
      "text/plain": [
       "31"
      ]
     },
     "execution_count": 5,
     "metadata": {},
     "output_type": "execute_result"
    }
   ],
   "source": [
    "len(ingredients)"
   ]
  },
  {
   "cell_type": "code",
   "execution_count": 6,
   "metadata": {
    "collapsed": false
   },
   "outputs": [
    {
     "data": {
      "text/plain": [
       "['bamboo shoots',\n",
       " 'bean curd or tofu',\n",
       " 'black bean sauce',\n",
       " 'bok choy',\n",
       " 'chili paste',\n",
       " 'chili sauce',\n",
       " 'chilies',\n",
       " 'chinese cabbage or snow cabbage',\n",
       " 'chinese eggplant',\n",
       " 'chinese mushrooms']"
      ]
     },
     "execution_count": 6,
     "metadata": {},
     "output_type": "execute_result"
    }
   ],
   "source": [
    "ingredients[:10]"
   ]
  },
  {
   "cell_type": "code",
   "execution_count": 7,
   "metadata": {
    "collapsed": true
   },
   "outputs": [],
   "source": [
    "with open('data/ingredients/en_china-family-adventure_ingredients.txt', 'w') as f:\n",
    "    f.write('\\n'.join(sorted(ingredients)))"
   ]
  },
  {
   "cell_type": "code",
   "execution_count": null,
   "metadata": {
    "collapsed": true
   },
   "outputs": [],
   "source": []
  }
 ],
 "metadata": {
  "kernelspec": {
   "display_name": "Python 3",
   "language": "python",
   "name": "python3"
  },
  "language_info": {
   "codemirror_mode": {
    "name": "ipython",
    "version": 3
   },
   "file_extension": ".py",
   "mimetype": "text/x-python",
   "name": "python",
   "nbconvert_exporter": "python",
   "pygments_lexer": "ipython3",
   "version": "3.4.3"
  }
 },
 "nbformat": 4,
 "nbformat_minor": 0
}
