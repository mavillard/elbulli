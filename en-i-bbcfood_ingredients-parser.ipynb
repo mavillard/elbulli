{
 "cells": [
  {
   "cell_type": "code",
   "execution_count": 1,
   "metadata": {
    "collapsed": false
   },
   "outputs": [],
   "source": [
    "import string\n",
    "\n",
    "from bs4 import BeautifulSoup"
   ]
  },
  {
   "cell_type": "code",
   "execution_count": 2,
   "metadata": {
    "collapsed": true
   },
   "outputs": [],
   "source": [
    "def trim(s):\n",
    "    return ' '.join(s.split())"
   ]
  },
  {
   "cell_type": "code",
   "execution_count": 3,
   "metadata": {
    "collapsed": true
   },
   "outputs": [],
   "source": [
    "def clean(l):\n",
    "    r = []\n",
    "    for e in l:\n",
    "        x = e.strip().lower()\n",
    "        if x == 'carrageen_moss':\n",
    "            x = ['carrageen moss or irish moss']\n",
    "        else:\n",
    "            x = [x]\n",
    "        r.extend(x)\n",
    "    return set(r)"
   ]
  },
  {
   "cell_type": "code",
   "execution_count": 4,
   "metadata": {
    "collapsed": false
   },
   "outputs": [],
   "source": [
    "ingredients = set()\n",
    "\n",
    "for letter in string.ascii_lowercase:\n",
    "    with open('data/ingredients/en/bbcfood/bbcfood_ingredients_' + letter + '.html') as f:\n",
    "        soup = BeautifulSoup(f.read(), 'html.parser')\n",
    "        elems = soup.select('div.page ol#foods-by-letter li.resource.food > a:nth-of-type(1)')\n",
    "        ingrs = clean(map(lambda x: trim(x.text), elems))\n",
    "        ingredients = ingredients.union(ingrs)\n",
    "\n",
    "ingredients = sorted(ingredients)"
   ]
  },
  {
   "cell_type": "code",
   "execution_count": 5,
   "metadata": {
    "collapsed": false
   },
   "outputs": [
    {
     "data": {
      "text/plain": [
       "1090"
      ]
     },
     "execution_count": 5,
     "metadata": {},
     "output_type": "execute_result"
    }
   ],
   "source": [
    "len(ingredients)"
   ]
  },
  {
   "cell_type": "code",
   "execution_count": 6,
   "metadata": {
    "collapsed": false
   },
   "outputs": [
    {
     "data": {
      "text/plain": [
       "['acidulated water',\n",
       " 'ackee',\n",
       " 'acorn squash',\n",
       " 'aduki beans',\n",
       " 'advocaat',\n",
       " 'agar-agar',\n",
       " 'ale',\n",
       " 'alfalfa sprouts',\n",
       " 'allspice',\n",
       " 'almond']"
      ]
     },
     "execution_count": 6,
     "metadata": {},
     "output_type": "execute_result"
    }
   ],
   "source": [
    "ingredients[:10]"
   ]
  },
  {
   "cell_type": "code",
   "execution_count": 7,
   "metadata": {
    "collapsed": true
   },
   "outputs": [],
   "source": [
    "with open('data/ingredients/en_bbcfood_ingredients.txt', 'w') as f:\n",
    "    f.write('\\n'.join(sorted(ingredients)))"
   ]
  },
  {
   "cell_type": "code",
   "execution_count": null,
   "metadata": {
    "collapsed": true
   },
   "outputs": [],
   "source": []
  }
 ],
 "metadata": {
  "kernelspec": {
   "display_name": "Python 3",
   "language": "python",
   "name": "python3"
  },
  "language_info": {
   "codemirror_mode": {
    "name": "ipython",
    "version": 3
   },
   "file_extension": ".py",
   "mimetype": "text/x-python",
   "name": "python",
   "nbconvert_exporter": "python",
   "pygments_lexer": "ipython3",
   "version": "3.4.3"
  }
 },
 "nbformat": 4,
 "nbformat_minor": 0
}
