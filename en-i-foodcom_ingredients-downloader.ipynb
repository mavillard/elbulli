{
 "cells": [
  {
   "cell_type": "code",
   "execution_count": 1,
   "metadata": {
    "collapsed": false
   },
   "outputs": [],
   "source": [
    "import requests\n",
    "from bs4 import BeautifulSoup"
   ]
  },
  {
   "cell_type": "code",
   "execution_count": 2,
   "metadata": {
    "collapsed": false
   },
   "outputs": [],
   "source": [
    "lower_limit = 1\n",
    "upper_limit = 979\n",
    "for ide in range(lower_limit, upper_limit + 1):\n",
    "    str_id = str(ide)\n",
    "    with open('data/ingredients/en/foodcom/foodcom_ingredients_' + str_id + '.html', 'w') as f:\n",
    "        url = 'http://www.food.com/about/' + str_id\n",
    "        response = requests.get(url)\n",
    "        if response.ok:\n",
    "            soup = BeautifulSoup(response.content, 'html.parser')\n",
    "            f.write(soup.prettify())\n",
    "\n",
    "# Error in [17, 33, 69, 79, 94, 131, 385, 427, 456, 458, 466, 474, 497, 505, 511, 521, 769, 939, 948, 949]"
   ]
  },
  {
   "cell_type": "code",
   "execution_count": null,
   "metadata": {
    "collapsed": true
   },
   "outputs": [],
   "source": []
  }
 ],
 "metadata": {
  "kernelspec": {
   "display_name": "Python 3",
   "language": "python",
   "name": "python3"
  },
  "language_info": {
   "codemirror_mode": {
    "name": "ipython",
    "version": 3
   },
   "file_extension": ".py",
   "mimetype": "text/x-python",
   "name": "python",
   "nbconvert_exporter": "python",
   "pygments_lexer": "ipython3",
   "version": "3.4.3"
  }
 },
 "nbformat": 4,
 "nbformat_minor": 0
}
