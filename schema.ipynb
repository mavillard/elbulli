{
 "cells": [
  {
   "cell_type": "code",
   "execution_count": 1,
   "metadata": {
    "collapsed": false
   },
   "outputs": [],
   "source": [
    "import networkx as nx"
   ]
  },
  {
   "cell_type": "code",
   "execution_count": 2,
   "metadata": {
    "collapsed": false
   },
   "outputs": [],
   "source": [
    "path_gexf = 'data/elbulli.gexf'\n",
    "graph = nx.read_gexf(path_gexf)"
   ]
  },
  {
   "cell_type": "code",
   "execution_count": 3,
   "metadata": {
    "collapsed": false
   },
   "outputs": [
    {
     "data": {
      "text/plain": [
       "9764"
      ]
     },
     "execution_count": 3,
     "metadata": {},
     "output_type": "execute_result"
    }
   ],
   "source": [
    "len(graph.nodes())"
   ]
  },
  {
   "cell_type": "code",
   "execution_count": 4,
   "metadata": {
    "collapsed": false
   },
   "outputs": [
    {
     "data": {
      "text/plain": [
       "33252"
      ]
     },
     "execution_count": 4,
     "metadata": {},
     "output_type": "execute_result"
    }
   ],
   "source": [
    "len(graph.edges())"
   ]
  },
  {
   "cell_type": "code",
   "execution_count": 5,
   "metadata": {
    "collapsed": false
   },
   "outputs": [
    {
     "name": "stdout",
     "output_type": "stream",
     "text": [
      "('Elaboracion19982001-21', {'label': 'Elaboracion19982001-21', 'nodetype': 'Elaboracion'})\n",
      "('Elaboracion19871997-125', {'label': 'Elaboracion19871997-125', 'nodetype': 'Elaboracion'})\n",
      "('Elaboracion2005-18', {'label': 'Elaboracion2005-18', 'nodetype': 'Elaboracion'})\n",
      "('Producto:roquefort', {'label': 'Producto:roquefort', 'nodetype': 'Producto'})\n"
     ]
    }
   ],
   "source": [
    "for n in graph.nodes(data=True)[:4]:\n",
    "    print(n)"
   ]
  },
  {
   "cell_type": "code",
   "execution_count": 6,
   "metadata": {
    "collapsed": false
   },
   "outputs": [],
   "source": [
    "node_types = set()\n",
    "for n in graph.nodes(data=True):\n",
    "    t = n[1]['nodetype']\n",
    "    node_types.add(t)"
   ]
  },
  {
   "cell_type": "code",
   "execution_count": 7,
   "metadata": {
    "collapsed": false
   },
   "outputs": [
    {
     "name": "stdout",
     "output_type": "stream",
     "text": [
      "('Elaboracion19982001-21', 'LAS MASAS Y SUS ELABORACIONES EN EL MUNDO DULCE', {'id': '2168', 'edgetype': 'se clasifica'})\n",
      "('Elaboracion19871997-125', 'LAS MASAS Y SUS ELABORACIONES', {'id': '10531', 'edgetype': 'se clasifica'})\n",
      "('Elaboracion19871997-125', 'harina', {'id': '10530', 'edgetype': 'composicion'})\n",
      "('Elaboracion19871997-125', 'mantequilla salada', {'id': '10534', 'edgetype': 'composicion'})\n"
     ]
    }
   ],
   "source": [
    "for e in graph.edges(data=True)[:4]:\n",
    "    print(e)"
   ]
  },
  {
   "cell_type": "code",
   "execution_count": 8,
   "metadata": {
    "collapsed": false
   },
   "outputs": [],
   "source": [
    "edge_types = set()\n",
    "for e in graph.edges(data=True):\n",
    "    d = graph.node[e[0]]['nodetype']\n",
    "    r = graph.node[e[1]]['nodetype']\n",
    "    t = e[2]['edgetype']\n",
    "    edge_types.add((t, d, r))"
   ]
  },
  {
   "cell_type": "code",
   "execution_count": 9,
   "metadata": {
    "collapsed": false
   },
   "outputs": [
    {
     "data": {
      "text/plain": [
       "{'Año',\n",
       " 'Elaboracion',\n",
       " 'Estilo',\n",
       " 'Familia Elaboracion',\n",
       " 'Familia Estilo',\n",
       " 'Familia Receta',\n",
       " 'Familia Tecnica',\n",
       " 'Mundo',\n",
       " 'Producto',\n",
       " 'Receta',\n",
       " 'Tecnica',\n",
       " 'Temperatura',\n",
       " 'ingrediente',\n",
       " 'sabor',\n",
       " 'tecnica'}"
      ]
     },
     "execution_count": 9,
     "metadata": {},
     "output_type": "execute_result"
    }
   ],
   "source": [
    "node_types"
   ]
  },
  {
   "cell_type": "code",
   "execution_count": 10,
   "metadata": {
    "collapsed": false
   },
   "outputs": [
    {
     "data": {
      "text/plain": [
       "{('alcohol', 'Elaboracion', 'Producto'),\n",
       " ('bañado', 'Elaboracion', 'Producto'),\n",
       " ('chocolate', 'Elaboracion', 'Producto'),\n",
       " ('composicion', 'Elaboracion', 'ingrediente'),\n",
       " ('composicion', 'ingrediente', 'Elaboracion'),\n",
       " ('elaboracion', 'Receta', 'Elaboracion'),\n",
       " ('estilo', 'Receta', 'Estilo'),\n",
       " ('lacteo', 'Elaboracion', 'Producto'),\n",
       " ('mundo', 'Elaboracion', 'Mundo'),\n",
       " ('mundo', 'Mundo', 'Elaboracion'),\n",
       " ('nuevaPasta', 'Elaboracion', 'Producto'),\n",
       " ('producto', 'Elaboracion', 'Producto'),\n",
       " ('publicado en', 'Año', 'Receta'),\n",
       " ('publicado en', 'Receta', 'Año'),\n",
       " ('relleno', 'Elaboracion', 'Producto'),\n",
       " ('sabor', 'Elaboracion', 'sabor'),\n",
       " ('se clasifica', 'Elaboracion', 'Familia Elaboracion'),\n",
       " ('se clasifica', 'Estilo', 'Familia Estilo'),\n",
       " ('se clasifica', 'Familia Elaboracion', 'Elaboracion'),\n",
       " ('se clasifica', 'Familia Estilo', 'Estilo'),\n",
       " ('se clasifica', 'Familia Tecnica', 'Tecnica'),\n",
       " ('se clasifica', 'Receta', 'Familia Receta'),\n",
       " ('se clasifica', 'Tecnica', 'Familia Tecnica'),\n",
       " ('tecnica', 'Elaboracion', 'tecnica'),\n",
       " ('tecnica', 'Receta', 'Tecnica'),\n",
       " ('temperatura', 'Receta', 'Temperatura')}"
      ]
     },
     "execution_count": 10,
     "metadata": {},
     "output_type": "execute_result"
    }
   ],
   "source": [
    "edge_types"
   ]
  },
  {
   "cell_type": "code",
   "execution_count": null,
   "metadata": {
    "collapsed": true
   },
   "outputs": [],
   "source": []
  }
 ],
 "metadata": {
  "kernelspec": {
   "display_name": "Python 3",
   "language": "python",
   "name": "python3"
  },
  "language_info": {
   "codemirror_mode": {
    "name": "ipython",
    "version": 3
   },
   "file_extension": ".py",
   "mimetype": "text/x-python",
   "name": "python",
   "nbconvert_exporter": "python",
   "pygments_lexer": "ipython3",
   "version": "3.4.3"
  }
 },
 "nbformat": 4,
 "nbformat_minor": 0
}
