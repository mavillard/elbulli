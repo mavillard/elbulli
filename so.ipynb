{
 "cells": [
  {
   "cell_type": "code",
   "execution_count": 1,
   "metadata": {
    "collapsed": false
   },
   "outputs": [],
   "source": [
    "import json\n",
    "import pickle\n",
    "from time import time\n",
    "\n",
    "import numpy as np\n",
    "import pandas as pd\n",
    "from sklearn import metrics\n",
    "from sklearn.cross_validation import StratifiedKFold, train_test_split\n",
    "from sklearn.ensemble import RandomForestClassifier\n",
    "from sklearn.feature_extraction.text import CountVectorizer, TfidfTransformer\n",
    "from sklearn.feature_selection import SelectKBest, chi2\n",
    "from sklearn.grid_search import GridSearchCV\n",
    "from sklearn.linear_model import PassiveAggressiveClassifier, Perceptron, RidgeClassifier, SGDClassifier\n",
    "from sklearn.naive_bayes import BernoulliNB, MultinomialNB\n",
    "from sklearn.neighbors import KNeighborsClassifier, NearestCentroid\n",
    "from sklearn.pipeline import Pipeline\n",
    "from sklearn.svm import LinearSVC\n",
    "# Classifiers obtained from http://scikit-learn.org/stable/auto_examples/text/document_classification_20newsgroups.html"
   ]
  },
  {
   "cell_type": "markdown",
   "metadata": {
    "collapsed": true
   },
   "source": [
    "# Original data"
   ]
  },
  {
   "cell_type": "code",
   "execution_count": 2,
   "metadata": {
    "collapsed": false
   },
   "outputs": [],
   "source": [
    "qas_df = pd.read_csv('data/qas.csv')"
   ]
  },
  {
   "cell_type": "code",
   "execution_count": 3,
   "metadata": {
    "collapsed": true
   },
   "outputs": [],
   "source": [
    "columns = ['Unnamed: 0', 'text', 'id']\n",
    "qa_df = qas_df.drop(columns, axis=1)"
   ]
  },
  {
   "cell_type": "code",
   "execution_count": 4,
   "metadata": {
    "collapsed": false
   },
   "outputs": [
    {
     "data": {
      "text/plain": [
       "27233"
      ]
     },
     "execution_count": 4,
     "metadata": {},
     "output_type": "execute_result"
    }
   ],
   "source": [
    "len(qa_df[qa_df.accepted==True])"
   ]
  },
  {
   "cell_type": "code",
   "execution_count": 5,
   "metadata": {
    "collapsed": false
   },
   "outputs": [
    {
     "data": {
      "text/plain": [
       "45614"
      ]
     },
     "execution_count": 5,
     "metadata": {},
     "output_type": "execute_result"
    }
   ],
   "source": [
    "len(qa_df[qa_df.accepted==False])"
   ]
  },
  {
   "cell_type": "code",
   "execution_count": 6,
   "metadata": {
    "collapsed": false
   },
   "outputs": [
    {
     "data": {
      "text/html": [
       "<div>\n",
       "<table border=\"1\" class=\"dataframe\">\n",
       "  <thead>\n",
       "    <tr style=\"text-align: right;\">\n",
       "      <th></th>\n",
       "      <th>score_q</th>\n",
       "      <th>view_count</th>\n",
       "      <th>answer_count</th>\n",
       "      <th>comment_count_q</th>\n",
       "      <th>code_line_count_q</th>\n",
       "      <th>reputation_q</th>\n",
       "      <th>comment_count_a</th>\n",
       "      <th>code_line_count_a</th>\n",
       "      <th>score_a</th>\n",
       "      <th>accepted</th>\n",
       "      <th>reputation_a</th>\n",
       "      <th>percent_answered_questions_q</th>\n",
       "      <th>percent_accepted_answers_a</th>\n",
       "    </tr>\n",
       "  </thead>\n",
       "  <tbody>\n",
       "    <tr>\n",
       "      <th>0</th>\n",
       "      <td>3.0</td>\n",
       "      <td>177.0</td>\n",
       "      <td>1.0</td>\n",
       "      <td>3.0</td>\n",
       "      <td>0.0</td>\n",
       "      <td>16.0</td>\n",
       "      <td>4.0</td>\n",
       "      <td>3.0</td>\n",
       "      <td>0.0</td>\n",
       "      <td>False</td>\n",
       "      <td>947.0</td>\n",
       "      <td>0.0</td>\n",
       "      <td>15.0</td>\n",
       "    </tr>\n",
       "    <tr>\n",
       "      <th>1</th>\n",
       "      <td>0.0</td>\n",
       "      <td>44.0</td>\n",
       "      <td>1.0</td>\n",
       "      <td>0.0</td>\n",
       "      <td>7.0</td>\n",
       "      <td>42.0</td>\n",
       "      <td>0.0</td>\n",
       "      <td>3.0</td>\n",
       "      <td>0.0</td>\n",
       "      <td>False</td>\n",
       "      <td>11986.0</td>\n",
       "      <td>0.0</td>\n",
       "      <td>50.0</td>\n",
       "    </tr>\n",
       "    <tr>\n",
       "      <th>2</th>\n",
       "      <td>1.0</td>\n",
       "      <td>127.0</td>\n",
       "      <td>1.0</td>\n",
       "      <td>0.0</td>\n",
       "      <td>0.0</td>\n",
       "      <td>28.0</td>\n",
       "      <td>0.0</td>\n",
       "      <td>0.0</td>\n",
       "      <td>0.0</td>\n",
       "      <td>False</td>\n",
       "      <td>6920.0</td>\n",
       "      <td>0.0</td>\n",
       "      <td>33.0</td>\n",
       "    </tr>\n",
       "    <tr>\n",
       "      <th>3</th>\n",
       "      <td>2.0</td>\n",
       "      <td>68.0</td>\n",
       "      <td>2.0</td>\n",
       "      <td>0.0</td>\n",
       "      <td>2.0</td>\n",
       "      <td>28.0</td>\n",
       "      <td>0.0</td>\n",
       "      <td>0.0</td>\n",
       "      <td>1.0</td>\n",
       "      <td>False</td>\n",
       "      <td>1055.0</td>\n",
       "      <td>0.0</td>\n",
       "      <td>40.0</td>\n",
       "    </tr>\n",
       "    <tr>\n",
       "      <th>4</th>\n",
       "      <td>2.0</td>\n",
       "      <td>68.0</td>\n",
       "      <td>2.0</td>\n",
       "      <td>0.0</td>\n",
       "      <td>2.0</td>\n",
       "      <td>28.0</td>\n",
       "      <td>1.0</td>\n",
       "      <td>0.0</td>\n",
       "      <td>0.0</td>\n",
       "      <td>False</td>\n",
       "      <td>21855.0</td>\n",
       "      <td>0.0</td>\n",
       "      <td>33.0</td>\n",
       "    </tr>\n",
       "  </tbody>\n",
       "</table>\n",
       "</div>"
      ],
      "text/plain": [
       "   score_q  view_count  answer_count  comment_count_q  code_line_count_q  \\\n",
       "0      3.0       177.0           1.0              3.0                0.0   \n",
       "1      0.0        44.0           1.0              0.0                7.0   \n",
       "2      1.0       127.0           1.0              0.0                0.0   \n",
       "3      2.0        68.0           2.0              0.0                2.0   \n",
       "4      2.0        68.0           2.0              0.0                2.0   \n",
       "\n",
       "   reputation_q  comment_count_a  code_line_count_a  score_a accepted  \\\n",
       "0          16.0              4.0                3.0      0.0    False   \n",
       "1          42.0              0.0                3.0      0.0    False   \n",
       "2          28.0              0.0                0.0      0.0    False   \n",
       "3          28.0              0.0                0.0      1.0    False   \n",
       "4          28.0              1.0                0.0      0.0    False   \n",
       "\n",
       "   reputation_a  percent_answered_questions_q  percent_accepted_answers_a  \n",
       "0         947.0                           0.0                        15.0  \n",
       "1       11986.0                           0.0                        50.0  \n",
       "2        6920.0                           0.0                        33.0  \n",
       "3        1055.0                           0.0                        40.0  \n",
       "4       21855.0                           0.0                        33.0  "
      ]
     },
     "execution_count": 6,
     "metadata": {},
     "output_type": "execute_result"
    }
   ],
   "source": [
    "qa_df.head()"
   ]
  },
  {
   "cell_type": "code",
   "execution_count": 7,
   "metadata": {
    "collapsed": false
   },
   "outputs": [],
   "source": [
    "qa_df = qa_df.reindex(np.random.permutation(qa_df.index))"
   ]
  },
  {
   "cell_type": "code",
   "execution_count": 8,
   "metadata": {
    "collapsed": false
   },
   "outputs": [
    {
     "data": {
      "text/html": [
       "<div>\n",
       "<table border=\"1\" class=\"dataframe\">\n",
       "  <thead>\n",
       "    <tr style=\"text-align: right;\">\n",
       "      <th></th>\n",
       "      <th>score_q</th>\n",
       "      <th>view_count</th>\n",
       "      <th>answer_count</th>\n",
       "      <th>comment_count_q</th>\n",
       "      <th>code_line_count_q</th>\n",
       "      <th>reputation_q</th>\n",
       "      <th>comment_count_a</th>\n",
       "      <th>code_line_count_a</th>\n",
       "      <th>score_a</th>\n",
       "      <th>accepted</th>\n",
       "      <th>reputation_a</th>\n",
       "      <th>percent_answered_questions_q</th>\n",
       "      <th>percent_accepted_answers_a</th>\n",
       "    </tr>\n",
       "  </thead>\n",
       "  <tbody>\n",
       "    <tr>\n",
       "      <th>1985</th>\n",
       "      <td>274.0</td>\n",
       "      <td>27223.0</td>\n",
       "      <td>13.0</td>\n",
       "      <td>10.0</td>\n",
       "      <td>21.0</td>\n",
       "      <td>1431.0</td>\n",
       "      <td>0.0</td>\n",
       "      <td>0.0</td>\n",
       "      <td>29.0</td>\n",
       "      <td>False</td>\n",
       "      <td>24157.0</td>\n",
       "      <td>83.0</td>\n",
       "      <td>0.0</td>\n",
       "    </tr>\n",
       "    <tr>\n",
       "      <th>12547</th>\n",
       "      <td>0.0</td>\n",
       "      <td>1308.0</td>\n",
       "      <td>3.0</td>\n",
       "      <td>2.0</td>\n",
       "      <td>5.0</td>\n",
       "      <td>6.0</td>\n",
       "      <td>0.0</td>\n",
       "      <td>37.0</td>\n",
       "      <td>0.0</td>\n",
       "      <td>False</td>\n",
       "      <td>18.0</td>\n",
       "      <td>0.0</td>\n",
       "      <td>50.0</td>\n",
       "    </tr>\n",
       "    <tr>\n",
       "      <th>44993</th>\n",
       "      <td>1.0</td>\n",
       "      <td>330.0</td>\n",
       "      <td>2.0</td>\n",
       "      <td>9.0</td>\n",
       "      <td>123.0</td>\n",
       "      <td>94.0</td>\n",
       "      <td>0.0</td>\n",
       "      <td>10.0</td>\n",
       "      <td>0.0</td>\n",
       "      <td>False</td>\n",
       "      <td>5808.0</td>\n",
       "      <td>40.0</td>\n",
       "      <td>43.0</td>\n",
       "    </tr>\n",
       "    <tr>\n",
       "      <th>51432</th>\n",
       "      <td>0.0</td>\n",
       "      <td>532.0</td>\n",
       "      <td>2.0</td>\n",
       "      <td>4.0</td>\n",
       "      <td>15.0</td>\n",
       "      <td>360.0</td>\n",
       "      <td>16.0</td>\n",
       "      <td>4.0</td>\n",
       "      <td>0.0</td>\n",
       "      <td>False</td>\n",
       "      <td>4795.0</td>\n",
       "      <td>67.0</td>\n",
       "      <td>29.0</td>\n",
       "    </tr>\n",
       "    <tr>\n",
       "      <th>51739</th>\n",
       "      <td>0.0</td>\n",
       "      <td>164.0</td>\n",
       "      <td>1.0</td>\n",
       "      <td>0.0</td>\n",
       "      <td>9.0</td>\n",
       "      <td>32.0</td>\n",
       "      <td>0.0</td>\n",
       "      <td>0.0</td>\n",
       "      <td>0.0</td>\n",
       "      <td>False</td>\n",
       "      <td>1837.0</td>\n",
       "      <td>0.0</td>\n",
       "      <td>33.0</td>\n",
       "    </tr>\n",
       "  </tbody>\n",
       "</table>\n",
       "</div>"
      ],
      "text/plain": [
       "       score_q  view_count  answer_count  comment_count_q  code_line_count_q  \\\n",
       "1985     274.0     27223.0          13.0             10.0               21.0   \n",
       "12547      0.0      1308.0           3.0              2.0                5.0   \n",
       "44993      1.0       330.0           2.0              9.0              123.0   \n",
       "51432      0.0       532.0           2.0              4.0               15.0   \n",
       "51739      0.0       164.0           1.0              0.0                9.0   \n",
       "\n",
       "       reputation_q  comment_count_a  code_line_count_a  score_a accepted  \\\n",
       "1985         1431.0              0.0                0.0     29.0    False   \n",
       "12547           6.0              0.0               37.0      0.0    False   \n",
       "44993          94.0              0.0               10.0      0.0    False   \n",
       "51432         360.0             16.0                4.0      0.0    False   \n",
       "51739          32.0              0.0                0.0      0.0    False   \n",
       "\n",
       "       reputation_a  percent_answered_questions_q  percent_accepted_answers_a  \n",
       "1985        24157.0                          83.0                         0.0  \n",
       "12547          18.0                           0.0                        50.0  \n",
       "44993        5808.0                          40.0                        43.0  \n",
       "51432        4795.0                          67.0                        29.0  \n",
       "51739        1837.0                           0.0                        33.0  "
      ]
     },
     "execution_count": 8,
     "metadata": {},
     "output_type": "execute_result"
    }
   ],
   "source": [
    "qa_df.head()"
   ]
  },
  {
   "cell_type": "code",
   "execution_count": 9,
   "metadata": {
    "collapsed": false
   },
   "outputs": [
    {
     "data": {
      "text/plain": [
       "(72847, 13)"
      ]
     },
     "execution_count": 9,
     "metadata": {},
     "output_type": "execute_result"
    }
   ],
   "source": [
    "qa_df.shape"
   ]
  },
  {
   "cell_type": "markdown",
   "metadata": {},
   "source": [
    "# Classification"
   ]
  },
  {
   "cell_type": "code",
   "execution_count": 10,
   "metadata": {
    "collapsed": true
   },
   "outputs": [],
   "source": [
    "K = 10"
   ]
  },
  {
   "cell_type": "code",
   "execution_count": 11,
   "metadata": {
    "collapsed": true
   },
   "outputs": [],
   "source": [
    "def update(d1, d2):\n",
    "    d = dict(d1)\n",
    "    d.update(d2)\n",
    "    return d"
   ]
  },
  {
   "cell_type": "code",
   "execution_count": 12,
   "metadata": {
    "collapsed": false
   },
   "outputs": [],
   "source": [
    "parameters = {\n",
    "#     'vect__max_df': (0.5, 0.8, 1.0),\n",
    "#     'vect__min_df': (0.0, 0.2, 1),\n",
    "    'tfidf__norm': (None, 'l1', 'l2'),\n",
    "    'tfidf__use_idf': (True, False),\n",
    "}\n",
    "\n",
    "classifiers = [\n",
    "    ('BernoulliNB', BernoulliNB, update(parameters, {\n",
    "        'clf__alpha': (1.0, 1e-1, 1e-2, 1e-3),\n",
    "        'clf__fit_prior': (False, True),\n",
    "    })),\n",
    "#     ('KNeighborsClassifier', KNeighborsClassifier, update(parameters, {\n",
    "#         'clf__weights': ('uniform', 'distance'),\n",
    "#         'clf__metric': ('euclidean', 'manhattan', 'minkowski')\n",
    "#     })),\n",
    "    ('LinearSVC', LinearSVC, [\n",
    "        update(parameters, {\n",
    "#         'vect__min_df': (0.0, 1),\n",
    "        'clf__loss': ('squared_hinge', 'hinge',),\n",
    "        'clf__tol': (1e-4, 1e-5, 1e-6),\n",
    "        'clf__class_weight': (None, 'balanced', {False: 0.63, True: 0.37}),\n",
    "        }),\n",
    "        update(parameters, {\n",
    "#         'vect__min_df': (0.0, 1),\n",
    "        'clf__penalty': ('l1', 'l2'),\n",
    "        'clf__dual': (False,),\n",
    "        'clf__tol': (1e-4, 1e-5, 1e-6),\n",
    "        'clf__class_weight': (None, 'balanced', {False: 0.63, True: 0.37}),\n",
    "        }),\n",
    "    ]),\n",
    "#     ('MultinomialNB', MultinomialNB, update(parameters, {\n",
    "#         'clf__alpha': (1.0, 1e-1, 1e-2, 1e-3),\n",
    "#         'clf__fit_prior': (False, True),\n",
    "#     })),\n",
    "#     ('NearestCentroid', NearestCentroid, update(parameters, {\n",
    "#     })),\n",
    "    ('PassiveAggressiveClassifier', PassiveAggressiveClassifier, update(parameters, {\n",
    "#         'vect__min_df': (0.0, 1),\n",
    "        'clf__loss': ('squared_hinge', 'hinge'),\n",
    "        'clf__n_iter': (5, 10, 20),\n",
    "        'clf__class_weight': (None, 'balanced', {False: 0.63, True: 0.37}),\n",
    "        'clf__warm_start': (False, True),\n",
    "    })),\n",
    "#     ('Perceptron', Perceptron, update(parameters, {\n",
    "#         'vect__min_df': (0.0, 1),\n",
    "#         'tfidf__norm': (None, 'l2'),\n",
    "#         'clf__penalty': (None, 'l1', 'l2', 'elasticnet'),\n",
    "#         'clf__alpha': (1e-4, 1e-5, 1e-6),\n",
    "#         'clf__class_weight': (None, 'balanced', {0: 0.25, 10: 0.28, 20: 0.23, 30: 0.24}),\n",
    "#         'clf__warm_start': (False, True),\n",
    "#     })),\n",
    "#     ('RandomForestClassifier', RandomForestClassifier, update(parameters, {\n",
    "#         'clf__n_estimators': (10, 20, 30),\n",
    "#         'clf__criterion': ('gini', 'entropy'),\n",
    "#         'clf__max_depth': (None, 5, 10),\n",
    "#         'clf__class_weight': (None, {0: 0.25, 10: 0.28, 20: 0.23, 30: 0.24}),\n",
    "#         'clf__warm_start': (False, True),\n",
    "#     })),\n",
    "#     ('RidgeClassifier', RidgeClassifier, update(parameters, {\n",
    "#         'clf__alpha': (1.0, 1e-1, 1e-2, 1e-3),\n",
    "#         'clf__class_weight': (None, 'balanced', {False: 0.63, True: 0.37}),\n",
    "#         'clf__normalize': (True, False),\n",
    "#         'clf__tol': (1e-1, 1e-2, 1e-3),\n",
    "#     })),\n",
    "#     ('SGDClassifier', SGDClassifier, [\n",
    "#         update(parameters, {\n",
    "#         'vect__min_df': (0.0, 1),\n",
    "#         'clf__loss': ('hinge', 'log', 'modified_huber', 'perceptron',),\n",
    "#         'clf__penalty': ('none', 'l1', 'l2', 'elasticnet'),\n",
    "#         'clf__class_weight': (None, 'balanced'),\n",
    "#         'clf__warm_start': (False, True),\n",
    "#         }),\n",
    "#         update(parameters, {\n",
    "#         'vect__min_df': (0.0, 1),\n",
    "#         'clf__loss': ('hinge', 'log', 'modified_huber', 'perceptron',),\n",
    "#         'clf__penalty': ('none', 'l1', 'l2', 'elasticnet'),\n",
    "#         'clf__alpha': (1e-5, 1e-6),\n",
    "#         'clf__class_weight': ({0: 0.25, 10: 0.28, 20: 0.23, 30: 0.24},),\n",
    "#         'clf__warm_start': (False, True),\n",
    "#         }),\n",
    "#     ]),\n",
    "]"
   ]
  },
  {
   "cell_type": "code",
   "execution_count": 13,
   "metadata": {
    "collapsed": false
   },
   "outputs": [],
   "source": [
    "# parameters = {\n",
    "# }\n",
    "\n",
    "# classifiers = [\n",
    "#     ('BernoulliNB', BernoulliNB, {}),\n",
    "# #     ('KNeighborsClassifier', KNeighborsClassifier, {}),\n",
    "#     ('LinearSVC', LinearSVC, {}),\n",
    "# #     ('MultinomialNB', MultinomialNB, {}),\n",
    "# #     ('NearestCentroid', NearestCentroid, {}),\n",
    "#     ('PassiveAggressiveClassifier', PassiveAggressiveClassifier, {}),\n",
    "# #     ('Perceptron', Perceptron, {}),\n",
    "# #     ('RandomForestClassifier', RandomForestClassifier, {}),\n",
    "#     ('RidgeClassifier', RidgeClassifier, {}),\n",
    "# #     ('SGDClassifier', SGDClassifier, {}),\n",
    "# ]"
   ]
  },
  {
   "cell_type": "code",
   "execution_count": 14,
   "metadata": {
    "collapsed": true
   },
   "outputs": [],
   "source": [
    "def benchmark(grid_search_cv, X_train, X_test, y_train, y_test, name):\n",
    "    print('Training %s...' % name)\n",
    "    t0 = time()\n",
    "    grid_search_cv.fit(X_train, y_train)\n",
    "    training_time = time() - t0\n",
    "    print('Training time: %0.3fs' % training_time)\n",
    "    print()\n",
    "    score = float('%0.2f' % grid_search_cv.best_score_)\n",
    "    print('Best score:', score)\n",
    "    print('Best parameters:', grid_search_cv.best_params_)\n",
    "    print()\n",
    "    print('Testing %s...' % name)\n",
    "    t0 = time()\n",
    "    pred = grid_search_cv.predict(X_test)\n",
    "    testing_time = time() - t0\n",
    "    print('Testing time:  %0.3fs' % testing_time)\n",
    "    print()\n",
    "    print('Metrics:')\n",
    "    accuracy = metrics.accuracy_score(y_test, pred)\n",
    "    accuracy = float('%0.2f' % accuracy)\n",
    "    print('accuracy  =', accuracy)\n",
    "    precision = metrics.precision_score(y_test, pred, pos_label=True, average='binary')\n",
    "    precision = float('%0.2f' % precision)\n",
    "    print('precision =', precision)\n",
    "    recall = metrics.recall_score(y_test, pred, pos_label=True, average='binary')\n",
    "    recall = float('%0.2f' % recall)\n",
    "    print('recall    =', recall)\n",
    "    f1_score = metrics.f1_score(y_test, pred, pos_label=True, average='binary')\n",
    "    f1_score = float('%0.2f' % f1_score)\n",
    "    print('f1_score  =', f1_score)\n",
    "    print()\n",
    "    print('Classification report:')\n",
    "    print(metrics.classification_report(y_test, pred, target_names=['No' ,'Yes']))\n",
    "    print()\n",
    "    print('Confusion matrix:')\n",
    "    print(metrics.confusion_matrix(y_test, pred))\n",
    "    print()\n",
    "    return {\n",
    "        'best_estimator': grid_search_cv.best_estimator_,\n",
    "        'best_score': score,\n",
    "        'best_parameters': grid_search_cv.best_params_,\n",
    "        'accuracy': accuracy,\n",
    "        'precision': precision,\n",
    "        'recall': recall,\n",
    "        'f1_score': f1_score,\n",
    "    }"
   ]
  },
  {
   "cell_type": "code",
   "execution_count": 34,
   "metadata": {
    "collapsed": false
   },
   "outputs": [],
   "source": [
    "X = qa_df.drop('accepted', axis=1)\n",
    "y = qa_df['accepted']"
   ]
  },
  {
   "cell_type": "code",
   "execution_count": 16,
   "metadata": {
    "collapsed": false
   },
   "outputs": [
    {
     "data": {
      "text/plain": [
       "False    45614\n",
       "True     27233\n",
       "Name: accepted, dtype: int64"
      ]
     },
     "execution_count": 16,
     "metadata": {},
     "output_type": "execute_result"
    }
   ],
   "source": [
    "y.value_counts()"
   ]
  },
  {
   "cell_type": "code",
   "execution_count": 17,
   "metadata": {
    "collapsed": false
   },
   "outputs": [],
   "source": [
    "X_train, X_test, y_train, y_test = train_test_split(X, y, test_size=0.1, random_state=0, stratify=y)"
   ]
  },
  {
   "cell_type": "code",
   "execution_count": 18,
   "metadata": {
    "collapsed": false
   },
   "outputs": [],
   "source": [
    "skf = StratifiedKFold(y_train, K)"
   ]
  },
  {
   "cell_type": "code",
   "execution_count": 19,
   "metadata": {
    "collapsed": false
   },
   "outputs": [
    {
     "name": "stdout",
     "output_type": "stream",
     "text": [
      "Performing grid search with cross-validation...\n",
      "================================================================================\n",
      "\n",
      "Training BernoulliNB...\n",
      "Training time: 27.730s\n",
      "\n",
      "Best score: 0.78\n",
      "Best parameters: {'tfidf__norm': None, 'tfidf__use_idf': True, 'clf__alpha': 1.0, 'clf__fit_prior': True}\n",
      "\n",
      "Testing BernoulliNB...\n",
      "Testing time:  0.007s\n",
      "\n",
      "Metrics:\n",
      "accuracy  = 0.78\n",
      "precision = 0.67\n",
      "recall    = 0.81\n",
      "f1_score  = 0.73\n",
      "\n",
      "Classification report:\n",
      "             precision    recall  f1-score   support\n",
      "\n",
      "         No       0.87      0.77      0.81      4562\n",
      "        Yes       0.67      0.81      0.73      2723\n",
      "\n",
      "avg / total       0.80      0.78      0.78      7285\n",
      "\n",
      "\n",
      "Confusion matrix:\n",
      "[[3490 1072]\n",
      " [ 521 2202]]\n",
      "\n",
      "--------------------------------------------------------------------------------\n",
      "Training LinearSVC...\n",
      "Training time: 2734.398s\n",
      "\n",
      "Best score: 0.88\n",
      "Best parameters: {'tfidf__norm': None, 'clf__dual': False, 'clf__penalty': 'l2', 'clf__tol': 0.0001, 'clf__class_weight': None, 'tfidf__use_idf': True}\n",
      "\n",
      "Testing LinearSVC...\n",
      "Testing time:  0.006s\n",
      "\n",
      "Metrics:\n",
      "accuracy  = 0.87\n",
      "precision = 0.84\n",
      "recall    = 0.82\n",
      "f1_score  = 0.83\n",
      "\n",
      "Classification report:\n",
      "             precision    recall  f1-score   support\n",
      "\n",
      "         No       0.89      0.90      0.90      4562\n",
      "        Yes       0.84      0.82      0.83      2723\n",
      "\n",
      "avg / total       0.87      0.87      0.87      7285\n",
      "\n",
      "\n",
      "Confusion matrix:\n",
      "[[4121  441]\n",
      " [ 485 2238]]\n",
      "\n",
      "--------------------------------------------------------------------------------\n",
      "Training PassiveAggressiveClassifier...\n",
      "Training time: 205.425s\n",
      "\n",
      "Best score: 0.73\n",
      "Best parameters: {'tfidf__norm': None, 'clf__warm_start': False, 'clf__loss': 'hinge', 'clf__n_iter': 20, 'tfidf__use_idf': False, 'clf__class_weight': None}\n",
      "\n",
      "Testing PassiveAggressiveClassifier...\n",
      "Testing time:  0.004s\n",
      "\n",
      "Metrics:\n",
      "accuracy  = 0.8\n",
      "precision = 0.87\n",
      "recall    = 0.56\n",
      "f1_score  = 0.68\n",
      "\n",
      "Classification report:\n",
      "             precision    recall  f1-score   support\n",
      "\n",
      "         No       0.78      0.95      0.86      4562\n",
      "        Yes       0.87      0.56      0.68      2723\n",
      "\n",
      "avg / total       0.81      0.80      0.79      7285\n",
      "\n",
      "\n",
      "Confusion matrix:\n",
      "[[4325  237]\n",
      " [1195 1528]]\n",
      "\n",
      "--------------------------------------------------------------------------------\n"
     ]
    }
   ],
   "source": [
    "# print('Performing grid search with cross-validation...')\n",
    "# print('=' * 80)\n",
    "# print()\n",
    "# best_estimators = []\n",
    "# for name, clf, parameters in classifiers:\n",
    "#     pipeline = Pipeline([\n",
    "# #         ('vect', CountVectorizer()),\n",
    "#         ('tfidf', TfidfTransformer()),\n",
    "#         ('clf', clf()),\n",
    "#     ])\n",
    "#     grid_search_cv = GridSearchCV(pipeline, parameters, cv=skf, scoring='f1_weighted', error_score=0, n_jobs=4)\n",
    "#     best_estimators.append(benchmark(grid_search_cv, X_train, X_test, y_train, y_test, name))\n",
    "#     print('-' * 80)"
   ]
  },
  {
   "cell_type": "code",
   "execution_count": null,
   "metadata": {
    "collapsed": true
   },
   "outputs": [],
   "source": [
    "# Performing grid search with cross-validation...\n",
    "# ================================================================================\n",
    "\n",
    "# Training BernoulliNB...\n",
    "# Training time: 27.730s\n",
    "\n",
    "# Best score: 0.78\n",
    "# Best parameters: {'tfidf__norm': None, 'tfidf__use_idf': True, 'clf__alpha': 1.0, 'clf__fit_prior': True}\n",
    "\n",
    "# Testing BernoulliNB...\n",
    "# Testing time:  0.007s\n",
    "\n",
    "# Metrics:\n",
    "# accuracy  = 0.78\n",
    "# precision = 0.67\n",
    "# recall    = 0.81\n",
    "# f1_score  = 0.73\n",
    "\n",
    "# Classification report:\n",
    "#              precision    recall  f1-score   support\n",
    "\n",
    "#          No       0.87      0.77      0.81      4562\n",
    "#         Yes       0.67      0.81      0.73      2723\n",
    "\n",
    "# avg / total       0.80      0.78      0.78      7285\n",
    "\n",
    "\n",
    "# Confusion matrix:\n",
    "# [[3490 1072]\n",
    "#  [ 521 2202]]\n",
    "\n",
    "# --------------------------------------------------------------------------------\n",
    "# Training LinearSVC...\n",
    "# Training time: 2734.398s\n",
    "\n",
    "# Best score: 0.88\n",
    "# Best parameters: {'tfidf__norm': None, 'clf__dual': False, 'clf__penalty': 'l2', 'clf__tol': 0.0001, 'clf__class_weight': None, 'tfidf__use_idf': True}\n",
    "\n",
    "# Testing LinearSVC...\n",
    "# Testing time:  0.006s\n",
    "\n",
    "# Metrics:\n",
    "# accuracy  = 0.87\n",
    "# precision = 0.84\n",
    "# recall    = 0.82\n",
    "# f1_score  = 0.83\n",
    "\n",
    "# Classification report:\n",
    "#              precision    recall  f1-score   support\n",
    "\n",
    "#          No       0.89      0.90      0.90      4562\n",
    "#         Yes       0.84      0.82      0.83      2723\n",
    "\n",
    "# avg / total       0.87      0.87      0.87      7285\n",
    "\n",
    "\n",
    "# Confusion matrix:\n",
    "# [[4121  441]\n",
    "#  [ 485 2238]]\n",
    "\n",
    "# --------------------------------------------------------------------------------\n",
    "# Training PassiveAggressiveClassifier...\n",
    "# Training time: 205.425s\n",
    "\n",
    "# Best score: 0.73\n",
    "# Best parameters: {'tfidf__norm': None, 'clf__warm_start': False, 'clf__loss': 'hinge', 'clf__n_iter': 20, 'tfidf__use_idf': False, 'clf__class_weight': None}\n",
    "\n",
    "# Testing PassiveAggressiveClassifier...\n",
    "# Testing time:  0.004s\n",
    "\n",
    "# Metrics:\n",
    "# accuracy  = 0.8\n",
    "# precision = 0.87\n",
    "# recall    = 0.56\n",
    "# f1_score  = 0.68\n",
    "\n",
    "# Classification report:\n",
    "#              precision    recall  f1-score   support\n",
    "\n",
    "#          No       0.78      0.95      0.86      4562\n",
    "#         Yes       0.87      0.56      0.68      2723\n",
    "\n",
    "# avg / total       0.81      0.80      0.79      7285\n",
    "\n",
    "\n",
    "# Confusion matrix:\n",
    "# [[4325  237]\n",
    "#  [1195 1528]]\n",
    "\n",
    "# --------------------------------------------------------------------------------"
   ]
  },
  {
   "cell_type": "code",
   "execution_count": 20,
   "metadata": {
    "collapsed": false
   },
   "outputs": [],
   "source": [
    "# with open('data/so_best_estimators.pickle', 'wb') as f:\n",
    "#     pickle.dump(best_estimators, f)"
   ]
  },
  {
   "cell_type": "markdown",
   "metadata": {
    "collapsed": true
   },
   "source": [
    "# Feature selection"
   ]
  },
  {
   "cell_type": "code",
   "execution_count": 185,
   "metadata": {
    "collapsed": true
   },
   "outputs": [],
   "source": [
    "from sklearn.feature_selection import chi2\n",
    "from sklearn.feature_selection import SelectKBest\n",
    "from sklearn.feature_selection import VarianceThreshold"
   ]
  },
  {
   "cell_type": "code",
   "execution_count": 186,
   "metadata": {
    "collapsed": true
   },
   "outputs": [],
   "source": [
    "X = qa_df.drop('accepted', axis=1)\n",
    "y = qa_df['accepted']"
   ]
  },
  {
   "cell_type": "code",
   "execution_count": 187,
   "metadata": {
    "collapsed": false
   },
   "outputs": [
    {
     "data": {
      "text/html": [
       "<div>\n",
       "<table border=\"1\" class=\"dataframe\">\n",
       "  <thead>\n",
       "    <tr style=\"text-align: right;\">\n",
       "      <th></th>\n",
       "      <th>score_q</th>\n",
       "      <th>view_count</th>\n",
       "      <th>answer_count</th>\n",
       "      <th>comment_count_q</th>\n",
       "      <th>code_line_count_q</th>\n",
       "      <th>reputation_q</th>\n",
       "      <th>comment_count_a</th>\n",
       "      <th>code_line_count_a</th>\n",
       "      <th>score_a</th>\n",
       "      <th>reputation_a</th>\n",
       "      <th>percent_answered_questions_q</th>\n",
       "      <th>percent_accepted_answers_a</th>\n",
       "    </tr>\n",
       "  </thead>\n",
       "  <tbody>\n",
       "    <tr>\n",
       "      <th>1985</th>\n",
       "      <td>274.0</td>\n",
       "      <td>27223.0</td>\n",
       "      <td>13.0</td>\n",
       "      <td>10.0</td>\n",
       "      <td>21.0</td>\n",
       "      <td>1431.0</td>\n",
       "      <td>0.0</td>\n",
       "      <td>0.0</td>\n",
       "      <td>29.0</td>\n",
       "      <td>24157.0</td>\n",
       "      <td>83.0</td>\n",
       "      <td>0.0</td>\n",
       "    </tr>\n",
       "    <tr>\n",
       "      <th>12547</th>\n",
       "      <td>0.0</td>\n",
       "      <td>1308.0</td>\n",
       "      <td>3.0</td>\n",
       "      <td>2.0</td>\n",
       "      <td>5.0</td>\n",
       "      <td>6.0</td>\n",
       "      <td>0.0</td>\n",
       "      <td>37.0</td>\n",
       "      <td>0.0</td>\n",
       "      <td>18.0</td>\n",
       "      <td>0.0</td>\n",
       "      <td>50.0</td>\n",
       "    </tr>\n",
       "    <tr>\n",
       "      <th>44993</th>\n",
       "      <td>1.0</td>\n",
       "      <td>330.0</td>\n",
       "      <td>2.0</td>\n",
       "      <td>9.0</td>\n",
       "      <td>123.0</td>\n",
       "      <td>94.0</td>\n",
       "      <td>0.0</td>\n",
       "      <td>10.0</td>\n",
       "      <td>0.0</td>\n",
       "      <td>5808.0</td>\n",
       "      <td>40.0</td>\n",
       "      <td>43.0</td>\n",
       "    </tr>\n",
       "    <tr>\n",
       "      <th>51432</th>\n",
       "      <td>0.0</td>\n",
       "      <td>532.0</td>\n",
       "      <td>2.0</td>\n",
       "      <td>4.0</td>\n",
       "      <td>15.0</td>\n",
       "      <td>360.0</td>\n",
       "      <td>16.0</td>\n",
       "      <td>4.0</td>\n",
       "      <td>0.0</td>\n",
       "      <td>4795.0</td>\n",
       "      <td>67.0</td>\n",
       "      <td>29.0</td>\n",
       "    </tr>\n",
       "    <tr>\n",
       "      <th>51739</th>\n",
       "      <td>0.0</td>\n",
       "      <td>164.0</td>\n",
       "      <td>1.0</td>\n",
       "      <td>0.0</td>\n",
       "      <td>9.0</td>\n",
       "      <td>32.0</td>\n",
       "      <td>0.0</td>\n",
       "      <td>0.0</td>\n",
       "      <td>0.0</td>\n",
       "      <td>1837.0</td>\n",
       "      <td>0.0</td>\n",
       "      <td>33.0</td>\n",
       "    </tr>\n",
       "  </tbody>\n",
       "</table>\n",
       "</div>"
      ],
      "text/plain": [
       "       score_q  view_count  answer_count  comment_count_q  code_line_count_q  \\\n",
       "1985     274.0     27223.0          13.0             10.0               21.0   \n",
       "12547      0.0      1308.0           3.0              2.0                5.0   \n",
       "44993      1.0       330.0           2.0              9.0              123.0   \n",
       "51432      0.0       532.0           2.0              4.0               15.0   \n",
       "51739      0.0       164.0           1.0              0.0                9.0   \n",
       "\n",
       "       reputation_q  comment_count_a  code_line_count_a  score_a  \\\n",
       "1985         1431.0              0.0                0.0     29.0   \n",
       "12547           6.0              0.0               37.0      0.0   \n",
       "44993          94.0              0.0               10.0      0.0   \n",
       "51432         360.0             16.0                4.0      0.0   \n",
       "51739          32.0              0.0                0.0      0.0   \n",
       "\n",
       "       reputation_a  percent_answered_questions_q  percent_accepted_answers_a  \n",
       "1985        24157.0                          83.0                         0.0  \n",
       "12547          18.0                           0.0                        50.0  \n",
       "44993        5808.0                          40.0                        43.0  \n",
       "51432        4795.0                          67.0                        29.0  \n",
       "51739        1837.0                           0.0                        33.0  "
      ]
     },
     "execution_count": 187,
     "metadata": {},
     "output_type": "execute_result"
    }
   ],
   "source": [
    "X.head()"
   ]
  },
  {
   "cell_type": "code",
   "execution_count": 188,
   "metadata": {
    "collapsed": false
   },
   "outputs": [
    {
     "data": {
      "text/plain": [
       "(72847, 12)"
      ]
     },
     "execution_count": 188,
     "metadata": {},
     "output_type": "execute_result"
    }
   ],
   "source": [
    "X.shape"
   ]
  },
  {
   "cell_type": "code",
   "execution_count": 189,
   "metadata": {
    "collapsed": false
   },
   "outputs": [
    {
     "data": {
      "text/plain": [
       "1985     False\n",
       "12547    False\n",
       "44993    False\n",
       "51432    False\n",
       "51739    False\n",
       "Name: accepted, dtype: bool"
      ]
     },
     "execution_count": 189,
     "metadata": {},
     "output_type": "execute_result"
    }
   ],
   "source": [
    "y.head()"
   ]
  },
  {
   "cell_type": "code",
   "execution_count": 190,
   "metadata": {
    "collapsed": false
   },
   "outputs": [
    {
     "data": {
      "text/plain": [
       "(72847,)"
      ]
     },
     "execution_count": 190,
     "metadata": {},
     "output_type": "execute_result"
    }
   ],
   "source": [
    "y.shape"
   ]
  },
  {
   "cell_type": "code",
   "execution_count": 191,
   "metadata": {
    "collapsed": false
   },
   "outputs": [],
   "source": [
    "sel = VarianceThreshold(threshold=(.8 * (1 - .8)))\n",
    "X_inv = sel.fit_transform(X)\n",
    "X_inv = pd.DataFrame(X_inv, index=X.index, columns=X.columns)"
   ]
  },
  {
   "cell_type": "code",
   "execution_count": 192,
   "metadata": {
    "collapsed": false
   },
   "outputs": [
    {
     "data": {
      "text/html": [
       "<div>\n",
       "<table border=\"1\" class=\"dataframe\">\n",
       "  <thead>\n",
       "    <tr style=\"text-align: right;\">\n",
       "      <th></th>\n",
       "      <th>score_q</th>\n",
       "      <th>view_count</th>\n",
       "      <th>answer_count</th>\n",
       "      <th>comment_count_q</th>\n",
       "      <th>code_line_count_q</th>\n",
       "      <th>reputation_q</th>\n",
       "      <th>comment_count_a</th>\n",
       "      <th>code_line_count_a</th>\n",
       "      <th>score_a</th>\n",
       "      <th>reputation_a</th>\n",
       "      <th>percent_answered_questions_q</th>\n",
       "      <th>percent_accepted_answers_a</th>\n",
       "    </tr>\n",
       "  </thead>\n",
       "  <tbody>\n",
       "    <tr>\n",
       "      <th>1985</th>\n",
       "      <td>274.0</td>\n",
       "      <td>27223.0</td>\n",
       "      <td>13.0</td>\n",
       "      <td>10.0</td>\n",
       "      <td>21.0</td>\n",
       "      <td>1431.0</td>\n",
       "      <td>0.0</td>\n",
       "      <td>0.0</td>\n",
       "      <td>29.0</td>\n",
       "      <td>24157.0</td>\n",
       "      <td>83.0</td>\n",
       "      <td>0.0</td>\n",
       "    </tr>\n",
       "    <tr>\n",
       "      <th>12547</th>\n",
       "      <td>0.0</td>\n",
       "      <td>1308.0</td>\n",
       "      <td>3.0</td>\n",
       "      <td>2.0</td>\n",
       "      <td>5.0</td>\n",
       "      <td>6.0</td>\n",
       "      <td>0.0</td>\n",
       "      <td>37.0</td>\n",
       "      <td>0.0</td>\n",
       "      <td>18.0</td>\n",
       "      <td>0.0</td>\n",
       "      <td>50.0</td>\n",
       "    </tr>\n",
       "    <tr>\n",
       "      <th>44993</th>\n",
       "      <td>1.0</td>\n",
       "      <td>330.0</td>\n",
       "      <td>2.0</td>\n",
       "      <td>9.0</td>\n",
       "      <td>123.0</td>\n",
       "      <td>94.0</td>\n",
       "      <td>0.0</td>\n",
       "      <td>10.0</td>\n",
       "      <td>0.0</td>\n",
       "      <td>5808.0</td>\n",
       "      <td>40.0</td>\n",
       "      <td>43.0</td>\n",
       "    </tr>\n",
       "    <tr>\n",
       "      <th>51432</th>\n",
       "      <td>0.0</td>\n",
       "      <td>532.0</td>\n",
       "      <td>2.0</td>\n",
       "      <td>4.0</td>\n",
       "      <td>15.0</td>\n",
       "      <td>360.0</td>\n",
       "      <td>16.0</td>\n",
       "      <td>4.0</td>\n",
       "      <td>0.0</td>\n",
       "      <td>4795.0</td>\n",
       "      <td>67.0</td>\n",
       "      <td>29.0</td>\n",
       "    </tr>\n",
       "    <tr>\n",
       "      <th>51739</th>\n",
       "      <td>0.0</td>\n",
       "      <td>164.0</td>\n",
       "      <td>1.0</td>\n",
       "      <td>0.0</td>\n",
       "      <td>9.0</td>\n",
       "      <td>32.0</td>\n",
       "      <td>0.0</td>\n",
       "      <td>0.0</td>\n",
       "      <td>0.0</td>\n",
       "      <td>1837.0</td>\n",
       "      <td>0.0</td>\n",
       "      <td>33.0</td>\n",
       "    </tr>\n",
       "  </tbody>\n",
       "</table>\n",
       "</div>"
      ],
      "text/plain": [
       "       score_q  view_count  answer_count  comment_count_q  code_line_count_q  \\\n",
       "1985     274.0     27223.0          13.0             10.0               21.0   \n",
       "12547      0.0      1308.0           3.0              2.0                5.0   \n",
       "44993      1.0       330.0           2.0              9.0              123.0   \n",
       "51432      0.0       532.0           2.0              4.0               15.0   \n",
       "51739      0.0       164.0           1.0              0.0                9.0   \n",
       "\n",
       "       reputation_q  comment_count_a  code_line_count_a  score_a  \\\n",
       "1985         1431.0              0.0                0.0     29.0   \n",
       "12547           6.0              0.0               37.0      0.0   \n",
       "44993          94.0              0.0               10.0      0.0   \n",
       "51432         360.0             16.0                4.0      0.0   \n",
       "51739          32.0              0.0                0.0      0.0   \n",
       "\n",
       "       reputation_a  percent_answered_questions_q  percent_accepted_answers_a  \n",
       "1985        24157.0                          83.0                         0.0  \n",
       "12547          18.0                           0.0                        50.0  \n",
       "44993        5808.0                          40.0                        43.0  \n",
       "51432        4795.0                          67.0                        29.0  \n",
       "51739        1837.0                           0.0                        33.0  "
      ]
     },
     "execution_count": 192,
     "metadata": {},
     "output_type": "execute_result"
    }
   ],
   "source": [
    "X_inv.head()"
   ]
  },
  {
   "cell_type": "code",
   "execution_count": 193,
   "metadata": {
    "collapsed": false
   },
   "outputs": [
    {
     "data": {
      "text/plain": [
       "(72847, 12)"
      ]
     },
     "execution_count": 193,
     "metadata": {},
     "output_type": "execute_result"
    }
   ],
   "source": [
    "X_inv.shape"
   ]
  },
  {
   "cell_type": "code",
   "execution_count": 194,
   "metadata": {
    "collapsed": false
   },
   "outputs": [],
   "source": [
    "y_inv = y[X_inv.index]"
   ]
  },
  {
   "cell_type": "code",
   "execution_count": 195,
   "metadata": {
    "collapsed": false
   },
   "outputs": [
    {
     "data": {
      "text/plain": [
       "1985     False\n",
       "12547    False\n",
       "44993    False\n",
       "51432    False\n",
       "51739    False\n",
       "Name: accepted, dtype: bool"
      ]
     },
     "execution_count": 195,
     "metadata": {},
     "output_type": "execute_result"
    }
   ],
   "source": [
    "y_inv.head()"
   ]
  },
  {
   "cell_type": "code",
   "execution_count": 196,
   "metadata": {
    "collapsed": false
   },
   "outputs": [
    {
     "data": {
      "text/plain": [
       "(72847,)"
      ]
     },
     "execution_count": 196,
     "metadata": {},
     "output_type": "execute_result"
    }
   ],
   "source": [
    "y_inv.shape"
   ]
  },
  {
   "cell_type": "code",
   "execution_count": 197,
   "metadata": {
    "collapsed": false
   },
   "outputs": [],
   "source": [
    "X_pos = X_inv\n",
    "for c in X.columns:\n",
    "    X_pos = X_pos[X_pos[c] >= 0]"
   ]
  },
  {
   "cell_type": "code",
   "execution_count": 198,
   "metadata": {
    "collapsed": false
   },
   "outputs": [
    {
     "data": {
      "text/plain": [
       "(65517, 12)"
      ]
     },
     "execution_count": 198,
     "metadata": {},
     "output_type": "execute_result"
    }
   ],
   "source": [
    "X_pos.shape"
   ]
  },
  {
   "cell_type": "code",
   "execution_count": 199,
   "metadata": {
    "collapsed": false
   },
   "outputs": [
    {
     "data": {
      "text/html": [
       "<div>\n",
       "<table border=\"1\" class=\"dataframe\">\n",
       "  <thead>\n",
       "    <tr style=\"text-align: right;\">\n",
       "      <th></th>\n",
       "      <th>score_q</th>\n",
       "      <th>view_count</th>\n",
       "      <th>answer_count</th>\n",
       "      <th>comment_count_q</th>\n",
       "      <th>code_line_count_q</th>\n",
       "      <th>reputation_q</th>\n",
       "      <th>comment_count_a</th>\n",
       "      <th>code_line_count_a</th>\n",
       "      <th>score_a</th>\n",
       "      <th>reputation_a</th>\n",
       "      <th>percent_answered_questions_q</th>\n",
       "      <th>percent_accepted_answers_a</th>\n",
       "    </tr>\n",
       "  </thead>\n",
       "  <tbody>\n",
       "    <tr>\n",
       "      <th>1985</th>\n",
       "      <td>274.0</td>\n",
       "      <td>27223.0</td>\n",
       "      <td>13.0</td>\n",
       "      <td>10.0</td>\n",
       "      <td>21.0</td>\n",
       "      <td>1431.0</td>\n",
       "      <td>0.0</td>\n",
       "      <td>0.0</td>\n",
       "      <td>29.0</td>\n",
       "      <td>24157.0</td>\n",
       "      <td>83.0</td>\n",
       "      <td>0.0</td>\n",
       "    </tr>\n",
       "    <tr>\n",
       "      <th>12547</th>\n",
       "      <td>0.0</td>\n",
       "      <td>1308.0</td>\n",
       "      <td>3.0</td>\n",
       "      <td>2.0</td>\n",
       "      <td>5.0</td>\n",
       "      <td>6.0</td>\n",
       "      <td>0.0</td>\n",
       "      <td>37.0</td>\n",
       "      <td>0.0</td>\n",
       "      <td>18.0</td>\n",
       "      <td>0.0</td>\n",
       "      <td>50.0</td>\n",
       "    </tr>\n",
       "    <tr>\n",
       "      <th>44993</th>\n",
       "      <td>1.0</td>\n",
       "      <td>330.0</td>\n",
       "      <td>2.0</td>\n",
       "      <td>9.0</td>\n",
       "      <td>123.0</td>\n",
       "      <td>94.0</td>\n",
       "      <td>0.0</td>\n",
       "      <td>10.0</td>\n",
       "      <td>0.0</td>\n",
       "      <td>5808.0</td>\n",
       "      <td>40.0</td>\n",
       "      <td>43.0</td>\n",
       "    </tr>\n",
       "    <tr>\n",
       "      <th>51432</th>\n",
       "      <td>0.0</td>\n",
       "      <td>532.0</td>\n",
       "      <td>2.0</td>\n",
       "      <td>4.0</td>\n",
       "      <td>15.0</td>\n",
       "      <td>360.0</td>\n",
       "      <td>16.0</td>\n",
       "      <td>4.0</td>\n",
       "      <td>0.0</td>\n",
       "      <td>4795.0</td>\n",
       "      <td>67.0</td>\n",
       "      <td>29.0</td>\n",
       "    </tr>\n",
       "    <tr>\n",
       "      <th>51739</th>\n",
       "      <td>0.0</td>\n",
       "      <td>164.0</td>\n",
       "      <td>1.0</td>\n",
       "      <td>0.0</td>\n",
       "      <td>9.0</td>\n",
       "      <td>32.0</td>\n",
       "      <td>0.0</td>\n",
       "      <td>0.0</td>\n",
       "      <td>0.0</td>\n",
       "      <td>1837.0</td>\n",
       "      <td>0.0</td>\n",
       "      <td>33.0</td>\n",
       "    </tr>\n",
       "  </tbody>\n",
       "</table>\n",
       "</div>"
      ],
      "text/plain": [
       "       score_q  view_count  answer_count  comment_count_q  code_line_count_q  \\\n",
       "1985     274.0     27223.0          13.0             10.0               21.0   \n",
       "12547      0.0      1308.0           3.0              2.0                5.0   \n",
       "44993      1.0       330.0           2.0              9.0              123.0   \n",
       "51432      0.0       532.0           2.0              4.0               15.0   \n",
       "51739      0.0       164.0           1.0              0.0                9.0   \n",
       "\n",
       "       reputation_q  comment_count_a  code_line_count_a  score_a  \\\n",
       "1985         1431.0              0.0                0.0     29.0   \n",
       "12547           6.0              0.0               37.0      0.0   \n",
       "44993          94.0              0.0               10.0      0.0   \n",
       "51432         360.0             16.0                4.0      0.0   \n",
       "51739          32.0              0.0                0.0      0.0   \n",
       "\n",
       "       reputation_a  percent_answered_questions_q  percent_accepted_answers_a  \n",
       "1985        24157.0                          83.0                         0.0  \n",
       "12547          18.0                           0.0                        50.0  \n",
       "44993        5808.0                          40.0                        43.0  \n",
       "51432        4795.0                          67.0                        29.0  \n",
       "51739        1837.0                           0.0                        33.0  "
      ]
     },
     "execution_count": 199,
     "metadata": {},
     "output_type": "execute_result"
    }
   ],
   "source": [
    "X_pos.head()"
   ]
  },
  {
   "cell_type": "code",
   "execution_count": 200,
   "metadata": {
    "collapsed": false
   },
   "outputs": [],
   "source": [
    "y_pos = y_inv[X_pos.index]"
   ]
  },
  {
   "cell_type": "code",
   "execution_count": 201,
   "metadata": {
    "collapsed": false
   },
   "outputs": [
    {
     "data": {
      "text/plain": [
       "(65517,)"
      ]
     },
     "execution_count": 201,
     "metadata": {},
     "output_type": "execute_result"
    }
   ],
   "source": [
    "y_pos.shape"
   ]
  },
  {
   "cell_type": "code",
   "execution_count": 202,
   "metadata": {
    "collapsed": true
   },
   "outputs": [],
   "source": [
    "feature_names = list(X.columns)"
   ]
  },
  {
   "cell_type": "code",
   "execution_count": 203,
   "metadata": {
    "collapsed": false
   },
   "outputs": [
    {
     "data": {
      "text/plain": [
       "['score_q',\n",
       " 'view_count',\n",
       " 'answer_count',\n",
       " 'comment_count_q',\n",
       " 'code_line_count_q',\n",
       " 'reputation_q',\n",
       " 'comment_count_a',\n",
       " 'code_line_count_a',\n",
       " 'score_a',\n",
       " 'reputation_a',\n",
       " 'percent_answered_questions_q',\n",
       " 'percent_accepted_answers_a']"
      ]
     },
     "execution_count": 203,
     "metadata": {},
     "output_type": "execute_result"
    }
   ],
   "source": [
    "feature_names"
   ]
  },
  {
   "cell_type": "code",
   "execution_count": 204,
   "metadata": {
    "collapsed": false
   },
   "outputs": [],
   "source": [
    "ch2 = SelectKBest(chi2, k=2)\n",
    "X_train_best = ch2.fit_transform(X_pos, y_pos)\n",
    "X_test_best = ch2.transform(X_test)\n",
    "if feature_names:\n",
    "    feature_names = [feature_names[i] for i in ch2.get_support(indices=True)]\n",
    "feature_names = np.asarray(feature_names)"
   ]
  },
  {
   "cell_type": "code",
   "execution_count": 205,
   "metadata": {
    "collapsed": false
   },
   "outputs": [
    {
     "data": {
      "text/plain": [
       "array(['reputation_q', 'reputation_a'], \n",
       "      dtype='<U12')"
      ]
     },
     "execution_count": 205,
     "metadata": {},
     "output_type": "execute_result"
    }
   ],
   "source": [
    "feature_names"
   ]
  },
  {
   "cell_type": "code",
   "execution_count": null,
   "metadata": {
    "collapsed": true
   },
   "outputs": [],
   "source": []
  },
  {
   "cell_type": "code",
   "execution_count": null,
   "metadata": {
    "collapsed": true
   },
   "outputs": [],
   "source": []
  },
  {
   "cell_type": "code",
   "execution_count": null,
   "metadata": {
    "collapsed": true
   },
   "outputs": [],
   "source": []
  },
  {
   "cell_type": "code",
   "execution_count": null,
   "metadata": {
    "collapsed": true
   },
   "outputs": [],
   "source": []
  },
  {
   "cell_type": "code",
   "execution_count": null,
   "metadata": {
    "collapsed": true
   },
   "outputs": [],
   "source": []
  },
  {
   "cell_type": "code",
   "execution_count": 26,
   "metadata": {
    "collapsed": false
   },
   "outputs": [
    {
     "ename": "NameError",
     "evalue": "name 'vectorizer' is not defined",
     "output_type": "error",
     "traceback": [
      "\u001b[1;31m---------------------------------------------------------------------------\u001b[0m",
      "\u001b[1;31mNameError\u001b[0m                                 Traceback (most recent call last)",
      "\u001b[1;32m<ipython-input-26-147f366843f1>\u001b[0m in \u001b[0;36m<module>\u001b[1;34m()\u001b[0m\n\u001b[0;32m      1\u001b[0m \u001b[1;31m# mapping from integer feature name to original token string\u001b[0m\u001b[1;33m\u001b[0m\u001b[1;33m\u001b[0m\u001b[0m\n\u001b[1;32m----> 2\u001b[1;33m \u001b[0mfeature_names\u001b[0m \u001b[1;33m=\u001b[0m \u001b[0mvectorizer\u001b[0m\u001b[1;33m.\u001b[0m\u001b[0mget_feature_names\u001b[0m\u001b[1;33m(\u001b[0m\u001b[1;33m)\u001b[0m\u001b[1;33m\u001b[0m\u001b[0m\n\u001b[0m\u001b[0;32m      3\u001b[0m \u001b[0mopts_select_chi2\u001b[0m \u001b[1;33m=\u001b[0m \u001b[1;36m50\u001b[0m\u001b[1;33m\u001b[0m\u001b[0m\n\u001b[0;32m      4\u001b[0m \u001b[1;33m\u001b[0m\u001b[0m\n\u001b[0;32m      5\u001b[0m print(\"Extracting %d best features by a chi-squared test\" %\n",
      "\u001b[1;31mNameError\u001b[0m: name 'vectorizer' is not defined"
     ]
    }
   ],
   "source": [
    "# split a training set and a test set\n",
    "y_train = train_labels\n",
    "y_test = test_labels\n",
    "\n",
    "print(\"Extracting features from the training data using a sparse vectorizer\")\n",
    "t0 = time()\n",
    "vectorizer = TfidfVectorizer(sublinear_tf=True, max_df=0.5,\n",
    "                             stop_words='english')\n",
    "X_train = vectorizer.fit_transform(data_train.sentence.tolist())\n",
    "duration = time() - t0\n",
    "print(\"done in %fs at %0.3fMB/s\" % (duration, data_train_size_mb / duration))\n",
    "print(\"n_samples: %d, n_features: %d\" % X_train.shape)\n",
    "print()\n",
    "\n",
    "print(\"Extracting features from the test data using the same vectorizer\")\n",
    "t0 = time()\n",
    "X_test = vectorizer.transform(data_test.sentence.tolist())\n",
    "duration = time() - t0\n",
    "print(\"done in %fs at %0.3fMB/s\" % (duration, data_test_size_mb / duration))\n",
    "print(\"n_samples: %d, n_features: %d\" % X_test.shape)\n",
    "print()\n",
    "\n",
    "# mapping from integer feature name to original token string\n",
    "feature_names = vectorizer.get_feature_names()\n",
    "opts_select_chi2 = 50\n",
    "\n",
    "print(\"Extracting %d best features by a chi-squared test\" %\n",
    "      opts_select_chi2)\n",
    "ch2 = SelectKBest(chi2, k=opts_select_chi2)\n",
    "X_train2 = ch2.fit_transform(X_train, y_train)\n",
    "X_test2 = ch2.transform(X_test)\n",
    "if feature_names:\n",
    "    # keep selected feature names\n",
    "    feature_names = [feature_names[i] for i\n",
    "                     in ch2.get_support(indices=True)]\n",
    "print()\n",
    "\n",
    "feature_names = np.asarray(feature_names)"
   ]
  },
  {
   "cell_type": "code",
   "execution_count": 23,
   "metadata": {
    "collapsed": false
   },
   "outputs": [],
   "source": [
    "# feature_names"
   ]
  },
  {
   "cell_type": "code",
   "execution_count": null,
   "metadata": {
    "collapsed": true
   },
   "outputs": [],
   "source": []
  },
  {
   "cell_type": "code",
   "execution_count": null,
   "metadata": {
    "collapsed": true
   },
   "outputs": [],
   "source": []
  },
  {
   "cell_type": "code",
   "execution_count": null,
   "metadata": {
    "collapsed": true
   },
   "outputs": [],
   "source": []
  }
 ],
 "metadata": {
  "kernelspec": {
   "display_name": "Python 3",
   "language": "python",
   "name": "python3"
  },
  "language_info": {
   "codemirror_mode": {
    "name": "ipython",
    "version": 3
   },
   "file_extension": ".py",
   "mimetype": "text/x-python",
   "name": "python",
   "nbconvert_exporter": "python",
   "pygments_lexer": "ipython3",
   "version": "3.4.3"
  }
 },
 "nbformat": 4,
 "nbformat_minor": 0
}
