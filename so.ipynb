{
 "cells": [
  {
   "cell_type": "code",
   "execution_count": 1,
   "metadata": {
    "collapsed": false
   },
   "outputs": [],
   "source": [
    "import json\n",
    "import pickle\n",
    "from time import time\n",
    "\n",
    "import numpy as np\n",
    "import pandas as pd\n",
    "from sklearn import metrics\n",
    "from sklearn.cross_validation import StratifiedKFold, train_test_split\n",
    "from sklearn.ensemble import RandomForestClassifier\n",
    "from sklearn.feature_extraction.text import CountVectorizer, TfidfTransformer\n",
    "from sklearn.feature_selection import SelectKBest, chi2\n",
    "from sklearn.grid_search import GridSearchCV\n",
    "from sklearn.linear_model import PassiveAggressiveClassifier, Perceptron, RidgeClassifier, SGDClassifier\n",
    "from sklearn.naive_bayes import BernoulliNB, MultinomialNB\n",
    "from sklearn.neighbors import KNeighborsClassifier, NearestCentroid\n",
    "from sklearn.pipeline import Pipeline\n",
    "from sklearn.svm import LinearSVC\n",
    "# Classifiers obtained from http://scikit-learn.org/stable/auto_examples/text/document_classification_20newsgroups.html"
   ]
  },
  {
   "cell_type": "markdown",
   "metadata": {
    "collapsed": true
   },
   "source": [
    "# Original data"
   ]
  },
  {
   "cell_type": "code",
   "execution_count": 2,
   "metadata": {
    "collapsed": false
   },
   "outputs": [],
   "source": [
    "qas_df = pd.read_csv('data/qas.csv')"
   ]
  },
  {
   "cell_type": "code",
   "execution_count": 3,
   "metadata": {
    "collapsed": true
   },
   "outputs": [],
   "source": [
    "columns = ['Unnamed: 0', 'text', 'id']\n",
    "qa_df = qas_df.drop(columns, axis=1)"
   ]
  },
  {
   "cell_type": "code",
   "execution_count": 4,
   "metadata": {
    "collapsed": false
   },
   "outputs": [
    {
     "data": {
      "text/plain": [
       "27233"
      ]
     },
     "execution_count": 4,
     "metadata": {},
     "output_type": "execute_result"
    }
   ],
   "source": [
    "len(qa_df[qa_df.accepted==True])"
   ]
  },
  {
   "cell_type": "code",
   "execution_count": 5,
   "metadata": {
    "collapsed": false
   },
   "outputs": [
    {
     "data": {
      "text/plain": [
       "45614"
      ]
     },
     "execution_count": 5,
     "metadata": {},
     "output_type": "execute_result"
    }
   ],
   "source": [
    "len(qa_df[qa_df.accepted==False])"
   ]
  },
  {
   "cell_type": "code",
   "execution_count": 6,
   "metadata": {
    "collapsed": false
   },
   "outputs": [
    {
     "data": {
      "text/html": [
       "<div>\n",
       "<table border=\"1\" class=\"dataframe\">\n",
       "  <thead>\n",
       "    <tr style=\"text-align: right;\">\n",
       "      <th></th>\n",
       "      <th>score_q</th>\n",
       "      <th>view_count</th>\n",
       "      <th>answer_count</th>\n",
       "      <th>comment_count_q</th>\n",
       "      <th>code_line_count_q</th>\n",
       "      <th>reputation_q</th>\n",
       "      <th>comment_count_a</th>\n",
       "      <th>code_line_count_a</th>\n",
       "      <th>score_a</th>\n",
       "      <th>accepted</th>\n",
       "      <th>reputation_a</th>\n",
       "      <th>percent_answered_questions_q</th>\n",
       "      <th>percent_accepted_answers_a</th>\n",
       "    </tr>\n",
       "  </thead>\n",
       "  <tbody>\n",
       "    <tr>\n",
       "      <th>0</th>\n",
       "      <td>3.0</td>\n",
       "      <td>177.0</td>\n",
       "      <td>1.0</td>\n",
       "      <td>3.0</td>\n",
       "      <td>0.0</td>\n",
       "      <td>16.0</td>\n",
       "      <td>4.0</td>\n",
       "      <td>3.0</td>\n",
       "      <td>0.0</td>\n",
       "      <td>False</td>\n",
       "      <td>947.0</td>\n",
       "      <td>0.0</td>\n",
       "      <td>15.0</td>\n",
       "    </tr>\n",
       "    <tr>\n",
       "      <th>1</th>\n",
       "      <td>0.0</td>\n",
       "      <td>44.0</td>\n",
       "      <td>1.0</td>\n",
       "      <td>0.0</td>\n",
       "      <td>7.0</td>\n",
       "      <td>42.0</td>\n",
       "      <td>0.0</td>\n",
       "      <td>3.0</td>\n",
       "      <td>0.0</td>\n",
       "      <td>False</td>\n",
       "      <td>11986.0</td>\n",
       "      <td>0.0</td>\n",
       "      <td>50.0</td>\n",
       "    </tr>\n",
       "    <tr>\n",
       "      <th>2</th>\n",
       "      <td>1.0</td>\n",
       "      <td>127.0</td>\n",
       "      <td>1.0</td>\n",
       "      <td>0.0</td>\n",
       "      <td>0.0</td>\n",
       "      <td>28.0</td>\n",
       "      <td>0.0</td>\n",
       "      <td>0.0</td>\n",
       "      <td>0.0</td>\n",
       "      <td>False</td>\n",
       "      <td>6920.0</td>\n",
       "      <td>0.0</td>\n",
       "      <td>33.0</td>\n",
       "    </tr>\n",
       "    <tr>\n",
       "      <th>3</th>\n",
       "      <td>2.0</td>\n",
       "      <td>68.0</td>\n",
       "      <td>2.0</td>\n",
       "      <td>0.0</td>\n",
       "      <td>2.0</td>\n",
       "      <td>28.0</td>\n",
       "      <td>0.0</td>\n",
       "      <td>0.0</td>\n",
       "      <td>1.0</td>\n",
       "      <td>False</td>\n",
       "      <td>1055.0</td>\n",
       "      <td>0.0</td>\n",
       "      <td>40.0</td>\n",
       "    </tr>\n",
       "    <tr>\n",
       "      <th>4</th>\n",
       "      <td>2.0</td>\n",
       "      <td>68.0</td>\n",
       "      <td>2.0</td>\n",
       "      <td>0.0</td>\n",
       "      <td>2.0</td>\n",
       "      <td>28.0</td>\n",
       "      <td>1.0</td>\n",
       "      <td>0.0</td>\n",
       "      <td>0.0</td>\n",
       "      <td>False</td>\n",
       "      <td>21855.0</td>\n",
       "      <td>0.0</td>\n",
       "      <td>33.0</td>\n",
       "    </tr>\n",
       "  </tbody>\n",
       "</table>\n",
       "</div>"
      ],
      "text/plain": [
       "   score_q  view_count  answer_count  comment_count_q  code_line_count_q  \\\n",
       "0      3.0       177.0           1.0              3.0                0.0   \n",
       "1      0.0        44.0           1.0              0.0                7.0   \n",
       "2      1.0       127.0           1.0              0.0                0.0   \n",
       "3      2.0        68.0           2.0              0.0                2.0   \n",
       "4      2.0        68.0           2.0              0.0                2.0   \n",
       "\n",
       "   reputation_q  comment_count_a  code_line_count_a  score_a accepted  \\\n",
       "0          16.0              4.0                3.0      0.0    False   \n",
       "1          42.0              0.0                3.0      0.0    False   \n",
       "2          28.0              0.0                0.0      0.0    False   \n",
       "3          28.0              0.0                0.0      1.0    False   \n",
       "4          28.0              1.0                0.0      0.0    False   \n",
       "\n",
       "   reputation_a  percent_answered_questions_q  percent_accepted_answers_a  \n",
       "0         947.0                           0.0                        15.0  \n",
       "1       11986.0                           0.0                        50.0  \n",
       "2        6920.0                           0.0                        33.0  \n",
       "3        1055.0                           0.0                        40.0  \n",
       "4       21855.0                           0.0                        33.0  "
      ]
     },
     "execution_count": 6,
     "metadata": {},
     "output_type": "execute_result"
    }
   ],
   "source": [
    "qa_df.head()"
   ]
  },
  {
   "cell_type": "code",
   "execution_count": 7,
   "metadata": {
    "collapsed": false
   },
   "outputs": [],
   "source": [
    "qa_df = qa_df.reindex(np.random.permutation(qa_df.index))"
   ]
  },
  {
   "cell_type": "code",
   "execution_count": 8,
   "metadata": {
    "collapsed": false
   },
   "outputs": [
    {
     "data": {
      "text/html": [
       "<div>\n",
       "<table border=\"1\" class=\"dataframe\">\n",
       "  <thead>\n",
       "    <tr style=\"text-align: right;\">\n",
       "      <th></th>\n",
       "      <th>score_q</th>\n",
       "      <th>view_count</th>\n",
       "      <th>answer_count</th>\n",
       "      <th>comment_count_q</th>\n",
       "      <th>code_line_count_q</th>\n",
       "      <th>reputation_q</th>\n",
       "      <th>comment_count_a</th>\n",
       "      <th>code_line_count_a</th>\n",
       "      <th>score_a</th>\n",
       "      <th>accepted</th>\n",
       "      <th>reputation_a</th>\n",
       "      <th>percent_answered_questions_q</th>\n",
       "      <th>percent_accepted_answers_a</th>\n",
       "    </tr>\n",
       "  </thead>\n",
       "  <tbody>\n",
       "    <tr>\n",
       "      <th>72752</th>\n",
       "      <td>1.0</td>\n",
       "      <td>164.0</td>\n",
       "      <td>2.0</td>\n",
       "      <td>2.0</td>\n",
       "      <td>416.0</td>\n",
       "      <td>6.0</td>\n",
       "      <td>2.0</td>\n",
       "      <td>0.0</td>\n",
       "      <td>3.0</td>\n",
       "      <td>False</td>\n",
       "      <td>394.0</td>\n",
       "      <td>0.0</td>\n",
       "      <td>0.0</td>\n",
       "    </tr>\n",
       "    <tr>\n",
       "      <th>54362</th>\n",
       "      <td>1.0</td>\n",
       "      <td>66.0</td>\n",
       "      <td>3.0</td>\n",
       "      <td>0.0</td>\n",
       "      <td>1.0</td>\n",
       "      <td>24.0</td>\n",
       "      <td>0.0</td>\n",
       "      <td>9.0</td>\n",
       "      <td>3.0</td>\n",
       "      <td>True</td>\n",
       "      <td>122745.0</td>\n",
       "      <td>100.0</td>\n",
       "      <td>46.0</td>\n",
       "    </tr>\n",
       "    <tr>\n",
       "      <th>4819</th>\n",
       "      <td>0.0</td>\n",
       "      <td>36.0</td>\n",
       "      <td>2.0</td>\n",
       "      <td>2.0</td>\n",
       "      <td>31.0</td>\n",
       "      <td>15.0</td>\n",
       "      <td>0.0</td>\n",
       "      <td>6.0</td>\n",
       "      <td>1.0</td>\n",
       "      <td>False</td>\n",
       "      <td>1319.0</td>\n",
       "      <td>100.0</td>\n",
       "      <td>60.0</td>\n",
       "    </tr>\n",
       "    <tr>\n",
       "      <th>29301</th>\n",
       "      <td>9.0</td>\n",
       "      <td>447.0</td>\n",
       "      <td>2.0</td>\n",
       "      <td>9.0</td>\n",
       "      <td>19.0</td>\n",
       "      <td>1331.0</td>\n",
       "      <td>4.0</td>\n",
       "      <td>15.0</td>\n",
       "      <td>1.0</td>\n",
       "      <td>False</td>\n",
       "      <td>37198.0</td>\n",
       "      <td>50.0</td>\n",
       "      <td>40.0</td>\n",
       "    </tr>\n",
       "    <tr>\n",
       "      <th>34362</th>\n",
       "      <td>1.0</td>\n",
       "      <td>239.0</td>\n",
       "      <td>1.0</td>\n",
       "      <td>1.0</td>\n",
       "      <td>46.0</td>\n",
       "      <td>34.0</td>\n",
       "      <td>7.0</td>\n",
       "      <td>0.0</td>\n",
       "      <td>1.0</td>\n",
       "      <td>False</td>\n",
       "      <td>49112.0</td>\n",
       "      <td>0.0</td>\n",
       "      <td>39.0</td>\n",
       "    </tr>\n",
       "  </tbody>\n",
       "</table>\n",
       "</div>"
      ],
      "text/plain": [
       "       score_q  view_count  answer_count  comment_count_q  code_line_count_q  \\\n",
       "72752      1.0       164.0           2.0              2.0              416.0   \n",
       "54362      1.0        66.0           3.0              0.0                1.0   \n",
       "4819       0.0        36.0           2.0              2.0               31.0   \n",
       "29301      9.0       447.0           2.0              9.0               19.0   \n",
       "34362      1.0       239.0           1.0              1.0               46.0   \n",
       "\n",
       "       reputation_q  comment_count_a  code_line_count_a  score_a accepted  \\\n",
       "72752           6.0              2.0                0.0      3.0    False   \n",
       "54362          24.0              0.0                9.0      3.0     True   \n",
       "4819           15.0              0.0                6.0      1.0    False   \n",
       "29301        1331.0              4.0               15.0      1.0    False   \n",
       "34362          34.0              7.0                0.0      1.0    False   \n",
       "\n",
       "       reputation_a  percent_answered_questions_q  percent_accepted_answers_a  \n",
       "72752         394.0                           0.0                         0.0  \n",
       "54362      122745.0                         100.0                        46.0  \n",
       "4819         1319.0                         100.0                        60.0  \n",
       "29301       37198.0                          50.0                        40.0  \n",
       "34362       49112.0                           0.0                        39.0  "
      ]
     },
     "execution_count": 8,
     "metadata": {},
     "output_type": "execute_result"
    }
   ],
   "source": [
    "qa_df.head()"
   ]
  },
  {
   "cell_type": "code",
   "execution_count": 9,
   "metadata": {
    "collapsed": false
   },
   "outputs": [
    {
     "data": {
      "text/plain": [
       "(72847, 13)"
      ]
     },
     "execution_count": 9,
     "metadata": {},
     "output_type": "execute_result"
    }
   ],
   "source": [
    "qa_df.shape"
   ]
  },
  {
   "cell_type": "markdown",
   "metadata": {
    "collapsed": true
   },
   "source": [
    "# Feature selection"
   ]
  },
  {
   "cell_type": "code",
   "execution_count": 10,
   "metadata": {
    "collapsed": true
   },
   "outputs": [],
   "source": [
    "from sklearn.feature_selection import chi2\n",
    "from sklearn.feature_selection import SelectKBest\n",
    "from sklearn.feature_selection import VarianceThreshold"
   ]
  },
  {
   "cell_type": "code",
   "execution_count": 11,
   "metadata": {
    "collapsed": false
   },
   "outputs": [],
   "source": [
    "X = qa_df.drop('accepted', axis=1)\n",
    "y = qa_df['accepted']"
   ]
  },
  {
   "cell_type": "code",
   "execution_count": 12,
   "metadata": {
    "collapsed": false
   },
   "outputs": [
    {
     "data": {
      "text/plain": [
       "False    45614\n",
       "True     27233\n",
       "Name: accepted, dtype: int64"
      ]
     },
     "execution_count": 12,
     "metadata": {},
     "output_type": "execute_result"
    }
   ],
   "source": [
    "y.value_counts()"
   ]
  },
  {
   "cell_type": "code",
   "execution_count": 13,
   "metadata": {
    "collapsed": false
   },
   "outputs": [
    {
     "data": {
      "text/html": [
       "<div>\n",
       "<table border=\"1\" class=\"dataframe\">\n",
       "  <thead>\n",
       "    <tr style=\"text-align: right;\">\n",
       "      <th></th>\n",
       "      <th>score_q</th>\n",
       "      <th>view_count</th>\n",
       "      <th>answer_count</th>\n",
       "      <th>comment_count_q</th>\n",
       "      <th>code_line_count_q</th>\n",
       "      <th>reputation_q</th>\n",
       "      <th>comment_count_a</th>\n",
       "      <th>code_line_count_a</th>\n",
       "      <th>score_a</th>\n",
       "      <th>reputation_a</th>\n",
       "      <th>percent_answered_questions_q</th>\n",
       "      <th>percent_accepted_answers_a</th>\n",
       "    </tr>\n",
       "  </thead>\n",
       "  <tbody>\n",
       "    <tr>\n",
       "      <th>72752</th>\n",
       "      <td>1.0</td>\n",
       "      <td>164.0</td>\n",
       "      <td>2.0</td>\n",
       "      <td>2.0</td>\n",
       "      <td>416.0</td>\n",
       "      <td>6.0</td>\n",
       "      <td>2.0</td>\n",
       "      <td>0.0</td>\n",
       "      <td>3.0</td>\n",
       "      <td>394.0</td>\n",
       "      <td>0.0</td>\n",
       "      <td>0.0</td>\n",
       "    </tr>\n",
       "    <tr>\n",
       "      <th>54362</th>\n",
       "      <td>1.0</td>\n",
       "      <td>66.0</td>\n",
       "      <td>3.0</td>\n",
       "      <td>0.0</td>\n",
       "      <td>1.0</td>\n",
       "      <td>24.0</td>\n",
       "      <td>0.0</td>\n",
       "      <td>9.0</td>\n",
       "      <td>3.0</td>\n",
       "      <td>122745.0</td>\n",
       "      <td>100.0</td>\n",
       "      <td>46.0</td>\n",
       "    </tr>\n",
       "    <tr>\n",
       "      <th>4819</th>\n",
       "      <td>0.0</td>\n",
       "      <td>36.0</td>\n",
       "      <td>2.0</td>\n",
       "      <td>2.0</td>\n",
       "      <td>31.0</td>\n",
       "      <td>15.0</td>\n",
       "      <td>0.0</td>\n",
       "      <td>6.0</td>\n",
       "      <td>1.0</td>\n",
       "      <td>1319.0</td>\n",
       "      <td>100.0</td>\n",
       "      <td>60.0</td>\n",
       "    </tr>\n",
       "    <tr>\n",
       "      <th>29301</th>\n",
       "      <td>9.0</td>\n",
       "      <td>447.0</td>\n",
       "      <td>2.0</td>\n",
       "      <td>9.0</td>\n",
       "      <td>19.0</td>\n",
       "      <td>1331.0</td>\n",
       "      <td>4.0</td>\n",
       "      <td>15.0</td>\n",
       "      <td>1.0</td>\n",
       "      <td>37198.0</td>\n",
       "      <td>50.0</td>\n",
       "      <td>40.0</td>\n",
       "    </tr>\n",
       "    <tr>\n",
       "      <th>34362</th>\n",
       "      <td>1.0</td>\n",
       "      <td>239.0</td>\n",
       "      <td>1.0</td>\n",
       "      <td>1.0</td>\n",
       "      <td>46.0</td>\n",
       "      <td>34.0</td>\n",
       "      <td>7.0</td>\n",
       "      <td>0.0</td>\n",
       "      <td>1.0</td>\n",
       "      <td>49112.0</td>\n",
       "      <td>0.0</td>\n",
       "      <td>39.0</td>\n",
       "    </tr>\n",
       "  </tbody>\n",
       "</table>\n",
       "</div>"
      ],
      "text/plain": [
       "       score_q  view_count  answer_count  comment_count_q  code_line_count_q  \\\n",
       "72752      1.0       164.0           2.0              2.0              416.0   \n",
       "54362      1.0        66.0           3.0              0.0                1.0   \n",
       "4819       0.0        36.0           2.0              2.0               31.0   \n",
       "29301      9.0       447.0           2.0              9.0               19.0   \n",
       "34362      1.0       239.0           1.0              1.0               46.0   \n",
       "\n",
       "       reputation_q  comment_count_a  code_line_count_a  score_a  \\\n",
       "72752           6.0              2.0                0.0      3.0   \n",
       "54362          24.0              0.0                9.0      3.0   \n",
       "4819           15.0              0.0                6.0      1.0   \n",
       "29301        1331.0              4.0               15.0      1.0   \n",
       "34362          34.0              7.0                0.0      1.0   \n",
       "\n",
       "       reputation_a  percent_answered_questions_q  percent_accepted_answers_a  \n",
       "72752         394.0                           0.0                         0.0  \n",
       "54362      122745.0                         100.0                        46.0  \n",
       "4819         1319.0                         100.0                        60.0  \n",
       "29301       37198.0                          50.0                        40.0  \n",
       "34362       49112.0                           0.0                        39.0  "
      ]
     },
     "execution_count": 13,
     "metadata": {},
     "output_type": "execute_result"
    }
   ],
   "source": [
    "X.head()"
   ]
  },
  {
   "cell_type": "code",
   "execution_count": 14,
   "metadata": {
    "collapsed": false
   },
   "outputs": [
    {
     "data": {
      "text/plain": [
       "(72847, 12)"
      ]
     },
     "execution_count": 14,
     "metadata": {},
     "output_type": "execute_result"
    }
   ],
   "source": [
    "X.shape"
   ]
  },
  {
   "cell_type": "code",
   "execution_count": 15,
   "metadata": {
    "collapsed": false
   },
   "outputs": [
    {
     "data": {
      "text/plain": [
       "72752    False\n",
       "54362     True\n",
       "4819     False\n",
       "29301    False\n",
       "34362    False\n",
       "Name: accepted, dtype: bool"
      ]
     },
     "execution_count": 15,
     "metadata": {},
     "output_type": "execute_result"
    }
   ],
   "source": [
    "y.head()"
   ]
  },
  {
   "cell_type": "code",
   "execution_count": 16,
   "metadata": {
    "collapsed": false
   },
   "outputs": [
    {
     "data": {
      "text/plain": [
       "(72847,)"
      ]
     },
     "execution_count": 16,
     "metadata": {},
     "output_type": "execute_result"
    }
   ],
   "source": [
    "y.shape"
   ]
  },
  {
   "cell_type": "code",
   "execution_count": 17,
   "metadata": {
    "collapsed": false
   },
   "outputs": [],
   "source": [
    "sel = VarianceThreshold(threshold=(.8 * (1 - .8)))\n",
    "X_inv = sel.fit_transform(X)\n",
    "X_inv = pd.DataFrame(X_inv, index=X.index, columns=X.columns)"
   ]
  },
  {
   "cell_type": "code",
   "execution_count": 18,
   "metadata": {
    "collapsed": false
   },
   "outputs": [
    {
     "data": {
      "text/html": [
       "<div>\n",
       "<table border=\"1\" class=\"dataframe\">\n",
       "  <thead>\n",
       "    <tr style=\"text-align: right;\">\n",
       "      <th></th>\n",
       "      <th>score_q</th>\n",
       "      <th>view_count</th>\n",
       "      <th>answer_count</th>\n",
       "      <th>comment_count_q</th>\n",
       "      <th>code_line_count_q</th>\n",
       "      <th>reputation_q</th>\n",
       "      <th>comment_count_a</th>\n",
       "      <th>code_line_count_a</th>\n",
       "      <th>score_a</th>\n",
       "      <th>reputation_a</th>\n",
       "      <th>percent_answered_questions_q</th>\n",
       "      <th>percent_accepted_answers_a</th>\n",
       "    </tr>\n",
       "  </thead>\n",
       "  <tbody>\n",
       "    <tr>\n",
       "      <th>72752</th>\n",
       "      <td>1.0</td>\n",
       "      <td>164.0</td>\n",
       "      <td>2.0</td>\n",
       "      <td>2.0</td>\n",
       "      <td>416.0</td>\n",
       "      <td>6.0</td>\n",
       "      <td>2.0</td>\n",
       "      <td>0.0</td>\n",
       "      <td>3.0</td>\n",
       "      <td>394.0</td>\n",
       "      <td>0.0</td>\n",
       "      <td>0.0</td>\n",
       "    </tr>\n",
       "    <tr>\n",
       "      <th>54362</th>\n",
       "      <td>1.0</td>\n",
       "      <td>66.0</td>\n",
       "      <td>3.0</td>\n",
       "      <td>0.0</td>\n",
       "      <td>1.0</td>\n",
       "      <td>24.0</td>\n",
       "      <td>0.0</td>\n",
       "      <td>9.0</td>\n",
       "      <td>3.0</td>\n",
       "      <td>122745.0</td>\n",
       "      <td>100.0</td>\n",
       "      <td>46.0</td>\n",
       "    </tr>\n",
       "    <tr>\n",
       "      <th>4819</th>\n",
       "      <td>0.0</td>\n",
       "      <td>36.0</td>\n",
       "      <td>2.0</td>\n",
       "      <td>2.0</td>\n",
       "      <td>31.0</td>\n",
       "      <td>15.0</td>\n",
       "      <td>0.0</td>\n",
       "      <td>6.0</td>\n",
       "      <td>1.0</td>\n",
       "      <td>1319.0</td>\n",
       "      <td>100.0</td>\n",
       "      <td>60.0</td>\n",
       "    </tr>\n",
       "    <tr>\n",
       "      <th>29301</th>\n",
       "      <td>9.0</td>\n",
       "      <td>447.0</td>\n",
       "      <td>2.0</td>\n",
       "      <td>9.0</td>\n",
       "      <td>19.0</td>\n",
       "      <td>1331.0</td>\n",
       "      <td>4.0</td>\n",
       "      <td>15.0</td>\n",
       "      <td>1.0</td>\n",
       "      <td>37198.0</td>\n",
       "      <td>50.0</td>\n",
       "      <td>40.0</td>\n",
       "    </tr>\n",
       "    <tr>\n",
       "      <th>34362</th>\n",
       "      <td>1.0</td>\n",
       "      <td>239.0</td>\n",
       "      <td>1.0</td>\n",
       "      <td>1.0</td>\n",
       "      <td>46.0</td>\n",
       "      <td>34.0</td>\n",
       "      <td>7.0</td>\n",
       "      <td>0.0</td>\n",
       "      <td>1.0</td>\n",
       "      <td>49112.0</td>\n",
       "      <td>0.0</td>\n",
       "      <td>39.0</td>\n",
       "    </tr>\n",
       "  </tbody>\n",
       "</table>\n",
       "</div>"
      ],
      "text/plain": [
       "       score_q  view_count  answer_count  comment_count_q  code_line_count_q  \\\n",
       "72752      1.0       164.0           2.0              2.0              416.0   \n",
       "54362      1.0        66.0           3.0              0.0                1.0   \n",
       "4819       0.0        36.0           2.0              2.0               31.0   \n",
       "29301      9.0       447.0           2.0              9.0               19.0   \n",
       "34362      1.0       239.0           1.0              1.0               46.0   \n",
       "\n",
       "       reputation_q  comment_count_a  code_line_count_a  score_a  \\\n",
       "72752           6.0              2.0                0.0      3.0   \n",
       "54362          24.0              0.0                9.0      3.0   \n",
       "4819           15.0              0.0                6.0      1.0   \n",
       "29301        1331.0              4.0               15.0      1.0   \n",
       "34362          34.0              7.0                0.0      1.0   \n",
       "\n",
       "       reputation_a  percent_answered_questions_q  percent_accepted_answers_a  \n",
       "72752         394.0                           0.0                         0.0  \n",
       "54362      122745.0                         100.0                        46.0  \n",
       "4819         1319.0                         100.0                        60.0  \n",
       "29301       37198.0                          50.0                        40.0  \n",
       "34362       49112.0                           0.0                        39.0  "
      ]
     },
     "execution_count": 18,
     "metadata": {},
     "output_type": "execute_result"
    }
   ],
   "source": [
    "X_inv.head()"
   ]
  },
  {
   "cell_type": "code",
   "execution_count": 19,
   "metadata": {
    "collapsed": false
   },
   "outputs": [
    {
     "data": {
      "text/plain": [
       "(72847, 12)"
      ]
     },
     "execution_count": 19,
     "metadata": {},
     "output_type": "execute_result"
    }
   ],
   "source": [
    "X_inv.shape"
   ]
  },
  {
   "cell_type": "code",
   "execution_count": 20,
   "metadata": {
    "collapsed": false
   },
   "outputs": [],
   "source": [
    "y_inv = y[X_inv.index]"
   ]
  },
  {
   "cell_type": "code",
   "execution_count": 21,
   "metadata": {
    "collapsed": false
   },
   "outputs": [
    {
     "data": {
      "text/plain": [
       "72752    False\n",
       "54362     True\n",
       "4819     False\n",
       "29301    False\n",
       "34362    False\n",
       "Name: accepted, dtype: bool"
      ]
     },
     "execution_count": 21,
     "metadata": {},
     "output_type": "execute_result"
    }
   ],
   "source": [
    "y_inv.head()"
   ]
  },
  {
   "cell_type": "code",
   "execution_count": 22,
   "metadata": {
    "collapsed": false
   },
   "outputs": [
    {
     "data": {
      "text/plain": [
       "(72847,)"
      ]
     },
     "execution_count": 22,
     "metadata": {},
     "output_type": "execute_result"
    }
   ],
   "source": [
    "y_inv.shape"
   ]
  },
  {
   "cell_type": "code",
   "execution_count": 23,
   "metadata": {
    "collapsed": false
   },
   "outputs": [],
   "source": [
    "X_pos = X_inv\n",
    "for c in X.columns:\n",
    "    X_pos = X_pos[X_pos[c] >= 0]"
   ]
  },
  {
   "cell_type": "code",
   "execution_count": 24,
   "metadata": {
    "collapsed": false
   },
   "outputs": [
    {
     "data": {
      "text/plain": [
       "(65517, 12)"
      ]
     },
     "execution_count": 24,
     "metadata": {},
     "output_type": "execute_result"
    }
   ],
   "source": [
    "X_pos.shape"
   ]
  },
  {
   "cell_type": "code",
   "execution_count": 25,
   "metadata": {
    "collapsed": false
   },
   "outputs": [
    {
     "data": {
      "text/html": [
       "<div>\n",
       "<table border=\"1\" class=\"dataframe\">\n",
       "  <thead>\n",
       "    <tr style=\"text-align: right;\">\n",
       "      <th></th>\n",
       "      <th>score_q</th>\n",
       "      <th>view_count</th>\n",
       "      <th>answer_count</th>\n",
       "      <th>comment_count_q</th>\n",
       "      <th>code_line_count_q</th>\n",
       "      <th>reputation_q</th>\n",
       "      <th>comment_count_a</th>\n",
       "      <th>code_line_count_a</th>\n",
       "      <th>score_a</th>\n",
       "      <th>reputation_a</th>\n",
       "      <th>percent_answered_questions_q</th>\n",
       "      <th>percent_accepted_answers_a</th>\n",
       "    </tr>\n",
       "  </thead>\n",
       "  <tbody>\n",
       "    <tr>\n",
       "      <th>72752</th>\n",
       "      <td>1.0</td>\n",
       "      <td>164.0</td>\n",
       "      <td>2.0</td>\n",
       "      <td>2.0</td>\n",
       "      <td>416.0</td>\n",
       "      <td>6.0</td>\n",
       "      <td>2.0</td>\n",
       "      <td>0.0</td>\n",
       "      <td>3.0</td>\n",
       "      <td>394.0</td>\n",
       "      <td>0.0</td>\n",
       "      <td>0.0</td>\n",
       "    </tr>\n",
       "    <tr>\n",
       "      <th>54362</th>\n",
       "      <td>1.0</td>\n",
       "      <td>66.0</td>\n",
       "      <td>3.0</td>\n",
       "      <td>0.0</td>\n",
       "      <td>1.0</td>\n",
       "      <td>24.0</td>\n",
       "      <td>0.0</td>\n",
       "      <td>9.0</td>\n",
       "      <td>3.0</td>\n",
       "      <td>122745.0</td>\n",
       "      <td>100.0</td>\n",
       "      <td>46.0</td>\n",
       "    </tr>\n",
       "    <tr>\n",
       "      <th>4819</th>\n",
       "      <td>0.0</td>\n",
       "      <td>36.0</td>\n",
       "      <td>2.0</td>\n",
       "      <td>2.0</td>\n",
       "      <td>31.0</td>\n",
       "      <td>15.0</td>\n",
       "      <td>0.0</td>\n",
       "      <td>6.0</td>\n",
       "      <td>1.0</td>\n",
       "      <td>1319.0</td>\n",
       "      <td>100.0</td>\n",
       "      <td>60.0</td>\n",
       "    </tr>\n",
       "    <tr>\n",
       "      <th>29301</th>\n",
       "      <td>9.0</td>\n",
       "      <td>447.0</td>\n",
       "      <td>2.0</td>\n",
       "      <td>9.0</td>\n",
       "      <td>19.0</td>\n",
       "      <td>1331.0</td>\n",
       "      <td>4.0</td>\n",
       "      <td>15.0</td>\n",
       "      <td>1.0</td>\n",
       "      <td>37198.0</td>\n",
       "      <td>50.0</td>\n",
       "      <td>40.0</td>\n",
       "    </tr>\n",
       "    <tr>\n",
       "      <th>34362</th>\n",
       "      <td>1.0</td>\n",
       "      <td>239.0</td>\n",
       "      <td>1.0</td>\n",
       "      <td>1.0</td>\n",
       "      <td>46.0</td>\n",
       "      <td>34.0</td>\n",
       "      <td>7.0</td>\n",
       "      <td>0.0</td>\n",
       "      <td>1.0</td>\n",
       "      <td>49112.0</td>\n",
       "      <td>0.0</td>\n",
       "      <td>39.0</td>\n",
       "    </tr>\n",
       "  </tbody>\n",
       "</table>\n",
       "</div>"
      ],
      "text/plain": [
       "       score_q  view_count  answer_count  comment_count_q  code_line_count_q  \\\n",
       "72752      1.0       164.0           2.0              2.0              416.0   \n",
       "54362      1.0        66.0           3.0              0.0                1.0   \n",
       "4819       0.0        36.0           2.0              2.0               31.0   \n",
       "29301      9.0       447.0           2.0              9.0               19.0   \n",
       "34362      1.0       239.0           1.0              1.0               46.0   \n",
       "\n",
       "       reputation_q  comment_count_a  code_line_count_a  score_a  \\\n",
       "72752           6.0              2.0                0.0      3.0   \n",
       "54362          24.0              0.0                9.0      3.0   \n",
       "4819           15.0              0.0                6.0      1.0   \n",
       "29301        1331.0              4.0               15.0      1.0   \n",
       "34362          34.0              7.0                0.0      1.0   \n",
       "\n",
       "       reputation_a  percent_answered_questions_q  percent_accepted_answers_a  \n",
       "72752         394.0                           0.0                         0.0  \n",
       "54362      122745.0                         100.0                        46.0  \n",
       "4819         1319.0                         100.0                        60.0  \n",
       "29301       37198.0                          50.0                        40.0  \n",
       "34362       49112.0                           0.0                        39.0  "
      ]
     },
     "execution_count": 25,
     "metadata": {},
     "output_type": "execute_result"
    }
   ],
   "source": [
    "X_pos.head()"
   ]
  },
  {
   "cell_type": "code",
   "execution_count": 26,
   "metadata": {
    "collapsed": false
   },
   "outputs": [],
   "source": [
    "y_pos = y_inv[X_pos.index]"
   ]
  },
  {
   "cell_type": "code",
   "execution_count": 27,
   "metadata": {
    "collapsed": false
   },
   "outputs": [
    {
     "data": {
      "text/plain": [
       "(65517,)"
      ]
     },
     "execution_count": 27,
     "metadata": {},
     "output_type": "execute_result"
    }
   ],
   "source": [
    "y_pos.shape"
   ]
  },
  {
   "cell_type": "code",
   "execution_count": 28,
   "metadata": {
    "collapsed": true
   },
   "outputs": [],
   "source": [
    "all_feature_names = list(X.columns)"
   ]
  },
  {
   "cell_type": "code",
   "execution_count": 29,
   "metadata": {
    "collapsed": false
   },
   "outputs": [
    {
     "data": {
      "text/plain": [
       "['score_q',\n",
       " 'view_count',\n",
       " 'answer_count',\n",
       " 'comment_count_q',\n",
       " 'code_line_count_q',\n",
       " 'reputation_q',\n",
       " 'comment_count_a',\n",
       " 'code_line_count_a',\n",
       " 'score_a',\n",
       " 'reputation_a',\n",
       " 'percent_answered_questions_q',\n",
       " 'percent_accepted_answers_a']"
      ]
     },
     "execution_count": 29,
     "metadata": {},
     "output_type": "execute_result"
    }
   ],
   "source": [
    "all_feature_names"
   ]
  },
  {
   "cell_type": "code",
   "execution_count": 30,
   "metadata": {
    "collapsed": false
   },
   "outputs": [],
   "source": [
    "X_train, X_test, y_train, y_test = train_test_split(X_pos, y_pos, test_size=0.1, random_state=0, stratify=y_pos)"
   ]
  },
  {
   "cell_type": "code",
   "execution_count": 31,
   "metadata": {
    "collapsed": false
   },
   "outputs": [],
   "source": [
    "ch2 = SelectKBest(chi2, k=4)\n",
    "X_train_best = ch2.fit_transform(X_pos, y_pos)\n",
    "X_test_best = ch2.transform(X_test)\n",
    "sel_feature_names = [all_feature_names[i] for i in ch2.get_support(indices=True)]\n",
    "sel_feature_names = np.asarray(sel_feature_names)"
   ]
  },
  {
   "cell_type": "code",
   "execution_count": 32,
   "metadata": {
    "collapsed": false
   },
   "outputs": [],
   "source": [
    "sel_feature_names = ['percent_answered_questions_q',\n",
    "       'percent_accepted_answers_a']"
   ]
  },
  {
   "cell_type": "code",
   "execution_count": 33,
   "metadata": {
    "collapsed": true
   },
   "outputs": [],
   "source": [
    "# array(['reputation_q', 'reputation_a'], \n",
    "#       dtype='<U12')\n",
    "\n",
    "# array(['reputation_q', 'reputation_a', 'percent_accepted_answers_a'], \n",
    "#       dtype='<U26')\n",
    "\n",
    "# array(['reputation_q', 'reputation_a', 'percent_answered_questions_q',\n",
    "#        'percent_accepted_answers_a'], \n",
    "#       dtype='<U28')"
   ]
  },
  {
   "cell_type": "markdown",
   "metadata": {},
   "source": [
    "# Classification"
   ]
  },
  {
   "cell_type": "code",
   "execution_count": 34,
   "metadata": {
    "collapsed": true
   },
   "outputs": [],
   "source": [
    "K = 10"
   ]
  },
  {
   "cell_type": "code",
   "execution_count": 35,
   "metadata": {
    "collapsed": true
   },
   "outputs": [],
   "source": [
    "def update(d1, d2):\n",
    "    d = dict(d1)\n",
    "    d.update(d2)\n",
    "    return d"
   ]
  },
  {
   "cell_type": "code",
   "execution_count": 36,
   "metadata": {
    "collapsed": false
   },
   "outputs": [],
   "source": [
    "parameters = {\n",
    "#     'vect__max_df': (0.5, 0.8, 1.0),\n",
    "#     'vect__min_df': (0.0, 0.2, 1),\n",
    "    'tfidf__norm': (None, 'l1', 'l2'),\n",
    "    'tfidf__use_idf': (True, False),\n",
    "}\n",
    "\n",
    "classifiers = [\n",
    "    ('BernoulliNB', BernoulliNB, update(parameters, {\n",
    "        'clf__alpha': (1.0, 1e-1, 1e-2, 1e-3),\n",
    "        'clf__fit_prior': (False, True),\n",
    "    })),\n",
    "#     ('KNeighborsClassifier', KNeighborsClassifier, update(parameters, {\n",
    "#         'clf__weights': ('uniform', 'distance'),\n",
    "#         'clf__metric': ('euclidean', 'manhattan', 'minkowski')\n",
    "#     })),\n",
    "    ('LinearSVC', LinearSVC, [\n",
    "        update(parameters, {\n",
    "#         'vect__min_df': (0.0, 1),\n",
    "        'clf__loss': ('squared_hinge', 'hinge',),\n",
    "        'clf__tol': (1e-4, 1e-5, 1e-6),\n",
    "        'clf__class_weight': (None, 'balanced', {False: 0.63, True: 0.37}),\n",
    "        }),\n",
    "        update(parameters, {\n",
    "#         'vect__min_df': (0.0, 1),\n",
    "        'clf__penalty': ('l1', 'l2'),\n",
    "        'clf__dual': (False,),\n",
    "        'clf__tol': (1e-4, 1e-5, 1e-6),\n",
    "        'clf__class_weight': (None, 'balanced', {False: 0.63, True: 0.37}),\n",
    "        }),\n",
    "    ]),\n",
    "#     ('MultinomialNB', MultinomialNB, update(parameters, {\n",
    "#         'clf__alpha': (1.0, 1e-1, 1e-2, 1e-3),\n",
    "#         'clf__fit_prior': (False, True),\n",
    "#     })),\n",
    "#     ('NearestCentroid', NearestCentroid, update(parameters, {\n",
    "#     })),\n",
    "    ('PassiveAggressiveClassifier', PassiveAggressiveClassifier, update(parameters, {\n",
    "#         'vect__min_df': (0.0, 1),\n",
    "        'clf__loss': ('squared_hinge', 'hinge'),\n",
    "        'clf__n_iter': (5, 10, 20),\n",
    "        'clf__class_weight': (None, 'balanced', {False: 0.63, True: 0.37}),\n",
    "        'clf__warm_start': (False, True),\n",
    "    })),\n",
    "#     ('Perceptron', Perceptron, update(parameters, {\n",
    "#         'vect__min_df': (0.0, 1),\n",
    "#         'tfidf__norm': (None, 'l2'),\n",
    "#         'clf__penalty': (None, 'l1', 'l2', 'elasticnet'),\n",
    "#         'clf__alpha': (1e-4, 1e-5, 1e-6),\n",
    "#         'clf__class_weight': (None, 'balanced', {0: 0.25, 10: 0.28, 20: 0.23, 30: 0.24}),\n",
    "#         'clf__warm_start': (False, True),\n",
    "#     })),\n",
    "#     ('RandomForestClassifier', RandomForestClassifier, update(parameters, {\n",
    "#         'clf__n_estimators': (10, 20, 30),\n",
    "#         'clf__criterion': ('gini', 'entropy'),\n",
    "#         'clf__max_depth': (None, 5, 10),\n",
    "#         'clf__class_weight': (None, {0: 0.25, 10: 0.28, 20: 0.23, 30: 0.24}),\n",
    "#         'clf__warm_start': (False, True),\n",
    "#     })),\n",
    "#     ('RidgeClassifier', RidgeClassifier, update(parameters, {\n",
    "#         'clf__alpha': (1.0, 1e-1, 1e-2, 1e-3),\n",
    "#         'clf__class_weight': (None, 'balanced', {False: 0.63, True: 0.37}),\n",
    "#         'clf__normalize': (True, False),\n",
    "#         'clf__tol': (1e-1, 1e-2, 1e-3),\n",
    "#     })),\n",
    "#     ('SGDClassifier', SGDClassifier, [\n",
    "#         update(parameters, {\n",
    "#         'vect__min_df': (0.0, 1),\n",
    "#         'clf__loss': ('hinge', 'log', 'modified_huber', 'perceptron',),\n",
    "#         'clf__penalty': ('none', 'l1', 'l2', 'elasticnet'),\n",
    "#         'clf__class_weight': (None, 'balanced'),\n",
    "#         'clf__warm_start': (False, True),\n",
    "#         }),\n",
    "#         update(parameters, {\n",
    "#         'vect__min_df': (0.0, 1),\n",
    "#         'clf__loss': ('hinge', 'log', 'modified_huber', 'perceptron',),\n",
    "#         'clf__penalty': ('none', 'l1', 'l2', 'elasticnet'),\n",
    "#         'clf__alpha': (1e-5, 1e-6),\n",
    "#         'clf__class_weight': ({0: 0.25, 10: 0.28, 20: 0.23, 30: 0.24},),\n",
    "#         'clf__warm_start': (False, True),\n",
    "#         }),\n",
    "#     ]),\n",
    "]"
   ]
  },
  {
   "cell_type": "code",
   "execution_count": 37,
   "metadata": {
    "collapsed": false
   },
   "outputs": [],
   "source": [
    "parameters = {\n",
    "    'tfidf__norm': (None,),\n",
    "    'tfidf__use_idf': (True,),\n",
    "}\n",
    "\n",
    "classifiers = [\n",
    "    ('BernoulliNB', BernoulliNB, update(parameters, {\n",
    "        'clf__alpha': (1.0, 1e-1, 1e-2, 1e-3),\n",
    "        'clf__fit_prior': (False, True),\n",
    "    })),\n",
    "    ('LinearSVC', LinearSVC, update(parameters, {\n",
    "        'clf__penalty': ('l2',),\n",
    "        'clf__dual': (False,),\n",
    "        'clf__tol': (1e-4,),\n",
    "        'clf__class_weight': (None,),\n",
    "        })),\n",
    "]"
   ]
  },
  {
   "cell_type": "code",
   "execution_count": 38,
   "metadata": {
    "collapsed": false
   },
   "outputs": [],
   "source": [
    "# parameters = {\n",
    "# }\n",
    "\n",
    "# classifiers = [\n",
    "#     ('BernoulliNB', BernoulliNB, {}),\n",
    "# # #     ('KNeighborsClassifier', KNeighborsClassifier, {}),\n",
    "#     ('LinearSVC', LinearSVC, {}),\n",
    "# # #     ('MultinomialNB', MultinomialNB, {}),\n",
    "# # #     ('NearestCentroid', NearestCentroid, {}),\n",
    "#     ('PassiveAggressiveClassifier', PassiveAggressiveClassifier, {}),\n",
    "# # #     ('Perceptron', Perceptron, {}),\n",
    "# # #     ('RandomForestClassifier', RandomForestClassifier, {}),\n",
    "#     ('RidgeClassifier', RidgeClassifier, {}),\n",
    "# # #     ('SGDClassifier', SGDClassifier, {}),\n",
    "# ]"
   ]
  },
  {
   "cell_type": "code",
   "execution_count": 39,
   "metadata": {
    "collapsed": true
   },
   "outputs": [],
   "source": [
    "def benchmark(grid_search_cv, X_train, X_test, y_train, y_test, name):\n",
    "    print('Training %s...' % name)\n",
    "    t0 = time()\n",
    "    grid_search_cv.fit(X_train, y_train)\n",
    "    training_time = time() - t0\n",
    "    print('Training time: %0.3fs' % training_time)\n",
    "    print()\n",
    "    score = float('%0.2f' % grid_search_cv.best_score_)\n",
    "    print('Best score:', score)\n",
    "    print('Best parameters:', grid_search_cv.best_params_)\n",
    "    print()\n",
    "    print('Testing %s...' % name)\n",
    "    t0 = time()\n",
    "    pred = grid_search_cv.predict(X_test)\n",
    "    testing_time = time() - t0\n",
    "    print('Testing time:  %0.3fs' % testing_time)\n",
    "    print()\n",
    "    print('Metrics:')\n",
    "    accuracy = metrics.accuracy_score(y_test, pred)\n",
    "    accuracy = float('%0.2f' % accuracy)\n",
    "    print('accuracy  =', accuracy)\n",
    "    precision = metrics.precision_score(y_test, pred, pos_label=True, average='binary')\n",
    "    precision = float('%0.2f' % precision)\n",
    "    print('precision =', precision)\n",
    "    recall = metrics.recall_score(y_test, pred, pos_label=True, average='binary')\n",
    "    recall = float('%0.2f' % recall)\n",
    "    print('recall    =', recall)\n",
    "    f1_score = metrics.f1_score(y_test, pred, pos_label=True, average='binary')\n",
    "    f1_score = float('%0.2f' % f1_score)\n",
    "    print('f1_score  =', f1_score)\n",
    "    print()\n",
    "    print('Classification report:')\n",
    "    print(metrics.classification_report(y_test, pred, target_names=['No' ,'Yes']))\n",
    "    print()\n",
    "    print('Confusion matrix:')\n",
    "    print(metrics.confusion_matrix(y_test, pred))\n",
    "    print()\n",
    "    return {\n",
    "        'best_estimator': grid_search_cv.best_estimator_,\n",
    "        'best_score': score,\n",
    "        'best_parameters': grid_search_cv.best_params_,\n",
    "        'accuracy': accuracy,\n",
    "        'precision': precision,\n",
    "        'recall': recall,\n",
    "        'f1_score': f1_score,\n",
    "    }"
   ]
  },
  {
   "cell_type": "code",
   "execution_count": 40,
   "metadata": {
    "collapsed": false
   },
   "outputs": [],
   "source": [
    "X = X[sel_feature_names]\n",
    "y = y"
   ]
  },
  {
   "cell_type": "code",
   "execution_count": 41,
   "metadata": {
    "collapsed": false
   },
   "outputs": [
    {
     "data": {
      "text/plain": [
       "False    45614\n",
       "True     27233\n",
       "Name: accepted, dtype: int64"
      ]
     },
     "execution_count": 41,
     "metadata": {},
     "output_type": "execute_result"
    }
   ],
   "source": [
    "y.value_counts()"
   ]
  },
  {
   "cell_type": "code",
   "execution_count": 42,
   "metadata": {
    "collapsed": false
   },
   "outputs": [],
   "source": [
    "X_train, X_test, y_train, y_test = train_test_split(X, y, test_size=0.1, random_state=0, stratify=y)"
   ]
  },
  {
   "cell_type": "code",
   "execution_count": 43,
   "metadata": {
    "collapsed": false
   },
   "outputs": [],
   "source": [
    "skf = StratifiedKFold(y_train, K)"
   ]
  },
  {
   "cell_type": "code",
   "execution_count": 44,
   "metadata": {
    "collapsed": false
   },
   "outputs": [
    {
     "name": "stdout",
     "output_type": "stream",
     "text": [
      "Performing grid search with cross-validation...\n",
      "================================================================================\n",
      "\n",
      "Training BernoulliNB...\n",
      "Training time: 3.587s\n",
      "\n",
      "Best score: 0.75\n",
      "Best parameters: {'clf__alpha': 1.0, 'tfidf__use_idf': True, 'tfidf__norm': None, 'clf__fit_prior': False}\n",
      "\n",
      "Testing BernoulliNB...\n",
      "Testing time:  0.003s\n",
      "\n",
      "Metrics:\n",
      "accuracy  = 0.76\n",
      "precision = 0.61\n",
      "recall    = 1.0\n",
      "f1_score  = 0.76\n",
      "\n",
      "Classification report:\n",
      "             precision    recall  f1-score   support\n",
      "\n",
      "         No       1.00      0.62      0.76      4562\n",
      "        Yes       0.61      1.00      0.76      2723\n",
      "\n",
      "avg / total       0.85      0.76      0.76      7285\n",
      "\n",
      "\n",
      "Confusion matrix:\n",
      "[[2825 1737]\n",
      " [   0 2723]]\n",
      "\n",
      "--------------------------------------------------------------------------------\n",
      "Training LinearSVC...\n",
      "Training time: 1.486s\n",
      "\n",
      "Best score: 0.83\n",
      "Best parameters: {'clf__dual': False, 'tfidf__norm': None, 'clf__penalty': 'l2', 'tfidf__use_idf': True, 'clf__class_weight': None, 'clf__tol': 0.0001}\n",
      "\n",
      "Testing LinearSVC...\n",
      "Testing time:  0.002s\n",
      "\n",
      "Metrics:\n",
      "accuracy  = 0.83\n",
      "precision = 0.79\n",
      "recall    = 0.73\n",
      "f1_score  = 0.76\n",
      "\n",
      "Classification report:\n",
      "             precision    recall  f1-score   support\n",
      "\n",
      "         No       0.85      0.88      0.87      4562\n",
      "        Yes       0.79      0.73      0.76      2723\n",
      "\n",
      "avg / total       0.83      0.83      0.83      7285\n",
      "\n",
      "\n",
      "Confusion matrix:\n",
      "[[4031  531]\n",
      " [ 725 1998]]\n",
      "\n",
      "--------------------------------------------------------------------------------\n"
     ]
    }
   ],
   "source": [
    "print('Performing grid search with cross-validation...')\n",
    "print('=' * 80)\n",
    "print()\n",
    "best_estimators = []\n",
    "for name, clf, parameters in classifiers:\n",
    "    pipeline = Pipeline([\n",
    "#         ('vect', CountVectorizer()),\n",
    "        ('tfidf', TfidfTransformer()),\n",
    "        ('clf', clf()),\n",
    "    ])\n",
    "    grid_search_cv = GridSearchCV(pipeline, parameters, cv=skf, scoring='f1_weighted', error_score=0, n_jobs=-1)\n",
    "    best_estimators.append(benchmark(grid_search_cv, X_train, X_test, y_train, y_test, name))\n",
    "    print('-' * 80)"
   ]
  },
  {
   "cell_type": "code",
   "execution_count": 45,
   "metadata": {
    "collapsed": true
   },
   "outputs": [],
   "source": [
    "# Performing grid search with cross-validation...\n",
    "# ================================================================================\n",
    "\n",
    "# Training BernoulliNB...\n",
    "# Training time: 27.730s\n",
    "\n",
    "# Best score: 0.78\n",
    "# Best parameters: {'tfidf__norm': None, 'tfidf__use_idf': True, 'clf__alpha': 1.0, 'clf__fit_prior': True}\n",
    "\n",
    "# Testing BernoulliNB...\n",
    "# Testing time:  0.007s\n",
    "\n",
    "# Metrics:\n",
    "# accuracy  = 0.78\n",
    "# precision = 0.67\n",
    "# recall    = 0.81\n",
    "# f1_score  = 0.73\n",
    "\n",
    "# Classification report:\n",
    "#              precision    recall  f1-score   support\n",
    "\n",
    "#          No       0.87      0.77      0.81      4562\n",
    "#         Yes       0.67      0.81      0.73      2723\n",
    "\n",
    "# avg / total       0.80      0.78      0.78      7285\n",
    "\n",
    "\n",
    "# Confusion matrix:\n",
    "# [[3490 1072]\n",
    "#  [ 521 2202]]\n",
    "\n",
    "# --------------------------------------------------------------------------------\n",
    "# Training LinearSVC...\n",
    "# Training time: 2734.398s\n",
    "\n",
    "# Best score: 0.88\n",
    "# Best parameters: {'tfidf__norm': None, 'clf__dual': False, 'clf__penalty': 'l2', 'clf__tol': 0.0001, 'clf__class_weight': None, 'tfidf__use_idf': True}\n",
    "\n",
    "# Testing LinearSVC...\n",
    "# Testing time:  0.006s\n",
    "\n",
    "# Metrics:\n",
    "# accuracy  = 0.87\n",
    "# precision = 0.84\n",
    "# recall    = 0.82\n",
    "# f1_score  = 0.83\n",
    "\n",
    "# Classification report:\n",
    "#              precision    recall  f1-score   support\n",
    "\n",
    "#          No       0.89      0.90      0.90      4562\n",
    "#         Yes       0.84      0.82      0.83      2723\n",
    "\n",
    "# avg / total       0.87      0.87      0.87      7285\n",
    "\n",
    "\n",
    "# Confusion matrix:\n",
    "# [[4121  441]\n",
    "#  [ 485 2238]]\n",
    "\n",
    "# --------------------------------------------------------------------------------\n",
    "# Training PassiveAggressiveClassifier...\n",
    "# Training time: 205.425s\n",
    "\n",
    "# Best score: 0.73\n",
    "# Best parameters: {'tfidf__norm': None, 'clf__warm_start': False, 'clf__loss': 'hinge', 'clf__n_iter': 20, 'tfidf__use_idf': False, 'clf__class_weight': None}\n",
    "\n",
    "# Testing PassiveAggressiveClassifier...\n",
    "# Testing time:  0.004s\n",
    "\n",
    "# Metrics:\n",
    "# accuracy  = 0.8\n",
    "# precision = 0.87\n",
    "# recall    = 0.56\n",
    "# f1_score  = 0.68\n",
    "\n",
    "# Classification report:\n",
    "#              precision    recall  f1-score   support\n",
    "\n",
    "#          No       0.78      0.95      0.86      4562\n",
    "#         Yes       0.87      0.56      0.68      2723\n",
    "\n",
    "# avg / total       0.81      0.80      0.79      7285\n",
    "\n",
    "\n",
    "# Confusion matrix:\n",
    "# [[4325  237]\n",
    "#  [1195 1528]]\n",
    "\n",
    "# --------------------------------------------------------------------------------"
   ]
  },
  {
   "cell_type": "code",
   "execution_count": 46,
   "metadata": {
    "collapsed": false
   },
   "outputs": [],
   "source": [
    "# with open('data/so_best_estimators.pickle', 'wb') as f:\n",
    "#     pickle.dump(best_estimators, f)"
   ]
  },
  {
   "cell_type": "markdown",
   "metadata": {
    "collapsed": true
   },
   "source": [
    "# Visualization"
   ]
  },
  {
   "cell_type": "code",
   "execution_count": 47,
   "metadata": {
    "collapsed": true
   },
   "outputs": [],
   "source": [
    "import matplotlib\n",
    "import matplotlib.pyplot as plt"
   ]
  },
  {
   "cell_type": "code",
   "execution_count": 57,
   "metadata": {
    "collapsed": false
   },
   "outputs": [],
   "source": [
    "matplotlib.rcParams['figure.figsize'] = (8, 6)\n",
    "# matplotlib.rcParams['figure.max_open_warning'] = 300"
   ]
  },
  {
   "cell_type": "code",
   "execution_count": 49,
   "metadata": {
    "collapsed": true
   },
   "outputs": [],
   "source": [
    "%matplotlib inline"
   ]
  },
  {
   "cell_type": "code",
   "execution_count": 50,
   "metadata": {
    "collapsed": false
   },
   "outputs": [],
   "source": [
    "# with open('data/so_best_estimators.pickle', 'rb') as f:\n",
    "#     best_estimators = pickle.load(f)"
   ]
  },
  {
   "cell_type": "code",
   "execution_count": 51,
   "metadata": {
    "collapsed": false
   },
   "outputs": [],
   "source": [
    "lin_svc = best_estimators[1]['best_estimator']"
   ]
  },
  {
   "cell_type": "code",
   "execution_count": 52,
   "metadata": {
    "collapsed": false
   },
   "outputs": [
    {
     "data": {
      "text/plain": [
       "Pipeline(steps=[('tfidf', TfidfTransformer(norm=None, smooth_idf=True, sublinear_tf=False, use_idf=True)), ('clf', LinearSVC(C=1.0, class_weight=None, dual=False, fit_intercept=True,\n",
       "     intercept_scaling=1, loss='squared_hinge', max_iter=1000,\n",
       "     multi_class='ovr', penalty='l2', random_state=None, tol=0.0001,\n",
       "     verbose=0))])"
      ]
     },
     "execution_count": 52,
     "metadata": {},
     "output_type": "execute_result"
    }
   ],
   "source": [
    "best_estimators[1]['best_estimator']"
   ]
  },
  {
   "cell_type": "code",
   "execution_count": 53,
   "metadata": {
    "collapsed": false
   },
   "outputs": [
    {
     "name": "stdout",
     "output_type": "stream",
     "text": [
      "[(11, 'answer_count'), (10, 'code_line_count_a'), (9, 'code_line_count_q'), (8, 'comment_count_a'), (7, 'comment_count_q'), (6, 'percent_accepted_answers_a'), (5, 'percent_answered_questions_q'), (4, 'reputation_a'), (3, 'reputation_q'), (2, 'score_a'), (1, 'score_q'), (0, 'view_count')]\n"
     ]
    }
   ],
   "source": [
    "def inv(l):\n",
    "    r = list(l)\n",
    "    r.reverse()\n",
    "    return r\n",
    "\n",
    "feature_names = sorted(all_feature_names)\n",
    "print(inv(enumerate(inv(feature_names))))"
   ]
  },
  {
   "cell_type": "code",
   "execution_count": 64,
   "metadata": {
    "collapsed": false
   },
   "outputs": [
    {
     "data": {
      "image/png": "[encoded data removed]",
      "text/plain": [
       "<matplotlib.figure.Figure at 0x7fc26d64e0b8>"
      ]
     },
     "metadata": {},
     "output_type": "display_data"
    }
   ],
   "source": [
    "import numpy as np\n",
    "import matplotlib.pyplot as plt\n",
    "from sklearn import svm, datasets\n",
    "\n",
    "good_list = [\n",
    "    ('code_line_count_a', 'reputation_a'),\n",
    "    ('code_line_count_a', 'reputation_q'),\n",
    "    ('code_line_count_a', 'view_count'),\n",
    "    \n",
    "    ('code_line_count_q', 'reputation_a'),\n",
    "    ('code_line_count_q', 'reputation_q'),\n",
    "    ('code_line_count_q', 'view_count'),\n",
    "    \n",
    "    ('reputation_a', 'reputation_q'),\n",
    "    ('reputation_a', 'view_count'),\n",
    "    \n",
    "    ('reputation_q', 'view_count'),\n",
    "]\n",
    "\n",
    "bad_list = [\n",
    "    ('code_line_count_a', 'code_line_count_q'),\n",
    "    ('code_line_count_a', 'comment_count_a'),\n",
    "    ('code_line_count_a', 'comment_count_q'),\n",
    "    ('code_line_count_a', 'percent_accepted_answers_a'),\n",
    "    ('code_line_count_a', 'percent_answered_questions_q'),\n",
    "    ('code_line_count_a', 'score_a'),\n",
    "    ('code_line_count_a', 'score_q'),\n",
    "\n",
    "    ('code_line_count_q', 'comment_count_a'),\n",
    "    ('code_line_count_q', 'comment_count_q'),\n",
    "    ('code_line_count_q', 'percent_accepted_answers_a'),\n",
    "    ('code_line_count_q', 'percent_answered_questions_q'),\n",
    "    ('code_line_count_q', 'score_a'),\n",
    "    ('code_line_count_q', 'score_q'),\n",
    "    \n",
    "    ('percent_answered_questions_q', 'reputation_a'),\n",
    "    ('percent_answered_questions_q', 'reputation_q'),\n",
    "    ('percent_answered_questions_q', 'score_a'),\n",
    "    ('percent_answered_questions_q', 'score_q'),\n",
    "    ('percent_answered_questions_q', 'view_count'),\n",
    "    \n",
    "    ('reputation_a', 'score_a'),\n",
    "    ('reputation_a', 'score_q'),\n",
    "    \n",
    "    ('reputation_q', 'score_a'),\n",
    "    ('reputation_q', 'score_q'),\n",
    "]\n",
    "\n",
    "bad_cat = [\n",
    "    'answer_count',\n",
    "    'comment_count_a',\n",
    "    'comment_count_q',\n",
    "    'percent_accepted_answers_a',\n",
    "    'score_a',\n",
    "    'score_q',\n",
    "]\n",
    "\n",
    "# for c1 in feature_names:\n",
    "#     if c1 not in bad_cat:\n",
    "#         for c2 in feature_names:\n",
    "#             if c1 < c2 and (c1, c2) not in good_list and (c1, c2) not in bad_list:\n",
    "#             if (c1, c2) in good_list:\n",
    "#                 print((c1, c2))\n",
    "#                 input()\n",
    "\n",
    "c2 = 'percent_answered_questions_q'\n",
    "c1 = 'percent_accepted_answers_a'\n",
    "\n",
    "n_samples = 1000\n",
    "X_aux = X_train[[c1, c2]].sample(n_samples, random_state=2)\n",
    "y_aux = y_train.sample(n_samples, random_state=2)\n",
    "\n",
    "X_vis = np.array(X_aux)\n",
    "y_vis = np.array(y_aux)\n",
    "\n",
    "h = 3  # step size in the mesh\n",
    "\n",
    "# we create an instance of SVM and fit out data. We do not scale our\n",
    "# data since we want to plot the support vectors\n",
    "# lin_svc = LinearSVC(C=1.0, class_weight=None, dual=True, fit_intercept=True,\n",
    "#              intercept_scaling=1, loss='squared_hinge', max_iter=1000,\n",
    "#              multi_class='ovr', penalty='l2', random_state=None, tol=0.0001,\n",
    "#              verbose=0).fit(X_vis, y_vis)\n",
    "\n",
    "# create a mesh to plot in\n",
    "x_min, x_max = X_vis[:, 0].min() - 1, X_vis[:, 0].max() + 1\n",
    "y_min, y_max = X_vis[:, 1].min() - 1, X_vis[:, 1].max() + 1\n",
    "xx, yy = np.meshgrid(np.arange(x_min, x_max, h),\n",
    "                     np.arange(y_min, y_max, h))\n",
    "\n",
    "# title for the plots\n",
    "titles = ['LinearSVC']\n",
    "\n",
    "\n",
    "for i, clf in enumerate((lin_svc,)):\n",
    "    # Plot the decision boundary. For that, we will assign a color to each\n",
    "    # point in the mesh [x_min, m_max]x[y_min, y_max].\n",
    "    plt.subplot(1, 1, i + 1)\n",
    "    plt.subplots_adjust(wspace=0.4, hspace=0.4)\n",
    "\n",
    "    Z = clf.predict(np.c_[xx.ravel(), yy.ravel()])\n",
    "\n",
    "    # Put the result into a color plot\n",
    "    Z = Z.reshape(xx.shape)\n",
    "    plt.contourf(xx, yy, Z, cmap=plt.cm.Paired, alpha=0.8)\n",
    "\n",
    "    # Plot also the training points\n",
    "    plt.scatter(X_vis[:, 0], X_vis[:, 1], c=y_vis, cmap=plt.cm.Paired)\n",
    "    plt.xlabel(c1)\n",
    "    plt.ylabel(c2)\n",
    "    plt.xlim(xx.min(), xx.max())\n",
    "    plt.ylim(yy.min(), yy.max())\n",
    "    plt.xticks(())\n",
    "    plt.yticks(())\n",
    "    plt.title(titles[i])\n",
    "\n",
    "plt.show()\n"
   ]
  },
  {
   "cell_type": "code",
   "execution_count": null,
   "metadata": {
    "collapsed": true
   },
   "outputs": [],
   "source": []
  },
  {
   "cell_type": "code",
   "execution_count": null,
   "metadata": {
    "collapsed": true
   },
   "outputs": [],
   "source": []
  }
 ],
 "metadata": {
  "kernelspec": {
   "display_name": "Python 3",
   "language": "python",
   "name": "python3"
  },
  "language_info": {
   "codemirror_mode": {
    "name": "ipython",
    "version": 3
   },
   "file_extension": ".py",
   "mimetype": "text/x-python",
   "name": "python",
   "nbconvert_exporter": "python",
   "pygments_lexer": "ipython3",
   "version": "3.4.3"
  }
 },
 "nbformat": 4,
 "nbformat_minor": 0
}
