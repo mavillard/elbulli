{
 "cells": [
  {
   "cell_type": "code",
   "execution_count": 1,
   "metadata": {
    "collapsed": false
   },
   "outputs": [],
   "source": [
    "from bs4 import BeautifulSoup"
   ]
  },
  {
   "cell_type": "code",
   "execution_count": 2,
   "metadata": {
    "collapsed": false
   },
   "outputs": [],
   "source": [
    "def trim(s):\n",
    "    return ' '.join(s.split())"
   ]
  },
  {
   "cell_type": "code",
   "execution_count": 3,
   "metadata": {
    "collapsed": true
   },
   "outputs": [],
   "source": [
    "def clean(l):\n",
    "    r = []\n",
    "    for e in l:\n",
    "        if e not in [\n",
    "        ]:\n",
    "            x = e.strip().lower().replace('_', ' ')\n",
    "            x = x.split(' (')[0]\n",
    "            r.append(x)\n",
    "    return r"
   ]
  },
  {
   "cell_type": "code",
   "execution_count": 28,
   "metadata": {
    "collapsed": true
   },
   "outputs": [],
   "source": [
    "s='a123/b456/c789.html'"
   ]
  },
  {
   "cell_type": "code",
   "execution_count": 31,
   "metadata": {
    "collapsed": false
   },
   "outputs": [
    {
     "data": {
      "text/plain": [
       "'c789'"
      ]
     },
     "execution_count": 31,
     "metadata": {},
     "output_type": "execute_result"
    }
   ],
   "source": [
    "s[s.rindex('/')+1:-5]"
   ]
  },
  {
   "cell_type": "code",
   "execution_count": 34,
   "metadata": {
    "collapsed": false
   },
   "outputs": [
    {
     "name": "stdout",
     "output_type": "stream",
     "text": [
      "('Capón', 'capon')\n",
      "('Filete de pato', 'filete-de-pato')\n",
      "('Foie gras', 'foie-gras')\n",
      "('Jamón', 'jamon')\n",
      "('Lacón', 'lacon')\n",
      "('Pichón', 'pichon')\n",
      "('Pierna de cordero', 'pierna-de-cordero')\n",
      "('Salchichón', 'salchichon')\n",
      "('Brócoli', 'brocoli')\n",
      "('Calabacín', 'calabacin')\n",
      "('Canónigo', 'canonigo')\n",
      "('Champiñón', 'champinon')\n",
      "('Espárrago', 'esparrago')\n",
      "('Mízcalo', 'mizcalo')\n",
      "('Puré', 'pure')\n",
      "('Rábano', 'rabano')\n",
      "('Arándano', 'arandano')\n",
      "('Castaña', 'castana')\n",
      "('Cerezas en almibar', 'cerezas-en-almibar')\n",
      "('Dátil', 'datil')\n",
      "('Fruta de la pasión', 'fruta-de-la-pasion')\n",
      "('Limón', 'limon')\n",
      "('Melocotón', 'melocoton')\n",
      "('Melón', 'melon')\n",
      "('Nuez de brasil', 'nuez-de-brasil')\n",
      "('Piña', 'pina')\n",
      "('Plátano', 'platano')\n",
      "('Atún', 'atun')\n",
      "('Mejillón', 'mejillon')\n",
      "('Palitos de cangrejo', 'palitos-de-cangrejo')\n",
      "('Salmón', 'salmon')\n",
      "('Comté', 'comte')\n",
      "('Crema fresca', 'crema-fresca')\n",
      "('Petit suisse', 'petit-suisse')\n",
      "('Queso azul', 'queso-azul')\n",
      "('Queso blanco', 'queso-blanco')\n",
      "('Queso de untar', 'queso-de-untar')\n",
      "('Barra de pan', 'barra-de-pan')\n",
      "('Corn flakes', 'corn-flakes')\n",
      "('Lasaña', 'lasana')\n",
      "('Macarrón', 'macarron')\n",
      "('Sémola', 'semola')\n",
      "('Tallarín', 'tallarin')\n",
      "('Aceite de oliva', 'aceite-de-oliva')\n",
      "('Café', 'cafe')\n",
      "('Pimentón', 'pimenton')\n",
      "('Piñón', 'pinon')\n",
      "('Sésamo', 'sesamo')\n",
      "('Azafrán', 'azafran')\n",
      "('Estragón', 'estragon')\n",
      "('Nuez moscada', 'nuez-moscada')\n",
      "('Orégano', 'oregano')\n",
      "('Grand marnier', 'grand-marnier')\n",
      "('Leche de coco', 'leche-de-coco')\n",
      "('Sangría', 'sangria')\n",
      "('Té', 'te')\n",
      "('Vino de Jerez', 'vino-de-jerez')\n",
      "('Vino de Rioja', 'vino-de-rioja')\n",
      "('Azúcar', 'azucar')\n",
      "('Turrón', 'turron')\n"
     ]
    }
   ],
   "source": [
    "ingredients = set()\n",
    "\n",
    "with open('data/ingredients/es/enfemenino/enfemenino_spanish_ingredients.html') as f:\n",
    "    soup = BeautifulSoup(f.read(), 'html.parser')\n",
    "    elems = soup.select('div#af_tdContenu table tr td a.br_textepetit')\n",
    "    ingrs = map(lambda x: (trim(x.text), x['href'][x['href'].rindex('/')+1:-5]), elems)\n",
    "    clean_ingrs = ingrs#clean(ingrs)\n",
    "    for ci in clean_ingrs:\n",
    "        if ci[0].lower() != ci[1].lower():\n",
    "            print(ci)\n",
    "    ingredients = ingredients.union(clean_ingrs)\n",
    "\n",
    "# with open('data/ingredients/enfemenino_spanish_ingredients.txt', 'w') as f:\n",
    "#     f.write('\\n'.join(sorted(ingredients)))"
   ]
  },
  {
   "cell_type": "code",
   "execution_count": null,
   "metadata": {
    "collapsed": true
   },
   "outputs": [],
   "source": []
  },
  {
   "cell_type": "code",
   "execution_count": null,
   "metadata": {
    "collapsed": true
   },
   "outputs": [],
   "source": []
  }
 ],
 "metadata": {
  "kernelspec": {
   "display_name": "Python 3",
   "language": "python",
   "name": "python3"
  },
  "language_info": {
   "codemirror_mode": {
    "name": "ipython",
    "version": 3
   },
   "file_extension": ".py",
   "mimetype": "text/x-python",
   "name": "python",
   "nbconvert_exporter": "python",
   "pygments_lexer": "ipython3",
   "version": "3.4.3"
  }
 },
 "nbformat": 4,
 "nbformat_minor": 0
}
