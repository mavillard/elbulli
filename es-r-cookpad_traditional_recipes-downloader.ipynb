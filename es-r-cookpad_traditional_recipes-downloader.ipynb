{
 "cells": [
  {
   "cell_type": "code",
   "execution_count": 1,
   "metadata": {
    "collapsed": false
   },
   "outputs": [],
   "source": [
    "import requests\n",
    "from bs4 import BeautifulSoup"
   ]
  },
  {
   "cell_type": "code",
   "execution_count": 2,
   "metadata": {
    "collapsed": false
   },
   "outputs": [],
   "source": [
    "lower_limit = 1\n",
    "upper_limit = 920\n",
    "for ide in range(lower_limit, upper_limit + 1):\n",
    "    str_id = str(ide)\n",
    "    url = 'https://cookpad.com/es/buscar/cocina%20tradicional?page=' + str_id\n",
    "    response = requests.get(url)\n",
    "    if response.ok:\n",
    "        soup = BeautifulSoup(response.content, 'html.parser')\n",
    "        elems = soup.select('div#main_contents ul.recipe-list li.recipe')\n",
    "        for e in elems:\n",
    "            with open('data/recipes/cookpad/traditional_recipe_' + e['data-id'] + '.html', 'w') as f:\n",
    "                url = 'https://cookpad.com/es/recetas/' + e['data-id']\n",
    "                response = requests.get(url)\n",
    "                if response.ok:\n",
    "                    soup = BeautifulSoup(response.content, 'html.parser')\n",
    "                    f.write(soup.prettify())"
   ]
  },
  {
   "cell_type": "code",
   "execution_count": null,
   "metadata": {
    "collapsed": true
   },
   "outputs": [],
   "source": []
  }
 ],
 "metadata": {
  "kernelspec": {
   "display_name": "Python 3",
   "language": "python",
   "name": "python3"
  },
  "language_info": {
   "codemirror_mode": {
    "name": "ipython",
    "version": 3
   },
   "file_extension": ".py",
   "mimetype": "text/x-python",
   "name": "python",
   "nbconvert_exporter": "python",
   "pygments_lexer": "ipython3",
   "version": "3.4.3"
  }
 },
 "nbformat": 4,
 "nbformat_minor": 0
}
