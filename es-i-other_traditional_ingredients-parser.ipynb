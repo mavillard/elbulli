{
 "cells": [
  {
   "cell_type": "code",
   "execution_count": 1,
   "metadata": {
    "collapsed": false
   },
   "outputs": [
    {
     "data": {
      "text/plain": [
       "34"
      ]
     },
     "execution_count": 1,
     "metadata": {},
     "output_type": "execute_result"
    }
   ],
   "source": [
    "# http://www.msn.com/es-cl/recetas/noticiassobrecomida/30-ingredientes-básicos-que-no-pueden-faltar-en-tu-cocina/ss-AA8nO36\n",
    "# http://www.msn.com/es-es/recetas/noticias/la-lista-de-los-30-ingredientes-que-no-pueden-faltar-en-tu-cocina/ss-AA8nO36\n",
    "ingredients1 = set(map(lambda x: x.lower(), [\n",
    "    'ajo', 'chili', 'comino', 'mostaza', 'pimienta negra', 'sal', 'sal marina', 'huevos', 'miel', 'aceitunas',\n",
    "    'encurtidos', 'queso', 'arroz', 'arroz integral', 'azúcar', 'tomate', 'hierbas secas', 'jengibre', 'ketchup',\n",
    "    'limón', 'cebolla', 'patata', 'hongos', 'yogur', 'vinagre', 'avena', 'frutos secos', 'mayonesa', 'pan integral',\n",
    "    'pan', 'frijoles', 'legumbres', 'manzana', 'setas',\n",
    "]))\n",
    "len(ingredients1)"
   ]
  },
  {
   "cell_type": "code",
   "execution_count": 2,
   "metadata": {
    "collapsed": false
   },
   "outputs": [
    {
     "data": {
      "text/plain": [
       "37"
      ]
     },
     "execution_count": 2,
     "metadata": {},
     "output_type": "execute_result"
    }
   ],
   "source": [
    "# https://nokrisscecco.wordpress.com/2008/09/18/lista-de-ingredientes-mas-usados/\n",
    "ingredients2 = set(map(lambda x: x.lower(), [\n",
    "    'ESPINACAS', 'DIENTE DE LEÓN', 'PUERCO o cerdo', 'PIMIENTA', 'TOMILLO', 'MEJORANA', 'AJO', 'CLAVO',\n",
    "    'CEBOLLA', 'CHILE ANCHO', 'CHILE PASILLA', 'CHILE JALAPEÑO', 'TOMATES', 'BETACAROTENO', 'PEPINO', 'APIO',\n",
    "    'ACELGAS', 'PIMIENTOS', 'AGUACATE', 'CHILE ANCHO', 'PÁPALO', 'CHILE GUAJILLO', 'VERDOLAGA', 'EPAZOTE',\n",
    "    'ZANAHORIA', 'CILANTRO o CULANTRO', 'CORIANDRO', 'CALABAZA', 'CALABACÍN', 'HABICHUELAS', 'EJOTES',\n",
    "    'CHÍCHAROS', 'GUISANTES', 'TOMATE', 'JITOMATE', 'CHILE', 'PIMIENTO', 'AJÍES',\n",
    "]))\n",
    "len(ingredients2)"
   ]
  },
  {
   "cell_type": "code",
   "execution_count": 3,
   "metadata": {
    "collapsed": false
   },
   "outputs": [
    {
     "data": {
      "text/plain": [
       "63"
      ]
     },
     "execution_count": 3,
     "metadata": {},
     "output_type": "execute_result"
    }
   ],
   "source": [
    "# https://foodhero.org/sites/foodhero.org/files/resources/whattokeeponhand_spanish_0.pdf\n",
    "ingredients3 = set(map(lambda x: x.lower(), [\n",
    "    'Papas', 'Batata o Camote', 'Zanahorias', 'Nabos', 'Repollo o Col', 'Cebolla', 'Verduras en lata',\n",
    "    'Verduras congeladas', 'Jugo de vegetales o Zumo de vegetales', 'Sopa de verduras', 'Salsa para espagueti',\n",
    "    'Manzanas', 'Naranjas', 'Fruta en lata', 'Jugo de fruta en lata o Zumo de fruta en lata',\n",
    "    'Jugo de fruta en caja o Zumo de fruta en caja', 'Jugo de fruta congelada o Zumo de fruta congelada',\n",
    "    'Fruta seca', 'Pasta', 'Granola', 'Cereal', 'Saltinas', 'Galletas de arroz', 'Cereal en barras', 'Tortillas',\n",
    "    'Harina de Maíz', 'Maíz en gránulos', 'grits', 'Harina', 'Sopa de fideos', 'Mezcla de pancake', 'Pan',\n",
    "    'Pan tipo Bagel', 'Frijoles', 'chícharos secos', 'Frijoles en lata', 'Chili en lata', 'Crema de cacahuate',\n",
    "    'Atún en lata', 'Carne en lata', 'Carne congelada', 'pescado', 'pollo', 'pavo', 'Huevos','Guisados enlatados',\n",
    "    'Nueces', 'Leche en polvo ', 'Leche en lata', 'Queso', 'Jugo con calcio o Zumo con calcio',\n",
    "    'Salmón con espinas en lata','Yogurt', 'Espinaca en lata', 'Budín en lata', 'Bebida instantánea para desayunar',\n",
    "    'Polvo para hornear', 'Aceite para cocinar', 'Azúcar', 'Sal', 'pimienta', 'especias', 'Sopa en lata',\n",
    "]))\n",
    "len(ingredients3)"
   ]
  },
  {
   "cell_type": "code",
   "execution_count": 4,
   "metadata": {
    "collapsed": false
   },
   "outputs": [
    {
     "data": {
      "text/plain": [
       "45"
      ]
     },
     "execution_count": 4,
     "metadata": {},
     "output_type": "execute_result"
    }
   ],
   "source": [
    "# https://foodhero.org/sites/foodhero.org/files/resources/ns00362_0.pdf\n",
    "ingredients4 = set(map(lambda x: x.lower(), [\n",
    "    'Pimienta Inglesa', 'Albaca o albahaca', 'Hoja de Laurel', 'Cayena', 'Polvo de chile', 'Canela', 'Clavos', 'Curry',\n",
    "    'Eneldo', 'Cebolla', 'Cebolla en polvo', 'Tomillo', 'Jengibre', 'Mostaza', 'Nuez Moscada', 'Orégano', 'Páprika',\n",
    "    'Perejil', 'Pimienta', 'Espárragos', 'Estragón', 'Frijol de media luna', 'Mejorana', 'orégano', 'salvia', 'tomillo',\n",
    "    'estragón', 'Ejotes', 'Albaca', 'eneldo', 'mejorana', 'Orégano', 'tomillo', 'Betabel', 'Pimienta inglesa',\n",
    "    'hojas de laurel', 'clavos eneldo', 'jengibre', 'tomillo', 'Brócoli', 'Eneldo', 'estragón', 'Coles de Bruselas',\n",
    "    'Albaca', 'alcaravea', 'eneldo', 'Repollo', 'Eneldo', 'nuez moscada', 'Zanahorias', 'Pimienta inglesa', 'Pepinos',\n",
    "    'Albaca', 'eneldo', 'estragón', 'Berenjena', 'Mejorana', 'orégano', 'Cebolla', 'Nuez moscada', 'orégano', 'salvia',\n",
    "    'tomillo', 'Chícharos o alverjas', 'Albaca', 'eneldo', 'orégano', 'romero', 'salvia', 'Papas', 'Albaca',\n",
    "    'hoja de laurel', 'eneldo', 'cebollines', 'orégano', 'tomillo', 'Espinacas', 'Albaca', 'mejorana', 'nuez moscada',\n",
    "    'orégano', 'Calabaza', 'Pimienta inglesa', 'albahaca', 'canela', 'clavos', 'jengibre', 'mostaza', 'nuez moscada',\n",
    "    'romero', 'Camote', 'Pimienta Inglesa', 'canela', 'clavos', 'nuez moscada', 'Tomates', 'Albaca', 'hoja de laurel',\n",
    "    'orégano', 'salvia', 'tomillo', 'Albaca', 'cebollines', 'eneldo',\n",
    "]))\n",
    "len(ingredients4)"
   ]
  },
  {
   "cell_type": "code",
   "execution_count": 5,
   "metadata": {
    "collapsed": false
   },
   "outputs": [
    {
     "data": {
      "text/plain": [
       "11"
      ]
     },
     "execution_count": 5,
     "metadata": {},
     "output_type": "execute_result"
    }
   ],
   "source": [
    "# http://www.directoalpaladar.com/ingredientes-y-alimentos/los-pequenos-ingredientes-de-la-cocina-sus-nutrientes-y-beneficios\n",
    "ingredients5 = set(map(lambda x: x.lower(), [\n",
    "    'Azafrán', 'Canela', 'Tomillo', 'Orégano', 'Romero', 'Perejil', 'Pimienta', 'Pimentón', 'Nuez moscada', 'Laurel',\n",
    "    'Albahaca',\n",
    "]))\n",
    "len(ingredients5)"
   ]
  },
  {
   "cell_type": "code",
   "execution_count": 6,
   "metadata": {
    "collapsed": false
   },
   "outputs": [],
   "source": [
    "ingredients = ingredients1.union(ingredients2) \\\n",
    "                          .union(ingredients3) \\\n",
    "                          .union(ingredients4) \\\n",
    "                          .union(ingredients5)\n",
    "ingredients = sorted(ingredients)"
   ]
  },
  {
   "cell_type": "code",
   "execution_count": 7,
   "metadata": {
    "collapsed": false
   },
   "outputs": [
    {
     "data": {
      "text/plain": [
       "159"
      ]
     },
     "execution_count": 7,
     "metadata": {},
     "output_type": "execute_result"
    }
   ],
   "source": [
    "len(ingredients)"
   ]
  },
  {
   "cell_type": "code",
   "execution_count": 8,
   "metadata": {
    "collapsed": false
   },
   "outputs": [
    {
     "data": {
      "text/plain": [
       "['aceite para cocinar',\n",
       " 'aceitunas',\n",
       " 'acelgas',\n",
       " 'aguacate',\n",
       " 'ajo',\n",
       " 'ajíes',\n",
       " 'albaca',\n",
       " 'albaca o albahaca',\n",
       " 'albahaca',\n",
       " 'alcaravea',\n",
       " 'apio',\n",
       " 'arroz',\n",
       " 'arroz integral',\n",
       " 'atún en lata',\n",
       " 'avena',\n",
       " 'azafrán',\n",
       " 'azúcar',\n",
       " 'batata o camote',\n",
       " 'bebida instantánea para desayunar',\n",
       " 'berenjena',\n",
       " 'betabel',\n",
       " 'betacaroteno',\n",
       " 'brócoli',\n",
       " 'budín en lata',\n",
       " 'calabacín',\n",
       " 'calabaza',\n",
       " 'camote',\n",
       " 'canela',\n",
       " 'carne congelada',\n",
       " 'carne en lata',\n",
       " 'cayena',\n",
       " 'cebolla',\n",
       " 'cebolla en polvo',\n",
       " 'cebollines',\n",
       " 'cereal',\n",
       " 'cereal en barras',\n",
       " 'chile',\n",
       " 'chile ancho',\n",
       " 'chile guajillo',\n",
       " 'chile jalapeño',\n",
       " 'chile pasilla',\n",
       " 'chili',\n",
       " 'chili en lata',\n",
       " 'chícharos',\n",
       " 'chícharos o alverjas',\n",
       " 'chícharos secos',\n",
       " 'cilantro o culantro',\n",
       " 'clavo',\n",
       " 'clavos',\n",
       " 'clavos eneldo',\n",
       " 'coles de bruselas',\n",
       " 'comino',\n",
       " 'coriandro',\n",
       " 'crema de cacahuate',\n",
       " 'curry',\n",
       " 'diente de león',\n",
       " 'ejotes',\n",
       " 'encurtidos',\n",
       " 'eneldo',\n",
       " 'epazote',\n",
       " 'especias',\n",
       " 'espinaca en lata',\n",
       " 'espinacas',\n",
       " 'espárragos',\n",
       " 'estragón',\n",
       " 'frijol de media luna',\n",
       " 'frijoles',\n",
       " 'frijoles en lata',\n",
       " 'fruta en lata',\n",
       " 'fruta seca',\n",
       " 'frutos secos',\n",
       " 'galletas de arroz',\n",
       " 'granola',\n",
       " 'grits',\n",
       " 'guisados enlatados',\n",
       " 'guisantes',\n",
       " 'habichuelas',\n",
       " 'harina',\n",
       " 'harina de maíz',\n",
       " 'hierbas secas',\n",
       " 'hoja de laurel',\n",
       " 'hojas de laurel',\n",
       " 'hongos',\n",
       " 'huevos',\n",
       " 'jengibre',\n",
       " 'jitomate',\n",
       " 'jugo con calcio o zumo con calcio',\n",
       " 'jugo de fruta congelada o zumo de fruta congelada',\n",
       " 'jugo de fruta en caja o zumo de fruta en caja',\n",
       " 'jugo de fruta en lata o zumo de fruta en lata',\n",
       " 'jugo de vegetales o zumo de vegetales',\n",
       " 'ketchup',\n",
       " 'laurel',\n",
       " 'leche en lata',\n",
       " 'leche en polvo ',\n",
       " 'legumbres',\n",
       " 'limón',\n",
       " 'manzana',\n",
       " 'manzanas',\n",
       " 'mayonesa',\n",
       " 'maíz en gránulos',\n",
       " 'mejorana',\n",
       " 'mezcla de pancake',\n",
       " 'miel',\n",
       " 'mostaza',\n",
       " 'nabos',\n",
       " 'naranjas',\n",
       " 'nueces',\n",
       " 'nuez moscada',\n",
       " 'orégano',\n",
       " 'pan',\n",
       " 'pan integral',\n",
       " 'pan tipo bagel',\n",
       " 'papas',\n",
       " 'pasta',\n",
       " 'patata',\n",
       " 'pavo',\n",
       " 'pepino',\n",
       " 'pepinos',\n",
       " 'perejil',\n",
       " 'pescado',\n",
       " 'pimentón',\n",
       " 'pimienta',\n",
       " 'pimienta inglesa',\n",
       " 'pimienta negra',\n",
       " 'pimiento',\n",
       " 'pimientos',\n",
       " 'pollo',\n",
       " 'polvo de chile',\n",
       " 'polvo para hornear',\n",
       " 'puerco o cerdo',\n",
       " 'pápalo',\n",
       " 'páprika',\n",
       " 'queso',\n",
       " 'repollo',\n",
       " 'repollo o col',\n",
       " 'romero',\n",
       " 'sal',\n",
       " 'sal marina',\n",
       " 'salmón con espinas en lata',\n",
       " 'salsa para espagueti',\n",
       " 'saltinas',\n",
       " 'salvia',\n",
       " 'setas',\n",
       " 'sopa de fideos',\n",
       " 'sopa de verduras',\n",
       " 'sopa en lata',\n",
       " 'tomate',\n",
       " 'tomates',\n",
       " 'tomillo',\n",
       " 'tortillas',\n",
       " 'verdolaga',\n",
       " 'verduras congeladas',\n",
       " 'verduras en lata',\n",
       " 'vinagre',\n",
       " 'yogur',\n",
       " 'yogurt',\n",
       " 'zanahoria',\n",
       " 'zanahorias']"
      ]
     },
     "execution_count": 8,
     "metadata": {},
     "output_type": "execute_result"
    }
   ],
   "source": [
    "ingredients"
   ]
  },
  {
   "cell_type": "code",
   "execution_count": 9,
   "metadata": {
    "collapsed": true
   },
   "outputs": [],
   "source": [
    "with open('data/ingredients/es_other_traditional_ingredients.txt', 'w') as f:\n",
    "    f.write('\\n'.join(ingredients))"
   ]
  }
 ],
 "metadata": {
  "kernelspec": {
   "display_name": "Python 3",
   "language": "python",
   "name": "python3"
  },
  "language_info": {
   "codemirror_mode": {
    "name": "ipython",
    "version": 3
   },
   "file_extension": ".py",
   "mimetype": "text/x-python",
   "name": "python",
   "nbconvert_exporter": "python",
   "pygments_lexer": "ipython3",
   "version": "3.4.3"
  }
 },
 "nbformat": 4,
 "nbformat_minor": 0
}
