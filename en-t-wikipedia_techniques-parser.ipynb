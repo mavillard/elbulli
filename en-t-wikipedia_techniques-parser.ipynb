{
 "cells": [
  {
   "cell_type": "code",
   "execution_count": 1,
   "metadata": {
    "collapsed": false
   },
   "outputs": [],
   "source": [
    "from bs4 import BeautifulSoup"
   ]
  },
  {
   "cell_type": "code",
   "execution_count": 2,
   "metadata": {
    "collapsed": false
   },
   "outputs": [],
   "source": [
    "def trim(s):\n",
    "    return ' '.join(s.split())"
   ]
  },
  {
   "cell_type": "code",
   "execution_count": 3,
   "metadata": {
    "collapsed": true
   },
   "outputs": [],
   "source": [
    "def clean(l):\n",
    "    r = []\n",
    "    for e in l:\n",
    "        x = e.strip().lower()\n",
    "        if x == 'accordion cut':\n",
    "            x = ['accordion cut or accordion']\n",
    "        elif x == 'air cooking':\n",
    "            x = ['air cooking or air']\n",
    "        elif x == 'amandine (culinary term)':\n",
    "            x = ['amandine']\n",
    "        elif x == 'amylolytic process':\n",
    "            x = ['amylolytic process or amylolytic']\n",
    "        elif x == 'backwoods cooking':\n",
    "            x = ['backwoods cooking or backwoods']\n",
    "        elif x == 'bain-marie (double boiling)':\n",
    "            x = ['bain-marie or double boiling']\n",
    "        elif x == 'basting (cooking)':\n",
    "            x = ['basting']\n",
    "        elif x == 'blackening (cooking)':\n",
    "            x = ['blackening']\n",
    "        elif x == 'blanching (cooking)':\n",
    "            x = ['blanching']\n",
    "        elif x == 'browning (partial cooking)':\n",
    "            x = ['browning or partial cooking or partially cooking']\n",
    "        elif x == 'carry over cooking':\n",
    "            x = ['carry over cooking or carry over']\n",
    "        elif x == 'chinese cooking techniques':\n",
    "            x = []\n",
    "        elif x == 'clay pot cooking':\n",
    "            x = ['clay pot cooking or clay pot']\n",
    "        elif x == 'cooking with alcohol':\n",
    "            x = ['cooking with alcohol or with alcohol or alcohol']\n",
    "        elif x == 'creaming (food)':\n",
    "            x = ['creaming']\n",
    "        elif x == 'crinkle-cutting':\n",
    "            x = ['crinkle-cutting or crinkle-cut']\n",
    "        elif x == 'cured fish':\n",
    "            x = ['curing or cure or cured or curation']\n",
    "        elif x == 'curing (food preservation)':\n",
    "            x = ['curing or cure or cured or curation']\n",
    "        elif x == 'deglazing (cooking)':\n",
    "            x = ['deglazing or deglaze or deglazed']\n",
    "        elif x == 'dough sheeting':\n",
    "            x = ['dough sheeting or dough sheeter']\n",
    "        elif x == 'dredging (cooking)':\n",
    "            x = ['dredging or dredge or dredged']\n",
    "        elif x == 'dutch oven cooking':\n",
    "            x = ['dutch oven cooking or dutch oven']\n",
    "        elif x == 'e':\n",
    "            x = []\n",
    "        elif x == 'egg wash':\n",
    "            x = []\n",
    "        elif x == 'foam (culinary)':\n",
    "            x = ['foam']\n",
    "        elif x == 'food drying':\n",
    "            x = ['food drying or drying or dry or dried']\n",
    "        elif x == 'food preparation':\n",
    "            x = []\n",
    "        elif x == 'food preservation':\n",
    "            x = []\n",
    "        elif x == 'food safety':\n",
    "            x = []\n",
    "        elif x == 'food steamer':\n",
    "            x = ['steamer or steam or steamed or steaming']\n",
    "        elif x == 'glaze (cooking technique)':\n",
    "            x = ['glaze or glazing or glazed']\n",
    "        elif x == 'grilling (charbroiling)':\n",
    "            x = ['grilling or charbroiling']\n",
    "        elif x == 'high-altitude cooking':\n",
    "            x = ['high-altitude cooking or high-altitude']\n",
    "        elif x == 'indirect grilling/plank cooking':\n",
    "            x = ['indirect grilling or plank cooking or plank']\n",
    "        elif x == 'liquid nitrogen':\n",
    "            x = ['liquid nitrogen or nitrogen or n|2o or n2o']\n",
    "        elif x == 'list of cooking appliances':\n",
    "            x = []\n",
    "        elif x == 'list of cooking techniques':\n",
    "            x = []\n",
    "        elif x == 'list of culinary knife cuts':\n",
    "            x = []\n",
    "        elif x == 'list of twice-baked foods':\n",
    "            x = ['twice-baked food or twice-baked']\n",
    "        elif x == 'low-temperature cooking':\n",
    "            x = ['low-temperature cooking or low-temperature']\n",
    "        elif x == 'maceration (food)':\n",
    "            x = ['maceration or macerate or macerating or macerated']\n",
    "        elif x == 'meat carving':\n",
    "            x = ['meat carving or carving or carve or carved']\n",
    "        elif x == 'meat cooking techniques':\n",
    "            x = []\n",
    "        elif x == 'manifold destiny':\n",
    "            x = []\n",
    "        elif x == 'outdoor cooking':\n",
    "            x = []\n",
    "        elif x == 'paste (food)':\n",
    "            x = ['paste']\n",
    "        elif x == 'pasteurized eggs':\n",
    "            x = ['pasteurized or pasteurize or pasteurizing or pasteurization']\n",
    "        elif x == 'pellicle (cooking)':\n",
    "            x = ['pellicle']\n",
    "        elif x == 'poaching (cooking)':\n",
    "            x = ['poaching or poach or poached']\n",
    "        elif x == 'pressure cooking':\n",
    "            x = ['pressure cooking or pressure or pressuring or pressured']\n",
    "        elif x == 'proofing (baking technique)':\n",
    "            x = ['proofing or proof']\n",
    "        elif x == 'quick boiling':\n",
    "            x = ['quick boiling or boiling']\n",
    "        elif x == 'reduction (cooking)':\n",
    "            x = ['reduction']\n",
    "        elif x == 'rendering (animal products)':\n",
    "            x = ['rendering']\n",
    "        elif x == 'ricing (cooking)':\n",
    "            x = ['ricing or ricer or riced']\n",
    "        elif x == 'roasting (modern)':\n",
    "            x = ['roasting or roast or roasted']\n",
    "        elif x == 'roasting (traditional)':\n",
    "            x = ['roasting or roast or roasted']\n",
    "        elif x == 'salisbury steak':\n",
    "            x = ['salisbury']\n",
    "        elif x == 'separating eggs':\n",
    "            x = []\n",
    "        elif x == 'shirred eggs':\n",
    "            x = ['shirred or shirr or shirring or baked or bake or baked']\n",
    "        elif x == 'shocking (cooking)':\n",
    "            x = ['shocking or shock or shocked']\n",
    "        elif x == 'slow cooker':\n",
    "            x = ['slow cooker or slow cooking']\n",
    "        elif x == 'slow red cooking':\n",
    "            x = ['slow red cooking or red cooking']\n",
    "        elif x == 'smoking (cooking)':\n",
    "            x = ['smoking or smoke or smoked']\n",
    "        elif x == 'smothering (food)':\n",
    "            x = ['smothering or smother or smothered or swiss']\n",
    "        elif x == 'stir frying (bao)':\n",
    "            x = ['stir frying or bao or wok']\n",
    "        elif x == 'stir frying (chao)':\n",
    "            x = ['stir frying or chao or wok']\n",
    "        elif x == 'straight dough':\n",
    "            x = ['straight dough or direct dough']\n",
    "        elif x == 'supreme (cookery)':\n",
    "            x = []\n",
    "        elif x == 'sweating (cooking)':\n",
    "            x = ['sweating or sweat']\n",
    "        elif x == 'swiss steak':\n",
    "            x = ['smothering or smother or smothered or swiss']\n",
    "        elif x == 't':\n",
    "            x = []\n",
    "        elif x == 'template:cooking techniques':\n",
    "            x = []\n",
    "        elif x == 'thermal cooking':\n",
    "            x = ['thermal immersion circulator or thermal immersion or thermal cooking']\n",
    "        elif x == 'thermal immersion circulator':\n",
    "            x = ['thermal immersion circulator or thermal immersion or thermal cooking']\n",
    "        elif x == 'turkey fryer':\n",
    "            x = ['turkey fryer or turkey fry']\n",
    "        elif x == 'vietnamese cooking techniques':\n",
    "            x = []\n",
    "        elif x == 'wok cooking':\n",
    "            x = ['wok cooking or wok']\n",
    "        else:\n",
    "            x = [x]\n",
    "        r.extend(x)\n",
    "    return set(r)"
   ]
  },
  {
   "cell_type": "code",
   "execution_count": 4,
   "metadata": {
    "collapsed": false
   },
   "outputs": [
    {
     "data": {
      "text/plain": [
       "120"
      ]
     },
     "execution_count": 4,
     "metadata": {},
     "output_type": "execute_result"
    }
   ],
   "source": [
    "techniques1 = set()\n",
    "\n",
    "with open('data/techniques/en/wikipedia/wikipedia_category_cooking_techniques.html') as f:\n",
    "    soup = BeautifulSoup(f.read(), 'html.parser')\n",
    "    elems = soup.select('div#mw-pages div.mw-category-group ul li a')\n",
    "    techs = clean(map(lambda x: trim(x['title']), elems))\n",
    "    techniques1 = techniques1.union(techs)\n",
    "\n",
    "len(techniques1)"
   ]
  },
  {
   "cell_type": "code",
   "execution_count": 5,
   "metadata": {
    "collapsed": false
   },
   "outputs": [
    {
     "data": {
      "text/plain": [
       "52"
      ]
     },
     "execution_count": 5,
     "metadata": {},
     "output_type": "execute_result"
    }
   ],
   "source": [
    "techniques2 = set()\n",
    "\n",
    "with open('data/techniques/en/wikipedia/wikipedia_template_cooking_techniques.html') as f:\n",
    "    soup = BeautifulSoup(f.read(), 'html.parser')\n",
    "    elems = soup.select('div#mw-content-text table ul li a')\n",
    "    techs = clean(map(lambda x: trim(x.text), elems))\n",
    "    techniques2 = techniques2.union(techs)\n",
    "\n",
    "len(techniques2)"
   ]
  },
  {
   "cell_type": "code",
   "execution_count": 6,
   "metadata": {
    "collapsed": false
   },
   "outputs": [
    {
     "data": {
      "text/plain": [
       "10"
      ]
     },
     "execution_count": 6,
     "metadata": {},
     "output_type": "execute_result"
    }
   ],
   "source": [
    "techniques3 = set()\n",
    "\n",
    "with open('data/techniques/en/wikipedia/wikipedia_category_cutting_techniques.html') as f:\n",
    "    soup = BeautifulSoup(f.read(), 'html.parser')\n",
    "    elems = soup.select('div#mw-pages div.mw-category-group ul li a')\n",
    "    techs = clean(map(lambda x: trim(x['title']), elems))\n",
    "    techniques3 = techniques3.union(techs)\n",
    "\n",
    "len(techniques3)"
   ]
  },
  {
   "cell_type": "code",
   "execution_count": 7,
   "metadata": {
    "collapsed": false
   },
   "outputs": [
    {
     "data": {
      "text/plain": [
       "148"
      ]
     },
     "execution_count": 7,
     "metadata": {},
     "output_type": "execute_result"
    }
   ],
   "source": [
    "techniques4 = set()\n",
    "\n",
    "with open('data/techniques/en/wikipedia/wikipedia_list_cooking_techniques.html') as f:\n",
    "    soup = BeautifulSoup(f.read(), 'html.parser')\n",
    "    elems = soup.select('div#bodyContent h3 ~ ul:nth-of-type(1) li > a:nth-of-type(1)')\n",
    "    techs = clean(map(lambda x: trim(x.string), elems))\n",
    "    techniques4 = techniques4.union(techs)\n",
    "\n",
    "len(techniques4)"
   ]
  },
  {
   "cell_type": "code",
   "execution_count": 8,
   "metadata": {
    "collapsed": false
   },
   "outputs": [
    {
     "data": {
      "text/plain": [
       "22"
      ]
     },
     "execution_count": 8,
     "metadata": {},
     "output_type": "execute_result"
    }
   ],
   "source": [
    "techniques5 = set()\n",
    "\n",
    "with open('data/techniques/en/wikipedia/wikipedia_chinese_cooking_techniques.html') as f:\n",
    "    soup = BeautifulSoup(f.read(), 'html.parser')\n",
    "    elems = soup.select('div#bodyContent table.wikitable tr > td:nth-of-type(1)')\n",
    "    techs = clean(map(lambda x: trim(x.text), elems))\n",
    "    techniques5 = techniques5.union(techs)\n",
    "\n",
    "len(techniques5)"
   ]
  },
  {
   "cell_type": "code",
   "execution_count": 9,
   "metadata": {
    "collapsed": false
   },
   "outputs": [
    {
     "data": {
      "text/plain": [
       "56"
      ]
     },
     "execution_count": 9,
     "metadata": {},
     "output_type": "execute_result"
    }
   ],
   "source": [
    "techniques6 = set()\n",
    "\n",
    "with open('data/techniques/en/wikipedia/wikipedia_outline_food_preparation.html') as f:\n",
    "    soup = BeautifulSoup(f.read(), 'html.parser')\n",
    "    elems = ['Baking', 'Baking or Blind baking or baking blind', 'Boiling', 'Blanching', 'Braising', 'Coddling', 'Infusion', 'Pressure cooking', 'Simmering', 'Poaching', 'Steaming', 'Double steaming', 'Steeping', 'Stewing', 'Vacuum flask cooking or Vacuum flask', 'Broiling', 'Grilling', 'Frying', 'Frying', 'Deep frying', 'Hot salt frying', 'Hot sand frying', 'Pan frying', 'Pressure frying', 'Sautéing', 'Stir frying', 'Microwaving or Microwave oven', 'Roasting', 'Roasting', 'Barbecuing', 'Grilling', 'Rotisserie', 'Searing', 'Hot Smoking', 'Smoking', 'Brining', 'Ceviche', 'Drying', 'Fermentation', 'Marinating', 'Pickling', 'Salting', 'Seasoning', 'Souring', 'Sprouting', 'Sugaring', 'Basting', 'Chopping', 'Dicing', 'Grating', 'Julienning', 'Mincing', 'Peeling', 'Shaving', 'Kneading', 'Milling', 'Mixing', 'Blending', 'Vacuum Filling']\n",
    "    techs = clean(map(lambda x: trim(x), elems))\n",
    "    techniques6 = techniques6.union(techs)\n",
    "\n",
    "len(techniques6)"
   ]
  },
  {
   "cell_type": "code",
   "execution_count": 10,
   "metadata": {
    "collapsed": false
   },
   "outputs": [
    {
     "data": {
      "text/plain": [
       "32"
      ]
     },
     "execution_count": 10,
     "metadata": {},
     "output_type": "execute_result"
    }
   ],
   "source": [
    "techniques7 = set()\n",
    "\n",
    "with open('data/techniques/en/wikipedia/wikipedia_cooking_methods.html') as f:\n",
    "    soup = BeautifulSoup(f.read(), 'html.parser')\n",
    "    elems = soup.select('div#bodyContent dl dd a')\n",
    "    techs = clean(map(lambda x: trim(x.text), elems))\n",
    "    techniques7 = techniques7.union(techs)\n",
    "\n",
    "len(techniques7)"
   ]
  },
  {
   "cell_type": "code",
   "execution_count": 11,
   "metadata": {
    "collapsed": true
   },
   "outputs": [],
   "source": [
    "techniques = techniques1.union(techniques2) \\\n",
    "                        .union(techniques3) \\\n",
    "                        .union(techniques4) \\\n",
    "                        .union(techniques5) \\\n",
    "                        .union(techniques6) \\\n",
    "                        .union(techniques7)\n",
    "techniques = sorted(techniques)"
   ]
  },
  {
   "cell_type": "code",
   "execution_count": 12,
   "metadata": {
    "collapsed": false
   },
   "outputs": [
    {
     "data": {
      "text/plain": [
       "236"
      ]
     },
     "execution_count": 12,
     "metadata": {},
     "output_type": "execute_result"
    }
   ],
   "source": [
    "len(techniques)"
   ]
  },
  {
   "cell_type": "code",
   "execution_count": 13,
   "metadata": {
    "collapsed": false
   },
   "outputs": [
    {
     "data": {
      "text/plain": [
       "['accordion cut or accordion',\n",
       " 'air cooking or air',\n",
       " 'air frying',\n",
       " 'allumette',\n",
       " 'amandine',\n",
       " 'amylolytic process or amylolytic',\n",
       " 'anti-griddle',\n",
       " 'backwoods cooking or backwoods',\n",
       " 'baghaar',\n",
       " 'bain-marie or double boiling']"
      ]
     },
     "execution_count": 13,
     "metadata": {},
     "output_type": "execute_result"
    }
   ],
   "source": [
    "techniques[:10]"
   ]
  },
  {
   "cell_type": "code",
   "execution_count": 14,
   "metadata": {
    "collapsed": true
   },
   "outputs": [],
   "source": [
    "with open('data/techniques/en_wikipedia_techniques.txt', 'w') as f:\n",
    "    f.write('\\n'.join(sorted(techniques)))"
   ]
  },
  {
   "cell_type": "code",
   "execution_count": null,
   "metadata": {
    "collapsed": true
   },
   "outputs": [],
   "source": []
  }
 ],
 "metadata": {
  "kernelspec": {
   "display_name": "Python 3",
   "language": "python",
   "name": "python3"
  },
  "language_info": {
   "codemirror_mode": {
    "name": "ipython",
    "version": 3
   },
   "file_extension": ".py",
   "mimetype": "text/x-python",
   "name": "python",
   "nbconvert_exporter": "python",
   "pygments_lexer": "ipython3",
   "version": "3.4.3"
  }
 },
 "nbformat": 4,
 "nbformat_minor": 0
}
