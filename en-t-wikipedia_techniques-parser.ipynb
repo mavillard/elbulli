{
 "cells": [
  {
   "cell_type": "code",
   "execution_count": 1,
   "metadata": {
    "collapsed": false
   },
   "outputs": [],
   "source": [
    "from bs4 import BeautifulSoup"
   ]
  },
  {
   "cell_type": "code",
   "execution_count": 2,
   "metadata": {
    "collapsed": false
   },
   "outputs": [],
   "source": [
    "def trim(s):\n",
    "    return ' '.join(s.split())"
   ]
  },
  {
   "cell_type": "code",
   "execution_count": null,
   "metadata": {
    "collapsed": true
   },
   "outputs": [],
   "source": [
    "def clean(l):\n",
    "    r = []\n",
    "    for e in l:\n",
    "        x = e.strip().lower()\n",
    "Reduction (cooking)\n",
    "Rendering (animal products)\n",
    "Ricing (cooking)\n",
    "Roasting\n",
    "Robatayaki\n",
    "Rotisserie\n",
    "Salisbury steak\n",
    "Sautéing\n",
    "Schwenker\n",
    "Cured fish\n",
    "Searing\n",
    "Seasoning\n",
    "Separating eggs\n",
    "Shallow frying\n",
    "Shirred eggs\n",
    "Shocking (cooking)\n",
    "Shrivelling\n",
    "Simmering\n",
    "Slow cooker\n",
    "Smoking (cooking)\n",
    "Smothering (food)\n",
    "Souring\n",
    "Sous-vide\n",
    "Spatchcock\n",
    "Spherification\n",
    "Steaming\n",
    "Steeping\n",
    "Stew\n",
    "Stir frying\n",
    "Straight dough\n",
    "Stuffing\n",
    "Sugar panning\n",
    "Supreme (cookery)\n",
    "Sweating (cooking)\n",
    "Swiss steak\n",
    "Tataki\n",
    "Tenderizing\n",
    "Teriyaki\n",
    "Thermal cooking\n",
    "Turbo cooking\n",
    "Turkey fryer\n",
    "\n",
    "        if x == 'amandine (culinary term)':\n",
    "            x = ['amandine']\n",
    "        elif x == 'amylolytic process':\n",
    "            x = ['amylolytic process or amylolytic']\n",
    "        elif x == 'backwoods cooking':\n",
    "            x = ['backwoods cooking or backwoods']\n",
    "        elif x == 'basting (cooking)':\n",
    "            x = ['basting']\n",
    "        elif x == 'blackening (cooking)':\n",
    "            x = ['blackening']\n",
    "        elif x == 'blanching (cooking)':\n",
    "            x = ['blanching']\n",
    "        elif x == 'browning (partial cooking)':\n",
    "            x = ['browning or partial cooking or partially cooking']\n",
    "        elif x == 'carry over cooking':\n",
    "            x = ['carry over cooking or carry over']\n",
    "        elif x == 'clay pot cooking':\n",
    "            x = ['clay pot cooking or clay pot']\n",
    "        elif x == 'cooking with alcohol':\n",
    "            x = ['cooking with alcohol or with alcohol or alcohol']\n",
    "        elif x == 'creaming (food)':\n",
    "            x = ['creaming']\n",
    "        elif x == 'curing (food preservation)':\n",
    "            x = ['curing or cure or cured or curation']\n",
    "        elif x == 'deglazing (cooking)':\n",
    "            x = ['deglazing or deglaze or deglazed']\n",
    "        elif x == 'dredging (cooking)':\n",
    "            x = ['dredging or dredge or dredged']\n",
    "        elif x == 'food drying':\n",
    "            x = ['food drying or drying or dry or dried']\n",
    "        elif x == 'foam (culinary)':\n",
    "            x = ['foam']\n",
    "        elif x == 'glaze (cooking technique)':\n",
    "            x = ['glaze or glazing or glazed']\n",
    "        elif x == 'high-altitude cooking':\n",
    "            x = ['high-altitude cooking or high-altitude']\n",
    "        elif x == 'list of cooking techniques':\n",
    "            x = []\n",
    "        elif x == 'list of twice-baked foods':\n",
    "            x = ['twice-baked food or twice-baked']\n",
    "        elif x == 'Low-temperature cooking':\n",
    "            x = ['low-temperature cooking or low-temperature']\n",
    "        elif x == 'maceration (food)':\n",
    "            x = ['maceration or macerate or macerating or macerated']\n",
    "        elif x == 'outdoor cooking':\n",
    "            x = []\n",
    "        elif x == 'paste (food)':\n",
    "            x = ['paste']\n",
    "        elif x == 'pellicle (cooking)':\n",
    "            x = ['pellicle']\n",
    "        elif x == 'poaching (cooking)':\n",
    "            x = ['poaching or poach or poached']\n",
    "        elif x == 'pressure cooking':\n",
    "            x = ['pressure cooking or pressure or pressuring or pressured']\n",
    "        elif x == 'proofing (baking technique)':\n",
    "            x = ['proofing or proof']\n",
    "        elif x == 'reduction (cooking)':\n",
    "            x = ['reduction']\n",
    "        elif x == 'paste (food)':\n",
    "            x = ['paste']\n",
    "        elif x == 'paste (food)':\n",
    "            x = ['paste']\n",
    "        elif x == 'paste (food)':\n",
    "            x = ['paste']\n",
    "        elif x == 'paste (food)':\n",
    "            x = ['paste']\n",
    "        elif x == 'paste (food)':\n",
    "            x = ['paste']\n",
    "        elif x == 'template:cooking techniques':\n",
    "            x = []\n",
    "        else:\n",
    "            x = [x]\n",
    "        r.extend(x)\n",
    "    return set(r)"
   ]
  },
  {
   "cell_type": "code",
   "execution_count": 4,
   "metadata": {
    "collapsed": true
   },
   "outputs": [],
   "source": [
    "def clean_1(l):\n",
    "    r = []\n",
    "    for e in l:\n",
    "        if e not in [\n",
    "            'Template:Cooking techniques',\n",
    "            'List of cooking techniques',\n",
    "            'List of twice-baked foods',\n",
    "        ]:\n",
    "            x = e.strip().lower().replace('_', ' ')\n",
    "            x = x.split(' (')[0]\n",
    "            r.append(x)\n",
    "    return r"
   ]
  },
  {
   "cell_type": "code",
   "execution_count": 4,
   "metadata": {
    "collapsed": false
   },
   "outputs": [
    {
     "name": "stdout",
     "output_type": "stream",
     "text": [
      "Template:Cooking techniques\n",
      "Amandine (culinary term)\n",
      "Amylolytic process\n",
      "Backwoods cooking\n",
      "Baghaar\n",
      "Baking\n",
      "Barbecue\n",
      "Basting (cooking)\n",
      "Biomass briquettes\n",
      "Blackening (cooking)\n",
      "Blanching (cooking)\n",
      "Boiling\n",
      "Braising\n",
      "Breading\n",
      "Brining\n",
      "Broasting\n",
      "Brochette\n",
      "Browning (partial cooking)\n",
      "Buccan\n",
      "Caramelization\n",
      "Carry over cooking\n",
      "Casserole\n",
      "Charbroiler\n",
      "Chaunk\n",
      "Clay pot cooking\n",
      "Coagulated protein\n",
      "Coddling\n",
      "Concasse\n",
      "Conche\n",
      "Confit\n",
      "Cooking with alcohol\n",
      "Creaming (food)\n",
      "Culinary triangle\n",
      "Curdling\n",
      "Curing (food preservation)\n",
      "Deep frying\n",
      "Deglazing (cooking)\n",
      "Degreasing\n",
      "Dredging (cooking)\n",
      "Dry roasting\n",
      "Food drying\n",
      "Dum pukht\n",
      "Earth oven\n",
      "En papillote\n",
      "En vessie\n",
      "Engastration\n",
      "Engine Cooking\n",
      "Fire\n",
      "Flambé\n",
      "Flattop grill\n",
      "Foam (culinary)\n",
      "Fondue\n",
      "Frying\n",
      "Gentle frying\n",
      "Glaze (cooking technique)\n",
      "Grilling\n",
      "Hibachi\n",
      "High-altitude cooking\n",
      "Hot salt frying\n",
      "Indirect grilling\n",
      "Infusion\n",
      "Jugging\n",
      "Juicing\n",
      "Kalua\n",
      "Kinpira\n",
      "List of cooking techniques\n",
      "List of twice-baked foods\n",
      "Low-temperature cooking\n",
      "Maceration (food)\n",
      "Marination\n",
      "Meatloaf\n",
      "Mongolian barbecue\n",
      "Nixtamalization\n",
      "Outdoor cooking\n",
      "Pan frying\n",
      "Parbaking\n",
      "Parboiling\n",
      "Paste (food)\n",
      "Pellicle (cooking)\n",
      "Pickling\n",
      "Poaching (cooking)\n",
      "Pre-ferment\n",
      "Pressure cooking\n",
      "Pressure frying\n",
      "Proofing (baking technique)\n",
      "Purée\n",
      "Reduction (cooking)\n",
      "Rendering (animal products)\n",
      "Ricing (cooking)\n",
      "Roasting\n",
      "Robatayaki\n",
      "Rotisserie\n",
      "Salisbury steak\n",
      "Sautéing\n",
      "Schwenker\n",
      "Cured fish\n",
      "Searing\n",
      "Seasoning\n",
      "Separating eggs\n",
      "Shallow frying\n",
      "Shirred eggs\n",
      "Shocking (cooking)\n",
      "Shrivelling\n",
      "Simmering\n",
      "Slow cooker\n",
      "Smoking (cooking)\n",
      "Smothering (food)\n",
      "Souring\n",
      "Sous-vide\n",
      "Spatchcock\n",
      "Spherification\n",
      "Steaming\n",
      "Steeping\n",
      "Stew\n",
      "Stir frying\n",
      "Straight dough\n",
      "Stuffing\n",
      "Sugar panning\n",
      "Supreme (cookery)\n",
      "Sweating (cooking)\n",
      "Swiss steak\n",
      "Tataki\n",
      "Tenderizing\n",
      "Teriyaki\n",
      "Thermal cooking\n",
      "Turbo cooking\n",
      "Turkey fryer\n"
     ]
    },
    {
     "ename": "NameError",
     "evalue": "name 'clean' is not defined",
     "output_type": "error",
     "traceback": [
      "\u001b[1;31m---------------------------------------------------------------------------\u001b[0m",
      "\u001b[1;31mNameError\u001b[0m                                 Traceback (most recent call last)",
      "\u001b[1;32m<ipython-input-4-a696c41fa3a0>\u001b[0m in \u001b[0;36m<module>\u001b[1;34m()\u001b[0m\n\u001b[0;32m      6\u001b[0m     \u001b[1;32mfor\u001b[0m \u001b[0mx\u001b[0m \u001b[1;32min\u001b[0m \u001b[0melems\u001b[0m\u001b[1;33m:\u001b[0m\u001b[1;33m\u001b[0m\u001b[0m\n\u001b[0;32m      7\u001b[0m         \u001b[0mprint\u001b[0m\u001b[1;33m(\u001b[0m\u001b[0mtrim\u001b[0m\u001b[1;33m(\u001b[0m\u001b[0mx\u001b[0m\u001b[1;33m[\u001b[0m\u001b[1;34m'title'\u001b[0m\u001b[1;33m]\u001b[0m\u001b[1;33m)\u001b[0m\u001b[1;33m)\u001b[0m\u001b[1;33m\u001b[0m\u001b[0m\n\u001b[1;32m----> 8\u001b[1;33m     \u001b[0mtechs\u001b[0m \u001b[1;33m=\u001b[0m \u001b[0mclean\u001b[0m\u001b[1;33m(\u001b[0m\u001b[0mmap\u001b[0m\u001b[1;33m(\u001b[0m\u001b[1;32mlambda\u001b[0m \u001b[0mx\u001b[0m\u001b[1;33m:\u001b[0m \u001b[0mtrim\u001b[0m\u001b[1;33m(\u001b[0m\u001b[0mx\u001b[0m\u001b[1;33m[\u001b[0m\u001b[1;34m'title'\u001b[0m\u001b[1;33m]\u001b[0m\u001b[1;33m)\u001b[0m\u001b[1;33m,\u001b[0m \u001b[0melems\u001b[0m\u001b[1;33m)\u001b[0m\u001b[1;33m)\u001b[0m\u001b[1;33m\u001b[0m\u001b[0m\n\u001b[0m\u001b[0;32m      9\u001b[0m     \u001b[0mtechniques1\u001b[0m \u001b[1;33m=\u001b[0m \u001b[0mtechniques1\u001b[0m\u001b[1;33m.\u001b[0m\u001b[0munion\u001b[0m\u001b[1;33m(\u001b[0m\u001b[0mtechs\u001b[0m\u001b[1;33m)\u001b[0m\u001b[1;33m\u001b[0m\u001b[0m\n\u001b[0;32m     10\u001b[0m \u001b[1;33m\u001b[0m\u001b[0m\n",
      "\u001b[1;31mNameError\u001b[0m: name 'clean' is not defined"
     ]
    }
   ],
   "source": [
    "techniques1 = set()\n",
    "\n",
    "with open('data/techniques/en/wikipedia/wikipedia_category_cooking_techniques.html') as f:\n",
    "    soup = BeautifulSoup(f.read(), 'html.parser')\n",
    "    elems = soup.select('div#mw-pages div.mw-category-group ul li a')\n",
    "    for x in elems:\n",
    "        print(trim(x['title']))\n",
    "    techs = clean(map(lambda x: trim(x['title']), elems))\n",
    "    techniques1 = techniques1.union(techs)\n",
    "\n",
    "len(techniques1)"
   ]
  },
  {
   "cell_type": "code",
   "execution_count": 6,
   "metadata": {
    "collapsed": false
   },
   "outputs": [],
   "source": [
    "def clean_2(l):\n",
    "    r = []\n",
    "    for e in l:\n",
    "        if e not in [\n",
    "            't',\n",
    "            'e',\n",
    "            'List of cooking appliances',\n",
    "            'Outdoor cooking',\n",
    "            'Food preparation',\n",
    "            'Food preservation',\n",
    "            'Food safety'\n",
    "        ]:\n",
    "            x = e.strip().lower().replace('_', ' ')\n",
    "            if '(' in x:\n",
    "                x1, x2 = x.split('(')\n",
    "                x1 = x1[:-1]\n",
    "                x2 = x2[:-1]\n",
    "                r.append(x1)\n",
    "                if x2 not in ['modern', 'traditional']:\n",
    "                    r.append(x2)\n",
    "            elif '/' in x:\n",
    "                x1, x2 = x.split('/')\n",
    "                r.append(x1)\n",
    "                r.append(x2)\n",
    "            else:\n",
    "                r.append(x)\n",
    "    return r"
   ]
  },
  {
   "cell_type": "code",
   "execution_count": 7,
   "metadata": {
    "collapsed": false
   },
   "outputs": [],
   "source": [
    "with open('data/techniques/en/wikipedia/wikipedia_template_cooking_techniques.html') as f:\n",
    "    soup = BeautifulSoup(f.read(), 'html.parser')\n",
    "    elems = soup.select('div#mw-content-text table ul li a')\n",
    "    techs = map(lambda x: trim(x.text), elems)\n",
    "    clean_techs = clean_2(techs)\n",
    "    techniques = techniques.union(clean_techs)"
   ]
  },
  {
   "cell_type": "code",
   "execution_count": 8,
   "metadata": {
    "collapsed": true
   },
   "outputs": [],
   "source": [
    "def clean_3(l):\n",
    "    r = []\n",
    "    for e in l:\n",
    "        if e not in [\n",
    "            'List of culinary knife cuts',\n",
    "        ]:\n",
    "            x = e.strip().lower().replace('_', ' ')\n",
    "            r.append(x)\n",
    "    return r"
   ]
  },
  {
   "cell_type": "code",
   "execution_count": 9,
   "metadata": {
    "collapsed": false
   },
   "outputs": [],
   "source": [
    "with open('data/techniques/en/wikipedia/wikipedia_category_cutting_techniques.html') as f:\n",
    "    soup = BeautifulSoup(f.read(), 'html.parser')\n",
    "    elems = soup.select('div#mw-pages div.mw-category-group ul li a')\n",
    "    techs = map(lambda x: trim(x['title']), elems)\n",
    "    clean_techs = clean_3(techs)\n",
    "    techniques = techniques.union(clean_techs)"
   ]
  },
  {
   "cell_type": "code",
   "execution_count": 10,
   "metadata": {
    "collapsed": true
   },
   "outputs": [],
   "source": [
    "def clean_4(l):\n",
    "    r = []\n",
    "    for e in l:\n",
    "        if e not in [\n",
    "            'Chinese cooking techniques',\n",
    "            'Manifold Destiny',\n",
    "            'Meat cooking techniques',\n",
    "            'Vietnamese cooking techniques',\n",
    "        ]:\n",
    "            x = e.strip().lower().replace('_', ' ')\n",
    "            x = x.split(' (')[0]\n",
    "            r.append(x)\n",
    "    return r"
   ]
  },
  {
   "cell_type": "code",
   "execution_count": 11,
   "metadata": {
    "collapsed": false
   },
   "outputs": [],
   "source": [
    "with open('data/techniques/en/wikipedia/wikipedia_list_cooking_techniques.html') as f:\n",
    "    soup = BeautifulSoup(f.read(), 'html.parser')\n",
    "    elems = soup.select('div#bodyContent h3 ~ ul:nth-of-type(1) li > a:nth-of-type(1)')\n",
    "    techs = map(lambda x: trim(x.string), elems)\n",
    "    clean_techs = clean_4(techs)\n",
    "    techniques = techniques.union(clean_techs)"
   ]
  },
  {
   "cell_type": "code",
   "execution_count": 12,
   "metadata": {
    "collapsed": true
   },
   "outputs": [],
   "source": [
    "def clean_5(l):\n",
    "    r = []\n",
    "    for e in l:\n",
    "        x = e.strip().lower().replace('_', ' ')\n",
    "        if 'or' in x:\n",
    "            x1, x2 = x.split(' or ')\n",
    "            r.append(x1)\n",
    "            r.append(x2)\n",
    "        else:\n",
    "            r.append(x)\n",
    "    return r"
   ]
  },
  {
   "cell_type": "code",
   "execution_count": 13,
   "metadata": {
    "collapsed": false
   },
   "outputs": [],
   "source": [
    "with open('data/techniques/en/wikipedia/wikipedia_chinese_cooking_techniques.html') as f:\n",
    "    soup = BeautifulSoup(f.read(), 'html.parser')\n",
    "    elems = soup.select('div#bodyContent table.wikitable tr > td:nth-of-type(1)')\n",
    "    techs = map(lambda x: trim(x.text), elems)\n",
    "    clean_techs = clean_5(techs)\n",
    "    techniques = techniques.union(clean_techs)"
   ]
  },
  {
   "cell_type": "code",
   "execution_count": 14,
   "metadata": {
    "collapsed": true
   },
   "outputs": [],
   "source": [
    "def clean_6(l):\n",
    "    r = []\n",
    "    for e in l:\n",
    "        x = e.strip().lower().replace('_', ' ')\n",
    "        r.append(x)\n",
    "    return r"
   ]
  },
  {
   "cell_type": "code",
   "execution_count": 15,
   "metadata": {
    "collapsed": false
   },
   "outputs": [],
   "source": [
    "with open('data/techniques/en/wikipedia/wikipedia_outline_food_preparation.html') as f:\n",
    "    soup = BeautifulSoup(f.read(), 'html.parser')\n",
    "    elems = ['Baking', 'Baking', 'Blind baking', 'Boiling', 'Blanching', 'Braising', 'Coddling', 'Infusion', 'Pressure cooking', 'Simmering', 'Poaching', 'Steaming', 'Double steaming', 'Steeping', 'Stewing', 'Vacuum flask cooking', 'Broiling', 'Grilling', 'Frying', 'Frying', 'Deep frying', 'Hot salt frying', 'Hot sand frying', 'Pan frying', 'Pressure frying', 'Sautéing', 'Stir frying', 'Microwaving', 'Microwave oven', 'Roasting', 'Roasting', 'Barbecuing', 'Grilling', 'Rotisserie', 'Searing', 'Hot Smoking', 'Smoking', 'Brining', 'Ceviche', 'Drying', 'Fermentation', 'Marinating', 'Pickling', 'Salting', 'Seasoning', 'Souring', 'Sprouting', 'Sugaring', 'Basting', 'Cutting', 'Chopping', 'Dicing', 'Grating', 'Julienning', 'Mincing', 'Peeling', 'Shaving', 'Kneading', 'Milling', 'Mixing', 'Blending', 'Vacuum Filling']\n",
    "    techs = map(lambda x: trim(x), elems)\n",
    "    clean_techs = clean_6(techs)\n",
    "    techniques = techniques.union(clean_techs)"
   ]
  },
  {
   "cell_type": "code",
   "execution_count": 16,
   "metadata": {
    "collapsed": true
   },
   "outputs": [],
   "source": [
    "def clean_7(l):\n",
    "    r = []\n",
    "    for e in l:\n",
    "        x = e.strip().lower().replace('_', ' ')\n",
    "        r.append(x)\n",
    "    return r"
   ]
  },
  {
   "cell_type": "code",
   "execution_count": 17,
   "metadata": {
    "collapsed": false
   },
   "outputs": [],
   "source": [
    "with open('data/techniques/en/wikipedia/wikipedia_cooking_methods.html') as f:\n",
    "    soup = BeautifulSoup(f.read(), 'html.parser')\n",
    "    elems = soup.select('div#bodyContent dl dd a')\n",
    "    techs = map(lambda x: trim(x.text), elems)\n",
    "    clean_techs = clean_7(techs)\n",
    "    techniques = techniques.union(clean_techs)"
   ]
  },
  {
   "cell_type": "code",
   "execution_count": 18,
   "metadata": {
    "collapsed": false
   },
   "outputs": [
    {
     "data": {
      "text/plain": [
       "229"
      ]
     },
     "execution_count": 18,
     "metadata": {},
     "output_type": "execute_result"
    }
   ],
   "source": [
    "len(techniques)"
   ]
  },
  {
   "cell_type": "code",
   "execution_count": 19,
   "metadata": {
    "collapsed": true
   },
   "outputs": [],
   "source": [
    "with open('data/techniques/wikipedia_techniques.txt', 'w') as f:\n",
    "    f.write('\\n'.join(sorted(techniques)))"
   ]
  },
  {
   "cell_type": "code",
   "execution_count": null,
   "metadata": {
    "collapsed": true
   },
   "outputs": [],
   "source": []
  }
 ],
 "metadata": {
  "kernelspec": {
   "display_name": "Python 3",
   "language": "python",
   "name": "python3"
  },
  "language_info": {
   "codemirror_mode": {
    "name": "ipython",
    "version": 3
   },
   "file_extension": ".py",
   "mimetype": "text/x-python",
   "name": "python",
   "nbconvert_exporter": "python",
   "pygments_lexer": "ipython3",
   "version": "3.4.3"
  }
 },
 "nbformat": 4,
 "nbformat_minor": 0
}
