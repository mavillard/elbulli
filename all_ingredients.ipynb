{
 "cells": [
  {
   "cell_type": "code",
   "execution_count": 1,
   "metadata": {
    "collapsed": false
   },
   "outputs": [],
   "source": [
    "ingredients = set()\n",
    "\n",
    "files = [\n",
    "    'barabasi_ingredients',\n",
    "    'foodcom_ingredients',\n",
    "    'ndtvfood_ingredients',\n",
    "    'bbcfood_ingredients',\n",
    "    'ibmchefwatson_ingredients',\n",
    "]\n",
    "path = 'data/ingredients/'\n",
    "for filename in files:\n",
    "    file_path = path + filename + '.txt'\n",
    "    with open(file_path) as f:\n",
    "        for line in f:\n",
    "            ingredient = line.strip()\n",
    "            ingredients.add(ingredient)\n",
    "\n",
    "with open('data/ingredients/all_ingredients.txt', 'w') as f:\n",
    "    f.write('\\n'.join(sorted(ingredients)))"
   ]
  },
  {
   "cell_type": "code",
   "execution_count": 2,
   "metadata": {
    "collapsed": false
   },
   "outputs": [
    {
     "data": {
      "text/plain": [
       "4383"
      ]
     },
     "execution_count": 2,
     "metadata": {},
     "output_type": "execute_result"
    }
   ],
   "source": [
    "len(ingredients)"
   ]
  },
  {
   "cell_type": "code",
   "execution_count": null,
   "metadata": {
    "collapsed": true
   },
   "outputs": [],
   "source": []
  }
 ],
 "metadata": {
  "kernelspec": {
   "display_name": "Python 3",
   "language": "python",
   "name": "python3"
  },
  "language_info": {
   "codemirror_mode": {
    "name": "ipython",
    "version": 3
   },
   "file_extension": ".py",
   "mimetype": "text/x-python",
   "name": "python",
   "nbconvert_exporter": "python",
   "pygments_lexer": "ipython3",
   "version": "3.4.3"
  }
 },
 "nbformat": 4,
 "nbformat_minor": 0
}
