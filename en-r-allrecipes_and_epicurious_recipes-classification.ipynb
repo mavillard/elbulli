{
 "cells": [
  {
   "cell_type": "code",
   "execution_count": 6,
   "metadata": {
    "collapsed": false
   },
   "outputs": [],
   "source": [
    "import json\n",
    "# import pickle\n",
    "# from time import time\n",
    "\n",
    "# import numpy as np\n",
    "import pandas as pd\n",
    "# from sklearn import metrics\n",
    "# from sklearn.cross_validation import StratifiedKFold, train_test_split\n",
    "# from sklearn.ensemble import RandomForestClassifier\n",
    "# from sklearn.feature_extraction.text import CountVectorizer, TfidfTransformer\n",
    "# from sklearn.feature_selection import SelectKBest, chi2\n",
    "# from sklearn.grid_search import GridSearchCV\n",
    "# from sklearn.linear_model import PassiveAggressiveClassifier, Perceptron, RidgeClassifier, SGDClassifier\n",
    "# from sklearn.naive_bayes import BernoulliNB, MultinomialNB\n",
    "# from sklearn.neighbors import KNeighborsClassifier, NearestCentroid\n",
    "# from sklearn.pipeline import Pipeline\n",
    "# from sklearn.svm import LinearSVC\n",
    "# # Classifiers obtained from http://scikit-learn.org/stable/auto_examples/text/document_classification_20newsgroups.html"
   ]
  },
  {
   "cell_type": "markdown",
   "metadata": {},
   "source": [
    "## Raw ingredients and techniques"
   ]
  },
  {
   "cell_type": "markdown",
   "metadata": {},
   "source": [
    "### allrecipes"
   ]
  },
  {
   "cell_type": "code",
   "execution_count": 21,
   "metadata": {
    "collapsed": false
   },
   "outputs": [],
   "source": [
    "allrecipes_raw_recipes_df = pd.read_csv('data/dbs/recipes_allrecipes_raw.csv')"
   ]
  },
  {
   "cell_type": "code",
   "execution_count": 22,
   "metadata": {
    "collapsed": false
   },
   "outputs": [
    {
     "data": {
      "text/plain": [
       "(66739, 5)"
      ]
     },
     "execution_count": 22,
     "metadata": {},
     "output_type": "execute_result"
    }
   ],
   "source": [
    "allrecipes_raw_recipes_df.shape"
   ]
  },
  {
   "cell_type": "code",
   "execution_count": 23,
   "metadata": {
    "collapsed": false
   },
   "outputs": [
    {
     "data": {
      "text/html": [
       "<div>\n",
       "<table border=\"1\" class=\"dataframe\">\n",
       "  <thead>\n",
       "    <tr style=\"text-align: right;\">\n",
       "      <th></th>\n",
       "      <th>_id</th>\n",
       "      <th>title</th>\n",
       "      <th>year</th>\n",
       "      <th>ingredients</th>\n",
       "      <th>techniques</th>\n",
       "    </tr>\n",
       "  </thead>\n",
       "  <tbody>\n",
       "    <tr>\n",
       "      <th>0</th>\n",
       "      <td>10000</td>\n",
       "      <td>\"Chocolate Sandwich Cookies I\"</td>\n",
       "      <td>2001</td>\n",
       "      <td>[\"cocoa powder\",\"shortening\",\"eggs\",\"milk\",\"su...</td>\n",
       "      <td>[\"beat\",\"baking\",\"mix\",\"sugar\",\"bake\",\"filling...</td>\n",
       "    </tr>\n",
       "    <tr>\n",
       "      <th>1</th>\n",
       "      <td>100008</td>\n",
       "      <td>\"Homemade Pickled Ginger (Gari)\"</td>\n",
       "      <td>2007</td>\n",
       "      <td>[\"sugar\",\"sea salt\",\"rice vinegar\",\"root\"]</td>\n",
       "      <td>[\"salt\",\"boiling\",\"sugar\",\"cut\",\"rice\"]</td>\n",
       "    </tr>\n",
       "    <tr>\n",
       "      <th>2</th>\n",
       "      <td>10001</td>\n",
       "      <td>\"Chocolate Pizzelles\"</td>\n",
       "      <td>2003</td>\n",
       "      <td>[\"cocoa powder\",\"eggs\",\"ground cinnamon\",\"suga...</td>\n",
       "      <td>[\"fold\",\"whisk\",\"melt\",\"sugar\",\"bake\",\"salt\",\"...</td>\n",
       "    </tr>\n",
       "    <tr>\n",
       "      <th>3</th>\n",
       "      <td>100011</td>\n",
       "      <td>\"Pork and Black Bean Stew\"</td>\n",
       "      <td>2007</td>\n",
       "      <td>[\"cut\",\"onion\",\"vegetable oil\",\"chicken stock\"...</td>\n",
       "      <td>[\"cover\",\"boil\",\"cook\",\"season\",\"pulse\",\"salt\"...</td>\n",
       "    </tr>\n",
       "    <tr>\n",
       "      <th>4</th>\n",
       "      <td>10002</td>\n",
       "      <td>\"Peter Pan Cookies\"</td>\n",
       "      <td>2000</td>\n",
       "      <td>[\"brown sugar\",\"baking soda\",\"eggs\",\"shortenin...</td>\n",
       "      <td>[\"baking\",\"mix\",\"bake\",\"beaten\",\"salt\",\"cream\"...</td>\n",
       "    </tr>\n",
       "  </tbody>\n",
       "</table>\n",
       "</div>"
      ],
      "text/plain": [
       "      _id                             title  year  \\\n",
       "0   10000    \"Chocolate Sandwich Cookies I\"  2001   \n",
       "1  100008  \"Homemade Pickled Ginger (Gari)\"  2007   \n",
       "2   10001             \"Chocolate Pizzelles\"  2003   \n",
       "3  100011        \"Pork and Black Bean Stew\"  2007   \n",
       "4   10002               \"Peter Pan Cookies\"  2000   \n",
       "\n",
       "                                         ingredients  \\\n",
       "0  [\"cocoa powder\",\"shortening\",\"eggs\",\"milk\",\"su...   \n",
       "1         [\"sugar\",\"sea salt\",\"rice vinegar\",\"root\"]   \n",
       "2  [\"cocoa powder\",\"eggs\",\"ground cinnamon\",\"suga...   \n",
       "3  [\"cut\",\"onion\",\"vegetable oil\",\"chicken stock\"...   \n",
       "4  [\"brown sugar\",\"baking soda\",\"eggs\",\"shortenin...   \n",
       "\n",
       "                                          techniques  \n",
       "0  [\"beat\",\"baking\",\"mix\",\"sugar\",\"bake\",\"filling...  \n",
       "1            [\"salt\",\"boiling\",\"sugar\",\"cut\",\"rice\"]  \n",
       "2  [\"fold\",\"whisk\",\"melt\",\"sugar\",\"bake\",\"salt\",\"...  \n",
       "3  [\"cover\",\"boil\",\"cook\",\"season\",\"pulse\",\"salt\"...  \n",
       "4  [\"baking\",\"mix\",\"bake\",\"beaten\",\"salt\",\"cream\"...  "
      ]
     },
     "execution_count": 23,
     "metadata": {},
     "output_type": "execute_result"
    }
   ],
   "source": [
    "allrecipes_raw_recipes_df.head()"
   ]
  },
  {
   "cell_type": "code",
   "execution_count": 24,
   "metadata": {
    "collapsed": false
   },
   "outputs": [],
   "source": [
    "allrecipes_raw_recipes_df['ingredients'] = allrecipes_raw_recipes_df.apply(lambda x: json.loads(x['ingredients']), axis=1)\n",
    "allrecipes_raw_recipes_df['techniques'] = allrecipes_raw_recipes_df.apply(lambda x: json.loads(x['techniques']), axis=1)"
   ]
  },
  {
   "cell_type": "code",
   "execution_count": 25,
   "metadata": {
    "collapsed": true
   },
   "outputs": [],
   "source": [
    "allrecipes_raw_recipes_df['source'] = allrecipes_raw_recipes_df.apply(\n",
    "    lambda x: 'allrecipes', axis=1)"
   ]
  },
  {
   "cell_type": "code",
   "execution_count": 26,
   "metadata": {
    "collapsed": false
   },
   "outputs": [
    {
     "data": {
      "text/html": [
       "<div>\n",
       "<table border=\"1\" class=\"dataframe\">\n",
       "  <thead>\n",
       "    <tr style=\"text-align: right;\">\n",
       "      <th></th>\n",
       "      <th>_id</th>\n",
       "      <th>title</th>\n",
       "      <th>year</th>\n",
       "      <th>ingredients</th>\n",
       "      <th>techniques</th>\n",
       "      <th>source</th>\n",
       "    </tr>\n",
       "  </thead>\n",
       "  <tbody>\n",
       "    <tr>\n",
       "      <th>0</th>\n",
       "      <td>10000</td>\n",
       "      <td>\"Chocolate Sandwich Cookies I\"</td>\n",
       "      <td>2001</td>\n",
       "      <td>[cocoa powder, shortening, eggs, milk, sugar, ...</td>\n",
       "      <td>[beat, baking, mix, sugar, bake, filling, batt...</td>\n",
       "      <td>allrecipes</td>\n",
       "    </tr>\n",
       "    <tr>\n",
       "      <th>1</th>\n",
       "      <td>100008</td>\n",
       "      <td>\"Homemade Pickled Ginger (Gari)\"</td>\n",
       "      <td>2007</td>\n",
       "      <td>[sugar, sea salt, rice vinegar, root]</td>\n",
       "      <td>[salt, boiling, sugar, cut, rice]</td>\n",
       "      <td>allrecipes</td>\n",
       "    </tr>\n",
       "    <tr>\n",
       "      <th>2</th>\n",
       "      <td>10001</td>\n",
       "      <td>\"Chocolate Pizzelles\"</td>\n",
       "      <td>2003</td>\n",
       "      <td>[cocoa powder, eggs, ground cinnamon, sugar, f...</td>\n",
       "      <td>[fold, whisk, melt, sugar, bake, salt, batter]</td>\n",
       "      <td>allrecipes</td>\n",
       "    </tr>\n",
       "    <tr>\n",
       "      <th>3</th>\n",
       "      <td>100011</td>\n",
       "      <td>\"Pork and Black Bean Stew\"</td>\n",
       "      <td>2007</td>\n",
       "      <td>[cut, onion, vegetable oil, chicken stock, bay...</td>\n",
       "      <td>[cover, boil, cook, season, pulse, salt, simmer]</td>\n",
       "      <td>allrecipes</td>\n",
       "    </tr>\n",
       "    <tr>\n",
       "      <th>4</th>\n",
       "      <td>10002</td>\n",
       "      <td>\"Peter Pan Cookies\"</td>\n",
       "      <td>2000</td>\n",
       "      <td>[brown sugar, baking soda, eggs, shortening, m...</td>\n",
       "      <td>[baking, mix, bake, beaten, salt, cream, blend...</td>\n",
       "      <td>allrecipes</td>\n",
       "    </tr>\n",
       "  </tbody>\n",
       "</table>\n",
       "</div>"
      ],
      "text/plain": [
       "      _id                             title  year  \\\n",
       "0   10000    \"Chocolate Sandwich Cookies I\"  2001   \n",
       "1  100008  \"Homemade Pickled Ginger (Gari)\"  2007   \n",
       "2   10001             \"Chocolate Pizzelles\"  2003   \n",
       "3  100011        \"Pork and Black Bean Stew\"  2007   \n",
       "4   10002               \"Peter Pan Cookies\"  2000   \n",
       "\n",
       "                                         ingredients  \\\n",
       "0  [cocoa powder, shortening, eggs, milk, sugar, ...   \n",
       "1              [sugar, sea salt, rice vinegar, root]   \n",
       "2  [cocoa powder, eggs, ground cinnamon, sugar, f...   \n",
       "3  [cut, onion, vegetable oil, chicken stock, bay...   \n",
       "4  [brown sugar, baking soda, eggs, shortening, m...   \n",
       "\n",
       "                                          techniques      source  \n",
       "0  [beat, baking, mix, sugar, bake, filling, batt...  allrecipes  \n",
       "1                  [salt, boiling, sugar, cut, rice]  allrecipes  \n",
       "2     [fold, whisk, melt, sugar, bake, salt, batter]  allrecipes  \n",
       "3   [cover, boil, cook, season, pulse, salt, simmer]  allrecipes  \n",
       "4  [baking, mix, bake, beaten, salt, cream, blend...  allrecipes  "
      ]
     },
     "execution_count": 26,
     "metadata": {},
     "output_type": "execute_result"
    }
   ],
   "source": [
    "allrecipes_raw_recipes_df.head()"
   ]
  },
  {
   "cell_type": "markdown",
   "metadata": {},
   "source": [
    "### epicurious"
   ]
  },
  {
   "cell_type": "code",
   "execution_count": 27,
   "metadata": {
    "collapsed": false
   },
   "outputs": [],
   "source": [
    "epicurious_raw_recipes_df = pd.read_csv('data/dbs/recipes_epicurious_raw.csv')"
   ]
  },
  {
   "cell_type": "code",
   "execution_count": 28,
   "metadata": {
    "collapsed": false
   },
   "outputs": [
    {
     "data": {
      "text/plain": [
       "(24324, 5)"
      ]
     },
     "execution_count": 28,
     "metadata": {},
     "output_type": "execute_result"
    }
   ],
   "source": [
    "epicurious_raw_recipes_df.shape"
   ]
  },
  {
   "cell_type": "code",
   "execution_count": 29,
   "metadata": {
    "collapsed": false
   },
   "outputs": [
    {
     "data": {
      "text/html": [
       "<div>\n",
       "<table border=\"1\" class=\"dataframe\">\n",
       "  <thead>\n",
       "    <tr style=\"text-align: right;\">\n",
       "      <th></th>\n",
       "      <th>_id</th>\n",
       "      <th>title</th>\n",
       "      <th>year</th>\n",
       "      <th>ingredients</th>\n",
       "      <th>techniques</th>\n",
       "    </tr>\n",
       "  </thead>\n",
       "  <tbody>\n",
       "    <tr>\n",
       "      <th>0</th>\n",
       "      <td>1</td>\n",
       "      <td>White Bean and Pesto Dip</td>\n",
       "      <td>2004</td>\n",
       "      <td>[\"kidney beans\",\"pesto\",\"lemon juice\"]</td>\n",
       "      <td>[\"salt\",\"prepared\",\"season\"]</td>\n",
       "    </tr>\n",
       "    <tr>\n",
       "      <th>1</th>\n",
       "      <td>10</td>\n",
       "      <td>Lentil Salad with Mint and Feta</td>\n",
       "      <td>2004</td>\n",
       "      <td>[\"mint\",\"green onions\",\"lentils\",\"olive oil\",\"...</td>\n",
       "      <td>[\"salt\",\"cover\",\"prepared\",\"season\",\"boil\",\"ch...</td>\n",
       "    </tr>\n",
       "    <tr>\n",
       "      <th>2</th>\n",
       "      <td>100</td>\n",
       "      <td>Moo Shu Pork</td>\n",
       "      <td>2004</td>\n",
       "      <td>[\"cloves\",\"bok choy\",\"red bell pepper\",\"pork l...</td>\n",
       "      <td>[\"brown\",\"sauce\",\"roll\",\"wrap\",\"mix\",\"wok\",\"st...</td>\n",
       "    </tr>\n",
       "    <tr>\n",
       "      <th>3</th>\n",
       "      <td>1000</td>\n",
       "      <td>Butter Pastry Dough</td>\n",
       "      <td>2004</td>\n",
       "      <td>[\"salt\",\"water\",\"cut\",\"flour\"]</td>\n",
       "      <td>[\"whisk\",\"salt\",\"wrap\",\"dough\",\"chilled\",\"ice\"]</td>\n",
       "    </tr>\n",
       "    <tr>\n",
       "      <th>4</th>\n",
       "      <td>10001</td>\n",
       "      <td>Brown Bread</td>\n",
       "      <td>2004</td>\n",
       "      <td>[\"flour\",\"salt\",\"baking soda\",\"molasses\",\"rais...</td>\n",
       "      <td>[\"knocking\",\"whisk\",\"grease\",\"prepared\",\"dry\",...</td>\n",
       "    </tr>\n",
       "  </tbody>\n",
       "</table>\n",
       "</div>"
      ],
      "text/plain": [
       "     _id                            title  year  \\\n",
       "0      1         White Bean and Pesto Dip  2004   \n",
       "1     10  Lentil Salad with Mint and Feta  2004   \n",
       "2    100                     Moo Shu Pork  2004   \n",
       "3   1000              Butter Pastry Dough  2004   \n",
       "4  10001                      Brown Bread  2004   \n",
       "\n",
       "                                         ingredients  \\\n",
       "0             [\"kidney beans\",\"pesto\",\"lemon juice\"]   \n",
       "1  [\"mint\",\"green onions\",\"lentils\",\"olive oil\",\"...   \n",
       "2  [\"cloves\",\"bok choy\",\"red bell pepper\",\"pork l...   \n",
       "3                     [\"salt\",\"water\",\"cut\",\"flour\"]   \n",
       "4  [\"flour\",\"salt\",\"baking soda\",\"molasses\",\"rais...   \n",
       "\n",
       "                                          techniques  \n",
       "0                       [\"salt\",\"prepared\",\"season\"]  \n",
       "1  [\"salt\",\"cover\",\"prepared\",\"season\",\"boil\",\"ch...  \n",
       "2  [\"brown\",\"sauce\",\"roll\",\"wrap\",\"mix\",\"wok\",\"st...  \n",
       "3    [\"whisk\",\"salt\",\"wrap\",\"dough\",\"chilled\",\"ice\"]  \n",
       "4  [\"knocking\",\"whisk\",\"grease\",\"prepared\",\"dry\",...  "
      ]
     },
     "execution_count": 29,
     "metadata": {},
     "output_type": "execute_result"
    }
   ],
   "source": [
    "epicurious_raw_recipes_df.head()"
   ]
  },
  {
   "cell_type": "code",
   "execution_count": 30,
   "metadata": {
    "collapsed": false
   },
   "outputs": [],
   "source": [
    "epicurious_raw_recipes_df['ingredients'] = epicurious_raw_recipes_df.apply(lambda x: json.loads(x['ingredients']), axis=1)\n",
    "epicurious_raw_recipes_df['techniques'] = epicurious_raw_recipes_df.apply(lambda x: json.loads(x['techniques']), axis=1)"
   ]
  },
  {
   "cell_type": "code",
   "execution_count": 31,
   "metadata": {
    "collapsed": true
   },
   "outputs": [],
   "source": [
    "epicurious_raw_recipes_df['source'] = epicurious_raw_recipes_df.apply(\n",
    "    lambda x: 'epicurious', axis=1)"
   ]
  },
  {
   "cell_type": "code",
   "execution_count": 32,
   "metadata": {
    "collapsed": false
   },
   "outputs": [
    {
     "data": {
      "text/html": [
       "<div>\n",
       "<table border=\"1\" class=\"dataframe\">\n",
       "  <thead>\n",
       "    <tr style=\"text-align: right;\">\n",
       "      <th></th>\n",
       "      <th>_id</th>\n",
       "      <th>title</th>\n",
       "      <th>year</th>\n",
       "      <th>ingredients</th>\n",
       "      <th>techniques</th>\n",
       "      <th>source</th>\n",
       "    </tr>\n",
       "  </thead>\n",
       "  <tbody>\n",
       "    <tr>\n",
       "      <th>0</th>\n",
       "      <td>1</td>\n",
       "      <td>White Bean and Pesto Dip</td>\n",
       "      <td>2004</td>\n",
       "      <td>[kidney beans, pesto, lemon juice]</td>\n",
       "      <td>[salt, prepared, season]</td>\n",
       "      <td>epicurious</td>\n",
       "    </tr>\n",
       "    <tr>\n",
       "      <th>1</th>\n",
       "      <td>10</td>\n",
       "      <td>Lentil Salad with Mint and Feta</td>\n",
       "      <td>2004</td>\n",
       "      <td>[mint, green onions, lentils, olive oil, clove...</td>\n",
       "      <td>[salt, cover, prepared, season, boil, chilled,...</td>\n",
       "      <td>epicurious</td>\n",
       "    </tr>\n",
       "    <tr>\n",
       "      <th>2</th>\n",
       "      <td>100</td>\n",
       "      <td>Moo Shu Pork</td>\n",
       "      <td>2004</td>\n",
       "      <td>[cloves, bok choy, red bell pepper, pork loin ...</td>\n",
       "      <td>[brown, sauce, roll, wrap, mix, wok, stir-fry]</td>\n",
       "      <td>epicurious</td>\n",
       "    </tr>\n",
       "    <tr>\n",
       "      <th>3</th>\n",
       "      <td>1000</td>\n",
       "      <td>Butter Pastry Dough</td>\n",
       "      <td>2004</td>\n",
       "      <td>[salt, water, cut, flour]</td>\n",
       "      <td>[whisk, salt, wrap, dough, chilled, ice]</td>\n",
       "      <td>epicurious</td>\n",
       "    </tr>\n",
       "    <tr>\n",
       "      <th>4</th>\n",
       "      <td>10001</td>\n",
       "      <td>Brown Bread</td>\n",
       "      <td>2004</td>\n",
       "      <td>[flour, salt, baking soda, molasses, raisins, ...</td>\n",
       "      <td>[knocking, whisk, grease, prepared, dry, slici...</td>\n",
       "      <td>epicurious</td>\n",
       "    </tr>\n",
       "  </tbody>\n",
       "</table>\n",
       "</div>"
      ],
      "text/plain": [
       "     _id                            title  year  \\\n",
       "0      1         White Bean and Pesto Dip  2004   \n",
       "1     10  Lentil Salad with Mint and Feta  2004   \n",
       "2    100                     Moo Shu Pork  2004   \n",
       "3   1000              Butter Pastry Dough  2004   \n",
       "4  10001                      Brown Bread  2004   \n",
       "\n",
       "                                         ingredients  \\\n",
       "0                 [kidney beans, pesto, lemon juice]   \n",
       "1  [mint, green onions, lentils, olive oil, clove...   \n",
       "2  [cloves, bok choy, red bell pepper, pork loin ...   \n",
       "3                          [salt, water, cut, flour]   \n",
       "4  [flour, salt, baking soda, molasses, raisins, ...   \n",
       "\n",
       "                                          techniques      source  \n",
       "0                           [salt, prepared, season]  epicurious  \n",
       "1  [salt, cover, prepared, season, boil, chilled,...  epicurious  \n",
       "2     [brown, sauce, roll, wrap, mix, wok, stir-fry]  epicurious  \n",
       "3           [whisk, salt, wrap, dough, chilled, ice]  epicurious  \n",
       "4  [knocking, whisk, grease, prepared, dry, slici...  epicurious  "
      ]
     },
     "execution_count": 32,
     "metadata": {},
     "output_type": "execute_result"
    }
   ],
   "source": [
    "epicurious_raw_recipes_df.head()"
   ]
  },
  {
   "cell_type": "markdown",
   "metadata": {},
   "source": [
    "### allrecipes & epicurious"
   ]
  },
  {
   "cell_type": "code",
   "execution_count": 33,
   "metadata": {
    "collapsed": true
   },
   "outputs": [],
   "source": [
    "raw_recipes_df = allrecipes_raw_recipes_df.append(epicurious_raw_recipes_df, ignore_index=True)"
   ]
  },
  {
   "cell_type": "code",
   "execution_count": 34,
   "metadata": {
    "collapsed": false,
    "scrolled": true
   },
   "outputs": [
    {
     "data": {
      "text/html": [
       "<div>\n",
       "<table border=\"1\" class=\"dataframe\">\n",
       "  <thead>\n",
       "    <tr style=\"text-align: right;\">\n",
       "      <th></th>\n",
       "      <th>_id</th>\n",
       "      <th>title</th>\n",
       "      <th>year</th>\n",
       "      <th>ingredients</th>\n",
       "      <th>techniques</th>\n",
       "      <th>source</th>\n",
       "    </tr>\n",
       "  </thead>\n",
       "  <tbody>\n",
       "    <tr>\n",
       "      <th>0</th>\n",
       "      <td>10000</td>\n",
       "      <td>\"Chocolate Sandwich Cookies I\"</td>\n",
       "      <td>2001</td>\n",
       "      <td>[cocoa powder, shortening, eggs, milk, sugar, ...</td>\n",
       "      <td>[beat, baking, mix, sugar, bake, filling, batt...</td>\n",
       "      <td>allrecipes</td>\n",
       "    </tr>\n",
       "    <tr>\n",
       "      <th>1</th>\n",
       "      <td>100008</td>\n",
       "      <td>\"Homemade Pickled Ginger (Gari)\"</td>\n",
       "      <td>2007</td>\n",
       "      <td>[sugar, sea salt, rice vinegar, root]</td>\n",
       "      <td>[salt, boiling, sugar, cut, rice]</td>\n",
       "      <td>allrecipes</td>\n",
       "    </tr>\n",
       "    <tr>\n",
       "      <th>2</th>\n",
       "      <td>10001</td>\n",
       "      <td>\"Chocolate Pizzelles\"</td>\n",
       "      <td>2003</td>\n",
       "      <td>[cocoa powder, eggs, ground cinnamon, sugar, f...</td>\n",
       "      <td>[fold, whisk, melt, sugar, bake, salt, batter]</td>\n",
       "      <td>allrecipes</td>\n",
       "    </tr>\n",
       "    <tr>\n",
       "      <th>3</th>\n",
       "      <td>100011</td>\n",
       "      <td>\"Pork and Black Bean Stew\"</td>\n",
       "      <td>2007</td>\n",
       "      <td>[cut, onion, vegetable oil, chicken stock, bay...</td>\n",
       "      <td>[cover, boil, cook, season, pulse, salt, simmer]</td>\n",
       "      <td>allrecipes</td>\n",
       "    </tr>\n",
       "    <tr>\n",
       "      <th>4</th>\n",
       "      <td>10002</td>\n",
       "      <td>\"Peter Pan Cookies\"</td>\n",
       "      <td>2000</td>\n",
       "      <td>[brown sugar, baking soda, eggs, shortening, m...</td>\n",
       "      <td>[baking, mix, bake, beaten, salt, cream, blend...</td>\n",
       "      <td>allrecipes</td>\n",
       "    </tr>\n",
       "  </tbody>\n",
       "</table>\n",
       "</div>"
      ],
      "text/plain": [
       "      _id                             title  year  \\\n",
       "0   10000    \"Chocolate Sandwich Cookies I\"  2001   \n",
       "1  100008  \"Homemade Pickled Ginger (Gari)\"  2007   \n",
       "2   10001             \"Chocolate Pizzelles\"  2003   \n",
       "3  100011        \"Pork and Black Bean Stew\"  2007   \n",
       "4   10002               \"Peter Pan Cookies\"  2000   \n",
       "\n",
       "                                         ingredients  \\\n",
       "0  [cocoa powder, shortening, eggs, milk, sugar, ...   \n",
       "1              [sugar, sea salt, rice vinegar, root]   \n",
       "2  [cocoa powder, eggs, ground cinnamon, sugar, f...   \n",
       "3  [cut, onion, vegetable oil, chicken stock, bay...   \n",
       "4  [brown sugar, baking soda, eggs, shortening, m...   \n",
       "\n",
       "                                          techniques      source  \n",
       "0  [beat, baking, mix, sugar, bake, filling, batt...  allrecipes  \n",
       "1                  [salt, boiling, sugar, cut, rice]  allrecipes  \n",
       "2     [fold, whisk, melt, sugar, bake, salt, batter]  allrecipes  \n",
       "3   [cover, boil, cook, season, pulse, salt, simmer]  allrecipes  \n",
       "4  [baking, mix, bake, beaten, salt, cream, blend...  allrecipes  "
      ]
     },
     "execution_count": 34,
     "metadata": {},
     "output_type": "execute_result"
    }
   ],
   "source": [
    "raw_recipes_df.head()"
   ]
  },
  {
   "cell_type": "markdown",
   "metadata": {},
   "source": [
    "## Representative ingredients and techniques"
   ]
  },
  {
   "cell_type": "markdown",
   "metadata": {},
   "source": [
    "### allrecipes"
   ]
  },
  {
   "cell_type": "code",
   "execution_count": 49,
   "metadata": {
    "collapsed": false
   },
   "outputs": [],
   "source": [
    "allrecipes_repr_recipes_df = pd.read_csv('data/dbs/recipes_allrecipes_representatives.csv')"
   ]
  },
  {
   "cell_type": "code",
   "execution_count": 50,
   "metadata": {
    "collapsed": false
   },
   "outputs": [
    {
     "data": {
      "text/plain": [
       "(66739, 5)"
      ]
     },
     "execution_count": 50,
     "metadata": {},
     "output_type": "execute_result"
    }
   ],
   "source": [
    "allrecipes_repr_recipes_df.shape"
   ]
  },
  {
   "cell_type": "code",
   "execution_count": 51,
   "metadata": {
    "collapsed": false
   },
   "outputs": [
    {
     "data": {
      "text/html": [
       "<div>\n",
       "<table border=\"1\" class=\"dataframe\">\n",
       "  <thead>\n",
       "    <tr style=\"text-align: right;\">\n",
       "      <th></th>\n",
       "      <th>_id</th>\n",
       "      <th>title</th>\n",
       "      <th>year</th>\n",
       "      <th>ingredients</th>\n",
       "      <th>techniques</th>\n",
       "    </tr>\n",
       "  </thead>\n",
       "  <tbody>\n",
       "    <tr>\n",
       "      <th>0</th>\n",
       "      <td>10000</td>\n",
       "      <td>\"Chocolate Sandwich Cookies I\"</td>\n",
       "      <td>2001</td>\n",
       "      <td>[\"cocoa powder\",\"shortening\",\"eggs\",\"milk\",\"su...</td>\n",
       "      <td>[\"beat\",\"bake\",\"mix\",\"sugar\",\"bake\",\"filling\",...</td>\n",
       "    </tr>\n",
       "    <tr>\n",
       "      <th>1</th>\n",
       "      <td>100008</td>\n",
       "      <td>\"Homemade Pickled Ginger (Gari)\"</td>\n",
       "      <td>2007</td>\n",
       "      <td>[\"sugar\",\"sea salt\",\"rice vinegar\",\"root\"]</td>\n",
       "      <td>[\"salt\",\"boil\",\"sugar\",\"cut\",\"rice\"]</td>\n",
       "    </tr>\n",
       "    <tr>\n",
       "      <th>2</th>\n",
       "      <td>10001</td>\n",
       "      <td>\"Chocolate Pizzelles\"</td>\n",
       "      <td>2003</td>\n",
       "      <td>[\"cocoa powder\",\"eggs\",\"ground cinnamon\",\"suga...</td>\n",
       "      <td>[\"fold\",\"whisk\",\"melted\",\"sugar\",\"bake\",\"salt\"...</td>\n",
       "    </tr>\n",
       "    <tr>\n",
       "      <th>3</th>\n",
       "      <td>100011</td>\n",
       "      <td>\"Pork and Black Bean Stew\"</td>\n",
       "      <td>2007</td>\n",
       "      <td>[\"cut\",\"onion\",\"vegetable oil\",\"chicken stock\"...</td>\n",
       "      <td>[\"cover\",\"boil\",\"cook\",\"season\",\"pulse\",\"salt\"...</td>\n",
       "    </tr>\n",
       "    <tr>\n",
       "      <th>4</th>\n",
       "      <td>10002</td>\n",
       "      <td>\"Peter Pan Cookies\"</td>\n",
       "      <td>2000</td>\n",
       "      <td>[\"brown sugar\",\"baking soda\",\"eggs\",\"shortenin...</td>\n",
       "      <td>[\"bake\",\"mix\",\"bake\",\"beat\",\"salt\",\"cream\",\"bl...</td>\n",
       "    </tr>\n",
       "  </tbody>\n",
       "</table>\n",
       "</div>"
      ],
      "text/plain": [
       "      _id                             title  year  \\\n",
       "0   10000    \"Chocolate Sandwich Cookies I\"  2001   \n",
       "1  100008  \"Homemade Pickled Ginger (Gari)\"  2007   \n",
       "2   10001             \"Chocolate Pizzelles\"  2003   \n",
       "3  100011        \"Pork and Black Bean Stew\"  2007   \n",
       "4   10002               \"Peter Pan Cookies\"  2000   \n",
       "\n",
       "                                         ingredients  \\\n",
       "0  [\"cocoa powder\",\"shortening\",\"eggs\",\"milk\",\"su...   \n",
       "1         [\"sugar\",\"sea salt\",\"rice vinegar\",\"root\"]   \n",
       "2  [\"cocoa powder\",\"eggs\",\"ground cinnamon\",\"suga...   \n",
       "3  [\"cut\",\"onion\",\"vegetable oil\",\"chicken stock\"...   \n",
       "4  [\"brown sugar\",\"baking soda\",\"eggs\",\"shortenin...   \n",
       "\n",
       "                                          techniques  \n",
       "0  [\"beat\",\"bake\",\"mix\",\"sugar\",\"bake\",\"filling\",...  \n",
       "1               [\"salt\",\"boil\",\"sugar\",\"cut\",\"rice\"]  \n",
       "2  [\"fold\",\"whisk\",\"melted\",\"sugar\",\"bake\",\"salt\"...  \n",
       "3  [\"cover\",\"boil\",\"cook\",\"season\",\"pulse\",\"salt\"...  \n",
       "4  [\"bake\",\"mix\",\"bake\",\"beat\",\"salt\",\"cream\",\"bl...  "
      ]
     },
     "execution_count": 51,
     "metadata": {},
     "output_type": "execute_result"
    }
   ],
   "source": [
    "allrecipes_repr_recipes_df.head()"
   ]
  },
  {
   "cell_type": "code",
   "execution_count": 52,
   "metadata": {
    "collapsed": false
   },
   "outputs": [],
   "source": [
    "allrecipes_repr_recipes_df['ingredients'] = allrecipes_repr_recipes_df.apply(lambda x: json.loads(x['ingredients']), axis=1)\n",
    "allrecipes_repr_recipes_df['techniques'] = allrecipes_repr_recipes_df.apply(lambda x: json.loads(x['techniques']), axis=1)"
   ]
  },
  {
   "cell_type": "code",
   "execution_count": 53,
   "metadata": {
    "collapsed": true
   },
   "outputs": [],
   "source": [
    "allrecipes_repr_recipes_df['source'] = allrecipes_repr_recipes_df.apply(\n",
    "    lambda x: 'allrecipes', axis=1)"
   ]
  },
  {
   "cell_type": "code",
   "execution_count": 54,
   "metadata": {
    "collapsed": false,
    "scrolled": true
   },
   "outputs": [
    {
     "data": {
      "text/html": [
       "<div>\n",
       "<table border=\"1\" class=\"dataframe\">\n",
       "  <thead>\n",
       "    <tr style=\"text-align: right;\">\n",
       "      <th></th>\n",
       "      <th>_id</th>\n",
       "      <th>title</th>\n",
       "      <th>year</th>\n",
       "      <th>ingredients</th>\n",
       "      <th>techniques</th>\n",
       "      <th>source</th>\n",
       "    </tr>\n",
       "  </thead>\n",
       "  <tbody>\n",
       "    <tr>\n",
       "      <th>0</th>\n",
       "      <td>10000</td>\n",
       "      <td>\"Chocolate Sandwich Cookies I\"</td>\n",
       "      <td>2001</td>\n",
       "      <td>[cocoa powder, shortening, eggs, milk, sugar, ...</td>\n",
       "      <td>[beat, bake, mix, sugar, bake, filling, batter...</td>\n",
       "      <td>allrecipes</td>\n",
       "    </tr>\n",
       "    <tr>\n",
       "      <th>1</th>\n",
       "      <td>100008</td>\n",
       "      <td>\"Homemade Pickled Ginger (Gari)\"</td>\n",
       "      <td>2007</td>\n",
       "      <td>[sugar, sea salt, rice vinegar, root]</td>\n",
       "      <td>[salt, boil, sugar, cut, rice]</td>\n",
       "      <td>allrecipes</td>\n",
       "    </tr>\n",
       "    <tr>\n",
       "      <th>2</th>\n",
       "      <td>10001</td>\n",
       "      <td>\"Chocolate Pizzelles\"</td>\n",
       "      <td>2003</td>\n",
       "      <td>[cocoa powder, eggs, ground cinnamon, sugar, f...</td>\n",
       "      <td>[fold, whisk, melted, sugar, bake, salt, batter]</td>\n",
       "      <td>allrecipes</td>\n",
       "    </tr>\n",
       "    <tr>\n",
       "      <th>3</th>\n",
       "      <td>100011</td>\n",
       "      <td>\"Pork and Black Bean Stew\"</td>\n",
       "      <td>2007</td>\n",
       "      <td>[cut, onion, vegetable oil, chicken stock, bay...</td>\n",
       "      <td>[cover, boil, cook, season, pulse, salt, simmer]</td>\n",
       "      <td>allrecipes</td>\n",
       "    </tr>\n",
       "    <tr>\n",
       "      <th>4</th>\n",
       "      <td>10002</td>\n",
       "      <td>\"Peter Pan Cookies\"</td>\n",
       "      <td>2000</td>\n",
       "      <td>[brown sugar, baking soda, eggs, shortening, m...</td>\n",
       "      <td>[bake, mix, bake, beat, salt, cream, blending]</td>\n",
       "      <td>allrecipes</td>\n",
       "    </tr>\n",
       "  </tbody>\n",
       "</table>\n",
       "</div>"
      ],
      "text/plain": [
       "      _id                             title  year  \\\n",
       "0   10000    \"Chocolate Sandwich Cookies I\"  2001   \n",
       "1  100008  \"Homemade Pickled Ginger (Gari)\"  2007   \n",
       "2   10001             \"Chocolate Pizzelles\"  2003   \n",
       "3  100011        \"Pork and Black Bean Stew\"  2007   \n",
       "4   10002               \"Peter Pan Cookies\"  2000   \n",
       "\n",
       "                                         ingredients  \\\n",
       "0  [cocoa powder, shortening, eggs, milk, sugar, ...   \n",
       "1              [sugar, sea salt, rice vinegar, root]   \n",
       "2  [cocoa powder, eggs, ground cinnamon, sugar, f...   \n",
       "3  [cut, onion, vegetable oil, chicken stock, bay...   \n",
       "4  [brown sugar, baking soda, eggs, shortening, m...   \n",
       "\n",
       "                                          techniques      source  \n",
       "0  [beat, bake, mix, sugar, bake, filling, batter...  allrecipes  \n",
       "1                     [salt, boil, sugar, cut, rice]  allrecipes  \n",
       "2   [fold, whisk, melted, sugar, bake, salt, batter]  allrecipes  \n",
       "3   [cover, boil, cook, season, pulse, salt, simmer]  allrecipes  \n",
       "4     [bake, mix, bake, beat, salt, cream, blending]  allrecipes  "
      ]
     },
     "execution_count": 54,
     "metadata": {},
     "output_type": "execute_result"
    }
   ],
   "source": [
    "allrecipes_repr_recipes_df.head()"
   ]
  },
  {
   "cell_type": "markdown",
   "metadata": {},
   "source": [
    "### epicurious"
   ]
  },
  {
   "cell_type": "code",
   "execution_count": 55,
   "metadata": {
    "collapsed": false
   },
   "outputs": [],
   "source": [
    "epicurious_repr_recipes_df = pd.read_csv('data/dbs/recipes_epicurious_representatives.csv')"
   ]
  },
  {
   "cell_type": "code",
   "execution_count": 56,
   "metadata": {
    "collapsed": false
   },
   "outputs": [
    {
     "data": {
      "text/plain": [
       "(24324, 5)"
      ]
     },
     "execution_count": 56,
     "metadata": {},
     "output_type": "execute_result"
    }
   ],
   "source": [
    "epicurious_repr_recipes_df.shape"
   ]
  },
  {
   "cell_type": "code",
   "execution_count": 57,
   "metadata": {
    "collapsed": false
   },
   "outputs": [
    {
     "data": {
      "text/html": [
       "<div>\n",
       "<table border=\"1\" class=\"dataframe\">\n",
       "  <thead>\n",
       "    <tr style=\"text-align: right;\">\n",
       "      <th></th>\n",
       "      <th>_id</th>\n",
       "      <th>title</th>\n",
       "      <th>year</th>\n",
       "      <th>ingredients</th>\n",
       "      <th>techniques</th>\n",
       "    </tr>\n",
       "  </thead>\n",
       "  <tbody>\n",
       "    <tr>\n",
       "      <th>0</th>\n",
       "      <td>1</td>\n",
       "      <td>White Bean and Pesto Dip</td>\n",
       "      <td>2004</td>\n",
       "      <td>[\"kidney beans\",\"pesto\",\"lemon juice\"]</td>\n",
       "      <td>[\"salt\",\"prepared\",\"season\"]</td>\n",
       "    </tr>\n",
       "    <tr>\n",
       "      <th>1</th>\n",
       "      <td>10</td>\n",
       "      <td>Lentil Salad with Mint and Feta</td>\n",
       "      <td>2004</td>\n",
       "      <td>[\"mint\",\"green onions\",\"lentils\",\"olive oil\",\"...</td>\n",
       "      <td>[\"salt\",\"cover\",\"prepared\",\"season\",\"boil\",\"ch...</td>\n",
       "    </tr>\n",
       "    <tr>\n",
       "      <th>2</th>\n",
       "      <td>100</td>\n",
       "      <td>Moo Shu Pork</td>\n",
       "      <td>2004</td>\n",
       "      <td>[\"cloves\",\"bok choy\",\"red bell pepper\",\"pork l...</td>\n",
       "      <td>[\"brown\",\"sauce\",\"roll\",\"wrap\",\"mix\",\"stir-fry...</td>\n",
       "    </tr>\n",
       "    <tr>\n",
       "      <th>3</th>\n",
       "      <td>1000</td>\n",
       "      <td>Butter Pastry Dough</td>\n",
       "      <td>2004</td>\n",
       "      <td>[\"salt\",\"water\",\"cut\",\"flour\"]</td>\n",
       "      <td>[\"whisk\",\"salt\",\"wrap\",\"dough\",\"chill\",\"ice\"]</td>\n",
       "    </tr>\n",
       "    <tr>\n",
       "      <th>4</th>\n",
       "      <td>10001</td>\n",
       "      <td>Brown Bread</td>\n",
       "      <td>2004</td>\n",
       "      <td>[\"flour\",\"salt\",\"baking soda\",\"molasses\",\"rais...</td>\n",
       "      <td>[\"knocking\",\"whisk\",\"grease\",\"prepared\",\"dry\",...</td>\n",
       "    </tr>\n",
       "  </tbody>\n",
       "</table>\n",
       "</div>"
      ],
      "text/plain": [
       "     _id                            title  year  \\\n",
       "0      1         White Bean and Pesto Dip  2004   \n",
       "1     10  Lentil Salad with Mint and Feta  2004   \n",
       "2    100                     Moo Shu Pork  2004   \n",
       "3   1000              Butter Pastry Dough  2004   \n",
       "4  10001                      Brown Bread  2004   \n",
       "\n",
       "                                         ingredients  \\\n",
       "0             [\"kidney beans\",\"pesto\",\"lemon juice\"]   \n",
       "1  [\"mint\",\"green onions\",\"lentils\",\"olive oil\",\"...   \n",
       "2  [\"cloves\",\"bok choy\",\"red bell pepper\",\"pork l...   \n",
       "3                     [\"salt\",\"water\",\"cut\",\"flour\"]   \n",
       "4  [\"flour\",\"salt\",\"baking soda\",\"molasses\",\"rais...   \n",
       "\n",
       "                                          techniques  \n",
       "0                       [\"salt\",\"prepared\",\"season\"]  \n",
       "1  [\"salt\",\"cover\",\"prepared\",\"season\",\"boil\",\"ch...  \n",
       "2  [\"brown\",\"sauce\",\"roll\",\"wrap\",\"mix\",\"stir-fry...  \n",
       "3      [\"whisk\",\"salt\",\"wrap\",\"dough\",\"chill\",\"ice\"]  \n",
       "4  [\"knocking\",\"whisk\",\"grease\",\"prepared\",\"dry\",...  "
      ]
     },
     "execution_count": 57,
     "metadata": {},
     "output_type": "execute_result"
    }
   ],
   "source": [
    "epicurious_repr_recipes_df.head()"
   ]
  },
  {
   "cell_type": "code",
   "execution_count": 58,
   "metadata": {
    "collapsed": false
   },
   "outputs": [],
   "source": [
    "epicurious_repr_recipes_df['ingredients'] = epicurious_repr_recipes_df.apply(lambda x: json.loads(x['ingredients']), axis=1)\n",
    "epicurious_repr_recipes_df['techniques'] = epicurious_repr_recipes_df.apply(lambda x: json.loads(x['techniques']), axis=1)"
   ]
  },
  {
   "cell_type": "code",
   "execution_count": 59,
   "metadata": {
    "collapsed": true
   },
   "outputs": [],
   "source": [
    "epicurious_repr_recipes_df['source'] = epicurious_repr_recipes_df.apply(\n",
    "    lambda x: 'epicurious', axis=1)"
   ]
  },
  {
   "cell_type": "code",
   "execution_count": 60,
   "metadata": {
    "collapsed": false,
    "scrolled": true
   },
   "outputs": [
    {
     "data": {
      "text/html": [
       "<div>\n",
       "<table border=\"1\" class=\"dataframe\">\n",
       "  <thead>\n",
       "    <tr style=\"text-align: right;\">\n",
       "      <th></th>\n",
       "      <th>_id</th>\n",
       "      <th>title</th>\n",
       "      <th>year</th>\n",
       "      <th>ingredients</th>\n",
       "      <th>techniques</th>\n",
       "      <th>source</th>\n",
       "    </tr>\n",
       "  </thead>\n",
       "  <tbody>\n",
       "    <tr>\n",
       "      <th>0</th>\n",
       "      <td>1</td>\n",
       "      <td>White Bean and Pesto Dip</td>\n",
       "      <td>2004</td>\n",
       "      <td>[kidney beans, pesto, lemon juice]</td>\n",
       "      <td>[salt, prepared, season]</td>\n",
       "      <td>epicurious</td>\n",
       "    </tr>\n",
       "    <tr>\n",
       "      <th>1</th>\n",
       "      <td>10</td>\n",
       "      <td>Lentil Salad with Mint and Feta</td>\n",
       "      <td>2004</td>\n",
       "      <td>[mint, green onions, lentils, olive oil, clove...</td>\n",
       "      <td>[salt, cover, prepared, season, boil, chill, r...</td>\n",
       "      <td>epicurious</td>\n",
       "    </tr>\n",
       "    <tr>\n",
       "      <th>2</th>\n",
       "      <td>100</td>\n",
       "      <td>Moo Shu Pork</td>\n",
       "      <td>2004</td>\n",
       "      <td>[cloves, bok choy, red bell pepper, pork loin ...</td>\n",
       "      <td>[brown, sauce, roll, wrap, mix, stir-fry, stir...</td>\n",
       "      <td>epicurious</td>\n",
       "    </tr>\n",
       "    <tr>\n",
       "      <th>3</th>\n",
       "      <td>1000</td>\n",
       "      <td>Butter Pastry Dough</td>\n",
       "      <td>2004</td>\n",
       "      <td>[salt, water, cut, flour]</td>\n",
       "      <td>[whisk, salt, wrap, dough, chill, ice]</td>\n",
       "      <td>epicurious</td>\n",
       "    </tr>\n",
       "    <tr>\n",
       "      <th>4</th>\n",
       "      <td>10001</td>\n",
       "      <td>Brown Bread</td>\n",
       "      <td>2004</td>\n",
       "      <td>[flour, salt, baking soda, molasses, raisins, ...</td>\n",
       "      <td>[knocking, whisk, grease, prepared, dry, slice...</td>\n",
       "      <td>epicurious</td>\n",
       "    </tr>\n",
       "  </tbody>\n",
       "</table>\n",
       "</div>"
      ],
      "text/plain": [
       "     _id                            title  year  \\\n",
       "0      1         White Bean and Pesto Dip  2004   \n",
       "1     10  Lentil Salad with Mint and Feta  2004   \n",
       "2    100                     Moo Shu Pork  2004   \n",
       "3   1000              Butter Pastry Dough  2004   \n",
       "4  10001                      Brown Bread  2004   \n",
       "\n",
       "                                         ingredients  \\\n",
       "0                 [kidney beans, pesto, lemon juice]   \n",
       "1  [mint, green onions, lentils, olive oil, clove...   \n",
       "2  [cloves, bok choy, red bell pepper, pork loin ...   \n",
       "3                          [salt, water, cut, flour]   \n",
       "4  [flour, salt, baking soda, molasses, raisins, ...   \n",
       "\n",
       "                                          techniques      source  \n",
       "0                           [salt, prepared, season]  epicurious  \n",
       "1  [salt, cover, prepared, season, boil, chill, r...  epicurious  \n",
       "2  [brown, sauce, roll, wrap, mix, stir-fry, stir...  epicurious  \n",
       "3             [whisk, salt, wrap, dough, chill, ice]  epicurious  \n",
       "4  [knocking, whisk, grease, prepared, dry, slice...  epicurious  "
      ]
     },
     "execution_count": 60,
     "metadata": {},
     "output_type": "execute_result"
    }
   ],
   "source": [
    "epicurious_repr_recipes_df.head()"
   ]
  },
  {
   "cell_type": "markdown",
   "metadata": {},
   "source": [
    "### allrecipes & epicurious"
   ]
  },
  {
   "cell_type": "code",
   "execution_count": 61,
   "metadata": {
    "collapsed": true
   },
   "outputs": [],
   "source": [
    "repr_recipes_df = allrecipes_repr_recipes_df.append(epicurious_repr_recipes_df, ignore_index=True)"
   ]
  },
  {
   "cell_type": "code",
   "execution_count": 62,
   "metadata": {
    "collapsed": false,
    "scrolled": true
   },
   "outputs": [
    {
     "data": {
      "text/html": [
       "<div>\n",
       "<table border=\"1\" class=\"dataframe\">\n",
       "  <thead>\n",
       "    <tr style=\"text-align: right;\">\n",
       "      <th></th>\n",
       "      <th>_id</th>\n",
       "      <th>title</th>\n",
       "      <th>year</th>\n",
       "      <th>ingredients</th>\n",
       "      <th>techniques</th>\n",
       "      <th>source</th>\n",
       "    </tr>\n",
       "  </thead>\n",
       "  <tbody>\n",
       "    <tr>\n",
       "      <th>0</th>\n",
       "      <td>10000</td>\n",
       "      <td>\"Chocolate Sandwich Cookies I\"</td>\n",
       "      <td>2001</td>\n",
       "      <td>[cocoa powder, shortening, eggs, milk, sugar, ...</td>\n",
       "      <td>[beat, bake, mix, sugar, bake, filling, batter...</td>\n",
       "      <td>allrecipes</td>\n",
       "    </tr>\n",
       "    <tr>\n",
       "      <th>1</th>\n",
       "      <td>100008</td>\n",
       "      <td>\"Homemade Pickled Ginger (Gari)\"</td>\n",
       "      <td>2007</td>\n",
       "      <td>[sugar, sea salt, rice vinegar, root]</td>\n",
       "      <td>[salt, boil, sugar, cut, rice]</td>\n",
       "      <td>allrecipes</td>\n",
       "    </tr>\n",
       "    <tr>\n",
       "      <th>2</th>\n",
       "      <td>10001</td>\n",
       "      <td>\"Chocolate Pizzelles\"</td>\n",
       "      <td>2003</td>\n",
       "      <td>[cocoa powder, eggs, ground cinnamon, sugar, f...</td>\n",
       "      <td>[fold, whisk, melted, sugar, bake, salt, batter]</td>\n",
       "      <td>allrecipes</td>\n",
       "    </tr>\n",
       "    <tr>\n",
       "      <th>3</th>\n",
       "      <td>100011</td>\n",
       "      <td>\"Pork and Black Bean Stew\"</td>\n",
       "      <td>2007</td>\n",
       "      <td>[cut, onion, vegetable oil, chicken stock, bay...</td>\n",
       "      <td>[cover, boil, cook, season, pulse, salt, simmer]</td>\n",
       "      <td>allrecipes</td>\n",
       "    </tr>\n",
       "    <tr>\n",
       "      <th>4</th>\n",
       "      <td>10002</td>\n",
       "      <td>\"Peter Pan Cookies\"</td>\n",
       "      <td>2000</td>\n",
       "      <td>[brown sugar, baking soda, eggs, shortening, m...</td>\n",
       "      <td>[bake, mix, bake, beat, salt, cream, blending]</td>\n",
       "      <td>allrecipes</td>\n",
       "    </tr>\n",
       "  </tbody>\n",
       "</table>\n",
       "</div>"
      ],
      "text/plain": [
       "      _id                             title  year  \\\n",
       "0   10000    \"Chocolate Sandwich Cookies I\"  2001   \n",
       "1  100008  \"Homemade Pickled Ginger (Gari)\"  2007   \n",
       "2   10001             \"Chocolate Pizzelles\"  2003   \n",
       "3  100011        \"Pork and Black Bean Stew\"  2007   \n",
       "4   10002               \"Peter Pan Cookies\"  2000   \n",
       "\n",
       "                                         ingredients  \\\n",
       "0  [cocoa powder, shortening, eggs, milk, sugar, ...   \n",
       "1              [sugar, sea salt, rice vinegar, root]   \n",
       "2  [cocoa powder, eggs, ground cinnamon, sugar, f...   \n",
       "3  [cut, onion, vegetable oil, chicken stock, bay...   \n",
       "4  [brown sugar, baking soda, eggs, shortening, m...   \n",
       "\n",
       "                                          techniques      source  \n",
       "0  [beat, bake, mix, sugar, bake, filling, batter...  allrecipes  \n",
       "1                     [salt, boil, sugar, cut, rice]  allrecipes  \n",
       "2   [fold, whisk, melted, sugar, bake, salt, batter]  allrecipes  \n",
       "3   [cover, boil, cook, season, pulse, salt, simmer]  allrecipes  \n",
       "4     [bake, mix, bake, beat, salt, cream, blending]  allrecipes  "
      ]
     },
     "execution_count": 62,
     "metadata": {},
     "output_type": "execute_result"
    }
   ],
   "source": [
    "repr_recipes_df.head()"
   ]
  },
  {
   "cell_type": "markdown",
   "metadata": {
    "collapsed": true
   },
   "source": [
    "# Formatting data"
   ]
  },
  {
   "cell_type": "code",
   "execution_count": 63,
   "metadata": {
    "collapsed": false
   },
   "outputs": [],
   "source": [
    "def join_ingredients_and_techniques(ingr_list, tech_list):\n",
    "    i_list = ['i_' + '_'.join(x.split()) for x in ingr_list]\n",
    "    t_list = ['t_' + '_'.join(x.split()) for x in tech_list]\n",
    "    return ' '.join(i_list + t_list)"
   ]
  },
  {
   "cell_type": "code",
   "execution_count": 64,
   "metadata": {
    "collapsed": true
   },
   "outputs": [],
   "source": [
    "raw_recipes_df['creativity'] = raw_recipes_df.apply(\n",
    "    lambda x: raw classifier, axis=1)"
   ]
  },
  {
   "cell_type": "code",
   "execution_count": 66,
   "metadata": {
    "collapsed": false
   },
   "outputs": [
    {
     "data": {
      "text/html": [
       "<div>\n",
       "<table border=\"1\" class=\"dataframe\">\n",
       "  <thead>\n",
       "    <tr style=\"text-align: right;\">\n",
       "      <th></th>\n",
       "      <th>text</th>\n",
       "    </tr>\n",
       "  </thead>\n",
       "  <tbody>\n",
       "    <tr>\n",
       "      <th>0</th>\n",
       "      <td>i_cocoa_powder i_shortening i_eggs i_milk i_su...</td>\n",
       "    </tr>\n",
       "    <tr>\n",
       "      <th>1</th>\n",
       "      <td>i_sugar i_sea_salt i_rice_vinegar i_root t_sal...</td>\n",
       "    </tr>\n",
       "    <tr>\n",
       "      <th>2</th>\n",
       "      <td>i_cocoa_powder i_eggs i_ground_cinnamon i_suga...</td>\n",
       "    </tr>\n",
       "    <tr>\n",
       "      <th>3</th>\n",
       "      <td>i_cut i_onion i_vegetable_oil i_chicken_stock ...</td>\n",
       "    </tr>\n",
       "    <tr>\n",
       "      <th>4</th>\n",
       "      <td>i_brown_sugar i_baking_soda i_eggs i_shortenin...</td>\n",
       "    </tr>\n",
       "  </tbody>\n",
       "</table>\n",
       "</div>"
      ],
      "text/plain": [
       "                                                text\n",
       "0  i_cocoa_powder i_shortening i_eggs i_milk i_su...\n",
       "1  i_sugar i_sea_salt i_rice_vinegar i_root t_sal...\n",
       "2  i_cocoa_powder i_eggs i_ground_cinnamon i_suga...\n",
       "3  i_cut i_onion i_vegetable_oil i_chicken_stock ...\n",
       "4  i_brown_sugar i_baking_soda i_eggs i_shortenin..."
      ]
     },
     "execution_count": 66,
     "metadata": {},
     "output_type": "execute_result"
    }
   ],
   "source": [
    "raw_recipes_df.head()"
   ]
  },
  {
   "cell_type": "code",
   "execution_count": 86,
   "metadata": {
    "collapsed": false
   },
   "outputs": [],
   "source": [
    "repr_recipes_df['creativity'] = repr_recipes_df.apply(\n",
    "    lambda x: repr classifier, axis=1)"
   ]
  },
  {
   "cell_type": "code",
   "execution_count": 87,
   "metadata": {
    "collapsed": false
   },
   "outputs": [
    {
     "data": {
      "text/html": [
       "<div>\n",
       "<table border=\"1\" class=\"dataframe\">\n",
       "  <thead>\n",
       "    <tr style=\"text-align: right;\">\n",
       "      <th></th>\n",
       "      <th>text</th>\n",
       "      <th>creativity</th>\n",
       "    </tr>\n",
       "  </thead>\n",
       "  <tbody>\n",
       "    <tr>\n",
       "      <th>0</th>\n",
       "      <td>i_oporto i_aceite_de_oliva i_agua i_pimienta_b...</td>\n",
       "      <td>10</td>\n",
       "    </tr>\n",
       "    <tr>\n",
       "      <th>1</th>\n",
       "      <td>i_sal i_pimientos i_pimiento_rojo i_piñones_to...</td>\n",
       "      <td>10</td>\n",
       "    </tr>\n",
       "    <tr>\n",
       "      <th>2</th>\n",
       "      <td>i_chocolate i_claras_de_huevo i_avellanas_tost...</td>\n",
       "      <td>10</td>\n",
       "    </tr>\n",
       "    <tr>\n",
       "      <th>3</th>\n",
       "      <td>i_zumo_de_limón i_limón i_alginato_sódico i_ag...</td>\n",
       "      <td>30</td>\n",
       "    </tr>\n",
       "    <tr>\n",
       "      <th>4</th>\n",
       "      <td>i_sal i_caldo_de_ceps i_carragenato_kappa_en_p...</td>\n",
       "      <td>30</td>\n",
       "    </tr>\n",
       "  </tbody>\n",
       "</table>\n",
       "</div>"
      ],
      "text/plain": [
       "                                                text  creativity\n",
       "0  i_oporto i_aceite_de_oliva i_agua i_pimienta_b...          10\n",
       "1  i_sal i_pimientos i_pimiento_rojo i_piñones_to...          10\n",
       "2  i_chocolate i_claras_de_huevo i_avellanas_tost...          10\n",
       "3  i_zumo_de_limón i_limón i_alginato_sódico i_ag...          30\n",
       "4  i_sal i_caldo_de_ceps i_carragenato_kappa_en_p...          30"
      ]
     },
     "execution_count": 87,
     "metadata": {},
     "output_type": "execute_result"
    }
   ],
   "source": [
    "repr_recipes_df.head()"
   ]
  },
  {
   "cell_type": "code",
   "execution_count": null,
   "metadata": {
    "collapsed": true
   },
   "outputs": [],
   "source": []
  }
 ],
 "metadata": {
  "kernelspec": {
   "display_name": "Python 3",
   "language": "python",
   "name": "python3"
  },
  "language_info": {
   "codemirror_mode": {
    "name": "ipython",
    "version": 3
   },
   "file_extension": ".py",
   "mimetype": "text/x-python",
   "name": "python",
   "nbconvert_exporter": "python",
   "pygments_lexer": "ipython3",
   "version": "3.4.3"
  }
 },
 "nbformat": 4,
 "nbformat_minor": 0
}
