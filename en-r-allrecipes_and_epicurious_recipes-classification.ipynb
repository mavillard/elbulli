{
 "cells": [
  {
   "cell_type": "code",
   "execution_count": 1,
   "metadata": {
    "collapsed": false
   },
   "outputs": [],
   "source": [
    "import json\n",
    "import pickle\n",
    "\n",
    "import pandas as pd"
   ]
  },
  {
   "cell_type": "code",
   "execution_count": 2,
   "metadata": {
    "collapsed": true
   },
   "outputs": [],
   "source": [
    "def join_ingredients_and_techniques(ingr_list, tech_list):\n",
    "    i_list = ['i_' + '_'.join(x.split()) for x in ingr_list]\n",
    "    t_list = ['t_' + '_'.join(x.split()) for x in tech_list]\n",
    "    return ' '.join(i_list + t_list)"
   ]
  },
  {
   "cell_type": "markdown",
   "metadata": {},
   "source": [
    "## Raw ingredients and techniques"
   ]
  },
  {
   "cell_type": "code",
   "execution_count": 3,
   "metadata": {
    "collapsed": true
   },
   "outputs": [],
   "source": [
    "with open('data/raw_best_estimators_linearsvc.pickle', 'rb') as f:\n",
    "    best_estimators = pickle.load(f)\n",
    "    raw_classifier = best_estimators[0]['best_estimator']"
   ]
  },
  {
   "cell_type": "markdown",
   "metadata": {},
   "source": [
    "### allrecipes"
   ]
  },
  {
   "cell_type": "code",
   "execution_count": 4,
   "metadata": {
    "collapsed": false
   },
   "outputs": [],
   "source": [
    "allrecipes_raw_recipes_df = pd.read_csv('data/dbs/recipes_allrecipes_raw_spa.csv')"
   ]
  },
  {
   "cell_type": "code",
   "execution_count": 5,
   "metadata": {
    "collapsed": false
   },
   "outputs": [
    {
     "data": {
      "text/plain": [
       "(66671, 5)"
      ]
     },
     "execution_count": 5,
     "metadata": {},
     "output_type": "execute_result"
    }
   ],
   "source": [
    "allrecipes_raw_recipes_df.shape"
   ]
  },
  {
   "cell_type": "code",
   "execution_count": 6,
   "metadata": {
    "collapsed": false
   },
   "outputs": [
    {
     "data": {
      "text/html": [
       "<div>\n",
       "<table border=\"1\" class=\"dataframe\">\n",
       "  <thead>\n",
       "    <tr style=\"text-align: right;\">\n",
       "      <th></th>\n",
       "      <th>_id</th>\n",
       "      <th>title</th>\n",
       "      <th>year</th>\n",
       "      <th>ingredients</th>\n",
       "      <th>techniques</th>\n",
       "    </tr>\n",
       "  </thead>\n",
       "  <tbody>\n",
       "    <tr>\n",
       "      <th>0</th>\n",
       "      <td>10000</td>\n",
       "      <td>\"Chocolate Sandwich Cookies I\"</td>\n",
       "      <td>2001</td>\n",
       "      <td>[\"cacao en polvo\", \"huevos\", \"leche\", \"az\\u00f...</td>\n",
       "      <td>[\"hornear\", \"emulsionar\", \"hornear\", \"relleno\"...</td>\n",
       "    </tr>\n",
       "    <tr>\n",
       "      <th>1</th>\n",
       "      <td>100008</td>\n",
       "      <td>\"Homemade Pickled Ginger (Gari)\"</td>\n",
       "      <td>2007</td>\n",
       "      <td>[\"az\\u00facar\", \"vinagre de arroz\", \"ra\\u00edz\"]</td>\n",
       "      <td>[\"sal\", \"hirviendo\"]</td>\n",
       "    </tr>\n",
       "    <tr>\n",
       "      <th>2</th>\n",
       "      <td>10001</td>\n",
       "      <td>\"Chocolate Pizzelles\"</td>\n",
       "      <td>2003</td>\n",
       "      <td>[\"cacao en polvo\", \"huevos\", \"az\\u00facar\", \"h...</td>\n",
       "      <td>[\"hornear\", \"sal\", \"rebozar\"]</td>\n",
       "    </tr>\n",
       "    <tr>\n",
       "      <th>3</th>\n",
       "      <td>100011</td>\n",
       "      <td>\"Pork and Black Bean Stew\"</td>\n",
       "      <td>2007</td>\n",
       "      <td>[\"cebolla\", \"agua\", \"pimiento\", \"lomo de cerdo...</td>\n",
       "      <td>[\"hervir\", \"cocer\", \"sal\"]</td>\n",
       "    </tr>\n",
       "    <tr>\n",
       "      <th>4</th>\n",
       "      <td>10002</td>\n",
       "      <td>\"Peter Pan Cookies\"</td>\n",
       "      <td>2000</td>\n",
       "      <td>[\"az\\u00facar moreno\", \"bicarbonato\", \"huevos\"...</td>\n",
       "      <td>[\"hornear\", \"emulsionar\", \"hornear\", \"sal\"]</td>\n",
       "    </tr>\n",
       "  </tbody>\n",
       "</table>\n",
       "</div>"
      ],
      "text/plain": [
       "      _id                             title  year  \\\n",
       "0   10000    \"Chocolate Sandwich Cookies I\"  2001   \n",
       "1  100008  \"Homemade Pickled Ginger (Gari)\"  2007   \n",
       "2   10001             \"Chocolate Pizzelles\"  2003   \n",
       "3  100011        \"Pork and Black Bean Stew\"  2007   \n",
       "4   10002               \"Peter Pan Cookies\"  2000   \n",
       "\n",
       "                                         ingredients  \\\n",
       "0  [\"cacao en polvo\", \"huevos\", \"leche\", \"az\\u00f...   \n",
       "1   [\"az\\u00facar\", \"vinagre de arroz\", \"ra\\u00edz\"]   \n",
       "2  [\"cacao en polvo\", \"huevos\", \"az\\u00facar\", \"h...   \n",
       "3  [\"cebolla\", \"agua\", \"pimiento\", \"lomo de cerdo...   \n",
       "4  [\"az\\u00facar moreno\", \"bicarbonato\", \"huevos\"...   \n",
       "\n",
       "                                          techniques  \n",
       "0  [\"hornear\", \"emulsionar\", \"hornear\", \"relleno\"...  \n",
       "1                               [\"sal\", \"hirviendo\"]  \n",
       "2                      [\"hornear\", \"sal\", \"rebozar\"]  \n",
       "3                         [\"hervir\", \"cocer\", \"sal\"]  \n",
       "4        [\"hornear\", \"emulsionar\", \"hornear\", \"sal\"]  "
      ]
     },
     "execution_count": 6,
     "metadata": {},
     "output_type": "execute_result"
    }
   ],
   "source": [
    "allrecipes_raw_recipes_df.head()"
   ]
  },
  {
   "cell_type": "code",
   "execution_count": 37,
   "metadata": {
    "collapsed": false
   },
   "outputs": [
    {
     "data": {
      "text/plain": [
       "2007    6442\n",
       "2001    6283\n",
       "2002    5609\n",
       "2006    5145\n",
       "2008    4661\n",
       "2000    4245\n",
       "2012    4234\n",
       "2009    4148\n",
       "2013    3791\n",
       "2010    3621\n",
       "2014    3569\n",
       "2005    3382\n",
       "2015    3239\n",
       "2003    2808\n",
       "2011    2640\n",
       "2004    2492\n",
       "2016     361\n",
       "1999       1\n",
       "Name: year, dtype: int64"
      ]
     },
     "execution_count": 37,
     "metadata": {},
     "output_type": "execute_result"
    }
   ],
   "source": [
    "allrecipes_raw_recipes_df['year'].value_counts()"
   ]
  },
  {
   "cell_type": "code",
   "execution_count": 38,
   "metadata": {
    "collapsed": false
   },
   "outputs": [
    {
     "data": {
      "text/plain": [
       "2004    18398\n",
       "2006     2083\n",
       "2007     1642\n",
       "2005     1189\n",
       "2008      889\n",
       "2009       85\n",
       "2010        9\n",
       "1998        7\n",
       "2003        7\n",
       "2015        5\n",
       "1999        4\n",
       "2011        3\n",
       "2000        2\n",
       "2016        1\n",
       "Name: year, dtype: int64"
      ]
     },
     "execution_count": 38,
     "metadata": {},
     "output_type": "execute_result"
    }
   ],
   "source": [
    "epicurious_raw_recipes_df['year'].value_counts()"
   ]
  },
  {
   "cell_type": "code",
   "execution_count": 7,
   "metadata": {
    "collapsed": false
   },
   "outputs": [],
   "source": [
    "allrecipes_raw_recipes_df['ingredients'] = allrecipes_raw_recipes_df.apply(lambda x: json.loads(x['ingredients']), axis=1)\n",
    "allrecipes_raw_recipes_df['techniques'] = allrecipes_raw_recipes_df.apply(lambda x: json.loads(x['techniques']), axis=1)"
   ]
  },
  {
   "cell_type": "code",
   "execution_count": 8,
   "metadata": {
    "collapsed": false
   },
   "outputs": [],
   "source": [
    "allrecipes_raw_recipes_df['source'] = allrecipes_raw_recipes_df.apply(\n",
    "    lambda x: 'allrecipes', axis=1)\n",
    "\n",
    "allrecipes_raw_recipes_df['text'] = allrecipes_raw_recipes_df.apply(\n",
    "    lambda x: join_ingredients_and_techniques(x['ingredients'], x['techniques']), axis=1)\n",
    "\n",
    "allrecipes_raw_recipes_df['creativity'] = allrecipes_raw_recipes_df.apply(\n",
    "    lambda x: raw_classifier.predict([x['text']])[0], axis=1)"
   ]
  },
  {
   "cell_type": "code",
   "execution_count": 9,
   "metadata": {
    "collapsed": false
   },
   "outputs": [
    {
     "data": {
      "text/html": [
       "<div>\n",
       "<table border=\"1\" class=\"dataframe\">\n",
       "  <thead>\n",
       "    <tr style=\"text-align: right;\">\n",
       "      <th></th>\n",
       "      <th>_id</th>\n",
       "      <th>title</th>\n",
       "      <th>year</th>\n",
       "      <th>ingredients</th>\n",
       "      <th>techniques</th>\n",
       "      <th>source</th>\n",
       "      <th>text</th>\n",
       "      <th>creativity</th>\n",
       "    </tr>\n",
       "  </thead>\n",
       "  <tbody>\n",
       "    <tr>\n",
       "      <th>0</th>\n",
       "      <td>10000</td>\n",
       "      <td>\"Chocolate Sandwich Cookies I\"</td>\n",
       "      <td>2001</td>\n",
       "      <td>[cacao en polvo, huevos, leche, azúcar, harina...</td>\n",
       "      <td>[hornear, emulsionar, hornear, relleno, reboza...</td>\n",
       "      <td>allrecipes</td>\n",
       "      <td>i_cacao_en_polvo i_huevos i_leche i_azúcar i_h...</td>\n",
       "      <td>0</td>\n",
       "    </tr>\n",
       "    <tr>\n",
       "      <th>1</th>\n",
       "      <td>100008</td>\n",
       "      <td>\"Homemade Pickled Ginger (Gari)\"</td>\n",
       "      <td>2007</td>\n",
       "      <td>[azúcar, vinagre de arroz, raíz]</td>\n",
       "      <td>[sal, hirviendo]</td>\n",
       "      <td>allrecipes</td>\n",
       "      <td>i_azúcar i_vinagre_de_arroz i_raíz t_sal t_hir...</td>\n",
       "      <td>30</td>\n",
       "    </tr>\n",
       "    <tr>\n",
       "      <th>2</th>\n",
       "      <td>10001</td>\n",
       "      <td>\"Chocolate Pizzelles\"</td>\n",
       "      <td>2003</td>\n",
       "      <td>[cacao en polvo, huevos, azúcar, harina, sal, ...</td>\n",
       "      <td>[hornear, sal, rebozar]</td>\n",
       "      <td>allrecipes</td>\n",
       "      <td>i_cacao_en_polvo i_huevos i_azúcar i_harina i_...</td>\n",
       "      <td>0</td>\n",
       "    </tr>\n",
       "    <tr>\n",
       "      <th>3</th>\n",
       "      <td>100011</td>\n",
       "      <td>\"Pork and Black Bean Stew\"</td>\n",
       "      <td>2007</td>\n",
       "      <td>[cebolla, agua, pimiento, lomo de cerdo, ajo]</td>\n",
       "      <td>[hervir, cocer, sal]</td>\n",
       "      <td>allrecipes</td>\n",
       "      <td>i_cebolla i_agua i_pimiento i_lomo_de_cerdo i_...</td>\n",
       "      <td>0</td>\n",
       "    </tr>\n",
       "    <tr>\n",
       "      <th>4</th>\n",
       "      <td>10002</td>\n",
       "      <td>\"Peter Pan Cookies\"</td>\n",
       "      <td>2000</td>\n",
       "      <td>[azúcar moreno, bicarbonato, huevos, leche, az...</td>\n",
       "      <td>[hornear, emulsionar, hornear, sal]</td>\n",
       "      <td>allrecipes</td>\n",
       "      <td>i_azúcar_moreno i_bicarbonato i_huevos i_leche...</td>\n",
       "      <td>0</td>\n",
       "    </tr>\n",
       "  </tbody>\n",
       "</table>\n",
       "</div>"
      ],
      "text/plain": [
       "      _id                             title  year  \\\n",
       "0   10000    \"Chocolate Sandwich Cookies I\"  2001   \n",
       "1  100008  \"Homemade Pickled Ginger (Gari)\"  2007   \n",
       "2   10001             \"Chocolate Pizzelles\"  2003   \n",
       "3  100011        \"Pork and Black Bean Stew\"  2007   \n",
       "4   10002               \"Peter Pan Cookies\"  2000   \n",
       "\n",
       "                                         ingredients  \\\n",
       "0  [cacao en polvo, huevos, leche, azúcar, harina...   \n",
       "1                   [azúcar, vinagre de arroz, raíz]   \n",
       "2  [cacao en polvo, huevos, azúcar, harina, sal, ...   \n",
       "3      [cebolla, agua, pimiento, lomo de cerdo, ajo]   \n",
       "4  [azúcar moreno, bicarbonato, huevos, leche, az...   \n",
       "\n",
       "                                          techniques      source  \\\n",
       "0  [hornear, emulsionar, hornear, relleno, reboza...  allrecipes   \n",
       "1                                   [sal, hirviendo]  allrecipes   \n",
       "2                            [hornear, sal, rebozar]  allrecipes   \n",
       "3                               [hervir, cocer, sal]  allrecipes   \n",
       "4                [hornear, emulsionar, hornear, sal]  allrecipes   \n",
       "\n",
       "                                                text  creativity  \n",
       "0  i_cacao_en_polvo i_huevos i_leche i_azúcar i_h...           0  \n",
       "1  i_azúcar i_vinagre_de_arroz i_raíz t_sal t_hir...          30  \n",
       "2  i_cacao_en_polvo i_huevos i_azúcar i_harina i_...           0  \n",
       "3  i_cebolla i_agua i_pimiento i_lomo_de_cerdo i_...           0  \n",
       "4  i_azúcar_moreno i_bicarbonato i_huevos i_leche...           0  "
      ]
     },
     "execution_count": 9,
     "metadata": {},
     "output_type": "execute_result"
    }
   ],
   "source": [
    "allrecipes_raw_recipes_df.head()"
   ]
  },
  {
   "cell_type": "code",
   "execution_count": 10,
   "metadata": {
    "collapsed": false
   },
   "outputs": [
    {
     "data": {
      "text/plain": [
       "0     52150\n",
       "30     5416\n",
       "20     5047\n",
       "10     4058\n",
       "Name: creativity, dtype: int64"
      ]
     },
     "execution_count": 10,
     "metadata": {},
     "output_type": "execute_result"
    }
   ],
   "source": [
    "allrecipes_raw_recipes_df['creativity'].value_counts()"
   ]
  },
  {
   "cell_type": "markdown",
   "metadata": {},
   "source": [
    "### epicurious"
   ]
  },
  {
   "cell_type": "code",
   "execution_count": 11,
   "metadata": {
    "collapsed": false
   },
   "outputs": [],
   "source": [
    "epicurious_raw_recipes_df = pd.read_csv('data/dbs/recipes_epicurious_raw.csv')"
   ]
  },
  {
   "cell_type": "code",
   "execution_count": 12,
   "metadata": {
    "collapsed": false
   },
   "outputs": [
    {
     "data": {
      "text/plain": [
       "(24324, 5)"
      ]
     },
     "execution_count": 12,
     "metadata": {},
     "output_type": "execute_result"
    }
   ],
   "source": [
    "epicurious_raw_recipes_df.shape"
   ]
  },
  {
   "cell_type": "code",
   "execution_count": 13,
   "metadata": {
    "collapsed": false
   },
   "outputs": [
    {
     "data": {
      "text/html": [
       "<div>\n",
       "<table border=\"1\" class=\"dataframe\">\n",
       "  <thead>\n",
       "    <tr style=\"text-align: right;\">\n",
       "      <th></th>\n",
       "      <th>_id</th>\n",
       "      <th>title</th>\n",
       "      <th>year</th>\n",
       "      <th>ingredients</th>\n",
       "      <th>techniques</th>\n",
       "    </tr>\n",
       "  </thead>\n",
       "  <tbody>\n",
       "    <tr>\n",
       "      <th>0</th>\n",
       "      <td>1</td>\n",
       "      <td>White Bean and Pesto Dip</td>\n",
       "      <td>2004</td>\n",
       "      <td>[\"kidney beans\",\"pesto\",\"lemon juice\"]</td>\n",
       "      <td>[\"salt\",\"prepared\",\"season\"]</td>\n",
       "    </tr>\n",
       "    <tr>\n",
       "      <th>1</th>\n",
       "      <td>10</td>\n",
       "      <td>Lentil Salad with Mint and Feta</td>\n",
       "      <td>2004</td>\n",
       "      <td>[\"mint\",\"green onions\",\"lentils\",\"olive oil\",\"...</td>\n",
       "      <td>[\"salt\",\"cover\",\"prepared\",\"season\",\"boil\",\"ch...</td>\n",
       "    </tr>\n",
       "    <tr>\n",
       "      <th>2</th>\n",
       "      <td>100</td>\n",
       "      <td>Moo Shu Pork</td>\n",
       "      <td>2004</td>\n",
       "      <td>[\"cloves\",\"bok choy\",\"red bell pepper\",\"pork l...</td>\n",
       "      <td>[\"brown\",\"sauce\",\"roll\",\"wrap\",\"mix\",\"wok\",\"st...</td>\n",
       "    </tr>\n",
       "    <tr>\n",
       "      <th>3</th>\n",
       "      <td>1000</td>\n",
       "      <td>Butter Pastry Dough</td>\n",
       "      <td>2004</td>\n",
       "      <td>[\"salt\",\"water\",\"cut\",\"flour\"]</td>\n",
       "      <td>[\"whisk\",\"salt\",\"wrap\",\"dough\",\"chilled\",\"ice\"]</td>\n",
       "    </tr>\n",
       "    <tr>\n",
       "      <th>4</th>\n",
       "      <td>10001</td>\n",
       "      <td>Brown Bread</td>\n",
       "      <td>2004</td>\n",
       "      <td>[\"flour\",\"salt\",\"baking soda\",\"molasses\",\"rais...</td>\n",
       "      <td>[\"knocking\",\"whisk\",\"grease\",\"prepared\",\"dry\",...</td>\n",
       "    </tr>\n",
       "  </tbody>\n",
       "</table>\n",
       "</div>"
      ],
      "text/plain": [
       "     _id                            title  year  \\\n",
       "0      1         White Bean and Pesto Dip  2004   \n",
       "1     10  Lentil Salad with Mint and Feta  2004   \n",
       "2    100                     Moo Shu Pork  2004   \n",
       "3   1000              Butter Pastry Dough  2004   \n",
       "4  10001                      Brown Bread  2004   \n",
       "\n",
       "                                         ingredients  \\\n",
       "0             [\"kidney beans\",\"pesto\",\"lemon juice\"]   \n",
       "1  [\"mint\",\"green onions\",\"lentils\",\"olive oil\",\"...   \n",
       "2  [\"cloves\",\"bok choy\",\"red bell pepper\",\"pork l...   \n",
       "3                     [\"salt\",\"water\",\"cut\",\"flour\"]   \n",
       "4  [\"flour\",\"salt\",\"baking soda\",\"molasses\",\"rais...   \n",
       "\n",
       "                                          techniques  \n",
       "0                       [\"salt\",\"prepared\",\"season\"]  \n",
       "1  [\"salt\",\"cover\",\"prepared\",\"season\",\"boil\",\"ch...  \n",
       "2  [\"brown\",\"sauce\",\"roll\",\"wrap\",\"mix\",\"wok\",\"st...  \n",
       "3    [\"whisk\",\"salt\",\"wrap\",\"dough\",\"chilled\",\"ice\"]  \n",
       "4  [\"knocking\",\"whisk\",\"grease\",\"prepared\",\"dry\",...  "
      ]
     },
     "execution_count": 13,
     "metadata": {},
     "output_type": "execute_result"
    }
   ],
   "source": [
    "epicurious_raw_recipes_df.head()"
   ]
  },
  {
   "cell_type": "code",
   "execution_count": 14,
   "metadata": {
    "collapsed": false
   },
   "outputs": [],
   "source": [
    "epicurious_raw_recipes_df['ingredients'] = epicurious_raw_recipes_df.apply(lambda x: json.loads(x['ingredients']), axis=1)\n",
    "epicurious_raw_recipes_df['techniques'] = epicurious_raw_recipes_df.apply(lambda x: json.loads(x['techniques']), axis=1)"
   ]
  },
  {
   "cell_type": "code",
   "execution_count": 15,
   "metadata": {
    "collapsed": true
   },
   "outputs": [],
   "source": [
    "epicurious_raw_recipes_df['source'] = epicurious_raw_recipes_df.apply(\n",
    "    lambda x: 'epicurious', axis=1)\n",
    "\n",
    "epicurious_raw_recipes_df['text'] = epicurious_raw_recipes_df.apply(\n",
    "    lambda x: join_ingredients_and_techniques(x['ingredients'], x['techniques']), axis=1)\n",
    "\n",
    "epicurious_raw_recipes_df['creativity'] = epicurious_raw_recipes_df.apply(\n",
    "    lambda x: raw_classifier.predict([x['text']])[0], axis=1)"
   ]
  },
  {
   "cell_type": "code",
   "execution_count": 16,
   "metadata": {
    "collapsed": false
   },
   "outputs": [
    {
     "data": {
      "text/html": [
       "<div>\n",
       "<table border=\"1\" class=\"dataframe\">\n",
       "  <thead>\n",
       "    <tr style=\"text-align: right;\">\n",
       "      <th></th>\n",
       "      <th>_id</th>\n",
       "      <th>title</th>\n",
       "      <th>year</th>\n",
       "      <th>ingredients</th>\n",
       "      <th>techniques</th>\n",
       "      <th>source</th>\n",
       "      <th>text</th>\n",
       "      <th>creativity</th>\n",
       "    </tr>\n",
       "  </thead>\n",
       "  <tbody>\n",
       "    <tr>\n",
       "      <th>0</th>\n",
       "      <td>1</td>\n",
       "      <td>White Bean and Pesto Dip</td>\n",
       "      <td>2004</td>\n",
       "      <td>[kidney beans, pesto, lemon juice]</td>\n",
       "      <td>[salt, prepared, season]</td>\n",
       "      <td>epicurious</td>\n",
       "      <td>i_kidney_beans i_pesto i_lemon_juice t_salt t_...</td>\n",
       "      <td>0</td>\n",
       "    </tr>\n",
       "    <tr>\n",
       "      <th>1</th>\n",
       "      <td>10</td>\n",
       "      <td>Lentil Salad with Mint and Feta</td>\n",
       "      <td>2004</td>\n",
       "      <td>[mint, green onions, lentils, olive oil, clove...</td>\n",
       "      <td>[salt, cover, prepared, season, boil, chilled,...</td>\n",
       "      <td>epicurious</td>\n",
       "      <td>i_mint i_green_onions i_lentils i_olive_oil i_...</td>\n",
       "      <td>0</td>\n",
       "    </tr>\n",
       "    <tr>\n",
       "      <th>2</th>\n",
       "      <td>100</td>\n",
       "      <td>Moo Shu Pork</td>\n",
       "      <td>2004</td>\n",
       "      <td>[cloves, bok choy, red bell pepper, pork loin ...</td>\n",
       "      <td>[brown, sauce, roll, wrap, mix, wok, stir-fry]</td>\n",
       "      <td>epicurious</td>\n",
       "      <td>i_cloves i_bok_choy i_red_bell_pepper i_pork_l...</td>\n",
       "      <td>0</td>\n",
       "    </tr>\n",
       "    <tr>\n",
       "      <th>3</th>\n",
       "      <td>1000</td>\n",
       "      <td>Butter Pastry Dough</td>\n",
       "      <td>2004</td>\n",
       "      <td>[salt, water, cut, flour]</td>\n",
       "      <td>[whisk, salt, wrap, dough, chilled, ice]</td>\n",
       "      <td>epicurious</td>\n",
       "      <td>i_salt i_water i_cut i_flour t_whisk t_salt t_...</td>\n",
       "      <td>0</td>\n",
       "    </tr>\n",
       "    <tr>\n",
       "      <th>4</th>\n",
       "      <td>10001</td>\n",
       "      <td>Brown Bread</td>\n",
       "      <td>2004</td>\n",
       "      <td>[flour, salt, baking soda, molasses, raisins, ...</td>\n",
       "      <td>[knocking, whisk, grease, prepared, dry, slici...</td>\n",
       "      <td>epicurious</td>\n",
       "      <td>i_flour i_salt i_baking_soda i_molasses i_rais...</td>\n",
       "      <td>0</td>\n",
       "    </tr>\n",
       "  </tbody>\n",
       "</table>\n",
       "</div>"
      ],
      "text/plain": [
       "     _id                            title  year  \\\n",
       "0      1         White Bean and Pesto Dip  2004   \n",
       "1     10  Lentil Salad with Mint and Feta  2004   \n",
       "2    100                     Moo Shu Pork  2004   \n",
       "3   1000              Butter Pastry Dough  2004   \n",
       "4  10001                      Brown Bread  2004   \n",
       "\n",
       "                                         ingredients  \\\n",
       "0                 [kidney beans, pesto, lemon juice]   \n",
       "1  [mint, green onions, lentils, olive oil, clove...   \n",
       "2  [cloves, bok choy, red bell pepper, pork loin ...   \n",
       "3                          [salt, water, cut, flour]   \n",
       "4  [flour, salt, baking soda, molasses, raisins, ...   \n",
       "\n",
       "                                          techniques      source  \\\n",
       "0                           [salt, prepared, season]  epicurious   \n",
       "1  [salt, cover, prepared, season, boil, chilled,...  epicurious   \n",
       "2     [brown, sauce, roll, wrap, mix, wok, stir-fry]  epicurious   \n",
       "3           [whisk, salt, wrap, dough, chilled, ice]  epicurious   \n",
       "4  [knocking, whisk, grease, prepared, dry, slici...  epicurious   \n",
       "\n",
       "                                                text  creativity  \n",
       "0  i_kidney_beans i_pesto i_lemon_juice t_salt t_...           0  \n",
       "1  i_mint i_green_onions i_lentils i_olive_oil i_...           0  \n",
       "2  i_cloves i_bok_choy i_red_bell_pepper i_pork_l...           0  \n",
       "3  i_salt i_water i_cut i_flour t_whisk t_salt t_...           0  \n",
       "4  i_flour i_salt i_baking_soda i_molasses i_rais...           0  "
      ]
     },
     "execution_count": 16,
     "metadata": {},
     "output_type": "execute_result"
    }
   ],
   "source": [
    "epicurious_raw_recipes_df.head()"
   ]
  },
  {
   "cell_type": "code",
   "execution_count": 17,
   "metadata": {
    "collapsed": false
   },
   "outputs": [
    {
     "data": {
      "text/plain": [
       "0     22195\n",
       "30     1385\n",
       "10      470\n",
       "20      274\n",
       "Name: creativity, dtype: int64"
      ]
     },
     "execution_count": 17,
     "metadata": {},
     "output_type": "execute_result"
    }
   ],
   "source": [
    "epicurious_raw_recipes_df['creativity'].value_counts()"
   ]
  },
  {
   "cell_type": "markdown",
   "metadata": {},
   "source": [
    "### allrecipes & epicurious"
   ]
  },
  {
   "cell_type": "code",
   "execution_count": 18,
   "metadata": {
    "collapsed": true
   },
   "outputs": [],
   "source": [
    "raw_recipes_df = allrecipes_raw_recipes_df.append(epicurious_raw_recipes_df, ignore_index=True)"
   ]
  },
  {
   "cell_type": "code",
   "execution_count": 19,
   "metadata": {
    "collapsed": false,
    "scrolled": true
   },
   "outputs": [
    {
     "data": {
      "text/html": [
       "<div>\n",
       "<table border=\"1\" class=\"dataframe\">\n",
       "  <thead>\n",
       "    <tr style=\"text-align: right;\">\n",
       "      <th></th>\n",
       "      <th>_id</th>\n",
       "      <th>title</th>\n",
       "      <th>year</th>\n",
       "      <th>ingredients</th>\n",
       "      <th>techniques</th>\n",
       "      <th>source</th>\n",
       "      <th>text</th>\n",
       "      <th>creativity</th>\n",
       "    </tr>\n",
       "  </thead>\n",
       "  <tbody>\n",
       "    <tr>\n",
       "      <th>0</th>\n",
       "      <td>10000</td>\n",
       "      <td>\"Chocolate Sandwich Cookies I\"</td>\n",
       "      <td>2001</td>\n",
       "      <td>[cacao en polvo, huevos, leche, azúcar, harina...</td>\n",
       "      <td>[hornear, emulsionar, hornear, relleno, reboza...</td>\n",
       "      <td>allrecipes</td>\n",
       "      <td>i_cacao_en_polvo i_huevos i_leche i_azúcar i_h...</td>\n",
       "      <td>0</td>\n",
       "    </tr>\n",
       "    <tr>\n",
       "      <th>1</th>\n",
       "      <td>100008</td>\n",
       "      <td>\"Homemade Pickled Ginger (Gari)\"</td>\n",
       "      <td>2007</td>\n",
       "      <td>[azúcar, vinagre de arroz, raíz]</td>\n",
       "      <td>[sal, hirviendo]</td>\n",
       "      <td>allrecipes</td>\n",
       "      <td>i_azúcar i_vinagre_de_arroz i_raíz t_sal t_hir...</td>\n",
       "      <td>30</td>\n",
       "    </tr>\n",
       "    <tr>\n",
       "      <th>2</th>\n",
       "      <td>10001</td>\n",
       "      <td>\"Chocolate Pizzelles\"</td>\n",
       "      <td>2003</td>\n",
       "      <td>[cacao en polvo, huevos, azúcar, harina, sal, ...</td>\n",
       "      <td>[hornear, sal, rebozar]</td>\n",
       "      <td>allrecipes</td>\n",
       "      <td>i_cacao_en_polvo i_huevos i_azúcar i_harina i_...</td>\n",
       "      <td>0</td>\n",
       "    </tr>\n",
       "    <tr>\n",
       "      <th>3</th>\n",
       "      <td>100011</td>\n",
       "      <td>\"Pork and Black Bean Stew\"</td>\n",
       "      <td>2007</td>\n",
       "      <td>[cebolla, agua, pimiento, lomo de cerdo, ajo]</td>\n",
       "      <td>[hervir, cocer, sal]</td>\n",
       "      <td>allrecipes</td>\n",
       "      <td>i_cebolla i_agua i_pimiento i_lomo_de_cerdo i_...</td>\n",
       "      <td>0</td>\n",
       "    </tr>\n",
       "    <tr>\n",
       "      <th>4</th>\n",
       "      <td>10002</td>\n",
       "      <td>\"Peter Pan Cookies\"</td>\n",
       "      <td>2000</td>\n",
       "      <td>[azúcar moreno, bicarbonato, huevos, leche, az...</td>\n",
       "      <td>[hornear, emulsionar, hornear, sal]</td>\n",
       "      <td>allrecipes</td>\n",
       "      <td>i_azúcar_moreno i_bicarbonato i_huevos i_leche...</td>\n",
       "      <td>0</td>\n",
       "    </tr>\n",
       "  </tbody>\n",
       "</table>\n",
       "</div>"
      ],
      "text/plain": [
       "      _id                             title  year  \\\n",
       "0   10000    \"Chocolate Sandwich Cookies I\"  2001   \n",
       "1  100008  \"Homemade Pickled Ginger (Gari)\"  2007   \n",
       "2   10001             \"Chocolate Pizzelles\"  2003   \n",
       "3  100011        \"Pork and Black Bean Stew\"  2007   \n",
       "4   10002               \"Peter Pan Cookies\"  2000   \n",
       "\n",
       "                                         ingredients  \\\n",
       "0  [cacao en polvo, huevos, leche, azúcar, harina...   \n",
       "1                   [azúcar, vinagre de arroz, raíz]   \n",
       "2  [cacao en polvo, huevos, azúcar, harina, sal, ...   \n",
       "3      [cebolla, agua, pimiento, lomo de cerdo, ajo]   \n",
       "4  [azúcar moreno, bicarbonato, huevos, leche, az...   \n",
       "\n",
       "                                          techniques      source  \\\n",
       "0  [hornear, emulsionar, hornear, relleno, reboza...  allrecipes   \n",
       "1                                   [sal, hirviendo]  allrecipes   \n",
       "2                            [hornear, sal, rebozar]  allrecipes   \n",
       "3                               [hervir, cocer, sal]  allrecipes   \n",
       "4                [hornear, emulsionar, hornear, sal]  allrecipes   \n",
       "\n",
       "                                                text  creativity  \n",
       "0  i_cacao_en_polvo i_huevos i_leche i_azúcar i_h...           0  \n",
       "1  i_azúcar i_vinagre_de_arroz i_raíz t_sal t_hir...          30  \n",
       "2  i_cacao_en_polvo i_huevos i_azúcar i_harina i_...           0  \n",
       "3  i_cebolla i_agua i_pimiento i_lomo_de_cerdo i_...           0  \n",
       "4  i_azúcar_moreno i_bicarbonato i_huevos i_leche...           0  "
      ]
     },
     "execution_count": 19,
     "metadata": {},
     "output_type": "execute_result"
    }
   ],
   "source": [
    "raw_recipes_df.head()"
   ]
  },
  {
   "cell_type": "markdown",
   "metadata": {},
   "source": [
    "## Representative ingredients and techniques"
   ]
  },
  {
   "cell_type": "code",
   "execution_count": 20,
   "metadata": {
    "collapsed": true
   },
   "outputs": [],
   "source": [
    "with open('data/repr_best_estimators_linearsvc.pickle', 'rb') as f:\n",
    "    best_estimators = pickle.load(f)\n",
    "    repr_classifier = best_estimators[0]['best_estimator']"
   ]
  },
  {
   "cell_type": "markdown",
   "metadata": {},
   "source": [
    "### allrecipes"
   ]
  },
  {
   "cell_type": "code",
   "execution_count": 21,
   "metadata": {
    "collapsed": false
   },
   "outputs": [],
   "source": [
    "allrecipes_repr_recipes_df = pd.read_csv('data/dbs/recipes_allrecipes_representatives_spa.csv')"
   ]
  },
  {
   "cell_type": "code",
   "execution_count": 22,
   "metadata": {
    "collapsed": false
   },
   "outputs": [
    {
     "data": {
      "text/plain": [
       "(66673, 5)"
      ]
     },
     "execution_count": 22,
     "metadata": {},
     "output_type": "execute_result"
    }
   ],
   "source": [
    "allrecipes_repr_recipes_df.shape"
   ]
  },
  {
   "cell_type": "code",
   "execution_count": 23,
   "metadata": {
    "collapsed": false
   },
   "outputs": [
    {
     "data": {
      "text/html": [
       "<div>\n",
       "<table border=\"1\" class=\"dataframe\">\n",
       "  <thead>\n",
       "    <tr style=\"text-align: right;\">\n",
       "      <th></th>\n",
       "      <th>_id</th>\n",
       "      <th>title</th>\n",
       "      <th>year</th>\n",
       "      <th>ingredients</th>\n",
       "      <th>techniques</th>\n",
       "    </tr>\n",
       "  </thead>\n",
       "  <tbody>\n",
       "    <tr>\n",
       "      <th>0</th>\n",
       "      <td>10000</td>\n",
       "      <td>\"Chocolate Sandwich Cookies I\"</td>\n",
       "      <td>2001</td>\n",
       "      <td>[\"cacao en polvo\", \"huevos\", \"leche\", \"az\\u00f...</td>\n",
       "      <td>[\"hornear\", \"emulsionar\", \"hornear\", \"relleno\"...</td>\n",
       "    </tr>\n",
       "    <tr>\n",
       "      <th>1</th>\n",
       "      <td>100008</td>\n",
       "      <td>\"Homemade Pickled Ginger (Gari)\"</td>\n",
       "      <td>2007</td>\n",
       "      <td>[\"az\\u00facar\", \"vinagre de arroz\", \"ra\\u00edz\"]</td>\n",
       "      <td>[\"sal\", \"hervir\"]</td>\n",
       "    </tr>\n",
       "    <tr>\n",
       "      <th>2</th>\n",
       "      <td>10001</td>\n",
       "      <td>\"Chocolate Pizzelles\"</td>\n",
       "      <td>2003</td>\n",
       "      <td>[\"cacao en polvo\", \"huevos\", \"az\\u00facar\", \"h...</td>\n",
       "      <td>[\"hornear\", \"sal\", \"rebozar\"]</td>\n",
       "    </tr>\n",
       "    <tr>\n",
       "      <th>3</th>\n",
       "      <td>100011</td>\n",
       "      <td>\"Pork and Black Bean Stew\"</td>\n",
       "      <td>2007</td>\n",
       "      <td>[\"cebolla\", \"laurel\", \"agua\", \"pimiento\", \"lom...</td>\n",
       "      <td>[\"hervir\", \"cocer\", \"sal\"]</td>\n",
       "    </tr>\n",
       "    <tr>\n",
       "      <th>4</th>\n",
       "      <td>10002</td>\n",
       "      <td>\"Peter Pan Cookies\"</td>\n",
       "      <td>2000</td>\n",
       "      <td>[\"az\\u00facar moreno\", \"bicarbonato\", \"huevos\"...</td>\n",
       "      <td>[\"hornear\", \"emulsionar\", \"hornear\", \"sal\"]</td>\n",
       "    </tr>\n",
       "  </tbody>\n",
       "</table>\n",
       "</div>"
      ],
      "text/plain": [
       "      _id                             title  year  \\\n",
       "0   10000    \"Chocolate Sandwich Cookies I\"  2001   \n",
       "1  100008  \"Homemade Pickled Ginger (Gari)\"  2007   \n",
       "2   10001             \"Chocolate Pizzelles\"  2003   \n",
       "3  100011        \"Pork and Black Bean Stew\"  2007   \n",
       "4   10002               \"Peter Pan Cookies\"  2000   \n",
       "\n",
       "                                         ingredients  \\\n",
       "0  [\"cacao en polvo\", \"huevos\", \"leche\", \"az\\u00f...   \n",
       "1   [\"az\\u00facar\", \"vinagre de arroz\", \"ra\\u00edz\"]   \n",
       "2  [\"cacao en polvo\", \"huevos\", \"az\\u00facar\", \"h...   \n",
       "3  [\"cebolla\", \"laurel\", \"agua\", \"pimiento\", \"lom...   \n",
       "4  [\"az\\u00facar moreno\", \"bicarbonato\", \"huevos\"...   \n",
       "\n",
       "                                          techniques  \n",
       "0  [\"hornear\", \"emulsionar\", \"hornear\", \"relleno\"...  \n",
       "1                                  [\"sal\", \"hervir\"]  \n",
       "2                      [\"hornear\", \"sal\", \"rebozar\"]  \n",
       "3                         [\"hervir\", \"cocer\", \"sal\"]  \n",
       "4        [\"hornear\", \"emulsionar\", \"hornear\", \"sal\"]  "
      ]
     },
     "execution_count": 23,
     "metadata": {},
     "output_type": "execute_result"
    }
   ],
   "source": [
    "allrecipes_repr_recipes_df.head()"
   ]
  },
  {
   "cell_type": "code",
   "execution_count": 24,
   "metadata": {
    "collapsed": false
   },
   "outputs": [],
   "source": [
    "allrecipes_repr_recipes_df['ingredients'] = allrecipes_repr_recipes_df.apply(lambda x: json.loads(x['ingredients']), axis=1)\n",
    "allrecipes_repr_recipes_df['techniques'] = allrecipes_repr_recipes_df.apply(lambda x: json.loads(x['techniques']), axis=1)"
   ]
  },
  {
   "cell_type": "code",
   "execution_count": 25,
   "metadata": {
    "collapsed": true
   },
   "outputs": [],
   "source": [
    "allrecipes_repr_recipes_df['source'] = allrecipes_repr_recipes_df.apply(\n",
    "    lambda x: 'allrecipes', axis=1)\n",
    "\n",
    "allrecipes_repr_recipes_df['text'] = allrecipes_repr_recipes_df.apply(\n",
    "    lambda x: join_ingredients_and_techniques(x['ingredients'], x['techniques']), axis=1)\n",
    "\n",
    "allrecipes_repr_recipes_df['creativity'] = allrecipes_repr_recipes_df.apply(\n",
    "    lambda x: raw_classifier.predict([x['text']])[0], axis=1)"
   ]
  },
  {
   "cell_type": "code",
   "execution_count": 26,
   "metadata": {
    "collapsed": false,
    "scrolled": true
   },
   "outputs": [
    {
     "data": {
      "text/html": [
       "<div>\n",
       "<table border=\"1\" class=\"dataframe\">\n",
       "  <thead>\n",
       "    <tr style=\"text-align: right;\">\n",
       "      <th></th>\n",
       "      <th>_id</th>\n",
       "      <th>title</th>\n",
       "      <th>year</th>\n",
       "      <th>ingredients</th>\n",
       "      <th>techniques</th>\n",
       "      <th>source</th>\n",
       "      <th>text</th>\n",
       "      <th>creativity</th>\n",
       "    </tr>\n",
       "  </thead>\n",
       "  <tbody>\n",
       "    <tr>\n",
       "      <th>0</th>\n",
       "      <td>10000</td>\n",
       "      <td>\"Chocolate Sandwich Cookies I\"</td>\n",
       "      <td>2001</td>\n",
       "      <td>[cacao en polvo, huevos, leche, azúcar, harina...</td>\n",
       "      <td>[hornear, emulsionar, hornear, relleno, reboza...</td>\n",
       "      <td>allrecipes</td>\n",
       "      <td>i_cacao_en_polvo i_huevos i_leche i_azúcar i_h...</td>\n",
       "      <td>0</td>\n",
       "    </tr>\n",
       "    <tr>\n",
       "      <th>1</th>\n",
       "      <td>100008</td>\n",
       "      <td>\"Homemade Pickled Ginger (Gari)\"</td>\n",
       "      <td>2007</td>\n",
       "      <td>[azúcar, vinagre de arroz, raíz]</td>\n",
       "      <td>[sal, hervir]</td>\n",
       "      <td>allrecipes</td>\n",
       "      <td>i_azúcar i_vinagre_de_arroz i_raíz t_sal t_hervir</td>\n",
       "      <td>30</td>\n",
       "    </tr>\n",
       "    <tr>\n",
       "      <th>2</th>\n",
       "      <td>10001</td>\n",
       "      <td>\"Chocolate Pizzelles\"</td>\n",
       "      <td>2003</td>\n",
       "      <td>[cacao en polvo, huevos, azúcar, harina, sal, ...</td>\n",
       "      <td>[hornear, sal, rebozar]</td>\n",
       "      <td>allrecipes</td>\n",
       "      <td>i_cacao_en_polvo i_huevos i_azúcar i_harina i_...</td>\n",
       "      <td>0</td>\n",
       "    </tr>\n",
       "    <tr>\n",
       "      <th>3</th>\n",
       "      <td>100011</td>\n",
       "      <td>\"Pork and Black Bean Stew\"</td>\n",
       "      <td>2007</td>\n",
       "      <td>[cebolla, laurel, agua, pimiento, lomo de cerd...</td>\n",
       "      <td>[hervir, cocer, sal]</td>\n",
       "      <td>allrecipes</td>\n",
       "      <td>i_cebolla i_laurel i_agua i_pimiento i_lomo_de...</td>\n",
       "      <td>0</td>\n",
       "    </tr>\n",
       "    <tr>\n",
       "      <th>4</th>\n",
       "      <td>10002</td>\n",
       "      <td>\"Peter Pan Cookies\"</td>\n",
       "      <td>2000</td>\n",
       "      <td>[azúcar moreno, bicarbonato, huevos, leche, az...</td>\n",
       "      <td>[hornear, emulsionar, hornear, sal]</td>\n",
       "      <td>allrecipes</td>\n",
       "      <td>i_azúcar_moreno i_bicarbonato i_huevos i_leche...</td>\n",
       "      <td>0</td>\n",
       "    </tr>\n",
       "  </tbody>\n",
       "</table>\n",
       "</div>"
      ],
      "text/plain": [
       "      _id                             title  year  \\\n",
       "0   10000    \"Chocolate Sandwich Cookies I\"  2001   \n",
       "1  100008  \"Homemade Pickled Ginger (Gari)\"  2007   \n",
       "2   10001             \"Chocolate Pizzelles\"  2003   \n",
       "3  100011        \"Pork and Black Bean Stew\"  2007   \n",
       "4   10002               \"Peter Pan Cookies\"  2000   \n",
       "\n",
       "                                         ingredients  \\\n",
       "0  [cacao en polvo, huevos, leche, azúcar, harina...   \n",
       "1                   [azúcar, vinagre de arroz, raíz]   \n",
       "2  [cacao en polvo, huevos, azúcar, harina, sal, ...   \n",
       "3  [cebolla, laurel, agua, pimiento, lomo de cerd...   \n",
       "4  [azúcar moreno, bicarbonato, huevos, leche, az...   \n",
       "\n",
       "                                          techniques      source  \\\n",
       "0  [hornear, emulsionar, hornear, relleno, reboza...  allrecipes   \n",
       "1                                      [sal, hervir]  allrecipes   \n",
       "2                            [hornear, sal, rebozar]  allrecipes   \n",
       "3                               [hervir, cocer, sal]  allrecipes   \n",
       "4                [hornear, emulsionar, hornear, sal]  allrecipes   \n",
       "\n",
       "                                                text  creativity  \n",
       "0  i_cacao_en_polvo i_huevos i_leche i_azúcar i_h...           0  \n",
       "1  i_azúcar i_vinagre_de_arroz i_raíz t_sal t_hervir          30  \n",
       "2  i_cacao_en_polvo i_huevos i_azúcar i_harina i_...           0  \n",
       "3  i_cebolla i_laurel i_agua i_pimiento i_lomo_de...           0  \n",
       "4  i_azúcar_moreno i_bicarbonato i_huevos i_leche...           0  "
      ]
     },
     "execution_count": 26,
     "metadata": {},
     "output_type": "execute_result"
    }
   ],
   "source": [
    "allrecipes_repr_recipes_df.head()"
   ]
  },
  {
   "cell_type": "code",
   "execution_count": 27,
   "metadata": {
    "collapsed": false
   },
   "outputs": [
    {
     "data": {
      "text/plain": [
       "0     53132\n",
       "10     5008\n",
       "20     4444\n",
       "30     4089\n",
       "Name: creativity, dtype: int64"
      ]
     },
     "execution_count": 27,
     "metadata": {},
     "output_type": "execute_result"
    }
   ],
   "source": [
    "allrecipes_repr_recipes_df['creativity'].value_counts()"
   ]
  },
  {
   "cell_type": "markdown",
   "metadata": {},
   "source": [
    "### epicurious"
   ]
  },
  {
   "cell_type": "code",
   "execution_count": 28,
   "metadata": {
    "collapsed": false
   },
   "outputs": [],
   "source": [
    "epicurious_repr_recipes_df = pd.read_csv('data/dbs/recipes_epicurious_representatives_spa.csv')"
   ]
  },
  {
   "cell_type": "code",
   "execution_count": 29,
   "metadata": {
    "collapsed": false
   },
   "outputs": [
    {
     "data": {
      "text/plain": [
       "(24300, 5)"
      ]
     },
     "execution_count": 29,
     "metadata": {},
     "output_type": "execute_result"
    }
   ],
   "source": [
    "epicurious_repr_recipes_df.shape"
   ]
  },
  {
   "cell_type": "code",
   "execution_count": 30,
   "metadata": {
    "collapsed": false
   },
   "outputs": [
    {
     "data": {
      "text/html": [
       "<div>\n",
       "<table border=\"1\" class=\"dataframe\">\n",
       "  <thead>\n",
       "    <tr style=\"text-align: right;\">\n",
       "      <th></th>\n",
       "      <th>_id</th>\n",
       "      <th>title</th>\n",
       "      <th>year</th>\n",
       "      <th>ingredients</th>\n",
       "      <th>techniques</th>\n",
       "    </tr>\n",
       "  </thead>\n",
       "  <tbody>\n",
       "    <tr>\n",
       "      <th>0</th>\n",
       "      <td>1</td>\n",
       "      <td>White Bean and Pesto Dip</td>\n",
       "      <td>2004</td>\n",
       "      <td>[\"jugo de lim\\u00f3n\"]</td>\n",
       "      <td>[\"sal\"]</td>\n",
       "    </tr>\n",
       "    <tr>\n",
       "      <th>1</th>\n",
       "      <td>10</td>\n",
       "      <td>Lentil Salad with Mint and Feta</td>\n",
       "      <td>2004</td>\n",
       "      <td>[\"menta\", \"cebollas verdes\", \"lentejas\", \"acei...</td>\n",
       "      <td>[\"sal\", \"hervir\"]</td>\n",
       "    </tr>\n",
       "    <tr>\n",
       "      <th>2</th>\n",
       "      <td>100</td>\n",
       "      <td>Moo Shu Pork</td>\n",
       "      <td>2004</td>\n",
       "      <td>[\"bok choy\", \"pimiento rojo\", \"salsa\", \"jengib...</td>\n",
       "      <td>[\"dorar\", \"emulsionar\", \"stir-fry\", \"stir-fry\"]</td>\n",
       "    </tr>\n",
       "    <tr>\n",
       "      <th>3</th>\n",
       "      <td>1000</td>\n",
       "      <td>Butter Pastry Dough</td>\n",
       "      <td>2004</td>\n",
       "      <td>[\"sal\", \"agua\", \"harina\"]</td>\n",
       "      <td>[\"sal\"]</td>\n",
       "    </tr>\n",
       "    <tr>\n",
       "      <th>4</th>\n",
       "      <td>10001</td>\n",
       "      <td>Brown Bread</td>\n",
       "      <td>2004</td>\n",
       "      <td>[\"harina\", \"sal\", \"bicarbonato\", \"pasas\", \"az\\...</td>\n",
       "      <td>[\"secar\", \"rebozar\", \"hornear\"]</td>\n",
       "    </tr>\n",
       "  </tbody>\n",
       "</table>\n",
       "</div>"
      ],
      "text/plain": [
       "     _id                            title  year  \\\n",
       "0      1         White Bean and Pesto Dip  2004   \n",
       "1     10  Lentil Salad with Mint and Feta  2004   \n",
       "2    100                     Moo Shu Pork  2004   \n",
       "3   1000              Butter Pastry Dough  2004   \n",
       "4  10001                      Brown Bread  2004   \n",
       "\n",
       "                                         ingredients  \\\n",
       "0                             [\"jugo de lim\\u00f3n\"]   \n",
       "1  [\"menta\", \"cebollas verdes\", \"lentejas\", \"acei...   \n",
       "2  [\"bok choy\", \"pimiento rojo\", \"salsa\", \"jengib...   \n",
       "3                          [\"sal\", \"agua\", \"harina\"]   \n",
       "4  [\"harina\", \"sal\", \"bicarbonato\", \"pasas\", \"az\\...   \n",
       "\n",
       "                                        techniques  \n",
       "0                                          [\"sal\"]  \n",
       "1                                [\"sal\", \"hervir\"]  \n",
       "2  [\"dorar\", \"emulsionar\", \"stir-fry\", \"stir-fry\"]  \n",
       "3                                          [\"sal\"]  \n",
       "4                  [\"secar\", \"rebozar\", \"hornear\"]  "
      ]
     },
     "execution_count": 30,
     "metadata": {},
     "output_type": "execute_result"
    }
   ],
   "source": [
    "epicurious_repr_recipes_df.head()"
   ]
  },
  {
   "cell_type": "code",
   "execution_count": 31,
   "metadata": {
    "collapsed": false
   },
   "outputs": [],
   "source": [
    "epicurious_repr_recipes_df['ingredients'] = epicurious_repr_recipes_df.apply(lambda x: json.loads(x['ingredients']), axis=1)\n",
    "epicurious_repr_recipes_df['techniques'] = epicurious_repr_recipes_df.apply(lambda x: json.loads(x['techniques']), axis=1)"
   ]
  },
  {
   "cell_type": "code",
   "execution_count": 32,
   "metadata": {
    "collapsed": true
   },
   "outputs": [],
   "source": [
    "epicurious_repr_recipes_df['source'] = epicurious_repr_recipes_df.apply(\n",
    "    lambda x: 'epicurious', axis=1)\n",
    "\n",
    "epicurious_repr_recipes_df['text'] = epicurious_repr_recipes_df.apply(\n",
    "    lambda x: join_ingredients_and_techniques(x['ingredients'], x['techniques']), axis=1)\n",
    "\n",
    "epicurious_repr_recipes_df['creativity'] = epicurious_repr_recipes_df.apply(\n",
    "    lambda x: raw_classifier.predict([x['text']])[0], axis=1)"
   ]
  },
  {
   "cell_type": "code",
   "execution_count": 33,
   "metadata": {
    "collapsed": false,
    "scrolled": true
   },
   "outputs": [
    {
     "data": {
      "text/html": [
       "<div>\n",
       "<table border=\"1\" class=\"dataframe\">\n",
       "  <thead>\n",
       "    <tr style=\"text-align: right;\">\n",
       "      <th></th>\n",
       "      <th>_id</th>\n",
       "      <th>title</th>\n",
       "      <th>year</th>\n",
       "      <th>ingredients</th>\n",
       "      <th>techniques</th>\n",
       "      <th>source</th>\n",
       "      <th>text</th>\n",
       "      <th>creativity</th>\n",
       "    </tr>\n",
       "  </thead>\n",
       "  <tbody>\n",
       "    <tr>\n",
       "      <th>0</th>\n",
       "      <td>1</td>\n",
       "      <td>White Bean and Pesto Dip</td>\n",
       "      <td>2004</td>\n",
       "      <td>[jugo de limón]</td>\n",
       "      <td>[sal]</td>\n",
       "      <td>epicurious</td>\n",
       "      <td>i_jugo_de_limón t_sal</td>\n",
       "      <td>0</td>\n",
       "    </tr>\n",
       "    <tr>\n",
       "      <th>1</th>\n",
       "      <td>10</td>\n",
       "      <td>Lentil Salad with Mint and Feta</td>\n",
       "      <td>2004</td>\n",
       "      <td>[menta, cebollas verdes, lentejas, aceite de o...</td>\n",
       "      <td>[sal, hervir]</td>\n",
       "      <td>epicurious</td>\n",
       "      <td>i_menta i_cebollas_verdes i_lentejas i_aceite_...</td>\n",
       "      <td>0</td>\n",
       "    </tr>\n",
       "    <tr>\n",
       "      <th>2</th>\n",
       "      <td>100</td>\n",
       "      <td>Moo Shu Pork</td>\n",
       "      <td>2004</td>\n",
       "      <td>[bok choy, pimiento rojo, salsa, jengibre, sal...</td>\n",
       "      <td>[dorar, emulsionar, stir-fry, stir-fry]</td>\n",
       "      <td>epicurious</td>\n",
       "      <td>i_bok_choy i_pimiento_rojo i_salsa i_jengibre ...</td>\n",
       "      <td>0</td>\n",
       "    </tr>\n",
       "    <tr>\n",
       "      <th>3</th>\n",
       "      <td>1000</td>\n",
       "      <td>Butter Pastry Dough</td>\n",
       "      <td>2004</td>\n",
       "      <td>[sal, agua, harina]</td>\n",
       "      <td>[sal]</td>\n",
       "      <td>epicurious</td>\n",
       "      <td>i_sal i_agua i_harina t_sal</td>\n",
       "      <td>0</td>\n",
       "    </tr>\n",
       "    <tr>\n",
       "      <th>4</th>\n",
       "      <td>10001</td>\n",
       "      <td>Brown Bread</td>\n",
       "      <td>2004</td>\n",
       "      <td>[harina, sal, bicarbonato, pasas, azúcar moren...</td>\n",
       "      <td>[secar, rebozar, hornear]</td>\n",
       "      <td>epicurious</td>\n",
       "      <td>i_harina i_sal i_bicarbonato i_pasas i_azúcar_...</td>\n",
       "      <td>0</td>\n",
       "    </tr>\n",
       "  </tbody>\n",
       "</table>\n",
       "</div>"
      ],
      "text/plain": [
       "     _id                            title  year  \\\n",
       "0      1         White Bean and Pesto Dip  2004   \n",
       "1     10  Lentil Salad with Mint and Feta  2004   \n",
       "2    100                     Moo Shu Pork  2004   \n",
       "3   1000              Butter Pastry Dough  2004   \n",
       "4  10001                      Brown Bread  2004   \n",
       "\n",
       "                                         ingredients  \\\n",
       "0                                    [jugo de limón]   \n",
       "1  [menta, cebollas verdes, lentejas, aceite de o...   \n",
       "2  [bok choy, pimiento rojo, salsa, jengibre, sal...   \n",
       "3                                [sal, agua, harina]   \n",
       "4  [harina, sal, bicarbonato, pasas, azúcar moren...   \n",
       "\n",
       "                                techniques      source  \\\n",
       "0                                    [sal]  epicurious   \n",
       "1                            [sal, hervir]  epicurious   \n",
       "2  [dorar, emulsionar, stir-fry, stir-fry]  epicurious   \n",
       "3                                    [sal]  epicurious   \n",
       "4                [secar, rebozar, hornear]  epicurious   \n",
       "\n",
       "                                                text  creativity  \n",
       "0                              i_jugo_de_limón t_sal           0  \n",
       "1  i_menta i_cebollas_verdes i_lentejas i_aceite_...           0  \n",
       "2  i_bok_choy i_pimiento_rojo i_salsa i_jengibre ...           0  \n",
       "3                        i_sal i_agua i_harina t_sal           0  \n",
       "4  i_harina i_sal i_bicarbonato i_pasas i_azúcar_...           0  "
      ]
     },
     "execution_count": 33,
     "metadata": {},
     "output_type": "execute_result"
    }
   ],
   "source": [
    "epicurious_repr_recipes_df.head()"
   ]
  },
  {
   "cell_type": "code",
   "execution_count": 34,
   "metadata": {
    "collapsed": false
   },
   "outputs": [
    {
     "data": {
      "text/plain": [
       "0     16085\n",
       "10     2953\n",
       "20     2929\n",
       "30     2333\n",
       "Name: creativity, dtype: int64"
      ]
     },
     "execution_count": 34,
     "metadata": {},
     "output_type": "execute_result"
    }
   ],
   "source": [
    "epicurious_repr_recipes_df['creativity'].value_counts()"
   ]
  },
  {
   "cell_type": "markdown",
   "metadata": {},
   "source": [
    "### allrecipes & epicurious"
   ]
  },
  {
   "cell_type": "code",
   "execution_count": 35,
   "metadata": {
    "collapsed": true
   },
   "outputs": [],
   "source": [
    "repr_recipes_df = allrecipes_repr_recipes_df.append(epicurious_repr_recipes_df, ignore_index=True)"
   ]
  },
  {
   "cell_type": "code",
   "execution_count": 36,
   "metadata": {
    "collapsed": false,
    "scrolled": true
   },
   "outputs": [
    {
     "data": {
      "text/html": [
       "<div>\n",
       "<table border=\"1\" class=\"dataframe\">\n",
       "  <thead>\n",
       "    <tr style=\"text-align: right;\">\n",
       "      <th></th>\n",
       "      <th>_id</th>\n",
       "      <th>title</th>\n",
       "      <th>year</th>\n",
       "      <th>ingredients</th>\n",
       "      <th>techniques</th>\n",
       "      <th>source</th>\n",
       "      <th>text</th>\n",
       "      <th>creativity</th>\n",
       "    </tr>\n",
       "  </thead>\n",
       "  <tbody>\n",
       "    <tr>\n",
       "      <th>0</th>\n",
       "      <td>10000</td>\n",
       "      <td>\"Chocolate Sandwich Cookies I\"</td>\n",
       "      <td>2001</td>\n",
       "      <td>[cacao en polvo, huevos, leche, azúcar, harina...</td>\n",
       "      <td>[hornear, emulsionar, hornear, relleno, reboza...</td>\n",
       "      <td>allrecipes</td>\n",
       "      <td>i_cacao_en_polvo i_huevos i_leche i_azúcar i_h...</td>\n",
       "      <td>0</td>\n",
       "    </tr>\n",
       "    <tr>\n",
       "      <th>1</th>\n",
       "      <td>100008</td>\n",
       "      <td>\"Homemade Pickled Ginger (Gari)\"</td>\n",
       "      <td>2007</td>\n",
       "      <td>[azúcar, vinagre de arroz, raíz]</td>\n",
       "      <td>[sal, hervir]</td>\n",
       "      <td>allrecipes</td>\n",
       "      <td>i_azúcar i_vinagre_de_arroz i_raíz t_sal t_hervir</td>\n",
       "      <td>30</td>\n",
       "    </tr>\n",
       "    <tr>\n",
       "      <th>2</th>\n",
       "      <td>10001</td>\n",
       "      <td>\"Chocolate Pizzelles\"</td>\n",
       "      <td>2003</td>\n",
       "      <td>[cacao en polvo, huevos, azúcar, harina, sal, ...</td>\n",
       "      <td>[hornear, sal, rebozar]</td>\n",
       "      <td>allrecipes</td>\n",
       "      <td>i_cacao_en_polvo i_huevos i_azúcar i_harina i_...</td>\n",
       "      <td>0</td>\n",
       "    </tr>\n",
       "    <tr>\n",
       "      <th>3</th>\n",
       "      <td>100011</td>\n",
       "      <td>\"Pork and Black Bean Stew\"</td>\n",
       "      <td>2007</td>\n",
       "      <td>[cebolla, laurel, agua, pimiento, lomo de cerd...</td>\n",
       "      <td>[hervir, cocer, sal]</td>\n",
       "      <td>allrecipes</td>\n",
       "      <td>i_cebolla i_laurel i_agua i_pimiento i_lomo_de...</td>\n",
       "      <td>0</td>\n",
       "    </tr>\n",
       "    <tr>\n",
       "      <th>4</th>\n",
       "      <td>10002</td>\n",
       "      <td>\"Peter Pan Cookies\"</td>\n",
       "      <td>2000</td>\n",
       "      <td>[azúcar moreno, bicarbonato, huevos, leche, az...</td>\n",
       "      <td>[hornear, emulsionar, hornear, sal]</td>\n",
       "      <td>allrecipes</td>\n",
       "      <td>i_azúcar_moreno i_bicarbonato i_huevos i_leche...</td>\n",
       "      <td>0</td>\n",
       "    </tr>\n",
       "  </tbody>\n",
       "</table>\n",
       "</div>"
      ],
      "text/plain": [
       "      _id                             title  year  \\\n",
       "0   10000    \"Chocolate Sandwich Cookies I\"  2001   \n",
       "1  100008  \"Homemade Pickled Ginger (Gari)\"  2007   \n",
       "2   10001             \"Chocolate Pizzelles\"  2003   \n",
       "3  100011        \"Pork and Black Bean Stew\"  2007   \n",
       "4   10002               \"Peter Pan Cookies\"  2000   \n",
       "\n",
       "                                         ingredients  \\\n",
       "0  [cacao en polvo, huevos, leche, azúcar, harina...   \n",
       "1                   [azúcar, vinagre de arroz, raíz]   \n",
       "2  [cacao en polvo, huevos, azúcar, harina, sal, ...   \n",
       "3  [cebolla, laurel, agua, pimiento, lomo de cerd...   \n",
       "4  [azúcar moreno, bicarbonato, huevos, leche, az...   \n",
       "\n",
       "                                          techniques      source  \\\n",
       "0  [hornear, emulsionar, hornear, relleno, reboza...  allrecipes   \n",
       "1                                      [sal, hervir]  allrecipes   \n",
       "2                            [hornear, sal, rebozar]  allrecipes   \n",
       "3                               [hervir, cocer, sal]  allrecipes   \n",
       "4                [hornear, emulsionar, hornear, sal]  allrecipes   \n",
       "\n",
       "                                                text  creativity  \n",
       "0  i_cacao_en_polvo i_huevos i_leche i_azúcar i_h...           0  \n",
       "1  i_azúcar i_vinagre_de_arroz i_raíz t_sal t_hervir          30  \n",
       "2  i_cacao_en_polvo i_huevos i_azúcar i_harina i_...           0  \n",
       "3  i_cebolla i_laurel i_agua i_pimiento i_lomo_de...           0  \n",
       "4  i_azúcar_moreno i_bicarbonato i_huevos i_leche...           0  "
      ]
     },
     "execution_count": 36,
     "metadata": {},
     "output_type": "execute_result"
    }
   ],
   "source": [
    "repr_recipes_df.head()"
   ]
  },
  {
   "cell_type": "code",
   "execution_count": null,
   "metadata": {
    "collapsed": true
   },
   "outputs": [],
   "source": []
  }
 ],
 "metadata": {
  "kernelspec": {
   "display_name": "Python 3",
   "language": "python",
   "name": "python3"
  },
  "language_info": {
   "codemirror_mode": {
    "name": "ipython",
    "version": 3
   },
   "file_extension": ".py",
   "mimetype": "text/x-python",
   "name": "python",
   "nbconvert_exporter": "python",
   "pygments_lexer": "ipython3",
   "version": "3.4.3"
  }
 },
 "nbformat": 4,
 "nbformat_minor": 0
}
