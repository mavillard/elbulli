{
 "cells": [
  {
   "cell_type": "code",
   "execution_count": 1,
   "metadata": {
    "collapsed": false
   },
   "outputs": [],
   "source": [
    "from bs4 import BeautifulSoup"
   ]
  },
  {
   "cell_type": "code",
   "execution_count": 2,
   "metadata": {
    "collapsed": false
   },
   "outputs": [],
   "source": [
    "def trim(s):\n",
    "    return ' '.join(s.split())"
   ]
  },
  {
   "cell_type": "code",
   "execution_count": 3,
   "metadata": {
    "collapsed": true
   },
   "outputs": [],
   "source": [
    "def clean(l):\n",
    "    r = []\n",
    "    for e in l:\n",
    "        x = e.strip().lower()\n",
    "        if x == 'al dente':\n",
    "            x = []\n",
    "        elif x == 'beurre manie':\n",
    "            x = ['beurre manie or buerre manie']\n",
    "        elif x == 'buerre manie':\n",
    "            x = ['beurre manie or buerre manie']\n",
    "        elif x == 'coconut milk or cream':\n",
    "            x = ['coconut milk', 'coconut cream', 'coconut']\n",
    "        elif x == 'cream, to':\n",
    "            x = []\n",
    "        elif x == 'five-spice powder':\n",
    "            x = ['five-spice powder or five spice powder']\n",
    "        elif x == 'gluten-free brand names':\n",
    "            x = []\n",
    "        elif x == 'heirloom weights & measurements':\n",
    "            x = ['heirloom']\n",
    "        elif x == \"indienne, à l'\":\n",
    "            x = []\n",
    "        elif x == 'lactose-free brand names':\n",
    "            x = []\n",
    "        elif x == 'mustard, seed and powder':\n",
    "            x = ['mustard seed', 'mustard powder']\n",
    "        elif x == 'mustard, prepared':\n",
    "            x = ['mustard or mustard sauce']\n",
    "        else:\n",
    "            x = [x]\n",
    "        r.extend(x)\n",
    "    return set(r)"
   ]
  },
  {
   "cell_type": "code",
   "execution_count": 4,
   "metadata": {
    "collapsed": false
   },
   "outputs": [],
   "source": [
    "ingredients = set()\n",
    "\n",
    "lower_limit = 1\n",
    "upper_limit = 979\n",
    "for ide in range(lower_limit, upper_limit + 1):\n",
    "    str_id = str(ide)\n",
    "    with open('data/ingredients/en/foodcom/foodcom_ingredients_' + str_id + '.html') as f:\n",
    "        soup = BeautifulSoup(f.read(), 'html.parser')\n",
    "        elems = soup.select('h1[itemprop=\"name\"]')\n",
    "        ingrs = clean(map(lambda x: trim(x.text), elems))\n",
    "        ingredients = ingredients.union(ingrs)\n",
    "\n",
    "ingredients = sorted(ingredients)"
   ]
  },
  {
   "cell_type": "code",
   "execution_count": 5,
   "metadata": {
    "collapsed": false
   },
   "outputs": [
    {
     "data": {
      "text/plain": [
       "953"
      ]
     },
     "execution_count": 5,
     "metadata": {},
     "output_type": "execute_result"
    }
   ],
   "source": [
    "len(ingredients)"
   ]
  },
  {
   "cell_type": "code",
   "execution_count": 6,
   "metadata": {
    "collapsed": false
   },
   "outputs": [
    {
     "data": {
      "text/plain": [
       "['abalone',\n",
       " 'absinthe',\n",
       " 'achar',\n",
       " 'acidulated water',\n",
       " 'ackee',\n",
       " 'acorn squash',\n",
       " 'adobo',\n",
       " 'advieh',\n",
       " 'african birdseye chile pepper',\n",
       " 'agar']"
      ]
     },
     "execution_count": 6,
     "metadata": {},
     "output_type": "execute_result"
    }
   ],
   "source": [
    "ingredients[:10]"
   ]
  },
  {
   "cell_type": "code",
   "execution_count": 7,
   "metadata": {
    "collapsed": true
   },
   "outputs": [],
   "source": [
    "with open('data/ingredients/en_foodcom_ingredients.txt', 'w') as f:\n",
    "    f.write('\\n'.join(sorted(ingredients)))"
   ]
  },
  {
   "cell_type": "code",
   "execution_count": null,
   "metadata": {
    "collapsed": true
   },
   "outputs": [],
   "source": []
  }
 ],
 "metadata": {
  "kernelspec": {
   "display_name": "Python 3",
   "language": "python",
   "name": "python3"
  },
  "language_info": {
   "codemirror_mode": {
    "name": "ipython",
    "version": 3
   },
   "file_extension": ".py",
   "mimetype": "text/x-python",
   "name": "python",
   "nbconvert_exporter": "python",
   "pygments_lexer": "ipython3",
   "version": "3.4.3"
  }
 },
 "nbformat": 4,
 "nbformat_minor": 0
}
