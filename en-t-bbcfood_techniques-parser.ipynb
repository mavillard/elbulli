{
 "cells": [
  {
   "cell_type": "code",
   "execution_count": 1,
   "metadata": {
    "collapsed": false
   },
   "outputs": [],
   "source": [
    "from bs4 import BeautifulSoup"
   ]
  },
  {
   "cell_type": "code",
   "execution_count": 2,
   "metadata": {
    "collapsed": true
   },
   "outputs": [],
   "source": [
    "def trim(s):\n",
    "    return ' '.join(s.split())"
   ]
  },
  {
   "cell_type": "code",
   "execution_count": 3,
   "metadata": {
    "collapsed": true
   },
   "outputs": [],
   "source": [
    "def clean(l):\n",
    "    r = []\n",
    "    for e in l:\n",
    "        x = e.strip().lower()\n",
    "        x = [x]\n",
    "        r.extend(x)\n",
    "    return set(r)"
   ]
  },
  {
   "cell_type": "code",
   "execution_count": 4,
   "metadata": {
    "collapsed": false
   },
   "outputs": [],
   "source": [
    "techniques = set()\n",
    "\n",
    "with open('data/techniques/en/bbcfood/bbcfood_techniques.html') as f:\n",
    "    soup = BeautifulSoup(f.read(), 'html.parser')\n",
    "    elems = ['Chopping', 'De-seeding', 'Grating', 'roast', 'chop', 'dicing', 'slicing', 'chiffonade', 'shredding', 'julienne', 'Preparing', 'Segmenting', 'Skinning', 'Skinning', 'Toasting', 'skinning', 'Zesting', 'Browning', 'De-boning', 'butterflying', 'boil', 'bone', 'bone', 'brown', 'carve', 'carve', 'deglaze', 'fry', 'joint', 'joint', 'poach', 'portion', 'roast', 'separate', 'tie', 'Scoring', 'Searing', 'Spatchcocking', 'Whisking', 'Butterflying', 'de-bearding', 'fillet', 'fillet', 'skin', 'fillet', 'Peeling', 'Scaling', 'gutting', 'Rolling', 'Breaking', 'Caramelising', 'Chaffing', 'Covering', 'Crimping', 'Decorating', 'Folding', 'Glazing', 'Greasing', 'lining', 'assemble', 'blind bake', 'cover', 'cream', 'fold', 'ice', 'ice', 'ice', 'ice', 'knead', 'line', 'line', 'marzipan', 'pipe', 'pipe', 'shape', 'fill', 'shape', 'shape', 'shape', 'soften', 'temper', 'Icing', 'Kneading', 'Knocking', 'Lining', 'Lining', 'Lining', 'trimming', 'Melting', 'Rolling', 'Rubbing', 'Shaping', 'Steaming', 'pulse', 'Whipping', 'Wrapping', 'De-glazing', 'Freeze', 'Skimming', 'Thickening', 'knead', 'Lining', 'baking blind']\n",
    "    techs = clean(map(lambda x: trim(x), elems))\n",
    "    techniques = techniques.union(techs)\n",
    "\n",
    "techniques = sorted(techniques)"
   ]
  },
  {
   "cell_type": "code",
   "execution_count": 5,
   "metadata": {
    "collapsed": false
   },
   "outputs": [
    {
     "data": {
      "text/plain": [
       "80"
      ]
     },
     "execution_count": 5,
     "metadata": {},
     "output_type": "execute_result"
    }
   ],
   "source": [
    "len(techniques)"
   ]
  },
  {
   "cell_type": "code",
   "execution_count": 6,
   "metadata": {
    "collapsed": false
   },
   "outputs": [
    {
     "data": {
      "text/plain": [
       "['assemble',\n",
       " 'baking blind',\n",
       " 'blind bake',\n",
       " 'boil',\n",
       " 'bone',\n",
       " 'breaking',\n",
       " 'brown',\n",
       " 'browning',\n",
       " 'butterflying',\n",
       " 'caramelising']"
      ]
     },
     "execution_count": 6,
     "metadata": {},
     "output_type": "execute_result"
    }
   ],
   "source": [
    "techniques[:10]"
   ]
  },
  {
   "cell_type": "code",
   "execution_count": 7,
   "metadata": {
    "collapsed": true
   },
   "outputs": [],
   "source": [
    "with open('data/techniques/en_bbcfood_techniques.txt', 'w') as f:\n",
    "    f.write('\\n'.join(techniques))"
   ]
  },
  {
   "cell_type": "code",
   "execution_count": null,
   "metadata": {
    "collapsed": true
   },
   "outputs": [],
   "source": []
  }
 ],
 "metadata": {
  "kernelspec": {
   "display_name": "Python 3",
   "language": "python",
   "name": "python3"
  },
  "language_info": {
   "codemirror_mode": {
    "name": "ipython",
    "version": 3
   },
   "file_extension": ".py",
   "mimetype": "text/x-python",
   "name": "python",
   "nbconvert_exporter": "python",
   "pygments_lexer": "ipython3",
   "version": "3.4.3"
  }
 },
 "nbformat": 4,
 "nbformat_minor": 0
}
