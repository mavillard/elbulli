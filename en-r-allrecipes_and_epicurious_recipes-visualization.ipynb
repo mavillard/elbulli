{
 "cells": [
  {
   "cell_type": "code",
   "execution_count": 1,
   "metadata": {
    "collapsed": false
   },
   "outputs": [
    {
     "name": "stderr",
     "output_type": "stream",
     "text": [
      "/home/antonio/virtualenvs/elbulli/lib/python3.4/site-packages/IPython/html.py:14: ShimWarning: The `IPython.html` package has been deprecated. You should import from `notebook` instead. `IPython.html.widgets` has moved to `ipywidgets`.\n",
      "  \"`IPython.html.widgets` has moved to `ipywidgets`.\", ShimWarning)\n"
     ]
    }
   ],
   "source": [
    "import matplotlib\n",
    "import pandas as pd\n",
    "import seaborn as sbn"
   ]
  },
  {
   "cell_type": "code",
   "execution_count": 2,
   "metadata": {
    "collapsed": true
   },
   "outputs": [],
   "source": [
    "%matplotlib inline\n",
    "matplotlib.rcParams['figure.figsize'] = (10, 6)"
   ]
  },
  {
   "cell_type": "code",
   "execution_count": 3,
   "metadata": {
    "collapsed": true
   },
   "outputs": [],
   "source": [
    "raw_recipes_df = pd.read_csv('data/classified_raw_recipes.csv')"
   ]
  },
  {
   "cell_type": "code",
   "execution_count": 4,
   "metadata": {
    "collapsed": true
   },
   "outputs": [],
   "source": [
    "repr_recipes_df = pd.read_csv('data/classified_repr_recipes.csv')"
   ]
  },
  {
   "cell_type": "code",
   "execution_count": 5,
   "metadata": {
    "collapsed": false
   },
   "outputs": [
    {
     "data": {
      "text/html": [
       "<div>\n",
       "<table border=\"1\" class=\"dataframe\">\n",
       "  <thead>\n",
       "    <tr style=\"text-align: right;\">\n",
       "      <th></th>\n",
       "      <th>_id</th>\n",
       "      <th>title</th>\n",
       "      <th>year</th>\n",
       "      <th>ingredients</th>\n",
       "      <th>techniques</th>\n",
       "      <th>source</th>\n",
       "      <th>text</th>\n",
       "      <th>creativity</th>\n",
       "    </tr>\n",
       "  </thead>\n",
       "  <tbody>\n",
       "    <tr>\n",
       "      <th>0</th>\n",
       "      <td>10000</td>\n",
       "      <td>\"Chocolate Sandwich Cookies I\"</td>\n",
       "      <td>2001</td>\n",
       "      <td>['cacao en polvo', 'huevos', 'leche', 'azúcar'...</td>\n",
       "      <td>['hornear', 'emulsionar', 'hornear', 'relleno'...</td>\n",
       "      <td>allrecipes</td>\n",
       "      <td>i_cacao_en_polvo i_huevos i_leche i_azúcar i_h...</td>\n",
       "      <td>0</td>\n",
       "    </tr>\n",
       "    <tr>\n",
       "      <th>1</th>\n",
       "      <td>100008</td>\n",
       "      <td>\"Homemade Pickled Ginger (Gari)\"</td>\n",
       "      <td>2007</td>\n",
       "      <td>['azúcar', 'vinagre de arroz', 'raíz']</td>\n",
       "      <td>['sal', 'hirviendo']</td>\n",
       "      <td>allrecipes</td>\n",
       "      <td>i_azúcar i_vinagre_de_arroz i_raíz t_sal t_hir...</td>\n",
       "      <td>30</td>\n",
       "    </tr>\n",
       "    <tr>\n",
       "      <th>2</th>\n",
       "      <td>10001</td>\n",
       "      <td>\"Chocolate Pizzelles\"</td>\n",
       "      <td>2003</td>\n",
       "      <td>['cacao en polvo', 'huevos', 'azúcar', 'harina...</td>\n",
       "      <td>['hornear', 'sal', 'rebozar']</td>\n",
       "      <td>allrecipes</td>\n",
       "      <td>i_cacao_en_polvo i_huevos i_azúcar i_harina i_...</td>\n",
       "      <td>0</td>\n",
       "    </tr>\n",
       "    <tr>\n",
       "      <th>3</th>\n",
       "      <td>100011</td>\n",
       "      <td>\"Pork and Black Bean Stew\"</td>\n",
       "      <td>2007</td>\n",
       "      <td>['cebolla', 'agua', 'pimiento', 'lomo de cerdo...</td>\n",
       "      <td>['hervir', 'cocer', 'sal']</td>\n",
       "      <td>allrecipes</td>\n",
       "      <td>i_cebolla i_agua i_pimiento i_lomo_de_cerdo i_...</td>\n",
       "      <td>0</td>\n",
       "    </tr>\n",
       "    <tr>\n",
       "      <th>4</th>\n",
       "      <td>10002</td>\n",
       "      <td>\"Peter Pan Cookies\"</td>\n",
       "      <td>2000</td>\n",
       "      <td>['azúcar moreno', 'bicarbonato', 'huevos', 'le...</td>\n",
       "      <td>['hornear', 'emulsionar', 'hornear', 'sal']</td>\n",
       "      <td>allrecipes</td>\n",
       "      <td>i_azúcar_moreno i_bicarbonato i_huevos i_leche...</td>\n",
       "      <td>0</td>\n",
       "    </tr>\n",
       "  </tbody>\n",
       "</table>\n",
       "</div>"
      ],
      "text/plain": [
       "      _id                             title  year  \\\n",
       "0   10000    \"Chocolate Sandwich Cookies I\"  2001   \n",
       "1  100008  \"Homemade Pickled Ginger (Gari)\"  2007   \n",
       "2   10001             \"Chocolate Pizzelles\"  2003   \n",
       "3  100011        \"Pork and Black Bean Stew\"  2007   \n",
       "4   10002               \"Peter Pan Cookies\"  2000   \n",
       "\n",
       "                                         ingredients  \\\n",
       "0  ['cacao en polvo', 'huevos', 'leche', 'azúcar'...   \n",
       "1             ['azúcar', 'vinagre de arroz', 'raíz']   \n",
       "2  ['cacao en polvo', 'huevos', 'azúcar', 'harina...   \n",
       "3  ['cebolla', 'agua', 'pimiento', 'lomo de cerdo...   \n",
       "4  ['azúcar moreno', 'bicarbonato', 'huevos', 'le...   \n",
       "\n",
       "                                          techniques      source  \\\n",
       "0  ['hornear', 'emulsionar', 'hornear', 'relleno'...  allrecipes   \n",
       "1                               ['sal', 'hirviendo']  allrecipes   \n",
       "2                      ['hornear', 'sal', 'rebozar']  allrecipes   \n",
       "3                         ['hervir', 'cocer', 'sal']  allrecipes   \n",
       "4        ['hornear', 'emulsionar', 'hornear', 'sal']  allrecipes   \n",
       "\n",
       "                                                text  creativity  \n",
       "0  i_cacao_en_polvo i_huevos i_leche i_azúcar i_h...           0  \n",
       "1  i_azúcar i_vinagre_de_arroz i_raíz t_sal t_hir...          30  \n",
       "2  i_cacao_en_polvo i_huevos i_azúcar i_harina i_...           0  \n",
       "3  i_cebolla i_agua i_pimiento i_lomo_de_cerdo i_...           0  \n",
       "4  i_azúcar_moreno i_bicarbonato i_huevos i_leche...           0  "
      ]
     },
     "execution_count": 5,
     "metadata": {},
     "output_type": "execute_result"
    }
   ],
   "source": [
    "raw_recipes_df.head()"
   ]
  },
  {
   "cell_type": "code",
   "execution_count": 6,
   "metadata": {
    "collapsed": false
   },
   "outputs": [
    {
     "data": {
      "text/plain": [
       "1998        7\n",
       "1999        5\n",
       "2000     4247\n",
       "2001     6283\n",
       "2002     5609\n",
       "2003     2815\n",
       "2004    20874\n",
       "2005     4571\n",
       "2006     7226\n",
       "2007     8080\n",
       "2008     5549\n",
       "2009     4233\n",
       "2010     3630\n",
       "2011     2643\n",
       "2012     4234\n",
       "2013     3791\n",
       "2014     3569\n",
       "2015     3244\n",
       "2016      362\n",
       "Name: year, dtype: int64"
      ]
     },
     "execution_count": 6,
     "metadata": {},
     "output_type": "execute_result"
    }
   ],
   "source": [
    "raw_recipes_df['year'].value_counts().sort_index()"
   ]
  },
  {
   "cell_type": "code",
   "execution_count": 7,
   "metadata": {
    "collapsed": false
   },
   "outputs": [
    {
     "data": {
      "text/plain": [
       "1999       1\n",
       "2000    4245\n",
       "2001    6283\n",
       "2002    5609\n",
       "2003    2808\n",
       "2004    2492\n",
       "2005    3382\n",
       "2006    5145\n",
       "2007    6442\n",
       "2008    4661\n",
       "2009    4148\n",
       "2010    3621\n",
       "2011    2640\n",
       "2012    4234\n",
       "2013    3791\n",
       "2014    3569\n",
       "2015    3239\n",
       "2016     361\n",
       "Name: year, dtype: int64"
      ]
     },
     "execution_count": 7,
     "metadata": {},
     "output_type": "execute_result"
    }
   ],
   "source": [
    "raw_recipes_df[raw_recipes_df['source']=='allrecipes']['year'].value_counts().sort_index()"
   ]
  },
  {
   "cell_type": "code",
   "execution_count": 8,
   "metadata": {
    "collapsed": false
   },
   "outputs": [
    {
     "data": {
      "text/plain": [
       "1998        7\n",
       "1999        4\n",
       "2000        2\n",
       "2003        7\n",
       "2004    18382\n",
       "2005     1189\n",
       "2006     2081\n",
       "2007     1638\n",
       "2008      888\n",
       "2009       85\n",
       "2010        9\n",
       "2011        3\n",
       "2015        5\n",
       "2016        1\n",
       "Name: year, dtype: int64"
      ]
     },
     "execution_count": 8,
     "metadata": {},
     "output_type": "execute_result"
    }
   ],
   "source": [
    "raw_recipes_df[raw_recipes_df['source']=='epicurious']['year'].value_counts().sort_index()"
   ]
  },
  {
   "cell_type": "code",
   "execution_count": 9,
   "metadata": {
    "collapsed": false
   },
   "outputs": [
    {
     "name": "stdout",
     "output_type": "stream",
     "text": [
      "               _id  creativity\n",
      "year                          \n",
      "2004  66112.028688    7.811875\n",
      "               _id  creativity\n",
      "year                          \n",
      "2004  66472.635688    7.758125\n",
      "               _id  creativity\n",
      "year                          \n",
      "2004  66529.546188    7.795625\n",
      "               _id  creativity\n",
      "year                          \n",
      "2004  66181.536938    7.786875\n",
      "               _id  creativity\n",
      "year                          \n",
      "2004  66510.770438       7.865\n",
      "               _id  creativity\n",
      "year                          \n",
      "2004  66519.093938     7.85625\n",
      "              _id  creativity\n",
      "year                         \n",
      "2004  66396.51625        7.81\n",
      "               _id  creativity\n",
      "year                          \n",
      "2004  66333.273188      7.7625\n",
      "               _id  creativity\n",
      "year                          \n",
      "2004  66322.604875     7.80375\n",
      "               _id  creativity\n",
      "year                          \n",
      "2004  66330.535062    7.809375\n"
     ]
    },
    {
     "name": "stderr",
     "output_type": "stream",
     "text": [
      "/home/antonio/virtualenvs/elbulli/lib/python3.4/site-packages/ipykernel/__main__.py:5: UserWarning: Boolean Series key will be reindexed to match DataFrame index.\n"
     ]
    }
   ],
   "source": [
    "import random\n",
    "\n",
    "for _ in range(10):\n",
    "    x = random.randint(0, 1000)\n",
    "    print(raw_recipes_df[raw_recipes_df['source']=='epicurious'] \\\n",
    "                  [raw_recipes_df['year']==2004] \\\n",
    "        .sample(16000, random_state=x) \\\n",
    "        .groupby(['year']).mean()\n",
    "    )"
   ]
  },
  {
   "cell_type": "code",
   "execution_count": 10,
   "metadata": {
    "collapsed": false
   },
   "outputs": [
    {
     "name": "stderr",
     "output_type": "stream",
     "text": [
      "/home/antonio/virtualenvs/elbulli/lib/python3.4/site-packages/ipykernel/__main__.py:3: UserWarning: Boolean Series key will be reindexed to match DataFrame index.\n",
      "  app.launch_new_instance()\n"
     ]
    }
   ],
   "source": [
    "raw_recipes_df.drop(\n",
    "    raw_recipes_df[raw_recipes_df['source']=='epicurious'] \\\n",
    "                  [raw_recipes_df['year']==2004] \\\n",
    "        .sample(17000).index, inplace=True)"
   ]
  },
  {
   "cell_type": "code",
   "execution_count": 11,
   "metadata": {
    "collapsed": false
   },
   "outputs": [
    {
     "data": {
      "text/plain": [
       "1998       7\n",
       "1999       4\n",
       "2000       2\n",
       "2003       7\n",
       "2004    1382\n",
       "2005    1189\n",
       "2006    2081\n",
       "2007    1638\n",
       "2008     888\n",
       "2009      85\n",
       "2010       9\n",
       "2011       3\n",
       "2015       5\n",
       "2016       1\n",
       "Name: year, dtype: int64"
      ]
     },
     "execution_count": 11,
     "metadata": {},
     "output_type": "execute_result"
    }
   ],
   "source": [
    "raw_recipes_df[raw_recipes_df['source']=='epicurious']['year'].value_counts().sort_index()"
   ]
  },
  {
   "cell_type": "code",
   "execution_count": 12,
   "metadata": {
    "collapsed": false
   },
   "outputs": [
    {
     "name": "stderr",
     "output_type": "stream",
     "text": [
      "/home/antonio/virtualenvs/elbulli/lib/python3.4/site-packages/ipykernel/__main__.py:1: UserWarning: Boolean Series key will be reindexed to match DataFrame index.\n",
      "  if __name__ == '__main__':\n"
     ]
    }
   ],
   "source": [
    "raw_epicurious_2004_2008_df = \\\n",
    "    raw_recipes_df[raw_recipes_df['source']=='epicurious'] \\\n",
    "                  [(2004 <= raw_recipes_df['year']) & (raw_recipes_df['year'] <= 2008)]"
   ]
  },
  {
   "cell_type": "code",
   "execution_count": 13,
   "metadata": {
    "collapsed": false
   },
   "outputs": [
    {
     "data": {
      "text/plain": [
       "2004    1382\n",
       "2005    1189\n",
       "2006    2081\n",
       "2007    1638\n",
       "2008     888\n",
       "Name: year, dtype: int64"
      ]
     },
     "execution_count": 13,
     "metadata": {},
     "output_type": "execute_result"
    }
   ],
   "source": [
    "raw_epicurious_2004_2008_df['year'].value_counts().sort_index()"
   ]
  },
  {
   "cell_type": "code",
   "execution_count": 14,
   "metadata": {
    "collapsed": false
   },
   "outputs": [
    {
     "data": {
      "text/plain": [
       "1998       7\n",
       "1999       5\n",
       "2000    4247\n",
       "2001    6283\n",
       "2002    5609\n",
       "2003    2815\n",
       "2004    3874\n",
       "2005    4571\n",
       "2006    7226\n",
       "2007    8080\n",
       "2008    5549\n",
       "2009    4233\n",
       "2010    3630\n",
       "2011    2643\n",
       "2012    4234\n",
       "2013    3791\n",
       "2014    3569\n",
       "2015    3244\n",
       "2016     362\n",
       "Name: year, dtype: int64"
      ]
     },
     "execution_count": 14,
     "metadata": {},
     "output_type": "execute_result"
    }
   ],
   "source": [
    "raw_recipes_df['year'].value_counts().sort_index()"
   ]
  },
  {
   "cell_type": "code",
   "execution_count": 15,
   "metadata": {
    "collapsed": false
   },
   "outputs": [
    {
     "data": {
      "text/plain": [
       "<matplotlib.text.Text at 0x7f6918bc2c50>"
      ]
     },
     "execution_count": 15,
     "metadata": {},
     "output_type": "execute_result"
    },
    {
     "data": {
      "image/png": "[encoded data removed]",
      "text/plain": [
       "<matplotlib.figure.Figure at 0x7f69137a6cf8>"
      ]
     },
     "metadata": {},
     "output_type": "display_data"
    }
   ],
   "source": [
    "raw_recipes_df.groupby(['year']).mean()['creativity'].plot(\n",
    "    xlim=[2000, 2015],\n",
    "    ylim=[0, 30],\n",
    "    title='General creativity evolution',\n",
    ").set_ylabel('creativity')"
   ]
  },
  {
   "cell_type": "code",
   "execution_count": 16,
   "metadata": {
    "collapsed": false
   },
   "outputs": [
    {
     "data": {
      "text/plain": [
       "<matplotlib.text.Text at 0x7f6918b04a58>"
      ]
     },
     "execution_count": 16,
     "metadata": {},
     "output_type": "execute_result"
    },
    {
     "data": {
      "image/png": "[encoded data removed]",
      "text/plain": [
       "<matplotlib.figure.Figure at 0x7f6918b29128>"
      ]
     },
     "metadata": {},
     "output_type": "display_data"
    }
   ],
   "source": [
    "raw_recipes_df.groupby(['year']).mean()['creativity'].plot(\n",
    "    xlim=[2000, 2015],\n",
    "    ylim=[3, 10],\n",
    "    title='General creativity evolution'\n",
    ").set_ylabel('creativity')"
   ]
  },
  {
   "cell_type": "code",
   "execution_count": 17,
   "metadata": {
    "collapsed": false
   },
   "outputs": [
    {
     "data": {
      "text/plain": [
       "<matplotlib.text.Text at 0x7f6918ac7cc0>"
      ]
     },
     "execution_count": 17,
     "metadata": {},
     "output_type": "execute_result"
    },
    {
     "data": {
      "image/png": "[encoded data removed]",
      "text/plain": [
       "<matplotlib.figure.Figure at 0x7f6918a5ff98>"
      ]
     },
     "metadata": {},
     "output_type": "display_data"
    }
   ],
   "source": [
    "raw_recipes_df[raw_recipes_df['source']=='allrecipes'].groupby(['year']).mean()['creativity'].plot(\n",
    "    xlim=[2000, 2015],\n",
    "    ylim=[3, 10],\n",
    "    title='allrecipes creativity evolution'\n",
    ").set_ylabel('creativity')"
   ]
  },
  {
   "cell_type": "code",
   "execution_count": 18,
   "metadata": {
    "collapsed": false
   },
   "outputs": [
    {
     "name": "stderr",
     "output_type": "stream",
     "text": [
      "/home/antonio/virtualenvs/elbulli/lib/python3.4/site-packages/ipykernel/__main__.py:1: UserWarning: Boolean Series key will be reindexed to match DataFrame index.\n",
      "  if __name__ == '__main__':\n"
     ]
    },
    {
     "data": {
      "text/plain": [
       "<matplotlib.text.Text at 0x7f6918a4a400>"
      ]
     },
     "execution_count": 18,
     "metadata": {},
     "output_type": "execute_result"
    },
    {
     "data": {
      "image/png": "[encoded data removed]",
      "text/plain": [
       "<matplotlib.figure.Figure at 0x7f6918a52080>"
      ]
     },
     "metadata": {},
     "output_type": "display_data"
    }
   ],
   "source": [
    "raw_epicurious_2004_2008_df[raw_recipes_df['source']=='epicurious'].groupby(['year']).mean()['creativity'].plot(\n",
    "    xlim=[2000, 2015],\n",
    "    ylim=[3, 10],\n",
    "    title='epicurious creativity evolution',\n",
    ").set_ylabel('creativity')"
   ]
  },
  {
   "cell_type": "code",
   "execution_count": 19,
   "metadata": {
    "collapsed": false
   },
   "outputs": [
    {
     "name": "stderr",
     "output_type": "stream",
     "text": [
      "/home/antonio/virtualenvs/elbulli/lib/python3.4/site-packages/ipykernel/__main__.py:4: UserWarning: Boolean Series key will be reindexed to match DataFrame index.\n"
     ]
    }
   ],
   "source": [
    "raw_df = pd.DataFrame({\n",
    "    'total': raw_recipes_df.groupby(['year']).mean()['creativity'],\n",
    "    'allrecipes': raw_recipes_df[raw_recipes_df['source']=='allrecipes'].groupby(['year']).mean()['creativity'],\n",
    "    'epicurious': raw_epicurious_2004_2008_df[raw_recipes_df['source']=='epicurious'].groupby(['year']).mean()['creativity'],\n",
    "})"
   ]
  },
  {
   "cell_type": "code",
   "execution_count": 20,
   "metadata": {
    "collapsed": false
   },
   "outputs": [
    {
     "data": {
      "text/plain": [
       "<matplotlib.text.Text at 0x7f69189cf3c8>"
      ]
     },
     "execution_count": 20,
     "metadata": {},
     "output_type": "execute_result"
    },
    {
     "data": {
      "image/png": "[encoded data removed]",
      "text/plain": [
       "<matplotlib.figure.Figure at 0x7f69189f2160>"
      ]
     },
     "metadata": {},
     "output_type": "display_data"
    }
   ],
   "source": [
    "raw_df.plot(\n",
    "    xlim=[2000, 2015],\n",
    "    ylim=[3, 10],\n",
    "    title='Comparison creativity evolution',\n",
    ").set_ylabel('creativity')"
   ]
  },
  {
   "cell_type": "code",
   "execution_count": 21,
   "metadata": {
    "collapsed": false
   },
   "outputs": [
    {
     "data": {
      "text/plain": [
       "<matplotlib.text.Text at 0x7f6918a4a940>"
      ]
     },
     "execution_count": 21,
     "metadata": {},
     "output_type": "execute_result"
    },
    {
     "data": {
      "image/png": "[encoded data removed]",
      "text/plain": [
       "<matplotlib.figure.Figure at 0x7f69189650f0>"
      ]
     },
     "metadata": {},
     "output_type": "display_data"
    }
   ],
   "source": [
    "raw_df.plot(\n",
    "    xlim=[2000, 2015],\n",
    "    ylim=[0, 30],\n",
    "    title='Comparison creativity evolution'\n",
    ").set_ylabel('creativity')"
   ]
  },
  {
   "cell_type": "code",
   "execution_count": null,
   "metadata": {
    "collapsed": true
   },
   "outputs": [],
   "source": []
  }
 ],
 "metadata": {
  "kernelspec": {
   "display_name": "Python 3",
   "language": "python",
   "name": "python3"
  },
  "language_info": {
   "codemirror_mode": {
    "name": "ipython",
    "version": 3
   },
   "file_extension": ".py",
   "mimetype": "text/x-python",
   "name": "python",
   "nbconvert_exporter": "python",
   "pygments_lexer": "ipython3",
   "version": "3.4.3"
  }
 },
 "nbformat": 4,
 "nbformat_minor": 0
}
