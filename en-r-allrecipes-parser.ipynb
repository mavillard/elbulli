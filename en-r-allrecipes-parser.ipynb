{
 "cells": [
  {
   "cell_type": "code",
   "execution_count": 28,
   "metadata": {
    "collapsed": true
   },
   "outputs": [],
   "source": [
    "import os\n",
    "import pickle\n",
    "from collections import Counter\n",
    "from collections import defaultdict\n",
    "\n",
    "import networkx as nx\n",
    "import nltk\n",
    "from bs4 import BeautifulSoup\n",
    "from nltk.corpus import stopwords\n",
    "from nltk.util import ngrams\n",
    "from pymongo import MongoClient\n",
    "from pymongo.errors import BulkWriteError"
   ]
  },
  {
   "cell_type": "code",
   "execution_count": 2,
   "metadata": {
    "collapsed": false
   },
   "outputs": [],
   "source": [
    "client = MongoClient()\n",
    "db = client.recipes"
   ]
  },
  {
   "cell_type": "markdown",
   "metadata": {},
   "source": [
    "# Parser"
   ]
  },
  {
   "cell_type": "code",
   "execution_count": 3,
   "metadata": {
    "collapsed": false
   },
   "outputs": [],
   "source": [
    "english_stopwords = set(stopwords.words('english'))"
   ]
  },
  {
   "cell_type": "code",
   "execution_count": 4,
   "metadata": {
    "collapsed": true
   },
   "outputs": [],
   "source": [
    "all_ingredients_graph = nx.read_gexf('data/english_ingredients_lexicon_5.gexf')"
   ]
  },
  {
   "cell_type": "code",
   "execution_count": 5,
   "metadata": {
    "collapsed": true
   },
   "outputs": [],
   "source": [
    "ingredients = all_ingredients_graph.nodes()\n",
    "ingredients = [i for i in ingredients if i not in english_stopwords]"
   ]
  },
  {
   "cell_type": "code",
   "execution_count": 6,
   "metadata": {
    "collapsed": false
   },
   "outputs": [
    {
     "data": {
      "text/plain": [
       "['chantilly creams of wheat berries',\n",
       " 'sour chantilly creams',\n",
       " 'snake beans',\n",
       " 'oxheart tomatoes chutneys',\n",
       " 'orange roughies',\n",
       " 'crabs apple',\n",
       " 'amla',\n",
       " 'wheats berriess beers',\n",
       " 'lemon myrtle',\n",
       " 'fresnoes pepper']"
      ]
     },
     "execution_count": 6,
     "metadata": {},
     "output_type": "execute_result"
    }
   ],
   "source": [
    "ingredients[:10]"
   ]
  },
  {
   "cell_type": "code",
   "execution_count": 7,
   "metadata": {
    "collapsed": false
   },
   "outputs": [],
   "source": [
    "all_techniques_graph = nx.read_gexf('data/english_techniques_lexicon_5.gexf')"
   ]
  },
  {
   "cell_type": "code",
   "execution_count": 8,
   "metadata": {
    "collapsed": true
   },
   "outputs": [],
   "source": [
    "techniques = all_techniques_graph.nodes()\n",
    "techniques = [t for t in techniques if t not in english_stopwords]"
   ]
  },
  {
   "cell_type": "code",
   "execution_count": 9,
   "metadata": {
    "collapsed": false
   },
   "outputs": [
    {
     "data": {
      "text/plain": [
       "['airing cooking frying',\n",
       " 'engine cook',\n",
       " 'drying blind baked',\n",
       " 'tataki',\n",
       " 'prepared',\n",
       " 'anti griddle',\n",
       " 'extracted',\n",
       " 'vacuum flask browning',\n",
       " 'al dente',\n",
       " 'food drying blind baking']"
      ]
     },
     "execution_count": 9,
     "metadata": {},
     "output_type": "execute_result"
    }
   ],
   "source": [
    "techniques[:10]"
   ]
  },
  {
   "cell_type": "code",
   "execution_count": 10,
   "metadata": {
    "collapsed": true
   },
   "outputs": [],
   "source": [
    "def trim(s):\n",
    "    return ' '.join(s.split())"
   ]
  },
  {
   "cell_type": "code",
   "execution_count": 11,
   "metadata": {
    "collapsed": true
   },
   "outputs": [],
   "source": [
    "def my_ngrams(technique):\n",
    "    ngrms = []\n",
    "    tokens = nltk.word_tokenize(technique)\n",
    "    for i in range(1, len(tokens) + 1):\n",
    "        ngrms.extend(ngrams(tokens, i))\n",
    "    return list(map(lambda x: ' '.join(x), ngrms))"
   ]
  },
  {
   "cell_type": "code",
   "execution_count": null,
   "metadata": {
    "collapsed": false
   },
   "outputs": [],
   "source": [
    "%%time\n",
    "\n",
    "def insert_documents(docs):\n",
    "    try:\n",
    "        db.allrecipes_raw.insert_many(docs, ordered=False)\n",
    "    except BulkWriteError as e:\n",
    "        pass\n",
    "\n",
    "# db.allrecipes_raw.drop()\n",
    "\n",
    "count = 0\n",
    "rows = []\n",
    "\n",
    "# path = 'data/recipes/allrecipes/'\n",
    "path = '/media/antonio/WD1T/datasets-recipes/allrecipes/'\n",
    "for folder_number in sorted(map(int, os.listdir(path))):\n",
    "    folder = str(folder_number)\n",
    "    for filename_number in sorted(map(lambda x: int(x[:-5]), os.listdir(path + folder))):\n",
    "        filename = str(filename_number) + '.html'\n",
    "        with open(path + folder + '/' + filename) as f:\n",
    "            row = {\n",
    "                '_id': '',\n",
    "                'title': '',\n",
    "                'year': 0,\n",
    "                'ingredients': set(),\n",
    "                'techniques': set(),\n",
    "            }\n",
    "            soup = BeautifulSoup(f.read(), 'html.parser')\n",
    "            dates = soup.select('section#reviews article.reviewer-info meta[itemprop=dateCreated]')\n",
    "            year = 0\n",
    "            if dates:\n",
    "                year = min(map(lambda x: x['content'].split('-')[0], dates))\n",
    "            if not year:\n",
    "                continue\n",
    "            ingreds = set()\n",
    "            elems = soup.select(\n",
    "                'section.recipe-ingredients li.checkList__line span[itemprop=ingredients]'\n",
    "            )\n",
    "            ingrs = list(map(lambda x: trim(x.text.lower()), elems))\n",
    "            for ingr in ingrs:\n",
    "                ngrms = my_ngrams(ingr)\n",
    "                ngrms.reverse()\n",
    "                for ngrm in ngrms:\n",
    "                    if ngrm in ingredients:\n",
    "                        ingreds.add(ngrm)\n",
    "                        all_ingredients_graph.node[ngrm]['count'] += 1\n",
    "                        break\n",
    "            if not ingreds:\n",
    "                continue\n",
    "            techns = set()\n",
    "            elems = soup.select(\n",
    "                'section.recipe-directions li.step span.recipe-directions__list--item'\n",
    "            )\n",
    "            steps = list(map(lambda x: trim(x.text.lower()), elems))\n",
    "            for step in steps:\n",
    "                used_ngrams = set()\n",
    "                ngrms = my_ngrams(step)\n",
    "                ngrms.reverse()\n",
    "                for ngrm in ngrms:\n",
    "                    if ngrm in techniques and all(map(lambda x: ngrm not in x, used_ngrams)):\n",
    "                        techns.add(ngrm)\n",
    "                        all_techniques_graph.node[ngrm]['count'] += 1\n",
    "                        used_ngrams.add(ngrm)\n",
    "            if not techns:\n",
    "                continue\n",
    "            recipe_info = soup.find('recipe-signup')\n",
    "            ide = recipe_info['data-id']\n",
    "            title = recipe_info['data-title']\n",
    "            row['_id'] = ide\n",
    "            row['title'] = title\n",
    "            row['year'] = year\n",
    "            row['ingredients'] = list(ingreds)\n",
    "            row['techniques'] = list(techns)\n",
    "            rows.append(row)\n",
    "\n",
    "            count += 1\n",
    "            if count % 100 == 0:\n",
    "                insert_documents(rows)\n",
    "                rows = []\n",
    "                print(count, 'rows inserted')\n",
    "insert_documents(rows)\n",
    "rows = []\n",
    "print(count, 'rows inserted')"
   ]
  },
  {
   "cell_type": "code",
   "execution_count": 46,
   "metadata": {
    "collapsed": true
   },
   "outputs": [],
   "source": [
    "ids=[]\n",
    "for r in db.allrecipes_raw.find():\n",
    "    ids.append(int(r['_id']))"
   ]
  },
  {
   "cell_type": "code",
   "execution_count": 47,
   "metadata": {
    "collapsed": false
   },
   "outputs": [
    {
     "data": {
      "text/plain": [
       "22381"
      ]
     },
     "execution_count": 47,
     "metadata": {},
     "output_type": "execute_result"
    }
   ],
   "source": [
    "len(ids)"
   ]
  },
  {
   "cell_type": "code",
   "execution_count": 48,
   "metadata": {
    "collapsed": false
   },
   "outputs": [],
   "source": [
    "ids.sort()"
   ]
  },
  {
   "cell_type": "code",
   "execution_count": 49,
   "metadata": {
    "collapsed": false
   },
   "outputs": [
    {
     "data": {
      "text/plain": [
       "[54968, 54969, 54970, 54975, 54976, 54981, 54982, 54989, 54990, 54994]"
      ]
     },
     "execution_count": 49,
     "metadata": {},
     "output_type": "execute_result"
    }
   ],
   "source": [
    "ids[-10:]"
   ]
  },
  {
   "cell_type": "code",
   "execution_count": 50,
   "metadata": {
    "collapsed": false
   },
   "outputs": [
    {
     "data": {
      "text/plain": [
       "[6663, 6664, 6665, 6666, 6667, 6668, 6669, 6670, 6671, 6672]"
      ]
     },
     "execution_count": 50,
     "metadata": {},
     "output_type": "execute_result"
    }
   ],
   "source": [
    "ids[0:10]"
   ]
  },
  {
   "cell_type": "code",
   "execution_count": 51,
   "metadata": {
    "collapsed": false
   },
   "outputs": [
    {
     "data": {
      "text/plain": [
       "'54000'"
      ]
     },
     "execution_count": 51,
     "metadata": {},
     "output_type": "execute_result"
    }
   ],
   "source": [
    "folder"
   ]
  },
  {
   "cell_type": "code",
   "execution_count": 26,
   "metadata": {
    "collapsed": false
   },
   "outputs": [
    {
     "data": {
      "text/plain": [
       "6762"
      ]
     },
     "execution_count": 26,
     "metadata": {},
     "output_type": "execute_result"
    }
   ],
   "source": [
    "db.allrecipes_raw.count()"
   ]
  },
  {
   "cell_type": "code",
   "execution_count": 44,
   "metadata": {
    "collapsed": false
   },
   "outputs": [
    {
     "name": "stdout",
     "output_type": "stream",
     "text": [
      "54720.html\n",
      "54721.html\n",
      "54722.html\n",
      "54723.html\n",
      "54724.html\n",
      "54725.html\n",
      "54726.html\n",
      "54727.html\n",
      "54728.html\n",
      "54729.html\n",
      "54730.html\n",
      "54731.html\n",
      "54732.html\n",
      "54733.html\n",
      "54734.html\n",
      "54735.html\n",
      "54736.html\n",
      "54737.html\n",
      "54738.html\n",
      "54739.html\n",
      "54740.html\n",
      "54741.html\n",
      "54742.html\n",
      "54743.html\n",
      "54744.html\n",
      "54745.html\n",
      "54746.html\n",
      "54747.html\n",
      "54748.html\n",
      "54749.html\n",
      "54750.html\n",
      "54751.html\n",
      "54752.html\n",
      "54753.html\n",
      "54754.html\n",
      "54755.html\n",
      "54756.html\n",
      "54757.html\n",
      "54758.html\n",
      "54759.html\n",
      "54760.html\n",
      "54761.html\n",
      "54762.html\n",
      "54763.html\n",
      "54764.html\n",
      "54765.html\n",
      "54766.html\n",
      "54767.html\n",
      "54768.html\n",
      "54769.html\n",
      "54770.html\n",
      "54771.html\n",
      "54772.html\n",
      "54773.html\n",
      "54774.html\n",
      "54775.html\n",
      "54776.html\n",
      "54777.html\n",
      "54778.html\n",
      "54779.html\n",
      "54780.html\n",
      "54781.html\n",
      "54782.html\n",
      "54783.html\n",
      "54784.html\n",
      "54785.html\n",
      "54786.html\n",
      "54787.html\n",
      "54788.html\n",
      "54789.html\n",
      "54790.html\n",
      "54791.html\n",
      "54792.html\n",
      "54793.html\n",
      "54794.html\n",
      "54795.html\n",
      "54796.html\n",
      "54797.html\n",
      "54798.html\n",
      "54799.html\n",
      "54800.html\n",
      "54801.html\n",
      "54802.html\n",
      "54803.html\n",
      "54804.html\n",
      "54805.html\n",
      "54806.html\n",
      "54807.html\n",
      "54808.html\n",
      "54809.html\n",
      "54810.html\n",
      "54811.html\n",
      "54812.html\n",
      "54813.html\n",
      "54814.html\n",
      "54815.html\n",
      "54816.html\n",
      "54817.html\n",
      "54818.html\n",
      "54819.html\n",
      "54820.html\n",
      "54821.html\n",
      "54822.html\n",
      "54823.html\n",
      "54824.html\n",
      "54825.html\n",
      "54826.html\n",
      "54827.html\n",
      "54828.html\n",
      "54829.html\n",
      "54830.html\n",
      "54831.html\n",
      "54832.html\n",
      "54833.html\n",
      "54834.html\n",
      "54835.html\n",
      "54836.html\n",
      "54837.html\n",
      "54838.html\n",
      "54839.html\n",
      "54840.html\n",
      "54841.html\n",
      "54842.html\n",
      "54843.html\n",
      "54844.html\n",
      "54845.html\n",
      "54846.html\n",
      "54847.html\n",
      "54848.html\n",
      "54849.html\n",
      "54850.html\n",
      "54851.html\n",
      "54852.html\n",
      "54853.html\n",
      "54854.html\n",
      "54855.html\n",
      "54856.html\n",
      "54857.html\n",
      "54858.html\n",
      "54859.html\n",
      "54860.html\n",
      "54861.html\n",
      "54862.html\n",
      "54863.html\n",
      "54864.html\n",
      "54865.html\n",
      "54866.html\n",
      "54867.html\n",
      "54868.html\n",
      "54869.html\n",
      "54870.html\n",
      "54871.html\n",
      "54872.html\n",
      "54873.html\n",
      "54874.html\n",
      "54875.html\n",
      "54876.html\n",
      "54877.html\n",
      "54878.html\n",
      "54879.html\n",
      "54880.html\n",
      "54881.html\n",
      "54882.html\n",
      "54883.html\n",
      "54884.html\n",
      "54885.html\n",
      "54886.html\n",
      "54887.html\n",
      "54888.html\n",
      "54889.html\n",
      "54890.html\n",
      "54891.html\n",
      "54892.html\n",
      "54893.html\n",
      "54894.html\n",
      "54895.html\n",
      "54896.html\n",
      "54897.html\n",
      "54898.html\n",
      "54899.html\n",
      "54900.html\n",
      "54901.html\n",
      "54902.html\n",
      "54903.html\n",
      "54904.html\n",
      "54905.html\n",
      "54906.html\n",
      "54907.html\n",
      "54908.html\n",
      "54909.html\n",
      "54910.html\n",
      "54911.html\n",
      "54912.html\n",
      "54913.html\n",
      "54914.html\n",
      "54915.html\n",
      "54916.html\n",
      "54917.html\n",
      "54918.html\n",
      "54919.html\n",
      "54920.html\n",
      "54921.html\n",
      "54922.html\n",
      "54923.html\n",
      "54924.html\n",
      "54925.html\n",
      "54926.html\n",
      "54927.html\n",
      "54928.html\n",
      "54929.html\n",
      "54930.html\n",
      "54932.html\n",
      "54933.html\n",
      "54934.html\n",
      "54935.html\n",
      "54936.html\n",
      "54937.html\n",
      "54938.html\n",
      "54939.html\n",
      "54940.html\n",
      "54941.html\n",
      "54942.html\n",
      "54943.html\n",
      "54944.html\n",
      "54945.html\n",
      "54946.html\n",
      "54947.html\n",
      "54948.html\n",
      "54949.html\n",
      "54950.html\n",
      "54951.html\n",
      "54952.html\n",
      "54953.html\n",
      "54954.html\n",
      "54955.html\n",
      "54956.html\n",
      "54957.html\n",
      "54958.html\n",
      "54959.html\n",
      "54960.html\n",
      "54961.html\n",
      "54962.html\n",
      "54963.html\n",
      "54964.html\n",
      "54965.html\n",
      "54966.html\n",
      "54967.html\n",
      "54968.html\n",
      "54969.html\n",
      "54970.html\n",
      "54971.html\n",
      "54972.html\n",
      "54973.html\n",
      "54974.html\n",
      "54975.html\n",
      "54976.html\n",
      "54977.html\n",
      "54978.html\n",
      "54979.html\n",
      "54980.html\n",
      "54981.html\n",
      "54982.html\n",
      "54983.html\n",
      "54984.html\n",
      "54985.html\n",
      "54986.html\n",
      "54987.html\n",
      "54988.html\n",
      "54989.html\n",
      "54990.html\n",
      "54991.html\n",
      "54992.html\n",
      "54993.html\n",
      "54994.html\n",
      "54995.html\n",
      "54996.html\n",
      "54997.html\n",
      "54998.html\n",
      "54999.html\n"
     ]
    }
   ],
   "source": [
    "for folder_number in sorted(map(int, os.listdir(path)))[54:55]:\n",
    "    folder = str(folder_number)\n",
    "    for filename_number in sorted(map(lambda x: int(x[:-5]), os.listdir(path + folder)))[700:]:\n",
    "        filename = str(filename_number) + '.html'\n",
    "        print(filename)"
   ]
  },
  {
   "cell_type": "code",
   "execution_count": 39,
   "metadata": {
    "collapsed": false
   },
   "outputs": [
    {
     "data": {
      "text/plain": [
       "'/media/antonio/WD1T/datasets-recipes/allrecipes/'"
      ]
     },
     "execution_count": 39,
     "metadata": {},
     "output_type": "execute_result"
    }
   ],
   "source": [
    "path"
   ]
  },
  {
   "cell_type": "code",
   "execution_count": 42,
   "metadata": {
    "collapsed": false
   },
   "outputs": [
    {
     "data": {
      "text/plain": [
       "[54000,\n",
       " 55000,\n",
       " 56000,\n",
       " 57000,\n",
       " 58000,\n",
       " 59000,\n",
       " 60000,\n",
       " 61000,\n",
       " 62000,\n",
       " 63000,\n",
       " 64000,\n",
       " 65000,\n",
       " 66000,\n",
       " 67000,\n",
       " 68000,\n",
       " 69000,\n",
       " 70000,\n",
       " 71000,\n",
       " 72000,\n",
       " 73000,\n",
       " 74000,\n",
       " 75000,\n",
       " 76000,\n",
       " 77000,\n",
       " 78000,\n",
       " 79000,\n",
       " 80000,\n",
       " 81000,\n",
       " 82000,\n",
       " 83000,\n",
       " 84000,\n",
       " 85000,\n",
       " 86000,\n",
       " 87000,\n",
       " 88000,\n",
       " 89000,\n",
       " 90000,\n",
       " 91000,\n",
       " 92000,\n",
       " 93000,\n",
       " 94000,\n",
       " 95000,\n",
       " 96000,\n",
       " 97000,\n",
       " 98000,\n",
       " 99000,\n",
       " 100000,\n",
       " 101000,\n",
       " 102000,\n",
       " 103000,\n",
       " 104000,\n",
       " 105000,\n",
       " 106000,\n",
       " 107000,\n",
       " 108000,\n",
       " 109000,\n",
       " 110000,\n",
       " 111000,\n",
       " 112000,\n",
       " 113000,\n",
       " 114000,\n",
       " 115000,\n",
       " 116000,\n",
       " 117000,\n",
       " 118000,\n",
       " 119000,\n",
       " 120000,\n",
       " 121000,\n",
       " 122000,\n",
       " 123000,\n",
       " 124000,\n",
       " 125000,\n",
       " 126000,\n",
       " 127000,\n",
       " 128000,\n",
       " 129000,\n",
       " 130000,\n",
       " 131000,\n",
       " 132000,\n",
       " 133000,\n",
       " 134000,\n",
       " 135000,\n",
       " 136000,\n",
       " 137000,\n",
       " 138000,\n",
       " 139000,\n",
       " 140000,\n",
       " 141000,\n",
       " 142000,\n",
       " 143000,\n",
       " 144000,\n",
       " 145000,\n",
       " 146000,\n",
       " 147000,\n",
       " 148000,\n",
       " 149000,\n",
       " 150000,\n",
       " 151000,\n",
       " 152000,\n",
       " 153000,\n",
       " 154000,\n",
       " 155000,\n",
       " 156000,\n",
       " 157000,\n",
       " 158000,\n",
       " 159000,\n",
       " 160000,\n",
       " 161000,\n",
       " 162000,\n",
       " 163000,\n",
       " 164000,\n",
       " 165000,\n",
       " 166000,\n",
       " 167000,\n",
       " 168000,\n",
       " 169000,\n",
       " 170000,\n",
       " 171000,\n",
       " 172000,\n",
       " 173000,\n",
       " 174000,\n",
       " 175000,\n",
       " 176000,\n",
       " 177000,\n",
       " 178000,\n",
       " 179000,\n",
       " 180000,\n",
       " 181000,\n",
       " 182000,\n",
       " 183000,\n",
       " 184000,\n",
       " 185000,\n",
       " 186000,\n",
       " 187000,\n",
       " 188000,\n",
       " 189000,\n",
       " 190000,\n",
       " 191000,\n",
       " 192000,\n",
       " 193000,\n",
       " 194000,\n",
       " 195000,\n",
       " 196000,\n",
       " 197000,\n",
       " 198000,\n",
       " 199000,\n",
       " 200000,\n",
       " 201000,\n",
       " 202000,\n",
       " 203000,\n",
       " 204000,\n",
       " 205000,\n",
       " 206000,\n",
       " 207000,\n",
       " 208000,\n",
       " 209000,\n",
       " 210000,\n",
       " 211000,\n",
       " 212000,\n",
       " 213000,\n",
       " 214000,\n",
       " 215000,\n",
       " 216000,\n",
       " 217000,\n",
       " 218000,\n",
       " 219000,\n",
       " 220000,\n",
       " 221000,\n",
       " 222000,\n",
       " 223000,\n",
       " 224000,\n",
       " 225000,\n",
       " 226000,\n",
       " 227000,\n",
       " 228000,\n",
       " 229000,\n",
       " 230000,\n",
       " 231000,\n",
       " 232000,\n",
       " 233000,\n",
       " 234000,\n",
       " 235000,\n",
       " 236000,\n",
       " 237000,\n",
       " 238000,\n",
       " 239000,\n",
       " 240000,\n",
       " 241000,\n",
       " 242000,\n",
       " 243000,\n",
       " 244000,\n",
       " 245000,\n",
       " 246000,\n",
       " 247000,\n",
       " 248000,\n",
       " 249000,\n",
       " 250000,\n",
       " 251000,\n",
       " 252000,\n",
       " 253000,\n",
       " 254000,\n",
       " 255000,\n",
       " 256000,\n",
       " 257000,\n",
       " 258000,\n",
       " 259000,\n",
       " 260000,\n",
       " 261000,\n",
       " 262000,\n",
       " 263000,\n",
       " 264000,\n",
       " 265000,\n",
       " 266000,\n",
       " 267000,\n",
       " 268000,\n",
       " 269000,\n",
       " 270000,\n",
       " 271000,\n",
       " 272000,\n",
       " 273000,\n",
       " 274000,\n",
       " 275000,\n",
       " 276000,\n",
       " 277000,\n",
       " 278000,\n",
       " 279000,\n",
       " 280000,\n",
       " 281000,\n",
       " 282000,\n",
       " 283000,\n",
       " 284000,\n",
       " 285000,\n",
       " 286000,\n",
       " 287000,\n",
       " 288000,\n",
       " 289000,\n",
       " 290000,\n",
       " 291000,\n",
       " 292000,\n",
       " 293000,\n",
       " 294000,\n",
       " 295000,\n",
       " 296000,\n",
       " 297000,\n",
       " 298000,\n",
       " 299000]"
      ]
     },
     "execution_count": 42,
     "metadata": {},
     "output_type": "execute_result"
    }
   ],
   "source": [
    "sorted(map(int, os.listdir(path)))[54:]"
   ]
  },
  {
   "cell_type": "code",
   "execution_count": null,
   "metadata": {
    "collapsed": true
   },
   "outputs": [],
   "source": []
  }
 ],
 "metadata": {
  "kernelspec": {
   "display_name": "Python 3",
   "language": "python",
   "name": "python3"
  },
  "language_info": {
   "codemirror_mode": {
    "name": "ipython",
    "version": 3
   },
   "file_extension": ".py",
   "mimetype": "text/x-python",
   "name": "python",
   "nbconvert_exporter": "python",
   "pygments_lexer": "ipython3",
   "version": "3.4.3"
  }
 },
 "nbformat": 4,
 "nbformat_minor": 0
}
