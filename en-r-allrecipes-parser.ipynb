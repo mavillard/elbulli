{
 "cells": [
  {
   "cell_type": "code",
   "execution_count": 28,
   "metadata": {
    "collapsed": true
   },
   "outputs": [],
   "source": [
    "import os\n",
    "import pickle\n",
    "from collections import Counter\n",
    "from collections import defaultdict\n",
    "\n",
    "import networkx as nx\n",
    "import nltk\n",
    "from bs4 import BeautifulSoup\n",
    "from nltk.corpus import stopwords\n",
    "from nltk.util import ngrams\n",
    "from pymongo import MongoClient\n",
    "from pymongo.errors import BulkWriteError"
   ]
  },
  {
   "cell_type": "code",
   "execution_count": 2,
   "metadata": {
    "collapsed": false
   },
   "outputs": [],
   "source": [
    "client = MongoClient()\n",
    "db = client.recipes"
   ]
  },
  {
   "cell_type": "markdown",
   "metadata": {},
   "source": [
    "# Parser"
   ]
  },
  {
   "cell_type": "code",
   "execution_count": 3,
   "metadata": {
    "collapsed": false
   },
   "outputs": [],
   "source": [
    "english_stopwords = set(stopwords.words('english'))"
   ]
  },
  {
   "cell_type": "code",
   "execution_count": 4,
   "metadata": {
    "collapsed": true
   },
   "outputs": [],
   "source": [
    "all_ingredients_graph = nx.read_gexf('data/english_ingredients_lexicon_5.gexf')"
   ]
  },
  {
   "cell_type": "code",
   "execution_count": 5,
   "metadata": {
    "collapsed": true
   },
   "outputs": [],
   "source": [
    "ingredients = all_ingredients_graph.nodes()\n",
    "ingredients = [i for i in ingredients if i not in english_stopwords]"
   ]
  },
  {
   "cell_type": "code",
   "execution_count": 6,
   "metadata": {
    "collapsed": false
   },
   "outputs": [
    {
     "data": {
      "text/plain": [
       "['chantilly creams of wheat berries',\n",
       " 'sour chantilly creams',\n",
       " 'snake beans',\n",
       " 'oxheart tomatoes chutneys',\n",
       " 'orange roughies',\n",
       " 'crabs apple',\n",
       " 'amla',\n",
       " 'wheats berriess beers',\n",
       " 'lemon myrtle',\n",
       " 'fresnoes pepper']"
      ]
     },
     "execution_count": 6,
     "metadata": {},
     "output_type": "execute_result"
    }
   ],
   "source": [
    "ingredients[:10]"
   ]
  },
  {
   "cell_type": "code",
   "execution_count": 7,
   "metadata": {
    "collapsed": false
   },
   "outputs": [],
   "source": [
    "all_techniques_graph = nx.read_gexf('data/english_techniques_lexicon_5.gexf')"
   ]
  },
  {
   "cell_type": "code",
   "execution_count": 8,
   "metadata": {
    "collapsed": true
   },
   "outputs": [],
   "source": [
    "techniques = all_techniques_graph.nodes()\n",
    "techniques = [t for t in techniques if t not in english_stopwords]"
   ]
  },
  {
   "cell_type": "code",
   "execution_count": 9,
   "metadata": {
    "collapsed": false
   },
   "outputs": [
    {
     "data": {
      "text/plain": [
       "['airing cooking frying',\n",
       " 'engine cook',\n",
       " 'drying blind baked',\n",
       " 'tataki',\n",
       " 'prepared',\n",
       " 'anti griddle',\n",
       " 'extracted',\n",
       " 'vacuum flask browning',\n",
       " 'al dente',\n",
       " 'food drying blind baking']"
      ]
     },
     "execution_count": 9,
     "metadata": {},
     "output_type": "execute_result"
    }
   ],
   "source": [
    "techniques[:10]"
   ]
  },
  {
   "cell_type": "code",
   "execution_count": 10,
   "metadata": {
    "collapsed": true
   },
   "outputs": [],
   "source": [
    "def trim(s):\n",
    "    return ' '.join(s.split())"
   ]
  },
  {
   "cell_type": "code",
   "execution_count": 11,
   "metadata": {
    "collapsed": true
   },
   "outputs": [],
   "source": [
    "def my_ngrams(technique):\n",
    "    ngrms = []\n",
    "    tokens = nltk.word_tokenize(technique)\n",
    "    for i in range(1, len(tokens) + 1):\n",
    "        ngrms.extend(ngrams(tokens, i))\n",
    "    return list(map(lambda x: ' '.join(x), ngrms))"
   ]
  },
  {
   "cell_type": "code",
   "execution_count": null,
   "metadata": {
    "collapsed": false
   },
   "outputs": [
    {
     "name": "stdout",
     "output_type": "stream",
     "text": [
      "100 rows inserted\n",
      "200 rows inserted\n",
      "300 rows inserted\n",
      "400 rows inserted\n",
      "500 rows inserted\n",
      "600 rows inserted\n",
      "700 rows inserted\n",
      "800 rows inserted\n",
      "900 rows inserted\n",
      "1000 rows inserted\n",
      "1100 rows inserted\n",
      "1200 rows inserted\n",
      "1300 rows inserted\n",
      "1400 rows inserted\n",
      "1500 rows inserted\n",
      "1600 rows inserted\n",
      "1700 rows inserted\n",
      "1800 rows inserted\n",
      "1900 rows inserted\n",
      "2000 rows inserted\n",
      "2100 rows inserted\n",
      "2200 rows inserted\n",
      "2300 rows inserted\n",
      "2400 rows inserted\n",
      "2500 rows inserted\n",
      "2600 rows inserted\n",
      "2700 rows inserted\n",
      "2800 rows inserted\n",
      "2900 rows inserted\n",
      "3000 rows inserted\n",
      "3100 rows inserted\n",
      "3200 rows inserted\n",
      "3300 rows inserted\n",
      "3400 rows inserted\n",
      "3500 rows inserted\n",
      "3600 rows inserted\n",
      "3700 rows inserted\n",
      "3800 rows inserted\n",
      "3900 rows inserted\n",
      "4000 rows inserted\n",
      "4100 rows inserted\n",
      "4200 rows inserted\n",
      "4300 rows inserted\n",
      "4400 rows inserted\n",
      "4500 rows inserted\n",
      "4600 rows inserted\n",
      "4700 rows inserted\n",
      "4800 rows inserted\n",
      "4900 rows inserted\n",
      "5000 rows inserted\n",
      "5100 rows inserted\n",
      "5200 rows inserted\n",
      "5300 rows inserted\n",
      "5400 rows inserted\n",
      "5500 rows inserted\n",
      "5600 rows inserted\n",
      "5700 rows inserted\n",
      "5800 rows inserted\n",
      "5900 rows inserted\n",
      "6000 rows inserted\n",
      "6100 rows inserted\n",
      "6200 rows inserted\n",
      "6300 rows inserted\n",
      "6400 rows inserted\n",
      "6500 rows inserted\n",
      "6600 rows inserted\n",
      "6700 rows inserted\n",
      "6800 rows inserted\n",
      "6900 rows inserted\n",
      "7000 rows inserted\n",
      "7100 rows inserted\n",
      "7200 rows inserted\n",
      "7300 rows inserted\n",
      "7400 rows inserted\n",
      "7500 rows inserted\n",
      "7600 rows inserted\n",
      "7700 rows inserted\n",
      "7800 rows inserted\n",
      "7900 rows inserted\n",
      "8000 rows inserted\n",
      "8100 rows inserted\n",
      "8200 rows inserted\n",
      "8300 rows inserted\n",
      "8400 rows inserted\n",
      "8500 rows inserted\n",
      "8600 rows inserted\n",
      "8700 rows inserted\n",
      "8800 rows inserted\n",
      "8900 rows inserted\n",
      "9000 rows inserted\n",
      "9100 rows inserted\n",
      "9200 rows inserted\n",
      "9300 rows inserted\n",
      "9400 rows inserted\n",
      "9500 rows inserted\n",
      "9600 rows inserted\n",
      "9700 rows inserted\n",
      "9800 rows inserted\n",
      "9900 rows inserted\n",
      "10000 rows inserted\n",
      "10100 rows inserted\n",
      "10200 rows inserted\n",
      "10300 rows inserted\n",
      "10400 rows inserted\n",
      "10500 rows inserted\n",
      "10600 rows inserted\n",
      "10700 rows inserted\n",
      "10800 rows inserted\n",
      "10900 rows inserted\n",
      "11000 rows inserted\n",
      "11100 rows inserted\n",
      "11200 rows inserted\n",
      "11300 rows inserted\n",
      "11400 rows inserted\n",
      "11500 rows inserted\n",
      "11600 rows inserted\n",
      "11700 rows inserted\n",
      "11800 rows inserted\n",
      "11900 rows inserted\n",
      "12000 rows inserted\n",
      "12100 rows inserted\n",
      "12200 rows inserted\n",
      "12300 rows inserted\n",
      "12400 rows inserted\n",
      "12500 rows inserted\n",
      "12600 rows inserted\n",
      "12700 rows inserted\n",
      "12800 rows inserted\n",
      "12900 rows inserted\n",
      "13000 rows inserted\n",
      "13100 rows inserted\n",
      "13200 rows inserted\n",
      "13300 rows inserted\n",
      "13400 rows inserted\n",
      "13500 rows inserted\n",
      "13600 rows inserted\n",
      "13700 rows inserted\n",
      "13800 rows inserted\n",
      "13900 rows inserted\n",
      "14000 rows inserted\n",
      "14100"
     ]
    }
   ],
   "source": [
    "%%time\n",
    "\n",
    "def insert_documents(docs):\n",
    "    try:\n",
    "        db.allrecipes_raw.insert_many(docs, ordered=False)\n",
    "    except BulkWriteError as e:\n",
    "        pass\n",
    "\n",
    "# db.allrecipes_raw.drop()\n",
    "\n",
    "count = 0\n",
    "rows = []\n",
    "\n",
    "# path = 'data/recipes/allrecipes/'\n",
    "path = '/media/antonio/WD1T/datasets-recipes/allrecipes/'\n",
    "for folder_number in sorted(map(int, os.listdir(path))):\n",
    "    folder = str(folder_number)\n",
    "    for filename_number in sorted(map(lambda x: int(x[:-5]), os.listdir(path + folder))):\n",
    "        filename = str(filename_number) + '.html'\n",
    "        with open(path + folder + '/' + filename) as f:\n",
    "            row = {\n",
    "                '_id': '',\n",
    "                'title': '',\n",
    "                'year': 0,\n",
    "                'ingredients': set(),\n",
    "                'techniques': set(),\n",
    "            }\n",
    "            soup = BeautifulSoup(f.read(), 'html.parser')\n",
    "            dates = soup.select('section#reviews article.reviewer-info meta[itemprop=dateCreated]')\n",
    "            year = 0\n",
    "            if dates:\n",
    "                year = min(map(lambda x: x['content'].split('-')[0], dates))\n",
    "            if not year:\n",
    "                continue\n",
    "            ingreds = set()\n",
    "            elems = soup.select(\n",
    "                'section.recipe-ingredients li.checkList__line span[itemprop=ingredients]'\n",
    "            )\n",
    "            ingrs = list(map(lambda x: trim(x.text.lower()), elems))\n",
    "            for ingr in ingrs:\n",
    "                ngrms = my_ngrams(ingr)\n",
    "                ngrms.reverse()\n",
    "                for ngrm in ngrms:\n",
    "                    if ngrm in ingredients:\n",
    "                        ingreds.add(ngrm)\n",
    "                        all_ingredients_graph.node[ngrm]['count'] += 1\n",
    "                        break\n",
    "            if not ingreds:\n",
    "                continue\n",
    "            techns = set()\n",
    "            elems = soup.select(\n",
    "                'section.recipe-directions li.step span.recipe-directions__list--item'\n",
    "            )\n",
    "            steps = list(map(lambda x: trim(x.text.lower()), elems))\n",
    "            for step in steps:\n",
    "                used_ngrams = set()\n",
    "                ngrms = my_ngrams(step)\n",
    "                ngrms.reverse()\n",
    "                for ngrm in ngrms:\n",
    "                    if ngrm in techniques and all(map(lambda x: ngrm not in x, used_ngrams)):\n",
    "                        techns.add(ngrm)\n",
    "                        all_techniques_graph.node[ngrm]['count'] += 1\n",
    "                        used_ngrams.add(ngrm)\n",
    "            if not techns:\n",
    "                continue\n",
    "            recipe_info = soup.find('recipe-signup')\n",
    "            ide = recipe_info['data-id']\n",
    "            title = recipe_info['data-title']\n",
    "            row['_id'] = ide\n",
    "            row['title'] = title\n",
    "            row['year'] = year\n",
    "            row['ingredients'] = list(ingreds)\n",
    "            row['techniques'] = list(techns)\n",
    "            rows.append(row)\n",
    "\n",
    "            count += 1\n",
    "            if count % 100 == 0:\n",
    "                insert_documents(rows)\n",
    "                rows = []\n",
    "                print(count, 'rows inserted')\n",
    "insert_documents(rows)\n",
    "rows = []\n",
    "print(count, 'rows inserted')"
   ]
  },
  {
   "cell_type": "code",
   "execution_count": 13,
   "metadata": {
    "collapsed": true
   },
   "outputs": [],
   "source": [
    "ids=[]\n",
    "for r in db.allrecipes_raw.find():\n",
    "    ids.append(int(r['_id']))"
   ]
  },
  {
   "cell_type": "code",
   "execution_count": 14,
   "metadata": {
    "collapsed": false
   },
   "outputs": [
    {
     "data": {
      "text/plain": [
       "6762"
      ]
     },
     "execution_count": 14,
     "metadata": {},
     "output_type": "execute_result"
    }
   ],
   "source": [
    "len(ids)"
   ]
  },
  {
   "cell_type": "code",
   "execution_count": 17,
   "metadata": {
    "collapsed": false
   },
   "outputs": [],
   "source": [
    "ids.sort()"
   ]
  },
  {
   "cell_type": "code",
   "execution_count": 18,
   "metadata": {
    "collapsed": false
   },
   "outputs": [
    {
     "data": {
      "text/plain": [
       "[13551, 13552, 13553, 13554, 13555, 13556, 13557, 13558, 13559, 13560]"
      ]
     },
     "execution_count": 18,
     "metadata": {},
     "output_type": "execute_result"
    }
   ],
   "source": [
    "ids[-10:]"
   ]
  },
  {
   "cell_type": "code",
   "execution_count": 19,
   "metadata": {
    "collapsed": false
   },
   "outputs": [
    {
     "data": {
      "text/plain": [
       "[6663, 6664, 6665, 6666, 6667, 6668, 6669, 6670, 6671, 6672]"
      ]
     },
     "execution_count": 19,
     "metadata": {},
     "output_type": "execute_result"
    }
   ],
   "source": [
    "ids[0:10]"
   ]
  },
  {
   "cell_type": "code",
   "execution_count": 27,
   "metadata": {
    "collapsed": false
   },
   "outputs": [
    {
     "data": {
      "text/plain": [
       "'13000'"
      ]
     },
     "execution_count": 27,
     "metadata": {},
     "output_type": "execute_result"
    }
   ],
   "source": [
    "folder"
   ]
  },
  {
   "cell_type": "code",
   "execution_count": 26,
   "metadata": {
    "collapsed": false
   },
   "outputs": [
    {
     "data": {
      "text/plain": [
       "6762"
      ]
     },
     "execution_count": 26,
     "metadata": {},
     "output_type": "execute_result"
    }
   ],
   "source": [
    "db.allrecipes_raw.count()"
   ]
  },
  {
   "cell_type": "code",
   "execution_count": null,
   "metadata": {
    "collapsed": true
   },
   "outputs": [],
   "source": []
  }
 ],
 "metadata": {
  "kernelspec": {
   "display_name": "Python 3",
   "language": "python",
   "name": "python3"
  },
  "language_info": {
   "codemirror_mode": {
    "name": "ipython",
    "version": 3
   },
   "file_extension": ".py",
   "mimetype": "text/x-python",
   "name": "python",
   "nbconvert_exporter": "python",
   "pygments_lexer": "ipython3",
   "version": "3.4.3"
  }
 },
 "nbformat": 4,
 "nbformat_minor": 0
}
