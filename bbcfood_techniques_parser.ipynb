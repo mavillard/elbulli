{
 "cells": [
  {
   "cell_type": "code",
   "execution_count": 6,
   "metadata": {
    "collapsed": false
   },
   "outputs": [],
   "source": [
    "from bs4 import BeautifulSoup"
   ]
  },
  {
   "cell_type": "code",
   "execution_count": 7,
   "metadata": {
    "collapsed": true
   },
   "outputs": [],
   "source": [
    "def trim(s):\n",
    "    return ' '.join(s.split())"
   ]
  },
  {
   "cell_type": "code",
   "execution_count": 8,
   "metadata": {
    "collapsed": true
   },
   "outputs": [],
   "source": [
    "def clean(l):\n",
    "    r = []\n",
    "    for e in l:\n",
    "        x = e.strip().lower().replace('_', ' ')\n",
    "        x = infinitive(x)\n",
    "        r.append(x)\n",
    "    return r"
   ]
  },
  {
   "cell_type": "code",
   "execution_count": 9,
   "metadata": {
    "collapsed": false
   },
   "outputs": [],
   "source": [
    "techniques = set()\n",
    "\n",
    "with open('data/techniques/bbcfood_techniques.html') as f:\n",
    "    soup = BeautifulSoup(f.read(), 'html.parser')\n",
    "    elems = ['Chopping', 'De-seeding', 'Grating', 'roast', 'chop', 'dicing', 'slicing', 'chiffonade', 'shredding', 'julienne', 'Preparing', 'Segmenting', 'Skinning', 'Skinning', 'Toasting', 'skinning', 'Zesting', 'Browning', 'De-boning', 'butterflying', 'boil', 'bone', 'bone', 'brown', 'carve', 'carve', 'deglaze', 'fry', 'joint', 'joint', 'poach', 'portion', 'roast', 'separate', 'tie', 'Scoring', 'Searing', 'Spatchcocking', 'Whisking', 'Butterflying', 'de-bearding', 'fillet', 'fillet', 'skin', 'fillet', 'Peeling', 'Scaling', 'gutting', 'Rolling', 'Breaking', 'Caramelising', 'Chaffing', 'Covering', 'Crimping', 'Decorating', 'Folding', 'Glazing', 'Greasing', 'lining', 'assemble', 'blind bake', 'cover', 'cream', 'fold', 'ice', 'ice', 'ice', 'ice', 'knead', 'line', 'line', 'marzipan', 'pipe', 'pipe', 'shape', 'fill', 'shape', 'shape', 'shape', 'soften', 'temper', 'Icing', 'Kneading', 'Knocking', 'Lining', 'Lining', 'Lining', 'trimming', 'Melting', 'Rolling', 'Rubbing', 'Shaping', 'Steaming', 'pulse', 'Whipping', 'Wrapping', 'De-glazing', 'Freeze', 'Skimming', 'Thickening', 'knead', 'Lining', 'baking blind']\n",
    "    techs = map(lambda x: trim(x), elems)\n",
    "    clean_techs = clean(techs)\n",
    "    techniques = techniques.union(clean_techs)\n",
    "\n",
    "with open('data/techniques/bbcfood_techniques.txt', 'w') as f:\n",
    "    f.write('\\n'.join(sorted(techniques)))"
   ]
  },
  {
   "cell_type": "code",
   "execution_count": 10,
   "metadata": {
    "collapsed": false
   },
   "outputs": [
    {
     "data": {
      "text/plain": [
       "71"
      ]
     },
     "execution_count": 10,
     "metadata": {},
     "output_type": "execute_result"
    }
   ],
   "source": [
    "len(techniques)"
   ]
  },
  {
   "cell_type": "code",
   "execution_count": null,
   "metadata": {
    "collapsed": true
   },
   "outputs": [],
   "source": []
  }
 ],
 "metadata": {
  "kernelspec": {
   "display_name": "Python 3",
   "language": "python",
   "name": "python3"
  },
  "language_info": {
   "codemirror_mode": {
    "name": "ipython",
    "version": 3
   },
   "file_extension": ".py",
   "mimetype": "text/x-python",
   "name": "python",
   "nbconvert_exporter": "python",
   "pygments_lexer": "ipython3",
   "version": "3.4.3"
  }
 },
 "nbformat": 4,
 "nbformat_minor": 0
}
