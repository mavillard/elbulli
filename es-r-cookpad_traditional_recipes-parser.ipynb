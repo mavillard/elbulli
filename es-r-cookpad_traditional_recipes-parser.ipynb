{
 "cells": [
  {
   "cell_type": "code",
   "execution_count": 1,
   "metadata": {
    "collapsed": true
   },
   "outputs": [],
   "source": [
    "import os\n",
    "import pickle\n",
    "from collections import Counter\n",
    "from collections import defaultdict\n",
    "\n",
    "import networkx as nx\n",
    "import nltk\n",
    "from bs4 import BeautifulSoup\n",
    "from nltk.util import ngrams\n",
    "from pymongo import MongoClient"
   ]
  },
  {
   "cell_type": "code",
   "execution_count": 2,
   "metadata": {
    "collapsed": false
   },
   "outputs": [],
   "source": [
    "client = MongoClient()\n",
    "db = client.recipes"
   ]
  },
  {
   "cell_type": "markdown",
   "metadata": {},
   "source": [
    "# Parser"
   ]
  },
  {
   "cell_type": "code",
   "execution_count": 3,
   "metadata": {
    "collapsed": true
   },
   "outputs": [],
   "source": [
    "spanish_stopwords = set()\n",
    "with open('data/spanish_stopwords.txt') as f:\n",
    "    for line in f:\n",
    "        word = line.strip()\n",
    "        spanish_stopwords.add(word)"
   ]
  },
  {
   "cell_type": "code",
   "execution_count": 4,
   "metadata": {
    "collapsed": false
   },
   "outputs": [],
   "source": [
    "all_ingredients_graph = nx.read_gexf('data/spanish_ingredients_lexicon_5.gexf')"
   ]
  },
  {
   "cell_type": "code",
   "execution_count": 5,
   "metadata": {
    "collapsed": false
   },
   "outputs": [],
   "source": [
    "ingredients = all_ingredients_graph.nodes()\n",
    "ingredients = [i for i in ingredients if i not in spanish_stopwords]"
   ]
  },
  {
   "cell_type": "code",
   "execution_count": 6,
   "metadata": {
    "collapsed": false
   },
   "outputs": [
    {
     "data": {
      "text/plain": [
       "['mantequilla extra sequias',\n",
       " 'piñones frito',\n",
       " 'puré papa',\n",
       " 'cereal de sésamo arabiga',\n",
       " 'sorbete cocos',\n",
       " 'castanas jarabes',\n",
       " 'queso bries',\n",
       " 'ajonjolies negro tostado',\n",
       " 'cerdo espín mar',\n",
       " 'ajonjolí tostado']"
      ]
     },
     "execution_count": 6,
     "metadata": {},
     "output_type": "execute_result"
    }
   ],
   "source": [
    "ingredients[:10]"
   ]
  },
  {
   "cell_type": "code",
   "execution_count": 7,
   "metadata": {
    "collapsed": true
   },
   "outputs": [],
   "source": [
    "all_techniques_graph = nx.read_gexf('data/spanish_techniques_lexicon_5.gexf')"
   ]
  },
  {
   "cell_type": "code",
   "execution_count": 8,
   "metadata": {
    "collapsed": true
   },
   "outputs": [],
   "source": [
    "techniques = all_techniques_graph.nodes()\n",
    "techniques = [t for t in techniques if t not in spanish_stopwords]"
   ]
  },
  {
   "cell_type": "code",
   "execution_count": 9,
   "metadata": {
    "collapsed": false
   },
   "outputs": [
    {
     "data": {
      "text/plain": [
       "['rótir a presionando',\n",
       " 'barbacoa presionar',\n",
       " 'licue',\n",
       " 'horno presionar',\n",
       " 'diamantamos',\n",
       " 'sofreímos a presione',\n",
       " 'guisando rojeando',\n",
       " 'secado',\n",
       " 'sofríe a presion',\n",
       " 'cueza en caldee blanco']"
      ]
     },
     "execution_count": 9,
     "metadata": {},
     "output_type": "execute_result"
    }
   ],
   "source": [
    "techniques[:10]"
   ]
  },
  {
   "cell_type": "code",
   "execution_count": 10,
   "metadata": {
    "collapsed": true
   },
   "outputs": [],
   "source": [
    "def trim(s):\n",
    "    return ' '.join(s.split())"
   ]
  },
  {
   "cell_type": "code",
   "execution_count": 11,
   "metadata": {
    "collapsed": true
   },
   "outputs": [],
   "source": [
    "def my_ngrams(s):\n",
    "    ngrms = []\n",
    "    tokens = nltk.word_tokenize(s)\n",
    "    for i in range(1, len(tokens) + 1):\n",
    "        ngrms.extend(ngrams(tokens, i))\n",
    "    return list(map(lambda x: ' '.join(x), ngrms))"
   ]
  },
  {
   "cell_type": "code",
   "execution_count": 12,
   "metadata": {
    "collapsed": false,
    "scrolled": false
   },
   "outputs": [],
   "source": [
    "# %%time\n",
    "\n",
    "# db.cookpad_raw.drop()\n",
    "\n",
    "# count = 0\n",
    "# rows = []\n",
    "\n",
    "# for filename in os.listdir('/media/antonio/WD1T/datasets-recipes/cookpad/'):\n",
    "#     with open('/media/antonio/WD1T/datasets-recipes/cookpad/' + filename) as f:\n",
    "#         row = {\n",
    "#             '_id': '',\n",
    "#             'title': '',\n",
    "#             'cuisine': '',\n",
    "#             'year': 0,\n",
    "#             'ingredients': set(),\n",
    "#             'techniques': set(),\n",
    "#         }\n",
    "#         ide = filename.split('traditional_recipe_')[1].split('.')[0]\n",
    "#         soup = BeautifulSoup(f.read(), 'html.parser')\n",
    "#         cuisine = trim(soup.select(\n",
    "#             'div#main_contents div.recipe-show div#editor section.intro div[data-field-group] div.metadata__field \\\n",
    "#              span[data-field-name=\"cuisine\"]')[0].text.lower()\n",
    "#         )\n",
    "#         if 'españa' not in cuisine:\n",
    "#             continue\n",
    "#         ingreds = set()\n",
    "#         elems = soup.select(\n",
    "#             'div#main_contents section#ingredients div.ingredient-list ol li.ingredient span.ingredient__attribute--name'\n",
    "#         )\n",
    "#         ingrs = list(map(lambda x: trim(x.text.lower()), elems))\n",
    "#         for ingr in ingrs:\n",
    "#             ngrms = my_ngrams(ingr)\n",
    "#             ngrms.reverse()\n",
    "#             for ngrm in ngrms:\n",
    "#                 if ngrm in ingredients:\n",
    "#                     ingreds.add(ngrm)\n",
    "#                     all_ingredients_graph.node[ngrm]['count'] += 1\n",
    "#                     break\n",
    "#         if not ingreds:\n",
    "#             continue\n",
    "#         techns = set()\n",
    "#         elems = soup.select(\n",
    "#             'div#main_contents section#steps ol li.step div.step__description \\\n",
    "#              div[itemprop=\"recipeInstructions\"] p.step__text'\n",
    "#         )\n",
    "#         steps = list(map(lambda x: trim(x.text.lower()), elems))\n",
    "#         for step in steps:\n",
    "#             used_ngrams = set()\n",
    "#             ngrms = my_ngrams(step)\n",
    "#             ngrms.reverse()\n",
    "#             for ngrm in ngrms:\n",
    "#                 if ngrm in techniques and all(map(lambda x: ngrm not in x, used_ngrams)):\n",
    "#                     techns.add(ngrm)\n",
    "#                     all_techniques_graph.node[ngrm]['count'] += 1\n",
    "#                     used_ngrams.add(ngrm)\n",
    "#         if not techns:\n",
    "#             continue\n",
    "#         time = soup.select('time[itemprop=\"datePublished\"]')[0]['datetime']\n",
    "#         year = time.split('-')[0]\n",
    "#         title = trim(soup.select(\n",
    "#             'div#main_contents div.recipe-show div#editor section.intro h1.recipe-title')[0].text.lower()\n",
    "#         )\n",
    "#         row['_id'] = ide\n",
    "#         row['title'] = title\n",
    "#         row['cuisine'] = cuisine\n",
    "#         row['year'] = year\n",
    "#         row['ingredients'] = list(ingreds)\n",
    "#         row['techniques'] = list(techns)\n",
    "#         rows.append(row)\n",
    "\n",
    "#         count += 1\n",
    "#         if count % 100 == 0:\n",
    "#             db.cookpad_raw.insert_many(rows)\n",
    "#             rows = []\n",
    "#             print(count, 'rows inserted')\n",
    "# db.cookpad_raw.insert_many(rows)\n",
    "# rows = []\n",
    "# print(count, 'rows inserted')\n",
    "\n",
    "# CPU times: user 1h 4min 21s, sys: 1.68 s, total: 1h 4min 22s\n",
    "# Wall time: 1h 4min 21s"
   ]
  },
  {
   "cell_type": "code",
   "execution_count": 13,
   "metadata": {
    "collapsed": false
   },
   "outputs": [
    {
     "data": {
      "text/plain": [
       "7975"
      ]
     },
     "execution_count": 13,
     "metadata": {},
     "output_type": "execute_result"
    }
   ],
   "source": [
    "db.cookpad_raw.count()"
   ]
  },
  {
   "cell_type": "code",
   "execution_count": 14,
   "metadata": {
    "collapsed": true
   },
   "outputs": [],
   "source": [
    "# nx.write_gexf(all_ingredients_graph, 'data/cookpad_ingredients_lexicon_1.gexf')"
   ]
  },
  {
   "cell_type": "code",
   "execution_count": 15,
   "metadata": {
    "collapsed": true
   },
   "outputs": [],
   "source": [
    "# nx.write_gexf(all_techniques_graph, 'data/cookpad_techniques_lexicon_1.gexf')"
   ]
  },
  {
   "cell_type": "code",
   "execution_count": 16,
   "metadata": {
    "collapsed": true
   },
   "outputs": [],
   "source": [
    "ingredients_graph = nx.read_gexf('data/cookpad_ingredients_lexicon_1.gexf')"
   ]
  },
  {
   "cell_type": "code",
   "execution_count": 17,
   "metadata": {
    "collapsed": true
   },
   "outputs": [],
   "source": [
    "techniques_graph = nx.read_gexf('data/cookpad_techniques_lexicon_1.gexf')"
   ]
  },
  {
   "cell_type": "markdown",
   "metadata": {},
   "source": [
    "# Only ingredients and techniques found in Cookpad's recipes"
   ]
  },
  {
   "cell_type": "code",
   "execution_count": 18,
   "metadata": {
    "collapsed": true
   },
   "outputs": [],
   "source": [
    "def add_edge(g, n1, n2):\n",
    "    if n1 != n2 and not nx.has_path(g, n1, n2):\n",
    "        g.add_edge(n1, n2)"
   ]
  },
  {
   "cell_type": "code",
   "execution_count": 19,
   "metadata": {
    "collapsed": true
   },
   "outputs": [],
   "source": [
    "def del_node_and_link_neighbors(g, n):\n",
    "    neighbors = g.neighbors(n)\n",
    "    g.remove_node(n)\n",
    "    if len(neighbors) > 1:\n",
    "        add_edge(g, neighbors[0], neighbors[1])"
   ]
  },
  {
   "cell_type": "code",
   "execution_count": 20,
   "metadata": {
    "collapsed": false
   },
   "outputs": [],
   "source": [
    "for n in ingredients_graph.nodes():\n",
    "    if ingredients_graph.node[n]['count'] == 0:\n",
    "        del_node_and_link_neighbors(ingredients_graph, n)"
   ]
  },
  {
   "cell_type": "code",
   "execution_count": 21,
   "metadata": {
    "collapsed": false
   },
   "outputs": [
    {
     "data": {
      "text/plain": [
       "1630"
      ]
     },
     "execution_count": 21,
     "metadata": {},
     "output_type": "execute_result"
    }
   ],
   "source": [
    "len(ingredients_graph)"
   ]
  },
  {
   "cell_type": "code",
   "execution_count": 22,
   "metadata": {
    "collapsed": false
   },
   "outputs": [
    {
     "data": {
      "text/plain": [
       "523"
      ]
     },
     "execution_count": 22,
     "metadata": {},
     "output_type": "execute_result"
    }
   ],
   "source": [
    "ingredients_graph.number_of_edges()"
   ]
  },
  {
   "cell_type": "code",
   "execution_count": 23,
   "metadata": {
    "collapsed": false,
    "scrolled": true
   },
   "outputs": [
    {
     "data": {
      "text/plain": [
       "1107"
      ]
     },
     "execution_count": 23,
     "metadata": {},
     "output_type": "execute_result"
    }
   ],
   "source": [
    "nx.number_connected_components(ingredients_graph)"
   ]
  },
  {
   "cell_type": "code",
   "execution_count": 24,
   "metadata": {
    "collapsed": true
   },
   "outputs": [],
   "source": [
    "nx.write_gexf(ingredients_graph, 'data/cookpad_ingredients_lexicon_2.gexf')"
   ]
  },
  {
   "cell_type": "code",
   "execution_count": 25,
   "metadata": {
    "collapsed": true
   },
   "outputs": [],
   "source": [
    "ingredients_graph = nx.read_gexf('data/cookpad_ingredients_lexicon_2.gexf')"
   ]
  },
  {
   "cell_type": "code",
   "execution_count": 26,
   "metadata": {
    "collapsed": true
   },
   "outputs": [],
   "source": [
    "for n in techniques_graph.nodes():\n",
    "    if techniques_graph.node[n]['count'] == 0:\n",
    "        del_node_and_link_neighbors(techniques_graph, n)"
   ]
  },
  {
   "cell_type": "code",
   "execution_count": 27,
   "metadata": {
    "collapsed": false
   },
   "outputs": [
    {
     "data": {
      "text/plain": [
       "361"
      ]
     },
     "execution_count": 27,
     "metadata": {},
     "output_type": "execute_result"
    }
   ],
   "source": [
    "len(techniques_graph)"
   ]
  },
  {
   "cell_type": "code",
   "execution_count": 28,
   "metadata": {
    "collapsed": false
   },
   "outputs": [
    {
     "data": {
      "text/plain": [
       "252"
      ]
     },
     "execution_count": 28,
     "metadata": {},
     "output_type": "execute_result"
    }
   ],
   "source": [
    "techniques_graph.number_of_edges()"
   ]
  },
  {
   "cell_type": "code",
   "execution_count": 29,
   "metadata": {
    "collapsed": false
   },
   "outputs": [
    {
     "data": {
      "text/plain": [
       "109"
      ]
     },
     "execution_count": 29,
     "metadata": {},
     "output_type": "execute_result"
    }
   ],
   "source": [
    "nx.number_connected_components(techniques_graph)"
   ]
  },
  {
   "cell_type": "code",
   "execution_count": 30,
   "metadata": {
    "collapsed": true
   },
   "outputs": [],
   "source": [
    "nx.write_gexf(techniques_graph, 'data/cookpad_techniques_lexicon_2.gexf')"
   ]
  },
  {
   "cell_type": "code",
   "execution_count": 31,
   "metadata": {
    "collapsed": true
   },
   "outputs": [],
   "source": [
    "techniques_graph = nx.read_gexf('data/cookpad_techniques_lexicon_2.gexf')"
   ]
  },
  {
   "cell_type": "markdown",
   "metadata": {},
   "source": [
    "# Representatives"
   ]
  },
  {
   "cell_type": "code",
   "execution_count": 32,
   "metadata": {
    "collapsed": true
   },
   "outputs": [],
   "source": [
    "# def value(g, n, r):\n",
    "#     ms = [m for m, rels in g[n].items() for rel in rels.values() if rel['label'] == r]\n",
    "#     return ms[0]\n",
    "\n",
    "def value(g, n, r):\n",
    "    ms = [y for x, y, d in g.edges_iter(data=True) if x == n and d['label'] == r]\n",
    "    return ms[0]"
   ]
  },
  {
   "cell_type": "code",
   "execution_count": 33,
   "metadata": {
    "collapsed": false
   },
   "outputs": [],
   "source": [
    "ingredients_multidigraph = nx.MultiDiGraph()\n",
    "\n",
    "for syns in nx.connected_components(ingredients_graph):\n",
    "    max_ingr = ''\n",
    "    max_count = 0\n",
    "    total_count = 0\n",
    "    for ingr in syns:\n",
    "        dat = ingredients_graph.node[ingr]\n",
    "        if dat['count'] > max_count:\n",
    "            max_ingr = ingr\n",
    "            max_count = dat['count']\n",
    "        total_count += dat['count']\n",
    "    ingredients_multidigraph.add_node(max_ingr, {'repr_count': total_count})\n",
    "    for ingr in syns:\n",
    "        ingredients_multidigraph.add_node(ingr, ingredients_graph.node[ingr])\n",
    "        ingredients_multidigraph.add_edge(ingr, max_ingr, label='repr')"
   ]
  },
  {
   "cell_type": "code",
   "execution_count": 34,
   "metadata": {
    "collapsed": false
   },
   "outputs": [
    {
     "data": {
      "text/plain": [
       "1630"
      ]
     },
     "execution_count": 34,
     "metadata": {},
     "output_type": "execute_result"
    }
   ],
   "source": [
    "len(ingredients_multidigraph)"
   ]
  },
  {
   "cell_type": "code",
   "execution_count": 35,
   "metadata": {
    "collapsed": false
   },
   "outputs": [
    {
     "data": {
      "text/plain": [
       "1630"
      ]
     },
     "execution_count": 35,
     "metadata": {},
     "output_type": "execute_result"
    }
   ],
   "source": [
    "ingredients_multidigraph.number_of_edges()"
   ]
  },
  {
   "cell_type": "code",
   "execution_count": 36,
   "metadata": {
    "collapsed": true
   },
   "outputs": [],
   "source": [
    "nx.write_gexf(ingredients_multidigraph, 'data/cookpad_ingredients_lexicon_3.gexf')"
   ]
  },
  {
   "cell_type": "code",
   "execution_count": 37,
   "metadata": {
    "collapsed": true
   },
   "outputs": [],
   "source": [
    "ingredients_multidigraph = nx.read_gexf('data/cookpad_ingredients_lexicon_3.gexf')\n",
    "ingredients_multidigraph = nx.MultiDiGraph(ingredients_multidigraph)"
   ]
  },
  {
   "cell_type": "code",
   "execution_count": 38,
   "metadata": {
    "collapsed": false
   },
   "outputs": [],
   "source": [
    "techniques_multidigraph = nx.MultiDiGraph()\n",
    "\n",
    "for syns in nx.connected_components(techniques_graph):\n",
    "    max_tech = ''\n",
    "    max_count = 0\n",
    "    total_count = 0\n",
    "    for tech in syns:\n",
    "        dat = techniques_graph.node[tech]\n",
    "        if dat['count'] > max_count:\n",
    "            max_tech = tech\n",
    "            max_count = dat['count']\n",
    "        total_count += dat['count']\n",
    "    techniques_multidigraph.add_node(max_tech, {'repr_count': total_count})\n",
    "    for tech in syns:\n",
    "        techniques_multidigraph.add_node(tech, techniques_graph.node[tech])\n",
    "        techniques_multidigraph.add_edge(tech, max_tech, label='repr')"
   ]
  },
  {
   "cell_type": "code",
   "execution_count": 39,
   "metadata": {
    "collapsed": false
   },
   "outputs": [
    {
     "data": {
      "text/plain": [
       "361"
      ]
     },
     "execution_count": 39,
     "metadata": {},
     "output_type": "execute_result"
    }
   ],
   "source": [
    "len(techniques_multidigraph)"
   ]
  },
  {
   "cell_type": "code",
   "execution_count": 40,
   "metadata": {
    "collapsed": false
   },
   "outputs": [
    {
     "data": {
      "text/plain": [
       "361"
      ]
     },
     "execution_count": 40,
     "metadata": {},
     "output_type": "execute_result"
    }
   ],
   "source": [
    "techniques_multidigraph.number_of_edges()"
   ]
  },
  {
   "cell_type": "code",
   "execution_count": 41,
   "metadata": {
    "collapsed": true
   },
   "outputs": [],
   "source": [
    "nx.write_gexf(techniques_multidigraph, 'data/cookpad_techniques_lexicon_3.gexf')"
   ]
  },
  {
   "cell_type": "code",
   "execution_count": 42,
   "metadata": {
    "collapsed": true
   },
   "outputs": [],
   "source": [
    "techniques_multidigraph = nx.read_gexf('data/cookpad_techniques_lexicon_3.gexf')\n",
    "techniques_multidigraph = nx.MultiDiGraph(techniques_multidigraph)"
   ]
  },
  {
   "cell_type": "markdown",
   "metadata": {},
   "source": [
    "# Superclasses"
   ]
  },
  {
   "cell_type": "code",
   "execution_count": 43,
   "metadata": {
    "collapsed": false
   },
   "outputs": [],
   "source": [
    "def add_superclass(g, n, sc):\n",
    "    if sc not in g:\n",
    "        g.add_node(sc, {'sc_count': 1})\n",
    "        g.add_edge(sc, sc, label='repr')\n",
    "        g.add_edge(sc, sc, label='superclass')\n",
    "    elif 'sc_count' not in g.node[sc]:\n",
    "        g.node[sc]['sc_count'] = 1\n",
    "    else:\n",
    "        g.node[sc]['sc_count'] += 1\n",
    "    g.add_edge(n, sc, label='superclass')"
   ]
  },
  {
   "cell_type": "code",
   "execution_count": 44,
   "metadata": {
    "collapsed": false
   },
   "outputs": [],
   "source": [
    "for ingr in ingredients_multidigraph.nodes():\n",
    "    representantive = value(ingredients_multidigraph, ingr, 'repr')\n",
    "    tokens = nltk.word_tokenize(representantive)\n",
    "    candidates = [token for token in tokens if token in ingredients]\n",
    "    if not candidates:\n",
    "        sc = tokens[0]\n",
    "    else:\n",
    "        sc = candidates[0]\n",
    "    add_superclass(ingredients_multidigraph, ingr, sc)"
   ]
  },
  {
   "cell_type": "code",
   "execution_count": 45,
   "metadata": {
    "collapsed": false
   },
   "outputs": [
    {
     "data": {
      "text/plain": [
       "1656"
      ]
     },
     "execution_count": 45,
     "metadata": {},
     "output_type": "execute_result"
    }
   ],
   "source": [
    "len(ingredients_multidigraph)"
   ]
  },
  {
   "cell_type": "code",
   "execution_count": 46,
   "metadata": {
    "collapsed": false
   },
   "outputs": [
    {
     "data": {
      "text/plain": [
       "3312"
      ]
     },
     "execution_count": 46,
     "metadata": {},
     "output_type": "execute_result"
    }
   ],
   "source": [
    "ingredients_multidigraph.number_of_edges()"
   ]
  },
  {
   "cell_type": "code",
   "execution_count": 47,
   "metadata": {
    "collapsed": true
   },
   "outputs": [],
   "source": [
    "nx.write_gexf(ingredients_multidigraph, 'data/cookpad_ingredients_lexicon_4.gexf')"
   ]
  },
  {
   "cell_type": "code",
   "execution_count": 48,
   "metadata": {
    "collapsed": true
   },
   "outputs": [],
   "source": [
    "ingredients_multidigraph = nx.read_gexf('data/cookpad_ingredients_lexicon_4.gexf')\n",
    "ingredients_multidigraph = nx.MultiDiGraph(ingredients_multidigraph)"
   ]
  },
  {
   "cell_type": "code",
   "execution_count": 49,
   "metadata": {
    "collapsed": false
   },
   "outputs": [],
   "source": [
    "for tech in techniques_multidigraph.nodes():\n",
    "    representantive = value(techniques_multidigraph, tech, 'repr')\n",
    "    tokens = nltk.word_tokenize(representantive)\n",
    "    candidates = [token for token in tokens if token in techniques]\n",
    "    if not candidates:\n",
    "        sc = tokens[0]\n",
    "    else:\n",
    "        sc = candidates[0]\n",
    "    add_superclass(techniques_multidigraph, tech, sc)"
   ]
  },
  {
   "cell_type": "code",
   "execution_count": 50,
   "metadata": {
    "collapsed": false
   },
   "outputs": [
    {
     "data": {
      "text/plain": [
       "371"
      ]
     },
     "execution_count": 50,
     "metadata": {},
     "output_type": "execute_result"
    }
   ],
   "source": [
    "len(techniques_multidigraph)"
   ]
  },
  {
   "cell_type": "code",
   "execution_count": 51,
   "metadata": {
    "collapsed": false
   },
   "outputs": [
    {
     "data": {
      "text/plain": [
       "742"
      ]
     },
     "execution_count": 51,
     "metadata": {},
     "output_type": "execute_result"
    }
   ],
   "source": [
    "techniques_multidigraph.number_of_edges()"
   ]
  },
  {
   "cell_type": "code",
   "execution_count": 52,
   "metadata": {
    "collapsed": true
   },
   "outputs": [],
   "source": [
    "nx.write_gexf(techniques_multidigraph, 'data/cookpad_techniques_lexicon_4.gexf')"
   ]
  },
  {
   "cell_type": "code",
   "execution_count": 53,
   "metadata": {
    "collapsed": false
   },
   "outputs": [],
   "source": [
    "techniques_multidigraph = nx.read_gexf('data/cookpad_techniques_lexicon_4.gexf')\n",
    "techniques_multidigraph = nx.MultiDiGraph(techniques_multidigraph)"
   ]
  },
  {
   "cell_type": "markdown",
   "metadata": {
    "collapsed": true
   },
   "source": [
    "# Types of ingredient"
   ]
  },
  {
   "cell_type": "code",
   "execution_count": 54,
   "metadata": {
    "collapsed": false
   },
   "outputs": [],
   "source": [
    "with open('data/spanish_ingredients_type.pickle', 'rb') as f:\n",
    "    type_dict = pickle.load(f)"
   ]
  },
  {
   "cell_type": "code",
   "execution_count": 55,
   "metadata": {
    "collapsed": true
   },
   "outputs": [],
   "source": [
    "for ingr, dat in ingredients_multidigraph.nodes_iter(data=True):\n",
    "    if ingr in type_dict:\n",
    "        dat['type'] = type_dict[ingr]\n",
    "    else:\n",
    "        dat['type'] = 'unknown'"
   ]
  },
  {
   "cell_type": "code",
   "execution_count": 56,
   "metadata": {
    "collapsed": false
   },
   "outputs": [
    {
     "name": "stdout",
     "output_type": "stream",
     "text": [
      "Total ingredients: 1656\n",
      "Classified: 404 (24%)\n",
      "Not classified: 1252 (76%)\n"
     ]
    }
   ],
   "source": [
    "a = b = c = 0\n",
    "for ingr, dat in ingredients_multidigraph.nodes_iter(data=True):\n",
    "    a += 1\n",
    "    if dat['type'] == 'unknown':\n",
    "        c += 1\n",
    "    else:\n",
    "        b += 1\n",
    "print('Total ingredients:', a)\n",
    "print('Classified:', b, '({}%)'.format(round(b * 100 / a)))\n",
    "print('Not classified:', c, '({}%)'.format(round(c * 100 / a)))"
   ]
  },
  {
   "cell_type": "code",
   "execution_count": 57,
   "metadata": {
    "collapsed": false
   },
   "outputs": [],
   "source": [
    "ambiguous = []\n",
    "\n",
    "for syns in nx.connected_components(all_ingredients_graph):\n",
    "    types = []\n",
    "    if any(map(lambda x: x in ingredients_multidigraph and ingredients_multidigraph.node[x]['type'] != 'unknown', syns)):\n",
    "        types = [ingredients_multidigraph.node[x]['type']\n",
    "                 for x in syns\n",
    "                     if x in ingredients_multidigraph and ingredients_multidigraph.node[x]['type'] != 'unknown']\n",
    "    else:\n",
    "        for ingr in syns:\n",
    "            if ingr in type_dict:\n",
    "                types.append(type_dict[ingr])\n",
    "            else:\n",
    "                for ngrm in my_ngrams(ingr):\n",
    "                    if ngrm in type_dict:\n",
    "                        types.append(type_dict[ngrm])\n",
    "    if not types:\n",
    "        typ = 'other'\n",
    "    elif len(set(types)) == 1:\n",
    "        typ = types[0]\n",
    "    else:\n",
    "        c = Counter(types)\n",
    "        most_common_list = c.most_common()\n",
    "        typ = most_common_list[0][1]\n",
    "        if most_common_list[1][1] == typ:\n",
    "            ambiguous.append((syns, most_common_list))\n",
    "    for ingr in syns:\n",
    "        if ingr in ingredients_multidigraph:\n",
    "            ingredients_multidigraph.node[ingr]['type'] = typ\n",
    "\n",
    "for syns in ambiguous:\n",
    "    if any(map(lambda x: x in ingredients_multidigraph, syns)):\n",
    "        print(syns)\n",
    "        print()"
   ]
  },
  {
   "cell_type": "code",
   "execution_count": 58,
   "metadata": {
    "collapsed": false
   },
   "outputs": [
    {
     "data": {
      "text/plain": [
       "239"
      ]
     },
     "execution_count": 58,
     "metadata": {},
     "output_type": "execute_result"
    }
   ],
   "source": [
    "len(ambiguous)"
   ]
  },
  {
   "cell_type": "code",
   "execution_count": 59,
   "metadata": {
    "collapsed": false
   },
   "outputs": [
    {
     "name": "stdout",
     "output_type": "stream",
     "text": [
      "Total ingredients: 1656\n",
      "Classified: 1304 (79%)\n",
      "Not classified: 352 (21%)\n"
     ]
    }
   ],
   "source": [
    "a = b = c = 0\n",
    "for ingr, dat in ingredients_multidigraph.nodes_iter(data=True):\n",
    "    a += 1\n",
    "    if dat['type'] == 'other':\n",
    "        c += 1\n",
    "    else:\n",
    "        b += 1\n",
    "print('Total ingredients:', a)\n",
    "print('Classified:', b, '({}%)'.format(round(b * 100 / a)))\n",
    "print('Not classified:', c, '({}%)'.format(round(c * 100 / a)))"
   ]
  },
  {
   "cell_type": "code",
   "execution_count": 60,
   "metadata": {
    "collapsed": true
   },
   "outputs": [],
   "source": [
    "nx.write_gexf(ingredients_multidigraph, 'data/cookpad_ingredients_lexicon_5.gexf')"
   ]
  },
  {
   "cell_type": "code",
   "execution_count": 61,
   "metadata": {
    "collapsed": false
   },
   "outputs": [],
   "source": [
    "ingredients_multidigraph = nx.read_gexf('data/cookpad_ingredients_lexicon_5.gexf')\n",
    "ingredients_multidigraph = nx.MultiDiGraph(ingredients_multidigraph)"
   ]
  },
  {
   "cell_type": "markdown",
   "metadata": {},
   "source": [
    "# Cuisine"
   ]
  },
  {
   "cell_type": "code",
   "execution_count": 62,
   "metadata": {
    "collapsed": true
   },
   "outputs": [],
   "source": [
    "with open('data/spanish_ingredients_cuisine.pickle', 'rb') as f:\n",
    "    cuisine_dict = pickle.load(f)"
   ]
  },
  {
   "cell_type": "code",
   "execution_count": 63,
   "metadata": {
    "collapsed": true
   },
   "outputs": [],
   "source": [
    "for ingr, dat in ingredients_multidigraph.nodes_iter(data=True):\n",
    "    if ingr in cuisine_dict:\n",
    "        dat['cuisine'] = cuisine_dict[ingr]\n",
    "    else:\n",
    "        dat['cuisine'] = 'unknown'"
   ]
  },
  {
   "cell_type": "code",
   "execution_count": 64,
   "metadata": {
    "collapsed": false
   },
   "outputs": [
    {
     "name": "stdout",
     "output_type": "stream",
     "text": [
      "Total ingredients: 1656\n",
      "Classified: 1578 (95%)\n",
      "Not classified: 78 (5%)\n"
     ]
    }
   ],
   "source": [
    "a = b = c = 0\n",
    "for ingr, dat in ingredients_multidigraph.nodes_iter(data=True):\n",
    "    a += 1\n",
    "    if dat['cuisine'] == 'unknown':\n",
    "        c += 1\n",
    "    else:\n",
    "        b += 1\n",
    "print('Total ingredients:', a)\n",
    "print('Classified:', b, '({}%)'.format(round(b * 100 / a)))\n",
    "print('Not classified:', c, '({}%)'.format(round(c * 100 / a)))"
   ]
  },
  {
   "cell_type": "code",
   "execution_count": 65,
   "metadata": {
    "collapsed": false
   },
   "outputs": [],
   "source": [
    "ambiguous = []\n",
    "\n",
    "for syns in nx.connected_components(all_ingredients_graph):\n",
    "    cuisines = []\n",
    "    if any(map(lambda x: x in ingredients_multidigraph and ingredients_multidigraph.node[x]['cuisine'] != 'unknown', syns)):\n",
    "        cuisines = [ingredients_multidigraph.node[x]['cuisine']\n",
    "                    for x in syns\n",
    "                        if x in ingredients_multidigraph and ingredients_multidigraph.node[x]['cuisine'] != 'unknown']\n",
    "    else:\n",
    "        for ingr in syns:\n",
    "            if ingr in cuisine_dict:\n",
    "                cuisines.append(cuisine_dict[ingr])\n",
    "            else:\n",
    "                for ngrm in my_ngrams(ingr):\n",
    "                    if ngrm in cuisine_dict:\n",
    "                        cuisines.append(cuisine_dict[ngrm])\n",
    "    if not cuisines:\n",
    "        cuisine = 'other'\n",
    "    elif len(set(cuisines)) == 1:\n",
    "        cuisine = cuisines[0]\n",
    "    else:\n",
    "        c = Counter(cuisines)\n",
    "        most_common_list = c.most_common()\n",
    "        cuisine = most_common_list[0][1]\n",
    "        if most_common_list[1][1] == cuisine:\n",
    "            ambiguous.append((syns, most_common_list))\n",
    "    for ingr in syns:\n",
    "        if ingr in ingredients_multidigraph:\n",
    "            ingredients_multidigraph.node[ingr]['cuisine'] = cuisine\n",
    "\n",
    "for syns in ambiguous:\n",
    "    if any(map(lambda x: x in ingredients_multidigraph, syns)):\n",
    "        print(syns)\n",
    "        print()"
   ]
  },
  {
   "cell_type": "code",
   "execution_count": 66,
   "metadata": {
    "collapsed": false
   },
   "outputs": [
    {
     "data": {
      "text/plain": [
       "183"
      ]
     },
     "execution_count": 66,
     "metadata": {},
     "output_type": "execute_result"
    }
   ],
   "source": [
    "len(ambiguous)"
   ]
  },
  {
   "cell_type": "code",
   "execution_count": 67,
   "metadata": {
    "collapsed": false
   },
   "outputs": [
    {
     "name": "stdout",
     "output_type": "stream",
     "text": [
      "Total ingredients: 1656\n",
      "Classified: 1652 (100%)\n",
      "Not classified: 4 (0%)\n"
     ]
    }
   ],
   "source": [
    "a = b = c = 0\n",
    "for ingr, dat in ingredients_multidigraph.nodes_iter(data=True):\n",
    "    a += 1\n",
    "    if dat['cuisine'] == 'other':\n",
    "        c += 1\n",
    "    else:\n",
    "        b += 1\n",
    "print('Total ingredients:', a)\n",
    "print('Classified:', b, '({}%)'.format(round(b * 100 / a)))\n",
    "print('Not classified:', c, '({}%)'.format(round(c * 100 / a)))"
   ]
  },
  {
   "cell_type": "code",
   "execution_count": 68,
   "metadata": {
    "collapsed": true
   },
   "outputs": [],
   "source": [
    "nx.write_gexf(ingredients_multidigraph, 'data/cookpad_ingredients_lexicon_6.gexf')"
   ]
  },
  {
   "cell_type": "code",
   "execution_count": 69,
   "metadata": {
    "collapsed": true
   },
   "outputs": [],
   "source": [
    "nx.write_gexf(techniques_multidigraph, 'data/cookpad_techniques_lexicon_6.gexf')"
   ]
  },
  {
   "cell_type": "code",
   "execution_count": 70,
   "metadata": {
    "collapsed": true
   },
   "outputs": [],
   "source": [
    "ingredients_multidigraph = nx.read_gexf('data/cookpad_ingredients_lexicon_6.gexf')\n",
    "ingredients_multidigraph = nx.MultiDiGraph(ingredients_multidigraph)"
   ]
  },
  {
   "cell_type": "code",
   "execution_count": 71,
   "metadata": {
    "collapsed": true
   },
   "outputs": [],
   "source": [
    "techniques_multidigraph = nx.read_gexf('data/cookpad_techniques_lexicon_6.gexf')\n",
    "techniques_multidigraph = nx.MultiDiGraph(techniques_multidigraph)"
   ]
  },
  {
   "cell_type": "markdown",
   "metadata": {
    "collapsed": true
   },
   "source": [
    "# More databases"
   ]
  },
  {
   "cell_type": "code",
   "execution_count": 72,
   "metadata": {
    "collapsed": false
   },
   "outputs": [
    {
     "name": "stdout",
     "output_type": "stream",
     "text": [
      "True\n",
      "aceite de oliva\n",
      "aceite\n",
      "spicies_and_condimients\n",
      "western\n",
      "\n",
      "True\n",
      "olla a presión\n",
      "presión\n"
     ]
    }
   ],
   "source": [
    "# Example\n",
    "print('aceite de oliva' in ingredients_multidigraph)\n",
    "print(value(ingredients_multidigraph, 'aceite de oliva', 'repr'))\n",
    "print(value(ingredients_multidigraph, 'aceite de oliva', 'superclass'))\n",
    "print(ingredients_multidigraph.node['aceite de oliva']['type'])\n",
    "print(ingredients_multidigraph.node['aceite de oliva']['cuisine'])\n",
    "print()\n",
    "print('olla a presión' in techniques_multidigraph)\n",
    "print(value(techniques_multidigraph, 'olla a presión', 'repr'))\n",
    "print(value(techniques_multidigraph, 'olla a presión', 'superclass'))"
   ]
  },
  {
   "cell_type": "code",
   "execution_count": 74,
   "metadata": {
    "collapsed": false
   },
   "outputs": [],
   "source": [
    "# %%time\n",
    "\n",
    "# db.cookpad_representatives.drop() # representative ingredients and techniques\n",
    "# db.cookpad_superclasses.drop() # superclasses of ingredients and techniques\n",
    "# db.cookpad_cuisines.drop() # cuisines of ingredients, representative techniques\n",
    "# db.cookpad_types.drop() # types of ingredients, representative techniques\n",
    "\n",
    "# count = 0\n",
    "# representatives_rows = []\n",
    "# superclasses_rows = []\n",
    "# cuisines_rows = []\n",
    "# types_rows = []\n",
    "\n",
    "# for r in db.cookpad_raw.find():\n",
    "#     row = dict(r)\n",
    "#     row['ingredients'] = [value(ingredients_multidigraph, x, 'repr') for x in r['ingredients']]\n",
    "#     row['techniques'] = [value(techniques_multidigraph, x, 'repr') for x in r['techniques']]\n",
    "#     representatives_rows.append(row)\n",
    "    \n",
    "#     row = dict(r)\n",
    "#     row['ingredients'] = [value(ingredients_multidigraph, x, 'superclass') for x in r['ingredients']]\n",
    "#     row['techniques'] = [value(techniques_multidigraph, x, 'superclass') for x in r['techniques']]\n",
    "#     superclasses_rows.append(row)\n",
    "    \n",
    "#     row = dict(r)\n",
    "#     row['ingredients'] = [ingredients_multidigraph.node[x]['cuisine'] for x in r['ingredients']]\n",
    "#     row['techniques'] = [value(techniques_multidigraph, x, 'repr') for x in r['techniques']]\n",
    "#     cuisines_rows.append(row)\n",
    "    \n",
    "#     row = dict(r)\n",
    "#     row['ingredients'] = [ingredients_multidigraph.node[x]['type'] for x in r['ingredients']]\n",
    "#     row['techniques'] = [value(techniques_multidigraph, x, 'repr') for x in r['techniques']]\n",
    "#     types_rows.append(row)\n",
    "\n",
    "#     count += 1\n",
    "#     if count % 100 == 0:\n",
    "#         db.cookpad_representatives.insert_many(representatives_rows)\n",
    "#         db.cookpad_superclasses.insert_many(superclasses_rows)\n",
    "#         db.cookpad_cuisines.insert_many(cuisines_rows)\n",
    "#         db.cookpad_types.insert_many(types_rows)\n",
    "#         representatives_rows = []\n",
    "#         superclasses_rows = []\n",
    "#         cuisines_rows = []\n",
    "#         types_rows = []\n",
    "#         print(count, 'rows inserted')\n",
    "# db.cookpad_representatives.insert_many(representatives_rows)\n",
    "# db.cookpad_superclasses.insert_many(superclasses_rows)\n",
    "# db.cookpad_cuisines.insert_many(cuisines_rows)\n",
    "# db.cookpad_types.insert_many(types_rows)\n",
    "# representatives_rows = []\n",
    "# superclasses_rows = []\n",
    "# cuisines_rows = []\n",
    "# types_rows = []\n",
    "# print(count, 'rows inserted')\n",
    "    \n",
    "# # CPU times: user 5min 4s, sys: 40 ms, total: 5min 4s\n",
    "# # Wall time: 5min 4s"
   ]
  },
  {
   "cell_type": "code",
   "execution_count": null,
   "metadata": {
    "collapsed": true
   },
   "outputs": [],
   "source": []
  }
 ],
 "metadata": {
  "kernelspec": {
   "display_name": "Python 3",
   "language": "python",
   "name": "python3"
  },
  "language_info": {
   "codemirror_mode": {
    "name": "ipython",
    "version": 3
   },
   "file_extension": ".py",
   "mimetype": "text/x-python",
   "name": "python",
   "nbconvert_exporter": "python",
   "pygments_lexer": "ipython3",
   "version": "3.4.3"
  }
 },
 "nbformat": 4,
 "nbformat_minor": 0
}
