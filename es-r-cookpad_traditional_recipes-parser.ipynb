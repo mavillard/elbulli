{
 "cells": [
  {
   "cell_type": "code",
   "execution_count": 3,
   "metadata": {
    "collapsed": false
   },
   "outputs": [],
   "source": [
    "import os\n",
    "\n",
    "from bs4 import BeautifulSoup"
   ]
  },
  {
   "cell_type": "code",
   "execution_count": 2,
   "metadata": {
    "collapsed": false
   },
   "outputs": [
    {
     "name": "stdout",
     "output_type": "stream",
     "text": [
      "traditional_recipe_101071.html\n"
     ]
    }
   ],
   "source": [
    "ingredients = set()\n",
    "techniques = set()\n",
    "\n",
    "for filename in os.listdir('data/recipes/cookpad_test/'):\n",
    "    print(filename)\n",
    "#     str_id = str(ide)\n",
    "#     with open('data/ingredients/en/foodcom/foodcom_ingredients_' + str_id + '.html') as f:\n",
    "#         soup = BeautifulSoup(f.read(), 'html.parser')\n",
    "#         elems = soup.select('h1[itemprop=\"name\"]')\n",
    "#         ingrs = clean(map(lambda x: trim(x.text), elems))\n",
    "#         ingredients = ingredients.union(ingrs)\n",
    "\n",
    "# ingredients = sorted(ingredients)"
   ]
  },
  {
   "cell_type": "code",
   "execution_count": 5,
   "metadata": {
    "collapsed": false
   },
   "outputs": [
    {
     "data": {
      "text/plain": [
       "953"
      ]
     },
     "execution_count": 5,
     "metadata": {},
     "output_type": "execute_result"
    }
   ],
   "source": [
    "len(ingredients)"
   ]
  },
  {
   "cell_type": "code",
   "execution_count": 6,
   "metadata": {
    "collapsed": false
   },
   "outputs": [
    {
     "data": {
      "text/plain": [
       "['abalone',\n",
       " 'absinthe',\n",
       " 'achar',\n",
       " 'acidulated water',\n",
       " 'ackee',\n",
       " 'acorn squash',\n",
       " 'adobo',\n",
       " 'advieh',\n",
       " 'african birdseye chile pepper',\n",
       " 'agar']"
      ]
     },
     "execution_count": 6,
     "metadata": {},
     "output_type": "execute_result"
    }
   ],
   "source": [
    "ingredients[:10]"
   ]
  },
  {
   "cell_type": "code",
   "execution_count": 7,
   "metadata": {
    "collapsed": true
   },
   "outputs": [],
   "source": [
    "with open('data/ingredients/en_foodcom_ingredients.txt', 'w') as f:\n",
    "    f.write('\\n'.join(ingredients))"
   ]
  },
  {
   "cell_type": "code",
   "execution_count": null,
   "metadata": {
    "collapsed": true
   },
   "outputs": [],
   "source": []
  }
 ],
 "metadata": {
  "kernelspec": {
   "display_name": "Python 3",
   "language": "python",
   "name": "python3"
  },
  "language_info": {
   "codemirror_mode": {
    "name": "ipython",
    "version": 3
   },
   "file_extension": ".py",
   "mimetype": "text/x-python",
   "name": "python",
   "nbconvert_exporter": "python",
   "pygments_lexer": "ipython3",
   "version": "3.4.3"
  }
 },
 "nbformat": 4,
 "nbformat_minor": 0
}
