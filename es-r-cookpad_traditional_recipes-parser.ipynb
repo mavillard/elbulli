{
 "cells": [
  {
   "cell_type": "code",
   "execution_count": 1,
   "metadata": {
    "collapsed": false
   },
   "outputs": [],
   "source": [
    "import os\n",
    "\n",
    "import networkx as nx\n",
    "import nltk\n",
    "from bs4 import BeautifulSoup\n",
    "from nltk.util import ngrams\n",
    "from pymongo import MongoClient"
   ]
  },
  {
   "cell_type": "code",
   "execution_count": 2,
   "metadata": {
    "collapsed": false
   },
   "outputs": [],
   "source": [
    "client = MongoClient()\n",
    "db = client.recipes"
   ]
  },
  {
   "cell_type": "code",
   "execution_count": 3,
   "metadata": {
    "collapsed": true
   },
   "outputs": [],
   "source": [
    "def trim(s):\n",
    "    return ' '.join(s.split())"
   ]
  },
  {
   "cell_type": "code",
   "execution_count": 4,
   "metadata": {
    "collapsed": true
   },
   "outputs": [],
   "source": [
    "def my_ngrams(technique):\n",
    "    ngrms = []\n",
    "    tokens = nltk.word_tokenize(technique)\n",
    "    for i in range(1, len(tokens) + 1):\n",
    "        ngrms.extend(ngrams(tokens, i))\n",
    "    return list(map(lambda x: ' '.join(x), ngrms))"
   ]
  },
  {
   "cell_type": "code",
   "execution_count": 5,
   "metadata": {
    "collapsed": false
   },
   "outputs": [],
   "source": [
    "ingredient_graph = nx.read_gexf('data/spanish_ingredients_lexicon_5.gexf')"
   ]
  },
  {
   "cell_type": "code",
   "execution_count": 6,
   "metadata": {
    "collapsed": true
   },
   "outputs": [],
   "source": [
    "technique_graph = nx.read_gexf('data/spanish_techniques_lexicon_5.gexf')"
   ]
  },
  {
   "cell_type": "code",
   "execution_count": 7,
   "metadata": {
    "collapsed": false
   },
   "outputs": [],
   "source": [
    "# %%time\n",
    "\n",
    "# db.cookpad_raw.drop()\n",
    "\n",
    "# count = 0\n",
    "# rows = []\n",
    "\n",
    "# for filename in os.listdir('data/recipes/cookpad/'):\n",
    "#     with open('data/recipes/cookpad/' + filename) as f:\n",
    "#         row = {\n",
    "#             '_id': '',\n",
    "#             'title': '',\n",
    "#             'cuisine': '',\n",
    "#             'year': 0,\n",
    "#             'ingredients': set(),\n",
    "#             'techniques': set(),\n",
    "#         }\n",
    "#         ide = filename.split('traditional_recipe_')[1].split('.')[0]\n",
    "#         soup = BeautifulSoup(f.read(), 'html.parser')\n",
    "#         title = trim(soup.select(\n",
    "#             'div#main_contents div.recipe-show div#editor section.intro h1.recipe-title')[0].text\n",
    "#         )\n",
    "#         cuisine = trim(soup.select(\n",
    "#             'div#main_contents div.recipe-show div#editor section.intro div[data-field-group] div.metadata__field \\\n",
    "#              span[data-field-name=\"cuisine\"]')[0].text\n",
    "#         )\n",
    "#         time = soup.select('time[itemprop=\"datePublished\"]')[0]['datetime']\n",
    "#         year = time.split('-')[0]\n",
    "#         ingredients = set()\n",
    "#         elems = soup.select(\n",
    "#             'div#main_contents section#ingredients div.ingredient-list ol li.ingredient span.ingredient__attribute--name'\n",
    "#         )\n",
    "#         ingrs = list(map(lambda x: trim(x.text), elems))\n",
    "#         for ingr in ingrs:\n",
    "#             ngrms = my_ngrams(ingr)\n",
    "#             ngrms.reverse()\n",
    "#             for ngrm in ngrms:\n",
    "#                 if ngrm in ingredient_graph:\n",
    "#                     ingredients.add(ngrm)\n",
    "#         techniques = set()\n",
    "#         elems = soup.select(\n",
    "#             'div#main_contents section#steps ol li.step div.step__description \\\n",
    "#              div[itemprop=\"recipeInstructions\"] p.step__text'\n",
    "#         )\n",
    "#         steps = list(map(lambda x: trim(x.text), elems))\n",
    "#         for step in steps:\n",
    "#             ngrms = my_ngrams(step)\n",
    "#             ngrms.reverse()\n",
    "#             for ngrm in ngrms:\n",
    "#                 if ngrm in technique_graph:\n",
    "#                     techniques.add(ngrm)\n",
    "#         row['_id'] = ide\n",
    "#         row['title'] = title\n",
    "#         row['cuisine'] = cuisine\n",
    "#         row['year'] = year\n",
    "#         row['ingredients'] = list(ingredients)\n",
    "#         row['techniques'] = list(techniques)\n",
    "#         rows.append(row)\n",
    "\n",
    "#         count += 1\n",
    "#         if count % 100 == 0:\n",
    "#             db.cookpad_raw.insert_many(rows)\n",
    "#             rows = []\n",
    "#             print(count, 'rows inserted')\n",
    "# db.cookpad_raw.insert_many(rows)\n",
    "# rows = []\n",
    "# print(count, 'rows inserted')\n",
    "\n",
    "# CPU times: user 19min 37s, sys: 2.32 s, total: 19min 40s\n",
    "# Wall time: 22min 6s"
   ]
  },
  {
   "cell_type": "code",
   "execution_count": null,
   "metadata": {
    "collapsed": true
   },
   "outputs": [],
   "source": []
  }
 ],
 "metadata": {
  "kernelspec": {
   "display_name": "Python 3",
   "language": "python",
   "name": "python3"
  },
  "language_info": {
   "codemirror_mode": {
    "name": "ipython",
    "version": 3
   },
   "file_extension": ".py",
   "mimetype": "text/x-python",
   "name": "python",
   "nbconvert_exporter": "python",
   "pygments_lexer": "ipython3",
   "version": "3.4.3"
  }
 },
 "nbformat": 4,
 "nbformat_minor": 0
}
