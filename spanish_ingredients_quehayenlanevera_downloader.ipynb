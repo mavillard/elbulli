{
 "cells": [
  {
   "cell_type": "code",
   "execution_count": 1,
   "metadata": {
    "collapsed": true
   },
   "outputs": [],
   "source": [
    "import json\n",
    "import string\n",
    "\n",
    "import requests"
   ]
  },
  {
   "cell_type": "code",
   "execution_count": 2,
   "metadata": {
    "collapsed": false
   },
   "outputs": [
    {
     "name": "stdout",
     "output_type": "stream",
     "text": [
      "CPU times: user 17.7 s, sys: 372 ms, total: 18.1 s\n",
      "Wall time: 5min 45s\n"
     ]
    }
   ],
   "source": [
    "%%time \n",
    "\n",
    "\n",
    "session = requests.Session()\n",
    "session.get('http://www.quehayenlanevera.com')\n",
    "\n",
    "url = 'http://www.quehayenlanevera.com/includes/funciones/funciones_busqueda.php'\n",
    "data = {\n",
    "    'do': 'devolver_ingredientes',\n",
    "}\n",
    "path = 'data/ingredients/es/quehayenlanevera/'\n",
    "for v in string.ascii_lowercase:\n",
    "    search = v\n",
    "    data['variables[0]'] = search\n",
    "    response = session.post(url, data=data)\n",
    "    js = json.loads(response.text[14:-48].strip())\n",
    "    if js['status'] == 'correcto':\n",
    "        filename = path + search + '.json'\n",
    "        with open(filename, 'w') as f:\n",
    "            json.dump(js, f)\n",
    "        if len(js['ingredientes']) >= 25:\n",
    "            for w in string.ascii_lowercase:\n",
    "                search = v + w\n",
    "                data['variables[0]'] = search\n",
    "                response = session.post(url, data=data)\n",
    "                js = json.loads(response.text[14:-48].strip())\n",
    "                if js['status'] == 'correcto':\n",
    "                    filename = path + search + '.json'\n",
    "                    with open(filename, 'w') as f:\n",
    "                        json.dump(js, f)\n",
    "                    if len(js['ingredientes']) >= 25:\n",
    "                        for x in string.ascii_lowercase:\n",
    "                            search = v + w + x\n",
    "                            data['variables[0]'] = search\n",
    "                            response = session.post(url, data=data)\n",
    "                            js = json.loads(response.text[14:-48].strip())\n",
    "                            if js['status'] == 'correcto':\n",
    "                                filename = path + search + '.json'\n",
    "                                with open(filename, 'w') as f:\n",
    "                                    json.dump(js, f)\n",
    "                                if len(js['ingredientes']) >= 25:\n",
    "                                    for y in string.ascii_lowercase:\n",
    "                                        search = v + w + x + y\n",
    "                                        data['variables[0]'] = search\n",
    "                                        response = session.post(url, data=data)\n",
    "                                        js = json.loads(response.text[14:-48].strip())\n",
    "                                        if js['status'] == 'correcto':\n",
    "                                            filename = path + search + '.json'\n",
    "                                            with open(filename, 'w') as f:\n",
    "                                                json.dump(js, f)\n",
    "                                            if len(js['ingredientes']) >= 25:\n",
    "                                                for z in string.ascii_lowercase:\n",
    "                                                    search = v + w + x + y + z\n",
    "                                                    data['variables[0]'] = search\n",
    "                                                    response = session.post(url, data=data)\n",
    "                                                    js = json.loads(response.text[14:-48].strip())\n",
    "                                                    if js['status'] == 'correcto':\n",
    "                                                        filename = path + search + '.json'\n",
    "                                                        with open(filename, 'w') as f:\n",
    "                                                            json.dump(js, f)"
   ]
  },
  {
   "cell_type": "code",
   "execution_count": null,
   "metadata": {
    "collapsed": true
   },
   "outputs": [],
   "source": []
  }
 ],
 "metadata": {
  "kernelspec": {
   "display_name": "Python 3",
   "language": "python",
   "name": "python3"
  },
  "language_info": {
   "codemirror_mode": {
    "name": "ipython",
    "version": 3
   },
   "file_extension": ".py",
   "mimetype": "text/x-python",
   "name": "python",
   "nbconvert_exporter": "python",
   "pygments_lexer": "ipython3",
   "version": "3.4.3"
  }
 },
 "nbformat": 4,
 "nbformat_minor": 0
}
