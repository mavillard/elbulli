{
 "cells": [
  {
   "cell_type": "code",
   "execution_count": 1,
   "metadata": {
    "collapsed": false
   },
   "outputs": [
    {
     "data": {
      "text/plain": [
       "34"
      ]
     },
     "execution_count": 1,
     "metadata": {},
     "output_type": "execute_result"
    }
   ],
   "source": [
    "# http://www.msn.com/es-cl/recetas/noticiassobrecomida/30-ingredientes-básicos-que-no-pueden-faltar-en-tu-cocina/ss-AA8nO36\n",
    "# http://www.msn.com/es-es/recetas/noticias/la-lista-de-los-30-ingredientes-que-no-pueden-faltar-en-tu-cocina/ss-AA8nO36\n",
    "ingredients1 = set(map(lambda x: x.lower(), [\n",
    "    'ajo', 'chili', 'comino', 'mostaza', 'pimienta negra', 'sal', 'sal marina', 'huevos', 'miel', 'aceitunas',\n",
    "    'encurtidos', 'queso', 'arroz', 'arroz integral', 'azúcar', 'tomate', 'hierbas secas', 'jengibre', 'ketchup',\n",
    "    'limón', 'cebolla', 'patata', 'hongos', 'yogur', 'vinagre', 'avena', 'frutos secos', 'mayonesa', 'pan integral',\n",
    "    'pan', 'frijoles', 'legumbres', 'manzana', 'setas',\n",
    "]))\n",
    "len(ingredients1)"
   ]
  },
  {
   "cell_type": "code",
   "execution_count": 2,
   "metadata": {
    "collapsed": false
   },
   "outputs": [
    {
     "data": {
      "text/plain": [
       "39"
      ]
     },
     "execution_count": 2,
     "metadata": {},
     "output_type": "execute_result"
    }
   ],
   "source": [
    "# https://nokrisscecco.wordpress.com/2008/09/18/lista-de-ingredientes-mas-usados/\n",
    "ingredients2 = set(map(lambda x: x.lower(), [\n",
    "    'ESPINACAS', 'DIENTE DE LEÓN', 'PUERCO', 'cerdo', 'PIMIENTA', 'TOMILLO', 'MEJORANA', 'AJO', 'CLAVO',\n",
    "    'CEBOLLA', 'CHILE ANCHO', 'CHILE PASILLA', 'CHILE JALAPEÑO', 'TOMATES', 'BETACAROTENO', 'PEPINO', 'APIO',\n",
    "    'ACELGAS', 'PIMIENTOS', 'AGUACATE', 'CHILE ANCHO', 'PÁPALO', 'CHILE GUAJILLO', 'VERDOLAGA', 'EPAZOTE',\n",
    "    'ZANAHORIA', 'CILANTRO', 'CULANTRO', 'CORIANDRO', 'CALABAZA', 'CALABACIN', 'HABICHUELAS', 'EJOTES',\n",
    "    'CHÍCHAROS', 'GUISANTES', 'TOMATE', 'JITOMATE', 'CHILE', 'PIMIENTO', 'AJIES',\n",
    "]))\n",
    "len(ingredients2)"
   ]
  },
  {
   "cell_type": "code",
   "execution_count": 3,
   "metadata": {
    "collapsed": false
   },
   "outputs": [
    {
     "data": {
      "text/plain": [
       "289"
      ]
     },
     "execution_count": 3,
     "metadata": {},
     "output_type": "execute_result"
    }
   ],
   "source": [
    "# http://www.enfemenino.com/world/cuisine/boitearecettes/id__i.html\n",
    "ingredients3 = set(map(lambda x: x.lower(), [\n",
    "    'Ave', 'Avestruz', 'Bacon', 'Capón', 'Caracol', 'Caza', 'Cecina', 'Cerdo', 'Chorizo', 'Chuleta', 'Codorniz',\n",
    "    'Conejo', 'Cordero', 'Costilla', 'Escalope', 'Filete', 'Filete de pato', 'Foie gras', 'Gallo', 'Jamón', 'Lacón',\n",
    "    'Liebre', 'Lomo', 'Morcilla', 'Oca', 'Oveja', 'Pato', 'Pavo', 'Pichón', 'Pierna de cordero', 'Pollo', 'Salchicha',\n",
    "    'Salchichón', 'Solomillo', 'Ternera', 'Tocino', 'Verduras', 'Acelga', 'Alcachofa', 'Apio', 'Berenjena',\n",
    "    'Berro', 'Brócoli', 'Calabacín', 'Calabaza', 'Canónigo', 'Cebolla', 'Chalota', 'Champiñón', 'Col', 'Coliflor',\n",
    "    'Endivia', 'Ensalada', 'Espárrago', 'Espinaca', 'Guisante', 'Haba', 'Hinojo', 'Judia', 'Lechuga', 'Lenteja',\n",
    "    'Maiz', 'Mízcalo', 'Nabo', 'Palmito', 'Patata', 'Pepino', 'Pimiento', 'Pisto', 'Puerro', 'Puré', 'Rábano',\n",
    "    'Remolacha', 'Seta', 'Soja', 'Trufa', 'Zanahoria', 'Aguacate', 'Albaricoque', 'Arándano', 'Avellana', 'Castaña',\n",
    "    'Cereza', 'Cerezas en almibar', 'Ciruela', 'Clementina', 'Coco', 'Dátil', 'Frambuesa', 'Fresa', 'Fruta de la pasión',\n",
    "    'Grosella', 'Higo', 'Kiwi', 'Limón', 'Litchi', 'Mandarina', 'Mango', 'Manzana', 'Melocotón', 'Melón', 'Membrillo',\n",
    "    'Mora', 'Naranja', 'Nuez', 'Nuez de brasil', 'Papaya', 'Pera', 'Piña', 'Plátano', 'Pomelo', 'Ruibarbo', 'Tomate',\n",
    "    'Uva', 'Alga', 'Anchoa', 'Anguila', 'Arenque', 'Atún', 'Bacalao', 'Bogavante', 'Bonito', 'Caballa', 'Calamar',\n",
    "    'Cangrejo', 'Carpa', 'Dorada', 'Gamba', 'Langosta', 'Langostino', 'Lenguado', 'Lubina', 'Lumpo', 'Marisco',\n",
    "    'Mejillón', 'Merluza', 'Ostra', 'Palitos de cangrejo', 'Pescadilla', 'Pescado', 'Pulpo', 'Rape', 'Raya',\n",
    "    'Rodaballo', 'Salmón', 'Salmonete', 'Sardina', 'Sepia', 'Surimi', 'Trucha', 'Vieiras', 'Cabra', 'Cabrales',\n",
    "    'Camembert', 'Cantal', 'Comté', 'Crema fresca', 'Emmental', 'Feta', 'Gruyere', 'Leche', 'Manchego', 'Mantequilla',\n",
    "    'Margarina', 'Mozzarella', 'Parmesano', 'Petit suisse', 'Philadelphia', 'Queso', 'Queso azul', 'Queso blanco',\n",
    "    'Queso de untar', 'Ricotta', 'Roquefort', 'Yogur', 'Cereales', 'Arroz', 'Barra de pan', 'Biscote', 'Brioche',\n",
    "    'Corn flakes', 'Couscous', 'Espagueti', 'Fideo', 'Harina', 'Lasaña', 'Macarrón', 'Nachos', 'Pan', 'Pasta',\n",
    "    'Raviolis', 'Risotto', 'Sémola', 'Tallarín', 'Tortelini', 'Trigo', 'Aceite de oliva', 'Aceituna', 'Ajo',\n",
    "    'Alcaparra', 'Almendra', 'Bechamel', 'Cacahuete', 'Café', 'Huevo', 'Jengibre', 'Oliva', 'Pepinillo', 'Pimentón',\n",
    "    'Piñón', 'Salsa', 'Sésamo', 'Tofu', 'Tortilla', 'Tostada', 'Albahaca', 'Aneldo', 'Azafrán', 'Baya', 'Canela',\n",
    "    'Cebollino', 'Clavo', 'Comino', 'Coriandro', 'Curcuma', 'Curri', 'Estragón', 'Hinojo', 'Laurel', 'Menta',\n",
    "    'Nuez moscada', 'Orégano', 'Perejil', 'Pimienta', 'Ramillete', 'Romero', 'Tomillo', 'Aguardiente', 'Alcohol',\n",
    "    'Armagnac', 'Bourbon', 'Brandy', 'Calvados', 'Cava', 'Cerveza', 'Champagne', 'Coca-cola', 'Cognac', 'Cointreau',\n",
    "    'Ginebra', 'Granadina', 'Grand marnier', 'Horchata', 'Leche de coco', 'Licor', 'Limonada', 'Malibu', 'Martini',\n",
    "    'Nectar', 'Porto', 'Ron', 'Sake', 'Sangría', 'Sidra', 'Soda', 'Té', 'Tequila', 'Vermout', 'Vino', 'Vino de Jerez',\n",
    "    'Vino de Rioja', 'Vodka', 'Whisky', 'Zumo', 'Azúcar', 'Barquillo', 'Cacao', 'Caramelo', 'Chocolate', 'Compota',\n",
    "    'Crema', 'Crepe', 'Galleta', 'Helado', 'Hojaldre', 'Mermelada', 'Miel', 'Sorbete', 'Turrón', 'Vainilla',\n",
    "]))\n",
    "len(ingredients3)"
   ]
  },
  {
   "cell_type": "code",
   "execution_count": 4,
   "metadata": {
    "collapsed": false
   },
   "outputs": [
    {
     "data": {
      "text/plain": [
       "65"
      ]
     },
     "execution_count": 4,
     "metadata": {},
     "output_type": "execute_result"
    }
   ],
   "source": [
    "# https://foodhero.org/sites/foodhero.org/files/resources/whattokeeponhand_spanish_0.pdf\n",
    "ingredients4 = set(map(lambda x: x.lower(), [\n",
    "    'Papas', 'Batata', 'Camote', 'Zanahorias', 'Nabos', 'Repollo', 'Col', 'Cebolla', 'Verduras en lata',\n",
    "    'Verduras congeladas', 'Jugo de vegetales', 'Sopa de verduras', 'Salsa para espagueti', 'Manzanas',\n",
    "    'Naranjas', 'Fruta en lata', 'Jugo de fruta en lata', 'Jugo de fruta en caja', 'Jugo de fruta congelada',\n",
    "    'Fruta seca', 'Pasta', 'Granola', 'Cereal', 'Saltinas', 'Galletas de arroz', 'Cereal en barras', 'Tortillas',\n",
    "    'Harina de Maíz', 'Maíz en gránulos', 'grits', 'Harina', 'Sopa de fideos', 'Mezcla de pancake', 'Pan',\n",
    "    'Pan tipo Bagel', 'Frijoles', 'chícharos secos', 'Frijoles en lata', 'Chili en lata', 'Crema de cacahuate',\n",
    "    'Atún en lata', 'Carne en lata', 'Carne congelada', 'pescado', 'pollo', 'pavo', 'Huevos','Guisados enlatados',\n",
    "    'Nueces', 'Leche en polvo ', 'Leche en lata', 'Queso', 'Jugo con calcio', 'Salmón con espinas en lata',\n",
    "    'Yogurt', 'Espinaca en lata', 'Budín en lata', 'Bebida instantánea para desayunar', 'Polvo para hornear',\n",
    "    'Aceite para cocinar', 'Azúcar', 'Sal', 'pimienta', 'especias', 'Sopa en lata',\n",
    "]))\n",
    "len(ingredients4)"
   ]
  },
  {
   "cell_type": "code",
   "execution_count": 5,
   "metadata": {
    "collapsed": false
   },
   "outputs": [
    {
     "data": {
      "text/plain": [
       "44"
      ]
     },
     "execution_count": 5,
     "metadata": {},
     "output_type": "execute_result"
    }
   ],
   "source": [
    "# https://foodhero.org/sites/foodhero.org/files/resources/ns00362_0.pdf\n",
    "ingredients5 = set(map(lambda x: x.lower(), [\n",
    "    'Pimienta Inglesa', 'Albaca', 'Hoja de Laurel', 'Cayena', 'Polvo de chile', 'Canela', 'Clavos', 'Curry',\n",
    "    'Eneldo', 'Cebolla', 'Tomillo', 'Jengibre', 'Mostaza', 'Nuez Moscada', 'Orégano', 'Páprika', 'Perejil',\n",
    "    'Pimienta', 'Espárragos', 'Estragón', 'Frijol de media luna', 'Mejorana', 'orégano', 'salvia', 'tomillo',\n",
    "    'estragón', 'Ejotes', 'Albaca', 'eneldo', 'mejorana', 'Orégano', 'tomillo', 'Betabel', 'Pimienta inglesa',\n",
    "    'hojas de laurel', 'clavos eneldo', 'jengibre', 'tomillo', 'Brócoli', 'Eneldo', 'estragón', 'Coles de Bruselas',\n",
    "    'Albaca', 'alcaravea', 'eneldo', 'Repollo', 'Eneldo', 'nuez moscada', 'Zanahorias', 'Pimienta inglesa', 'Pepinos',\n",
    "    'Albaca', 'eneldo', 'estragón', 'Berenjena', 'Mejorana', 'orégano', 'Cebolla', 'Nuez moscada', 'orégano', 'salvia',\n",
    "    'tomillo', 'Chícharos', 'alverjas', 'Albaca', 'eneldo', 'orégano', 'romero', 'salvia', 'Papas', 'Albaca',\n",
    "    'hoja de laurel', 'eneldo', 'cebollines', 'orégano', 'tomillo', 'Espinacas', 'Albaca', 'mejorana', 'nuez moscada',\n",
    "    'orégano', 'Calabaza', 'Pimienta inglesa', 'albahaca', 'canela', 'clavos', 'jengibre', 'mostaza', 'nuez moscada',\n",
    "    'romero', 'Camote', 'Pimienta Inglesa', 'canela', 'clavos', 'nuez moscada', 'Tomates', 'Albaca', 'hoja de laurel',\n",
    "    'orégano', 'salvia', 'tomillo', 'Albaca', 'cebollines', 'eneldo',\n",
    "]))\n",
    "len(ingredients5)"
   ]
  },
  {
   "cell_type": "code",
   "execution_count": 6,
   "metadata": {
    "collapsed": false
   },
   "outputs": [
    {
     "data": {
      "text/plain": [
       "11"
      ]
     },
     "execution_count": 6,
     "metadata": {},
     "output_type": "execute_result"
    }
   ],
   "source": [
    "# http://www.directoalpaladar.com/ingredientes-y-alimentos/los-pequenos-ingredientes-de-la-cocina-sus-nutrientes-y-beneficios\n",
    "ingredients6 = set(map(lambda x: x.lower(), [\n",
    "    'Azafrán', 'Canela', 'Tomillo', 'Orégano', 'Romero', 'Perejil', 'Pimienta', 'Pimentón', 'Nuez moscada', 'Laurel',\n",
    "    'Albahaca',\n",
    "]))\n",
    "len(ingredients6)"
   ]
  },
  {
   "cell_type": "code",
   "execution_count": 7,
   "metadata": {
    "collapsed": false
   },
   "outputs": [],
   "source": [
    "ingredients = ingredients1.union(ingredients2) \\\n",
    "                          .union(ingredients3) \\\n",
    "                          .union(ingredients4) \\\n",
    "                          .union(ingredients5) \\\n",
    "                          .union(ingredients6)"
   ]
  },
  {
   "cell_type": "code",
   "execution_count": 8,
   "metadata": {
    "collapsed": false
   },
   "outputs": [
    {
     "data": {
      "text/plain": [
       "405"
      ]
     },
     "execution_count": 8,
     "metadata": {},
     "output_type": "execute_result"
    }
   ],
   "source": [
    "len(ingredients)"
   ]
  },
  {
   "cell_type": "code",
   "execution_count": 9,
   "metadata": {
    "collapsed": true
   },
   "outputs": [],
   "source": [
    "with open('data/ingredients/other_sources_spanish_ingredients.txt', 'w') as f:\n",
    "    f.write('\\n'.join(sorted(ingredients)))"
   ]
  }
 ],
 "metadata": {
  "kernelspec": {
   "display_name": "Python 3",
   "language": "python",
   "name": "python3"
  },
  "language_info": {
   "codemirror_mode": {
    "name": "ipython",
    "version": 3
   },
   "file_extension": ".py",
   "mimetype": "text/x-python",
   "name": "python",
   "nbconvert_exporter": "python",
   "pygments_lexer": "ipython3",
   "version": "3.4.3"
  }
 },
 "nbformat": 4,
 "nbformat_minor": 0
}
