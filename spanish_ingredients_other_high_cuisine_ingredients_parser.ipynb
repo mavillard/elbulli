{
 "cells": [
  {
   "cell_type": "code",
   "execution_count": 1,
   "metadata": {
    "collapsed": false
   },
   "outputs": [
    {
     "data": {
      "text/plain": [
       "58"
      ]
     },
     "execution_count": 1,
     "metadata": {},
     "output_type": "execute_result"
    }
   ],
   "source": [
    "# http://llenatudespensa.com/Catalogo/Mostrar/ingredientes-alta-cocina_57.html\n",
    "ingredients1 = set(map(lambda x: x.lower(), [\n",
    "    'Vinagre de crema balsámica clásica', 'Vinagre de crema balsámica de trufa', 'Vinagre de crema balsámica de higos',\n",
    "    'Vinagre de crema balsámica de frutos del bosque', 'Crema balsámica glaze clasica', 'Crema balsámica de limón',\n",
    "    'Vinagre de vino Pedro Ximenez', 'Vinagre de jerez solera', 'Vinagre de Jerez Macetilla',\n",
    "    'Vinagre de vino Pedro Ximenez', 'Vinagre balsamico de modena', 'Vinagre balsamico de modena',\n",
    "    'Aceite virgen extra de oliva con ceps', 'Aceite de pepitas de uva con trufa negra',\n",
    "    'Aceite de oliva virgen extra con ajo', 'Aceite de oliva virgen extra con guindilla',\n",
    "    'Aceite de oliva virgen extra con albahaca', 'Aceite de oliva virgen extra con setas', 'Aceite ahumado de haya',\n",
    "    'Tinta de calamar', 'Crema tartufata', 'Crema tartufata Blanca', 'Crema de bogavante', 'Txangurro natural',\n",
    "    'Pate de aceituna negra', 'Pate de aceituna negra', 'Confitura Naranja Dulce', 'Confitura Albaricoque',\n",
    "    'Confitura Naranja Dulce', 'Confitura Diet Albaricoque', 'Confitura Naranja Amarga', 'Confitura Cabello De Angel',\n",
    "    'Confitura de tomate rojo de la huerta', 'Cebolla confitada artesana', 'Confitura Diet Naranja Amarga',\n",
    "    'Confitura Diet Melocotón', 'Confitura Diet Fresa', 'Confitura Cereza Negra', 'Confitura Melocotón',\n",
    "    'Confitura Fresa', 'Confitura Diet Ciruela', 'Confitura Tomate', 'Confitura Arandanos',\n",
    "    'Confitura Petalos De Violeta', 'Confitura Frambuesa', 'Mermelada pimiento', 'Mermelada manzana',\n",
    "    'Mermelada cebolla', 'Tomate confitado artesano', 'Confitura Petalos De Rosa', 'Confitura Naranja Dulce',\n",
    "    'Nata Spray / Nata montada', 'Nata Cocina', 'Nata Performance', 'Nata Cocina Advantage',\n",
    "    'Nata Cocina Excellence / Nata Pasteleria', 'Mantequilla extra seca', 'Margarina Risso Ambar',\n",
    "    'Sal de vino de garnacha centenaria', 'Sal', 'Sal ahumada', 'Pimentón dulce de la Vera', 'Azafran del Jiloca',\n",
    "    'Azafran del Jiloca'\n",
    "]))\n",
    "len(ingredients1)"
   ]
  },
  {
   "cell_type": "code",
   "execution_count": 1,
   "metadata": {
    "collapsed": false
   },
   "outputs": [
    {
     "data": {
      "text/plain": [
       "75"
      ]
     },
     "execution_count": 1,
     "metadata": {},
     "output_type": "execute_result"
    }
   ],
   "source": [
    "# https://www.cocinista.es/web/es/cocina-molecular.html\n",
    "ingredients2 = set(map(lambda x: x.lower(), [\n",
    "    'Fizzy', 'Sparkys', 'Bicarbonato de sodio', 'Crémor tártaro', 'Crémor tártaro', 'Acido Cítrico', 'Acido Cítrico',\n",
    "    'Ácido Tartárico', 'Tartrol - ácido tartárico', 'Lecite', 'Glice', 'Albúmina', 'Albúmina', 'Emulsionante en pasta',\n",
    "    'Clara de huevo pasteurizada', 'Aireante en escamas', 'Sucro', 'Agar', 'Agar Agar en polvo', 'Gelatina en polvo',\n",
    "    'Lecitina de soja', 'Goma de Garrofín', 'Algin', 'Alginato de Sodio', 'Alginato de Sodio', 'Calcic',\n",
    "    'Cloruro de calcio', 'Gluco', 'Xantana', 'Goma Xantana', 'Citras', 'Lactato de Calcio', 'Lactato de Calcio',\n",
    "    'Lactato de Calcio', 'Citrato', 'Goma Xantana', 'Goma Xantana', 'Alginato de Sodio',\n",
    "    'Almidón de patata en polvo fino', 'Polvo de tilosa CMC', 'CMC', 'Goma Americana', 'Goma arábiga en polvo',\n",
    "    'Goma arábiga', 'Pectina citrus', 'Goma guar', 'Goma guar', 'Goma de Garrofín', 'Goma de Garrofín', 'Pectina',\n",
    "    'Goma Konjac', 'Goma Konjac', 'Fécula de tapioca', 'Fécula de patata', 'Almidón de maíz', 'Almidón de arroz',\n",
    "    'Goma Gellan', 'Goma Gellan', 'Gari', 'Perlas de tapioca grandes', 'Agar', 'Agar agar en polvo',\n",
    "    'Agar Agar en polvo', 'Agar Agar en polvo', 'Iota', 'Kappa', 'Carragenato kappa', 'Gellan', 'Gelatina en polvo',\n",
    "    'Metil', 'Agar agar', 'Goma de tragacanto', 'Goma tara', 'Pectina', 'Pectina citrus', 'Pectina de manzana nappage',\n",
    "    'Goma Konjac', 'Goma Konjac', 'Almidón de maíz', 'Goma Gellan', 'Goma Gellan', 'Agar agar', 'Carragenato de Sodio',\n",
    "    'Lyoframbuesa (frambuesa liofilizada)', 'Lyogrosella (grosella liofilizada)', 'Lyofresa (fresas liofilizadas)',\n",
    "    'Lyomango (mango liofilizado)', 'Yopol', 'Sparkys', 'Crumiel', 'Transglutaminasa EB', 'Glicerina', 'Malto',\n",
    "    'Lactosa', 'Goma de tragacanto', 'Colorante verde natural', 'Isomalt', 'Acido Cítrico', 'Edulcorante con sucralosa',\n",
    "    'Eritritol', 'Sorbitol al 70%', 'Ácido ascórbico', 'Citras', 'Acido Cítrico', 'Ácido ascórbico', 'Dextrosa',\n",
    "    'Maltodextrina', 'Colorante oro'\n",
    "]))\n",
    "len(ingredients2)"
   ]
  },
  {
   "cell_type": "code",
   "execution_count": 2,
   "metadata": {
    "collapsed": false
   },
   "outputs": [
    {
     "data": {
      "text/plain": [
       "4"
      ]
     },
     "execution_count": 2,
     "metadata": {},
     "output_type": "execute_result"
    }
   ],
   "source": [
    "# http://www.cocinasemana.com/ingredientes/articulo/gastronomia-molecular/22627\n",
    "ingredients3 = set(map(lambda x: x.lower(), [\n",
    "    'Alginato de sodio', 'Azúcar efervescente', 'Xatana', 'Nitrógeno líquido',\n",
    "]))\n",
    "len(ingredients3)"
   ]
  },
  {
   "cell_type": "code",
   "execution_count": null,
   "metadata": {
    "collapsed": true
   },
   "outputs": [],
   "source": []
  }
 ],
 "metadata": {
  "kernelspec": {
   "display_name": "Python 3",
   "language": "python",
   "name": "python3"
  },
  "language_info": {
   "codemirror_mode": {
    "name": "ipython",
    "version": 3
   },
   "file_extension": ".py",
   "mimetype": "text/x-python",
   "name": "python",
   "nbconvert_exporter": "python",
   "pygments_lexer": "ipython3",
   "version": "3.4.3"
  }
 },
 "nbformat": 4,
 "nbformat_minor": 0
}
