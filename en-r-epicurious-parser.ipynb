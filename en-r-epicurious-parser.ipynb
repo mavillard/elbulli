{
 "cells": [
  {
   "cell_type": "code",
   "execution_count": 1,
   "metadata": {
    "collapsed": false
   },
   "outputs": [],
   "source": [
    "import os\n",
    "import pickle\n",
    "from collections import Counter\n",
    "from collections import defaultdict\n",
    "\n",
    "import networkx as nx\n",
    "import nltk\n",
    "from bs4 import BeautifulSoup\n",
    "from nltk.corpus import stopwords\n",
    "from nltk.util import ngrams\n",
    "from pymongo import MongoClient\n",
    "from pymongo.errors import BulkWriteError"
   ]
  },
  {
   "cell_type": "code",
   "execution_count": 2,
   "metadata": {
    "collapsed": true
   },
   "outputs": [],
   "source": [
    "client = MongoClient()\n",
    "db = client.recipes"
   ]
  },
  {
   "cell_type": "markdown",
   "metadata": {},
   "source": [
    "# Parser"
   ]
  },
  {
   "cell_type": "code",
   "execution_count": 3,
   "metadata": {
    "collapsed": true
   },
   "outputs": [],
   "source": [
    "english_stopwords = set(stopwords.words('english'))"
   ]
  },
  {
   "cell_type": "code",
   "execution_count": 4,
   "metadata": {
    "collapsed": true
   },
   "outputs": [],
   "source": [
    "all_ingredients_graph = nx.read_gexf('data/english_ingredients_lexicon_5.gexf')"
   ]
  },
  {
   "cell_type": "code",
   "execution_count": 5,
   "metadata": {
    "collapsed": true
   },
   "outputs": [],
   "source": [
    "ingredients = all_ingredients_graph.nodes()\n",
    "ingredients = [i for i in ingredients if i not in english_stopwords]"
   ]
  },
  {
   "cell_type": "code",
   "execution_count": 6,
   "metadata": {
    "collapsed": false
   },
   "outputs": [
    {
     "data": {
      "text/plain": [
       "['mustard sauce cress',\n",
       " 'corianders leaf',\n",
       " 'wild raspberries bushes',\n",
       " 'quarks',\n",
       " 'bean curds mayonnaise',\n",
       " 'spanish cheese',\n",
       " 'gras pea',\n",
       " 'honey acetum dressings',\n",
       " 'aduki moth bean',\n",
       " 'citruss paradisis peels']"
      ]
     },
     "execution_count": 6,
     "metadata": {},
     "output_type": "execute_result"
    }
   ],
   "source": [
    "ingredients[:10]"
   ]
  },
  {
   "cell_type": "code",
   "execution_count": 7,
   "metadata": {
    "collapsed": true
   },
   "outputs": [],
   "source": [
    "all_techniques_graph = nx.read_gexf('data/english_techniques_lexicon_5.gexf')"
   ]
  },
  {
   "cell_type": "code",
   "execution_count": 8,
   "metadata": {
    "collapsed": false
   },
   "outputs": [],
   "source": [
    "techniques = all_techniques_graph.nodes()\n",
    "techniques = [t for t in techniques if t not in english_stopwords]"
   ]
  },
  {
   "cell_type": "code",
   "execution_count": 9,
   "metadata": {
    "collapsed": false
   },
   "outputs": [
    {
     "data": {
      "text/plain": [
       "['vacuum filling',\n",
       " 'microwave oven',\n",
       " 'nitrogen',\n",
       " 'bain marie',\n",
       " 'air cook frying',\n",
       " 'deglazed',\n",
       " 'chop',\n",
       " 'barbecue partial cooking',\n",
       " 'chill',\n",
       " 'food drying roast']"
      ]
     },
     "execution_count": 9,
     "metadata": {},
     "output_type": "execute_result"
    }
   ],
   "source": [
    "techniques[:10]"
   ]
  },
  {
   "cell_type": "code",
   "execution_count": 10,
   "metadata": {
    "collapsed": true
   },
   "outputs": [],
   "source": [
    "def trim(s):\n",
    "    return ' '.join(s.split())"
   ]
  },
  {
   "cell_type": "code",
   "execution_count": null,
   "metadata": {
    "collapsed": true
   },
   "outputs": [],
   "source": [
    "def my_ngrams(s):\n",
    "    ngrms = []\n",
    "    tokens = nltk.word_tokenize(s)\n",
    "    for i in range(1, len(tokens) + 1):\n",
    "        ngrms.extend(ngrams(tokens, i))\n",
    "    return list(map(lambda x: ' '.join(x), ngrms))"
   ]
  },
  {
   "cell_type": "code",
   "execution_count": null,
   "metadata": {
    "collapsed": false
   },
   "outputs": [],
   "source": [
    "%%time\n",
    "\n",
    "def insert_documents(docs):\n",
    "    try:\n",
    "        db.epicurious_raw.insert_many(docs, ordered=False)\n",
    "    except BulkWriteError as e:\n",
    "        pass\n",
    "\n",
    "db.epicurious_raw.drop()\n",
    "\n",
    "count = 0\n",
    "rows = []\n",
    "\n",
    "# path = 'data/recipes/epicurious/'\n",
    "path = '/media/antonio/WD1T/datasets-recipes/epicurious/'\n",
    "for folder_number in sorted(map(int, os.listdir(path))):\n",
    "    folder = str(folder_number)\n",
    "    for filename_number in sorted(map(lambda x: int(x[:-5]), os.listdir(path + folder))):\n",
    "        filename = str(filename_number) + '.html'\n",
    "        with open(path + folder + '/' + filename) as f:\n",
    "            row = {\n",
    "                '_id': '',\n",
    "                'title': '',\n",
    "                'year': 0,\n",
    "                'ingredients': set(),\n",
    "                'techniques': set(),\n",
    "            }\n",
    "            soup = BeautifulSoup(f.read(), 'html.parser')\n",
    "            year = soup.select('meta[itemprop=datePublished]')[0]['content'].split('-')[0]\n",
    "            if not year:\n",
    "                continue\n",
    "            ingreds = set()\n",
    "            elems = soup.select(\n",
    "                'div.recipe-content div.ingredients-info ul.ingredients li.ingredient'\n",
    "            )\n",
    "            ingrs = list(map(lambda x: trim(x.text.lower()), elems))\n",
    "            for ingr in ingrs:\n",
    "                ngrms = my_ngrams(ingr)\n",
    "                ngrms.reverse()\n",
    "                for ngrm in ngrms:\n",
    "                    if ngrm in ingredients:\n",
    "                        ingreds.add(ngrm)\n",
    "                        all_ingredients_graph.node[ngrm]['count'] += 1\n",
    "                        break\n",
    "            if not ingreds:\n",
    "                continue\n",
    "            techns = set()\n",
    "            elems = soup.select(\n",
    "                'div.recipe-content div.instructions ol.preparation-steps li.preparation-step'\n",
    "            )\n",
    "            steps = list(map(lambda x: trim(x.text.lower()), elems))\n",
    "            for step in steps:\n",
    "                used_ngrams = set()\n",
    "                ngrms = my_ngrams(step)\n",
    "                ngrms.reverse()\n",
    "                for ngrm in ngrms:\n",
    "                    if ngrm in techniques and all(map(lambda x: ngrm not in x, used_ngrams)):\n",
    "                        techns.add(ngrm)\n",
    "                        all_techniques_graph.node[ngrm]['count'] += 1\n",
    "                        used_ngrams.add(ngrm)\n",
    "            if not techns:\n",
    "                continue\n",
    "            ide = str(filename_number)\n",
    "            title = soup.select('meta[property=og:title]')[0]['content']\n",
    "            row['_id'] = ide\n",
    "            row['title'] = title\n",
    "            row['year'] = year\n",
    "            row['ingredients'] = list(ingreds)\n",
    "            row['techniques'] = list(techns)\n",
    "            rows.append(row)\n",
    "\n",
    "            count += 1\n",
    "            if count % 100 == 0:\n",
    "                insert_documents(rows)\n",
    "                rows = []\n",
    "                print(count, 'rows inserted')\n",
    "insert_documents(rows)\n",
    "rows = []\n",
    "print(count, 'rows inserted')"
   ]
  },
  {
   "cell_type": "code",
   "execution_count": null,
   "metadata": {
    "collapsed": true
   },
   "outputs": [],
   "source": []
  },
  {
   "cell_type": "code",
   "execution_count": null,
   "metadata": {
    "collapsed": true
   },
   "outputs": [],
   "source": []
  },
  {
   "cell_type": "code",
   "execution_count": null,
   "metadata": {
    "collapsed": true
   },
   "outputs": [],
   "source": []
  },
  {
   "cell_type": "code",
   "execution_count": null,
   "metadata": {
    "collapsed": true
   },
   "outputs": [],
   "source": []
  }
 ],
 "metadata": {
  "kernelspec": {
   "display_name": "Python 3",
   "language": "python",
   "name": "python3"
  },
  "language_info": {
   "codemirror_mode": {
    "name": "ipython",
    "version": 3
   },
   "file_extension": ".py",
   "mimetype": "text/x-python",
   "name": "python",
   "nbconvert_exporter": "python",
   "pygments_lexer": "ipython3",
   "version": "3.4.3"
  }
 },
 "nbformat": 4,
 "nbformat_minor": 0
}
