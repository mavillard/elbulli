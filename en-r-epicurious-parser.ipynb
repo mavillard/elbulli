{
 "cells": [
  {
   "cell_type": "code",
   "execution_count": 1,
   "metadata": {
    "collapsed": false
   },
   "outputs": [],
   "source": [
    "import os\n",
    "import pickle\n",
    "from collections import Counter\n",
    "from collections import defaultdict\n",
    "\n",
    "import networkx as nx\n",
    "import nltk\n",
    "from bs4 import BeautifulSoup\n",
    "from nltk.corpus import stopwords\n",
    "from nltk.util import ngrams\n",
    "from pymongo import MongoClient\n",
    "from pymongo.errors import BulkWriteError"
   ]
  },
  {
   "cell_type": "code",
   "execution_count": 2,
   "metadata": {
    "collapsed": true
   },
   "outputs": [],
   "source": [
    "client = MongoClient()\n",
    "db = client.recipes"
   ]
  },
  {
   "cell_type": "markdown",
   "metadata": {},
   "source": [
    "# Parser"
   ]
  },
  {
   "cell_type": "code",
   "execution_count": 3,
   "metadata": {
    "collapsed": false
   },
   "outputs": [],
   "source": [
    "english_stopwords = set(stopwords.words('english'))"
   ]
  },
  {
   "cell_type": "code",
   "execution_count": 4,
   "metadata": {
    "collapsed": true
   },
   "outputs": [],
   "source": [
    "all_ingredients_graph = nx.read_gexf('data/english_ingredients_lexicon_5.gexf')"
   ]
  },
  {
   "cell_type": "code",
   "execution_count": 5,
   "metadata": {
    "collapsed": false
   },
   "outputs": [],
   "source": [
    "ingredients = all_ingredients_graph.nodes()\n",
    "ingredients = [i for i in ingredients if i not in english_stopwords]"
   ]
  },
  {
   "cell_type": "code",
   "execution_count": 6,
   "metadata": {
    "collapsed": false
   },
   "outputs": [
    {
     "data": {
      "text/plain": [
       "['yelloweye bean',\n",
       " 'date sirups',\n",
       " 'blackberry bush passover wines',\n",
       " 'mulato chile',\n",
       " 'vanillas extracts gelatoes',\n",
       " 'chantilly cream rice',\n",
       " 'peanuts oil',\n",
       " 'non dairy milks',\n",
       " 'low-fat milks',\n",
       " 'almonds cordial']"
      ]
     },
     "execution_count": 6,
     "metadata": {},
     "output_type": "execute_result"
    }
   ],
   "source": [
    "ingredients[:10]"
   ]
  },
  {
   "cell_type": "code",
   "execution_count": 7,
   "metadata": {
    "collapsed": true
   },
   "outputs": [],
   "source": [
    "all_techniques_graph = nx.read_gexf('data/english_techniques_lexicon_5.gexf')"
   ]
  },
  {
   "cell_type": "code",
   "execution_count": 8,
   "metadata": {
    "collapsed": false
   },
   "outputs": [],
   "source": [
    "techniques = all_techniques_graph.nodes()\n",
    "techniques = [t for t in techniques if t not in english_stopwords]"
   ]
  },
  {
   "cell_type": "code",
   "execution_count": 9,
   "metadata": {
    "collapsed": false
   },
   "outputs": [
    {
     "data": {
      "text/plain": [
       "['broasting',\n",
       " 'low temperature',\n",
       " 'boiling rice',\n",
       " 'rolled double boiled',\n",
       " 'soften',\n",
       " 'knock',\n",
       " 'iced the puck',\n",
       " 'pressured',\n",
       " 'planking',\n",
       " 'dough sheet']"
      ]
     },
     "execution_count": 9,
     "metadata": {},
     "output_type": "execute_result"
    }
   ],
   "source": [
    "techniques[:10]"
   ]
  },
  {
   "cell_type": "code",
   "execution_count": 10,
   "metadata": {
    "collapsed": true
   },
   "outputs": [],
   "source": [
    "def trim(s):\n",
    "    return ' '.join(s.split())"
   ]
  },
  {
   "cell_type": "code",
   "execution_count": 11,
   "metadata": {
    "collapsed": true
   },
   "outputs": [],
   "source": [
    "def my_ngrams(s):\n",
    "    ngrms = []\n",
    "    tokens = nltk.word_tokenize(s)\n",
    "    for i in range(1, len(tokens) + 1):\n",
    "        ngrms.extend(ngrams(tokens, i))\n",
    "    return list(map(lambda x: ' '.join(x), ngrms))"
   ]
  },
  {
   "cell_type": "code",
   "execution_count": 12,
   "metadata": {
    "collapsed": false
   },
   "outputs": [],
   "source": [
    "# # %%time\n",
    "\n",
    "# def insert_documents(docs):\n",
    "#     try:\n",
    "#         db.epicurious_raw.insert_many(docs, ordered=False)\n",
    "#     except BulkWriteError as e:\n",
    "#         pass\n",
    "\n",
    "# # db.epicurious_raw.drop()\n",
    "\n",
    "# count = 0\n",
    "# rows = []\n",
    "\n",
    "# # path = 'data/recipes/epicurious/'\n",
    "# path = '/media/antonio/WD1T/datasets-recipes/epicurious/'\n",
    "# for folder_number in sorted(map(int, os.listdir(path))):\n",
    "#     folder = str(folder_number)\n",
    "#     for filename_number in sorted(map(lambda x: int(x[:-5]), os.listdir(path + folder))):\n",
    "#         filename = str(filename_number) + '.html'\n",
    "#         with open(path + folder + '/' + filename) as f:\n",
    "#             row = {\n",
    "#                 '_id': '',\n",
    "#                 'title': '',\n",
    "#                 'year': 0,\n",
    "#                 'ingredients': set(),\n",
    "#                 'techniques': set(),\n",
    "#             }\n",
    "#             soup = BeautifulSoup(f.read(), 'html.parser')\n",
    "#             year = 0\n",
    "#             date = soup.select('meta[itemprop=datePublished]')\n",
    "#             if date:\n",
    "#                 year = date[0]['content'].split('-')[0]\n",
    "#             if not year:\n",
    "#                 continue\n",
    "#             ingreds = set()\n",
    "#             elems = soup.select(\n",
    "#                 'div.recipe-content div.ingredients-info ul.ingredients li.ingredient'\n",
    "#             )\n",
    "#             ingrs = list(map(lambda x: trim(x.text.lower()), elems))\n",
    "#             for ingr in ingrs:\n",
    "#                 ngrms = my_ngrams(ingr)\n",
    "#                 ngrms.reverse()\n",
    "#                 for ngrm in ngrms:\n",
    "#                     if ngrm in ingredients:\n",
    "#                         ingreds.add(ngrm)\n",
    "#                         # all_ingredients_graph.node[ngrm]['count'] += 1\n",
    "#                         break\n",
    "#             if not ingreds:\n",
    "#                 continue\n",
    "#             techns = set()\n",
    "#             elems = soup.select(\n",
    "#                 'div.recipe-content div.instructions ol.preparation-steps li.preparation-step'\n",
    "#             )\n",
    "#             steps = list(map(lambda x: trim(x.text.lower()), elems))\n",
    "#             for step in steps:\n",
    "#                 used_ngrams = set()\n",
    "#                 ngrms = my_ngrams(step)\n",
    "#                 ngrms.reverse()\n",
    "#                 for ngrm in ngrms:\n",
    "#                     if ngrm in techniques and all(map(lambda x: ngrm not in x, used_ngrams)):\n",
    "#                         techns.add(ngrm)\n",
    "#                         # all_techniques_graph.node[ngrm]['count'] += 1\n",
    "#                         used_ngrams.add(ngrm)\n",
    "#             if not techns:\n",
    "#                 continue\n",
    "#             ide = str(filename_number)\n",
    "#             title = soup.select('meta[property=og:title]')[0]['content']\n",
    "#             row['_id'] = ide\n",
    "#             row['title'] = title\n",
    "#             row['year'] = year\n",
    "#             row['ingredients'] = list(ingreds)\n",
    "#             row['techniques'] = list(techns)\n",
    "#             rows.append(row)\n",
    "\n",
    "#             count += 1\n",
    "#             if count % 100 == 0:\n",
    "#                 insert_documents(rows)\n",
    "#                 rows = []\n",
    "#                 print(count, 'rows inserted')\n",
    "# insert_documents(rows)\n",
    "# rows = []\n",
    "# print(count, 'rows inserted')"
   ]
  },
  {
   "cell_type": "code",
   "execution_count": 13,
   "metadata": {
    "collapsed": false
   },
   "outputs": [
    {
     "data": {
      "text/plain": [
       "24324"
      ]
     },
     "execution_count": 13,
     "metadata": {},
     "output_type": "execute_result"
    }
   ],
   "source": [
    "db.epicurious_raw.count()"
   ]
  },
  {
   "cell_type": "code",
   "execution_count": 14,
   "metadata": {
    "collapsed": false
   },
   "outputs": [],
   "source": [
    "for r in db.epicurious_raw.find():\n",
    "    for i in r['ingredients']:\n",
    "        all_ingredients_graph.node[i]['count'] += 1\n",
    "    for t in r['techniques']:\n",
    "        all_techniques_graph.node[t]['count'] += 1"
   ]
  },
  {
   "cell_type": "code",
   "execution_count": 15,
   "metadata": {
    "collapsed": false
   },
   "outputs": [],
   "source": [
    "nx.write_gexf(all_ingredients_graph, 'data/epicurious_ingredients_lexicon_1.gexf')"
   ]
  },
  {
   "cell_type": "code",
   "execution_count": 16,
   "metadata": {
    "collapsed": true
   },
   "outputs": [],
   "source": [
    "nx.write_gexf(all_techniques_graph, 'data/epicurious_techniques_lexicon_1.gexf')"
   ]
  },
  {
   "cell_type": "code",
   "execution_count": 17,
   "metadata": {
    "collapsed": true
   },
   "outputs": [],
   "source": [
    "ingredients_graph = nx.read_gexf('data/epicurious_ingredients_lexicon_1.gexf')"
   ]
  },
  {
   "cell_type": "code",
   "execution_count": 18,
   "metadata": {
    "collapsed": false
   },
   "outputs": [],
   "source": [
    "techniques_graph = nx.read_gexf('data/epicurious_techniques_lexicon_1.gexf')"
   ]
  },
  {
   "cell_type": "markdown",
   "metadata": {},
   "source": [
    "# Only ingredients and techniques found in Epicurious's recipes"
   ]
  },
  {
   "cell_type": "code",
   "execution_count": 19,
   "metadata": {
    "collapsed": false
   },
   "outputs": [],
   "source": [
    "def add_edge(g, n1, n2):\n",
    "    if n1 != n2 and not nx.has_path(g, n1, n2):\n",
    "        g.add_edge(n1, n2)"
   ]
  },
  {
   "cell_type": "code",
   "execution_count": 20,
   "metadata": {
    "collapsed": false
   },
   "outputs": [],
   "source": [
    "def del_node_and_link_neighbors(g, n):\n",
    "    neighbors = g.neighbors(n)\n",
    "    g.remove_node(n)\n",
    "    if len(neighbors) > 1:\n",
    "        add_edge(g, neighbors[0], neighbors[1])"
   ]
  },
  {
   "cell_type": "code",
   "execution_count": 21,
   "metadata": {
    "collapsed": false
   },
   "outputs": [],
   "source": [
    "for n in ingredients_graph.nodes():\n",
    "    if ingredients_graph.node[n]['count'] == 0:\n",
    "        del_node_and_link_neighbors(ingredients_graph, n)"
   ]
  },
  {
   "cell_type": "code",
   "execution_count": 22,
   "metadata": {
    "collapsed": false
   },
   "outputs": [
    {
     "data": {
      "text/plain": [
       "2961"
      ]
     },
     "execution_count": 22,
     "metadata": {},
     "output_type": "execute_result"
    }
   ],
   "source": [
    "len(ingredients_graph)"
   ]
  },
  {
   "cell_type": "code",
   "execution_count": 23,
   "metadata": {
    "collapsed": false
   },
   "outputs": [
    {
     "data": {
      "text/plain": [
       "496"
      ]
     },
     "execution_count": 23,
     "metadata": {},
     "output_type": "execute_result"
    }
   ],
   "source": [
    "ingredients_graph.number_of_edges()"
   ]
  },
  {
   "cell_type": "code",
   "execution_count": 24,
   "metadata": {
    "collapsed": false
   },
   "outputs": [
    {
     "data": {
      "text/plain": [
       "2465"
      ]
     },
     "execution_count": 24,
     "metadata": {},
     "output_type": "execute_result"
    }
   ],
   "source": [
    "nx.number_connected_components(ingredients_graph)"
   ]
  },
  {
   "cell_type": "code",
   "execution_count": 25,
   "metadata": {
    "collapsed": true
   },
   "outputs": [],
   "source": [
    "nx.write_gexf(ingredients_graph, 'data/epicurious_ingredients_lexicon_2.gexf')"
   ]
  },
  {
   "cell_type": "code",
   "execution_count": 26,
   "metadata": {
    "collapsed": true
   },
   "outputs": [],
   "source": [
    "ingredients_graph = nx.read_gexf('data/epicurious_ingredients_lexicon_2.gexf')"
   ]
  },
  {
   "cell_type": "code",
   "execution_count": 27,
   "metadata": {
    "collapsed": true
   },
   "outputs": [],
   "source": [
    "for n in techniques_graph.nodes():\n",
    "    if techniques_graph.node[n]['count'] == 0:\n",
    "        del_node_and_link_neighbors(techniques_graph, n)"
   ]
  },
  {
   "cell_type": "code",
   "execution_count": 28,
   "metadata": {
    "collapsed": false
   },
   "outputs": [
    {
     "data": {
      "text/plain": [
       "335"
      ]
     },
     "execution_count": 28,
     "metadata": {},
     "output_type": "execute_result"
    }
   ],
   "source": [
    "len(techniques_graph)"
   ]
  },
  {
   "cell_type": "code",
   "execution_count": 29,
   "metadata": {
    "collapsed": false
   },
   "outputs": [
    {
     "data": {
      "text/plain": [
       "159"
      ]
     },
     "execution_count": 29,
     "metadata": {},
     "output_type": "execute_result"
    }
   ],
   "source": [
    "techniques_graph.number_of_edges()"
   ]
  },
  {
   "cell_type": "code",
   "execution_count": 30,
   "metadata": {
    "collapsed": false
   },
   "outputs": [
    {
     "data": {
      "text/plain": [
       "176"
      ]
     },
     "execution_count": 30,
     "metadata": {},
     "output_type": "execute_result"
    }
   ],
   "source": [
    "nx.number_connected_components(techniques_graph)"
   ]
  },
  {
   "cell_type": "code",
   "execution_count": 31,
   "metadata": {
    "collapsed": true
   },
   "outputs": [],
   "source": [
    "nx.write_gexf(techniques_graph, 'data/epicurious_techniques_lexicon_2.gexf')"
   ]
  },
  {
   "cell_type": "code",
   "execution_count": 32,
   "metadata": {
    "collapsed": true
   },
   "outputs": [],
   "source": [
    "techniques_graph = nx.read_gexf('data/epicurious_techniques_lexicon_2.gexf')"
   ]
  },
  {
   "cell_type": "markdown",
   "metadata": {},
   "source": [
    "# Representatives"
   ]
  },
  {
   "cell_type": "code",
   "execution_count": 33,
   "metadata": {
    "collapsed": true
   },
   "outputs": [],
   "source": [
    "# def value(g, n, r):\n",
    "#     ms = [m for m, rels in g[n].items() for rel in rels.values() if rel['label'] == r]\n",
    "#     return ms[0]\n",
    "\n",
    "def value(g, n, r):\n",
    "    ms = [y for x, y, d in g.edges_iter(data=True) if x == n and d['label'] == r]\n",
    "    return ms[0]"
   ]
  },
  {
   "cell_type": "code",
   "execution_count": 34,
   "metadata": {
    "collapsed": true
   },
   "outputs": [],
   "source": [
    "ingredients_multidigraph = nx.MultiDiGraph()\n",
    "\n",
    "for syns in nx.connected_components(ingredients_graph):\n",
    "    max_ingr = ''\n",
    "    max_count = 0\n",
    "    total_count = 0\n",
    "    for ingr in syns:\n",
    "        dat = ingredients_graph.node[ingr]\n",
    "        if dat['count'] > max_count:\n",
    "            max_ingr = ingr\n",
    "            max_count = dat['count']\n",
    "        total_count += dat['count']\n",
    "    ingredients_multidigraph.add_node(max_ingr, {'repr_count': total_count})\n",
    "    for ingr in syns:\n",
    "        ingredients_multidigraph.add_node(ingr, ingredients_graph.node[ingr])\n",
    "        ingredients_multidigraph.add_edge(ingr, max_ingr, label='repr')"
   ]
  },
  {
   "cell_type": "code",
   "execution_count": 35,
   "metadata": {
    "collapsed": false
   },
   "outputs": [
    {
     "data": {
      "text/plain": [
       "2961"
      ]
     },
     "execution_count": 35,
     "metadata": {},
     "output_type": "execute_result"
    }
   ],
   "source": [
    "len(ingredients_multidigraph)"
   ]
  },
  {
   "cell_type": "code",
   "execution_count": 36,
   "metadata": {
    "collapsed": false
   },
   "outputs": [
    {
     "data": {
      "text/plain": [
       "2961"
      ]
     },
     "execution_count": 36,
     "metadata": {},
     "output_type": "execute_result"
    }
   ],
   "source": [
    "ingredients_multidigraph.number_of_edges()"
   ]
  },
  {
   "cell_type": "code",
   "execution_count": 37,
   "metadata": {
    "collapsed": true
   },
   "outputs": [],
   "source": [
    "nx.write_gexf(ingredients_multidigraph, 'data/epicurious_ingredients_lexicon_3.gexf')"
   ]
  },
  {
   "cell_type": "code",
   "execution_count": 38,
   "metadata": {
    "collapsed": true
   },
   "outputs": [],
   "source": [
    "ingredients_multidigraph = nx.read_gexf('data/epicurious_ingredients_lexicon_3.gexf')\n",
    "ingredients_multidigraph = nx.MultiDiGraph(ingredients_multidigraph)"
   ]
  },
  {
   "cell_type": "code",
   "execution_count": 39,
   "metadata": {
    "collapsed": true
   },
   "outputs": [],
   "source": [
    "techniques_multidigraph = nx.MultiDiGraph()\n",
    "\n",
    "for syns in nx.connected_components(techniques_graph):\n",
    "    max_tech = ''\n",
    "    max_count = 0\n",
    "    total_count = 0\n",
    "    for tech in syns:\n",
    "        dat = techniques_graph.node[tech]\n",
    "        if dat['count'] > max_count:\n",
    "            max_tech = tech\n",
    "            max_count = dat['count']\n",
    "        total_count += dat['count']\n",
    "    techniques_multidigraph.add_node(max_tech, {'repr_count': total_count})\n",
    "    for tech in syns:\n",
    "        techniques_multidigraph.add_node(tech, techniques_graph.node[tech])\n",
    "        techniques_multidigraph.add_edge(tech, max_tech, label='repr')"
   ]
  },
  {
   "cell_type": "code",
   "execution_count": 40,
   "metadata": {
    "collapsed": false
   },
   "outputs": [
    {
     "data": {
      "text/plain": [
       "335"
      ]
     },
     "execution_count": 40,
     "metadata": {},
     "output_type": "execute_result"
    }
   ],
   "source": [
    "len(techniques_multidigraph)"
   ]
  },
  {
   "cell_type": "code",
   "execution_count": 41,
   "metadata": {
    "collapsed": false
   },
   "outputs": [
    {
     "data": {
      "text/plain": [
       "335"
      ]
     },
     "execution_count": 41,
     "metadata": {},
     "output_type": "execute_result"
    }
   ],
   "source": [
    "techniques_multidigraph.number_of_edges()"
   ]
  },
  {
   "cell_type": "code",
   "execution_count": 42,
   "metadata": {
    "collapsed": true
   },
   "outputs": [],
   "source": [
    "nx.write_gexf(techniques_multidigraph, 'data/epicurious_techniques_lexicon_3.gexf')"
   ]
  },
  {
   "cell_type": "code",
   "execution_count": 43,
   "metadata": {
    "collapsed": true
   },
   "outputs": [],
   "source": [
    "techniques_multidigraph = nx.read_gexf('data/epicurious_techniques_lexicon_3.gexf')\n",
    "techniques_multidigraph = nx.MultiDiGraph(techniques_multidigraph)"
   ]
  },
  {
   "cell_type": "markdown",
   "metadata": {},
   "source": [
    "# No superclasses, types of ingredients or cuisine"
   ]
  },
  {
   "cell_type": "markdown",
   "metadata": {},
   "source": [
    "# More databases"
   ]
  },
  {
   "cell_type": "code",
   "execution_count": 44,
   "metadata": {
    "collapsed": false
   },
   "outputs": [
    {
     "name": "stdout",
     "output_type": "stream",
     "text": [
      "True\n",
      "extra-virgin olive oil\n",
      "\n",
      "True\n",
      "simmer\n"
     ]
    }
   ],
   "source": [
    "# Example\n",
    "print('extra virgin olive oil' in ingredients_multidigraph)\n",
    "print(value(ingredients_multidigraph, 'extra virgin olive oil', 'repr'))\n",
    "print()\n",
    "print('simmering' in techniques_multidigraph)\n",
    "print(value(techniques_multidigraph, 'simmering', 'repr'))"
   ]
  },
  {
   "cell_type": "code",
   "execution_count": 46,
   "metadata": {
    "collapsed": false
   },
   "outputs": [],
   "source": [
    "# %%time\n",
    "\n",
    "# db.epicurious_representatives.drop() # representative ingredients and techniques\n",
    "\n",
    "# count = 0\n",
    "# representatives_rows = []\n",
    "\n",
    "# for r in db.epicurious_raw.find():\n",
    "#     row = dict(r)\n",
    "#     row['ingredients'] = [value(ingredients_multidigraph, x, 'repr') for x in r['ingredients']]\n",
    "#     row['techniques'] = [value(techniques_multidigraph, x, 'repr') for x in r['techniques']]\n",
    "#     representatives_rows.append(row)\n",
    "\n",
    "#     count += 1\n",
    "#     if count % 100 == 0:\n",
    "#         db.epicurious_representatives.insert_many(representatives_rows)\n",
    "#         representatives_rows = []\n",
    "#         print(count, 'rows inserted')\n",
    "# db.epicurious_representatives.insert_many(representatives_rows)\n",
    "# representatives_rows = []\n",
    "# print(count, 'rows inserted')\n",
    "    \n",
    "# # CPU times: user 18min 14s, sys: 928 ms, total: 18min 15s\n",
    "# # Wall time: 18min 36s"
   ]
  },
  {
   "cell_type": "code",
   "execution_count": null,
   "metadata": {
    "collapsed": true
   },
   "outputs": [],
   "source": []
  }
 ],
 "metadata": {
  "kernelspec": {
   "display_name": "Python 3",
   "language": "python",
   "name": "python3"
  },
  "language_info": {
   "codemirror_mode": {
    "name": "ipython",
    "version": 3
   },
   "file_extension": ".py",
   "mimetype": "text/x-python",
   "name": "python",
   "nbconvert_exporter": "python",
   "pygments_lexer": "ipython3",
   "version": "3.4.3"
  }
 },
 "nbformat": 4,
 "nbformat_minor": 0
}
