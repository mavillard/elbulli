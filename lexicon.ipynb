{
 "cells": [
  {
   "cell_type": "code",
   "execution_count": 2,
   "metadata": {
    "collapsed": true
   },
   "outputs": [],
   "source": [
    "import pickle\n",
    "\n",
    "from pymongo import MongoClient"
   ]
  },
  {
   "cell_type": "code",
   "execution_count": 3,
   "metadata": {
    "collapsed": true
   },
   "outputs": [],
   "source": [
    "client = MongoClient()\n",
    "client.drop_database('lexicon')\n",
    "db = client.lexicon"
   ]
  },
  {
   "cell_type": "code",
   "execution_count": 4,
   "metadata": {
    "collapsed": false
   },
   "outputs": [
    {
     "name": "stdout",
     "output_type": "stream",
     "text": [
      "CPU times: user 11.8 s, sys: 0 ns, total: 11.8 s\n",
      "Wall time: 19.9 s\n"
     ]
    }
   ],
   "source": [
    "%%time\n",
    "\n",
    "import csv\n",
    "\n",
    "with open('data/sp_lexicon.csv') as f:\n",
    "    reader = csv.reader(\n",
    "        f,\n",
    "        delimiter=' ',\n",
    "    )\n",
    "    docs = []\n",
    "    count = 0\n",
    "    for row in reader:\n",
    "        for i in range(1, len(row[1:]), 2):\n",
    "            entry = {}\n",
    "            entry['flexion'] = row[0]\n",
    "            entry['lemma'] = row[i]\n",
    "            entry['eagle'] = row[i+1]\n",
    "            docs.append(entry)\n",
    "            count += 1\n",
    "        if count % 1000 == 0:\n",
    "            db.es_lexicon.insert_many(docs)\n",
    "            docs = []"
   ]
  },
  {
   "cell_type": "code",
   "execution_count": null,
   "metadata": {
    "collapsed": true
   },
   "outputs": [],
   "source": [
    "def add_es_ingredient(ingredient):\n",
    "    #ingredient tiene format \"salsa de soja o salsa de soya\" -> esto no puede ir en las funciones clean\n",
    "    #pq entonces se pierde la info de que son ingredientes sinonimos\n",
    "    #puede estar en singular o plurar\n",
    "    #hay que lematizar la expresion (ingredient) completa, eliminar preps, arts... segun mi criterio\n",
    "    #hay que guardar todas las posibles variantes del ingredient y su lematizacion\n",
    "    #guardar esta funcion en un obj pickle y \"exportarla\" donde sea necesario"
   ]
  }
 ],
 "metadata": {
  "kernelspec": {
   "display_name": "Python 3",
   "language": "python",
   "name": "python3"
  },
  "language_info": {
   "codemirror_mode": {
    "name": "ipython",
    "version": 3
   },
   "file_extension": ".py",
   "mimetype": "text/x-python",
   "name": "python",
   "nbconvert_exporter": "python",
   "pygments_lexer": "ipython3",
   "version": "3.4.3"
  }
 },
 "nbformat": 4,
 "nbformat_minor": 0
}
