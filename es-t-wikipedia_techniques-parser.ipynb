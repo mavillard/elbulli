{
 "cells": [
  {
   "cell_type": "code",
   "execution_count": 1,
   "metadata": {
    "collapsed": false
   },
   "outputs": [],
   "source": [
    "from bs4 import BeautifulSoup"
   ]
  },
  {
   "cell_type": "code",
   "execution_count": 2,
   "metadata": {
    "collapsed": false
   },
   "outputs": [],
   "source": [
    "def trim(s):\n",
    "    return ' '.join(s.split())"
   ]
  },
  {
   "cell_type": "code",
   "execution_count": 3,
   "metadata": {
    "collapsed": false
   },
   "outputs": [],
   "source": [
    "def clean(l):\n",
    "    r = []\n",
    "    for e in l:\n",
    "        x = e.strip().lower()\n",
    "        if x == 'baño maría':\n",
    "            x = ['baño maría o al baño maría']\n",
    "        elif x == 'cocción a fuego lento':\n",
    "            x = ['cocción a fuego lento o a fuego lento']\n",
    "        elif x == 'cocina al vacío':\n",
    "            x = ['cocina al vacío o al vacío']\n",
    "        elif x == 'cocina de retención del calor':\n",
    "            x = ['cocina de retención del calor o retención del calor o retención de calor']\n",
    "        elif x == 'cocinado a baja temperatura':\n",
    "            x = ['cocinado a baja temperatura o a baja temperatura']\n",
    "        elif x == 'horno de microondas':\n",
    "            x = ['horno de microondas o al microondas']\n",
    "        elif x == 'jardinera (cocina)':\n",
    "            x = ['jardinera']\n",
    "        elif x == 'mandolina (utensilio)':\n",
    "            x = ['mandolina']\n",
    "        elif x == 'mirepoix (gastronomía)':\n",
    "            x = ['mirepoix']\n",
    "        elif x == 'plancha de cocina':\n",
    "            x = ['plancha de cocina o a la plancha']\n",
    "        elif x == 'platos cocinados en la mesa':\n",
    "            x = []\n",
    "        elif x == 'platos por técnica culinaria':\n",
    "            x = []\n",
    "        elif x == 'productos horneados':\n",
    "            x = ['productos horneados o horneado o al horno']\n",
    "        elif x == 'recipientes de cocción':\n",
    "            x = []\n",
    "        elif x == 'reducción (gastronomía)':\n",
    "            x = ['reducción']\n",
    "        elif x == 'relleno (gastronomía)':\n",
    "            x = ['relleno']\n",
    "        elif x == 'stir frying':\n",
    "            x = ['stir frying o stir fry o stir-fry']\n",
    "        elif x == 'sofreír':\n",
    "            x = ['sofreír o sofrito']\n",
    "        elif x == 'técnicas de corte':\n",
    "            x = []\n",
    "        else:\n",
    "            x = [x]\n",
    "        r.extend(x)\n",
    "    return set(r)"
   ]
  },
  {
   "cell_type": "code",
   "execution_count": 4,
   "metadata": {
    "collapsed": false
   },
   "outputs": [
    {
     "data": {
      "text/plain": [
       "74"
      ]
     },
     "execution_count": 4,
     "metadata": {},
     "output_type": "execute_result"
    }
   ],
   "source": [
    "techniques1 = set()\n",
    "\n",
    "with open('data/techniques/es/wikipedia/wikipedia_spanish_categoria_tecnicas_culinarias.html') as f:\n",
    "    soup = BeautifulSoup(f.read(), 'html.parser')\n",
    "    elems = soup.select('div#mw-content-text div.mw-category-group ul li a')\n",
    "    techs = clean(map(lambda x: trim(x.text), elems))\n",
    "    techniques1 = techniques1.union(techs)\n",
    "\n",
    "techniques1 = set(techniques1)\n",
    "len(techniques1)"
   ]
  },
  {
   "cell_type": "code",
   "execution_count": 5,
   "metadata": {
    "collapsed": false
   },
   "outputs": [
    {
     "data": {
      "text/plain": [
       "5"
      ]
     },
     "execution_count": 5,
     "metadata": {},
     "output_type": "execute_result"
    }
   ],
   "source": [
    "techniques2 = set()\n",
    "\n",
    "with open('data/techniques/es/wikipedia/wikipedia_spanish_categoria_platos_tecnica_culinaria.html') as f:\n",
    "    soup = BeautifulSoup(f.read(), 'html.parser')\n",
    "    elems = soup.select('div#mw-content-text ul li a')\n",
    "    techs = clean(map(lambda x: trim(x.text), elems))\n",
    "    techniques2 = techniques2.union(techs)\n",
    "\n",
    "techniques2 = set(techniques2)\n",
    "len(techniques2)"
   ]
  },
  {
   "cell_type": "code",
   "execution_count": 6,
   "metadata": {
    "collapsed": false
   },
   "outputs": [
    {
     "data": {
      "text/plain": [
       "9"
      ]
     },
     "execution_count": 6,
     "metadata": {},
     "output_type": "execute_result"
    }
   ],
   "source": [
    "techniques3 = set()\n",
    "\n",
    "with open('data/techniques/es/wikipedia/wikipedia_spanish_categoria_platos_cocinados_mesa.html') as f:\n",
    "    soup = BeautifulSoup(f.read(), 'html.parser')\n",
    "    elems = soup.select('div#mw-pages div.mw-category-group ul li a')\n",
    "    techs = clean(map(lambda x: trim(x['title']), elems))\n",
    "    techniques3 = techniques3.union(techs)\n",
    "\n",
    "techniques3 = set(techniques3)\n",
    "len(techniques3)"
   ]
  },
  {
   "cell_type": "code",
   "execution_count": 7,
   "metadata": {
    "collapsed": false
   },
   "outputs": [
    {
     "data": {
      "text/plain": [
       "8"
      ]
     },
     "execution_count": 7,
     "metadata": {},
     "output_type": "execute_result"
    }
   ],
   "source": [
    "techniques4 = set()\n",
    "\n",
    "with open('data/techniques/es/wikipedia/wikipedia_spanish_categoria_tecnicas_corte.html') as f:\n",
    "    soup = BeautifulSoup(f.read(), 'html.parser')\n",
    "    elems = soup.select('div#mw-pages div.mw-category-group ul li a')\n",
    "    techs = clean(map(lambda x: trim(x.string), elems))\n",
    "    techniques4 = techniques4.union(techs)\n",
    "\n",
    "techniques4 = set(techniques4)\n",
    "len(techniques4)"
   ]
  },
  {
   "cell_type": "code",
   "execution_count": 8,
   "metadata": {
    "collapsed": false
   },
   "outputs": [
    {
     "data": {
      "text/plain": [
       "6"
      ]
     },
     "execution_count": 8,
     "metadata": {},
     "output_type": "execute_result"
    }
   ],
   "source": [
    "techniques5 = set()\n",
    "\n",
    "with open('data/techniques/es/wikipedia/wikipedia_spanish_categoria_coccion_alimentaria.html') as f:\n",
    "    soup = BeautifulSoup(f.read(), 'html.parser')\n",
    "    elems = soup.select('div#mw-content-text ul li a')\n",
    "    techs = clean(map(lambda x: trim(x.string), elems))\n",
    "    techniques5 = techniques5.union(techs)\n",
    "\n",
    "techniques5 = set(techniques5)\n",
    "len(techniques5)"
   ]
  },
  {
   "cell_type": "code",
   "execution_count": 9,
   "metadata": {
    "collapsed": false
   },
   "outputs": [],
   "source": [
    "techniques = techniques1.union(techniques2) \\\n",
    "                        .union(techniques3) \\\n",
    "                        .union(techniques4) \\\n",
    "                        .union(techniques5)\n",
    "techniques = sorted(techniques)"
   ]
  },
  {
   "cell_type": "code",
   "execution_count": 10,
   "metadata": {
    "collapsed": false
   },
   "outputs": [
    {
     "data": {
      "text/plain": [
       "101"
      ]
     },
     "execution_count": 10,
     "metadata": {},
     "output_type": "execute_result"
    }
   ],
   "source": [
    "len(techniques)"
   ]
  },
  {
   "cell_type": "code",
   "execution_count": 11,
   "metadata": {
    "collapsed": false
   },
   "outputs": [
    {
     "data": {
      "text/plain": [
       "['ahumados',\n",
       " 'al dente',\n",
       " 'alimentos crudos',\n",
       " 'asado',\n",
       " 'barbacoa',\n",
       " 'baño maría o al baño maría',\n",
       " 'bhuna',\n",
       " 'braseado',\n",
       " 'brunoise',\n",
       " 'calçotada',\n",
       " 'caramelización',\n",
       " 'cebolla caramelizada',\n",
       " 'chaunk',\n",
       " 'chiffonade',\n",
       " 'clarificar',\n",
       " 'cocción a fuego lento o a fuego lento',\n",
       " 'cocción alimentaria',\n",
       " 'cocción roja',\n",
       " 'cocidos',\n",
       " 'cocina al vacío o al vacío',\n",
       " 'cocina de retención del calor o retención del calor o retención de calor',\n",
       " 'cocinado a baja temperatura o a baja temperatura',\n",
       " 'comida en pincho',\n",
       " 'concasse',\n",
       " 'conchado',\n",
       " 'conche',\n",
       " 'conserva',\n",
       " 'dorar',\n",
       " 'dum pukht',\n",
       " 'empanado',\n",
       " 'encurtidos',\n",
       " 'escaldado',\n",
       " 'escalfado',\n",
       " 'esferificación',\n",
       " 'estofados',\n",
       " 'fermentaciones',\n",
       " 'flambeados',\n",
       " 'fondue',\n",
       " 'fritura',\n",
       " 'fritura a presión',\n",
       " 'glaseado',\n",
       " 'gratinado',\n",
       " 'guisado',\n",
       " 'guiso',\n",
       " 'horno de microondas o al microondas',\n",
       " 'hot pot',\n",
       " 'huevos al plato',\n",
       " 'jardinera',\n",
       " 'juliana',\n",
       " 'kinpira',\n",
       " 'licuado',\n",
       " 'macedonia de frutas',\n",
       " 'mandolina',\n",
       " 'marcado',\n",
       " 'marinado',\n",
       " 'mechar',\n",
       " 'meunière',\n",
       " 'mirepoix',\n",
       " 'mise en place',\n",
       " 'nabemono',\n",
       " 'napar',\n",
       " 'nixtamalización',\n",
       " 'okonomiyaki',\n",
       " 'olla a presión',\n",
       " 'papillot',\n",
       " 'plancha de cocina o a la plancha',\n",
       " 'preservación de alimentos',\n",
       " 'productos horneados o horneado o al horno',\n",
       " 'punto de humeo',\n",
       " 'puré',\n",
       " 'raclette',\n",
       " 'reacción de maillard',\n",
       " 'rebozado',\n",
       " 'reducción',\n",
       " 'relleno',\n",
       " 'repostería',\n",
       " 'rosticería',\n",
       " 'roux',\n",
       " 'salazón',\n",
       " 'salmuera',\n",
       " 'salsa española',\n",
       " 'salteado',\n",
       " 'samgyeopsal',\n",
       " 'sancochar',\n",
       " 'secado',\n",
       " 'shabu-shabu',\n",
       " 'sofreír o sofrito',\n",
       " 'sofrito',\n",
       " 'sous-vide',\n",
       " 'stir frying o stir fry o stir-fry',\n",
       " 'sukiyaki',\n",
       " 'sándwiches',\n",
       " 'tataki',\n",
       " 'tatemar',\n",
       " 'tempura',\n",
       " 'teppanyaki',\n",
       " 'teriyaki',\n",
       " 'trinchar',\n",
       " 'triángulo culinario',\n",
       " 'wok hei',\n",
       " 'yakiniku']"
      ]
     },
     "execution_count": 11,
     "metadata": {},
     "output_type": "execute_result"
    }
   ],
   "source": [
    "techniques"
   ]
  },
  {
   "cell_type": "code",
   "execution_count": 12,
   "metadata": {
    "collapsed": true
   },
   "outputs": [],
   "source": [
    "with open('data/techniques/es_wikipedia_techniques.txt', 'w') as f:\n",
    "    f.write('\\n'.join(sorted(techniques)))"
   ]
  },
  {
   "cell_type": "code",
   "execution_count": null,
   "metadata": {
    "collapsed": true
   },
   "outputs": [],
   "source": []
  }
 ],
 "metadata": {
  "kernelspec": {
   "display_name": "Python 3",
   "language": "python",
   "name": "python3"
  },
  "language_info": {
   "codemirror_mode": {
    "name": "ipython",
    "version": 3
   },
   "file_extension": ".py",
   "mimetype": "text/x-python",
   "name": "python",
   "nbconvert_exporter": "python",
   "pygments_lexer": "ipython3",
   "version": "3.4.3"
  }
 },
 "nbformat": 4,
 "nbformat_minor": 0
}
