{
 "cells": [
  {
   "cell_type": "code",
   "execution_count": 1,
   "metadata": {
    "collapsed": true
   },
   "outputs": [],
   "source": [
    "import csv\n",
    "import os\n",
    "import re\n",
    "\n",
    "import networkx as nx\n",
    "import requests"
   ]
  },
  {
   "cell_type": "markdown",
   "metadata": {},
   "source": [
    "# Culinay essentials glossary"
   ]
  },
  {
   "cell_type": "code",
   "execution_count": 2,
   "metadata": {
    "collapsed": true
   },
   "outputs": [],
   "source": [
    "# highered.mheducation.com/sites/dl/free/0078883598/683584/Culinary_Essentials_Glossary_Glosario.pdf"
   ]
  },
  {
   "cell_type": "code",
   "execution_count": 3,
   "metadata": {
    "collapsed": false
   },
   "outputs": [],
   "source": [
    "def only_one_upper_case(s):\n",
    "    upper = []\n",
    "    for c in s:\n",
    "        if c.isupper():\n",
    "            upper.append(1)\n",
    "        else:\n",
    "            upper.append(0)\n",
    "    return sum(upper) == 1"
   ]
  },
  {
   "cell_type": "code",
   "execution_count": 4,
   "metadata": {
    "collapsed": false
   },
   "outputs": [],
   "source": [
    "culinay_essentials_glossary = {}\n",
    "with open('data/dictionaries/raw_culinay_essentials_glossary.txt') as f:\n",
    "    content = f.read()\n",
    "    rest = content.replace('Glencoe Culinary Essentials Glossary/Glosario\\n', '')\n",
    "    page_separators = re.findall('([\\w\\s](\\d+) of 69)', rest)\n",
    "    a = b = c = d = e = 0\n",
    "    page_index = 1\n",
    "    correct_pages = []\n",
    "    failed_pages = []\n",
    "    for sep in page_separators:\n",
    "        a += 1\n",
    "        page_sep = sep[0]\n",
    "        page_num = sep[1]\n",
    "        page, rest = rest.split(page_sep)\n",
    "        page += '\\n'\n",
    "        letter = re.findall('([A-Z])\\n', page)\n",
    "        if letter:\n",
    "            b += 1\n",
    "            failed_pages.append(page_index)\n",
    "        else:\n",
    "            english_spanish = re.findall('English Español', page)\n",
    "            if english_spanish:\n",
    "                c += 1\n",
    "                failed_pages.append(page_index)\n",
    "            else:\n",
    "                english = re.findall('(English)\\n', page)\n",
    "                spanish = re.findall('(Español)\\n', page)\n",
    "                if len(english) == 1 and len(spanish) == 1:\n",
    "                    d += 1\n",
    "                    english_side, spanish_side = page.split('English\\n')[1].split('Español\\n')\n",
    "                    \n",
    "                    english_words = {}\n",
    "                    eng_def_sep = re.findall('\\(p\\.\\s\\d+\\)\\n', english_side)\n",
    "                    word_index = 1\n",
    "                    skipped_indexes = []\n",
    "                    for def_sep in eng_def_sep:\n",
    "                        aux_list = english_side.split(def_sep)\n",
    "                        definition = aux_list[0]\n",
    "                        period_index = definition.find('.')\n",
    "                        first_sentence = definition[:period_index]\n",
    "                        if only_one_upper_case(first_sentence):\n",
    "                            word = re.findall('(.+)\\s.?[A-Z]', first_sentence)[0]\n",
    "                            english_words[word_index] = word\n",
    "                        else:\n",
    "                            skipped_indexes.append(word_index)\n",
    "                        english_side = def_sep.join(aux_list[1:])\n",
    "                        word_index += 1\n",
    "                    \n",
    "                    spanish_words = {}\n",
    "                    spa_def_sep = re.findall('\\(p\\.\\s\\d+\\)\\s', spanish_side)\n",
    "                    word_index = 1\n",
    "                    for def_sep in spa_def_sep:\n",
    "                        aux_list = spanish_side.split(def_sep)\n",
    "                        if word_index not in skipped_indexes:\n",
    "                            definition = aux_list[0]\n",
    "                            period_index = definition.find('.')\n",
    "                            first_sentence = definition[:period_index]\n",
    "                            if only_one_upper_case(first_sentence):\n",
    "                                word = re.findall('(.+)\\s.?[A-ZÁÉÍÓÚ]', first_sentence)[0]\n",
    "                                spanish_words[word_index] = word\n",
    "                            else:\n",
    "                                del(english_words[word_index])\n",
    "                        spanish_side = def_sep.join(aux_list[1:])\n",
    "                        word_index += 1\n",
    "                    \n",
    "                    if english_words.keys() == spanish_words.keys():\n",
    "                        for k in english_words:\n",
    "                            culinay_essentials_glossary[english_words[k]] = spanish_words[k]\n",
    "                        correct_pages.append(page_index)\n",
    "                    else:\n",
    "                        failed_pages.append(page_index)\n",
    "                else:\n",
    "                    e+=1\n",
    "                    failed_pages.append(page_index)\n",
    "        page_index += 1"
   ]
  },
  {
   "cell_type": "code",
   "execution_count": 5,
   "metadata": {
    "collapsed": false
   },
   "outputs": [
    {
     "data": {
      "text/plain": [
       "26"
      ]
     },
     "execution_count": 5,
     "metadata": {},
     "output_type": "execute_result"
    }
   ],
   "source": [
    "len(correct_pages)"
   ]
  },
  {
   "cell_type": "code",
   "execution_count": 6,
   "metadata": {
    "collapsed": false
   },
   "outputs": [
    {
     "data": {
      "text/plain": [
       "43"
      ]
     },
     "execution_count": 6,
     "metadata": {},
     "output_type": "execute_result"
    }
   ],
   "source": [
    "len(failed_pages)"
   ]
  },
  {
   "cell_type": "code",
   "execution_count": 7,
   "metadata": {
    "collapsed": false
   },
   "outputs": [
    {
     "data": {
      "text/plain": [
       "385"
      ]
     },
     "execution_count": 7,
     "metadata": {},
     "output_type": "execute_result"
    }
   ],
   "source": [
    "len(culinay_essentials_glossary)"
   ]
  },
  {
   "cell_type": "code",
   "execution_count": 8,
   "metadata": {
    "collapsed": false
   },
   "outputs": [],
   "source": [
    "# with open('data/dictionaries/culinay_essentials_glossary.csv', 'w') as f:\n",
    "#     writer = csv.writer(\n",
    "#         f,\n",
    "#         delimiter='\\t',\n",
    "#     )\n",
    "#     for eng, spa in culinay_essentials_glossary.items():\n",
    "#         writer.writerow([eng, spa])"
   ]
  },
  {
   "cell_type": "code",
   "execution_count": 9,
   "metadata": {
    "collapsed": false
   },
   "outputs": [],
   "source": [
    "with open('data/dictionaries/culinay_essentials_glossary.csv') as f:\n",
    "    pass"
   ]
  },
  {
   "cell_type": "markdown",
   "metadata": {},
   "source": [
    "# Go Madrid"
   ]
  },
  {
   "cell_type": "code",
   "execution_count": 10,
   "metadata": {
    "collapsed": false
   },
   "outputs": [],
   "source": [
    "# http://www.gomadrid.com/dict/spanish-food-dictionary.html"
   ]
  },
  {
   "cell_type": "code",
   "execution_count": 11,
   "metadata": {
    "collapsed": false
   },
   "outputs": [],
   "source": [
    "with open('data/dictionaries/gomadrid.csv') as f:\n",
    "    pass"
   ]
  },
  {
   "cell_type": "markdown",
   "metadata": {},
   "source": [
    "# Little explorers"
   ]
  },
  {
   "cell_type": "code",
   "execution_count": 12,
   "metadata": {
    "collapsed": false
   },
   "outputs": [],
   "source": [
    "# http://www.littleexplorers.com/languages/spanish/subjects/food.shtml"
   ]
  },
  {
   "cell_type": "code",
   "execution_count": 13,
   "metadata": {
    "collapsed": false
   },
   "outputs": [],
   "source": [
    "with open('data/dictionaries/littleexplorers.csv') as f:\n",
    "    pass"
   ]
  },
  {
   "cell_type": "markdown",
   "metadata": {},
   "source": [
    "# Quizlet"
   ]
  },
  {
   "cell_type": "code",
   "execution_count": 14,
   "metadata": {
    "collapsed": false
   },
   "outputs": [],
   "source": [
    "# https://quizlet.com/955/spanish-cooking-terms-flash-cards/"
   ]
  },
  {
   "cell_type": "code",
   "execution_count": 15,
   "metadata": {
    "collapsed": false
   },
   "outputs": [],
   "source": [
    "with open('data/dictionaries/quizlet.csv') as f:\n",
    "    pass"
   ]
  },
  {
   "cell_type": "markdown",
   "metadata": {},
   "source": [
    "# Speaking Latino"
   ]
  },
  {
   "cell_type": "code",
   "execution_count": 16,
   "metadata": {
    "collapsed": false
   },
   "outputs": [],
   "source": [
    "# http://www.speakinglatino.com/recipes-and-baking-vocabulary-for-spanish/"
   ]
  },
  {
   "cell_type": "code",
   "execution_count": 17,
   "metadata": {
    "collapsed": false
   },
   "outputs": [],
   "source": [
    "with open('data/dictionaries/speakinglatino.csv') as f:\n",
    "    pass"
   ]
  },
  {
   "cell_type": "markdown",
   "metadata": {},
   "source": [
    "# Puerto Morelos Villas"
   ]
  },
  {
   "cell_type": "code",
   "execution_count": 18,
   "metadata": {
    "collapsed": false
   },
   "outputs": [],
   "source": [
    "# http://www.puertomorelosvillas.com/cooking-terms.html"
   ]
  },
  {
   "cell_type": "code",
   "execution_count": 19,
   "metadata": {
    "collapsed": false
   },
   "outputs": [],
   "source": [
    "with open('data/dictionaries/puertomorelosvillas.csv') as f:\n",
    "    pass"
   ]
  },
  {
   "cell_type": "markdown",
   "metadata": {},
   "source": [
    "# Lingolex"
   ]
  },
  {
   "cell_type": "code",
   "execution_count": 20,
   "metadata": {
    "collapsed": false
   },
   "outputs": [],
   "source": [
    "# http://www.lingolex.com/spanishfood/index.htm"
   ]
  },
  {
   "cell_type": "code",
   "execution_count": 21,
   "metadata": {
    "collapsed": false
   },
   "outputs": [],
   "source": [
    "with open('data/dictionaries/lingolex.csv') as f:\n",
    "    pass"
   ]
  },
  {
   "cell_type": "markdown",
   "metadata": {},
   "source": [
    "# Fluent U"
   ]
  },
  {
   "cell_type": "code",
   "execution_count": 22,
   "metadata": {
    "collapsed": false
   },
   "outputs": [],
   "source": [
    "# http://www.fluentu.com/spanish/blog/spanish-food-vocabulary/"
   ]
  },
  {
   "cell_type": "code",
   "execution_count": 23,
   "metadata": {
    "collapsed": false
   },
   "outputs": [],
   "source": [
    "with open('data/dictionaries/fluentu.csv') as f:\n",
    "    pass"
   ]
  },
  {
   "cell_type": "markdown",
   "metadata": {},
   "source": [
    "# La tienda"
   ]
  },
  {
   "cell_type": "code",
   "execution_count": 24,
   "metadata": {
    "collapsed": false
   },
   "outputs": [],
   "source": [
    "# https://www.tienda.com/dons-travels/glossary.html"
   ]
  },
  {
   "cell_type": "code",
   "execution_count": 25,
   "metadata": {
    "collapsed": false
   },
   "outputs": [],
   "source": [
    "with open('data/dictionaries/tienda.csv') as f:\n",
    "    pass"
   ]
  },
  {
   "cell_type": "markdown",
   "metadata": {},
   "source": [
    "# Spanish fiestas"
   ]
  },
  {
   "cell_type": "code",
   "execution_count": 26,
   "metadata": {
    "collapsed": false
   },
   "outputs": [],
   "source": [
    "# http://www.spanish-fiestas.com/recipes/spanish-food-dictionary/"
   ]
  },
  {
   "cell_type": "code",
   "execution_count": 27,
   "metadata": {
    "collapsed": false
   },
   "outputs": [],
   "source": [
    "with open('data/dictionaries/spanish-fiestas.csv') as f:\n",
    "    pass"
   ]
  },
  {
   "cell_type": "markdown",
   "metadata": {},
   "source": [
    "# Cellartours"
   ]
  },
  {
   "cell_type": "code",
   "execution_count": 28,
   "metadata": {
    "collapsed": true
   },
   "outputs": [],
   "source": [
    "# http://www.cellartours.com/spain/gastronomy/spanish-a-z-food-dictionary-glossary.html"
   ]
  },
  {
   "cell_type": "code",
   "execution_count": 29,
   "metadata": {
    "collapsed": false
   },
   "outputs": [],
   "source": [
    "with open('data/dictionaries/cellartours.csv') as f:\n",
    "    pass"
   ]
  },
  {
   "cell_type": "markdown",
   "metadata": {},
   "source": [
    "# Yandex.Translate."
   ]
  },
  {
   "cell_type": "code",
   "execution_count": 30,
   "metadata": {
    "collapsed": false
   },
   "outputs": [],
   "source": [
    "# yandex_translator = {}\n",
    "# failed_words = []\n",
    "\n",
    "# base_url = 'https://translate.yandex.net/api/v1.5/tr.json/translate'\n",
    "# for n in english_ingredients.nodes_iter():\n",
    "#     if n not in yandex_translator:\n",
    "#         payload = {\n",
    "#             'key': 'trnsl.1.1.20160809T132441Z.706b99d30a0f9e74.0878483b7a557faa0174a722f872088475ddf9fc',\n",
    "#             'lang': 'en-es',\n",
    "#             'text': n,\n",
    "#         }\n",
    "#         response = requests.get(base_url, params=payload)\n",
    "#         if response.ok:\n",
    "#             r = response.json()\n",
    "#             if r['code'] == 200:\n",
    "#                 yandex_translator[n] = r['text']\n",
    "#             else:\n",
    "#                 failed_words.append(n)\n",
    "#         else:\n",
    "#             failed_words.append(n)\n",
    "# for n in english_techniques.nodes_iter():\n",
    "#     if n not in yandex_translator:\n",
    "#         payload = {\n",
    "#             'key': 'trnsl.1.1.20160809T132441Z.706b99d30a0f9e74.0878483b7a557faa0174a722f872088475ddf9fc',\n",
    "#             'lang': 'en-es',\n",
    "#             'text': n,\n",
    "#         }\n",
    "#         response = requests.get(base_url, params=payload)\n",
    "#         if response.ok:\n",
    "#             r = response.json()\n",
    "#             if r['code'] == 200:\n",
    "#                 yandex_translator[n] = r['text']\n",
    "#             else:\n",
    "#                 failed_words.append(n)\n",
    "#         else:\n",
    "#             failed_words.append(n)"
   ]
  },
  {
   "cell_type": "code",
   "execution_count": 31,
   "metadata": {
    "collapsed": false
   },
   "outputs": [],
   "source": [
    "# len(yandex_translator)\n",
    "# 25219"
   ]
  },
  {
   "cell_type": "code",
   "execution_count": 32,
   "metadata": {
    "collapsed": false
   },
   "outputs": [],
   "source": [
    "# len(failed_words)\n",
    "# 0"
   ]
  },
  {
   "cell_type": "code",
   "execution_count": 33,
   "metadata": {
    "collapsed": true
   },
   "outputs": [],
   "source": [
    "# with open('data/dictionaries/yandex.csv', 'w') as f:\n",
    "#     writer = csv.writer(\n",
    "#         f,\n",
    "#         delimiter='\\t',\n",
    "#     )\n",
    "#     for eng, spa in yandex_translator.items():\n",
    "#         writer.writerow([eng, spa[0]])"
   ]
  },
  {
   "cell_type": "markdown",
   "metadata": {
    "collapsed": true
   },
   "source": [
    "# Translator graph"
   ]
  },
  {
   "cell_type": "code",
   "execution_count": 34,
   "metadata": {
    "collapsed": true
   },
   "outputs": [],
   "source": [
    "english_ingredients = nx.read_gexf('data/english_ingredients_lexicon_5.gexf')\n",
    "english_techniques = nx.read_gexf('data/english_techniques_lexicon_5.gexf')\n",
    "spanish_ingredients = nx.read_gexf('data/spanish_ingredients_lexicon_5.gexf')\n",
    "spanish_techniques = nx.read_gexf('data/spanish_techniques_lexicon_5.gexf')"
   ]
  },
  {
   "cell_type": "code",
   "execution_count": 35,
   "metadata": {
    "collapsed": false
   },
   "outputs": [],
   "source": [
    "ingredient_translator = nx.Graph()\n",
    "technique_translator = nx.Graph()\n",
    "for filename in os.listdir('data/dictionaries'):\n",
    "    if filename.endswith('.csv'):\n",
    "        with open('data/dictionaries/' + filename) as f:\n",
    "            reader = csv.reader(\n",
    "                f,\n",
    "                delimiter='\\t',\n",
    "            )\n",
    "            for row in reader:\n",
    "                eng_words = row[0].split('/')\n",
    "                eng_ingrs = []\n",
    "                eng_techs = []\n",
    "                for w in eng_words:\n",
    "                    if w in english_ingredients:\n",
    "                        eng_ingrs.append(w)\n",
    "                    if w in english_techniques:\n",
    "                        eng_techs.append(w)\n",
    "                spa_words = row[1].split('/')\n",
    "                spa_ingrs = []\n",
    "                spa_techs = []\n",
    "                for w in spa_words:\n",
    "                    if w in spanish_ingredients:\n",
    "                        spa_ingrs.append(w)\n",
    "                    if w in spanish_techniques:\n",
    "                        spa_techs.append(w)\n",
    "                for x in eng_ingrs:\n",
    "                    for y in spa_ingrs:\n",
    "                        ingredient_translator.add_edge(x, y)\n",
    "                for x in eng_techs:\n",
    "                    for y in spa_techs:\n",
    "                        technique_translator.add_edge(x, y)"
   ]
  },
  {
   "cell_type": "code",
   "execution_count": 36,
   "metadata": {
    "collapsed": false
   },
   "outputs": [
    {
     "data": {
      "text/plain": [
       "2327"
      ]
     },
     "execution_count": 36,
     "metadata": {},
     "output_type": "execute_result"
    }
   ],
   "source": [
    "len(ingredient_translator)"
   ]
  },
  {
   "cell_type": "code",
   "execution_count": 37,
   "metadata": {
    "collapsed": false
   },
   "outputs": [
    {
     "data": {
      "text/plain": [
       "1518"
      ]
     },
     "execution_count": 37,
     "metadata": {},
     "output_type": "execute_result"
    }
   ],
   "source": [
    "ingredient_translator.number_of_edges()"
   ]
  },
  {
   "cell_type": "code",
   "execution_count": 38,
   "metadata": {
    "collapsed": false
   },
   "outputs": [
    {
     "data": {
      "text/plain": [
       "208"
      ]
     },
     "execution_count": 38,
     "metadata": {},
     "output_type": "execute_result"
    }
   ],
   "source": [
    "len(technique_translator)"
   ]
  },
  {
   "cell_type": "code",
   "execution_count": 39,
   "metadata": {
    "collapsed": false
   },
   "outputs": [
    {
     "data": {
      "text/plain": [
       "150"
      ]
     },
     "execution_count": 39,
     "metadata": {},
     "output_type": "execute_result"
    }
   ],
   "source": [
    "technique_translator.number_of_edges()"
   ]
  },
  {
   "cell_type": "markdown",
   "metadata": {},
   "source": [
    "# Lexicons"
   ]
  },
  {
   "cell_type": "code",
   "execution_count": 40,
   "metadata": {
    "collapsed": false
   },
   "outputs": [
    {
     "name": "stdout",
     "output_type": "stream",
     "text": [
      "English ingredients\n",
      "Total: 23860\n",
      "Yes: 6%\n",
      "No: 94%\n",
      "\n",
      "English techniques\n",
      "Total: 1416\n",
      "Yes: 10%\n",
      "No: 90%\n",
      "\n",
      "Spanish ingredients\n",
      "Total: 26743\n",
      "Yes: 5%\n",
      "No: 95%\n",
      "\n",
      "Spanish techniques\n",
      "Total: 4372\n",
      "Yes: 3%\n",
      "No: 97%\n",
      "\n"
     ]
    }
   ],
   "source": [
    "# Coverage\n",
    "for name, lexicon in zip(['English ingredients', 'English techniques', 'Spanish ingredients', 'Spanish techniques'],\n",
    "                   [english_ingredients, english_techniques, spanish_ingredients, spanish_techniques]):\n",
    "    total = yes = no = 0\n",
    "    for x in lexicon.nodes_iter():\n",
    "        total += 1\n",
    "        if x in ingredient_translator or x in technique_translator:\n",
    "            yes += 1\n",
    "        else:\n",
    "            no += 1\n",
    "    print(name)\n",
    "    print('Total: {}'.format(total))\n",
    "    print('Yes: {}%'.format(round(100 * yes / total)))\n",
    "    print('No: {}%'.format(round(100 * no / total)))\n",
    "    print()"
   ]
  },
  {
   "cell_type": "code",
   "execution_count": 41,
   "metadata": {
    "collapsed": true
   },
   "outputs": [],
   "source": [
    "nx.write_gexf(ingredient_translator, 'data/dictionaries/ingredient_translator.gexf')\n",
    "nx.write_gexf(technique_translator, 'data/dictionaries/technique_translator.gexf')"
   ]
  },
  {
   "cell_type": "code",
   "execution_count": null,
   "metadata": {
    "collapsed": true
   },
   "outputs": [],
   "source": []
  }
 ],
 "metadata": {
  "kernelspec": {
   "display_name": "Python 3",
   "language": "python",
   "name": "python3"
  },
  "language_info": {
   "codemirror_mode": {
    "name": "ipython",
    "version": 3
   },
   "file_extension": ".py",
   "mimetype": "text/x-python",
   "name": "python",
   "nbconvert_exporter": "python",
   "pygments_lexer": "ipython3",
   "version": "3.4.3"
  }
 },
 "nbformat": 4,
 "nbformat_minor": 0
}
