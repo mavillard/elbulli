{
 "cells": [
  {
   "cell_type": "code",
   "execution_count": 18,
   "metadata": {
    "collapsed": true
   },
   "outputs": [],
   "source": [
    "import csv\n",
    "import re"
   ]
  },
  {
   "cell_type": "markdown",
   "metadata": {},
   "source": [
    "# Culinay essentials glossary"
   ]
  },
  {
   "cell_type": "code",
   "execution_count": null,
   "metadata": {
    "collapsed": true
   },
   "outputs": [],
   "source": [
    "# highered.mheducation.com/sites/dl/free/0078883598/683584/Culinary_Essentials_Glossary_Glosario.pdf"
   ]
  },
  {
   "cell_type": "code",
   "execution_count": 2,
   "metadata": {
    "collapsed": false
   },
   "outputs": [],
   "source": [
    "def only_one_upper_case(s):\n",
    "    upper = []\n",
    "    for c in s:\n",
    "        if c.isupper():\n",
    "            upper.append(1)\n",
    "        else:\n",
    "            upper.append(0)\n",
    "    return sum(upper) == 1"
   ]
  },
  {
   "cell_type": "code",
   "execution_count": 7,
   "metadata": {
    "collapsed": false
   },
   "outputs": [],
   "source": [
    "culinay_essentials_glossary = {}\n",
    "with open('data/dictionaries/raw_culinay_essentials_glossary.txt') as f:\n",
    "    content = f.read()\n",
    "    rest = content.replace('Glencoe Culinary Essentials Glossary/Glosario\\n', '')\n",
    "    page_separators = re.findall('([\\w\\s](\\d+) of 69)', rest)\n",
    "    a = b = c = d = e = 0\n",
    "    page_index = 1\n",
    "    correct_pages = []\n",
    "    failed_pages = []\n",
    "    for sep in page_separators:\n",
    "        a += 1\n",
    "        page_sep = sep[0]\n",
    "        page_num = sep[1]\n",
    "        page, rest = rest.split(page_sep)\n",
    "        page += '\\n'\n",
    "        letter = re.findall('([A-Z])\\n', page)\n",
    "        if letter:\n",
    "            b += 1\n",
    "            failed_pages.append(page_index)\n",
    "        else:\n",
    "            english_spanish = re.findall('English Español', page)\n",
    "            if english_spanish:\n",
    "                c += 1\n",
    "                failed_pages.append(page_index)\n",
    "            else:\n",
    "                english = re.findall('(English)\\n', page)\n",
    "                spanish = re.findall('(Español)\\n', page)\n",
    "                if len(english) == 1 and len(spanish) == 1:\n",
    "                    d += 1\n",
    "                    english_side, spanish_side = page.split('English\\n')[1].split('Español\\n')\n",
    "                    \n",
    "                    english_words = {}\n",
    "                    eng_def_sep = re.findall('\\(p\\.\\s\\d+\\)\\n', english_side)\n",
    "                    word_index = 1\n",
    "                    skipped_indexes = []\n",
    "                    for def_sep in eng_def_sep:\n",
    "                        aux_list = english_side.split(def_sep)\n",
    "                        definition = aux_list[0]\n",
    "                        period_index = definition.find('.')\n",
    "                        first_sentence = definition[:period_index]\n",
    "                        if only_one_upper_case(first_sentence):\n",
    "                            word = re.findall('(.+)\\s.?[A-Z]', first_sentence)[0]\n",
    "                            english_words[word_index] = word\n",
    "                        else:\n",
    "                            skipped_indexes.append(word_index)\n",
    "                        english_side = def_sep.join(aux_list[1:])\n",
    "                        word_index += 1\n",
    "                    \n",
    "                    spanish_words = {}\n",
    "                    spa_def_sep = re.findall('\\(p\\.\\s\\d+\\)\\s', spanish_side)\n",
    "                    word_index = 1\n",
    "                    for def_sep in spa_def_sep:\n",
    "                        aux_list = spanish_side.split(def_sep)\n",
    "                        if word_index not in skipped_indexes:\n",
    "                            definition = aux_list[0]\n",
    "                            period_index = definition.find('.')\n",
    "                            first_sentence = definition[:period_index]\n",
    "                            if only_one_upper_case(first_sentence):\n",
    "                                word = re.findall('(.+)\\s.?[A-ZÁÉÍÓÚ]', first_sentence)[0]\n",
    "                                spanish_words[word_index] = word\n",
    "                            else:\n",
    "                                del(english_words[word_index])\n",
    "                        spanish_side = def_sep.join(aux_list[1:])\n",
    "                        word_index += 1\n",
    "                    \n",
    "                    if english_words.keys() == spanish_words.keys():\n",
    "                        for k in english_words:\n",
    "                            culinay_essentials_glossary[english_words[k]] = spanish_words[k]\n",
    "                        correct_pages.append(page_index)\n",
    "                    else:\n",
    "                        failed_pages.append(page_index)\n",
    "                else:\n",
    "                    e+=1\n",
    "                    failed_pages.append(page_index)\n",
    "        page_index += 1"
   ]
  },
  {
   "cell_type": "code",
   "execution_count": 5,
   "metadata": {
    "collapsed": false
   },
   "outputs": [
    {
     "data": {
      "text/plain": [
       "26"
      ]
     },
     "execution_count": 5,
     "metadata": {},
     "output_type": "execute_result"
    }
   ],
   "source": [
    "len(correct_pages)"
   ]
  },
  {
   "cell_type": "code",
   "execution_count": 6,
   "metadata": {
    "collapsed": false
   },
   "outputs": [
    {
     "data": {
      "text/plain": [
       "43"
      ]
     },
     "execution_count": 6,
     "metadata": {},
     "output_type": "execute_result"
    }
   ],
   "source": [
    "len(failed_pages)"
   ]
  },
  {
   "cell_type": "code",
   "execution_count": 4,
   "metadata": {
    "collapsed": false
   },
   "outputs": [
    {
     "data": {
      "text/plain": [
       "385"
      ]
     },
     "execution_count": 4,
     "metadata": {},
     "output_type": "execute_result"
    }
   ],
   "source": [
    "len(culinay_essentials_glossary)"
   ]
  },
  {
   "cell_type": "code",
   "execution_count": 26,
   "metadata": {
    "collapsed": false
   },
   "outputs": [],
   "source": [
    "# with open('data/dictionaries/culinay_essentials_glossary.csv', 'w') as f:\n",
    "#     writer = csv.writer(\n",
    "#         f,\n",
    "#         delimiter='\\t',\n",
    "#     )\n",
    "#     for eng, spa in culinay_essentials_glossary.items():\n",
    "#         writer.writerow([eng, spa])"
   ]
  },
  {
   "cell_type": "code",
   "execution_count": 63,
   "metadata": {
    "collapsed": false
   },
   "outputs": [],
   "source": [
    "with open('data/dictionaries/culinay_essentials_glossary.csv') as f:\n",
    "#     content = f.read()\n",
    "#     for p in ps:\n",
    "#         if p in content:\n",
    "#             print(p)\n",
    "#     for exp in ['\\tel ','\\tla ','\\tlos ','\\tlas ', ' or ']:\n",
    "#         if exp in content:\n",
    "#             print(exp)"
   ]
  },
  {
   "cell_type": "code",
   "execution_count": null,
   "metadata": {
    "collapsed": true
   },
   "outputs": [],
   "source": [
    "import string\n",
    "ps = string.punctuation"
   ]
  },
  {
   "cell_type": "markdown",
   "metadata": {},
   "source": [
    "# Go Madrid"
   ]
  },
  {
   "cell_type": "code",
   "execution_count": 22,
   "metadata": {
    "collapsed": false
   },
   "outputs": [],
   "source": [
    "# http://www.gomadrid.com/dict/spanish-food-dictionary.html"
   ]
  },
  {
   "cell_type": "code",
   "execution_count": 113,
   "metadata": {
    "collapsed": false
   },
   "outputs": [],
   "source": [
    "with open('data/dictionaries/gomadrid.csv') as f:\n",
    "    content = f.read()\n",
    "#     for p in ps:\n",
    "#         if p in content:\n",
    "#             print(p)\n",
    "#     for exp in ['\\tel ','\\tla ','\\tlos ','\\tlas ', ' or ']:\n",
    "#         if exp in content:\n",
    "#             print(exp)\n",
    "    for exp in [' \\t',' \\t ','\\t ',' \\n']:\n",
    "        if exp in content:\n",
    "            print(exp)\n",
    "#     for line in f:\n",
    "#         if line.startswith('to ') or line.startswith('/to '):\n",
    "#             print(line)\n",
    "#     reader = csv.reader(\n",
    "#         f,\n",
    "#         delimiter='\\t',\n",
    "#     )\n",
    "#     for row in reader:\n",
    "#         print(row)"
   ]
  },
  {
   "cell_type": "markdown",
   "metadata": {},
   "source": [
    "# Little explorers"
   ]
  },
  {
   "cell_type": "code",
   "execution_count": 22,
   "metadata": {
    "collapsed": false
   },
   "outputs": [],
   "source": [
    "# http://www.littleexplorers.com/languages/spanish/subjects/food.shtml"
   ]
  },
  {
   "cell_type": "code",
   "execution_count": 111,
   "metadata": {
    "collapsed": false
   },
   "outputs": [],
   "source": [
    "with open('data/dictionaries/littleexplorers.csv') as f:\n",
    "    content = f.read()\n",
    "#     for p in ps:\n",
    "#         if p in content:\n",
    "#             print(p)\n",
    "#     for exp in ['\\tel ','\\tla ','\\tlos ','\\tlas ', ' or ']:\n",
    "#         if exp in content:\n",
    "#             print(exp)\n",
    "    for exp in [' \\t',' \\t ','\\t ',' \\n']:\n",
    "        if exp in content:\n",
    "            print(exp)\n",
    "#     for line in f:\n",
    "#         if line.startswith('to '):\n",
    "#             print(line)\n",
    "#     reader = csv.reader(\n",
    "#         f,\n",
    "#         delimiter='\\t',\n",
    "#     )\n",
    "#     for row in reader:\n",
    "#         print(row)"
   ]
  },
  {
   "cell_type": "code",
   "execution_count": null,
   "metadata": {
    "collapsed": true
   },
   "outputs": [],
   "source": []
  },
  {
   "cell_type": "markdown",
   "metadata": {},
   "source": [
    "# Quizlet"
   ]
  },
  {
   "cell_type": "code",
   "execution_count": 22,
   "metadata": {
    "collapsed": false
   },
   "outputs": [],
   "source": [
    "# https://quizlet.com/955/spanish-cooking-terms-flash-cards/"
   ]
  },
  {
   "cell_type": "code",
   "execution_count": 110,
   "metadata": {
    "collapsed": false
   },
   "outputs": [],
   "source": [
    "with open('data/dictionaries/quizlet.csv') as f:\n",
    "    content = f.read()\n",
    "#     for p in ps:\n",
    "#         if p in content:\n",
    "#             print(p)\n",
    "#     for exp in ['\\tel ','\\tla ','\\tlos ','\\tlas ', ' or ']:\n",
    "#         if exp in content:\n",
    "#             print(exp)\n",
    "    for exp in [' \\t',' \\t ','\\t ',' \\n']:\n",
    "        if exp in content:\n",
    "            print(exp)\n",
    "#     for line in f:\n",
    "#         if line.startswith('to '):\n",
    "#             print(line)\n",
    "#     reader = csv.reader(\n",
    "#         f,\n",
    "#         delimiter='\\t',\n",
    "#     )\n",
    "#     for row in reader:\n",
    "#         print(row)"
   ]
  },
  {
   "cell_type": "code",
   "execution_count": null,
   "metadata": {
    "collapsed": true
   },
   "outputs": [],
   "source": []
  },
  {
   "cell_type": "markdown",
   "metadata": {},
   "source": [
    "# Speaking Latino"
   ]
  },
  {
   "cell_type": "code",
   "execution_count": 22,
   "metadata": {
    "collapsed": false
   },
   "outputs": [],
   "source": [
    "# http://www.speakinglatino.com/recipes-and-baking-vocabulary-for-spanish/"
   ]
  },
  {
   "cell_type": "code",
   "execution_count": 109,
   "metadata": {
    "collapsed": false
   },
   "outputs": [],
   "source": [
    "with open('data/dictionaries/speakinglatino.csv') as f:\n",
    "    content = f.read()\n",
    "#     for p in ps:\n",
    "#         if p in content:\n",
    "#             print(p)\n",
    "#     for exp in ['\\tel ','\\tla ','\\tlos ','\\tlas ', ' or ']:\n",
    "#         if exp in content:\n",
    "#             print(exp)\n",
    "    for exp in [' \\t',' \\t ','\\t ',' \\n']:\n",
    "        if exp in content:\n",
    "            print(exp)\n",
    "#     for line in f:\n",
    "#         if line.startswith('to '):\n",
    "#             print(line)\n",
    "#     reader = csv.reader(\n",
    "#         f,\n",
    "#         delimiter='\\t',\n",
    "#     )\n",
    "#     for row in reader:\n",
    "#         print(row)"
   ]
  },
  {
   "cell_type": "code",
   "execution_count": null,
   "metadata": {
    "collapsed": true
   },
   "outputs": [],
   "source": []
  },
  {
   "cell_type": "markdown",
   "metadata": {},
   "source": [
    "# Puerto Morelos Villas"
   ]
  },
  {
   "cell_type": "code",
   "execution_count": 22,
   "metadata": {
    "collapsed": false
   },
   "outputs": [],
   "source": [
    "# http://www.puertomorelosvillas.com/cooking-terms.html"
   ]
  },
  {
   "cell_type": "code",
   "execution_count": 108,
   "metadata": {
    "collapsed": false
   },
   "outputs": [],
   "source": [
    "with open('data/dictionaries/puertomorelosvillas.csv') as f:\n",
    "    content = f.read()\n",
    "#     for p in ps:\n",
    "#         if p in content:\n",
    "#             print(p)\n",
    "#     for exp in ['\\tel ','\\tla ','\\tlos ','\\tlas ', ' or ']:\n",
    "#         if exp in content:\n",
    "#             print(exp)\n",
    "    for exp in [' \\t',' \\t ','\\t ',' \\n']:\n",
    "        if exp in content:\n",
    "            print(exp)\n",
    "#     for line in f:\n",
    "#         if line.startswith('to '):\n",
    "#             print(line)\n",
    "#     reader = csv.reader(\n",
    "#         f,\n",
    "#         delimiter='\\t',\n",
    "#     )\n",
    "#     for row in reader:\n",
    "#         print(row)\n",
    "\n",
    "# with open('data/dictionaries/puertomorelosvillas.csv', 'w') as f:\n",
    "#     f.write(content.lower())"
   ]
  },
  {
   "cell_type": "code",
   "execution_count": null,
   "metadata": {
    "collapsed": true
   },
   "outputs": [],
   "source": []
  },
  {
   "cell_type": "markdown",
   "metadata": {},
   "source": [
    "# Lingolex"
   ]
  },
  {
   "cell_type": "code",
   "execution_count": 22,
   "metadata": {
    "collapsed": false
   },
   "outputs": [],
   "source": [
    "# http://www.lingolex.com/spanishfood/index.htm"
   ]
  },
  {
   "cell_type": "code",
   "execution_count": 107,
   "metadata": {
    "collapsed": false
   },
   "outputs": [],
   "source": [
    "with open('data/dictionaries/lingolex.csv') as f:\n",
    "#     content = f.read()\n",
    "#     for p in ps:\n",
    "#         if p in content:\n",
    "#             print(p)\n",
    "#     for exp in ['\\tel ','\\tla ','\\tlos ','\\tlas ', ' or ']:\n",
    "#         if exp in content:\n",
    "#             print(exp)\n",
    "    for exp in [' \\t',' \\t ','\\t ',' \\n']:\n",
    "        if exp in content:\n",
    "            print(exp)\n",
    "#     for line in f:\n",
    "#         if line.startswith('to ') or line.startswith('/to '):\n",
    "#             print(line)\n",
    "#     reader = csv.reader(\n",
    "#         f,\n",
    "#         delimiter='\\t',\n",
    "#     )\n",
    "#     for row in reader:\n",
    "#         print(row)\n",
    "\n",
    "# with open('data/dictionaries/lingolex.csv', 'w') as f:\n",
    "#     f.write(content.lower())"
   ]
  },
  {
   "cell_type": "code",
   "execution_count": null,
   "metadata": {
    "collapsed": true
   },
   "outputs": [],
   "source": []
  },
  {
   "cell_type": "markdown",
   "metadata": {},
   "source": [
    "# Fluent U"
   ]
  },
  {
   "cell_type": "code",
   "execution_count": 22,
   "metadata": {
    "collapsed": false
   },
   "outputs": [],
   "source": [
    "# http://www.fluentu.com/spanish/blog/spanish-food-vocabulary/"
   ]
  },
  {
   "cell_type": "code",
   "execution_count": 106,
   "metadata": {
    "collapsed": false
   },
   "outputs": [],
   "source": [
    "with open('data/dictionaries/fluentu.csv') as f:\n",
    "    content = f.read()\n",
    "#     for p in ps:\n",
    "#         if p in content:\n",
    "#             print(p)\n",
    "#     for exp in ['\\tel ','\\tla ','\\tlos ','\\tlas ', ' or ']:\n",
    "#         if exp in content:\n",
    "#             print(exp)\n",
    "    for exp in [' \\t',' \\t ','\\t ',' \\n']:\n",
    "        if exp in content:\n",
    "            print(exp)\n",
    "#     for line in f:\n",
    "#         if line.startswith('to ') or line.startswith('/to '):\n",
    "#             print(line)\n",
    "#     reader = csv.reader(\n",
    "#         f,\n",
    "#         delimiter='\\t',\n",
    "#     )\n",
    "#     for row in reader:\n",
    "#         print(row)\n",
    "# with open('data/dictionaries/fluentu.csv', 'w') as f:\n",
    "#     f.write(content.lower())"
   ]
  },
  {
   "cell_type": "code",
   "execution_count": null,
   "metadata": {
    "collapsed": true
   },
   "outputs": [],
   "source": []
  },
  {
   "cell_type": "markdown",
   "metadata": {},
   "source": [
    "# La tienda"
   ]
  },
  {
   "cell_type": "code",
   "execution_count": 22,
   "metadata": {
    "collapsed": false
   },
   "outputs": [],
   "source": [
    "# https://www.tienda.com/dons-travels/glossary.html"
   ]
  },
  {
   "cell_type": "code",
   "execution_count": 105,
   "metadata": {
    "collapsed": false
   },
   "outputs": [],
   "source": [
    "with open('data/dictionaries/tienda.csv') as f:\n",
    "    content = f.read()\n",
    "#     for p in ps:\n",
    "#         if p in content:\n",
    "#             print(p)\n",
    "#     for exp in ['\\tel ','\\tla ','\\tlos ','\\tlas ', ' or ']:\n",
    "#         if exp in content:\n",
    "#             print(exp)\n",
    "    for exp in [' \\t',' \\t ','\\t ',' \\n']:\n",
    "        if exp in content:\n",
    "            print(exp)\n",
    "#     for line in f:\n",
    "#         if line.startswith('to ') or line.startswith('/to '):\n",
    "#             print(line)\n",
    "#     reader = csv.reader(\n",
    "#         f,\n",
    "#         delimiter='\\t',\n",
    "#     )\n",
    "#     for row in reader:\n",
    "#         print(row)\n",
    "# with open('data/dictionaries/tienda.csv', 'w') as f:\n",
    "#     f.write(content.lower())"
   ]
  },
  {
   "cell_type": "code",
   "execution_count": null,
   "metadata": {
    "collapsed": true
   },
   "outputs": [],
   "source": []
  },
  {
   "cell_type": "markdown",
   "metadata": {},
   "source": [
    "# Spanish fiestas"
   ]
  },
  {
   "cell_type": "code",
   "execution_count": 22,
   "metadata": {
    "collapsed": false
   },
   "outputs": [],
   "source": [
    "# http://www.spanish-fiestas.com/recipes/spanish-food-dictionary/"
   ]
  },
  {
   "cell_type": "code",
   "execution_count": 104,
   "metadata": {
    "collapsed": false
   },
   "outputs": [],
   "source": [
    "with open('data/dictionaries/spanish-fiestas.csv') as f:\n",
    "    content = f.read()\n",
    "#     for p in ps:\n",
    "#         if p in content:\n",
    "#             print(p)\n",
    "#     for exp in ['\\tel ','\\tla ','\\tlos ','\\tlas ', ' or ']:\n",
    "#         if exp in content:\n",
    "#             print(exp)\n",
    "    for exp in [' \\t',' \\t ','\\t ',' \\n']:\n",
    "        if exp in content:\n",
    "            print(exp)\n",
    "#     for line in f:\n",
    "#         if line.startswith('to ') or line.startswith('/to '):\n",
    "#             print(line)\n",
    "#     reader = csv.reader(\n",
    "#         f,\n",
    "#         delimiter='\\t',\n",
    "#     )\n",
    "#     for row in reader:\n",
    "#         print(row)\n",
    "# with open('data/dictionaries/spanish-fiestas.csv', 'w') as f:\n",
    "#     f.write(content.lower())"
   ]
  },
  {
   "cell_type": "code",
   "execution_count": null,
   "metadata": {
    "collapsed": true
   },
   "outputs": [],
   "source": []
  },
  {
   "cell_type": "markdown",
   "metadata": {},
   "source": [
    "# Cellartours"
   ]
  },
  {
   "cell_type": "code",
   "execution_count": 8,
   "metadata": {
    "collapsed": true
   },
   "outputs": [],
   "source": [
    "# http://www.cellartours.com/spain/gastronomy/spanish-a-z-food-dictionary-glossary.html"
   ]
  },
  {
   "cell_type": "code",
   "execution_count": 103,
   "metadata": {
    "collapsed": false
   },
   "outputs": [],
   "source": [
    "with open('data/dictionaries/cellartours.csv') as f:\n",
    "    content = f.read()\n",
    "#     for p in ps:\n",
    "#         if p in content:\n",
    "#             print(p)\n",
    "#     for exp in ['\\tel ','\\tla ','\\tlos ','\\tlas ', ' or ']:\n",
    "#         if exp in content:\n",
    "#             print(exp)\n",
    "    for exp in [' \\t',' \\t ','\\t ',' \\n']:\n",
    "        if exp in content:\n",
    "            print(exp)\n",
    "#     for line in f:\n",
    "#         if line.startswith('to ') or line.startswith('/to '):\n",
    "#             print(line)\n",
    "#     reader = csv.reader(\n",
    "#         f,\n",
    "#         delimiter='\\t',\n",
    "#     )\n",
    "#     for row in reader:\n",
    "#         print(row)\n",
    "# with open('data/dictionaries/cellartours.csv', 'w') as f:\n",
    "#     f.write(content.lower())"
   ]
  },
  {
   "cell_type": "code",
   "execution_count": null,
   "metadata": {
    "collapsed": true
   },
   "outputs": [],
   "source": []
  }
 ],
 "metadata": {
  "kernelspec": {
   "display_name": "Python 3",
   "language": "python",
   "name": "python3"
  },
  "language_info": {
   "codemirror_mode": {
    "name": "ipython",
    "version": 3
   },
   "file_extension": ".py",
   "mimetype": "text/x-python",
   "name": "python",
   "nbconvert_exporter": "python",
   "pygments_lexer": "ipython3",
   "version": "3.4.3"
  }
 },
 "nbformat": 4,
 "nbformat_minor": 0
}
