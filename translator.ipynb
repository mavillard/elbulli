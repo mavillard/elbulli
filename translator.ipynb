{
 "cells": [
  {
   "cell_type": "code",
   "execution_count": 1,
   "metadata": {
    "collapsed": true
   },
   "outputs": [],
   "source": [
    "import re"
   ]
  },
  {
   "cell_type": "code",
   "execution_count": 164,
   "metadata": {
    "collapsed": false
   },
   "outputs": [
    {
     "data": {
      "text/plain": [
       "['advertising']"
      ]
     },
     "execution_count": 164,
     "metadata": {},
     "output_type": "execute_result"
    }
   ],
   "source": [
    "text='''advertising A paid form of promotion that\n",
    "persuades and informs the public about what a\n",
    "business has to offer. (p. 191)\n",
    "example E dfdfdf (p. 222)'''\n",
    "re.findall('(.+?)\\s.*[A-Z].+\\(p\\.\\s\\d+\\)', text, re.DOTALL)"
   ]
  },
  {
   "cell_type": "code",
   "execution_count": 147,
   "metadata": {
    "collapsed": false
   },
   "outputs": [
    {
     "data": {
      "text/plain": [
       "['', 'weXasdXzxcX']"
      ]
     },
     "execution_count": 147,
     "metadata": {},
     "output_type": "execute_result"
    }
   ],
   "source": [
    "'qweXasdXzxcX'.split('q')"
   ]
  },
  {
   "cell_type": "code",
   "execution_count": 93,
   "metadata": {
    "collapsed": false
   },
   "outputs": [
    {
     "data": {
      "text/plain": [
       "'advertising A paid form of promotion that\\npersuades and informs the public about what a\\nbusiness has to offer. (p. 191)'"
      ]
     },
     "execution_count": 93,
     "metadata": {},
     "output_type": "execute_result"
    }
   ],
   "source": [
    "text"
   ]
  },
  {
   "cell_type": "code",
   "execution_count": 72,
   "metadata": {
    "collapsed": false
   },
   "outputs": [
    {
     "data": {
      "text/plain": [
       "['English slkadalksdj aslkdjasd l laskdja ', ' alskdjsald alkdj asld asldka d']"
      ]
     },
     "execution_count": 72,
     "metadata": {},
     "output_type": "execute_result"
    }
   ],
   "source": [
    "'English slkadalksdj aslkdjasd l laskdja Spanish alskdjsald alkdj asld asldka d'.split('Spanish')"
   ]
  },
  {
   "cell_type": "code",
   "execution_count": 85,
   "metadata": {
    "collapsed": false
   },
   "outputs": [
    {
     "data": {
      "text/plain": [
       "['X']"
      ]
     },
     "execution_count": 85,
     "metadata": {},
     "output_type": "execute_result"
    }
   ],
   "source": [
    "re.findall('X', 'A\\nB\\nX')#, re.MULTILINE)"
   ]
  },
  {
   "cell_type": "code",
   "execution_count": 41,
   "metadata": {
    "collapsed": true
   },
   "outputs": [],
   "source": [
    "s='qwertyAsdfghjZxcvb'"
   ]
  },
  {
   "cell_type": "code",
   "execution_count": null,
   "metadata": {
    "collapsed": true
   },
   "outputs": [],
   "source": []
  },
  {
   "cell_type": "code",
   "execution_count": 45,
   "metadata": {
    "collapsed": false
   },
   "outputs": [],
   "source": [
    "s='qwertyAsdfghjZxcvb'\n",
    "\n",
    "def upper_first(s):\n",
    "    new = ''\n",
    "    first = False\n",
    "    for c in s:\n",
    "        if not first:\n",
    "            if c.isupper():\n",
    "                first = True\n",
    "            new += c\n",
    "        else:\n",
    "            new += c.lower()\n",
    "    return new"
   ]
  },
  {
   "cell_type": "code",
   "execution_count": 46,
   "metadata": {
    "collapsed": false
   },
   "outputs": [
    {
     "data": {
      "text/plain": [
       "'qwertyAsdfghjzxcvb'"
      ]
     },
     "execution_count": 46,
     "metadata": {},
     "output_type": "execute_result"
    }
   ],
   "source": [
    "one(s)"
   ]
  },
  {
   "cell_type": "code",
   "execution_count": 36,
   "metadata": {
    "collapsed": false
   },
   "outputs": [
    {
     "data": {
      "text/plain": [
       "'A'"
      ]
     },
     "execution_count": 36,
     "metadata": {},
     "output_type": "execute_result"
    }
   ],
   "source": [
    "s.group()"
   ]
  },
  {
   "cell_type": "code",
   "execution_count": 68,
   "metadata": {
    "collapsed": false
   },
   "outputs": [
    {
     "data": {
      "text/plain": [
       "0"
      ]
     },
     "execution_count": 68,
     "metadata": {},
     "output_type": "execute_result"
    }
   ],
   "source": [
    "'qwertyq'.find('q')"
   ]
  },
  {
   "cell_type": "code",
   "execution_count": null,
   "metadata": {
    "collapsed": true
   },
   "outputs": [],
   "source": [
    "re.findall('(.+?)\\s.*[A-Z]', '''affirmative action Programs to locate, hire,\n",
    "train, and promote women and African''')"
   ]
  },
  {
   "cell_type": "code",
   "execution_count": 75,
   "metadata": {
    "collapsed": false
   },
   "outputs": [],
   "source": [
    "def only_one_upper_case(s):\n",
    "    upper = []\n",
    "    for c in s:\n",
    "        if c.isupper():\n",
    "            upper.append(1)\n",
    "        else:\n",
    "            upper.append(0)\n",
    "    return sum(upper) == 1"
   ]
  },
  {
   "cell_type": "code",
   "execution_count": 95,
   "metadata": {
    "collapsed": true
   },
   "outputs": [],
   "source": [
    "l=['a','b','c','d','e']"
   ]
  },
  {
   "cell_type": "code",
   "execution_count": 97,
   "metadata": {
    "collapsed": false
   },
   "outputs": [
    {
     "data": {
      "text/plain": [
       "'c'"
      ]
     },
     "execution_count": 97,
     "metadata": {},
     "output_type": "execute_result"
    }
   ],
   "source": [
    "l.pop(2)"
   ]
  },
  {
   "cell_type": "code",
   "execution_count": 107,
   "metadata": {
    "collapsed": false
   },
   "outputs": [
    {
     "data": {
      "text/plain": [
       "29"
      ]
     },
     "execution_count": 107,
     "metadata": {},
     "output_type": "execute_result"
    }
   ],
   "source": [
    "d"
   ]
  },
  {
   "cell_type": "code",
   "execution_count": 117,
   "metadata": {
    "collapsed": true
   },
   "outputs": [],
   "source": [
    "d1={1:1,2:2}\n",
    "d2={1:1,2:2}"
   ]
  },
  {
   "cell_type": "code",
   "execution_count": 118,
   "metadata": {
    "collapsed": false
   },
   "outputs": [
    {
     "data": {
      "text/plain": [
       "True"
      ]
     },
     "execution_count": 118,
     "metadata": {},
     "output_type": "execute_result"
    }
   ],
   "source": [
    "d1.keys()==d2.keys()"
   ]
  },
  {
   "cell_type": "code",
   "execution_count": 151,
   "metadata": {
    "collapsed": false
   },
   "outputs": [],
   "source": [
    "dictionary = {}\n",
    "with open('data/dictionaries/raw_dictionary.txt') as f:\n",
    "    content = f.read()\n",
    "    rest = content.replace('Glencoe Culinary Essentials Glossary/Glosario\\n', '')\n",
    "    page_separators = re.findall('([\\w\\s](\\d+) of 69)', rest)\n",
    "    a = b = c = d = e = 0\n",
    "    page_index = 1\n",
    "    correct_pages = []\n",
    "    failed_pages = []\n",
    "    for sep in page_separators:\n",
    "        a += 1\n",
    "        page_sep = sep[0]\n",
    "        page_num = sep[1]\n",
    "        page, rest = rest.split(page_sep)\n",
    "        page += '\\n'\n",
    "        letter = re.findall('([A-Z])\\n', page)\n",
    "        if letter:\n",
    "            b += 1\n",
    "            failed_pages.append(page_index)\n",
    "        else:\n",
    "            english_spanish = re.findall('English Español', page)\n",
    "            if english_spanish:\n",
    "                c += 1\n",
    "                failed_pages.append(page_index)\n",
    "            else:\n",
    "                english = re.findall('(English)\\n', page)\n",
    "                spanish = re.findall('(Español)\\n', page)\n",
    "                if len(english) == 1 and len(spanish) == 1:\n",
    "                    d += 1\n",
    "                    english_side, spanish_side = page.split('English\\n')[1].split('Español\\n')\n",
    "                    \n",
    "                    english_words = {}\n",
    "                    eng_def_sep = re.findall('\\(p\\.\\s\\d+\\)\\n', english_side)\n",
    "                    word_index = 1\n",
    "                    skipped_indexes = []\n",
    "                    for def_sep in eng_def_sep:\n",
    "                        aux_list = english_side.split(def_sep)\n",
    "                        definition = aux_list[0]\n",
    "                        period_index = definition.find('.')\n",
    "                        first_sentence = definition[:period_index]\n",
    "                        if only_one_upper_case(first_sentence):\n",
    "                            word = re.findall('(.+)\\s.?[A-Z]', first_sentence)[0]\n",
    "                            english_words[word_index] = word\n",
    "                        else:\n",
    "                            skipped_indexes.append(word_index)\n",
    "                        english_side = def_sep.join(aux_list[1:])\n",
    "                        word_index += 1\n",
    "                    \n",
    "                    spanish_words = {}\n",
    "                    spa_def_sep = re.findall('\\(p\\.\\s\\d+\\)\\s', spanish_side)\n",
    "                    word_index = 1\n",
    "                    for def_sep in spa_def_sep:\n",
    "                        aux_list = spanish_side.split(def_sep)\n",
    "                        if word_index not in skipped_indexes:\n",
    "                            definition = aux_list[0]\n",
    "                            period_index = definition.find('.')\n",
    "                            first_sentence = definition[:period_index]\n",
    "                            if only_one_upper_case(first_sentence):\n",
    "                                word = re.findall('(.+)\\s.?[A-ZÁÉÍÓÚ]', first_sentence)[0]\n",
    "                                spanish_words[word_index] = word\n",
    "                            else:\n",
    "                                del(english_words[word_index])\n",
    "                        spanish_side = def_sep.join(aux_list[1:])\n",
    "                        word_index += 1\n",
    "                    \n",
    "                    if english_words.keys() == spanish_words.keys():\n",
    "                        for k in english_words:\n",
    "                            dictionary[english_words[k]] = spanish_words[k]\n",
    "                        correct_pages.append(page_index)\n",
    "                    else:\n",
    "                        failed_pages.append(page_index)\n",
    "                else:\n",
    "                    e+=1\n",
    "                    failed_pages.append(page_index)\n",
    "        page_index += 1"
   ]
  },
  {
   "cell_type": "code",
   "execution_count": 154,
   "metadata": {
    "collapsed": false
   },
   "outputs": [
    {
     "data": {
      "text/plain": [
       "385"
      ]
     },
     "execution_count": 154,
     "metadata": {},
     "output_type": "execute_result"
    }
   ],
   "source": [
    "len(dictionary)"
   ]
  },
  {
   "cell_type": "code",
   "execution_count": null,
   "metadata": {
    "collapsed": true
   },
   "outputs": [],
   "source": []
  }
 ],
 "metadata": {
  "kernelspec": {
   "display_name": "Python 3",
   "language": "python",
   "name": "python3"
  },
  "language_info": {
   "codemirror_mode": {
    "name": "ipython",
    "version": 3
   },
   "file_extension": ".py",
   "mimetype": "text/x-python",
   "name": "python",
   "nbconvert_exporter": "python",
   "pygments_lexer": "ipython3",
   "version": "3.4.3"
  }
 },
 "nbformat": 4,
 "nbformat_minor": 0
}
