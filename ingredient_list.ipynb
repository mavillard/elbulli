{
 "cells": [
  {
   "cell_type": "code",
   "execution_count": 1,
   "metadata": {
    "collapsed": false
   },
   "outputs": [],
   "source": [
    "from nltk.stem import WordNetLemmatizer"
   ]
  },
  {
   "cell_type": "code",
   "execution_count": 2,
   "metadata": {
    "collapsed": true
   },
   "outputs": [],
   "source": [
    "def singularize(word):\n",
    "    if word == 'cookies':\n",
    "        result = 'cookie'\n",
    "    elif word == 'mrs':\n",
    "        result = 'mrs'\n",
    "    elif word == 'ras':\n",
    "        result = 'ras'\n",
    "    elif word == 'somen':\n",
    "        result = 'somen'\n",
    "    elif word == 'cos':\n",
    "        result = 'cos'\n",
    "    elif word == 'monks':\n",
    "        result = \"monk's\"\n",
    "    elif word == 'webbs':\n",
    "        result = \"webb's\"\n",
    "    else:\n",
    "        result = WordNetLemmatizer().lemmatize(word.lower())\n",
    "    return result"
   ]
  },
  {
   "cell_type": "code",
   "execution_count": 3,
   "metadata": {
    "collapsed": false
   },
   "outputs": [],
   "source": [
    "ingredients = set()\n",
    "\n",
    "files = ['barabasi_ingredients', 'foodcom_ingredients', 'ndtvfood_ingredients', 'bbcfood_ingredients']\n",
    "path = 'data/ingredients/'\n",
    "for filename in files:\n",
    "    file_path = path + filename + '.txt'\n",
    "    with open(file_path) as f:\n",
    "        for line in f:\n",
    "            ingredient = line.strip()\n",
    "            singularized = ' '.join(map(singularize, ingredient.split()))\n",
    "            ingredients.add(singularized)\n",
    "\n",
    "with open('data/ingredients/all_ingredients.txt', 'w') as f:\n",
    "    f.write('\\n'.join(sorted(ingredients)))"
   ]
  },
  {
   "cell_type": "code",
   "execution_count": 4,
   "metadata": {
    "collapsed": false
   },
   "outputs": [
    {
     "data": {
      "text/plain": [
       "1907"
      ]
     },
     "execution_count": 4,
     "metadata": {},
     "output_type": "execute_result"
    }
   ],
   "source": [
    "len(ingredients)"
   ]
  },
  {
   "cell_type": "code",
   "execution_count": null,
   "metadata": {
    "collapsed": true
   },
   "outputs": [],
   "source": []
  }
 ],
 "metadata": {
  "kernelspec": {
   "display_name": "Python 3",
   "language": "python",
   "name": "python3"
  },
  "language_info": {
   "codemirror_mode": {
    "name": "ipython",
    "version": 3
   },
   "file_extension": ".py",
   "mimetype": "text/x-python",
   "name": "python",
   "nbconvert_exporter": "python",
   "pygments_lexer": "ipython3",
   "version": "3.4.3"
  }
 },
 "nbformat": 4,
 "nbformat_minor": 0
}
