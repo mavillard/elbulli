{
 "cells": [
  {
   "cell_type": "code",
   "execution_count": 1,
   "metadata": {
    "collapsed": false
   },
   "outputs": [
    {
     "data": {
      "text/plain": [
       "74"
      ]
     },
     "execution_count": 1,
     "metadata": {},
     "output_type": "execute_result"
    }
   ],
   "source": [
    "# http://gastronomiaycia.republica.com/category/tecnicas-culinarias/\n",
    "techniques1 = set(map(lambda x: x.lower(), [\n",
    "    'fraisage o fresado', 'sifflets', 'escalfar o pochar', 'paille', 'battonete o en bastones', 'allumete o en cerilla',\n",
    "    'rouelle o en rodajas', 'empanar', 'concertina', 'bridar', 'en gajos', 'paisana', 'brunoise', 'salteado o saltear',\n",
    "    'estofado o estofar', 'guiso o guisado o guisar', 'dorar o dorado', 'albardar', 'chiffonade', 'baño maría',\n",
    "    'escalfar o escalfado', 'rehogar o rehogado', 'sofrito o sofreir', 'mechar o mechada',\n",
    "    'brasear o braseada o a la brasa', 'gratinar o gratinado', 'asar o asado', 'freir o frito', 'a la sal',\n",
    "    'papillote o papillot', 'hervir', 'al vapor', 'en caldo blanco', 'blanquear',\n",
    "    'fraisage / fresado', 'escalfar / pochar', 'empanar', 'sangler/hielo y sal para enfriar',\n",
    "    'asar / al horno / hornear', 'contiser / aromatizar', 'salteado', 'estofado', 'guisar', 'marinar', 'dorar',\n",
    "    'albardar / cubrir de bacon', 'remojar', 'baño maría', 'rehogar', 'sofreir', 'mechar', 'brasear', 'gratinar',\n",
    "    'freir', 'cocinar a la sal', 'papillote / papillot', 'reducir', 'hervir', 'cocer al vapor', 'cocer en caldo blanco',\n",
    "    'blanquear / escaldar', 'a la plancha', 'a la parrilla', 'a la brasa', 'rustir', 'brasear', 'sifflets', 'fetas',\n",
    "    'mariposa', 'paille', 'rombo / diamante', 'rondelle', 'batonnet', 'allumette', 'rouelle', 'concertina', 'tornear',\n",
    "    'juliana', 'pluma', 'paisana', 'brunoise', 'chiffonade', 'duro', 'tresse / trenzado',\n",
    "]))\n",
    "len(techniques1)"
   ]
  },
  {
   "cell_type": "code",
   "execution_count": 2,
   "metadata": {
    "collapsed": false
   },
   "outputs": [
    {
     "data": {
      "text/plain": [
       "22"
      ]
     },
     "execution_count": 2,
     "metadata": {},
     "output_type": "execute_result"
    }
   ],
   "source": [
    "# http://gastronomiaycia.republica.com/2008/08/21/los-metodos-de-coccion/\n",
    "techniques2 = set(map(lambda x: x.lower(), [\n",
    "    'Al horno o asar', 'a la sal', 'papillote', 'A la plancha', 'A la parrilla', 'A la brasa', 'Gratinar', 'Rustir',\n",
    "    'Baño maría o al baño maría', 'Al vacío', 'Hervir', 'Blanquear o Escaldar', 'Escalfar o Pochar',\n",
    "    'Cocción al vapor o al vapor o cocer al vapor o cocinar al vapor',\n",
    "    'Cocción en caldo blanco o en caldo blanco o cocer en caldo blanco o cocinar en caldo blanco', 'Freír',\n",
    "    'Rehogar o sofreír', 'Saltear', 'Dorar', 'Guisar', 'Estofar', 'Brasear'\n",
    "]))\n",
    "len(techniques2)"
   ]
  },
  {
   "cell_type": "code",
   "execution_count": 3,
   "metadata": {
    "collapsed": false
   },
   "outputs": [
    {
     "data": {
      "text/plain": [
       "15"
      ]
     },
     "execution_count": 3,
     "metadata": {},
     "output_type": "execute_result"
    }
   ],
   "source": [
    "# http://www.cocinista.es/web/es/recetas/hazlo-tu-mismo/otras-tecnicas-de-cocina.html\n",
    "techniques3 = set(map(lambda x: x.lower(), [\n",
    "    'pasado por agua', 'mollet', 'duro o cocido', 'clarificado con agar-agar', 'deshidratar', 'vacío o al vacío',\n",
    "    'baja temperatura o a baja temperatura', 'sartén', 'horno', 'barbacoa', 'cazuela', 'confitar', 'freir', 'marinar',\n",
    "    'vapor'\n",
    "]))\n",
    "len(techniques3)"
   ]
  },
  {
   "cell_type": "code",
   "execution_count": 4,
   "metadata": {
    "collapsed": false
   },
   "outputs": [
    {
     "data": {
      "text/plain": [
       "13"
      ]
     },
     "execution_count": 4,
     "metadata": {},
     "output_type": "execute_result"
    }
   ],
   "source": [
    "# http://www.escueladecocina.net/tecnica/tecnicas-de-cocina-basicas.php\n",
    "techniques4 = set(map(lambda x: x.lower(), [\n",
    "    'asado', 'cocción', 'fritura/freir', 'putrefacción', 'cocción lenta', 'asado a a parrilla', 'cocción al vapor',\n",
    "    'fritura', 'hervir', 'escalfar', 'cocción a presión', 'freir', 'asar'\n",
    "]))\n",
    "len(techniques4)"
   ]
  },
  {
   "cell_type": "code",
   "execution_count": 5,
   "metadata": {
    "collapsed": false
   },
   "outputs": [
    {
     "data": {
      "text/plain": [
       "9"
      ]
     },
     "execution_count": 5,
     "metadata": {},
     "output_type": "execute_result"
    }
   ],
   "source": [
    "# http://www.escueladecocina.net/tecnica/tecnicas-culinarias.php\n",
    "techniques5 = set(map(lambda x: x.lower(), [\n",
    "    'en agua', 'al vapor', 'estofados', 'presión', 'asado', 'por microondas', 'al grill', 'fritos', 'ceviche'\n",
    "]))\n",
    "len(techniques5)"
   ]
  },
  {
   "cell_type": "code",
   "execution_count": 6,
   "metadata": {
    "collapsed": false
   },
   "outputs": [
    {
     "data": {
      "text/plain": [
       "18"
      ]
     },
     "execution_count": 6,
     "metadata": {},
     "output_type": "execute_result"
    }
   ],
   "source": [
    "# http://www.escueladecocina.net/tecnica/tecnicas-culinarias.php\n",
    "techniques6 = set(map(lambda x: x.lower(), [\n",
    "    'baño maría inverso', 'a la sal', 'glasear/glaseado', 'brunoise/brunoisse', 'blanquear', 'sofrito/sofreir',\n",
    "    'baño maría', 'nitrógeno líquido', 'a la cazuela/en cocotte', 'freir', 'bridar', 'en papillote',\n",
    "    'adobar/adobado/en adobo', 'rebozar/rebozado', 'en concasse', 'juliana', 'secar/desecar/deshidratar', 'curar/curado'\n",
    "]))\n",
    "len(techniques6)"
   ]
  },
  {
   "cell_type": "code",
   "execution_count": 7,
   "metadata": {
    "collapsed": false
   },
   "outputs": [
    {
     "data": {
      "text/plain": [
       "11"
      ]
     },
     "execution_count": 7,
     "metadata": {},
     "output_type": "execute_result"
    }
   ],
   "source": [
    "# http://tecnicas-de-cocina.blogspot.ca/\n",
    "techniques7 = set(map(lambda x: x.lower(), [\n",
    "    'hervir/boullir', 'en vapor/vapeur/vapor/al vapor', 'breseado/braseado/en su jugo/braiser', 'guisar/estofar/etouffée',\n",
    "    'freír/frire', 'saltear/sauter', 'grillar/grill', 'asar/rótir', 'hornear', 'glasear/glaser', 'gratinar/gratiner'\n",
    "]))\n",
    "len(techniques7)"
   ]
  },
  {
   "cell_type": "code",
   "execution_count": 8,
   "metadata": {
    "collapsed": false
   },
   "outputs": [
    {
     "data": {
      "text/plain": [
       "6"
      ]
     },
     "execution_count": 8,
     "metadata": {},
     "output_type": "execute_result"
    }
   ],
   "source": [
    "# Wikipedia - otros\n",
    "techniques8 = set(map(lambda x: x.lower(), [\n",
    "    'escalfado/pochado', 'escaldado', 'al vacío/sous-vide', 'reducción/reduction', 'glasear', 'marinado'\n",
    "]))\n",
    "len(techniques8)"
   ]
  },
  {
   "cell_type": "code",
   "execution_count": 9,
   "metadata": {
    "collapsed": true
   },
   "outputs": [],
   "source": [
    "techniques = techniques1.union(techniques2) \\\n",
    "                        .union(techniques3) \\\n",
    "                        .union(techniques4) \\\n",
    "                        .union(techniques5) \\\n",
    "                        .union(techniques6) \\\n",
    "                        .union(techniques7) \\\n",
    "                        .union(techniques8)\n",
    "techniques = sorted(techniques)"
   ]
  },
  {
   "cell_type": "code",
   "execution_count": 10,
   "metadata": {
    "collapsed": false
   },
   "outputs": [
    {
     "data": {
      "text/plain": [
       "145"
      ]
     },
     "execution_count": 10,
     "metadata": {},
     "output_type": "execute_result"
    }
   ],
   "source": [
    "len(techniques)"
   ]
  },
  {
   "cell_type": "code",
   "execution_count": 11,
   "metadata": {
    "collapsed": false
   },
   "outputs": [
    {
     "data": {
      "text/plain": [
       "['a la brasa',\n",
       " 'a la cazuela/en cocotte',\n",
       " 'a la parrilla',\n",
       " 'a la plancha',\n",
       " 'a la sal',\n",
       " 'adobar/adobado/en adobo',\n",
       " 'al grill',\n",
       " 'al horno o asar',\n",
       " 'al vacío',\n",
       " 'al vacío/sous-vide',\n",
       " 'al vapor',\n",
       " 'albardar',\n",
       " 'albardar / cubrir de bacon',\n",
       " 'allumete o en cerilla',\n",
       " 'allumette',\n",
       " 'asado',\n",
       " 'asado a a parrilla',\n",
       " 'asar',\n",
       " 'asar / al horno / hornear',\n",
       " 'asar o asado',\n",
       " 'asar/rótir',\n",
       " 'baja temperatura o a baja temperatura',\n",
       " 'barbacoa',\n",
       " 'batonnet',\n",
       " 'battonete o en bastones',\n",
       " 'baño maría',\n",
       " 'baño maría inverso',\n",
       " 'baño maría o al baño maría',\n",
       " 'blanquear',\n",
       " 'blanquear / escaldar',\n",
       " 'blanquear o escaldar',\n",
       " 'brasear',\n",
       " 'brasear o braseada o a la brasa',\n",
       " 'breseado/braseado/en su jugo/braiser',\n",
       " 'bridar',\n",
       " 'brunoise',\n",
       " 'brunoise/brunoisse',\n",
       " 'cazuela',\n",
       " 'ceviche',\n",
       " 'chiffonade',\n",
       " 'clarificado con agar-agar',\n",
       " 'cocción',\n",
       " 'cocción a presión',\n",
       " 'cocción al vapor',\n",
       " 'cocción al vapor o al vapor o cocer al vapor o cocinar al vapor',\n",
       " 'cocción en caldo blanco o en caldo blanco o cocer en caldo blanco o cocinar en caldo blanco',\n",
       " 'cocción lenta',\n",
       " 'cocer al vapor',\n",
       " 'cocer en caldo blanco',\n",
       " 'cocinar a la sal',\n",
       " 'concertina',\n",
       " 'confitar',\n",
       " 'contiser / aromatizar',\n",
       " 'curar/curado',\n",
       " 'deshidratar',\n",
       " 'dorar',\n",
       " 'dorar o dorado',\n",
       " 'duro',\n",
       " 'duro o cocido',\n",
       " 'empanar',\n",
       " 'en agua',\n",
       " 'en caldo blanco',\n",
       " 'en concasse',\n",
       " 'en gajos',\n",
       " 'en papillote',\n",
       " 'en vapor/vapeur/vapor/al vapor',\n",
       " 'escaldado',\n",
       " 'escalfado/pochado',\n",
       " 'escalfar',\n",
       " 'escalfar / pochar',\n",
       " 'escalfar o escalfado',\n",
       " 'escalfar o pochar',\n",
       " 'estofado',\n",
       " 'estofado o estofar',\n",
       " 'estofados',\n",
       " 'estofar',\n",
       " 'fetas',\n",
       " 'fraisage / fresado',\n",
       " 'fraisage o fresado',\n",
       " 'freir',\n",
       " 'freir o frito',\n",
       " 'freír',\n",
       " 'freír/frire',\n",
       " 'fritos',\n",
       " 'fritura',\n",
       " 'fritura/freir',\n",
       " 'glasear',\n",
       " 'glasear/glaseado',\n",
       " 'glasear/glaser',\n",
       " 'gratinar',\n",
       " 'gratinar o gratinado',\n",
       " 'gratinar/gratiner',\n",
       " 'grillar/grill',\n",
       " 'guisar',\n",
       " 'guisar/estofar/etouffée',\n",
       " 'guiso o guisado o guisar',\n",
       " 'hervir',\n",
       " 'hervir/boullir',\n",
       " 'hornear',\n",
       " 'horno',\n",
       " 'juliana',\n",
       " 'marinado',\n",
       " 'marinar',\n",
       " 'mariposa',\n",
       " 'mechar',\n",
       " 'mechar o mechada',\n",
       " 'mollet',\n",
       " 'nitrógeno líquido',\n",
       " 'paille',\n",
       " 'paisana',\n",
       " 'papillote',\n",
       " 'papillote / papillot',\n",
       " 'papillote o papillot',\n",
       " 'pasado por agua',\n",
       " 'pluma',\n",
       " 'por microondas',\n",
       " 'presión',\n",
       " 'putrefacción',\n",
       " 'rebozar/rebozado',\n",
       " 'reducción/reduction',\n",
       " 'reducir',\n",
       " 'rehogar',\n",
       " 'rehogar o rehogado',\n",
       " 'rehogar o sofreír',\n",
       " 'remojar',\n",
       " 'rombo / diamante',\n",
       " 'rondelle',\n",
       " 'rouelle',\n",
       " 'rouelle o en rodajas',\n",
       " 'rustir',\n",
       " 'salteado',\n",
       " 'salteado o saltear',\n",
       " 'saltear',\n",
       " 'saltear/sauter',\n",
       " 'sangler/hielo y sal para enfriar',\n",
       " 'sartén',\n",
       " 'secar/desecar/deshidratar',\n",
       " 'sifflets',\n",
       " 'sofreir',\n",
       " 'sofrito o sofreir',\n",
       " 'sofrito/sofreir',\n",
       " 'tornear',\n",
       " 'tresse / trenzado',\n",
       " 'vacío o al vacío',\n",
       " 'vapor']"
      ]
     },
     "execution_count": 11,
     "metadata": {},
     "output_type": "execute_result"
    }
   ],
   "source": [
    "techniques"
   ]
  },
  {
   "cell_type": "code",
   "execution_count": 12,
   "metadata": {
    "collapsed": true
   },
   "outputs": [],
   "source": [
    "with open('data/techniques/es_other_traditional_techniques.txt', 'w') as f:\n",
    "    f.write('\\n'.join(techniques))"
   ]
  }
 ],
 "metadata": {
  "kernelspec": {
   "display_name": "Python 3",
   "language": "python",
   "name": "python3"
  },
  "language_info": {
   "codemirror_mode": {
    "name": "ipython",
    "version": 3
   },
   "file_extension": ".py",
   "mimetype": "text/x-python",
   "name": "python",
   "nbconvert_exporter": "python",
   "pygments_lexer": "ipython3",
   "version": "3.4.3"
  }
 },
 "nbformat": 4,
 "nbformat_minor": 0
}
