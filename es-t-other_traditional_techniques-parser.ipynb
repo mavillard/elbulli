{
 "cells": [
  {
   "cell_type": "code",
   "execution_count": null,
   "metadata": {
    "collapsed": true
   },
   "outputs": [],
   "source": [
    "# http://gastronomiaycia.republica.com/category/tecnicas-culinarias/\n",
    "techniques1 = set(map(lambda x: x.lower(), [\n",
    "    'fraisage o fresado', 'sifflets', 'escalfar o pochar', 'paille', 'battonete o en bastones', 'allumete o en cerilla',\n",
    "    'rouelle o en rodajas', 'empanar', 'concertina', 'bridar', 'en gajos', 'paisana', 'brunoise', 'salteado o saltear',\n",
    "    'estofado o estofar', 'guiso o guisado o guisar', 'dorar o dorado', 'albardar', 'chiffonade', 'baño maría',\n",
    "    'escalfar o escalfado', 'rehogar o rehogado', 'sofrito o sofreir', 'mechar o mechada',\n",
    "    'brasear o braseada o a la brasa', 'gratinar o gratinado', 'asar o asado', 'freir o frito', 'a la sal',\n",
    "    'papillote o papillot', 'hervir', 'al vapor', 'en caldo blanco', 'blanquear',\n",
    "    'fraisage / fresado', 'escalfar / pochar', 'empanar', 'sangler/hielo y sal para enfriar',\n",
    "    'asar / al horno / hornear', 'contiser / aromatizar', 'salteado', 'estofado', 'guisar', 'marinar', 'dorar',\n",
    "    'albardar / cubrir de bacon', 'remojar', 'baño maría', 'rehogar', 'sofreir', 'mechar', 'brasear', 'gratinar',\n",
    "    'freir', 'cocinar a la sal', 'papillote / papillot', 'reducir', 'hervir', 'cocer al vapor', 'cocer en caldo blanco',\n",
    "    'blanquear / escaldar', 'a la plancha', 'a la parrilla', 'a la brasa', 'rustir', 'brasear', 'sifflets', 'fetas',\n",
    "    'mariposa', 'paille', 'rombo / diamante', 'rondelle', 'batonnet', 'allumette', 'rouelle', 'concertina', 'tornear',\n",
    "    'juliana', 'pluma', 'paisana', 'brunoise', 'chiffonade', 'duro', 'tresse / trenzado',\n",
    "]))\n",
    "len(techniques1)"
   ]
  },
  {
   "cell_type": "code",
   "execution_count": 2,
   "metadata": {
    "collapsed": false
   },
   "outputs": [
    {
     "data": {
      "text/plain": [
       "4"
      ]
     },
     "execution_count": 2,
     "metadata": {},
     "output_type": "execute_result"
    }
   ],
   "source": [
    "# http://gastronomiaycia.republica.com/2008/08/21/los-metodos-de-coccion/\n",
    "techniques2 = set(map(lambda x: x.lower(), [\n",
    "    'Al horno o asar', 'a la sal', 'papillote', 'A la plancha', 'A la parrilla', 'A la brasa', 'Gratinar', 'Rustir',\n",
    "    'Baño maría o al baño maría', 'Al vacío', 'Hervir', 'Blanquear o Escaldar', 'Escalfar o Pochar',\n",
    "    'Cocción al vapor o al vapor o cocer al vapor o cocinar al vapor',\n",
    "    'Cocción en caldo blanco o en caldo blanco o cocer en caldo blanco o cocinar en caldo blanco', 'Freír',\n",
    "    'Rehogar o sofreír', 'Saltear', 'Dorar', 'Guisar', 'Estofar', 'Brasear'\n",
    "]))\n",
    "len(techniques2)"
   ]
  },
  {
   "cell_type": "code",
   "execution_count": 2,
   "metadata": {
    "collapsed": false
   },
   "outputs": [
    {
     "data": {
      "text/plain": [
       "4"
      ]
     },
     "execution_count": 2,
     "metadata": {},
     "output_type": "execute_result"
    }
   ],
   "source": [
    "# http://www.cocinista.es/web/es/recetas/hazlo-tu-mismo/otras-tecnicas-de-cocina.html\n",
    "techniques3 = set(map(lambda x: x.lower(), [\n",
    "    'pasado por agua', 'mollet', 'duro o cocido', 'clarificado con agar-agar', 'deshidratar', 'vacío o al vacío',\n",
    "    'baja temperatura o a baja temperatura', 'sartén', 'horno', 'barbacoa', 'cazuela', 'confitar', 'freir', 'marinar',\n",
    "    'vapor'\n",
    "]))\n",
    "len(techniques3)"
   ]
  },
  {
   "cell_type": "code",
   "execution_count": 2,
   "metadata": {
    "collapsed": false
   },
   "outputs": [
    {
     "data": {
      "text/plain": [
       "4"
      ]
     },
     "execution_count": 2,
     "metadata": {},
     "output_type": "execute_result"
    }
   ],
   "source": [
    "# http://www.escueladecocina.net/tecnica/tecnicas-de-cocina-basicas.php\n",
    "techniques4 = set(map(lambda x: x.lower(), [\n",
    "    'asado', 'cocción', 'fritura/freir', 'putrefacción', 'cocción lenta', 'asado a a parrilla', 'cocción al vapor',\n",
    "    'fritura', 'hervir', 'escalfar', 'cocción a presión', 'freir', 'asar'\n",
    "]))\n",
    "len(techniques4)"
   ]
  },
  {
   "cell_type": "code",
   "execution_count": 2,
   "metadata": {
    "collapsed": false
   },
   "outputs": [
    {
     "data": {
      "text/plain": [
       "4"
      ]
     },
     "execution_count": 2,
     "metadata": {},
     "output_type": "execute_result"
    }
   ],
   "source": [
    "# http://www.escueladecocina.net/tecnica/tecnicas-culinarias.php\n",
    "techniques5 = set(map(lambda x: x.lower(), [\n",
    "    'en agua', 'al vapor', 'estofados', 'presión', 'asado', 'por microondas', 'al grill', 'fritos', 'ceviche'\n",
    "]))\n",
    "len(techniques5)"
   ]
  },
  {
   "cell_type": "code",
   "execution_count": 2,
   "metadata": {
    "collapsed": false
   },
   "outputs": [
    {
     "data": {
      "text/plain": [
       "4"
      ]
     },
     "execution_count": 2,
     "metadata": {},
     "output_type": "execute_result"
    }
   ],
   "source": [
    "# http://www.escueladecocina.net/tecnica/tecnicas-culinarias.php\n",
    "techniques6 = set(map(lambda x: x.lower(), [\n",
    "    'baño maría inverso', 'a la sal', 'glasear/glaseado', 'brunoise/brunoisse', 'blanquear', 'sofrito/sofreir',\n",
    "    'baño maría', 'nitrógeno líquido', 'a la cazuela/en cocotte', 'freir', 'bridar', 'en papillote',\n",
    "    'adobar/adobado/en adobo', 'rebozar/rebozado', 'en concasse', 'juliana', 'secar/desecar/deshidratar', 'curar/curado'\n",
    "]))\n",
    "len(techniques6)"
   ]
  },
  {
   "cell_type": "code",
   "execution_count": 2,
   "metadata": {
    "collapsed": false
   },
   "outputs": [
    {
     "data": {
      "text/plain": [
       "4"
      ]
     },
     "execution_count": 2,
     "metadata": {},
     "output_type": "execute_result"
    }
   ],
   "source": [
    "# http://tecnicas-de-cocina.blogspot.ca/\n",
    "techniques7 = set(map(lambda x: x.lower(), [\n",
    "    'hervir/boullir', 'en vapor/vapeur', 'breseado/braseado/en su jugo/braiser', 'guisar/estofar/etouffée',\n",
    "    'freír/frire', 'saltear/sauter', 'grillar/grill', 'asar/rótir', 'hornear', 'glasear/glaser', 'gratinar/gratiner'\n",
    "]))\n",
    "len(techniques7)"
   ]
  },
  {
   "cell_type": "code",
   "execution_count": 2,
   "metadata": {
    "collapsed": false
   },
   "outputs": [
    {
     "data": {
      "text/plain": [
       "4"
      ]
     },
     "execution_count": 2,
     "metadata": {},
     "output_type": "execute_result"
    }
   ],
   "source": [
    "# Wikipedia - otros\n",
    "techniques8 = set(map(lambda x: x.lower(), [\n",
    "    'escalfado/pochado', 'escaldado', 'al vacío/sous-vide', 'reducción/reduction', 'glasear', 'marinado'\n",
    "]))\n",
    "len(techniques8)"
   ]
  }
 ],
 "metadata": {
  "kernelspec": {
   "display_name": "Python 3",
   "language": "python",
   "name": "python3"
  },
  "language_info": {
   "codemirror_mode": {
    "name": "ipython",
    "version": 3
   },
   "file_extension": ".py",
   "mimetype": "text/x-python",
   "name": "python",
   "nbconvert_exporter": "python",
   "pygments_lexer": "ipython3",
   "version": "3.4.3"
  }
 },
 "nbformat": 4,
 "nbformat_minor": 0
}
