{
 "cells": [
  {
   "cell_type": "code",
   "execution_count": 9,
   "metadata": {
    "collapsed": false
   },
   "outputs": [],
   "source": [
    "import networkx as nx\n",
    "import csv\n",
    "from pymongo import MongoClient"
   ]
  },
  {
   "cell_type": "code",
   "execution_count": 17,
   "metadata": {
    "collapsed": false
   },
   "outputs": [],
   "source": [
    "gi = nx.read_gexf('data/spanish_ingredients_lexicon_4.gexf')"
   ]
  },
  {
   "cell_type": "code",
   "execution_count": 18,
   "metadata": {
    "collapsed": false
   },
   "outputs": [],
   "source": [
    "gt = nx.read_gexf('data/spanish_techniques_lexicon_4.gexf')"
   ]
  },
  {
   "cell_type": "code",
   "execution_count": 5,
   "metadata": {
    "collapsed": false
   },
   "outputs": [
    {
     "data": {
      "text/plain": [
       "{'bechamel de tomate',\n",
       " 'bechamel de tomates',\n",
       " 'bechamel tomate',\n",
       " 'bechamel tomates',\n",
       " 'besamel de tomate',\n",
       " 'besamel de tomates',\n",
       " 'besamel tomate',\n",
       " 'besamel tomates',\n",
       " 'salsa de tomate',\n",
       " 'salsa de tomates',\n",
       " 'salsa tomate',\n",
       " 'salsa tomates'}"
      ]
     },
     "execution_count": 5,
     "metadata": {},
     "output_type": "execute_result"
    }
   ],
   "source": [
    "i = 'salsa de tomate'\n",
    "nx.node_connected_component(gi, i)"
   ]
  },
  {
   "cell_type": "code",
   "execution_count": 6,
   "metadata": {
    "collapsed": false
   },
   "outputs": [
    {
     "data": {
      "text/plain": [
       "{'dun',\n",
       " 'estofado',\n",
       " 'estofados',\n",
       " 'estofar',\n",
       " 'etouffee',\n",
       " 'etouffée',\n",
       " 'guisado',\n",
       " 'guisar',\n",
       " 'guiso',\n",
       " 'nimono'}"
      ]
     },
     "execution_count": 6,
     "metadata": {},
     "output_type": "execute_result"
    }
   ],
   "source": [
    "t = 'estofar'\n",
    "nx.node_connected_component(gt, t)"
   ]
  },
  {
   "cell_type": "code",
   "execution_count": 8,
   "metadata": {
    "collapsed": false
   },
   "outputs": [],
   "source": [
    "path_gexf = 'data/elbulli.gexf'\n",
    "b = nx.read_gexf(path_gexf)"
   ]
  },
  {
   "cell_type": "code",
   "execution_count": 11,
   "metadata": {
    "collapsed": false
   },
   "outputs": [
    {
     "name": "stdout",
     "output_type": "stream",
     "text": [
      "('1203', {'nodetype': 'Receta', 'label': '1203', 'titulo': 'moshi: de yogur y frambuesa / de fruta de la pasión y regaliz / de café y guanábana'})\n"
     ]
    }
   ],
   "source": [
    "for n in b.nodes_iter(data=True):\n",
    "    if n[1]['nodetype'] == 'Receta':\n",
    "        print(n)\n",
    "        break"
   ]
  },
  {
   "cell_type": "code",
   "execution_count": 17,
   "metadata": {
    "collapsed": false
   },
   "outputs": [
    {
     "data": {
      "text/plain": [
       "{'label': '456',\n",
       " 'nodetype': 'Receta',\n",
       " 'titulo': 'fruta de la pasión, menta y coco'}"
      ]
     },
     "execution_count": 17,
     "metadata": {},
     "output_type": "execute_result"
    }
   ],
   "source": [
    "b.node['456']"
   ]
  },
  {
   "cell_type": "code",
   "execution_count": 18,
   "metadata": {
    "collapsed": false
   },
   "outputs": [
    {
     "data": {
      "text/plain": [
       "{'CÓCTELES': {'edgetype': 'se clasifica', 'id': '15985'},\n",
       " 'Elaboracion19982001-304': {'edgetype': 'elaboracion', 'id': '15986'},\n",
       " 'Elaboracion19982001-383': {'edgetype': 'elaboracion', 'id': '15987'},\n",
       " 'FRÍA': {'edgetype': 'temperatura', 'id': '15984'}}"
      ]
     },
     "execution_count": 18,
     "metadata": {},
     "output_type": "execute_result"
    }
   ],
   "source": [
    "b['456']"
   ]
  },
  {
   "cell_type": "code",
   "execution_count": 27,
   "metadata": {
    "collapsed": false
   },
   "outputs": [
    {
     "data": {
      "text/plain": [
       "{'SALADO': {'edgetype': 'mundo', 'id': '11868'},\n",
       " 'espuma fría': {'edgetype': 'composicion', 'id': '11867'},\n",
       " 'líquido': {'edgetype': 'composicion', 'id': '11866'},\n",
       " 'sabor:fruta de la pasión / coco / menta': {'edgetype': 'sabor',\n",
       "  'id': '11869'}}"
      ]
     },
     "execution_count": 27,
     "metadata": {},
     "output_type": "execute_result"
    }
   ],
   "source": [
    "b['Elaboracion19982001-383']"
   ]
  },
  {
   "cell_type": "code",
   "execution_count": 24,
   "metadata": {
    "collapsed": false
   },
   "outputs": [
    {
     "name": "stdout",
     "output_type": "stream",
     "text": [
      "---\n",
      "{'nodetype': 'Elaboracion', 'label': 'Elaboracion19982001-304'}\n",
      "leche de coco {'id': '32643', 'edgetype': 'composicion'}\n",
      "SALADO {'id': '32642', 'edgetype': 'mundo'}\n",
      "sabor:coco {'id': '32645', 'edgetype': 'sabor'}\n",
      "hojas de gelatina {'id': '32644', 'edgetype': 'composicion'}\n",
      "---\n",
      "{'nodetype': 'Elaboracion', 'label': 'Elaboracion19982001-383'}\n",
      "líquido {'id': '11866', 'edgetype': 'composicion'}\n",
      "sabor:fruta de la pasión / coco / menta {'id': '11869', 'edgetype': 'sabor'}\n",
      "SALADO {'id': '11868', 'edgetype': 'mundo'}\n",
      "espuma fría {'id': '11867', 'edgetype': 'composicion'}\n"
     ]
    }
   ],
   "source": [
    "for e in b['456']:\n",
    "    if b['456'][e]['edgetype'] == 'elaboracion':\n",
    "        print('---')\n",
    "        print(b.node[e])\n",
    "        for e2 in b[e]:\n",
    "            print(e2, b[e][e2])"
   ]
  },
  {
   "cell_type": "code",
   "execution_count": 15,
   "metadata": {
    "collapsed": false
   },
   "outputs": [
    {
     "name": "stdout",
     "output_type": "stream",
     "text": [
      "Elaboracion20032004-135 infusión de flor de saúco {'id': '15212', 'edgetype': 'composicion'}\n"
     ]
    }
   ],
   "source": [
    "for n, m, r in b.edges_iter(data=True):\n",
    "    print(n, m, r)\n",
    "    break"
   ]
  },
  {
   "cell_type": "code",
   "execution_count": null,
   "metadata": {
    "collapsed": true
   },
   "outputs": [],
   "source": []
  },
  {
   "cell_type": "code",
   "execution_count": 3,
   "metadata": {
    "collapsed": false
   },
   "outputs": [],
   "source": [
    "apicultur_syns = {}\n",
    "with open('data/apicultur_techniques_synonyms.csv') as f:\n",
    "    reader = csv.reader(\n",
    "        f,\n",
    "        delimiter=',',\n",
    "    )\n",
    "    for row in reader:\n",
    "        apicultur_syns[row[0]] = row[1:]"
   ]
  },
  {
   "cell_type": "code",
   "execution_count": 4,
   "metadata": {
    "collapsed": true
   },
   "outputs": [],
   "source": [
    "def synonyms(x):\n",
    "    return apicultur_syns.get(x, [])"
   ]
  },
  {
   "cell_type": "code",
   "execution_count": 7,
   "metadata": {
    "collapsed": false
   },
   "outputs": [
    {
     "data": {
      "text/plain": [
       "['gratinar', 'dorar']"
      ]
     },
     "execution_count": 7,
     "metadata": {},
     "output_type": "execute_result"
    }
   ],
   "source": [
    "synonyms('hornear')"
   ]
  },
  {
   "cell_type": "code",
   "execution_count": 13,
   "metadata": {
    "collapsed": false
   },
   "outputs": [],
   "source": [
    "client = MongoClient()\n",
    "# client.drop_database('recipes')\n",
    "db = client.recipes"
   ]
  },
  {
   "cell_type": "code",
   "execution_count": 19,
   "metadata": {
    "collapsed": false
   },
   "outputs": [
    {
     "data": {
      "text/plain": [
       "1214"
      ]
     },
     "execution_count": 19,
     "metadata": {},
     "output_type": "execute_result"
    }
   ],
   "source": [
    "c=0\n",
    "for row in db.elbulli.find():\n",
    "    for i in row['ingredients']:\n",
    "        if i in gi:\n",
    "            gi.node[i]['count'] += 1\n",
    "    for t in row['techniques']:\n",
    "        if t in gt:\n",
    "            gt.node[t]['count'] += 1\n",
    "    c+=1\n",
    "c"
   ]
  },
  {
   "cell_type": "code",
   "execution_count": 20,
   "metadata": {
    "collapsed": true
   },
   "outputs": [],
   "source": [
    "nx.write_gexf(gi, 'data/spanish_ingredients_lexicon_5.gexf')"
   ]
  },
  {
   "cell_type": "code",
   "execution_count": 21,
   "metadata": {
    "collapsed": true
   },
   "outputs": [],
   "source": [
    "nx.write_gexf(gt, 'data/spanish_techniques_lexicon_5.gexf')"
   ]
  },
  {
   "cell_type": "code",
   "execution_count": 22,
   "metadata": {
    "collapsed": true
   },
   "outputs": [],
   "source": [
    "gi = nx.read_gexf('data/spanish_ingredients_lexicon_5.gexf')"
   ]
  },
  {
   "cell_type": "code",
   "execution_count": 23,
   "metadata": {
    "collapsed": true
   },
   "outputs": [],
   "source": [
    "gt = nx.read_gexf('data/spanish_techniques_lexicon_5.gexf')"
   ]
  },
  {
   "cell_type": "code",
   "execution_count": 37,
   "metadata": {
    "collapsed": false
   },
   "outputs": [
    {
     "name": "stdout",
     "output_type": "stream",
     "text": [
      "('hervir', {'label': 'hervir', 'count': 390})\n",
      "('horno', {'label': 'horno', 'count': 294})\n",
      "('jugo', {'label': 'jugo', 'count': 222})\n",
      "('sartén', {'label': 'sartén', 'count': 295})\n",
      "('espuma', {'label': 'espuma', 'count': 169})\n",
      "('reducir', {'label': 'reducir', 'count': 230})\n",
      "('agua', {'label': 'agua', 'count': 503})\n",
      "('sal', {'label': 'sal', 'count': 635})\n",
      "('secar', {'label': 'secar', 'count': 210})\n",
      "('min', {'label': 'min', 'count': 553})\n",
      "('escaldar', {'label': 'escaldar', 'count': 203})\n",
      "('en agua', {'label': 'en agua', 'count': 438})\n",
      "('a fuego lento', {'label': 'a fuego lento', 'count': 217})\n",
      "('puré', {'label': 'puré', 'count': 242})\n",
      "('saltear', {'label': 'saltear', 'count': 155})\n",
      "('cocción', {'label': 'cocción', 'count': 167})\n"
     ]
    }
   ],
   "source": [
    "for n in gt.nodes_iter(data=True):\n",
    "    if n[1]['count'] > 150:\n",
    "        print(n)"
   ]
  },
  {
   "cell_type": "code",
   "execution_count": 38,
   "metadata": {
    "collapsed": true
   },
   "outputs": [],
   "source": [
    "elbullig = nx.read_gexf('data/elbulli.gexf')"
   ]
  },
  {
   "cell_type": "code",
   "execution_count": 71,
   "metadata": {
    "collapsed": false
   },
   "outputs": [
    {
     "name": "stdout",
     "output_type": "stream",
     "text": [
      "631 {'nuez de macadamia', 'mostaza', 'azúcar', 'azafrán'}\n",
      "['sal', 'nueces de macadamia', 'mostaza', 'agua', 'azúcar', 'azafrán']\n"
     ]
    }
   ],
   "source": [
    "for n in elbullig.nodes_iter(data=True):\n",
    "    if n[1]['nodetype'] == 'Receta':\n",
    "        ingrs = set()\n",
    "        for e in elbullig[n[0]]:\n",
    "            if elbullig[n[0]][e]['edgetype'] == 'elaboracion':\n",
    "                for e2 in elbullig[e]:\n",
    "                    if elbullig[e][e2]['edgetype'] == 'composicion':\n",
    "                        ingrs.add(e2)\n",
    "                    elif elbullig[e][e2]['edgetype'] == 'sabor':\n",
    "                        ingrs.add(e2[6:])\n",
    "        print(n[0], ingrs)\n",
    "        print(db.elbulli.find_one({'_id': n[0]})['ingredients'])\n",
    "        break"
   ]
  },
  {
   "cell_type": "code",
   "execution_count": 46,
   "metadata": {
    "collapsed": false
   },
   "outputs": [
    {
     "data": {
      "text/plain": [
       "{'AMBIENTE': {'edgetype': 'temperatura', 'id': '2518'},\n",
       " 'Elaboracion19982001-556': {'edgetype': 'elaboracion', 'id': '2519'},\n",
       " 'SNACKS': {'edgetype': 'se clasifica', 'id': '2520'}}"
      ]
     },
     "execution_count": 46,
     "metadata": {},
     "output_type": "execute_result"
    }
   ],
   "source": [
    "elbullig['631']"
   ]
  },
  {
   "cell_type": "code",
   "execution_count": null,
   "metadata": {
    "collapsed": true
   },
   "outputs": [],
   "source": []
  }
 ],
 "metadata": {
  "kernelspec": {
   "display_name": "Python 3",
   "language": "python",
   "name": "python3"
  },
  "language_info": {
   "codemirror_mode": {
    "name": "ipython",
    "version": 3
   },
   "file_extension": ".py",
   "mimetype": "text/x-python",
   "name": "python",
   "nbconvert_exporter": "python",
   "pygments_lexer": "ipython3",
   "version": "3.4.3"
  }
 },
 "nbformat": 4,
 "nbformat_minor": 0
}
