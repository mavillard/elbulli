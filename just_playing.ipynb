{
 "cells": [
  {
   "cell_type": "code",
   "execution_count": 1,
   "metadata": {
    "collapsed": false
   },
   "outputs": [],
   "source": [
    "import networkx as nx\n",
    "import csv\n",
    "from pymongo import MongoClient"
   ]
  },
  {
   "cell_type": "code",
   "execution_count": 109,
   "metadata": {
    "collapsed": false
   },
   "outputs": [],
   "source": [
    "gi = nx.read_gexf('data/spanish_ingredients_lexicon_4.gexf')"
   ]
  },
  {
   "cell_type": "code",
   "execution_count": 110,
   "metadata": {
    "collapsed": true
   },
   "outputs": [],
   "source": [
    "def add_node(g, n):\n",
    "    if not n in g:\n",
    "        g.add_node(n, count=0)"
   ]
  },
  {
   "cell_type": "code",
   "execution_count": 111,
   "metadata": {
    "collapsed": true
   },
   "outputs": [],
   "source": [
    "def add_edge(g, n1, n2):\n",
    "    if n1 != n2 and not nx.has_path(g, n1, n2):\n",
    "        g.add_edge(n1, n2)"
   ]
  },
  {
   "cell_type": "code",
   "execution_count": 112,
   "metadata": {
    "collapsed": true
   },
   "outputs": [],
   "source": [
    "add_node(gi, 'co|2')\n",
    "add_node(gi, 'co2')\n",
    "add_node(gi, 'dióxido de carbono')\n",
    "add_node(gi, 'dióxido carbono')\n",
    "add_node(gi, 'dioxido de carbono')\n",
    "add_node(gi, 'dioxido carbono')\n",
    "add_node(gi, 'n|2o')\n",
    "add_node(gi, 'n2o')\n",
    "add_node(gi, 'nitrógeno')\n",
    "add_node(gi, 'nitrogeno')"
   ]
  },
  {
   "cell_type": "code",
   "execution_count": 113,
   "metadata": {
    "collapsed": false
   },
   "outputs": [],
   "source": [
    "add_edge(gi, 'co|2', 'co2')\n",
    "add_edge(gi, 'co|2', 'dióxido de carbono')\n",
    "add_edge(gi, 'co|2', 'dióxido carbono')\n",
    "add_edge(gi, 'co|2', 'dioxido de carbono')\n",
    "add_edge(gi, 'co|2', 'dioxido carbono')\n",
    "add_edge(gi, 'n|2o', 'n2o')\n",
    "add_edge(gi, 'n|2o', 'nitrógeno')\n",
    "add_edge(gi, 'n|2o', 'nitrogeno')"
   ]
  },
  {
   "cell_type": "code",
   "execution_count": 115,
   "metadata": {
    "collapsed": false
   },
   "outputs": [],
   "source": [
    "nx.write_gexf(gi, 'data/spanish_ingredients_lexicon_4.gexf')"
   ]
  },
  {
   "cell_type": "code",
   "execution_count": 18,
   "metadata": {
    "collapsed": false
   },
   "outputs": [],
   "source": [
    "gt = nx.read_gexf('data/spanish_techniques_lexicon_4.gexf')"
   ]
  },
  {
   "cell_type": "code",
   "execution_count": 121,
   "metadata": {
    "collapsed": false
   },
   "outputs": [],
   "source": [
    "gi = nx.read_gexf('data/spanish_ingredients_lexicon_4.gexf')"
   ]
  },
  {
   "cell_type": "code",
   "execution_count": 122,
   "metadata": {
    "collapsed": false
   },
   "outputs": [
    {
     "data": {
      "text/plain": [
       "34557"
      ]
     },
     "execution_count": 122,
     "metadata": {},
     "output_type": "execute_result"
    }
   ],
   "source": [
    "len(gi)"
   ]
  },
  {
   "cell_type": "code",
   "execution_count": 119,
   "metadata": {
    "collapsed": false
   },
   "outputs": [
    {
     "data": {
      "text/plain": [
       "{'n2o', 'nitrogeno', 'nitrógeno', 'n|2o'}"
      ]
     },
     "execution_count": 119,
     "metadata": {},
     "output_type": "execute_result"
    }
   ],
   "source": [
    "i = 'nitrógeno'\n",
    "nx.node_connected_component(gi, i)"
   ]
  },
  {
   "cell_type": "code",
   "execution_count": 6,
   "metadata": {
    "collapsed": false
   },
   "outputs": [
    {
     "data": {
      "text/plain": [
       "{'dun',\n",
       " 'estofado',\n",
       " 'estofados',\n",
       " 'estofar',\n",
       " 'etouffee',\n",
       " 'etouffée',\n",
       " 'guisado',\n",
       " 'guisar',\n",
       " 'guiso',\n",
       " 'nimono'}"
      ]
     },
     "execution_count": 6,
     "metadata": {},
     "output_type": "execute_result"
    }
   ],
   "source": [
    "t = 'estofar'\n",
    "nx.node_connected_component(gt, t)"
   ]
  },
  {
   "cell_type": "code",
   "execution_count": 8,
   "metadata": {
    "collapsed": false
   },
   "outputs": [],
   "source": [
    "path_gexf = 'data/elbulli.gexf'\n",
    "b = nx.read_gexf(path_gexf)"
   ]
  },
  {
   "cell_type": "code",
   "execution_count": 11,
   "metadata": {
    "collapsed": false
   },
   "outputs": [
    {
     "name": "stdout",
     "output_type": "stream",
     "text": [
      "('1203', {'nodetype': 'Receta', 'label': '1203', 'titulo': 'moshi: de yogur y frambuesa / de fruta de la pasión y regaliz / de café y guanábana'})\n"
     ]
    }
   ],
   "source": [
    "for n in b.nodes_iter(data=True):\n",
    "    if n[1]['nodetype'] == 'Receta':\n",
    "        print(n)\n",
    "        break"
   ]
  },
  {
   "cell_type": "code",
   "execution_count": 17,
   "metadata": {
    "collapsed": false
   },
   "outputs": [
    {
     "data": {
      "text/plain": [
       "{'label': '456',\n",
       " 'nodetype': 'Receta',\n",
       " 'titulo': 'fruta de la pasión, menta y coco'}"
      ]
     },
     "execution_count": 17,
     "metadata": {},
     "output_type": "execute_result"
    }
   ],
   "source": [
    "b.node['456']"
   ]
  },
  {
   "cell_type": "code",
   "execution_count": 18,
   "metadata": {
    "collapsed": false
   },
   "outputs": [
    {
     "data": {
      "text/plain": [
       "{'CÓCTELES': {'edgetype': 'se clasifica', 'id': '15985'},\n",
       " 'Elaboracion19982001-304': {'edgetype': 'elaboracion', 'id': '15986'},\n",
       " 'Elaboracion19982001-383': {'edgetype': 'elaboracion', 'id': '15987'},\n",
       " 'FRÍA': {'edgetype': 'temperatura', 'id': '15984'}}"
      ]
     },
     "execution_count": 18,
     "metadata": {},
     "output_type": "execute_result"
    }
   ],
   "source": [
    "b['456']"
   ]
  },
  {
   "cell_type": "code",
   "execution_count": 27,
   "metadata": {
    "collapsed": false
   },
   "outputs": [
    {
     "data": {
      "text/plain": [
       "{'SALADO': {'edgetype': 'mundo', 'id': '11868'},\n",
       " 'espuma fría': {'edgetype': 'composicion', 'id': '11867'},\n",
       " 'líquido': {'edgetype': 'composicion', 'id': '11866'},\n",
       " 'sabor:fruta de la pasión / coco / menta': {'edgetype': 'sabor',\n",
       "  'id': '11869'}}"
      ]
     },
     "execution_count": 27,
     "metadata": {},
     "output_type": "execute_result"
    }
   ],
   "source": [
    "b['Elaboracion19982001-383']"
   ]
  },
  {
   "cell_type": "code",
   "execution_count": 24,
   "metadata": {
    "collapsed": false
   },
   "outputs": [
    {
     "name": "stdout",
     "output_type": "stream",
     "text": [
      "---\n",
      "{'nodetype': 'Elaboracion', 'label': 'Elaboracion19982001-304'}\n",
      "leche de coco {'id': '32643', 'edgetype': 'composicion'}\n",
      "SALADO {'id': '32642', 'edgetype': 'mundo'}\n",
      "sabor:coco {'id': '32645', 'edgetype': 'sabor'}\n",
      "hojas de gelatina {'id': '32644', 'edgetype': 'composicion'}\n",
      "---\n",
      "{'nodetype': 'Elaboracion', 'label': 'Elaboracion19982001-383'}\n",
      "líquido {'id': '11866', 'edgetype': 'composicion'}\n",
      "sabor:fruta de la pasión / coco / menta {'id': '11869', 'edgetype': 'sabor'}\n",
      "SALADO {'id': '11868', 'edgetype': 'mundo'}\n",
      "espuma fría {'id': '11867', 'edgetype': 'composicion'}\n"
     ]
    }
   ],
   "source": [
    "for e in b['456']:\n",
    "    if b['456'][e]['edgetype'] == 'elaboracion':\n",
    "        print('---')\n",
    "        print(b.node[e])\n",
    "        for e2 in b[e]:\n",
    "            print(e2, b[e][e2])"
   ]
  },
  {
   "cell_type": "code",
   "execution_count": 15,
   "metadata": {
    "collapsed": false
   },
   "outputs": [
    {
     "name": "stdout",
     "output_type": "stream",
     "text": [
      "Elaboracion20032004-135 infusión de flor de saúco {'id': '15212', 'edgetype': 'composicion'}\n"
     ]
    }
   ],
   "source": [
    "for n, m, r in b.edges_iter(data=True):\n",
    "    print(n, m, r)\n",
    "    break"
   ]
  },
  {
   "cell_type": "code",
   "execution_count": null,
   "metadata": {
    "collapsed": true
   },
   "outputs": [],
   "source": []
  },
  {
   "cell_type": "code",
   "execution_count": 3,
   "metadata": {
    "collapsed": false
   },
   "outputs": [],
   "source": [
    "apicultur_syns = {}\n",
    "with open('data/apicultur_techniques_synonyms.csv') as f:\n",
    "    reader = csv.reader(\n",
    "        f,\n",
    "        delimiter=',',\n",
    "    )\n",
    "    for row in reader:\n",
    "        apicultur_syns[row[0]] = row[1:]"
   ]
  },
  {
   "cell_type": "code",
   "execution_count": 4,
   "metadata": {
    "collapsed": true
   },
   "outputs": [],
   "source": [
    "def synonyms(x):\n",
    "    return apicultur_syns.get(x, [])"
   ]
  },
  {
   "cell_type": "code",
   "execution_count": 7,
   "metadata": {
    "collapsed": false
   },
   "outputs": [
    {
     "data": {
      "text/plain": [
       "['gratinar', 'dorar']"
      ]
     },
     "execution_count": 7,
     "metadata": {},
     "output_type": "execute_result"
    }
   ],
   "source": [
    "synonyms('hornear')"
   ]
  },
  {
   "cell_type": "code",
   "execution_count": 10,
   "metadata": {
    "collapsed": false
   },
   "outputs": [],
   "source": [
    "client = MongoClient()\n",
    "# client.drop_database('recipes')\n",
    "db = client.recipes"
   ]
  },
  {
   "cell_type": "code",
   "execution_count": 11,
   "metadata": {
    "collapsed": false
   },
   "outputs": [
    {
     "data": {
      "text/plain": [
       "{'_id': '829',\n",
       " 'ingredients': ['agar-agar en polvo',\n",
       "  'miel de romero',\n",
       "  'agua de rosas',\n",
       "  'jengibre fresco rallado',\n",
       "  'puré de melocotón de viña',\n",
       "  'n|2o',\n",
       "  'té de rosas',\n",
       "  'agua de miel',\n",
       "  'agar en polvo',\n",
       "  'agua de rosa',\n",
       "  'té de rosa',\n",
       "  'gelatina',\n",
       "  'huevo'],\n",
       " 'techniques': ['espuma',\n",
       "  'agua',\n",
       "  'a fuego lento',\n",
       "  'reducir',\n",
       "  'jugo',\n",
       "  'baño maría',\n",
       "  'min',\n",
       "  'puré',\n",
       "  'sifón'],\n",
       " 'title': 'té de rosas al jengibre con perlas de miel y espuma caliente de melocotón',\n",
       " 'year': 2003}"
      ]
     },
     "execution_count": 11,
     "metadata": {},
     "output_type": "execute_result"
    }
   ],
   "source": [
    "db.elbulli.find_one({'_id': '829'})"
   ]
  },
  {
   "cell_type": "code",
   "execution_count": 124,
   "metadata": {
    "collapsed": false
   },
   "outputs": [
    {
     "data": {
      "text/plain": [
       "1214"
      ]
     },
     "execution_count": 124,
     "metadata": {},
     "output_type": "execute_result"
    }
   ],
   "source": [
    "# c=0\n",
    "# for row in db.elbulli.find():\n",
    "#     for i in row['ingredients']:\n",
    "#         if i in gi:\n",
    "#             gi.node[i]['count'] += 1\n",
    "#     for t in row['techniques']:\n",
    "#         if t in gt:\n",
    "#             gt.node[t]['count'] += 1\n",
    "#     c+=1\n",
    "# c"
   ]
  },
  {
   "cell_type": "code",
   "execution_count": 20,
   "metadata": {
    "collapsed": true
   },
   "outputs": [],
   "source": [
    "# nx.write_gexf(gi, 'data/spanish_ingredients_lexicon_5.gexf')"
   ]
  },
  {
   "cell_type": "code",
   "execution_count": 21,
   "metadata": {
    "collapsed": true
   },
   "outputs": [],
   "source": [
    "# nx.write_gexf(gt, 'data/spanish_techniques_lexicon_5.gexf')"
   ]
  },
  {
   "cell_type": "code",
   "execution_count": 2,
   "metadata": {
    "collapsed": true
   },
   "outputs": [],
   "source": [
    "gi = nx.read_gexf('data/spanish_ingredients_lexicon_5.gexf')"
   ]
  },
  {
   "cell_type": "code",
   "execution_count": 6,
   "metadata": {
    "collapsed": true
   },
   "outputs": [],
   "source": [
    "gt = nx.read_gexf('data/spanish_techniques_lexicon_5.gexf')"
   ]
  },
  {
   "cell_type": "code",
   "execution_count": 8,
   "metadata": {
    "collapsed": false
   },
   "outputs": [
    {
     "name": "stdout",
     "output_type": "stream",
     "text": [
      "('aceite de girasol', {'count': 259, 'label': 'aceite de girasol'})\n",
      "('aceite de oliva', {'count': 424, 'label': 'aceite de oliva'})\n",
      "('sal maldon', {'count': 158, 'label': 'sal maldon'})\n",
      "('hojas de gelatina', {'count': 164, 'label': 'hojas de gelatina'})\n",
      "('gelatina', {'count': 189, 'label': 'gelatina'})\n",
      "('mantequilla', {'count': 210, 'label': 'mantequilla'})\n",
      "('nata líquida', {'count': 251, 'label': 'nata líquida'})\n",
      "('azúcar', {'count': 439, 'label': 'azúcar'})\n",
      "('sal', {'count': 532, 'label': 'sal'})\n",
      "('agua', {'count': 685, 'label': 'agua'})\n",
      "('pimienta negra', {'count': 162, 'label': 'pimienta negra'})\n",
      "('glucosa', {'count': 281, 'label': 'glucosa'})\n"
     ]
    }
   ],
   "source": [
    "for n in gi.nodes_iter(data=True):\n",
    "    if n[1]['count'] > 150:\n",
    "        print(n)"
   ]
  },
  {
   "cell_type": "code",
   "execution_count": 38,
   "metadata": {
    "collapsed": true
   },
   "outputs": [],
   "source": [
    "elbullig = nx.read_gexf('data/elbulli.gexf')"
   ]
  },
  {
   "cell_type": "code",
   "execution_count": 86,
   "metadata": {
    "collapsed": false
   },
   "outputs": [
    {
     "data": {
      "text/plain": [
       "{'bechamel de tomate',\n",
       " 'bechamel de tomates',\n",
       " 'bechamel tomate',\n",
       " 'bechamel tomates',\n",
       " 'besamel de tomate',\n",
       " 'besamel de tomates',\n",
       " 'besamel tomate',\n",
       " 'besamel tomates',\n",
       " 'salsa de tomate',\n",
       " 'salsa de tomates',\n",
       " 'salsa tomate',\n",
       " 'salsa tomates'}"
      ]
     },
     "execution_count": 86,
     "metadata": {},
     "output_type": "execute_result"
    }
   ],
   "source": [
    "nx.node_connected_component(gi, 'salsa de tomate')"
   ]
  },
  {
   "cell_type": "code",
   "execution_count": 88,
   "metadata": {
    "collapsed": false
   },
   "outputs": [
    {
     "data": {
      "text/plain": [
       "{'bechamel de tomate',\n",
       " 'bechamel de tomates',\n",
       " 'bechamel tomate',\n",
       " 'bechamel tomates',\n",
       " 'besamel de tomate',\n",
       " 'besamel de tomates',\n",
       " 'besamel tomate',\n",
       " 'besamel tomates',\n",
       " 'salsa de tomate',\n",
       " 'salsa de tomates',\n",
       " 'salsa tomate',\n",
       " 'salsa tomates'}"
      ]
     },
     "execution_count": 88,
     "metadata": {},
     "output_type": "execute_result"
    }
   ],
   "source": [
    "nx.node_connected_component(gi, 'bechamel tomates')"
   ]
  },
  {
   "cell_type": "code",
   "execution_count": 91,
   "metadata": {
    "collapsed": true
   },
   "outputs": [],
   "source": [
    "def subs(a, b):\n",
    "    issub = True\n",
    "    for e in a:\n",
    "        if a not in b:\n",
    "            syn_e = nx.node_connected_component(gi, e)\n",
    "            issub = False\n",
    "            for x in b:\n",
    "                syn_x = nx.node_connected_component(gi, x)\n",
    "                if syn_e == syn_x:\n",
    "                    issub = True\n",
    "    return issub"
   ]
  },
  {
   "cell_type": "code",
   "execution_count": 93,
   "metadata": {
    "collapsed": false
   },
   "outputs": [
    {
     "name": "stdout",
     "output_type": "stream",
     "text": [
      "456\n",
      "{'leche de coco', 'líquido', 'hojas de gelatina', 'fruta de la pasión / coco / menta', 'coco', 'espuma fría'}\n",
      "{'leche de coco', 'agua', 'gelatina', 'menta', 'azúcar', 'zumo de fruta de la pasión', 'cachaça'}\n",
      "0\n",
      "3\n",
      "3\n"
     ]
    }
   ],
   "source": [
    "equ = 0\n",
    "sub = 0\n",
    "diff = 0\n",
    "for n in elbullig.nodes_iter(data=True):\n",
    "    if n[1]['nodetype'] == 'Receta':\n",
    "        ingrs = set()\n",
    "        for e in elbullig[n[0]]:\n",
    "            if elbullig[n[0]][e]['edgetype'] == 'elaboracion':\n",
    "                for e2 in elbullig[e]:\n",
    "                    if elbullig[e][e2]['edgetype'] == 'composicion':\n",
    "                        ingrs.add(e2)\n",
    "                    elif elbullig[e][e2]['edgetype'] == 'sabor':\n",
    "                        ingrs.add(e2[6:])\n",
    "        graph_ingrs = ingrs\n",
    "        bd_ingrs = set(db.elbulli.find_one({'_id': n[0]})['ingredients'])\n",
    "        try:\n",
    "            if graph_ingrs == bd_ingrs:\n",
    "                equ +=1\n",
    "            elif graph_ingrs.issubset(bd_ingrs) or subs(graph_ingrs, bd_ingrs):\n",
    "                sub +=1\n",
    "            else:\n",
    "                diff +=1\n",
    "    #             print(n[0])\n",
    "    #             print(graph_ingrs)\n",
    "    #             print(bd_ingrs)\n",
    "    #             break\n",
    "        except:\n",
    "            print(n[0])\n",
    "            print(graph_ingrs)\n",
    "            print(bd_ingrs)\n",
    "            break\n",
    "print(equ)\n",
    "print(sub)\n",
    "print(diff)"
   ]
  },
  {
   "cell_type": "code",
   "execution_count": null,
   "metadata": {
    "collapsed": true
   },
   "outputs": [],
   "source": []
  },
  {
   "cell_type": "code",
   "execution_count": 77,
   "metadata": {
    "collapsed": true
   },
   "outputs": [],
   "source": [
    "s1=set([1,2,3])"
   ]
  },
  {
   "cell_type": "code",
   "execution_count": 80,
   "metadata": {
    "collapsed": false
   },
   "outputs": [
    {
     "data": {
      "text/plain": [
       "True"
      ]
     },
     "execution_count": 80,
     "metadata": {},
     "output_type": "execute_result"
    }
   ],
   "source": [
    "s1.issubset([1,4,3,2,5])"
   ]
  },
  {
   "cell_type": "code",
   "execution_count": 75,
   "metadata": {
    "collapsed": false
   },
   "outputs": [
    {
     "data": {
      "text/plain": [
       "4"
      ]
     },
     "execution_count": 75,
     "metadata": {},
     "output_type": "execute_result"
    }
   ],
   "source": [
    "equ"
   ]
  },
  {
   "cell_type": "code",
   "execution_count": 76,
   "metadata": {
    "collapsed": false
   },
   "outputs": [
    {
     "data": {
      "text/plain": [
       "1210"
      ]
     },
     "execution_count": 76,
     "metadata": {},
     "output_type": "execute_result"
    }
   ],
   "source": [
    "diff"
   ]
  },
  {
   "cell_type": "code",
   "execution_count": 46,
   "metadata": {
    "collapsed": false
   },
   "outputs": [
    {
     "data": {
      "text/plain": [
       "{'AMBIENTE': {'edgetype': 'temperatura', 'id': '2518'},\n",
       " 'Elaboracion19982001-556': {'edgetype': 'elaboracion', 'id': '2519'},\n",
       " 'SNACKS': {'edgetype': 'se clasifica', 'id': '2520'}}"
      ]
     },
     "execution_count": 46,
     "metadata": {},
     "output_type": "execute_result"
    }
   ],
   "source": [
    "elbullig['631']"
   ]
  },
  {
   "cell_type": "code",
   "execution_count": null,
   "metadata": {
    "collapsed": true
   },
   "outputs": [],
   "source": []
  },
  {
   "cell_type": "code",
   "execution_count": 96,
   "metadata": {
    "collapsed": false
   },
   "outputs": [
    {
     "name": "stdout",
     "output_type": "stream",
     "text": [
      "1\n",
      "&ingredientselaboracio1=      50 de azúcar #      50 de agua - &ingredientselaboracio2=        4 higos#    100 g de jarabe oscuro (elaboración anterior) - &ingredientselaboracio3=    500 g de higos - &ingredientselaboracio4=    125 g de azúcar#    125 g de nata líquida 35? m.g. - &ingredientselaboracio5=      25 g de azúcar#      25 g de agua - &ingredientselaboracio6=      80 g de agua#      50 g de jarabe base (elaboración anterior)#    100 g de agua de rosas#        1 hoja de gelatina de 2 g (previamente #           rehidratada en agua fría) - &ingredientselaboracio7=    250 g de nata líquida 35? m.g.#        3 yemas de huevo#      40 g de azúcar#      30 g de zumo de fruta de la pasión  #        1 sifón isi de ½ l#        1 carga de n|2o - &ingredientselaboracio8=    140 g de fondant#      60 g de glucosa#      25 g de leche en polvo desnatada - &ingredientselaboracio9=    125 g de yogur griego - \n",
      "2\n",
      "&ingredientselaboracio1=    100 g de nata líquida 35? m.g.#      90 g de chocolate blanco#      60 g de yogur natural#      60 g de agua - &ingredientselaboracio2=    375 g de peras conference#    500 g de agua#      50 g de azúcar - &ingredientselaboracio3=    500 g de puré de peras (elaboración anterior)#        2 hojas de gelatina de 2 g #           (previamente rehidratadas en agua fría)#        1 sifón isi de ½ l#        1 carga de n|2o - &ingredientselaboracio4=      50 g de azúcar#       ½ pera cortada a dados de 1 x 1 cm#           agua - &ingredientselaboracio5=        1 pera en almíbar (elaboración anterior) - &ingredientselaboracio6=      50 g de chocolate blanco#      50 g de praliné de avellanas#      50 g de feuillantine#      75 g de manteca de cacao - &ingredientselaboracio7=           las láminas de pera (elaboración anterior)#           el relleno de feuillantine (elaboración #           anterior) - &ingredientselaboracio8=        8 virutas de chocolate - \n",
      "3\n",
      "&ingredientselaboracio1=    100 g de vino pedro ximénez#      20 g de glucosa - &ingredientselaboracio2=    140 g de fondant#      70 g de glucosa#      90 g de maíz frito - &ingredientselaboracio3= 1.250 g de alcachofas#    500 g de agua#           sal#           aceite de girasol - &ingredientselaboracio4=    500 g de puré de alcachofa (elaboración#           anterior)#     1,9 g de estabilizante para sorbetes#      10 g de dextrosa - &ingredientselaboracio5=    500 g de pollo# 1.500 g de osamenta de pollo#    500 g de huesos de rodilla de ternera#      50 g de jarrete de ternera#      20 g de zanahoria#      20 g de puerro#      20 g de cebolla# 2.500 g de agua - &ingredientselaboracio6=    750 g de consomé (elaboración anterior)#      20 g de zanahoria#      10 g de puerro#      50 g de tomate maduro#      75 g de carne picada de ternera#    100 g de claras de huevo#      15 g de hielo pilé#           sal - &ingredientselaboracio7=    400 g de foie-gras de pato#    700 g de consomé (elaboración anterior)#           sal#           pimienta negra recién molida#        1 sifón isi de ½ l#        1 carga de n|2o - \n",
      "4\n",
      "&ingredientselaboracio1=    125 g de huevos enteros#    125 g de azúcar#    100 g de zumo de limón #      15 g de mantequilla#           la piel rallada de 2 limones - &ingredientselaboracio2=    125 g de café expreso#      25 g de azúcar#       ½  hoja de gelatina de 2 g #           (previamente rehidratada en agua fría) - &ingredientselaboracio3=      20 g de azúcar #      20 g de agua - &ingredientselaboracio4=      50 g de azúcar#      50 g de nata líquida 35? m.g. - &ingredientselaboracio5=      80 g de toffee  (elaboración anterior)       #      50 g de nata líquida 35? m.g.#      50 g de leche#    125 g de plátano#      20 g de jarabe oscuro (elaboración anterior)#        1 vaina de vainilla de 4 g#           unas gotas de zumo de limón - &ingredientselaboracio6=    250 g de claras de huevo#      40 g de azúcar#        1 sifón isi de ½ l#        1 carga de n|2o - \n",
      "5\n",
      "&ingredientselaboracio1=    180 g de huevos enteros#      18 g de mantequilla#      35 g de nata líquida 35? m.g.#       ¾ de hoja de gelatina de 2 g (previamente  #           rehidratada en agua fría)#       1 sifón isi de ½ l#       1 carga de n|2o#          sal - &ingredientselaboracio2=    120 g de jugo de trufa negra#           sal - \n",
      "6\n",
      "&ingredientselaboracio1=        4 ostras pied de cheval de 200 g/u. - &ingredientselaboracio2=      75 g de agua de ostras#      35 g de agua de mar#      35 g de agua #        1 hoja de gelatina de 2 g (previamente #           rehidratada en agua fría)#        1 sifón isi de ½ l#        1 carga de n|2o - &ingredientselaboracio3=    150 g de aceite de girasol#    800 g de leña seca#    200 g de hojas verdes - &ingredientselaboracio4=        1 chalote de 15 g - &ingredientselaboracio5=      20 g de vinagre balsámico de modena#      60 g de aceite ahumado (elaboración #           anterior)#        8 aros de chalote (elaboración anterior) - &ingredientselaboracio6=    200 g de panceta curada a la pimienta en #           una pieza - &ingredientselaboracio7=           las láminas de panceta (elaboración #           anterior) - \n",
      "7\n",
      "&ingredientselaboracio1=    300 g de nata líquida 35? m.g.#    200 g de pasta de cacao#      75 g de cobertura 64?#      75 g de gianduja#      50 g de mantequilla#      25 g de glucosa#    375 g de agua - &ingredientselaboracio2=      50 g de azúcar#      50 g de agua - &ingredientselaboracio3=    200 g de hinojo fresco#    200 g de agua - &ingredientselaboracio4=    225 g de agua de hinojo (elaboración #           anterior)#      25 g de jarabe base (elaboración anterior)#        1 hoja de gelatina de 2 g#           (previamente rehidratada en agua fría)#        1 sifón isi de ½ l#        1 carga de n|2o - &ingredientselaboracio5=    100 g de azúcar#    100 g de glucosa#      75 g de agua#      45 g de pasta de cacao troceada - &ingredientselaboracio6=    175 g de cobertura 70? #      50 g de pasta de cacao#    350 g de nata líquida 35? m.g.#    100 g de menta fresca#      35 g de azúcar invertido#      35 g de mantequilla salada#        1 rollo de pvc#        2 transparencias - &ingredientselaboracio7=    130 g de agua#      30 g de glucosa#      15 g de cacao en polvo#      10 g de azúcar#       ¼  hoja de gelatina de 2 g #           (previamente rehidratada en agua fría) - &ingredientselaboracio8=    200 g de agua#      40 g de azúcar#      25 g de cacao en polvo#      60 g de mantequilla#      40 g de cobertura 70?#      40 g de pasta de cacao - &ingredientselaboracio9=           decoración de chocolate (rejilla)#        4 cucharas de postre - \n",
      "8\n",
      "&ingredientselaboracio1=      20 g de azúcar #      20 g de agua - &ingredientselaboracio2=      75 g de frambuesas - &ingredientselaboracio3=       ½  plátano #      25 g de jarabe oscuro (elaboración anterior)#      25 g de puré de frambuesas (elaboración #              anterior) - &ingredientselaboracio4=      25 g de azúcar#      25 g de agua - &ingredientselaboracio5=      50 g de zumo de limón#      50 g de agua#      50 g de jarabe base (elaboración anterior)#       ¾ de hoja de gelatina de 2 g #           (previamente rehidratada en agua fría) - &ingredientselaboracio6=    250 g de leche de coco #      50 g de agua#        1 hoja de gelatina de 2 g #           (previamente rehidratada en agua fría)#        1 sifón isi de ½ l#        1 carga de n|2o - &ingredientselaboracio7=40 o 50 fresitas de bosque#             pimienta rosa recién molida. - \n",
      "9\n",
      "&ingredientselaboracio1=      40 g de azúcar#      40 g de agua - &ingredientselaboracio2=    250 g de frambuesas enteras#      50 g de agua#      50 g de jarabe base #           (elaboración anterior)        #        1 hoja de gelatina de 2 g (previamente #           rehidratada en agua fría)#           unas gotas de zumo de limón#        1 sifón isi de ½ l#        1 carga de n|2o - &ingredientselaboracio3=    250 g de leche#      50 g de nata líquida 35? m.g.#      35 g de azúcar#      10 g de glucosa#      50 g de yemas de huevo#        7 g de pimienta de sechuan#     1,4 g de estabilizante para helados - &ingredientselaboracio4=    200 g de fondant#    100 g de glucosa - &ingredientselaboracio5=        8 frambuesas#      50 g de caramelo neutro #           (elaboración anterior) - &ingredientselaboracio6=        4 gajos de pomelo#        4 hojas de menta fresca - \n",
      "10\n",
      "&ingredientselaboracio1= 1.000 g de agua #    300 g de oreja de cerdo - &ingredientselaboracio2=    200 g de menta fresca#    200 g de agua - &ingredientselaboracio3=    200 g de agua de menta (elaboración #           anterior)#    200 g de gelatina de oreja de cerdo #           (elaboración anterior)#       ¾ de hoja de gelatina de 2 g (previamente #           rehidratada en agua fría)#        1 sifón isi de ½ l#        1 carga de n|2o - &ingredientselaboracio4=        3 huesos de jamón ibérico (400 g/u.)# 3.000 g de agua - &ingredientselaboracio5=    400 g de habitas#           sal - &ingredientselaboracio6=     100 g de habitas escaldadas (elaboración #            anterior)#     125 g de caldo de jamón (elaboración #            anterior)#            sal - &ingredientselaboracio7=      40 g de habitas escaldadas (elaboración #           anterior)#      15 g de panceta fresca de tocino ibérico#           sal - \n",
      "11\n",
      "&ingredientselaboracio1=    500 g de agua# 2.000 g de leña verde#    500 g de hojas verdes - &ingredientselaboracio2=   500 g de agua ahumada (elaboración #          anterior)#       2 hojas de gelatina de 2 g (previamente #          rehidratadas en agua fría)#       1 sifón isi de ½ litro #       1 carga de n|2o#          sal - &ingredientselaboracio3=        1 trozo de pan de molde de 100 g - &ingredientselaboracio4=           aceite de oliva virgen - \n",
      "12\n",
      "&ingredientselaboracio1=      50 g de azúcar#      50 g de agua - &ingredientselaboracio2=    500 g de almendra#    550 g de agua - &ingredientselaboracio3=    250 g de leche de almendras#           (elaboración anterior)#    300 g de agua#      50 g de jarabe base #           (elaboración anterior) - &ingredientselaboracio4=    300 g de tomates maduros#      25 g de azúcar - &ingredientselaboracio5=    250 g de remolacha cocida#    250 g de agua - &ingredientselaboracio6=    250 g de puré de remolacha #           (elaboración anterior)#        1 hoja de gelatina de 2 g #           (previamente rehidratada en agua fría)#        1 sifón isi de ½ l#        1 carga de n|2o - &ingredientselaboracio7=        1 manzana red starking#      15 g de azúcar#      15 g de agua#           unas gotas de zumo de limón - &ingredientselaboracio8=        2 melocotones#    200 g de agua#      40 g de azúcar - &ingredientselaboracio9=    200 g de albahaca fresca#    200 g de agua - &ingredientselaboracio10=    200 g de agua de albahaca (elaboración  #           anterior)#      50 de jarabe base (elaboración  anterior)#    1 ¼ hoja de gelatina de 2 g #           (previamente rehidratada en agua fría) - &ingredientselaboracio11=        2 latas de maíz de 250 g/u. - &ingredientselaboracio12=    100 g de puré de maíz (elaboración #           anterior)#      45 g de nata líquida 35?  m.g.#       ¾ de hoja de gelatina de 2 g (previamente #           rehidratada en agua fría) - &ingredientselaboracio13=      25 g de azúcar #      25 g de agua - &ingredientselaboracio14=        8 trozos de aguacate#      50 g de jarabe oscuro (elaboración anterior) - \n",
      "13\n",
      "&ingredientselaboracio1=    150 g de judías blancas del ganxet# 1.200 g de agua#            sal - &ingredientselaboracio2=    300 g de judías blancas cocidas #           (elaboración anterior)#    250 g de agua de la cocción de las judías#        1 hoja de gelatina de 2 g (previamente #           rehidratada en agua fría)#           sal#        1 sifón isi de ½ l#        1 carga de n|2o - &ingredientselaboracio3=        8 erizos - &ingredientselaboracio4=      28 yemas de erizos#           el agua de los erizos#        4 caparazones de erizo - \n",
      "14\n",
      "&ingredientselaboracio1=2.000 g de tomates maduros - &ingredientselaboracio2= 1.000 g de consomé de agua de tomate  #           (elaboración anterior)#    2 ½ hojas de gelatina de 2 g (previamente  #           rehidratadas en agua fría)#           sal - &ingredientselaboracio3=    250 g de agua#    250 g de albahaca - &ingredientselaboracio4=    200 g de agua de albahaca (elaboración #           anterior)#    1 ½ hojas de gelatina de 2 g (previamente #           rehidratadas en agua fría)#        1 sifón isi de ½ l#        1 carga de  de n|2o#           sal - &ingredientselaboracio5=       ½ sandía sin pepitas (700 g) - &ingredientselaboracio6=           sal maldon #           pimienta negra recién molida - \n",
      "15\n",
      "&ingredientselaboracio1=        1 langosta de 800 g - &ingredientselaboracio2=           la cabeza de la langosta - &ingredientselaboracio3=    185 g de coco seco rallado#    300 g de agua - &ingredientselaboracio4=    300 g de leche de coco (elaboración#           anterior )#        1 hoja de gelatina de 2 g (previamente #           rehidratada en agua fría)#        1 sifón isi de ½ litro#        1 carga de n|2o - &ingredientselaboracio5=       2 zanahorias de 120 g/u.#   200 g de agua #     40 g de azúcar - &ingredientselaboracio6=       4 tomates maduros de 125 g/u. - &ingredientselaboracio7=        8 láminas de zanahoria confitada #           (elaboración anterior)#        8 semillas de tomate (elaboración anterior) - &ingredientselaboracio8=        8 hojitas de menta fresca#        2 granos de pimienta rosa#           aceite de oliva 0,4º#           sal - \n",
      "16\n",
      "&ingredientselaboracio1=    500 g de almendras enteras#    600 g de agua#           sal - &ingredientselaboracio2=    300 g de leche de almendras (elaboración #           anterior)#    120 g de nata líquida 35? m.g.#        1 sifón isi de ½ l#        1 carga de n|2o - &ingredientselaboracio3=    160 g de jugo de trufas#           sal - \n",
      "17\n",
      "&ingredientselaboracio1=    250 g de remolacha cocida#    250 g de agua - &ingredientselaboracio2=    500 g de puré de remolacha (elaboración #           anterior)#       2  hojas de gelatina de 2 g (previamente#           rehidratadas en agua fría)#           sal#        1 sifón isi de ½ l#        1 carga de n|2o - &ingredientselaboracio3=        1 trozo de mató de 200 g - &ingredientselaboracio4=      60 g de caviar osietra#           aceite de oliva 0,4º - \n",
      "18\n",
      "&ingredientselaboracio1=    600 g de agua#    500 g de almendras enteras - &ingredientselaboracio2=    500 g de leche de almendras (elaboración #           anterior)#        2 hojas de gelatina de 2 g (previamente #           rehidratadas en agua fría)#        1 sifón isi de ½ l #        1 carga de n|2o#           sal - &ingredientselaboracio3=     60 g de caviar osietra - \n",
      "19\n",
      "&ingredientselaboracio1= 1.000 g de manzanas granny smith - &ingredientselaboracio2=    250 g de zumo de manzana #           verde (elaboración anterior)#    1 ½ hoja de gelatina de 2 g (previamente #           rehidratada en agua fría)#        1 sifón isi de ½ l#        1 carga de n|2o - &ingredientselaboracio3=    250 g de zumo de  manzana verde #           (elaboración anterior)#       ½ hoja de gelatina de 2 g#           (previamente rehidratada en agua fría) - &ingredientselaboracio4=    250 g de zumo de manzana #           verde (elaboración anterior)#        1 hoja de gelatina de 2 g (previamente #           rehidratada en agua fría) - &ingredientselaboracio5=    125 g de manzana red starking #      10 g de azúcar#      10 g de agua - &ingredientselaboracio6=        1 manzana golden #           azúcar lustre - &ingredientselaboracio7=           manzana granny smith cortada en #           juliana - \n",
      "20\n",
      "&ingredientselaboracio1=        4 mejillones de roca de 30 g/u. - &ingredientselaboracio2=        4 mejillones de roca (elaboración anterior)#      50 g de agua de mejillón (elaboración #          anterior)#       ¼ de hoja de gelatina de 2 g (previamente #           rehidratada en agua fría) - &ingredientselaboracio3=    150 g de cilantro fresco#    100 g de agua - &ingredientselaboracio4=    100 g de agua de cilantro (elaboración #           anterior)#       ¼ de hoja de gelatina de 2 g (previamente #           rehidratada en agua fría)#        1 sifón isi de ½ l#        1 carga de n|2o#           sal - &ingredientselaboracio5=        1 naranja - &ingredientselaboracio6=           sal gorda - \n",
      "21\n",
      "&ingredientselaboracio1=    100 g de azúcar#    100 g de agua - &ingredientselaboracio2=    300 g de almendras enteras#    300 g de agua#      55 g de jarabe base (elaboración anterior) - &ingredientselaboracio3=    150 g de leche de almendras #           (elaboración anterior)#      60 g de nata#        1 sifón isi de ½ litro#        1 carga de n|2o - &ingredientselaboracio4=    200 g de frambuesas #      80 g de azúcar#           unas gotas de zumo de limón - &ingredientselaboracio5=    100 g de azúcar #    100 g de agua - &ingredientselaboracio6=    100 g de jarabe oscuro #           (elaboración anterior)#       ½ vaina de vainilla - &ingredientselaboracio7=    125 g de huevos enteros#    125 g de azúcar#    100 g de zumo de limón #      15 g de mantequilla#           la piel rallada de 2 limones - &ingredientselaboracio8=    100 g de jarabe base #           (elaboración anterior)#           sésamo blanco tostado - &ingredientselaboracio9=      40 fresas de bosque - \n",
      "22\n",
      "&ingredientselaboracio1=    150 g de mantequilla pomada#    110 g de azúcar lustre#        2 yemas de huevo#        2 huevos enteros#    200 g de harina de trigo#        5 g de impulsor#    100 g de claras de huevo#    150 g de azúcar#      15 g de cilantro en polvo pasado #           por un colador - &ingredientselaboracio2=      40 g de azúcar#      40 g de agua - &ingredientselaboracio3=      25 g de marrasquino#      25 g de jarabe base (elaboración anterior)#      25 g de agua - &ingredientselaboracio4=    250 g de nata líquida 35? m.g.#        3 yemas de huevo#      40 g de azúcar#      25 g de marrasquino #        1 sifón isi de ½  l#        1 carga de n|2o - &ingredientselaboracio5=   125 g de azúcar#   125 g de nata líquida 35? m.g. - &ingredientselaboracio6=     80 g de zumo de piña#       5 g de jarabe base (elaboración anterior)#      ½ hoja de gelatina de 2 g #          (previamente rehidratada en agua fría) - &ingredientselaboracio7=       ½ piña #      50 g de jarabe base (elaboración anterior) - &ingredientselaboracio8=      50 g de azúcar #      50 g de agua - &ingredientselaboracio9=      16 dados de piña de 1 cm#      15 g de jarabe oscuro (elaboración anterior)#      30 g de puré de piña - \n",
      "23\n",
      "&ingredientselaboracio1=    500 g de manzanas granny smith - &ingredientselaboracio2=    250 g de zumo de manzana (elaboración #           anterior)#        1 hoja de gelatina de 2 g (previamente #           rehidratada en agua fría) - &ingredientselaboracio3=    250 g de yogur#    250 g de queso fresco tipo quark  40? m.g.#      80 g de glucosa#      40 g de azúcar#        1 piel rallada de limón - &ingredientselaboracio4=      50 g de azúcar#      50 g de agua - &ingredientselaboracio5=    200 g de albahaca fresca#    200 g de agua - &ingredientselaboracio6=    225 g de agua de albahaca (elaboración #           anterior)#      25 de jarabe base (elaboración anterior#    1 ½ hojas de gelatina de 2 g (previamente #           rehidratada en agua fría)#        1 sifón isi de ½ l#        1 carga de n|2o - &ingredientselaboracio7=        8 cogollos de ficoide glaciale#        8 fresas pequeñas#        8 trozos laminados de apio (sin fibra)#        8 dados pequeños de manzana verde#        4 hojas pequeñas de menta fresca #        4 hojas pequeñas de albahaca fresca - \n",
      "24\n",
      "&ingredientselaboracio1=      50 g de azúcar#      50 g de agua - &ingredientselaboracio2=    400 g de almendras enteras#    450 g de agua - &ingredientselaboracio3=    300 g de leche de almendras (elaboración#           anterior)#    120 g de nata líquida 35? m.g.#      40 g de jarabe base (elaboración anterior)#        1 hoja de gelatina de 2 g (previamente #           rehidratada en agua fría)#        1 sifón isi de ½ l#        1 carga de n|2o - &ingredientselaboracio4=    200 g de fresas congeladas#    120 g de azúcar - &ingredientselaboracio5=    100 g de jugo de fresas (elaboración anterior)#        1 hoja de gelatina de 2 g#           (previamente rehidratada en agua fría) - &ingredientselaboracio6=    100 g de gelatina de fresas (elaboración #           anterior)#        4 fresas medianas (20 g/u.) - &ingredientselaboracio7=    100 g de vinagre de cabernet-sauvignon#      20 g de glucosa - &ingredientselaboracio8=    250 g de leche#      50 g de yemas de huevo#      35 g de azúcar#      15 g de glucosa#        5 g de pimienta negra en grano#     1,6 g de estabilizante para helados - &ingredientselaboracio9=    100 g de fondant#      50 g de glucosa - &ingredientselaboracio10=      50 g de caramelo neutro (elaboración #           anterior)#        5 g de piel rallada de limón - \n",
      "25\n",
      "&ingredientselaboracio1=    250 g de agua#    100 g de azúcar - &ingredientselaboracio2=    300 g de jarabe base (elaboración anterior)#    100 g  de remolacha entera - &ingredientselaboracio3=        6 frambuesas cortadas #      12 pistachos verdes repelados#      12 láminas de remolacha confitada #           (elaboración anterior) - &ingredientselaboracio4= 1.000 g de remolacha fresca - &ingredientselaboracio5=    500 g de zumo de remolacha (elaboración #           anterior)#     2,2 g de estabilizante para sorbetes#      50 g de azúcar - &ingredientselaboracio6=      75 g de azúcar#      75 g de agua - &ingredientselaboracio7=    100 g de pistachos verdes#      50 g de agua#      20 g de jarabe base (elaboración anterior) - &ingredientselaboracio8=    250 g de frambuesas naturales#      50 g de agua#      50 g de jarabe  base (elaboración anterior)#        1 hoja de gelatina de 2 g (previamente #           rehidratada en agua fría)#           unas gotas de zumo de limón#        1 sifón isi de ½ l#        1 carga de n|2o - &ingredientselaboracio9=    125 g de yogur#      15 g de jarabe base (elaboración anterior)#           la piel rallada de 1 limón - &ingredientselaboracio10=    100 g de remolacha cocida#      60 g de agua#    1/3 de hoja de gelatina (previamente #           rehidratada en agua fría) - &ingredientselaboracio11=        4 pistachos verdes laminados - \n",
      "26\n",
      "&ingredientselaboracio1=    250 g de nata líquida 35? m.g.#    250 de leche#           sal#        1 sifón isi de ½ litro#        1 carga de n|2o - &ingredientselaboracio2= 1.000 g de huesos de rodilla de ternera# 1.000 g de blanqueta de ternera#    350 g de cebolla#    150 g de zanahoria#    150 g de puerro#      60 g de tomate maduro# 1.000 g de vino tinto#      40 g de azúcar#      60 g de aceite de oliva 0,4º# 2.500 g de agua - &ingredientselaboracio3=    250 g de fondo de carne (elaboración #           anterior) - &ingredientselaboracio4=    250 g de harina de trigo#    125 g de huevos enteros#      12 g de aceite de oliva 0,4º#           sal - &ingredientselaboracio5=    500 g de pollo# 1.500 g de osamenta de pollo#    500 g de huesos de rodilla de ternera#      50 g de jarrete de ternera#      20 g de zanahoria#      20 g de puerro#      20 g de cebolla# 2.500 g de agua - &ingredientselaboracio6=    750 g de consomé (elaboración anterior)#      20 g de zanahoria#      10 g de puerro#      50 g de tomate maduro#      75 g de carne picada de ternera#    100 g de claras de huevo#      15 g de hielo pilé#           sal - &ingredientselaboracio7=      75 g de foie-gras de pato#    175 g de consomé (elaboración anterior)#           sal - &ingredientselaboracio8=    250 g de rossinyols de 1 cm - &ingredientselaboracio9=           sal maldon#           aceite de oliva 0,4º#      32 hojitas de perifollo fresco - \n",
      "27\n",
      "&ingredientselaboracio1=        6 sardinas de 30 g/u.#    375 g de agua de mar#    125 g de vinagre de vino blanco#    500 g de aceite de oliva 0,4º#           el zumo de medio limón - &ingredientselaboracio2=    350 g de frambuesas#    150 g de agua#        2 hojas de gelatina de 2 g (previamente #           rehidratadas en agua fría#        1 sifón isi de ½ litro#        2 cargas de n|2o - &ingredientselaboracio3=           pimienta negra recién molida - \n",
      "28\n",
      "&ingredientselaboracio1=    300 g de recortes y espinas de bacalao#        2 dientes de ajo#       ½ guindilla #      50 g de aceite de oliva 0,4º#    200 g de nata líquida 35? m.g.#        1 sifón isi de ½ litro#        1 carga de n|2o#           sal - &ingredientselaboracio2= 1.000 g de costillar de cerdo#    100 g de vino blanco#    200 g de agua#    100 g de aceite de girasol#    100 g de miel#           pimienta negra recién molida#           sal - &ingredientselaboracio3=        2 huevos enteros #           sal - &ingredientselaboracio4=        4 cebollitas platillo#    100 g de aceite de girasol#           sal - &ingredientselaboracio5=      90 g de fondant#      90 g de glucosa#      60 g de miel - \n",
      "29\n",
      "&ingredientselaboracio1=    600 g de agua#    500 g de almendras enteras - &ingredientselaboracio2=    500 g de leche de almendras (elaboración#           anterior)#           sal - &ingredientselaboracio3=    250 g de remolacha cocida#    250 g de agua - &ingredientselaboracio4=    500 g de puré de remolacha (elaboración#           anterior)   #        2 hojas de gelatina de 2 g (previamente#           rehidratadas en agua fría)#        1 sifón isi de ½ l#        1 carga de n|2o#           sal - &ingredientselaboracio5=       6 tomates maduros de 125 g/u.#          aceite de oliva 0,4º#          pimienta blanca recién molida#          azúcar#          sal - &ingredientselaboracio6=    200 g de zumo de melocotón - &ingredientselaboracio7=    100 g de albahaca fresca#    100 g de agua - &ingredientselaboracio8=    100 g de agua de albahaca (elaboración #           anterior)   #       ½ hoja de gelatina de 2 g (previamente #           rehidratada en agua fría)#           sal - &ingredientselaboracio9=        2 latas de maíz de 250 g - &ingredientselaboracio10=    100 g de puré de maíz (elaboración #           anterior)#      45 g de nata líquida 35?  m.g.#       ¾ de hoja de gelatina de 2 g (previamente #           rehidratada en agua fría)#           sal - &ingredientselaboracio11=        1 coliflor de 500 g#           agua - &ingredientselaboracio12=    200 g de puré de coliflor (elaboración #           anterior)#      80 g de nata líquida 35? m.g.#        1 hoja de gelatina de 2 g (previamente #           rehidratada en agua fría)#           sal - &ingredientselaboracio13=        1 aguacate de 200 g - &ingredientselaboracio14=      20 almendras tiernas peladas      #           sal - \n",
      "30\n",
      "&ingredientselaboracio1=      75 g de azúcar#      75 g de agua - &ingredientselaboracio2=   250 g de zumo de fruta de la pasión#       1 clara de huevo#     85 g de jarabe base (elaboración anterior)#     85 g de agua#       1 huevo - &ingredientselaboracio3=    200 g de menta fresca#    200 g de agua - &ingredientselaboracio4=    450 g de agua de menta (elaboración #           anterior)#      50 de jarabe base (elaboración anterior)#        1 hoja de gelatina de 2 g (previamente #           rehidratada en agua fría) - &ingredientselaboracio5=    250 g de leche de coco #        1 hoja de gelatina de 2 g (previamente #           rehidratada en agua fría)#        1 sifón isi de ½ l#        1 carga de n|2o - \n",
      "31\n",
      "&ingredientselaboracio1=    100 g de azúcar#    100 g de agua - &ingredientselaboracio2=      40 g de yemas de huevo #        8 g de cacao - &ingredientselaboracio3=    150 g de jarabe base (elaboración anterior)#           la yema de cacao (elaboración anterior)  #      75 g de azúcar lustre#      75 g de polvo de pistachos#      20 g de harina de trigo#      50 g de huevos enteros#        6 g de azúcar invertido#      15 g de mantequilla fundida#      65 g de claras de huevo#      10 g de azúcar - &ingredientselaboracio4=      25 g de jarabe base (elaboración anterior)#      50 g de agua#      50 g de puré de albaricoque - &ingredientselaboracio5=      20 g de azúcar #      20 g de agua - &ingredientselaboracio6=        4 albaricoques#      25 g de jarabe oscuro (elaboración anterior) - &ingredientselaboracio7=    125 g de yogur griego#           la piel rallada de ½  limón#      15 g de azúcar - &ingredientselaboracio8=    125 g de huevos enteros#    125 g de azúcar#    100 g de zumo de limón #      15 g de mantequilla#           la piel rallada de 2 limones - &ingredientselaboracio9=    250 g de leche#    250 g de nata líquida 35? m.g.#      75 g de azúcar#        5 yemas de huevo#        7 g de maicena#           piel rallada de naranja#           piel de limón#       ½ rama de canela#       ½ vaina de vainilla#        1 sifón isi#        1 carga de n|2o - &ingredientselaboracio10=    140 g de fondant#      75 g de glucosa#    140 g de pistacho verde - &ingredientselaboracio11=      12 pistachos garrapiñados#      50 g de puré de albaricoques - \n",
      "32\n",
      "&ingredientselaboracio1=    250 g de nata líquida 35? m.g.#    250 de leche#           sal#        1 sifón isi de ½ litro#        1 carga de n|2o - &ingredientselaboracio2=    200 g de panceta curada a la pimienta #           en una pieza - &ingredientselaboracio3=        8 pimientos del piquillo en conserva#    100 g de aceite de girasol - &ingredientselaboracio4=    100 g de azúcar#    100 g de agua - &ingredientselaboracio5=        1 plátano de 150 g #      75 g de caramelo oscuro (elaboración #           anterior) - &ingredientselaboracio6=           sal maldon#           nuez moscada recién molida#           pimienta blanca recién molida - \n",
      "33\n",
      "&ingredientselaboracio1=        8 tomates maduros de 125 g/u. - &ingredientselaboracio2=    400 g de zumo de tomate (elaboración #           anterior)#       ¾ de hoja de gelatina de 2 g (previamente #           rehidratada en agua fría)#           sal#           pimienta blanca recién molida - &ingredientselaboracio3=      12 tomates maduros de 125 g/u.#           aceite de oliva 0,4º#           pimienta blanca recién molida#           azúcar#           sal - &ingredientselaboracio4=    400 g de puré de tomate (elaboración #           anterior)#    100 g de agua de tomate (elaboración #           anterior)#        1 sifón isi de ½ l#        1 carga de n|2o#   2 ½  hojas de gelatina de 2 g (previamente#           rehidratadas en agua fría)#           sal - &ingredientselaboracio5=        2 vainas de vainilla de 4 g/u.#      40 g de aceite de girasol - &ingredientselaboracio6=    100 g de albahaca fresca#    100 g de agua - &ingredientselaboracio7=    100 g de agua de albahaca (elaboración #           anterior)   #       ½ hoja de gelatina de 2 g (previamente #           rehidratada en agua fría)#           sal - &ingredientselaboracio8=        4 tomates cherry de 10 g/u.#           sal - &ingredientselaboracio9=        1 tomate maduro de 125 g#           sal#           azúcar#      25 g de aceite de vainilla (elaboración #           anterior) - &ingredientselaboracio10=        2 tomates verdes de 150 g/u. - &ingredientselaboracio11=      50 g de grosellas frescas - &ingredientselaboracio12=           sal gris#           aceite de oliva 0,4º#           sal - \n",
      "34\n",
      "&ingredientselaboracio1=1.500 g de zanahoria - &ingredientselaboracio2=    250 g de jugo de zanahoria (elaboración<br>           anterior)<br>        1 ¾  hojas de gelatina de 2 g <br>           (previamente rehidratadas en agua fría)<br>        1 sifón isi de n|2o de ½ l<br>        1 carga de n|2o<br>      10 chupitos de plástico de 60 g de <br>           capacidad - &ingredientselaboracio3=           espuma fría de jugo de zanahoria<br>           (elaboración anterior)<br>      10 vasos de plástico de 60 g de capacidad<br><br><a href='asfunction:playvideo,1138'><img src='media/icos/video.gif'> </a> - &ingredientselaboracio4=        1 bulbo de hinojo de 150 g<br>        2 ramilletes de flor de hinojo fresca - &ingredientselaboracio5=    100 g de jugo de bulbo de hinojo <br>           (elaboración anterior)<br>        ½ hoja de gelatina de 2 g (previamente <br>           rehidratada en agua fría) - &ingredientselaboracio6=    250 g de jugo de zanahoria (elaboración <br>           anterior)<br>        1 hoja de gelatina de 2 g (previamente <br>           rehidratada en agua fría) - &ingredientselaboracio7=      20 g de nuez de macadamia<br>           rallador microplane - &ingredientselaboracio8=    200 g de agua<br>      90 g de coco en polvo soluble - &ingredientselaboracio9=        4 ramilletes de flor de hinojo fresco - &ingredientselaboracio10=      30 g de crema doble<br>        8 cogollos de estragón fresco de 1,5 cm <br>           de longitud<br>      16 g de yogur en polvo pral<br>        2 g de ácido cítrico granulado - \n",
      "35\n",
      "&ingredientselaboracio1=    150 g de roquefort<br>    200 g de agua<br>        2 ½ hojas de gelatina de 2 g (previamente <br>           rehidratada en agua fría)<br>        1 sifón isi de n|2o de ½ l<br>        1 carga de n|2o - &ingredientselaboracio2=           espuma fría de roquefort (elaboración <br>           anterior)<br>      10 vasos de 5,5 cm de diámetro y 2,5 cm <br>           de alto - &ingredientselaboracio3=      10 vasos de espuma fría de roquefort <br>           liofilizada<br>      10 moldes de pvc de 18 cm de diámetro<br>           x 2,7 cm de altura - &ingredientselaboracio4=    100 g de agua<br>      60 g de azúcar - &ingredientselaboracio5=    300 g de pulpa de guanábana jugolandia <br>           (previamente colada)<br>      75 g de jarabe 60? (elaboración anterior)<br>    125 g de nata líquida 35? m.g.<br>        2 hojas de gelatina de 2 g (previamente <br>           rehidratada en agua fría)<br>        1 sifón isi de n|2o de ½ l<br>        1 carga de n|2o - \n",
      "36\n",
      "&ingredientselaboracio1=   150 g de agua#    1,5 g de sal#       3 g de agar-agar en polvo#     10 tubos de pvc de 2 m de longitud#          x 0,5 cm de diámetro#          jeringa con boquilla de 0,3 cm #          de diámetro#       1 sifón isi de 1 l #       1 carga de n|2o#          aplicador de sifón para espaguetis - &ingredientselaboracio2=   250 g de sardinas #     50 g de aceite de oliva#     50 g de aceite de oliva virgen extra#     20 g de agua#          aceite de oliva#          sal - &ingredientselaboracio3=       6 sardinas de 40 g/u. - &ingredientselaboracio4=3.000 g de leña de encina#   500 g de aceite de girasol - &ingredientselaboracio5=       1 lulo de 125 g/u. - &ingredientselaboracio6=          tripas de sardina (elaboración anterior) - &ingredientselaboracio7=          aceite de oliva #          sal - \n",
      "37\n",
      "&ingredientselaboracio1=1.000 g de leche #     75 g de nata liquida 35? m.g. - &ingredientselaboracio2=   225 g de yogur#     60 g de nata líquida 35? m.g.#      ½ hoja de gelatina de 2 g (previamente#          rehidratada en agua fría)#       1 sifón isi de ½ l#       1 carga de n|2o - &ingredientselaboracio3=     12 flores de romero fresco#          azúcar - \n",
      "38\n",
      "&ingredientselaboracio1=   150 g de agua#   150 g de azúcar - &ingredientselaboracio2=   500 g de agua#   250 g de zumo de limón#   100 g de jarabe 100? (elaboración anterior)#    2,5 g de lecitina de soja en polvo - &ingredientselaboracio3=   250 g de agua#    0,5 g de hebras de azafrán tostado - &ingredientselaboracio4=     60 g de azúcar#   100 g de infusión de hebras de azafrán#          tostado (elaboración anterior)#   200 g de nata líquida 35? m.g.#       1 sifón isi de ½ l#       1 carga de n|2o - &ingredientselaboracio5=     80 g de leche #     95 g de nata líquida 35? m.g.#   100 g de infusión de hebras de azafrán#          tostado (elaboración anterior)#     30 g de azúcar#   100 g de agua - &ingredientselaboracio6=   100 g de arroz bomba#          crema de azafrán tostado (elaboración#          anterior)#     20 g de mantequilla#     45 g de nata líquida 35? m.g.#     60 g de azúcar - &ingredientselaboracio7=       1 naranja - &ingredientselaboracio8=       1 naranja - &ingredientselaboracio9=          café recién molido - \n",
      "39\n",
      "&ingredientselaboracio1=    100 g de agua<br>        3 g de metil<br>           <br>nota: metil es el nombre comercial que se da <br>a la metilcelulosa en las texturas albert y <br>ferran adrià. - &ingredientselaboracio2=    120 g de perrechicos de 5 g/u. - &ingredientselaboracio3=    100 g de dados de perrechico (elaboración <br>           anterior)<br>      25 g de mezcla de metil (elaboración <br>           anterior) - &ingredientselaboracio4=      12 perrechicos de 1 cm de diámetro - &ingredientselaboracio5=      60 g de perrechicos de 0,6 cm de diámetro - &ingredientselaboracio6=        4 perrechicos de 2 cm de diámetro<br>           sello elbullisetas - &ingredientselaboracio7=      40 g de salicornia fresca - &ingredientselaboracio8=    200 g de keffir<br>      60 g de clara de huevo<br>        1 sifón isi de n|2o de ½ l.<br>        1 carga de n|2o - &ingredientselaboracio9=           aceite de oliva<br>           sal<br>           agua<br>           pimienta negra recién molida<br>      20 g de aceite virgen de piñón - \n",
      "40\n",
      "&ingredientselaboracio1=        1 pollo de payés de 2.000 g<br> 1.500 g de agua<br>           sal<br>           <br>nota: cantidad mínima para garantizar un buen<br>resultado. - &ingredientselaboracio2=    400 g de caldo de pollo de payés <br>           (elaboración anterior)<br>      15 g de cilantro fresco<br>        1 rama de cidronela fresca<br>           la piel de 1 lima kaffir<br>           la piel de 1 lima<br>        2 hojas de lima kaffir<br>     0,2 g de hebras de azafrán tostado<br>        3 g de levadura fresca prensada<br>        2 g de sechuan button<br>           sal<br><br>nota: el verdadero tucuppí es el caldo<br>resultante de la cocción del jugo que se<br>obtiene de la mandioca fermentada. es<br>originario de brasil. - &ingredientselaboracio3=      20 alas de pollo de payés<br>           agua<br>           sal - &ingredientselaboracio4=      30 g de quinoa<br>    200 g de agua<br>           sal - &ingredientselaboracio5=    150 g de keffir<br>      50 g de agua<br>        1 g de metil<br>        1 sifón isi de n|2o de ½ l<br>        1 carga de n|2o<br>           <br>nota: metil es el nombre comercial que se da<br>a la metilcelulosa en las texturas albert y <br>ferran adrià. - &ingredientselaboracio6=        4 bayas de tamarindo<br>      50 g de agua - &ingredientselaboracio7=           la pulpa del tamarindo (elaboración <br>           anterior)<br>      15 g de caldo de huesos de tamarindo<br>           (elaboración anterior) - &ingredientselaboracio8=      32 hojas de estragón fresco de 0,5 cm<br>      32 hojas de cilantro fresco de 0,5 cm<br>      32 hojas de perifollo fresco de 0,5 cm - &ingredientselaboracio9=      40 g de quinoa germinada<br>           sal - \n",
      "41\n",
      "&ingredientselaboracio1=    100 g de agua<br>        3 g de metil<br>           <br>nota: metil es el nombre comercial que se da <br>a la metilcelulosa en las texturas albert y <br>ferran adrià. - &ingredientselaboracio2=      50 g de trufa de verano pelada<br>      15 g de nata líquida 35? m.g.<br>      15 g de aceite de trufa blanca<br>           sal - &ingredientselaboracio3=        1 trufa de verano de 35 g pelada<br>      20 g de puré de trufa de <br>          verano (elaboración anterior)<br>      20 g de mezcla de metil (elaboración <br>           anterior)<br>           sal - &ingredientselaboracio4=      50 g de arroz venere<br>    250 g de agua - &ingredientselaboracio5=    100 g de caldo de arroz venere (elaboración<br>           anterior)<br>     0,4 g de agar<br>     1/3 hojas de gelatina de 2 g (previamente <br>           rehidratada en agua fría)<br>           sal<br>           <br>nota: agar es el nombre comercial que se da <br>al agar-agar en las texturas albert y ferran adrià. - &ingredientselaboracio6=      50 g de palo de regaliz fresco<br>    300 g de agua<br>        1 g de ácido ascórbico - &ingredientselaboracio7=    200 g de infusión de regaliz fresco <br>           (elaboración anterior)<br>     2,3 g de agar<br>    1 ½ hojas de gelatina de 2 g <br>           (previamente rehidratada en agua fría)<br>        5 g de pasta de regaliz - &ingredientselaboracio8=      50 g de ceps<br>        8 g de mezcla de metil (elaboración <br>           anterior)<br><br><a href='asfunction:playvideo,1159b'><img src='media/icos/video.gif'> </a><br> - &ingredientselaboracio9=    250 g de leche<br>        5 hojas de gelatina de 2 g (previamente <br>           rehidratada en agua fría)<br>      40 g de aceite virgen de cacahuete<br><br><a href='asfunction:playvideo,1159c'><img src='media/icos/video.gif'> </a> - &ingredientselaboracio10=      40 g de cacahuete tostado pelado<br>           rallador microplane - &ingredientselaboracio11=      50 g de sésamo negro<br>        5 g de aceite de girasol<br>           sal - &ingredientselaboracio12=    300 g de germinado de remolacha<br>           prensadora greenstar<br>           <br><a href='asfunction:playvideo,1159d'><img src='media/icos/video.gif'> </a><br> - &ingredientselaboracio13=    100 g de jugo de germinado de remolacha <br>           (elaboración anterior) - &ingredientselaboracio14=    125 g de agua<br>      35 g de pasta de miso blanco<br>        1 hoja de gelatina de 2 g (previamente <br>           rehidratada en agua fría)<br>        1 sifón isi de n|2o de ½ l<br>        1 carga de n|2o<br>        5 vasos de plástico de 60 cc <br>           de capacidad<br><br><a href='asfunction:playvideo,1159e'><img src='media/icos/video.gif'> </a><br> - &ingredientselaboracio15=    400 g de patatas<br>    500 g de agua<br>           sal - &ingredientselaboracio16=      20 g de germinado de col lombarda<br>           aceite de oliva<br>           sal - \n",
      "42\n",
      "&ingredientselaboracio1=   150 g de agua#    1,5 g de sal#       3 g de agar-agar en polvo#     10 tubos de pvc de 2 m de longitud x #          0,5 cm de diámetro#          jeringa con boquilla de#          0,3 cm de diámetro#       1 sifón isi de 1 l  #       1 carga de n|2o#          aplicador de sifón para espaguetis - &ingredientselaboracio2=   500 g de pollo#   500 g de gallina#   150 g de jarrete de ternera#     20 g de cebolla#     25 g de zanahoria#     25 g de puerro#1.500 g de agua - &ingredientselaboracio3=   150 g de caldo de carne y ave (elaboración #          anterior)#       3 g de hoja de lima kaffir#    1,5 g de cilantro fresco#    7,5 g de jengibre fresco#       7 g de ajo#     25 g de shitake#    0,8 g de pasta de curry rojo#          aceite de oliva #          sal - &ingredientselaboracio4=     16 pepinos en flor - &ingredientselaboracio5=       2 kumquats de 12 g/u. - &ingredientselaboracio6=       4 cucharas de olor#       4 ramitas de albahaca fresca con cogollo - &ingredientselaboracio7=     16 cogollos de menta fresca#     16 cogollos de albahaca fresca - \n",
      "43\n",
      "&ingredientselaboracio1=     40 mejillones de roca de 15 g/u.#          agua - &ingredientselaboracio2=     45 g de clara de huevo#     35 g de huevo #   250 g de mantequilla #          sal#       1 sifón isi de ½ litro#       1 carga de n|2o - &ingredientselaboracio3=     40 pistachos tiernos - &ingredientselaboracio4=       1 limón de 60 g - &ingredientselaboracio5=       1 limón#       1 lima#          especias marroquíes ouarzazate#          fatéma hal#          pimienta negra recién molida#          rallador microplane - \n",
      "44\n",
      "&ingredientselaboracio1=   240 g de guisantes extrafinos congelados#   300 g de agua#          sal - &ingredientselaboracio2=   300 g de jugo de guisantes (elaboración#          anterior)#    1,4 g de alginato sódico#       1 sifón isi ½ l#       1 carga de n|2o - &ingredientselaboracio3=1.500 g de agua#    7,5 g de cloruro cálcico - &ingredientselaboracio4=   500 g de huesos de jamón ibérico#1.500 g de agua - &ingredientselaboracio5=     30 g de ajos#     50 g de aceite de oliva virgen extra#          agua - &ingredientselaboracio6=   125 g de caldo de jamón ibérico (elaboración#          anterior)#     25 g de ajos confitados (elaboración#          anterior)#     50 g de aceite de confitar los ajos#          (elaboración anterior)#          sal - &ingredientselaboracio7=       5 g de hojas de menta fresca picada#          aceite de oliva virgen extra#          aplicador de sifón para globos sféricos - \n",
      "45\n",
      "&ingredientselaboracio1=   250 g de almendra marcona en granillo#   300 g de agua - &ingredientselaboracio2=   230 g de leche de almendra (elaboración#          anterior)#   115 g de nata líquida 35? m.g.# 1 y ¼ hojas de gelatina de 2 g (previamente #          rehidratadas en agua fría)#          sal #       1 sifón isi de ½ l.#       1 carga de n|2o - &ingredientselaboracio3=     40 g de ajo#     75 g de aceite de oliva virgen extra - &ingredientselaboracio4=     24 almendras tiernas - &ingredientselaboracio5=       8 g de vinagre balsámico tradicional#          sal maldon#1.000 g de nitrógeno líquido - \n",
      "46\n",
      "&ingredientselaboracio1=   225 g de agua#     38 g de azúcar#    1,5 g de alginato sódico#       1 sifón isi de ½ l#       1 carga de n|2o - &ingredientselaboracio2=    6,5 g de cloruro cálcico#1.000 g de agua - &ingredientselaboracio3=   200 g de alquequenjes - &ingredientselaboracio4=   500 g de nitrógeno líquido#          aplicador de sifón para globos #          y ñoquis sféricos - \n",
      "47\n",
      "&ingredientselaboracio1=       5 patatas monalisa de 200 g/u.#          agua#          sal - &ingredientselaboracio2=   375 g de patatas monalisa peladas #          (elaboración anterior)#   510 g de agua de cocción de la patata#    9,2 g de alginato sódico#     30 g de aceite de oliva virgen extra#          sal#       1 sifón isi de 1 l#       1 carga de n|2o - &ingredientselaboracio3=2.000 g de agua#     20 g de cloruro cálcico - &ingredientselaboracio4=   200 g de agua de mar#   100 g de agua#       4 g de agar-agar en polvo#       1 hoja de gelatina de 2 g (previamente #          rehidratada en agua fría) - &ingredientselaboracio5=     50 g de mantequilla #          láminas de gelatina caliente de agua #          de mar #          (elaboración anterior) - &ingredientselaboracio6=     50 g de nata líquida 35? m.g. - &ingredientselaboracio7=          pimienta negra recién molida#          sal maldon#          aplicador de sifón para globos y ñoquis#          sféricos - \n",
      "48\n",
      "&ingredientselaboracio1=   250 g de calabaza violín#     60 g de azúcar#   160 g de agua - &ingredientselaboracio2=   150 g de aceite de pipas de #          calabaza familie engl#   150 g de agua #       6 g de emulsionante softygel#       1 sifón isi de ½ l#       1 carga de n|2o - &ingredientselaboracio3=       1 naranja de 150 g - &ingredientselaboracio4=       2 g de anís estrellado - &ingredientselaboracio5=     20 pipas de calabaza#   100 g de aceite de girasol - &ingredientselaboracio6=     12 hojas de albahaca fresca de 0,5 cm#          de longitud#       5 g de pasta de tamarindo#       1 naranja#     10 g de aceite de pipas de calabaza familie#          engl#          pimienta negra recién molida#          sal maldon#          rallador microplane - \n",
      "49\n",
      "&ingredientselaboracio1=        8 granadillas de 100 g/u. - &ingredientselaboracio2=    250 g de jugo de granadilla (elaboración <br>           anterior)<br>        1 g de metil<br>        1 sifón isi de n|2o de ½ l<br>        1 carga de n|2o<br>           <br>nota: metil es el nombre comercial que se da <br>a la metilcelulosa en las texturas albert y <br>ferran adrià. - &ingredientselaboracio3=    250 g de leche<br>     2,5 g de semillas de cardamomo - &ingredientselaboracio4=    250 g de leche infusionada con cardamomo <br>           (elaboración anterior)<br>        3 g de sucro<br><br>nota: sucro es el nombre comercial que se da <br>al sucroéster en las texturas albert y ferran <br>adrià. - &ingredientselaboracio5=        2 bogavantes hembras sin ovar <br>           de 500 g/u.<br> 4.000 g de agua de mar - &ingredientselaboracio6=           cabezas de bogavante (elaboración <br>           anterior) - &ingredientselaboracio7=           curry de madrás en polvo<br>           sal<br>           aceite de oliva<br>        1 lima<br>           rallador microplane - \n",
      "50\n",
      "&ingredientselaboracio1=2.000 g de espina de atún (de la parte central)#          agua de mar - &ingredientselaboracio2=   150 g de salsa de soja#   100 g de agua#    4,8 g de agar-agar en polvo#     12 tubos de pvc de 180 cm de longitud y  #          0,2 cm de diámetro enrollados en #          sí mismos y sujetados por una cinta #          adhesiva#       1 sifón isi de 1 l #       1 carga de n|2o#          aplicador de sifón para vaciar #          espaguetinis - &ingredientselaboracio3=       1 trozo de sandía de 500 g - &ingredientselaboracio4=     30 g de wasabi fresco#          rallador japonés para wasabi - &ingredientselaboracio5=     10 g de sésamo negro tostado#     10 g de sésamo blanco japonés tostado#     10 g de aceite de sésamo#     30 cogollos de shiso morado germinado#       5 g de piel de yuzu deshidratada##nota: el shiso es un tipo de menta asiática #que posee notas de albahaca y menta. #existen dos tipos, morado y verde.##nota: el yuzu es un cítrico japonés que #recuerda al mismo tiempo a una  #mandarina y un limón. se usa sobre todo#por su piel intensamente aromática. - \n",
      "51\n",
      "&ingredientselaboracio1=   360 g de agua#   300 g de almendra marcona en granillo - &ingredientselaboracio2=   144 g de harina floja#    4,5 g de levadura fresca prensada#    2,2 g de sal#     85 g de leche#    7,5 g de masa madre - &ingredientselaboracio3=     45 g de almendra amarga#   750 g de leche #    2,2 g de lecitina de soja en polvo - &ingredientselaboracio4=   200 g de leche de almendra (elaboración #          anterior)#     70 g de nata líquida 35? m.g.#      ¾ de hoja de gelatina de 2 g (previamente#          rehidratada en agua fría)#          sal #       1 sifón isi de ½ l#       1 carga de n|2o - &ingredientselaboracio5=   200 g de almendra tierna - &ingredientselaboracio6=     10 g de almendra amarga #          rallador microplane - &ingredientselaboracio7=     40 almendras tiernas peladas#     80 hojas de estragón fresco de 1 cm#     30 g de aceite de almendra #     25 g de mostaza de dijon#          sal maldon - \n",
      "52\n",
      "&ingredientselaboracio1=   100 g de agua#     60 g de azúcar - &ingredientselaboracio2=   400 g de pulpa de guanábana congelada    #   100 g de jarabe 60? (elaboración anterior)#   100 g de agua#   100 g de nata líquida 35? m.g.#       3 hojas de gelatina de 2 g (previamente #          rehidratada en agua fría)#       1 sifón isi de 1 l#       2 cargas de n|2o - &ingredientselaboracio3=     30 g de azúcar #     30 g de agua - &ingredientselaboracio4=     20 g de semillas de albahaca#   240 g de agua#     30 g de jarabe 100? (elaboración anterior)#     20 g de café soluble - &ingredientselaboracio5=1.000 g de nitrógeno líquido - \n",
      "53\n",
      "&ingredientselaboracio1=    140 g de pistachos verdes repelados<br>    240 g de agua<br>           pacojet - &ingredientselaboracio2=    250 g de crema de pistachos verdes <br>           repelados (elaboración anterior)<br>        1 g de sal<br>        1 sifón isi de n|2o de ½ l.<br>        1 carga de n|2o<br><br><a href='asfunction:playvideo,1133'><img src='media/icos/video.gif'> </a><br> - &ingredientselaboracio3=           espuma fría de pistachos verdes <br>           repelados<br>           (elaboración anterior)<br>        8 vasos de plástico de 60 cc de <br>           capacidad - &ingredientselaboracio4=    500 g de pollo<br> 1.500 g de osamenta de pollo<br>    500 g de huesos de rodilla de ternera<br>      50 g de jarrete de ternera<br>      20 g de zanahoria<br>      20 g de puerro<br>      20 g de cebolla<br>  2500 g de agua - &ingredientselaboracio5=    750 g de consomé de ave y ternera <br>           (elaboración anterior)<br>      20 g de zanahoria<br>      10 g de puerro<br>      50 g de tomate maduro<br>      75 g de carne picada de ternera<br>    100 g de clara de huevo<br>      15 g de hielo pilé - &ingredientselaboracio6=      75 g de consomé de ave y ternera <br>           clarificado (elaboración anterior)<br>    175 g de jugo de trufa negra sin sal<br>     0,1 g de xantana<br>           sal<br>           <br>nota: xantana es el nombre comercial que <br>se da a la goma xantana en las texturas albert <br>y ferran adrià. - &ingredientselaboracio7=    500 g de zumo de mandarina simone gatto<br>     1,5 g de lecite<br>           <br>nota: lecite es el nombre comercial que se <br>da a la lecitina de soja en las texturas albert y <br>ferran adrià. - \n",
      "54\n",
      "&ingredientselaboracio1=       4 latas de maíz cocido de 300 g/u. - &ingredientselaboracio2=   360 g de crema de maíz cocido (elaboración#          anterior)#   180 g de nata líquida 35? m.g.# 1 y ¾ hojas de gelatina de 2 g (previamente#          rehidratadas en agua fría)#       1 sifón isi de ½ l#       2 cargas de n|2o - &ingredientselaboracio3=   100 g de jugo de trufa negra sin sal#      ½ hoja de gelatina de 2 g (previamente #          rehidratada en agua fría)#          sal - &ingredientselaboracio4=   250 g de foie-gras fresco de pato #   375 g de agua#       5 g de lecitina de soja en polvo - &ingredientselaboracio5=1.500 g de nitrógeno líquido#       5 g de ácido cítrico granulado - \n",
      "55\n",
      "&ingredientselaboracio1=     60 g de agua#     60 g de azúcar - &ingredientselaboracio2=   400 g de zumo de pomelo blanco#     50 g de jarabe 100? (elaboración anterior) - &ingredientselaboracio3=   585 g de zumo de pomelo blanco #     95 g de ron blanco#     23 g de ron negro#     50 g de jarabe 100? (elaboración anterior)#     28 g de hojas de albahaca fresca#       1 hoja de gelatina de 2 g (previamente #          rehidratada en agua fría)#       1 sifón isi de soda de 1 l#       2 cargas de co|2 - &ingredientselaboracio4=     10 hojas de albahaca fresca - \n",
      "56\n",
      "&ingredientselaboracio1=    275 g de pulpa de melocotón blanco garnier<br>    2 ¼ hojas de gelatina de 2 g (previamente <br>           rehidratada en agua fría)<br>        1 sifón isi de n|2o de ½ l.<br>        1 carga de n|2o - &ingredientselaboracio2=           espuma fría de melocotón blanco <br>           (elaboración anterior) - &ingredientselaboracio3=           espuma fría de melocotón blanco<br>           liofilizada (elaboración anterior) - &ingredientselaboracio4=    225 g de agua<br>    125 g de glucosa<br>      55 g de dextrosa<br>      65 g de estabilizante procrema sosa<br>        2 g de ácido cítrico<br>      25 g de estabilizante prosorbet sosa<br>    225 g de yogur griego<br>    225 g de yogur - &ingredientselaboracio5=    125 g de fondant<br>      30 g de glucosa<br>      50 g de isomalt<br>      10 g de café soluble - &ingredientselaboracio6=           trocitos de caramelo de café soluble <br>           (elaboración anterior) - &ingredientselaboracio7=      50 g de almendra amarga<br>      30 g de azúcar<br>      10 g agua<br>      30 g de yogur en polvo pral<br>        2 g de ácido cítrico en polvo - &ingredientselaboracio8=      70 g de hojas de hierba luisa fresca<br>     0,6 g de ácido ascórbico<br>           agua - &ingredientselaboracio9=    100 g de agua de hierba luisa fresca <br>           (elaboración anterior) - &ingredientselaboracio10=      25 g de agua<br>      25 g de azúcar - &ingredientselaboracio11=           concentrado de hierba luisa <br>           (elaboración anterior)<br>      25 g de jarabe base 100 ? (elaboración<br>           anterior) - &ingredientselaboracio12=        2 melocotones de viña de 300 g/u.<br>      65 g de amaretto di saronno<br>    105 g de agua - &ingredientselaboracio13=        2 melocotones-cru al amaretto<br>           (elaboración anterior) - &ingredientselaboracio14=      50 g de azúcar<br>           la piel rallada de ½ limón con rallador <br>           microplane<br>     0,7 g de ácido cítrico en polvo<br>        8 g de zumo de limón - &ingredientselaboracio15=        4 flores de sechuan button - &ingredientselaboracio16=        4 hojas de albahaca fresca de 0’5 cm<br>        4 hojas de tomillo limonero fresco - \n",
      "57\n",
      "&ingredientselaboracio1=       2 bueyes de mar de 1.000 g/u.#          agua#          sal - &ingredientselaboracio2=       2 aguacates de 300 g/u.#          aceite de girasol - &ingredientselaboracio3=     85 g de \"falsa anémona\" de buey de mar#          (elaboración anterior)#     40 g de coral de buey de mar (elaboración#          anterior)#     20 g del agua del interior del cuerpo#          del buey de mar (elaboración anterior)#          sal - &ingredientselaboracio4=   150 g de aceite de pipas de #          calabaza familie engl#   150 g de agua #       6 g de emulsionante softygel#       1 sifón isi de ½ l#       1 carga de n|2o - &ingredientselaboracio5=     50 g de yogur - &ingredientselaboracio6=          aceite de oliva virgen extra#          sal maldon#          pimienta negra recién molida - \n",
      "58\n",
      "&ingredientselaboracio1=     60 g de agua#     60 g de azúcar - &ingredientselaboracio2=   125 g de pistacho verde repelado#   200 g de agua#     25 g de jarabe 100? (elaboración anterior) - &ingredientselaboracio3=   450 g de agua#   225 g de pistacho verde repelado - &ingredientselaboracio4=       8 pistachos verdes repelados#     70 g de agua - &ingredientselaboracio5=   275 g de pistacho verde repelado#   150 g de isomalt#   150 g de glucosa#   280 g de fondant - &ingredientselaboracio6=          crocant de pistacho verde (elaboración #          anterior)#       1 cilindro de metacrilato de 4,5 cm #          de diámetro - &ingredientselaboracio7=     80 g de pistacho verde repelado#   125 g de claras de huevo#     80 g de yema de huevo #     80 g de azúcar#     20 g de harina floja#       1 sifón isi de ½ l#       1 carga de n|2o - &ingredientselaboracio8=          la masa de bizcocho de pistacho verde #          en sifón (elaboración anterior)#       4 vasos de plástico de 20 cl - &ingredientselaboracio9=   400 g de leche de pistacho verde #          (elaboración anterior)#     40 g de jarabe 100? (elaboración anterior)#       2 g de lecitina de soja en polvo - &ingredientselaboracio10=       8 pistachos tostados con cáscara - \n",
      "59\n",
      "&ingredientselaboracio1=   250 g de café exprés#     70 g de azúcar#   150 g de nata líquida 35? m.g.#     13 g de emulsionante en polvo#       1 sifón isi de ½ l#       1 carga de n|2o - &ingredientselaboracio2=          café soluble#          cacao en polvo - \n",
      "60\n",
      "&ingredientselaboracio1=      12 espárragos blancos de 1,2 cm<br>           de diámetro<br>           agua<br>           sal - &ingredientselaboracio2=           los tallos cocidos de los espárragos <br>           (elaboración anterior) - &ingredientselaboracio3=    100 g de jugo de espárrago blanco cocido <br>           (elaboración anterior)<br>        2 g de fécula de patata<br>           sal - &ingredientselaboracio4=    270 g de agua<br>    240 g de aceite de oliva virgen extra<br>        3 g de algin<br>        3 g de sucro<br>    2,4 g de glice<br>        1 sifón isi de n|2o de ½ l<br>        1 carga de n|2o<br>         <br>nota: algin es el nombre comercial que se da <br>al alginato sódico en las texturas albert y <br>ferran adrià.<br><br>nota: sucro es el nombre comercial que se da <br>al sucroéster en las texturas albert y ferran adrià.<br><br>nota: glice es el nombre comercial que se da <br>en las texturas albert y ferran adrià a un <br>emulsionante formado por mono y diglicéridos. - &ingredientselaboracio5= 1.000 g de agua<br>      10 g de calcic<br>           <br>nota: calcic es el nombre comercial que se <br>da al cloruro cálcico en las texturas albert y <br>ferran adrià. - &ingredientselaboracio6=    250 g de leche entera<br>     4,5 hojas de gelatina de 2 g (previamente <br>           rehidratada en agua fría)<br>      13 g de zumo de limón<br>        ½ limón<br>           rallador microplane - &ingredientselaboracio7=      10 g de piel de yuzu deshidratada<br>           sal maldon<br>           pimienta negra recién molida<br>           <br>nota: el yuzu es un cítrico japonés que <br>recuerda al mismo tiempo a una mandarina y <br>un limón. se usa sobre todo por su piel <br>intensamente aromática. - \n",
      "61\n",
      "&ingredientselaboracio1=2.000 g de panceta ibérica salada#          agua - &ingredientselaboracio2=   350 g de yogur #   150 g de nata líquida 35? m.g.#      2  hojas de gelatina de 2 g (previamente#          rehidratadas en agua fría)#       1 sifón isi de ½ l#       1 carga de n|2o - &ingredientselaboracio3=          especias córdoba fatéma hal#1.000 g de aceite de oliva - \n",
      "62\n",
      "&ingredientselaboracio1=   112 g de yogur#     30 g de nata líquida 35? m.g.#      ¼ de hoja de gelatina de 2 g (previamente#          rehidratada en agua fría)#       1 sifón isi de ½ l#       1 carga de n|2o - &ingredientselaboracio2=     12 ostras redondas de 200 g/u. - &ingredientselaboracio3=       4 ostras (elaboración anterior)#     40 g de agua de ostra (elaboración anterior)#          zumo de limón - &ingredientselaboracio4=       1 limón de 150 g - &ingredientselaboracio5=     30 g de flor de saúco - \n",
      "63\n",
      "&ingredientselaboracio1=   200 g de jugo de trufa negra#    1,6 g de alginato sódico - &ingredientselaboracio2=1.000 g de agua#       5 g de cloruro cálcico - &ingredientselaboracio3=   200 g de base de perdigones sféricos#          de jugo de trufa negra  (elaboración#          anterior)#1.000 g de base de cloruro cálcico#          (elaboración anterior)#   100 g de jugo de trufa negra - &ingredientselaboracio4=   120 g de yogur#     34 g de nata líquida 35? m.g.#     ½  hoja de gelatina de 2 g (previamente#          rehidratada en agua fría)#       1 sifón isi de ½ l#       1 carga de n|2o - &ingredientselaboracio5=   100 g de jugo de trufa negra#     ¼  de hoja de gelatina de 2 g (previamente#          rehidratada en agua fría) - &ingredientselaboracio6=     10 g de aceite de avellana#          pimienta negra recién molida - \n",
      "64\n",
      "&ingredientselaboracio1=      16 medias nueces peladas variedad <br>           franquet de 8 g/u.<br>    150 g de agua<br>           sal - &ingredientselaboracio2=    300 g de mantequilla - &ingredientselaboracio3=    275 g de mantequilla avellana (elaboración <br>           anterior)<br>    100 g de yema de huevo pasteurizada<br>      80 g de clara de huevo pasteurizada<br>           sal<br>        1 sifón isi de n|2o de ½ l<br>        1 carga de n|2o - &ingredientselaboracio4=    375 g de mantequilla avellana (elaboración <br>           anterior)<br>    125 g de mantequilla<br>    375 g de agua<br>        4 g de lecite<br><br>nota: lecite es el nombre comercial que se <br>da a la lecitina de soja en las texturas albert y <br>ferran adrià. - &ingredientselaboracio5=      40 capullos de margarita en vinagre - &ingredientselaboracio6=        4 cucharas de olor<br>        4 brotes con cogollo de menta fresca <br>           de 8 cm de longitud - &ingredientselaboracio7=      30 g de aceite de nuez<br>           sal maldon - \n",
      "65\n",
      "&ingredientselaboracio1=   500 g de parmesano reggiano rallado#   450 g de agua - &ingredientselaboracio2=   300 g de suero de parmesano reggiano#          (elaboración anterior)#    4,8 g de agar-agar en polvo#       4 tubos de pvc de 0,5 cm de diámetro#          y 2 m de longitud#       1 jeringa con boquilla de 0,3 cm#          de diámetro - &ingredientselaboracio3=       1 limón#          vinagre balsámico tradicional#          pimienta negra recién molida#       1 sifón isi de 1 l con aplicador para vaciar#          los espaguetis#       2 cargas de n|2o#          rallador microplane - \n",
      "66\n",
      "&ingredientselaboracio1=       1 pomelo blanco de 300 g - &ingredientselaboracio2=     55 g de agua#     32 g de azúcar#     25 g de café soluble#      ½ hoja de gelatina de 2 g (previamente#          rehidratada en agua fría) - &ingredientselaboracio3=   100 g de leche de coco sicoly - &ingredientselaboracio4=     60 g de leche de coco (elaboración anterior)#       4 g de almendra amarga - &ingredientselaboracio5=   200 g de zumo de pomelo rosa#     40 g de nata líquida 35? m.g.#       1 sifón isi de ½ l#       1 carga de n|2o - &ingredientselaboracio6=   100 g de fondant#     50 g de glucosa#     50 g de isomalt#     45 g de pasta de cacao - &ingredientselaboracio7=      2  habas tonka#          rallador microplane - \n",
      "67\n",
      "&ingredientselaboracio1=      15 granadillas de 100 g/u. - &ingredientselaboracio2=    175 g de nata líquida 35? mg<br>    150 g de azúcar<br>        2 g de semillas de cardamomo<br>        1 sifón isi de n|2o de ½ l<br>        1 carga de n|2o - &ingredientselaboracio3=    250 g de jugo de granadilla (elaboración <br>           anterior)<br>        3 g de metil<br>        3 hojas de gelatina de 2 g (previamente<br>           rehidratada en agua fría)<br>           <br>nota: metil es el nombre comercial que se da<br>a la metilcelulosa en las texturas albert y <br>ferran adrià. - &ingredientselaboracio4=           nube de metil de jugo de granadilla <br>           (elaboración anterior)<br>           espuma fría de toffee al cardamomo <br>           (elaboración anterior)<br>        4 moldes cilíndricos de pvc de 6 cm <br>           de altura y 4,5 cm de diámetro forrados <br>           interiormente con papel sulfurizado - &ingredientselaboracio5=      20 g de cardamomo - &ingredientselaboracio6=        1 fruta de la pasión de 50 g - \n",
      "68\n",
      "&ingredientselaboracio1=   250 g de puré de mango garnier#     38 g de glucosa#     62 g de agua - &ingredientselaboracio2=     85 g de chocolate blanco#   100 g de nata líquida 35? m.g.#     60 g de clara de huevo #       1 sifón isi de ½ l#       1 carga de n|2o - &ingredientselaboracio3=     25 g de azúcar #     25 g de puré de aceituna negra#          agua - &ingredientselaboracio4=     25 g de harina floja#     28 g de mantequilla pomada#     25 g de azúcar lustre#     15 g de yogur en polvo - &ingredientselaboracio5=     25 g de agua#     25 g de azúcar - &ingredientselaboracio6=       2 g de semillas de albahaca#       5 g de agua#       5 g de jarabe 100? ( elaboración anterior)#       5 g de jugo de fruta de la pasión - &ingredientselaboracio7=     40 g de yogur en polvo#     20 g de dextrosa  #     10 g de azúcar lustre#     10 g de ácido cítrico en polvo - &ingredientselaboracio8=          sal maldon#       4 cogollos de albahaca fresca - \n",
      "69\n",
      "&ingredientselaboracio1=     25 g de aceite de girasol#    0,2 g de guindillas secas - &ingredientselaboracio2=   225 g de agua#     50 g de agua de rosas#     38 g de azúcar#       2 g de alginato sódico#       1 sifón isi de ½ l#       1 carga de n|2o - &ingredientselaboracio3=       1 lata de lichis en conserva de 400 g - &ingredientselaboracio4=       1 limón de 80 g - &ingredientselaboracio5=    6,5 g de cloruro cálcico#1.000 g de agua - &ingredientselaboracio6=     10 g de wasabi fresco#          rallador japonés para wasabi - &ingredientselaboracio7=       4 g de jengibre fresco picado#       2 g de piel de limón semiconfitada picada#       2 pétalos de rosa en juliana fina#       1 lima#     12 hojas de albahaca fresca#          rallador microplane#          aplicador de sifón para globos sféricos - \n",
      "70\n",
      "&ingredientselaboracio1=   250 g de calabaza violín#   125 g de agua - &ingredientselaboracio2=   200 g de puré de calabaza boiron#     10 g de azúcar#     80 g de agua#    2,4 g de alginato sódico#       1 sifón isi de 1 l#       3 cargas de n|2o#          aplicador de ñoquis para sifón - &ingredientselaboracio3=1.000 g de agua #    6,5 g de cloruro cálcico - &ingredientselaboracio4=       1 naranja#       1 mandarina#       1 naranja sanguina - &ingredientselaboracio5=       5 g de especias córdoba fatéma hal#          sal maldon #     60 g de aceite de pipas de calabaza #          familie engl#       2 g de vinagre balsámico tradicional#          aplicador de sifón para globos #          y ñoquis sféricos - \n",
      "71\n",
      "&ingredientselaboracio1=        5 latas de maíz cocido en conserva <br>           de 300 g/u. - &ingredientselaboracio2=    500 g de maíz cocido en conserva <br>           escurrido (elaboración anterior) - &ingredientselaboracio3=    110 g de jugo de maíz (elaboración anterior)<br>      40 g de nata líquida 35 ? m.g.<br>     0,4 g de xantana<br>        ½ hoja de gelatina de 2 g (previamente <br>           rehidratada en agua fría)<br>        1 sifón isi de n|2o de ½ l<br>        1 carga de n|2o<br>           <br>nota: xantana es el nombre comercial que <br>se da a la goma xantana en las texturas albert <br>y ferran adrià. - &ingredientselaboracio4=    250 g de agua de maíz (elaboración anterior)<br>        3 g de metil<br>        3 hojas de gelatina de 2 g (previamente<br>           rehidratada en agua fría)<br>           <br>nota: metil es el nombre comercial que se da <br>a la metilcelulosa en las texturas albert y <br>ferran adrià. - &ingredientselaboracio5=           nube de metil de agua de maíz <br>           (elaboración anterior)<br>           espuma fría de jugo de maíz <br>           (elaboración anterior)<br>      10 g de aceite de girasol - &ingredientselaboracio6=        1 pollo de payés de 2000 g<br> 1.500 g de agua<br>           sal<br>           <br>nota: cantidad mínima para garantizar un <br>buen resultado - &ingredientselaboracio7=    200 g de caldo de pollo de payés <br>           (elaboración anterior)<br>      75 g de agua de maíz (elaboración anterior)<br>      15 g de cilantro fresco<br>     0,3 g de guindilla seca<br>           sal - &ingredientselaboracio8=      32 coquinas de 8 g/u. - &ingredientselaboracio9=           sal maldon - \n",
      "72\n",
      "&ingredientselaboracio1=     10 g de leche#     10 g de aceite de oliva #   200 g de harina floja#     25 g de levadura fresca prensada#       5 g de azúcar#     30 g de huevo #     17 g de yema de huevo#     12 g de sal#   100 g de semolina de trigo - &ingredientselaboracio2=   250 g de nata líquida 35? m.g.#     15 g de levadura fresca prensada#     35 g de claras de huevo#    7,5 g de azúcar#       1 sifón isi de ½ l#       1 carga de n|2o - &ingredientselaboracio3=     50 g de yema de huevo pasteurizada - &ingredientselaboracio4=       1 lima#       1 naranja#       1 limón#     25 g de mantequilla#          sal maldon#          agua#          sal#          canela en rama recién molida#          azúcar lustre#          rallador microplane - \n",
      "73\n",
      "&ingredientselaboracio1=     17 g de té de rosas#   700 g de agua#    1,5 g de agua de rosas#       5 g de jengibre fresco rallado - &ingredientselaboracio2=   100 g de miel de romero#   200 g de agua - &ingredientselaboracio3=   170 ml de agua de miel de romero#          caramelizada (elaboración anterior)#    1,7 g de agar-agar en polvo#     ½  hoja de gelatina de 2 g (previamente#          rehidratada en agua fría) - &ingredientselaboracio4=   225 g de puré de melocotón de viña garnier#     35 g de claras de huevo#       1 sifón isi de ½ l#       1 carga de n|2o - &ingredientselaboracio5=     10 rosas frescas - \n",
      "74\n",
      "&ingredientselaboracio1=<b>para la masa de moshi</b> - &ingredientselaboracio2=           masa de moshi (elaboración anterior)<br>    200 g de fécula de patata - &ingredientselaboracio3=    140 g de yogur natural<br>    140 g de yogur griego<br>    120 g de nata líquida 35?  m.g.<br>      60 g de azúcar<br>    0,5 g de ácido cítrico<br>        1 ¾ hojas de gelatina de 2g (previamente <br>           rehidratadas en agua fría) - &ingredientselaboracio4=      25 g de jarabe 100? (elaboración anterior)<br>        5 g de té matcha - &ingredientselaboracio5=      10 frambuesas<br>      10 flores de romero fresco - &ingredientselaboracio6=<b>para la masa de moshi de fruta de la pasión</b> - &ingredientselaboracio7=         la masa de moshi de fruta de la pasión <br>         (elaboración anterior)<br>  200 g de fécula de patata - &ingredientselaboracio8=  250 g de nata líquida 35? m.g.<br>    25 g de azúcar - &ingredientselaboracio9=    10 semillas de fruta de la pasión <br>    10 hojitas de albahaca de hoja pequeña <br>         fresca<br>    25 g de pasta de regaliz en una manga        <br>         pastelera - &ingredientselaboracio10=<b>para la masa de moshi de café</b> - &ingredientselaboracio11=         masa de moshi de café (elaboración <br>         anterior)<br>  200 g de fécula de patata - &ingredientselaboracio12=  100 g de azúcar<br>    60 g de agua - &ingredientselaboracio13=  300 g de pulpa de guanábana colada<br>    75 g de jarabe 60? (elaboración anterior)<br>  125 g de nata líquida 35? m.g.<br>      2 hojas de gelatina de 2 g (previamente <br>         rehidratada en agua fría)<br>      1 sifón isi de n|2o de ½ l.<br>      1 carga de n|2o - &ingredientselaboracio14=    30 semillas de fruta de la pasión - \n",
      "75\n",
      "&ingredientselaboracio1=       1 piña de 400 g - &ingredientselaboracio2=   400 g de jugo de piña (elaboración anterior)#   200 g de glucosa#    1,9 g de estabilizante para sorbetes - &ingredientselaboracio3=   250 g de isomalt#     20 g de pasta de cacao - &ingredientselaboracio4=          caramelo de chocolate (elaboración #          anterior)#          pera insufladora - &ingredientselaboracio5=   125 g de leche#   125 g de nata líquida 35? m.g.#   100 g de yemas de huevo#     35 g de azúcar#     18 g de bayas de enebro#       1 sifón isi de ½ l #       1 carga de n|2o - &ingredientselaboracio6=     50 g de azúcar#     25 g de glucosa#     20 g de agua#     50 g de pasta de cacao#     75 g de agua - &ingredientselaboracio7=   100 g de azúcar #   100 g de nata líquida 35? m.g. - &ingredientselaboracio8=       5 yemas de huevo #   100 g de azúcar#       5 claras de huevo #     25 g de azúcar#   100 g de harina floja#     25 g de maicena - &ingredientselaboracio9=     75 g de café exprés - \n",
      "76\n",
      "&ingredientselaboracio1=1.000 g de fruta de la pasión - &ingredientselaboracio2=     50 g de azúcar#     50 g de agua - &ingredientselaboracio3=   215 g de jugo de fruta de la pasión   #          (elaboración anterior)#     85 g de bourbon#   105 g de nata líquida 35? m.g.#     35 g de jarabe 100? (elaboración anterior)#     45 g de agua#     30 g de hojas de menta fresca#       1 sifón isi de ½ l#       2 cargas de n|2o - &ingredientselaboracio4=1.000 g de nitrógeno líquido - \n",
      "77\n",
      "&ingredientselaboracio1=    150 g de puré de mango garnier<br>      45 g de azúcar lustre<br>      25 g de isomalt<br>        5 g de glucosa - &ingredientselaboracio2=    150 g de mezcla de lamicrack de mango <br>           (elaboración anterior)<br>        1 transparencia del diámetro del disco de <br>           la deshidratadora con 40 puzzles<br>        1 silpat del mismo diámetro que el disco <br>           de la deshidratadora - &ingredientselaboracio3=    250 g de agua<br>    120 g de concentrado de flor de saúco hafi<br>        1 molde esférico de silicona de 7 cm <br>           de diámetro - &ingredientselaboracio4=        1 esfera helada de flor de saúco <br>           de 7 cm de diámetro (elaboración <br>           anterior) - &ingredientselaboracio5=    100 g de agua<br>      30 g de azúcar - &ingredientselaboracio6=    125 g de jarabe 30 ? (elaboración anterior)<br>     0,1 g de hebras de azafrán tostadas - &ingredientselaboracio7=      50 g de chocolate blanco<br>      40 g de nata líquida 35? m.g.<br>      50 g de puré de fruta de la pasión garnier<br>      18 g de mantequilla - &ingredientselaboracio8=    125 g de leche de coco sicoly - &ingredientselaboracio9=    100 g de leche de coco colada (elaboración<br>            anterior)<br>      35 g de nata líquida 35? m.g.<br>        ½ hoja de gelatina de 2 g (previamente <br>           rehidratada en agua fría)<br>        1 sifón isi de n|2o de ½ l.<br>        1 carga de n|2o - &ingredientselaboracio10=    125 g de puré de mango garnier<br>    125 g de agua<br>    0,9 g de algin<br>    0,7 g de citras<br>           <br>           <br>nota: algin es el nombre comercial que se da<br>al alginato sódico en las texturas albert y <br>ferran adrià.<br>           <br>nota: citras es el nombre comercial que se <br>da al citrato sódico en las texturas albert y <br>ferran adrià. - &ingredientselaboracio11=    6,5 g de calcic<br>1.000 g de agua<br>           <br>nota: calcic es el nombre comercial que se <br>da al cloruro cálcico en las texturas albert y <br>ferran adrià. - &ingredientselaboracio12=      75 g de pan de especias con miel - &ingredientselaboracio13=    100 g de jarabe de azafrán (elaboración <br>           anterior)<br>        1 plátano de 200 g - &ingredientselaboracio14=      12 hojas de tomillo limonero fresco<br>      16 g de aceite de pipas de calabaza <br>           familie engl - \n",
      "78\n",
      "&ingredientselaboracio1=      10 almejas reales finas de 40 g/u.<br>1.000 g de agua de mar - &ingredientselaboracio2=    250 g de zumo de pomelo rosa<br>    2,5 g de metil<br>        1 sifón isi de n|2o de ½ l<br>        1 carga de n|2o<br>           <br>nota: metil es el nombre comercial que <br>se da a la metilcelulosa en las texturas <br>albert y ferran adrià.<br><br><a href='asfunction:playvideo,1129'><img src='media/icos/video.gif'> </a><br> - &ingredientselaboracio3=        2 láminas de oboro kombu - &ingredientselaboracio4=      60 g de sésamo negro<br>      10 g de aceite de girasol<br>           sal - &ingredientselaboracio5=     5,4 g de té earl grey excelsior<br>    300 g de agua - &ingredientselaboracio6=      20 g de sésamo blanco japonés tostado - \n",
      "79\n",
      "&ingredientselaboracio1=     10 remolachas frescas de 150 g/u. - &ingredientselaboracio2=   150 g de jugo de remolacha (elaboración#          anterior)#    7,5 g de clara de huevo en polvo - &ingredientselaboracio3=       4 remolachas frescas de 150 g/u.#     20 g de azúcar lustre#     25 g de isomalt#       5 g de glucosa - &ingredientselaboracio4=     50 g de base de lamicrack de remolacha  #          (elaboración anterior)#       4 moldes de pvc de 30,5 x 1 cm. - &ingredientselaboracio5=     50 g de base de lamicrack de remolacha  #          (elaboración anterior)#       4 moldes de pvc cuadrados de 8 cm #          de lado - &ingredientselaboracio6=     50 g de base de lamicrack de remolacha #          (elaboración anterior)#       4 moldes de pvc de 15 x 1,5cm#          molde circular de 7 cm de diámetro - &ingredientselaboracio7=   225 g de yogur #     60 g de nata líquida 35? m.g.#      ¾ de hoja de gelatina de 2 g (previamente  #          rehidratada en agua fría)#       1 sifón isi de ½ l#       1 carga de n|2o - &ingredientselaboracio8=   500 g de jugo de remolacha (elaboración#          anterior) - &ingredientselaboracio9=   100 g de jugo de remolacha (elaboración #          anterior)#      ½ hoja de gelatina de 2 g (previamente #          rehidratada en agua fría) - &ingredientselaboracio10=   100 g de jugo de remolacha#          (elaboración anterior) - &ingredientselaboracio11=   250 g de remolacha cocida#   250 g de agua - &ingredientselaboracio12=   500 g de puré de remolacha cocida #          (elaboración anterior)#       2 hojas de gelatina de 2 g (previamente  #          rehidratadas en agua fría)#       1 sifón isi de ½ l#       1 carga de n|2o - &ingredientselaboracio13=       4 grosellas#          ácido cítrico granulado#          pimienta negra recién molida#          sal maldon - \n",
      "80\n",
      "&ingredientselaboracio1=   125 g de anchoas en salazón#   250 g de agua - &ingredientselaboracio2=     25 g de agua de mozzarella de búfala#     15 g de nata líquida 35? m.g. - &ingredientselaboracio3=1.000 g de leche #     40 g de nata de mozzarella (elaboración #          anterior) - &ingredientselaboracio4=    2,5 bolsas de mozzarella de búfala fresca #          de 300 g/u.#     75 de nata líquida 35? m.g.#       4 hojas de gelatina de 2 g (previamente#          rehidratada en agua fría)#       1 sifón isi de ½ l#       1 carga de n|2o - &ingredientselaboracio5=   100 g de agua de anchoa en salazón #          (elaboración anterior)#    0,2 g de agar-agar en polvo#      ¼ de hoja de gelatina de 2 g (previamente #          rehidratada en agua fría) - &ingredientselaboracio6=     45 g de jugo de trufa negra#      ¼ de hoja de gelatina de 2 g (previamente  #          rehidratada en agua fría)#          sal - &ingredientselaboracio7=     10 g de trufa negra en conserva#     30 g de aceite de oliva#          sal - &ingredientselaboracio8=     16 cogollos de albahaca fresca - \n",
      "81\n",
      "&ingredientselaboracio1=1.500 g de zanahoria - &ingredientselaboracio2=    500 g de jugo de zanahoria<br>     3,5 hojas de gelatina de 2 g (previamente <br>           rehidratadas en agua fría)<br>        1 sifón isi de n|2o de ½ l<br>        1 carga de n|2o - &ingredientselaboracio3=           espuma fría de jugo de zanahoria<br>           (elaboración anterior)<br>      10 vasos de plástico de 60 g de capacidad<br><br><a href='asfunction:playvideo,1134a'><img src='media/icos/video.gif'> </a> - &ingredientselaboracio4=    120 g de avellana tostada repelada<br>    240 g de agua<br>           pacojet - &ingredientselaboracio5=      40 g de pasta de avellana<br>    120 g de nata líquida 35? m.g.<br>      80 g de crema de avellana (elaboración <br>           anterior)<br>        ¾ de hoja de gelatina de 2 g (previamente<br>            rehidratada en agua fría)<br>        1 g de sal<br>        1 sifón isi de n|2o de ½ l<br>        1 carga de n|2o - &ingredientselaboracio6=        1 pomelo rosa de 300 g - &ingredientselaboracio7=    500 g de leche fermentada entera<br><br><a href='asfunction:playvideo,1134b'><img src='media/icos/video.gif'> </a> - &ingredientselaboracio8=    500 g de leche<br>     1,5 g de lecite<br>     3,5 g de especias córdoba fatéma hal<br>           <br>nota: lecite es el nombre comercial que se <br>da a la lecitina de soja en las texturas albert y <br>ferran adrià. - &ingredientselaboracio9=        3 g de hebras de azafrán - &ingredientselaboracio10=        4 avellanas peladas<br>    100 g de aceite de oliva 0’4<br>           sal - &ingredientselaboracio11=      20 g de pasta pura de avellana<br>        4 g de especias córdoba fatéma hal<br>      10 g de germinado de cilantro<br>        2 g de hinojo fresco picado<br>        2 g de aceite virgen de semillas de hinojo - \n",
      "82\n",
      "&ingredientselaboracio1=     50 g de salsa de soja#     33 g de agua#    1,6 g de agar-agar en polvo#     10 tubos de pvc de 180 cm de longitud#          y 0,2 cm de diámetro #       1 sifón isi de 1 l #       1 carga de n|2o#          aplicador de sifón para vaciar#          espaguetinis - &ingredientselaboracio2=   300 g de agua#     10 g de katsuobushi laminado#     12 g de alga kombu seca#   120 g de zumo de lima#   150 g de salsa de soja - &ingredientselaboracio3=   500 g de ponzu (elaboración anterior)#    1,5 g de lecitina de soja en polvo - &ingredientselaboracio4=1.000 g de nitrógeno líquido - \n",
      "83\n",
      "&ingredientselaboracio1=   150 g de miel#          agua - &ingredientselaboracio2=     60 g de agua#   180 g de southern comfort #   200 g de agua de miel (elaboración anterior) - &ingredientselaboracio3=     60 g de agua#     60 g de azúcar - &ingredientselaboracio4=   1 œ hojas de gelatina de 2 g (previamente  #          rehidratadas en agua fría)#   200 g de zumo de lima#       1 sifón isi de œ l#       1 carga de n|2o - &ingredientselaboracio5=   100 g de cacahuetes tostados troceados#     40 g de azúcar#     20 g de agua - \n",
      "84\n",
      "&ingredientselaboracio1=   500 g de pollo#    1,5 osamenta de pollo #   500 g de huesos de rodilla de ternera#   500 g de jarrete de ternera#     15 g de zanahoria#     20 g de puerro #     15 g de cebolla#2.500 g de agua#     50 g de aceite de girasol - &ingredientselaboracio2=     15 g de chalote#       5 g de mantequilla #       5 g de aceite de oliva#     15 g de vino blanco#    0,5 g de hebras de azafrán#   150 g de consomé (elaboración anterior)#    7,5 g de maicena exprés - &ingredientselaboracio3=   115 g de leche#   100 g de parmesano reggiano#   115 g de nata líquida 35? m.g.#       1 sifón isi de œ l#       1 carga de n|2o - &ingredientselaboracio4=   250 g de brotes de soja - &ingredientselaboracio5=   325 g de mantequilla#   500 g de agua - &ingredientselaboracio6=          aceite de oliva 0,4º#          aceite de oliva virgen - \n",
      "85\n",
      "&ingredientselaboracio1=     16 erizos - &ingredientselaboracio2=   150 g de leche#   150 g de nata líquida 35? m.g.#       1 sifón isi de œ l#       1 carga de n|2o#          sal - &ingredientselaboracio3=     70 g de algas dulse frescas en sal#   200 g de agua - &ingredientselaboracio4=   200 g de agua de algas (elaboración anterior)#    0,3 g de agar-agar en polvo#          sal - &ingredientselaboracio5=     50 g de aceite de nueces - \n",
      "86\n",
      "&ingredientselaboracio1=   300 g de zumo de fruta de la pasión #   150 g de agua#   120 g de bourbon - &ingredientselaboracio2=   225 g de zumo de fruta de la pasión   #   125 g de agua#   1 œ hojas de gelatina de 2 g (previamente #          rehidratadas en agua fría)#       1 sifón isi de œ l#       1 carga de n|2o - \n",
      "87\n",
      "&ingredientselaboracio1=   200 g de cobertura 70?#   150 g de nata líquida 35 m.g.#   150 g de claras de huevo#       1 sifón isi de œ l#       1 carga de n|2o - &ingredientselaboracio2=     25 g de azúcar#     25 g de agua - &ingredientselaboracio3=     75 g de campari#     50 g de jarabe base (elaboración anterior)#       ÿ hoja de gelatina de 2 g (previamente #           rehidratada en agua fría) - &ingredientselaboracio4=   250 g de zumo de naranja sanguina#       5 g de ralladura de naranja sanguina#    1,6 g de estabilizante para sorbetes - &ingredientselaboracio5=     30 g de fondant#     15 g de glucosa#     35 g de nibs molidos#     15 g de isomalt - &ingredientselaboracio6=     50 g de piel de naranja confitada y picada - \n",
      "88\n",
      "&ingredientselaboracio1=   200 g de zumo de limón #   100 g de agua #     60 g de jarabe#   1 œ  hojas de gelatina de 2 g (previamente #          rehidratadas en agua fría)#       1  sifón isi de œ l#       1  carga de n|2o - &ingredientselaboracio2=       2 cervezas rubias de 33 cl - \n",
      "89\n",
      "&ingredientselaboracio1=<b>para la gelatina de pomelo</b>##   360 g de zumo de pomelo#    1,4 g de agar-agar en polvo#   3 œ hojas de gelatina de 2 g (previamente  #          rehidratadas en agua fría) - &ingredientselaboracio2=     25 g de azúcar#     25 g de agua - &ingredientselaboracio3=   350 g de agua#       5 hojas de gelatina de 2 g (previamente #          rehidratadas en agua fría)#     60 g de zumo de lima#     30 g de jarabe base (elaboración anterior)#          ralladura de la piel de 2 limas - &ingredientselaboracio4=          jengibre fresco rallado - &ingredientselaboracio5=   350 g de leche de coco colada#     75 g de nata líquida 35? m.g.#       1 h de gelatina de 2 g#       1 sifón isi de œ l#       1 carga de n|2o - &ingredientselaboracio6=   250 g de leche #     15 g de curry de madrás#   150 g de nata líquida 35? m.g. - &ingredientselaboracio7=   500 g de agua de hierba luisa #   150 g de glucosa#     15 g de dextrosa#    2,5 g de estabilizante para sorbetes#       1 hoja de gelatina de 2 g (previamente #          rehidratada en agua fría)#       1 contenedor de paco jet - &ingredientselaboracio8=   100 g de fondant #     50 g de glucosa#     50 g de isomalt - &ingredientselaboracio9=     12 hojas de cilantro#          jarabe base (elaboración anterior)#   200 g de caramelo neutro (elaboración #          anterior) - &ingredientselaboracio10=          pasta de tamarindo#          jarabe de guindilla#       8 hojitas de cilantro fresco#       8 hojitas de albahaca fresca - \n",
      "90\n",
      "&ingredientselaboracio1=   300 g de perrechicos grandes y trozos de #          perrechicos#   300 g de agua#          aceite de oliva 0,4º#          sal - &ingredientselaboracio2=   250 g de caldo de perrechicos (elaboración #          anterior)#       1 g de agar-agar en polvo#      œ de hoja de gelatina de 2 g (previamente #          rehidratada en agua fría) - &ingredientselaboracio3=   150 g de aceite de girasol#   100 g de piña verde de pino - &ingredientselaboracio4=   250 g de zumo de mandarina#     13 g de azúcar#       6 g de glucosa - &ingredientselaboracio5=   100 g de yogur natural#   100 g de aceite de piña verde de pino #          (elaboración anterior)#     50 g de nata líquida 35? m.g.#       1 sifón isi de œ l#       1 carga de n|2o - &ingredientselaboracio6=   200 g de perrechicos de 2 cm - &ingredientselaboracio7=     12 nueces de macadamia crudas repeladas#       1 rallador microplane - &ingredientselaboracio8=     12 g de flor de saúco#     80 g de aceite de piña verde de pino#          (elaboración anterior) #       4 gotas de pasta de regaliz#      œ lima rallada#      œ mandarina rallada#          sal maldon#       4 hojitas de menta fresca de 4 x 1,5 cm - \n",
      "91\n",
      "&ingredientselaboracio1=   250 g de huevos enteros#   125 g de azúcar#   125 g de harina de trigo - &ingredientselaboracio2=     25 g de azúcar #     25 g de agua - &ingredientselaboracio3=     75 g de campari#     50 g de jarabe base (elaboración anterior)#       4 cuadrados de bizcocho (elaboración #          anterior) - &ingredientselaboracio4=   375 g de leche#     50 g de nata líquida 35? m.g.#       8 g de leche en polvo desnatada#     15 g de dextrosa#     50 g de glucosa#     25 g de azúcar#    1,6 g de estabilizante para helados#       3 vainas de vainilla#       1 hoja de gelatina (previamente #          rehidratada en agua fría) - &ingredientselaboracio5=     50 g de azúcar#     20 g de agua - &ingredientselaboracio6=     75 g de vinagre balsámico de #          cabernet-sauvignon#     50 g de jarabe a 40? (elaboración anterior)#       1 hoja de gelatina de 2 g (previamente #          rehidratada #          en agua fría)#       1 sifón isi de œ l  #       1 carga de n|2o - &ingredientselaboracio7=   100 g de fondant#     50 g de glucosa#          pimienta negra recién molida#     50 g de isomalt - &ingredientselaboracio8=       1 naranja#   500 g de zumo de naranja#     50 g de glucosa - &ingredientselaboracio9=   100 g de zumo de naranja#     20 g de glucosa - &ingredientselaboracio10=   100 g de albahaca#   100 g de agua - &ingredientselaboracio11=     25 g de azúcar#     50 g de agua de albahaca (elaboración #          anterior)#          clara de huevo - \n",
      "92\n",
      "&ingredientselaboracio1=2.000 g de manzanas granny smith - &ingredientselaboracio2=   125 g calvados#   500 g de zumo de manzana (elaboración #          anterior) - &ingredientselaboracio3=   350 g de zumo de manzana (elaboración #          anterior)#   ÿ de hoja de gelatina de 2 g (previamente #          rehidratada en agua fría)#       1 sifón isi de œ l#       2 cargas de n|2o - \n",
      "93\n",
      "&ingredientselaboracio1=   900 g de chufas #   720 g de agua - &ingredientselaboracio2=   300 g de horchata#       1 sifón isi de œ l#       1 carga de n|2o - \n",
      "94\n",
      "&ingredientselaboracio1=   150 g de azúcar#   150 g de agua - &ingredientselaboracio2=   180 g de agua#     60 g de jarabe base (elaboración anterior) #     20 g de glucosa#    2,5 g de estabilizante para sorbetes#   250 g de plátanos maduros#          unas gotas de zumo de limón#          la ralladura de œ limón - &ingredientselaboracio3=   100 g de zumo de limas recién exprimido#   100 g de jarabe base (elaboración anterior)#   100 g de agua#      œ  hoja de gelatina de 2 g (previamente #           rehidratada en agua fría)#           la ralladura de una lima - &ingredientselaboracio4=       3 limas (piel y zumo)#   40? del peso de las limas en azúcar - &ingredientselaboracio5=   250 g de nata 35? m.g.#    2,5 yemas de huevo#     35 g de azúcar#       1 vaina de vainilla abierta#       1 sifón isi de œ l#       1 carga de n|2o - &ingredientselaboracio6=     35 g de fondant#     15 g de glucosa - &ingredientselaboracio7=     50 g de caramelo neutro (elaboración #          anterior)#       1 hoja de pasta philo#          la piel de 1 lima rallada#     20 g de jarabe base (elaboración anterior)#          ácido cítrico #          café descafeinado - &ingredientselaboracio8=   100 g de azúcar#   100 g de nata líquida 35? m.g. hervida - &ingredientselaboracio9=     50 g de pasta líquida de café #          sal maldon - \n",
      "95\n",
      "&ingredientselaboracio1=   500 g de huesos de jamón ibérico#2.000 g de agua#     30 g de cebolla#     30 g de apio#     30 g de zanahoria - &ingredientselaboracio2=   400 g de espárragos verdes - &ingredientselaboracio3=      œ manojo de apio - &ingredientselaboracio4=   400 g de zanahoria - &ingredientselaboracio5=   150 g de zumo de zanahoria (elaboración #          anterior)#    0,8 g de agar-agar en polvo#   1 œ hojas de gelatina de 2 g (previamente #          rehidratadas en agua fría)##   150 g de zumo de apio (elaboración anterior)#    0,8 g de agar-agar en polvo#    1 œ hojas de gelatina de 2 g (previamente  #          rehidratadas en agua fría)#          sal##    150 g de zumo de espárragos (elaboración #           anterior)#     0,8 g de agar-agar en polvo#    1 œ hojas de gelatina de 2 g (previamente  #           rehidratadas en agua fría)#           sal - &ingredientselaboracio6=   200 g de cebolla tierna#   150 g de agua#          sal#          aceite de oliva 0,4º - &ingredientselaboracio7=   300 g de nabo - &ingredientselaboracio8=   150 g de zumo de cebolla tierna (elaboración #          anterior)#    0,8 g de agar-agar en polvo#   1 œ hojas de gelatina de 2 g (previamente #          rehidratadas en agua fría)#          sal##   150 g de zumo de nabo (elaboración anterior)#    0,8 g de agar-agar en polvo#   1 œ hojas de gelatina de 2 g (previamente #           rehidratadas en agua fría)#          sal - &ingredientselaboracio9=   225 g de leche#   225 g de nata líquida 35? m.g.#   200 g de parmesano reggiano rallado#       1 sifón isi de œ l#       1 carga de n|2o#          sal - &ingredientselaboracio10=   100 g de parmesano #       1 rallador microplane - &ingredientselaboracio11=   200 g de albahaca fresca#   200 g de agua - &ingredientselaboracio12=   200 g de agua de albahaca  (elaboración #          anterior) #    0,9 g de agar-agar en polvo#       1 hoja de gelatina de 2 g (previamente #          rehidratada en agua fría)#          sal - &ingredientselaboracio13=       1 taco de panceta fresca de tocino #          ibérico de 400 g (aprox.) - &ingredientselaboracio14=       8 láminas de panceta ibérica (elaboración #          anterior)#       8 cuadrados de gelatina de albahaca #          cuajada (elaboración anterior) - &ingredientselaboracio15=       2 láminas de 0,6 cm de grosor #          (elaboración anterior) - \n",
      "96\n",
      "&ingredientselaboracio1=   150 g de fondant#     75 g de glucosa#     75 g de isomalt#     60 g de yogur en polvo - &ingredientselaboracio2=       1 lámina de pvc de 40 x 60 cm #       1 cortapastas circular de 9 cm - &ingredientselaboracio3=   300 g de crocant de yogur#          la plantilla de pvc - &ingredientselaboracio4=     35 g de agua  #     35 g de azúcar - &ingredientselaboracio5=   150 g de agua#     50 g de jarabe base (elaboración anterior)#     50 g de vinagre de jerez 25 años#    1,1 g de agar-agar en polvo#       1 hoja de gelatina de 2 g (previamente #          rehidratada en agua fría)#          cortapastas circular de 9 cm - &ingredientselaboracio6=   200 g de yogur natural#     50 g de nata líquida 35? m.g.#    0,7 hojas de gelatina de 2 g (previamente #          rehidratadas en agua fría)#       1 sifón isi de œ l#       1 carga de n|2o - &ingredientselaboracio7=       1 pomelo gigante tailandés de 350 g aprox. - &ingredientselaboracio8=       4 hojitas de menta fresca#       4 hojitas de estragón fresco#       4 hojitas de albahaca fresca#       1 g de ácido cítrico#       1 g de cardamomo en polvo#     75 g de aceite de oliva virgen#    0,5 g sansho - &ingredientselaboracio9=          sal maldon - \n",
      "97\n",
      "&ingredientselaboracio1=     12 espárragos blancos #          sal - &ingredientselaboracio2=     12 tallos de espárragos blancos - &ingredientselaboracio3=       7 g de dextrosa#     ÿ  de hoja de gelatina de 2 g (previamente #          rehidratada en agua fría)#          sal#   250 g de agua de espárragos - &ingredientselaboracio4=     60 g de yema de huevo#   120 g de huevo entero#   200 g de aceite de girasol#     50 g de aceite de oliva 0,4º#       7 g de mostaza de dijon#       5 g de vinagre de jerez#       5 g de sal#       1 sifón isi de œ l#       2 cargas de n|2o - &ingredientselaboracio5=       1 pomelo rosa de 350 g#       5 g de azúcar lustre - &ingredientselaboracio6=     16 hojitas de estragón fresco#          sal maldon#          aceite de oliva virgen - \n",
      "98\n",
      "&ingredientselaboracio1=   200 g de martini rosso#   200 g de campari#   100 g de zumo de naranja sanguina#    2 œ hojas de gelatina de 2 g (previamente #          rehidratadas en agua fría)#        1 sifón isi de œ l#        1 carga de n|2o - &ingredientselaboracio2=   500 g de de naranja sanguina - \n",
      "99\n",
      "&ingredientselaboracio1=   100 g de vinagre balsámico de módena #     20 g de glucosa - &ingredientselaboracio2=   200 g de leche de cabra#   150 g de nata líquida 30? m.g.#       1 sifón isi de œ l#       1 carga de n|2o - &ingredientselaboracio3=       6 fresas de 30 g - &ingredientselaboracio4=          sal maldon#          pimienta negra recién molida#          aceite de oliva virgen - \n",
      "100\n",
      "&ingredientselaboracio1=   200 g de albaricoques#   150 g de agua#     30 g de azúcar - &ingredientselaboracio2=   250 g de albaricoque troceado y congelado#   175 g de azúcar - &ingredientselaboracio3=   250 g de jugo de albaricoques (elaboración #          anterior)#       2 hojas de gelatina de 2 g (previamente #          rehidratadas en agua fría) - &ingredientselaboracio4=   125 g de amaretto#      ÿ hoja de gelatina de 2 g (previamente #          rehidratada en agua fría) - &ingredientselaboracio5=   250 g de cuajada de leche de oveja#       1 sifón isi de œ #       1 carga de n|2o - &ingredientselaboracio6=   100 g de azúcar#   100 g de agua - &ingredientselaboracio7=     45 g de jarabe base (elaboración anterior)#     25 g de pan seco#     10 g de glucosa#       5 g de polvo de espéculos - &ingredientselaboracio8=     60 g de jarabe base (elaboración anterior)#     25 g de corteza de piña verde - &ingredientselaboracio9=     25 g de pulpa de albaricoque pelado y #          picado #       5 g de azúcar   #          pimienta rosa#          pimienta de jamaica#          salsa perrin's#          salsa tabasco#          pimienta de cayena#          pimienta de sechuan#       5 g de mantequilla - &ingredientselaboracio10=       8 hojitas pequeñas de menta fresca#       4 almendras de albaricoque#       8 moldes de pvc de 2 cm de alto x 4 cm #          de diámetro. - \n",
      "101\n",
      "&ingredientselaboracio1=   250 g de patatas para puré #   100 g de agua de la cocción de las patatas#   125 g de nata líquida 35? m.g.#     35 g de aceite de oliva virgen#       1 sifón isi de œ l#       2 cargas de n|2o#          sal - &ingredientselaboracio2=   250 g de cebolla#     50 g de aceite de oliva 0,4º#   100 g de agua#          sal - &ingredientselaboracio3=     40 g de yemas de huevo#     30 g de agua#          sal - &ingredientselaboracio4=     40 g de yema de huevo pasteurizada - &ingredientselaboracio5=     50 g de aceite de oliva virgen#### - \n",
      "102\n",
      "&ingredientselaboracio1=   150 g de nata líquida 35? m.g.#   200 g  de chocolate blanco#   150 g de claras#       1 sifón isi de œ l#       1 carga de n|2o - &ingredientselaboracio2=   250 g de nata líquida 35? m.g.#   250 g de leche#     80 g de  yemas#     75 g de azúcar#     30 g de café exprés hecho al momento#   125 g de café en grano molido grueso - &ingredientselaboracio3=   160 g de pipas de calabaza#     40 g aceite de oliva 0,4º - &ingredientselaboracio4=   100 g de pipas de calabaza fritas #          (elaboración anterior)#     60 g de azúcar#     80 g de agua - &ingredientselaboracio5=   100 g de pipas de calabaza empanizadas.#          (elaboración anterior)#   100 g de aceite de pipa de calabaza - &ingredientselaboracio6=     32 g de azúcar mascabado seco#       8 g de anís estrellado en polvo - &ingredientselaboracio7=   125 g de café exprés#    0,6 g de agar-agar en polvo   #      œ hoja de gelatina de 2 g (previamente #          rehidratada en agua fría)#       4 tiras de pvc de 10  x 3,5 cm - &ingredientselaboracio8=     50 g de yogur griego#     12 pipas de calabaza garrapiñadas que #          se habrán reservado  de la elaboración #          del praliné (elaboración anterior)#          sal maldon - \n",
      "103\n",
      "&ingredientselaboracio1=<b>para el toffee de amaretto</b>##   125 g de azúcar#   125 g de nata líquida 35? m.g.#   100 g de amaretto - &ingredientselaboracio2=   200 g de puré de albaricoques #     50 g de agua #   0,9  g de agar-agar en polvo#      1  hoja de gelatina de 2 g  (previamente #          rehidratada en agua fría)#       4 tiras de pvc de 5 x 10 cm#     50 g de azúcar#       1 soplete - &ingredientselaboracio3=   400 g de almendras enteras#   450 g de agua - &ingredientselaboracio4=   300 de leche de almendras (elaboración #          anterior)#   120 g de nata líquida 35? m.g.#       1 sifón isi de œ l#       1 carga de n|2o - &ingredientselaboracio5=   100 g de almendra amarga#     60 g de azúcar#          agua#     60 g de yogur en polvo - \n",
      "104\n",
      "&ingredientselaboracio1=   500 g de melón#   150 g de jerez - &ingredientselaboracio2=   250 g de zumo de fruta de la pasión#   150 g de agua#   1 œ hojas de gelatina de 2 g (previamente #          rehidratadas en agua fría)#       1 sifón isi deœ l#       1 carga de n|2o - \n",
      "105\n",
      "&ingredientselaboracio1=   300 g de limas#   150 g de azúcar#   275 g de cachaça#   280 g de agua#     50 g de zumo de lima#          la piel rallada de una lima - &ingredientselaboracio2=   600 g de leche de coco #   250 g de agua#      ÿ hoja de gelatina de 2 g (previamente #          rehidratada en agua fría)#       1 sifón isi de 1 l#       1 carga de n|2o - \n",
      "106\n",
      "&ingredientselaboracio1=   200 g de agua #   200 g de azúcar - &ingredientselaboracio2=   600 g de zumo de limón#   200 g de jarabe base (elaboración anterior)  #   200 g de ron blanco - &ingredientselaboracio3=   175 g de claras de huevo#   110 g de zumo de limón #     60 g de ron blanco#   120 g de jarabe base (elaboración anterior)#       1 sifón isi de medio litro#       1 carga de n|2o - \n",
      "107\n",
      "&ingredientselaboracio1=       2 hojas de pasta philo#     50 g de mantequilla clarificada#          azúcar lustre - &ingredientselaboracio2=     90 g de leche#     60 g de nata líquida 35? m.g.#     75 g de azúcar#     60 g de yemas de huevo#      œ g de hebras de azafrán tostadas  #   125 g de claras de huevo líquidas#       1 hoja de gelatina de 2 g (previamente #          rehidratada en agua fría)#       1 sifón isi#       1 carga de n|2o - &ingredientselaboracio3=     25 g de azúcar  #     25 g de agua - &ingredientselaboracio4=       4 gajos de limón cortados por la mitad#     20 g de jarabe oscuro (elaboración anterior) - &ingredientselaboracio5=   225 g de leche#     30 g de nata líquida 35? m.g.#       6 g de leche en polvo#       9 g de dextrosa#    1,2 g de estabilizante para helados#     30 g de azúcar#     60 g de zumo de limón#          la ralladura de un limón - &ingredientselaboracio6=   150 g de miel #          agua #    0,6 g de agar-agar en polvo - &ingredientselaboracio7=     20 g de pasta de regaliz semilíquida#       2 caramelos balsámicos picados#     60 g de yogur griego - \n",
      "108\n",
      "&ingredientselaboracio1=<b>para la leche de almendras</b>##   350 g de agua#   250 g de almendras enteras - &ingredientselaboracio2=   250 g de leche de almendras (elaboración #          anterior)#     50 g de glucosa - &ingredientselaboracio3=   250 g de mantequilla pomada #     60 g de azúcar mascabado seco - &ingredientselaboracio4=   150 g de almendras enteras#          aceite de oliva 0,4º - &ingredientselaboracio5=   100 g de almendras fritas (elaboración #          anterior)#     25 g de aceite de oliva de la fritura - &ingredientselaboracio6=   250 g de nata líquida 35? m.g.#   250 g de leche#       1 vaina de vainilla#     35 g de azúcar#     30 g de yemas de huevo#   100 g de huevos enteros#      œ hoja de gelatina de 2 g (previamente #          rehidratada en agua fría)#       1 sifón isi de œ l#       1 carga de n|2o - &ingredientselaboracio7=   150 g de miel #          agua#    1,6 g de agar-agar en polvo - &ingredientselaboracio8=   100 g de fondant#     50 g de glucosa#     50 g de isomalt - &ingredientselaboracio9=          la piel de 1 limón rallada#          sal maldon#          rallador microplane - \n",
      "109\n",
      "&ingredientselaboracio1=          <b>para el plum-cake</b>##             150 g de mantequilla pomada#             110 g de azúcar lustre#                 2 yemas de huevo##                 2 huevos#             200 g de harina de trigo#                 5 g de impulsor #             100 g de claras de huevo#             150 g de azúcar - &ingredientselaboracio2=                 6 naranjas peladas y en gajos#                    el zumo de las naranjas colado#               50 g de azúcar#               50 g de grand marnier#                    la piel rallada de 4 naranjas - &ingredientselaboracio3=             200 g de agua#               50 g de azúcar#                 2 ramas de canela troceada #                    (unos 30 g) - &ingredientselaboracio4=   250 g de nata líquida 35? m.g.#       4 yemas de huevo#     30 g de azúcar#       1 rama de canela    #       1 sifón isi de œ l#       1 carga de n|2o - &ingredientselaboracio5=     85 g de azúcar #     85 g de agua - &ingredientselaboracio6=     50 g de zumo de limón#     50 g de jarabe base (elaboración anterior)#     50 g de agua#       1 hoja de gelatina de 2 g (previamente #          rehidratada en agua fría) - &ingredientselaboracio7=   250 g de chufas#   200 g de agua - &ingredientselaboracio8=   250 g de zumo de naranja colado#     30 g de glucosa#       5 g de piel de naranja rallada#       œ hoja de gelatina de 2 g (previamente #          rehidratada en agua fría) - &ingredientselaboracio9=     60 g de agua#     28 g de cacao en polvo#       5 g de azúcar - &ingredientselaboracio10=     60 g de cacao#     20 g de glucosa#   120 g de jarabe base (elaboración anterior) - &ingredientselaboracio11=   150 g de puré concentrado de chufas costa#   450 g de horchata #   100 g de leche #       3 g de estabilizante para sorbetes - &ingredientselaboracio12=          canela en polvo (espolvoreador)#       4 mitades de gajo de limón - \n",
      "110\n",
      "&ingredientselaboracio1=   100 g de azúcar#   100 g de agua - &ingredientselaboracio2=   100 g de zumo de fruta de la pasión natural #          (colado, sin pepitas)#          las pepitas de la fruta de la pasión#     50 g de jarabe base (elaboración anterior)#   1 œ  hojas de gelatina de 2 g#           (previamente rehidratadas en agua fría)#     50 g de agua - &ingredientselaboracio3=   100 g de jarabe base (elaboración anterior)#       2 vainas de vainilla - &ingredientselaboracio4=   200 g de café exprés#     15 g de azúcar#   1 ÿ  hojas de gelatina de 2 g (previamente #           rehidratadas en agua fría) - &ingredientselaboracio5=   200 g de leche de coco #     70 g de nata líquida 35? m.g.#       1 sifón isi de œ l#       2 cargas de n|2o - &ingredientselaboracio6=     50 g de coco seco rallado#     50 g de jarabe base (elaboración anterior) - &ingredientselaboracio7=   100 g de coco seco rallado#   200 g de agua#       1 contenedor de paco jet - \n",
      "111\n",
      "&ingredientselaboracio1=   190 g de zumo de lima#   250 g de agua#   190 g de ron blanco#     60 g de azúcar demerara #     15 g de angostura#       2 ramas de menta fresca#       1 œ  hojas de gelatina de 2 g (previamente #          rehidratadas en agua fría) - &ingredientselaboracio2=          la base del mojito (elaboración anterior)#       1 sifón isi de soda#       1 carga de co|2 - \n",
      "112\n",
      "&ingredientselaboracio1=     25 g de rossinyols de 1,5 cm de diámetro#     25 g de perrechicos de 1 cm de diámetro#     12 g de senderuelas de 1 cm de diámetro#     25 g de morillas de 1 cm de longitud#     50 g de trufa de verano - &ingredientselaboracio2=   250 g de setas grandes o rotas#     10 g de aceite de oliva 0,4º#          sal#          agua - &ingredientselaboracio3=   250 g de caldo de setas (elaboración  #          anterior)#    0,9 g de agar-agar en polvo - &ingredientselaboracio4=       2 cuajadas de leche de oveja de 125 g #          cada una#       1 sifón isi de œ l#       1 carga de n|2o - &ingredientselaboracio5=     25 g de panceta fresca de tocino de cerdo #          ibérico - &ingredientselaboracio6=   200 g de piñas verdes#   300 g de aceite de girasol - &ingredientselaboracio7=       4 hojitas de albahaca fresca#       4 hojitas de perifollo fresco#       4 hojitas de estragón fresco#       4 hojitas de menta fresca#       4 hojitas de hinojo fresco#          sal maldon#          aceite de pino (elaboración anterior)#          aceite de oliva 0,4º#          sal - \n",
      "113\n",
      "&ingredientselaboracio1=   500 g de pollo de 2 kg.#    1,5 osamentas de pollo#   500 g de jarrete de ternera#   500 g de huesos de rodilla de ternera #     15 g de zanahoria#     20 g de puerro#     15 g de cebolla#2.500 g de agua#     50 g de aceite de girasol - &ingredientselaboracio2=   750 g de consomé (elaboración anterior)#     20 g de zanahoria#     10 g de puerros#     50 g de tomate maduro#   100 g de carne picada de ternera#   100 g de claras de huevo#     15 g de hielo pilé - &ingredientselaboracio3=   250 g de consomé clarificado (elaboración #          anterior)#  3,75 g de agar-agar en polvo#   300 g de tomate maduro#          sal#          pimienta blanca recién molida#          aceite de oliva 0,4º#          azúcar - &ingredientselaboracio4=   200 g de parmesano reggiano rallado#   225 g de nata líquida 35? m.g.#   225 g de leche#       1 sifón isi de œ l#       1 carga de n|2o#          sal - &ingredientselaboracio5=   100 g de albahaca fresca#   150 g de aceite de girasol#          sal - &ingredientselaboracio6=     10 dientes de ajo#   100 g de aceite de oliva virgen - &ingredientselaboracio7=     25 g de parmesano reggiano#     50 g de panceta fresca de cerdo ibérico - &ingredientselaboracio8=     16 piñones #     16 hojitas de albahaca fresca - \n",
      "114\n",
      "&ingredientselaboracio1=1.000 g de zanahorias de tamaño normal## - &ingredientselaboracio2=   225 g zumo de zanahoria licuado #          (elaboración anterior)#       1 g de estabilizante para sorbetes#       œ hoja de gelatina de 2 g (previamente #          rehidratada #          en agua fría) - &ingredientselaboracio3=   775 g de zumo de zanahoria (elaboración #          anterior)#       1 sifón isi de soda#       2 cargas de co|2 - &ingredientselaboracio4=   800 g de leña#   200 g de hojas verdes  #   150 g de aceite de girasol - &ingredientselaboracio5=   200 g de agua#     90 g de coco en polvo soluble - &ingredientselaboracio6=     56 minizanahorias de 3 o 4 cm#   500 g de agua#          sal - &ingredientselaboracio7=       8 hojitas de estragón fresco#       8 hojitas de albahaca fresca#          cardamomo en polvo#          aceite de oliva 0,4º - \n",
      "115\n",
      "&ingredientselaboracio1=       1 hoja de pasta philo#     50 g de aceite de oliva virgen - &ingredientselaboracio2=   200 g de parmesano reggiano rallado#   225 g de nata líquida 35? m.g.#   225 g de leche#       1 sifón isi de œ l#       1 carga de n|2o#          sal - &ingredientselaboracio3=       2 tomates maduros de 125 g#       5 g de hojas de albahaca fresca#   200 g de aceite de oliva 0,4º#          sal #          pimienta blanca recién molida#          azúcar - &ingredientselaboracio4=          aceite de oliva virgen#          pvc de 2 cm de alto #       4 tartaletas de 9 cm de diámetro - \n",
      "116\n",
      "&ingredientselaboracio1=       8 erizos - &ingredientselaboracio2=     60 g de yemas de erizos (elaboración #          anterior)#   150 g de agua de erizos (elaboración #          anterior)#     50 g de nata líquida 35? m.g.#       1 hoja de gelatina de 2 g (previamente #          rehidratada en agua fría)#       1 sifón isi de œ l#       1 cápsula de n|2o - &ingredientselaboracio3=   100 g de agua de erizos (elaboración #          anterior)#     œ  hoja de gelatina de 2 g (previamente  #          rehidratada en agua fría) - \n",
      "117\n",
      "&ingredientselaboracio1=para las almendras tostadas##   500 g de almendras #   600 g de aceite de oliva 0,4º#          sal - &ingredientselaboracio2=   500 g de almendras tostadas (elaboración #          anterior)#   600 g de agua - &ingredientselaboracio3=   200 g de leche de almendras tostadas #          (elaboración anterior)#      ÿ hojas de gelatina de 2 g (previamente #          rehidratadas en agua fría)#       1 sifón isi de medio litro#       1 carga de n|2o - &ingredientselaboracio4=<b>para el consomé</b>##   500 g de pollo#    1,5 osamentas de pollo#   500 g de huesos de rodilla de ternera#   500 g de jarrete de ternera#     15 g de zanahoria#     15 g de cebolla pequeña#2.500 g de agua - &ingredientselaboracio5=   750 g  de consomé (elaboración anterior)#     20 g de zanahoria#     10 g de puerro#     50 g de tomate#   100 g de carne picada de ternera#   100 g de claras de huevo#     15 g de hielo pilé - &ingredientselaboracio6=   200 g de consomé clarificado (elaboración #          anterior)#       1 sifón isi de œ l#       2 cargas de n|2o#          sal - &ingredientselaboracio7=   300 g de consomé clarificado (elaboración #          anterior)#          anís estrellado#          sal - &ingredientselaboracio8=     10 jarritas de 50 g de capacidad#       2 g de piel de naranja escarchada - &ingredientselaboracio9=<b>para el zumo de espárragos</b>##2.000 g de espárragos verdes - &ingredientselaboracio10=   300 g de zumo de espárragos (elaboración #          anterior)#       œ hoja de gelatina de 2 g (previamente #          rehidratada en agua fría)#       1 sifón isi de œ l#       1 carga de n|2o#          sal - &ingredientselaboracio11=     10 jarritas de 50 g de capacidad#   300 g de zumo de espárragos (elaboración #          anterior) - &ingredientselaboracio12=<b>para la horchata</b>##1.000 g de chufas#   800 g de agua - &ingredientselaboracio13=   400 g de horchata (elaboración anterior)#       1 hoja de gelatina de 2 g (previamente #          rehidratada en agua fría)#       1 sifón isi de medio litro#       1 carga de n|2o - &ingredientselaboracio14=     10 jarritas de 50 g de capacidad #   400 g de horchata (elaboración anterior)# - &ingredientselaboracio15=<b>para la espuma de trufa negra</b>##   200 g de jugo de trufa negra #       œ hoja de gelatina de 2 g  (previamente #           rehidratada en agua fría)#        1 sifón isi de œ l#        1 carga de n|2o#           sal - &ingredientselaboracio16=   300 g de jugo de trufa negra#          sal - &ingredientselaboracio17=     10 jarritas de 50 g de capacidad - \n",
      "118\n",
      "&ingredientselaboracio1=   150 g de claras#     75 g de jugo de trufa#       1 sifón isi de œ l#       1 carga de n|2o - &ingredientselaboracio2=   200 g de jugo de trufa#          sal - \n",
      "119\n",
      "&ingredientselaboracio1=   600 g de zanahorias#       1 sifón isi de soda#       1 carga de co|2 - \n",
      "120\n",
      "&ingredientselaboracio1=   125 g de azúcar#   125 g de agua - &ingredientselaboracio2=   250 g de zumo de fruta de la pasión #   100 g de bourbon#   125 g de jarabe base (elaboración anterior) - &ingredientselaboracio3=   150 g de claras#   120 g de zumo de fruta de la pasión #     60 g de bourbon#   120 g de jarabe base (elaboración anterior)#       1 sifón isi de œ l#       1 carga de n|2o - \n",
      "121\n",
      "&ingredientselaboracio1=   225 g de zumo de fruta de la pasión #   110 g de cachaça #   100 g de agua#     25 g de azúcar#       3 g de menta picada - &ingredientselaboracio2=   600 g de leche de coco #   250 g de agua#      ÿ hoja de gelatina de 2 g (previamente#          rehidratada en agua fría)#       1 sifón isi de 1 l#       1 carga de n|2o - \n",
      "122\n",
      "&ingredientselaboracio1=   100 g de chocolate blanco#     75 g de nata líquida 35? m.g.#     75 g de claras de huevo#       1 sifón isi de œ l #       1 carga de n|2o - &ingredientselaboracio2=   100 g de café expreso #      œ hoja de gelatina de 2 g (previamente #          rehidratada en agua fría)#     10 g de azúcar - &ingredientselaboracio3=   250 g de lichis frescos pelados y triturados#     20 g de glucosa#    1,3 g de estabilizante para sorbetes - \n",
      "123\n",
      "&ingredientselaboracio1=   500 g de zumo de piña licuada#   150 g de ron blanco - &ingredientselaboracio2=   600 g de leche de coco#   250 g de agua #      ÿ hoja de gelatina de 2 g (previamente #          rehidratada en agua fría)#       1 sifón de 1 litro isi#       1 carga de n|2o - \n",
      "124\n",
      "&ingredientselaboracio1=       1 melón mediano del país #       1 melón de canteloup - &ingredientselaboracio2=   500 g de agua de melón licuada#       1 œ hojas de gelatina de 2 g (previamente  #          rehidratadas en agua fría) - &ingredientselaboracio3=       4 láminas de plátano de 0,3 cm de grosor - &ingredientselaboracio4=     75 g de azúcar #     75 g de agua - &ingredientselaboracio5=   200 g de menta fresca#   200 g de agua del escaldado - &ingredientselaboracio6=   225 g de agua de menta (elaboración #          anterior)#     25 g de jarabe base (elaboración anterior)#   1 œ hojas de gelatina de 2 g  (previamente #          rehidratadas en agua fría)#       1 sifón isi de œ l#       1 carga de n|2o - &ingredientselaboracio7=   250 g de leche de coco #       1 hoja de gelatina de 2 g (previamente  #          rehidratada en agua fría) - &ingredientselaboracio8=     50 g de azúcar#     25 g de glucosa#     50 g de pasta de cacao - &ingredientselaboracio9=          azúcar #       1 pala de quemar - \n",
      "125\n",
      "&ingredientselaboracio1=   150 g de azúcar#   150 g de agua - &ingredientselaboracio2=   250 g de zumo de limón#   150 g de jarabe base (elaboración anterior)#   150 g de ginebra - &ingredientselaboracio3=   150 g de claras de huevo#   130 g de zumo de limón #     70 g de ginebra #   145 g de jarabe base (elaboración anterior)#       1 sifón isi de œ l#       1 carga de n|2o - \n",
      "126\n",
      "&ingredientselaboracio1=   380 g de almendra entera y cruda#   380 g de aceite de oliva 0,4º#          sal - &ingredientselaboracio2=   250 g de almendras fritas (elaboración #          anterior)#   300 g de agua - &ingredientselaboracio3=     40 g de  aceite de freír almendras #          (elaboración anterior)#   130 g de almendras fritas (elaboración #          anterior) - &ingredientselaboracio4=   125 g de leche de almendras (elaboración #          anterior)#   150 g de aceite de freír almendras #          (elaboración anterior)#     75 g de praliné de almendras (elaboración #          anterior)#          sal - &ingredientselaboracio5=   300 g de leche #   200 g de nata líquida 35? m.g.#       1 sifón isi de œ l#       1 carga de n|2o#          sal - &ingredientselaboracio6=       1 vaina de vainilla (4 g/u.) #     20 g de aceite de girasol - &ingredientselaboracio7=   500 g de alcachofas#          aceite de girasol#          agua - &ingredientselaboracio8=       6 ceps botón de 10 g/u. - &ingredientselaboracio9=          sal maldon - \n",
      "127\n",
      "&ingredientselaboracio1=      œ piña (600 g aprox.) - &ingredientselaboracio2=   200 g de agua de piña (elaboración anterior)#    0,8 g de estabilizante para sorbetes#      œ hoja de gelatina de 2 g (previamente #          rehidratada en agua fría) - &ingredientselaboracio3=   400 g de leche de coco - &ingredientselaboracio4=   250 g de leche de coco (elaboración anterior)#     80 g de nata líquida 35? m.g.#       1 sifón isi de œ l#       1 carga de n|2o - &ingredientselaboracio5=      50 g de ron blanco#       œ hoja de gelatina de 2 g #          (previamente rehidratada en agua fría) - &ingredientselaboracio6=          azúcar mascabado#     20 trocitos de piña liofilizada##### - \n",
      "128\n",
      "&ingredientselaboracio1=   250 g de patatas para puré#   100 g de agua de la cocción de las patatas#   125 g de nata líquida 35? m.g.#     35 g de aceite de oliva virgen#          sal#       1 sifón isi de œ l#       2 cargas de n|2o - &ingredientselaboracio2=     50 g de trufa de verano#          aceite de tartufo - &ingredientselaboracio3=          aceite de tartufo#          sal - \n",
      "129\n",
      "&ingredientselaboracio1=   250 g de albahaca fresca#   250 g de agua - &ingredientselaboracio2=   250 agua de albahaca (elaboración anterior)#    0,9 g de agar-agar en polvo#          sal - &ingredientselaboracio3=       4 espárragos trigueros finos#       1 espárrago blanco#     20 g de guisantes frescos tiernos#       1 tomate maduro de 100 g#     20 g de habitas tiernas peladas#     20 perrechicos de 1 cm - &ingredientselaboracio4=       2 cuajadas de oveja de 125 g#       1 sifón isi de œ l#       1 carga de n|2o - &ingredientselaboracio5=     25 g de panceta fresca de tocino ibérico - &ingredientselaboracio6=     40 g de aceite de oliva virgen#          sal maldon #       4 hojitas de hinojo fresco #       4 hojitas de menta fresca#       4 hojitas de estragón fresco#       4 hojitas de perifollo fresco - \n",
      "130\n",
      "&ingredientselaboracio1=   300 g de calabaza - &ingredientselaboracio2=       2 naranjas grandes - &ingredientselaboracio3=     50 g de almendra amarga#     30 g de yogur en polvo#     30 g de azúcar#     10 g de agua - &ingredientselaboracio4=   100 g de zumo de mandarina#     20 g de glucosa#          la piel rallada de una mandarina - &ingredientselaboracio5=   200 g de yogur natural#     50 g de nata líquida 35? m.g.#       1 sifón isi de œ l#       1 carga de n|2o - &ingredientselaboracio6=     12 pipas de calabaza#     50 g de aceite de oliva 0,4º - &ingredientselaboracio7=       1 g de hebras de azafrán - &ingredientselaboracio8=     12 gajos de naranja (elaboración anterior)#          la calabaza escurrida (elaboración #          anterior)#          aceite de girasol - &ingredientselaboracio9=       8 gotas de agua de azahar#       1 g de anís estrellado en polvo #       1 g de cardamomo en polvo - \n",
      "131\n",
      "&ingredientselaboracio1=   100 g de aceite de oliva 0,4º#       1 hoja de gelatina de 2 g (previamente#          rehidratada en agua fría) - &ingredientselaboracio2=     20 espárragos verdes (1.000 g aprox.)#          sal - &ingredientselaboracio3=     60 g de yemas de huevo#   130 g de huevos#   200 g de aceite de girasol#     50 g de aceite de oliva 0,4º#       7 g de mostaza de dijon#       7 g de vinagre de jerez#       7 g de sal#       1 sifón isi de œ l #       1 carga de n|2o - &ingredientselaboracio4=       1 pomelo rosa de 350 g - &ingredientselaboracio5=          aceite de oliva 0,4º#          sal#          azúcar lustre#          sal maldon#          aceite de oliva virgen#       4 hojitas de estragón fresco - \n",
      "132\n",
      "&ingredientselaboracio1=   125 g de coco seco rallado#   300 g de agua - &ingredientselaboracio2=     60 g de coco en polvo soluble#   150 g de agua#     50 g de nata líquida 35? m.g.#          sal#       1 sifón isi de œ litro#       1 carga de n|2o - &ingredientselaboracio3=1.000 g de huesos de rodilla de ternera#1.000 g de blanqueta de ternera#   350 g de cebolla#   150 g de zanahoria#   150 g de puerro#     60 g de tomate maduro#1.000 g de vino tinto#     40 g de azúcar#     60 g de aceite de oliva 0,4º#2.500 g de agua - &ingredientselaboracio4=   100 g de jengibre #   150 g de aceite de girasol - &ingredientselaboracio5=     50 carreretes de 1,5 cm#   100 g de fondo de carne reducido #          (elaboración anterior)#     50 g de aceite de jengibre#     15 g de maicena#          sal - &ingredientselaboracio6=     10 g de jengibre fresco#       1 manzana granny smith - &ingredientselaboracio7=          curry en polvo#       4 círculos de pvc de 7 cm de diámetro#          x 1 cm de alto#          sal#          aceite - \n",
      "133\n",
      "&ingredientselaboracio1=   125 g de fresas congeladas#   125 g de moras congeladas#   100 g de frambuesas congeladas#   110 g de azúcar - &ingredientselaboracio2=   250 g de jugo de frutos rojos (preparación #          anterior)#       1 g de  agar-agar en polvo - &ingredientselaboracio3=     50 g de azúcar#     50 g de agua - &ingredientselaboracio4=     25 g de pétalos de rosa - &ingredientselaboracio5=     25 g de pétalos de rosas caramelizados #          (elaboración anterior)#     75 g de fondant#     50 g glucosa#     15 g de agua de rosas#     50 g de isomalt - &ingredientselaboracio6=   100 g de vinagre de cabernet-sauvignon#     20 g de glucosa - &ingredientselaboracio7=   200 g de cuajada#     50 g de nata líquida 35? m.g.#       1 sifón isi de œ l#       1 carga de n|2o - &ingredientselaboracio8=       2 fresas cortadas a cuartos#       4 fresitas#       4 grosellas#       4 arándanos cortados por la mitad    #       4 frambuesas#       2 moras cortadas por la mitad - &ingredientselaboracio9=       1 caramelo balsámico#       4 hojitas de menta fresca#       4  hojitas de albahaca fresca #          agua de rosas (en pulverizador) - \n",
      "134\n",
      "&ingredientselaboracio1=   300 g de yogur#     75 g de nata líquida 35? m.g.#     ÿ  de hoja de gelatina de 2 g (previamente #          rehidratada en agua fría)#       1 sifón isi de œ l#       1  carga de n|2o - &ingredientselaboracio2=     75 g de lichis en conserva#     50 g de zumo de la lata de lichis#     0,4 hojas de gelatina de 2 g (previamente  #           rehidratadas en agua fría)#       4 g de zumo de lima - &ingredientselaboracio3=     50 g de vinagre de jerez#    0,4 g de agar-agar en polvo #     œ  hoja de gelatina de 2 g (previamente #          rehidratada en agua fría) - &ingredientselaboracio4=   150 g de nueces de macadamia#          aceite de girasol - &ingredientselaboracio5=   100 g de nueces de macadamia crudas #          repeladas rallador microplane - &ingredientselaboracio6=          sal maldon - \n",
      "CPU times: user 132 ms, sys: 12 ms, total: 144 ms\n",
      "Wall time: 146 ms\n"
     ]
    }
   ],
   "source": [
    "%%time\n",
    "\n",
    "import os\n",
    "\n",
    "count = 0\n",
    "rows = []\n",
    "\n",
    "path = 'data/recipes/elbulli/'\n",
    "for folder in os.listdir(path):\n",
    "    for filename in os.listdir(path + folder):\n",
    "        with open(path + folder + '/' + filename) as f:\n",
    "            row = {\n",
    "                '_id': '',\n",
    "                'title': '',\n",
    "                'year': 0,\n",
    "                'ingredients': set(),\n",
    "                'techniques': set(),\n",
    "            }\n",
    "            ingredients_string = ''\n",
    "            elaboration_string = ''\n",
    "            for line in f:\n",
    "                line = line.strip()\n",
    "                if line.startswith('num'):\n",
    "                    row['_id'] = line.split('=')[1]\n",
    "                elif line.startswith('&titol='):\n",
    "                    row['title'] = line.split('=')[1]\n",
    "                elif line.startswith('&any'):\n",
    "                    row['year'] = int(line.split('=')[1])\n",
    "                elif line.startswith('&ingredientselaboracio'):\n",
    "                    ingredients_string += line.lower() + ' - '\n",
    "                elif line.startswith('&descripcioelaboracio') or line.startswith('&acabatipresentacio'):\n",
    "                    elaboration_string += line.lower() + ' - '\n",
    "            if '|' in ingredients_string:\n",
    "                count+=1\n",
    "                print(count)\n",
    "                print(ingredients_string)"
   ]
  },
  {
   "cell_type": "code",
   "execution_count": null,
   "metadata": {
    "collapsed": true
   },
   "outputs": [],
   "source": []
  },
  {
   "cell_type": "code",
   "execution_count": null,
   "metadata": {
    "collapsed": true
   },
   "outputs": [],
   "source": []
  },
  {
   "cell_type": "code",
   "execution_count": null,
   "metadata": {
    "collapsed": true
   },
   "outputs": [],
   "source": []
  }
 ],
 "metadata": {
  "kernelspec": {
   "display_name": "Python 3",
   "language": "python",
   "name": "python3"
  },
  "language_info": {
   "codemirror_mode": {
    "name": "ipython",
    "version": 3
   },
   "file_extension": ".py",
   "mimetype": "text/x-python",
   "name": "python",
   "nbconvert_exporter": "python",
   "pygments_lexer": "ipython3",
   "version": "3.4.3"
  }
 },
 "nbformat": 4,
 "nbformat_minor": 0
}
