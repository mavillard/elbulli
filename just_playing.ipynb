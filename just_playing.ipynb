{
 "cells": [
  {
   "cell_type": "code",
   "execution_count": 2,
   "metadata": {
    "collapsed": false
   },
   "outputs": [],
   "source": [
    "import networkx as nx\n",
    "import csv\n",
    "from pymongo import MongoClient"
   ]
  },
  {
   "cell_type": "code",
   "execution_count": 3,
   "metadata": {
    "collapsed": false
   },
   "outputs": [],
   "source": [
    "gt = nx.read_gexf('data/spanish_techniques_lexicon_5.gexf')"
   ]
  },
  {
   "cell_type": "code",
   "execution_count": 4,
   "metadata": {
    "collapsed": false
   },
   "outputs": [],
   "source": [
    "gi = nx.read_gexf('data/spanish_ingredients_lexicon_5.gexf')"
   ]
  },
  {
   "cell_type": "code",
   "execution_count": 5,
   "metadata": {
    "collapsed": false
   },
   "outputs": [
    {
     "data": {
      "text/plain": [
       "34557"
      ]
     },
     "execution_count": 5,
     "metadata": {},
     "output_type": "execute_result"
    }
   ],
   "source": [
    "len(gi)"
   ]
  },
  {
   "cell_type": "code",
   "execution_count": 6,
   "metadata": {
    "collapsed": false
   },
   "outputs": [
    {
     "data": {
      "text/plain": [
       "{'n2o', 'nitrogeno', 'nitrógeno', 'n|2o'}"
      ]
     },
     "execution_count": 6,
     "metadata": {},
     "output_type": "execute_result"
    }
   ],
   "source": [
    "i = 'nitrógeno'\n",
    "nx.node_connected_component(gi, i)"
   ]
  },
  {
   "cell_type": "code",
   "execution_count": 11,
   "metadata": {
    "collapsed": false
   },
   "outputs": [
    {
     "data": {
      "text/plain": [
       "{'cocinado rojo',\n",
       " 'dun rojo',\n",
       " 'estofado rojo',\n",
       " 'estofados rojo',\n",
       " 'estofar rojo',\n",
       " 'etouffee rojo',\n",
       " 'etouffée rojo',\n",
       " 'guisado rojo',\n",
       " 'guisar rojo',\n",
       " 'guiso rojo',\n",
       " 'nimono rojo'}"
      ]
     },
     "execution_count": 11,
     "metadata": {},
     "output_type": "execute_result"
    }
   ],
   "source": [
    "t = 'cocinado rojo'\n",
    "nx.node_connected_component(gt, t)"
   ]
  },
  {
   "cell_type": "code",
   "execution_count": 8,
   "metadata": {
    "collapsed": false
   },
   "outputs": [],
   "source": [
    "path_gexf = 'data/elbulli.gexf'\n",
    "b = nx.read_gexf(path_gexf)"
   ]
  },
  {
   "cell_type": "code",
   "execution_count": 11,
   "metadata": {
    "collapsed": false
   },
   "outputs": [
    {
     "name": "stdout",
     "output_type": "stream",
     "text": [
      "('1203', {'nodetype': 'Receta', 'label': '1203', 'titulo': 'moshi: de yogur y frambuesa / de fruta de la pasión y regaliz / de café y guanábana'})\n"
     ]
    }
   ],
   "source": [
    "for n in b.nodes_iter(data=True):\n",
    "    if n[1]['nodetype'] == 'Receta':\n",
    "        print(n)\n",
    "        break"
   ]
  },
  {
   "cell_type": "code",
   "execution_count": 17,
   "metadata": {
    "collapsed": false
   },
   "outputs": [
    {
     "data": {
      "text/plain": [
       "{'label': '456',\n",
       " 'nodetype': 'Receta',\n",
       " 'titulo': 'fruta de la pasión, menta y coco'}"
      ]
     },
     "execution_count": 17,
     "metadata": {},
     "output_type": "execute_result"
    }
   ],
   "source": [
    "b.node['456']"
   ]
  },
  {
   "cell_type": "code",
   "execution_count": 18,
   "metadata": {
    "collapsed": false
   },
   "outputs": [
    {
     "data": {
      "text/plain": [
       "{'CÓCTELES': {'edgetype': 'se clasifica', 'id': '15985'},\n",
       " 'Elaboracion19982001-304': {'edgetype': 'elaboracion', 'id': '15986'},\n",
       " 'Elaboracion19982001-383': {'edgetype': 'elaboracion', 'id': '15987'},\n",
       " 'FRÍA': {'edgetype': 'temperatura', 'id': '15984'}}"
      ]
     },
     "execution_count": 18,
     "metadata": {},
     "output_type": "execute_result"
    }
   ],
   "source": [
    "b['456']"
   ]
  },
  {
   "cell_type": "code",
   "execution_count": 27,
   "metadata": {
    "collapsed": false
   },
   "outputs": [
    {
     "data": {
      "text/plain": [
       "{'SALADO': {'edgetype': 'mundo', 'id': '11868'},\n",
       " 'espuma fría': {'edgetype': 'composicion', 'id': '11867'},\n",
       " 'líquido': {'edgetype': 'composicion', 'id': '11866'},\n",
       " 'sabor:fruta de la pasión / coco / menta': {'edgetype': 'sabor',\n",
       "  'id': '11869'}}"
      ]
     },
     "execution_count": 27,
     "metadata": {},
     "output_type": "execute_result"
    }
   ],
   "source": [
    "b['Elaboracion19982001-383']"
   ]
  },
  {
   "cell_type": "code",
   "execution_count": 24,
   "metadata": {
    "collapsed": false
   },
   "outputs": [
    {
     "name": "stdout",
     "output_type": "stream",
     "text": [
      "---\n",
      "{'nodetype': 'Elaboracion', 'label': 'Elaboracion19982001-304'}\n",
      "leche de coco {'id': '32643', 'edgetype': 'composicion'}\n",
      "SALADO {'id': '32642', 'edgetype': 'mundo'}\n",
      "sabor:coco {'id': '32645', 'edgetype': 'sabor'}\n",
      "hojas de gelatina {'id': '32644', 'edgetype': 'composicion'}\n",
      "---\n",
      "{'nodetype': 'Elaboracion', 'label': 'Elaboracion19982001-383'}\n",
      "líquido {'id': '11866', 'edgetype': 'composicion'}\n",
      "sabor:fruta de la pasión / coco / menta {'id': '11869', 'edgetype': 'sabor'}\n",
      "SALADO {'id': '11868', 'edgetype': 'mundo'}\n",
      "espuma fría {'id': '11867', 'edgetype': 'composicion'}\n"
     ]
    }
   ],
   "source": [
    "for e in b['456']:\n",
    "    if b['456'][e]['edgetype'] == 'elaboracion':\n",
    "        print('---')\n",
    "        print(b.node[e])\n",
    "        for e2 in b[e]:\n",
    "            print(e2, b[e][e2])"
   ]
  },
  {
   "cell_type": "code",
   "execution_count": 15,
   "metadata": {
    "collapsed": false
   },
   "outputs": [
    {
     "name": "stdout",
     "output_type": "stream",
     "text": [
      "Elaboracion20032004-135 infusión de flor de saúco {'id': '15212', 'edgetype': 'composicion'}\n"
     ]
    }
   ],
   "source": [
    "for n, m, r in b.edges_iter(data=True):\n",
    "    print(n, m, r)\n",
    "    break"
   ]
  },
  {
   "cell_type": "code",
   "execution_count": null,
   "metadata": {
    "collapsed": true
   },
   "outputs": [],
   "source": []
  },
  {
   "cell_type": "code",
   "execution_count": 3,
   "metadata": {
    "collapsed": false
   },
   "outputs": [],
   "source": [
    "apicultur_syns = {}\n",
    "with open('data/apicultur_techniques_synonyms.csv') as f:\n",
    "    reader = csv.reader(\n",
    "        f,\n",
    "        delimiter=',',\n",
    "    )\n",
    "    for row in reader:\n",
    "        apicultur_syns[row[0]] = row[1:]"
   ]
  },
  {
   "cell_type": "code",
   "execution_count": 4,
   "metadata": {
    "collapsed": true
   },
   "outputs": [],
   "source": [
    "def synonyms(x):\n",
    "    return apicultur_syns.get(x, [])"
   ]
  },
  {
   "cell_type": "code",
   "execution_count": 7,
   "metadata": {
    "collapsed": false
   },
   "outputs": [
    {
     "data": {
      "text/plain": [
       "['gratinar', 'dorar']"
      ]
     },
     "execution_count": 7,
     "metadata": {},
     "output_type": "execute_result"
    }
   ],
   "source": [
    "synonyms('hornear')"
   ]
  },
  {
   "cell_type": "code",
   "execution_count": 10,
   "metadata": {
    "collapsed": false
   },
   "outputs": [],
   "source": [
    "client = MongoClient()\n",
    "# client.drop_database('recipes')\n",
    "db = client.recipes"
   ]
  },
  {
   "cell_type": "code",
   "execution_count": 11,
   "metadata": {
    "collapsed": false
   },
   "outputs": [
    {
     "data": {
      "text/plain": [
       "{'_id': '829',\n",
       " 'ingredients': ['agar-agar en polvo',\n",
       "  'miel de romero',\n",
       "  'agua de rosas',\n",
       "  'jengibre fresco rallado',\n",
       "  'puré de melocotón de viña',\n",
       "  'n|2o',\n",
       "  'té de rosas',\n",
       "  'agua de miel',\n",
       "  'agar en polvo',\n",
       "  'agua de rosa',\n",
       "  'té de rosa',\n",
       "  'gelatina',\n",
       "  'huevo'],\n",
       " 'techniques': ['espuma',\n",
       "  'agua',\n",
       "  'a fuego lento',\n",
       "  'reducir',\n",
       "  'jugo',\n",
       "  'baño maría',\n",
       "  'min',\n",
       "  'puré',\n",
       "  'sifón'],\n",
       " 'title': 'té de rosas al jengibre con perlas de miel y espuma caliente de melocotón',\n",
       " 'year': 2003}"
      ]
     },
     "execution_count": 11,
     "metadata": {},
     "output_type": "execute_result"
    }
   ],
   "source": [
    "db.elbulli.find_one({'_id': '829'})"
   ]
  },
  {
   "cell_type": "code",
   "execution_count": 124,
   "metadata": {
    "collapsed": false
   },
   "outputs": [
    {
     "data": {
      "text/plain": [
       "1214"
      ]
     },
     "execution_count": 124,
     "metadata": {},
     "output_type": "execute_result"
    }
   ],
   "source": [
    "# c=0\n",
    "# for row in db.elbulli.find():\n",
    "#     for i in row['ingredients']:\n",
    "#         if i in gi:\n",
    "#             gi.node[i]['count'] += 1\n",
    "#     for t in row['techniques']:\n",
    "#         if t in gt:\n",
    "#             gt.node[t]['count'] += 1\n",
    "#     c+=1\n",
    "# c"
   ]
  },
  {
   "cell_type": "code",
   "execution_count": 20,
   "metadata": {
    "collapsed": true
   },
   "outputs": [],
   "source": [
    "# nx.write_gexf(gi, 'data/spanish_ingredients_lexicon_5.gexf')"
   ]
  },
  {
   "cell_type": "code",
   "execution_count": 21,
   "metadata": {
    "collapsed": true
   },
   "outputs": [],
   "source": [
    "# nx.write_gexf(gt, 'data/spanish_techniques_lexicon_5.gexf')"
   ]
  },
  {
   "cell_type": "code",
   "execution_count": 2,
   "metadata": {
    "collapsed": true
   },
   "outputs": [],
   "source": [
    "gi = nx.read_gexf('data/spanish_ingredients_lexicon_5.gexf')"
   ]
  },
  {
   "cell_type": "code",
   "execution_count": 6,
   "metadata": {
    "collapsed": true
   },
   "outputs": [],
   "source": [
    "gt = nx.read_gexf('data/spanish_techniques_lexicon_5.gexf')"
   ]
  },
  {
   "cell_type": "code",
   "execution_count": 8,
   "metadata": {
    "collapsed": false
   },
   "outputs": [
    {
     "name": "stdout",
     "output_type": "stream",
     "text": [
      "('aceite de girasol', {'count': 259, 'label': 'aceite de girasol'})\n",
      "('aceite de oliva', {'count': 424, 'label': 'aceite de oliva'})\n",
      "('sal maldon', {'count': 158, 'label': 'sal maldon'})\n",
      "('hojas de gelatina', {'count': 164, 'label': 'hojas de gelatina'})\n",
      "('gelatina', {'count': 189, 'label': 'gelatina'})\n",
      "('mantequilla', {'count': 210, 'label': 'mantequilla'})\n",
      "('nata líquida', {'count': 251, 'label': 'nata líquida'})\n",
      "('azúcar', {'count': 439, 'label': 'azúcar'})\n",
      "('sal', {'count': 532, 'label': 'sal'})\n",
      "('agua', {'count': 685, 'label': 'agua'})\n",
      "('pimienta negra', {'count': 162, 'label': 'pimienta negra'})\n",
      "('glucosa', {'count': 281, 'label': 'glucosa'})\n"
     ]
    }
   ],
   "source": [
    "for n in gi.nodes_iter(data=True):\n",
    "    if n[1]['count'] > 150:\n",
    "        print(n)"
   ]
  },
  {
   "cell_type": "code",
   "execution_count": 38,
   "metadata": {
    "collapsed": true
   },
   "outputs": [],
   "source": [
    "elbullig = nx.read_gexf('data/elbulli.gexf')"
   ]
  },
  {
   "cell_type": "code",
   "execution_count": 86,
   "metadata": {
    "collapsed": false
   },
   "outputs": [
    {
     "data": {
      "text/plain": [
       "{'bechamel de tomate',\n",
       " 'bechamel de tomates',\n",
       " 'bechamel tomate',\n",
       " 'bechamel tomates',\n",
       " 'besamel de tomate',\n",
       " 'besamel de tomates',\n",
       " 'besamel tomate',\n",
       " 'besamel tomates',\n",
       " 'salsa de tomate',\n",
       " 'salsa de tomates',\n",
       " 'salsa tomate',\n",
       " 'salsa tomates'}"
      ]
     },
     "execution_count": 86,
     "metadata": {},
     "output_type": "execute_result"
    }
   ],
   "source": [
    "nx.node_connected_component(gi, 'salsa de tomate')"
   ]
  },
  {
   "cell_type": "code",
   "execution_count": 88,
   "metadata": {
    "collapsed": false
   },
   "outputs": [
    {
     "data": {
      "text/plain": [
       "{'bechamel de tomate',\n",
       " 'bechamel de tomates',\n",
       " 'bechamel tomate',\n",
       " 'bechamel tomates',\n",
       " 'besamel de tomate',\n",
       " 'besamel de tomates',\n",
       " 'besamel tomate',\n",
       " 'besamel tomates',\n",
       " 'salsa de tomate',\n",
       " 'salsa de tomates',\n",
       " 'salsa tomate',\n",
       " 'salsa tomates'}"
      ]
     },
     "execution_count": 88,
     "metadata": {},
     "output_type": "execute_result"
    }
   ],
   "source": [
    "nx.node_connected_component(gi, 'bechamel tomates')"
   ]
  },
  {
   "cell_type": "code",
   "execution_count": 91,
   "metadata": {
    "collapsed": true
   },
   "outputs": [],
   "source": [
    "def subs(a, b):\n",
    "    issub = True\n",
    "    for e in a:\n",
    "        if a not in b:\n",
    "            syn_e = nx.node_connected_component(gi, e)\n",
    "            issub = False\n",
    "            for x in b:\n",
    "                syn_x = nx.node_connected_component(gi, x)\n",
    "                if syn_e == syn_x:\n",
    "                    issub = True\n",
    "    return issub"
   ]
  },
  {
   "cell_type": "code",
   "execution_count": 93,
   "metadata": {
    "collapsed": false
   },
   "outputs": [
    {
     "name": "stdout",
     "output_type": "stream",
     "text": [
      "456\n",
      "{'leche de coco', 'líquido', 'hojas de gelatina', 'fruta de la pasión / coco / menta', 'coco', 'espuma fría'}\n",
      "{'leche de coco', 'agua', 'gelatina', 'menta', 'azúcar', 'zumo de fruta de la pasión', 'cachaça'}\n",
      "0\n",
      "3\n",
      "3\n"
     ]
    }
   ],
   "source": [
    "equ = 0\n",
    "sub = 0\n",
    "diff = 0\n",
    "for n in elbullig.nodes_iter(data=True):\n",
    "    if n[1]['nodetype'] == 'Receta':\n",
    "        ingrs = set()\n",
    "        for e in elbullig[n[0]]:\n",
    "            if elbullig[n[0]][e]['edgetype'] == 'elaboracion':\n",
    "                for e2 in elbullig[e]:\n",
    "                    if elbullig[e][e2]['edgetype'] == 'composicion':\n",
    "                        ingrs.add(e2)\n",
    "                    elif elbullig[e][e2]['edgetype'] == 'sabor':\n",
    "                        ingrs.add(e2[6:])\n",
    "        graph_ingrs = ingrs\n",
    "        bd_ingrs = set(db.elbulli.find_one({'_id': n[0]})['ingredients'])\n",
    "        try:\n",
    "            if graph_ingrs == bd_ingrs:\n",
    "                equ +=1\n",
    "            elif graph_ingrs.issubset(bd_ingrs) or subs(graph_ingrs, bd_ingrs):\n",
    "                sub +=1\n",
    "            else:\n",
    "                diff +=1\n",
    "    #             print(n[0])\n",
    "    #             print(graph_ingrs)\n",
    "    #             print(bd_ingrs)\n",
    "    #             break\n",
    "        except:\n",
    "            print(n[0])\n",
    "            print(graph_ingrs)\n",
    "            print(bd_ingrs)\n",
    "            break\n",
    "print(equ)\n",
    "print(sub)\n",
    "print(diff)"
   ]
  },
  {
   "cell_type": "code",
   "execution_count": null,
   "metadata": {
    "collapsed": true
   },
   "outputs": [],
   "source": []
  },
  {
   "cell_type": "code",
   "execution_count": 77,
   "metadata": {
    "collapsed": true
   },
   "outputs": [],
   "source": [
    "s1=set([1,2,3])"
   ]
  },
  {
   "cell_type": "code",
   "execution_count": 80,
   "metadata": {
    "collapsed": false
   },
   "outputs": [
    {
     "data": {
      "text/plain": [
       "True"
      ]
     },
     "execution_count": 80,
     "metadata": {},
     "output_type": "execute_result"
    }
   ],
   "source": [
    "s1.issubset([1,4,3,2,5])"
   ]
  },
  {
   "cell_type": "code",
   "execution_count": 75,
   "metadata": {
    "collapsed": false
   },
   "outputs": [
    {
     "data": {
      "text/plain": [
       "4"
      ]
     },
     "execution_count": 75,
     "metadata": {},
     "output_type": "execute_result"
    }
   ],
   "source": [
    "equ"
   ]
  },
  {
   "cell_type": "code",
   "execution_count": 76,
   "metadata": {
    "collapsed": false
   },
   "outputs": [
    {
     "data": {
      "text/plain": [
       "1210"
      ]
     },
     "execution_count": 76,
     "metadata": {},
     "output_type": "execute_result"
    }
   ],
   "source": [
    "diff"
   ]
  },
  {
   "cell_type": "code",
   "execution_count": 46,
   "metadata": {
    "collapsed": false
   },
   "outputs": [
    {
     "data": {
      "text/plain": [
       "{'AMBIENTE': {'edgetype': 'temperatura', 'id': '2518'},\n",
       " 'Elaboracion19982001-556': {'edgetype': 'elaboracion', 'id': '2519'},\n",
       " 'SNACKS': {'edgetype': 'se clasifica', 'id': '2520'}}"
      ]
     },
     "execution_count": 46,
     "metadata": {},
     "output_type": "execute_result"
    }
   ],
   "source": [
    "elbullig['631']"
   ]
  },
  {
   "cell_type": "code",
   "execution_count": null,
   "metadata": {
    "collapsed": true
   },
   "outputs": [],
   "source": []
  },
  {
   "cell_type": "code",
   "execution_count": 1,
   "metadata": {
    "collapsed": false
   },
   "outputs": [],
   "source": [
    "# %%time\n",
    "\n",
    "# import os\n",
    "\n",
    "# count = 0\n",
    "# rows = []\n",
    "\n",
    "# path = 'data/recipes/elbulli/'\n",
    "# for folder in os.listdir(path):\n",
    "#     for filename in os.listdir(path + folder):\n",
    "#         with open(path + folder + '/' + filename) as f:\n",
    "#             row = {\n",
    "#                 '_id': '',\n",
    "#                 'title': '',\n",
    "#                 'year': 0,\n",
    "#                 'ingredients': set(),\n",
    "#                 'techniques': set(),\n",
    "#             }\n",
    "#             ingredients_string = ''\n",
    "#             elaboration_string = ''\n",
    "#             for line in f:\n",
    "#                 line = line.strip()\n",
    "#                 if line.startswith('num'):\n",
    "#                     row['_id'] = line.split('=')[1]\n",
    "#                 elif line.startswith('&titol='):\n",
    "#                     row['title'] = line.split('=')[1]\n",
    "#                 elif line.startswith('&any'):\n",
    "#                     row['year'] = int(line.split('=')[1])\n",
    "#                 elif line.startswith('&ingredientselaboracio'):\n",
    "#                     ingredients_string += line.lower() + ' - '\n",
    "#                 elif line.startswith('&descripcioelaboracio') or line.startswith('&acabatipresentacio'):\n",
    "#                     elaboration_string += line.lower() + ' - '\n",
    "#             if '|' in ingredients_string:\n",
    "#                 count+=1\n",
    "#                 print(count)\n",
    "#                 print(ingredients_string)"
   ]
  },
  {
   "cell_type": "code",
   "execution_count": 2,
   "metadata": {
    "collapsed": true
   },
   "outputs": [],
   "source": [
    "from textblob import TextBlob"
   ]
  },
  {
   "cell_type": "code",
   "execution_count": 11,
   "metadata": {
    "collapsed": false
   },
   "outputs": [
    {
     "data": {
      "text/plain": [
       "[('asdasdasd', 'NN')]"
      ]
     },
     "execution_count": 11,
     "metadata": {},
     "output_type": "execute_result"
    }
   ],
   "source": [
    "blob = TextBlob('asdasdasd')\n",
    "blob.tags"
   ]
  },
  {
   "cell_type": "code",
   "execution_count": 17,
   "metadata": {
    "collapsed": false
   },
   "outputs": [
    {
     "data": {
      "text/plain": [
       "[('to', 'TO'), ('process', 'VB')]"
      ]
     },
     "execution_count": 17,
     "metadata": {},
     "output_type": "execute_result"
    }
   ],
   "source": [
    "import nltk\n",
    "nltk.pos_tag(['to', 'process'])"
   ]
  },
  {
   "cell_type": "code",
   "execution_count": 18,
   "metadata": {
    "collapsed": true
   },
   "outputs": [],
   "source": [
    "from nltk.corpus import words"
   ]
  },
  {
   "cell_type": "code",
   "execution_count": 20,
   "metadata": {
    "collapsed": false
   },
   "outputs": [
    {
     "data": {
      "text/plain": [
       "\"<WordListCorpusReader in '.../corpora/words' (not loaded yet)>\""
      ]
     },
     "execution_count": 20,
     "metadata": {},
     "output_type": "execute_result"
    }
   ],
   "source": [
    "words.unicode_repr()"
   ]
  },
  {
   "cell_type": "code",
   "execution_count": 23,
   "metadata": {
    "collapsed": false
   },
   "outputs": [],
   "source": [
    "from nltk.corpus import WordListCorpusReader"
   ]
  },
  {
   "cell_type": "code",
   "execution_count": 30,
   "metadata": {
    "collapsed": false
   },
   "outputs": [
    {
     "data": {
      "text/plain": [
       "[('I', 'PRON'),\n",
       " ('have', 'VERB'),\n",
       " ('3', 'NUM'),\n",
       " ('brothers', 'NOUN'),\n",
       " ('and', 'CONJ'),\n",
       " ('three', 'NUM'),\n",
       " ('sisters', 'NOUN')]"
      ]
     },
     "execution_count": 30,
     "metadata": {},
     "output_type": "execute_result"
    }
   ],
   "source": [
    "s= 'I have 3 brothers and three sisters'\n",
    "tokens= nltk.word_tokenize(s)\n",
    "nltk.pos_tag(tokens, tagset='universal')"
   ]
  },
  {
   "cell_type": "code",
   "execution_count": null,
   "metadata": {
    "collapsed": true
   },
   "outputs": [],
   "source": []
  }
 ],
 "metadata": {
  "kernelspec": {
   "display_name": "Python 3",
   "language": "python",
   "name": "python3"
  },
  "language_info": {
   "codemirror_mode": {
    "name": "ipython",
    "version": 3
   },
   "file_extension": ".py",
   "mimetype": "text/x-python",
   "name": "python",
   "nbconvert_exporter": "python",
   "pygments_lexer": "ipython3",
   "version": "3.4.3"
  }
 },
 "nbformat": 4,
 "nbformat_minor": 0
}
