{
 "cells": [
  {
   "cell_type": "code",
   "execution_count": 1,
   "metadata": {
    "collapsed": false
   },
   "outputs": [],
   "source": [
    "import requests\n",
    "from bs4 import BeautifulSoup"
   ]
  },
  {
   "cell_type": "code",
   "execution_count": 2,
   "metadata": {
    "collapsed": false
   },
   "outputs": [],
   "source": [
    "def is_a_valid_ingredient(soup):\n",
    "    title = soup.title.string\n",
    "    name = soup.find('h1', itemprop='name')\n",
    "    error_400 = '404 Error Page - Page Cannot Be Found - Food.com'\n",
    "    error_500 = '500 Error Page - Internal Server Error - Food.com'\n",
    "    result = title != error_400 and title != error_500 and bool(name)\n",
    "    return result\n",
    "\n",
    "def parse_ingredient(soup):\n",
    "    return soup.find('h1', itemprop='name').string.strip().lower()"
   ]
  },
  {
   "cell_type": "code",
   "execution_count": 3,
   "metadata": {
    "collapsed": false
   },
   "outputs": [
    {
     "name": "stdout",
     "output_type": "stream",
     "text": [
      "100 urls processed.\n",
      "200 urls processed.\n",
      "300 urls processed.\n",
      "400 urls processed.\n",
      "500 urls processed.\n",
      "600 urls processed.\n",
      "700 urls processed.\n",
      "800 urls processed.\n",
      "900 urls processed.\n",
      "Total urls: 979\n",
      "Total ingredients: 959\n",
      "Ingredient errors: 0\n",
      "Response errors: 20\n",
      "Other errors: 0\n"
     ]
    }
   ],
   "source": [
    "total_urls  = 0\n",
    "total_ingredients = 0\n",
    "ingredient_errors = 0\n",
    "response_errors = 0\n",
    "other_errors = 0\n",
    "ingredients = set()\n",
    "\n",
    "base_url = 'http://www.food.com/about/'\n",
    "lower_limit = 1\n",
    "upper_limit = 979\n",
    "for ide in range(lower_limit, upper_limit + 1):\n",
    "    try:\n",
    "        str_id = str(ide)\n",
    "        url = base_url + str_id\n",
    "        response = requests.get(url)\n",
    "        if response.ok:\n",
    "            soup = BeautifulSoup(response.content, 'html.parser')\n",
    "            if is_a_valid_ingredient(soup):\n",
    "                ingredients.add(parse_ingredient(soup))\n",
    "                total_ingredients += 1\n",
    "            else:\n",
    "                ingredient_errors += 1\n",
    "        else:\n",
    "            response_errors += 1\n",
    "    except:\n",
    "        other_errors += 1\n",
    "    total_urls += 1\n",
    "    if total_urls % 100 == 0:\n",
    "        print(total_urls, 'urls processed.')\n",
    "\n",
    "with open('data/ingredients/foodcom_ingredients.txt', 'w') as f:\n",
    "    f.write('\\n'.join(sorted(ingredients)))\n",
    "\n",
    "print('Total urls:', total_urls)\n",
    "print('Total ingredients:', total_ingredients)\n",
    "print('Ingredient errors:', ingredient_errors)\n",
    "print('Response errors:', response_errors)\n",
    "print('Other errors:', other_errors)"
   ]
  },
  {
   "cell_type": "code",
   "execution_count": null,
   "metadata": {
    "collapsed": true
   },
   "outputs": [],
   "source": []
  }
 ],
 "metadata": {
  "kernelspec": {
   "display_name": "Python 3",
   "language": "python",
   "name": "python3"
  },
  "language_info": {
   "codemirror_mode": {
    "name": "ipython",
    "version": 3
   },
   "file_extension": ".py",
   "mimetype": "text/x-python",
   "name": "python",
   "nbconvert_exporter": "python",
   "pygments_lexer": "ipython3",
   "version": "3.4.3"
  }
 },
 "nbformat": 4,
 "nbformat_minor": 0
}
