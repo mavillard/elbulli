{
 "cells": [
  {
   "cell_type": "code",
   "execution_count": 1,
   "metadata": {
    "collapsed": false
   },
   "outputs": [],
   "source": [
    "import requests\n",
    "from bs4 import BeautifulSoup"
   ]
  },
  {
   "cell_type": "code",
   "execution_count": 31,
   "metadata": {
    "collapsed": true
   },
   "outputs": [],
   "source": [
    "def is_a_valid_recipe(soup):\n",
    "    title = soup.title.string != ''\n",
    "    ingredients = any(map(\n",
    "        lambda x: 'class' in x.attrs and 'section-title' in x['class'] and x.string.strip() == 'Ingredients',\n",
    "        soup.find_all('h2')\n",
    "    ))\n",
    "    instructions = any(map(\n",
    "        lambda x: 'class' in x.attrs and 'section-title' in x['class'] and x.string.strip() == 'Preparation',\n",
    "        soup.find_all('h2')\n",
    "    ))\n",
    "    return title and ingredients and instructions"
   ]
  },
  {
   "cell_type": "code",
   "execution_count": null,
   "metadata": {
    "collapsed": true
   },
   "outputs": [],
   "source": [
    "%%time\n",
    "\n",
    "total_urls  = 0\n",
    "total_recipes = 0\n",
    "recipe_errors = 0\n",
    "response_errors = 0\n",
    "\n",
    "retry_list = []\n",
    "\n",
    "base_url = 'http://www.epicurious.com/recipes/food/views/'\n",
    "max_id = 6009\n",
    "for ide in range(1, max_id + 1):\n",
    "    try:\n",
    "        str_id = str(ide)\n",
    "        url = base_url + str_id\n",
    "        response = requests.get(url)\n",
    "        if response.ok:\n",
    "            soup = BeautifulSoup(response.content, 'html.parser')\n",
    "            if is_a_valid_recipe(soup):\n",
    "                with open('data/epicurious/' + str_id + '.html', 'w') as f:\n",
    "                    f.write(soup.prettify())\n",
    "                    total_recipes += 1\n",
    "            else:\n",
    "                recipe_errors += 1\n",
    "        else:\n",
    "            response_errors += 1\n",
    "        except:\n",
    "            retry_list.append(ide)\n",
    "    total_urls += 1\n",
    "    if total_urls % 1000 == 0:\n",
    "        print(total_urls, 'processed.')\n",
    "\n",
    "print('Total urls:', total_urls)\n",
    "print('Total recipes:', total_recipes)\n",
    "print('Recipe errors:', recipe_errors)\n",
    "print('Response errors:', response_errors)"
   ]
  },
  {
   "cell_type": "code",
   "execution_count": null,
   "metadata": {
    "collapsed": true
   },
   "outputs": [],
   "source": []
  }
 ],
 "metadata": {
  "kernelspec": {
   "display_name": "Python 3",
   "language": "python",
   "name": "python3"
  },
  "language_info": {
   "codemirror_mode": {
    "name": "ipython",
    "version": 3
   },
   "file_extension": ".py",
   "mimetype": "text/x-python",
   "name": "python",
   "nbconvert_exporter": "python",
   "pygments_lexer": "ipython3",
   "version": "3.4.3"
  }
 },
 "nbformat": 4,
 "nbformat_minor": 0
}
