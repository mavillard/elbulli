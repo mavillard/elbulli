{
 "cells": [
  {
   "cell_type": "code",
   "execution_count": 1,
   "metadata": {
    "collapsed": false
   },
   "outputs": [],
   "source": [
    "import json\n",
    "\n",
    "import networkx as nx\n",
    "import nltk\n",
    "import numpy as np\n",
    "import pandas as pd\n",
    "from sklearn import metrics\n",
    "from sklearn.cross_validation import StratifiedKFold, train_test_split\n",
    "from sklearn.ensemble import RandomForestClassifier\n",
    "from sklearn.feature_extraction.text import CountVectorizer, TfidfTransformer\n",
    "from sklearn.feature_selection import SelectKBest, chi2\n",
    "from sklearn.grid_search import GridSearchCV\n",
    "from sklearn.linear_model import PassiveAggressiveClassifier, Perceptron, RidgeClassifier, SGDClassifier\n",
    "from sklearn.naive_bayes import BernoulliNB, MultinomialNB\n",
    "from sklearn.neighbors import KNeighborsClassifier, NearestCentroid\n",
    "from sklearn.pipeline import Pipeline\n",
    "from sklearn.svm import LinearSVC\n",
    "# Classifiers obtained from http://scikit-learn.org/stable/auto_examples/text/document_classification_20newsgroups.html"
   ]
  },
  {
   "cell_type": "markdown",
   "metadata": {
    "collapsed": true
   },
   "source": [
    "# Original data"
   ]
  },
  {
   "cell_type": "markdown",
   "metadata": {},
   "source": [
    "## Preparing sets' sizes"
   ]
  },
  {
   "cell_type": "code",
   "execution_count": 2,
   "metadata": {
    "collapsed": true
   },
   "outputs": [],
   "source": [
    "elbulli_raw_recipes_df = pd.read_csv('data/dbs/recipes_elbulli_raw.csv')"
   ]
  },
  {
   "cell_type": "code",
   "execution_count": 3,
   "metadata": {
    "collapsed": true
   },
   "outputs": [],
   "source": [
    "elbulli_raw_recipes_df['creativity'] = elbulli_raw_recipes_df.apply(\n",
    "    lambda x: 10 if 1987 <= x['year'] <= 1997 else \\\n",
    "              20 if 1998 <= x['year'] <= 2001 else \\\n",
    "              30 if 2002 <= x['year'] <= 2005 else \\\n",
    "              'UNKOWN', axis=1)"
   ]
  },
  {
   "cell_type": "code",
   "execution_count": 4,
   "metadata": {
    "collapsed": false
   },
   "outputs": [
    {
     "data": {
      "text/plain": [
       "10    454\n",
       "30    389\n",
       "20    371\n",
       "Name: creativity, dtype: int64"
      ]
     },
     "execution_count": 4,
     "metadata": {},
     "output_type": "execute_result"
    }
   ],
   "source": [
    "elbulli_raw_recipes_df['creativity'].value_counts()"
   ]
  },
  {
   "cell_type": "code",
   "execution_count": 5,
   "metadata": {
    "collapsed": false
   },
   "outputs": [],
   "source": [
    "cookpad_size = int(np.average(elbulli_raw_recipes_df['creativity'].value_counts()))"
   ]
  },
  {
   "cell_type": "code",
   "execution_count": 6,
   "metadata": {
    "collapsed": false
   },
   "outputs": [
    {
     "data": {
      "text/plain": [
       "404"
      ]
     },
     "execution_count": 6,
     "metadata": {},
     "output_type": "execute_result"
    }
   ],
   "source": [
    "cookpad_size"
   ]
  },
  {
   "cell_type": "code",
   "execution_count": 7,
   "metadata": {
    "collapsed": false
   },
   "outputs": [],
   "source": [
    "cookpad_raw_recipes_df = pd.read_csv('data/dbs/recipes_cookpad_raw.csv')"
   ]
  },
  {
   "cell_type": "code",
   "execution_count": 8,
   "metadata": {
    "collapsed": false
   },
   "outputs": [],
   "source": [
    "cookpad_sample = cookpad_raw_recipes_df.sample(cookpad_size)"
   ]
  },
  {
   "cell_type": "code",
   "execution_count": 9,
   "metadata": {
    "collapsed": false
   },
   "outputs": [],
   "source": [
    "cookpad_indices = cookpad_sample.index.sort_values()"
   ]
  },
  {
   "cell_type": "code",
   "execution_count": 10,
   "metadata": {
    "collapsed": false
   },
   "outputs": [
    {
     "data": {
      "text/plain": [
       "Int64Index([  17,   18,   60,   77,   81,   85,  140,  148,  172,  189,\n",
       "            ...\n",
       "            7794, 7796, 7810, 7825, 7828, 7900, 7929, 7936, 7956, 7967],\n",
       "           dtype='int64', length=404)"
      ]
     },
     "execution_count": 10,
     "metadata": {},
     "output_type": "execute_result"
    }
   ],
   "source": [
    "cookpad_indices"
   ]
  },
  {
   "cell_type": "code",
   "execution_count": 11,
   "metadata": {
    "collapsed": true
   },
   "outputs": [],
   "source": [
    "def my_sample(df, indices=cookpad_indices):\n",
    "    return df.loc[indices]"
   ]
  },
  {
   "cell_type": "markdown",
   "metadata": {},
   "source": [
    "## Raw ingredients and techniques"
   ]
  },
  {
   "cell_type": "markdown",
   "metadata": {},
   "source": [
    "### elbulli"
   ]
  },
  {
   "cell_type": "code",
   "execution_count": 12,
   "metadata": {
    "collapsed": false
   },
   "outputs": [],
   "source": [
    "elbulli_raw_recipes_df = pd.read_csv('data/dbs/recipes_elbulli_raw.csv')"
   ]
  },
  {
   "cell_type": "code",
   "execution_count": 13,
   "metadata": {
    "collapsed": false
   },
   "outputs": [
    {
     "data": {
      "text/plain": [
       "(1214, 5)"
      ]
     },
     "execution_count": 13,
     "metadata": {},
     "output_type": "execute_result"
    }
   ],
   "source": [
    "elbulli_raw_recipes_df.shape"
   ]
  },
  {
   "cell_type": "code",
   "execution_count": 14,
   "metadata": {
    "collapsed": false
   },
   "outputs": [
    {
     "data": {
      "text/html": [
       "<div>\n",
       "<table border=\"1\" class=\"dataframe\">\n",
       "  <thead>\n",
       "    <tr style=\"text-align: right;\">\n",
       "      <th></th>\n",
       "      <th>_id</th>\n",
       "      <th>title</th>\n",
       "      <th>year</th>\n",
       "      <th>ingredients</th>\n",
       "      <th>techniques</th>\n",
       "    </tr>\n",
       "  </thead>\n",
       "  <tbody>\n",
       "    <tr>\n",
       "      <th>0</th>\n",
       "      <td>1</td>\n",
       "      <td>terrina de melón con gelée de oporto</td>\n",
       "      <td>1987</td>\n",
       "      <td>[\"oporto\",\"aceite de oliva\",\"agua\",\"pimienta b...</td>\n",
       "      <td>[\"agua\"]</td>\n",
       "    </tr>\n",
       "    <tr>\n",
       "      <th>1</th>\n",
       "      <td>10</td>\n",
       "      <td>salmonetes gaudí</td>\n",
       "      <td>1987</td>\n",
       "      <td>[\"sal\",\"pimiento\",\"pimiento rojo\",\"piñones tos...</td>\n",
       "      <td>[\"sal\",\"marcar\",\"cocción\",\"asado\",\"hirviendo\",...</td>\n",
       "    </tr>\n",
       "    <tr>\n",
       "      <th>2</th>\n",
       "      <td>100</td>\n",
       "      <td>oursins</td>\n",
       "      <td>1990</td>\n",
       "      <td>[\"chocolate\",\"claras de huevo\",\"avellanas tost...</td>\n",
       "      <td>[\"horno\",\"al horno\",\"secar\"]</td>\n",
       "    </tr>\n",
       "    <tr>\n",
       "      <th>3</th>\n",
       "      <td>1000</td>\n",
       "      <td>ravioli sférico de té con cubo helado de limón</td>\n",
       "      <td>2004</td>\n",
       "      <td>[\"zumo de limón\",\"limón\",\"alginato sódico\",\"ag...</td>\n",
       "      <td>[\"agua\",\"cocer\",\"fría\"]</td>\n",
       "    </tr>\n",
       "    <tr>\n",
       "      <th>4</th>\n",
       "      <td>1001</td>\n",
       "      <td>ceps en ámbar de su caldo</td>\n",
       "      <td>2004</td>\n",
       "      <td>[\"sal\",\"caldo de ceps\",\"carragenato kappa en p...</td>\n",
       "      <td>[\"sal\",\"asar\",\"cocer\",\"hervido\",\"confitar\",\"ca...</td>\n",
       "    </tr>\n",
       "  </tbody>\n",
       "</table>\n",
       "</div>"
      ],
      "text/plain": [
       "    _id                                           title  year  \\\n",
       "0     1            terrina de melón con gelée de oporto  1987   \n",
       "1    10                                salmonetes gaudí  1987   \n",
       "2   100                                         oursins  1990   \n",
       "3  1000  ravioli sférico de té con cubo helado de limón  2004   \n",
       "4  1001                       ceps en ámbar de su caldo  2004   \n",
       "\n",
       "                                         ingredients  \\\n",
       "0  [\"oporto\",\"aceite de oliva\",\"agua\",\"pimienta b...   \n",
       "1  [\"sal\",\"pimiento\",\"pimiento rojo\",\"piñones tos...   \n",
       "2  [\"chocolate\",\"claras de huevo\",\"avellanas tost...   \n",
       "3  [\"zumo de limón\",\"limón\",\"alginato sódico\",\"ag...   \n",
       "4  [\"sal\",\"caldo de ceps\",\"carragenato kappa en p...   \n",
       "\n",
       "                                          techniques  \n",
       "0                                           [\"agua\"]  \n",
       "1  [\"sal\",\"marcar\",\"cocción\",\"asado\",\"hirviendo\",...  \n",
       "2                       [\"horno\",\"al horno\",\"secar\"]  \n",
       "3                            [\"agua\",\"cocer\",\"fría\"]  \n",
       "4  [\"sal\",\"asar\",\"cocer\",\"hervido\",\"confitar\",\"ca...  "
      ]
     },
     "execution_count": 14,
     "metadata": {},
     "output_type": "execute_result"
    }
   ],
   "source": [
    "elbulli_raw_recipes_df.head()"
   ]
  },
  {
   "cell_type": "code",
   "execution_count": 15,
   "metadata": {
    "collapsed": false
   },
   "outputs": [],
   "source": [
    "elbulli_raw_recipes_df['ingredients'] = elbulli_raw_recipes_df.apply(lambda x: json.loads(x['ingredients']), axis=1)\n",
    "elbulli_raw_recipes_df['techniques'] = elbulli_raw_recipes_df.apply(lambda x: json.loads(x['techniques']), axis=1)"
   ]
  },
  {
   "cell_type": "code",
   "execution_count": 16,
   "metadata": {
    "collapsed": false
   },
   "outputs": [
    {
     "data": {
      "text/html": [
       "<div>\n",
       "<table border=\"1\" class=\"dataframe\">\n",
       "  <thead>\n",
       "    <tr style=\"text-align: right;\">\n",
       "      <th></th>\n",
       "      <th>_id</th>\n",
       "      <th>title</th>\n",
       "      <th>year</th>\n",
       "      <th>ingredients</th>\n",
       "      <th>techniques</th>\n",
       "    </tr>\n",
       "  </thead>\n",
       "  <tbody>\n",
       "    <tr>\n",
       "      <th>0</th>\n",
       "      <td>1</td>\n",
       "      <td>terrina de melón con gelée de oporto</td>\n",
       "      <td>1987</td>\n",
       "      <td>[oporto, aceite de oliva, agua, pimienta blanc...</td>\n",
       "      <td>[agua]</td>\n",
       "    </tr>\n",
       "    <tr>\n",
       "      <th>1</th>\n",
       "      <td>10</td>\n",
       "      <td>salmonetes gaudí</td>\n",
       "      <td>1987</td>\n",
       "      <td>[sal, pimiento, pimiento rojo, piñones tostado...</td>\n",
       "      <td>[sal, marcar, cocción, asado, hirviendo, horno...</td>\n",
       "    </tr>\n",
       "    <tr>\n",
       "      <th>2</th>\n",
       "      <td>100</td>\n",
       "      <td>oursins</td>\n",
       "      <td>1990</td>\n",
       "      <td>[chocolate, claras de huevo, avellanas tostada...</td>\n",
       "      <td>[horno, al horno, secar]</td>\n",
       "    </tr>\n",
       "    <tr>\n",
       "      <th>3</th>\n",
       "      <td>1000</td>\n",
       "      <td>ravioli sférico de té con cubo helado de limón</td>\n",
       "      <td>2004</td>\n",
       "      <td>[zumo de limón, limón, alginato sódico, agua, ...</td>\n",
       "      <td>[agua, cocer, fría]</td>\n",
       "    </tr>\n",
       "    <tr>\n",
       "      <th>4</th>\n",
       "      <td>1001</td>\n",
       "      <td>ceps en ámbar de su caldo</td>\n",
       "      <td>2004</td>\n",
       "      <td>[sal, caldo de ceps, carragenato kappa en polv...</td>\n",
       "      <td>[sal, asar, cocer, hervido, confitar, cazuela,...</td>\n",
       "    </tr>\n",
       "  </tbody>\n",
       "</table>\n",
       "</div>"
      ],
      "text/plain": [
       "    _id                                           title  year  \\\n",
       "0     1            terrina de melón con gelée de oporto  1987   \n",
       "1    10                                salmonetes gaudí  1987   \n",
       "2   100                                         oursins  1990   \n",
       "3  1000  ravioli sférico de té con cubo helado de limón  2004   \n",
       "4  1001                       ceps en ámbar de su caldo  2004   \n",
       "\n",
       "                                         ingredients  \\\n",
       "0  [oporto, aceite de oliva, agua, pimienta blanc...   \n",
       "1  [sal, pimiento, pimiento rojo, piñones tostado...   \n",
       "2  [chocolate, claras de huevo, avellanas tostada...   \n",
       "3  [zumo de limón, limón, alginato sódico, agua, ...   \n",
       "4  [sal, caldo de ceps, carragenato kappa en polv...   \n",
       "\n",
       "                                          techniques  \n",
       "0                                             [agua]  \n",
       "1  [sal, marcar, cocción, asado, hirviendo, horno...  \n",
       "2                           [horno, al horno, secar]  \n",
       "3                                [agua, cocer, fría]  \n",
       "4  [sal, asar, cocer, hervido, confitar, cazuela,...  "
      ]
     },
     "execution_count": 16,
     "metadata": {},
     "output_type": "execute_result"
    }
   ],
   "source": [
    "elbulli_raw_recipes_df.head()"
   ]
  },
  {
   "cell_type": "code",
   "execution_count": 17,
   "metadata": {
    "collapsed": true
   },
   "outputs": [],
   "source": [
    "elbulli_raw_recipes_df['creativity'] = elbulli_raw_recipes_df.apply(\n",
    "    lambda x: 10 if 1987 <= x['year'] <= 1997 else \\\n",
    "              20 if 1998 <= x['year'] <= 2001 else \\\n",
    "              30 if 2002 <= x['year'] <= 2005 else \\\n",
    "              'UNKOWN', axis=1)"
   ]
  },
  {
   "cell_type": "code",
   "execution_count": 18,
   "metadata": {
    "collapsed": false,
    "scrolled": true
   },
   "outputs": [
    {
     "data": {
      "text/html": [
       "<div>\n",
       "<table border=\"1\" class=\"dataframe\">\n",
       "  <thead>\n",
       "    <tr style=\"text-align: right;\">\n",
       "      <th></th>\n",
       "      <th>_id</th>\n",
       "      <th>title</th>\n",
       "      <th>year</th>\n",
       "      <th>ingredients</th>\n",
       "      <th>techniques</th>\n",
       "      <th>creativity</th>\n",
       "    </tr>\n",
       "  </thead>\n",
       "  <tbody>\n",
       "    <tr>\n",
       "      <th>0</th>\n",
       "      <td>1</td>\n",
       "      <td>terrina de melón con gelée de oporto</td>\n",
       "      <td>1987</td>\n",
       "      <td>[oporto, aceite de oliva, agua, pimienta blanc...</td>\n",
       "      <td>[agua]</td>\n",
       "      <td>10</td>\n",
       "    </tr>\n",
       "    <tr>\n",
       "      <th>1</th>\n",
       "      <td>10</td>\n",
       "      <td>salmonetes gaudí</td>\n",
       "      <td>1987</td>\n",
       "      <td>[sal, pimiento, pimiento rojo, piñones tostado...</td>\n",
       "      <td>[sal, marcar, cocción, asado, hirviendo, horno...</td>\n",
       "      <td>10</td>\n",
       "    </tr>\n",
       "    <tr>\n",
       "      <th>2</th>\n",
       "      <td>100</td>\n",
       "      <td>oursins</td>\n",
       "      <td>1990</td>\n",
       "      <td>[chocolate, claras de huevo, avellanas tostada...</td>\n",
       "      <td>[horno, al horno, secar]</td>\n",
       "      <td>10</td>\n",
       "    </tr>\n",
       "    <tr>\n",
       "      <th>3</th>\n",
       "      <td>1000</td>\n",
       "      <td>ravioli sférico de té con cubo helado de limón</td>\n",
       "      <td>2004</td>\n",
       "      <td>[zumo de limón, limón, alginato sódico, agua, ...</td>\n",
       "      <td>[agua, cocer, fría]</td>\n",
       "      <td>30</td>\n",
       "    </tr>\n",
       "    <tr>\n",
       "      <th>4</th>\n",
       "      <td>1001</td>\n",
       "      <td>ceps en ámbar de su caldo</td>\n",
       "      <td>2004</td>\n",
       "      <td>[sal, caldo de ceps, carragenato kappa en polv...</td>\n",
       "      <td>[sal, asar, cocer, hervido, confitar, cazuela,...</td>\n",
       "      <td>30</td>\n",
       "    </tr>\n",
       "  </tbody>\n",
       "</table>\n",
       "</div>"
      ],
      "text/plain": [
       "    _id                                           title  year  \\\n",
       "0     1            terrina de melón con gelée de oporto  1987   \n",
       "1    10                                salmonetes gaudí  1987   \n",
       "2   100                                         oursins  1990   \n",
       "3  1000  ravioli sférico de té con cubo helado de limón  2004   \n",
       "4  1001                       ceps en ámbar de su caldo  2004   \n",
       "\n",
       "                                         ingredients  \\\n",
       "0  [oporto, aceite de oliva, agua, pimienta blanc...   \n",
       "1  [sal, pimiento, pimiento rojo, piñones tostado...   \n",
       "2  [chocolate, claras de huevo, avellanas tostada...   \n",
       "3  [zumo de limón, limón, alginato sódico, agua, ...   \n",
       "4  [sal, caldo de ceps, carragenato kappa en polv...   \n",
       "\n",
       "                                          techniques  creativity  \n",
       "0                                             [agua]          10  \n",
       "1  [sal, marcar, cocción, asado, hirviendo, horno...          10  \n",
       "2                           [horno, al horno, secar]          10  \n",
       "3                                [agua, cocer, fría]          30  \n",
       "4  [sal, asar, cocer, hervido, confitar, cazuela,...          30  "
      ]
     },
     "execution_count": 18,
     "metadata": {},
     "output_type": "execute_result"
    }
   ],
   "source": [
    "elbulli_raw_recipes_df.head()"
   ]
  },
  {
   "cell_type": "markdown",
   "metadata": {},
   "source": [
    "### cookpad"
   ]
  },
  {
   "cell_type": "code",
   "execution_count": 19,
   "metadata": {
    "collapsed": false
   },
   "outputs": [],
   "source": [
    "cookpad_raw_recipes_df = pd.read_csv('data/dbs/recipes_cookpad_raw.csv')\n",
    "cookpad_raw_recipes_df = my_sample(cookpad_raw_recipes_df)"
   ]
  },
  {
   "cell_type": "code",
   "execution_count": 20,
   "metadata": {
    "collapsed": false
   },
   "outputs": [
    {
     "data": {
      "text/plain": [
       "(404, 5)"
      ]
     },
     "execution_count": 20,
     "metadata": {},
     "output_type": "execute_result"
    }
   ],
   "source": [
    "cookpad_raw_recipes_df.shape"
   ]
  },
  {
   "cell_type": "code",
   "execution_count": 21,
   "metadata": {
    "collapsed": false
   },
   "outputs": [
    {
     "data": {
      "text/html": [
       "<div>\n",
       "<table border=\"1\" class=\"dataframe\">\n",
       "  <thead>\n",
       "    <tr style=\"text-align: right;\">\n",
       "      <th></th>\n",
       "      <th>_id</th>\n",
       "      <th>title</th>\n",
       "      <th>year</th>\n",
       "      <th>ingredients</th>\n",
       "      <th>techniques</th>\n",
       "    </tr>\n",
       "  </thead>\n",
       "  <tbody>\n",
       "    <tr>\n",
       "      <th>17</th>\n",
       "      <td>100377</td>\n",
       "      <td>estofado de venado</td>\n",
       "      <td>2009</td>\n",
       "      <td>[\"laurel\",\"zanahorias\",\"aceite de oliva\",\"pimi...</td>\n",
       "      <td>[\"cocer\",\"a fuego lento\",\"freir\",\"sal\",\"julian...</td>\n",
       "    </tr>\n",
       "    <tr>\n",
       "      <th>18</th>\n",
       "      <td>100383</td>\n",
       "      <td>arroz con mariscos mejjicanna</td>\n",
       "      <td>2009</td>\n",
       "      <td>[\"guisantes\",\"azafran\",\"laurel\",\"calamar\",\"mar...</td>\n",
       "      <td>[\"sofrito\",\"frie\",\"hervir\",\"agua\"]</td>\n",
       "    </tr>\n",
       "    <tr>\n",
       "      <th>60</th>\n",
       "      <td>101081</td>\n",
       "      <td>garbanzos con tomate</td>\n",
       "      <td>2010</td>\n",
       "      <td>[\"salsa de tomate\",\"ajos\",\"garbanzos cocidos\",...</td>\n",
       "      <td>[\"cocemos\"]</td>\n",
       "    </tr>\n",
       "    <tr>\n",
       "      <th>77</th>\n",
       "      <td>101360</td>\n",
       "      <td>brazo gitano de gamba y surimi</td>\n",
       "      <td>2012</td>\n",
       "      <td>[\"pimientos\",\"mayonesa\",\"surimi\",\"huevos\",\"gam...</td>\n",
       "      <td>[\"rodajas\",\"pure\"]</td>\n",
       "    </tr>\n",
       "    <tr>\n",
       "      <th>81</th>\n",
       "      <td>101393</td>\n",
       "      <td>espinacas a la andaluza</td>\n",
       "      <td>2009</td>\n",
       "      <td>[\"aceite de oliva virgen\",\"comino\",\"vino\",\"esp...</td>\n",
       "      <td>[\"frito\",\"cocer\",\"a fuego lento\",\"cazuela\",\"sa...</td>\n",
       "    </tr>\n",
       "  </tbody>\n",
       "</table>\n",
       "</div>"
      ],
      "text/plain": [
       "       _id                           title  year  \\\n",
       "17  100377              estofado de venado  2009   \n",
       "18  100383   arroz con mariscos mejjicanna  2009   \n",
       "60  101081            garbanzos con tomate  2010   \n",
       "77  101360  brazo gitano de gamba y surimi  2012   \n",
       "81  101393         espinacas a la andaluza  2009   \n",
       "\n",
       "                                          ingredients  \\\n",
       "17  [\"laurel\",\"zanahorias\",\"aceite de oliva\",\"pimi...   \n",
       "18  [\"guisantes\",\"azafran\",\"laurel\",\"calamar\",\"mar...   \n",
       "60  [\"salsa de tomate\",\"ajos\",\"garbanzos cocidos\",...   \n",
       "77  [\"pimientos\",\"mayonesa\",\"surimi\",\"huevos\",\"gam...   \n",
       "81  [\"aceite de oliva virgen\",\"comino\",\"vino\",\"esp...   \n",
       "\n",
       "                                           techniques  \n",
       "17  [\"cocer\",\"a fuego lento\",\"freir\",\"sal\",\"julian...  \n",
       "18                 [\"sofrito\",\"frie\",\"hervir\",\"agua\"]  \n",
       "60                                        [\"cocemos\"]  \n",
       "77                                 [\"rodajas\",\"pure\"]  \n",
       "81  [\"frito\",\"cocer\",\"a fuego lento\",\"cazuela\",\"sa...  "
      ]
     },
     "execution_count": 21,
     "metadata": {},
     "output_type": "execute_result"
    }
   ],
   "source": [
    "cookpad_raw_recipes_df.head()"
   ]
  },
  {
   "cell_type": "code",
   "execution_count": 22,
   "metadata": {
    "collapsed": false
   },
   "outputs": [],
   "source": [
    "cookpad_raw_recipes_df['ingredients'] = cookpad_raw_recipes_df.apply(lambda x: json.loads(x['ingredients']), axis=1)\n",
    "cookpad_raw_recipes_df['techniques'] = cookpad_raw_recipes_df.apply(lambda x: json.loads(x['techniques']), axis=1)"
   ]
  },
  {
   "cell_type": "code",
   "execution_count": 23,
   "metadata": {
    "collapsed": false
   },
   "outputs": [
    {
     "data": {
      "text/html": [
       "<div>\n",
       "<table border=\"1\" class=\"dataframe\">\n",
       "  <thead>\n",
       "    <tr style=\"text-align: right;\">\n",
       "      <th></th>\n",
       "      <th>_id</th>\n",
       "      <th>title</th>\n",
       "      <th>year</th>\n",
       "      <th>ingredients</th>\n",
       "      <th>techniques</th>\n",
       "    </tr>\n",
       "  </thead>\n",
       "  <tbody>\n",
       "    <tr>\n",
       "      <th>17</th>\n",
       "      <td>100377</td>\n",
       "      <td>estofado de venado</td>\n",
       "      <td>2009</td>\n",
       "      <td>[laurel, zanahorias, aceite de oliva, pimienta...</td>\n",
       "      <td>[cocer, a fuego lento, freir, sal, juliana, agua]</td>\n",
       "    </tr>\n",
       "    <tr>\n",
       "      <th>18</th>\n",
       "      <td>100383</td>\n",
       "      <td>arroz con mariscos mejjicanna</td>\n",
       "      <td>2009</td>\n",
       "      <td>[guisantes, azafran, laurel, calamar, mariscos...</td>\n",
       "      <td>[sofrito, frie, hervir, agua]</td>\n",
       "    </tr>\n",
       "    <tr>\n",
       "      <th>60</th>\n",
       "      <td>101081</td>\n",
       "      <td>garbanzos con tomate</td>\n",
       "      <td>2010</td>\n",
       "      <td>[salsa de tomate, ajos, garbanzos cocidos, tom...</td>\n",
       "      <td>[cocemos]</td>\n",
       "    </tr>\n",
       "    <tr>\n",
       "      <th>77</th>\n",
       "      <td>101360</td>\n",
       "      <td>brazo gitano de gamba y surimi</td>\n",
       "      <td>2012</td>\n",
       "      <td>[pimientos, mayonesa, surimi, huevos, gambas, ...</td>\n",
       "      <td>[rodajas, pure]</td>\n",
       "    </tr>\n",
       "    <tr>\n",
       "      <th>81</th>\n",
       "      <td>101393</td>\n",
       "      <td>espinacas a la andaluza</td>\n",
       "      <td>2009</td>\n",
       "      <td>[aceite de oliva virgen, comino, vino, espinac...</td>\n",
       "      <td>[frito, cocer, a fuego lento, cazuela, sartén,...</td>\n",
       "    </tr>\n",
       "  </tbody>\n",
       "</table>\n",
       "</div>"
      ],
      "text/plain": [
       "       _id                           title  year  \\\n",
       "17  100377              estofado de venado  2009   \n",
       "18  100383   arroz con mariscos mejjicanna  2009   \n",
       "60  101081            garbanzos con tomate  2010   \n",
       "77  101360  brazo gitano de gamba y surimi  2012   \n",
       "81  101393         espinacas a la andaluza  2009   \n",
       "\n",
       "                                          ingredients  \\\n",
       "17  [laurel, zanahorias, aceite de oliva, pimienta...   \n",
       "18  [guisantes, azafran, laurel, calamar, mariscos...   \n",
       "60  [salsa de tomate, ajos, garbanzos cocidos, tom...   \n",
       "77  [pimientos, mayonesa, surimi, huevos, gambas, ...   \n",
       "81  [aceite de oliva virgen, comino, vino, espinac...   \n",
       "\n",
       "                                           techniques  \n",
       "17  [cocer, a fuego lento, freir, sal, juliana, agua]  \n",
       "18                      [sofrito, frie, hervir, agua]  \n",
       "60                                          [cocemos]  \n",
       "77                                    [rodajas, pure]  \n",
       "81  [frito, cocer, a fuego lento, cazuela, sartén,...  "
      ]
     },
     "execution_count": 23,
     "metadata": {},
     "output_type": "execute_result"
    }
   ],
   "source": [
    "cookpad_raw_recipes_df.head()"
   ]
  },
  {
   "cell_type": "code",
   "execution_count": 24,
   "metadata": {
    "collapsed": true
   },
   "outputs": [],
   "source": [
    "cookpad_raw_recipes_df['creativity'] = cookpad_raw_recipes_df.apply(\n",
    "    lambda x: 0, axis=1)"
   ]
  },
  {
   "cell_type": "code",
   "execution_count": 25,
   "metadata": {
    "collapsed": false,
    "scrolled": true
   },
   "outputs": [
    {
     "data": {
      "text/html": [
       "<div>\n",
       "<table border=\"1\" class=\"dataframe\">\n",
       "  <thead>\n",
       "    <tr style=\"text-align: right;\">\n",
       "      <th></th>\n",
       "      <th>_id</th>\n",
       "      <th>title</th>\n",
       "      <th>year</th>\n",
       "      <th>ingredients</th>\n",
       "      <th>techniques</th>\n",
       "      <th>creativity</th>\n",
       "    </tr>\n",
       "  </thead>\n",
       "  <tbody>\n",
       "    <tr>\n",
       "      <th>17</th>\n",
       "      <td>100377</td>\n",
       "      <td>estofado de venado</td>\n",
       "      <td>2009</td>\n",
       "      <td>[laurel, zanahorias, aceite de oliva, pimienta...</td>\n",
       "      <td>[cocer, a fuego lento, freir, sal, juliana, agua]</td>\n",
       "      <td>0</td>\n",
       "    </tr>\n",
       "    <tr>\n",
       "      <th>18</th>\n",
       "      <td>100383</td>\n",
       "      <td>arroz con mariscos mejjicanna</td>\n",
       "      <td>2009</td>\n",
       "      <td>[guisantes, azafran, laurel, calamar, mariscos...</td>\n",
       "      <td>[sofrito, frie, hervir, agua]</td>\n",
       "      <td>0</td>\n",
       "    </tr>\n",
       "    <tr>\n",
       "      <th>60</th>\n",
       "      <td>101081</td>\n",
       "      <td>garbanzos con tomate</td>\n",
       "      <td>2010</td>\n",
       "      <td>[salsa de tomate, ajos, garbanzos cocidos, tom...</td>\n",
       "      <td>[cocemos]</td>\n",
       "      <td>0</td>\n",
       "    </tr>\n",
       "    <tr>\n",
       "      <th>77</th>\n",
       "      <td>101360</td>\n",
       "      <td>brazo gitano de gamba y surimi</td>\n",
       "      <td>2012</td>\n",
       "      <td>[pimientos, mayonesa, surimi, huevos, gambas, ...</td>\n",
       "      <td>[rodajas, pure]</td>\n",
       "      <td>0</td>\n",
       "    </tr>\n",
       "    <tr>\n",
       "      <th>81</th>\n",
       "      <td>101393</td>\n",
       "      <td>espinacas a la andaluza</td>\n",
       "      <td>2009</td>\n",
       "      <td>[aceite de oliva virgen, comino, vino, espinac...</td>\n",
       "      <td>[frito, cocer, a fuego lento, cazuela, sartén,...</td>\n",
       "      <td>0</td>\n",
       "    </tr>\n",
       "  </tbody>\n",
       "</table>\n",
       "</div>"
      ],
      "text/plain": [
       "       _id                           title  year  \\\n",
       "17  100377              estofado de venado  2009   \n",
       "18  100383   arroz con mariscos mejjicanna  2009   \n",
       "60  101081            garbanzos con tomate  2010   \n",
       "77  101360  brazo gitano de gamba y surimi  2012   \n",
       "81  101393         espinacas a la andaluza  2009   \n",
       "\n",
       "                                          ingredients  \\\n",
       "17  [laurel, zanahorias, aceite de oliva, pimienta...   \n",
       "18  [guisantes, azafran, laurel, calamar, mariscos...   \n",
       "60  [salsa de tomate, ajos, garbanzos cocidos, tom...   \n",
       "77  [pimientos, mayonesa, surimi, huevos, gambas, ...   \n",
       "81  [aceite de oliva virgen, comino, vino, espinac...   \n",
       "\n",
       "                                           techniques  creativity  \n",
       "17  [cocer, a fuego lento, freir, sal, juliana, agua]           0  \n",
       "18                      [sofrito, frie, hervir, agua]           0  \n",
       "60                                          [cocemos]           0  \n",
       "77                                    [rodajas, pure]           0  \n",
       "81  [frito, cocer, a fuego lento, cazuela, sartén,...           0  "
      ]
     },
     "execution_count": 25,
     "metadata": {},
     "output_type": "execute_result"
    }
   ],
   "source": [
    "cookpad_raw_recipes_df.head()"
   ]
  },
  {
   "cell_type": "markdown",
   "metadata": {},
   "source": [
    "### elbulli & cookpad"
   ]
  },
  {
   "cell_type": "code",
   "execution_count": 26,
   "metadata": {
    "collapsed": true
   },
   "outputs": [],
   "source": [
    "raw_recipes_df = elbulli_raw_recipes_df.append(cookpad_raw_recipes_df, ignore_index=True)"
   ]
  },
  {
   "cell_type": "code",
   "execution_count": 27,
   "metadata": {
    "collapsed": false,
    "scrolled": true
   },
   "outputs": [
    {
     "data": {
      "text/html": [
       "<div>\n",
       "<table border=\"1\" class=\"dataframe\">\n",
       "  <thead>\n",
       "    <tr style=\"text-align: right;\">\n",
       "      <th></th>\n",
       "      <th>_id</th>\n",
       "      <th>title</th>\n",
       "      <th>year</th>\n",
       "      <th>ingredients</th>\n",
       "      <th>techniques</th>\n",
       "      <th>creativity</th>\n",
       "    </tr>\n",
       "  </thead>\n",
       "  <tbody>\n",
       "    <tr>\n",
       "      <th>0</th>\n",
       "      <td>1</td>\n",
       "      <td>terrina de melón con gelée de oporto</td>\n",
       "      <td>1987</td>\n",
       "      <td>[oporto, aceite de oliva, agua, pimienta blanc...</td>\n",
       "      <td>[agua]</td>\n",
       "      <td>10</td>\n",
       "    </tr>\n",
       "    <tr>\n",
       "      <th>1</th>\n",
       "      <td>10</td>\n",
       "      <td>salmonetes gaudí</td>\n",
       "      <td>1987</td>\n",
       "      <td>[sal, pimiento, pimiento rojo, piñones tostado...</td>\n",
       "      <td>[sal, marcar, cocción, asado, hirviendo, horno...</td>\n",
       "      <td>10</td>\n",
       "    </tr>\n",
       "    <tr>\n",
       "      <th>2</th>\n",
       "      <td>100</td>\n",
       "      <td>oursins</td>\n",
       "      <td>1990</td>\n",
       "      <td>[chocolate, claras de huevo, avellanas tostada...</td>\n",
       "      <td>[horno, al horno, secar]</td>\n",
       "      <td>10</td>\n",
       "    </tr>\n",
       "    <tr>\n",
       "      <th>3</th>\n",
       "      <td>1000</td>\n",
       "      <td>ravioli sférico de té con cubo helado de limón</td>\n",
       "      <td>2004</td>\n",
       "      <td>[zumo de limón, limón, alginato sódico, agua, ...</td>\n",
       "      <td>[agua, cocer, fría]</td>\n",
       "      <td>30</td>\n",
       "    </tr>\n",
       "    <tr>\n",
       "      <th>4</th>\n",
       "      <td>1001</td>\n",
       "      <td>ceps en ámbar de su caldo</td>\n",
       "      <td>2004</td>\n",
       "      <td>[sal, caldo de ceps, carragenato kappa en polv...</td>\n",
       "      <td>[sal, asar, cocer, hervido, confitar, cazuela,...</td>\n",
       "      <td>30</td>\n",
       "    </tr>\n",
       "  </tbody>\n",
       "</table>\n",
       "</div>"
      ],
      "text/plain": [
       "    _id                                           title  year  \\\n",
       "0     1            terrina de melón con gelée de oporto  1987   \n",
       "1    10                                salmonetes gaudí  1987   \n",
       "2   100                                         oursins  1990   \n",
       "3  1000  ravioli sférico de té con cubo helado de limón  2004   \n",
       "4  1001                       ceps en ámbar de su caldo  2004   \n",
       "\n",
       "                                         ingredients  \\\n",
       "0  [oporto, aceite de oliva, agua, pimienta blanc...   \n",
       "1  [sal, pimiento, pimiento rojo, piñones tostado...   \n",
       "2  [chocolate, claras de huevo, avellanas tostada...   \n",
       "3  [zumo de limón, limón, alginato sódico, agua, ...   \n",
       "4  [sal, caldo de ceps, carragenato kappa en polv...   \n",
       "\n",
       "                                          techniques  creativity  \n",
       "0                                             [agua]          10  \n",
       "1  [sal, marcar, cocción, asado, hirviendo, horno...          10  \n",
       "2                           [horno, al horno, secar]          10  \n",
       "3                                [agua, cocer, fría]          30  \n",
       "4  [sal, asar, cocer, hervido, confitar, cazuela,...          30  "
      ]
     },
     "execution_count": 27,
     "metadata": {},
     "output_type": "execute_result"
    }
   ],
   "source": [
    "raw_recipes_df.head()"
   ]
  },
  {
   "cell_type": "code",
   "execution_count": 28,
   "metadata": {
    "collapsed": false
   },
   "outputs": [
    {
     "data": {
      "text/html": [
       "<div>\n",
       "<table border=\"1\" class=\"dataframe\">\n",
       "  <thead>\n",
       "    <tr style=\"text-align: right;\">\n",
       "      <th></th>\n",
       "      <th>_id</th>\n",
       "      <th>title</th>\n",
       "      <th>year</th>\n",
       "      <th>ingredients</th>\n",
       "      <th>techniques</th>\n",
       "      <th>creativity</th>\n",
       "    </tr>\n",
       "  </thead>\n",
       "  <tbody>\n",
       "    <tr>\n",
       "      <th>1613</th>\n",
       "      <td>99341</td>\n",
       "      <td>refrito de col y garbanzos</td>\n",
       "      <td>2009</td>\n",
       "      <td>[aceite de oliva, pimienta, ajo, col, bacon, g...</td>\n",
       "      <td>[dorar, cocer, hervir, dore, sartén, sal, en a...</td>\n",
       "      <td>0</td>\n",
       "    </tr>\n",
       "    <tr>\n",
       "      <th>1614</th>\n",
       "      <td>99733</td>\n",
       "      <td>roscón de villalba</td>\n",
       "      <td>2009</td>\n",
       "      <td>[huevos, guindillas, almendras, azúcar]</td>\n",
       "      <td>[al horno, dore, cocer]</td>\n",
       "      <td>0</td>\n",
       "    </tr>\n",
       "    <tr>\n",
       "      <th>1615</th>\n",
       "      <td>99741</td>\n",
       "      <td>tarta de santiago tradicional</td>\n",
       "      <td>2009</td>\n",
       "      <td>[almendras, huevo, mantequilla, azúcar glas, h...</td>\n",
       "      <td>[dora, hornear, relleno, agua, horno]</td>\n",
       "      <td>0</td>\n",
       "    </tr>\n",
       "    <tr>\n",
       "      <th>1616</th>\n",
       "      <td>99839</td>\n",
       "      <td>cogote de merluza a la donostierra</td>\n",
       "      <td>2009</td>\n",
       "      <td>[merluza, ajo, guindilla, oliva, vinagre]</td>\n",
       "      <td>[sarten, sal, plancha]</td>\n",
       "      <td>0</td>\n",
       "    </tr>\n",
       "    <tr>\n",
       "      <th>1617</th>\n",
       "      <td>99963</td>\n",
       "      <td>flan de huevo en microondas</td>\n",
       "      <td>2009</td>\n",
       "      <td>[huevos, leche condensada, leche entera]</td>\n",
       "      <td>[microondas, caramelizado]</td>\n",
       "      <td>0</td>\n",
       "    </tr>\n",
       "  </tbody>\n",
       "</table>\n",
       "</div>"
      ],
      "text/plain": [
       "        _id                               title  year  \\\n",
       "1613  99341          refrito de col y garbanzos  2009   \n",
       "1614  99733                  roscón de villalba  2009   \n",
       "1615  99741       tarta de santiago tradicional  2009   \n",
       "1616  99839  cogote de merluza a la donostierra  2009   \n",
       "1617  99963         flan de huevo en microondas  2009   \n",
       "\n",
       "                                            ingredients  \\\n",
       "1613  [aceite de oliva, pimienta, ajo, col, bacon, g...   \n",
       "1614            [huevos, guindillas, almendras, azúcar]   \n",
       "1615  [almendras, huevo, mantequilla, azúcar glas, h...   \n",
       "1616          [merluza, ajo, guindilla, oliva, vinagre]   \n",
       "1617           [huevos, leche condensada, leche entera]   \n",
       "\n",
       "                                             techniques  creativity  \n",
       "1613  [dorar, cocer, hervir, dore, sartén, sal, en a...           0  \n",
       "1614                            [al horno, dore, cocer]           0  \n",
       "1615              [dora, hornear, relleno, agua, horno]           0  \n",
       "1616                             [sarten, sal, plancha]           0  \n",
       "1617                         [microondas, caramelizado]           0  "
      ]
     },
     "execution_count": 28,
     "metadata": {},
     "output_type": "execute_result"
    }
   ],
   "source": [
    "raw_recipes_df.tail()"
   ]
  },
  {
   "cell_type": "markdown",
   "metadata": {},
   "source": [
    "## Representative ingredients and techniques"
   ]
  },
  {
   "cell_type": "markdown",
   "metadata": {},
   "source": [
    "### elbulli"
   ]
  },
  {
   "cell_type": "code",
   "execution_count": 29,
   "metadata": {
    "collapsed": false
   },
   "outputs": [],
   "source": [
    "elbulli_repr_recipes_df = pd.read_csv('data/dbs/recipes_elbulli_representatives.csv')"
   ]
  },
  {
   "cell_type": "code",
   "execution_count": 30,
   "metadata": {
    "collapsed": false
   },
   "outputs": [
    {
     "data": {
      "text/plain": [
       "_id             int64\n",
       "title          object\n",
       "year            int64\n",
       "ingredients    object\n",
       "techniques     object\n",
       "dtype: object"
      ]
     },
     "execution_count": 30,
     "metadata": {},
     "output_type": "execute_result"
    }
   ],
   "source": [
    "elbulli_repr_recipes_df.dtypes"
   ]
  },
  {
   "cell_type": "code",
   "execution_count": 31,
   "metadata": {
    "collapsed": false
   },
   "outputs": [
    {
     "data": {
      "text/html": [
       "<div>\n",
       "<table border=\"1\" class=\"dataframe\">\n",
       "  <thead>\n",
       "    <tr style=\"text-align: right;\">\n",
       "      <th></th>\n",
       "      <th>_id</th>\n",
       "      <th>title</th>\n",
       "      <th>year</th>\n",
       "      <th>ingredients</th>\n",
       "      <th>techniques</th>\n",
       "    </tr>\n",
       "  </thead>\n",
       "  <tbody>\n",
       "    <tr>\n",
       "      <th>0</th>\n",
       "      <td>1</td>\n",
       "      <td>terrina de melón con gelée de oporto</td>\n",
       "      <td>1987</td>\n",
       "      <td>[\"oporto\",\"aceite de oliva\",\"agua\",\"pimienta b...</td>\n",
       "      <td>[\"agua\"]</td>\n",
       "    </tr>\n",
       "    <tr>\n",
       "      <th>1</th>\n",
       "      <td>10</td>\n",
       "      <td>salmonetes gaudí</td>\n",
       "      <td>1987</td>\n",
       "      <td>[\"sal\",\"pimientos\",\"pimiento rojo\",\"piñones to...</td>\n",
       "      <td>[\"sal\",\"marcar\",\"cocción\",\"horno\",\"hervir\",\"ho...</td>\n",
       "    </tr>\n",
       "    <tr>\n",
       "      <th>2</th>\n",
       "      <td>100</td>\n",
       "      <td>oursins</td>\n",
       "      <td>1990</td>\n",
       "      <td>[\"chocolate\",\"claras de huevo\",\"avellanas tost...</td>\n",
       "      <td>[\"horno\",\"horno\",\"secar\"]</td>\n",
       "    </tr>\n",
       "    <tr>\n",
       "      <th>3</th>\n",
       "      <td>1000</td>\n",
       "      <td>ravioli sférico de té con cubo helado de limón</td>\n",
       "      <td>2004</td>\n",
       "      <td>[\"zumo de limón\",\"limón\",\"alginato sódico\",\"ag...</td>\n",
       "      <td>[\"agua\",\"cocer\",\"horno\"]</td>\n",
       "    </tr>\n",
       "    <tr>\n",
       "      <th>4</th>\n",
       "      <td>1001</td>\n",
       "      <td>ceps en ámbar de su caldo</td>\n",
       "      <td>2004</td>\n",
       "      <td>[\"sal\",\"caldo de ceps\",\"carragenato kappa en p...</td>\n",
       "      <td>[\"sal\",\"horno\",\"cocer\",\"hervir\",\"confitar\",\"ca...</td>\n",
       "    </tr>\n",
       "  </tbody>\n",
       "</table>\n",
       "</div>"
      ],
      "text/plain": [
       "    _id                                           title  year  \\\n",
       "0     1            terrina de melón con gelée de oporto  1987   \n",
       "1    10                                salmonetes gaudí  1987   \n",
       "2   100                                         oursins  1990   \n",
       "3  1000  ravioli sférico de té con cubo helado de limón  2004   \n",
       "4  1001                       ceps en ámbar de su caldo  2004   \n",
       "\n",
       "                                         ingredients  \\\n",
       "0  [\"oporto\",\"aceite de oliva\",\"agua\",\"pimienta b...   \n",
       "1  [\"sal\",\"pimientos\",\"pimiento rojo\",\"piñones to...   \n",
       "2  [\"chocolate\",\"claras de huevo\",\"avellanas tost...   \n",
       "3  [\"zumo de limón\",\"limón\",\"alginato sódico\",\"ag...   \n",
       "4  [\"sal\",\"caldo de ceps\",\"carragenato kappa en p...   \n",
       "\n",
       "                                          techniques  \n",
       "0                                           [\"agua\"]  \n",
       "1  [\"sal\",\"marcar\",\"cocción\",\"horno\",\"hervir\",\"ho...  \n",
       "2                          [\"horno\",\"horno\",\"secar\"]  \n",
       "3                           [\"agua\",\"cocer\",\"horno\"]  \n",
       "4  [\"sal\",\"horno\",\"cocer\",\"hervir\",\"confitar\",\"ca...  "
      ]
     },
     "execution_count": 31,
     "metadata": {},
     "output_type": "execute_result"
    }
   ],
   "source": [
    "elbulli_repr_recipes_df.head()"
   ]
  },
  {
   "cell_type": "code",
   "execution_count": 32,
   "metadata": {
    "collapsed": false
   },
   "outputs": [],
   "source": [
    "elbulli_repr_recipes_df['ingredients'] = elbulli_repr_recipes_df.apply(lambda x: json.loads(x['ingredients']), axis=1)\n",
    "elbulli_repr_recipes_df['techniques'] = elbulli_repr_recipes_df.apply(lambda x: json.loads(x['techniques']), axis=1)"
   ]
  },
  {
   "cell_type": "code",
   "execution_count": 33,
   "metadata": {
    "collapsed": false
   },
   "outputs": [
    {
     "data": {
      "text/html": [
       "<div>\n",
       "<table border=\"1\" class=\"dataframe\">\n",
       "  <thead>\n",
       "    <tr style=\"text-align: right;\">\n",
       "      <th></th>\n",
       "      <th>_id</th>\n",
       "      <th>title</th>\n",
       "      <th>year</th>\n",
       "      <th>ingredients</th>\n",
       "      <th>techniques</th>\n",
       "    </tr>\n",
       "  </thead>\n",
       "  <tbody>\n",
       "    <tr>\n",
       "      <th>0</th>\n",
       "      <td>1</td>\n",
       "      <td>terrina de melón con gelée de oporto</td>\n",
       "      <td>1987</td>\n",
       "      <td>[oporto, aceite de oliva, agua, pimienta blanc...</td>\n",
       "      <td>[agua]</td>\n",
       "    </tr>\n",
       "    <tr>\n",
       "      <th>1</th>\n",
       "      <td>10</td>\n",
       "      <td>salmonetes gaudí</td>\n",
       "      <td>1987</td>\n",
       "      <td>[sal, pimientos, pimiento rojo, piñones tostad...</td>\n",
       "      <td>[sal, marcar, cocción, horno, hervir, horno, s...</td>\n",
       "    </tr>\n",
       "    <tr>\n",
       "      <th>2</th>\n",
       "      <td>100</td>\n",
       "      <td>oursins</td>\n",
       "      <td>1990</td>\n",
       "      <td>[chocolate, claras de huevo, avellanas tostada...</td>\n",
       "      <td>[horno, horno, secar]</td>\n",
       "    </tr>\n",
       "    <tr>\n",
       "      <th>3</th>\n",
       "      <td>1000</td>\n",
       "      <td>ravioli sférico de té con cubo helado de limón</td>\n",
       "      <td>2004</td>\n",
       "      <td>[zumo de limón, limón, alginato sódico, agua, ...</td>\n",
       "      <td>[agua, cocer, horno]</td>\n",
       "    </tr>\n",
       "    <tr>\n",
       "      <th>4</th>\n",
       "      <td>1001</td>\n",
       "      <td>ceps en ámbar de su caldo</td>\n",
       "      <td>2004</td>\n",
       "      <td>[sal, caldo de ceps, carragenato kappa en polv...</td>\n",
       "      <td>[sal, horno, cocer, hervir, confitar, cazuela,...</td>\n",
       "    </tr>\n",
       "  </tbody>\n",
       "</table>\n",
       "</div>"
      ],
      "text/plain": [
       "    _id                                           title  year  \\\n",
       "0     1            terrina de melón con gelée de oporto  1987   \n",
       "1    10                                salmonetes gaudí  1987   \n",
       "2   100                                         oursins  1990   \n",
       "3  1000  ravioli sférico de té con cubo helado de limón  2004   \n",
       "4  1001                       ceps en ámbar de su caldo  2004   \n",
       "\n",
       "                                         ingredients  \\\n",
       "0  [oporto, aceite de oliva, agua, pimienta blanc...   \n",
       "1  [sal, pimientos, pimiento rojo, piñones tostad...   \n",
       "2  [chocolate, claras de huevo, avellanas tostada...   \n",
       "3  [zumo de limón, limón, alginato sódico, agua, ...   \n",
       "4  [sal, caldo de ceps, carragenato kappa en polv...   \n",
       "\n",
       "                                          techniques  \n",
       "0                                             [agua]  \n",
       "1  [sal, marcar, cocción, horno, hervir, horno, s...  \n",
       "2                              [horno, horno, secar]  \n",
       "3                               [agua, cocer, horno]  \n",
       "4  [sal, horno, cocer, hervir, confitar, cazuela,...  "
      ]
     },
     "execution_count": 33,
     "metadata": {},
     "output_type": "execute_result"
    }
   ],
   "source": [
    "elbulli_repr_recipes_df.head()"
   ]
  },
  {
   "cell_type": "code",
   "execution_count": 34,
   "metadata": {
    "collapsed": true
   },
   "outputs": [],
   "source": [
    "elbulli_repr_recipes_df['creativity'] = elbulli_repr_recipes_df.apply(\n",
    "    lambda x: 10 if 1987 <= x['year'] <= 1997 else \\\n",
    "              20 if 1998 <= x['year'] <= 2001 else \\\n",
    "              30 if 2002 <= x['year'] <= 2005 else \\\n",
    "              'UNKOWN', axis=1)"
   ]
  },
  {
   "cell_type": "code",
   "execution_count": 35,
   "metadata": {
    "collapsed": false,
    "scrolled": true
   },
   "outputs": [
    {
     "data": {
      "text/html": [
       "<div>\n",
       "<table border=\"1\" class=\"dataframe\">\n",
       "  <thead>\n",
       "    <tr style=\"text-align: right;\">\n",
       "      <th></th>\n",
       "      <th>_id</th>\n",
       "      <th>title</th>\n",
       "      <th>year</th>\n",
       "      <th>ingredients</th>\n",
       "      <th>techniques</th>\n",
       "      <th>creativity</th>\n",
       "    </tr>\n",
       "  </thead>\n",
       "  <tbody>\n",
       "    <tr>\n",
       "      <th>0</th>\n",
       "      <td>1</td>\n",
       "      <td>terrina de melón con gelée de oporto</td>\n",
       "      <td>1987</td>\n",
       "      <td>[oporto, aceite de oliva, agua, pimienta blanc...</td>\n",
       "      <td>[agua]</td>\n",
       "      <td>10</td>\n",
       "    </tr>\n",
       "    <tr>\n",
       "      <th>1</th>\n",
       "      <td>10</td>\n",
       "      <td>salmonetes gaudí</td>\n",
       "      <td>1987</td>\n",
       "      <td>[sal, pimientos, pimiento rojo, piñones tostad...</td>\n",
       "      <td>[sal, marcar, cocción, horno, hervir, horno, s...</td>\n",
       "      <td>10</td>\n",
       "    </tr>\n",
       "    <tr>\n",
       "      <th>2</th>\n",
       "      <td>100</td>\n",
       "      <td>oursins</td>\n",
       "      <td>1990</td>\n",
       "      <td>[chocolate, claras de huevo, avellanas tostada...</td>\n",
       "      <td>[horno, horno, secar]</td>\n",
       "      <td>10</td>\n",
       "    </tr>\n",
       "    <tr>\n",
       "      <th>3</th>\n",
       "      <td>1000</td>\n",
       "      <td>ravioli sférico de té con cubo helado de limón</td>\n",
       "      <td>2004</td>\n",
       "      <td>[zumo de limón, limón, alginato sódico, agua, ...</td>\n",
       "      <td>[agua, cocer, horno]</td>\n",
       "      <td>30</td>\n",
       "    </tr>\n",
       "    <tr>\n",
       "      <th>4</th>\n",
       "      <td>1001</td>\n",
       "      <td>ceps en ámbar de su caldo</td>\n",
       "      <td>2004</td>\n",
       "      <td>[sal, caldo de ceps, carragenato kappa en polv...</td>\n",
       "      <td>[sal, horno, cocer, hervir, confitar, cazuela,...</td>\n",
       "      <td>30</td>\n",
       "    </tr>\n",
       "  </tbody>\n",
       "</table>\n",
       "</div>"
      ],
      "text/plain": [
       "    _id                                           title  year  \\\n",
       "0     1            terrina de melón con gelée de oporto  1987   \n",
       "1    10                                salmonetes gaudí  1987   \n",
       "2   100                                         oursins  1990   \n",
       "3  1000  ravioli sférico de té con cubo helado de limón  2004   \n",
       "4  1001                       ceps en ámbar de su caldo  2004   \n",
       "\n",
       "                                         ingredients  \\\n",
       "0  [oporto, aceite de oliva, agua, pimienta blanc...   \n",
       "1  [sal, pimientos, pimiento rojo, piñones tostad...   \n",
       "2  [chocolate, claras de huevo, avellanas tostada...   \n",
       "3  [zumo de limón, limón, alginato sódico, agua, ...   \n",
       "4  [sal, caldo de ceps, carragenato kappa en polv...   \n",
       "\n",
       "                                          techniques  creativity  \n",
       "0                                             [agua]          10  \n",
       "1  [sal, marcar, cocción, horno, hervir, horno, s...          10  \n",
       "2                              [horno, horno, secar]          10  \n",
       "3                               [agua, cocer, horno]          30  \n",
       "4  [sal, horno, cocer, hervir, confitar, cazuela,...          30  "
      ]
     },
     "execution_count": 35,
     "metadata": {},
     "output_type": "execute_result"
    }
   ],
   "source": [
    "elbulli_repr_recipes_df.head()"
   ]
  },
  {
   "cell_type": "markdown",
   "metadata": {},
   "source": [
    "### cookpad"
   ]
  },
  {
   "cell_type": "code",
   "execution_count": 36,
   "metadata": {
    "collapsed": false
   },
   "outputs": [],
   "source": [
    "cookpad_repr_recipes_df = pd.read_csv('data/dbs/recipes_cookpad_representatives.csv')\n",
    "cookpad_repr_recipes_df = my_sample(cookpad_repr_recipes_df)"
   ]
  },
  {
   "cell_type": "code",
   "execution_count": 37,
   "metadata": {
    "collapsed": false
   },
   "outputs": [
    {
     "data": {
      "text/plain": [
       "(404, 5)"
      ]
     },
     "execution_count": 37,
     "metadata": {},
     "output_type": "execute_result"
    }
   ],
   "source": [
    "cookpad_repr_recipes_df.shape"
   ]
  },
  {
   "cell_type": "code",
   "execution_count": 38,
   "metadata": {
    "collapsed": false
   },
   "outputs": [
    {
     "data": {
      "text/html": [
       "<div>\n",
       "<table border=\"1\" class=\"dataframe\">\n",
       "  <thead>\n",
       "    <tr style=\"text-align: right;\">\n",
       "      <th></th>\n",
       "      <th>_id</th>\n",
       "      <th>title</th>\n",
       "      <th>year</th>\n",
       "      <th>ingredients</th>\n",
       "      <th>techniques</th>\n",
       "    </tr>\n",
       "  </thead>\n",
       "  <tbody>\n",
       "    <tr>\n",
       "      <th>17</th>\n",
       "      <td>100377</td>\n",
       "      <td>estofado de venado</td>\n",
       "      <td>2009</td>\n",
       "      <td>[\"laurel\",\"zanahoria\",\"aceite de oliva\",\"pimie...</td>\n",
       "      <td>[\"cocer\",\"a fuego lento\",\"horno\",\"sal\",\"julian...</td>\n",
       "    </tr>\n",
       "    <tr>\n",
       "      <th>18</th>\n",
       "      <td>100383</td>\n",
       "      <td>arroz con mariscos mejjicanna</td>\n",
       "      <td>2009</td>\n",
       "      <td>[\"guisantes\",\"azafrán\",\"laurel\",\"calamares\",\"m...</td>\n",
       "      <td>[\"horno\",\"horno\",\"hervir\",\"agua\"]</td>\n",
       "    </tr>\n",
       "    <tr>\n",
       "      <th>60</th>\n",
       "      <td>101081</td>\n",
       "      <td>garbanzos con tomate</td>\n",
       "      <td>2010</td>\n",
       "      <td>[\"salsa de tomate\",\"ajo\",\"garbanzos cocidos\",\"...</td>\n",
       "      <td>[\"cocer\"]</td>\n",
       "    </tr>\n",
       "    <tr>\n",
       "      <th>77</th>\n",
       "      <td>101360</td>\n",
       "      <td>brazo gitano de gamba y surimi</td>\n",
       "      <td>2012</td>\n",
       "      <td>[\"pimiento\",\"mayonesa\",\"surimi\",\"huevos\",\"gamb...</td>\n",
       "      <td>[\"en rodajas\",\"puré\"]</td>\n",
       "    </tr>\n",
       "    <tr>\n",
       "      <th>81</th>\n",
       "      <td>101393</td>\n",
       "      <td>espinacas a la andaluza</td>\n",
       "      <td>2009</td>\n",
       "      <td>[\"aceite de oliva virgen\",\"comino\",\"vino\",\"esp...</td>\n",
       "      <td>[\"horno\",\"cocer\",\"a fuego lento\",\"cazuela\",\"sa...</td>\n",
       "    </tr>\n",
       "  </tbody>\n",
       "</table>\n",
       "</div>"
      ],
      "text/plain": [
       "       _id                           title  year  \\\n",
       "17  100377              estofado de venado  2009   \n",
       "18  100383   arroz con mariscos mejjicanna  2009   \n",
       "60  101081            garbanzos con tomate  2010   \n",
       "77  101360  brazo gitano de gamba y surimi  2012   \n",
       "81  101393         espinacas a la andaluza  2009   \n",
       "\n",
       "                                          ingredients  \\\n",
       "17  [\"laurel\",\"zanahoria\",\"aceite de oliva\",\"pimie...   \n",
       "18  [\"guisantes\",\"azafrán\",\"laurel\",\"calamares\",\"m...   \n",
       "60  [\"salsa de tomate\",\"ajo\",\"garbanzos cocidos\",\"...   \n",
       "77  [\"pimiento\",\"mayonesa\",\"surimi\",\"huevos\",\"gamb...   \n",
       "81  [\"aceite de oliva virgen\",\"comino\",\"vino\",\"esp...   \n",
       "\n",
       "                                           techniques  \n",
       "17  [\"cocer\",\"a fuego lento\",\"horno\",\"sal\",\"julian...  \n",
       "18                  [\"horno\",\"horno\",\"hervir\",\"agua\"]  \n",
       "60                                          [\"cocer\"]  \n",
       "77                              [\"en rodajas\",\"puré\"]  \n",
       "81  [\"horno\",\"cocer\",\"a fuego lento\",\"cazuela\",\"sa...  "
      ]
     },
     "execution_count": 38,
     "metadata": {},
     "output_type": "execute_result"
    }
   ],
   "source": [
    "cookpad_repr_recipes_df.head()"
   ]
  },
  {
   "cell_type": "code",
   "execution_count": 39,
   "metadata": {
    "collapsed": false
   },
   "outputs": [],
   "source": [
    "cookpad_repr_recipes_df['ingredients'] = cookpad_repr_recipes_df.apply(lambda x: json.loads(x['ingredients']), axis=1)\n",
    "cookpad_repr_recipes_df['techniques'] = cookpad_repr_recipes_df.apply(lambda x: json.loads(x['techniques']), axis=1)"
   ]
  },
  {
   "cell_type": "code",
   "execution_count": 40,
   "metadata": {
    "collapsed": false
   },
   "outputs": [
    {
     "data": {
      "text/html": [
       "<div>\n",
       "<table border=\"1\" class=\"dataframe\">\n",
       "  <thead>\n",
       "    <tr style=\"text-align: right;\">\n",
       "      <th></th>\n",
       "      <th>_id</th>\n",
       "      <th>title</th>\n",
       "      <th>year</th>\n",
       "      <th>ingredients</th>\n",
       "      <th>techniques</th>\n",
       "    </tr>\n",
       "  </thead>\n",
       "  <tbody>\n",
       "    <tr>\n",
       "      <th>17</th>\n",
       "      <td>100377</td>\n",
       "      <td>estofado de venado</td>\n",
       "      <td>2009</td>\n",
       "      <td>[laurel, zanahoria, aceite de oliva, pimienta,...</td>\n",
       "      <td>[cocer, a fuego lento, horno, sal, juliana, agua]</td>\n",
       "    </tr>\n",
       "    <tr>\n",
       "      <th>18</th>\n",
       "      <td>100383</td>\n",
       "      <td>arroz con mariscos mejjicanna</td>\n",
       "      <td>2009</td>\n",
       "      <td>[guisantes, azafrán, laurel, calamares, marisc...</td>\n",
       "      <td>[horno, horno, hervir, agua]</td>\n",
       "    </tr>\n",
       "    <tr>\n",
       "      <th>60</th>\n",
       "      <td>101081</td>\n",
       "      <td>garbanzos con tomate</td>\n",
       "      <td>2010</td>\n",
       "      <td>[salsa de tomate, ajo, garbanzos cocidos, tomi...</td>\n",
       "      <td>[cocer]</td>\n",
       "    </tr>\n",
       "    <tr>\n",
       "      <th>77</th>\n",
       "      <td>101360</td>\n",
       "      <td>brazo gitano de gamba y surimi</td>\n",
       "      <td>2012</td>\n",
       "      <td>[pimiento, mayonesa, surimi, huevos, gambas, p...</td>\n",
       "      <td>[en rodajas, puré]</td>\n",
       "    </tr>\n",
       "    <tr>\n",
       "      <th>81</th>\n",
       "      <td>101393</td>\n",
       "      <td>espinacas a la andaluza</td>\n",
       "      <td>2009</td>\n",
       "      <td>[aceite de oliva virgen, comino, vino, espinac...</td>\n",
       "      <td>[horno, cocer, a fuego lento, cazuela, sartén,...</td>\n",
       "    </tr>\n",
       "  </tbody>\n",
       "</table>\n",
       "</div>"
      ],
      "text/plain": [
       "       _id                           title  year  \\\n",
       "17  100377              estofado de venado  2009   \n",
       "18  100383   arroz con mariscos mejjicanna  2009   \n",
       "60  101081            garbanzos con tomate  2010   \n",
       "77  101360  brazo gitano de gamba y surimi  2012   \n",
       "81  101393         espinacas a la andaluza  2009   \n",
       "\n",
       "                                          ingredients  \\\n",
       "17  [laurel, zanahoria, aceite de oliva, pimienta,...   \n",
       "18  [guisantes, azafrán, laurel, calamares, marisc...   \n",
       "60  [salsa de tomate, ajo, garbanzos cocidos, tomi...   \n",
       "77  [pimiento, mayonesa, surimi, huevos, gambas, p...   \n",
       "81  [aceite de oliva virgen, comino, vino, espinac...   \n",
       "\n",
       "                                           techniques  \n",
       "17  [cocer, a fuego lento, horno, sal, juliana, agua]  \n",
       "18                       [horno, horno, hervir, agua]  \n",
       "60                                            [cocer]  \n",
       "77                                 [en rodajas, puré]  \n",
       "81  [horno, cocer, a fuego lento, cazuela, sartén,...  "
      ]
     },
     "execution_count": 40,
     "metadata": {},
     "output_type": "execute_result"
    }
   ],
   "source": [
    "cookpad_repr_recipes_df.head()"
   ]
  },
  {
   "cell_type": "code",
   "execution_count": 41,
   "metadata": {
    "collapsed": true
   },
   "outputs": [],
   "source": [
    "cookpad_repr_recipes_df['creativity'] = cookpad_repr_recipes_df.apply(\n",
    "    lambda x: 0, axis=1)"
   ]
  },
  {
   "cell_type": "code",
   "execution_count": 42,
   "metadata": {
    "collapsed": false,
    "scrolled": true
   },
   "outputs": [
    {
     "data": {
      "text/html": [
       "<div>\n",
       "<table border=\"1\" class=\"dataframe\">\n",
       "  <thead>\n",
       "    <tr style=\"text-align: right;\">\n",
       "      <th></th>\n",
       "      <th>_id</th>\n",
       "      <th>title</th>\n",
       "      <th>year</th>\n",
       "      <th>ingredients</th>\n",
       "      <th>techniques</th>\n",
       "      <th>creativity</th>\n",
       "    </tr>\n",
       "  </thead>\n",
       "  <tbody>\n",
       "    <tr>\n",
       "      <th>17</th>\n",
       "      <td>100377</td>\n",
       "      <td>estofado de venado</td>\n",
       "      <td>2009</td>\n",
       "      <td>[laurel, zanahoria, aceite de oliva, pimienta,...</td>\n",
       "      <td>[cocer, a fuego lento, horno, sal, juliana, agua]</td>\n",
       "      <td>0</td>\n",
       "    </tr>\n",
       "    <tr>\n",
       "      <th>18</th>\n",
       "      <td>100383</td>\n",
       "      <td>arroz con mariscos mejjicanna</td>\n",
       "      <td>2009</td>\n",
       "      <td>[guisantes, azafrán, laurel, calamares, marisc...</td>\n",
       "      <td>[horno, horno, hervir, agua]</td>\n",
       "      <td>0</td>\n",
       "    </tr>\n",
       "    <tr>\n",
       "      <th>60</th>\n",
       "      <td>101081</td>\n",
       "      <td>garbanzos con tomate</td>\n",
       "      <td>2010</td>\n",
       "      <td>[salsa de tomate, ajo, garbanzos cocidos, tomi...</td>\n",
       "      <td>[cocer]</td>\n",
       "      <td>0</td>\n",
       "    </tr>\n",
       "    <tr>\n",
       "      <th>77</th>\n",
       "      <td>101360</td>\n",
       "      <td>brazo gitano de gamba y surimi</td>\n",
       "      <td>2012</td>\n",
       "      <td>[pimiento, mayonesa, surimi, huevos, gambas, p...</td>\n",
       "      <td>[en rodajas, puré]</td>\n",
       "      <td>0</td>\n",
       "    </tr>\n",
       "    <tr>\n",
       "      <th>81</th>\n",
       "      <td>101393</td>\n",
       "      <td>espinacas a la andaluza</td>\n",
       "      <td>2009</td>\n",
       "      <td>[aceite de oliva virgen, comino, vino, espinac...</td>\n",
       "      <td>[horno, cocer, a fuego lento, cazuela, sartén,...</td>\n",
       "      <td>0</td>\n",
       "    </tr>\n",
       "  </tbody>\n",
       "</table>\n",
       "</div>"
      ],
      "text/plain": [
       "       _id                           title  year  \\\n",
       "17  100377              estofado de venado  2009   \n",
       "18  100383   arroz con mariscos mejjicanna  2009   \n",
       "60  101081            garbanzos con tomate  2010   \n",
       "77  101360  brazo gitano de gamba y surimi  2012   \n",
       "81  101393         espinacas a la andaluza  2009   \n",
       "\n",
       "                                          ingredients  \\\n",
       "17  [laurel, zanahoria, aceite de oliva, pimienta,...   \n",
       "18  [guisantes, azafrán, laurel, calamares, marisc...   \n",
       "60  [salsa de tomate, ajo, garbanzos cocidos, tomi...   \n",
       "77  [pimiento, mayonesa, surimi, huevos, gambas, p...   \n",
       "81  [aceite de oliva virgen, comino, vino, espinac...   \n",
       "\n",
       "                                           techniques  creativity  \n",
       "17  [cocer, a fuego lento, horno, sal, juliana, agua]           0  \n",
       "18                       [horno, horno, hervir, agua]           0  \n",
       "60                                            [cocer]           0  \n",
       "77                                 [en rodajas, puré]           0  \n",
       "81  [horno, cocer, a fuego lento, cazuela, sartén,...           0  "
      ]
     },
     "execution_count": 42,
     "metadata": {},
     "output_type": "execute_result"
    }
   ],
   "source": [
    "cookpad_repr_recipes_df.head()"
   ]
  },
  {
   "cell_type": "markdown",
   "metadata": {},
   "source": [
    "### elbulli & cookpad"
   ]
  },
  {
   "cell_type": "code",
   "execution_count": 43,
   "metadata": {
    "collapsed": true
   },
   "outputs": [],
   "source": [
    "repr_recipes_df = elbulli_repr_recipes_df.append(cookpad_repr_recipes_df, ignore_index=True)"
   ]
  },
  {
   "cell_type": "code",
   "execution_count": 44,
   "metadata": {
    "collapsed": false,
    "scrolled": true
   },
   "outputs": [
    {
     "data": {
      "text/html": [
       "<div>\n",
       "<table border=\"1\" class=\"dataframe\">\n",
       "  <thead>\n",
       "    <tr style=\"text-align: right;\">\n",
       "      <th></th>\n",
       "      <th>_id</th>\n",
       "      <th>title</th>\n",
       "      <th>year</th>\n",
       "      <th>ingredients</th>\n",
       "      <th>techniques</th>\n",
       "      <th>creativity</th>\n",
       "    </tr>\n",
       "  </thead>\n",
       "  <tbody>\n",
       "    <tr>\n",
       "      <th>0</th>\n",
       "      <td>1</td>\n",
       "      <td>terrina de melón con gelée de oporto</td>\n",
       "      <td>1987</td>\n",
       "      <td>[oporto, aceite de oliva, agua, pimienta blanc...</td>\n",
       "      <td>[agua]</td>\n",
       "      <td>10</td>\n",
       "    </tr>\n",
       "    <tr>\n",
       "      <th>1</th>\n",
       "      <td>10</td>\n",
       "      <td>salmonetes gaudí</td>\n",
       "      <td>1987</td>\n",
       "      <td>[sal, pimientos, pimiento rojo, piñones tostad...</td>\n",
       "      <td>[sal, marcar, cocción, horno, hervir, horno, s...</td>\n",
       "      <td>10</td>\n",
       "    </tr>\n",
       "    <tr>\n",
       "      <th>2</th>\n",
       "      <td>100</td>\n",
       "      <td>oursins</td>\n",
       "      <td>1990</td>\n",
       "      <td>[chocolate, claras de huevo, avellanas tostada...</td>\n",
       "      <td>[horno, horno, secar]</td>\n",
       "      <td>10</td>\n",
       "    </tr>\n",
       "    <tr>\n",
       "      <th>3</th>\n",
       "      <td>1000</td>\n",
       "      <td>ravioli sférico de té con cubo helado de limón</td>\n",
       "      <td>2004</td>\n",
       "      <td>[zumo de limón, limón, alginato sódico, agua, ...</td>\n",
       "      <td>[agua, cocer, horno]</td>\n",
       "      <td>30</td>\n",
       "    </tr>\n",
       "    <tr>\n",
       "      <th>4</th>\n",
       "      <td>1001</td>\n",
       "      <td>ceps en ámbar de su caldo</td>\n",
       "      <td>2004</td>\n",
       "      <td>[sal, caldo de ceps, carragenato kappa en polv...</td>\n",
       "      <td>[sal, horno, cocer, hervir, confitar, cazuela,...</td>\n",
       "      <td>30</td>\n",
       "    </tr>\n",
       "  </tbody>\n",
       "</table>\n",
       "</div>"
      ],
      "text/plain": [
       "    _id                                           title  year  \\\n",
       "0     1            terrina de melón con gelée de oporto  1987   \n",
       "1    10                                salmonetes gaudí  1987   \n",
       "2   100                                         oursins  1990   \n",
       "3  1000  ravioli sférico de té con cubo helado de limón  2004   \n",
       "4  1001                       ceps en ámbar de su caldo  2004   \n",
       "\n",
       "                                         ingredients  \\\n",
       "0  [oporto, aceite de oliva, agua, pimienta blanc...   \n",
       "1  [sal, pimientos, pimiento rojo, piñones tostad...   \n",
       "2  [chocolate, claras de huevo, avellanas tostada...   \n",
       "3  [zumo de limón, limón, alginato sódico, agua, ...   \n",
       "4  [sal, caldo de ceps, carragenato kappa en polv...   \n",
       "\n",
       "                                          techniques  creativity  \n",
       "0                                             [agua]          10  \n",
       "1  [sal, marcar, cocción, horno, hervir, horno, s...          10  \n",
       "2                              [horno, horno, secar]          10  \n",
       "3                               [agua, cocer, horno]          30  \n",
       "4  [sal, horno, cocer, hervir, confitar, cazuela,...          30  "
      ]
     },
     "execution_count": 44,
     "metadata": {},
     "output_type": "execute_result"
    }
   ],
   "source": [
    "repr_recipes_df.head()"
   ]
  },
  {
   "cell_type": "code",
   "execution_count": 45,
   "metadata": {
    "collapsed": false
   },
   "outputs": [
    {
     "data": {
      "text/html": [
       "<div>\n",
       "<table border=\"1\" class=\"dataframe\">\n",
       "  <thead>\n",
       "    <tr style=\"text-align: right;\">\n",
       "      <th></th>\n",
       "      <th>_id</th>\n",
       "      <th>title</th>\n",
       "      <th>year</th>\n",
       "      <th>ingredients</th>\n",
       "      <th>techniques</th>\n",
       "      <th>creativity</th>\n",
       "    </tr>\n",
       "  </thead>\n",
       "  <tbody>\n",
       "    <tr>\n",
       "      <th>1613</th>\n",
       "      <td>99341</td>\n",
       "      <td>refrito de col y garbanzos</td>\n",
       "      <td>2009</td>\n",
       "      <td>[aceite de oliva, pimienta, ajo, col, panceta,...</td>\n",
       "      <td>[horno, cocer, hervir, horno, sartén, sal, agua]</td>\n",
       "      <td>0</td>\n",
       "    </tr>\n",
       "    <tr>\n",
       "      <th>1614</th>\n",
       "      <td>99733</td>\n",
       "      <td>roscón de villalba</td>\n",
       "      <td>2009</td>\n",
       "      <td>[huevos, guindilla, almendras, azúcar]</td>\n",
       "      <td>[horno, horno, cocer]</td>\n",
       "      <td>0</td>\n",
       "    </tr>\n",
       "    <tr>\n",
       "      <th>1615</th>\n",
       "      <td>99741</td>\n",
       "      <td>tarta de santiago tradicional</td>\n",
       "      <td>2009</td>\n",
       "      <td>[almendras, huevos, mantequilla, azúcar glas, ...</td>\n",
       "      <td>[horno, horno, relleno, agua, horno]</td>\n",
       "      <td>0</td>\n",
       "    </tr>\n",
       "    <tr>\n",
       "      <th>1616</th>\n",
       "      <td>99839</td>\n",
       "      <td>cogote de merluza a la donostierra</td>\n",
       "      <td>2009</td>\n",
       "      <td>[merluza, ajo, guindilla, aceitunas, vinagre]</td>\n",
       "      <td>[sartén, sal, plancha]</td>\n",
       "      <td>0</td>\n",
       "    </tr>\n",
       "    <tr>\n",
       "      <th>1617</th>\n",
       "      <td>99963</td>\n",
       "      <td>flan de huevo en microondas</td>\n",
       "      <td>2009</td>\n",
       "      <td>[huevos, leche condensada, leche entera]</td>\n",
       "      <td>[microondas, caramelizado]</td>\n",
       "      <td>0</td>\n",
       "    </tr>\n",
       "  </tbody>\n",
       "</table>\n",
       "</div>"
      ],
      "text/plain": [
       "        _id                               title  year  \\\n",
       "1613  99341          refrito de col y garbanzos  2009   \n",
       "1614  99733                  roscón de villalba  2009   \n",
       "1615  99741       tarta de santiago tradicional  2009   \n",
       "1616  99839  cogote de merluza a la donostierra  2009   \n",
       "1617  99963         flan de huevo en microondas  2009   \n",
       "\n",
       "                                            ingredients  \\\n",
       "1613  [aceite de oliva, pimienta, ajo, col, panceta,...   \n",
       "1614             [huevos, guindilla, almendras, azúcar]   \n",
       "1615  [almendras, huevos, mantequilla, azúcar glas, ...   \n",
       "1616      [merluza, ajo, guindilla, aceitunas, vinagre]   \n",
       "1617           [huevos, leche condensada, leche entera]   \n",
       "\n",
       "                                            techniques  creativity  \n",
       "1613  [horno, cocer, hervir, horno, sartén, sal, agua]           0  \n",
       "1614                             [horno, horno, cocer]           0  \n",
       "1615              [horno, horno, relleno, agua, horno]           0  \n",
       "1616                            [sartén, sal, plancha]           0  \n",
       "1617                        [microondas, caramelizado]           0  "
      ]
     },
     "execution_count": 45,
     "metadata": {},
     "output_type": "execute_result"
    }
   ],
   "source": [
    "repr_recipes_df.tail()"
   ]
  },
  {
   "cell_type": "markdown",
   "metadata": {},
   "source": [
    "## Superclasses of ingredients and techniques"
   ]
  },
  {
   "cell_type": "markdown",
   "metadata": {},
   "source": [
    "### elbulli"
   ]
  },
  {
   "cell_type": "code",
   "execution_count": 46,
   "metadata": {
    "collapsed": false
   },
   "outputs": [],
   "source": [
    "elbulli_super_recipes_df = pd.read_csv('data/dbs/recipes_elbulli_superclasses.csv')"
   ]
  },
  {
   "cell_type": "code",
   "execution_count": 47,
   "metadata": {
    "collapsed": false
   },
   "outputs": [
    {
     "data": {
      "text/plain": [
       "_id             int64\n",
       "title          object\n",
       "year            int64\n",
       "ingredients    object\n",
       "techniques     object\n",
       "dtype: object"
      ]
     },
     "execution_count": 47,
     "metadata": {},
     "output_type": "execute_result"
    }
   ],
   "source": [
    "elbulli_super_recipes_df.dtypes"
   ]
  },
  {
   "cell_type": "code",
   "execution_count": 48,
   "metadata": {
    "collapsed": false
   },
   "outputs": [
    {
     "data": {
      "text/html": [
       "<div>\n",
       "<table border=\"1\" class=\"dataframe\">\n",
       "  <thead>\n",
       "    <tr style=\"text-align: right;\">\n",
       "      <th></th>\n",
       "      <th>_id</th>\n",
       "      <th>title</th>\n",
       "      <th>year</th>\n",
       "      <th>ingredients</th>\n",
       "      <th>techniques</th>\n",
       "    </tr>\n",
       "  </thead>\n",
       "  <tbody>\n",
       "    <tr>\n",
       "      <th>0</th>\n",
       "      <td>1</td>\n",
       "      <td>terrina de melón con gelée de oporto</td>\n",
       "      <td>1987</td>\n",
       "      <td>[\"oporto\",\"aceite\",\"agua\",\"pimienta\",\"gelatina...</td>\n",
       "      <td>[\"agua\"]</td>\n",
       "    </tr>\n",
       "    <tr>\n",
       "      <th>1</th>\n",
       "      <td>10</td>\n",
       "      <td>salmonetes gaudí</td>\n",
       "      <td>1987</td>\n",
       "      <td>[\"sal\",\"pimientos\",\"pimiento\",\"piñones\",\"vinag...</td>\n",
       "      <td>[\"sal\",\"marcar\",\"cocción\",\"horno\",\"hervir\",\"ho...</td>\n",
       "    </tr>\n",
       "    <tr>\n",
       "      <th>2</th>\n",
       "      <td>100</td>\n",
       "      <td>oursins</td>\n",
       "      <td>1990</td>\n",
       "      <td>[\"chocolate\",\"claras\",\"avellanas\",\"yemas\",\"azú...</td>\n",
       "      <td>[\"horno\",\"horno\",\"secar\"]</td>\n",
       "    </tr>\n",
       "    <tr>\n",
       "      <th>3</th>\n",
       "      <td>1000</td>\n",
       "      <td>ravioli sférico de té con cubo helado de limón</td>\n",
       "      <td>2004</td>\n",
       "      <td>[\"zumo\",\"limón\",\"alginato\",\"agua\",\"té\",\"azúcar\"]</td>\n",
       "      <td>[\"agua\",\"cocer\",\"horno\"]</td>\n",
       "    </tr>\n",
       "    <tr>\n",
       "      <th>4</th>\n",
       "      <td>1001</td>\n",
       "      <td>ceps en ámbar de su caldo</td>\n",
       "      <td>2004</td>\n",
       "      <td>[\"sal\",\"ceps\",\"carragenato\",\"romero\",\"ceps\",\"c...</td>\n",
       "      <td>[\"sal\",\"horno\",\"cocer\",\"hervir\",\"confitar\",\"ca...</td>\n",
       "    </tr>\n",
       "  </tbody>\n",
       "</table>\n",
       "</div>"
      ],
      "text/plain": [
       "    _id                                           title  year  \\\n",
       "0     1            terrina de melón con gelée de oporto  1987   \n",
       "1    10                                salmonetes gaudí  1987   \n",
       "2   100                                         oursins  1990   \n",
       "3  1000  ravioli sférico de té con cubo helado de limón  2004   \n",
       "4  1001                       ceps en ámbar de su caldo  2004   \n",
       "\n",
       "                                         ingredients  \\\n",
       "0  [\"oporto\",\"aceite\",\"agua\",\"pimienta\",\"gelatina...   \n",
       "1  [\"sal\",\"pimientos\",\"pimiento\",\"piñones\",\"vinag...   \n",
       "2  [\"chocolate\",\"claras\",\"avellanas\",\"yemas\",\"azú...   \n",
       "3   [\"zumo\",\"limón\",\"alginato\",\"agua\",\"té\",\"azúcar\"]   \n",
       "4  [\"sal\",\"ceps\",\"carragenato\",\"romero\",\"ceps\",\"c...   \n",
       "\n",
       "                                          techniques  \n",
       "0                                           [\"agua\"]  \n",
       "1  [\"sal\",\"marcar\",\"cocción\",\"horno\",\"hervir\",\"ho...  \n",
       "2                          [\"horno\",\"horno\",\"secar\"]  \n",
       "3                           [\"agua\",\"cocer\",\"horno\"]  \n",
       "4  [\"sal\",\"horno\",\"cocer\",\"hervir\",\"confitar\",\"ca...  "
      ]
     },
     "execution_count": 48,
     "metadata": {},
     "output_type": "execute_result"
    }
   ],
   "source": [
    "elbulli_super_recipes_df.head()"
   ]
  },
  {
   "cell_type": "code",
   "execution_count": 49,
   "metadata": {
    "collapsed": false
   },
   "outputs": [],
   "source": [
    "elbulli_super_recipes_df['ingredients'] = elbulli_super_recipes_df.apply(lambda x: json.loads(x['ingredients']), axis=1)\n",
    "elbulli_super_recipes_df['techniques'] = elbulli_super_recipes_df.apply(lambda x: json.loads(x['techniques']), axis=1)"
   ]
  },
  {
   "cell_type": "code",
   "execution_count": 50,
   "metadata": {
    "collapsed": false
   },
   "outputs": [
    {
     "data": {
      "text/html": [
       "<div>\n",
       "<table border=\"1\" class=\"dataframe\">\n",
       "  <thead>\n",
       "    <tr style=\"text-align: right;\">\n",
       "      <th></th>\n",
       "      <th>_id</th>\n",
       "      <th>title</th>\n",
       "      <th>year</th>\n",
       "      <th>ingredients</th>\n",
       "      <th>techniques</th>\n",
       "    </tr>\n",
       "  </thead>\n",
       "  <tbody>\n",
       "    <tr>\n",
       "      <th>0</th>\n",
       "      <td>1</td>\n",
       "      <td>terrina de melón con gelée de oporto</td>\n",
       "      <td>1987</td>\n",
       "      <td>[oporto, aceite, agua, pimienta, gelatina, mel...</td>\n",
       "      <td>[agua]</td>\n",
       "    </tr>\n",
       "    <tr>\n",
       "      <th>1</th>\n",
       "      <td>10</td>\n",
       "      <td>salmonetes gaudí</td>\n",
       "      <td>1987</td>\n",
       "      <td>[sal, pimientos, pimiento, piñones, vinagre, o...</td>\n",
       "      <td>[sal, marcar, cocción, horno, hervir, horno, s...</td>\n",
       "    </tr>\n",
       "    <tr>\n",
       "      <th>2</th>\n",
       "      <td>100</td>\n",
       "      <td>oursins</td>\n",
       "      <td>1990</td>\n",
       "      <td>[chocolate, claras, avellanas, yemas, azúcar, ...</td>\n",
       "      <td>[horno, horno, secar]</td>\n",
       "    </tr>\n",
       "    <tr>\n",
       "      <th>3</th>\n",
       "      <td>1000</td>\n",
       "      <td>ravioli sférico de té con cubo helado de limón</td>\n",
       "      <td>2004</td>\n",
       "      <td>[zumo, limón, alginato, agua, té, azúcar]</td>\n",
       "      <td>[agua, cocer, horno]</td>\n",
       "    </tr>\n",
       "    <tr>\n",
       "      <th>4</th>\n",
       "      <td>1001</td>\n",
       "      <td>ceps en ámbar de su caldo</td>\n",
       "      <td>2004</td>\n",
       "      <td>[sal, ceps, carragenato, romero, ceps, ceps, a...</td>\n",
       "      <td>[sal, horno, cocer, hervir, confitar, cazuela,...</td>\n",
       "    </tr>\n",
       "  </tbody>\n",
       "</table>\n",
       "</div>"
      ],
      "text/plain": [
       "    _id                                           title  year  \\\n",
       "0     1            terrina de melón con gelée de oporto  1987   \n",
       "1    10                                salmonetes gaudí  1987   \n",
       "2   100                                         oursins  1990   \n",
       "3  1000  ravioli sférico de té con cubo helado de limón  2004   \n",
       "4  1001                       ceps en ámbar de su caldo  2004   \n",
       "\n",
       "                                         ingredients  \\\n",
       "0  [oporto, aceite, agua, pimienta, gelatina, mel...   \n",
       "1  [sal, pimientos, pimiento, piñones, vinagre, o...   \n",
       "2  [chocolate, claras, avellanas, yemas, azúcar, ...   \n",
       "3          [zumo, limón, alginato, agua, té, azúcar]   \n",
       "4  [sal, ceps, carragenato, romero, ceps, ceps, a...   \n",
       "\n",
       "                                          techniques  \n",
       "0                                             [agua]  \n",
       "1  [sal, marcar, cocción, horno, hervir, horno, s...  \n",
       "2                              [horno, horno, secar]  \n",
       "3                               [agua, cocer, horno]  \n",
       "4  [sal, horno, cocer, hervir, confitar, cazuela,...  "
      ]
     },
     "execution_count": 50,
     "metadata": {},
     "output_type": "execute_result"
    }
   ],
   "source": [
    "elbulli_super_recipes_df.head()"
   ]
  },
  {
   "cell_type": "code",
   "execution_count": 51,
   "metadata": {
    "collapsed": true
   },
   "outputs": [],
   "source": [
    "elbulli_super_recipes_df['creativity'] = elbulli_super_recipes_df.apply(\n",
    "    lambda x: 10 if 1987 <= x['year'] <= 1997 else \\\n",
    "              20 if 1998 <= x['year'] <= 2001 else \\\n",
    "              30 if 2002 <= x['year'] <= 2005 else \\\n",
    "              'UNKOWN', axis=1)"
   ]
  },
  {
   "cell_type": "code",
   "execution_count": 52,
   "metadata": {
    "collapsed": false,
    "scrolled": true
   },
   "outputs": [
    {
     "data": {
      "text/html": [
       "<div>\n",
       "<table border=\"1\" class=\"dataframe\">\n",
       "  <thead>\n",
       "    <tr style=\"text-align: right;\">\n",
       "      <th></th>\n",
       "      <th>_id</th>\n",
       "      <th>title</th>\n",
       "      <th>year</th>\n",
       "      <th>ingredients</th>\n",
       "      <th>techniques</th>\n",
       "      <th>creativity</th>\n",
       "    </tr>\n",
       "  </thead>\n",
       "  <tbody>\n",
       "    <tr>\n",
       "      <th>0</th>\n",
       "      <td>1</td>\n",
       "      <td>terrina de melón con gelée de oporto</td>\n",
       "      <td>1987</td>\n",
       "      <td>[oporto, aceite, agua, pimienta, gelatina, mel...</td>\n",
       "      <td>[agua]</td>\n",
       "      <td>10</td>\n",
       "    </tr>\n",
       "    <tr>\n",
       "      <th>1</th>\n",
       "      <td>10</td>\n",
       "      <td>salmonetes gaudí</td>\n",
       "      <td>1987</td>\n",
       "      <td>[sal, pimientos, pimiento, piñones, vinagre, o...</td>\n",
       "      <td>[sal, marcar, cocción, horno, hervir, horno, s...</td>\n",
       "      <td>10</td>\n",
       "    </tr>\n",
       "    <tr>\n",
       "      <th>2</th>\n",
       "      <td>100</td>\n",
       "      <td>oursins</td>\n",
       "      <td>1990</td>\n",
       "      <td>[chocolate, claras, avellanas, yemas, azúcar, ...</td>\n",
       "      <td>[horno, horno, secar]</td>\n",
       "      <td>10</td>\n",
       "    </tr>\n",
       "    <tr>\n",
       "      <th>3</th>\n",
       "      <td>1000</td>\n",
       "      <td>ravioli sférico de té con cubo helado de limón</td>\n",
       "      <td>2004</td>\n",
       "      <td>[zumo, limón, alginato, agua, té, azúcar]</td>\n",
       "      <td>[agua, cocer, horno]</td>\n",
       "      <td>30</td>\n",
       "    </tr>\n",
       "    <tr>\n",
       "      <th>4</th>\n",
       "      <td>1001</td>\n",
       "      <td>ceps en ámbar de su caldo</td>\n",
       "      <td>2004</td>\n",
       "      <td>[sal, ceps, carragenato, romero, ceps, ceps, a...</td>\n",
       "      <td>[sal, horno, cocer, hervir, confitar, cazuela,...</td>\n",
       "      <td>30</td>\n",
       "    </tr>\n",
       "  </tbody>\n",
       "</table>\n",
       "</div>"
      ],
      "text/plain": [
       "    _id                                           title  year  \\\n",
       "0     1            terrina de melón con gelée de oporto  1987   \n",
       "1    10                                salmonetes gaudí  1987   \n",
       "2   100                                         oursins  1990   \n",
       "3  1000  ravioli sférico de té con cubo helado de limón  2004   \n",
       "4  1001                       ceps en ámbar de su caldo  2004   \n",
       "\n",
       "                                         ingredients  \\\n",
       "0  [oporto, aceite, agua, pimienta, gelatina, mel...   \n",
       "1  [sal, pimientos, pimiento, piñones, vinagre, o...   \n",
       "2  [chocolate, claras, avellanas, yemas, azúcar, ...   \n",
       "3          [zumo, limón, alginato, agua, té, azúcar]   \n",
       "4  [sal, ceps, carragenato, romero, ceps, ceps, a...   \n",
       "\n",
       "                                          techniques  creativity  \n",
       "0                                             [agua]          10  \n",
       "1  [sal, marcar, cocción, horno, hervir, horno, s...          10  \n",
       "2                              [horno, horno, secar]          10  \n",
       "3                               [agua, cocer, horno]          30  \n",
       "4  [sal, horno, cocer, hervir, confitar, cazuela,...          30  "
      ]
     },
     "execution_count": 52,
     "metadata": {},
     "output_type": "execute_result"
    }
   ],
   "source": [
    "elbulli_super_recipes_df.head()"
   ]
  },
  {
   "cell_type": "markdown",
   "metadata": {},
   "source": [
    "### cookpad"
   ]
  },
  {
   "cell_type": "code",
   "execution_count": 53,
   "metadata": {
    "collapsed": false
   },
   "outputs": [],
   "source": [
    "cookpad_super_recipes_df = pd.read_csv('data/dbs/recipes_cookpad_superclasses.csv')\n",
    "cookpad_super_recipes_df = my_sample(cookpad_super_recipes_df)"
   ]
  },
  {
   "cell_type": "code",
   "execution_count": 54,
   "metadata": {
    "collapsed": false
   },
   "outputs": [
    {
     "data": {
      "text/plain": [
       "_id             int64\n",
       "title          object\n",
       "year            int64\n",
       "ingredients    object\n",
       "techniques     object\n",
       "dtype: object"
      ]
     },
     "execution_count": 54,
     "metadata": {},
     "output_type": "execute_result"
    }
   ],
   "source": [
    "cookpad_super_recipes_df.dtypes"
   ]
  },
  {
   "cell_type": "code",
   "execution_count": 55,
   "metadata": {
    "collapsed": false
   },
   "outputs": [
    {
     "data": {
      "text/html": [
       "<div>\n",
       "<table border=\"1\" class=\"dataframe\">\n",
       "  <thead>\n",
       "    <tr style=\"text-align: right;\">\n",
       "      <th></th>\n",
       "      <th>_id</th>\n",
       "      <th>title</th>\n",
       "      <th>year</th>\n",
       "      <th>ingredients</th>\n",
       "      <th>techniques</th>\n",
       "    </tr>\n",
       "  </thead>\n",
       "  <tbody>\n",
       "    <tr>\n",
       "      <th>17</th>\n",
       "      <td>100377</td>\n",
       "      <td>estofado de venado</td>\n",
       "      <td>2009</td>\n",
       "      <td>[\"laurel\",\"zanahoria\",\"aceite\",\"pimienta\",\"ajo...</td>\n",
       "      <td>[\"cocer\",\"a\",\"horno\",\"sal\",\"juliana\",\"agua\"]</td>\n",
       "    </tr>\n",
       "    <tr>\n",
       "      <th>18</th>\n",
       "      <td>100383</td>\n",
       "      <td>arroz con mariscos mejjicanna</td>\n",
       "      <td>2009</td>\n",
       "      <td>[\"guisantes\",\"azafrán\",\"laurel\",\"calamares\",\"m...</td>\n",
       "      <td>[\"horno\",\"horno\",\"hervir\",\"agua\"]</td>\n",
       "    </tr>\n",
       "    <tr>\n",
       "      <th>60</th>\n",
       "      <td>101081</td>\n",
       "      <td>garbanzos con tomate</td>\n",
       "      <td>2010</td>\n",
       "      <td>[\"salsa\",\"ajo\",\"garbanzos\",\"tomillo\",\"laurel\"]</td>\n",
       "      <td>[\"cocer\"]</td>\n",
       "    </tr>\n",
       "    <tr>\n",
       "      <th>77</th>\n",
       "      <td>101360</td>\n",
       "      <td>brazo gitano de gamba y surimi</td>\n",
       "      <td>2012</td>\n",
       "      <td>[\"pimiento\",\"mayonesa\",\"surimi\",\"huevos\",\"gamb...</td>\n",
       "      <td>[\"rodajas\",\"puré\"]</td>\n",
       "    </tr>\n",
       "    <tr>\n",
       "      <th>81</th>\n",
       "      <td>101393</td>\n",
       "      <td>espinacas a la andaluza</td>\n",
       "      <td>2009</td>\n",
       "      <td>[\"aceite\",\"comino\",\"vino\",\"espinacas\",\"pimentó...</td>\n",
       "      <td>[\"horno\",\"cocer\",\"a\",\"cazuela\",\"sartén\",\"horno...</td>\n",
       "    </tr>\n",
       "  </tbody>\n",
       "</table>\n",
       "</div>"
      ],
      "text/plain": [
       "       _id                           title  year  \\\n",
       "17  100377              estofado de venado  2009   \n",
       "18  100383   arroz con mariscos mejjicanna  2009   \n",
       "60  101081            garbanzos con tomate  2010   \n",
       "77  101360  brazo gitano de gamba y surimi  2012   \n",
       "81  101393         espinacas a la andaluza  2009   \n",
       "\n",
       "                                          ingredients  \\\n",
       "17  [\"laurel\",\"zanahoria\",\"aceite\",\"pimienta\",\"ajo...   \n",
       "18  [\"guisantes\",\"azafrán\",\"laurel\",\"calamares\",\"m...   \n",
       "60     [\"salsa\",\"ajo\",\"garbanzos\",\"tomillo\",\"laurel\"]   \n",
       "77  [\"pimiento\",\"mayonesa\",\"surimi\",\"huevos\",\"gamb...   \n",
       "81  [\"aceite\",\"comino\",\"vino\",\"espinacas\",\"pimentó...   \n",
       "\n",
       "                                           techniques  \n",
       "17       [\"cocer\",\"a\",\"horno\",\"sal\",\"juliana\",\"agua\"]  \n",
       "18                  [\"horno\",\"horno\",\"hervir\",\"agua\"]  \n",
       "60                                          [\"cocer\"]  \n",
       "77                                 [\"rodajas\",\"puré\"]  \n",
       "81  [\"horno\",\"cocer\",\"a\",\"cazuela\",\"sartén\",\"horno...  "
      ]
     },
     "execution_count": 55,
     "metadata": {},
     "output_type": "execute_result"
    }
   ],
   "source": [
    "cookpad_super_recipes_df.head()"
   ]
  },
  {
   "cell_type": "code",
   "execution_count": 56,
   "metadata": {
    "collapsed": false
   },
   "outputs": [],
   "source": [
    "cookpad_super_recipes_df['ingredients'] = cookpad_super_recipes_df.apply(lambda x: json.loads(x['ingredients']), axis=1)\n",
    "cookpad_super_recipes_df['techniques'] = cookpad_super_recipes_df.apply(lambda x: json.loads(x['techniques']), axis=1)"
   ]
  },
  {
   "cell_type": "code",
   "execution_count": 57,
   "metadata": {
    "collapsed": false
   },
   "outputs": [
    {
     "data": {
      "text/html": [
       "<div>\n",
       "<table border=\"1\" class=\"dataframe\">\n",
       "  <thead>\n",
       "    <tr style=\"text-align: right;\">\n",
       "      <th></th>\n",
       "      <th>_id</th>\n",
       "      <th>title</th>\n",
       "      <th>year</th>\n",
       "      <th>ingredients</th>\n",
       "      <th>techniques</th>\n",
       "    </tr>\n",
       "  </thead>\n",
       "  <tbody>\n",
       "    <tr>\n",
       "      <th>17</th>\n",
       "      <td>100377</td>\n",
       "      <td>estofado de venado</td>\n",
       "      <td>2009</td>\n",
       "      <td>[laurel, zanahoria, aceite, pimienta, ajo, cie...</td>\n",
       "      <td>[cocer, a, horno, sal, juliana, agua]</td>\n",
       "    </tr>\n",
       "    <tr>\n",
       "      <th>18</th>\n",
       "      <td>100383</td>\n",
       "      <td>arroz con mariscos mejjicanna</td>\n",
       "      <td>2009</td>\n",
       "      <td>[guisantes, azafrán, laurel, calamares, marisc...</td>\n",
       "      <td>[horno, horno, hervir, agua]</td>\n",
       "    </tr>\n",
       "    <tr>\n",
       "      <th>60</th>\n",
       "      <td>101081</td>\n",
       "      <td>garbanzos con tomate</td>\n",
       "      <td>2010</td>\n",
       "      <td>[salsa, ajo, garbanzos, tomillo, laurel]</td>\n",
       "      <td>[cocer]</td>\n",
       "    </tr>\n",
       "    <tr>\n",
       "      <th>77</th>\n",
       "      <td>101360</td>\n",
       "      <td>brazo gitano de gamba y surimi</td>\n",
       "      <td>2012</td>\n",
       "      <td>[pimiento, mayonesa, surimi, huevos, gambas, p...</td>\n",
       "      <td>[rodajas, puré]</td>\n",
       "    </tr>\n",
       "    <tr>\n",
       "      <th>81</th>\n",
       "      <td>101393</td>\n",
       "      <td>espinacas a la andaluza</td>\n",
       "      <td>2009</td>\n",
       "      <td>[aceite, comino, vino, espinacas, pimentón, ga...</td>\n",
       "      <td>[horno, cocer, a, cazuela, sartén, horno, horn...</td>\n",
       "    </tr>\n",
       "  </tbody>\n",
       "</table>\n",
       "</div>"
      ],
      "text/plain": [
       "       _id                           title  year  \\\n",
       "17  100377              estofado de venado  2009   \n",
       "18  100383   arroz con mariscos mejjicanna  2009   \n",
       "60  101081            garbanzos con tomate  2010   \n",
       "77  101360  brazo gitano de gamba y surimi  2012   \n",
       "81  101393         espinacas a la andaluza  2009   \n",
       "\n",
       "                                          ingredients  \\\n",
       "17  [laurel, zanahoria, aceite, pimienta, ajo, cie...   \n",
       "18  [guisantes, azafrán, laurel, calamares, marisc...   \n",
       "60           [salsa, ajo, garbanzos, tomillo, laurel]   \n",
       "77  [pimiento, mayonesa, surimi, huevos, gambas, p...   \n",
       "81  [aceite, comino, vino, espinacas, pimentón, ga...   \n",
       "\n",
       "                                           techniques  \n",
       "17              [cocer, a, horno, sal, juliana, agua]  \n",
       "18                       [horno, horno, hervir, agua]  \n",
       "60                                            [cocer]  \n",
       "77                                    [rodajas, puré]  \n",
       "81  [horno, cocer, a, cazuela, sartén, horno, horn...  "
      ]
     },
     "execution_count": 57,
     "metadata": {},
     "output_type": "execute_result"
    }
   ],
   "source": [
    "cookpad_super_recipes_df.head()"
   ]
  },
  {
   "cell_type": "code",
   "execution_count": 58,
   "metadata": {
    "collapsed": true
   },
   "outputs": [],
   "source": [
    "cookpad_super_recipes_df['creativity'] = cookpad_super_recipes_df.apply(\n",
    "    lambda x: 0, axis=1)"
   ]
  },
  {
   "cell_type": "code",
   "execution_count": 59,
   "metadata": {
    "collapsed": false,
    "scrolled": true
   },
   "outputs": [
    {
     "data": {
      "text/html": [
       "<div>\n",
       "<table border=\"1\" class=\"dataframe\">\n",
       "  <thead>\n",
       "    <tr style=\"text-align: right;\">\n",
       "      <th></th>\n",
       "      <th>_id</th>\n",
       "      <th>title</th>\n",
       "      <th>year</th>\n",
       "      <th>ingredients</th>\n",
       "      <th>techniques</th>\n",
       "      <th>creativity</th>\n",
       "    </tr>\n",
       "  </thead>\n",
       "  <tbody>\n",
       "    <tr>\n",
       "      <th>17</th>\n",
       "      <td>100377</td>\n",
       "      <td>estofado de venado</td>\n",
       "      <td>2009</td>\n",
       "      <td>[laurel, zanahoria, aceite, pimienta, ajo, cie...</td>\n",
       "      <td>[cocer, a, horno, sal, juliana, agua]</td>\n",
       "      <td>0</td>\n",
       "    </tr>\n",
       "    <tr>\n",
       "      <th>18</th>\n",
       "      <td>100383</td>\n",
       "      <td>arroz con mariscos mejjicanna</td>\n",
       "      <td>2009</td>\n",
       "      <td>[guisantes, azafrán, laurel, calamares, marisc...</td>\n",
       "      <td>[horno, horno, hervir, agua]</td>\n",
       "      <td>0</td>\n",
       "    </tr>\n",
       "    <tr>\n",
       "      <th>60</th>\n",
       "      <td>101081</td>\n",
       "      <td>garbanzos con tomate</td>\n",
       "      <td>2010</td>\n",
       "      <td>[salsa, ajo, garbanzos, tomillo, laurel]</td>\n",
       "      <td>[cocer]</td>\n",
       "      <td>0</td>\n",
       "    </tr>\n",
       "    <tr>\n",
       "      <th>77</th>\n",
       "      <td>101360</td>\n",
       "      <td>brazo gitano de gamba y surimi</td>\n",
       "      <td>2012</td>\n",
       "      <td>[pimiento, mayonesa, surimi, huevos, gambas, p...</td>\n",
       "      <td>[rodajas, puré]</td>\n",
       "      <td>0</td>\n",
       "    </tr>\n",
       "    <tr>\n",
       "      <th>81</th>\n",
       "      <td>101393</td>\n",
       "      <td>espinacas a la andaluza</td>\n",
       "      <td>2009</td>\n",
       "      <td>[aceite, comino, vino, espinacas, pimentón, ga...</td>\n",
       "      <td>[horno, cocer, a, cazuela, sartén, horno, horn...</td>\n",
       "      <td>0</td>\n",
       "    </tr>\n",
       "  </tbody>\n",
       "</table>\n",
       "</div>"
      ],
      "text/plain": [
       "       _id                           title  year  \\\n",
       "17  100377              estofado de venado  2009   \n",
       "18  100383   arroz con mariscos mejjicanna  2009   \n",
       "60  101081            garbanzos con tomate  2010   \n",
       "77  101360  brazo gitano de gamba y surimi  2012   \n",
       "81  101393         espinacas a la andaluza  2009   \n",
       "\n",
       "                                          ingredients  \\\n",
       "17  [laurel, zanahoria, aceite, pimienta, ajo, cie...   \n",
       "18  [guisantes, azafrán, laurel, calamares, marisc...   \n",
       "60           [salsa, ajo, garbanzos, tomillo, laurel]   \n",
       "77  [pimiento, mayonesa, surimi, huevos, gambas, p...   \n",
       "81  [aceite, comino, vino, espinacas, pimentón, ga...   \n",
       "\n",
       "                                           techniques  creativity  \n",
       "17              [cocer, a, horno, sal, juliana, agua]           0  \n",
       "18                       [horno, horno, hervir, agua]           0  \n",
       "60                                            [cocer]           0  \n",
       "77                                    [rodajas, puré]           0  \n",
       "81  [horno, cocer, a, cazuela, sartén, horno, horn...           0  "
      ]
     },
     "execution_count": 59,
     "metadata": {},
     "output_type": "execute_result"
    }
   ],
   "source": [
    "cookpad_super_recipes_df.head()"
   ]
  },
  {
   "cell_type": "markdown",
   "metadata": {},
   "source": [
    "### elbulli & cookpad"
   ]
  },
  {
   "cell_type": "code",
   "execution_count": 60,
   "metadata": {
    "collapsed": true
   },
   "outputs": [],
   "source": [
    "super_recipes_df = elbulli_super_recipes_df.append(cookpad_super_recipes_df, ignore_index=True)"
   ]
  },
  {
   "cell_type": "code",
   "execution_count": 61,
   "metadata": {
    "collapsed": false,
    "scrolled": true
   },
   "outputs": [
    {
     "data": {
      "text/html": [
       "<div>\n",
       "<table border=\"1\" class=\"dataframe\">\n",
       "  <thead>\n",
       "    <tr style=\"text-align: right;\">\n",
       "      <th></th>\n",
       "      <th>_id</th>\n",
       "      <th>title</th>\n",
       "      <th>year</th>\n",
       "      <th>ingredients</th>\n",
       "      <th>techniques</th>\n",
       "      <th>creativity</th>\n",
       "    </tr>\n",
       "  </thead>\n",
       "  <tbody>\n",
       "    <tr>\n",
       "      <th>0</th>\n",
       "      <td>1</td>\n",
       "      <td>terrina de melón con gelée de oporto</td>\n",
       "      <td>1987</td>\n",
       "      <td>[oporto, aceite, agua, pimienta, gelatina, mel...</td>\n",
       "      <td>[agua]</td>\n",
       "      <td>10</td>\n",
       "    </tr>\n",
       "    <tr>\n",
       "      <th>1</th>\n",
       "      <td>10</td>\n",
       "      <td>salmonetes gaudí</td>\n",
       "      <td>1987</td>\n",
       "      <td>[sal, pimientos, pimiento, piñones, vinagre, o...</td>\n",
       "      <td>[sal, marcar, cocción, horno, hervir, horno, s...</td>\n",
       "      <td>10</td>\n",
       "    </tr>\n",
       "    <tr>\n",
       "      <th>2</th>\n",
       "      <td>100</td>\n",
       "      <td>oursins</td>\n",
       "      <td>1990</td>\n",
       "      <td>[chocolate, claras, avellanas, yemas, azúcar, ...</td>\n",
       "      <td>[horno, horno, secar]</td>\n",
       "      <td>10</td>\n",
       "    </tr>\n",
       "    <tr>\n",
       "      <th>3</th>\n",
       "      <td>1000</td>\n",
       "      <td>ravioli sférico de té con cubo helado de limón</td>\n",
       "      <td>2004</td>\n",
       "      <td>[zumo, limón, alginato, agua, té, azúcar]</td>\n",
       "      <td>[agua, cocer, horno]</td>\n",
       "      <td>30</td>\n",
       "    </tr>\n",
       "    <tr>\n",
       "      <th>4</th>\n",
       "      <td>1001</td>\n",
       "      <td>ceps en ámbar de su caldo</td>\n",
       "      <td>2004</td>\n",
       "      <td>[sal, ceps, carragenato, romero, ceps, ceps, a...</td>\n",
       "      <td>[sal, horno, cocer, hervir, confitar, cazuela,...</td>\n",
       "      <td>30</td>\n",
       "    </tr>\n",
       "  </tbody>\n",
       "</table>\n",
       "</div>"
      ],
      "text/plain": [
       "    _id                                           title  year  \\\n",
       "0     1            terrina de melón con gelée de oporto  1987   \n",
       "1    10                                salmonetes gaudí  1987   \n",
       "2   100                                         oursins  1990   \n",
       "3  1000  ravioli sférico de té con cubo helado de limón  2004   \n",
       "4  1001                       ceps en ámbar de su caldo  2004   \n",
       "\n",
       "                                         ingredients  \\\n",
       "0  [oporto, aceite, agua, pimienta, gelatina, mel...   \n",
       "1  [sal, pimientos, pimiento, piñones, vinagre, o...   \n",
       "2  [chocolate, claras, avellanas, yemas, azúcar, ...   \n",
       "3          [zumo, limón, alginato, agua, té, azúcar]   \n",
       "4  [sal, ceps, carragenato, romero, ceps, ceps, a...   \n",
       "\n",
       "                                          techniques  creativity  \n",
       "0                                             [agua]          10  \n",
       "1  [sal, marcar, cocción, horno, hervir, horno, s...          10  \n",
       "2                              [horno, horno, secar]          10  \n",
       "3                               [agua, cocer, horno]          30  \n",
       "4  [sal, horno, cocer, hervir, confitar, cazuela,...          30  "
      ]
     },
     "execution_count": 61,
     "metadata": {},
     "output_type": "execute_result"
    }
   ],
   "source": [
    "super_recipes_df.head()"
   ]
  },
  {
   "cell_type": "code",
   "execution_count": 62,
   "metadata": {
    "collapsed": false
   },
   "outputs": [
    {
     "data": {
      "text/html": [
       "<div>\n",
       "<table border=\"1\" class=\"dataframe\">\n",
       "  <thead>\n",
       "    <tr style=\"text-align: right;\">\n",
       "      <th></th>\n",
       "      <th>_id</th>\n",
       "      <th>title</th>\n",
       "      <th>year</th>\n",
       "      <th>ingredients</th>\n",
       "      <th>techniques</th>\n",
       "      <th>creativity</th>\n",
       "    </tr>\n",
       "  </thead>\n",
       "  <tbody>\n",
       "    <tr>\n",
       "      <th>1613</th>\n",
       "      <td>99341</td>\n",
       "      <td>refrito de col y garbanzos</td>\n",
       "      <td>2009</td>\n",
       "      <td>[aceite, pimienta, ajo, col, panceta, garbanzo...</td>\n",
       "      <td>[horno, cocer, hervir, horno, sartén, sal, agua]</td>\n",
       "      <td>0</td>\n",
       "    </tr>\n",
       "    <tr>\n",
       "      <th>1614</th>\n",
       "      <td>99733</td>\n",
       "      <td>roscón de villalba</td>\n",
       "      <td>2009</td>\n",
       "      <td>[huevos, guindilla, almendras, azúcar]</td>\n",
       "      <td>[horno, horno, cocer]</td>\n",
       "      <td>0</td>\n",
       "    </tr>\n",
       "    <tr>\n",
       "      <th>1615</th>\n",
       "      <td>99741</td>\n",
       "      <td>tarta de santiago tradicional</td>\n",
       "      <td>2009</td>\n",
       "      <td>[almendras, huevos, mantequilla, azúcar, huevo...</td>\n",
       "      <td>[horno, horno, relleno, agua, horno]</td>\n",
       "      <td>0</td>\n",
       "    </tr>\n",
       "    <tr>\n",
       "      <th>1616</th>\n",
       "      <td>99839</td>\n",
       "      <td>cogote de merluza a la donostierra</td>\n",
       "      <td>2009</td>\n",
       "      <td>[merluza, ajo, guindilla, aceitunas, vinagre]</td>\n",
       "      <td>[sartén, sal, plancha]</td>\n",
       "      <td>0</td>\n",
       "    </tr>\n",
       "    <tr>\n",
       "      <th>1617</th>\n",
       "      <td>99963</td>\n",
       "      <td>flan de huevo en microondas</td>\n",
       "      <td>2009</td>\n",
       "      <td>[huevos, leche, leche]</td>\n",
       "      <td>[microondas, caramelizado]</td>\n",
       "      <td>0</td>\n",
       "    </tr>\n",
       "  </tbody>\n",
       "</table>\n",
       "</div>"
      ],
      "text/plain": [
       "        _id                               title  year  \\\n",
       "1613  99341          refrito de col y garbanzos  2009   \n",
       "1614  99733                  roscón de villalba  2009   \n",
       "1615  99741       tarta de santiago tradicional  2009   \n",
       "1616  99839  cogote de merluza a la donostierra  2009   \n",
       "1617  99963         flan de huevo en microondas  2009   \n",
       "\n",
       "                                            ingredients  \\\n",
       "1613  [aceite, pimienta, ajo, col, panceta, garbanzo...   \n",
       "1614             [huevos, guindilla, almendras, azúcar]   \n",
       "1615  [almendras, huevos, mantequilla, azúcar, huevo...   \n",
       "1616      [merluza, ajo, guindilla, aceitunas, vinagre]   \n",
       "1617                             [huevos, leche, leche]   \n",
       "\n",
       "                                            techniques  creativity  \n",
       "1613  [horno, cocer, hervir, horno, sartén, sal, agua]           0  \n",
       "1614                             [horno, horno, cocer]           0  \n",
       "1615              [horno, horno, relleno, agua, horno]           0  \n",
       "1616                            [sartén, sal, plancha]           0  \n",
       "1617                        [microondas, caramelizado]           0  "
      ]
     },
     "execution_count": 62,
     "metadata": {},
     "output_type": "execute_result"
    }
   ],
   "source": [
    "super_recipes_df.tail()"
   ]
  },
  {
   "cell_type": "markdown",
   "metadata": {},
   "source": [
    "## Types of ingredients, representative techniques"
   ]
  },
  {
   "cell_type": "markdown",
   "metadata": {},
   "source": [
    "### elbulli"
   ]
  },
  {
   "cell_type": "code",
   "execution_count": 63,
   "metadata": {
    "collapsed": false
   },
   "outputs": [],
   "source": [
    "elbulli_types_recipes_df = pd.read_csv('data/dbs/recipes_elbulli_types.csv')"
   ]
  },
  {
   "cell_type": "code",
   "execution_count": 64,
   "metadata": {
    "collapsed": false
   },
   "outputs": [
    {
     "data": {
      "text/plain": [
       "_id             int64\n",
       "title          object\n",
       "year            int64\n",
       "ingredients    object\n",
       "techniques     object\n",
       "dtype: object"
      ]
     },
     "execution_count": 64,
     "metadata": {},
     "output_type": "execute_result"
    }
   ],
   "source": [
    "elbulli_types_recipes_df.dtypes"
   ]
  },
  {
   "cell_type": "code",
   "execution_count": 65,
   "metadata": {
    "collapsed": false
   },
   "outputs": [
    {
     "data": {
      "text/html": [
       "<div>\n",
       "<table border=\"1\" class=\"dataframe\">\n",
       "  <thead>\n",
       "    <tr style=\"text-align: right;\">\n",
       "      <th></th>\n",
       "      <th>_id</th>\n",
       "      <th>title</th>\n",
       "      <th>year</th>\n",
       "      <th>ingredients</th>\n",
       "      <th>techniques</th>\n",
       "    </tr>\n",
       "  </thead>\n",
       "  <tbody>\n",
       "    <tr>\n",
       "      <th>0</th>\n",
       "      <td>1</td>\n",
       "      <td>terrina de melón con gelée de oporto</td>\n",
       "      <td>1987</td>\n",
       "      <td>[\"western\",\"western\",\"1\",\"western\",\"modernist\"...</td>\n",
       "      <td>[\"agua\"]</td>\n",
       "    </tr>\n",
       "    <tr>\n",
       "      <th>1</th>\n",
       "      <td>10</td>\n",
       "      <td>salmonetes gaudí</td>\n",
       "      <td>1987</td>\n",
       "      <td>[\"western\",\"western\",\"western\",\"1\",\"western\",\"...</td>\n",
       "      <td>[\"sal\",\"marcar\",\"cocción\",\"horno\",\"hervir\",\"ho...</td>\n",
       "    </tr>\n",
       "    <tr>\n",
       "      <th>2</th>\n",
       "      <td>100</td>\n",
       "      <td>oursins</td>\n",
       "      <td>1990</td>\n",
       "      <td>[\"western\",\"western\",\"1\",\"western\",\"western\",\"...</td>\n",
       "      <td>[\"horno\",\"horno\",\"secar\"]</td>\n",
       "    </tr>\n",
       "    <tr>\n",
       "      <th>3</th>\n",
       "      <td>1000</td>\n",
       "      <td>ravioli sférico de té con cubo helado de limón</td>\n",
       "      <td>2004</td>\n",
       "      <td>[\"1\",\"western\",\"modernist\",\"1\",\"western\",\"west...</td>\n",
       "      <td>[\"agua\",\"cocer\",\"horno\"]</td>\n",
       "    </tr>\n",
       "    <tr>\n",
       "      <th>4</th>\n",
       "      <td>1001</td>\n",
       "      <td>ceps en ámbar de su caldo</td>\n",
       "      <td>2004</td>\n",
       "      <td>[\"western\",\"modernist\",\"modernist\",\"modernist\"...</td>\n",
       "      <td>[\"sal\",\"horno\",\"cocer\",\"hervir\",\"confitar\",\"ca...</td>\n",
       "    </tr>\n",
       "  </tbody>\n",
       "</table>\n",
       "</div>"
      ],
      "text/plain": [
       "    _id                                           title  year  \\\n",
       "0     1            terrina de melón con gelée de oporto  1987   \n",
       "1    10                                salmonetes gaudí  1987   \n",
       "2   100                                         oursins  1990   \n",
       "3  1000  ravioli sférico de té con cubo helado de limón  2004   \n",
       "4  1001                       ceps en ámbar de su caldo  2004   \n",
       "\n",
       "                                         ingredients  \\\n",
       "0  [\"western\",\"western\",\"1\",\"western\",\"modernist\"...   \n",
       "1  [\"western\",\"western\",\"western\",\"1\",\"western\",\"...   \n",
       "2  [\"western\",\"western\",\"1\",\"western\",\"western\",\"...   \n",
       "3  [\"1\",\"western\",\"modernist\",\"1\",\"western\",\"west...   \n",
       "4  [\"western\",\"modernist\",\"modernist\",\"modernist\"...   \n",
       "\n",
       "                                          techniques  \n",
       "0                                           [\"agua\"]  \n",
       "1  [\"sal\",\"marcar\",\"cocción\",\"horno\",\"hervir\",\"ho...  \n",
       "2                          [\"horno\",\"horno\",\"secar\"]  \n",
       "3                           [\"agua\",\"cocer\",\"horno\"]  \n",
       "4  [\"sal\",\"horno\",\"cocer\",\"hervir\",\"confitar\",\"ca...  "
      ]
     },
     "execution_count": 65,
     "metadata": {},
     "output_type": "execute_result"
    }
   ],
   "source": [
    "elbulli_types_recipes_df.head()"
   ]
  },
  {
   "cell_type": "code",
   "execution_count": 66,
   "metadata": {
    "collapsed": false
   },
   "outputs": [],
   "source": [
    "elbulli_types_recipes_df['ingredients'] = elbulli_types_recipes_df.apply(lambda x: json.loads(x['ingredients']), axis=1)\n",
    "elbulli_types_recipes_df['techniques'] = elbulli_types_recipes_df.apply(lambda x: json.loads(x['techniques']), axis=1)"
   ]
  },
  {
   "cell_type": "code",
   "execution_count": 67,
   "metadata": {
    "collapsed": false
   },
   "outputs": [
    {
     "data": {
      "text/html": [
       "<div>\n",
       "<table border=\"1\" class=\"dataframe\">\n",
       "  <thead>\n",
       "    <tr style=\"text-align: right;\">\n",
       "      <th></th>\n",
       "      <th>_id</th>\n",
       "      <th>title</th>\n",
       "      <th>year</th>\n",
       "      <th>ingredients</th>\n",
       "      <th>techniques</th>\n",
       "    </tr>\n",
       "  </thead>\n",
       "  <tbody>\n",
       "    <tr>\n",
       "      <th>0</th>\n",
       "      <td>1</td>\n",
       "      <td>terrina de melón con gelée de oporto</td>\n",
       "      <td>1987</td>\n",
       "      <td>[western, western, 1, western, modernist, west...</td>\n",
       "      <td>[agua]</td>\n",
       "    </tr>\n",
       "    <tr>\n",
       "      <th>1</th>\n",
       "      <td>10</td>\n",
       "      <td>salmonetes gaudí</td>\n",
       "      <td>1987</td>\n",
       "      <td>[western, western, western, 1, western, wester...</td>\n",
       "      <td>[sal, marcar, cocción, horno, hervir, horno, s...</td>\n",
       "    </tr>\n",
       "    <tr>\n",
       "      <th>2</th>\n",
       "      <td>100</td>\n",
       "      <td>oursins</td>\n",
       "      <td>1990</td>\n",
       "      <td>[western, western, 1, western, western, western]</td>\n",
       "      <td>[horno, horno, secar]</td>\n",
       "    </tr>\n",
       "    <tr>\n",
       "      <th>3</th>\n",
       "      <td>1000</td>\n",
       "      <td>ravioli sférico de té con cubo helado de limón</td>\n",
       "      <td>2004</td>\n",
       "      <td>[1, western, modernist, 1, western, western]</td>\n",
       "      <td>[agua, cocer, horno]</td>\n",
       "    </tr>\n",
       "    <tr>\n",
       "      <th>4</th>\n",
       "      <td>1001</td>\n",
       "      <td>ceps en ámbar de su caldo</td>\n",
       "      <td>2004</td>\n",
       "      <td>[western, modernist, modernist, modernist, wes...</td>\n",
       "      <td>[sal, horno, cocer, hervir, confitar, cazuela,...</td>\n",
       "    </tr>\n",
       "  </tbody>\n",
       "</table>\n",
       "</div>"
      ],
      "text/plain": [
       "    _id                                           title  year  \\\n",
       "0     1            terrina de melón con gelée de oporto  1987   \n",
       "1    10                                salmonetes gaudí  1987   \n",
       "2   100                                         oursins  1990   \n",
       "3  1000  ravioli sférico de té con cubo helado de limón  2004   \n",
       "4  1001                       ceps en ámbar de su caldo  2004   \n",
       "\n",
       "                                         ingredients  \\\n",
       "0  [western, western, 1, western, modernist, west...   \n",
       "1  [western, western, western, 1, western, wester...   \n",
       "2   [western, western, 1, western, western, western]   \n",
       "3       [1, western, modernist, 1, western, western]   \n",
       "4  [western, modernist, modernist, modernist, wes...   \n",
       "\n",
       "                                          techniques  \n",
       "0                                             [agua]  \n",
       "1  [sal, marcar, cocción, horno, hervir, horno, s...  \n",
       "2                              [horno, horno, secar]  \n",
       "3                               [agua, cocer, horno]  \n",
       "4  [sal, horno, cocer, hervir, confitar, cazuela,...  "
      ]
     },
     "execution_count": 67,
     "metadata": {},
     "output_type": "execute_result"
    }
   ],
   "source": [
    "elbulli_types_recipes_df.head()"
   ]
  },
  {
   "cell_type": "code",
   "execution_count": 68,
   "metadata": {
    "collapsed": true
   },
   "outputs": [],
   "source": [
    "elbulli_types_recipes_df['creativity'] = elbulli_types_recipes_df.apply(\n",
    "    lambda x: 10 if 1987 <= x['year'] <= 1997 else \\\n",
    "              20 if 1998 <= x['year'] <= 2001 else \\\n",
    "              30 if 2002 <= x['year'] <= 2005 else \\\n",
    "              'UNKOWN', axis=1)"
   ]
  },
  {
   "cell_type": "code",
   "execution_count": 69,
   "metadata": {
    "collapsed": false,
    "scrolled": true
   },
   "outputs": [
    {
     "data": {
      "text/html": [
       "<div>\n",
       "<table border=\"1\" class=\"dataframe\">\n",
       "  <thead>\n",
       "    <tr style=\"text-align: right;\">\n",
       "      <th></th>\n",
       "      <th>_id</th>\n",
       "      <th>title</th>\n",
       "      <th>year</th>\n",
       "      <th>ingredients</th>\n",
       "      <th>techniques</th>\n",
       "      <th>creativity</th>\n",
       "    </tr>\n",
       "  </thead>\n",
       "  <tbody>\n",
       "    <tr>\n",
       "      <th>0</th>\n",
       "      <td>1</td>\n",
       "      <td>terrina de melón con gelée de oporto</td>\n",
       "      <td>1987</td>\n",
       "      <td>[western, western, 1, western, modernist, west...</td>\n",
       "      <td>[agua]</td>\n",
       "      <td>10</td>\n",
       "    </tr>\n",
       "    <tr>\n",
       "      <th>1</th>\n",
       "      <td>10</td>\n",
       "      <td>salmonetes gaudí</td>\n",
       "      <td>1987</td>\n",
       "      <td>[western, western, western, 1, western, wester...</td>\n",
       "      <td>[sal, marcar, cocción, horno, hervir, horno, s...</td>\n",
       "      <td>10</td>\n",
       "    </tr>\n",
       "    <tr>\n",
       "      <th>2</th>\n",
       "      <td>100</td>\n",
       "      <td>oursins</td>\n",
       "      <td>1990</td>\n",
       "      <td>[western, western, 1, western, western, western]</td>\n",
       "      <td>[horno, horno, secar]</td>\n",
       "      <td>10</td>\n",
       "    </tr>\n",
       "    <tr>\n",
       "      <th>3</th>\n",
       "      <td>1000</td>\n",
       "      <td>ravioli sférico de té con cubo helado de limón</td>\n",
       "      <td>2004</td>\n",
       "      <td>[1, western, modernist, 1, western, western]</td>\n",
       "      <td>[agua, cocer, horno]</td>\n",
       "      <td>30</td>\n",
       "    </tr>\n",
       "    <tr>\n",
       "      <th>4</th>\n",
       "      <td>1001</td>\n",
       "      <td>ceps en ámbar de su caldo</td>\n",
       "      <td>2004</td>\n",
       "      <td>[western, modernist, modernist, modernist, wes...</td>\n",
       "      <td>[sal, horno, cocer, hervir, confitar, cazuela,...</td>\n",
       "      <td>30</td>\n",
       "    </tr>\n",
       "  </tbody>\n",
       "</table>\n",
       "</div>"
      ],
      "text/plain": [
       "    _id                                           title  year  \\\n",
       "0     1            terrina de melón con gelée de oporto  1987   \n",
       "1    10                                salmonetes gaudí  1987   \n",
       "2   100                                         oursins  1990   \n",
       "3  1000  ravioli sférico de té con cubo helado de limón  2004   \n",
       "4  1001                       ceps en ámbar de su caldo  2004   \n",
       "\n",
       "                                         ingredients  \\\n",
       "0  [western, western, 1, western, modernist, west...   \n",
       "1  [western, western, western, 1, western, wester...   \n",
       "2   [western, western, 1, western, western, western]   \n",
       "3       [1, western, modernist, 1, western, western]   \n",
       "4  [western, modernist, modernist, modernist, wes...   \n",
       "\n",
       "                                          techniques  creativity  \n",
       "0                                             [agua]          10  \n",
       "1  [sal, marcar, cocción, horno, hervir, horno, s...          10  \n",
       "2                              [horno, horno, secar]          10  \n",
       "3                               [agua, cocer, horno]          30  \n",
       "4  [sal, horno, cocer, hervir, confitar, cazuela,...          30  "
      ]
     },
     "execution_count": 69,
     "metadata": {},
     "output_type": "execute_result"
    }
   ],
   "source": [
    "elbulli_types_recipes_df.head()"
   ]
  },
  {
   "cell_type": "markdown",
   "metadata": {},
   "source": [
    "### cookpad"
   ]
  },
  {
   "cell_type": "code",
   "execution_count": 70,
   "metadata": {
    "collapsed": false
   },
   "outputs": [],
   "source": [
    "cookpad_types_recipes_df = pd.read_csv('data/dbs/recipes_cookpad_types.csv')\n",
    "cookpad_types_recipes_df = my_sample(cookpad_types_recipes_df)"
   ]
  },
  {
   "cell_type": "code",
   "execution_count": 71,
   "metadata": {
    "collapsed": false
   },
   "outputs": [
    {
     "data": {
      "text/plain": [
       "_id             int64\n",
       "title          object\n",
       "year            int64\n",
       "ingredients    object\n",
       "techniques     object\n",
       "dtype: object"
      ]
     },
     "execution_count": 71,
     "metadata": {},
     "output_type": "execute_result"
    }
   ],
   "source": [
    "cookpad_types_recipes_df.dtypes"
   ]
  },
  {
   "cell_type": "code",
   "execution_count": 72,
   "metadata": {
    "collapsed": false
   },
   "outputs": [
    {
     "data": {
      "text/html": [
       "<div>\n",
       "<table border=\"1\" class=\"dataframe\">\n",
       "  <thead>\n",
       "    <tr style=\"text-align: right;\">\n",
       "      <th></th>\n",
       "      <th>_id</th>\n",
       "      <th>title</th>\n",
       "      <th>year</th>\n",
       "      <th>ingredients</th>\n",
       "      <th>techniques</th>\n",
       "    </tr>\n",
       "  </thead>\n",
       "  <tbody>\n",
       "    <tr>\n",
       "      <th>17</th>\n",
       "      <td>100377</td>\n",
       "      <td>estofado de venado</td>\n",
       "      <td>2009</td>\n",
       "      <td>[\"western\",\"western\",\"western\",\"western\",\"west...</td>\n",
       "      <td>[\"cocer\",\"a fuego lento\",\"horno\",\"sal\",\"julian...</td>\n",
       "    </tr>\n",
       "    <tr>\n",
       "      <th>18</th>\n",
       "      <td>100383</td>\n",
       "      <td>arroz con mariscos mejjicanna</td>\n",
       "      <td>2009</td>\n",
       "      <td>[\"western\",\"western\",\"western\",\"western\",\"west...</td>\n",
       "      <td>[\"horno\",\"horno\",\"hervir\",\"agua\"]</td>\n",
       "    </tr>\n",
       "    <tr>\n",
       "      <th>60</th>\n",
       "      <td>101081</td>\n",
       "      <td>garbanzos con tomate</td>\n",
       "      <td>2010</td>\n",
       "      <td>[\"western\",\"western\",\"western\",\"western\",\"west...</td>\n",
       "      <td>[\"cocer\"]</td>\n",
       "    </tr>\n",
       "    <tr>\n",
       "      <th>77</th>\n",
       "      <td>101360</td>\n",
       "      <td>brazo gitano de gamba y surimi</td>\n",
       "      <td>2012</td>\n",
       "      <td>[\"western\",\"western\",\"asian\",\"western\",\"wester...</td>\n",
       "      <td>[\"en rodajas\",\"puré\"]</td>\n",
       "    </tr>\n",
       "    <tr>\n",
       "      <th>81</th>\n",
       "      <td>101393</td>\n",
       "      <td>espinacas a la andaluza</td>\n",
       "      <td>2009</td>\n",
       "      <td>[\"western\",\"western\",\"western\",\"western\",\"west...</td>\n",
       "      <td>[\"horno\",\"cocer\",\"a fuego lento\",\"cazuela\",\"sa...</td>\n",
       "    </tr>\n",
       "  </tbody>\n",
       "</table>\n",
       "</div>"
      ],
      "text/plain": [
       "       _id                           title  year  \\\n",
       "17  100377              estofado de venado  2009   \n",
       "18  100383   arroz con mariscos mejjicanna  2009   \n",
       "60  101081            garbanzos con tomate  2010   \n",
       "77  101360  brazo gitano de gamba y surimi  2012   \n",
       "81  101393         espinacas a la andaluza  2009   \n",
       "\n",
       "                                          ingredients  \\\n",
       "17  [\"western\",\"western\",\"western\",\"western\",\"west...   \n",
       "18  [\"western\",\"western\",\"western\",\"western\",\"west...   \n",
       "60  [\"western\",\"western\",\"western\",\"western\",\"west...   \n",
       "77  [\"western\",\"western\",\"asian\",\"western\",\"wester...   \n",
       "81  [\"western\",\"western\",\"western\",\"western\",\"west...   \n",
       "\n",
       "                                           techniques  \n",
       "17  [\"cocer\",\"a fuego lento\",\"horno\",\"sal\",\"julian...  \n",
       "18                  [\"horno\",\"horno\",\"hervir\",\"agua\"]  \n",
       "60                                          [\"cocer\"]  \n",
       "77                              [\"en rodajas\",\"puré\"]  \n",
       "81  [\"horno\",\"cocer\",\"a fuego lento\",\"cazuela\",\"sa...  "
      ]
     },
     "execution_count": 72,
     "metadata": {},
     "output_type": "execute_result"
    }
   ],
   "source": [
    "cookpad_types_recipes_df.head()"
   ]
  },
  {
   "cell_type": "code",
   "execution_count": 73,
   "metadata": {
    "collapsed": false
   },
   "outputs": [],
   "source": [
    "cookpad_types_recipes_df['ingredients'] = cookpad_types_recipes_df.apply(lambda x: json.loads(x['ingredients']), axis=1)\n",
    "cookpad_types_recipes_df['techniques'] = cookpad_types_recipes_df.apply(lambda x: json.loads(x['techniques']), axis=1)"
   ]
  },
  {
   "cell_type": "code",
   "execution_count": 74,
   "metadata": {
    "collapsed": false
   },
   "outputs": [
    {
     "data": {
      "text/html": [
       "<div>\n",
       "<table border=\"1\" class=\"dataframe\">\n",
       "  <thead>\n",
       "    <tr style=\"text-align: right;\">\n",
       "      <th></th>\n",
       "      <th>_id</th>\n",
       "      <th>title</th>\n",
       "      <th>year</th>\n",
       "      <th>ingredients</th>\n",
       "      <th>techniques</th>\n",
       "    </tr>\n",
       "  </thead>\n",
       "  <tbody>\n",
       "    <tr>\n",
       "      <th>17</th>\n",
       "      <td>100377</td>\n",
       "      <td>estofado de venado</td>\n",
       "      <td>2009</td>\n",
       "      <td>[western, western, western, western, western, ...</td>\n",
       "      <td>[cocer, a fuego lento, horno, sal, juliana, agua]</td>\n",
       "    </tr>\n",
       "    <tr>\n",
       "      <th>18</th>\n",
       "      <td>100383</td>\n",
       "      <td>arroz con mariscos mejjicanna</td>\n",
       "      <td>2009</td>\n",
       "      <td>[western, western, western, western, western, ...</td>\n",
       "      <td>[horno, horno, hervir, agua]</td>\n",
       "    </tr>\n",
       "    <tr>\n",
       "      <th>60</th>\n",
       "      <td>101081</td>\n",
       "      <td>garbanzos con tomate</td>\n",
       "      <td>2010</td>\n",
       "      <td>[western, western, western, western, western]</td>\n",
       "      <td>[cocer]</td>\n",
       "    </tr>\n",
       "    <tr>\n",
       "      <th>77</th>\n",
       "      <td>101360</td>\n",
       "      <td>brazo gitano de gamba y surimi</td>\n",
       "      <td>2012</td>\n",
       "      <td>[western, western, asian, western, western, we...</td>\n",
       "      <td>[en rodajas, puré]</td>\n",
       "    </tr>\n",
       "    <tr>\n",
       "      <th>81</th>\n",
       "      <td>101393</td>\n",
       "      <td>espinacas a la andaluza</td>\n",
       "      <td>2009</td>\n",
       "      <td>[western, western, western, western, western, ...</td>\n",
       "      <td>[horno, cocer, a fuego lento, cazuela, sartén,...</td>\n",
       "    </tr>\n",
       "  </tbody>\n",
       "</table>\n",
       "</div>"
      ],
      "text/plain": [
       "       _id                           title  year  \\\n",
       "17  100377              estofado de venado  2009   \n",
       "18  100383   arroz con mariscos mejjicanna  2009   \n",
       "60  101081            garbanzos con tomate  2010   \n",
       "77  101360  brazo gitano de gamba y surimi  2012   \n",
       "81  101393         espinacas a la andaluza  2009   \n",
       "\n",
       "                                          ingredients  \\\n",
       "17  [western, western, western, western, western, ...   \n",
       "18  [western, western, western, western, western, ...   \n",
       "60      [western, western, western, western, western]   \n",
       "77  [western, western, asian, western, western, we...   \n",
       "81  [western, western, western, western, western, ...   \n",
       "\n",
       "                                           techniques  \n",
       "17  [cocer, a fuego lento, horno, sal, juliana, agua]  \n",
       "18                       [horno, horno, hervir, agua]  \n",
       "60                                            [cocer]  \n",
       "77                                 [en rodajas, puré]  \n",
       "81  [horno, cocer, a fuego lento, cazuela, sartén,...  "
      ]
     },
     "execution_count": 74,
     "metadata": {},
     "output_type": "execute_result"
    }
   ],
   "source": [
    "cookpad_types_recipes_df.head()"
   ]
  },
  {
   "cell_type": "code",
   "execution_count": 75,
   "metadata": {
    "collapsed": true
   },
   "outputs": [],
   "source": [
    "cookpad_types_recipes_df['creativity'] = cookpad_types_recipes_df.apply(\n",
    "    lambda x: 0, axis=1)"
   ]
  },
  {
   "cell_type": "code",
   "execution_count": 76,
   "metadata": {
    "collapsed": false,
    "scrolled": true
   },
   "outputs": [
    {
     "data": {
      "text/html": [
       "<div>\n",
       "<table border=\"1\" class=\"dataframe\">\n",
       "  <thead>\n",
       "    <tr style=\"text-align: right;\">\n",
       "      <th></th>\n",
       "      <th>_id</th>\n",
       "      <th>title</th>\n",
       "      <th>year</th>\n",
       "      <th>ingredients</th>\n",
       "      <th>techniques</th>\n",
       "      <th>creativity</th>\n",
       "    </tr>\n",
       "  </thead>\n",
       "  <tbody>\n",
       "    <tr>\n",
       "      <th>17</th>\n",
       "      <td>100377</td>\n",
       "      <td>estofado de venado</td>\n",
       "      <td>2009</td>\n",
       "      <td>[western, western, western, western, western, ...</td>\n",
       "      <td>[cocer, a fuego lento, horno, sal, juliana, agua]</td>\n",
       "      <td>0</td>\n",
       "    </tr>\n",
       "    <tr>\n",
       "      <th>18</th>\n",
       "      <td>100383</td>\n",
       "      <td>arroz con mariscos mejjicanna</td>\n",
       "      <td>2009</td>\n",
       "      <td>[western, western, western, western, western, ...</td>\n",
       "      <td>[horno, horno, hervir, agua]</td>\n",
       "      <td>0</td>\n",
       "    </tr>\n",
       "    <tr>\n",
       "      <th>60</th>\n",
       "      <td>101081</td>\n",
       "      <td>garbanzos con tomate</td>\n",
       "      <td>2010</td>\n",
       "      <td>[western, western, western, western, western]</td>\n",
       "      <td>[cocer]</td>\n",
       "      <td>0</td>\n",
       "    </tr>\n",
       "    <tr>\n",
       "      <th>77</th>\n",
       "      <td>101360</td>\n",
       "      <td>brazo gitano de gamba y surimi</td>\n",
       "      <td>2012</td>\n",
       "      <td>[western, western, asian, western, western, we...</td>\n",
       "      <td>[en rodajas, puré]</td>\n",
       "      <td>0</td>\n",
       "    </tr>\n",
       "    <tr>\n",
       "      <th>81</th>\n",
       "      <td>101393</td>\n",
       "      <td>espinacas a la andaluza</td>\n",
       "      <td>2009</td>\n",
       "      <td>[western, western, western, western, western, ...</td>\n",
       "      <td>[horno, cocer, a fuego lento, cazuela, sartén,...</td>\n",
       "      <td>0</td>\n",
       "    </tr>\n",
       "  </tbody>\n",
       "</table>\n",
       "</div>"
      ],
      "text/plain": [
       "       _id                           title  year  \\\n",
       "17  100377              estofado de venado  2009   \n",
       "18  100383   arroz con mariscos mejjicanna  2009   \n",
       "60  101081            garbanzos con tomate  2010   \n",
       "77  101360  brazo gitano de gamba y surimi  2012   \n",
       "81  101393         espinacas a la andaluza  2009   \n",
       "\n",
       "                                          ingredients  \\\n",
       "17  [western, western, western, western, western, ...   \n",
       "18  [western, western, western, western, western, ...   \n",
       "60      [western, western, western, western, western]   \n",
       "77  [western, western, asian, western, western, we...   \n",
       "81  [western, western, western, western, western, ...   \n",
       "\n",
       "                                           techniques  creativity  \n",
       "17  [cocer, a fuego lento, horno, sal, juliana, agua]           0  \n",
       "18                       [horno, horno, hervir, agua]           0  \n",
       "60                                            [cocer]           0  \n",
       "77                                 [en rodajas, puré]           0  \n",
       "81  [horno, cocer, a fuego lento, cazuela, sartén,...           0  "
      ]
     },
     "execution_count": 76,
     "metadata": {},
     "output_type": "execute_result"
    }
   ],
   "source": [
    "cookpad_types_recipes_df.head()"
   ]
  },
  {
   "cell_type": "markdown",
   "metadata": {},
   "source": [
    "### elbulli & cookpad"
   ]
  },
  {
   "cell_type": "code",
   "execution_count": 77,
   "metadata": {
    "collapsed": true
   },
   "outputs": [],
   "source": [
    "types_recipes_df = elbulli_types_recipes_df.append(cookpad_types_recipes_df, ignore_index=True)"
   ]
  },
  {
   "cell_type": "code",
   "execution_count": 78,
   "metadata": {
    "collapsed": false,
    "scrolled": true
   },
   "outputs": [
    {
     "data": {
      "text/html": [
       "<div>\n",
       "<table border=\"1\" class=\"dataframe\">\n",
       "  <thead>\n",
       "    <tr style=\"text-align: right;\">\n",
       "      <th></th>\n",
       "      <th>_id</th>\n",
       "      <th>title</th>\n",
       "      <th>year</th>\n",
       "      <th>ingredients</th>\n",
       "      <th>techniques</th>\n",
       "      <th>creativity</th>\n",
       "    </tr>\n",
       "  </thead>\n",
       "  <tbody>\n",
       "    <tr>\n",
       "      <th>0</th>\n",
       "      <td>1</td>\n",
       "      <td>terrina de melón con gelée de oporto</td>\n",
       "      <td>1987</td>\n",
       "      <td>[western, western, 1, western, modernist, west...</td>\n",
       "      <td>[agua]</td>\n",
       "      <td>10</td>\n",
       "    </tr>\n",
       "    <tr>\n",
       "      <th>1</th>\n",
       "      <td>10</td>\n",
       "      <td>salmonetes gaudí</td>\n",
       "      <td>1987</td>\n",
       "      <td>[western, western, western, 1, western, wester...</td>\n",
       "      <td>[sal, marcar, cocción, horno, hervir, horno, s...</td>\n",
       "      <td>10</td>\n",
       "    </tr>\n",
       "    <tr>\n",
       "      <th>2</th>\n",
       "      <td>100</td>\n",
       "      <td>oursins</td>\n",
       "      <td>1990</td>\n",
       "      <td>[western, western, 1, western, western, western]</td>\n",
       "      <td>[horno, horno, secar]</td>\n",
       "      <td>10</td>\n",
       "    </tr>\n",
       "    <tr>\n",
       "      <th>3</th>\n",
       "      <td>1000</td>\n",
       "      <td>ravioli sférico de té con cubo helado de limón</td>\n",
       "      <td>2004</td>\n",
       "      <td>[1, western, modernist, 1, western, western]</td>\n",
       "      <td>[agua, cocer, horno]</td>\n",
       "      <td>30</td>\n",
       "    </tr>\n",
       "    <tr>\n",
       "      <th>4</th>\n",
       "      <td>1001</td>\n",
       "      <td>ceps en ámbar de su caldo</td>\n",
       "      <td>2004</td>\n",
       "      <td>[western, modernist, modernist, modernist, wes...</td>\n",
       "      <td>[sal, horno, cocer, hervir, confitar, cazuela,...</td>\n",
       "      <td>30</td>\n",
       "    </tr>\n",
       "  </tbody>\n",
       "</table>\n",
       "</div>"
      ],
      "text/plain": [
       "    _id                                           title  year  \\\n",
       "0     1            terrina de melón con gelée de oporto  1987   \n",
       "1    10                                salmonetes gaudí  1987   \n",
       "2   100                                         oursins  1990   \n",
       "3  1000  ravioli sférico de té con cubo helado de limón  2004   \n",
       "4  1001                       ceps en ámbar de su caldo  2004   \n",
       "\n",
       "                                         ingredients  \\\n",
       "0  [western, western, 1, western, modernist, west...   \n",
       "1  [western, western, western, 1, western, wester...   \n",
       "2   [western, western, 1, western, western, western]   \n",
       "3       [1, western, modernist, 1, western, western]   \n",
       "4  [western, modernist, modernist, modernist, wes...   \n",
       "\n",
       "                                          techniques  creativity  \n",
       "0                                             [agua]          10  \n",
       "1  [sal, marcar, cocción, horno, hervir, horno, s...          10  \n",
       "2                              [horno, horno, secar]          10  \n",
       "3                               [agua, cocer, horno]          30  \n",
       "4  [sal, horno, cocer, hervir, confitar, cazuela,...          30  "
      ]
     },
     "execution_count": 78,
     "metadata": {},
     "output_type": "execute_result"
    }
   ],
   "source": [
    "types_recipes_df.head()"
   ]
  },
  {
   "cell_type": "markdown",
   "metadata": {},
   "source": [
    "## Cuisines of ingredients, representative techniques"
   ]
  },
  {
   "cell_type": "markdown",
   "metadata": {},
   "source": [
    "### elbulli"
   ]
  },
  {
   "cell_type": "code",
   "execution_count": 79,
   "metadata": {
    "collapsed": false
   },
   "outputs": [],
   "source": [
    "elbulli_cuis_recipes_df = pd.read_csv('data/dbs/recipes_elbulli_cuisines.csv')"
   ]
  },
  {
   "cell_type": "code",
   "execution_count": 80,
   "metadata": {
    "collapsed": false
   },
   "outputs": [
    {
     "data": {
      "text/plain": [
       "_id             int64\n",
       "title          object\n",
       "year            int64\n",
       "ingredients    object\n",
       "techniques     object\n",
       "dtype: object"
      ]
     },
     "execution_count": 80,
     "metadata": {},
     "output_type": "execute_result"
    }
   ],
   "source": [
    "elbulli_cuis_recipes_df.dtypes"
   ]
  },
  {
   "cell_type": "code",
   "execution_count": 81,
   "metadata": {
    "collapsed": false
   },
   "outputs": [
    {
     "data": {
      "text/html": [
       "<div>\n",
       "<table border=\"1\" class=\"dataframe\">\n",
       "  <thead>\n",
       "    <tr style=\"text-align: right;\">\n",
       "      <th></th>\n",
       "      <th>_id</th>\n",
       "      <th>title</th>\n",
       "      <th>year</th>\n",
       "      <th>ingredients</th>\n",
       "      <th>techniques</th>\n",
       "    </tr>\n",
       "  </thead>\n",
       "  <tbody>\n",
       "    <tr>\n",
       "      <th>0</th>\n",
       "      <td>1</td>\n",
       "      <td>terrina de melón con gelée de oporto</td>\n",
       "      <td>1987</td>\n",
       "      <td>[\"other\",\"spicies_and_condimients\",\"drinks\",\"2...</td>\n",
       "      <td>[\"agua\"]</td>\n",
       "    </tr>\n",
       "    <tr>\n",
       "      <th>1</th>\n",
       "      <td>10</td>\n",
       "      <td>salmonetes gaudí</td>\n",
       "      <td>1987</td>\n",
       "      <td>[\"spicies_and_condimients\",\"vegetables\",\"veget...</td>\n",
       "      <td>[\"sal\",\"marcar\",\"cocción\",\"horno\",\"hervir\",\"ho...</td>\n",
       "    </tr>\n",
       "    <tr>\n",
       "      <th>2</th>\n",
       "      <td>100</td>\n",
       "      <td>oursins</td>\n",
       "      <td>1990</td>\n",
       "      <td>[\"sweets\",\"spicies_and_condimients\",\"nuts\",\"sp...</td>\n",
       "      <td>[\"horno\",\"horno\",\"secar\"]</td>\n",
       "    </tr>\n",
       "    <tr>\n",
       "      <th>3</th>\n",
       "      <td>1000</td>\n",
       "      <td>ravioli sférico de té con cubo helado de limón</td>\n",
       "      <td>2004</td>\n",
       "      <td>[\"14\",\"fruits\",\"other\",\"drinks\",\"drinks\",\"swee...</td>\n",
       "      <td>[\"agua\",\"cocer\",\"horno\"]</td>\n",
       "    </tr>\n",
       "    <tr>\n",
       "      <th>4</th>\n",
       "      <td>1001</td>\n",
       "      <td>ceps en ámbar de su caldo</td>\n",
       "      <td>2004</td>\n",
       "      <td>[\"spicies_and_condimients\",\"other\",\"other\",\"sp...</td>\n",
       "      <td>[\"sal\",\"horno\",\"cocer\",\"hervir\",\"confitar\",\"ca...</td>\n",
       "    </tr>\n",
       "  </tbody>\n",
       "</table>\n",
       "</div>"
      ],
      "text/plain": [
       "    _id                                           title  year  \\\n",
       "0     1            terrina de melón con gelée de oporto  1987   \n",
       "1    10                                salmonetes gaudí  1987   \n",
       "2   100                                         oursins  1990   \n",
       "3  1000  ravioli sférico de té con cubo helado de limón  2004   \n",
       "4  1001                       ceps en ámbar de su caldo  2004   \n",
       "\n",
       "                                         ingredients  \\\n",
       "0  [\"other\",\"spicies_and_condimients\",\"drinks\",\"2...   \n",
       "1  [\"spicies_and_condimients\",\"vegetables\",\"veget...   \n",
       "2  [\"sweets\",\"spicies_and_condimients\",\"nuts\",\"sp...   \n",
       "3  [\"14\",\"fruits\",\"other\",\"drinks\",\"drinks\",\"swee...   \n",
       "4  [\"spicies_and_condimients\",\"other\",\"other\",\"sp...   \n",
       "\n",
       "                                          techniques  \n",
       "0                                           [\"agua\"]  \n",
       "1  [\"sal\",\"marcar\",\"cocción\",\"horno\",\"hervir\",\"ho...  \n",
       "2                          [\"horno\",\"horno\",\"secar\"]  \n",
       "3                           [\"agua\",\"cocer\",\"horno\"]  \n",
       "4  [\"sal\",\"horno\",\"cocer\",\"hervir\",\"confitar\",\"ca...  "
      ]
     },
     "execution_count": 81,
     "metadata": {},
     "output_type": "execute_result"
    }
   ],
   "source": [
    "elbulli_cuis_recipes_df.head()"
   ]
  },
  {
   "cell_type": "code",
   "execution_count": 82,
   "metadata": {
    "collapsed": false
   },
   "outputs": [],
   "source": [
    "elbulli_cuis_recipes_df['ingredients'] = elbulli_cuis_recipes_df.apply(lambda x: json.loads(x['ingredients']), axis=1)\n",
    "elbulli_cuis_recipes_df['techniques'] = elbulli_cuis_recipes_df.apply(lambda x: json.loads(x['techniques']), axis=1)"
   ]
  },
  {
   "cell_type": "code",
   "execution_count": 83,
   "metadata": {
    "collapsed": false
   },
   "outputs": [
    {
     "data": {
      "text/html": [
       "<div>\n",
       "<table border=\"1\" class=\"dataframe\">\n",
       "  <thead>\n",
       "    <tr style=\"text-align: right;\">\n",
       "      <th></th>\n",
       "      <th>_id</th>\n",
       "      <th>title</th>\n",
       "      <th>year</th>\n",
       "      <th>ingredients</th>\n",
       "      <th>techniques</th>\n",
       "    </tr>\n",
       "  </thead>\n",
       "  <tbody>\n",
       "    <tr>\n",
       "      <th>0</th>\n",
       "      <td>1</td>\n",
       "      <td>terrina de melón con gelée de oporto</td>\n",
       "      <td>1987</td>\n",
       "      <td>[other, spicies_and_condimients, drinks, 2, ot...</td>\n",
       "      <td>[agua]</td>\n",
       "    </tr>\n",
       "    <tr>\n",
       "      <th>1</th>\n",
       "      <td>10</td>\n",
       "      <td>salmonetes gaudí</td>\n",
       "      <td>1987</td>\n",
       "      <td>[spicies_and_condimients, vegetables, vegetabl...</td>\n",
       "      <td>[sal, marcar, cocción, horno, hervir, horno, s...</td>\n",
       "    </tr>\n",
       "    <tr>\n",
       "      <th>2</th>\n",
       "      <td>100</td>\n",
       "      <td>oursins</td>\n",
       "      <td>1990</td>\n",
       "      <td>[sweets, spicies_and_condimients, nuts, spicie...</td>\n",
       "      <td>[horno, horno, secar]</td>\n",
       "    </tr>\n",
       "    <tr>\n",
       "      <th>3</th>\n",
       "      <td>1000</td>\n",
       "      <td>ravioli sférico de té con cubo helado de limón</td>\n",
       "      <td>2004</td>\n",
       "      <td>[14, fruits, other, drinks, drinks, sweets]</td>\n",
       "      <td>[agua, cocer, horno]</td>\n",
       "    </tr>\n",
       "    <tr>\n",
       "      <th>4</th>\n",
       "      <td>1001</td>\n",
       "      <td>ceps en ámbar de su caldo</td>\n",
       "      <td>2004</td>\n",
       "      <td>[spicies_and_condimients, other, other, spicie...</td>\n",
       "      <td>[sal, horno, cocer, hervir, confitar, cazuela,...</td>\n",
       "    </tr>\n",
       "  </tbody>\n",
       "</table>\n",
       "</div>"
      ],
      "text/plain": [
       "    _id                                           title  year  \\\n",
       "0     1            terrina de melón con gelée de oporto  1987   \n",
       "1    10                                salmonetes gaudí  1987   \n",
       "2   100                                         oursins  1990   \n",
       "3  1000  ravioli sférico de té con cubo helado de limón  2004   \n",
       "4  1001                       ceps en ámbar de su caldo  2004   \n",
       "\n",
       "                                         ingredients  \\\n",
       "0  [other, spicies_and_condimients, drinks, 2, ot...   \n",
       "1  [spicies_and_condimients, vegetables, vegetabl...   \n",
       "2  [sweets, spicies_and_condimients, nuts, spicie...   \n",
       "3        [14, fruits, other, drinks, drinks, sweets]   \n",
       "4  [spicies_and_condimients, other, other, spicie...   \n",
       "\n",
       "                                          techniques  \n",
       "0                                             [agua]  \n",
       "1  [sal, marcar, cocción, horno, hervir, horno, s...  \n",
       "2                              [horno, horno, secar]  \n",
       "3                               [agua, cocer, horno]  \n",
       "4  [sal, horno, cocer, hervir, confitar, cazuela,...  "
      ]
     },
     "execution_count": 83,
     "metadata": {},
     "output_type": "execute_result"
    }
   ],
   "source": [
    "elbulli_cuis_recipes_df.head()"
   ]
  },
  {
   "cell_type": "code",
   "execution_count": 84,
   "metadata": {
    "collapsed": true
   },
   "outputs": [],
   "source": [
    "elbulli_cuis_recipes_df['creativity'] = elbulli_cuis_recipes_df.apply(\n",
    "    lambda x: 10 if 1987 <= x['year'] <= 1997 else \\\n",
    "              20 if 1998 <= x['year'] <= 2001 else \\\n",
    "              30 if 2002 <= x['year'] <= 2005 else \\\n",
    "              'UNKOWN', axis=1)"
   ]
  },
  {
   "cell_type": "code",
   "execution_count": 85,
   "metadata": {
    "collapsed": false,
    "scrolled": true
   },
   "outputs": [
    {
     "data": {
      "text/html": [
       "<div>\n",
       "<table border=\"1\" class=\"dataframe\">\n",
       "  <thead>\n",
       "    <tr style=\"text-align: right;\">\n",
       "      <th></th>\n",
       "      <th>_id</th>\n",
       "      <th>title</th>\n",
       "      <th>year</th>\n",
       "      <th>ingredients</th>\n",
       "      <th>techniques</th>\n",
       "      <th>creativity</th>\n",
       "    </tr>\n",
       "  </thead>\n",
       "  <tbody>\n",
       "    <tr>\n",
       "      <th>0</th>\n",
       "      <td>1</td>\n",
       "      <td>terrina de melón con gelée de oporto</td>\n",
       "      <td>1987</td>\n",
       "      <td>[other, spicies_and_condimients, drinks, 2, ot...</td>\n",
       "      <td>[agua]</td>\n",
       "      <td>10</td>\n",
       "    </tr>\n",
       "    <tr>\n",
       "      <th>1</th>\n",
       "      <td>10</td>\n",
       "      <td>salmonetes gaudí</td>\n",
       "      <td>1987</td>\n",
       "      <td>[spicies_and_condimients, vegetables, vegetabl...</td>\n",
       "      <td>[sal, marcar, cocción, horno, hervir, horno, s...</td>\n",
       "      <td>10</td>\n",
       "    </tr>\n",
       "    <tr>\n",
       "      <th>2</th>\n",
       "      <td>100</td>\n",
       "      <td>oursins</td>\n",
       "      <td>1990</td>\n",
       "      <td>[sweets, spicies_and_condimients, nuts, spicie...</td>\n",
       "      <td>[horno, horno, secar]</td>\n",
       "      <td>10</td>\n",
       "    </tr>\n",
       "    <tr>\n",
       "      <th>3</th>\n",
       "      <td>1000</td>\n",
       "      <td>ravioli sférico de té con cubo helado de limón</td>\n",
       "      <td>2004</td>\n",
       "      <td>[14, fruits, other, drinks, drinks, sweets]</td>\n",
       "      <td>[agua, cocer, horno]</td>\n",
       "      <td>30</td>\n",
       "    </tr>\n",
       "    <tr>\n",
       "      <th>4</th>\n",
       "      <td>1001</td>\n",
       "      <td>ceps en ámbar de su caldo</td>\n",
       "      <td>2004</td>\n",
       "      <td>[spicies_and_condimients, other, other, spicie...</td>\n",
       "      <td>[sal, horno, cocer, hervir, confitar, cazuela,...</td>\n",
       "      <td>30</td>\n",
       "    </tr>\n",
       "  </tbody>\n",
       "</table>\n",
       "</div>"
      ],
      "text/plain": [
       "    _id                                           title  year  \\\n",
       "0     1            terrina de melón con gelée de oporto  1987   \n",
       "1    10                                salmonetes gaudí  1987   \n",
       "2   100                                         oursins  1990   \n",
       "3  1000  ravioli sférico de té con cubo helado de limón  2004   \n",
       "4  1001                       ceps en ámbar de su caldo  2004   \n",
       "\n",
       "                                         ingredients  \\\n",
       "0  [other, spicies_and_condimients, drinks, 2, ot...   \n",
       "1  [spicies_and_condimients, vegetables, vegetabl...   \n",
       "2  [sweets, spicies_and_condimients, nuts, spicie...   \n",
       "3        [14, fruits, other, drinks, drinks, sweets]   \n",
       "4  [spicies_and_condimients, other, other, spicie...   \n",
       "\n",
       "                                          techniques  creativity  \n",
       "0                                             [agua]          10  \n",
       "1  [sal, marcar, cocción, horno, hervir, horno, s...          10  \n",
       "2                              [horno, horno, secar]          10  \n",
       "3                               [agua, cocer, horno]          30  \n",
       "4  [sal, horno, cocer, hervir, confitar, cazuela,...          30  "
      ]
     },
     "execution_count": 85,
     "metadata": {},
     "output_type": "execute_result"
    }
   ],
   "source": [
    "elbulli_cuis_recipes_df.head()"
   ]
  },
  {
   "cell_type": "markdown",
   "metadata": {},
   "source": [
    "### cookpad"
   ]
  },
  {
   "cell_type": "code",
   "execution_count": 86,
   "metadata": {
    "collapsed": false
   },
   "outputs": [],
   "source": [
    "cookpad_cuis_recipes_df = pd.read_csv('data/dbs/recipes_cookpad_cuisines.csv')\n",
    "cookpad_cuis_recipes_df = my_sample(cookpad_cuis_recipes_df)"
   ]
  },
  {
   "cell_type": "code",
   "execution_count": 87,
   "metadata": {
    "collapsed": false
   },
   "outputs": [
    {
     "data": {
      "text/plain": [
       "_id             int64\n",
       "title          object\n",
       "year            int64\n",
       "ingredients    object\n",
       "techniques     object\n",
       "dtype: object"
      ]
     },
     "execution_count": 87,
     "metadata": {},
     "output_type": "execute_result"
    }
   ],
   "source": [
    "cookpad_cuis_recipes_df.dtypes"
   ]
  },
  {
   "cell_type": "code",
   "execution_count": 88,
   "metadata": {
    "collapsed": false
   },
   "outputs": [
    {
     "data": {
      "text/html": [
       "<div>\n",
       "<table border=\"1\" class=\"dataframe\">\n",
       "  <thead>\n",
       "    <tr style=\"text-align: right;\">\n",
       "      <th></th>\n",
       "      <th>_id</th>\n",
       "      <th>title</th>\n",
       "      <th>year</th>\n",
       "      <th>ingredients</th>\n",
       "      <th>techniques</th>\n",
       "    </tr>\n",
       "  </thead>\n",
       "  <tbody>\n",
       "    <tr>\n",
       "      <th>17</th>\n",
       "      <td>100377</td>\n",
       "      <td>estofado de venado</td>\n",
       "      <td>2009</td>\n",
       "      <td>[\"spicies_and_condimients\",\"vegetables\",\"spici...</td>\n",
       "      <td>[\"cocer\",\"a fuego lento\",\"horno\",\"sal\",\"julian...</td>\n",
       "    </tr>\n",
       "    <tr>\n",
       "      <th>18</th>\n",
       "      <td>100383</td>\n",
       "      <td>arroz con mariscos mejjicanna</td>\n",
       "      <td>2009</td>\n",
       "      <td>[\"vegetables\",\"spicies_and_condimients\",\"spici...</td>\n",
       "      <td>[\"horno\",\"horno\",\"hervir\",\"agua\"]</td>\n",
       "    </tr>\n",
       "    <tr>\n",
       "      <th>60</th>\n",
       "      <td>101081</td>\n",
       "      <td>garbanzos con tomate</td>\n",
       "      <td>2010</td>\n",
       "      <td>[\"spicies_and_condimients\",\"spicies_and_condim...</td>\n",
       "      <td>[\"cocer\"]</td>\n",
       "    </tr>\n",
       "    <tr>\n",
       "      <th>77</th>\n",
       "      <td>101360</td>\n",
       "      <td>brazo gitano de gamba y surimi</td>\n",
       "      <td>2012</td>\n",
       "      <td>[\"vegetables\",\"spicies_and_condimients\",\"seafo...</td>\n",
       "      <td>[\"en rodajas\",\"puré\"]</td>\n",
       "    </tr>\n",
       "    <tr>\n",
       "      <th>81</th>\n",
       "      <td>101393</td>\n",
       "      <td>espinacas a la andaluza</td>\n",
       "      <td>2009</td>\n",
       "      <td>[\"spicies_and_condimients\",\"spicies_and_condim...</td>\n",
       "      <td>[\"horno\",\"cocer\",\"a fuego lento\",\"cazuela\",\"sa...</td>\n",
       "    </tr>\n",
       "  </tbody>\n",
       "</table>\n",
       "</div>"
      ],
      "text/plain": [
       "       _id                           title  year  \\\n",
       "17  100377              estofado de venado  2009   \n",
       "18  100383   arroz con mariscos mejjicanna  2009   \n",
       "60  101081            garbanzos con tomate  2010   \n",
       "77  101360  brazo gitano de gamba y surimi  2012   \n",
       "81  101393         espinacas a la andaluza  2009   \n",
       "\n",
       "                                          ingredients  \\\n",
       "17  [\"spicies_and_condimients\",\"vegetables\",\"spici...   \n",
       "18  [\"vegetables\",\"spicies_and_condimients\",\"spici...   \n",
       "60  [\"spicies_and_condimients\",\"spicies_and_condim...   \n",
       "77  [\"vegetables\",\"spicies_and_condimients\",\"seafo...   \n",
       "81  [\"spicies_and_condimients\",\"spicies_and_condim...   \n",
       "\n",
       "                                           techniques  \n",
       "17  [\"cocer\",\"a fuego lento\",\"horno\",\"sal\",\"julian...  \n",
       "18                  [\"horno\",\"horno\",\"hervir\",\"agua\"]  \n",
       "60                                          [\"cocer\"]  \n",
       "77                              [\"en rodajas\",\"puré\"]  \n",
       "81  [\"horno\",\"cocer\",\"a fuego lento\",\"cazuela\",\"sa...  "
      ]
     },
     "execution_count": 88,
     "metadata": {},
     "output_type": "execute_result"
    }
   ],
   "source": [
    "cookpad_cuis_recipes_df.head()"
   ]
  },
  {
   "cell_type": "code",
   "execution_count": 89,
   "metadata": {
    "collapsed": false
   },
   "outputs": [],
   "source": [
    "cookpad_cuis_recipes_df['ingredients'] = cookpad_cuis_recipes_df.apply(lambda x: json.loads(x['ingredients']), axis=1)\n",
    "cookpad_cuis_recipes_df['techniques'] = cookpad_cuis_recipes_df.apply(lambda x: json.loads(x['techniques']), axis=1)"
   ]
  },
  {
   "cell_type": "code",
   "execution_count": 90,
   "metadata": {
    "collapsed": false
   },
   "outputs": [
    {
     "data": {
      "text/html": [
       "<div>\n",
       "<table border=\"1\" class=\"dataframe\">\n",
       "  <thead>\n",
       "    <tr style=\"text-align: right;\">\n",
       "      <th></th>\n",
       "      <th>_id</th>\n",
       "      <th>title</th>\n",
       "      <th>year</th>\n",
       "      <th>ingredients</th>\n",
       "      <th>techniques</th>\n",
       "    </tr>\n",
       "  </thead>\n",
       "  <tbody>\n",
       "    <tr>\n",
       "      <th>17</th>\n",
       "      <td>100377</td>\n",
       "      <td>estofado de venado</td>\n",
       "      <td>2009</td>\n",
       "      <td>[spicies_and_condimients, vegetables, spicies_...</td>\n",
       "      <td>[cocer, a fuego lento, horno, sal, juliana, agua]</td>\n",
       "    </tr>\n",
       "    <tr>\n",
       "      <th>18</th>\n",
       "      <td>100383</td>\n",
       "      <td>arroz con mariscos mejjicanna</td>\n",
       "      <td>2009</td>\n",
       "      <td>[vegetables, spicies_and_condimients, spicies_...</td>\n",
       "      <td>[horno, horno, hervir, agua]</td>\n",
       "    </tr>\n",
       "    <tr>\n",
       "      <th>60</th>\n",
       "      <td>101081</td>\n",
       "      <td>garbanzos con tomate</td>\n",
       "      <td>2010</td>\n",
       "      <td>[spicies_and_condimients, spicies_and_condimie...</td>\n",
       "      <td>[cocer]</td>\n",
       "    </tr>\n",
       "    <tr>\n",
       "      <th>77</th>\n",
       "      <td>101360</td>\n",
       "      <td>brazo gitano de gamba y surimi</td>\n",
       "      <td>2012</td>\n",
       "      <td>[vegetables, spicies_and_condimients, seafood,...</td>\n",
       "      <td>[en rodajas, puré]</td>\n",
       "    </tr>\n",
       "    <tr>\n",
       "      <th>81</th>\n",
       "      <td>101393</td>\n",
       "      <td>espinacas a la andaluza</td>\n",
       "      <td>2009</td>\n",
       "      <td>[spicies_and_condimients, spicies_and_condimie...</td>\n",
       "      <td>[horno, cocer, a fuego lento, cazuela, sartén,...</td>\n",
       "    </tr>\n",
       "  </tbody>\n",
       "</table>\n",
       "</div>"
      ],
      "text/plain": [
       "       _id                           title  year  \\\n",
       "17  100377              estofado de venado  2009   \n",
       "18  100383   arroz con mariscos mejjicanna  2009   \n",
       "60  101081            garbanzos con tomate  2010   \n",
       "77  101360  brazo gitano de gamba y surimi  2012   \n",
       "81  101393         espinacas a la andaluza  2009   \n",
       "\n",
       "                                          ingredients  \\\n",
       "17  [spicies_and_condimients, vegetables, spicies_...   \n",
       "18  [vegetables, spicies_and_condimients, spicies_...   \n",
       "60  [spicies_and_condimients, spicies_and_condimie...   \n",
       "77  [vegetables, spicies_and_condimients, seafood,...   \n",
       "81  [spicies_and_condimients, spicies_and_condimie...   \n",
       "\n",
       "                                           techniques  \n",
       "17  [cocer, a fuego lento, horno, sal, juliana, agua]  \n",
       "18                       [horno, horno, hervir, agua]  \n",
       "60                                            [cocer]  \n",
       "77                                 [en rodajas, puré]  \n",
       "81  [horno, cocer, a fuego lento, cazuela, sartén,...  "
      ]
     },
     "execution_count": 90,
     "metadata": {},
     "output_type": "execute_result"
    }
   ],
   "source": [
    "cookpad_cuis_recipes_df.head()"
   ]
  },
  {
   "cell_type": "code",
   "execution_count": 91,
   "metadata": {
    "collapsed": true
   },
   "outputs": [],
   "source": [
    "cookpad_cuis_recipes_df['creativity'] = cookpad_cuis_recipes_df.apply(\n",
    "    lambda x: 0, axis=1)"
   ]
  },
  {
   "cell_type": "code",
   "execution_count": 92,
   "metadata": {
    "collapsed": false,
    "scrolled": true
   },
   "outputs": [
    {
     "data": {
      "text/html": [
       "<div>\n",
       "<table border=\"1\" class=\"dataframe\">\n",
       "  <thead>\n",
       "    <tr style=\"text-align: right;\">\n",
       "      <th></th>\n",
       "      <th>_id</th>\n",
       "      <th>title</th>\n",
       "      <th>year</th>\n",
       "      <th>ingredients</th>\n",
       "      <th>techniques</th>\n",
       "      <th>creativity</th>\n",
       "    </tr>\n",
       "  </thead>\n",
       "  <tbody>\n",
       "    <tr>\n",
       "      <th>17</th>\n",
       "      <td>100377</td>\n",
       "      <td>estofado de venado</td>\n",
       "      <td>2009</td>\n",
       "      <td>[spicies_and_condimients, vegetables, spicies_...</td>\n",
       "      <td>[cocer, a fuego lento, horno, sal, juliana, agua]</td>\n",
       "      <td>0</td>\n",
       "    </tr>\n",
       "    <tr>\n",
       "      <th>18</th>\n",
       "      <td>100383</td>\n",
       "      <td>arroz con mariscos mejjicanna</td>\n",
       "      <td>2009</td>\n",
       "      <td>[vegetables, spicies_and_condimients, spicies_...</td>\n",
       "      <td>[horno, horno, hervir, agua]</td>\n",
       "      <td>0</td>\n",
       "    </tr>\n",
       "    <tr>\n",
       "      <th>60</th>\n",
       "      <td>101081</td>\n",
       "      <td>garbanzos con tomate</td>\n",
       "      <td>2010</td>\n",
       "      <td>[spicies_and_condimients, spicies_and_condimie...</td>\n",
       "      <td>[cocer]</td>\n",
       "      <td>0</td>\n",
       "    </tr>\n",
       "    <tr>\n",
       "      <th>77</th>\n",
       "      <td>101360</td>\n",
       "      <td>brazo gitano de gamba y surimi</td>\n",
       "      <td>2012</td>\n",
       "      <td>[vegetables, spicies_and_condimients, seafood,...</td>\n",
       "      <td>[en rodajas, puré]</td>\n",
       "      <td>0</td>\n",
       "    </tr>\n",
       "    <tr>\n",
       "      <th>81</th>\n",
       "      <td>101393</td>\n",
       "      <td>espinacas a la andaluza</td>\n",
       "      <td>2009</td>\n",
       "      <td>[spicies_and_condimients, spicies_and_condimie...</td>\n",
       "      <td>[horno, cocer, a fuego lento, cazuela, sartén,...</td>\n",
       "      <td>0</td>\n",
       "    </tr>\n",
       "  </tbody>\n",
       "</table>\n",
       "</div>"
      ],
      "text/plain": [
       "       _id                           title  year  \\\n",
       "17  100377              estofado de venado  2009   \n",
       "18  100383   arroz con mariscos mejjicanna  2009   \n",
       "60  101081            garbanzos con tomate  2010   \n",
       "77  101360  brazo gitano de gamba y surimi  2012   \n",
       "81  101393         espinacas a la andaluza  2009   \n",
       "\n",
       "                                          ingredients  \\\n",
       "17  [spicies_and_condimients, vegetables, spicies_...   \n",
       "18  [vegetables, spicies_and_condimients, spicies_...   \n",
       "60  [spicies_and_condimients, spicies_and_condimie...   \n",
       "77  [vegetables, spicies_and_condimients, seafood,...   \n",
       "81  [spicies_and_condimients, spicies_and_condimie...   \n",
       "\n",
       "                                           techniques  creativity  \n",
       "17  [cocer, a fuego lento, horno, sal, juliana, agua]           0  \n",
       "18                       [horno, horno, hervir, agua]           0  \n",
       "60                                            [cocer]           0  \n",
       "77                                 [en rodajas, puré]           0  \n",
       "81  [horno, cocer, a fuego lento, cazuela, sartén,...           0  "
      ]
     },
     "execution_count": 92,
     "metadata": {},
     "output_type": "execute_result"
    }
   ],
   "source": [
    "cookpad_cuis_recipes_df.head()"
   ]
  },
  {
   "cell_type": "markdown",
   "metadata": {},
   "source": [
    "### elbulli & cookpad"
   ]
  },
  {
   "cell_type": "code",
   "execution_count": 93,
   "metadata": {
    "collapsed": true
   },
   "outputs": [],
   "source": [
    "cuis_recipes_df = elbulli_cuis_recipes_df.append(cookpad_cuis_recipes_df, ignore_index=True)"
   ]
  },
  {
   "cell_type": "code",
   "execution_count": 94,
   "metadata": {
    "collapsed": false,
    "scrolled": true
   },
   "outputs": [
    {
     "data": {
      "text/html": [
       "<div>\n",
       "<table border=\"1\" class=\"dataframe\">\n",
       "  <thead>\n",
       "    <tr style=\"text-align: right;\">\n",
       "      <th></th>\n",
       "      <th>_id</th>\n",
       "      <th>title</th>\n",
       "      <th>year</th>\n",
       "      <th>ingredients</th>\n",
       "      <th>techniques</th>\n",
       "      <th>creativity</th>\n",
       "    </tr>\n",
       "  </thead>\n",
       "  <tbody>\n",
       "    <tr>\n",
       "      <th>0</th>\n",
       "      <td>1</td>\n",
       "      <td>terrina de melón con gelée de oporto</td>\n",
       "      <td>1987</td>\n",
       "      <td>[other, spicies_and_condimients, drinks, 2, ot...</td>\n",
       "      <td>[agua]</td>\n",
       "      <td>10</td>\n",
       "    </tr>\n",
       "    <tr>\n",
       "      <th>1</th>\n",
       "      <td>10</td>\n",
       "      <td>salmonetes gaudí</td>\n",
       "      <td>1987</td>\n",
       "      <td>[spicies_and_condimients, vegetables, vegetabl...</td>\n",
       "      <td>[sal, marcar, cocción, horno, hervir, horno, s...</td>\n",
       "      <td>10</td>\n",
       "    </tr>\n",
       "    <tr>\n",
       "      <th>2</th>\n",
       "      <td>100</td>\n",
       "      <td>oursins</td>\n",
       "      <td>1990</td>\n",
       "      <td>[sweets, spicies_and_condimients, nuts, spicie...</td>\n",
       "      <td>[horno, horno, secar]</td>\n",
       "      <td>10</td>\n",
       "    </tr>\n",
       "    <tr>\n",
       "      <th>3</th>\n",
       "      <td>1000</td>\n",
       "      <td>ravioli sférico de té con cubo helado de limón</td>\n",
       "      <td>2004</td>\n",
       "      <td>[14, fruits, other, drinks, drinks, sweets]</td>\n",
       "      <td>[agua, cocer, horno]</td>\n",
       "      <td>30</td>\n",
       "    </tr>\n",
       "    <tr>\n",
       "      <th>4</th>\n",
       "      <td>1001</td>\n",
       "      <td>ceps en ámbar de su caldo</td>\n",
       "      <td>2004</td>\n",
       "      <td>[spicies_and_condimients, other, other, spicie...</td>\n",
       "      <td>[sal, horno, cocer, hervir, confitar, cazuela,...</td>\n",
       "      <td>30</td>\n",
       "    </tr>\n",
       "  </tbody>\n",
       "</table>\n",
       "</div>"
      ],
      "text/plain": [
       "    _id                                           title  year  \\\n",
       "0     1            terrina de melón con gelée de oporto  1987   \n",
       "1    10                                salmonetes gaudí  1987   \n",
       "2   100                                         oursins  1990   \n",
       "3  1000  ravioli sférico de té con cubo helado de limón  2004   \n",
       "4  1001                       ceps en ámbar de su caldo  2004   \n",
       "\n",
       "                                         ingredients  \\\n",
       "0  [other, spicies_and_condimients, drinks, 2, ot...   \n",
       "1  [spicies_and_condimients, vegetables, vegetabl...   \n",
       "2  [sweets, spicies_and_condimients, nuts, spicie...   \n",
       "3        [14, fruits, other, drinks, drinks, sweets]   \n",
       "4  [spicies_and_condimients, other, other, spicie...   \n",
       "\n",
       "                                          techniques  creativity  \n",
       "0                                             [agua]          10  \n",
       "1  [sal, marcar, cocción, horno, hervir, horno, s...          10  \n",
       "2                              [horno, horno, secar]          10  \n",
       "3                               [agua, cocer, horno]          30  \n",
       "4  [sal, horno, cocer, hervir, confitar, cazuela,...          30  "
      ]
     },
     "execution_count": 94,
     "metadata": {},
     "output_type": "execute_result"
    }
   ],
   "source": [
    "cuis_recipes_df.head()"
   ]
  },
  {
   "cell_type": "markdown",
   "metadata": {
    "collapsed": true
   },
   "source": [
    "# Formatting data"
   ]
  },
  {
   "cell_type": "code",
   "execution_count": 95,
   "metadata": {
    "collapsed": false
   },
   "outputs": [],
   "source": [
    "def join_ingredients_and_techniques(ingr_list, tech_list):\n",
    "    i_list = ['i_' + '_'.join(x.split()) for x in ingr_list]\n",
    "    t_list = ['t_' + '_'.join(x.split()) for x in tech_list]\n",
    "    return ' '.join(i_list + t_list)"
   ]
  },
  {
   "cell_type": "code",
   "execution_count": 96,
   "metadata": {
    "collapsed": true
   },
   "outputs": [],
   "source": [
    "columns = ['text', 'creativity']"
   ]
  },
  {
   "cell_type": "code",
   "execution_count": 97,
   "metadata": {
    "collapsed": false
   },
   "outputs": [],
   "source": [
    "raw_text_df = pd.DataFrame(columns=columns)\n",
    "raw_text_df['creativity'] = raw_recipes_df['creativity']\n",
    "raw_text_df['text'] = raw_recipes_df.apply(\n",
    "    lambda x: join_ingredients_and_techniques(x['ingredients'], x['techniques']), axis=1)"
   ]
  },
  {
   "cell_type": "code",
   "execution_count": 98,
   "metadata": {
    "collapsed": false
   },
   "outputs": [
    {
     "data": {
      "text/html": [
       "<div>\n",
       "<table border=\"1\" class=\"dataframe\">\n",
       "  <thead>\n",
       "    <tr style=\"text-align: right;\">\n",
       "      <th></th>\n",
       "      <th>text</th>\n",
       "      <th>creativity</th>\n",
       "    </tr>\n",
       "  </thead>\n",
       "  <tbody>\n",
       "    <tr>\n",
       "      <th>0</th>\n",
       "      <td>i_oporto i_aceite_de_oliva i_agua i_pimienta_b...</td>\n",
       "      <td>10</td>\n",
       "    </tr>\n",
       "    <tr>\n",
       "      <th>1</th>\n",
       "      <td>i_sal i_pimiento i_pimiento_rojo i_piñones_tos...</td>\n",
       "      <td>10</td>\n",
       "    </tr>\n",
       "    <tr>\n",
       "      <th>2</th>\n",
       "      <td>i_chocolate i_claras_de_huevo i_avellanas_tost...</td>\n",
       "      <td>10</td>\n",
       "    </tr>\n",
       "    <tr>\n",
       "      <th>3</th>\n",
       "      <td>i_zumo_de_limón i_limón i_alginato_sódico i_ag...</td>\n",
       "      <td>30</td>\n",
       "    </tr>\n",
       "    <tr>\n",
       "      <th>4</th>\n",
       "      <td>i_sal i_caldo_de_ceps i_carragenato_kappa_en_p...</td>\n",
       "      <td>30</td>\n",
       "    </tr>\n",
       "  </tbody>\n",
       "</table>\n",
       "</div>"
      ],
      "text/plain": [
       "                                                text  creativity\n",
       "0  i_oporto i_aceite_de_oliva i_agua i_pimienta_b...          10\n",
       "1  i_sal i_pimiento i_pimiento_rojo i_piñones_tos...          10\n",
       "2  i_chocolate i_claras_de_huevo i_avellanas_tost...          10\n",
       "3  i_zumo_de_limón i_limón i_alginato_sódico i_ag...          30\n",
       "4  i_sal i_caldo_de_ceps i_carragenato_kappa_en_p...          30"
      ]
     },
     "execution_count": 98,
     "metadata": {},
     "output_type": "execute_result"
    }
   ],
   "source": [
    "raw_text_df.head()"
   ]
  },
  {
   "cell_type": "code",
   "execution_count": 99,
   "metadata": {
    "collapsed": false
   },
   "outputs": [],
   "source": [
    "repr_text_df = pd.DataFrame(columns=columns)\n",
    "repr_text_df['creativity'] = repr_recipes_df['creativity']\n",
    "repr_text_df['text'] = repr_recipes_df.apply(\n",
    "    lambda x: join_ingredients_and_techniques(x['ingredients'], x['techniques']), axis=1)"
   ]
  },
  {
   "cell_type": "code",
   "execution_count": 100,
   "metadata": {
    "collapsed": false
   },
   "outputs": [
    {
     "data": {
      "text/html": [
       "<div>\n",
       "<table border=\"1\" class=\"dataframe\">\n",
       "  <thead>\n",
       "    <tr style=\"text-align: right;\">\n",
       "      <th></th>\n",
       "      <th>text</th>\n",
       "      <th>creativity</th>\n",
       "    </tr>\n",
       "  </thead>\n",
       "  <tbody>\n",
       "    <tr>\n",
       "      <th>0</th>\n",
       "      <td>i_oporto i_aceite_de_oliva i_agua i_pimienta_b...</td>\n",
       "      <td>10</td>\n",
       "    </tr>\n",
       "    <tr>\n",
       "      <th>1</th>\n",
       "      <td>i_sal i_pimientos i_pimiento_rojo i_piñones_to...</td>\n",
       "      <td>10</td>\n",
       "    </tr>\n",
       "    <tr>\n",
       "      <th>2</th>\n",
       "      <td>i_chocolate i_claras_de_huevo i_avellanas_tost...</td>\n",
       "      <td>10</td>\n",
       "    </tr>\n",
       "    <tr>\n",
       "      <th>3</th>\n",
       "      <td>i_zumo_de_limón i_limón i_alginato_sódico i_ag...</td>\n",
       "      <td>30</td>\n",
       "    </tr>\n",
       "    <tr>\n",
       "      <th>4</th>\n",
       "      <td>i_sal i_caldo_de_ceps i_carragenato_kappa_en_p...</td>\n",
       "      <td>30</td>\n",
       "    </tr>\n",
       "  </tbody>\n",
       "</table>\n",
       "</div>"
      ],
      "text/plain": [
       "                                                text  creativity\n",
       "0  i_oporto i_aceite_de_oliva i_agua i_pimienta_b...          10\n",
       "1  i_sal i_pimientos i_pimiento_rojo i_piñones_to...          10\n",
       "2  i_chocolate i_claras_de_huevo i_avellanas_tost...          10\n",
       "3  i_zumo_de_limón i_limón i_alginato_sódico i_ag...          30\n",
       "4  i_sal i_caldo_de_ceps i_carragenato_kappa_en_p...          30"
      ]
     },
     "execution_count": 100,
     "metadata": {},
     "output_type": "execute_result"
    }
   ],
   "source": [
    "repr_text_df.head()"
   ]
  },
  {
   "cell_type": "code",
   "execution_count": 101,
   "metadata": {
    "collapsed": false
   },
   "outputs": [],
   "source": [
    "super_text_df = pd.DataFrame(columns=columns)\n",
    "super_text_df['creativity'] = super_recipes_df['creativity']\n",
    "super_text_df['text'] = super_recipes_df.apply(\n",
    "    lambda x: join_ingredients_and_techniques(x['ingredients'], x['techniques']), axis=1)"
   ]
  },
  {
   "cell_type": "code",
   "execution_count": 102,
   "metadata": {
    "collapsed": false
   },
   "outputs": [
    {
     "data": {
      "text/html": [
       "<div>\n",
       "<table border=\"1\" class=\"dataframe\">\n",
       "  <thead>\n",
       "    <tr style=\"text-align: right;\">\n",
       "      <th></th>\n",
       "      <th>text</th>\n",
       "      <th>creativity</th>\n",
       "    </tr>\n",
       "  </thead>\n",
       "  <tbody>\n",
       "    <tr>\n",
       "      <th>0</th>\n",
       "      <td>i_oporto i_aceite i_agua i_pimienta i_gelatina...</td>\n",
       "      <td>10</td>\n",
       "    </tr>\n",
       "    <tr>\n",
       "      <th>1</th>\n",
       "      <td>i_sal i_pimientos i_pimiento i_piñones i_vinag...</td>\n",
       "      <td>10</td>\n",
       "    </tr>\n",
       "    <tr>\n",
       "      <th>2</th>\n",
       "      <td>i_chocolate i_claras i_avellanas i_yemas i_azú...</td>\n",
       "      <td>10</td>\n",
       "    </tr>\n",
       "    <tr>\n",
       "      <th>3</th>\n",
       "      <td>i_zumo i_limón i_alginato i_agua i_té i_azúcar...</td>\n",
       "      <td>30</td>\n",
       "    </tr>\n",
       "    <tr>\n",
       "      <th>4</th>\n",
       "      <td>i_sal i_ceps i_carragenato i_romero i_ceps i_c...</td>\n",
       "      <td>30</td>\n",
       "    </tr>\n",
       "  </tbody>\n",
       "</table>\n",
       "</div>"
      ],
      "text/plain": [
       "                                                text  creativity\n",
       "0  i_oporto i_aceite i_agua i_pimienta i_gelatina...          10\n",
       "1  i_sal i_pimientos i_pimiento i_piñones i_vinag...          10\n",
       "2  i_chocolate i_claras i_avellanas i_yemas i_azú...          10\n",
       "3  i_zumo i_limón i_alginato i_agua i_té i_azúcar...          30\n",
       "4  i_sal i_ceps i_carragenato i_romero i_ceps i_c...          30"
      ]
     },
     "execution_count": 102,
     "metadata": {},
     "output_type": "execute_result"
    }
   ],
   "source": [
    "super_text_df.head()"
   ]
  },
  {
   "cell_type": "code",
   "execution_count": 103,
   "metadata": {
    "collapsed": false
   },
   "outputs": [],
   "source": [
    "types_text_df = pd.DataFrame(columns=columns)\n",
    "types_text_df['creativity'] = types_recipes_df['creativity']\n",
    "types_text_df['text'] = types_recipes_df.apply(\n",
    "    lambda x: join_ingredients_and_techniques(x['ingredients'], x['techniques']), axis=1)"
   ]
  },
  {
   "cell_type": "code",
   "execution_count": 104,
   "metadata": {
    "collapsed": false
   },
   "outputs": [
    {
     "data": {
      "text/html": [
       "<div>\n",
       "<table border=\"1\" class=\"dataframe\">\n",
       "  <thead>\n",
       "    <tr style=\"text-align: right;\">\n",
       "      <th></th>\n",
       "      <th>text</th>\n",
       "      <th>creativity</th>\n",
       "    </tr>\n",
       "  </thead>\n",
       "  <tbody>\n",
       "    <tr>\n",
       "      <th>0</th>\n",
       "      <td>i_western i_western i_1 i_western i_modernist ...</td>\n",
       "      <td>10</td>\n",
       "    </tr>\n",
       "    <tr>\n",
       "      <th>1</th>\n",
       "      <td>i_western i_western i_western i_1 i_western i_...</td>\n",
       "      <td>10</td>\n",
       "    </tr>\n",
       "    <tr>\n",
       "      <th>2</th>\n",
       "      <td>i_western i_western i_1 i_western i_western i_...</td>\n",
       "      <td>10</td>\n",
       "    </tr>\n",
       "    <tr>\n",
       "      <th>3</th>\n",
       "      <td>i_1 i_western i_modernist i_1 i_western i_west...</td>\n",
       "      <td>30</td>\n",
       "    </tr>\n",
       "    <tr>\n",
       "      <th>4</th>\n",
       "      <td>i_western i_modernist i_modernist i_modernist ...</td>\n",
       "      <td>30</td>\n",
       "    </tr>\n",
       "  </tbody>\n",
       "</table>\n",
       "</div>"
      ],
      "text/plain": [
       "                                                text  creativity\n",
       "0  i_western i_western i_1 i_western i_modernist ...          10\n",
       "1  i_western i_western i_western i_1 i_western i_...          10\n",
       "2  i_western i_western i_1 i_western i_western i_...          10\n",
       "3  i_1 i_western i_modernist i_1 i_western i_west...          30\n",
       "4  i_western i_modernist i_modernist i_modernist ...          30"
      ]
     },
     "execution_count": 104,
     "metadata": {},
     "output_type": "execute_result"
    }
   ],
   "source": [
    "types_text_df.head()"
   ]
  },
  {
   "cell_type": "code",
   "execution_count": 105,
   "metadata": {
    "collapsed": false
   },
   "outputs": [],
   "source": [
    "cuis_text_df = pd.DataFrame(columns=columns)\n",
    "cuis_text_df['creativity'] = cuis_recipes_df['creativity']\n",
    "cuis_text_df['text'] = cuis_recipes_df.apply(\n",
    "    lambda x: join_ingredients_and_techniques(x['ingredients'], x['techniques']), axis=1)"
   ]
  },
  {
   "cell_type": "code",
   "execution_count": 106,
   "metadata": {
    "collapsed": false,
    "scrolled": true
   },
   "outputs": [
    {
     "data": {
      "text/html": [
       "<div>\n",
       "<table border=\"1\" class=\"dataframe\">\n",
       "  <thead>\n",
       "    <tr style=\"text-align: right;\">\n",
       "      <th></th>\n",
       "      <th>text</th>\n",
       "      <th>creativity</th>\n",
       "    </tr>\n",
       "  </thead>\n",
       "  <tbody>\n",
       "    <tr>\n",
       "      <th>0</th>\n",
       "      <td>i_other i_spicies_and_condimients i_drinks i_2...</td>\n",
       "      <td>10</td>\n",
       "    </tr>\n",
       "    <tr>\n",
       "      <th>1</th>\n",
       "      <td>i_spicies_and_condimients i_vegetables i_veget...</td>\n",
       "      <td>10</td>\n",
       "    </tr>\n",
       "    <tr>\n",
       "      <th>2</th>\n",
       "      <td>i_sweets i_spicies_and_condimients i_nuts i_sp...</td>\n",
       "      <td>10</td>\n",
       "    </tr>\n",
       "    <tr>\n",
       "      <th>3</th>\n",
       "      <td>i_14 i_fruits i_other i_drinks i_drinks i_swee...</td>\n",
       "      <td>30</td>\n",
       "    </tr>\n",
       "    <tr>\n",
       "      <th>4</th>\n",
       "      <td>i_spicies_and_condimients i_other i_other i_sp...</td>\n",
       "      <td>30</td>\n",
       "    </tr>\n",
       "  </tbody>\n",
       "</table>\n",
       "</div>"
      ],
      "text/plain": [
       "                                                text  creativity\n",
       "0  i_other i_spicies_and_condimients i_drinks i_2...          10\n",
       "1  i_spicies_and_condimients i_vegetables i_veget...          10\n",
       "2  i_sweets i_spicies_and_condimients i_nuts i_sp...          10\n",
       "3  i_14 i_fruits i_other i_drinks i_drinks i_swee...          30\n",
       "4  i_spicies_and_condimients i_other i_other i_sp...          30"
      ]
     },
     "execution_count": 106,
     "metadata": {},
     "output_type": "execute_result"
    }
   ],
   "source": [
    "cuis_text_df.head()"
   ]
  },
  {
   "cell_type": "markdown",
   "metadata": {},
   "source": [
    "# Classifier"
   ]
  },
  {
   "cell_type": "code",
   "execution_count": 202,
   "metadata": {
    "collapsed": true
   },
   "outputs": [],
   "source": [
    "K = 10"
   ]
  },
  {
   "cell_type": "code",
   "execution_count": 243,
   "metadata": {
    "collapsed": true
   },
   "outputs": [],
   "source": [
    "def benchmark(grid_search_cv, X_train, X_test, y_train, y_test, name):\n",
    "    print('Training %s...' % name)\n",
    "    print()\n",
    "    grid_search_cv.fit(X_train, y_train)\n",
    "    print('Best score: %0.2f' % grid_search_cv.best_score_)\n",
    "    print('Best parameters:', grid_search_cv.best_params_)\n",
    "    print()\n",
    "    print('Testing %s...' % name)\n",
    "    print()\n",
    "    pred = grid_search_cv.predict(X_test)\n",
    "    print('Metrics:')\n",
    "    score = metrics.accuracy_score(y_test, pred)\n",
    "    print('accuracy  = %0.2f' % score)\n",
    "    precision = metrics.precision_score(y_test, pred, average='weighted')\n",
    "    print('precision = %0.2f' % precision)\n",
    "    recall = metrics.recall_score(y_test, pred, average='weighted')\n",
    "    print('recall    = %0.2f' % recall)\n",
    "    f1_score = metrics.f1_score(y_test, pred, average='weighted')\n",
    "    print('f1_score  = %0.2f' % f1_score)\n",
    "    print()\n",
    "    print('Classification report:')\n",
    "    print(metrics.classification_report(y_test, pred, target_names=['None' ,'Low', 'Medium', 'High']))\n",
    "    print()\n",
    "    print('Confusion matrix:')\n",
    "    print(metrics.confusion_matrix(y_test, pred))\n",
    "    print()\n",
    "    return score, precision, recall, f1_score"
   ]
  },
  {
   "cell_type": "code",
   "execution_count": 237,
   "metadata": {
    "collapsed": false
   },
   "outputs": [],
   "source": [
    "classifiers = [\n",
    "    ('BernoulliNB', BernoulliNB, {}),\n",
    "    ('KNeighborsClassifier', KNeighborsClassifier, {}),\n",
    "    ('LinearSVC', LinearSVC, {}),\n",
    "    ('MultinomialNB', MultinomialNB, {}),\n",
    "    ('NearestCentroid', NearestCentroid, {}),\n",
    "    ('PassiveAggressiveClassifier', PassiveAggressiveClassifier, {}),\n",
    "    ('Perceptron', Perceptron, {}),\n",
    "    ('RandomForestClassifier', RandomForestClassifier, {}),\n",
    "    ('RidgeClassifier', RidgeClassifier, {}),\n",
    "    ('SGDClassifier', SGDClassifier, {}),\n",
    "]"
   ]
  },
  {
   "cell_type": "markdown",
   "metadata": {},
   "source": [
    "## Raw ingredients and techniques"
   ]
  },
  {
   "cell_type": "code",
   "execution_count": 232,
   "metadata": {
    "collapsed": true
   },
   "outputs": [],
   "source": [
    "X = raw_text_df['text']\n",
    "y = raw_text_df['creativity']"
   ]
  },
  {
   "cell_type": "code",
   "execution_count": 233,
   "metadata": {
    "collapsed": false
   },
   "outputs": [
    {
     "data": {
      "text/plain": [
       "0     404\n",
       "10    454\n",
       "20    371\n",
       "30    389\n",
       "Name: creativity, dtype: int64"
      ]
     },
     "execution_count": 233,
     "metadata": {},
     "output_type": "execute_result"
    }
   ],
   "source": [
    "y.value_counts().sort_index()"
   ]
  },
  {
   "cell_type": "code",
   "execution_count": 234,
   "metadata": {
    "collapsed": false
   },
   "outputs": [],
   "source": [
    "X_train, X_test, y_train, y_test = train_test_split(X, y, test_size=0.1, random_state=0, stratify=y)"
   ]
  },
  {
   "cell_type": "code",
   "execution_count": 235,
   "metadata": {
    "collapsed": true
   },
   "outputs": [],
   "source": [
    "skf = StratifiedKFold(y_train, K)"
   ]
  },
  {
   "cell_type": "code",
   "execution_count": 248,
   "metadata": {
    "collapsed": false
   },
   "outputs": [
    {
     "name": "stdout",
     "output_type": "stream",
     "text": [
      "Performing grid search with cross-validation...\n",
      "================================================================================\n",
      "\n",
      "Training BernoulliNB...\n",
      "\n",
      "Best score: 0.78\n",
      "Best parameters: {}\n",
      "\n",
      "Testing BernoulliNB...\n",
      "\n",
      "Metrics:\n",
      "accuracy  = 0.79\n",
      "precision = 0.79\n",
      "recall    = 0.79\n",
      "f1_score  = 0.78\n",
      "\n",
      "Classification report:\n",
      "             precision    recall  f1-score   support\n",
      "\n",
      "       None       0.85      0.97      0.91        40\n",
      "        Low       0.81      0.56      0.66        45\n",
      "     Medium       0.67      0.76      0.71        37\n",
      "       High       0.83      0.90      0.86        39\n",
      "\n",
      "avg / total       0.79      0.79      0.78       161\n",
      "\n",
      "\n",
      "Confusion matrix:\n",
      "[[39  0  1  0]\n",
      " [ 3 25 13  4]\n",
      " [ 3  3 28  3]\n",
      " [ 1  3  0 35]]\n",
      "\n",
      "--------------------------------------------------------------------------------\n",
      "Training KNeighborsClassifier...\n",
      "\n",
      "Best score: 0.82\n",
      "Best parameters: {}\n",
      "\n",
      "Testing KNeighborsClassifier...\n",
      "\n",
      "Metrics:\n",
      "accuracy  = 0.78\n",
      "precision = 0.80\n",
      "recall    = 0.78\n",
      "f1_score  = 0.79\n",
      "\n",
      "Classification report:\n",
      "             precision    recall  f1-score   support\n",
      "\n",
      "       None       0.97      0.85      0.91        40\n",
      "        Low       0.66      0.78      0.71        45\n",
      "     Medium       0.65      0.70      0.68        37\n",
      "       High       0.94      0.79      0.86        39\n",
      "\n",
      "avg / total       0.80      0.78      0.79       161\n",
      "\n",
      "\n",
      "Confusion matrix:\n",
      "[[34  5  0  1]\n",
      " [ 0 35 10  0]\n",
      " [ 1  9 26  1]\n",
      " [ 0  4  4 31]]\n",
      "\n",
      "--------------------------------------------------------------------------------\n",
      "Training LinearSVC...\n",
      "\n",
      "Best score: 0.87\n",
      "Best parameters: {}\n",
      "\n",
      "Testing LinearSVC...\n",
      "\n",
      "Metrics:\n",
      "accuracy  = 0.87\n",
      "precision = 0.88\n",
      "recall    = 0.87\n",
      "f1_score  = 0.87\n",
      "\n",
      "Classification report:\n",
      "             precision    recall  f1-score   support\n",
      "\n",
      "       None       1.00      0.93      0.96        40\n",
      "        Low       0.80      0.87      0.83        45\n",
      "     Medium       0.72      0.78      0.75        37\n",
      "       High       1.00      0.90      0.95        39\n",
      "\n",
      "avg / total       0.88      0.87      0.87       161\n",
      "\n",
      "\n",
      "Confusion matrix:\n",
      "[[37  2  1  0]\n",
      " [ 0 39  6  0]\n",
      " [ 0  8 29  0]\n",
      " [ 0  0  4 35]]\n",
      "\n",
      "--------------------------------------------------------------------------------\n",
      "Training MultinomialNB...\n",
      "\n",
      "Best score: 0.84\n",
      "Best parameters: {}\n",
      "\n",
      "Testing MultinomialNB...\n",
      "\n",
      "Metrics:\n",
      "accuracy  = 0.80\n",
      "precision = 0.83\n",
      "recall    = 0.80\n",
      "f1_score  = 0.81\n",
      "\n",
      "Classification report:\n",
      "             precision    recall  f1-score   support\n",
      "\n",
      "       None       1.00      0.90      0.95        40\n",
      "        Low       0.63      0.82      0.71        45\n",
      "     Medium       0.71      0.68      0.69        37\n",
      "       High       1.00      0.79      0.89        39\n",
      "\n",
      "avg / total       0.83      0.80      0.81       161\n",
      "\n",
      "\n",
      "Confusion matrix:\n",
      "[[36  4  0  0]\n",
      " [ 0 37  8  0]\n",
      " [ 0 12 25  0]\n",
      " [ 0  6  2 31]]\n",
      "\n",
      "--------------------------------------------------------------------------------\n",
      "Training NearestCentroid...\n",
      "\n",
      "Best score: 0.77\n",
      "Best parameters: {}\n",
      "\n",
      "Testing NearestCentroid...\n",
      "\n",
      "Metrics:\n",
      "accuracy  = 0.72\n",
      "precision = 0.73\n",
      "recall    = 0.72\n",
      "f1_score  = 0.72\n",
      "\n",
      "Classification report:\n",
      "             precision    recall  f1-score   support\n",
      "\n",
      "       None       0.95      0.93      0.94        40\n",
      "        Low       0.68      0.58      0.63        45\n",
      "     Medium       0.51      0.59      0.55        37\n",
      "       High       0.76      0.79      0.77        39\n",
      "\n",
      "avg / total       0.73      0.72      0.72       161\n",
      "\n",
      "\n",
      "Confusion matrix:\n",
      "[[37  1  1  1]\n",
      " [ 1 26 15  3]\n",
      " [ 1  8 22  6]\n",
      " [ 0  3  5 31]]\n",
      "\n",
      "--------------------------------------------------------------------------------\n",
      "Training PassiveAggressiveClassifier...\n",
      "\n",
      "Best score: 0.86\n",
      "Best parameters: {}\n",
      "\n",
      "Testing PassiveAggressiveClassifier...\n",
      "\n",
      "Metrics:\n",
      "accuracy  = 0.86\n",
      "precision = 0.87\n",
      "recall    = 0.86\n",
      "f1_score  = 0.86\n",
      "\n",
      "Classification report:\n",
      "             precision    recall  f1-score   support\n",
      "\n",
      "       None       1.00      0.93      0.96        40\n",
      "        Low       0.78      0.84      0.81        45\n",
      "     Medium       0.72      0.76      0.74        37\n",
      "       High       0.97      0.90      0.93        39\n",
      "\n",
      "avg / total       0.87      0.86      0.86       161\n",
      "\n",
      "\n",
      "Confusion matrix:\n",
      "[[37  2  1  0]\n",
      " [ 0 38  7  0]\n",
      " [ 0  8 28  1]\n",
      " [ 0  1  3 35]]\n",
      "\n",
      "--------------------------------------------------------------------------------\n",
      "Training Perceptron...\n",
      "\n",
      "Best score: 0.84\n",
      "Best parameters: {}\n",
      "\n",
      "Testing Perceptron...\n",
      "\n",
      "Metrics:\n",
      "accuracy  = 0.86\n",
      "precision = 0.86\n",
      "recall    = 0.86\n",
      "f1_score  = 0.86\n",
      "\n",
      "Classification report:\n",
      "             precision    recall  f1-score   support\n",
      "\n",
      "       None       0.95      0.95      0.95        40\n",
      "        Low       0.78      0.87      0.82        45\n",
      "     Medium       0.75      0.73      0.74        37\n",
      "       High       0.97      0.87      0.92        39\n",
      "\n",
      "avg / total       0.86      0.86      0.86       161\n",
      "\n",
      "\n",
      "Confusion matrix:\n",
      "[[38  1  1  0]\n",
      " [ 0 39  6  0]\n",
      " [ 1  8 27  1]\n",
      " [ 1  2  2 34]]\n",
      "\n",
      "--------------------------------------------------------------------------------\n",
      "Training RandomForestClassifier...\n",
      "\n",
      "Best score: 0.72\n",
      "Best parameters: {}\n",
      "\n",
      "Testing RandomForestClassifier...\n",
      "\n",
      "Metrics:\n",
      "accuracy  = 0.76\n",
      "precision = 0.75\n",
      "recall    = 0.76\n",
      "f1_score  = 0.75\n",
      "\n",
      "Classification report:\n",
      "             precision    recall  f1-score   support\n",
      "\n",
      "       None       0.86      0.90      0.88        40\n",
      "        Low       0.75      0.80      0.77        45\n",
      "     Medium       0.61      0.51      0.56        37\n",
      "       High       0.78      0.79      0.78        39\n",
      "\n",
      "avg / total       0.75      0.76      0.75       161\n",
      "\n",
      "\n",
      "Confusion matrix:\n",
      "[[36  1  2  1]\n",
      " [ 1 36  5  3]\n",
      " [ 2 11 19  5]\n",
      " [ 3  0  5 31]]\n",
      "\n",
      "--------------------------------------------------------------------------------\n",
      "Training RidgeClassifier...\n",
      "\n"
     ]
    },
    {
     "ename": "KeyboardInterrupt",
     "evalue": "",
     "output_type": "error",
     "traceback": [
      "\u001b[1;31m---------------------------------------------------------------------------\u001b[0m",
      "\u001b[1;31mKeyboardInterrupt\u001b[0m                         Traceback (most recent call last)",
      "\u001b[1;32m<ipython-input-248-7265810cb445>\u001b[0m in \u001b[0;36m<module>\u001b[1;34m()\u001b[0m\n\u001b[0;32m      9\u001b[0m     ])\n\u001b[0;32m     10\u001b[0m     \u001b[0mgrid_search_cv\u001b[0m \u001b[1;33m=\u001b[0m \u001b[0mGridSearchCV\u001b[0m\u001b[1;33m(\u001b[0m\u001b[0mpipeline\u001b[0m\u001b[1;33m,\u001b[0m \u001b[0mparameters\u001b[0m\u001b[1;33m,\u001b[0m \u001b[0mcv\u001b[0m\u001b[1;33m=\u001b[0m\u001b[0mskf\u001b[0m\u001b[1;33m,\u001b[0m \u001b[0mscoring\u001b[0m\u001b[1;33m=\u001b[0m\u001b[1;34m'f1_weighted'\u001b[0m\u001b[1;33m,\u001b[0m \u001b[0merror_score\u001b[0m\u001b[1;33m=\u001b[0m\u001b[1;36m0\u001b[0m\u001b[1;33m,\u001b[0m \u001b[0mn_jobs\u001b[0m\u001b[1;33m=\u001b[0m\u001b[1;33m-\u001b[0m\u001b[1;36m1\u001b[0m\u001b[1;33m)\u001b[0m\u001b[1;33m\u001b[0m\u001b[0m\n\u001b[1;32m---> 11\u001b[1;33m     \u001b[0mbenchmark\u001b[0m\u001b[1;33m(\u001b[0m\u001b[0mgrid_search_cv\u001b[0m\u001b[1;33m,\u001b[0m \u001b[0mX_train\u001b[0m\u001b[1;33m,\u001b[0m \u001b[0mX_test\u001b[0m\u001b[1;33m,\u001b[0m \u001b[0my_train\u001b[0m\u001b[1;33m,\u001b[0m \u001b[0my_test\u001b[0m\u001b[1;33m,\u001b[0m \u001b[0mname\u001b[0m\u001b[1;33m)\u001b[0m\u001b[1;33m\u001b[0m\u001b[0m\n\u001b[0m\u001b[0;32m     12\u001b[0m     \u001b[0mprint\u001b[0m\u001b[1;33m(\u001b[0m\u001b[1;34m'-'\u001b[0m \u001b[1;33m*\u001b[0m \u001b[1;36m80\u001b[0m\u001b[1;33m)\u001b[0m\u001b[1;33m\u001b[0m\u001b[0m\n\u001b[0;32m     13\u001b[0m \u001b[1;31m#mirar esto tb http://scikit-learn.org/stable/auto_examples/text/document_clustering.html#example-text-document-clustering-py\u001b[0m\u001b[1;33m\u001b[0m\u001b[1;33m\u001b[0m\u001b[0m\n",
      "\u001b[1;32m<ipython-input-243-86c8496c182e>\u001b[0m in \u001b[0;36mbenchmark\u001b[1;34m(grid_search_cv, X_train, X_test, y_train, y_test, name)\u001b[0m\n\u001b[0;32m      2\u001b[0m     \u001b[0mprint\u001b[0m\u001b[1;33m(\u001b[0m\u001b[1;34m'Training %s...'\u001b[0m \u001b[1;33m%\u001b[0m \u001b[0mname\u001b[0m\u001b[1;33m)\u001b[0m\u001b[1;33m\u001b[0m\u001b[0m\n\u001b[0;32m      3\u001b[0m     \u001b[0mprint\u001b[0m\u001b[1;33m(\u001b[0m\u001b[1;33m)\u001b[0m\u001b[1;33m\u001b[0m\u001b[0m\n\u001b[1;32m----> 4\u001b[1;33m     \u001b[0mgrid_search_cv\u001b[0m\u001b[1;33m.\u001b[0m\u001b[0mfit\u001b[0m\u001b[1;33m(\u001b[0m\u001b[0mX_train\u001b[0m\u001b[1;33m,\u001b[0m \u001b[0my_train\u001b[0m\u001b[1;33m)\u001b[0m\u001b[1;33m\u001b[0m\u001b[0m\n\u001b[0m\u001b[0;32m      5\u001b[0m     \u001b[0mprint\u001b[0m\u001b[1;33m(\u001b[0m\u001b[1;34m'Best score: %0.2f'\u001b[0m \u001b[1;33m%\u001b[0m \u001b[0mgrid_search_cv\u001b[0m\u001b[1;33m.\u001b[0m\u001b[0mbest_score_\u001b[0m\u001b[1;33m)\u001b[0m\u001b[1;33m\u001b[0m\u001b[0m\n\u001b[0;32m      6\u001b[0m     \u001b[0mprint\u001b[0m\u001b[1;33m(\u001b[0m\u001b[1;34m'Best parameters:'\u001b[0m\u001b[1;33m,\u001b[0m \u001b[0mgrid_search_cv\u001b[0m\u001b[1;33m.\u001b[0m\u001b[0mbest_params_\u001b[0m\u001b[1;33m)\u001b[0m\u001b[1;33m\u001b[0m\u001b[0m\n",
      "\u001b[1;32m/home/antonio/virtualenvs/elbulli/lib/python3.4/site-packages/sklearn/grid_search.py\u001b[0m in \u001b[0;36mfit\u001b[1;34m(self, X, y)\u001b[0m\n\u001b[0;32m    802\u001b[0m \u001b[1;33m\u001b[0m\u001b[0m\n\u001b[0;32m    803\u001b[0m         \"\"\"\n\u001b[1;32m--> 804\u001b[1;33m         \u001b[1;32mreturn\u001b[0m \u001b[0mself\u001b[0m\u001b[1;33m.\u001b[0m\u001b[0m_fit\u001b[0m\u001b[1;33m(\u001b[0m\u001b[0mX\u001b[0m\u001b[1;33m,\u001b[0m \u001b[0my\u001b[0m\u001b[1;33m,\u001b[0m \u001b[0mParameterGrid\u001b[0m\u001b[1;33m(\u001b[0m\u001b[0mself\u001b[0m\u001b[1;33m.\u001b[0m\u001b[0mparam_grid\u001b[0m\u001b[1;33m)\u001b[0m\u001b[1;33m)\u001b[0m\u001b[1;33m\u001b[0m\u001b[0m\n\u001b[0m\u001b[0;32m    805\u001b[0m \u001b[1;33m\u001b[0m\u001b[0m\n\u001b[0;32m    806\u001b[0m \u001b[1;33m\u001b[0m\u001b[0m\n",
      "\u001b[1;32m/home/antonio/virtualenvs/elbulli/lib/python3.4/site-packages/sklearn/grid_search.py\u001b[0m in \u001b[0;36m_fit\u001b[1;34m(self, X, y, parameter_iterable)\u001b[0m\n\u001b[0;32m    551\u001b[0m                                     \u001b[0mself\u001b[0m\u001b[1;33m.\u001b[0m\u001b[0mfit_params\u001b[0m\u001b[1;33m,\u001b[0m \u001b[0mreturn_parameters\u001b[0m\u001b[1;33m=\u001b[0m\u001b[1;32mTrue\u001b[0m\u001b[1;33m,\u001b[0m\u001b[1;33m\u001b[0m\u001b[0m\n\u001b[0;32m    552\u001b[0m                                     error_score=self.error_score)\n\u001b[1;32m--> 553\u001b[1;33m                 \u001b[1;32mfor\u001b[0m \u001b[0mparameters\u001b[0m \u001b[1;32min\u001b[0m \u001b[0mparameter_iterable\u001b[0m\u001b[1;33m\u001b[0m\u001b[0m\n\u001b[0m\u001b[0;32m    554\u001b[0m                 for train, test in cv)\n\u001b[0;32m    555\u001b[0m \u001b[1;33m\u001b[0m\u001b[0m\n",
      "\u001b[1;32m/home/antonio/virtualenvs/elbulli/lib/python3.4/site-packages/sklearn/externals/joblib/parallel.py\u001b[0m in \u001b[0;36m__call__\u001b[1;34m(self, iterable)\u001b[0m\n\u001b[0;32m    808\u001b[0m                 \u001b[1;31m# consumption.\u001b[0m\u001b[1;33m\u001b[0m\u001b[1;33m\u001b[0m\u001b[0m\n\u001b[0;32m    809\u001b[0m                 \u001b[0mself\u001b[0m\u001b[1;33m.\u001b[0m\u001b[0m_iterating\u001b[0m \u001b[1;33m=\u001b[0m \u001b[1;32mFalse\u001b[0m\u001b[1;33m\u001b[0m\u001b[0m\n\u001b[1;32m--> 810\u001b[1;33m             \u001b[0mself\u001b[0m\u001b[1;33m.\u001b[0m\u001b[0mretrieve\u001b[0m\u001b[1;33m(\u001b[0m\u001b[1;33m)\u001b[0m\u001b[1;33m\u001b[0m\u001b[0m\n\u001b[0m\u001b[0;32m    811\u001b[0m             \u001b[1;31m# Make sure that we get a last message telling us we are done\u001b[0m\u001b[1;33m\u001b[0m\u001b[1;33m\u001b[0m\u001b[0m\n\u001b[0;32m    812\u001b[0m             \u001b[0melapsed_time\u001b[0m \u001b[1;33m=\u001b[0m \u001b[0mtime\u001b[0m\u001b[1;33m.\u001b[0m\u001b[0mtime\u001b[0m\u001b[1;33m(\u001b[0m\u001b[1;33m)\u001b[0m \u001b[1;33m-\u001b[0m \u001b[0mself\u001b[0m\u001b[1;33m.\u001b[0m\u001b[0m_start_time\u001b[0m\u001b[1;33m\u001b[0m\u001b[0m\n",
      "\u001b[1;32m/home/antonio/virtualenvs/elbulli/lib/python3.4/site-packages/sklearn/externals/joblib/parallel.py\u001b[0m in \u001b[0;36mretrieve\u001b[1;34m(self)\u001b[0m\n\u001b[0;32m    755\u001b[0m                     \u001b[1;31m# a working pool as they expect.\u001b[0m\u001b[1;33m\u001b[0m\u001b[1;33m\u001b[0m\u001b[0m\n\u001b[0;32m    756\u001b[0m                     \u001b[0mself\u001b[0m\u001b[1;33m.\u001b[0m\u001b[0m_initialize_pool\u001b[0m\u001b[1;33m(\u001b[0m\u001b[1;33m)\u001b[0m\u001b[1;33m\u001b[0m\u001b[0m\n\u001b[1;32m--> 757\u001b[1;33m                 \u001b[1;32mraise\u001b[0m \u001b[0mexception\u001b[0m\u001b[1;33m\u001b[0m\u001b[0m\n\u001b[0m\u001b[0;32m    758\u001b[0m \u001b[1;33m\u001b[0m\u001b[0m\n\u001b[0;32m    759\u001b[0m     \u001b[1;32mdef\u001b[0m \u001b[0m__call__\u001b[0m\u001b[1;33m(\u001b[0m\u001b[0mself\u001b[0m\u001b[1;33m,\u001b[0m \u001b[0miterable\u001b[0m\u001b[1;33m)\u001b[0m\u001b[1;33m:\u001b[0m\u001b[1;33m\u001b[0m\u001b[0m\n",
      "\u001b[1;32m/home/antonio/virtualenvs/elbulli/lib/python3.4/site-packages/sklearn/externals/joblib/parallel.py\u001b[0m in \u001b[0;36mretrieve\u001b[1;34m(self)\u001b[0m\n\u001b[0;32m    725\u001b[0m                 \u001b[0mjob\u001b[0m \u001b[1;33m=\u001b[0m \u001b[0mself\u001b[0m\u001b[1;33m.\u001b[0m\u001b[0m_jobs\u001b[0m\u001b[1;33m.\u001b[0m\u001b[0mpop\u001b[0m\u001b[1;33m(\u001b[0m\u001b[1;36m0\u001b[0m\u001b[1;33m)\u001b[0m\u001b[1;33m\u001b[0m\u001b[0m\n\u001b[0;32m    726\u001b[0m             \u001b[1;32mtry\u001b[0m\u001b[1;33m:\u001b[0m\u001b[1;33m\u001b[0m\u001b[0m\n\u001b[1;32m--> 727\u001b[1;33m                 \u001b[0mself\u001b[0m\u001b[1;33m.\u001b[0m\u001b[0m_output\u001b[0m\u001b[1;33m.\u001b[0m\u001b[0mextend\u001b[0m\u001b[1;33m(\u001b[0m\u001b[0mjob\u001b[0m\u001b[1;33m.\u001b[0m\u001b[0mget\u001b[0m\u001b[1;33m(\u001b[0m\u001b[1;33m)\u001b[0m\u001b[1;33m)\u001b[0m\u001b[1;33m\u001b[0m\u001b[0m\n\u001b[0m\u001b[0;32m    728\u001b[0m             \u001b[1;32mexcept\u001b[0m \u001b[0mtuple\u001b[0m\u001b[1;33m(\u001b[0m\u001b[0mself\u001b[0m\u001b[1;33m.\u001b[0m\u001b[0mexceptions\u001b[0m\u001b[1;33m)\u001b[0m \u001b[1;32mas\u001b[0m \u001b[0mexception\u001b[0m\u001b[1;33m:\u001b[0m\u001b[1;33m\u001b[0m\u001b[0m\n\u001b[0;32m    729\u001b[0m                 \u001b[1;31m# Stop dispatching any new job in the async callback thread\u001b[0m\u001b[1;33m\u001b[0m\u001b[1;33m\u001b[0m\u001b[0m\n",
      "\u001b[1;32m/usr/lib/python3.4/multiprocessing/pool.py\u001b[0m in \u001b[0;36mget\u001b[1;34m(self, timeout)\u001b[0m\n\u001b[0;32m    591\u001b[0m \u001b[1;33m\u001b[0m\u001b[0m\n\u001b[0;32m    592\u001b[0m     \u001b[1;32mdef\u001b[0m \u001b[0mget\u001b[0m\u001b[1;33m(\u001b[0m\u001b[0mself\u001b[0m\u001b[1;33m,\u001b[0m \u001b[0mtimeout\u001b[0m\u001b[1;33m=\u001b[0m\u001b[1;32mNone\u001b[0m\u001b[1;33m)\u001b[0m\u001b[1;33m:\u001b[0m\u001b[1;33m\u001b[0m\u001b[0m\n\u001b[1;32m--> 593\u001b[1;33m         \u001b[0mself\u001b[0m\u001b[1;33m.\u001b[0m\u001b[0mwait\u001b[0m\u001b[1;33m(\u001b[0m\u001b[0mtimeout\u001b[0m\u001b[1;33m)\u001b[0m\u001b[1;33m\u001b[0m\u001b[0m\n\u001b[0m\u001b[0;32m    594\u001b[0m         \u001b[1;32mif\u001b[0m \u001b[1;32mnot\u001b[0m \u001b[0mself\u001b[0m\u001b[1;33m.\u001b[0m\u001b[0mready\u001b[0m\u001b[1;33m(\u001b[0m\u001b[1;33m)\u001b[0m\u001b[1;33m:\u001b[0m\u001b[1;33m\u001b[0m\u001b[0m\n\u001b[0;32m    595\u001b[0m             \u001b[1;32mraise\u001b[0m \u001b[0mTimeoutError\u001b[0m\u001b[1;33m\u001b[0m\u001b[0m\n",
      "\u001b[1;32m/usr/lib/python3.4/multiprocessing/pool.py\u001b[0m in \u001b[0;36mwait\u001b[1;34m(self, timeout)\u001b[0m\n\u001b[0;32m    588\u001b[0m \u001b[1;33m\u001b[0m\u001b[0m\n\u001b[0;32m    589\u001b[0m     \u001b[1;32mdef\u001b[0m \u001b[0mwait\u001b[0m\u001b[1;33m(\u001b[0m\u001b[0mself\u001b[0m\u001b[1;33m,\u001b[0m \u001b[0mtimeout\u001b[0m\u001b[1;33m=\u001b[0m\u001b[1;32mNone\u001b[0m\u001b[1;33m)\u001b[0m\u001b[1;33m:\u001b[0m\u001b[1;33m\u001b[0m\u001b[0m\n\u001b[1;32m--> 590\u001b[1;33m         \u001b[0mself\u001b[0m\u001b[1;33m.\u001b[0m\u001b[0m_event\u001b[0m\u001b[1;33m.\u001b[0m\u001b[0mwait\u001b[0m\u001b[1;33m(\u001b[0m\u001b[0mtimeout\u001b[0m\u001b[1;33m)\u001b[0m\u001b[1;33m\u001b[0m\u001b[0m\n\u001b[0m\u001b[0;32m    591\u001b[0m \u001b[1;33m\u001b[0m\u001b[0m\n\u001b[0;32m    592\u001b[0m     \u001b[1;32mdef\u001b[0m \u001b[0mget\u001b[0m\u001b[1;33m(\u001b[0m\u001b[0mself\u001b[0m\u001b[1;33m,\u001b[0m \u001b[0mtimeout\u001b[0m\u001b[1;33m=\u001b[0m\u001b[1;32mNone\u001b[0m\u001b[1;33m)\u001b[0m\u001b[1;33m:\u001b[0m\u001b[1;33m\u001b[0m\u001b[0m\n",
      "\u001b[1;32m/usr/lib/python3.4/threading.py\u001b[0m in \u001b[0;36mwait\u001b[1;34m(self, timeout)\u001b[0m\n\u001b[0;32m    551\u001b[0m             \u001b[0msignaled\u001b[0m \u001b[1;33m=\u001b[0m \u001b[0mself\u001b[0m\u001b[1;33m.\u001b[0m\u001b[0m_flag\u001b[0m\u001b[1;33m\u001b[0m\u001b[0m\n\u001b[0;32m    552\u001b[0m             \u001b[1;32mif\u001b[0m \u001b[1;32mnot\u001b[0m \u001b[0msignaled\u001b[0m\u001b[1;33m:\u001b[0m\u001b[1;33m\u001b[0m\u001b[0m\n\u001b[1;32m--> 553\u001b[1;33m                 \u001b[0msignaled\u001b[0m \u001b[1;33m=\u001b[0m \u001b[0mself\u001b[0m\u001b[1;33m.\u001b[0m\u001b[0m_cond\u001b[0m\u001b[1;33m.\u001b[0m\u001b[0mwait\u001b[0m\u001b[1;33m(\u001b[0m\u001b[0mtimeout\u001b[0m\u001b[1;33m)\u001b[0m\u001b[1;33m\u001b[0m\u001b[0m\n\u001b[0m\u001b[0;32m    554\u001b[0m             \u001b[1;32mreturn\u001b[0m \u001b[0msignaled\u001b[0m\u001b[1;33m\u001b[0m\u001b[0m\n\u001b[0;32m    555\u001b[0m         \u001b[1;32mfinally\u001b[0m\u001b[1;33m:\u001b[0m\u001b[1;33m\u001b[0m\u001b[0m\n",
      "\u001b[1;32m/usr/lib/python3.4/threading.py\u001b[0m in \u001b[0;36mwait\u001b[1;34m(self, timeout)\u001b[0m\n\u001b[0;32m    288\u001b[0m         \u001b[1;32mtry\u001b[0m\u001b[1;33m:\u001b[0m    \u001b[1;31m# restore state no matter what (e.g., KeyboardInterrupt)\u001b[0m\u001b[1;33m\u001b[0m\u001b[0m\n\u001b[0;32m    289\u001b[0m             \u001b[1;32mif\u001b[0m \u001b[0mtimeout\u001b[0m \u001b[1;32mis\u001b[0m \u001b[1;32mNone\u001b[0m\u001b[1;33m:\u001b[0m\u001b[1;33m\u001b[0m\u001b[0m\n\u001b[1;32m--> 290\u001b[1;33m                 \u001b[0mwaiter\u001b[0m\u001b[1;33m.\u001b[0m\u001b[0macquire\u001b[0m\u001b[1;33m(\u001b[0m\u001b[1;33m)\u001b[0m\u001b[1;33m\u001b[0m\u001b[0m\n\u001b[0m\u001b[0;32m    291\u001b[0m                 \u001b[0mgotit\u001b[0m \u001b[1;33m=\u001b[0m \u001b[1;32mTrue\u001b[0m\u001b[1;33m\u001b[0m\u001b[0m\n\u001b[0;32m    292\u001b[0m             \u001b[1;32melse\u001b[0m\u001b[1;33m:\u001b[0m\u001b[1;33m\u001b[0m\u001b[0m\n",
      "\u001b[1;31mKeyboardInterrupt\u001b[0m: "
     ]
    }
   ],
   "source": [
    "print('Performing grid search with cross-validation...')\n",
    "print('=' * 80)\n",
    "print()\n",
    "for name, clf, parameters in classifiers:\n",
    "    pipeline = Pipeline([\n",
    "        ('CountVectorizer', CountVectorizer()),\n",
    "        ('TfidfTransformer', TfidfTransformer()),\n",
    "        ('Classifier', clf()),\n",
    "    ])\n",
    "    grid_search_cv = GridSearchCV(pipeline, parameters, cv=skf, scoring='f1_weighted', error_score=0, n_jobs=-1)\n",
    "    benchmark(grid_search_cv, X_train, X_test, y_train, y_test, name)\n",
    "    print('-' * 80)\n",
    "#mirar esto tb http://scikit-learn.org/stable/auto_examples/text/document_clustering.html#example-text-document-clustering-py"
   ]
  },
  {
   "cell_type": "code",
   "execution_count": null,
   "metadata": {
    "collapsed": false
   },
   "outputs": [],
   "source": [
    "# >>> from sklearn.metrics import confusion_matrix\n",
    "# >>> y_true = [1, 0, 1, 0, 1, 0, 1, 0, 1, 0, 1, 1, 2, 2, 2, 2]\n",
    "# >>> y_pred = [1, 0, 0, 0, 1, 1, 1, 0, 0, 0, 1, 1, 2, 2, 2, 1]\n",
    "# >>> print(confusion_matrix(y_true, y_pred))\n",
    "# [[4 1 0]\n",
    "#  [2 5 0]\n",
    "#  [0 1 3]]"
   ]
  },
  {
   "cell_type": "code",
   "execution_count": 107,
   "metadata": {
    "collapsed": true
   },
   "outputs": [],
   "source": [
    "# Params\n",
    "K = 10\n",
    "parameters = {\n",
    "    'vect__max_df': (0.5, 0.75, 1.0),\n",
    "    'tfidf__norm': (None, 'l1', 'l2'),\n",
    "}"
   ]
  },
  {
   "cell_type": "code",
   "execution_count": null,
   "metadata": {
    "collapsed": true
   },
   "outputs": [],
   "source": [
    "# # Classifiers\n",
    "# clf_list = [\n",
    "#     (RidgeClassifier(alpha=.00001, tol=1e-2, solver=\"lsqr\"), \"Ridge classifier\"),\n",
    "#     (Perceptron(alpha=.00001, n_iter=50), \"Perceptron\"),\n",
    "#     (PassiveAggressiveClassifier(n_iter=50), \"Passive-aggressive\"),\n",
    "#     (KNeighborsClassifier(n_neighbors=10), \"kNN\"),\n",
    "#     (RandomForestClassifier(n_estimators=100), \"Random Forest Classifier\"),\n",
    "# #     (RandomForestRegressor(n_estimators=100), \"Random Forest Regressor\"),\n",
    "#     (LinearSVC(loss='squared_hinge', penalty='l2', dual=False, tol=1e-3), 'Linear SVC 1'),\n",
    "#     (SGDClassifier(alpha=.000001, n_iter=50, penalty='l1'), 'SGDClassifier'),\n",
    "# #     (SGDRegressor(alpha=.000001, n_iter=50, penalty='l1'), 'SGDRegressor'),\n",
    "#     (NearestCentroid(), 'Nearest Centroid'),\n",
    "#     (MultinomialNB(alpha=.00001), 'Multinomial NB'),\n",
    "#     (BernoulliNB(alpha=.00001), 'Bernoulli NB'),\n",
    "#     (LinearSVC(penalty=\"l1\", dual=False, tol=1e-3), 'Linear SVC 2'),\n",
    "#     (RidgeClassifier(), \"Ridge classifier\"),\n",
    "#     (Perceptron(), \"Perceptron\"),\n",
    "#     (PassiveAggressiveClassifier(), \"Passive-aggressive\"),\n",
    "#     (KNeighborsClassifier(), \"kNN\"),\n",
    "#     (RandomForestClassifier(), \"Random Forest Classifier\"),\n",
    "# #     (RandomForestRegressor(), \"Random Forest Regressor\"),\n",
    "#     (LinearSVC(), 'Linear SVC'),\n",
    "#     (SGDClassifier(), 'SGDClassifier'),\n",
    "# #     (SGDRegressor(), 'SGDRegressor'),\n",
    "#     (NearestCentroid(), 'Nearest Centroid'),\n",
    "#     (MultinomialNB(), 'Multinomial NB'),\n",
    "#     (BernoulliNB(), 'Bernoulli NB'),\n",
    "# ]"
   ]
  },
  {
   "cell_type": "code",
   "execution_count": null,
   "metadata": {
    "collapsed": false
   },
   "outputs": [],
   "source": [
    "# # Classifiers\n",
    "# clf_list = [\n",
    "#     (LinearSVC(), 'Linear SVC'),\n",
    "#     (LinearSVC(penalty=\"l1\", dual=False, tol=1e-3), 'Linear SVC'),\n",
    "#     (LinearSVC(loss='squared_hinge', penalty='l2', dual=False, tol=1e-3), 'Linear SVC'),\n",
    "#     (LinearSVC(loss='hinge', penalty='l1', dual=True, tol=1e-1, multi_class='crammer_singer', random_state=100), 'Linear SVC'),\n",
    "# ]"
   ]
  },
  {
   "cell_type": "code",
   "execution_count": 110,
   "metadata": {
    "collapsed": false
   },
   "outputs": [
    {
     "data": {
      "text/plain": [
       "16"
      ]
     },
     "execution_count": 110,
     "metadata": {},
     "output_type": "execute_result"
    }
   ],
   "source": [
    "# Classifiers\n",
    "clf_list = []\n",
    "for loss in ['hinge', 'squared_hinge']:\n",
    "    for tol in [0.0001, 0.001, 0.01, 0.1]:\n",
    "        for multi_class in ['ovr', 'crammer_singer']:\n",
    "            clf_list.append((\n",
    "                    LinearSVC(loss=loss, tol=tol, multi_class=multi_class),\n",
    "                    'LinearSVC(loss={}, tol={}, multi_class={})'.format(loss, tol, multi_class)\n",
    "                ))\n",
    "len(clf_list)"
   ]
  },
  {
   "cell_type": "code",
   "execution_count": 118,
   "metadata": {
    "collapsed": false
   },
   "outputs": [
    {
     "name": "stdout",
     "output_type": "stream",
     "text": [
      "________________________________________________________________________________\n",
      "Training: LinearSVC(loss=hinge, tol=0.0001, multi_class=ovr)\n",
      "Pipeline(steps=[('vect', CountVectorizer(analyzer='word', binary=False, decode_error='strict',\n",
      "        dtype=<class 'numpy.int64'>, encoding='utf-8', input='content',\n",
      "        lowercase=True, max_df=1.0, max_features=None, min_df=1,\n",
      "        ngram_range=(1, 1), preprocessor=None, stop_words=None,\n",
      "        strip...e', max_iter=1000, multi_class='ovr',\n",
      "     penalty='l2', random_state=None, tol=0.0001, verbose=0))])\n",
      "train time: 0.232s\n",
      "test time:  0.018s\n",
      "accuracy:   0.968\n",
      "precision:   0.968\n",
      "recall:   0.968\n",
      "classification report:\n"
     ]
    },
    {
     "name": "stderr",
     "output_type": "stream",
     "text": [
      "/home/antonio/virtualenvs/elbulli/lib/python3.4/site-packages/sklearn/metrics/classification.py:1203: DeprecationWarning: The default `weighted` averaging is deprecated, and from version 0.18, use of precision, recall or F-score with multiclass or multilabel data or pos_label=None will result in an exception. Please set an explicit value for `average`, one of (None, 'micro', 'macro', 'weighted', 'samples'). In cross validation use, for instance, scoring=\"f1_weighted\" instead of scoring=\"f1\".\n",
      "  sample_weight=sample_weight)\n",
      "/home/antonio/virtualenvs/elbulli/lib/python3.4/site-packages/sklearn/metrics/classification.py:1304: DeprecationWarning: The default `weighted` averaging is deprecated, and from version 0.18, use of precision, recall or F-score with multiclass or multilabel data or pos_label=None will result in an exception. Please set an explicit value for `average`, one of (None, 'micro', 'macro', 'weighted', 'samples'). In cross validation use, for instance, scoring=\"f1_weighted\" instead of scoring=\"f1\".\n",
      "  sample_weight=sample_weight)\n"
     ]
    },
    {
     "ename": "IndexError",
     "evalue": "list index out of range",
     "output_type": "error",
     "traceback": [
      "\u001b[1;31m---------------------------------------------------------------------------\u001b[0m",
      "\u001b[1;31mIndexError\u001b[0m                                Traceback (most recent call last)",
      "\u001b[1;32m<ipython-input-118-e8ba368073d3>\u001b[0m in \u001b[0;36m<module>\u001b[1;34m()\u001b[0m\n\u001b[0;32m     12\u001b[0m \u001b[1;31m#         grid_search = GridSearchCV(pipeline, parameters, n_jobs=-1, verbose=1)\u001b[0m\u001b[1;33m\u001b[0m\u001b[1;33m\u001b[0m\u001b[0m\n\u001b[0;32m     13\u001b[0m \u001b[1;31m#         benchmark_results = benchmark(grid_search, X_train, X_test, y_train, y_test, name)\u001b[0m\u001b[1;33m\u001b[0m\u001b[1;33m\u001b[0m\u001b[0m\n\u001b[1;32m---> 14\u001b[1;33m         \u001b[0mbenchmark_results\u001b[0m \u001b[1;33m=\u001b[0m \u001b[0mbenchmark\u001b[0m\u001b[1;33m(\u001b[0m\u001b[0mpipeline\u001b[0m\u001b[1;33m,\u001b[0m \u001b[0mX_train\u001b[0m\u001b[1;33m,\u001b[0m \u001b[0mX_test\u001b[0m\u001b[1;33m,\u001b[0m \u001b[0my_train\u001b[0m\u001b[1;33m,\u001b[0m \u001b[0my_test\u001b[0m\u001b[1;33m,\u001b[0m \u001b[0mname\u001b[0m\u001b[1;33m)\u001b[0m\u001b[1;33m\u001b[0m\u001b[0m\n\u001b[0m\u001b[0;32m     15\u001b[0m \u001b[1;31m#         results[name].append(benchmark_results)\u001b[0m\u001b[1;33m\u001b[0m\u001b[1;33m\u001b[0m\u001b[0m\n",
      "\u001b[1;32m<ipython-input-115-7aa51c8bf05e>\u001b[0m in \u001b[0;36mbenchmark\u001b[1;34m(clf, X_train, X_test, y_train, y_test, name)\u001b[0m\n\u001b[0;32m     25\u001b[0m \u001b[1;33m\u001b[0m\u001b[0m\n\u001b[0;32m     26\u001b[0m     \u001b[0mprint\u001b[0m\u001b[1;33m(\u001b[0m\u001b[1;34m\"classification report:\"\u001b[0m\u001b[1;33m)\u001b[0m\u001b[1;33m\u001b[0m\u001b[0m\n\u001b[1;32m---> 27\u001b[1;33m     \u001b[0mprint\u001b[0m\u001b[1;33m(\u001b[0m\u001b[0mmetrics\u001b[0m\u001b[1;33m.\u001b[0m\u001b[0mclassification_report\u001b[0m\u001b[1;33m(\u001b[0m\u001b[0my_test\u001b[0m\u001b[1;33m,\u001b[0m \u001b[0mpred\u001b[0m\u001b[1;33m,\u001b[0m \u001b[0mtarget_names\u001b[0m\u001b[1;33m=\u001b[0m\u001b[1;33m[\u001b[0m\u001b[1;34m'Low'\u001b[0m\u001b[1;33m,\u001b[0m \u001b[1;34m'Medium'\u001b[0m\u001b[1;33m,\u001b[0m \u001b[1;34m'High'\u001b[0m\u001b[1;33m]\u001b[0m\u001b[1;33m)\u001b[0m\u001b[1;33m)\u001b[0m\u001b[1;33m\u001b[0m\u001b[0m\n\u001b[0m\u001b[0;32m     28\u001b[0m \u001b[1;33m\u001b[0m\u001b[0m\n\u001b[0;32m     29\u001b[0m     \u001b[0mprint\u001b[0m\u001b[1;33m(\u001b[0m\u001b[1;34m\"confusion matrix:\"\u001b[0m\u001b[1;33m)\u001b[0m\u001b[1;33m\u001b[0m\u001b[0m\n",
      "\u001b[1;32m/home/antonio/virtualenvs/elbulli/lib/python3.4/site-packages/sklearn/metrics/classification.py\u001b[0m in \u001b[0;36mclassification_report\u001b[1;34m(y_true, y_pred, labels, target_names, sample_weight, digits)\u001b[0m\n\u001b[0;32m   1385\u001b[0m \u001b[1;33m\u001b[0m\u001b[0m\n\u001b[0;32m   1386\u001b[0m     \u001b[1;32mfor\u001b[0m \u001b[0mi\u001b[0m\u001b[1;33m,\u001b[0m \u001b[0mlabel\u001b[0m \u001b[1;32min\u001b[0m \u001b[0menumerate\u001b[0m\u001b[1;33m(\u001b[0m\u001b[0mlabels\u001b[0m\u001b[1;33m)\u001b[0m\u001b[1;33m:\u001b[0m\u001b[1;33m\u001b[0m\u001b[0m\n\u001b[1;32m-> 1387\u001b[1;33m         \u001b[0mvalues\u001b[0m \u001b[1;33m=\u001b[0m \u001b[1;33m[\u001b[0m\u001b[0mtarget_names\u001b[0m\u001b[1;33m[\u001b[0m\u001b[0mi\u001b[0m\u001b[1;33m]\u001b[0m\u001b[1;33m]\u001b[0m\u001b[1;33m\u001b[0m\u001b[0m\n\u001b[0m\u001b[0;32m   1388\u001b[0m         \u001b[1;32mfor\u001b[0m \u001b[0mv\u001b[0m \u001b[1;32min\u001b[0m \u001b[1;33m(\u001b[0m\u001b[0mp\u001b[0m\u001b[1;33m[\u001b[0m\u001b[0mi\u001b[0m\u001b[1;33m]\u001b[0m\u001b[1;33m,\u001b[0m \u001b[0mr\u001b[0m\u001b[1;33m[\u001b[0m\u001b[0mi\u001b[0m\u001b[1;33m]\u001b[0m\u001b[1;33m,\u001b[0m \u001b[0mf1\u001b[0m\u001b[1;33m[\u001b[0m\u001b[0mi\u001b[0m\u001b[1;33m]\u001b[0m\u001b[1;33m)\u001b[0m\u001b[1;33m:\u001b[0m\u001b[1;33m\u001b[0m\u001b[0m\n\u001b[0;32m   1389\u001b[0m             \u001b[0mvalues\u001b[0m \u001b[1;33m+=\u001b[0m \u001b[1;33m[\u001b[0m\u001b[1;34m\"{0:0.{1}f}\"\u001b[0m\u001b[1;33m.\u001b[0m\u001b[0mformat\u001b[0m\u001b[1;33m(\u001b[0m\u001b[0mv\u001b[0m\u001b[1;33m,\u001b[0m \u001b[0mdigits\u001b[0m\u001b[1;33m)\u001b[0m\u001b[1;33m]\u001b[0m\u001b[1;33m\u001b[0m\u001b[0m\n",
      "\u001b[1;31mIndexError\u001b[0m: list index out of range"
     ]
    }
   ],
   "source": [
    "# X_train = X_data\n",
    "# X_test = X_val\n",
    "# y_train = y_data\n",
    "# y_test = y_val\n",
    "\n",
    "for clf, name in clf_list:\n",
    "        pipeline = Pipeline([\n",
    "            ('vect', CountVectorizer()),\n",
    "            ('tfidf', TfidfTransformer(use_idf=True)),\n",
    "            ('clf', clf),\n",
    "        ])\n",
    "#         grid_search = GridSearchCV(pipeline, parameters, n_jobs=-1, verbose=1)\n",
    "#         benchmark_results = benchmark(grid_search, X_train, X_test, y_train, y_test, name)\n",
    "        benchmark_results = benchmark(pipeline, X_train, X_test, y_train, y_test, name)\n",
    "#         results[name].append(benchmark_results)"
   ]
  },
  {
   "cell_type": "code",
   "execution_count": null,
   "metadata": {
    "collapsed": false
   },
   "outputs": [],
   "source": [
    "# split a training set and a test set\n",
    "y_train = y_data\n",
    "y_test = y_val\n",
    "\n",
    "vectorizer = TfidfVectorizer(sublinear_tf=True, max_df=0.5)\n",
    "\n",
    "print(\"Extracting features from the training data using a sparse vectorizer\")\n",
    "X_train = vectorizer.fit_transform(X_data)\n",
    "print(\"n_samples: %d, n_features: %d\" % X_train.shape)\n",
    "print()\n",
    "\n",
    "print(\"Extracting features from the test data using the same vectorizer\")\n",
    "X_test = vectorizer.transform(X_data)\n",
    "print(\"n_samples: %d, n_features: %d\" % X_test.shape)\n",
    "print()"
   ]
  },
  {
   "cell_type": "code",
   "execution_count": null,
   "metadata": {
    "collapsed": false
   },
   "outputs": [],
   "source": [
    "# mapping from integer feature name to original token string\n",
    "feature_names = vectorizer.get_feature_names()\n",
    "opts_select_chi2 = 50\n",
    "\n",
    "print(\"Extracting %d best features by a chi-squared test\" %\n",
    "      opts_select_chi2)\n",
    "ch2 = SelectKBest(chi2, k=opts_select_chi2)\n",
    "X_train = ch2.fit_transform(X_train, y_train)\n",
    "X_test = ch2.transform(X_test)\n",
    "if feature_names:\n",
    "    # keep selected feature names\n",
    "    feature_names = [feature_names[i] for i\n",
    "                     in ch2.get_support(indices=True)]\n",
    "print()\n",
    "\n",
    "feature_names = np.asarray(feature_names)"
   ]
  },
  {
   "cell_type": "code",
   "execution_count": null,
   "metadata": {
    "collapsed": false
   },
   "outputs": [],
   "source": [
    "feature_names"
   ]
  },
  {
   "cell_type": "code",
   "execution_count": null,
   "metadata": {
    "collapsed": false
   },
   "outputs": [],
   "source": [
    "count_d = {\n",
    "    '1987-1997': {},\n",
    "    '1998-2001': {},\n",
    "    '2002-2005': {},\n",
    "}\n",
    "for y in ['1987-1997', '1998-2001', '2002-2005']:\n",
    "    for f in feature_names:\n",
    "        x = f[2:].replace('_', ' ')\n",
    "        if f.startswith('i'):\n",
    "            count_d[y][f] = 0\n",
    "            for r in recipes_df[(int(y.split('-')[0]) <= recipes_df['year']) & (recipes_df['year'] <= int(y.split('-')[1]))].iterrows():\n",
    "                count_d[y][f] += r[1]['ingredients'].count(x)\n",
    "        elif f.startswith('t'):\n",
    "            count_d[y][f] = 0\n",
    "            for r in recipes_df[(int(y.split('-')[0]) <= recipes_df['year']) & (recipes_df['year'] <= int(y.split('-')[1]))].iterrows():\n",
    "                count_d[y][f] += r[1]['techniques'].count(x)"
   ]
  },
  {
   "cell_type": "code",
   "execution_count": null,
   "metadata": {
    "collapsed": false
   },
   "outputs": [],
   "source": [
    "count_d"
   ]
  },
  {
   "cell_type": "code",
   "execution_count": null,
   "metadata": {
    "collapsed": false
   },
   "outputs": [],
   "source": [
    "s1 = pd.Series(count_d['1987-1997'])\n",
    "s2 = pd.Series(count_d['1998-2001'])\n",
    "s3 = pd.Series(count_d['2002-2005'])"
   ]
  },
  {
   "cell_type": "code",
   "execution_count": null,
   "metadata": {
    "collapsed": true
   },
   "outputs": [],
   "source": [
    "df = pd.DataFrame({\n",
    "        '1987-1997': s1,\n",
    "        '1998-2001': s2,\n",
    "        '2002-2005': s3,\n",
    "    })"
   ]
  },
  {
   "cell_type": "code",
   "execution_count": null,
   "metadata": {
    "collapsed": false
   },
   "outputs": [],
   "source": [
    "df.plot(kind='bar')"
   ]
  },
  {
   "cell_type": "code",
   "execution_count": null,
   "metadata": {
    "collapsed": false
   },
   "outputs": [],
   "source": [
    "recipes_df[(1987 <= recipes_df['year']) & (recipes_df['year'] <= 1997)]"
   ]
  },
  {
   "cell_type": "code",
   "execution_count": null,
   "metadata": {
    "collapsed": true
   },
   "outputs": [],
   "source": [
    "ig = nx.read_gexf('data/spanish_ingredients_lexicon_6.gexf')\n",
    "tg = nx.read_gexf('data/spanish_techniques_lexicon_6.gexf')"
   ]
  },
  {
   "cell_type": "code",
   "execution_count": null,
   "metadata": {
    "collapsed": true
   },
   "outputs": [],
   "source": [
    "ingrs = ig.nodes(data=True)\n",
    "techs = tg.nodes(data=True)"
   ]
  },
  {
   "cell_type": "code",
   "execution_count": null,
   "metadata": {
    "collapsed": false
   },
   "outputs": [],
   "source": [
    "ingrs[:2]"
   ]
  },
  {
   "cell_type": "code",
   "execution_count": null,
   "metadata": {
    "collapsed": false
   },
   "outputs": [],
   "source": [
    "top_ingrs = sorted(ingrs, key=lambda x: x[1]['count'], reverse=True)\n",
    "top_techs = sorted(techs, key=lambda x: x[1]['count'], reverse=True)"
   ]
  },
  {
   "cell_type": "code",
   "execution_count": null,
   "metadata": {
    "collapsed": false
   },
   "outputs": [],
   "source": [
    "top_ingrs[:20]"
   ]
  },
  {
   "cell_type": "code",
   "execution_count": null,
   "metadata": {
    "collapsed": false
   },
   "outputs": [],
   "source": [
    "i_aux = top_ingrs[:21]\n",
    "i_aux.remove(('hojas de gelatina', {'count': 164, 'label': 'hojas de gelatina'}))\n",
    "i_aux"
   ]
  },
  {
   "cell_type": "code",
   "execution_count": null,
   "metadata": {
    "collapsed": false
   },
   "outputs": [],
   "source": [
    "top_techs[:10]"
   ]
  },
  {
   "cell_type": "code",
   "execution_count": null,
   "metadata": {
    "collapsed": false
   },
   "outputs": [],
   "source": [
    "t_aux = top_techs[:14]\n",
    "t_aux.remove(('agua', {'count': 891, 'label': 'agua'}))\n",
    "t_aux.remove(('sal', {'count': 648, 'label': 'sal'}))\n",
    "t_aux.remove(('min', {'count': 553, 'label': 'min'}))\n",
    "t_aux.remove(('hirviendo', {'count': 296, 'label': 'hirviendo'}))\n",
    "t_aux"
   ]
  },
  {
   "cell_type": "code",
   "execution_count": null,
   "metadata": {
    "collapsed": false
   },
   "outputs": [],
   "source": [
    "s1"
   ]
  },
  {
   "cell_type": "code",
   "execution_count": null,
   "metadata": {
    "collapsed": true
   },
   "outputs": [],
   "source": [
    "i_d = dict((x[0], x[1]['count']) for x in i_aux)\n",
    "t_d = dict((x[0], x[1]['count']) for x in t_aux)"
   ]
  },
  {
   "cell_type": "code",
   "execution_count": null,
   "metadata": {
    "collapsed": true
   },
   "outputs": [],
   "source": [
    "s1 = pd.Series(i_d)\n",
    "s2 = pd.Series(t_d)"
   ]
  },
  {
   "cell_type": "code",
   "execution_count": null,
   "metadata": {
    "collapsed": false
   },
   "outputs": [],
   "source": [
    "matplotlib.rcParams['figure.figsize'] = (8, 5)\n",
    "s1.plot(kind='bar')"
   ]
  },
  {
   "cell_type": "code",
   "execution_count": null,
   "metadata": {
    "collapsed": false
   },
   "outputs": [],
   "source": [
    "s2.plot(kind='bar')\n",
    "matplotlib.rcParams['figure.figsize'] = (12, 7)"
   ]
  },
  {
   "cell_type": "code",
   "execution_count": null,
   "metadata": {
    "collapsed": true
   },
   "outputs": [],
   "source": []
  }
 ],
 "metadata": {
  "kernelspec": {
   "display_name": "Python 3",
   "language": "python",
   "name": "python3"
  },
  "language_info": {
   "codemirror_mode": {
    "name": "ipython",
    "version": 3
   },
   "file_extension": ".py",
   "mimetype": "text/x-python",
   "name": "python",
   "nbconvert_exporter": "python",
   "pygments_lexer": "ipython3",
   "version": "3.4.3"
  }
 },
 "nbformat": 4,
 "nbformat_minor": 0
}
