{
 "cells": [
  {
   "cell_type": "code",
   "execution_count": 1,
   "metadata": {
    "collapsed": false
   },
   "outputs": [],
   "source": [
    "import json\n",
    "import pickle\n",
    "from time import time\n",
    "\n",
    "import networkx as nx\n",
    "import nltk\n",
    "import numpy as np\n",
    "import pandas as pd\n",
    "from sklearn import metrics\n",
    "from sklearn.cross_validation import StratifiedKFold, train_test_split\n",
    "from sklearn.ensemble import RandomForestClassifier\n",
    "from sklearn.feature_extraction.text import CountVectorizer, TfidfTransformer\n",
    "from sklearn.feature_selection import SelectKBest, chi2\n",
    "from sklearn.grid_search import GridSearchCV\n",
    "from sklearn.linear_model import PassiveAggressiveClassifier, Perceptron, RidgeClassifier, SGDClassifier\n",
    "from sklearn.naive_bayes import BernoulliNB, MultinomialNB\n",
    "from sklearn.neighbors import KNeighborsClassifier, NearestCentroid\n",
    "from sklearn.pipeline import Pipeline\n",
    "from sklearn.svm import LinearSVC\n",
    "# Classifiers obtained from http://scikit-learn.org/stable/auto_examples/text/document_classification_20newsgroups.html"
   ]
  },
  {
   "cell_type": "markdown",
   "metadata": {
    "collapsed": true
   },
   "source": [
    "# Original data"
   ]
  },
  {
   "cell_type": "markdown",
   "metadata": {},
   "source": [
    "## Preparing data"
   ]
  },
  {
   "cell_type": "code",
   "execution_count": 2,
   "metadata": {
    "collapsed": true
   },
   "outputs": [],
   "source": [
    "elbulli_raw_recipes_df = pd.read_csv('data/dbs/recipes_elbulli_raw.csv')"
   ]
  },
  {
   "cell_type": "code",
   "execution_count": 3,
   "metadata": {
    "collapsed": true
   },
   "outputs": [],
   "source": [
    "elbulli_raw_recipes_df['creativity'] = elbulli_raw_recipes_df.apply(\n",
    "    lambda x: 10 if 1987 <= x['year'] <= 1997 else \\\n",
    "              20 if 1998 <= x['year'] <= 2001 else \\\n",
    "              30 if 2002 <= x['year'] <= 2005 else \\\n",
    "              'UNKOWN', axis=1)"
   ]
  },
  {
   "cell_type": "code",
   "execution_count": 4,
   "metadata": {
    "collapsed": false
   },
   "outputs": [
    {
     "data": {
      "text/plain": [
       "10    454\n",
       "30    389\n",
       "20    371\n",
       "Name: creativity, dtype: int64"
      ]
     },
     "execution_count": 4,
     "metadata": {},
     "output_type": "execute_result"
    }
   ],
   "source": [
    "elbulli_raw_recipes_df['creativity'].value_counts()"
   ]
  },
  {
   "cell_type": "code",
   "execution_count": 5,
   "metadata": {
    "collapsed": false
   },
   "outputs": [],
   "source": [
    "cookpad_size = int(np.average(elbulli_raw_recipes_df['creativity'].value_counts()))"
   ]
  },
  {
   "cell_type": "code",
   "execution_count": 6,
   "metadata": {
    "collapsed": false
   },
   "outputs": [
    {
     "data": {
      "text/plain": [
       "404"
      ]
     },
     "execution_count": 6,
     "metadata": {},
     "output_type": "execute_result"
    }
   ],
   "source": [
    "cookpad_size"
   ]
  },
  {
   "cell_type": "code",
   "execution_count": 7,
   "metadata": {
    "collapsed": false
   },
   "outputs": [],
   "source": [
    "cookpad_raw_recipes_df = pd.read_csv('data/dbs/recipes_cookpad_raw.csv')"
   ]
  },
  {
   "cell_type": "code",
   "execution_count": 8,
   "metadata": {
    "collapsed": false
   },
   "outputs": [],
   "source": [
    "cookpad_sample = cookpad_raw_recipes_df.sample(cookpad_size, random_state=0)"
   ]
  },
  {
   "cell_type": "code",
   "execution_count": 9,
   "metadata": {
    "collapsed": false
   },
   "outputs": [],
   "source": [
    "cookpad_indices = cookpad_sample.index.sort_values()"
   ]
  },
  {
   "cell_type": "code",
   "execution_count": 10,
   "metadata": {
    "collapsed": false
   },
   "outputs": [
    {
     "data": {
      "text/plain": [
       "Int64Index([  33,   38,   39,   44,   49,   50,   72,  125,  134,  152,\n",
       "            ...\n",
       "            7809, 7847, 7854, 7855, 7880, 7904, 7918, 7923, 7940, 7943],\n",
       "           dtype='int64', length=404)"
      ]
     },
     "execution_count": 10,
     "metadata": {},
     "output_type": "execute_result"
    }
   ],
   "source": [
    "cookpad_indices"
   ]
  },
  {
   "cell_type": "code",
   "execution_count": 11,
   "metadata": {
    "collapsed": false
   },
   "outputs": [],
   "source": [
    "def my_sample(df, indices=cookpad_indices):\n",
    "    return df.loc[indices]"
   ]
  },
  {
   "cell_type": "markdown",
   "metadata": {},
   "source": [
    "## Raw ingredients and techniques"
   ]
  },
  {
   "cell_type": "markdown",
   "metadata": {},
   "source": [
    "### elbulli"
   ]
  },
  {
   "cell_type": "code",
   "execution_count": 12,
   "metadata": {
    "collapsed": false
   },
   "outputs": [],
   "source": [
    "elbulli_raw_recipes_df = pd.read_csv('data/dbs/recipes_elbulli_raw.csv')"
   ]
  },
  {
   "cell_type": "code",
   "execution_count": 13,
   "metadata": {
    "collapsed": false
   },
   "outputs": [
    {
     "data": {
      "text/plain": [
       "(1214, 5)"
      ]
     },
     "execution_count": 13,
     "metadata": {},
     "output_type": "execute_result"
    }
   ],
   "source": [
    "elbulli_raw_recipes_df.shape"
   ]
  },
  {
   "cell_type": "code",
   "execution_count": 14,
   "metadata": {
    "collapsed": false
   },
   "outputs": [
    {
     "data": {
      "text/html": [
       "<div>\n",
       "<table border=\"1\" class=\"dataframe\">\n",
       "  <thead>\n",
       "    <tr style=\"text-align: right;\">\n",
       "      <th></th>\n",
       "      <th>_id</th>\n",
       "      <th>title</th>\n",
       "      <th>year</th>\n",
       "      <th>ingredients</th>\n",
       "      <th>techniques</th>\n",
       "    </tr>\n",
       "  </thead>\n",
       "  <tbody>\n",
       "    <tr>\n",
       "      <th>0</th>\n",
       "      <td>1</td>\n",
       "      <td>terrina de melón con gelée de oporto</td>\n",
       "      <td>1987</td>\n",
       "      <td>[\"oporto\",\"aceite de oliva\",\"agua\",\"pimienta b...</td>\n",
       "      <td>[\"agua\"]</td>\n",
       "    </tr>\n",
       "    <tr>\n",
       "      <th>1</th>\n",
       "      <td>10</td>\n",
       "      <td>salmonetes gaudí</td>\n",
       "      <td>1987</td>\n",
       "      <td>[\"sal\",\"pimiento\",\"pimiento rojo\",\"piñones tos...</td>\n",
       "      <td>[\"sal\",\"marcar\",\"cocción\",\"asado\",\"hirviendo\",...</td>\n",
       "    </tr>\n",
       "    <tr>\n",
       "      <th>2</th>\n",
       "      <td>100</td>\n",
       "      <td>oursins</td>\n",
       "      <td>1990</td>\n",
       "      <td>[\"chocolate\",\"claras de huevo\",\"avellanas tost...</td>\n",
       "      <td>[\"horno\",\"al horno\",\"secar\"]</td>\n",
       "    </tr>\n",
       "    <tr>\n",
       "      <th>3</th>\n",
       "      <td>1000</td>\n",
       "      <td>ravioli sférico de té con cubo helado de limón</td>\n",
       "      <td>2004</td>\n",
       "      <td>[\"zumo de limón\",\"limón\",\"alginato sódico\",\"ag...</td>\n",
       "      <td>[\"agua\",\"cocer\",\"fría\"]</td>\n",
       "    </tr>\n",
       "    <tr>\n",
       "      <th>4</th>\n",
       "      <td>1001</td>\n",
       "      <td>ceps en ámbar de su caldo</td>\n",
       "      <td>2004</td>\n",
       "      <td>[\"sal\",\"caldo de ceps\",\"carragenato kappa en p...</td>\n",
       "      <td>[\"sal\",\"asar\",\"cocer\",\"hervido\",\"confitar\",\"ca...</td>\n",
       "    </tr>\n",
       "  </tbody>\n",
       "</table>\n",
       "</div>"
      ],
      "text/plain": [
       "    _id                                           title  year  \\\n",
       "0     1            terrina de melón con gelée de oporto  1987   \n",
       "1    10                                salmonetes gaudí  1987   \n",
       "2   100                                         oursins  1990   \n",
       "3  1000  ravioli sférico de té con cubo helado de limón  2004   \n",
       "4  1001                       ceps en ámbar de su caldo  2004   \n",
       "\n",
       "                                         ingredients  \\\n",
       "0  [\"oporto\",\"aceite de oliva\",\"agua\",\"pimienta b...   \n",
       "1  [\"sal\",\"pimiento\",\"pimiento rojo\",\"piñones tos...   \n",
       "2  [\"chocolate\",\"claras de huevo\",\"avellanas tost...   \n",
       "3  [\"zumo de limón\",\"limón\",\"alginato sódico\",\"ag...   \n",
       "4  [\"sal\",\"caldo de ceps\",\"carragenato kappa en p...   \n",
       "\n",
       "                                          techniques  \n",
       "0                                           [\"agua\"]  \n",
       "1  [\"sal\",\"marcar\",\"cocción\",\"asado\",\"hirviendo\",...  \n",
       "2                       [\"horno\",\"al horno\",\"secar\"]  \n",
       "3                            [\"agua\",\"cocer\",\"fría\"]  \n",
       "4  [\"sal\",\"asar\",\"cocer\",\"hervido\",\"confitar\",\"ca...  "
      ]
     },
     "execution_count": 14,
     "metadata": {},
     "output_type": "execute_result"
    }
   ],
   "source": [
    "elbulli_raw_recipes_df.head()"
   ]
  },
  {
   "cell_type": "code",
   "execution_count": 15,
   "metadata": {
    "collapsed": false
   },
   "outputs": [],
   "source": [
    "elbulli_raw_recipes_df['ingredients'] = elbulli_raw_recipes_df.apply(lambda x: json.loads(x['ingredients']), axis=1)\n",
    "elbulli_raw_recipes_df['techniques'] = elbulli_raw_recipes_df.apply(lambda x: json.loads(x['techniques']), axis=1)"
   ]
  },
  {
   "cell_type": "code",
   "execution_count": 16,
   "metadata": {
    "collapsed": true
   },
   "outputs": [],
   "source": [
    "elbulli_raw_recipes_df['creativity'] = elbulli_raw_recipes_df.apply(\n",
    "    lambda x: 10 if 1987 <= x['year'] <= 1997 else \\\n",
    "              20 if 1998 <= x['year'] <= 2001 else \\\n",
    "              30 if 2002 <= x['year'] <= 2005 else \\\n",
    "              'UNKOWN', axis=1)"
   ]
  },
  {
   "cell_type": "code",
   "execution_count": 17,
   "metadata": {
    "collapsed": false,
    "scrolled": true
   },
   "outputs": [
    {
     "data": {
      "text/html": [
       "<div>\n",
       "<table border=\"1\" class=\"dataframe\">\n",
       "  <thead>\n",
       "    <tr style=\"text-align: right;\">\n",
       "      <th></th>\n",
       "      <th>_id</th>\n",
       "      <th>title</th>\n",
       "      <th>year</th>\n",
       "      <th>ingredients</th>\n",
       "      <th>techniques</th>\n",
       "      <th>creativity</th>\n",
       "    </tr>\n",
       "  </thead>\n",
       "  <tbody>\n",
       "    <tr>\n",
       "      <th>0</th>\n",
       "      <td>1</td>\n",
       "      <td>terrina de melón con gelée de oporto</td>\n",
       "      <td>1987</td>\n",
       "      <td>[oporto, aceite de oliva, agua, pimienta blanc...</td>\n",
       "      <td>[agua]</td>\n",
       "      <td>10</td>\n",
       "    </tr>\n",
       "    <tr>\n",
       "      <th>1</th>\n",
       "      <td>10</td>\n",
       "      <td>salmonetes gaudí</td>\n",
       "      <td>1987</td>\n",
       "      <td>[sal, pimiento, pimiento rojo, piñones tostado...</td>\n",
       "      <td>[sal, marcar, cocción, asado, hirviendo, horno...</td>\n",
       "      <td>10</td>\n",
       "    </tr>\n",
       "    <tr>\n",
       "      <th>2</th>\n",
       "      <td>100</td>\n",
       "      <td>oursins</td>\n",
       "      <td>1990</td>\n",
       "      <td>[chocolate, claras de huevo, avellanas tostada...</td>\n",
       "      <td>[horno, al horno, secar]</td>\n",
       "      <td>10</td>\n",
       "    </tr>\n",
       "    <tr>\n",
       "      <th>3</th>\n",
       "      <td>1000</td>\n",
       "      <td>ravioli sférico de té con cubo helado de limón</td>\n",
       "      <td>2004</td>\n",
       "      <td>[zumo de limón, limón, alginato sódico, agua, ...</td>\n",
       "      <td>[agua, cocer, fría]</td>\n",
       "      <td>30</td>\n",
       "    </tr>\n",
       "    <tr>\n",
       "      <th>4</th>\n",
       "      <td>1001</td>\n",
       "      <td>ceps en ámbar de su caldo</td>\n",
       "      <td>2004</td>\n",
       "      <td>[sal, caldo de ceps, carragenato kappa en polv...</td>\n",
       "      <td>[sal, asar, cocer, hervido, confitar, cazuela,...</td>\n",
       "      <td>30</td>\n",
       "    </tr>\n",
       "  </tbody>\n",
       "</table>\n",
       "</div>"
      ],
      "text/plain": [
       "    _id                                           title  year  \\\n",
       "0     1            terrina de melón con gelée de oporto  1987   \n",
       "1    10                                salmonetes gaudí  1987   \n",
       "2   100                                         oursins  1990   \n",
       "3  1000  ravioli sférico de té con cubo helado de limón  2004   \n",
       "4  1001                       ceps en ámbar de su caldo  2004   \n",
       "\n",
       "                                         ingredients  \\\n",
       "0  [oporto, aceite de oliva, agua, pimienta blanc...   \n",
       "1  [sal, pimiento, pimiento rojo, piñones tostado...   \n",
       "2  [chocolate, claras de huevo, avellanas tostada...   \n",
       "3  [zumo de limón, limón, alginato sódico, agua, ...   \n",
       "4  [sal, caldo de ceps, carragenato kappa en polv...   \n",
       "\n",
       "                                          techniques  creativity  \n",
       "0                                             [agua]          10  \n",
       "1  [sal, marcar, cocción, asado, hirviendo, horno...          10  \n",
       "2                           [horno, al horno, secar]          10  \n",
       "3                                [agua, cocer, fría]          30  \n",
       "4  [sal, asar, cocer, hervido, confitar, cazuela,...          30  "
      ]
     },
     "execution_count": 17,
     "metadata": {},
     "output_type": "execute_result"
    }
   ],
   "source": [
    "elbulli_raw_recipes_df.head()"
   ]
  },
  {
   "cell_type": "markdown",
   "metadata": {},
   "source": [
    "### cookpad"
   ]
  },
  {
   "cell_type": "code",
   "execution_count": 18,
   "metadata": {
    "collapsed": false
   },
   "outputs": [],
   "source": [
    "cookpad_raw_recipes_df = pd.read_csv('data/dbs/recipes_cookpad_raw.csv')\n",
    "cookpad_raw_recipes_df = my_sample(cookpad_raw_recipes_df)"
   ]
  },
  {
   "cell_type": "code",
   "execution_count": 19,
   "metadata": {
    "collapsed": false
   },
   "outputs": [
    {
     "data": {
      "text/plain": [
       "(404, 5)"
      ]
     },
     "execution_count": 19,
     "metadata": {},
     "output_type": "execute_result"
    }
   ],
   "source": [
    "cookpad_raw_recipes_df.shape"
   ]
  },
  {
   "cell_type": "code",
   "execution_count": 20,
   "metadata": {
    "collapsed": false
   },
   "outputs": [
    {
     "data": {
      "text/html": [
       "<div>\n",
       "<table border=\"1\" class=\"dataframe\">\n",
       "  <thead>\n",
       "    <tr style=\"text-align: right;\">\n",
       "      <th></th>\n",
       "      <th>_id</th>\n",
       "      <th>title</th>\n",
       "      <th>year</th>\n",
       "      <th>ingredients</th>\n",
       "      <th>techniques</th>\n",
       "    </tr>\n",
       "  </thead>\n",
       "  <tbody>\n",
       "    <tr>\n",
       "      <th>33</th>\n",
       "      <td>100475</td>\n",
       "      <td>langostinos rebozados</td>\n",
       "      <td>2009</td>\n",
       "      <td>[\"levadura\",\"clara\",\"langostinos\",\"pimienta\",\"...</td>\n",
       "      <td>[\"freir\"]</td>\n",
       "    </tr>\n",
       "    <tr>\n",
       "      <th>38</th>\n",
       "      <td>100485</td>\n",
       "      <td>lomos de bacalao rebozados</td>\n",
       "      <td>2009</td>\n",
       "      <td>[\"bacalao fresco\",\"harina\",\"huevo\",\"pimienta\"]</td>\n",
       "      <td>[\"freir\"]</td>\n",
       "    </tr>\n",
       "    <tr>\n",
       "      <th>39</th>\n",
       "      <td>100486</td>\n",
       "      <td>cazuela de berenjenas</td>\n",
       "      <td>2009</td>\n",
       "      <td>[\"tomates maduros\",\"berenjenas asadas\",\"aceite...</td>\n",
       "      <td>[\"al horno\",\"gratinar\",\"plancha\",\"freir\",\"sart...</td>\n",
       "    </tr>\n",
       "    <tr>\n",
       "      <th>44</th>\n",
       "      <td>100549</td>\n",
       "      <td>pimientos y patatas</td>\n",
       "      <td>2009</td>\n",
       "      <td>[\"sal\",\"aceite de oliva\",\"vinagre\",\"atún\"]</td>\n",
       "      <td>[\"sal\",\"cocer\",\"salar\"]</td>\n",
       "    </tr>\n",
       "    <tr>\n",
       "      <th>49</th>\n",
       "      <td>100588</td>\n",
       "      <td>muffins de moka</td>\n",
       "      <td>2009</td>\n",
       "      <td>[\"chocolate\",\"mantequilla\",\"harina de maíz\",\"h...</td>\n",
       "      <td>[\"rellenar\",\"hornear\",\"baño maría\"]</td>\n",
       "    </tr>\n",
       "  </tbody>\n",
       "</table>\n",
       "</div>"
      ],
      "text/plain": [
       "       _id                       title  year  \\\n",
       "33  100475       langostinos rebozados  2009   \n",
       "38  100485  lomos de bacalao rebozados  2009   \n",
       "39  100486       cazuela de berenjenas  2009   \n",
       "44  100549         pimientos y patatas  2009   \n",
       "49  100588             muffins de moka  2009   \n",
       "\n",
       "                                          ingredients  \\\n",
       "33  [\"levadura\",\"clara\",\"langostinos\",\"pimienta\",\"...   \n",
       "38     [\"bacalao fresco\",\"harina\",\"huevo\",\"pimienta\"]   \n",
       "39  [\"tomates maduros\",\"berenjenas asadas\",\"aceite...   \n",
       "44         [\"sal\",\"aceite de oliva\",\"vinagre\",\"atún\"]   \n",
       "49  [\"chocolate\",\"mantequilla\",\"harina de maíz\",\"h...   \n",
       "\n",
       "                                           techniques  \n",
       "33                                          [\"freir\"]  \n",
       "38                                          [\"freir\"]  \n",
       "39  [\"al horno\",\"gratinar\",\"plancha\",\"freir\",\"sart...  \n",
       "44                            [\"sal\",\"cocer\",\"salar\"]  \n",
       "49                [\"rellenar\",\"hornear\",\"baño maría\"]  "
      ]
     },
     "execution_count": 20,
     "metadata": {},
     "output_type": "execute_result"
    }
   ],
   "source": [
    "cookpad_raw_recipes_df.head()"
   ]
  },
  {
   "cell_type": "code",
   "execution_count": 21,
   "metadata": {
    "collapsed": false
   },
   "outputs": [],
   "source": [
    "cookpad_raw_recipes_df['ingredients'] = cookpad_raw_recipes_df.apply(lambda x: json.loads(x['ingredients']), axis=1)\n",
    "cookpad_raw_recipes_df['techniques'] = cookpad_raw_recipes_df.apply(lambda x: json.loads(x['techniques']), axis=1)"
   ]
  },
  {
   "cell_type": "code",
   "execution_count": 22,
   "metadata": {
    "collapsed": true
   },
   "outputs": [],
   "source": [
    "cookpad_raw_recipes_df['creativity'] = cookpad_raw_recipes_df.apply(\n",
    "    lambda x: 0, axis=1)"
   ]
  },
  {
   "cell_type": "code",
   "execution_count": 23,
   "metadata": {
    "collapsed": false,
    "scrolled": true
   },
   "outputs": [
    {
     "data": {
      "text/html": [
       "<div>\n",
       "<table border=\"1\" class=\"dataframe\">\n",
       "  <thead>\n",
       "    <tr style=\"text-align: right;\">\n",
       "      <th></th>\n",
       "      <th>_id</th>\n",
       "      <th>title</th>\n",
       "      <th>year</th>\n",
       "      <th>ingredients</th>\n",
       "      <th>techniques</th>\n",
       "      <th>creativity</th>\n",
       "    </tr>\n",
       "  </thead>\n",
       "  <tbody>\n",
       "    <tr>\n",
       "      <th>33</th>\n",
       "      <td>100475</td>\n",
       "      <td>langostinos rebozados</td>\n",
       "      <td>2009</td>\n",
       "      <td>[levadura, clara, langostinos, pimienta, aceit...</td>\n",
       "      <td>[freir]</td>\n",
       "      <td>0</td>\n",
       "    </tr>\n",
       "    <tr>\n",
       "      <th>38</th>\n",
       "      <td>100485</td>\n",
       "      <td>lomos de bacalao rebozados</td>\n",
       "      <td>2009</td>\n",
       "      <td>[bacalao fresco, harina, huevo, pimienta]</td>\n",
       "      <td>[freir]</td>\n",
       "      <td>0</td>\n",
       "    </tr>\n",
       "    <tr>\n",
       "      <th>39</th>\n",
       "      <td>100486</td>\n",
       "      <td>cazuela de berenjenas</td>\n",
       "      <td>2009</td>\n",
       "      <td>[tomates maduros, berenjenas asadas, aceite de...</td>\n",
       "      <td>[al horno, gratinar, plancha, freir, sartén, s...</td>\n",
       "      <td>0</td>\n",
       "    </tr>\n",
       "    <tr>\n",
       "      <th>44</th>\n",
       "      <td>100549</td>\n",
       "      <td>pimientos y patatas</td>\n",
       "      <td>2009</td>\n",
       "      <td>[sal, aceite de oliva, vinagre, atún]</td>\n",
       "      <td>[sal, cocer, salar]</td>\n",
       "      <td>0</td>\n",
       "    </tr>\n",
       "    <tr>\n",
       "      <th>49</th>\n",
       "      <td>100588</td>\n",
       "      <td>muffins de moka</td>\n",
       "      <td>2009</td>\n",
       "      <td>[chocolate, mantequilla, harina de maíz, huevo...</td>\n",
       "      <td>[rellenar, hornear, baño maría]</td>\n",
       "      <td>0</td>\n",
       "    </tr>\n",
       "  </tbody>\n",
       "</table>\n",
       "</div>"
      ],
      "text/plain": [
       "       _id                       title  year  \\\n",
       "33  100475       langostinos rebozados  2009   \n",
       "38  100485  lomos de bacalao rebozados  2009   \n",
       "39  100486       cazuela de berenjenas  2009   \n",
       "44  100549         pimientos y patatas  2009   \n",
       "49  100588             muffins de moka  2009   \n",
       "\n",
       "                                          ingredients  \\\n",
       "33  [levadura, clara, langostinos, pimienta, aceit...   \n",
       "38          [bacalao fresco, harina, huevo, pimienta]   \n",
       "39  [tomates maduros, berenjenas asadas, aceite de...   \n",
       "44              [sal, aceite de oliva, vinagre, atún]   \n",
       "49  [chocolate, mantequilla, harina de maíz, huevo...   \n",
       "\n",
       "                                           techniques  creativity  \n",
       "33                                            [freir]           0  \n",
       "38                                            [freir]           0  \n",
       "39  [al horno, gratinar, plancha, freir, sartén, s...           0  \n",
       "44                                [sal, cocer, salar]           0  \n",
       "49                    [rellenar, hornear, baño maría]           0  "
      ]
     },
     "execution_count": 23,
     "metadata": {},
     "output_type": "execute_result"
    }
   ],
   "source": [
    "cookpad_raw_recipes_df.head()"
   ]
  },
  {
   "cell_type": "markdown",
   "metadata": {},
   "source": [
    "### elbulli & cookpad"
   ]
  },
  {
   "cell_type": "code",
   "execution_count": 24,
   "metadata": {
    "collapsed": true
   },
   "outputs": [],
   "source": [
    "raw_recipes_df = elbulli_raw_recipes_df.append(cookpad_raw_recipes_df, ignore_index=True)"
   ]
  },
  {
   "cell_type": "code",
   "execution_count": 25,
   "metadata": {
    "collapsed": false,
    "scrolled": true
   },
   "outputs": [
    {
     "data": {
      "text/html": [
       "<div>\n",
       "<table border=\"1\" class=\"dataframe\">\n",
       "  <thead>\n",
       "    <tr style=\"text-align: right;\">\n",
       "      <th></th>\n",
       "      <th>_id</th>\n",
       "      <th>title</th>\n",
       "      <th>year</th>\n",
       "      <th>ingredients</th>\n",
       "      <th>techniques</th>\n",
       "      <th>creativity</th>\n",
       "    </tr>\n",
       "  </thead>\n",
       "  <tbody>\n",
       "    <tr>\n",
       "      <th>0</th>\n",
       "      <td>1</td>\n",
       "      <td>terrina de melón con gelée de oporto</td>\n",
       "      <td>1987</td>\n",
       "      <td>[oporto, aceite de oliva, agua, pimienta blanc...</td>\n",
       "      <td>[agua]</td>\n",
       "      <td>10</td>\n",
       "    </tr>\n",
       "    <tr>\n",
       "      <th>1</th>\n",
       "      <td>10</td>\n",
       "      <td>salmonetes gaudí</td>\n",
       "      <td>1987</td>\n",
       "      <td>[sal, pimiento, pimiento rojo, piñones tostado...</td>\n",
       "      <td>[sal, marcar, cocción, asado, hirviendo, horno...</td>\n",
       "      <td>10</td>\n",
       "    </tr>\n",
       "    <tr>\n",
       "      <th>2</th>\n",
       "      <td>100</td>\n",
       "      <td>oursins</td>\n",
       "      <td>1990</td>\n",
       "      <td>[chocolate, claras de huevo, avellanas tostada...</td>\n",
       "      <td>[horno, al horno, secar]</td>\n",
       "      <td>10</td>\n",
       "    </tr>\n",
       "    <tr>\n",
       "      <th>3</th>\n",
       "      <td>1000</td>\n",
       "      <td>ravioli sférico de té con cubo helado de limón</td>\n",
       "      <td>2004</td>\n",
       "      <td>[zumo de limón, limón, alginato sódico, agua, ...</td>\n",
       "      <td>[agua, cocer, fría]</td>\n",
       "      <td>30</td>\n",
       "    </tr>\n",
       "    <tr>\n",
       "      <th>4</th>\n",
       "      <td>1001</td>\n",
       "      <td>ceps en ámbar de su caldo</td>\n",
       "      <td>2004</td>\n",
       "      <td>[sal, caldo de ceps, carragenato kappa en polv...</td>\n",
       "      <td>[sal, asar, cocer, hervido, confitar, cazuela,...</td>\n",
       "      <td>30</td>\n",
       "    </tr>\n",
       "  </tbody>\n",
       "</table>\n",
       "</div>"
      ],
      "text/plain": [
       "    _id                                           title  year  \\\n",
       "0     1            terrina de melón con gelée de oporto  1987   \n",
       "1    10                                salmonetes gaudí  1987   \n",
       "2   100                                         oursins  1990   \n",
       "3  1000  ravioli sférico de té con cubo helado de limón  2004   \n",
       "4  1001                       ceps en ámbar de su caldo  2004   \n",
       "\n",
       "                                         ingredients  \\\n",
       "0  [oporto, aceite de oliva, agua, pimienta blanc...   \n",
       "1  [sal, pimiento, pimiento rojo, piñones tostado...   \n",
       "2  [chocolate, claras de huevo, avellanas tostada...   \n",
       "3  [zumo de limón, limón, alginato sódico, agua, ...   \n",
       "4  [sal, caldo de ceps, carragenato kappa en polv...   \n",
       "\n",
       "                                          techniques  creativity  \n",
       "0                                             [agua]          10  \n",
       "1  [sal, marcar, cocción, asado, hirviendo, horno...          10  \n",
       "2                           [horno, al horno, secar]          10  \n",
       "3                                [agua, cocer, fría]          30  \n",
       "4  [sal, asar, cocer, hervido, confitar, cazuela,...          30  "
      ]
     },
     "execution_count": 25,
     "metadata": {},
     "output_type": "execute_result"
    }
   ],
   "source": [
    "raw_recipes_df.head()"
   ]
  },
  {
   "cell_type": "markdown",
   "metadata": {},
   "source": [
    "## Representative ingredients and techniques"
   ]
  },
  {
   "cell_type": "markdown",
   "metadata": {},
   "source": [
    "### elbulli"
   ]
  },
  {
   "cell_type": "code",
   "execution_count": 26,
   "metadata": {
    "collapsed": false
   },
   "outputs": [],
   "source": [
    "elbulli_repr_recipes_df = pd.read_csv('data/dbs/recipes_elbulli_representatives.csv')"
   ]
  },
  {
   "cell_type": "code",
   "execution_count": 27,
   "metadata": {
    "collapsed": false
   },
   "outputs": [
    {
     "data": {
      "text/plain": [
       "_id             int64\n",
       "title          object\n",
       "year            int64\n",
       "ingredients    object\n",
       "techniques     object\n",
       "dtype: object"
      ]
     },
     "execution_count": 27,
     "metadata": {},
     "output_type": "execute_result"
    }
   ],
   "source": [
    "elbulli_repr_recipes_df.dtypes"
   ]
  },
  {
   "cell_type": "code",
   "execution_count": 28,
   "metadata": {
    "collapsed": false
   },
   "outputs": [
    {
     "data": {
      "text/html": [
       "<div>\n",
       "<table border=\"1\" class=\"dataframe\">\n",
       "  <thead>\n",
       "    <tr style=\"text-align: right;\">\n",
       "      <th></th>\n",
       "      <th>_id</th>\n",
       "      <th>title</th>\n",
       "      <th>year</th>\n",
       "      <th>ingredients</th>\n",
       "      <th>techniques</th>\n",
       "    </tr>\n",
       "  </thead>\n",
       "  <tbody>\n",
       "    <tr>\n",
       "      <th>0</th>\n",
       "      <td>1</td>\n",
       "      <td>terrina de melón con gelée de oporto</td>\n",
       "      <td>1987</td>\n",
       "      <td>[\"oporto\",\"aceite de oliva\",\"agua\",\"pimienta b...</td>\n",
       "      <td>[\"agua\"]</td>\n",
       "    </tr>\n",
       "    <tr>\n",
       "      <th>1</th>\n",
       "      <td>10</td>\n",
       "      <td>salmonetes gaudí</td>\n",
       "      <td>1987</td>\n",
       "      <td>[\"sal\",\"pimientos\",\"pimiento rojo\",\"piñones to...</td>\n",
       "      <td>[\"sal\",\"marcar\",\"cocción\",\"horno\",\"hervir\",\"ho...</td>\n",
       "    </tr>\n",
       "    <tr>\n",
       "      <th>2</th>\n",
       "      <td>100</td>\n",
       "      <td>oursins</td>\n",
       "      <td>1990</td>\n",
       "      <td>[\"chocolate\",\"claras de huevo\",\"avellanas tost...</td>\n",
       "      <td>[\"horno\",\"horno\",\"secar\"]</td>\n",
       "    </tr>\n",
       "    <tr>\n",
       "      <th>3</th>\n",
       "      <td>1000</td>\n",
       "      <td>ravioli sférico de té con cubo helado de limón</td>\n",
       "      <td>2004</td>\n",
       "      <td>[\"zumo de limón\",\"limón\",\"alginato sódico\",\"ag...</td>\n",
       "      <td>[\"agua\",\"cocer\",\"horno\"]</td>\n",
       "    </tr>\n",
       "    <tr>\n",
       "      <th>4</th>\n",
       "      <td>1001</td>\n",
       "      <td>ceps en ámbar de su caldo</td>\n",
       "      <td>2004</td>\n",
       "      <td>[\"sal\",\"caldo de ceps\",\"carragenato kappa en p...</td>\n",
       "      <td>[\"sal\",\"horno\",\"cocer\",\"hervir\",\"confitar\",\"ca...</td>\n",
       "    </tr>\n",
       "  </tbody>\n",
       "</table>\n",
       "</div>"
      ],
      "text/plain": [
       "    _id                                           title  year  \\\n",
       "0     1            terrina de melón con gelée de oporto  1987   \n",
       "1    10                                salmonetes gaudí  1987   \n",
       "2   100                                         oursins  1990   \n",
       "3  1000  ravioli sférico de té con cubo helado de limón  2004   \n",
       "4  1001                       ceps en ámbar de su caldo  2004   \n",
       "\n",
       "                                         ingredients  \\\n",
       "0  [\"oporto\",\"aceite de oliva\",\"agua\",\"pimienta b...   \n",
       "1  [\"sal\",\"pimientos\",\"pimiento rojo\",\"piñones to...   \n",
       "2  [\"chocolate\",\"claras de huevo\",\"avellanas tost...   \n",
       "3  [\"zumo de limón\",\"limón\",\"alginato sódico\",\"ag...   \n",
       "4  [\"sal\",\"caldo de ceps\",\"carragenato kappa en p...   \n",
       "\n",
       "                                          techniques  \n",
       "0                                           [\"agua\"]  \n",
       "1  [\"sal\",\"marcar\",\"cocción\",\"horno\",\"hervir\",\"ho...  \n",
       "2                          [\"horno\",\"horno\",\"secar\"]  \n",
       "3                           [\"agua\",\"cocer\",\"horno\"]  \n",
       "4  [\"sal\",\"horno\",\"cocer\",\"hervir\",\"confitar\",\"ca...  "
      ]
     },
     "execution_count": 28,
     "metadata": {},
     "output_type": "execute_result"
    }
   ],
   "source": [
    "elbulli_repr_recipes_df.head()"
   ]
  },
  {
   "cell_type": "code",
   "execution_count": 29,
   "metadata": {
    "collapsed": false
   },
   "outputs": [],
   "source": [
    "elbulli_repr_recipes_df['ingredients'] = elbulli_repr_recipes_df.apply(lambda x: json.loads(x['ingredients']), axis=1)\n",
    "elbulli_repr_recipes_df['techniques'] = elbulli_repr_recipes_df.apply(lambda x: json.loads(x['techniques']), axis=1)"
   ]
  },
  {
   "cell_type": "code",
   "execution_count": 30,
   "metadata": {
    "collapsed": true
   },
   "outputs": [],
   "source": [
    "elbulli_repr_recipes_df['creativity'] = elbulli_repr_recipes_df.apply(\n",
    "    lambda x: 10 if 1987 <= x['year'] <= 1997 else \\\n",
    "              20 if 1998 <= x['year'] <= 2001 else \\\n",
    "              30 if 2002 <= x['year'] <= 2005 else \\\n",
    "              'UNKOWN', axis=1)"
   ]
  },
  {
   "cell_type": "code",
   "execution_count": 31,
   "metadata": {
    "collapsed": false,
    "scrolled": true
   },
   "outputs": [
    {
     "data": {
      "text/html": [
       "<div>\n",
       "<table border=\"1\" class=\"dataframe\">\n",
       "  <thead>\n",
       "    <tr style=\"text-align: right;\">\n",
       "      <th></th>\n",
       "      <th>_id</th>\n",
       "      <th>title</th>\n",
       "      <th>year</th>\n",
       "      <th>ingredients</th>\n",
       "      <th>techniques</th>\n",
       "      <th>creativity</th>\n",
       "    </tr>\n",
       "  </thead>\n",
       "  <tbody>\n",
       "    <tr>\n",
       "      <th>0</th>\n",
       "      <td>1</td>\n",
       "      <td>terrina de melón con gelée de oporto</td>\n",
       "      <td>1987</td>\n",
       "      <td>[oporto, aceite de oliva, agua, pimienta blanc...</td>\n",
       "      <td>[agua]</td>\n",
       "      <td>10</td>\n",
       "    </tr>\n",
       "    <tr>\n",
       "      <th>1</th>\n",
       "      <td>10</td>\n",
       "      <td>salmonetes gaudí</td>\n",
       "      <td>1987</td>\n",
       "      <td>[sal, pimientos, pimiento rojo, piñones tostad...</td>\n",
       "      <td>[sal, marcar, cocción, horno, hervir, horno, s...</td>\n",
       "      <td>10</td>\n",
       "    </tr>\n",
       "    <tr>\n",
       "      <th>2</th>\n",
       "      <td>100</td>\n",
       "      <td>oursins</td>\n",
       "      <td>1990</td>\n",
       "      <td>[chocolate, claras de huevo, avellanas tostada...</td>\n",
       "      <td>[horno, horno, secar]</td>\n",
       "      <td>10</td>\n",
       "    </tr>\n",
       "    <tr>\n",
       "      <th>3</th>\n",
       "      <td>1000</td>\n",
       "      <td>ravioli sférico de té con cubo helado de limón</td>\n",
       "      <td>2004</td>\n",
       "      <td>[zumo de limón, limón, alginato sódico, agua, ...</td>\n",
       "      <td>[agua, cocer, horno]</td>\n",
       "      <td>30</td>\n",
       "    </tr>\n",
       "    <tr>\n",
       "      <th>4</th>\n",
       "      <td>1001</td>\n",
       "      <td>ceps en ámbar de su caldo</td>\n",
       "      <td>2004</td>\n",
       "      <td>[sal, caldo de ceps, carragenato kappa en polv...</td>\n",
       "      <td>[sal, horno, cocer, hervir, confitar, cazuela,...</td>\n",
       "      <td>30</td>\n",
       "    </tr>\n",
       "  </tbody>\n",
       "</table>\n",
       "</div>"
      ],
      "text/plain": [
       "    _id                                           title  year  \\\n",
       "0     1            terrina de melón con gelée de oporto  1987   \n",
       "1    10                                salmonetes gaudí  1987   \n",
       "2   100                                         oursins  1990   \n",
       "3  1000  ravioli sférico de té con cubo helado de limón  2004   \n",
       "4  1001                       ceps en ámbar de su caldo  2004   \n",
       "\n",
       "                                         ingredients  \\\n",
       "0  [oporto, aceite de oliva, agua, pimienta blanc...   \n",
       "1  [sal, pimientos, pimiento rojo, piñones tostad...   \n",
       "2  [chocolate, claras de huevo, avellanas tostada...   \n",
       "3  [zumo de limón, limón, alginato sódico, agua, ...   \n",
       "4  [sal, caldo de ceps, carragenato kappa en polv...   \n",
       "\n",
       "                                          techniques  creativity  \n",
       "0                                             [agua]          10  \n",
       "1  [sal, marcar, cocción, horno, hervir, horno, s...          10  \n",
       "2                              [horno, horno, secar]          10  \n",
       "3                               [agua, cocer, horno]          30  \n",
       "4  [sal, horno, cocer, hervir, confitar, cazuela,...          30  "
      ]
     },
     "execution_count": 31,
     "metadata": {},
     "output_type": "execute_result"
    }
   ],
   "source": [
    "elbulli_repr_recipes_df.head()"
   ]
  },
  {
   "cell_type": "markdown",
   "metadata": {},
   "source": [
    "### cookpad"
   ]
  },
  {
   "cell_type": "code",
   "execution_count": 32,
   "metadata": {
    "collapsed": false
   },
   "outputs": [],
   "source": [
    "cookpad_repr_recipes_df = pd.read_csv('data/dbs/recipes_cookpad_representatives.csv')\n",
    "cookpad_repr_recipes_df = my_sample(cookpad_repr_recipes_df)"
   ]
  },
  {
   "cell_type": "code",
   "execution_count": 33,
   "metadata": {
    "collapsed": false
   },
   "outputs": [
    {
     "data": {
      "text/plain": [
       "(404, 5)"
      ]
     },
     "execution_count": 33,
     "metadata": {},
     "output_type": "execute_result"
    }
   ],
   "source": [
    "cookpad_repr_recipes_df.shape"
   ]
  },
  {
   "cell_type": "code",
   "execution_count": 34,
   "metadata": {
    "collapsed": false
   },
   "outputs": [
    {
     "data": {
      "text/html": [
       "<div>\n",
       "<table border=\"1\" class=\"dataframe\">\n",
       "  <thead>\n",
       "    <tr style=\"text-align: right;\">\n",
       "      <th></th>\n",
       "      <th>_id</th>\n",
       "      <th>title</th>\n",
       "      <th>year</th>\n",
       "      <th>ingredients</th>\n",
       "      <th>techniques</th>\n",
       "    </tr>\n",
       "  </thead>\n",
       "  <tbody>\n",
       "    <tr>\n",
       "      <th>33</th>\n",
       "      <td>100475</td>\n",
       "      <td>langostinos rebozados</td>\n",
       "      <td>2009</td>\n",
       "      <td>[\"levadura\",\"claras\",\"langostinos\",\"pimienta\",...</td>\n",
       "      <td>[\"horno\"]</td>\n",
       "    </tr>\n",
       "    <tr>\n",
       "      <th>38</th>\n",
       "      <td>100485</td>\n",
       "      <td>lomos de bacalao rebozados</td>\n",
       "      <td>2009</td>\n",
       "      <td>[\"bacalao fresco\",\"harina\",\"huevos\",\"pimienta\"]</td>\n",
       "      <td>[\"horno\"]</td>\n",
       "    </tr>\n",
       "    <tr>\n",
       "      <th>39</th>\n",
       "      <td>100486</td>\n",
       "      <td>cazuela de berenjenas</td>\n",
       "      <td>2009</td>\n",
       "      <td>[\"tomates maduros\",\"berenjena asada\",\"aceite d...</td>\n",
       "      <td>[\"horno\",\"horno\",\"plancha\",\"horno\",\"sartén\",\"s...</td>\n",
       "    </tr>\n",
       "    <tr>\n",
       "      <th>44</th>\n",
       "      <td>100549</td>\n",
       "      <td>pimientos y patatas</td>\n",
       "      <td>2009</td>\n",
       "      <td>[\"sal\",\"aceite de oliva\",\"vinagre\",\"atún\"]</td>\n",
       "      <td>[\"sal\",\"cocer\",\"sal\"]</td>\n",
       "    </tr>\n",
       "    <tr>\n",
       "      <th>49</th>\n",
       "      <td>100588</td>\n",
       "      <td>muffins de moka</td>\n",
       "      <td>2009</td>\n",
       "      <td>[\"chocolate\",\"mantequilla\",\"harina de maíz\",\"h...</td>\n",
       "      <td>[\"relleno\",\"horno\",\"al baño maria\"]</td>\n",
       "    </tr>\n",
       "  </tbody>\n",
       "</table>\n",
       "</div>"
      ],
      "text/plain": [
       "       _id                       title  year  \\\n",
       "33  100475       langostinos rebozados  2009   \n",
       "38  100485  lomos de bacalao rebozados  2009   \n",
       "39  100486       cazuela de berenjenas  2009   \n",
       "44  100549         pimientos y patatas  2009   \n",
       "49  100588             muffins de moka  2009   \n",
       "\n",
       "                                          ingredients  \\\n",
       "33  [\"levadura\",\"claras\",\"langostinos\",\"pimienta\",...   \n",
       "38    [\"bacalao fresco\",\"harina\",\"huevos\",\"pimienta\"]   \n",
       "39  [\"tomates maduros\",\"berenjena asada\",\"aceite d...   \n",
       "44         [\"sal\",\"aceite de oliva\",\"vinagre\",\"atún\"]   \n",
       "49  [\"chocolate\",\"mantequilla\",\"harina de maíz\",\"h...   \n",
       "\n",
       "                                           techniques  \n",
       "33                                          [\"horno\"]  \n",
       "38                                          [\"horno\"]  \n",
       "39  [\"horno\",\"horno\",\"plancha\",\"horno\",\"sartén\",\"s...  \n",
       "44                              [\"sal\",\"cocer\",\"sal\"]  \n",
       "49                [\"relleno\",\"horno\",\"al baño maria\"]  "
      ]
     },
     "execution_count": 34,
     "metadata": {},
     "output_type": "execute_result"
    }
   ],
   "source": [
    "cookpad_repr_recipes_df.head()"
   ]
  },
  {
   "cell_type": "code",
   "execution_count": 35,
   "metadata": {
    "collapsed": false
   },
   "outputs": [],
   "source": [
    "cookpad_repr_recipes_df['ingredients'] = cookpad_repr_recipes_df.apply(lambda x: json.loads(x['ingredients']), axis=1)\n",
    "cookpad_repr_recipes_df['techniques'] = cookpad_repr_recipes_df.apply(lambda x: json.loads(x['techniques']), axis=1)"
   ]
  },
  {
   "cell_type": "code",
   "execution_count": 36,
   "metadata": {
    "collapsed": true
   },
   "outputs": [],
   "source": [
    "cookpad_repr_recipes_df['creativity'] = cookpad_repr_recipes_df.apply(\n",
    "    lambda x: 0, axis=1)"
   ]
  },
  {
   "cell_type": "code",
   "execution_count": 37,
   "metadata": {
    "collapsed": false,
    "scrolled": true
   },
   "outputs": [
    {
     "data": {
      "text/html": [
       "<div>\n",
       "<table border=\"1\" class=\"dataframe\">\n",
       "  <thead>\n",
       "    <tr style=\"text-align: right;\">\n",
       "      <th></th>\n",
       "      <th>_id</th>\n",
       "      <th>title</th>\n",
       "      <th>year</th>\n",
       "      <th>ingredients</th>\n",
       "      <th>techniques</th>\n",
       "      <th>creativity</th>\n",
       "    </tr>\n",
       "  </thead>\n",
       "  <tbody>\n",
       "    <tr>\n",
       "      <th>33</th>\n",
       "      <td>100475</td>\n",
       "      <td>langostinos rebozados</td>\n",
       "      <td>2009</td>\n",
       "      <td>[levadura, claras, langostinos, pimienta, acei...</td>\n",
       "      <td>[horno]</td>\n",
       "      <td>0</td>\n",
       "    </tr>\n",
       "    <tr>\n",
       "      <th>38</th>\n",
       "      <td>100485</td>\n",
       "      <td>lomos de bacalao rebozados</td>\n",
       "      <td>2009</td>\n",
       "      <td>[bacalao fresco, harina, huevos, pimienta]</td>\n",
       "      <td>[horno]</td>\n",
       "      <td>0</td>\n",
       "    </tr>\n",
       "    <tr>\n",
       "      <th>39</th>\n",
       "      <td>100486</td>\n",
       "      <td>cazuela de berenjenas</td>\n",
       "      <td>2009</td>\n",
       "      <td>[tomates maduros, berenjena asada, aceite de o...</td>\n",
       "      <td>[horno, horno, plancha, horno, sartén, sal, en...</td>\n",
       "      <td>0</td>\n",
       "    </tr>\n",
       "    <tr>\n",
       "      <th>44</th>\n",
       "      <td>100549</td>\n",
       "      <td>pimientos y patatas</td>\n",
       "      <td>2009</td>\n",
       "      <td>[sal, aceite de oliva, vinagre, atún]</td>\n",
       "      <td>[sal, cocer, sal]</td>\n",
       "      <td>0</td>\n",
       "    </tr>\n",
       "    <tr>\n",
       "      <th>49</th>\n",
       "      <td>100588</td>\n",
       "      <td>muffins de moka</td>\n",
       "      <td>2009</td>\n",
       "      <td>[chocolate, mantequilla, harina de maíz, huevo...</td>\n",
       "      <td>[relleno, horno, al baño maria]</td>\n",
       "      <td>0</td>\n",
       "    </tr>\n",
       "  </tbody>\n",
       "</table>\n",
       "</div>"
      ],
      "text/plain": [
       "       _id                       title  year  \\\n",
       "33  100475       langostinos rebozados  2009   \n",
       "38  100485  lomos de bacalao rebozados  2009   \n",
       "39  100486       cazuela de berenjenas  2009   \n",
       "44  100549         pimientos y patatas  2009   \n",
       "49  100588             muffins de moka  2009   \n",
       "\n",
       "                                          ingredients  \\\n",
       "33  [levadura, claras, langostinos, pimienta, acei...   \n",
       "38         [bacalao fresco, harina, huevos, pimienta]   \n",
       "39  [tomates maduros, berenjena asada, aceite de o...   \n",
       "44              [sal, aceite de oliva, vinagre, atún]   \n",
       "49  [chocolate, mantequilla, harina de maíz, huevo...   \n",
       "\n",
       "                                           techniques  creativity  \n",
       "33                                            [horno]           0  \n",
       "38                                            [horno]           0  \n",
       "39  [horno, horno, plancha, horno, sartén, sal, en...           0  \n",
       "44                                  [sal, cocer, sal]           0  \n",
       "49                    [relleno, horno, al baño maria]           0  "
      ]
     },
     "execution_count": 37,
     "metadata": {},
     "output_type": "execute_result"
    }
   ],
   "source": [
    "cookpad_repr_recipes_df.head()"
   ]
  },
  {
   "cell_type": "markdown",
   "metadata": {},
   "source": [
    "### elbulli & cookpad"
   ]
  },
  {
   "cell_type": "code",
   "execution_count": 38,
   "metadata": {
    "collapsed": true
   },
   "outputs": [],
   "source": [
    "repr_recipes_df = elbulli_repr_recipes_df.append(cookpad_repr_recipes_df, ignore_index=True)"
   ]
  },
  {
   "cell_type": "code",
   "execution_count": 39,
   "metadata": {
    "collapsed": false,
    "scrolled": true
   },
   "outputs": [
    {
     "data": {
      "text/html": [
       "<div>\n",
       "<table border=\"1\" class=\"dataframe\">\n",
       "  <thead>\n",
       "    <tr style=\"text-align: right;\">\n",
       "      <th></th>\n",
       "      <th>_id</th>\n",
       "      <th>title</th>\n",
       "      <th>year</th>\n",
       "      <th>ingredients</th>\n",
       "      <th>techniques</th>\n",
       "      <th>creativity</th>\n",
       "    </tr>\n",
       "  </thead>\n",
       "  <tbody>\n",
       "    <tr>\n",
       "      <th>0</th>\n",
       "      <td>1</td>\n",
       "      <td>terrina de melón con gelée de oporto</td>\n",
       "      <td>1987</td>\n",
       "      <td>[oporto, aceite de oliva, agua, pimienta blanc...</td>\n",
       "      <td>[agua]</td>\n",
       "      <td>10</td>\n",
       "    </tr>\n",
       "    <tr>\n",
       "      <th>1</th>\n",
       "      <td>10</td>\n",
       "      <td>salmonetes gaudí</td>\n",
       "      <td>1987</td>\n",
       "      <td>[sal, pimientos, pimiento rojo, piñones tostad...</td>\n",
       "      <td>[sal, marcar, cocción, horno, hervir, horno, s...</td>\n",
       "      <td>10</td>\n",
       "    </tr>\n",
       "    <tr>\n",
       "      <th>2</th>\n",
       "      <td>100</td>\n",
       "      <td>oursins</td>\n",
       "      <td>1990</td>\n",
       "      <td>[chocolate, claras de huevo, avellanas tostada...</td>\n",
       "      <td>[horno, horno, secar]</td>\n",
       "      <td>10</td>\n",
       "    </tr>\n",
       "    <tr>\n",
       "      <th>3</th>\n",
       "      <td>1000</td>\n",
       "      <td>ravioli sférico de té con cubo helado de limón</td>\n",
       "      <td>2004</td>\n",
       "      <td>[zumo de limón, limón, alginato sódico, agua, ...</td>\n",
       "      <td>[agua, cocer, horno]</td>\n",
       "      <td>30</td>\n",
       "    </tr>\n",
       "    <tr>\n",
       "      <th>4</th>\n",
       "      <td>1001</td>\n",
       "      <td>ceps en ámbar de su caldo</td>\n",
       "      <td>2004</td>\n",
       "      <td>[sal, caldo de ceps, carragenato kappa en polv...</td>\n",
       "      <td>[sal, horno, cocer, hervir, confitar, cazuela,...</td>\n",
       "      <td>30</td>\n",
       "    </tr>\n",
       "  </tbody>\n",
       "</table>\n",
       "</div>"
      ],
      "text/plain": [
       "    _id                                           title  year  \\\n",
       "0     1            terrina de melón con gelée de oporto  1987   \n",
       "1    10                                salmonetes gaudí  1987   \n",
       "2   100                                         oursins  1990   \n",
       "3  1000  ravioli sférico de té con cubo helado de limón  2004   \n",
       "4  1001                       ceps en ámbar de su caldo  2004   \n",
       "\n",
       "                                         ingredients  \\\n",
       "0  [oporto, aceite de oliva, agua, pimienta blanc...   \n",
       "1  [sal, pimientos, pimiento rojo, piñones tostad...   \n",
       "2  [chocolate, claras de huevo, avellanas tostada...   \n",
       "3  [zumo de limón, limón, alginato sódico, agua, ...   \n",
       "4  [sal, caldo de ceps, carragenato kappa en polv...   \n",
       "\n",
       "                                          techniques  creativity  \n",
       "0                                             [agua]          10  \n",
       "1  [sal, marcar, cocción, horno, hervir, horno, s...          10  \n",
       "2                              [horno, horno, secar]          10  \n",
       "3                               [agua, cocer, horno]          30  \n",
       "4  [sal, horno, cocer, hervir, confitar, cazuela,...          30  "
      ]
     },
     "execution_count": 39,
     "metadata": {},
     "output_type": "execute_result"
    }
   ],
   "source": [
    "repr_recipes_df.head()"
   ]
  },
  {
   "cell_type": "markdown",
   "metadata": {},
   "source": [
    "## Superclasses of ingredients and techniques"
   ]
  },
  {
   "cell_type": "markdown",
   "metadata": {},
   "source": [
    "### elbulli"
   ]
  },
  {
   "cell_type": "code",
   "execution_count": 40,
   "metadata": {
    "collapsed": false
   },
   "outputs": [],
   "source": [
    "elbulli_super_recipes_df = pd.read_csv('data/dbs/recipes_elbulli_superclasses.csv')"
   ]
  },
  {
   "cell_type": "code",
   "execution_count": 41,
   "metadata": {
    "collapsed": false
   },
   "outputs": [
    {
     "data": {
      "text/plain": [
       "_id             int64\n",
       "title          object\n",
       "year            int64\n",
       "ingredients    object\n",
       "techniques     object\n",
       "dtype: object"
      ]
     },
     "execution_count": 41,
     "metadata": {},
     "output_type": "execute_result"
    }
   ],
   "source": [
    "elbulli_super_recipes_df.dtypes"
   ]
  },
  {
   "cell_type": "code",
   "execution_count": 42,
   "metadata": {
    "collapsed": false
   },
   "outputs": [
    {
     "data": {
      "text/html": [
       "<div>\n",
       "<table border=\"1\" class=\"dataframe\">\n",
       "  <thead>\n",
       "    <tr style=\"text-align: right;\">\n",
       "      <th></th>\n",
       "      <th>_id</th>\n",
       "      <th>title</th>\n",
       "      <th>year</th>\n",
       "      <th>ingredients</th>\n",
       "      <th>techniques</th>\n",
       "    </tr>\n",
       "  </thead>\n",
       "  <tbody>\n",
       "    <tr>\n",
       "      <th>0</th>\n",
       "      <td>1</td>\n",
       "      <td>terrina de melón con gelée de oporto</td>\n",
       "      <td>1987</td>\n",
       "      <td>[\"oporto\",\"aceite\",\"agua\",\"pimienta\",\"gelatina...</td>\n",
       "      <td>[\"agua\"]</td>\n",
       "    </tr>\n",
       "    <tr>\n",
       "      <th>1</th>\n",
       "      <td>10</td>\n",
       "      <td>salmonetes gaudí</td>\n",
       "      <td>1987</td>\n",
       "      <td>[\"sal\",\"pimientos\",\"pimiento\",\"piñones\",\"vinag...</td>\n",
       "      <td>[\"sal\",\"marcar\",\"cocción\",\"horno\",\"hervir\",\"ho...</td>\n",
       "    </tr>\n",
       "    <tr>\n",
       "      <th>2</th>\n",
       "      <td>100</td>\n",
       "      <td>oursins</td>\n",
       "      <td>1990</td>\n",
       "      <td>[\"chocolate\",\"claras\",\"avellanas\",\"yemas\",\"azú...</td>\n",
       "      <td>[\"horno\",\"horno\",\"secar\"]</td>\n",
       "    </tr>\n",
       "    <tr>\n",
       "      <th>3</th>\n",
       "      <td>1000</td>\n",
       "      <td>ravioli sférico de té con cubo helado de limón</td>\n",
       "      <td>2004</td>\n",
       "      <td>[\"zumo\",\"limón\",\"alginato\",\"agua\",\"té\",\"azúcar\"]</td>\n",
       "      <td>[\"agua\",\"cocer\",\"horno\"]</td>\n",
       "    </tr>\n",
       "    <tr>\n",
       "      <th>4</th>\n",
       "      <td>1001</td>\n",
       "      <td>ceps en ámbar de su caldo</td>\n",
       "      <td>2004</td>\n",
       "      <td>[\"sal\",\"ceps\",\"carragenato\",\"romero\",\"ceps\",\"c...</td>\n",
       "      <td>[\"sal\",\"horno\",\"cocer\",\"hervir\",\"confitar\",\"ca...</td>\n",
       "    </tr>\n",
       "  </tbody>\n",
       "</table>\n",
       "</div>"
      ],
      "text/plain": [
       "    _id                                           title  year  \\\n",
       "0     1            terrina de melón con gelée de oporto  1987   \n",
       "1    10                                salmonetes gaudí  1987   \n",
       "2   100                                         oursins  1990   \n",
       "3  1000  ravioli sférico de té con cubo helado de limón  2004   \n",
       "4  1001                       ceps en ámbar de su caldo  2004   \n",
       "\n",
       "                                         ingredients  \\\n",
       "0  [\"oporto\",\"aceite\",\"agua\",\"pimienta\",\"gelatina...   \n",
       "1  [\"sal\",\"pimientos\",\"pimiento\",\"piñones\",\"vinag...   \n",
       "2  [\"chocolate\",\"claras\",\"avellanas\",\"yemas\",\"azú...   \n",
       "3   [\"zumo\",\"limón\",\"alginato\",\"agua\",\"té\",\"azúcar\"]   \n",
       "4  [\"sal\",\"ceps\",\"carragenato\",\"romero\",\"ceps\",\"c...   \n",
       "\n",
       "                                          techniques  \n",
       "0                                           [\"agua\"]  \n",
       "1  [\"sal\",\"marcar\",\"cocción\",\"horno\",\"hervir\",\"ho...  \n",
       "2                          [\"horno\",\"horno\",\"secar\"]  \n",
       "3                           [\"agua\",\"cocer\",\"horno\"]  \n",
       "4  [\"sal\",\"horno\",\"cocer\",\"hervir\",\"confitar\",\"ca...  "
      ]
     },
     "execution_count": 42,
     "metadata": {},
     "output_type": "execute_result"
    }
   ],
   "source": [
    "elbulli_super_recipes_df.head()"
   ]
  },
  {
   "cell_type": "code",
   "execution_count": 43,
   "metadata": {
    "collapsed": false
   },
   "outputs": [],
   "source": [
    "elbulli_super_recipes_df['ingredients'] = elbulli_super_recipes_df.apply(lambda x: json.loads(x['ingredients']), axis=1)\n",
    "elbulli_super_recipes_df['techniques'] = elbulli_super_recipes_df.apply(lambda x: json.loads(x['techniques']), axis=1)"
   ]
  },
  {
   "cell_type": "code",
   "execution_count": 44,
   "metadata": {
    "collapsed": true
   },
   "outputs": [],
   "source": [
    "elbulli_super_recipes_df['creativity'] = elbulli_super_recipes_df.apply(\n",
    "    lambda x: 10 if 1987 <= x['year'] <= 1997 else \\\n",
    "              20 if 1998 <= x['year'] <= 2001 else \\\n",
    "              30 if 2002 <= x['year'] <= 2005 else \\\n",
    "              'UNKOWN', axis=1)"
   ]
  },
  {
   "cell_type": "code",
   "execution_count": 45,
   "metadata": {
    "collapsed": false,
    "scrolled": true
   },
   "outputs": [
    {
     "data": {
      "text/html": [
       "<div>\n",
       "<table border=\"1\" class=\"dataframe\">\n",
       "  <thead>\n",
       "    <tr style=\"text-align: right;\">\n",
       "      <th></th>\n",
       "      <th>_id</th>\n",
       "      <th>title</th>\n",
       "      <th>year</th>\n",
       "      <th>ingredients</th>\n",
       "      <th>techniques</th>\n",
       "      <th>creativity</th>\n",
       "    </tr>\n",
       "  </thead>\n",
       "  <tbody>\n",
       "    <tr>\n",
       "      <th>0</th>\n",
       "      <td>1</td>\n",
       "      <td>terrina de melón con gelée de oporto</td>\n",
       "      <td>1987</td>\n",
       "      <td>[oporto, aceite, agua, pimienta, gelatina, mel...</td>\n",
       "      <td>[agua]</td>\n",
       "      <td>10</td>\n",
       "    </tr>\n",
       "    <tr>\n",
       "      <th>1</th>\n",
       "      <td>10</td>\n",
       "      <td>salmonetes gaudí</td>\n",
       "      <td>1987</td>\n",
       "      <td>[sal, pimientos, pimiento, piñones, vinagre, o...</td>\n",
       "      <td>[sal, marcar, cocción, horno, hervir, horno, s...</td>\n",
       "      <td>10</td>\n",
       "    </tr>\n",
       "    <tr>\n",
       "      <th>2</th>\n",
       "      <td>100</td>\n",
       "      <td>oursins</td>\n",
       "      <td>1990</td>\n",
       "      <td>[chocolate, claras, avellanas, yemas, azúcar, ...</td>\n",
       "      <td>[horno, horno, secar]</td>\n",
       "      <td>10</td>\n",
       "    </tr>\n",
       "    <tr>\n",
       "      <th>3</th>\n",
       "      <td>1000</td>\n",
       "      <td>ravioli sférico de té con cubo helado de limón</td>\n",
       "      <td>2004</td>\n",
       "      <td>[zumo, limón, alginato, agua, té, azúcar]</td>\n",
       "      <td>[agua, cocer, horno]</td>\n",
       "      <td>30</td>\n",
       "    </tr>\n",
       "    <tr>\n",
       "      <th>4</th>\n",
       "      <td>1001</td>\n",
       "      <td>ceps en ámbar de su caldo</td>\n",
       "      <td>2004</td>\n",
       "      <td>[sal, ceps, carragenato, romero, ceps, ceps, a...</td>\n",
       "      <td>[sal, horno, cocer, hervir, confitar, cazuela,...</td>\n",
       "      <td>30</td>\n",
       "    </tr>\n",
       "  </tbody>\n",
       "</table>\n",
       "</div>"
      ],
      "text/plain": [
       "    _id                                           title  year  \\\n",
       "0     1            terrina de melón con gelée de oporto  1987   \n",
       "1    10                                salmonetes gaudí  1987   \n",
       "2   100                                         oursins  1990   \n",
       "3  1000  ravioli sférico de té con cubo helado de limón  2004   \n",
       "4  1001                       ceps en ámbar de su caldo  2004   \n",
       "\n",
       "                                         ingredients  \\\n",
       "0  [oporto, aceite, agua, pimienta, gelatina, mel...   \n",
       "1  [sal, pimientos, pimiento, piñones, vinagre, o...   \n",
       "2  [chocolate, claras, avellanas, yemas, azúcar, ...   \n",
       "3          [zumo, limón, alginato, agua, té, azúcar]   \n",
       "4  [sal, ceps, carragenato, romero, ceps, ceps, a...   \n",
       "\n",
       "                                          techniques  creativity  \n",
       "0                                             [agua]          10  \n",
       "1  [sal, marcar, cocción, horno, hervir, horno, s...          10  \n",
       "2                              [horno, horno, secar]          10  \n",
       "3                               [agua, cocer, horno]          30  \n",
       "4  [sal, horno, cocer, hervir, confitar, cazuela,...          30  "
      ]
     },
     "execution_count": 45,
     "metadata": {},
     "output_type": "execute_result"
    }
   ],
   "source": [
    "elbulli_super_recipes_df.head()"
   ]
  },
  {
   "cell_type": "markdown",
   "metadata": {},
   "source": [
    "### cookpad"
   ]
  },
  {
   "cell_type": "code",
   "execution_count": 46,
   "metadata": {
    "collapsed": false
   },
   "outputs": [],
   "source": [
    "cookpad_super_recipes_df = pd.read_csv('data/dbs/recipes_cookpad_superclasses.csv')\n",
    "cookpad_super_recipes_df = my_sample(cookpad_super_recipes_df)"
   ]
  },
  {
   "cell_type": "code",
   "execution_count": 47,
   "metadata": {
    "collapsed": false
   },
   "outputs": [
    {
     "data": {
      "text/plain": [
       "_id             int64\n",
       "title          object\n",
       "year            int64\n",
       "ingredients    object\n",
       "techniques     object\n",
       "dtype: object"
      ]
     },
     "execution_count": 47,
     "metadata": {},
     "output_type": "execute_result"
    }
   ],
   "source": [
    "cookpad_super_recipes_df.dtypes"
   ]
  },
  {
   "cell_type": "code",
   "execution_count": 48,
   "metadata": {
    "collapsed": false
   },
   "outputs": [
    {
     "data": {
      "text/html": [
       "<div>\n",
       "<table border=\"1\" class=\"dataframe\">\n",
       "  <thead>\n",
       "    <tr style=\"text-align: right;\">\n",
       "      <th></th>\n",
       "      <th>_id</th>\n",
       "      <th>title</th>\n",
       "      <th>year</th>\n",
       "      <th>ingredients</th>\n",
       "      <th>techniques</th>\n",
       "    </tr>\n",
       "  </thead>\n",
       "  <tbody>\n",
       "    <tr>\n",
       "      <th>33</th>\n",
       "      <td>100475</td>\n",
       "      <td>langostinos rebozados</td>\n",
       "      <td>2009</td>\n",
       "      <td>[\"levadura\",\"claras\",\"langostinos\",\"pimienta\",...</td>\n",
       "      <td>[\"horno\"]</td>\n",
       "    </tr>\n",
       "    <tr>\n",
       "      <th>38</th>\n",
       "      <td>100485</td>\n",
       "      <td>lomos de bacalao rebozados</td>\n",
       "      <td>2009</td>\n",
       "      <td>[\"bacalao\",\"harina\",\"huevos\",\"pimienta\"]</td>\n",
       "      <td>[\"horno\"]</td>\n",
       "    </tr>\n",
       "    <tr>\n",
       "      <th>39</th>\n",
       "      <td>100486</td>\n",
       "      <td>cazuela de berenjenas</td>\n",
       "      <td>2009</td>\n",
       "      <td>[\"tomates\",\"berenjena\",\"aceite\",\"queso\",\"ajo\",...</td>\n",
       "      <td>[\"horno\",\"horno\",\"plancha\",\"horno\",\"sartén\",\"s...</td>\n",
       "    </tr>\n",
       "    <tr>\n",
       "      <th>44</th>\n",
       "      <td>100549</td>\n",
       "      <td>pimientos y patatas</td>\n",
       "      <td>2009</td>\n",
       "      <td>[\"sal\",\"aceite\",\"vinagre\",\"atún\"]</td>\n",
       "      <td>[\"sal\",\"cocer\",\"sal\"]</td>\n",
       "    </tr>\n",
       "    <tr>\n",
       "      <th>49</th>\n",
       "      <td>100588</td>\n",
       "      <td>muffins de moka</td>\n",
       "      <td>2009</td>\n",
       "      <td>[\"chocolate\",\"mantequilla\",\"harina\",\"huevos\",\"...</td>\n",
       "      <td>[\"relleno\",\"horno\",\"al\"]</td>\n",
       "    </tr>\n",
       "  </tbody>\n",
       "</table>\n",
       "</div>"
      ],
      "text/plain": [
       "       _id                       title  year  \\\n",
       "33  100475       langostinos rebozados  2009   \n",
       "38  100485  lomos de bacalao rebozados  2009   \n",
       "39  100486       cazuela de berenjenas  2009   \n",
       "44  100549         pimientos y patatas  2009   \n",
       "49  100588             muffins de moka  2009   \n",
       "\n",
       "                                          ingredients  \\\n",
       "33  [\"levadura\",\"claras\",\"langostinos\",\"pimienta\",...   \n",
       "38           [\"bacalao\",\"harina\",\"huevos\",\"pimienta\"]   \n",
       "39  [\"tomates\",\"berenjena\",\"aceite\",\"queso\",\"ajo\",...   \n",
       "44                  [\"sal\",\"aceite\",\"vinagre\",\"atún\"]   \n",
       "49  [\"chocolate\",\"mantequilla\",\"harina\",\"huevos\",\"...   \n",
       "\n",
       "                                           techniques  \n",
       "33                                          [\"horno\"]  \n",
       "38                                          [\"horno\"]  \n",
       "39  [\"horno\",\"horno\",\"plancha\",\"horno\",\"sartén\",\"s...  \n",
       "44                              [\"sal\",\"cocer\",\"sal\"]  \n",
       "49                           [\"relleno\",\"horno\",\"al\"]  "
      ]
     },
     "execution_count": 48,
     "metadata": {},
     "output_type": "execute_result"
    }
   ],
   "source": [
    "cookpad_super_recipes_df.head()"
   ]
  },
  {
   "cell_type": "code",
   "execution_count": 49,
   "metadata": {
    "collapsed": false
   },
   "outputs": [],
   "source": [
    "cookpad_super_recipes_df['ingredients'] = cookpad_super_recipes_df.apply(lambda x: json.loads(x['ingredients']), axis=1)\n",
    "cookpad_super_recipes_df['techniques'] = cookpad_super_recipes_df.apply(lambda x: json.loads(x['techniques']), axis=1)"
   ]
  },
  {
   "cell_type": "code",
   "execution_count": 50,
   "metadata": {
    "collapsed": true
   },
   "outputs": [],
   "source": [
    "cookpad_super_recipes_df['creativity'] = cookpad_super_recipes_df.apply(\n",
    "    lambda x: 0, axis=1)"
   ]
  },
  {
   "cell_type": "code",
   "execution_count": 51,
   "metadata": {
    "collapsed": false,
    "scrolled": true
   },
   "outputs": [
    {
     "data": {
      "text/html": [
       "<div>\n",
       "<table border=\"1\" class=\"dataframe\">\n",
       "  <thead>\n",
       "    <tr style=\"text-align: right;\">\n",
       "      <th></th>\n",
       "      <th>_id</th>\n",
       "      <th>title</th>\n",
       "      <th>year</th>\n",
       "      <th>ingredients</th>\n",
       "      <th>techniques</th>\n",
       "      <th>creativity</th>\n",
       "    </tr>\n",
       "  </thead>\n",
       "  <tbody>\n",
       "    <tr>\n",
       "      <th>33</th>\n",
       "      <td>100475</td>\n",
       "      <td>langostinos rebozados</td>\n",
       "      <td>2009</td>\n",
       "      <td>[levadura, claras, langostinos, pimienta, acei...</td>\n",
       "      <td>[horno]</td>\n",
       "      <td>0</td>\n",
       "    </tr>\n",
       "    <tr>\n",
       "      <th>38</th>\n",
       "      <td>100485</td>\n",
       "      <td>lomos de bacalao rebozados</td>\n",
       "      <td>2009</td>\n",
       "      <td>[bacalao, harina, huevos, pimienta]</td>\n",
       "      <td>[horno]</td>\n",
       "      <td>0</td>\n",
       "    </tr>\n",
       "    <tr>\n",
       "      <th>39</th>\n",
       "      <td>100486</td>\n",
       "      <td>cazuela de berenjenas</td>\n",
       "      <td>2009</td>\n",
       "      <td>[tomates, berenjena, aceite, queso, ajo, sal, ...</td>\n",
       "      <td>[horno, horno, plancha, horno, sartén, sal, ro...</td>\n",
       "      <td>0</td>\n",
       "    </tr>\n",
       "    <tr>\n",
       "      <th>44</th>\n",
       "      <td>100549</td>\n",
       "      <td>pimientos y patatas</td>\n",
       "      <td>2009</td>\n",
       "      <td>[sal, aceite, vinagre, atún]</td>\n",
       "      <td>[sal, cocer, sal]</td>\n",
       "      <td>0</td>\n",
       "    </tr>\n",
       "    <tr>\n",
       "      <th>49</th>\n",
       "      <td>100588</td>\n",
       "      <td>muffins de moka</td>\n",
       "      <td>2009</td>\n",
       "      <td>[chocolate, mantequilla, harina, huevos, café,...</td>\n",
       "      <td>[relleno, horno, al]</td>\n",
       "      <td>0</td>\n",
       "    </tr>\n",
       "  </tbody>\n",
       "</table>\n",
       "</div>"
      ],
      "text/plain": [
       "       _id                       title  year  \\\n",
       "33  100475       langostinos rebozados  2009   \n",
       "38  100485  lomos de bacalao rebozados  2009   \n",
       "39  100486       cazuela de berenjenas  2009   \n",
       "44  100549         pimientos y patatas  2009   \n",
       "49  100588             muffins de moka  2009   \n",
       "\n",
       "                                          ingredients  \\\n",
       "33  [levadura, claras, langostinos, pimienta, acei...   \n",
       "38                [bacalao, harina, huevos, pimienta]   \n",
       "39  [tomates, berenjena, aceite, queso, ajo, sal, ...   \n",
       "44                       [sal, aceite, vinagre, atún]   \n",
       "49  [chocolate, mantequilla, harina, huevos, café,...   \n",
       "\n",
       "                                           techniques  creativity  \n",
       "33                                            [horno]           0  \n",
       "38                                            [horno]           0  \n",
       "39  [horno, horno, plancha, horno, sartén, sal, ro...           0  \n",
       "44                                  [sal, cocer, sal]           0  \n",
       "49                               [relleno, horno, al]           0  "
      ]
     },
     "execution_count": 51,
     "metadata": {},
     "output_type": "execute_result"
    }
   ],
   "source": [
    "cookpad_super_recipes_df.head()"
   ]
  },
  {
   "cell_type": "markdown",
   "metadata": {},
   "source": [
    "### elbulli & cookpad"
   ]
  },
  {
   "cell_type": "code",
   "execution_count": 52,
   "metadata": {
    "collapsed": true
   },
   "outputs": [],
   "source": [
    "super_recipes_df = elbulli_super_recipes_df.append(cookpad_super_recipes_df, ignore_index=True)"
   ]
  },
  {
   "cell_type": "code",
   "execution_count": 53,
   "metadata": {
    "collapsed": false,
    "scrolled": true
   },
   "outputs": [
    {
     "data": {
      "text/html": [
       "<div>\n",
       "<table border=\"1\" class=\"dataframe\">\n",
       "  <thead>\n",
       "    <tr style=\"text-align: right;\">\n",
       "      <th></th>\n",
       "      <th>_id</th>\n",
       "      <th>title</th>\n",
       "      <th>year</th>\n",
       "      <th>ingredients</th>\n",
       "      <th>techniques</th>\n",
       "      <th>creativity</th>\n",
       "    </tr>\n",
       "  </thead>\n",
       "  <tbody>\n",
       "    <tr>\n",
       "      <th>0</th>\n",
       "      <td>1</td>\n",
       "      <td>terrina de melón con gelée de oporto</td>\n",
       "      <td>1987</td>\n",
       "      <td>[oporto, aceite, agua, pimienta, gelatina, mel...</td>\n",
       "      <td>[agua]</td>\n",
       "      <td>10</td>\n",
       "    </tr>\n",
       "    <tr>\n",
       "      <th>1</th>\n",
       "      <td>10</td>\n",
       "      <td>salmonetes gaudí</td>\n",
       "      <td>1987</td>\n",
       "      <td>[sal, pimientos, pimiento, piñones, vinagre, o...</td>\n",
       "      <td>[sal, marcar, cocción, horno, hervir, horno, s...</td>\n",
       "      <td>10</td>\n",
       "    </tr>\n",
       "    <tr>\n",
       "      <th>2</th>\n",
       "      <td>100</td>\n",
       "      <td>oursins</td>\n",
       "      <td>1990</td>\n",
       "      <td>[chocolate, claras, avellanas, yemas, azúcar, ...</td>\n",
       "      <td>[horno, horno, secar]</td>\n",
       "      <td>10</td>\n",
       "    </tr>\n",
       "    <tr>\n",
       "      <th>3</th>\n",
       "      <td>1000</td>\n",
       "      <td>ravioli sférico de té con cubo helado de limón</td>\n",
       "      <td>2004</td>\n",
       "      <td>[zumo, limón, alginato, agua, té, azúcar]</td>\n",
       "      <td>[agua, cocer, horno]</td>\n",
       "      <td>30</td>\n",
       "    </tr>\n",
       "    <tr>\n",
       "      <th>4</th>\n",
       "      <td>1001</td>\n",
       "      <td>ceps en ámbar de su caldo</td>\n",
       "      <td>2004</td>\n",
       "      <td>[sal, ceps, carragenato, romero, ceps, ceps, a...</td>\n",
       "      <td>[sal, horno, cocer, hervir, confitar, cazuela,...</td>\n",
       "      <td>30</td>\n",
       "    </tr>\n",
       "  </tbody>\n",
       "</table>\n",
       "</div>"
      ],
      "text/plain": [
       "    _id                                           title  year  \\\n",
       "0     1            terrina de melón con gelée de oporto  1987   \n",
       "1    10                                salmonetes gaudí  1987   \n",
       "2   100                                         oursins  1990   \n",
       "3  1000  ravioli sférico de té con cubo helado de limón  2004   \n",
       "4  1001                       ceps en ámbar de su caldo  2004   \n",
       "\n",
       "                                         ingredients  \\\n",
       "0  [oporto, aceite, agua, pimienta, gelatina, mel...   \n",
       "1  [sal, pimientos, pimiento, piñones, vinagre, o...   \n",
       "2  [chocolate, claras, avellanas, yemas, azúcar, ...   \n",
       "3          [zumo, limón, alginato, agua, té, azúcar]   \n",
       "4  [sal, ceps, carragenato, romero, ceps, ceps, a...   \n",
       "\n",
       "                                          techniques  creativity  \n",
       "0                                             [agua]          10  \n",
       "1  [sal, marcar, cocción, horno, hervir, horno, s...          10  \n",
       "2                              [horno, horno, secar]          10  \n",
       "3                               [agua, cocer, horno]          30  \n",
       "4  [sal, horno, cocer, hervir, confitar, cazuela,...          30  "
      ]
     },
     "execution_count": 53,
     "metadata": {},
     "output_type": "execute_result"
    }
   ],
   "source": [
    "super_recipes_df.head()"
   ]
  },
  {
   "cell_type": "markdown",
   "metadata": {},
   "source": [
    "## Types of ingredients, representative techniques"
   ]
  },
  {
   "cell_type": "markdown",
   "metadata": {},
   "source": [
    "### elbulli"
   ]
  },
  {
   "cell_type": "code",
   "execution_count": 54,
   "metadata": {
    "collapsed": false
   },
   "outputs": [],
   "source": [
    "elbulli_types_recipes_df = pd.read_csv('data/dbs/recipes_elbulli_types.csv')"
   ]
  },
  {
   "cell_type": "code",
   "execution_count": 55,
   "metadata": {
    "collapsed": false
   },
   "outputs": [
    {
     "data": {
      "text/plain": [
       "_id             int64\n",
       "title          object\n",
       "year            int64\n",
       "ingredients    object\n",
       "techniques     object\n",
       "dtype: object"
      ]
     },
     "execution_count": 55,
     "metadata": {},
     "output_type": "execute_result"
    }
   ],
   "source": [
    "elbulli_types_recipes_df.dtypes"
   ]
  },
  {
   "cell_type": "code",
   "execution_count": 56,
   "metadata": {
    "collapsed": false
   },
   "outputs": [
    {
     "data": {
      "text/html": [
       "<div>\n",
       "<table border=\"1\" class=\"dataframe\">\n",
       "  <thead>\n",
       "    <tr style=\"text-align: right;\">\n",
       "      <th></th>\n",
       "      <th>_id</th>\n",
       "      <th>title</th>\n",
       "      <th>year</th>\n",
       "      <th>ingredients</th>\n",
       "      <th>techniques</th>\n",
       "    </tr>\n",
       "  </thead>\n",
       "  <tbody>\n",
       "    <tr>\n",
       "      <th>0</th>\n",
       "      <td>1</td>\n",
       "      <td>terrina de melón con gelée de oporto</td>\n",
       "      <td>1987</td>\n",
       "      <td>[\"western\",\"western\",\"1\",\"western\",\"modernist\"...</td>\n",
       "      <td>[\"agua\"]</td>\n",
       "    </tr>\n",
       "    <tr>\n",
       "      <th>1</th>\n",
       "      <td>10</td>\n",
       "      <td>salmonetes gaudí</td>\n",
       "      <td>1987</td>\n",
       "      <td>[\"western\",\"western\",\"western\",\"1\",\"western\",\"...</td>\n",
       "      <td>[\"sal\",\"marcar\",\"cocción\",\"horno\",\"hervir\",\"ho...</td>\n",
       "    </tr>\n",
       "    <tr>\n",
       "      <th>2</th>\n",
       "      <td>100</td>\n",
       "      <td>oursins</td>\n",
       "      <td>1990</td>\n",
       "      <td>[\"western\",\"western\",\"1\",\"western\",\"western\",\"...</td>\n",
       "      <td>[\"horno\",\"horno\",\"secar\"]</td>\n",
       "    </tr>\n",
       "    <tr>\n",
       "      <th>3</th>\n",
       "      <td>1000</td>\n",
       "      <td>ravioli sférico de té con cubo helado de limón</td>\n",
       "      <td>2004</td>\n",
       "      <td>[\"1\",\"western\",\"modernist\",\"1\",\"western\",\"west...</td>\n",
       "      <td>[\"agua\",\"cocer\",\"horno\"]</td>\n",
       "    </tr>\n",
       "    <tr>\n",
       "      <th>4</th>\n",
       "      <td>1001</td>\n",
       "      <td>ceps en ámbar de su caldo</td>\n",
       "      <td>2004</td>\n",
       "      <td>[\"western\",\"modernist\",\"modernist\",\"modernist\"...</td>\n",
       "      <td>[\"sal\",\"horno\",\"cocer\",\"hervir\",\"confitar\",\"ca...</td>\n",
       "    </tr>\n",
       "  </tbody>\n",
       "</table>\n",
       "</div>"
      ],
      "text/plain": [
       "    _id                                           title  year  \\\n",
       "0     1            terrina de melón con gelée de oporto  1987   \n",
       "1    10                                salmonetes gaudí  1987   \n",
       "2   100                                         oursins  1990   \n",
       "3  1000  ravioli sférico de té con cubo helado de limón  2004   \n",
       "4  1001                       ceps en ámbar de su caldo  2004   \n",
       "\n",
       "                                         ingredients  \\\n",
       "0  [\"western\",\"western\",\"1\",\"western\",\"modernist\"...   \n",
       "1  [\"western\",\"western\",\"western\",\"1\",\"western\",\"...   \n",
       "2  [\"western\",\"western\",\"1\",\"western\",\"western\",\"...   \n",
       "3  [\"1\",\"western\",\"modernist\",\"1\",\"western\",\"west...   \n",
       "4  [\"western\",\"modernist\",\"modernist\",\"modernist\"...   \n",
       "\n",
       "                                          techniques  \n",
       "0                                           [\"agua\"]  \n",
       "1  [\"sal\",\"marcar\",\"cocción\",\"horno\",\"hervir\",\"ho...  \n",
       "2                          [\"horno\",\"horno\",\"secar\"]  \n",
       "3                           [\"agua\",\"cocer\",\"horno\"]  \n",
       "4  [\"sal\",\"horno\",\"cocer\",\"hervir\",\"confitar\",\"ca...  "
      ]
     },
     "execution_count": 56,
     "metadata": {},
     "output_type": "execute_result"
    }
   ],
   "source": [
    "elbulli_types_recipes_df.head()"
   ]
  },
  {
   "cell_type": "code",
   "execution_count": 57,
   "metadata": {
    "collapsed": false
   },
   "outputs": [],
   "source": [
    "elbulli_types_recipes_df['ingredients'] = elbulli_types_recipes_df.apply(lambda x: json.loads(x['ingredients']), axis=1)\n",
    "elbulli_types_recipes_df['techniques'] = elbulli_types_recipes_df.apply(lambda x: json.loads(x['techniques']), axis=1)"
   ]
  },
  {
   "cell_type": "code",
   "execution_count": 58,
   "metadata": {
    "collapsed": true
   },
   "outputs": [],
   "source": [
    "elbulli_types_recipes_df['creativity'] = elbulli_types_recipes_df.apply(\n",
    "    lambda x: 10 if 1987 <= x['year'] <= 1997 else \\\n",
    "              20 if 1998 <= x['year'] <= 2001 else \\\n",
    "              30 if 2002 <= x['year'] <= 2005 else \\\n",
    "              'UNKOWN', axis=1)"
   ]
  },
  {
   "cell_type": "code",
   "execution_count": 59,
   "metadata": {
    "collapsed": false,
    "scrolled": true
   },
   "outputs": [
    {
     "data": {
      "text/html": [
       "<div>\n",
       "<table border=\"1\" class=\"dataframe\">\n",
       "  <thead>\n",
       "    <tr style=\"text-align: right;\">\n",
       "      <th></th>\n",
       "      <th>_id</th>\n",
       "      <th>title</th>\n",
       "      <th>year</th>\n",
       "      <th>ingredients</th>\n",
       "      <th>techniques</th>\n",
       "      <th>creativity</th>\n",
       "    </tr>\n",
       "  </thead>\n",
       "  <tbody>\n",
       "    <tr>\n",
       "      <th>0</th>\n",
       "      <td>1</td>\n",
       "      <td>terrina de melón con gelée de oporto</td>\n",
       "      <td>1987</td>\n",
       "      <td>[western, western, 1, western, modernist, west...</td>\n",
       "      <td>[agua]</td>\n",
       "      <td>10</td>\n",
       "    </tr>\n",
       "    <tr>\n",
       "      <th>1</th>\n",
       "      <td>10</td>\n",
       "      <td>salmonetes gaudí</td>\n",
       "      <td>1987</td>\n",
       "      <td>[western, western, western, 1, western, wester...</td>\n",
       "      <td>[sal, marcar, cocción, horno, hervir, horno, s...</td>\n",
       "      <td>10</td>\n",
       "    </tr>\n",
       "    <tr>\n",
       "      <th>2</th>\n",
       "      <td>100</td>\n",
       "      <td>oursins</td>\n",
       "      <td>1990</td>\n",
       "      <td>[western, western, 1, western, western, western]</td>\n",
       "      <td>[horno, horno, secar]</td>\n",
       "      <td>10</td>\n",
       "    </tr>\n",
       "    <tr>\n",
       "      <th>3</th>\n",
       "      <td>1000</td>\n",
       "      <td>ravioli sférico de té con cubo helado de limón</td>\n",
       "      <td>2004</td>\n",
       "      <td>[1, western, modernist, 1, western, western]</td>\n",
       "      <td>[agua, cocer, horno]</td>\n",
       "      <td>30</td>\n",
       "    </tr>\n",
       "    <tr>\n",
       "      <th>4</th>\n",
       "      <td>1001</td>\n",
       "      <td>ceps en ámbar de su caldo</td>\n",
       "      <td>2004</td>\n",
       "      <td>[western, modernist, modernist, modernist, wes...</td>\n",
       "      <td>[sal, horno, cocer, hervir, confitar, cazuela,...</td>\n",
       "      <td>30</td>\n",
       "    </tr>\n",
       "  </tbody>\n",
       "</table>\n",
       "</div>"
      ],
      "text/plain": [
       "    _id                                           title  year  \\\n",
       "0     1            terrina de melón con gelée de oporto  1987   \n",
       "1    10                                salmonetes gaudí  1987   \n",
       "2   100                                         oursins  1990   \n",
       "3  1000  ravioli sférico de té con cubo helado de limón  2004   \n",
       "4  1001                       ceps en ámbar de su caldo  2004   \n",
       "\n",
       "                                         ingredients  \\\n",
       "0  [western, western, 1, western, modernist, west...   \n",
       "1  [western, western, western, 1, western, wester...   \n",
       "2   [western, western, 1, western, western, western]   \n",
       "3       [1, western, modernist, 1, western, western]   \n",
       "4  [western, modernist, modernist, modernist, wes...   \n",
       "\n",
       "                                          techniques  creativity  \n",
       "0                                             [agua]          10  \n",
       "1  [sal, marcar, cocción, horno, hervir, horno, s...          10  \n",
       "2                              [horno, horno, secar]          10  \n",
       "3                               [agua, cocer, horno]          30  \n",
       "4  [sal, horno, cocer, hervir, confitar, cazuela,...          30  "
      ]
     },
     "execution_count": 59,
     "metadata": {},
     "output_type": "execute_result"
    }
   ],
   "source": [
    "elbulli_types_recipes_df.head()"
   ]
  },
  {
   "cell_type": "markdown",
   "metadata": {},
   "source": [
    "### cookpad"
   ]
  },
  {
   "cell_type": "code",
   "execution_count": 60,
   "metadata": {
    "collapsed": false
   },
   "outputs": [],
   "source": [
    "cookpad_types_recipes_df = pd.read_csv('data/dbs/recipes_cookpad_types.csv')\n",
    "cookpad_types_recipes_df = my_sample(cookpad_types_recipes_df)"
   ]
  },
  {
   "cell_type": "code",
   "execution_count": 61,
   "metadata": {
    "collapsed": false
   },
   "outputs": [
    {
     "data": {
      "text/plain": [
       "_id             int64\n",
       "title          object\n",
       "year            int64\n",
       "ingredients    object\n",
       "techniques     object\n",
       "dtype: object"
      ]
     },
     "execution_count": 61,
     "metadata": {},
     "output_type": "execute_result"
    }
   ],
   "source": [
    "cookpad_types_recipes_df.dtypes"
   ]
  },
  {
   "cell_type": "code",
   "execution_count": 62,
   "metadata": {
    "collapsed": false
   },
   "outputs": [
    {
     "data": {
      "text/html": [
       "<div>\n",
       "<table border=\"1\" class=\"dataframe\">\n",
       "  <thead>\n",
       "    <tr style=\"text-align: right;\">\n",
       "      <th></th>\n",
       "      <th>_id</th>\n",
       "      <th>title</th>\n",
       "      <th>year</th>\n",
       "      <th>ingredients</th>\n",
       "      <th>techniques</th>\n",
       "    </tr>\n",
       "  </thead>\n",
       "  <tbody>\n",
       "    <tr>\n",
       "      <th>33</th>\n",
       "      <td>100475</td>\n",
       "      <td>langostinos rebozados</td>\n",
       "      <td>2009</td>\n",
       "      <td>[\"western\",\"western\",\"western\",\"western\",\"west...</td>\n",
       "      <td>[\"horno\"]</td>\n",
       "    </tr>\n",
       "    <tr>\n",
       "      <th>38</th>\n",
       "      <td>100485</td>\n",
       "      <td>lomos de bacalao rebozados</td>\n",
       "      <td>2009</td>\n",
       "      <td>[\"western\",\"western\",\"western\",\"western\"]</td>\n",
       "      <td>[\"horno\"]</td>\n",
       "    </tr>\n",
       "    <tr>\n",
       "      <th>39</th>\n",
       "      <td>100486</td>\n",
       "      <td>cazuela de berenjenas</td>\n",
       "      <td>2009</td>\n",
       "      <td>[\"western\",\"western\",\"western\",\"western\",\"west...</td>\n",
       "      <td>[\"horno\",\"horno\",\"plancha\",\"horno\",\"sartén\",\"s...</td>\n",
       "    </tr>\n",
       "    <tr>\n",
       "      <th>44</th>\n",
       "      <td>100549</td>\n",
       "      <td>pimientos y patatas</td>\n",
       "      <td>2009</td>\n",
       "      <td>[\"western\",\"western\",\"western\",\"western\"]</td>\n",
       "      <td>[\"sal\",\"cocer\",\"sal\"]</td>\n",
       "    </tr>\n",
       "    <tr>\n",
       "      <th>49</th>\n",
       "      <td>100588</td>\n",
       "      <td>muffins de moka</td>\n",
       "      <td>2009</td>\n",
       "      <td>[\"western\",\"western\",\"western\",\"western\",\"west...</td>\n",
       "      <td>[\"relleno\",\"horno\",\"al baño maria\"]</td>\n",
       "    </tr>\n",
       "  </tbody>\n",
       "</table>\n",
       "</div>"
      ],
      "text/plain": [
       "       _id                       title  year  \\\n",
       "33  100475       langostinos rebozados  2009   \n",
       "38  100485  lomos de bacalao rebozados  2009   \n",
       "39  100486       cazuela de berenjenas  2009   \n",
       "44  100549         pimientos y patatas  2009   \n",
       "49  100588             muffins de moka  2009   \n",
       "\n",
       "                                          ingredients  \\\n",
       "33  [\"western\",\"western\",\"western\",\"western\",\"west...   \n",
       "38          [\"western\",\"western\",\"western\",\"western\"]   \n",
       "39  [\"western\",\"western\",\"western\",\"western\",\"west...   \n",
       "44          [\"western\",\"western\",\"western\",\"western\"]   \n",
       "49  [\"western\",\"western\",\"western\",\"western\",\"west...   \n",
       "\n",
       "                                           techniques  \n",
       "33                                          [\"horno\"]  \n",
       "38                                          [\"horno\"]  \n",
       "39  [\"horno\",\"horno\",\"plancha\",\"horno\",\"sartén\",\"s...  \n",
       "44                              [\"sal\",\"cocer\",\"sal\"]  \n",
       "49                [\"relleno\",\"horno\",\"al baño maria\"]  "
      ]
     },
     "execution_count": 62,
     "metadata": {},
     "output_type": "execute_result"
    }
   ],
   "source": [
    "cookpad_types_recipes_df.head()"
   ]
  },
  {
   "cell_type": "code",
   "execution_count": 63,
   "metadata": {
    "collapsed": false
   },
   "outputs": [],
   "source": [
    "cookpad_types_recipes_df['ingredients'] = cookpad_types_recipes_df.apply(lambda x: json.loads(x['ingredients']), axis=1)\n",
    "cookpad_types_recipes_df['techniques'] = cookpad_types_recipes_df.apply(lambda x: json.loads(x['techniques']), axis=1)"
   ]
  },
  {
   "cell_type": "code",
   "execution_count": 64,
   "metadata": {
    "collapsed": true
   },
   "outputs": [],
   "source": [
    "cookpad_types_recipes_df['creativity'] = cookpad_types_recipes_df.apply(\n",
    "    lambda x: 0, axis=1)"
   ]
  },
  {
   "cell_type": "code",
   "execution_count": 65,
   "metadata": {
    "collapsed": false,
    "scrolled": true
   },
   "outputs": [
    {
     "data": {
      "text/html": [
       "<div>\n",
       "<table border=\"1\" class=\"dataframe\">\n",
       "  <thead>\n",
       "    <tr style=\"text-align: right;\">\n",
       "      <th></th>\n",
       "      <th>_id</th>\n",
       "      <th>title</th>\n",
       "      <th>year</th>\n",
       "      <th>ingredients</th>\n",
       "      <th>techniques</th>\n",
       "      <th>creativity</th>\n",
       "    </tr>\n",
       "  </thead>\n",
       "  <tbody>\n",
       "    <tr>\n",
       "      <th>33</th>\n",
       "      <td>100475</td>\n",
       "      <td>langostinos rebozados</td>\n",
       "      <td>2009</td>\n",
       "      <td>[western, western, western, western, western, ...</td>\n",
       "      <td>[horno]</td>\n",
       "      <td>0</td>\n",
       "    </tr>\n",
       "    <tr>\n",
       "      <th>38</th>\n",
       "      <td>100485</td>\n",
       "      <td>lomos de bacalao rebozados</td>\n",
       "      <td>2009</td>\n",
       "      <td>[western, western, western, western]</td>\n",
       "      <td>[horno]</td>\n",
       "      <td>0</td>\n",
       "    </tr>\n",
       "    <tr>\n",
       "      <th>39</th>\n",
       "      <td>100486</td>\n",
       "      <td>cazuela de berenjenas</td>\n",
       "      <td>2009</td>\n",
       "      <td>[western, western, western, western, western, ...</td>\n",
       "      <td>[horno, horno, plancha, horno, sartén, sal, en...</td>\n",
       "      <td>0</td>\n",
       "    </tr>\n",
       "    <tr>\n",
       "      <th>44</th>\n",
       "      <td>100549</td>\n",
       "      <td>pimientos y patatas</td>\n",
       "      <td>2009</td>\n",
       "      <td>[western, western, western, western]</td>\n",
       "      <td>[sal, cocer, sal]</td>\n",
       "      <td>0</td>\n",
       "    </tr>\n",
       "    <tr>\n",
       "      <th>49</th>\n",
       "      <td>100588</td>\n",
       "      <td>muffins de moka</td>\n",
       "      <td>2009</td>\n",
       "      <td>[western, western, western, western, western, ...</td>\n",
       "      <td>[relleno, horno, al baño maria]</td>\n",
       "      <td>0</td>\n",
       "    </tr>\n",
       "  </tbody>\n",
       "</table>\n",
       "</div>"
      ],
      "text/plain": [
       "       _id                       title  year  \\\n",
       "33  100475       langostinos rebozados  2009   \n",
       "38  100485  lomos de bacalao rebozados  2009   \n",
       "39  100486       cazuela de berenjenas  2009   \n",
       "44  100549         pimientos y patatas  2009   \n",
       "49  100588             muffins de moka  2009   \n",
       "\n",
       "                                          ingredients  \\\n",
       "33  [western, western, western, western, western, ...   \n",
       "38               [western, western, western, western]   \n",
       "39  [western, western, western, western, western, ...   \n",
       "44               [western, western, western, western]   \n",
       "49  [western, western, western, western, western, ...   \n",
       "\n",
       "                                           techniques  creativity  \n",
       "33                                            [horno]           0  \n",
       "38                                            [horno]           0  \n",
       "39  [horno, horno, plancha, horno, sartén, sal, en...           0  \n",
       "44                                  [sal, cocer, sal]           0  \n",
       "49                    [relleno, horno, al baño maria]           0  "
      ]
     },
     "execution_count": 65,
     "metadata": {},
     "output_type": "execute_result"
    }
   ],
   "source": [
    "cookpad_types_recipes_df.head()"
   ]
  },
  {
   "cell_type": "markdown",
   "metadata": {},
   "source": [
    "### elbulli & cookpad"
   ]
  },
  {
   "cell_type": "code",
   "execution_count": 66,
   "metadata": {
    "collapsed": true
   },
   "outputs": [],
   "source": [
    "types_recipes_df = elbulli_types_recipes_df.append(cookpad_types_recipes_df, ignore_index=True)"
   ]
  },
  {
   "cell_type": "code",
   "execution_count": 67,
   "metadata": {
    "collapsed": false,
    "scrolled": true
   },
   "outputs": [
    {
     "data": {
      "text/html": [
       "<div>\n",
       "<table border=\"1\" class=\"dataframe\">\n",
       "  <thead>\n",
       "    <tr style=\"text-align: right;\">\n",
       "      <th></th>\n",
       "      <th>_id</th>\n",
       "      <th>title</th>\n",
       "      <th>year</th>\n",
       "      <th>ingredients</th>\n",
       "      <th>techniques</th>\n",
       "      <th>creativity</th>\n",
       "    </tr>\n",
       "  </thead>\n",
       "  <tbody>\n",
       "    <tr>\n",
       "      <th>0</th>\n",
       "      <td>1</td>\n",
       "      <td>terrina de melón con gelée de oporto</td>\n",
       "      <td>1987</td>\n",
       "      <td>[western, western, 1, western, modernist, west...</td>\n",
       "      <td>[agua]</td>\n",
       "      <td>10</td>\n",
       "    </tr>\n",
       "    <tr>\n",
       "      <th>1</th>\n",
       "      <td>10</td>\n",
       "      <td>salmonetes gaudí</td>\n",
       "      <td>1987</td>\n",
       "      <td>[western, western, western, 1, western, wester...</td>\n",
       "      <td>[sal, marcar, cocción, horno, hervir, horno, s...</td>\n",
       "      <td>10</td>\n",
       "    </tr>\n",
       "    <tr>\n",
       "      <th>2</th>\n",
       "      <td>100</td>\n",
       "      <td>oursins</td>\n",
       "      <td>1990</td>\n",
       "      <td>[western, western, 1, western, western, western]</td>\n",
       "      <td>[horno, horno, secar]</td>\n",
       "      <td>10</td>\n",
       "    </tr>\n",
       "    <tr>\n",
       "      <th>3</th>\n",
       "      <td>1000</td>\n",
       "      <td>ravioli sférico de té con cubo helado de limón</td>\n",
       "      <td>2004</td>\n",
       "      <td>[1, western, modernist, 1, western, western]</td>\n",
       "      <td>[agua, cocer, horno]</td>\n",
       "      <td>30</td>\n",
       "    </tr>\n",
       "    <tr>\n",
       "      <th>4</th>\n",
       "      <td>1001</td>\n",
       "      <td>ceps en ámbar de su caldo</td>\n",
       "      <td>2004</td>\n",
       "      <td>[western, modernist, modernist, modernist, wes...</td>\n",
       "      <td>[sal, horno, cocer, hervir, confitar, cazuela,...</td>\n",
       "      <td>30</td>\n",
       "    </tr>\n",
       "  </tbody>\n",
       "</table>\n",
       "</div>"
      ],
      "text/plain": [
       "    _id                                           title  year  \\\n",
       "0     1            terrina de melón con gelée de oporto  1987   \n",
       "1    10                                salmonetes gaudí  1987   \n",
       "2   100                                         oursins  1990   \n",
       "3  1000  ravioli sférico de té con cubo helado de limón  2004   \n",
       "4  1001                       ceps en ámbar de su caldo  2004   \n",
       "\n",
       "                                         ingredients  \\\n",
       "0  [western, western, 1, western, modernist, west...   \n",
       "1  [western, western, western, 1, western, wester...   \n",
       "2   [western, western, 1, western, western, western]   \n",
       "3       [1, western, modernist, 1, western, western]   \n",
       "4  [western, modernist, modernist, modernist, wes...   \n",
       "\n",
       "                                          techniques  creativity  \n",
       "0                                             [agua]          10  \n",
       "1  [sal, marcar, cocción, horno, hervir, horno, s...          10  \n",
       "2                              [horno, horno, secar]          10  \n",
       "3                               [agua, cocer, horno]          30  \n",
       "4  [sal, horno, cocer, hervir, confitar, cazuela,...          30  "
      ]
     },
     "execution_count": 67,
     "metadata": {},
     "output_type": "execute_result"
    }
   ],
   "source": [
    "types_recipes_df.head()"
   ]
  },
  {
   "cell_type": "markdown",
   "metadata": {},
   "source": [
    "## Cuisines of ingredients, representative techniques"
   ]
  },
  {
   "cell_type": "markdown",
   "metadata": {},
   "source": [
    "### elbulli"
   ]
  },
  {
   "cell_type": "code",
   "execution_count": 68,
   "metadata": {
    "collapsed": false
   },
   "outputs": [],
   "source": [
    "elbulli_cuis_recipes_df = pd.read_csv('data/dbs/recipes_elbulli_cuisines.csv')"
   ]
  },
  {
   "cell_type": "code",
   "execution_count": 69,
   "metadata": {
    "collapsed": false
   },
   "outputs": [
    {
     "data": {
      "text/plain": [
       "_id             int64\n",
       "title          object\n",
       "year            int64\n",
       "ingredients    object\n",
       "techniques     object\n",
       "dtype: object"
      ]
     },
     "execution_count": 69,
     "metadata": {},
     "output_type": "execute_result"
    }
   ],
   "source": [
    "elbulli_cuis_recipes_df.dtypes"
   ]
  },
  {
   "cell_type": "code",
   "execution_count": 70,
   "metadata": {
    "collapsed": false
   },
   "outputs": [
    {
     "data": {
      "text/html": [
       "<div>\n",
       "<table border=\"1\" class=\"dataframe\">\n",
       "  <thead>\n",
       "    <tr style=\"text-align: right;\">\n",
       "      <th></th>\n",
       "      <th>_id</th>\n",
       "      <th>title</th>\n",
       "      <th>year</th>\n",
       "      <th>ingredients</th>\n",
       "      <th>techniques</th>\n",
       "    </tr>\n",
       "  </thead>\n",
       "  <tbody>\n",
       "    <tr>\n",
       "      <th>0</th>\n",
       "      <td>1</td>\n",
       "      <td>terrina de melón con gelée de oporto</td>\n",
       "      <td>1987</td>\n",
       "      <td>[\"other\",\"spicies_and_condimients\",\"drinks\",\"2...</td>\n",
       "      <td>[\"agua\"]</td>\n",
       "    </tr>\n",
       "    <tr>\n",
       "      <th>1</th>\n",
       "      <td>10</td>\n",
       "      <td>salmonetes gaudí</td>\n",
       "      <td>1987</td>\n",
       "      <td>[\"spicies_and_condimients\",\"vegetables\",\"veget...</td>\n",
       "      <td>[\"sal\",\"marcar\",\"cocción\",\"horno\",\"hervir\",\"ho...</td>\n",
       "    </tr>\n",
       "    <tr>\n",
       "      <th>2</th>\n",
       "      <td>100</td>\n",
       "      <td>oursins</td>\n",
       "      <td>1990</td>\n",
       "      <td>[\"sweets\",\"spicies_and_condimients\",\"nuts\",\"sp...</td>\n",
       "      <td>[\"horno\",\"horno\",\"secar\"]</td>\n",
       "    </tr>\n",
       "    <tr>\n",
       "      <th>3</th>\n",
       "      <td>1000</td>\n",
       "      <td>ravioli sférico de té con cubo helado de limón</td>\n",
       "      <td>2004</td>\n",
       "      <td>[\"14\",\"fruits\",\"other\",\"drinks\",\"drinks\",\"swee...</td>\n",
       "      <td>[\"agua\",\"cocer\",\"horno\"]</td>\n",
       "    </tr>\n",
       "    <tr>\n",
       "      <th>4</th>\n",
       "      <td>1001</td>\n",
       "      <td>ceps en ámbar de su caldo</td>\n",
       "      <td>2004</td>\n",
       "      <td>[\"spicies_and_condimients\",\"other\",\"other\",\"sp...</td>\n",
       "      <td>[\"sal\",\"horno\",\"cocer\",\"hervir\",\"confitar\",\"ca...</td>\n",
       "    </tr>\n",
       "  </tbody>\n",
       "</table>\n",
       "</div>"
      ],
      "text/plain": [
       "    _id                                           title  year  \\\n",
       "0     1            terrina de melón con gelée de oporto  1987   \n",
       "1    10                                salmonetes gaudí  1987   \n",
       "2   100                                         oursins  1990   \n",
       "3  1000  ravioli sférico de té con cubo helado de limón  2004   \n",
       "4  1001                       ceps en ámbar de su caldo  2004   \n",
       "\n",
       "                                         ingredients  \\\n",
       "0  [\"other\",\"spicies_and_condimients\",\"drinks\",\"2...   \n",
       "1  [\"spicies_and_condimients\",\"vegetables\",\"veget...   \n",
       "2  [\"sweets\",\"spicies_and_condimients\",\"nuts\",\"sp...   \n",
       "3  [\"14\",\"fruits\",\"other\",\"drinks\",\"drinks\",\"swee...   \n",
       "4  [\"spicies_and_condimients\",\"other\",\"other\",\"sp...   \n",
       "\n",
       "                                          techniques  \n",
       "0                                           [\"agua\"]  \n",
       "1  [\"sal\",\"marcar\",\"cocción\",\"horno\",\"hervir\",\"ho...  \n",
       "2                          [\"horno\",\"horno\",\"secar\"]  \n",
       "3                           [\"agua\",\"cocer\",\"horno\"]  \n",
       "4  [\"sal\",\"horno\",\"cocer\",\"hervir\",\"confitar\",\"ca...  "
      ]
     },
     "execution_count": 70,
     "metadata": {},
     "output_type": "execute_result"
    }
   ],
   "source": [
    "elbulli_cuis_recipes_df.head()"
   ]
  },
  {
   "cell_type": "code",
   "execution_count": 71,
   "metadata": {
    "collapsed": false
   },
   "outputs": [],
   "source": [
    "elbulli_cuis_recipes_df['ingredients'] = elbulli_cuis_recipes_df.apply(lambda x: json.loads(x['ingredients']), axis=1)\n",
    "elbulli_cuis_recipes_df['techniques'] = elbulli_cuis_recipes_df.apply(lambda x: json.loads(x['techniques']), axis=1)"
   ]
  },
  {
   "cell_type": "code",
   "execution_count": 72,
   "metadata": {
    "collapsed": true
   },
   "outputs": [],
   "source": [
    "elbulli_cuis_recipes_df['creativity'] = elbulli_cuis_recipes_df.apply(\n",
    "    lambda x: 10 if 1987 <= x['year'] <= 1997 else \\\n",
    "              20 if 1998 <= x['year'] <= 2001 else \\\n",
    "              30 if 2002 <= x['year'] <= 2005 else \\\n",
    "              'UNKOWN', axis=1)"
   ]
  },
  {
   "cell_type": "code",
   "execution_count": 73,
   "metadata": {
    "collapsed": false,
    "scrolled": true
   },
   "outputs": [
    {
     "data": {
      "text/html": [
       "<div>\n",
       "<table border=\"1\" class=\"dataframe\">\n",
       "  <thead>\n",
       "    <tr style=\"text-align: right;\">\n",
       "      <th></th>\n",
       "      <th>_id</th>\n",
       "      <th>title</th>\n",
       "      <th>year</th>\n",
       "      <th>ingredients</th>\n",
       "      <th>techniques</th>\n",
       "      <th>creativity</th>\n",
       "    </tr>\n",
       "  </thead>\n",
       "  <tbody>\n",
       "    <tr>\n",
       "      <th>0</th>\n",
       "      <td>1</td>\n",
       "      <td>terrina de melón con gelée de oporto</td>\n",
       "      <td>1987</td>\n",
       "      <td>[other, spicies_and_condimients, drinks, 2, ot...</td>\n",
       "      <td>[agua]</td>\n",
       "      <td>10</td>\n",
       "    </tr>\n",
       "    <tr>\n",
       "      <th>1</th>\n",
       "      <td>10</td>\n",
       "      <td>salmonetes gaudí</td>\n",
       "      <td>1987</td>\n",
       "      <td>[spicies_and_condimients, vegetables, vegetabl...</td>\n",
       "      <td>[sal, marcar, cocción, horno, hervir, horno, s...</td>\n",
       "      <td>10</td>\n",
       "    </tr>\n",
       "    <tr>\n",
       "      <th>2</th>\n",
       "      <td>100</td>\n",
       "      <td>oursins</td>\n",
       "      <td>1990</td>\n",
       "      <td>[sweets, spicies_and_condimients, nuts, spicie...</td>\n",
       "      <td>[horno, horno, secar]</td>\n",
       "      <td>10</td>\n",
       "    </tr>\n",
       "    <tr>\n",
       "      <th>3</th>\n",
       "      <td>1000</td>\n",
       "      <td>ravioli sférico de té con cubo helado de limón</td>\n",
       "      <td>2004</td>\n",
       "      <td>[14, fruits, other, drinks, drinks, sweets]</td>\n",
       "      <td>[agua, cocer, horno]</td>\n",
       "      <td>30</td>\n",
       "    </tr>\n",
       "    <tr>\n",
       "      <th>4</th>\n",
       "      <td>1001</td>\n",
       "      <td>ceps en ámbar de su caldo</td>\n",
       "      <td>2004</td>\n",
       "      <td>[spicies_and_condimients, other, other, spicie...</td>\n",
       "      <td>[sal, horno, cocer, hervir, confitar, cazuela,...</td>\n",
       "      <td>30</td>\n",
       "    </tr>\n",
       "  </tbody>\n",
       "</table>\n",
       "</div>"
      ],
      "text/plain": [
       "    _id                                           title  year  \\\n",
       "0     1            terrina de melón con gelée de oporto  1987   \n",
       "1    10                                salmonetes gaudí  1987   \n",
       "2   100                                         oursins  1990   \n",
       "3  1000  ravioli sférico de té con cubo helado de limón  2004   \n",
       "4  1001                       ceps en ámbar de su caldo  2004   \n",
       "\n",
       "                                         ingredients  \\\n",
       "0  [other, spicies_and_condimients, drinks, 2, ot...   \n",
       "1  [spicies_and_condimients, vegetables, vegetabl...   \n",
       "2  [sweets, spicies_and_condimients, nuts, spicie...   \n",
       "3        [14, fruits, other, drinks, drinks, sweets]   \n",
       "4  [spicies_and_condimients, other, other, spicie...   \n",
       "\n",
       "                                          techniques  creativity  \n",
       "0                                             [agua]          10  \n",
       "1  [sal, marcar, cocción, horno, hervir, horno, s...          10  \n",
       "2                              [horno, horno, secar]          10  \n",
       "3                               [agua, cocer, horno]          30  \n",
       "4  [sal, horno, cocer, hervir, confitar, cazuela,...          30  "
      ]
     },
     "execution_count": 73,
     "metadata": {},
     "output_type": "execute_result"
    }
   ],
   "source": [
    "elbulli_cuis_recipes_df.head()"
   ]
  },
  {
   "cell_type": "markdown",
   "metadata": {},
   "source": [
    "### cookpad"
   ]
  },
  {
   "cell_type": "code",
   "execution_count": 74,
   "metadata": {
    "collapsed": false
   },
   "outputs": [],
   "source": [
    "cookpad_cuis_recipes_df = pd.read_csv('data/dbs/recipes_cookpad_cuisines.csv')\n",
    "cookpad_cuis_recipes_df = my_sample(cookpad_cuis_recipes_df)"
   ]
  },
  {
   "cell_type": "code",
   "execution_count": 75,
   "metadata": {
    "collapsed": false
   },
   "outputs": [
    {
     "data": {
      "text/plain": [
       "_id             int64\n",
       "title          object\n",
       "year            int64\n",
       "ingredients    object\n",
       "techniques     object\n",
       "dtype: object"
      ]
     },
     "execution_count": 75,
     "metadata": {},
     "output_type": "execute_result"
    }
   ],
   "source": [
    "cookpad_cuis_recipes_df.dtypes"
   ]
  },
  {
   "cell_type": "code",
   "execution_count": 76,
   "metadata": {
    "collapsed": false
   },
   "outputs": [
    {
     "data": {
      "text/html": [
       "<div>\n",
       "<table border=\"1\" class=\"dataframe\">\n",
       "  <thead>\n",
       "    <tr style=\"text-align: right;\">\n",
       "      <th></th>\n",
       "      <th>_id</th>\n",
       "      <th>title</th>\n",
       "      <th>year</th>\n",
       "      <th>ingredients</th>\n",
       "      <th>techniques</th>\n",
       "    </tr>\n",
       "  </thead>\n",
       "  <tbody>\n",
       "    <tr>\n",
       "      <th>33</th>\n",
       "      <td>100475</td>\n",
       "      <td>langostinos rebozados</td>\n",
       "      <td>2009</td>\n",
       "      <td>[\"other\",\"spicies_and_condimients\",\"seafood\",\"...</td>\n",
       "      <td>[\"horno\"]</td>\n",
       "    </tr>\n",
       "    <tr>\n",
       "      <th>38</th>\n",
       "      <td>100485</td>\n",
       "      <td>lomos de bacalao rebozados</td>\n",
       "      <td>2009</td>\n",
       "      <td>[\"seafood\",\"cereals\",\"spicies_and_condimients\"...</td>\n",
       "      <td>[\"horno\"]</td>\n",
       "    </tr>\n",
       "    <tr>\n",
       "      <th>39</th>\n",
       "      <td>100486</td>\n",
       "      <td>cazuela de berenjenas</td>\n",
       "      <td>2009</td>\n",
       "      <td>[\"vegetables\",\"vegetables\",\"spicies_and_condim...</td>\n",
       "      <td>[\"horno\",\"horno\",\"plancha\",\"horno\",\"sartén\",\"s...</td>\n",
       "    </tr>\n",
       "    <tr>\n",
       "      <th>44</th>\n",
       "      <td>100549</td>\n",
       "      <td>pimientos y patatas</td>\n",
       "      <td>2009</td>\n",
       "      <td>[\"spicies_and_condimients\",\"spicies_and_condim...</td>\n",
       "      <td>[\"sal\",\"cocer\",\"sal\"]</td>\n",
       "    </tr>\n",
       "    <tr>\n",
       "      <th>49</th>\n",
       "      <td>100588</td>\n",
       "      <td>muffins de moka</td>\n",
       "      <td>2009</td>\n",
       "      <td>[\"sweets\",\"dairy\",\"cereals\",\"spicies_and_condi...</td>\n",
       "      <td>[\"relleno\",\"horno\",\"al baño maria\"]</td>\n",
       "    </tr>\n",
       "  </tbody>\n",
       "</table>\n",
       "</div>"
      ],
      "text/plain": [
       "       _id                       title  year  \\\n",
       "33  100475       langostinos rebozados  2009   \n",
       "38  100485  lomos de bacalao rebozados  2009   \n",
       "39  100486       cazuela de berenjenas  2009   \n",
       "44  100549         pimientos y patatas  2009   \n",
       "49  100588             muffins de moka  2009   \n",
       "\n",
       "                                          ingredients  \\\n",
       "33  [\"other\",\"spicies_and_condimients\",\"seafood\",\"...   \n",
       "38  [\"seafood\",\"cereals\",\"spicies_and_condimients\"...   \n",
       "39  [\"vegetables\",\"vegetables\",\"spicies_and_condim...   \n",
       "44  [\"spicies_and_condimients\",\"spicies_and_condim...   \n",
       "49  [\"sweets\",\"dairy\",\"cereals\",\"spicies_and_condi...   \n",
       "\n",
       "                                           techniques  \n",
       "33                                          [\"horno\"]  \n",
       "38                                          [\"horno\"]  \n",
       "39  [\"horno\",\"horno\",\"plancha\",\"horno\",\"sartén\",\"s...  \n",
       "44                              [\"sal\",\"cocer\",\"sal\"]  \n",
       "49                [\"relleno\",\"horno\",\"al baño maria\"]  "
      ]
     },
     "execution_count": 76,
     "metadata": {},
     "output_type": "execute_result"
    }
   ],
   "source": [
    "cookpad_cuis_recipes_df.head()"
   ]
  },
  {
   "cell_type": "code",
   "execution_count": 77,
   "metadata": {
    "collapsed": false
   },
   "outputs": [],
   "source": [
    "cookpad_cuis_recipes_df['ingredients'] = cookpad_cuis_recipes_df.apply(lambda x: json.loads(x['ingredients']), axis=1)\n",
    "cookpad_cuis_recipes_df['techniques'] = cookpad_cuis_recipes_df.apply(lambda x: json.loads(x['techniques']), axis=1)"
   ]
  },
  {
   "cell_type": "code",
   "execution_count": 78,
   "metadata": {
    "collapsed": true
   },
   "outputs": [],
   "source": [
    "cookpad_cuis_recipes_df['creativity'] = cookpad_cuis_recipes_df.apply(\n",
    "    lambda x: 0, axis=1)"
   ]
  },
  {
   "cell_type": "code",
   "execution_count": 79,
   "metadata": {
    "collapsed": false,
    "scrolled": true
   },
   "outputs": [
    {
     "data": {
      "text/html": [
       "<div>\n",
       "<table border=\"1\" class=\"dataframe\">\n",
       "  <thead>\n",
       "    <tr style=\"text-align: right;\">\n",
       "      <th></th>\n",
       "      <th>_id</th>\n",
       "      <th>title</th>\n",
       "      <th>year</th>\n",
       "      <th>ingredients</th>\n",
       "      <th>techniques</th>\n",
       "      <th>creativity</th>\n",
       "    </tr>\n",
       "  </thead>\n",
       "  <tbody>\n",
       "    <tr>\n",
       "      <th>33</th>\n",
       "      <td>100475</td>\n",
       "      <td>langostinos rebozados</td>\n",
       "      <td>2009</td>\n",
       "      <td>[other, spicies_and_condimients, seafood, 1, s...</td>\n",
       "      <td>[horno]</td>\n",
       "      <td>0</td>\n",
       "    </tr>\n",
       "    <tr>\n",
       "      <th>38</th>\n",
       "      <td>100485</td>\n",
       "      <td>lomos de bacalao rebozados</td>\n",
       "      <td>2009</td>\n",
       "      <td>[seafood, cereals, spicies_and_condimients, 1]</td>\n",
       "      <td>[horno]</td>\n",
       "      <td>0</td>\n",
       "    </tr>\n",
       "    <tr>\n",
       "      <th>39</th>\n",
       "      <td>100486</td>\n",
       "      <td>cazuela de berenjenas</td>\n",
       "      <td>2009</td>\n",
       "      <td>[vegetables, vegetables, spicies_and_condimien...</td>\n",
       "      <td>[horno, horno, plancha, horno, sartén, sal, en...</td>\n",
       "      <td>0</td>\n",
       "    </tr>\n",
       "    <tr>\n",
       "      <th>44</th>\n",
       "      <td>100549</td>\n",
       "      <td>pimientos y patatas</td>\n",
       "      <td>2009</td>\n",
       "      <td>[spicies_and_condimients, spicies_and_condimie...</td>\n",
       "      <td>[sal, cocer, sal]</td>\n",
       "      <td>0</td>\n",
       "    </tr>\n",
       "    <tr>\n",
       "      <th>49</th>\n",
       "      <td>100588</td>\n",
       "      <td>muffins de moka</td>\n",
       "      <td>2009</td>\n",
       "      <td>[sweets, dairy, cereals, spicies_and_condimien...</td>\n",
       "      <td>[relleno, horno, al baño maria]</td>\n",
       "      <td>0</td>\n",
       "    </tr>\n",
       "  </tbody>\n",
       "</table>\n",
       "</div>"
      ],
      "text/plain": [
       "       _id                       title  year  \\\n",
       "33  100475       langostinos rebozados  2009   \n",
       "38  100485  lomos de bacalao rebozados  2009   \n",
       "39  100486       cazuela de berenjenas  2009   \n",
       "44  100549         pimientos y patatas  2009   \n",
       "49  100588             muffins de moka  2009   \n",
       "\n",
       "                                          ingredients  \\\n",
       "33  [other, spicies_and_condimients, seafood, 1, s...   \n",
       "38     [seafood, cereals, spicies_and_condimients, 1]   \n",
       "39  [vegetables, vegetables, spicies_and_condimien...   \n",
       "44  [spicies_and_condimients, spicies_and_condimie...   \n",
       "49  [sweets, dairy, cereals, spicies_and_condimien...   \n",
       "\n",
       "                                           techniques  creativity  \n",
       "33                                            [horno]           0  \n",
       "38                                            [horno]           0  \n",
       "39  [horno, horno, plancha, horno, sartén, sal, en...           0  \n",
       "44                                  [sal, cocer, sal]           0  \n",
       "49                    [relleno, horno, al baño maria]           0  "
      ]
     },
     "execution_count": 79,
     "metadata": {},
     "output_type": "execute_result"
    }
   ],
   "source": [
    "cookpad_cuis_recipes_df.head()"
   ]
  },
  {
   "cell_type": "markdown",
   "metadata": {},
   "source": [
    "### elbulli & cookpad"
   ]
  },
  {
   "cell_type": "code",
   "execution_count": 80,
   "metadata": {
    "collapsed": true
   },
   "outputs": [],
   "source": [
    "cuis_recipes_df = elbulli_cuis_recipes_df.append(cookpad_cuis_recipes_df, ignore_index=True)"
   ]
  },
  {
   "cell_type": "code",
   "execution_count": 81,
   "metadata": {
    "collapsed": false,
    "scrolled": true
   },
   "outputs": [
    {
     "data": {
      "text/html": [
       "<div>\n",
       "<table border=\"1\" class=\"dataframe\">\n",
       "  <thead>\n",
       "    <tr style=\"text-align: right;\">\n",
       "      <th></th>\n",
       "      <th>_id</th>\n",
       "      <th>title</th>\n",
       "      <th>year</th>\n",
       "      <th>ingredients</th>\n",
       "      <th>techniques</th>\n",
       "      <th>creativity</th>\n",
       "    </tr>\n",
       "  </thead>\n",
       "  <tbody>\n",
       "    <tr>\n",
       "      <th>0</th>\n",
       "      <td>1</td>\n",
       "      <td>terrina de melón con gelée de oporto</td>\n",
       "      <td>1987</td>\n",
       "      <td>[other, spicies_and_condimients, drinks, 2, ot...</td>\n",
       "      <td>[agua]</td>\n",
       "      <td>10</td>\n",
       "    </tr>\n",
       "    <tr>\n",
       "      <th>1</th>\n",
       "      <td>10</td>\n",
       "      <td>salmonetes gaudí</td>\n",
       "      <td>1987</td>\n",
       "      <td>[spicies_and_condimients, vegetables, vegetabl...</td>\n",
       "      <td>[sal, marcar, cocción, horno, hervir, horno, s...</td>\n",
       "      <td>10</td>\n",
       "    </tr>\n",
       "    <tr>\n",
       "      <th>2</th>\n",
       "      <td>100</td>\n",
       "      <td>oursins</td>\n",
       "      <td>1990</td>\n",
       "      <td>[sweets, spicies_and_condimients, nuts, spicie...</td>\n",
       "      <td>[horno, horno, secar]</td>\n",
       "      <td>10</td>\n",
       "    </tr>\n",
       "    <tr>\n",
       "      <th>3</th>\n",
       "      <td>1000</td>\n",
       "      <td>ravioli sférico de té con cubo helado de limón</td>\n",
       "      <td>2004</td>\n",
       "      <td>[14, fruits, other, drinks, drinks, sweets]</td>\n",
       "      <td>[agua, cocer, horno]</td>\n",
       "      <td>30</td>\n",
       "    </tr>\n",
       "    <tr>\n",
       "      <th>4</th>\n",
       "      <td>1001</td>\n",
       "      <td>ceps en ámbar de su caldo</td>\n",
       "      <td>2004</td>\n",
       "      <td>[spicies_and_condimients, other, other, spicie...</td>\n",
       "      <td>[sal, horno, cocer, hervir, confitar, cazuela,...</td>\n",
       "      <td>30</td>\n",
       "    </tr>\n",
       "  </tbody>\n",
       "</table>\n",
       "</div>"
      ],
      "text/plain": [
       "    _id                                           title  year  \\\n",
       "0     1            terrina de melón con gelée de oporto  1987   \n",
       "1    10                                salmonetes gaudí  1987   \n",
       "2   100                                         oursins  1990   \n",
       "3  1000  ravioli sférico de té con cubo helado de limón  2004   \n",
       "4  1001                       ceps en ámbar de su caldo  2004   \n",
       "\n",
       "                                         ingredients  \\\n",
       "0  [other, spicies_and_condimients, drinks, 2, ot...   \n",
       "1  [spicies_and_condimients, vegetables, vegetabl...   \n",
       "2  [sweets, spicies_and_condimients, nuts, spicie...   \n",
       "3        [14, fruits, other, drinks, drinks, sweets]   \n",
       "4  [spicies_and_condimients, other, other, spicie...   \n",
       "\n",
       "                                          techniques  creativity  \n",
       "0                                             [agua]          10  \n",
       "1  [sal, marcar, cocción, horno, hervir, horno, s...          10  \n",
       "2                              [horno, horno, secar]          10  \n",
       "3                               [agua, cocer, horno]          30  \n",
       "4  [sal, horno, cocer, hervir, confitar, cazuela,...          30  "
      ]
     },
     "execution_count": 81,
     "metadata": {},
     "output_type": "execute_result"
    }
   ],
   "source": [
    "cuis_recipes_df.head()"
   ]
  },
  {
   "cell_type": "markdown",
   "metadata": {
    "collapsed": true
   },
   "source": [
    "# Formatting data"
   ]
  },
  {
   "cell_type": "code",
   "execution_count": 82,
   "metadata": {
    "collapsed": false
   },
   "outputs": [],
   "source": [
    "def join_ingredients_and_techniques(ingr_list, tech_list):\n",
    "    i_list = ['i_' + '_'.join(x.split()) for x in ingr_list]\n",
    "    t_list = ['t_' + '_'.join(x.split()) for x in tech_list]\n",
    "    return ' '.join(i_list + t_list)"
   ]
  },
  {
   "cell_type": "code",
   "execution_count": 83,
   "metadata": {
    "collapsed": true
   },
   "outputs": [],
   "source": [
    "columns = ['text', 'creativity']"
   ]
  },
  {
   "cell_type": "code",
   "execution_count": 84,
   "metadata": {
    "collapsed": false
   },
   "outputs": [],
   "source": [
    "raw_text_df = pd.DataFrame(columns=columns)\n",
    "raw_text_df['creativity'] = raw_recipes_df['creativity']\n",
    "raw_text_df['text'] = raw_recipes_df.apply(\n",
    "    lambda x: join_ingredients_and_techniques(x['ingredients'], x['techniques']), axis=1)"
   ]
  },
  {
   "cell_type": "code",
   "execution_count": 85,
   "metadata": {
    "collapsed": false
   },
   "outputs": [
    {
     "data": {
      "text/html": [
       "<div>\n",
       "<table border=\"1\" class=\"dataframe\">\n",
       "  <thead>\n",
       "    <tr style=\"text-align: right;\">\n",
       "      <th></th>\n",
       "      <th>text</th>\n",
       "      <th>creativity</th>\n",
       "    </tr>\n",
       "  </thead>\n",
       "  <tbody>\n",
       "    <tr>\n",
       "      <th>0</th>\n",
       "      <td>i_oporto i_aceite_de_oliva i_agua i_pimienta_b...</td>\n",
       "      <td>10</td>\n",
       "    </tr>\n",
       "    <tr>\n",
       "      <th>1</th>\n",
       "      <td>i_sal i_pimiento i_pimiento_rojo i_piñones_tos...</td>\n",
       "      <td>10</td>\n",
       "    </tr>\n",
       "    <tr>\n",
       "      <th>2</th>\n",
       "      <td>i_chocolate i_claras_de_huevo i_avellanas_tost...</td>\n",
       "      <td>10</td>\n",
       "    </tr>\n",
       "    <tr>\n",
       "      <th>3</th>\n",
       "      <td>i_zumo_de_limón i_limón i_alginato_sódico i_ag...</td>\n",
       "      <td>30</td>\n",
       "    </tr>\n",
       "    <tr>\n",
       "      <th>4</th>\n",
       "      <td>i_sal i_caldo_de_ceps i_carragenato_kappa_en_p...</td>\n",
       "      <td>30</td>\n",
       "    </tr>\n",
       "  </tbody>\n",
       "</table>\n",
       "</div>"
      ],
      "text/plain": [
       "                                                text  creativity\n",
       "0  i_oporto i_aceite_de_oliva i_agua i_pimienta_b...          10\n",
       "1  i_sal i_pimiento i_pimiento_rojo i_piñones_tos...          10\n",
       "2  i_chocolate i_claras_de_huevo i_avellanas_tost...          10\n",
       "3  i_zumo_de_limón i_limón i_alginato_sódico i_ag...          30\n",
       "4  i_sal i_caldo_de_ceps i_carragenato_kappa_en_p...          30"
      ]
     },
     "execution_count": 85,
     "metadata": {},
     "output_type": "execute_result"
    }
   ],
   "source": [
    "raw_text_df.head()"
   ]
  },
  {
   "cell_type": "code",
   "execution_count": 86,
   "metadata": {
    "collapsed": false
   },
   "outputs": [],
   "source": [
    "repr_text_df = pd.DataFrame(columns=columns)\n",
    "repr_text_df['creativity'] = repr_recipes_df['creativity']\n",
    "repr_text_df['text'] = repr_recipes_df.apply(\n",
    "    lambda x: join_ingredients_and_techniques(x['ingredients'], x['techniques']), axis=1)"
   ]
  },
  {
   "cell_type": "code",
   "execution_count": 87,
   "metadata": {
    "collapsed": false
   },
   "outputs": [
    {
     "data": {
      "text/html": [
       "<div>\n",
       "<table border=\"1\" class=\"dataframe\">\n",
       "  <thead>\n",
       "    <tr style=\"text-align: right;\">\n",
       "      <th></th>\n",
       "      <th>text</th>\n",
       "      <th>creativity</th>\n",
       "    </tr>\n",
       "  </thead>\n",
       "  <tbody>\n",
       "    <tr>\n",
       "      <th>0</th>\n",
       "      <td>i_oporto i_aceite_de_oliva i_agua i_pimienta_b...</td>\n",
       "      <td>10</td>\n",
       "    </tr>\n",
       "    <tr>\n",
       "      <th>1</th>\n",
       "      <td>i_sal i_pimientos i_pimiento_rojo i_piñones_to...</td>\n",
       "      <td>10</td>\n",
       "    </tr>\n",
       "    <tr>\n",
       "      <th>2</th>\n",
       "      <td>i_chocolate i_claras_de_huevo i_avellanas_tost...</td>\n",
       "      <td>10</td>\n",
       "    </tr>\n",
       "    <tr>\n",
       "      <th>3</th>\n",
       "      <td>i_zumo_de_limón i_limón i_alginato_sódico i_ag...</td>\n",
       "      <td>30</td>\n",
       "    </tr>\n",
       "    <tr>\n",
       "      <th>4</th>\n",
       "      <td>i_sal i_caldo_de_ceps i_carragenato_kappa_en_p...</td>\n",
       "      <td>30</td>\n",
       "    </tr>\n",
       "  </tbody>\n",
       "</table>\n",
       "</div>"
      ],
      "text/plain": [
       "                                                text  creativity\n",
       "0  i_oporto i_aceite_de_oliva i_agua i_pimienta_b...          10\n",
       "1  i_sal i_pimientos i_pimiento_rojo i_piñones_to...          10\n",
       "2  i_chocolate i_claras_de_huevo i_avellanas_tost...          10\n",
       "3  i_zumo_de_limón i_limón i_alginato_sódico i_ag...          30\n",
       "4  i_sal i_caldo_de_ceps i_carragenato_kappa_en_p...          30"
      ]
     },
     "execution_count": 87,
     "metadata": {},
     "output_type": "execute_result"
    }
   ],
   "source": [
    "repr_text_df.head()"
   ]
  },
  {
   "cell_type": "code",
   "execution_count": 88,
   "metadata": {
    "collapsed": false
   },
   "outputs": [],
   "source": [
    "super_text_df = pd.DataFrame(columns=columns)\n",
    "super_text_df['creativity'] = super_recipes_df['creativity']\n",
    "super_text_df['text'] = super_recipes_df.apply(\n",
    "    lambda x: join_ingredients_and_techniques(x['ingredients'], x['techniques']), axis=1)"
   ]
  },
  {
   "cell_type": "code",
   "execution_count": 89,
   "metadata": {
    "collapsed": false
   },
   "outputs": [
    {
     "data": {
      "text/html": [
       "<div>\n",
       "<table border=\"1\" class=\"dataframe\">\n",
       "  <thead>\n",
       "    <tr style=\"text-align: right;\">\n",
       "      <th></th>\n",
       "      <th>text</th>\n",
       "      <th>creativity</th>\n",
       "    </tr>\n",
       "  </thead>\n",
       "  <tbody>\n",
       "    <tr>\n",
       "      <th>0</th>\n",
       "      <td>i_oporto i_aceite i_agua i_pimienta i_gelatina...</td>\n",
       "      <td>10</td>\n",
       "    </tr>\n",
       "    <tr>\n",
       "      <th>1</th>\n",
       "      <td>i_sal i_pimientos i_pimiento i_piñones i_vinag...</td>\n",
       "      <td>10</td>\n",
       "    </tr>\n",
       "    <tr>\n",
       "      <th>2</th>\n",
       "      <td>i_chocolate i_claras i_avellanas i_yemas i_azú...</td>\n",
       "      <td>10</td>\n",
       "    </tr>\n",
       "    <tr>\n",
       "      <th>3</th>\n",
       "      <td>i_zumo i_limón i_alginato i_agua i_té i_azúcar...</td>\n",
       "      <td>30</td>\n",
       "    </tr>\n",
       "    <tr>\n",
       "      <th>4</th>\n",
       "      <td>i_sal i_ceps i_carragenato i_romero i_ceps i_c...</td>\n",
       "      <td>30</td>\n",
       "    </tr>\n",
       "  </tbody>\n",
       "</table>\n",
       "</div>"
      ],
      "text/plain": [
       "                                                text  creativity\n",
       "0  i_oporto i_aceite i_agua i_pimienta i_gelatina...          10\n",
       "1  i_sal i_pimientos i_pimiento i_piñones i_vinag...          10\n",
       "2  i_chocolate i_claras i_avellanas i_yemas i_azú...          10\n",
       "3  i_zumo i_limón i_alginato i_agua i_té i_azúcar...          30\n",
       "4  i_sal i_ceps i_carragenato i_romero i_ceps i_c...          30"
      ]
     },
     "execution_count": 89,
     "metadata": {},
     "output_type": "execute_result"
    }
   ],
   "source": [
    "super_text_df.head()"
   ]
  },
  {
   "cell_type": "code",
   "execution_count": 90,
   "metadata": {
    "collapsed": false
   },
   "outputs": [],
   "source": [
    "types_text_df = pd.DataFrame(columns=columns)\n",
    "types_text_df['creativity'] = types_recipes_df['creativity']\n",
    "types_text_df['text'] = types_recipes_df.apply(\n",
    "    lambda x: join_ingredients_and_techniques(x['ingredients'], x['techniques']), axis=1)"
   ]
  },
  {
   "cell_type": "code",
   "execution_count": 91,
   "metadata": {
    "collapsed": false
   },
   "outputs": [
    {
     "data": {
      "text/html": [
       "<div>\n",
       "<table border=\"1\" class=\"dataframe\">\n",
       "  <thead>\n",
       "    <tr style=\"text-align: right;\">\n",
       "      <th></th>\n",
       "      <th>text</th>\n",
       "      <th>creativity</th>\n",
       "    </tr>\n",
       "  </thead>\n",
       "  <tbody>\n",
       "    <tr>\n",
       "      <th>0</th>\n",
       "      <td>i_western i_western i_1 i_western i_modernist ...</td>\n",
       "      <td>10</td>\n",
       "    </tr>\n",
       "    <tr>\n",
       "      <th>1</th>\n",
       "      <td>i_western i_western i_western i_1 i_western i_...</td>\n",
       "      <td>10</td>\n",
       "    </tr>\n",
       "    <tr>\n",
       "      <th>2</th>\n",
       "      <td>i_western i_western i_1 i_western i_western i_...</td>\n",
       "      <td>10</td>\n",
       "    </tr>\n",
       "    <tr>\n",
       "      <th>3</th>\n",
       "      <td>i_1 i_western i_modernist i_1 i_western i_west...</td>\n",
       "      <td>30</td>\n",
       "    </tr>\n",
       "    <tr>\n",
       "      <th>4</th>\n",
       "      <td>i_western i_modernist i_modernist i_modernist ...</td>\n",
       "      <td>30</td>\n",
       "    </tr>\n",
       "  </tbody>\n",
       "</table>\n",
       "</div>"
      ],
      "text/plain": [
       "                                                text  creativity\n",
       "0  i_western i_western i_1 i_western i_modernist ...          10\n",
       "1  i_western i_western i_western i_1 i_western i_...          10\n",
       "2  i_western i_western i_1 i_western i_western i_...          10\n",
       "3  i_1 i_western i_modernist i_1 i_western i_west...          30\n",
       "4  i_western i_modernist i_modernist i_modernist ...          30"
      ]
     },
     "execution_count": 91,
     "metadata": {},
     "output_type": "execute_result"
    }
   ],
   "source": [
    "types_text_df.head()"
   ]
  },
  {
   "cell_type": "code",
   "execution_count": 92,
   "metadata": {
    "collapsed": false
   },
   "outputs": [],
   "source": [
    "cuis_text_df = pd.DataFrame(columns=columns)\n",
    "cuis_text_df['creativity'] = cuis_recipes_df['creativity']\n",
    "cuis_text_df['text'] = cuis_recipes_df.apply(\n",
    "    lambda x: join_ingredients_and_techniques(x['ingredients'], x['techniques']), axis=1)"
   ]
  },
  {
   "cell_type": "code",
   "execution_count": 93,
   "metadata": {
    "collapsed": false,
    "scrolled": true
   },
   "outputs": [
    {
     "data": {
      "text/html": [
       "<div>\n",
       "<table border=\"1\" class=\"dataframe\">\n",
       "  <thead>\n",
       "    <tr style=\"text-align: right;\">\n",
       "      <th></th>\n",
       "      <th>text</th>\n",
       "      <th>creativity</th>\n",
       "    </tr>\n",
       "  </thead>\n",
       "  <tbody>\n",
       "    <tr>\n",
       "      <th>0</th>\n",
       "      <td>i_other i_spicies_and_condimients i_drinks i_2...</td>\n",
       "      <td>10</td>\n",
       "    </tr>\n",
       "    <tr>\n",
       "      <th>1</th>\n",
       "      <td>i_spicies_and_condimients i_vegetables i_veget...</td>\n",
       "      <td>10</td>\n",
       "    </tr>\n",
       "    <tr>\n",
       "      <th>2</th>\n",
       "      <td>i_sweets i_spicies_and_condimients i_nuts i_sp...</td>\n",
       "      <td>10</td>\n",
       "    </tr>\n",
       "    <tr>\n",
       "      <th>3</th>\n",
       "      <td>i_14 i_fruits i_other i_drinks i_drinks i_swee...</td>\n",
       "      <td>30</td>\n",
       "    </tr>\n",
       "    <tr>\n",
       "      <th>4</th>\n",
       "      <td>i_spicies_and_condimients i_other i_other i_sp...</td>\n",
       "      <td>30</td>\n",
       "    </tr>\n",
       "  </tbody>\n",
       "</table>\n",
       "</div>"
      ],
      "text/plain": [
       "                                                text  creativity\n",
       "0  i_other i_spicies_and_condimients i_drinks i_2...          10\n",
       "1  i_spicies_and_condimients i_vegetables i_veget...          10\n",
       "2  i_sweets i_spicies_and_condimients i_nuts i_sp...          10\n",
       "3  i_14 i_fruits i_other i_drinks i_drinks i_swee...          30\n",
       "4  i_spicies_and_condimients i_other i_other i_sp...          30"
      ]
     },
     "execution_count": 93,
     "metadata": {},
     "output_type": "execute_result"
    }
   ],
   "source": [
    "cuis_text_df.head()"
   ]
  },
  {
   "cell_type": "markdown",
   "metadata": {},
   "source": [
    "# Classification"
   ]
  },
  {
   "cell_type": "code",
   "execution_count": 94,
   "metadata": {
    "collapsed": true
   },
   "outputs": [],
   "source": [
    "def update(d1, d2):\n",
    "    d = dict(d1)\n",
    "    d.update(d2)\n",
    "    return d"
   ]
  },
  {
   "cell_type": "code",
   "execution_count": 95,
   "metadata": {
    "collapsed": true
   },
   "outputs": [],
   "source": [
    "K = 10"
   ]
  },
  {
   "cell_type": "code",
   "execution_count": 96,
   "metadata": {
    "collapsed": false
   },
   "outputs": [],
   "source": [
    "parameters = {\n",
    "#     'vect__max_df': (0.5, 0.8, 1.0),\n",
    "#     'vect__min_df': (0.0, 0.2, 1),\n",
    "#     'tfidf__norm': (None, 'l1', 'l2'),\n",
    "#     'tfidf__use_idf': (True, False),\n",
    "}\n",
    "\n",
    "classifiers = [\n",
    "    ('BernoulliNB', BernoulliNB, update(parameters, {\n",
    "#         'clf__alpha': (1.0, 1e-1, 1e-2, 1e-3),\n",
    "#         'clf__fit_prior': (False, True),\n",
    "    })),\n",
    "#     ('KNeighborsClassifier', KNeighborsClassifier, update(parameters, {\n",
    "#         'clf__weights': ('uniform', 'distance'),\n",
    "#         'clf__metric': ('euclidean', 'manhattan', 'minkowski')\n",
    "#     })),\n",
    "#     ('LinearSVC', LinearSVC, [\n",
    "#         update(parameters, {\n",
    "#         'clf__loss': ('squared_hinge', 'hinge',),\n",
    "#         'clf__tol': (1e-1, 1e-2, 1e-3),\n",
    "#         }),\n",
    "#         update(parameters, {\n",
    "#         'clf__loss': ('hinge',),\n",
    "#         'clf__penalty': ('l1', 'l2'),\n",
    "#         'clf__dual': (False,),\n",
    "#         'clf__tol': (1e-1, 1e-2, 1e-3),\n",
    "#         }),\n",
    "#     ]),\n",
    "#     ('MultinomialNB', MultinomialNB, update(parameters, {\n",
    "#         'clf__alpha': (1.0, 1e-1, 1e-2, 1e-3),\n",
    "#         'clf__fit_prior': (False, True),\n",
    "#     })),\n",
    "#     ('NearestCentroid', NearestCentroid, update(parameters, {})),\n",
    "#     ('PassiveAggressiveClassifier', PassiveAggressiveClassifier, update(parameters, {\n",
    "#         'vect__min_df': (0.0, 1),\n",
    "#         'clf__loss': ('squared_hinge', 'hinge'),\n",
    "#         'clf__n_iter': (5, 10, 20),\n",
    "#         'clf__class_weight': (None, 'balanced', {0: 0.25, 10: 0.28, 20: 0.23, 30: 0.24}),\n",
    "#         'clf__warm_start': (False, True),\n",
    "#     })),\n",
    "#     ('Perceptron', Perceptron, update(parameters, {\n",
    "#         'vect__min_df': (0.0, 1),\n",
    "#         'tfidf__norm': (None, 'l2'),\n",
    "#         'clf__penalty': (None, 'l1', 'l2', 'elasticnet'),\n",
    "#         'clf__alpha': (1e-4, 1e-5, 1e-6),\n",
    "#         'clf__class_weight': (None, 'balanced', {0: 0.25, 10: 0.28, 20: 0.23, 30: 0.24}),\n",
    "#         'clf__warm_start': (False, True),\n",
    "#     })),\n",
    "#     ('RandomForestClassifier', RandomForestClassifier, update(parameters, {\n",
    "#         'clf__n_estimators': (10, 20, 30),\n",
    "#         'clf__criterion': ('gini', 'entropy'),\n",
    "#         'clf__max_depth': (None, 5, 10),\n",
    "#         'clf__class_weight': (None, {0: 0.25, 10: 0.28, 20: 0.23, 30: 0.24}),\n",
    "#         'clf__warm_start': (False, True),})),\n",
    "#     ('RidgeClassifier', RidgeClassifier, update(parameters, {\n",
    "#         'clf__alpha': (1.0, 1e-1, 1e-2, 1e-3),\n",
    "#         'clf__class_weight': (None, 'balanced', {0: 0.25, 10: 0.28, 20: 0.23, 30: 0.24}),\n",
    "#         'clf__normalize': (True, False),\n",
    "#         'clf__tol': (1e-1, 1e-2, 1e-3),\n",
    "#     ('SGDClassifier', SGDClassifier, [\n",
    "#         update(parameters, {\n",
    "#         'vect__min_df': (0.0, 1),\n",
    "#         'clf__loss': ('hinge', 'log', 'modified_huber', 'perceptron',),\n",
    "#         'clf__penalty': ('none', 'l1', 'l2', 'elasticnet'),\n",
    "#         'clf__class_weight': (None, 'balanced'),\n",
    "#         'clf__warm_start': (False, True),\n",
    "#         }),\n",
    "#         update(parameters, {\n",
    "#         'vect__min_df': (0.0, 1),\n",
    "#         'clf__loss': ('hinge', 'log', 'modified_huber', 'perceptron',),\n",
    "#         'clf__penalty': ('none', 'l1', 'l2', 'elasticnet'),\n",
    "#         'clf__alpha': (1e-5, 1e-6),\n",
    "#         'clf__class_weight': ({0: 0.25, 10: 0.28, 20: 0.23, 30: 0.24},),\n",
    "#         'clf__warm_start': (False, True),\n",
    "#         }),\n",
    "#     ]),\n",
    "]"
   ]
  },
  {
   "cell_type": "code",
   "execution_count": 97,
   "metadata": {
    "collapsed": true
   },
   "outputs": [],
   "source": [
    "def benchmark(grid_search_cv, X_train, X_test, y_train, y_test, name):\n",
    "    print('Training %s...' % name)\n",
    "    t0 = time()\n",
    "    grid_search_cv.fit(X_train, y_train)\n",
    "    training_time = time() - t0\n",
    "    print('Training time: %0.3fs' % training_time)\n",
    "    print()\n",
    "    score = float('%0.2f' % grid_search_cv.best_score_)\n",
    "    print('Best score:', score)\n",
    "    print('Best parameters:', grid_search_cv.best_params_)\n",
    "    print()\n",
    "    print('Testing %s...' % name)\n",
    "    t0 = time()\n",
    "    pred = grid_search_cv.predict(X_test)\n",
    "    testing_time = time() - t0\n",
    "    print('Testing time:  %0.3fs' % testing_time)\n",
    "    print()\n",
    "    print('Metrics:')\n",
    "    accuracy = metrics.accuracy_score(y_test, pred)\n",
    "    accuracy = float('%0.2f' % accuracy)\n",
    "    print('accuracy  =', accuracy)\n",
    "    precision = metrics.precision_score(y_test, pred, average='weighted')\n",
    "    precision = float('%0.2f' % precision)\n",
    "    print('precision =', precision)\n",
    "    recall = metrics.recall_score(y_test, pred, average='weighted')\n",
    "    recall = float('%0.2f' % recall)\n",
    "    print('recall    =', recall)\n",
    "    f1_score = metrics.f1_score(y_test, pred, average='weighted')\n",
    "    f1_score = float('%0.2f' % f1_score)\n",
    "    print('f1_score  =', f1_score)\n",
    "    print()\n",
    "    print('Classification report:')\n",
    "    print(metrics.classification_report(y_test, pred, target_names=['None' ,'Low', 'Medium', 'High']))\n",
    "    print()\n",
    "    print('Confusion matrix:')\n",
    "    print(metrics.confusion_matrix(y_test, pred))\n",
    "    print()\n",
    "    return {\n",
    "        'best_estimator': grid_search_cv.best_estimator_,\n",
    "        'best_score': score,\n",
    "        'best_parameters': grid_search_cv.best_params_,\n",
    "        'accuracy': accuracy,\n",
    "        'precision': precision,\n",
    "        'recall': recall,\n",
    "        'f1_score': f1_score,\n",
    "    }"
   ]
  },
  {
   "cell_type": "code",
   "execution_count": 98,
   "metadata": {
    "collapsed": false
   },
   "outputs": [],
   "source": [
    "def update(d1, d2):\n",
    "    d = dict(d1)\n",
    "    d.update(d2)\n",
    "    return d"
   ]
  },
  {
   "cell_type": "markdown",
   "metadata": {},
   "source": [
    "## Raw ingredients and techniques"
   ]
  },
  {
   "cell_type": "code",
   "execution_count": 99,
   "metadata": {
    "collapsed": true
   },
   "outputs": [],
   "source": [
    "X = raw_text_df['text']\n",
    "y = raw_text_df['creativity']"
   ]
  },
  {
   "cell_type": "code",
   "execution_count": 100,
   "metadata": {
    "collapsed": false
   },
   "outputs": [
    {
     "data": {
      "text/plain": [
       "0     404\n",
       "10    454\n",
       "20    371\n",
       "30    389\n",
       "Name: creativity, dtype: int64"
      ]
     },
     "execution_count": 100,
     "metadata": {},
     "output_type": "execute_result"
    }
   ],
   "source": [
    "y.value_counts().sort_index()"
   ]
  },
  {
   "cell_type": "code",
   "execution_count": 101,
   "metadata": {
    "collapsed": false
   },
   "outputs": [],
   "source": [
    "X_train, X_test, y_train, y_test = train_test_split(X, y, test_size=0.1, random_state=0, stratify=y)"
   ]
  },
  {
   "cell_type": "code",
   "execution_count": 102,
   "metadata": {
    "collapsed": true
   },
   "outputs": [],
   "source": [
    "skf = StratifiedKFold(y_train, K)"
   ]
  },
  {
   "cell_type": "code",
   "execution_count": 103,
   "metadata": {
    "collapsed": false
   },
   "outputs": [
    {
     "name": "stdout",
     "output_type": "stream",
     "text": [
      "Performing grid search with cross-validation...\n",
      "================================================================================\n",
      "\n",
      "Training BernoulliNB...\n",
      "Training time: 0.437s\n",
      "\n",
      "Best score: 0.78\n",
      "Best parameters: {}\n",
      "\n",
      "Testing BernoulliNB...\n",
      "Testing time:  0.005s\n",
      "\n",
      "Metrics:\n",
      "accuracy  = 0.78\n",
      "precision = 0.78\n",
      "recall    = 0.78\n",
      "f1_score  = 0.77\n",
      "\n",
      "Classification report:\n",
      "             precision    recall  f1-score   support\n",
      "\n",
      "       None       0.81      0.95      0.87        40\n",
      "        Low       0.81      0.56      0.66        45\n",
      "     Medium       0.68      0.73      0.70        37\n",
      "       High       0.81      0.90      0.85        39\n",
      "\n",
      "avg / total       0.78      0.78      0.77       161\n",
      "\n",
      "\n",
      "Confusion matrix:\n",
      "[[38  0  0  2]\n",
      " [ 3 25 13  4]\n",
      " [ 5  3 27  2]\n",
      " [ 1  3  0 35]]\n",
      "\n",
      "--------------------------------------------------------------------------------\n"
     ]
    }
   ],
   "source": [
    "print('Performing grid search with cross-validation...')\n",
    "print('=' * 80)\n",
    "print()\n",
    "best_estimators = []\n",
    "for name, clf, parameters in classifiers:\n",
    "    pipeline = Pipeline([\n",
    "        ('vect', CountVectorizer()),\n",
    "        ('tfidf', TfidfTransformer()),\n",
    "        ('clf', clf()),\n",
    "    ])\n",
    "    grid_search_cv = GridSearchCV(pipeline, parameters, cv=skf, scoring='f1_weighted', error_score=0, n_jobs=-1)\n",
    "    best_estimators.append(benchmark(grid_search_cv, X_train, X_test, y_train, y_test, name))\n",
    "    print('-' * 80)"
   ]
  },
  {
   "cell_type": "code",
   "execution_count": 104,
   "metadata": {
    "collapsed": false
   },
   "outputs": [],
   "source": [
    "with open('data/raw_best_estimators.pickle', 'wb') as f:\n",
    "    pickle.dump(best_estimators, f)"
   ]
  },
  {
   "cell_type": "markdown",
   "metadata": {},
   "source": [
    "## Representative ingredients and techniques"
   ]
  },
  {
   "cell_type": "code",
   "execution_count": 105,
   "metadata": {
    "collapsed": true
   },
   "outputs": [],
   "source": [
    "X = repr_text_df['text']\n",
    "y = repr_text_df['creativity']"
   ]
  },
  {
   "cell_type": "code",
   "execution_count": 106,
   "metadata": {
    "collapsed": false
   },
   "outputs": [
    {
     "data": {
      "text/plain": [
       "0     404\n",
       "10    454\n",
       "20    371\n",
       "30    389\n",
       "Name: creativity, dtype: int64"
      ]
     },
     "execution_count": 106,
     "metadata": {},
     "output_type": "execute_result"
    }
   ],
   "source": [
    "y.value_counts().sort_index()"
   ]
  },
  {
   "cell_type": "code",
   "execution_count": 107,
   "metadata": {
    "collapsed": false
   },
   "outputs": [],
   "source": [
    "X_train, X_test, y_train, y_test = train_test_split(X, y, test_size=0.1, random_state=0, stratify=y)"
   ]
  },
  {
   "cell_type": "code",
   "execution_count": 108,
   "metadata": {
    "collapsed": true
   },
   "outputs": [],
   "source": [
    "skf = StratifiedKFold(y_train, K)"
   ]
  },
  {
   "cell_type": "code",
   "execution_count": 109,
   "metadata": {
    "collapsed": false
   },
   "outputs": [
    {
     "name": "stdout",
     "output_type": "stream",
     "text": [
      "Performing grid search with cross-validation...\n",
      "================================================================================\n",
      "\n",
      "Training BernoulliNB...\n",
      "Training time: 0.342s\n",
      "\n",
      "Best score: 0.78\n",
      "Best parameters: {}\n",
      "\n",
      "Testing BernoulliNB...\n",
      "Testing time:  0.006s\n",
      "\n",
      "Metrics:\n",
      "accuracy  = 0.76\n",
      "precision = 0.77\n",
      "recall    = 0.76\n",
      "f1_score  = 0.76\n",
      "\n",
      "Classification report:\n",
      "             precision    recall  f1-score   support\n",
      "\n",
      "       None       0.89      0.97      0.93        40\n",
      "        Low       0.79      0.58      0.67        45\n",
      "     Medium       0.68      0.68      0.68        37\n",
      "       High       0.70      0.85      0.77        39\n",
      "\n",
      "avg / total       0.77      0.76      0.76       161\n",
      "\n",
      "\n",
      "Confusion matrix:\n",
      "[[39  0  0  1]\n",
      " [ 2 26 10  7]\n",
      " [ 2  4 25  6]\n",
      " [ 1  3  2 33]]\n",
      "\n",
      "--------------------------------------------------------------------------------\n"
     ]
    }
   ],
   "source": [
    "print('Performing grid search with cross-validation...')\n",
    "print('=' * 80)\n",
    "print()\n",
    "best_estimators = []\n",
    "for name, clf, parameters in classifiers:\n",
    "    pipeline = Pipeline([\n",
    "        ('vect', CountVectorizer()),\n",
    "        ('tfidf', TfidfTransformer()),\n",
    "        ('clf', clf()),\n",
    "    ])\n",
    "    grid_search_cv = GridSearchCV(pipeline, parameters, cv=skf, scoring='f1_weighted', error_score=0, n_jobs=-1)\n",
    "    best_estimators.append(benchmark(grid_search_cv, X_train, X_test, y_train, y_test, name))\n",
    "    print('-' * 80)"
   ]
  },
  {
   "cell_type": "code",
   "execution_count": 110,
   "metadata": {
    "collapsed": false
   },
   "outputs": [],
   "source": [
    "with open('data/repr_best_estimators.pickle', 'wb') as f:\n",
    "    pickle.dump(best_estimators, f)"
   ]
  },
  {
   "cell_type": "markdown",
   "metadata": {},
   "source": [
    "## Superclasses of ingredients and techniques"
   ]
  },
  {
   "cell_type": "code",
   "execution_count": 111,
   "metadata": {
    "collapsed": true
   },
   "outputs": [],
   "source": [
    "X = super_text_df['text']\n",
    "y = super_text_df['creativity']"
   ]
  },
  {
   "cell_type": "code",
   "execution_count": 112,
   "metadata": {
    "collapsed": false
   },
   "outputs": [
    {
     "data": {
      "text/plain": [
       "0     404\n",
       "10    454\n",
       "20    371\n",
       "30    389\n",
       "Name: creativity, dtype: int64"
      ]
     },
     "execution_count": 112,
     "metadata": {},
     "output_type": "execute_result"
    }
   ],
   "source": [
    "y.value_counts().sort_index()"
   ]
  },
  {
   "cell_type": "code",
   "execution_count": 113,
   "metadata": {
    "collapsed": false
   },
   "outputs": [],
   "source": [
    "X_train, X_test, y_train, y_test = train_test_split(X, y, test_size=0.1, random_state=0, stratify=y)"
   ]
  },
  {
   "cell_type": "code",
   "execution_count": 114,
   "metadata": {
    "collapsed": true
   },
   "outputs": [],
   "source": [
    "skf = StratifiedKFold(y_train, K)"
   ]
  },
  {
   "cell_type": "code",
   "execution_count": 115,
   "metadata": {
    "collapsed": false
   },
   "outputs": [
    {
     "name": "stdout",
     "output_type": "stream",
     "text": [
      "Performing grid search with cross-validation...\n",
      "================================================================================\n",
      "\n",
      "Training BernoulliNB...\n",
      "Training time: 0.338s\n",
      "\n",
      "Best score: 0.71\n",
      "Best parameters: {}\n",
      "\n",
      "Testing BernoulliNB...\n",
      "Testing time:  0.005s\n",
      "\n",
      "Metrics:\n",
      "accuracy  = 0.68\n",
      "precision = 0.68\n",
      "recall    = 0.68\n",
      "f1_score  = 0.67\n",
      "\n",
      "Classification report:\n",
      "             precision    recall  f1-score   support\n",
      "\n",
      "       None       0.84      0.90      0.87        40\n",
      "        Low       0.71      0.44      0.55        45\n",
      "     Medium       0.56      0.62      0.59        37\n",
      "       High       0.61      0.77      0.68        39\n",
      "\n",
      "avg / total       0.68      0.68      0.67       161\n",
      "\n",
      "\n",
      "Confusion matrix:\n",
      "[[36  0  0  4]\n",
      " [ 3 20 13  9]\n",
      " [ 3  5 23  6]\n",
      " [ 1  3  5 30]]\n",
      "\n",
      "--------------------------------------------------------------------------------\n"
     ]
    }
   ],
   "source": [
    "print('Performing grid search with cross-validation...')\n",
    "print('=' * 80)\n",
    "print()\n",
    "best_estimators = []\n",
    "for name, clf, parameters in classifiers:\n",
    "    pipeline = Pipeline([\n",
    "        ('vect', CountVectorizer()),\n",
    "        ('tfidf', TfidfTransformer()),\n",
    "        ('clf', clf()),\n",
    "    ])\n",
    "    grid_search_cv = GridSearchCV(pipeline, parameters, cv=skf, scoring='f1_weighted', error_score=0, n_jobs=-1)\n",
    "    best_estimators.append(benchmark(grid_search_cv, X_train, X_test, y_train, y_test, name))\n",
    "    print('-' * 80)"
   ]
  },
  {
   "cell_type": "code",
   "execution_count": 116,
   "metadata": {
    "collapsed": false
   },
   "outputs": [],
   "source": [
    "with open('data/super_best_estimators.pickle', 'wb') as f:\n",
    "    pickle.dump(best_estimators, f)"
   ]
  },
  {
   "cell_type": "markdown",
   "metadata": {},
   "source": [
    "## Types of ingredients, representative techniques"
   ]
  },
  {
   "cell_type": "code",
   "execution_count": 117,
   "metadata": {
    "collapsed": false
   },
   "outputs": [],
   "source": [
    "X = types_text_df['text']\n",
    "y = types_text_df['creativity']"
   ]
  },
  {
   "cell_type": "code",
   "execution_count": 118,
   "metadata": {
    "collapsed": false
   },
   "outputs": [
    {
     "data": {
      "text/plain": [
       "0     404\n",
       "10    454\n",
       "20    371\n",
       "30    389\n",
       "Name: creativity, dtype: int64"
      ]
     },
     "execution_count": 118,
     "metadata": {},
     "output_type": "execute_result"
    }
   ],
   "source": [
    "y.value_counts().sort_index()"
   ]
  },
  {
   "cell_type": "code",
   "execution_count": 119,
   "metadata": {
    "collapsed": false
   },
   "outputs": [],
   "source": [
    "X_train, X_test, y_train, y_test = train_test_split(X, y, test_size=0.1, random_state=0, stratify=y)"
   ]
  },
  {
   "cell_type": "code",
   "execution_count": 120,
   "metadata": {
    "collapsed": true
   },
   "outputs": [],
   "source": [
    "skf = StratifiedKFold(y_train, K)"
   ]
  },
  {
   "cell_type": "code",
   "execution_count": 121,
   "metadata": {
    "collapsed": false
   },
   "outputs": [
    {
     "name": "stdout",
     "output_type": "stream",
     "text": [
      "Performing grid search with cross-validation...\n",
      "================================================================================\n",
      "\n",
      "Training BernoulliNB...\n",
      "Training time: 0.328s\n",
      "\n",
      "Best score: 0.65\n",
      "Best parameters: {}\n",
      "\n",
      "Testing BernoulliNB...\n",
      "Testing time:  0.005s\n",
      "\n",
      "Metrics:\n",
      "accuracy  = 0.6\n",
      "precision = 0.58\n",
      "recall    = 0.6\n",
      "f1_score  = 0.58\n",
      "\n",
      "Classification report:\n",
      "             precision    recall  f1-score   support\n",
      "\n",
      "       None       0.81      0.97      0.89        40\n",
      "        Low       0.50      0.44      0.47        45\n",
      "     Medium       0.43      0.35      0.39        37\n",
      "       High       0.56      0.62      0.59        39\n",
      "\n",
      "avg / total       0.58      0.60      0.58       161\n",
      "\n",
      "\n",
      "Confusion matrix:\n",
      "[[39  0  0  1]\n",
      " [ 5 20 11  9]\n",
      " [ 4 11 13  9]\n",
      " [ 0  9  6 24]]\n",
      "\n",
      "--------------------------------------------------------------------------------\n"
     ]
    }
   ],
   "source": [
    "print('Performing grid search with cross-validation...')\n",
    "print('=' * 80)\n",
    "print()\n",
    "best_estimators = []\n",
    "for name, clf, parameters in classifiers:\n",
    "    pipeline = Pipeline([\n",
    "        ('vect', CountVectorizer()),\n",
    "        ('tfidf', TfidfTransformer()),\n",
    "        ('clf', clf()),\n",
    "    ])\n",
    "    grid_search_cv = GridSearchCV(pipeline, parameters, cv=skf, scoring='f1_weighted', error_score=0, n_jobs=-1)\n",
    "    best_estimators.append(benchmark(grid_search_cv, X_train, X_test, y_train, y_test, name))\n",
    "    print('-' * 80)"
   ]
  },
  {
   "cell_type": "code",
   "execution_count": 122,
   "metadata": {
    "collapsed": false
   },
   "outputs": [],
   "source": [
    "with open('data/types_best_estimators.pickle', 'wb') as f:\n",
    "    pickle.dump(best_estimators, f)"
   ]
  },
  {
   "cell_type": "markdown",
   "metadata": {},
   "source": [
    "## Cuisines of ingredients, representative techniques"
   ]
  },
  {
   "cell_type": "code",
   "execution_count": 123,
   "metadata": {
    "collapsed": true
   },
   "outputs": [],
   "source": [
    "X = cuis_text_df['text']\n",
    "y = cuis_text_df['creativity']"
   ]
  },
  {
   "cell_type": "code",
   "execution_count": 124,
   "metadata": {
    "collapsed": false
   },
   "outputs": [
    {
     "data": {
      "text/plain": [
       "0     404\n",
       "10    454\n",
       "20    371\n",
       "30    389\n",
       "Name: creativity, dtype: int64"
      ]
     },
     "execution_count": 124,
     "metadata": {},
     "output_type": "execute_result"
    }
   ],
   "source": [
    "y.value_counts().sort_index()"
   ]
  },
  {
   "cell_type": "code",
   "execution_count": 125,
   "metadata": {
    "collapsed": false
   },
   "outputs": [],
   "source": [
    "X_train, X_test, y_train, y_test = train_test_split(X, y, test_size=0.1, random_state=0, stratify=y)"
   ]
  },
  {
   "cell_type": "code",
   "execution_count": 126,
   "metadata": {
    "collapsed": true
   },
   "outputs": [],
   "source": [
    "skf = StratifiedKFold(y_train, K)"
   ]
  },
  {
   "cell_type": "code",
   "execution_count": 127,
   "metadata": {
    "collapsed": false
   },
   "outputs": [
    {
     "name": "stdout",
     "output_type": "stream",
     "text": [
      "Performing grid search with cross-validation...\n",
      "================================================================================\n",
      "\n",
      "Training BernoulliNB...\n",
      "Training time: 0.325s\n",
      "\n",
      "Best score: 0.61\n",
      "Best parameters: {}\n",
      "\n",
      "Testing BernoulliNB...\n",
      "Testing time:  0.004s\n",
      "\n",
      "Metrics:\n",
      "accuracy  = 0.52\n",
      "precision = 0.49\n",
      "recall    = 0.52\n",
      "f1_score  = 0.5\n",
      "\n",
      "Classification report:\n",
      "             precision    recall  f1-score   support\n",
      "\n",
      "       None       0.66      0.88      0.75        40\n",
      "        Low       0.47      0.42      0.45        45\n",
      "     Medium       0.32      0.22      0.26        37\n",
      "       High       0.49      0.54      0.51        39\n",
      "\n",
      "avg / total       0.49      0.52      0.50       161\n",
      "\n",
      "\n",
      "Confusion matrix:\n",
      "[[35  0  2  3]\n",
      " [ 7 19 11  8]\n",
      " [ 7 11  8 11]\n",
      " [ 4 10  4 21]]\n",
      "\n",
      "--------------------------------------------------------------------------------\n"
     ]
    }
   ],
   "source": [
    "print('Performing grid search with cross-validation...')\n",
    "print('=' * 80)\n",
    "print()\n",
    "best_estimators = []\n",
    "for name, clf, parameters in classifiers:\n",
    "    pipeline = Pipeline([\n",
    "        ('vect', CountVectorizer()),\n",
    "        ('tfidf', TfidfTransformer()),\n",
    "        ('clf', clf()),\n",
    "    ])\n",
    "    grid_search_cv = GridSearchCV(pipeline, parameters, cv=skf, scoring='f1_weighted', error_score=0, n_jobs=-1)\n",
    "    best_estimators.append(benchmark(grid_search_cv, X_train, X_test, y_train, y_test, name))\n",
    "    print('-' * 80)"
   ]
  },
  {
   "cell_type": "code",
   "execution_count": 128,
   "metadata": {
    "collapsed": false
   },
   "outputs": [],
   "source": [
    "with open('data/cuis_best_estimators.pickle', 'wb') as f:\n",
    "    pickle.dump(best_estimators, f)"
   ]
  },
  {
   "cell_type": "code",
   "execution_count": null,
   "metadata": {
    "collapsed": true
   },
   "outputs": [],
   "source": []
  },
  {
   "cell_type": "code",
   "execution_count": null,
   "metadata": {
    "collapsed": true
   },
   "outputs": [],
   "source": []
  },
  {
   "cell_type": "code",
   "execution_count": 129,
   "metadata": {
    "collapsed": false
   },
   "outputs": [],
   "source": [
    "# # split a training set and a test set\n",
    "# y_train = y_data\n",
    "# y_test = y_val\n",
    "\n",
    "# vectorizer = TfidfVectorizer(sublinear_tf=True, max_df=0.5)\n",
    "\n",
    "# print(\"Extracting features from the training data using a sparse vectorizer\")\n",
    "# X_train = vectorizer.fit_transform(X_data)\n",
    "# print(\"n_samples: %d, n_features: %d\" % X_train.shape)\n",
    "# print()\n",
    "\n",
    "# print(\"Extracting features from the test data using the same vectorizer\")\n",
    "# X_test = vectorizer.transform(X_data)\n",
    "# print(\"n_samples: %d, n_features: %d\" % X_test.shape)\n",
    "# print()"
   ]
  },
  {
   "cell_type": "code",
   "execution_count": 130,
   "metadata": {
    "collapsed": false
   },
   "outputs": [],
   "source": [
    "# # mapping from integer feature name to original token string\n",
    "# feature_names = vectorizer.get_feature_names()\n",
    "# opts_select_chi2 = 50\n",
    "\n",
    "# print(\"Extracting %d best features by a chi-squared test\" %\n",
    "#       opts_select_chi2)\n",
    "# ch2 = SelectKBest(chi2, k=opts_select_chi2)\n",
    "# X_train = ch2.fit_transform(X_train, y_train)\n",
    "# X_test = ch2.transform(X_test)\n",
    "# if feature_names:\n",
    "#     # keep selected feature names\n",
    "#     feature_names = [feature_names[i] for i\n",
    "#                      in ch2.get_support(indices=True)]\n",
    "# print()\n",
    "\n",
    "# feature_names = np.asarray(feature_names)"
   ]
  },
  {
   "cell_type": "code",
   "execution_count": 131,
   "metadata": {
    "collapsed": false
   },
   "outputs": [],
   "source": [
    "# feature_names"
   ]
  },
  {
   "cell_type": "code",
   "execution_count": null,
   "metadata": {
    "collapsed": true
   },
   "outputs": [],
   "source": []
  },
  {
   "cell_type": "code",
   "execution_count": null,
   "metadata": {
    "collapsed": true
   },
   "outputs": [],
   "source": []
  },
  {
   "cell_type": "code",
   "execution_count": null,
   "metadata": {
    "collapsed": true
   },
   "outputs": [],
   "source": []
  }
 ],
 "metadata": {
  "kernelspec": {
   "display_name": "Python 3",
   "language": "python",
   "name": "python3"
  },
  "language_info": {
   "codemirror_mode": {
    "name": "ipython",
    "version": 3
   },
   "file_extension": ".py",
   "mimetype": "text/x-python",
   "name": "python",
   "nbconvert_exporter": "python",
   "pygments_lexer": "ipython3",
   "version": "3.4.3"
  }
 },
 "nbformat": 4,
 "nbformat_minor": 0
}
