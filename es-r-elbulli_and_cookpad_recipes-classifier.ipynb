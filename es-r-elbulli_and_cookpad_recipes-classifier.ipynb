{
 "cells": [
  {
   "cell_type": "code",
   "execution_count": 1,
   "metadata": {
    "collapsed": false
   },
   "outputs": [],
   "source": [
    "import json\n",
    "from random import randint\n",
    "from time import time\n",
    "\n",
    "import networkx as nx\n",
    "import nltk\n",
    "import numpy as np\n",
    "import pandas as pd\n",
    "from sklearn import metrics\n",
    "from sklearn.cross_validation import StratifiedKFold\n",
    "from sklearn.ensemble import RandomForestClassifier\n",
    "from sklearn.feature_extraction.text import CountVectorizer, TfidfTransformer\n",
    "from sklearn.feature_selection import SelectKBest, chi2\n",
    "from sklearn.grid_search import GridSearchCV\n",
    "from sklearn.linear_model import PassiveAggressiveClassifier, Perceptron, RidgeClassifier, SGDClassifier\n",
    "from sklearn.naive_bayes import BernoulliNB, MultinomialNB\n",
    "from sklearn.neighbors import KNeighborsClassifier, NearestCentroid\n",
    "from sklearn.pipeline import Pipeline\n",
    "from sklearn.svm import LinearSVC\n",
    "# Classifiers obtained from http://scikit-learn.org/stable/auto_examples/text/document_classification_20newsgroups.html"
   ]
  },
  {
   "cell_type": "markdown",
   "metadata": {
    "collapsed": true
   },
   "source": [
    "# Original data"
   ]
  },
  {
   "cell_type": "markdown",
   "metadata": {},
   "source": [
    "## Preparing sets' sizes"
   ]
  },
  {
   "cell_type": "code",
   "execution_count": 2,
   "metadata": {
    "collapsed": true
   },
   "outputs": [],
   "source": [
    "elbulli_raw_recipes_df = pd.read_csv('data/dbs/recipes_elbulli_raw.csv')"
   ]
  },
  {
   "cell_type": "code",
   "execution_count": 3,
   "metadata": {
    "collapsed": true
   },
   "outputs": [],
   "source": [
    "elbulli_raw_recipes_df['creativity'] = elbulli_raw_recipes_df.apply(\n",
    "    lambda x: 10 if 1987 <= x['year'] <= 1997 else \\\n",
    "              20 if 1998 <= x['year'] <= 2001 else \\\n",
    "              30 if 2002 <= x['year'] <= 2005 else \\\n",
    "              'UNKOWN', axis=1)"
   ]
  },
  {
   "cell_type": "code",
   "execution_count": 4,
   "metadata": {
    "collapsed": false
   },
   "outputs": [
    {
     "data": {
      "text/plain": [
       "10    454\n",
       "30    389\n",
       "20    371\n",
       "Name: creativity, dtype: int64"
      ]
     },
     "execution_count": 4,
     "metadata": {},
     "output_type": "execute_result"
    }
   ],
   "source": [
    "elbulli_raw_recipes_df['creativity'].value_counts()"
   ]
  },
  {
   "cell_type": "code",
   "execution_count": 5,
   "metadata": {
    "collapsed": false
   },
   "outputs": [],
   "source": [
    "cookpad_size = int(np.average(elbulli_raw_recipes_df['creativity'].value_counts()))"
   ]
  },
  {
   "cell_type": "code",
   "execution_count": 6,
   "metadata": {
    "collapsed": false
   },
   "outputs": [
    {
     "data": {
      "text/plain": [
       "404"
      ]
     },
     "execution_count": 6,
     "metadata": {},
     "output_type": "execute_result"
    }
   ],
   "source": [
    "cookpad_size"
   ]
  },
  {
   "cell_type": "code",
   "execution_count": 7,
   "metadata": {
    "collapsed": false
   },
   "outputs": [],
   "source": [
    "cookpad_raw_recipes_df = pd.read_csv('data/dbs/recipes_cookpad_raw.csv')"
   ]
  },
  {
   "cell_type": "code",
   "execution_count": 8,
   "metadata": {
    "collapsed": false
   },
   "outputs": [],
   "source": [
    "cookpad_sample = cookpad_raw_recipes_df.sample(cookpad_size)"
   ]
  },
  {
   "cell_type": "code",
   "execution_count": 9,
   "metadata": {
    "collapsed": false
   },
   "outputs": [],
   "source": [
    "cookpad_indices = cookpad_sample.index.sort_values()"
   ]
  },
  {
   "cell_type": "code",
   "execution_count": 10,
   "metadata": {
    "collapsed": false
   },
   "outputs": [
    {
     "data": {
      "text/plain": [
       "Int64Index([  48,  102,  131,  157,  181,  194,  227,  228,  243,  247,\n",
       "            ...\n",
       "            7713, 7741, 7778, 7841, 7863, 7866, 7911, 7960, 7963, 7970],\n",
       "           dtype='int64', length=404)"
      ]
     },
     "execution_count": 10,
     "metadata": {},
     "output_type": "execute_result"
    }
   ],
   "source": [
    "cookpad_indices"
   ]
  },
  {
   "cell_type": "code",
   "execution_count": 11,
   "metadata": {
    "collapsed": true
   },
   "outputs": [],
   "source": [
    "def my_sample(df, indices=cookpad_indices):\n",
    "    return df.ix[indices]"
   ]
  },
  {
   "cell_type": "markdown",
   "metadata": {},
   "source": [
    "## Raw ingredients and techniques"
   ]
  },
  {
   "cell_type": "markdown",
   "metadata": {},
   "source": [
    "### elbulli"
   ]
  },
  {
   "cell_type": "code",
   "execution_count": 12,
   "metadata": {
    "collapsed": false
   },
   "outputs": [],
   "source": [
    "elbulli_raw_recipes_df = pd.read_csv('data/dbs/recipes_elbulli_raw.csv')"
   ]
  },
  {
   "cell_type": "code",
   "execution_count": 13,
   "metadata": {
    "collapsed": false
   },
   "outputs": [
    {
     "data": {
      "text/plain": [
       "(1214, 5)"
      ]
     },
     "execution_count": 13,
     "metadata": {},
     "output_type": "execute_result"
    }
   ],
   "source": [
    "elbulli_raw_recipes_df.shape"
   ]
  },
  {
   "cell_type": "code",
   "execution_count": 14,
   "metadata": {
    "collapsed": false
   },
   "outputs": [
    {
     "data": {
      "text/html": [
       "<div>\n",
       "<table border=\"1\" class=\"dataframe\">\n",
       "  <thead>\n",
       "    <tr style=\"text-align: right;\">\n",
       "      <th></th>\n",
       "      <th>_id</th>\n",
       "      <th>title</th>\n",
       "      <th>year</th>\n",
       "      <th>ingredients</th>\n",
       "      <th>techniques</th>\n",
       "    </tr>\n",
       "  </thead>\n",
       "  <tbody>\n",
       "    <tr>\n",
       "      <th>0</th>\n",
       "      <td>1</td>\n",
       "      <td>terrina de melón con gelée de oporto</td>\n",
       "      <td>1987</td>\n",
       "      <td>[\"oporto\",\"aceite de oliva\",\"agua\",\"pimienta b...</td>\n",
       "      <td>[\"agua\"]</td>\n",
       "    </tr>\n",
       "    <tr>\n",
       "      <th>1</th>\n",
       "      <td>10</td>\n",
       "      <td>salmonetes gaudí</td>\n",
       "      <td>1987</td>\n",
       "      <td>[\"sal\",\"pimiento\",\"pimiento rojo\",\"piñones tos...</td>\n",
       "      <td>[\"sal\",\"marcar\",\"cocción\",\"asado\",\"hirviendo\",...</td>\n",
       "    </tr>\n",
       "    <tr>\n",
       "      <th>2</th>\n",
       "      <td>100</td>\n",
       "      <td>oursins</td>\n",
       "      <td>1990</td>\n",
       "      <td>[\"chocolate\",\"claras de huevo\",\"avellanas tost...</td>\n",
       "      <td>[\"horno\",\"al horno\",\"secar\"]</td>\n",
       "    </tr>\n",
       "    <tr>\n",
       "      <th>3</th>\n",
       "      <td>1000</td>\n",
       "      <td>ravioli sférico de té con cubo helado de limón</td>\n",
       "      <td>2004</td>\n",
       "      <td>[\"zumo de limón\",\"limón\",\"alginato sódico\",\"ag...</td>\n",
       "      <td>[\"agua\",\"cocer\",\"fría\"]</td>\n",
       "    </tr>\n",
       "    <tr>\n",
       "      <th>4</th>\n",
       "      <td>1001</td>\n",
       "      <td>ceps en ámbar de su caldo</td>\n",
       "      <td>2004</td>\n",
       "      <td>[\"sal\",\"caldo de ceps\",\"carragenato kappa en p...</td>\n",
       "      <td>[\"sal\",\"asar\",\"cocer\",\"hervido\",\"confitar\",\"ca...</td>\n",
       "    </tr>\n",
       "  </tbody>\n",
       "</table>\n",
       "</div>"
      ],
      "text/plain": [
       "    _id                                           title  year  \\\n",
       "0     1            terrina de melón con gelée de oporto  1987   \n",
       "1    10                                salmonetes gaudí  1987   \n",
       "2   100                                         oursins  1990   \n",
       "3  1000  ravioli sférico de té con cubo helado de limón  2004   \n",
       "4  1001                       ceps en ámbar de su caldo  2004   \n",
       "\n",
       "                                         ingredients  \\\n",
       "0  [\"oporto\",\"aceite de oliva\",\"agua\",\"pimienta b...   \n",
       "1  [\"sal\",\"pimiento\",\"pimiento rojo\",\"piñones tos...   \n",
       "2  [\"chocolate\",\"claras de huevo\",\"avellanas tost...   \n",
       "3  [\"zumo de limón\",\"limón\",\"alginato sódico\",\"ag...   \n",
       "4  [\"sal\",\"caldo de ceps\",\"carragenato kappa en p...   \n",
       "\n",
       "                                          techniques  \n",
       "0                                           [\"agua\"]  \n",
       "1  [\"sal\",\"marcar\",\"cocción\",\"asado\",\"hirviendo\",...  \n",
       "2                       [\"horno\",\"al horno\",\"secar\"]  \n",
       "3                            [\"agua\",\"cocer\",\"fría\"]  \n",
       "4  [\"sal\",\"asar\",\"cocer\",\"hervido\",\"confitar\",\"ca...  "
      ]
     },
     "execution_count": 14,
     "metadata": {},
     "output_type": "execute_result"
    }
   ],
   "source": [
    "elbulli_raw_recipes_df.head()"
   ]
  },
  {
   "cell_type": "code",
   "execution_count": 15,
   "metadata": {
    "collapsed": false
   },
   "outputs": [],
   "source": [
    "elbulli_raw_recipes_df['ingredients'] = elbulli_raw_recipes_df.apply(lambda x: json.loads(x['ingredients']), axis=1)\n",
    "elbulli_raw_recipes_df['techniques'] = elbulli_raw_recipes_df.apply(lambda x: json.loads(x['techniques']), axis=1)"
   ]
  },
  {
   "cell_type": "code",
   "execution_count": 16,
   "metadata": {
    "collapsed": false
   },
   "outputs": [
    {
     "data": {
      "text/html": [
       "<div>\n",
       "<table border=\"1\" class=\"dataframe\">\n",
       "  <thead>\n",
       "    <tr style=\"text-align: right;\">\n",
       "      <th></th>\n",
       "      <th>_id</th>\n",
       "      <th>title</th>\n",
       "      <th>year</th>\n",
       "      <th>ingredients</th>\n",
       "      <th>techniques</th>\n",
       "    </tr>\n",
       "  </thead>\n",
       "  <tbody>\n",
       "    <tr>\n",
       "      <th>0</th>\n",
       "      <td>1</td>\n",
       "      <td>terrina de melón con gelée de oporto</td>\n",
       "      <td>1987</td>\n",
       "      <td>[oporto, aceite de oliva, agua, pimienta blanc...</td>\n",
       "      <td>[agua]</td>\n",
       "    </tr>\n",
       "    <tr>\n",
       "      <th>1</th>\n",
       "      <td>10</td>\n",
       "      <td>salmonetes gaudí</td>\n",
       "      <td>1987</td>\n",
       "      <td>[sal, pimiento, pimiento rojo, piñones tostado...</td>\n",
       "      <td>[sal, marcar, cocción, asado, hirviendo, horno...</td>\n",
       "    </tr>\n",
       "    <tr>\n",
       "      <th>2</th>\n",
       "      <td>100</td>\n",
       "      <td>oursins</td>\n",
       "      <td>1990</td>\n",
       "      <td>[chocolate, claras de huevo, avellanas tostada...</td>\n",
       "      <td>[horno, al horno, secar]</td>\n",
       "    </tr>\n",
       "    <tr>\n",
       "      <th>3</th>\n",
       "      <td>1000</td>\n",
       "      <td>ravioli sférico de té con cubo helado de limón</td>\n",
       "      <td>2004</td>\n",
       "      <td>[zumo de limón, limón, alginato sódico, agua, ...</td>\n",
       "      <td>[agua, cocer, fría]</td>\n",
       "    </tr>\n",
       "    <tr>\n",
       "      <th>4</th>\n",
       "      <td>1001</td>\n",
       "      <td>ceps en ámbar de su caldo</td>\n",
       "      <td>2004</td>\n",
       "      <td>[sal, caldo de ceps, carragenato kappa en polv...</td>\n",
       "      <td>[sal, asar, cocer, hervido, confitar, cazuela,...</td>\n",
       "    </tr>\n",
       "  </tbody>\n",
       "</table>\n",
       "</div>"
      ],
      "text/plain": [
       "    _id                                           title  year  \\\n",
       "0     1            terrina de melón con gelée de oporto  1987   \n",
       "1    10                                salmonetes gaudí  1987   \n",
       "2   100                                         oursins  1990   \n",
       "3  1000  ravioli sférico de té con cubo helado de limón  2004   \n",
       "4  1001                       ceps en ámbar de su caldo  2004   \n",
       "\n",
       "                                         ingredients  \\\n",
       "0  [oporto, aceite de oliva, agua, pimienta blanc...   \n",
       "1  [sal, pimiento, pimiento rojo, piñones tostado...   \n",
       "2  [chocolate, claras de huevo, avellanas tostada...   \n",
       "3  [zumo de limón, limón, alginato sódico, agua, ...   \n",
       "4  [sal, caldo de ceps, carragenato kappa en polv...   \n",
       "\n",
       "                                          techniques  \n",
       "0                                             [agua]  \n",
       "1  [sal, marcar, cocción, asado, hirviendo, horno...  \n",
       "2                           [horno, al horno, secar]  \n",
       "3                                [agua, cocer, fría]  \n",
       "4  [sal, asar, cocer, hervido, confitar, cazuela,...  "
      ]
     },
     "execution_count": 16,
     "metadata": {},
     "output_type": "execute_result"
    }
   ],
   "source": [
    "elbulli_raw_recipes_df.head()"
   ]
  },
  {
   "cell_type": "code",
   "execution_count": 17,
   "metadata": {
    "collapsed": true
   },
   "outputs": [],
   "source": [
    "elbulli_raw_recipes_df['creativity'] = elbulli_raw_recipes_df.apply(\n",
    "    lambda x: 10 if 1987 <= x['year'] <= 1997 else \\\n",
    "              20 if 1998 <= x['year'] <= 2001 else \\\n",
    "              30 if 2002 <= x['year'] <= 2005 else \\\n",
    "              'UNKOWN', axis=1)"
   ]
  },
  {
   "cell_type": "code",
   "execution_count": 18,
   "metadata": {
    "collapsed": false,
    "scrolled": true
   },
   "outputs": [
    {
     "data": {
      "text/html": [
       "<div>\n",
       "<table border=\"1\" class=\"dataframe\">\n",
       "  <thead>\n",
       "    <tr style=\"text-align: right;\">\n",
       "      <th></th>\n",
       "      <th>_id</th>\n",
       "      <th>title</th>\n",
       "      <th>year</th>\n",
       "      <th>ingredients</th>\n",
       "      <th>techniques</th>\n",
       "      <th>creativity</th>\n",
       "    </tr>\n",
       "  </thead>\n",
       "  <tbody>\n",
       "    <tr>\n",
       "      <th>0</th>\n",
       "      <td>1</td>\n",
       "      <td>terrina de melón con gelée de oporto</td>\n",
       "      <td>1987</td>\n",
       "      <td>[oporto, aceite de oliva, agua, pimienta blanc...</td>\n",
       "      <td>[agua]</td>\n",
       "      <td>10</td>\n",
       "    </tr>\n",
       "    <tr>\n",
       "      <th>1</th>\n",
       "      <td>10</td>\n",
       "      <td>salmonetes gaudí</td>\n",
       "      <td>1987</td>\n",
       "      <td>[sal, pimiento, pimiento rojo, piñones tostado...</td>\n",
       "      <td>[sal, marcar, cocción, asado, hirviendo, horno...</td>\n",
       "      <td>10</td>\n",
       "    </tr>\n",
       "    <tr>\n",
       "      <th>2</th>\n",
       "      <td>100</td>\n",
       "      <td>oursins</td>\n",
       "      <td>1990</td>\n",
       "      <td>[chocolate, claras de huevo, avellanas tostada...</td>\n",
       "      <td>[horno, al horno, secar]</td>\n",
       "      <td>10</td>\n",
       "    </tr>\n",
       "    <tr>\n",
       "      <th>3</th>\n",
       "      <td>1000</td>\n",
       "      <td>ravioli sférico de té con cubo helado de limón</td>\n",
       "      <td>2004</td>\n",
       "      <td>[zumo de limón, limón, alginato sódico, agua, ...</td>\n",
       "      <td>[agua, cocer, fría]</td>\n",
       "      <td>30</td>\n",
       "    </tr>\n",
       "    <tr>\n",
       "      <th>4</th>\n",
       "      <td>1001</td>\n",
       "      <td>ceps en ámbar de su caldo</td>\n",
       "      <td>2004</td>\n",
       "      <td>[sal, caldo de ceps, carragenato kappa en polv...</td>\n",
       "      <td>[sal, asar, cocer, hervido, confitar, cazuela,...</td>\n",
       "      <td>30</td>\n",
       "    </tr>\n",
       "  </tbody>\n",
       "</table>\n",
       "</div>"
      ],
      "text/plain": [
       "    _id                                           title  year  \\\n",
       "0     1            terrina de melón con gelée de oporto  1987   \n",
       "1    10                                salmonetes gaudí  1987   \n",
       "2   100                                         oursins  1990   \n",
       "3  1000  ravioli sférico de té con cubo helado de limón  2004   \n",
       "4  1001                       ceps en ámbar de su caldo  2004   \n",
       "\n",
       "                                         ingredients  \\\n",
       "0  [oporto, aceite de oliva, agua, pimienta blanc...   \n",
       "1  [sal, pimiento, pimiento rojo, piñones tostado...   \n",
       "2  [chocolate, claras de huevo, avellanas tostada...   \n",
       "3  [zumo de limón, limón, alginato sódico, agua, ...   \n",
       "4  [sal, caldo de ceps, carragenato kappa en polv...   \n",
       "\n",
       "                                          techniques  creativity  \n",
       "0                                             [agua]          10  \n",
       "1  [sal, marcar, cocción, asado, hirviendo, horno...          10  \n",
       "2                           [horno, al horno, secar]          10  \n",
       "3                                [agua, cocer, fría]          30  \n",
       "4  [sal, asar, cocer, hervido, confitar, cazuela,...          30  "
      ]
     },
     "execution_count": 18,
     "metadata": {},
     "output_type": "execute_result"
    }
   ],
   "source": [
    "elbulli_raw_recipes_df.head()"
   ]
  },
  {
   "cell_type": "markdown",
   "metadata": {},
   "source": [
    "### cookpad"
   ]
  },
  {
   "cell_type": "code",
   "execution_count": 19,
   "metadata": {
    "collapsed": false
   },
   "outputs": [],
   "source": [
    "cookpad_raw_recipes_df = pd.read_csv('data/dbs/recipes_cookpad_raw.csv')\n",
    "cookpad_raw_recipes_df = my_sample(cookpad_raw_recipes_df)"
   ]
  },
  {
   "cell_type": "code",
   "execution_count": 20,
   "metadata": {
    "collapsed": false
   },
   "outputs": [
    {
     "data": {
      "text/plain": [
       "(404, 5)"
      ]
     },
     "execution_count": 20,
     "metadata": {},
     "output_type": "execute_result"
    }
   ],
   "source": [
    "cookpad_raw_recipes_df.shape"
   ]
  },
  {
   "cell_type": "code",
   "execution_count": 21,
   "metadata": {
    "collapsed": false
   },
   "outputs": [
    {
     "data": {
      "text/html": [
       "<div>\n",
       "<table border=\"1\" class=\"dataframe\">\n",
       "  <thead>\n",
       "    <tr style=\"text-align: right;\">\n",
       "      <th></th>\n",
       "      <th>_id</th>\n",
       "      <th>title</th>\n",
       "      <th>year</th>\n",
       "      <th>ingredients</th>\n",
       "      <th>techniques</th>\n",
       "    </tr>\n",
       "  </thead>\n",
       "  <tbody>\n",
       "    <tr>\n",
       "      <th>48</th>\n",
       "      <td>100571</td>\n",
       "      <td>pastel de fiambre</td>\n",
       "      <td>2009</td>\n",
       "      <td>[\"tomate\",\"tocino\",\"lechugas\",\"vino\",\"mantequi...</td>\n",
       "      <td>[\"al horno\",\"sal\",\"baño maría\"]</td>\n",
       "    </tr>\n",
       "    <tr>\n",
       "      <th>102</th>\n",
       "      <td>101608</td>\n",
       "      <td>ensalada de verano con patatas</td>\n",
       "      <td>2010</td>\n",
       "      <td>[\"naranjas\",\"orégano\",\"vinagre de modena\",\"oli...</td>\n",
       "      <td>[\"sal\",\"agua\",\"cocer\"]</td>\n",
       "    </tr>\n",
       "    <tr>\n",
       "      <th>131</th>\n",
       "      <td>102187</td>\n",
       "      <td>torta de pan con sardinas de bota</td>\n",
       "      <td>2009</td>\n",
       "      <td>[\"pan\",\"aceite de oliva virgen extra\",\"sardinas\"]</td>\n",
       "      <td>[\"fria\",\"cocer\",\"horno\"]</td>\n",
       "    </tr>\n",
       "    <tr>\n",
       "      <th>157</th>\n",
       "      <td>102249</td>\n",
       "      <td>setas revueltas con gulas</td>\n",
       "      <td>2009</td>\n",
       "      <td>[\"aceite de oliva virgen\",\"gulas\",\"ajo\",\"huevo...</td>\n",
       "      <td>[\"sartén\",\"frito\"]</td>\n",
       "    </tr>\n",
       "    <tr>\n",
       "      <th>181</th>\n",
       "      <td>102280</td>\n",
       "      <td>helado de limón con yogur</td>\n",
       "      <td>2009</td>\n",
       "      <td>[\"zumo\",\"azúcar\",\"yogures\"]</td>\n",
       "      <td>[\"secamos\"]</td>\n",
       "    </tr>\n",
       "  </tbody>\n",
       "</table>\n",
       "</div>"
      ],
      "text/plain": [
       "        _id                              title  year  \\\n",
       "48   100571                  pastel de fiambre  2009   \n",
       "102  101608     ensalada de verano con patatas  2010   \n",
       "131  102187  torta de pan con sardinas de bota  2009   \n",
       "157  102249          setas revueltas con gulas  2009   \n",
       "181  102280          helado de limón con yogur  2009   \n",
       "\n",
       "                                           ingredients  \\\n",
       "48   [\"tomate\",\"tocino\",\"lechugas\",\"vino\",\"mantequi...   \n",
       "102  [\"naranjas\",\"orégano\",\"vinagre de modena\",\"oli...   \n",
       "131  [\"pan\",\"aceite de oliva virgen extra\",\"sardinas\"]   \n",
       "157  [\"aceite de oliva virgen\",\"gulas\",\"ajo\",\"huevo...   \n",
       "181                        [\"zumo\",\"azúcar\",\"yogures\"]   \n",
       "\n",
       "                          techniques  \n",
       "48   [\"al horno\",\"sal\",\"baño maría\"]  \n",
       "102           [\"sal\",\"agua\",\"cocer\"]  \n",
       "131         [\"fria\",\"cocer\",\"horno\"]  \n",
       "157               [\"sartén\",\"frito\"]  \n",
       "181                      [\"secamos\"]  "
      ]
     },
     "execution_count": 21,
     "metadata": {},
     "output_type": "execute_result"
    }
   ],
   "source": [
    "cookpad_raw_recipes_df.head()"
   ]
  },
  {
   "cell_type": "code",
   "execution_count": 22,
   "metadata": {
    "collapsed": false
   },
   "outputs": [],
   "source": [
    "cookpad_raw_recipes_df['ingredients'] = cookpad_raw_recipes_df.apply(lambda x: json.loads(x['ingredients']), axis=1)\n",
    "cookpad_raw_recipes_df['techniques'] = cookpad_raw_recipes_df.apply(lambda x: json.loads(x['techniques']), axis=1)"
   ]
  },
  {
   "cell_type": "code",
   "execution_count": 23,
   "metadata": {
    "collapsed": false
   },
   "outputs": [
    {
     "data": {
      "text/html": [
       "<div>\n",
       "<table border=\"1\" class=\"dataframe\">\n",
       "  <thead>\n",
       "    <tr style=\"text-align: right;\">\n",
       "      <th></th>\n",
       "      <th>_id</th>\n",
       "      <th>title</th>\n",
       "      <th>year</th>\n",
       "      <th>ingredients</th>\n",
       "      <th>techniques</th>\n",
       "    </tr>\n",
       "  </thead>\n",
       "  <tbody>\n",
       "    <tr>\n",
       "      <th>48</th>\n",
       "      <td>100571</td>\n",
       "      <td>pastel de fiambre</td>\n",
       "      <td>2009</td>\n",
       "      <td>[tomate, tocino, lechugas, vino, mantequilla, ...</td>\n",
       "      <td>[al horno, sal, baño maría]</td>\n",
       "    </tr>\n",
       "    <tr>\n",
       "      <th>102</th>\n",
       "      <td>101608</td>\n",
       "      <td>ensalada de verano con patatas</td>\n",
       "      <td>2010</td>\n",
       "      <td>[naranjas, orégano, vinagre de modena, olivas,...</td>\n",
       "      <td>[sal, agua, cocer]</td>\n",
       "    </tr>\n",
       "    <tr>\n",
       "      <th>131</th>\n",
       "      <td>102187</td>\n",
       "      <td>torta de pan con sardinas de bota</td>\n",
       "      <td>2009</td>\n",
       "      <td>[pan, aceite de oliva virgen extra, sardinas]</td>\n",
       "      <td>[fria, cocer, horno]</td>\n",
       "    </tr>\n",
       "    <tr>\n",
       "      <th>157</th>\n",
       "      <td>102249</td>\n",
       "      <td>setas revueltas con gulas</td>\n",
       "      <td>2009</td>\n",
       "      <td>[aceite de oliva virgen, gulas, ajo, huevos, s...</td>\n",
       "      <td>[sartén, frito]</td>\n",
       "    </tr>\n",
       "    <tr>\n",
       "      <th>181</th>\n",
       "      <td>102280</td>\n",
       "      <td>helado de limón con yogur</td>\n",
       "      <td>2009</td>\n",
       "      <td>[zumo, azúcar, yogures]</td>\n",
       "      <td>[secamos]</td>\n",
       "    </tr>\n",
       "  </tbody>\n",
       "</table>\n",
       "</div>"
      ],
      "text/plain": [
       "        _id                              title  year  \\\n",
       "48   100571                  pastel de fiambre  2009   \n",
       "102  101608     ensalada de verano con patatas  2010   \n",
       "131  102187  torta de pan con sardinas de bota  2009   \n",
       "157  102249          setas revueltas con gulas  2009   \n",
       "181  102280          helado de limón con yogur  2009   \n",
       "\n",
       "                                           ingredients  \\\n",
       "48   [tomate, tocino, lechugas, vino, mantequilla, ...   \n",
       "102  [naranjas, orégano, vinagre de modena, olivas,...   \n",
       "131      [pan, aceite de oliva virgen extra, sardinas]   \n",
       "157  [aceite de oliva virgen, gulas, ajo, huevos, s...   \n",
       "181                            [zumo, azúcar, yogures]   \n",
       "\n",
       "                      techniques  \n",
       "48   [al horno, sal, baño maría]  \n",
       "102           [sal, agua, cocer]  \n",
       "131         [fria, cocer, horno]  \n",
       "157              [sartén, frito]  \n",
       "181                    [secamos]  "
      ]
     },
     "execution_count": 23,
     "metadata": {},
     "output_type": "execute_result"
    }
   ],
   "source": [
    "cookpad_raw_recipes_df.head()"
   ]
  },
  {
   "cell_type": "code",
   "execution_count": 24,
   "metadata": {
    "collapsed": true
   },
   "outputs": [],
   "source": [
    "cookpad_raw_recipes_df['creativity'] = cookpad_raw_recipes_df.apply(\n",
    "    lambda x: 0, axis=1)"
   ]
  },
  {
   "cell_type": "code",
   "execution_count": 25,
   "metadata": {
    "collapsed": false,
    "scrolled": true
   },
   "outputs": [
    {
     "data": {
      "text/html": [
       "<div>\n",
       "<table border=\"1\" class=\"dataframe\">\n",
       "  <thead>\n",
       "    <tr style=\"text-align: right;\">\n",
       "      <th></th>\n",
       "      <th>_id</th>\n",
       "      <th>title</th>\n",
       "      <th>year</th>\n",
       "      <th>ingredients</th>\n",
       "      <th>techniques</th>\n",
       "      <th>creativity</th>\n",
       "    </tr>\n",
       "  </thead>\n",
       "  <tbody>\n",
       "    <tr>\n",
       "      <th>48</th>\n",
       "      <td>100571</td>\n",
       "      <td>pastel de fiambre</td>\n",
       "      <td>2009</td>\n",
       "      <td>[tomate, tocino, lechugas, vino, mantequilla, ...</td>\n",
       "      <td>[al horno, sal, baño maría]</td>\n",
       "      <td>0</td>\n",
       "    </tr>\n",
       "    <tr>\n",
       "      <th>102</th>\n",
       "      <td>101608</td>\n",
       "      <td>ensalada de verano con patatas</td>\n",
       "      <td>2010</td>\n",
       "      <td>[naranjas, orégano, vinagre de modena, olivas,...</td>\n",
       "      <td>[sal, agua, cocer]</td>\n",
       "      <td>0</td>\n",
       "    </tr>\n",
       "    <tr>\n",
       "      <th>131</th>\n",
       "      <td>102187</td>\n",
       "      <td>torta de pan con sardinas de bota</td>\n",
       "      <td>2009</td>\n",
       "      <td>[pan, aceite de oliva virgen extra, sardinas]</td>\n",
       "      <td>[fria, cocer, horno]</td>\n",
       "      <td>0</td>\n",
       "    </tr>\n",
       "    <tr>\n",
       "      <th>157</th>\n",
       "      <td>102249</td>\n",
       "      <td>setas revueltas con gulas</td>\n",
       "      <td>2009</td>\n",
       "      <td>[aceite de oliva virgen, gulas, ajo, huevos, s...</td>\n",
       "      <td>[sartén, frito]</td>\n",
       "      <td>0</td>\n",
       "    </tr>\n",
       "    <tr>\n",
       "      <th>181</th>\n",
       "      <td>102280</td>\n",
       "      <td>helado de limón con yogur</td>\n",
       "      <td>2009</td>\n",
       "      <td>[zumo, azúcar, yogures]</td>\n",
       "      <td>[secamos]</td>\n",
       "      <td>0</td>\n",
       "    </tr>\n",
       "  </tbody>\n",
       "</table>\n",
       "</div>"
      ],
      "text/plain": [
       "        _id                              title  year  \\\n",
       "48   100571                  pastel de fiambre  2009   \n",
       "102  101608     ensalada de verano con patatas  2010   \n",
       "131  102187  torta de pan con sardinas de bota  2009   \n",
       "157  102249          setas revueltas con gulas  2009   \n",
       "181  102280          helado de limón con yogur  2009   \n",
       "\n",
       "                                           ingredients  \\\n",
       "48   [tomate, tocino, lechugas, vino, mantequilla, ...   \n",
       "102  [naranjas, orégano, vinagre de modena, olivas,...   \n",
       "131      [pan, aceite de oliva virgen extra, sardinas]   \n",
       "157  [aceite de oliva virgen, gulas, ajo, huevos, s...   \n",
       "181                            [zumo, azúcar, yogures]   \n",
       "\n",
       "                      techniques  creativity  \n",
       "48   [al horno, sal, baño maría]           0  \n",
       "102           [sal, agua, cocer]           0  \n",
       "131         [fria, cocer, horno]           0  \n",
       "157              [sartén, frito]           0  \n",
       "181                    [secamos]           0  "
      ]
     },
     "execution_count": 25,
     "metadata": {},
     "output_type": "execute_result"
    }
   ],
   "source": [
    "cookpad_raw_recipes_df.head()"
   ]
  },
  {
   "cell_type": "markdown",
   "metadata": {},
   "source": [
    "### elbulli & cookpad"
   ]
  },
  {
   "cell_type": "code",
   "execution_count": 26,
   "metadata": {
    "collapsed": true
   },
   "outputs": [],
   "source": [
    "raw_recipes_df = elbulli_raw_recipes_df.append(cookpad_raw_recipes_df, ignore_index=True)"
   ]
  },
  {
   "cell_type": "code",
   "execution_count": 27,
   "metadata": {
    "collapsed": false,
    "scrolled": true
   },
   "outputs": [
    {
     "data": {
      "text/html": [
       "<div>\n",
       "<table border=\"1\" class=\"dataframe\">\n",
       "  <thead>\n",
       "    <tr style=\"text-align: right;\">\n",
       "      <th></th>\n",
       "      <th>_id</th>\n",
       "      <th>title</th>\n",
       "      <th>year</th>\n",
       "      <th>ingredients</th>\n",
       "      <th>techniques</th>\n",
       "      <th>creativity</th>\n",
       "    </tr>\n",
       "  </thead>\n",
       "  <tbody>\n",
       "    <tr>\n",
       "      <th>0</th>\n",
       "      <td>1</td>\n",
       "      <td>terrina de melón con gelée de oporto</td>\n",
       "      <td>1987</td>\n",
       "      <td>[oporto, aceite de oliva, agua, pimienta blanc...</td>\n",
       "      <td>[agua]</td>\n",
       "      <td>10</td>\n",
       "    </tr>\n",
       "    <tr>\n",
       "      <th>1</th>\n",
       "      <td>10</td>\n",
       "      <td>salmonetes gaudí</td>\n",
       "      <td>1987</td>\n",
       "      <td>[sal, pimiento, pimiento rojo, piñones tostado...</td>\n",
       "      <td>[sal, marcar, cocción, asado, hirviendo, horno...</td>\n",
       "      <td>10</td>\n",
       "    </tr>\n",
       "    <tr>\n",
       "      <th>2</th>\n",
       "      <td>100</td>\n",
       "      <td>oursins</td>\n",
       "      <td>1990</td>\n",
       "      <td>[chocolate, claras de huevo, avellanas tostada...</td>\n",
       "      <td>[horno, al horno, secar]</td>\n",
       "      <td>10</td>\n",
       "    </tr>\n",
       "    <tr>\n",
       "      <th>3</th>\n",
       "      <td>1000</td>\n",
       "      <td>ravioli sférico de té con cubo helado de limón</td>\n",
       "      <td>2004</td>\n",
       "      <td>[zumo de limón, limón, alginato sódico, agua, ...</td>\n",
       "      <td>[agua, cocer, fría]</td>\n",
       "      <td>30</td>\n",
       "    </tr>\n",
       "    <tr>\n",
       "      <th>4</th>\n",
       "      <td>1001</td>\n",
       "      <td>ceps en ámbar de su caldo</td>\n",
       "      <td>2004</td>\n",
       "      <td>[sal, caldo de ceps, carragenato kappa en polv...</td>\n",
       "      <td>[sal, asar, cocer, hervido, confitar, cazuela,...</td>\n",
       "      <td>30</td>\n",
       "    </tr>\n",
       "  </tbody>\n",
       "</table>\n",
       "</div>"
      ],
      "text/plain": [
       "    _id                                           title  year  \\\n",
       "0     1            terrina de melón con gelée de oporto  1987   \n",
       "1    10                                salmonetes gaudí  1987   \n",
       "2   100                                         oursins  1990   \n",
       "3  1000  ravioli sférico de té con cubo helado de limón  2004   \n",
       "4  1001                       ceps en ámbar de su caldo  2004   \n",
       "\n",
       "                                         ingredients  \\\n",
       "0  [oporto, aceite de oliva, agua, pimienta blanc...   \n",
       "1  [sal, pimiento, pimiento rojo, piñones tostado...   \n",
       "2  [chocolate, claras de huevo, avellanas tostada...   \n",
       "3  [zumo de limón, limón, alginato sódico, agua, ...   \n",
       "4  [sal, caldo de ceps, carragenato kappa en polv...   \n",
       "\n",
       "                                          techniques  creativity  \n",
       "0                                             [agua]          10  \n",
       "1  [sal, marcar, cocción, asado, hirviendo, horno...          10  \n",
       "2                           [horno, al horno, secar]          10  \n",
       "3                                [agua, cocer, fría]          30  \n",
       "4  [sal, asar, cocer, hervido, confitar, cazuela,...          30  "
      ]
     },
     "execution_count": 27,
     "metadata": {},
     "output_type": "execute_result"
    }
   ],
   "source": [
    "raw_recipes_df.head()"
   ]
  },
  {
   "cell_type": "code",
   "execution_count": 28,
   "metadata": {
    "collapsed": false
   },
   "outputs": [
    {
     "data": {
      "text/html": [
       "<div>\n",
       "<table border=\"1\" class=\"dataframe\">\n",
       "  <thead>\n",
       "    <tr style=\"text-align: right;\">\n",
       "      <th></th>\n",
       "      <th>_id</th>\n",
       "      <th>title</th>\n",
       "      <th>year</th>\n",
       "      <th>ingredients</th>\n",
       "      <th>techniques</th>\n",
       "      <th>creativity</th>\n",
       "    </tr>\n",
       "  </thead>\n",
       "  <tbody>\n",
       "    <tr>\n",
       "      <th>1613</th>\n",
       "      <td>99269</td>\n",
       "      <td>pollo salteado con setas</td>\n",
       "      <td>2009</td>\n",
       "      <td>[pimentón, aceite de oliva, ajo, perejil, seta...</td>\n",
       "      <td>[freír, salar]</td>\n",
       "      <td>0</td>\n",
       "    </tr>\n",
       "    <tr>\n",
       "      <th>1614</th>\n",
       "      <td>99683</td>\n",
       "      <td>gazpaxo cordobés</td>\n",
       "      <td>2009</td>\n",
       "      <td>[tomates maduros, vinagre, aceite, ajo, pimien...</td>\n",
       "      <td>[sal, hirviendo, agua, cocer]</td>\n",
       "      <td>0</td>\n",
       "    </tr>\n",
       "    <tr>\n",
       "      <th>1615</th>\n",
       "      <td>99876</td>\n",
       "      <td>consomé de pollo</td>\n",
       "      <td>2009</td>\n",
       "      <td>[chalote, apio, puerros, zanahorias, pechugas ...</td>\n",
       "      <td>[espuma, a fuego lento, cocer, reducido, fría,...</td>\n",
       "      <td>0</td>\n",
       "    </tr>\n",
       "    <tr>\n",
       "      <th>1616</th>\n",
       "      <td>99954</td>\n",
       "      <td>pimientos asados en microondas</td>\n",
       "      <td>2009</td>\n",
       "      <td>[pimientos, aceite de oliva]</td>\n",
       "      <td>[crudo, microondas]</td>\n",
       "      <td>0</td>\n",
       "    </tr>\n",
       "    <tr>\n",
       "      <th>1617</th>\n",
       "      <td>99978</td>\n",
       "      <td>revuelto de espárragos con gambas</td>\n",
       "      <td>2009</td>\n",
       "      <td>[esparragos, aceite de oliva, huevos, ajo, gam...</td>\n",
       "      <td>[sal, dorar, sartén]</td>\n",
       "      <td>0</td>\n",
       "    </tr>\n",
       "  </tbody>\n",
       "</table>\n",
       "</div>"
      ],
      "text/plain": [
       "        _id                              title  year  \\\n",
       "1613  99269           pollo salteado con setas  2009   \n",
       "1614  99683                   gazpaxo cordobés  2009   \n",
       "1615  99876                   consomé de pollo  2009   \n",
       "1616  99954     pimientos asados en microondas  2009   \n",
       "1617  99978  revuelto de espárragos con gambas  2009   \n",
       "\n",
       "                                            ingredients  \\\n",
       "1613  [pimentón, aceite de oliva, ajo, perejil, seta...   \n",
       "1614  [tomates maduros, vinagre, aceite, ajo, pimien...   \n",
       "1615  [chalote, apio, puerros, zanahorias, pechugas ...   \n",
       "1616                       [pimientos, aceite de oliva]   \n",
       "1617  [esparragos, aceite de oliva, huevos, ajo, gam...   \n",
       "\n",
       "                                             techniques  creativity  \n",
       "1613                                     [freír, salar]           0  \n",
       "1614                      [sal, hirviendo, agua, cocer]           0  \n",
       "1615  [espuma, a fuego lento, cocer, reducido, fría,...           0  \n",
       "1616                                [crudo, microondas]           0  \n",
       "1617                               [sal, dorar, sartén]           0  "
      ]
     },
     "execution_count": 28,
     "metadata": {},
     "output_type": "execute_result"
    }
   ],
   "source": [
    "raw_recipes_df.tail()"
   ]
  },
  {
   "cell_type": "markdown",
   "metadata": {},
   "source": [
    "## Representative ingredients and techniques"
   ]
  },
  {
   "cell_type": "markdown",
   "metadata": {},
   "source": [
    "### elbulli"
   ]
  },
  {
   "cell_type": "code",
   "execution_count": 29,
   "metadata": {
    "collapsed": false
   },
   "outputs": [],
   "source": [
    "elbulli_repr_recipes_df = pd.read_csv('data/dbs/recipes_elbulli_representatives.csv')"
   ]
  },
  {
   "cell_type": "code",
   "execution_count": 30,
   "metadata": {
    "collapsed": false
   },
   "outputs": [
    {
     "data": {
      "text/plain": [
       "_id             int64\n",
       "title          object\n",
       "year            int64\n",
       "ingredients    object\n",
       "techniques     object\n",
       "dtype: object"
      ]
     },
     "execution_count": 30,
     "metadata": {},
     "output_type": "execute_result"
    }
   ],
   "source": [
    "elbulli_repr_recipes_df.dtypes"
   ]
  },
  {
   "cell_type": "code",
   "execution_count": 31,
   "metadata": {
    "collapsed": false
   },
   "outputs": [
    {
     "data": {
      "text/html": [
       "<div>\n",
       "<table border=\"1\" class=\"dataframe\">\n",
       "  <thead>\n",
       "    <tr style=\"text-align: right;\">\n",
       "      <th></th>\n",
       "      <th>_id</th>\n",
       "      <th>title</th>\n",
       "      <th>year</th>\n",
       "      <th>ingredients</th>\n",
       "      <th>techniques</th>\n",
       "    </tr>\n",
       "  </thead>\n",
       "  <tbody>\n",
       "    <tr>\n",
       "      <th>0</th>\n",
       "      <td>1</td>\n",
       "      <td>terrina de melón con gelée de oporto</td>\n",
       "      <td>1987</td>\n",
       "      <td>[\"oporto\",\"aceite de oliva\",\"agua\",\"pimienta b...</td>\n",
       "      <td>[\"agua\"]</td>\n",
       "    </tr>\n",
       "    <tr>\n",
       "      <th>1</th>\n",
       "      <td>10</td>\n",
       "      <td>salmonetes gaudí</td>\n",
       "      <td>1987</td>\n",
       "      <td>[\"sal\",\"pimientos\",\"pimiento rojo\",\"piñones to...</td>\n",
       "      <td>[\"sal\",\"marcar\",\"cocción\",\"horno\",\"hervir\",\"ho...</td>\n",
       "    </tr>\n",
       "    <tr>\n",
       "      <th>2</th>\n",
       "      <td>100</td>\n",
       "      <td>oursins</td>\n",
       "      <td>1990</td>\n",
       "      <td>[\"chocolate\",\"claras de huevo\",\"avellanas tost...</td>\n",
       "      <td>[\"horno\",\"horno\",\"secar\"]</td>\n",
       "    </tr>\n",
       "    <tr>\n",
       "      <th>3</th>\n",
       "      <td>1000</td>\n",
       "      <td>ravioli sférico de té con cubo helado de limón</td>\n",
       "      <td>2004</td>\n",
       "      <td>[\"zumo de limón\",\"limón\",\"alginato sódico\",\"ag...</td>\n",
       "      <td>[\"agua\",\"cocer\",\"horno\"]</td>\n",
       "    </tr>\n",
       "    <tr>\n",
       "      <th>4</th>\n",
       "      <td>1001</td>\n",
       "      <td>ceps en ámbar de su caldo</td>\n",
       "      <td>2004</td>\n",
       "      <td>[\"sal\",\"caldo de ceps\",\"carragenato kappa en p...</td>\n",
       "      <td>[\"sal\",\"horno\",\"cocer\",\"hervir\",\"confitar\",\"ca...</td>\n",
       "    </tr>\n",
       "  </tbody>\n",
       "</table>\n",
       "</div>"
      ],
      "text/plain": [
       "    _id                                           title  year  \\\n",
       "0     1            terrina de melón con gelée de oporto  1987   \n",
       "1    10                                salmonetes gaudí  1987   \n",
       "2   100                                         oursins  1990   \n",
       "3  1000  ravioli sférico de té con cubo helado de limón  2004   \n",
       "4  1001                       ceps en ámbar de su caldo  2004   \n",
       "\n",
       "                                         ingredients  \\\n",
       "0  [\"oporto\",\"aceite de oliva\",\"agua\",\"pimienta b...   \n",
       "1  [\"sal\",\"pimientos\",\"pimiento rojo\",\"piñones to...   \n",
       "2  [\"chocolate\",\"claras de huevo\",\"avellanas tost...   \n",
       "3  [\"zumo de limón\",\"limón\",\"alginato sódico\",\"ag...   \n",
       "4  [\"sal\",\"caldo de ceps\",\"carragenato kappa en p...   \n",
       "\n",
       "                                          techniques  \n",
       "0                                           [\"agua\"]  \n",
       "1  [\"sal\",\"marcar\",\"cocción\",\"horno\",\"hervir\",\"ho...  \n",
       "2                          [\"horno\",\"horno\",\"secar\"]  \n",
       "3                           [\"agua\",\"cocer\",\"horno\"]  \n",
       "4  [\"sal\",\"horno\",\"cocer\",\"hervir\",\"confitar\",\"ca...  "
      ]
     },
     "execution_count": 31,
     "metadata": {},
     "output_type": "execute_result"
    }
   ],
   "source": [
    "elbulli_repr_recipes_df.head()"
   ]
  },
  {
   "cell_type": "code",
   "execution_count": 32,
   "metadata": {
    "collapsed": false
   },
   "outputs": [],
   "source": [
    "elbulli_repr_recipes_df['ingredients'] = elbulli_repr_recipes_df.apply(lambda x: json.loads(x['ingredients']), axis=1)\n",
    "elbulli_repr_recipes_df['techniques'] = elbulli_repr_recipes_df.apply(lambda x: json.loads(x['techniques']), axis=1)"
   ]
  },
  {
   "cell_type": "code",
   "execution_count": 33,
   "metadata": {
    "collapsed": false
   },
   "outputs": [
    {
     "data": {
      "text/html": [
       "<div>\n",
       "<table border=\"1\" class=\"dataframe\">\n",
       "  <thead>\n",
       "    <tr style=\"text-align: right;\">\n",
       "      <th></th>\n",
       "      <th>_id</th>\n",
       "      <th>title</th>\n",
       "      <th>year</th>\n",
       "      <th>ingredients</th>\n",
       "      <th>techniques</th>\n",
       "    </tr>\n",
       "  </thead>\n",
       "  <tbody>\n",
       "    <tr>\n",
       "      <th>0</th>\n",
       "      <td>1</td>\n",
       "      <td>terrina de melón con gelée de oporto</td>\n",
       "      <td>1987</td>\n",
       "      <td>[oporto, aceite de oliva, agua, pimienta blanc...</td>\n",
       "      <td>[agua]</td>\n",
       "    </tr>\n",
       "    <tr>\n",
       "      <th>1</th>\n",
       "      <td>10</td>\n",
       "      <td>salmonetes gaudí</td>\n",
       "      <td>1987</td>\n",
       "      <td>[sal, pimientos, pimiento rojo, piñones tostad...</td>\n",
       "      <td>[sal, marcar, cocción, horno, hervir, horno, s...</td>\n",
       "    </tr>\n",
       "    <tr>\n",
       "      <th>2</th>\n",
       "      <td>100</td>\n",
       "      <td>oursins</td>\n",
       "      <td>1990</td>\n",
       "      <td>[chocolate, claras de huevo, avellanas tostada...</td>\n",
       "      <td>[horno, horno, secar]</td>\n",
       "    </tr>\n",
       "    <tr>\n",
       "      <th>3</th>\n",
       "      <td>1000</td>\n",
       "      <td>ravioli sférico de té con cubo helado de limón</td>\n",
       "      <td>2004</td>\n",
       "      <td>[zumo de limón, limón, alginato sódico, agua, ...</td>\n",
       "      <td>[agua, cocer, horno]</td>\n",
       "    </tr>\n",
       "    <tr>\n",
       "      <th>4</th>\n",
       "      <td>1001</td>\n",
       "      <td>ceps en ámbar de su caldo</td>\n",
       "      <td>2004</td>\n",
       "      <td>[sal, caldo de ceps, carragenato kappa en polv...</td>\n",
       "      <td>[sal, horno, cocer, hervir, confitar, cazuela,...</td>\n",
       "    </tr>\n",
       "  </tbody>\n",
       "</table>\n",
       "</div>"
      ],
      "text/plain": [
       "    _id                                           title  year  \\\n",
       "0     1            terrina de melón con gelée de oporto  1987   \n",
       "1    10                                salmonetes gaudí  1987   \n",
       "2   100                                         oursins  1990   \n",
       "3  1000  ravioli sférico de té con cubo helado de limón  2004   \n",
       "4  1001                       ceps en ámbar de su caldo  2004   \n",
       "\n",
       "                                         ingredients  \\\n",
       "0  [oporto, aceite de oliva, agua, pimienta blanc...   \n",
       "1  [sal, pimientos, pimiento rojo, piñones tostad...   \n",
       "2  [chocolate, claras de huevo, avellanas tostada...   \n",
       "3  [zumo de limón, limón, alginato sódico, agua, ...   \n",
       "4  [sal, caldo de ceps, carragenato kappa en polv...   \n",
       "\n",
       "                                          techniques  \n",
       "0                                             [agua]  \n",
       "1  [sal, marcar, cocción, horno, hervir, horno, s...  \n",
       "2                              [horno, horno, secar]  \n",
       "3                               [agua, cocer, horno]  \n",
       "4  [sal, horno, cocer, hervir, confitar, cazuela,...  "
      ]
     },
     "execution_count": 33,
     "metadata": {},
     "output_type": "execute_result"
    }
   ],
   "source": [
    "elbulli_repr_recipes_df.head()"
   ]
  },
  {
   "cell_type": "code",
   "execution_count": 34,
   "metadata": {
    "collapsed": true
   },
   "outputs": [],
   "source": [
    "elbulli_repr_recipes_df['creativity'] = elbulli_repr_recipes_df.apply(\n",
    "    lambda x: 10 if 1987 <= x['year'] <= 1997 else \\\n",
    "              20 if 1998 <= x['year'] <= 2001 else \\\n",
    "              30 if 2002 <= x['year'] <= 2005 else \\\n",
    "              'UNKOWN', axis=1)"
   ]
  },
  {
   "cell_type": "code",
   "execution_count": 35,
   "metadata": {
    "collapsed": false,
    "scrolled": true
   },
   "outputs": [
    {
     "data": {
      "text/html": [
       "<div>\n",
       "<table border=\"1\" class=\"dataframe\">\n",
       "  <thead>\n",
       "    <tr style=\"text-align: right;\">\n",
       "      <th></th>\n",
       "      <th>_id</th>\n",
       "      <th>title</th>\n",
       "      <th>year</th>\n",
       "      <th>ingredients</th>\n",
       "      <th>techniques</th>\n",
       "      <th>creativity</th>\n",
       "    </tr>\n",
       "  </thead>\n",
       "  <tbody>\n",
       "    <tr>\n",
       "      <th>0</th>\n",
       "      <td>1</td>\n",
       "      <td>terrina de melón con gelée de oporto</td>\n",
       "      <td>1987</td>\n",
       "      <td>[oporto, aceite de oliva, agua, pimienta blanc...</td>\n",
       "      <td>[agua]</td>\n",
       "      <td>10</td>\n",
       "    </tr>\n",
       "    <tr>\n",
       "      <th>1</th>\n",
       "      <td>10</td>\n",
       "      <td>salmonetes gaudí</td>\n",
       "      <td>1987</td>\n",
       "      <td>[sal, pimientos, pimiento rojo, piñones tostad...</td>\n",
       "      <td>[sal, marcar, cocción, horno, hervir, horno, s...</td>\n",
       "      <td>10</td>\n",
       "    </tr>\n",
       "    <tr>\n",
       "      <th>2</th>\n",
       "      <td>100</td>\n",
       "      <td>oursins</td>\n",
       "      <td>1990</td>\n",
       "      <td>[chocolate, claras de huevo, avellanas tostada...</td>\n",
       "      <td>[horno, horno, secar]</td>\n",
       "      <td>10</td>\n",
       "    </tr>\n",
       "    <tr>\n",
       "      <th>3</th>\n",
       "      <td>1000</td>\n",
       "      <td>ravioli sférico de té con cubo helado de limón</td>\n",
       "      <td>2004</td>\n",
       "      <td>[zumo de limón, limón, alginato sódico, agua, ...</td>\n",
       "      <td>[agua, cocer, horno]</td>\n",
       "      <td>30</td>\n",
       "    </tr>\n",
       "    <tr>\n",
       "      <th>4</th>\n",
       "      <td>1001</td>\n",
       "      <td>ceps en ámbar de su caldo</td>\n",
       "      <td>2004</td>\n",
       "      <td>[sal, caldo de ceps, carragenato kappa en polv...</td>\n",
       "      <td>[sal, horno, cocer, hervir, confitar, cazuela,...</td>\n",
       "      <td>30</td>\n",
       "    </tr>\n",
       "  </tbody>\n",
       "</table>\n",
       "</div>"
      ],
      "text/plain": [
       "    _id                                           title  year  \\\n",
       "0     1            terrina de melón con gelée de oporto  1987   \n",
       "1    10                                salmonetes gaudí  1987   \n",
       "2   100                                         oursins  1990   \n",
       "3  1000  ravioli sférico de té con cubo helado de limón  2004   \n",
       "4  1001                       ceps en ámbar de su caldo  2004   \n",
       "\n",
       "                                         ingredients  \\\n",
       "0  [oporto, aceite de oliva, agua, pimienta blanc...   \n",
       "1  [sal, pimientos, pimiento rojo, piñones tostad...   \n",
       "2  [chocolate, claras de huevo, avellanas tostada...   \n",
       "3  [zumo de limón, limón, alginato sódico, agua, ...   \n",
       "4  [sal, caldo de ceps, carragenato kappa en polv...   \n",
       "\n",
       "                                          techniques  creativity  \n",
       "0                                             [agua]          10  \n",
       "1  [sal, marcar, cocción, horno, hervir, horno, s...          10  \n",
       "2                              [horno, horno, secar]          10  \n",
       "3                               [agua, cocer, horno]          30  \n",
       "4  [sal, horno, cocer, hervir, confitar, cazuela,...          30  "
      ]
     },
     "execution_count": 35,
     "metadata": {},
     "output_type": "execute_result"
    }
   ],
   "source": [
    "elbulli_repr_recipes_df.head()"
   ]
  },
  {
   "cell_type": "markdown",
   "metadata": {},
   "source": [
    "### cookpad"
   ]
  },
  {
   "cell_type": "code",
   "execution_count": 36,
   "metadata": {
    "collapsed": false
   },
   "outputs": [],
   "source": [
    "cookpad_repr_recipes_df = pd.read_csv('data/dbs/recipes_cookpad_representatives.csv')\n",
    "cookpad_repr_recipes_df = my_sample(cookpad_repr_recipes_df)"
   ]
  },
  {
   "cell_type": "code",
   "execution_count": 37,
   "metadata": {
    "collapsed": false
   },
   "outputs": [
    {
     "data": {
      "text/plain": [
       "(404, 5)"
      ]
     },
     "execution_count": 37,
     "metadata": {},
     "output_type": "execute_result"
    }
   ],
   "source": [
    "cookpad_repr_recipes_df.shape"
   ]
  },
  {
   "cell_type": "code",
   "execution_count": 38,
   "metadata": {
    "collapsed": false
   },
   "outputs": [
    {
     "data": {
      "text/html": [
       "<div>\n",
       "<table border=\"1\" class=\"dataframe\">\n",
       "  <thead>\n",
       "    <tr style=\"text-align: right;\">\n",
       "      <th></th>\n",
       "      <th>_id</th>\n",
       "      <th>title</th>\n",
       "      <th>year</th>\n",
       "      <th>ingredients</th>\n",
       "      <th>techniques</th>\n",
       "    </tr>\n",
       "  </thead>\n",
       "  <tbody>\n",
       "    <tr>\n",
       "      <th>48</th>\n",
       "      <td>100571</td>\n",
       "      <td>pastel de fiambre</td>\n",
       "      <td>2009</td>\n",
       "      <td>[\"tomate\",\"tocino\",\"lechuga\",\"vino\",\"mantequil...</td>\n",
       "      <td>[\"horno\",\"sal\",\"al baño maria\"]</td>\n",
       "    </tr>\n",
       "    <tr>\n",
       "      <th>102</th>\n",
       "      <td>101608</td>\n",
       "      <td>ensalada de verano con patatas</td>\n",
       "      <td>2010</td>\n",
       "      <td>[\"naranja\",\"orégano\",\"vinagre de módena\",\"acei...</td>\n",
       "      <td>[\"sal\",\"agua\",\"cocer\"]</td>\n",
       "    </tr>\n",
       "    <tr>\n",
       "      <th>131</th>\n",
       "      <td>102187</td>\n",
       "      <td>torta de pan con sardinas de bota</td>\n",
       "      <td>2009</td>\n",
       "      <td>[\"pan\",\"aceite de oliva virgen extra\",\"sardinas\"]</td>\n",
       "      <td>[\"horno\",\"cocer\",\"horno\"]</td>\n",
       "    </tr>\n",
       "    <tr>\n",
       "      <th>157</th>\n",
       "      <td>102249</td>\n",
       "      <td>setas revueltas con gulas</td>\n",
       "      <td>2009</td>\n",
       "      <td>[\"aceite de oliva virgen\",\"gulas\",\"ajo\",\"huevo...</td>\n",
       "      <td>[\"sartén\",\"horno\"]</td>\n",
       "    </tr>\n",
       "    <tr>\n",
       "      <th>181</th>\n",
       "      <td>102280</td>\n",
       "      <td>helado de limón con yogur</td>\n",
       "      <td>2009</td>\n",
       "      <td>[\"zumo\",\"azúcar\",\"yogur\"]</td>\n",
       "      <td>[\"secar\"]</td>\n",
       "    </tr>\n",
       "  </tbody>\n",
       "</table>\n",
       "</div>"
      ],
      "text/plain": [
       "        _id                              title  year  \\\n",
       "48   100571                  pastel de fiambre  2009   \n",
       "102  101608     ensalada de verano con patatas  2010   \n",
       "131  102187  torta de pan con sardinas de bota  2009   \n",
       "157  102249          setas revueltas con gulas  2009   \n",
       "181  102280          helado de limón con yogur  2009   \n",
       "\n",
       "                                           ingredients  \\\n",
       "48   [\"tomate\",\"tocino\",\"lechuga\",\"vino\",\"mantequil...   \n",
       "102  [\"naranja\",\"orégano\",\"vinagre de módena\",\"acei...   \n",
       "131  [\"pan\",\"aceite de oliva virgen extra\",\"sardinas\"]   \n",
       "157  [\"aceite de oliva virgen\",\"gulas\",\"ajo\",\"huevo...   \n",
       "181                          [\"zumo\",\"azúcar\",\"yogur\"]   \n",
       "\n",
       "                          techniques  \n",
       "48   [\"horno\",\"sal\",\"al baño maria\"]  \n",
       "102           [\"sal\",\"agua\",\"cocer\"]  \n",
       "131        [\"horno\",\"cocer\",\"horno\"]  \n",
       "157               [\"sartén\",\"horno\"]  \n",
       "181                        [\"secar\"]  "
      ]
     },
     "execution_count": 38,
     "metadata": {},
     "output_type": "execute_result"
    }
   ],
   "source": [
    "cookpad_repr_recipes_df.head()"
   ]
  },
  {
   "cell_type": "code",
   "execution_count": 39,
   "metadata": {
    "collapsed": false
   },
   "outputs": [],
   "source": [
    "cookpad_repr_recipes_df['ingredients'] = cookpad_repr_recipes_df.apply(lambda x: json.loads(x['ingredients']), axis=1)\n",
    "cookpad_repr_recipes_df['techniques'] = cookpad_repr_recipes_df.apply(lambda x: json.loads(x['techniques']), axis=1)"
   ]
  },
  {
   "cell_type": "code",
   "execution_count": 40,
   "metadata": {
    "collapsed": false
   },
   "outputs": [
    {
     "data": {
      "text/html": [
       "<div>\n",
       "<table border=\"1\" class=\"dataframe\">\n",
       "  <thead>\n",
       "    <tr style=\"text-align: right;\">\n",
       "      <th></th>\n",
       "      <th>_id</th>\n",
       "      <th>title</th>\n",
       "      <th>year</th>\n",
       "      <th>ingredients</th>\n",
       "      <th>techniques</th>\n",
       "    </tr>\n",
       "  </thead>\n",
       "  <tbody>\n",
       "    <tr>\n",
       "      <th>48</th>\n",
       "      <td>100571</td>\n",
       "      <td>pastel de fiambre</td>\n",
       "      <td>2009</td>\n",
       "      <td>[tomate, tocino, lechuga, vino, mantequilla, c...</td>\n",
       "      <td>[horno, sal, al baño maria]</td>\n",
       "    </tr>\n",
       "    <tr>\n",
       "      <th>102</th>\n",
       "      <td>101608</td>\n",
       "      <td>ensalada de verano con patatas</td>\n",
       "      <td>2010</td>\n",
       "      <td>[naranja, orégano, vinagre de módena, aceituna...</td>\n",
       "      <td>[sal, agua, cocer]</td>\n",
       "    </tr>\n",
       "    <tr>\n",
       "      <th>131</th>\n",
       "      <td>102187</td>\n",
       "      <td>torta de pan con sardinas de bota</td>\n",
       "      <td>2009</td>\n",
       "      <td>[pan, aceite de oliva virgen extra, sardinas]</td>\n",
       "      <td>[horno, cocer, horno]</td>\n",
       "    </tr>\n",
       "    <tr>\n",
       "      <th>157</th>\n",
       "      <td>102249</td>\n",
       "      <td>setas revueltas con gulas</td>\n",
       "      <td>2009</td>\n",
       "      <td>[aceite de oliva virgen, gulas, ajo, huevos, s...</td>\n",
       "      <td>[sartén, horno]</td>\n",
       "    </tr>\n",
       "    <tr>\n",
       "      <th>181</th>\n",
       "      <td>102280</td>\n",
       "      <td>helado de limón con yogur</td>\n",
       "      <td>2009</td>\n",
       "      <td>[zumo, azúcar, yogur]</td>\n",
       "      <td>[secar]</td>\n",
       "    </tr>\n",
       "  </tbody>\n",
       "</table>\n",
       "</div>"
      ],
      "text/plain": [
       "        _id                              title  year  \\\n",
       "48   100571                  pastel de fiambre  2009   \n",
       "102  101608     ensalada de verano con patatas  2010   \n",
       "131  102187  torta de pan con sardinas de bota  2009   \n",
       "157  102249          setas revueltas con gulas  2009   \n",
       "181  102280          helado de limón con yogur  2009   \n",
       "\n",
       "                                           ingredients  \\\n",
       "48   [tomate, tocino, lechuga, vino, mantequilla, c...   \n",
       "102  [naranja, orégano, vinagre de módena, aceituna...   \n",
       "131      [pan, aceite de oliva virgen extra, sardinas]   \n",
       "157  [aceite de oliva virgen, gulas, ajo, huevos, s...   \n",
       "181                              [zumo, azúcar, yogur]   \n",
       "\n",
       "                      techniques  \n",
       "48   [horno, sal, al baño maria]  \n",
       "102           [sal, agua, cocer]  \n",
       "131        [horno, cocer, horno]  \n",
       "157              [sartén, horno]  \n",
       "181                      [secar]  "
      ]
     },
     "execution_count": 40,
     "metadata": {},
     "output_type": "execute_result"
    }
   ],
   "source": [
    "cookpad_repr_recipes_df.head()"
   ]
  },
  {
   "cell_type": "code",
   "execution_count": 41,
   "metadata": {
    "collapsed": true
   },
   "outputs": [],
   "source": [
    "cookpad_repr_recipes_df['creativity'] = cookpad_repr_recipes_df.apply(\n",
    "    lambda x: 0, axis=1)"
   ]
  },
  {
   "cell_type": "code",
   "execution_count": 42,
   "metadata": {
    "collapsed": false,
    "scrolled": true
   },
   "outputs": [
    {
     "data": {
      "text/html": [
       "<div>\n",
       "<table border=\"1\" class=\"dataframe\">\n",
       "  <thead>\n",
       "    <tr style=\"text-align: right;\">\n",
       "      <th></th>\n",
       "      <th>_id</th>\n",
       "      <th>title</th>\n",
       "      <th>year</th>\n",
       "      <th>ingredients</th>\n",
       "      <th>techniques</th>\n",
       "      <th>creativity</th>\n",
       "    </tr>\n",
       "  </thead>\n",
       "  <tbody>\n",
       "    <tr>\n",
       "      <th>48</th>\n",
       "      <td>100571</td>\n",
       "      <td>pastel de fiambre</td>\n",
       "      <td>2009</td>\n",
       "      <td>[tomate, tocino, lechuga, vino, mantequilla, c...</td>\n",
       "      <td>[horno, sal, al baño maria]</td>\n",
       "      <td>0</td>\n",
       "    </tr>\n",
       "    <tr>\n",
       "      <th>102</th>\n",
       "      <td>101608</td>\n",
       "      <td>ensalada de verano con patatas</td>\n",
       "      <td>2010</td>\n",
       "      <td>[naranja, orégano, vinagre de módena, aceituna...</td>\n",
       "      <td>[sal, agua, cocer]</td>\n",
       "      <td>0</td>\n",
       "    </tr>\n",
       "    <tr>\n",
       "      <th>131</th>\n",
       "      <td>102187</td>\n",
       "      <td>torta de pan con sardinas de bota</td>\n",
       "      <td>2009</td>\n",
       "      <td>[pan, aceite de oliva virgen extra, sardinas]</td>\n",
       "      <td>[horno, cocer, horno]</td>\n",
       "      <td>0</td>\n",
       "    </tr>\n",
       "    <tr>\n",
       "      <th>157</th>\n",
       "      <td>102249</td>\n",
       "      <td>setas revueltas con gulas</td>\n",
       "      <td>2009</td>\n",
       "      <td>[aceite de oliva virgen, gulas, ajo, huevos, s...</td>\n",
       "      <td>[sartén, horno]</td>\n",
       "      <td>0</td>\n",
       "    </tr>\n",
       "    <tr>\n",
       "      <th>181</th>\n",
       "      <td>102280</td>\n",
       "      <td>helado de limón con yogur</td>\n",
       "      <td>2009</td>\n",
       "      <td>[zumo, azúcar, yogur]</td>\n",
       "      <td>[secar]</td>\n",
       "      <td>0</td>\n",
       "    </tr>\n",
       "  </tbody>\n",
       "</table>\n",
       "</div>"
      ],
      "text/plain": [
       "        _id                              title  year  \\\n",
       "48   100571                  pastel de fiambre  2009   \n",
       "102  101608     ensalada de verano con patatas  2010   \n",
       "131  102187  torta de pan con sardinas de bota  2009   \n",
       "157  102249          setas revueltas con gulas  2009   \n",
       "181  102280          helado de limón con yogur  2009   \n",
       "\n",
       "                                           ingredients  \\\n",
       "48   [tomate, tocino, lechuga, vino, mantequilla, c...   \n",
       "102  [naranja, orégano, vinagre de módena, aceituna...   \n",
       "131      [pan, aceite de oliva virgen extra, sardinas]   \n",
       "157  [aceite de oliva virgen, gulas, ajo, huevos, s...   \n",
       "181                              [zumo, azúcar, yogur]   \n",
       "\n",
       "                      techniques  creativity  \n",
       "48   [horno, sal, al baño maria]           0  \n",
       "102           [sal, agua, cocer]           0  \n",
       "131        [horno, cocer, horno]           0  \n",
       "157              [sartén, horno]           0  \n",
       "181                      [secar]           0  "
      ]
     },
     "execution_count": 42,
     "metadata": {},
     "output_type": "execute_result"
    }
   ],
   "source": [
    "cookpad_repr_recipes_df.head()"
   ]
  },
  {
   "cell_type": "markdown",
   "metadata": {},
   "source": [
    "### elbulli & cookpad"
   ]
  },
  {
   "cell_type": "code",
   "execution_count": 43,
   "metadata": {
    "collapsed": true
   },
   "outputs": [],
   "source": [
    "repr_recipes_df = elbulli_repr_recipes_df.append(cookpad_repr_recipes_df, ignore_index=True)"
   ]
  },
  {
   "cell_type": "code",
   "execution_count": 44,
   "metadata": {
    "collapsed": false,
    "scrolled": true
   },
   "outputs": [
    {
     "data": {
      "text/html": [
       "<div>\n",
       "<table border=\"1\" class=\"dataframe\">\n",
       "  <thead>\n",
       "    <tr style=\"text-align: right;\">\n",
       "      <th></th>\n",
       "      <th>_id</th>\n",
       "      <th>title</th>\n",
       "      <th>year</th>\n",
       "      <th>ingredients</th>\n",
       "      <th>techniques</th>\n",
       "      <th>creativity</th>\n",
       "    </tr>\n",
       "  </thead>\n",
       "  <tbody>\n",
       "    <tr>\n",
       "      <th>0</th>\n",
       "      <td>1</td>\n",
       "      <td>terrina de melón con gelée de oporto</td>\n",
       "      <td>1987</td>\n",
       "      <td>[oporto, aceite de oliva, agua, pimienta blanc...</td>\n",
       "      <td>[agua]</td>\n",
       "      <td>10</td>\n",
       "    </tr>\n",
       "    <tr>\n",
       "      <th>1</th>\n",
       "      <td>10</td>\n",
       "      <td>salmonetes gaudí</td>\n",
       "      <td>1987</td>\n",
       "      <td>[sal, pimientos, pimiento rojo, piñones tostad...</td>\n",
       "      <td>[sal, marcar, cocción, horno, hervir, horno, s...</td>\n",
       "      <td>10</td>\n",
       "    </tr>\n",
       "    <tr>\n",
       "      <th>2</th>\n",
       "      <td>100</td>\n",
       "      <td>oursins</td>\n",
       "      <td>1990</td>\n",
       "      <td>[chocolate, claras de huevo, avellanas tostada...</td>\n",
       "      <td>[horno, horno, secar]</td>\n",
       "      <td>10</td>\n",
       "    </tr>\n",
       "    <tr>\n",
       "      <th>3</th>\n",
       "      <td>1000</td>\n",
       "      <td>ravioli sférico de té con cubo helado de limón</td>\n",
       "      <td>2004</td>\n",
       "      <td>[zumo de limón, limón, alginato sódico, agua, ...</td>\n",
       "      <td>[agua, cocer, horno]</td>\n",
       "      <td>30</td>\n",
       "    </tr>\n",
       "    <tr>\n",
       "      <th>4</th>\n",
       "      <td>1001</td>\n",
       "      <td>ceps en ámbar de su caldo</td>\n",
       "      <td>2004</td>\n",
       "      <td>[sal, caldo de ceps, carragenato kappa en polv...</td>\n",
       "      <td>[sal, horno, cocer, hervir, confitar, cazuela,...</td>\n",
       "      <td>30</td>\n",
       "    </tr>\n",
       "  </tbody>\n",
       "</table>\n",
       "</div>"
      ],
      "text/plain": [
       "    _id                                           title  year  \\\n",
       "0     1            terrina de melón con gelée de oporto  1987   \n",
       "1    10                                salmonetes gaudí  1987   \n",
       "2   100                                         oursins  1990   \n",
       "3  1000  ravioli sférico de té con cubo helado de limón  2004   \n",
       "4  1001                       ceps en ámbar de su caldo  2004   \n",
       "\n",
       "                                         ingredients  \\\n",
       "0  [oporto, aceite de oliva, agua, pimienta blanc...   \n",
       "1  [sal, pimientos, pimiento rojo, piñones tostad...   \n",
       "2  [chocolate, claras de huevo, avellanas tostada...   \n",
       "3  [zumo de limón, limón, alginato sódico, agua, ...   \n",
       "4  [sal, caldo de ceps, carragenato kappa en polv...   \n",
       "\n",
       "                                          techniques  creativity  \n",
       "0                                             [agua]          10  \n",
       "1  [sal, marcar, cocción, horno, hervir, horno, s...          10  \n",
       "2                              [horno, horno, secar]          10  \n",
       "3                               [agua, cocer, horno]          30  \n",
       "4  [sal, horno, cocer, hervir, confitar, cazuela,...          30  "
      ]
     },
     "execution_count": 44,
     "metadata": {},
     "output_type": "execute_result"
    }
   ],
   "source": [
    "repr_recipes_df.head()"
   ]
  },
  {
   "cell_type": "code",
   "execution_count": 45,
   "metadata": {
    "collapsed": false
   },
   "outputs": [
    {
     "data": {
      "text/html": [
       "<div>\n",
       "<table border=\"1\" class=\"dataframe\">\n",
       "  <thead>\n",
       "    <tr style=\"text-align: right;\">\n",
       "      <th></th>\n",
       "      <th>_id</th>\n",
       "      <th>title</th>\n",
       "      <th>year</th>\n",
       "      <th>ingredients</th>\n",
       "      <th>techniques</th>\n",
       "      <th>creativity</th>\n",
       "    </tr>\n",
       "  </thead>\n",
       "  <tbody>\n",
       "    <tr>\n",
       "      <th>1613</th>\n",
       "      <td>99269</td>\n",
       "      <td>pollo salteado con setas</td>\n",
       "      <td>2009</td>\n",
       "      <td>[pimentón, aceite de oliva, ajo, perejil, seta...</td>\n",
       "      <td>[horno, sal]</td>\n",
       "      <td>0</td>\n",
       "    </tr>\n",
       "    <tr>\n",
       "      <th>1614</th>\n",
       "      <td>99683</td>\n",
       "      <td>gazpaxo cordobés</td>\n",
       "      <td>2009</td>\n",
       "      <td>[tomates maduros, vinagre, aceite, ajo, pimien...</td>\n",
       "      <td>[sal, hervir, agua, cocer]</td>\n",
       "      <td>0</td>\n",
       "    </tr>\n",
       "    <tr>\n",
       "      <th>1615</th>\n",
       "      <td>99876</td>\n",
       "      <td>consomé de pollo</td>\n",
       "      <td>2009</td>\n",
       "      <td>[chalotes, apio, puerro, zanahoria, pechugas d...</td>\n",
       "      <td>[espuma, a fuego lento, cocer, reducir, horno,...</td>\n",
       "      <td>0</td>\n",
       "    </tr>\n",
       "    <tr>\n",
       "      <th>1616</th>\n",
       "      <td>99954</td>\n",
       "      <td>pimientos asados en microondas</td>\n",
       "      <td>2009</td>\n",
       "      <td>[pimiento, aceite de oliva]</td>\n",
       "      <td>[crudo, microondas]</td>\n",
       "      <td>0</td>\n",
       "    </tr>\n",
       "    <tr>\n",
       "      <th>1617</th>\n",
       "      <td>99978</td>\n",
       "      <td>revuelto de espárragos con gambas</td>\n",
       "      <td>2009</td>\n",
       "      <td>[espárragos, aceite de oliva, huevos, ajo, gam...</td>\n",
       "      <td>[sal, horno, sartén]</td>\n",
       "      <td>0</td>\n",
       "    </tr>\n",
       "  </tbody>\n",
       "</table>\n",
       "</div>"
      ],
      "text/plain": [
       "        _id                              title  year  \\\n",
       "1613  99269           pollo salteado con setas  2009   \n",
       "1614  99683                   gazpaxo cordobés  2009   \n",
       "1615  99876                   consomé de pollo  2009   \n",
       "1616  99954     pimientos asados en microondas  2009   \n",
       "1617  99978  revuelto de espárragos con gambas  2009   \n",
       "\n",
       "                                            ingredients  \\\n",
       "1613  [pimentón, aceite de oliva, ajo, perejil, seta...   \n",
       "1614  [tomates maduros, vinagre, aceite, ajo, pimien...   \n",
       "1615  [chalotes, apio, puerro, zanahoria, pechugas d...   \n",
       "1616                        [pimiento, aceite de oliva]   \n",
       "1617  [espárragos, aceite de oliva, huevos, ajo, gam...   \n",
       "\n",
       "                                             techniques  creativity  \n",
       "1613                                       [horno, sal]           0  \n",
       "1614                         [sal, hervir, agua, cocer]           0  \n",
       "1615  [espuma, a fuego lento, cocer, reducir, horno,...           0  \n",
       "1616                                [crudo, microondas]           0  \n",
       "1617                               [sal, horno, sartén]           0  "
      ]
     },
     "execution_count": 45,
     "metadata": {},
     "output_type": "execute_result"
    }
   ],
   "source": [
    "repr_recipes_df.tail()"
   ]
  },
  {
   "cell_type": "markdown",
   "metadata": {},
   "source": [
    "## Superclasses of ingredients and techniques"
   ]
  },
  {
   "cell_type": "markdown",
   "metadata": {},
   "source": [
    "### elbulli"
   ]
  },
  {
   "cell_type": "code",
   "execution_count": 46,
   "metadata": {
    "collapsed": false
   },
   "outputs": [],
   "source": [
    "elbulli_super_recipes_df = pd.read_csv('data/dbs/recipes_elbulli_superclasses.csv')"
   ]
  },
  {
   "cell_type": "code",
   "execution_count": 47,
   "metadata": {
    "collapsed": false
   },
   "outputs": [
    {
     "data": {
      "text/plain": [
       "_id             int64\n",
       "title          object\n",
       "year            int64\n",
       "ingredients    object\n",
       "techniques     object\n",
       "dtype: object"
      ]
     },
     "execution_count": 47,
     "metadata": {},
     "output_type": "execute_result"
    }
   ],
   "source": [
    "elbulli_super_recipes_df.dtypes"
   ]
  },
  {
   "cell_type": "code",
   "execution_count": 48,
   "metadata": {
    "collapsed": false
   },
   "outputs": [
    {
     "data": {
      "text/html": [
       "<div>\n",
       "<table border=\"1\" class=\"dataframe\">\n",
       "  <thead>\n",
       "    <tr style=\"text-align: right;\">\n",
       "      <th></th>\n",
       "      <th>_id</th>\n",
       "      <th>title</th>\n",
       "      <th>year</th>\n",
       "      <th>ingredients</th>\n",
       "      <th>techniques</th>\n",
       "    </tr>\n",
       "  </thead>\n",
       "  <tbody>\n",
       "    <tr>\n",
       "      <th>0</th>\n",
       "      <td>1</td>\n",
       "      <td>terrina de melón con gelée de oporto</td>\n",
       "      <td>1987</td>\n",
       "      <td>[\"oporto\",\"aceite\",\"agua\",\"pimienta\",\"gelatina...</td>\n",
       "      <td>[\"agua\"]</td>\n",
       "    </tr>\n",
       "    <tr>\n",
       "      <th>1</th>\n",
       "      <td>10</td>\n",
       "      <td>salmonetes gaudí</td>\n",
       "      <td>1987</td>\n",
       "      <td>[\"sal\",\"pimientos\",\"pimiento\",\"piñones\",\"vinag...</td>\n",
       "      <td>[\"sal\",\"marcar\",\"cocción\",\"horno\",\"hervir\",\"ho...</td>\n",
       "    </tr>\n",
       "    <tr>\n",
       "      <th>2</th>\n",
       "      <td>100</td>\n",
       "      <td>oursins</td>\n",
       "      <td>1990</td>\n",
       "      <td>[\"chocolate\",\"claras\",\"avellanas\",\"yemas\",\"azú...</td>\n",
       "      <td>[\"horno\",\"horno\",\"secar\"]</td>\n",
       "    </tr>\n",
       "    <tr>\n",
       "      <th>3</th>\n",
       "      <td>1000</td>\n",
       "      <td>ravioli sférico de té con cubo helado de limón</td>\n",
       "      <td>2004</td>\n",
       "      <td>[\"zumo\",\"limón\",\"alginato\",\"agua\",\"té\",\"azúcar\"]</td>\n",
       "      <td>[\"agua\",\"cocer\",\"horno\"]</td>\n",
       "    </tr>\n",
       "    <tr>\n",
       "      <th>4</th>\n",
       "      <td>1001</td>\n",
       "      <td>ceps en ámbar de su caldo</td>\n",
       "      <td>2004</td>\n",
       "      <td>[\"sal\",\"ceps\",\"carragenato\",\"romero\",\"ceps\",\"c...</td>\n",
       "      <td>[\"sal\",\"horno\",\"cocer\",\"hervir\",\"confitar\",\"ca...</td>\n",
       "    </tr>\n",
       "  </tbody>\n",
       "</table>\n",
       "</div>"
      ],
      "text/plain": [
       "    _id                                           title  year  \\\n",
       "0     1            terrina de melón con gelée de oporto  1987   \n",
       "1    10                                salmonetes gaudí  1987   \n",
       "2   100                                         oursins  1990   \n",
       "3  1000  ravioli sférico de té con cubo helado de limón  2004   \n",
       "4  1001                       ceps en ámbar de su caldo  2004   \n",
       "\n",
       "                                         ingredients  \\\n",
       "0  [\"oporto\",\"aceite\",\"agua\",\"pimienta\",\"gelatina...   \n",
       "1  [\"sal\",\"pimientos\",\"pimiento\",\"piñones\",\"vinag...   \n",
       "2  [\"chocolate\",\"claras\",\"avellanas\",\"yemas\",\"azú...   \n",
       "3   [\"zumo\",\"limón\",\"alginato\",\"agua\",\"té\",\"azúcar\"]   \n",
       "4  [\"sal\",\"ceps\",\"carragenato\",\"romero\",\"ceps\",\"c...   \n",
       "\n",
       "                                          techniques  \n",
       "0                                           [\"agua\"]  \n",
       "1  [\"sal\",\"marcar\",\"cocción\",\"horno\",\"hervir\",\"ho...  \n",
       "2                          [\"horno\",\"horno\",\"secar\"]  \n",
       "3                           [\"agua\",\"cocer\",\"horno\"]  \n",
       "4  [\"sal\",\"horno\",\"cocer\",\"hervir\",\"confitar\",\"ca...  "
      ]
     },
     "execution_count": 48,
     "metadata": {},
     "output_type": "execute_result"
    }
   ],
   "source": [
    "elbulli_super_recipes_df.head()"
   ]
  },
  {
   "cell_type": "code",
   "execution_count": 49,
   "metadata": {
    "collapsed": false
   },
   "outputs": [],
   "source": [
    "elbulli_super_recipes_df['ingredients'] = elbulli_super_recipes_df.apply(lambda x: json.loads(x['ingredients']), axis=1)\n",
    "elbulli_super_recipes_df['techniques'] = elbulli_super_recipes_df.apply(lambda x: json.loads(x['techniques']), axis=1)"
   ]
  },
  {
   "cell_type": "code",
   "execution_count": 50,
   "metadata": {
    "collapsed": false
   },
   "outputs": [
    {
     "data": {
      "text/html": [
       "<div>\n",
       "<table border=\"1\" class=\"dataframe\">\n",
       "  <thead>\n",
       "    <tr style=\"text-align: right;\">\n",
       "      <th></th>\n",
       "      <th>_id</th>\n",
       "      <th>title</th>\n",
       "      <th>year</th>\n",
       "      <th>ingredients</th>\n",
       "      <th>techniques</th>\n",
       "    </tr>\n",
       "  </thead>\n",
       "  <tbody>\n",
       "    <tr>\n",
       "      <th>0</th>\n",
       "      <td>1</td>\n",
       "      <td>terrina de melón con gelée de oporto</td>\n",
       "      <td>1987</td>\n",
       "      <td>[oporto, aceite, agua, pimienta, gelatina, mel...</td>\n",
       "      <td>[agua]</td>\n",
       "    </tr>\n",
       "    <tr>\n",
       "      <th>1</th>\n",
       "      <td>10</td>\n",
       "      <td>salmonetes gaudí</td>\n",
       "      <td>1987</td>\n",
       "      <td>[sal, pimientos, pimiento, piñones, vinagre, o...</td>\n",
       "      <td>[sal, marcar, cocción, horno, hervir, horno, s...</td>\n",
       "    </tr>\n",
       "    <tr>\n",
       "      <th>2</th>\n",
       "      <td>100</td>\n",
       "      <td>oursins</td>\n",
       "      <td>1990</td>\n",
       "      <td>[chocolate, claras, avellanas, yemas, azúcar, ...</td>\n",
       "      <td>[horno, horno, secar]</td>\n",
       "    </tr>\n",
       "    <tr>\n",
       "      <th>3</th>\n",
       "      <td>1000</td>\n",
       "      <td>ravioli sférico de té con cubo helado de limón</td>\n",
       "      <td>2004</td>\n",
       "      <td>[zumo, limón, alginato, agua, té, azúcar]</td>\n",
       "      <td>[agua, cocer, horno]</td>\n",
       "    </tr>\n",
       "    <tr>\n",
       "      <th>4</th>\n",
       "      <td>1001</td>\n",
       "      <td>ceps en ámbar de su caldo</td>\n",
       "      <td>2004</td>\n",
       "      <td>[sal, ceps, carragenato, romero, ceps, ceps, a...</td>\n",
       "      <td>[sal, horno, cocer, hervir, confitar, cazuela,...</td>\n",
       "    </tr>\n",
       "  </tbody>\n",
       "</table>\n",
       "</div>"
      ],
      "text/plain": [
       "    _id                                           title  year  \\\n",
       "0     1            terrina de melón con gelée de oporto  1987   \n",
       "1    10                                salmonetes gaudí  1987   \n",
       "2   100                                         oursins  1990   \n",
       "3  1000  ravioli sférico de té con cubo helado de limón  2004   \n",
       "4  1001                       ceps en ámbar de su caldo  2004   \n",
       "\n",
       "                                         ingredients  \\\n",
       "0  [oporto, aceite, agua, pimienta, gelatina, mel...   \n",
       "1  [sal, pimientos, pimiento, piñones, vinagre, o...   \n",
       "2  [chocolate, claras, avellanas, yemas, azúcar, ...   \n",
       "3          [zumo, limón, alginato, agua, té, azúcar]   \n",
       "4  [sal, ceps, carragenato, romero, ceps, ceps, a...   \n",
       "\n",
       "                                          techniques  \n",
       "0                                             [agua]  \n",
       "1  [sal, marcar, cocción, horno, hervir, horno, s...  \n",
       "2                              [horno, horno, secar]  \n",
       "3                               [agua, cocer, horno]  \n",
       "4  [sal, horno, cocer, hervir, confitar, cazuela,...  "
      ]
     },
     "execution_count": 50,
     "metadata": {},
     "output_type": "execute_result"
    }
   ],
   "source": [
    "elbulli_super_recipes_df.head()"
   ]
  },
  {
   "cell_type": "code",
   "execution_count": 51,
   "metadata": {
    "collapsed": true
   },
   "outputs": [],
   "source": [
    "elbulli_super_recipes_df['creativity'] = elbulli_super_recipes_df.apply(\n",
    "    lambda x: 10 if 1987 <= x['year'] <= 1997 else \\\n",
    "              20 if 1998 <= x['year'] <= 2001 else \\\n",
    "              30 if 2002 <= x['year'] <= 2005 else \\\n",
    "              'UNKOWN', axis=1)"
   ]
  },
  {
   "cell_type": "code",
   "execution_count": 52,
   "metadata": {
    "collapsed": false,
    "scrolled": true
   },
   "outputs": [
    {
     "data": {
      "text/html": [
       "<div>\n",
       "<table border=\"1\" class=\"dataframe\">\n",
       "  <thead>\n",
       "    <tr style=\"text-align: right;\">\n",
       "      <th></th>\n",
       "      <th>_id</th>\n",
       "      <th>title</th>\n",
       "      <th>year</th>\n",
       "      <th>ingredients</th>\n",
       "      <th>techniques</th>\n",
       "      <th>creativity</th>\n",
       "    </tr>\n",
       "  </thead>\n",
       "  <tbody>\n",
       "    <tr>\n",
       "      <th>0</th>\n",
       "      <td>1</td>\n",
       "      <td>terrina de melón con gelée de oporto</td>\n",
       "      <td>1987</td>\n",
       "      <td>[oporto, aceite, agua, pimienta, gelatina, mel...</td>\n",
       "      <td>[agua]</td>\n",
       "      <td>10</td>\n",
       "    </tr>\n",
       "    <tr>\n",
       "      <th>1</th>\n",
       "      <td>10</td>\n",
       "      <td>salmonetes gaudí</td>\n",
       "      <td>1987</td>\n",
       "      <td>[sal, pimientos, pimiento, piñones, vinagre, o...</td>\n",
       "      <td>[sal, marcar, cocción, horno, hervir, horno, s...</td>\n",
       "      <td>10</td>\n",
       "    </tr>\n",
       "    <tr>\n",
       "      <th>2</th>\n",
       "      <td>100</td>\n",
       "      <td>oursins</td>\n",
       "      <td>1990</td>\n",
       "      <td>[chocolate, claras, avellanas, yemas, azúcar, ...</td>\n",
       "      <td>[horno, horno, secar]</td>\n",
       "      <td>10</td>\n",
       "    </tr>\n",
       "    <tr>\n",
       "      <th>3</th>\n",
       "      <td>1000</td>\n",
       "      <td>ravioli sférico de té con cubo helado de limón</td>\n",
       "      <td>2004</td>\n",
       "      <td>[zumo, limón, alginato, agua, té, azúcar]</td>\n",
       "      <td>[agua, cocer, horno]</td>\n",
       "      <td>30</td>\n",
       "    </tr>\n",
       "    <tr>\n",
       "      <th>4</th>\n",
       "      <td>1001</td>\n",
       "      <td>ceps en ámbar de su caldo</td>\n",
       "      <td>2004</td>\n",
       "      <td>[sal, ceps, carragenato, romero, ceps, ceps, a...</td>\n",
       "      <td>[sal, horno, cocer, hervir, confitar, cazuela,...</td>\n",
       "      <td>30</td>\n",
       "    </tr>\n",
       "  </tbody>\n",
       "</table>\n",
       "</div>"
      ],
      "text/plain": [
       "    _id                                           title  year  \\\n",
       "0     1            terrina de melón con gelée de oporto  1987   \n",
       "1    10                                salmonetes gaudí  1987   \n",
       "2   100                                         oursins  1990   \n",
       "3  1000  ravioli sférico de té con cubo helado de limón  2004   \n",
       "4  1001                       ceps en ámbar de su caldo  2004   \n",
       "\n",
       "                                         ingredients  \\\n",
       "0  [oporto, aceite, agua, pimienta, gelatina, mel...   \n",
       "1  [sal, pimientos, pimiento, piñones, vinagre, o...   \n",
       "2  [chocolate, claras, avellanas, yemas, azúcar, ...   \n",
       "3          [zumo, limón, alginato, agua, té, azúcar]   \n",
       "4  [sal, ceps, carragenato, romero, ceps, ceps, a...   \n",
       "\n",
       "                                          techniques  creativity  \n",
       "0                                             [agua]          10  \n",
       "1  [sal, marcar, cocción, horno, hervir, horno, s...          10  \n",
       "2                              [horno, horno, secar]          10  \n",
       "3                               [agua, cocer, horno]          30  \n",
       "4  [sal, horno, cocer, hervir, confitar, cazuela,...          30  "
      ]
     },
     "execution_count": 52,
     "metadata": {},
     "output_type": "execute_result"
    }
   ],
   "source": [
    "elbulli_super_recipes_df.head()"
   ]
  },
  {
   "cell_type": "markdown",
   "metadata": {},
   "source": [
    "### cookpad"
   ]
  },
  {
   "cell_type": "code",
   "execution_count": 53,
   "metadata": {
    "collapsed": false
   },
   "outputs": [],
   "source": [
    "cookpad_super_recipes_df = pd.read_csv('data/dbs/recipes_cookpad_superclasses.csv')\n",
    "cookpad_super_recipes_df = my_sample(cookpad_super_recipes_df)"
   ]
  },
  {
   "cell_type": "code",
   "execution_count": 54,
   "metadata": {
    "collapsed": false
   },
   "outputs": [
    {
     "data": {
      "text/plain": [
       "_id             int64\n",
       "title          object\n",
       "year            int64\n",
       "ingredients    object\n",
       "techniques     object\n",
       "dtype: object"
      ]
     },
     "execution_count": 54,
     "metadata": {},
     "output_type": "execute_result"
    }
   ],
   "source": [
    "cookpad_super_recipes_df.dtypes"
   ]
  },
  {
   "cell_type": "code",
   "execution_count": 55,
   "metadata": {
    "collapsed": false
   },
   "outputs": [
    {
     "data": {
      "text/html": [
       "<div>\n",
       "<table border=\"1\" class=\"dataframe\">\n",
       "  <thead>\n",
       "    <tr style=\"text-align: right;\">\n",
       "      <th></th>\n",
       "      <th>_id</th>\n",
       "      <th>title</th>\n",
       "      <th>year</th>\n",
       "      <th>ingredients</th>\n",
       "      <th>techniques</th>\n",
       "    </tr>\n",
       "  </thead>\n",
       "  <tbody>\n",
       "    <tr>\n",
       "      <th>48</th>\n",
       "      <td>100571</td>\n",
       "      <td>pastel de fiambre</td>\n",
       "      <td>2009</td>\n",
       "      <td>[\"tomate\",\"tocino\",\"lechuga\",\"vino\",\"mantequil...</td>\n",
       "      <td>[\"horno\",\"sal\",\"al\"]</td>\n",
       "    </tr>\n",
       "    <tr>\n",
       "      <th>102</th>\n",
       "      <td>101608</td>\n",
       "      <td>ensalada de verano con patatas</td>\n",
       "      <td>2010</td>\n",
       "      <td>[\"naranja\",\"orégano\",\"vinagre\",\"aceitunas\",\"hu...</td>\n",
       "      <td>[\"sal\",\"agua\",\"cocer\"]</td>\n",
       "    </tr>\n",
       "    <tr>\n",
       "      <th>131</th>\n",
       "      <td>102187</td>\n",
       "      <td>torta de pan con sardinas de bota</td>\n",
       "      <td>2009</td>\n",
       "      <td>[\"pan\",\"aceite\",\"sardinas\"]</td>\n",
       "      <td>[\"horno\",\"cocer\",\"horno\"]</td>\n",
       "    </tr>\n",
       "    <tr>\n",
       "      <th>157</th>\n",
       "      <td>102249</td>\n",
       "      <td>setas revueltas con gulas</td>\n",
       "      <td>2009</td>\n",
       "      <td>[\"aceite\",\"gulas\",\"ajo\",\"huevos\",\"sal\",\"setas\"]</td>\n",
       "      <td>[\"sartén\",\"horno\"]</td>\n",
       "    </tr>\n",
       "    <tr>\n",
       "      <th>181</th>\n",
       "      <td>102280</td>\n",
       "      <td>helado de limón con yogur</td>\n",
       "      <td>2009</td>\n",
       "      <td>[\"zumo\",\"azúcar\",\"yogur\"]</td>\n",
       "      <td>[\"secar\"]</td>\n",
       "    </tr>\n",
       "  </tbody>\n",
       "</table>\n",
       "</div>"
      ],
      "text/plain": [
       "        _id                              title  year  \\\n",
       "48   100571                  pastel de fiambre  2009   \n",
       "102  101608     ensalada de verano con patatas  2010   \n",
       "131  102187  torta de pan con sardinas de bota  2009   \n",
       "157  102249          setas revueltas con gulas  2009   \n",
       "181  102280          helado de limón con yogur  2009   \n",
       "\n",
       "                                           ingredients  \\\n",
       "48   [\"tomate\",\"tocino\",\"lechuga\",\"vino\",\"mantequil...   \n",
       "102  [\"naranja\",\"orégano\",\"vinagre\",\"aceitunas\",\"hu...   \n",
       "131                        [\"pan\",\"aceite\",\"sardinas\"]   \n",
       "157    [\"aceite\",\"gulas\",\"ajo\",\"huevos\",\"sal\",\"setas\"]   \n",
       "181                          [\"zumo\",\"azúcar\",\"yogur\"]   \n",
       "\n",
       "                    techniques  \n",
       "48        [\"horno\",\"sal\",\"al\"]  \n",
       "102     [\"sal\",\"agua\",\"cocer\"]  \n",
       "131  [\"horno\",\"cocer\",\"horno\"]  \n",
       "157         [\"sartén\",\"horno\"]  \n",
       "181                  [\"secar\"]  "
      ]
     },
     "execution_count": 55,
     "metadata": {},
     "output_type": "execute_result"
    }
   ],
   "source": [
    "cookpad_super_recipes_df.head()"
   ]
  },
  {
   "cell_type": "code",
   "execution_count": 56,
   "metadata": {
    "collapsed": false
   },
   "outputs": [],
   "source": [
    "cookpad_super_recipes_df['ingredients'] = cookpad_super_recipes_df.apply(lambda x: json.loads(x['ingredients']), axis=1)\n",
    "cookpad_super_recipes_df['techniques'] = cookpad_super_recipes_df.apply(lambda x: json.loads(x['techniques']), axis=1)"
   ]
  },
  {
   "cell_type": "code",
   "execution_count": 57,
   "metadata": {
    "collapsed": false
   },
   "outputs": [
    {
     "data": {
      "text/html": [
       "<div>\n",
       "<table border=\"1\" class=\"dataframe\">\n",
       "  <thead>\n",
       "    <tr style=\"text-align: right;\">\n",
       "      <th></th>\n",
       "      <th>_id</th>\n",
       "      <th>title</th>\n",
       "      <th>year</th>\n",
       "      <th>ingredients</th>\n",
       "      <th>techniques</th>\n",
       "    </tr>\n",
       "  </thead>\n",
       "  <tbody>\n",
       "    <tr>\n",
       "      <th>48</th>\n",
       "      <td>100571</td>\n",
       "      <td>pastel de fiambre</td>\n",
       "      <td>2009</td>\n",
       "      <td>[tomate, tocino, lechuga, vino, mantequilla, c...</td>\n",
       "      <td>[horno, sal, al]</td>\n",
       "    </tr>\n",
       "    <tr>\n",
       "      <th>102</th>\n",
       "      <td>101608</td>\n",
       "      <td>ensalada de verano con patatas</td>\n",
       "      <td>2010</td>\n",
       "      <td>[naranja, orégano, vinagre, aceitunas, huevos,...</td>\n",
       "      <td>[sal, agua, cocer]</td>\n",
       "    </tr>\n",
       "    <tr>\n",
       "      <th>131</th>\n",
       "      <td>102187</td>\n",
       "      <td>torta de pan con sardinas de bota</td>\n",
       "      <td>2009</td>\n",
       "      <td>[pan, aceite, sardinas]</td>\n",
       "      <td>[horno, cocer, horno]</td>\n",
       "    </tr>\n",
       "    <tr>\n",
       "      <th>157</th>\n",
       "      <td>102249</td>\n",
       "      <td>setas revueltas con gulas</td>\n",
       "      <td>2009</td>\n",
       "      <td>[aceite, gulas, ajo, huevos, sal, setas]</td>\n",
       "      <td>[sartén, horno]</td>\n",
       "    </tr>\n",
       "    <tr>\n",
       "      <th>181</th>\n",
       "      <td>102280</td>\n",
       "      <td>helado de limón con yogur</td>\n",
       "      <td>2009</td>\n",
       "      <td>[zumo, azúcar, yogur]</td>\n",
       "      <td>[secar]</td>\n",
       "    </tr>\n",
       "  </tbody>\n",
       "</table>\n",
       "</div>"
      ],
      "text/plain": [
       "        _id                              title  year  \\\n",
       "48   100571                  pastel de fiambre  2009   \n",
       "102  101608     ensalada de verano con patatas  2010   \n",
       "131  102187  torta de pan con sardinas de bota  2009   \n",
       "157  102249          setas revueltas con gulas  2009   \n",
       "181  102280          helado de limón con yogur  2009   \n",
       "\n",
       "                                           ingredients             techniques  \n",
       "48   [tomate, tocino, lechuga, vino, mantequilla, c...       [horno, sal, al]  \n",
       "102  [naranja, orégano, vinagre, aceitunas, huevos,...     [sal, agua, cocer]  \n",
       "131                            [pan, aceite, sardinas]  [horno, cocer, horno]  \n",
       "157           [aceite, gulas, ajo, huevos, sal, setas]        [sartén, horno]  \n",
       "181                              [zumo, azúcar, yogur]                [secar]  "
      ]
     },
     "execution_count": 57,
     "metadata": {},
     "output_type": "execute_result"
    }
   ],
   "source": [
    "cookpad_super_recipes_df.head()"
   ]
  },
  {
   "cell_type": "code",
   "execution_count": 58,
   "metadata": {
    "collapsed": true
   },
   "outputs": [],
   "source": [
    "cookpad_super_recipes_df['creativity'] = cookpad_super_recipes_df.apply(\n",
    "    lambda x: 0, axis=1)"
   ]
  },
  {
   "cell_type": "code",
   "execution_count": 59,
   "metadata": {
    "collapsed": false,
    "scrolled": true
   },
   "outputs": [
    {
     "data": {
      "text/html": [
       "<div>\n",
       "<table border=\"1\" class=\"dataframe\">\n",
       "  <thead>\n",
       "    <tr style=\"text-align: right;\">\n",
       "      <th></th>\n",
       "      <th>_id</th>\n",
       "      <th>title</th>\n",
       "      <th>year</th>\n",
       "      <th>ingredients</th>\n",
       "      <th>techniques</th>\n",
       "      <th>creativity</th>\n",
       "    </tr>\n",
       "  </thead>\n",
       "  <tbody>\n",
       "    <tr>\n",
       "      <th>48</th>\n",
       "      <td>100571</td>\n",
       "      <td>pastel de fiambre</td>\n",
       "      <td>2009</td>\n",
       "      <td>[tomate, tocino, lechuga, vino, mantequilla, c...</td>\n",
       "      <td>[horno, sal, al]</td>\n",
       "      <td>0</td>\n",
       "    </tr>\n",
       "    <tr>\n",
       "      <th>102</th>\n",
       "      <td>101608</td>\n",
       "      <td>ensalada de verano con patatas</td>\n",
       "      <td>2010</td>\n",
       "      <td>[naranja, orégano, vinagre, aceitunas, huevos,...</td>\n",
       "      <td>[sal, agua, cocer]</td>\n",
       "      <td>0</td>\n",
       "    </tr>\n",
       "    <tr>\n",
       "      <th>131</th>\n",
       "      <td>102187</td>\n",
       "      <td>torta de pan con sardinas de bota</td>\n",
       "      <td>2009</td>\n",
       "      <td>[pan, aceite, sardinas]</td>\n",
       "      <td>[horno, cocer, horno]</td>\n",
       "      <td>0</td>\n",
       "    </tr>\n",
       "    <tr>\n",
       "      <th>157</th>\n",
       "      <td>102249</td>\n",
       "      <td>setas revueltas con gulas</td>\n",
       "      <td>2009</td>\n",
       "      <td>[aceite, gulas, ajo, huevos, sal, setas]</td>\n",
       "      <td>[sartén, horno]</td>\n",
       "      <td>0</td>\n",
       "    </tr>\n",
       "    <tr>\n",
       "      <th>181</th>\n",
       "      <td>102280</td>\n",
       "      <td>helado de limón con yogur</td>\n",
       "      <td>2009</td>\n",
       "      <td>[zumo, azúcar, yogur]</td>\n",
       "      <td>[secar]</td>\n",
       "      <td>0</td>\n",
       "    </tr>\n",
       "  </tbody>\n",
       "</table>\n",
       "</div>"
      ],
      "text/plain": [
       "        _id                              title  year  \\\n",
       "48   100571                  pastel de fiambre  2009   \n",
       "102  101608     ensalada de verano con patatas  2010   \n",
       "131  102187  torta de pan con sardinas de bota  2009   \n",
       "157  102249          setas revueltas con gulas  2009   \n",
       "181  102280          helado de limón con yogur  2009   \n",
       "\n",
       "                                           ingredients             techniques  \\\n",
       "48   [tomate, tocino, lechuga, vino, mantequilla, c...       [horno, sal, al]   \n",
       "102  [naranja, orégano, vinagre, aceitunas, huevos,...     [sal, agua, cocer]   \n",
       "131                            [pan, aceite, sardinas]  [horno, cocer, horno]   \n",
       "157           [aceite, gulas, ajo, huevos, sal, setas]        [sartén, horno]   \n",
       "181                              [zumo, azúcar, yogur]                [secar]   \n",
       "\n",
       "     creativity  \n",
       "48            0  \n",
       "102           0  \n",
       "131           0  \n",
       "157           0  \n",
       "181           0  "
      ]
     },
     "execution_count": 59,
     "metadata": {},
     "output_type": "execute_result"
    }
   ],
   "source": [
    "cookpad_super_recipes_df.head()"
   ]
  },
  {
   "cell_type": "markdown",
   "metadata": {},
   "source": [
    "### elbulli & cookpad"
   ]
  },
  {
   "cell_type": "code",
   "execution_count": 60,
   "metadata": {
    "collapsed": true
   },
   "outputs": [],
   "source": [
    "super_recipes_df = elbulli_super_recipes_df.append(cookpad_super_recipes_df, ignore_index=True)"
   ]
  },
  {
   "cell_type": "code",
   "execution_count": 61,
   "metadata": {
    "collapsed": false,
    "scrolled": true
   },
   "outputs": [
    {
     "data": {
      "text/html": [
       "<div>\n",
       "<table border=\"1\" class=\"dataframe\">\n",
       "  <thead>\n",
       "    <tr style=\"text-align: right;\">\n",
       "      <th></th>\n",
       "      <th>_id</th>\n",
       "      <th>title</th>\n",
       "      <th>year</th>\n",
       "      <th>ingredients</th>\n",
       "      <th>techniques</th>\n",
       "      <th>creativity</th>\n",
       "    </tr>\n",
       "  </thead>\n",
       "  <tbody>\n",
       "    <tr>\n",
       "      <th>0</th>\n",
       "      <td>1</td>\n",
       "      <td>terrina de melón con gelée de oporto</td>\n",
       "      <td>1987</td>\n",
       "      <td>[oporto, aceite, agua, pimienta, gelatina, mel...</td>\n",
       "      <td>[agua]</td>\n",
       "      <td>10</td>\n",
       "    </tr>\n",
       "    <tr>\n",
       "      <th>1</th>\n",
       "      <td>10</td>\n",
       "      <td>salmonetes gaudí</td>\n",
       "      <td>1987</td>\n",
       "      <td>[sal, pimientos, pimiento, piñones, vinagre, o...</td>\n",
       "      <td>[sal, marcar, cocción, horno, hervir, horno, s...</td>\n",
       "      <td>10</td>\n",
       "    </tr>\n",
       "    <tr>\n",
       "      <th>2</th>\n",
       "      <td>100</td>\n",
       "      <td>oursins</td>\n",
       "      <td>1990</td>\n",
       "      <td>[chocolate, claras, avellanas, yemas, azúcar, ...</td>\n",
       "      <td>[horno, horno, secar]</td>\n",
       "      <td>10</td>\n",
       "    </tr>\n",
       "    <tr>\n",
       "      <th>3</th>\n",
       "      <td>1000</td>\n",
       "      <td>ravioli sférico de té con cubo helado de limón</td>\n",
       "      <td>2004</td>\n",
       "      <td>[zumo, limón, alginato, agua, té, azúcar]</td>\n",
       "      <td>[agua, cocer, horno]</td>\n",
       "      <td>30</td>\n",
       "    </tr>\n",
       "    <tr>\n",
       "      <th>4</th>\n",
       "      <td>1001</td>\n",
       "      <td>ceps en ámbar de su caldo</td>\n",
       "      <td>2004</td>\n",
       "      <td>[sal, ceps, carragenato, romero, ceps, ceps, a...</td>\n",
       "      <td>[sal, horno, cocer, hervir, confitar, cazuela,...</td>\n",
       "      <td>30</td>\n",
       "    </tr>\n",
       "  </tbody>\n",
       "</table>\n",
       "</div>"
      ],
      "text/plain": [
       "    _id                                           title  year  \\\n",
       "0     1            terrina de melón con gelée de oporto  1987   \n",
       "1    10                                salmonetes gaudí  1987   \n",
       "2   100                                         oursins  1990   \n",
       "3  1000  ravioli sférico de té con cubo helado de limón  2004   \n",
       "4  1001                       ceps en ámbar de su caldo  2004   \n",
       "\n",
       "                                         ingredients  \\\n",
       "0  [oporto, aceite, agua, pimienta, gelatina, mel...   \n",
       "1  [sal, pimientos, pimiento, piñones, vinagre, o...   \n",
       "2  [chocolate, claras, avellanas, yemas, azúcar, ...   \n",
       "3          [zumo, limón, alginato, agua, té, azúcar]   \n",
       "4  [sal, ceps, carragenato, romero, ceps, ceps, a...   \n",
       "\n",
       "                                          techniques  creativity  \n",
       "0                                             [agua]          10  \n",
       "1  [sal, marcar, cocción, horno, hervir, horno, s...          10  \n",
       "2                              [horno, horno, secar]          10  \n",
       "3                               [agua, cocer, horno]          30  \n",
       "4  [sal, horno, cocer, hervir, confitar, cazuela,...          30  "
      ]
     },
     "execution_count": 61,
     "metadata": {},
     "output_type": "execute_result"
    }
   ],
   "source": [
    "super_recipes_df.head()"
   ]
  },
  {
   "cell_type": "code",
   "execution_count": 62,
   "metadata": {
    "collapsed": false
   },
   "outputs": [
    {
     "data": {
      "text/html": [
       "<div>\n",
       "<table border=\"1\" class=\"dataframe\">\n",
       "  <thead>\n",
       "    <tr style=\"text-align: right;\">\n",
       "      <th></th>\n",
       "      <th>_id</th>\n",
       "      <th>title</th>\n",
       "      <th>year</th>\n",
       "      <th>ingredients</th>\n",
       "      <th>techniques</th>\n",
       "      <th>creativity</th>\n",
       "    </tr>\n",
       "  </thead>\n",
       "  <tbody>\n",
       "    <tr>\n",
       "      <th>1613</th>\n",
       "      <td>99269</td>\n",
       "      <td>pollo salteado con setas</td>\n",
       "      <td>2009</td>\n",
       "      <td>[pimentón, aceite, ajo, perejil, setas, pollo,...</td>\n",
       "      <td>[horno, sal]</td>\n",
       "      <td>0</td>\n",
       "    </tr>\n",
       "    <tr>\n",
       "      <th>1614</th>\n",
       "      <td>99683</td>\n",
       "      <td>gazpaxo cordobés</td>\n",
       "      <td>2009</td>\n",
       "      <td>[tomates, vinagre, aceite, ajo, pimienta, huev...</td>\n",
       "      <td>[sal, hervir, agua, cocer]</td>\n",
       "      <td>0</td>\n",
       "    </tr>\n",
       "    <tr>\n",
       "      <th>1615</th>\n",
       "      <td>99876</td>\n",
       "      <td>consomé de pollo</td>\n",
       "      <td>2009</td>\n",
       "      <td>[chalotes, apio, puerro, zanahoria, pollo, hue...</td>\n",
       "      <td>[espuma, a, cocer, reducir, horno, cocción, ag...</td>\n",
       "      <td>0</td>\n",
       "    </tr>\n",
       "    <tr>\n",
       "      <th>1616</th>\n",
       "      <td>99954</td>\n",
       "      <td>pimientos asados en microondas</td>\n",
       "      <td>2009</td>\n",
       "      <td>[pimiento, aceite]</td>\n",
       "      <td>[crudo, microondas]</td>\n",
       "      <td>0</td>\n",
       "    </tr>\n",
       "    <tr>\n",
       "      <th>1617</th>\n",
       "      <td>99978</td>\n",
       "      <td>revuelto de espárragos con gambas</td>\n",
       "      <td>2009</td>\n",
       "      <td>[espárragos, aceite, huevos, ajo, gambas, sal]</td>\n",
       "      <td>[sal, horno, sartén]</td>\n",
       "      <td>0</td>\n",
       "    </tr>\n",
       "  </tbody>\n",
       "</table>\n",
       "</div>"
      ],
      "text/plain": [
       "        _id                              title  year  \\\n",
       "1613  99269           pollo salteado con setas  2009   \n",
       "1614  99683                   gazpaxo cordobés  2009   \n",
       "1615  99876                   consomé de pollo  2009   \n",
       "1616  99954     pimientos asados en microondas  2009   \n",
       "1617  99978  revuelto de espárragos con gambas  2009   \n",
       "\n",
       "                                            ingredients  \\\n",
       "1613  [pimentón, aceite, ajo, perejil, setas, pollo,...   \n",
       "1614  [tomates, vinagre, aceite, ajo, pimienta, huev...   \n",
       "1615  [chalotes, apio, puerro, zanahoria, pollo, hue...   \n",
       "1616                                 [pimiento, aceite]   \n",
       "1617     [espárragos, aceite, huevos, ajo, gambas, sal]   \n",
       "\n",
       "                                             techniques  creativity  \n",
       "1613                                       [horno, sal]           0  \n",
       "1614                         [sal, hervir, agua, cocer]           0  \n",
       "1615  [espuma, a, cocer, reducir, horno, cocción, ag...           0  \n",
       "1616                                [crudo, microondas]           0  \n",
       "1617                               [sal, horno, sartén]           0  "
      ]
     },
     "execution_count": 62,
     "metadata": {},
     "output_type": "execute_result"
    }
   ],
   "source": [
    "super_recipes_df.tail()"
   ]
  },
  {
   "cell_type": "markdown",
   "metadata": {},
   "source": [
    "## Types of ingredients, representative techniques"
   ]
  },
  {
   "cell_type": "markdown",
   "metadata": {},
   "source": [
    "### elbulli"
   ]
  },
  {
   "cell_type": "code",
   "execution_count": 63,
   "metadata": {
    "collapsed": false
   },
   "outputs": [],
   "source": [
    "elbulli_types_recipes_df = pd.read_csv('data/dbs/recipes_elbulli_types.csv')"
   ]
  },
  {
   "cell_type": "code",
   "execution_count": 64,
   "metadata": {
    "collapsed": false
   },
   "outputs": [
    {
     "data": {
      "text/plain": [
       "_id             int64\n",
       "title          object\n",
       "year            int64\n",
       "ingredients    object\n",
       "techniques     object\n",
       "dtype: object"
      ]
     },
     "execution_count": 64,
     "metadata": {},
     "output_type": "execute_result"
    }
   ],
   "source": [
    "elbulli_types_recipes_df.dtypes"
   ]
  },
  {
   "cell_type": "code",
   "execution_count": 65,
   "metadata": {
    "collapsed": false
   },
   "outputs": [
    {
     "data": {
      "text/html": [
       "<div>\n",
       "<table border=\"1\" class=\"dataframe\">\n",
       "  <thead>\n",
       "    <tr style=\"text-align: right;\">\n",
       "      <th></th>\n",
       "      <th>_id</th>\n",
       "      <th>title</th>\n",
       "      <th>year</th>\n",
       "      <th>ingredients</th>\n",
       "      <th>techniques</th>\n",
       "    </tr>\n",
       "  </thead>\n",
       "  <tbody>\n",
       "    <tr>\n",
       "      <th>0</th>\n",
       "      <td>1</td>\n",
       "      <td>terrina de melón con gelée de oporto</td>\n",
       "      <td>1987</td>\n",
       "      <td>[\"western\",\"western\",\"1\",\"western\",\"modernist\"...</td>\n",
       "      <td>[\"agua\"]</td>\n",
       "    </tr>\n",
       "    <tr>\n",
       "      <th>1</th>\n",
       "      <td>10</td>\n",
       "      <td>salmonetes gaudí</td>\n",
       "      <td>1987</td>\n",
       "      <td>[\"western\",\"western\",\"western\",\"1\",\"western\",\"...</td>\n",
       "      <td>[\"sal\",\"marcar\",\"cocción\",\"horno\",\"hervir\",\"ho...</td>\n",
       "    </tr>\n",
       "    <tr>\n",
       "      <th>2</th>\n",
       "      <td>100</td>\n",
       "      <td>oursins</td>\n",
       "      <td>1990</td>\n",
       "      <td>[\"western\",\"western\",\"1\",\"western\",\"western\",\"...</td>\n",
       "      <td>[\"horno\",\"horno\",\"secar\"]</td>\n",
       "    </tr>\n",
       "    <tr>\n",
       "      <th>3</th>\n",
       "      <td>1000</td>\n",
       "      <td>ravioli sférico de té con cubo helado de limón</td>\n",
       "      <td>2004</td>\n",
       "      <td>[\"1\",\"western\",\"modernist\",\"1\",\"western\",\"west...</td>\n",
       "      <td>[\"agua\",\"cocer\",\"horno\"]</td>\n",
       "    </tr>\n",
       "    <tr>\n",
       "      <th>4</th>\n",
       "      <td>1001</td>\n",
       "      <td>ceps en ámbar de su caldo</td>\n",
       "      <td>2004</td>\n",
       "      <td>[\"western\",\"modernist\",\"modernist\",\"modernist\"...</td>\n",
       "      <td>[\"sal\",\"horno\",\"cocer\",\"hervir\",\"confitar\",\"ca...</td>\n",
       "    </tr>\n",
       "  </tbody>\n",
       "</table>\n",
       "</div>"
      ],
      "text/plain": [
       "    _id                                           title  year  \\\n",
       "0     1            terrina de melón con gelée de oporto  1987   \n",
       "1    10                                salmonetes gaudí  1987   \n",
       "2   100                                         oursins  1990   \n",
       "3  1000  ravioli sférico de té con cubo helado de limón  2004   \n",
       "4  1001                       ceps en ámbar de su caldo  2004   \n",
       "\n",
       "                                         ingredients  \\\n",
       "0  [\"western\",\"western\",\"1\",\"western\",\"modernist\"...   \n",
       "1  [\"western\",\"western\",\"western\",\"1\",\"western\",\"...   \n",
       "2  [\"western\",\"western\",\"1\",\"western\",\"western\",\"...   \n",
       "3  [\"1\",\"western\",\"modernist\",\"1\",\"western\",\"west...   \n",
       "4  [\"western\",\"modernist\",\"modernist\",\"modernist\"...   \n",
       "\n",
       "                                          techniques  \n",
       "0                                           [\"agua\"]  \n",
       "1  [\"sal\",\"marcar\",\"cocción\",\"horno\",\"hervir\",\"ho...  \n",
       "2                          [\"horno\",\"horno\",\"secar\"]  \n",
       "3                           [\"agua\",\"cocer\",\"horno\"]  \n",
       "4  [\"sal\",\"horno\",\"cocer\",\"hervir\",\"confitar\",\"ca...  "
      ]
     },
     "execution_count": 65,
     "metadata": {},
     "output_type": "execute_result"
    }
   ],
   "source": [
    "elbulli_types_recipes_df.head()"
   ]
  },
  {
   "cell_type": "code",
   "execution_count": 66,
   "metadata": {
    "collapsed": false
   },
   "outputs": [],
   "source": [
    "elbulli_types_recipes_df['ingredients'] = elbulli_types_recipes_df.apply(lambda x: json.loads(x['ingredients']), axis=1)\n",
    "elbulli_types_recipes_df['techniques'] = elbulli_types_recipes_df.apply(lambda x: json.loads(x['techniques']), axis=1)"
   ]
  },
  {
   "cell_type": "code",
   "execution_count": 67,
   "metadata": {
    "collapsed": false
   },
   "outputs": [
    {
     "data": {
      "text/html": [
       "<div>\n",
       "<table border=\"1\" class=\"dataframe\">\n",
       "  <thead>\n",
       "    <tr style=\"text-align: right;\">\n",
       "      <th></th>\n",
       "      <th>_id</th>\n",
       "      <th>title</th>\n",
       "      <th>year</th>\n",
       "      <th>ingredients</th>\n",
       "      <th>techniques</th>\n",
       "    </tr>\n",
       "  </thead>\n",
       "  <tbody>\n",
       "    <tr>\n",
       "      <th>0</th>\n",
       "      <td>1</td>\n",
       "      <td>terrina de melón con gelée de oporto</td>\n",
       "      <td>1987</td>\n",
       "      <td>[western, western, 1, western, modernist, west...</td>\n",
       "      <td>[agua]</td>\n",
       "    </tr>\n",
       "    <tr>\n",
       "      <th>1</th>\n",
       "      <td>10</td>\n",
       "      <td>salmonetes gaudí</td>\n",
       "      <td>1987</td>\n",
       "      <td>[western, western, western, 1, western, wester...</td>\n",
       "      <td>[sal, marcar, cocción, horno, hervir, horno, s...</td>\n",
       "    </tr>\n",
       "    <tr>\n",
       "      <th>2</th>\n",
       "      <td>100</td>\n",
       "      <td>oursins</td>\n",
       "      <td>1990</td>\n",
       "      <td>[western, western, 1, western, western, western]</td>\n",
       "      <td>[horno, horno, secar]</td>\n",
       "    </tr>\n",
       "    <tr>\n",
       "      <th>3</th>\n",
       "      <td>1000</td>\n",
       "      <td>ravioli sférico de té con cubo helado de limón</td>\n",
       "      <td>2004</td>\n",
       "      <td>[1, western, modernist, 1, western, western]</td>\n",
       "      <td>[agua, cocer, horno]</td>\n",
       "    </tr>\n",
       "    <tr>\n",
       "      <th>4</th>\n",
       "      <td>1001</td>\n",
       "      <td>ceps en ámbar de su caldo</td>\n",
       "      <td>2004</td>\n",
       "      <td>[western, modernist, modernist, modernist, wes...</td>\n",
       "      <td>[sal, horno, cocer, hervir, confitar, cazuela,...</td>\n",
       "    </tr>\n",
       "  </tbody>\n",
       "</table>\n",
       "</div>"
      ],
      "text/plain": [
       "    _id                                           title  year  \\\n",
       "0     1            terrina de melón con gelée de oporto  1987   \n",
       "1    10                                salmonetes gaudí  1987   \n",
       "2   100                                         oursins  1990   \n",
       "3  1000  ravioli sférico de té con cubo helado de limón  2004   \n",
       "4  1001                       ceps en ámbar de su caldo  2004   \n",
       "\n",
       "                                         ingredients  \\\n",
       "0  [western, western, 1, western, modernist, west...   \n",
       "1  [western, western, western, 1, western, wester...   \n",
       "2   [western, western, 1, western, western, western]   \n",
       "3       [1, western, modernist, 1, western, western]   \n",
       "4  [western, modernist, modernist, modernist, wes...   \n",
       "\n",
       "                                          techniques  \n",
       "0                                             [agua]  \n",
       "1  [sal, marcar, cocción, horno, hervir, horno, s...  \n",
       "2                              [horno, horno, secar]  \n",
       "3                               [agua, cocer, horno]  \n",
       "4  [sal, horno, cocer, hervir, confitar, cazuela,...  "
      ]
     },
     "execution_count": 67,
     "metadata": {},
     "output_type": "execute_result"
    }
   ],
   "source": [
    "elbulli_types_recipes_df.head()"
   ]
  },
  {
   "cell_type": "code",
   "execution_count": 68,
   "metadata": {
    "collapsed": true
   },
   "outputs": [],
   "source": [
    "elbulli_types_recipes_df['creativity'] = elbulli_types_recipes_df.apply(\n",
    "    lambda x: 10 if 1987 <= x['year'] <= 1997 else \\\n",
    "              20 if 1998 <= x['year'] <= 2001 else \\\n",
    "              30 if 2002 <= x['year'] <= 2005 else \\\n",
    "              'UNKOWN', axis=1)"
   ]
  },
  {
   "cell_type": "code",
   "execution_count": 69,
   "metadata": {
    "collapsed": false,
    "scrolled": true
   },
   "outputs": [
    {
     "data": {
      "text/html": [
       "<div>\n",
       "<table border=\"1\" class=\"dataframe\">\n",
       "  <thead>\n",
       "    <tr style=\"text-align: right;\">\n",
       "      <th></th>\n",
       "      <th>_id</th>\n",
       "      <th>title</th>\n",
       "      <th>year</th>\n",
       "      <th>ingredients</th>\n",
       "      <th>techniques</th>\n",
       "      <th>creativity</th>\n",
       "    </tr>\n",
       "  </thead>\n",
       "  <tbody>\n",
       "    <tr>\n",
       "      <th>0</th>\n",
       "      <td>1</td>\n",
       "      <td>terrina de melón con gelée de oporto</td>\n",
       "      <td>1987</td>\n",
       "      <td>[western, western, 1, western, modernist, west...</td>\n",
       "      <td>[agua]</td>\n",
       "      <td>10</td>\n",
       "    </tr>\n",
       "    <tr>\n",
       "      <th>1</th>\n",
       "      <td>10</td>\n",
       "      <td>salmonetes gaudí</td>\n",
       "      <td>1987</td>\n",
       "      <td>[western, western, western, 1, western, wester...</td>\n",
       "      <td>[sal, marcar, cocción, horno, hervir, horno, s...</td>\n",
       "      <td>10</td>\n",
       "    </tr>\n",
       "    <tr>\n",
       "      <th>2</th>\n",
       "      <td>100</td>\n",
       "      <td>oursins</td>\n",
       "      <td>1990</td>\n",
       "      <td>[western, western, 1, western, western, western]</td>\n",
       "      <td>[horno, horno, secar]</td>\n",
       "      <td>10</td>\n",
       "    </tr>\n",
       "    <tr>\n",
       "      <th>3</th>\n",
       "      <td>1000</td>\n",
       "      <td>ravioli sférico de té con cubo helado de limón</td>\n",
       "      <td>2004</td>\n",
       "      <td>[1, western, modernist, 1, western, western]</td>\n",
       "      <td>[agua, cocer, horno]</td>\n",
       "      <td>30</td>\n",
       "    </tr>\n",
       "    <tr>\n",
       "      <th>4</th>\n",
       "      <td>1001</td>\n",
       "      <td>ceps en ámbar de su caldo</td>\n",
       "      <td>2004</td>\n",
       "      <td>[western, modernist, modernist, modernist, wes...</td>\n",
       "      <td>[sal, horno, cocer, hervir, confitar, cazuela,...</td>\n",
       "      <td>30</td>\n",
       "    </tr>\n",
       "  </tbody>\n",
       "</table>\n",
       "</div>"
      ],
      "text/plain": [
       "    _id                                           title  year  \\\n",
       "0     1            terrina de melón con gelée de oporto  1987   \n",
       "1    10                                salmonetes gaudí  1987   \n",
       "2   100                                         oursins  1990   \n",
       "3  1000  ravioli sférico de té con cubo helado de limón  2004   \n",
       "4  1001                       ceps en ámbar de su caldo  2004   \n",
       "\n",
       "                                         ingredients  \\\n",
       "0  [western, western, 1, western, modernist, west...   \n",
       "1  [western, western, western, 1, western, wester...   \n",
       "2   [western, western, 1, western, western, western]   \n",
       "3       [1, western, modernist, 1, western, western]   \n",
       "4  [western, modernist, modernist, modernist, wes...   \n",
       "\n",
       "                                          techniques  creativity  \n",
       "0                                             [agua]          10  \n",
       "1  [sal, marcar, cocción, horno, hervir, horno, s...          10  \n",
       "2                              [horno, horno, secar]          10  \n",
       "3                               [agua, cocer, horno]          30  \n",
       "4  [sal, horno, cocer, hervir, confitar, cazuela,...          30  "
      ]
     },
     "execution_count": 69,
     "metadata": {},
     "output_type": "execute_result"
    }
   ],
   "source": [
    "elbulli_types_recipes_df.head()"
   ]
  },
  {
   "cell_type": "markdown",
   "metadata": {},
   "source": [
    "### cookpad"
   ]
  },
  {
   "cell_type": "code",
   "execution_count": 70,
   "metadata": {
    "collapsed": false
   },
   "outputs": [],
   "source": [
    "cookpad_types_recipes_df = pd.read_csv('data/dbs/recipes_cookpad_types.csv')\n",
    "cookpad_types_recipes_df = my_sample(cookpad_types_recipes_df)"
   ]
  },
  {
   "cell_type": "code",
   "execution_count": 71,
   "metadata": {
    "collapsed": false
   },
   "outputs": [
    {
     "data": {
      "text/plain": [
       "_id             int64\n",
       "title          object\n",
       "year            int64\n",
       "ingredients    object\n",
       "techniques     object\n",
       "dtype: object"
      ]
     },
     "execution_count": 71,
     "metadata": {},
     "output_type": "execute_result"
    }
   ],
   "source": [
    "cookpad_types_recipes_df.dtypes"
   ]
  },
  {
   "cell_type": "code",
   "execution_count": 72,
   "metadata": {
    "collapsed": false
   },
   "outputs": [
    {
     "data": {
      "text/html": [
       "<div>\n",
       "<table border=\"1\" class=\"dataframe\">\n",
       "  <thead>\n",
       "    <tr style=\"text-align: right;\">\n",
       "      <th></th>\n",
       "      <th>_id</th>\n",
       "      <th>title</th>\n",
       "      <th>year</th>\n",
       "      <th>ingredients</th>\n",
       "      <th>techniques</th>\n",
       "    </tr>\n",
       "  </thead>\n",
       "  <tbody>\n",
       "    <tr>\n",
       "      <th>48</th>\n",
       "      <td>100571</td>\n",
       "      <td>pastel de fiambre</td>\n",
       "      <td>2009</td>\n",
       "      <td>[\"western\",\"western\",\"western\",\"western\",\"west...</td>\n",
       "      <td>[\"horno\",\"sal\",\"al baño maria\"]</td>\n",
       "    </tr>\n",
       "    <tr>\n",
       "      <th>102</th>\n",
       "      <td>101608</td>\n",
       "      <td>ensalada de verano con patatas</td>\n",
       "      <td>2010</td>\n",
       "      <td>[\"western\",\"western\",\"western\",\"western\",\"west...</td>\n",
       "      <td>[\"sal\",\"agua\",\"cocer\"]</td>\n",
       "    </tr>\n",
       "    <tr>\n",
       "      <th>131</th>\n",
       "      <td>102187</td>\n",
       "      <td>torta de pan con sardinas de bota</td>\n",
       "      <td>2009</td>\n",
       "      <td>[\"western\",\"western\",\"western\"]</td>\n",
       "      <td>[\"horno\",\"cocer\",\"horno\"]</td>\n",
       "    </tr>\n",
       "    <tr>\n",
       "      <th>157</th>\n",
       "      <td>102249</td>\n",
       "      <td>setas revueltas con gulas</td>\n",
       "      <td>2009</td>\n",
       "      <td>[\"western\",\"western\",\"western\",\"western\",\"west...</td>\n",
       "      <td>[\"sartén\",\"horno\"]</td>\n",
       "    </tr>\n",
       "    <tr>\n",
       "      <th>181</th>\n",
       "      <td>102280</td>\n",
       "      <td>helado de limón con yogur</td>\n",
       "      <td>2009</td>\n",
       "      <td>[\"western\",\"western\",\"western\"]</td>\n",
       "      <td>[\"secar\"]</td>\n",
       "    </tr>\n",
       "  </tbody>\n",
       "</table>\n",
       "</div>"
      ],
      "text/plain": [
       "        _id                              title  year  \\\n",
       "48   100571                  pastel de fiambre  2009   \n",
       "102  101608     ensalada de verano con patatas  2010   \n",
       "131  102187  torta de pan con sardinas de bota  2009   \n",
       "157  102249          setas revueltas con gulas  2009   \n",
       "181  102280          helado de limón con yogur  2009   \n",
       "\n",
       "                                           ingredients  \\\n",
       "48   [\"western\",\"western\",\"western\",\"western\",\"west...   \n",
       "102  [\"western\",\"western\",\"western\",\"western\",\"west...   \n",
       "131                    [\"western\",\"western\",\"western\"]   \n",
       "157  [\"western\",\"western\",\"western\",\"western\",\"west...   \n",
       "181                    [\"western\",\"western\",\"western\"]   \n",
       "\n",
       "                          techniques  \n",
       "48   [\"horno\",\"sal\",\"al baño maria\"]  \n",
       "102           [\"sal\",\"agua\",\"cocer\"]  \n",
       "131        [\"horno\",\"cocer\",\"horno\"]  \n",
       "157               [\"sartén\",\"horno\"]  \n",
       "181                        [\"secar\"]  "
      ]
     },
     "execution_count": 72,
     "metadata": {},
     "output_type": "execute_result"
    }
   ],
   "source": [
    "cookpad_types_recipes_df.head()"
   ]
  },
  {
   "cell_type": "code",
   "execution_count": 73,
   "metadata": {
    "collapsed": false
   },
   "outputs": [],
   "source": [
    "cookpad_types_recipes_df['ingredients'] = cookpad_types_recipes_df.apply(lambda x: json.loads(x['ingredients']), axis=1)\n",
    "cookpad_types_recipes_df['techniques'] = cookpad_types_recipes_df.apply(lambda x: json.loads(x['techniques']), axis=1)"
   ]
  },
  {
   "cell_type": "code",
   "execution_count": 74,
   "metadata": {
    "collapsed": false
   },
   "outputs": [
    {
     "data": {
      "text/html": [
       "<div>\n",
       "<table border=\"1\" class=\"dataframe\">\n",
       "  <thead>\n",
       "    <tr style=\"text-align: right;\">\n",
       "      <th></th>\n",
       "      <th>_id</th>\n",
       "      <th>title</th>\n",
       "      <th>year</th>\n",
       "      <th>ingredients</th>\n",
       "      <th>techniques</th>\n",
       "    </tr>\n",
       "  </thead>\n",
       "  <tbody>\n",
       "    <tr>\n",
       "      <th>48</th>\n",
       "      <td>100571</td>\n",
       "      <td>pastel de fiambre</td>\n",
       "      <td>2009</td>\n",
       "      <td>[western, western, western, western, western, ...</td>\n",
       "      <td>[horno, sal, al baño maria]</td>\n",
       "    </tr>\n",
       "    <tr>\n",
       "      <th>102</th>\n",
       "      <td>101608</td>\n",
       "      <td>ensalada de verano con patatas</td>\n",
       "      <td>2010</td>\n",
       "      <td>[western, western, western, western, western, ...</td>\n",
       "      <td>[sal, agua, cocer]</td>\n",
       "    </tr>\n",
       "    <tr>\n",
       "      <th>131</th>\n",
       "      <td>102187</td>\n",
       "      <td>torta de pan con sardinas de bota</td>\n",
       "      <td>2009</td>\n",
       "      <td>[western, western, western]</td>\n",
       "      <td>[horno, cocer, horno]</td>\n",
       "    </tr>\n",
       "    <tr>\n",
       "      <th>157</th>\n",
       "      <td>102249</td>\n",
       "      <td>setas revueltas con gulas</td>\n",
       "      <td>2009</td>\n",
       "      <td>[western, western, western, western, western, ...</td>\n",
       "      <td>[sartén, horno]</td>\n",
       "    </tr>\n",
       "    <tr>\n",
       "      <th>181</th>\n",
       "      <td>102280</td>\n",
       "      <td>helado de limón con yogur</td>\n",
       "      <td>2009</td>\n",
       "      <td>[western, western, western]</td>\n",
       "      <td>[secar]</td>\n",
       "    </tr>\n",
       "  </tbody>\n",
       "</table>\n",
       "</div>"
      ],
      "text/plain": [
       "        _id                              title  year  \\\n",
       "48   100571                  pastel de fiambre  2009   \n",
       "102  101608     ensalada de verano con patatas  2010   \n",
       "131  102187  torta de pan con sardinas de bota  2009   \n",
       "157  102249          setas revueltas con gulas  2009   \n",
       "181  102280          helado de limón con yogur  2009   \n",
       "\n",
       "                                           ingredients  \\\n",
       "48   [western, western, western, western, western, ...   \n",
       "102  [western, western, western, western, western, ...   \n",
       "131                        [western, western, western]   \n",
       "157  [western, western, western, western, western, ...   \n",
       "181                        [western, western, western]   \n",
       "\n",
       "                      techniques  \n",
       "48   [horno, sal, al baño maria]  \n",
       "102           [sal, agua, cocer]  \n",
       "131        [horno, cocer, horno]  \n",
       "157              [sartén, horno]  \n",
       "181                      [secar]  "
      ]
     },
     "execution_count": 74,
     "metadata": {},
     "output_type": "execute_result"
    }
   ],
   "source": [
    "cookpad_types_recipes_df.head()"
   ]
  },
  {
   "cell_type": "code",
   "execution_count": 75,
   "metadata": {
    "collapsed": true
   },
   "outputs": [],
   "source": [
    "cookpad_types_recipes_df['creativity'] = cookpad_types_recipes_df.apply(\n",
    "    lambda x: 0, axis=1)"
   ]
  },
  {
   "cell_type": "code",
   "execution_count": 76,
   "metadata": {
    "collapsed": false,
    "scrolled": true
   },
   "outputs": [
    {
     "data": {
      "text/html": [
       "<div>\n",
       "<table border=\"1\" class=\"dataframe\">\n",
       "  <thead>\n",
       "    <tr style=\"text-align: right;\">\n",
       "      <th></th>\n",
       "      <th>_id</th>\n",
       "      <th>title</th>\n",
       "      <th>year</th>\n",
       "      <th>ingredients</th>\n",
       "      <th>techniques</th>\n",
       "      <th>creativity</th>\n",
       "    </tr>\n",
       "  </thead>\n",
       "  <tbody>\n",
       "    <tr>\n",
       "      <th>48</th>\n",
       "      <td>100571</td>\n",
       "      <td>pastel de fiambre</td>\n",
       "      <td>2009</td>\n",
       "      <td>[western, western, western, western, western, ...</td>\n",
       "      <td>[horno, sal, al baño maria]</td>\n",
       "      <td>0</td>\n",
       "    </tr>\n",
       "    <tr>\n",
       "      <th>102</th>\n",
       "      <td>101608</td>\n",
       "      <td>ensalada de verano con patatas</td>\n",
       "      <td>2010</td>\n",
       "      <td>[western, western, western, western, western, ...</td>\n",
       "      <td>[sal, agua, cocer]</td>\n",
       "      <td>0</td>\n",
       "    </tr>\n",
       "    <tr>\n",
       "      <th>131</th>\n",
       "      <td>102187</td>\n",
       "      <td>torta de pan con sardinas de bota</td>\n",
       "      <td>2009</td>\n",
       "      <td>[western, western, western]</td>\n",
       "      <td>[horno, cocer, horno]</td>\n",
       "      <td>0</td>\n",
       "    </tr>\n",
       "    <tr>\n",
       "      <th>157</th>\n",
       "      <td>102249</td>\n",
       "      <td>setas revueltas con gulas</td>\n",
       "      <td>2009</td>\n",
       "      <td>[western, western, western, western, western, ...</td>\n",
       "      <td>[sartén, horno]</td>\n",
       "      <td>0</td>\n",
       "    </tr>\n",
       "    <tr>\n",
       "      <th>181</th>\n",
       "      <td>102280</td>\n",
       "      <td>helado de limón con yogur</td>\n",
       "      <td>2009</td>\n",
       "      <td>[western, western, western]</td>\n",
       "      <td>[secar]</td>\n",
       "      <td>0</td>\n",
       "    </tr>\n",
       "  </tbody>\n",
       "</table>\n",
       "</div>"
      ],
      "text/plain": [
       "        _id                              title  year  \\\n",
       "48   100571                  pastel de fiambre  2009   \n",
       "102  101608     ensalada de verano con patatas  2010   \n",
       "131  102187  torta de pan con sardinas de bota  2009   \n",
       "157  102249          setas revueltas con gulas  2009   \n",
       "181  102280          helado de limón con yogur  2009   \n",
       "\n",
       "                                           ingredients  \\\n",
       "48   [western, western, western, western, western, ...   \n",
       "102  [western, western, western, western, western, ...   \n",
       "131                        [western, western, western]   \n",
       "157  [western, western, western, western, western, ...   \n",
       "181                        [western, western, western]   \n",
       "\n",
       "                      techniques  creativity  \n",
       "48   [horno, sal, al baño maria]           0  \n",
       "102           [sal, agua, cocer]           0  \n",
       "131        [horno, cocer, horno]           0  \n",
       "157              [sartén, horno]           0  \n",
       "181                      [secar]           0  "
      ]
     },
     "execution_count": 76,
     "metadata": {},
     "output_type": "execute_result"
    }
   ],
   "source": [
    "cookpad_types_recipes_df.head()"
   ]
  },
  {
   "cell_type": "markdown",
   "metadata": {},
   "source": [
    "### elbulli & cookpad"
   ]
  },
  {
   "cell_type": "code",
   "execution_count": 77,
   "metadata": {
    "collapsed": true
   },
   "outputs": [],
   "source": [
    "types_recipes_df = elbulli_types_recipes_df.append(cookpad_types_recipes_df, ignore_index=True)"
   ]
  },
  {
   "cell_type": "code",
   "execution_count": 78,
   "metadata": {
    "collapsed": false,
    "scrolled": true
   },
   "outputs": [
    {
     "data": {
      "text/html": [
       "<div>\n",
       "<table border=\"1\" class=\"dataframe\">\n",
       "  <thead>\n",
       "    <tr style=\"text-align: right;\">\n",
       "      <th></th>\n",
       "      <th>_id</th>\n",
       "      <th>title</th>\n",
       "      <th>year</th>\n",
       "      <th>ingredients</th>\n",
       "      <th>techniques</th>\n",
       "      <th>creativity</th>\n",
       "    </tr>\n",
       "  </thead>\n",
       "  <tbody>\n",
       "    <tr>\n",
       "      <th>0</th>\n",
       "      <td>1</td>\n",
       "      <td>terrina de melón con gelée de oporto</td>\n",
       "      <td>1987</td>\n",
       "      <td>[western, western, 1, western, modernist, west...</td>\n",
       "      <td>[agua]</td>\n",
       "      <td>10</td>\n",
       "    </tr>\n",
       "    <tr>\n",
       "      <th>1</th>\n",
       "      <td>10</td>\n",
       "      <td>salmonetes gaudí</td>\n",
       "      <td>1987</td>\n",
       "      <td>[western, western, western, 1, western, wester...</td>\n",
       "      <td>[sal, marcar, cocción, horno, hervir, horno, s...</td>\n",
       "      <td>10</td>\n",
       "    </tr>\n",
       "    <tr>\n",
       "      <th>2</th>\n",
       "      <td>100</td>\n",
       "      <td>oursins</td>\n",
       "      <td>1990</td>\n",
       "      <td>[western, western, 1, western, western, western]</td>\n",
       "      <td>[horno, horno, secar]</td>\n",
       "      <td>10</td>\n",
       "    </tr>\n",
       "    <tr>\n",
       "      <th>3</th>\n",
       "      <td>1000</td>\n",
       "      <td>ravioli sférico de té con cubo helado de limón</td>\n",
       "      <td>2004</td>\n",
       "      <td>[1, western, modernist, 1, western, western]</td>\n",
       "      <td>[agua, cocer, horno]</td>\n",
       "      <td>30</td>\n",
       "    </tr>\n",
       "    <tr>\n",
       "      <th>4</th>\n",
       "      <td>1001</td>\n",
       "      <td>ceps en ámbar de su caldo</td>\n",
       "      <td>2004</td>\n",
       "      <td>[western, modernist, modernist, modernist, wes...</td>\n",
       "      <td>[sal, horno, cocer, hervir, confitar, cazuela,...</td>\n",
       "      <td>30</td>\n",
       "    </tr>\n",
       "  </tbody>\n",
       "</table>\n",
       "</div>"
      ],
      "text/plain": [
       "    _id                                           title  year  \\\n",
       "0     1            terrina de melón con gelée de oporto  1987   \n",
       "1    10                                salmonetes gaudí  1987   \n",
       "2   100                                         oursins  1990   \n",
       "3  1000  ravioli sférico de té con cubo helado de limón  2004   \n",
       "4  1001                       ceps en ámbar de su caldo  2004   \n",
       "\n",
       "                                         ingredients  \\\n",
       "0  [western, western, 1, western, modernist, west...   \n",
       "1  [western, western, western, 1, western, wester...   \n",
       "2   [western, western, 1, western, western, western]   \n",
       "3       [1, western, modernist, 1, western, western]   \n",
       "4  [western, modernist, modernist, modernist, wes...   \n",
       "\n",
       "                                          techniques  creativity  \n",
       "0                                             [agua]          10  \n",
       "1  [sal, marcar, cocción, horno, hervir, horno, s...          10  \n",
       "2                              [horno, horno, secar]          10  \n",
       "3                               [agua, cocer, horno]          30  \n",
       "4  [sal, horno, cocer, hervir, confitar, cazuela,...          30  "
      ]
     },
     "execution_count": 78,
     "metadata": {},
     "output_type": "execute_result"
    }
   ],
   "source": [
    "types_recipes_df.head()"
   ]
  },
  {
   "cell_type": "markdown",
   "metadata": {},
   "source": [
    "## Cuisines of ingredients, representative techniques"
   ]
  },
  {
   "cell_type": "markdown",
   "metadata": {},
   "source": [
    "### elbulli"
   ]
  },
  {
   "cell_type": "code",
   "execution_count": 79,
   "metadata": {
    "collapsed": false
   },
   "outputs": [],
   "source": [
    "elbulli_cuis_recipes_df = pd.read_csv('data/dbs/recipes_elbulli_cuisines.csv')"
   ]
  },
  {
   "cell_type": "code",
   "execution_count": 80,
   "metadata": {
    "collapsed": false
   },
   "outputs": [
    {
     "data": {
      "text/plain": [
       "_id             int64\n",
       "title          object\n",
       "year            int64\n",
       "ingredients    object\n",
       "techniques     object\n",
       "dtype: object"
      ]
     },
     "execution_count": 80,
     "metadata": {},
     "output_type": "execute_result"
    }
   ],
   "source": [
    "elbulli_cuis_recipes_df.dtypes"
   ]
  },
  {
   "cell_type": "code",
   "execution_count": 81,
   "metadata": {
    "collapsed": false
   },
   "outputs": [
    {
     "data": {
      "text/html": [
       "<div>\n",
       "<table border=\"1\" class=\"dataframe\">\n",
       "  <thead>\n",
       "    <tr style=\"text-align: right;\">\n",
       "      <th></th>\n",
       "      <th>_id</th>\n",
       "      <th>title</th>\n",
       "      <th>year</th>\n",
       "      <th>ingredients</th>\n",
       "      <th>techniques</th>\n",
       "    </tr>\n",
       "  </thead>\n",
       "  <tbody>\n",
       "    <tr>\n",
       "      <th>0</th>\n",
       "      <td>1</td>\n",
       "      <td>terrina de melón con gelée de oporto</td>\n",
       "      <td>1987</td>\n",
       "      <td>[\"other\",\"spicies_and_condimients\",\"drinks\",\"2...</td>\n",
       "      <td>[\"agua\"]</td>\n",
       "    </tr>\n",
       "    <tr>\n",
       "      <th>1</th>\n",
       "      <td>10</td>\n",
       "      <td>salmonetes gaudí</td>\n",
       "      <td>1987</td>\n",
       "      <td>[\"spicies_and_condimients\",\"vegetables\",\"veget...</td>\n",
       "      <td>[\"sal\",\"marcar\",\"cocción\",\"horno\",\"hervir\",\"ho...</td>\n",
       "    </tr>\n",
       "    <tr>\n",
       "      <th>2</th>\n",
       "      <td>100</td>\n",
       "      <td>oursins</td>\n",
       "      <td>1990</td>\n",
       "      <td>[\"sweets\",\"spicies_and_condimients\",\"nuts\",\"sp...</td>\n",
       "      <td>[\"horno\",\"horno\",\"secar\"]</td>\n",
       "    </tr>\n",
       "    <tr>\n",
       "      <th>3</th>\n",
       "      <td>1000</td>\n",
       "      <td>ravioli sférico de té con cubo helado de limón</td>\n",
       "      <td>2004</td>\n",
       "      <td>[\"14\",\"fruits\",\"other\",\"drinks\",\"drinks\",\"swee...</td>\n",
       "      <td>[\"agua\",\"cocer\",\"horno\"]</td>\n",
       "    </tr>\n",
       "    <tr>\n",
       "      <th>4</th>\n",
       "      <td>1001</td>\n",
       "      <td>ceps en ámbar de su caldo</td>\n",
       "      <td>2004</td>\n",
       "      <td>[\"spicies_and_condimients\",\"other\",\"other\",\"sp...</td>\n",
       "      <td>[\"sal\",\"horno\",\"cocer\",\"hervir\",\"confitar\",\"ca...</td>\n",
       "    </tr>\n",
       "  </tbody>\n",
       "</table>\n",
       "</div>"
      ],
      "text/plain": [
       "    _id                                           title  year  \\\n",
       "0     1            terrina de melón con gelée de oporto  1987   \n",
       "1    10                                salmonetes gaudí  1987   \n",
       "2   100                                         oursins  1990   \n",
       "3  1000  ravioli sférico de té con cubo helado de limón  2004   \n",
       "4  1001                       ceps en ámbar de su caldo  2004   \n",
       "\n",
       "                                         ingredients  \\\n",
       "0  [\"other\",\"spicies_and_condimients\",\"drinks\",\"2...   \n",
       "1  [\"spicies_and_condimients\",\"vegetables\",\"veget...   \n",
       "2  [\"sweets\",\"spicies_and_condimients\",\"nuts\",\"sp...   \n",
       "3  [\"14\",\"fruits\",\"other\",\"drinks\",\"drinks\",\"swee...   \n",
       "4  [\"spicies_and_condimients\",\"other\",\"other\",\"sp...   \n",
       "\n",
       "                                          techniques  \n",
       "0                                           [\"agua\"]  \n",
       "1  [\"sal\",\"marcar\",\"cocción\",\"horno\",\"hervir\",\"ho...  \n",
       "2                          [\"horno\",\"horno\",\"secar\"]  \n",
       "3                           [\"agua\",\"cocer\",\"horno\"]  \n",
       "4  [\"sal\",\"horno\",\"cocer\",\"hervir\",\"confitar\",\"ca...  "
      ]
     },
     "execution_count": 81,
     "metadata": {},
     "output_type": "execute_result"
    }
   ],
   "source": [
    "elbulli_cuis_recipes_df.head()"
   ]
  },
  {
   "cell_type": "code",
   "execution_count": 82,
   "metadata": {
    "collapsed": false
   },
   "outputs": [],
   "source": [
    "elbulli_cuis_recipes_df['ingredients'] = elbulli_cuis_recipes_df.apply(lambda x: json.loads(x['ingredients']), axis=1)\n",
    "elbulli_cuis_recipes_df['techniques'] = elbulli_cuis_recipes_df.apply(lambda x: json.loads(x['techniques']), axis=1)"
   ]
  },
  {
   "cell_type": "code",
   "execution_count": 83,
   "metadata": {
    "collapsed": false
   },
   "outputs": [
    {
     "data": {
      "text/html": [
       "<div>\n",
       "<table border=\"1\" class=\"dataframe\">\n",
       "  <thead>\n",
       "    <tr style=\"text-align: right;\">\n",
       "      <th></th>\n",
       "      <th>_id</th>\n",
       "      <th>title</th>\n",
       "      <th>year</th>\n",
       "      <th>ingredients</th>\n",
       "      <th>techniques</th>\n",
       "    </tr>\n",
       "  </thead>\n",
       "  <tbody>\n",
       "    <tr>\n",
       "      <th>0</th>\n",
       "      <td>1</td>\n",
       "      <td>terrina de melón con gelée de oporto</td>\n",
       "      <td>1987</td>\n",
       "      <td>[other, spicies_and_condimients, drinks, 2, ot...</td>\n",
       "      <td>[agua]</td>\n",
       "    </tr>\n",
       "    <tr>\n",
       "      <th>1</th>\n",
       "      <td>10</td>\n",
       "      <td>salmonetes gaudí</td>\n",
       "      <td>1987</td>\n",
       "      <td>[spicies_and_condimients, vegetables, vegetabl...</td>\n",
       "      <td>[sal, marcar, cocción, horno, hervir, horno, s...</td>\n",
       "    </tr>\n",
       "    <tr>\n",
       "      <th>2</th>\n",
       "      <td>100</td>\n",
       "      <td>oursins</td>\n",
       "      <td>1990</td>\n",
       "      <td>[sweets, spicies_and_condimients, nuts, spicie...</td>\n",
       "      <td>[horno, horno, secar]</td>\n",
       "    </tr>\n",
       "    <tr>\n",
       "      <th>3</th>\n",
       "      <td>1000</td>\n",
       "      <td>ravioli sférico de té con cubo helado de limón</td>\n",
       "      <td>2004</td>\n",
       "      <td>[14, fruits, other, drinks, drinks, sweets]</td>\n",
       "      <td>[agua, cocer, horno]</td>\n",
       "    </tr>\n",
       "    <tr>\n",
       "      <th>4</th>\n",
       "      <td>1001</td>\n",
       "      <td>ceps en ámbar de su caldo</td>\n",
       "      <td>2004</td>\n",
       "      <td>[spicies_and_condimients, other, other, spicie...</td>\n",
       "      <td>[sal, horno, cocer, hervir, confitar, cazuela,...</td>\n",
       "    </tr>\n",
       "  </tbody>\n",
       "</table>\n",
       "</div>"
      ],
      "text/plain": [
       "    _id                                           title  year  \\\n",
       "0     1            terrina de melón con gelée de oporto  1987   \n",
       "1    10                                salmonetes gaudí  1987   \n",
       "2   100                                         oursins  1990   \n",
       "3  1000  ravioli sférico de té con cubo helado de limón  2004   \n",
       "4  1001                       ceps en ámbar de su caldo  2004   \n",
       "\n",
       "                                         ingredients  \\\n",
       "0  [other, spicies_and_condimients, drinks, 2, ot...   \n",
       "1  [spicies_and_condimients, vegetables, vegetabl...   \n",
       "2  [sweets, spicies_and_condimients, nuts, spicie...   \n",
       "3        [14, fruits, other, drinks, drinks, sweets]   \n",
       "4  [spicies_and_condimients, other, other, spicie...   \n",
       "\n",
       "                                          techniques  \n",
       "0                                             [agua]  \n",
       "1  [sal, marcar, cocción, horno, hervir, horno, s...  \n",
       "2                              [horno, horno, secar]  \n",
       "3                               [agua, cocer, horno]  \n",
       "4  [sal, horno, cocer, hervir, confitar, cazuela,...  "
      ]
     },
     "execution_count": 83,
     "metadata": {},
     "output_type": "execute_result"
    }
   ],
   "source": [
    "elbulli_cuis_recipes_df.head()"
   ]
  },
  {
   "cell_type": "code",
   "execution_count": 84,
   "metadata": {
    "collapsed": true
   },
   "outputs": [],
   "source": [
    "elbulli_cuis_recipes_df['creativity'] = elbulli_cuis_recipes_df.apply(\n",
    "    lambda x: 10 if 1987 <= x['year'] <= 1997 else \\\n",
    "              20 if 1998 <= x['year'] <= 2001 else \\\n",
    "              30 if 2002 <= x['year'] <= 2005 else \\\n",
    "              'UNKOWN', axis=1)"
   ]
  },
  {
   "cell_type": "code",
   "execution_count": 85,
   "metadata": {
    "collapsed": false,
    "scrolled": true
   },
   "outputs": [
    {
     "data": {
      "text/html": [
       "<div>\n",
       "<table border=\"1\" class=\"dataframe\">\n",
       "  <thead>\n",
       "    <tr style=\"text-align: right;\">\n",
       "      <th></th>\n",
       "      <th>_id</th>\n",
       "      <th>title</th>\n",
       "      <th>year</th>\n",
       "      <th>ingredients</th>\n",
       "      <th>techniques</th>\n",
       "      <th>creativity</th>\n",
       "    </tr>\n",
       "  </thead>\n",
       "  <tbody>\n",
       "    <tr>\n",
       "      <th>0</th>\n",
       "      <td>1</td>\n",
       "      <td>terrina de melón con gelée de oporto</td>\n",
       "      <td>1987</td>\n",
       "      <td>[other, spicies_and_condimients, drinks, 2, ot...</td>\n",
       "      <td>[agua]</td>\n",
       "      <td>10</td>\n",
       "    </tr>\n",
       "    <tr>\n",
       "      <th>1</th>\n",
       "      <td>10</td>\n",
       "      <td>salmonetes gaudí</td>\n",
       "      <td>1987</td>\n",
       "      <td>[spicies_and_condimients, vegetables, vegetabl...</td>\n",
       "      <td>[sal, marcar, cocción, horno, hervir, horno, s...</td>\n",
       "      <td>10</td>\n",
       "    </tr>\n",
       "    <tr>\n",
       "      <th>2</th>\n",
       "      <td>100</td>\n",
       "      <td>oursins</td>\n",
       "      <td>1990</td>\n",
       "      <td>[sweets, spicies_and_condimients, nuts, spicie...</td>\n",
       "      <td>[horno, horno, secar]</td>\n",
       "      <td>10</td>\n",
       "    </tr>\n",
       "    <tr>\n",
       "      <th>3</th>\n",
       "      <td>1000</td>\n",
       "      <td>ravioli sférico de té con cubo helado de limón</td>\n",
       "      <td>2004</td>\n",
       "      <td>[14, fruits, other, drinks, drinks, sweets]</td>\n",
       "      <td>[agua, cocer, horno]</td>\n",
       "      <td>30</td>\n",
       "    </tr>\n",
       "    <tr>\n",
       "      <th>4</th>\n",
       "      <td>1001</td>\n",
       "      <td>ceps en ámbar de su caldo</td>\n",
       "      <td>2004</td>\n",
       "      <td>[spicies_and_condimients, other, other, spicie...</td>\n",
       "      <td>[sal, horno, cocer, hervir, confitar, cazuela,...</td>\n",
       "      <td>30</td>\n",
       "    </tr>\n",
       "  </tbody>\n",
       "</table>\n",
       "</div>"
      ],
      "text/plain": [
       "    _id                                           title  year  \\\n",
       "0     1            terrina de melón con gelée de oporto  1987   \n",
       "1    10                                salmonetes gaudí  1987   \n",
       "2   100                                         oursins  1990   \n",
       "3  1000  ravioli sférico de té con cubo helado de limón  2004   \n",
       "4  1001                       ceps en ámbar de su caldo  2004   \n",
       "\n",
       "                                         ingredients  \\\n",
       "0  [other, spicies_and_condimients, drinks, 2, ot...   \n",
       "1  [spicies_and_condimients, vegetables, vegetabl...   \n",
       "2  [sweets, spicies_and_condimients, nuts, spicie...   \n",
       "3        [14, fruits, other, drinks, drinks, sweets]   \n",
       "4  [spicies_and_condimients, other, other, spicie...   \n",
       "\n",
       "                                          techniques  creativity  \n",
       "0                                             [agua]          10  \n",
       "1  [sal, marcar, cocción, horno, hervir, horno, s...          10  \n",
       "2                              [horno, horno, secar]          10  \n",
       "3                               [agua, cocer, horno]          30  \n",
       "4  [sal, horno, cocer, hervir, confitar, cazuela,...          30  "
      ]
     },
     "execution_count": 85,
     "metadata": {},
     "output_type": "execute_result"
    }
   ],
   "source": [
    "elbulli_cuis_recipes_df.head()"
   ]
  },
  {
   "cell_type": "markdown",
   "metadata": {},
   "source": [
    "### cookpad"
   ]
  },
  {
   "cell_type": "code",
   "execution_count": 86,
   "metadata": {
    "collapsed": false
   },
   "outputs": [],
   "source": [
    "cookpad_cuis_recipes_df = pd.read_csv('data/dbs/recipes_cookpad_cuisines.csv')\n",
    "cookpad_cuis_recipes_df = my_sample(cookpad_cuis_recipes_df)"
   ]
  },
  {
   "cell_type": "code",
   "execution_count": 87,
   "metadata": {
    "collapsed": false
   },
   "outputs": [
    {
     "data": {
      "text/plain": [
       "_id             int64\n",
       "title          object\n",
       "year            int64\n",
       "ingredients    object\n",
       "techniques     object\n",
       "dtype: object"
      ]
     },
     "execution_count": 87,
     "metadata": {},
     "output_type": "execute_result"
    }
   ],
   "source": [
    "cookpad_cuis_recipes_df.dtypes"
   ]
  },
  {
   "cell_type": "code",
   "execution_count": 88,
   "metadata": {
    "collapsed": false
   },
   "outputs": [
    {
     "data": {
      "text/html": [
       "<div>\n",
       "<table border=\"1\" class=\"dataframe\">\n",
       "  <thead>\n",
       "    <tr style=\"text-align: right;\">\n",
       "      <th></th>\n",
       "      <th>_id</th>\n",
       "      <th>title</th>\n",
       "      <th>year</th>\n",
       "      <th>ingredients</th>\n",
       "      <th>techniques</th>\n",
       "    </tr>\n",
       "  </thead>\n",
       "  <tbody>\n",
       "    <tr>\n",
       "      <th>48</th>\n",
       "      <td>100571</td>\n",
       "      <td>pastel de fiambre</td>\n",
       "      <td>2009</td>\n",
       "      <td>[\"vegetables\",\"meats\",\"vegetables\",\"drinks\",\"d...</td>\n",
       "      <td>[\"horno\",\"sal\",\"al baño maria\"]</td>\n",
       "    </tr>\n",
       "    <tr>\n",
       "      <th>102</th>\n",
       "      <td>101608</td>\n",
       "      <td>ensalada de verano con patatas</td>\n",
       "      <td>2010</td>\n",
       "      <td>[\"fruits\",\"spicies_and_condimients\",\"spicies_a...</td>\n",
       "      <td>[\"sal\",\"agua\",\"cocer\"]</td>\n",
       "    </tr>\n",
       "    <tr>\n",
       "      <th>131</th>\n",
       "      <td>102187</td>\n",
       "      <td>torta de pan con sardinas de bota</td>\n",
       "      <td>2009</td>\n",
       "      <td>[\"cereals\",\"spicies_and_condimients\",\"seafood\"]</td>\n",
       "      <td>[\"horno\",\"cocer\",\"horno\"]</td>\n",
       "    </tr>\n",
       "    <tr>\n",
       "      <th>157</th>\n",
       "      <td>102249</td>\n",
       "      <td>setas revueltas con gulas</td>\n",
       "      <td>2009</td>\n",
       "      <td>[\"spicies_and_condimients\",\"seafood\",\"spicies_...</td>\n",
       "      <td>[\"sartén\",\"horno\"]</td>\n",
       "    </tr>\n",
       "    <tr>\n",
       "      <th>181</th>\n",
       "      <td>102280</td>\n",
       "      <td>helado de limón con yogur</td>\n",
       "      <td>2009</td>\n",
       "      <td>[\"drinks\",\"sweets\",\"dairy\"]</td>\n",
       "      <td>[\"secar\"]</td>\n",
       "    </tr>\n",
       "  </tbody>\n",
       "</table>\n",
       "</div>"
      ],
      "text/plain": [
       "        _id                              title  year  \\\n",
       "48   100571                  pastel de fiambre  2009   \n",
       "102  101608     ensalada de verano con patatas  2010   \n",
       "131  102187  torta de pan con sardinas de bota  2009   \n",
       "157  102249          setas revueltas con gulas  2009   \n",
       "181  102280          helado de limón con yogur  2009   \n",
       "\n",
       "                                           ingredients  \\\n",
       "48   [\"vegetables\",\"meats\",\"vegetables\",\"drinks\",\"d...   \n",
       "102  [\"fruits\",\"spicies_and_condimients\",\"spicies_a...   \n",
       "131    [\"cereals\",\"spicies_and_condimients\",\"seafood\"]   \n",
       "157  [\"spicies_and_condimients\",\"seafood\",\"spicies_...   \n",
       "181                        [\"drinks\",\"sweets\",\"dairy\"]   \n",
       "\n",
       "                          techniques  \n",
       "48   [\"horno\",\"sal\",\"al baño maria\"]  \n",
       "102           [\"sal\",\"agua\",\"cocer\"]  \n",
       "131        [\"horno\",\"cocer\",\"horno\"]  \n",
       "157               [\"sartén\",\"horno\"]  \n",
       "181                        [\"secar\"]  "
      ]
     },
     "execution_count": 88,
     "metadata": {},
     "output_type": "execute_result"
    }
   ],
   "source": [
    "cookpad_cuis_recipes_df.head()"
   ]
  },
  {
   "cell_type": "code",
   "execution_count": 89,
   "metadata": {
    "collapsed": false
   },
   "outputs": [],
   "source": [
    "cookpad_cuis_recipes_df['ingredients'] = cookpad_cuis_recipes_df.apply(lambda x: json.loads(x['ingredients']), axis=1)\n",
    "cookpad_cuis_recipes_df['techniques'] = cookpad_cuis_recipes_df.apply(lambda x: json.loads(x['techniques']), axis=1)"
   ]
  },
  {
   "cell_type": "code",
   "execution_count": 90,
   "metadata": {
    "collapsed": false
   },
   "outputs": [
    {
     "data": {
      "text/html": [
       "<div>\n",
       "<table border=\"1\" class=\"dataframe\">\n",
       "  <thead>\n",
       "    <tr style=\"text-align: right;\">\n",
       "      <th></th>\n",
       "      <th>_id</th>\n",
       "      <th>title</th>\n",
       "      <th>year</th>\n",
       "      <th>ingredients</th>\n",
       "      <th>techniques</th>\n",
       "    </tr>\n",
       "  </thead>\n",
       "  <tbody>\n",
       "    <tr>\n",
       "      <th>48</th>\n",
       "      <td>100571</td>\n",
       "      <td>pastel de fiambre</td>\n",
       "      <td>2009</td>\n",
       "      <td>[vegetables, meats, vegetables, drinks, dairy,...</td>\n",
       "      <td>[horno, sal, al baño maria]</td>\n",
       "    </tr>\n",
       "    <tr>\n",
       "      <th>102</th>\n",
       "      <td>101608</td>\n",
       "      <td>ensalada de verano con patatas</td>\n",
       "      <td>2010</td>\n",
       "      <td>[fruits, spicies_and_condimients, spicies_and_...</td>\n",
       "      <td>[sal, agua, cocer]</td>\n",
       "    </tr>\n",
       "    <tr>\n",
       "      <th>131</th>\n",
       "      <td>102187</td>\n",
       "      <td>torta de pan con sardinas de bota</td>\n",
       "      <td>2009</td>\n",
       "      <td>[cereals, spicies_and_condimients, seafood]</td>\n",
       "      <td>[horno, cocer, horno]</td>\n",
       "    </tr>\n",
       "    <tr>\n",
       "      <th>157</th>\n",
       "      <td>102249</td>\n",
       "      <td>setas revueltas con gulas</td>\n",
       "      <td>2009</td>\n",
       "      <td>[spicies_and_condimients, seafood, spicies_and...</td>\n",
       "      <td>[sartén, horno]</td>\n",
       "    </tr>\n",
       "    <tr>\n",
       "      <th>181</th>\n",
       "      <td>102280</td>\n",
       "      <td>helado de limón con yogur</td>\n",
       "      <td>2009</td>\n",
       "      <td>[drinks, sweets, dairy]</td>\n",
       "      <td>[secar]</td>\n",
       "    </tr>\n",
       "  </tbody>\n",
       "</table>\n",
       "</div>"
      ],
      "text/plain": [
       "        _id                              title  year  \\\n",
       "48   100571                  pastel de fiambre  2009   \n",
       "102  101608     ensalada de verano con patatas  2010   \n",
       "131  102187  torta de pan con sardinas de bota  2009   \n",
       "157  102249          setas revueltas con gulas  2009   \n",
       "181  102280          helado de limón con yogur  2009   \n",
       "\n",
       "                                           ingredients  \\\n",
       "48   [vegetables, meats, vegetables, drinks, dairy,...   \n",
       "102  [fruits, spicies_and_condimients, spicies_and_...   \n",
       "131        [cereals, spicies_and_condimients, seafood]   \n",
       "157  [spicies_and_condimients, seafood, spicies_and...   \n",
       "181                            [drinks, sweets, dairy]   \n",
       "\n",
       "                      techniques  \n",
       "48   [horno, sal, al baño maria]  \n",
       "102           [sal, agua, cocer]  \n",
       "131        [horno, cocer, horno]  \n",
       "157              [sartén, horno]  \n",
       "181                      [secar]  "
      ]
     },
     "execution_count": 90,
     "metadata": {},
     "output_type": "execute_result"
    }
   ],
   "source": [
    "cookpad_cuis_recipes_df.head()"
   ]
  },
  {
   "cell_type": "code",
   "execution_count": 91,
   "metadata": {
    "collapsed": true
   },
   "outputs": [],
   "source": [
    "cookpad_cuis_recipes_df['creativity'] = cookpad_cuis_recipes_df.apply(\n",
    "    lambda x: 0, axis=1)"
   ]
  },
  {
   "cell_type": "code",
   "execution_count": 92,
   "metadata": {
    "collapsed": false,
    "scrolled": true
   },
   "outputs": [
    {
     "data": {
      "text/html": [
       "<div>\n",
       "<table border=\"1\" class=\"dataframe\">\n",
       "  <thead>\n",
       "    <tr style=\"text-align: right;\">\n",
       "      <th></th>\n",
       "      <th>_id</th>\n",
       "      <th>title</th>\n",
       "      <th>year</th>\n",
       "      <th>ingredients</th>\n",
       "      <th>techniques</th>\n",
       "      <th>creativity</th>\n",
       "    </tr>\n",
       "  </thead>\n",
       "  <tbody>\n",
       "    <tr>\n",
       "      <th>48</th>\n",
       "      <td>100571</td>\n",
       "      <td>pastel de fiambre</td>\n",
       "      <td>2009</td>\n",
       "      <td>[vegetables, meats, vegetables, drinks, dairy,...</td>\n",
       "      <td>[horno, sal, al baño maria]</td>\n",
       "      <td>0</td>\n",
       "    </tr>\n",
       "    <tr>\n",
       "      <th>102</th>\n",
       "      <td>101608</td>\n",
       "      <td>ensalada de verano con patatas</td>\n",
       "      <td>2010</td>\n",
       "      <td>[fruits, spicies_and_condimients, spicies_and_...</td>\n",
       "      <td>[sal, agua, cocer]</td>\n",
       "      <td>0</td>\n",
       "    </tr>\n",
       "    <tr>\n",
       "      <th>131</th>\n",
       "      <td>102187</td>\n",
       "      <td>torta de pan con sardinas de bota</td>\n",
       "      <td>2009</td>\n",
       "      <td>[cereals, spicies_and_condimients, seafood]</td>\n",
       "      <td>[horno, cocer, horno]</td>\n",
       "      <td>0</td>\n",
       "    </tr>\n",
       "    <tr>\n",
       "      <th>157</th>\n",
       "      <td>102249</td>\n",
       "      <td>setas revueltas con gulas</td>\n",
       "      <td>2009</td>\n",
       "      <td>[spicies_and_condimients, seafood, spicies_and...</td>\n",
       "      <td>[sartén, horno]</td>\n",
       "      <td>0</td>\n",
       "    </tr>\n",
       "    <tr>\n",
       "      <th>181</th>\n",
       "      <td>102280</td>\n",
       "      <td>helado de limón con yogur</td>\n",
       "      <td>2009</td>\n",
       "      <td>[drinks, sweets, dairy]</td>\n",
       "      <td>[secar]</td>\n",
       "      <td>0</td>\n",
       "    </tr>\n",
       "  </tbody>\n",
       "</table>\n",
       "</div>"
      ],
      "text/plain": [
       "        _id                              title  year  \\\n",
       "48   100571                  pastel de fiambre  2009   \n",
       "102  101608     ensalada de verano con patatas  2010   \n",
       "131  102187  torta de pan con sardinas de bota  2009   \n",
       "157  102249          setas revueltas con gulas  2009   \n",
       "181  102280          helado de limón con yogur  2009   \n",
       "\n",
       "                                           ingredients  \\\n",
       "48   [vegetables, meats, vegetables, drinks, dairy,...   \n",
       "102  [fruits, spicies_and_condimients, spicies_and_...   \n",
       "131        [cereals, spicies_and_condimients, seafood]   \n",
       "157  [spicies_and_condimients, seafood, spicies_and...   \n",
       "181                            [drinks, sweets, dairy]   \n",
       "\n",
       "                      techniques  creativity  \n",
       "48   [horno, sal, al baño maria]           0  \n",
       "102           [sal, agua, cocer]           0  \n",
       "131        [horno, cocer, horno]           0  \n",
       "157              [sartén, horno]           0  \n",
       "181                      [secar]           0  "
      ]
     },
     "execution_count": 92,
     "metadata": {},
     "output_type": "execute_result"
    }
   ],
   "source": [
    "cookpad_cuis_recipes_df.head()"
   ]
  },
  {
   "cell_type": "markdown",
   "metadata": {},
   "source": [
    "### elbulli & cookpad"
   ]
  },
  {
   "cell_type": "code",
   "execution_count": 93,
   "metadata": {
    "collapsed": true
   },
   "outputs": [],
   "source": [
    "cuis_recipes_df = elbulli_cuis_recipes_df.append(cookpad_cuis_recipes_df, ignore_index=True)"
   ]
  },
  {
   "cell_type": "code",
   "execution_count": 94,
   "metadata": {
    "collapsed": false,
    "scrolled": true
   },
   "outputs": [
    {
     "data": {
      "text/html": [
       "<div>\n",
       "<table border=\"1\" class=\"dataframe\">\n",
       "  <thead>\n",
       "    <tr style=\"text-align: right;\">\n",
       "      <th></th>\n",
       "      <th>_id</th>\n",
       "      <th>title</th>\n",
       "      <th>year</th>\n",
       "      <th>ingredients</th>\n",
       "      <th>techniques</th>\n",
       "      <th>creativity</th>\n",
       "    </tr>\n",
       "  </thead>\n",
       "  <tbody>\n",
       "    <tr>\n",
       "      <th>0</th>\n",
       "      <td>1</td>\n",
       "      <td>terrina de melón con gelée de oporto</td>\n",
       "      <td>1987</td>\n",
       "      <td>[other, spicies_and_condimients, drinks, 2, ot...</td>\n",
       "      <td>[agua]</td>\n",
       "      <td>10</td>\n",
       "    </tr>\n",
       "    <tr>\n",
       "      <th>1</th>\n",
       "      <td>10</td>\n",
       "      <td>salmonetes gaudí</td>\n",
       "      <td>1987</td>\n",
       "      <td>[spicies_and_condimients, vegetables, vegetabl...</td>\n",
       "      <td>[sal, marcar, cocción, horno, hervir, horno, s...</td>\n",
       "      <td>10</td>\n",
       "    </tr>\n",
       "    <tr>\n",
       "      <th>2</th>\n",
       "      <td>100</td>\n",
       "      <td>oursins</td>\n",
       "      <td>1990</td>\n",
       "      <td>[sweets, spicies_and_condimients, nuts, spicie...</td>\n",
       "      <td>[horno, horno, secar]</td>\n",
       "      <td>10</td>\n",
       "    </tr>\n",
       "    <tr>\n",
       "      <th>3</th>\n",
       "      <td>1000</td>\n",
       "      <td>ravioli sférico de té con cubo helado de limón</td>\n",
       "      <td>2004</td>\n",
       "      <td>[14, fruits, other, drinks, drinks, sweets]</td>\n",
       "      <td>[agua, cocer, horno]</td>\n",
       "      <td>30</td>\n",
       "    </tr>\n",
       "    <tr>\n",
       "      <th>4</th>\n",
       "      <td>1001</td>\n",
       "      <td>ceps en ámbar de su caldo</td>\n",
       "      <td>2004</td>\n",
       "      <td>[spicies_and_condimients, other, other, spicie...</td>\n",
       "      <td>[sal, horno, cocer, hervir, confitar, cazuela,...</td>\n",
       "      <td>30</td>\n",
       "    </tr>\n",
       "  </tbody>\n",
       "</table>\n",
       "</div>"
      ],
      "text/plain": [
       "    _id                                           title  year  \\\n",
       "0     1            terrina de melón con gelée de oporto  1987   \n",
       "1    10                                salmonetes gaudí  1987   \n",
       "2   100                                         oursins  1990   \n",
       "3  1000  ravioli sférico de té con cubo helado de limón  2004   \n",
       "4  1001                       ceps en ámbar de su caldo  2004   \n",
       "\n",
       "                                         ingredients  \\\n",
       "0  [other, spicies_and_condimients, drinks, 2, ot...   \n",
       "1  [spicies_and_condimients, vegetables, vegetabl...   \n",
       "2  [sweets, spicies_and_condimients, nuts, spicie...   \n",
       "3        [14, fruits, other, drinks, drinks, sweets]   \n",
       "4  [spicies_and_condimients, other, other, spicie...   \n",
       "\n",
       "                                          techniques  creativity  \n",
       "0                                             [agua]          10  \n",
       "1  [sal, marcar, cocción, horno, hervir, horno, s...          10  \n",
       "2                              [horno, horno, secar]          10  \n",
       "3                               [agua, cocer, horno]          30  \n",
       "4  [sal, horno, cocer, hervir, confitar, cazuela,...          30  "
      ]
     },
     "execution_count": 94,
     "metadata": {},
     "output_type": "execute_result"
    }
   ],
   "source": [
    "cuis_recipes_df.head()"
   ]
  },
  {
   "cell_type": "markdown",
   "metadata": {
    "collapsed": true
   },
   "source": [
    "# Formatting data"
   ]
  },
  {
   "cell_type": "code",
   "execution_count": 95,
   "metadata": {
    "collapsed": false
   },
   "outputs": [],
   "source": [
    "def join_ingredients_and_techniques(ingr_list, tech_list):\n",
    "    i_list = ['i_' + '_'.join(x.split()) for x in ingr_list]\n",
    "    t_list = ['t_' + '_'.join(x.split()) for x in tech_list]\n",
    "    return ' '.join(i_list + t_list)"
   ]
  },
  {
   "cell_type": "code",
   "execution_count": 96,
   "metadata": {
    "collapsed": true
   },
   "outputs": [],
   "source": [
    "columns = ['text', 'creativity']"
   ]
  },
  {
   "cell_type": "code",
   "execution_count": 97,
   "metadata": {
    "collapsed": false
   },
   "outputs": [],
   "source": [
    "raw_text_df = pd.DataFrame(columns=columns)\n",
    "raw_text_df['creativity'] = raw_recipes_df['creativity']\n",
    "raw_text_df['text'] = raw_recipes_df.apply(\n",
    "    lambda x: join_ingredients_and_techniques(x['ingredients'], x['techniques']), axis=1)"
   ]
  },
  {
   "cell_type": "code",
   "execution_count": 98,
   "metadata": {
    "collapsed": false
   },
   "outputs": [
    {
     "data": {
      "text/html": [
       "<div>\n",
       "<table border=\"1\" class=\"dataframe\">\n",
       "  <thead>\n",
       "    <tr style=\"text-align: right;\">\n",
       "      <th></th>\n",
       "      <th>text</th>\n",
       "      <th>creativity</th>\n",
       "    </tr>\n",
       "  </thead>\n",
       "  <tbody>\n",
       "    <tr>\n",
       "      <th>0</th>\n",
       "      <td>i_oporto i_aceite_de_oliva i_agua i_pimienta_b...</td>\n",
       "      <td>10</td>\n",
       "    </tr>\n",
       "    <tr>\n",
       "      <th>1</th>\n",
       "      <td>i_sal i_pimiento i_pimiento_rojo i_piñones_tos...</td>\n",
       "      <td>10</td>\n",
       "    </tr>\n",
       "    <tr>\n",
       "      <th>2</th>\n",
       "      <td>i_chocolate i_claras_de_huevo i_avellanas_tost...</td>\n",
       "      <td>10</td>\n",
       "    </tr>\n",
       "    <tr>\n",
       "      <th>3</th>\n",
       "      <td>i_zumo_de_limón i_limón i_alginato_sódico i_ag...</td>\n",
       "      <td>30</td>\n",
       "    </tr>\n",
       "    <tr>\n",
       "      <th>4</th>\n",
       "      <td>i_sal i_caldo_de_ceps i_carragenato_kappa_en_p...</td>\n",
       "      <td>30</td>\n",
       "    </tr>\n",
       "  </tbody>\n",
       "</table>\n",
       "</div>"
      ],
      "text/plain": [
       "                                                text  creativity\n",
       "0  i_oporto i_aceite_de_oliva i_agua i_pimienta_b...          10\n",
       "1  i_sal i_pimiento i_pimiento_rojo i_piñones_tos...          10\n",
       "2  i_chocolate i_claras_de_huevo i_avellanas_tost...          10\n",
       "3  i_zumo_de_limón i_limón i_alginato_sódico i_ag...          30\n",
       "4  i_sal i_caldo_de_ceps i_carragenato_kappa_en_p...          30"
      ]
     },
     "execution_count": 98,
     "metadata": {},
     "output_type": "execute_result"
    }
   ],
   "source": [
    "raw_text_df.head()"
   ]
  },
  {
   "cell_type": "code",
   "execution_count": 99,
   "metadata": {
    "collapsed": false
   },
   "outputs": [],
   "source": [
    "repr_text_df = pd.DataFrame(columns=columns)\n",
    "repr_text_df['creativity'] = repr_recipes_df['creativity']\n",
    "repr_text_df['text'] = repr_recipes_df.apply(\n",
    "    lambda x: join_ingredients_and_techniques(x['ingredients'], x['techniques']), axis=1)"
   ]
  },
  {
   "cell_type": "code",
   "execution_count": 100,
   "metadata": {
    "collapsed": false
   },
   "outputs": [
    {
     "data": {
      "text/html": [
       "<div>\n",
       "<table border=\"1\" class=\"dataframe\">\n",
       "  <thead>\n",
       "    <tr style=\"text-align: right;\">\n",
       "      <th></th>\n",
       "      <th>text</th>\n",
       "      <th>creativity</th>\n",
       "    </tr>\n",
       "  </thead>\n",
       "  <tbody>\n",
       "    <tr>\n",
       "      <th>0</th>\n",
       "      <td>i_oporto i_aceite_de_oliva i_agua i_pimienta_b...</td>\n",
       "      <td>10</td>\n",
       "    </tr>\n",
       "    <tr>\n",
       "      <th>1</th>\n",
       "      <td>i_sal i_pimientos i_pimiento_rojo i_piñones_to...</td>\n",
       "      <td>10</td>\n",
       "    </tr>\n",
       "    <tr>\n",
       "      <th>2</th>\n",
       "      <td>i_chocolate i_claras_de_huevo i_avellanas_tost...</td>\n",
       "      <td>10</td>\n",
       "    </tr>\n",
       "    <tr>\n",
       "      <th>3</th>\n",
       "      <td>i_zumo_de_limón i_limón i_alginato_sódico i_ag...</td>\n",
       "      <td>30</td>\n",
       "    </tr>\n",
       "    <tr>\n",
       "      <th>4</th>\n",
       "      <td>i_sal i_caldo_de_ceps i_carragenato_kappa_en_p...</td>\n",
       "      <td>30</td>\n",
       "    </tr>\n",
       "  </tbody>\n",
       "</table>\n",
       "</div>"
      ],
      "text/plain": [
       "                                                text  creativity\n",
       "0  i_oporto i_aceite_de_oliva i_agua i_pimienta_b...          10\n",
       "1  i_sal i_pimientos i_pimiento_rojo i_piñones_to...          10\n",
       "2  i_chocolate i_claras_de_huevo i_avellanas_tost...          10\n",
       "3  i_zumo_de_limón i_limón i_alginato_sódico i_ag...          30\n",
       "4  i_sal i_caldo_de_ceps i_carragenato_kappa_en_p...          30"
      ]
     },
     "execution_count": 100,
     "metadata": {},
     "output_type": "execute_result"
    }
   ],
   "source": [
    "repr_text_df.head()"
   ]
  },
  {
   "cell_type": "code",
   "execution_count": 101,
   "metadata": {
    "collapsed": false
   },
   "outputs": [],
   "source": [
    "super_text_df = pd.DataFrame(columns=columns)\n",
    "super_text_df['creativity'] = super_recipes_df['creativity']\n",
    "super_text_df['text'] = super_recipes_df.apply(\n",
    "    lambda x: join_ingredients_and_techniques(x['ingredients'], x['techniques']), axis=1)"
   ]
  },
  {
   "cell_type": "code",
   "execution_count": 102,
   "metadata": {
    "collapsed": false
   },
   "outputs": [
    {
     "data": {
      "text/html": [
       "<div>\n",
       "<table border=\"1\" class=\"dataframe\">\n",
       "  <thead>\n",
       "    <tr style=\"text-align: right;\">\n",
       "      <th></th>\n",
       "      <th>text</th>\n",
       "      <th>creativity</th>\n",
       "    </tr>\n",
       "  </thead>\n",
       "  <tbody>\n",
       "    <tr>\n",
       "      <th>0</th>\n",
       "      <td>i_oporto i_aceite i_agua i_pimienta i_gelatina...</td>\n",
       "      <td>10</td>\n",
       "    </tr>\n",
       "    <tr>\n",
       "      <th>1</th>\n",
       "      <td>i_sal i_pimientos i_pimiento i_piñones i_vinag...</td>\n",
       "      <td>10</td>\n",
       "    </tr>\n",
       "    <tr>\n",
       "      <th>2</th>\n",
       "      <td>i_chocolate i_claras i_avellanas i_yemas i_azú...</td>\n",
       "      <td>10</td>\n",
       "    </tr>\n",
       "    <tr>\n",
       "      <th>3</th>\n",
       "      <td>i_zumo i_limón i_alginato i_agua i_té i_azúcar...</td>\n",
       "      <td>30</td>\n",
       "    </tr>\n",
       "    <tr>\n",
       "      <th>4</th>\n",
       "      <td>i_sal i_ceps i_carragenato i_romero i_ceps i_c...</td>\n",
       "      <td>30</td>\n",
       "    </tr>\n",
       "  </tbody>\n",
       "</table>\n",
       "</div>"
      ],
      "text/plain": [
       "                                                text  creativity\n",
       "0  i_oporto i_aceite i_agua i_pimienta i_gelatina...          10\n",
       "1  i_sal i_pimientos i_pimiento i_piñones i_vinag...          10\n",
       "2  i_chocolate i_claras i_avellanas i_yemas i_azú...          10\n",
       "3  i_zumo i_limón i_alginato i_agua i_té i_azúcar...          30\n",
       "4  i_sal i_ceps i_carragenato i_romero i_ceps i_c...          30"
      ]
     },
     "execution_count": 102,
     "metadata": {},
     "output_type": "execute_result"
    }
   ],
   "source": [
    "super_text_df.head()"
   ]
  },
  {
   "cell_type": "code",
   "execution_count": 103,
   "metadata": {
    "collapsed": false
   },
   "outputs": [],
   "source": [
    "types_text_df = pd.DataFrame(columns=columns)\n",
    "types_text_df['creativity'] = types_recipes_df['creativity']\n",
    "types_text_df['text'] = types_recipes_df.apply(\n",
    "    lambda x: join_ingredients_and_techniques(x['ingredients'], x['techniques']), axis=1)"
   ]
  },
  {
   "cell_type": "code",
   "execution_count": 104,
   "metadata": {
    "collapsed": false
   },
   "outputs": [
    {
     "data": {
      "text/html": [
       "<div>\n",
       "<table border=\"1\" class=\"dataframe\">\n",
       "  <thead>\n",
       "    <tr style=\"text-align: right;\">\n",
       "      <th></th>\n",
       "      <th>text</th>\n",
       "      <th>creativity</th>\n",
       "    </tr>\n",
       "  </thead>\n",
       "  <tbody>\n",
       "    <tr>\n",
       "      <th>0</th>\n",
       "      <td>i_western i_western i_1 i_western i_modernist ...</td>\n",
       "      <td>10</td>\n",
       "    </tr>\n",
       "    <tr>\n",
       "      <th>1</th>\n",
       "      <td>i_western i_western i_western i_1 i_western i_...</td>\n",
       "      <td>10</td>\n",
       "    </tr>\n",
       "    <tr>\n",
       "      <th>2</th>\n",
       "      <td>i_western i_western i_1 i_western i_western i_...</td>\n",
       "      <td>10</td>\n",
       "    </tr>\n",
       "    <tr>\n",
       "      <th>3</th>\n",
       "      <td>i_1 i_western i_modernist i_1 i_western i_west...</td>\n",
       "      <td>30</td>\n",
       "    </tr>\n",
       "    <tr>\n",
       "      <th>4</th>\n",
       "      <td>i_western i_modernist i_modernist i_modernist ...</td>\n",
       "      <td>30</td>\n",
       "    </tr>\n",
       "  </tbody>\n",
       "</table>\n",
       "</div>"
      ],
      "text/plain": [
       "                                                text  creativity\n",
       "0  i_western i_western i_1 i_western i_modernist ...          10\n",
       "1  i_western i_western i_western i_1 i_western i_...          10\n",
       "2  i_western i_western i_1 i_western i_western i_...          10\n",
       "3  i_1 i_western i_modernist i_1 i_western i_west...          30\n",
       "4  i_western i_modernist i_modernist i_modernist ...          30"
      ]
     },
     "execution_count": 104,
     "metadata": {},
     "output_type": "execute_result"
    }
   ],
   "source": [
    "types_text_df.head()"
   ]
  },
  {
   "cell_type": "code",
   "execution_count": 105,
   "metadata": {
    "collapsed": false
   },
   "outputs": [],
   "source": [
    "cuis_text_df = pd.DataFrame(columns=columns)\n",
    "cuis_text_df['creativity'] = cuis_recipes_df['creativity']\n",
    "cuis_text_df['text'] = cuis_recipes_df.apply(\n",
    "    lambda x: join_ingredients_and_techniques(x['ingredients'], x['techniques']), axis=1)"
   ]
  },
  {
   "cell_type": "code",
   "execution_count": 106,
   "metadata": {
    "collapsed": false
   },
   "outputs": [
    {
     "data": {
      "text/html": [
       "<div>\n",
       "<table border=\"1\" class=\"dataframe\">\n",
       "  <thead>\n",
       "    <tr style=\"text-align: right;\">\n",
       "      <th></th>\n",
       "      <th>text</th>\n",
       "      <th>creativity</th>\n",
       "    </tr>\n",
       "  </thead>\n",
       "  <tbody>\n",
       "    <tr>\n",
       "      <th>0</th>\n",
       "      <td>i_other i_spicies_and_condimients i_drinks i_2...</td>\n",
       "      <td>10</td>\n",
       "    </tr>\n",
       "    <tr>\n",
       "      <th>1</th>\n",
       "      <td>i_spicies_and_condimients i_vegetables i_veget...</td>\n",
       "      <td>10</td>\n",
       "    </tr>\n",
       "    <tr>\n",
       "      <th>2</th>\n",
       "      <td>i_sweets i_spicies_and_condimients i_nuts i_sp...</td>\n",
       "      <td>10</td>\n",
       "    </tr>\n",
       "    <tr>\n",
       "      <th>3</th>\n",
       "      <td>i_14 i_fruits i_other i_drinks i_drinks i_swee...</td>\n",
       "      <td>30</td>\n",
       "    </tr>\n",
       "    <tr>\n",
       "      <th>4</th>\n",
       "      <td>i_spicies_and_condimients i_other i_other i_sp...</td>\n",
       "      <td>30</td>\n",
       "    </tr>\n",
       "  </tbody>\n",
       "</table>\n",
       "</div>"
      ],
      "text/plain": [
       "                                                text  creativity\n",
       "0  i_other i_spicies_and_condimients i_drinks i_2...          10\n",
       "1  i_spicies_and_condimients i_vegetables i_veget...          10\n",
       "2  i_sweets i_spicies_and_condimients i_nuts i_sp...          10\n",
       "3  i_14 i_fruits i_other i_drinks i_drinks i_swee...          30\n",
       "4  i_spicies_and_condimients i_other i_other i_sp...          30"
      ]
     },
     "execution_count": 106,
     "metadata": {},
     "output_type": "execute_result"
    }
   ],
   "source": [
    "cuis_text_df.head()"
   ]
  },
  {
   "cell_type": "markdown",
   "metadata": {},
   "source": [
    "# Classifier"
   ]
  },
  {
   "cell_type": "code",
   "execution_count": 107,
   "metadata": {
    "collapsed": true
   },
   "outputs": [],
   "source": [
    "K = 10"
   ]
  },
  {
   "cell_type": "code",
   "execution_count": 108,
   "metadata": {
    "collapsed": false
   },
   "outputs": [],
   "source": [
    "labels = pd.Series(raw_recipes_df['creativity'])\n",
    "skf = StratifiedKFold(labels, K)\n",
    "random_stratification = list(skf)[randint(0, K - 1)]\n",
    "train_indices = random_stratification[0]\n",
    "test_indices = random_stratification[1]"
   ]
  },
  {
   "cell_type": "code",
   "execution_count": 109,
   "metadata": {
    "collapsed": false
   },
   "outputs": [
    {
     "name": "stdout",
     "output_type": "stream",
     "text": [
      "1618 1455 163\n"
     ]
    }
   ],
   "source": [
    "print(len(labels), len(train_indices), len(test_indices))"
   ]
  },
  {
   "cell_type": "code",
   "execution_count": 110,
   "metadata": {
    "collapsed": true
   },
   "outputs": [],
   "source": [
    "def benchmark(clf, X_train, X_test, y_train, y_test, name):\n",
    "    print(\"_\" * 80)\n",
    "    print(\"Training: %s\" % name)\n",
    "    print(clf)\n",
    "    print()\n",
    "    \n",
    "    t0 = time()\n",
    "    clf.fit(X_train, y_train)\n",
    "    train_time = time() - t0\n",
    "    print(\"train time: %0.3fs\" % train_time)\n",
    "    print()\n",
    "    \n",
    "    print(\"Best score:\", clf.best_score_)\n",
    "    print(\"Best parameters:\",clf.best_params_)\n",
    "    print()\n",
    "    for params, mean_score, scores in clf.grid_scores_:\n",
    "        print(\"%0.3f (+/-%0.03f) for %r\" % (mean_score, scores.std() * 2, params))\n",
    "    print()\n",
    "    \n",
    "    t0 = time()\n",
    "    pred = clf.predict(X_test)\n",
    "    test_time = time() - t0\n",
    "    print(\"test time:  %0.3fs\" % test_time)\n",
    "    print()\n",
    "    \n",
    "    score = metrics.accuracy_score(y_test, pred)\n",
    "    print(\"accuracy:   %0.3f\" % score)\n",
    "    \n",
    "    precision = metrics.precision_score(y_test, pred)\n",
    "    print(\"precision:   %0.3f\" % precision)\n",
    "    \n",
    "    recall = metrics.recall_score(y_test, pred)\n",
    "    print(\"recall:   %0.3f\" % recall)\n",
    "    \n",
    "    f1_score = metrics.f1_score(y_test, pred)\n",
    "    print(\"f1_score:   %0.3f\" % f1_score)\n",
    "    \n",
    "    print(\"classification report:\")\n",
    "    print(metrics.classification_report(y_test, pred, target_names=['None' ,'Low', 'Medium', 'High']))\n",
    "    \n",
    "    print(\"confusion matrix:\")\n",
    "    print(metrics.confusion_matrix(y_test, pred))\n",
    "    \n",
    "    print()\n",
    "    return score, precision, recall, f1_score"
   ]
  },
  {
   "cell_type": "code",
   "execution_count": 111,
   "metadata": {
    "collapsed": false
   },
   "outputs": [],
   "source": [
    "classifiers = [\n",
    "    ('BernoulliNB', BernoulliNB, {}),\n",
    "    ('KNeighborsClassifier', KNeighborsClassifier, {}),\n",
    "    ('LinearSVC', LinearSVC, {}),\n",
    "#     ('MultinomialNB', MultinomialNB, {}),\n",
    "#     ('NearestCentroid', NearestCentroid(), {}),\n",
    "#     ('PassiveAggressiveClassifier', PassiveAggressiveClassifier, {}),\n",
    "#     ('Perceptron', Perceptron(), {}),\n",
    "#     ('RandomForestClassifier', RandomForestClassifier, {}),\n",
    "#     ('RidgeClassifier', RidgeClassifier, {}),\n",
    "#     ('SGDClassifier', SGDClassifier, {}),\n",
    "]"
   ]
  },
  {
   "cell_type": "markdown",
   "metadata": {},
   "source": [
    "## Raw ingredients and techniques"
   ]
  },
  {
   "cell_type": "code",
   "execution_count": 114,
   "metadata": {
    "collapsed": true
   },
   "outputs": [],
   "source": [
    "X = raw_text_df['text']\n",
    "y = raw_text_df['creativity']"
   ]
  },
  {
   "cell_type": "code",
   "execution_count": 116,
   "metadata": {
    "collapsed": false
   },
   "outputs": [
    {
     "data": {
      "text/plain": [
       "0     404\n",
       "10    454\n",
       "20    371\n",
       "30    389\n",
       "Name: creativity, dtype: int64"
      ]
     },
     "execution_count": 116,
     "metadata": {},
     "output_type": "execute_result"
    }
   ],
   "source": [
    "y.value_counts().sort_index()"
   ]
  },
  {
   "cell_type": "code",
   "execution_count": 126,
   "metadata": {
    "collapsed": false
   },
   "outputs": [],
   "source": [
    "X_train, X_test, y_train, y_test = X[train_indices], X[test_indices], y[train_indices], y[test_indices]"
   ]
  },
  {
   "cell_type": "code",
   "execution_count": 128,
   "metadata": {
    "collapsed": false
   },
   "outputs": [],
   "source": [
    "X_train.reset_index(drop=True, inplace=True)\n",
    "y_train.reset_index(drop=True, inplace=True)\n",
    "X_test.reset_index(drop=True, inplace=True)\n",
    "y_test.reset_index(drop=True, inplace=True)"
   ]
  },
  {
   "cell_type": "code",
   "execution_count": 130,
   "metadata": {
    "collapsed": false
   },
   "outputs": [],
   "source": [
    "for name, clf, parameters in classifiers:\n",
    "    pipeline = Pipeline([\n",
    "        ('CountVectorizer', CountVectorizer()),\n",
    "        ('TfidfTransformer', TfidfTransformer()),\n",
    "        ('Classifier', clf()),\n",
    "    ])\n",
    "    grid_search = GridSearchCV(pipeline, parameters, cv=skf, scoring='f1_weighted', error_score=0, n_jobs=-1, verbose=1)\n",
    "#     benchmark_results = benchmark(grid_search, X_train, X_test, y_train, y_test, name)\n",
    "#     benchmark_results = benchmark(pipeline, X_train, X_test, y_train, y_test, name)"
   ]
  },
  {
   "cell_type": "code",
   "execution_count": 131,
   "metadata": {
    "collapsed": false
   },
   "outputs": [
    {
     "name": "stdout",
     "output_type": "stream",
     "text": [
      "Fitting 10 folds for each of 1 candidates, totalling 10 fits\n"
     ]
    },
    {
     "ename": "JoblibIndexError",
     "evalue": "JoblibIndexError\n___________________________________________________________________________\nMultiprocessing exception:\n...........................................................................\n/usr/lib/python3.4/runpy.py in _run_module_as_main(mod_name='ipykernel.__main__', alter_argv=1)\n    165         sys.exit(msg)\n    166     main_globals = sys.modules[\"__main__\"].__dict__\n    167     if alter_argv:\n    168         sys.argv[0] = mod_spec.origin\n    169     return _run_code(code, main_globals, None,\n--> 170                      \"__main__\", mod_spec)\n        mod_spec = ModuleSpec(name='ipykernel.__main__', loader=<_f...b/python3.4/site-packages/ipykernel/__main__.py')\n    171 \n    172 def run_module(mod_name, init_globals=None,\n    173                run_name=None, alter_sys=False):\n    174     \"\"\"Execute a module's code without importing it\n\n...........................................................................\n/usr/lib/python3.4/runpy.py in _run_code(code=<code object <module> at 0x7f1ec741ef60, file \"/...3.4/site-packages/ipykernel/__main__.py\", line 1>, run_globals={'__builtins__': <module 'builtins' (built-in)>, '__cached__': '/home/antonio/virtualenvs/elbulli/lib/python3.4/...ges/ipykernel/__pycache__/__main__.cpython-34.pyc', '__doc__': None, '__file__': '/home/antonio/virtualenvs/elbulli/lib/python3.4/site-packages/ipykernel/__main__.py', '__loader__': <_frozen_importlib.SourceFileLoader object>, '__name__': '__main__', '__package__': 'ipykernel', '__spec__': ModuleSpec(name='ipykernel.__main__', loader=<_f...b/python3.4/site-packages/ipykernel/__main__.py'), 'app': <module 'ipykernel.kernelapp' from '/home/antoni.../python3.4/site-packages/ipykernel/kernelapp.py'>}, init_globals=None, mod_name='__main__', mod_spec=ModuleSpec(name='ipykernel.__main__', loader=<_f...b/python3.4/site-packages/ipykernel/__main__.py'), pkg_name='ipykernel', script_name=None)\n     80                        __cached__ = cached,\n     81                        __doc__ = None,\n     82                        __loader__ = loader,\n     83                        __package__ = pkg_name,\n     84                        __spec__ = mod_spec)\n---> 85     exec(code, run_globals)\n        code = <code object <module> at 0x7f1ec741ef60, file \"/...3.4/site-packages/ipykernel/__main__.py\", line 1>\n        run_globals = {'__builtins__': <module 'builtins' (built-in)>, '__cached__': '/home/antonio/virtualenvs/elbulli/lib/python3.4/...ges/ipykernel/__pycache__/__main__.cpython-34.pyc', '__doc__': None, '__file__': '/home/antonio/virtualenvs/elbulli/lib/python3.4/site-packages/ipykernel/__main__.py', '__loader__': <_frozen_importlib.SourceFileLoader object>, '__name__': '__main__', '__package__': 'ipykernel', '__spec__': ModuleSpec(name='ipykernel.__main__', loader=<_f...b/python3.4/site-packages/ipykernel/__main__.py'), 'app': <module 'ipykernel.kernelapp' from '/home/antoni.../python3.4/site-packages/ipykernel/kernelapp.py'>}\n     86     return run_globals\n     87 \n     88 def _run_module_code(code, init_globals=None,\n     89                     mod_name=None, mod_spec=None,\n\n...........................................................................\n/home/antonio/virtualenvs/elbulli/lib/python3.4/site-packages/ipykernel/__main__.py in <module>()\n      1 \n      2 \n----> 3 \n      4 if __name__ == '__main__':\n      5     from ipykernel import kernelapp as app\n      6     app.launch_new_instance()\n      7 \n      8 \n      9 \n     10 \n\n...........................................................................\n/home/antonio/virtualenvs/elbulli/lib/python3.4/site-packages/traitlets/config/application.py in launch_instance(cls=<class 'ipykernel.kernelapp.IPKernelApp'>, argv=None, **kwargs={})\n    584         \n    585         If a global instance already exists, this reinitializes and starts it\n    586         \"\"\"\n    587         app = cls.instance(**kwargs)\n    588         app.initialize(argv)\n--> 589         app.start()\n        app.start = <bound method IPKernelApp.start of <ipykernel.kernelapp.IPKernelApp object>>\n    590 \n    591 #-----------------------------------------------------------------------------\n    592 # utility functions, for convenience\n    593 #-----------------------------------------------------------------------------\n\n...........................................................................\n/home/antonio/virtualenvs/elbulli/lib/python3.4/site-packages/ipykernel/kernelapp.py in start(self=<ipykernel.kernelapp.IPKernelApp object>)\n    400         \n    401         if self.poller is not None:\n    402             self.poller.start()\n    403         self.kernel.start()\n    404         try:\n--> 405             ioloop.IOLoop.instance().start()\n    406         except KeyboardInterrupt:\n    407             pass\n    408 \n    409 launch_new_instance = IPKernelApp.launch_instance\n\n...........................................................................\n/home/antonio/virtualenvs/elbulli/lib/python3.4/site-packages/zmq/eventloop/ioloop.py in start(self=<zmq.eventloop.ioloop.ZMQIOLoop object>)\n    157             PollIOLoop.configure(ZMQIOLoop)\n    158         return PollIOLoop.current(*args, **kwargs)\n    159     \n    160     def start(self):\n    161         try:\n--> 162             super(ZMQIOLoop, self).start()\n        self.start = <bound method ZMQIOLoop.start of <zmq.eventloop.ioloop.ZMQIOLoop object>>\n    163         except ZMQError as e:\n    164             if e.errno == ETERM:\n    165                 # quietly return on ETERM\n    166                 pass\n\n...........................................................................\n/home/antonio/virtualenvs/elbulli/lib/python3.4/site-packages/tornado/ioloop.py in start(self=<zmq.eventloop.ioloop.ZMQIOLoop object>)\n    878                 self._events.update(event_pairs)\n    879                 while self._events:\n    880                     fd, events = self._events.popitem()\n    881                     try:\n    882                         fd_obj, handler_func = self._handlers[fd]\n--> 883                         handler_func(fd_obj, events)\n        handler_func = <function wrap.<locals>.null_wrapper>\n        fd_obj = <zmq.sugar.socket.Socket object>\n        events = 1\n    884                     except (OSError, IOError) as e:\n    885                         if errno_from_exception(e) == errno.EPIPE:\n    886                             # Happens when the client closes the connection\n    887                             pass\n\n...........................................................................\n/home/antonio/virtualenvs/elbulli/lib/python3.4/site-packages/tornado/stack_context.py in null_wrapper(*args=(<zmq.sugar.socket.Socket object>, 1), **kwargs={})\n    270         # Fast path when there are no active contexts.\n    271         def null_wrapper(*args, **kwargs):\n    272             try:\n    273                 current_state = _state.contexts\n    274                 _state.contexts = cap_contexts[0]\n--> 275                 return fn(*args, **kwargs)\n        args = (<zmq.sugar.socket.Socket object>, 1)\n        kwargs = {}\n    276             finally:\n    277                 _state.contexts = current_state\n    278         null_wrapper._wrapped = True\n    279         return null_wrapper\n\n...........................................................................\n/home/antonio/virtualenvs/elbulli/lib/python3.4/site-packages/zmq/eventloop/zmqstream.py in _handle_events(self=<zmq.eventloop.zmqstream.ZMQStream object>, fd=<zmq.sugar.socket.Socket object>, events=1)\n    435             # dispatch events:\n    436             if events & IOLoop.ERROR:\n    437                 gen_log.error(\"got POLLERR event on ZMQStream, which doesn't make sense\")\n    438                 return\n    439             if events & IOLoop.READ:\n--> 440                 self._handle_recv()\n        self._handle_recv = <bound method ZMQStream._handle_recv of <zmq.eventloop.zmqstream.ZMQStream object>>\n    441                 if not self.socket:\n    442                     return\n    443             if events & IOLoop.WRITE:\n    444                 self._handle_send()\n\n...........................................................................\n/home/antonio/virtualenvs/elbulli/lib/python3.4/site-packages/zmq/eventloop/zmqstream.py in _handle_recv(self=<zmq.eventloop.zmqstream.ZMQStream object>)\n    467                 gen_log.error(\"RECV Error: %s\"%zmq.strerror(e.errno))\n    468         else:\n    469             if self._recv_callback:\n    470                 callback = self._recv_callback\n    471                 # self._recv_callback = None\n--> 472                 self._run_callback(callback, msg)\n        self._run_callback = <bound method ZMQStream._run_callback of <zmq.eventloop.zmqstream.ZMQStream object>>\n        callback = <function wrap.<locals>.null_wrapper>\n        msg = [<zmq.sugar.frame.Frame object>, <zmq.sugar.frame.Frame object>, <zmq.sugar.frame.Frame object>, <zmq.sugar.frame.Frame object>, <zmq.sugar.frame.Frame object>, <zmq.sugar.frame.Frame object>, <zmq.sugar.frame.Frame object>]\n    473                 \n    474         # self.update_state()\n    475         \n    476 \n\n...........................................................................\n/home/antonio/virtualenvs/elbulli/lib/python3.4/site-packages/zmq/eventloop/zmqstream.py in _run_callback(self=<zmq.eventloop.zmqstream.ZMQStream object>, callback=<function wrap.<locals>.null_wrapper>, *args=([<zmq.sugar.frame.Frame object>, <zmq.sugar.frame.Frame object>, <zmq.sugar.frame.Frame object>, <zmq.sugar.frame.Frame object>, <zmq.sugar.frame.Frame object>, <zmq.sugar.frame.Frame object>, <zmq.sugar.frame.Frame object>],), **kwargs={})\n    409         close our socket.\"\"\"\n    410         try:\n    411             # Use a NullContext to ensure that all StackContexts are run\n    412             # inside our blanket exception handler rather than outside.\n    413             with stack_context.NullContext():\n--> 414                 callback(*args, **kwargs)\n        callback = <function wrap.<locals>.null_wrapper>\n        args = ([<zmq.sugar.frame.Frame object>, <zmq.sugar.frame.Frame object>, <zmq.sugar.frame.Frame object>, <zmq.sugar.frame.Frame object>, <zmq.sugar.frame.Frame object>, <zmq.sugar.frame.Frame object>, <zmq.sugar.frame.Frame object>],)\n        kwargs = {}\n    415         except:\n    416             gen_log.error(\"Uncaught exception, closing connection.\",\n    417                           exc_info=True)\n    418             # Close the socket on an uncaught exception from a user callback\n\n...........................................................................\n/home/antonio/virtualenvs/elbulli/lib/python3.4/site-packages/tornado/stack_context.py in null_wrapper(*args=([<zmq.sugar.frame.Frame object>, <zmq.sugar.frame.Frame object>, <zmq.sugar.frame.Frame object>, <zmq.sugar.frame.Frame object>, <zmq.sugar.frame.Frame object>, <zmq.sugar.frame.Frame object>, <zmq.sugar.frame.Frame object>],), **kwargs={})\n    270         # Fast path when there are no active contexts.\n    271         def null_wrapper(*args, **kwargs):\n    272             try:\n    273                 current_state = _state.contexts\n    274                 _state.contexts = cap_contexts[0]\n--> 275                 return fn(*args, **kwargs)\n        args = ([<zmq.sugar.frame.Frame object>, <zmq.sugar.frame.Frame object>, <zmq.sugar.frame.Frame object>, <zmq.sugar.frame.Frame object>, <zmq.sugar.frame.Frame object>, <zmq.sugar.frame.Frame object>, <zmq.sugar.frame.Frame object>],)\n        kwargs = {}\n    276             finally:\n    277                 _state.contexts = current_state\n    278         null_wrapper._wrapped = True\n    279         return null_wrapper\n\n...........................................................................\n/home/antonio/virtualenvs/elbulli/lib/python3.4/site-packages/ipykernel/kernelbase.py in dispatcher(msg=[<zmq.sugar.frame.Frame object>, <zmq.sugar.frame.Frame object>, <zmq.sugar.frame.Frame object>, <zmq.sugar.frame.Frame object>, <zmq.sugar.frame.Frame object>, <zmq.sugar.frame.Frame object>, <zmq.sugar.frame.Frame object>])\n    255         if self.control_stream:\n    256             self.control_stream.on_recv(self.dispatch_control, copy=False)\n    257 \n    258         def make_dispatcher(stream):\n    259             def dispatcher(msg):\n--> 260                 return self.dispatch_shell(stream, msg)\n        msg = [<zmq.sugar.frame.Frame object>, <zmq.sugar.frame.Frame object>, <zmq.sugar.frame.Frame object>, <zmq.sugar.frame.Frame object>, <zmq.sugar.frame.Frame object>, <zmq.sugar.frame.Frame object>, <zmq.sugar.frame.Frame object>]\n    261             return dispatcher\n    262 \n    263         for s in self.shell_streams:\n    264             s.on_recv(make_dispatcher(s), copy=False)\n\n...........................................................................\n/home/antonio/virtualenvs/elbulli/lib/python3.4/site-packages/ipykernel/kernelbase.py in dispatch_shell(self=<ipykernel.ipkernel.IPythonKernel object>, stream=<zmq.eventloop.zmqstream.ZMQStream object>, msg={'buffers': [], 'content': {'allow_stdin': True, 'code': 'grid_search.fit(X_train, y_train)', 'silent': False, 'stop_on_error': True, 'store_history': True, 'user_expressions': {}}, 'header': {'date': '2016-07-04T00:17:59.863701', 'msg_id': '67E66C1549A44AFF8AEB53BCDE2644B5', 'msg_type': 'execute_request', 'session': '80E54FDFF6334C618BFF2DC4FCA953D0', 'username': 'username', 'version': '5.0'}, 'metadata': {}, 'msg_id': '67E66C1549A44AFF8AEB53BCDE2644B5', 'msg_type': 'execute_request', 'parent_header': {}})\n    207             self.log.error(\"UNKNOWN MESSAGE TYPE: %r\", msg_type)\n    208         else:\n    209             self.log.debug(\"%s: %s\", msg_type, msg)\n    210             self.pre_handler_hook()\n    211             try:\n--> 212                 handler(stream, idents, msg)\n        handler = <bound method IPythonKernel.execute_request of <ipykernel.ipkernel.IPythonKernel object>>\n        stream = <zmq.eventloop.zmqstream.ZMQStream object>\n        idents = [b'80E54FDFF6334C618BFF2DC4FCA953D0']\n        msg = {'buffers': [], 'content': {'allow_stdin': True, 'code': 'grid_search.fit(X_train, y_train)', 'silent': False, 'stop_on_error': True, 'store_history': True, 'user_expressions': {}}, 'header': {'date': '2016-07-04T00:17:59.863701', 'msg_id': '67E66C1549A44AFF8AEB53BCDE2644B5', 'msg_type': 'execute_request', 'session': '80E54FDFF6334C618BFF2DC4FCA953D0', 'username': 'username', 'version': '5.0'}, 'metadata': {}, 'msg_id': '67E66C1549A44AFF8AEB53BCDE2644B5', 'msg_type': 'execute_request', 'parent_header': {}}\n    213             except Exception:\n    214                 self.log.error(\"Exception in message handler:\", exc_info=True)\n    215             finally:\n    216                 self.post_handler_hook()\n\n...........................................................................\n/home/antonio/virtualenvs/elbulli/lib/python3.4/site-packages/ipykernel/kernelbase.py in execute_request(self=<ipykernel.ipkernel.IPythonKernel object>, stream=<zmq.eventloop.zmqstream.ZMQStream object>, ident=[b'80E54FDFF6334C618BFF2DC4FCA953D0'], parent={'buffers': [], 'content': {'allow_stdin': True, 'code': 'grid_search.fit(X_train, y_train)', 'silent': False, 'stop_on_error': True, 'store_history': True, 'user_expressions': {}}, 'header': {'date': '2016-07-04T00:17:59.863701', 'msg_id': '67E66C1549A44AFF8AEB53BCDE2644B5', 'msg_type': 'execute_request', 'session': '80E54FDFF6334C618BFF2DC4FCA953D0', 'username': 'username', 'version': '5.0'}, 'metadata': {}, 'msg_id': '67E66C1549A44AFF8AEB53BCDE2644B5', 'msg_type': 'execute_request', 'parent_header': {}})\n    365         if not silent:\n    366             self.execution_count += 1\n    367             self._publish_execute_input(code, parent, self.execution_count)\n    368 \n    369         reply_content = self.do_execute(code, silent, store_history,\n--> 370                                         user_expressions, allow_stdin)\n        user_expressions = {}\n        allow_stdin = True\n    371 \n    372         # Flush output before sending the reply.\n    373         sys.stdout.flush()\n    374         sys.stderr.flush()\n\n...........................................................................\n/home/antonio/virtualenvs/elbulli/lib/python3.4/site-packages/ipykernel/ipkernel.py in do_execute(self=<ipykernel.ipkernel.IPythonKernel object>, code='grid_search.fit(X_train, y_train)', silent=False, store_history=True, user_expressions={}, allow_stdin=True)\n    170 \n    171         reply_content = {}\n    172         # FIXME: the shell calls the exception handler itself.\n    173         shell._reply_content = None\n    174         try:\n--> 175             shell.run_cell(code, store_history=store_history, silent=silent)\n        shell.run_cell = <bound method ZMQInteractiveShell.run_cell of <ipykernel.zmqshell.ZMQInteractiveShell object>>\n        code = 'grid_search.fit(X_train, y_train)'\n        store_history = True\n        silent = False\n    176         except:\n    177             status = u'error'\n    178             # FIXME: this code right now isn't being used yet by default,\n    179             # because the run_cell() call above directly fires off exception\n\n...........................................................................\n/home/antonio/virtualenvs/elbulli/lib/python3.4/site-packages/IPython/core/interactiveshell.py in run_cell(self=<ipykernel.zmqshell.ZMQInteractiveShell object>, raw_cell='grid_search.fit(X_train, y_train)', store_history=True, silent=False, shell_futures=True)\n   2897                 self.displayhook.exec_result = result\n   2898 \n   2899                 # Execute the user code\n   2900                 interactivity = \"none\" if silent else self.ast_node_interactivity\n   2901                 self.run_ast_nodes(code_ast.body, cell_name,\n-> 2902                    interactivity=interactivity, compiler=compiler, result=result)\n        interactivity = 'last_expr'\n        compiler = <IPython.core.compilerop.CachingCompiler object>\n   2903 \n   2904                 # Reset this so later displayed values do not modify the\n   2905                 # ExecutionResult\n   2906                 self.displayhook.exec_result = None\n\n...........................................................................\n/home/antonio/virtualenvs/elbulli/lib/python3.4/site-packages/IPython/core/interactiveshell.py in run_ast_nodes(self=<ipykernel.zmqshell.ZMQInteractiveShell object>, nodelist=[<_ast.Expr object>], cell_name='<ipython-input-131-79fead2bcf0e>', interactivity='last', compiler=<IPython.core.compilerop.CachingCompiler object>, result=<IPython.core.interactiveshell.ExecutionResult object>)\n   3007                     return True\n   3008 \n   3009             for i, node in enumerate(to_run_interactive):\n   3010                 mod = ast.Interactive([node])\n   3011                 code = compiler(mod, cell_name, \"single\")\n-> 3012                 if self.run_code(code, result):\n        self.run_code = <bound method ZMQInteractiveShell.run_code of <ipykernel.zmqshell.ZMQInteractiveShell object>>\n        code = <code object <module> at 0x7f1e8dec8c00, file \"<ipython-input-131-79fead2bcf0e>\", line 1>\n        result = <IPython.core.interactiveshell.ExecutionResult object>\n   3013                     return True\n   3014 \n   3015             # Flush softspace\n   3016             if softspace(sys.stdout, 0):\n\n...........................................................................\n/home/antonio/virtualenvs/elbulli/lib/python3.4/site-packages/IPython/core/interactiveshell.py in run_code(self=<ipykernel.zmqshell.ZMQInteractiveShell object>, code_obj=<code object <module> at 0x7f1e8dec8c00, file \"<ipython-input-131-79fead2bcf0e>\", line 1>, result=<IPython.core.interactiveshell.ExecutionResult object>)\n   3061         outflag = 1  # happens in more places, so it's easier as default\n   3062         try:\n   3063             try:\n   3064                 self.hooks.pre_run_code_hook()\n   3065                 #rprint('Running code', repr(code_obj)) # dbg\n-> 3066                 exec(code_obj, self.user_global_ns, self.user_ns)\n        code_obj = <code object <module> at 0x7f1e8dec8c00, file \"<ipython-input-131-79fead2bcf0e>\", line 1>\n        self.user_global_ns = {'BernoulliNB': <class 'sklearn.naive_bayes.BernoulliNB'>, 'CountVectorizer': <class 'sklearn.feature_extraction.text.CountVectorizer'>, 'GridSearchCV': <class 'sklearn.grid_search.GridSearchCV'>, 'In': ['', 'import json\\nfrom random import randint\\nfrom time...es/text/document_classification_20newsgroups.html', \"elbulli_raw_recipes_df = pd.read_csv('data/dbs/recipes_elbulli_raw.csv')\", \"elbulli_raw_recipes_df['creativity'] = elbulli_r...'] <= 2005 else \\\\\\n              'UNKOWN', axis=1)\", \"elbulli_raw_recipes_df['creativity'].value_counts()\", \"cookpad_size = int(np.average(elbulli_raw_recipes_df['creativity'].value_counts()))\", 'cookpad_size', \"cookpad_raw_recipes_df = pd.read_csv('data/dbs/recipes_cookpad_raw.csv')\", 'cookpad_sample = cookpad_raw_recipes_df.sample(cookpad_size)', 'cookpad_indices = cookpad_sample.index.sort_values()', 'cookpad_indices', 'def my_sample(df, indices=cookpad_indices):\\n    return df.ix[indices]', \"elbulli_raw_recipes_df = pd.read_csv('data/dbs/recipes_elbulli_raw.csv')\", 'elbulli_raw_recipes_df.dtypes', 'elbulli_raw_recipes_df.head()', \"elbulli_raw_recipes_df['ingredients'] = elbulli_...ly(lambda x: json.loads(x['techniques']), axis=1)\", 'elbulli_raw_recipes_df.head()', \"elbulli_raw_recipes_df['creativity'] = elbulli_r...'] <= 2005 else \\\\\\n              'UNKOWN', axis=1)\", 'elbulli_raw_recipes_df.head()', \"cookpad_raw_recipes_df = pd.read_csv('data/dbs/r...aw_recipes_df = my_sample(cookpad_raw_recipes_df)\", ...], 'K': 10, 'KNeighborsClassifier': <class 'sklearn.neighbors.classification.KNeighborsClassifier'>, 'LinearSVC': <class 'sklearn.svm.classes.LinearSVC'>, 'MultinomialNB': <class 'sklearn.naive_bayes.MultinomialNB'>, 'NearestCentroid': <class 'sklearn.neighbors.nearest_centroid.NearestCentroid'>, 'Out': {4: 10    454\n30    389\n20    371\nName: creativity, dtype: int64, 6: 404, 10: Int64Index([   3,   23,   96,  100,  115,  120, ...930, 7970],\n           dtype='int64', length=404), 13: _id             int64\ntitle          object\nyear...nts    object\ntechniques     object\ndtype: object, 14:     _id                                         ...al, asar, cocer, hervido, confitar, cazuela,...  , 16:     _id                                         ...al, asar, cocer, hervido, confitar, cazuela,...  , 18:     _id                                         ...cer, hervido, confitar, cazuela,...          30  , 20: _id             int64\ntitle          object\nyear...nts    object\ntechniques     object\ndtype: object, 21:         _id                        title  year  ...ofreir, cocer, sofreimos, hervir, sofrito, d...  , 23:         _id                        title  year  ...ofreir, cocer, sofreimos, hervir, sofrito, d...  , ...}, ...}\n        self.user_ns = {'BernoulliNB': <class 'sklearn.naive_bayes.BernoulliNB'>, 'CountVectorizer': <class 'sklearn.feature_extraction.text.CountVectorizer'>, 'GridSearchCV': <class 'sklearn.grid_search.GridSearchCV'>, 'In': ['', 'import json\\nfrom random import randint\\nfrom time...es/text/document_classification_20newsgroups.html', \"elbulli_raw_recipes_df = pd.read_csv('data/dbs/recipes_elbulli_raw.csv')\", \"elbulli_raw_recipes_df['creativity'] = elbulli_r...'] <= 2005 else \\\\\\n              'UNKOWN', axis=1)\", \"elbulli_raw_recipes_df['creativity'].value_counts()\", \"cookpad_size = int(np.average(elbulli_raw_recipes_df['creativity'].value_counts()))\", 'cookpad_size', \"cookpad_raw_recipes_df = pd.read_csv('data/dbs/recipes_cookpad_raw.csv')\", 'cookpad_sample = cookpad_raw_recipes_df.sample(cookpad_size)', 'cookpad_indices = cookpad_sample.index.sort_values()', 'cookpad_indices', 'def my_sample(df, indices=cookpad_indices):\\n    return df.ix[indices]', \"elbulli_raw_recipes_df = pd.read_csv('data/dbs/recipes_elbulli_raw.csv')\", 'elbulli_raw_recipes_df.dtypes', 'elbulli_raw_recipes_df.head()', \"elbulli_raw_recipes_df['ingredients'] = elbulli_...ly(lambda x: json.loads(x['techniques']), axis=1)\", 'elbulli_raw_recipes_df.head()', \"elbulli_raw_recipes_df['creativity'] = elbulli_r...'] <= 2005 else \\\\\\n              'UNKOWN', axis=1)\", 'elbulli_raw_recipes_df.head()', \"cookpad_raw_recipes_df = pd.read_csv('data/dbs/r...aw_recipes_df = my_sample(cookpad_raw_recipes_df)\", ...], 'K': 10, 'KNeighborsClassifier': <class 'sklearn.neighbors.classification.KNeighborsClassifier'>, 'LinearSVC': <class 'sklearn.svm.classes.LinearSVC'>, 'MultinomialNB': <class 'sklearn.naive_bayes.MultinomialNB'>, 'NearestCentroid': <class 'sklearn.neighbors.nearest_centroid.NearestCentroid'>, 'Out': {4: 10    454\n30    389\n20    371\nName: creativity, dtype: int64, 6: 404, 10: Int64Index([   3,   23,   96,  100,  115,  120, ...930, 7970],\n           dtype='int64', length=404), 13: _id             int64\ntitle          object\nyear...nts    object\ntechniques     object\ndtype: object, 14:     _id                                         ...al, asar, cocer, hervido, confitar, cazuela,...  , 16:     _id                                         ...al, asar, cocer, hervido, confitar, cazuela,...  , 18:     _id                                         ...cer, hervido, confitar, cazuela,...          30  , 20: _id             int64\ntitle          object\nyear...nts    object\ntechniques     object\ndtype: object, 21:         _id                        title  year  ...ofreir, cocer, sofreimos, hervir, sofrito, d...  , 23:         _id                        title  year  ...ofreir, cocer, sofreimos, hervir, sofrito, d...  , ...}, ...}\n   3067             finally:\n   3068                 # Reset our crash handler in place\n   3069                 sys.excepthook = old_excepthook\n   3070         except SystemExit as e:\n\n...........................................................................\n/home/antonio/git/elbulli/<ipython-input-131-79fead2bcf0e> in <module>()\n----> 1 \n      2 \n      3 \n      4 \n      5 \n      6 grid_search.fit(X_train, y_train)\n      7 \n      8 \n      9 \n     10 \n\n...........................................................................\n/home/antonio/virtualenvs/elbulli/lib/python3.4/site-packages/sklearn/grid_search.py in fit(self=GridSearchCV(cv=sklearn.cross_validation.Stratif...it=True, scoring='f1_weighted',\n       verbose=1), X=0       i_oporto i_aceite_de_oliva i_agua i_pimi...liva i_huevos i_ajo ...\nName: text, dtype: object, y=0       10\n1       10\n2       10\n3       30\n4   ...3     0\n1454     0\nName: creativity, dtype: int64)\n    799         y : array-like, shape = [n_samples] or [n_samples, n_output], optional\n    800             Target relative to X for classification or regression;\n    801             None for unsupervised learning.\n    802 \n    803         \"\"\"\n--> 804         return self._fit(X, y, ParameterGrid(self.param_grid))\n        self._fit = <bound method GridSearchCV._fit of GridSearchCV(...t=True, scoring='f1_weighted',\n       verbose=1)>\n        X = 0       i_oporto i_aceite_de_oliva i_agua i_pimi...liva i_huevos i_ajo ...\nName: text, dtype: object\n        y = 0       10\n1       10\n2       10\n3       30\n4   ...3     0\n1454     0\nName: creativity, dtype: int64\n        self.param_grid = {}\n    805 \n    806 \n    807 class RandomizedSearchCV(BaseSearchCV):\n    808     \"\"\"Randomized search on hyper parameters.\n\n...........................................................................\n/home/antonio/virtualenvs/elbulli/lib/python3.4/site-packages/sklearn/grid_search.py in _fit(self=GridSearchCV(cv=sklearn.cross_validation.Stratif...it=True, scoring='f1_weighted',\n       verbose=1), X=0       i_oporto i_aceite_de_oliva i_agua i_pimi...liva i_huevos i_ajo ...\nName: text, dtype: object, y=0       10\n1       10\n2       10\n3       30\n4   ...3     0\n1454     0\nName: creativity, dtype: int64, parameter_iterable=<sklearn.grid_search.ParameterGrid object>)\n    548         )(\n    549             delayed(_fit_and_score)(clone(base_estimator), X, y, self.scorer_,\n    550                                     train, test, self.verbose, parameters,\n    551                                     self.fit_params, return_parameters=True,\n    552                                     error_score=self.error_score)\n--> 553                 for parameters in parameter_iterable\n        parameters = undefined\n        parameter_iterable = <sklearn.grid_search.ParameterGrid object>\n    554                 for train, test in cv)\n    555 \n    556         # Out is a list of triplet: score, estimator, n_test_samples\n    557         n_fits = len(out)\n\n...........................................................................\n/home/antonio/virtualenvs/elbulli/lib/python3.4/site-packages/sklearn/externals/joblib/parallel.py in __call__(self=Parallel(n_jobs=-1), iterable=<generator object <genexpr>>)\n    805             if pre_dispatch == \"all\" or n_jobs == 1:\n    806                 # The iterable was consumed all at once by the above for loop.\n    807                 # No need to wait for async callbacks to trigger to\n    808                 # consumption.\n    809                 self._iterating = False\n--> 810             self.retrieve()\n        self.retrieve = <bound method Parallel.retrieve of Parallel(n_jobs=-1)>\n    811             # Make sure that we get a last message telling us we are done\n    812             elapsed_time = time.time() - self._start_time\n    813             self._print('Done %3i out of %3i | elapsed: %s finished',\n    814                         (len(self._output), len(self._output),\n\n---------------------------------------------------------------------------\nSub-process traceback:\n---------------------------------------------------------------------------\nIndexError                                         Mon Jul  4 00:17:59 2016\nPID: 16367      Python 3.4.3: /home/antonio/virtualenvs/elbulli/bin/python3\n...........................................................................\n/home/antonio/virtualenvs/elbulli/lib/python3.4/site-packages/sklearn/externals/joblib/parallel.py in __call__(self=<sklearn.externals.joblib.parallel.BatchedCalls object>)\n     67     def __init__(self, iterator_slice):\n     68         self.items = list(iterator_slice)\n     69         self._size = len(self.items)\n     70 \n     71     def __call__(self):\n---> 72         return [func(*args, **kwargs) for func, args, kwargs in self.items]\n        self.items = <class 'list'> instance\n     73 \n     74     def __len__(self):\n     75         return self._size\n     76 \n\n...........................................................................\n/home/antonio/virtualenvs/elbulli/lib/python3.4/site-packages/sklearn/externals/joblib/parallel.py in <listcomp>(.0=<list_iterator object>)\n     67     def __init__(self, iterator_slice):\n     68         self.items = list(iterator_slice)\n     69         self._size = len(self.items)\n     70 \n     71     def __call__(self):\n---> 72         return [func(*args, **kwargs) for func, args, kwargs in self.items]\n        func = <function _fit_and_score>\n        args = <class 'tuple'> instance\n        kwargs = {'error_score': 0, 'return_parameters': True}\n     73 \n     74     def __len__(self):\n     75         return self._size\n     76 \n\n...........................................................................\n/home/antonio/virtualenvs/elbulli/lib/python3.4/site-packages/sklearn/cross_validation.py in _fit_and_score(estimator=Pipeline(steps=[('CountVectorizer', CountVectori...random_state=None, tol=0.0001,\n     verbose=0))]), X=0       i_oporto i_aceite_de_oliva i_agua i_pimi...liva i_huevos i_ajo ...\nName: text, dtype: object, y=0       10\n1       10\n2       10\n3       30\n4   ...3     0\n1454     0\nName: creativity, dtype: int64, scorer=<class 'sklearn.metrics.scorer._PredictScorer'> instance, train=array([  45,   47,   48, ..., 1615, 1616, 1617]), test=array([   0,    1,    2,    3,    4,    5,    6,... 1247, 1248, 1249, 1250, 1251, 1252, 1253, 1254]), verbose=1, parameters={}, fit_params={}, return_train_score=False, return_parameters=True, error_score=0)\n   1519     if parameters is not None:\n   1520         estimator.set_params(**parameters)\n   1521 \n   1522     start_time = time.time()\n   1523 \n-> 1524     X_train, y_train = _safe_split(estimator, X, y, train)\n        X_train = undefined\n        y_train = undefined\n        estimator = Pipeline(steps=[('CountVectorizer', CountVectori...random_state=None, tol=0.0001,\n     verbose=0))])\n        X = 0       i_oporto i_aceite_de_oliva i_agua i_pimi...liva i_huevos i_ajo ...\nName: text, dtype: object\n        y = 0       10\n1       10\n2       10\n3       30\n4   ...3     0\n1454     0\nName: creativity, dtype: int64\n        train = array([  45,   47,   48, ..., 1615, 1616, 1617])\n   1525     X_test, y_test = _safe_split(estimator, X, y, test, train)\n   1526 \n   1527     try:\n   1528         if y_train is None:\n\n...........................................................................\n/home/antonio/virtualenvs/elbulli/lib/python3.4/site-packages/sklearn/cross_validation.py in _safe_split(estimator=Pipeline(steps=[('CountVectorizer', CountVectori...random_state=None, tol=0.0001,\n     verbose=0))]), X=0       i_oporto i_aceite_de_oliva i_agua i_pimi...liva i_huevos i_ajo ...\nName: text, dtype: object, y=0       10\n1       10\n2       10\n3       30\n4   ...3     0\n1454     0\nName: creativity, dtype: int64, indices=array([  45,   47,   48, ..., 1615, 1616, 1617]), train_indices=None)\n   1586             if train_indices is None:\n   1587                 X_subset = X[np.ix_(indices, indices)]\n   1588             else:\n   1589                 X_subset = X[np.ix_(indices, train_indices)]\n   1590         else:\n-> 1591             X_subset = safe_indexing(X, indices)\n        X_subset = undefined\n        X = 0       i_oporto i_aceite_de_oliva i_agua i_pimi...liva i_huevos i_ajo ...\nName: text, dtype: object\n        indices = array([  45,   47,   48, ..., 1615, 1616, 1617])\n   1592 \n   1593     if y is not None:\n   1594         y_subset = safe_indexing(y, indices)\n   1595     else:\n\n...........................................................................\n/home/antonio/virtualenvs/elbulli/lib/python3.4/site-packages/sklearn/utils/__init__.py in safe_indexing(X=0       i_oporto i_aceite_de_oliva i_agua i_pimi...liva i_huevos i_ajo ...\nName: text, dtype: object, indices=array([  45,   47,   48, ..., 1615, 1616, 1617]))\n    147         Indices according to which X will be subsampled.\n    148     \"\"\"\n    149     if hasattr(X, \"iloc\"):\n    150         # Pandas Dataframes and Series\n    151         try:\n--> 152             return X.iloc[indices]\n        X.iloc = <pandas.core.indexing._iLocIndexer object>\n        indices = array([  45,   47,   48, ..., 1615, 1616, 1617])\n    153         except ValueError:\n    154             # Cython typed memoryviews internally used in pandas do not support\n    155             # readonly buffers.\n    156             warnings.warn(\"Copying input dataframe for slicing.\",\n\n...........................................................................\n/home/antonio/virtualenvs/elbulli/lib/python3.4/site-packages/pandas/core/indexing.py in __getitem__(self=<pandas.core.indexing._iLocIndexer object>, key=array([  45,   47,   48, ..., 1615, 1616, 1617]))\n   1291             key = com._apply_if_callable(key, self.obj)\n   1292 \n   1293         if type(key) is tuple:\n   1294             return self._getitem_tuple(key)\n   1295         else:\n-> 1296             return self._getitem_axis(key, axis=0)\n        self._getitem_axis = <bound method _iLocIndexer._getitem_axis of <pandas.core.indexing._iLocIndexer object>>\n        key = array([  45,   47,   48, ..., 1615, 1616, 1617])\n   1297 \n   1298     def _getitem_axis(self, key, axis=0):\n   1299         raise NotImplementedError()\n   1300 \n\n...........................................................................\n/home/antonio/virtualenvs/elbulli/lib/python3.4/site-packages/pandas/core/indexing.py in _getitem_axis(self=<pandas.core.indexing._iLocIndexer object>, key=array([  45,   47,   48, ..., 1615, 1616, 1617]), axis=0)\n   1594         else:\n   1595 \n   1596             if is_list_like_indexer(key):\n   1597 \n   1598                 # validate list bounds\n-> 1599                 self._is_valid_list_like(key, axis)\n        self._is_valid_list_like = <bound method _iLocIndexer._is_valid_list_like of <pandas.core.indexing._iLocIndexer object>>\n        key = array([  45,   47,   48, ..., 1615, 1616, 1617])\n        axis = 0\n   1600 \n   1601                 # force an actual list\n   1602                 key = list(key)\n   1603 \n\n...........................................................................\n/home/antonio/virtualenvs/elbulli/lib/python3.4/site-packages/pandas/core/indexing.py in _is_valid_list_like(self=<pandas.core.indexing._iLocIndexer object>, key=array([  45,   47,   48, ..., 1615, 1616, 1617]), axis=0)\n   1533         # coerce the key to not exceed the maximum size of the index\n   1534         arr = np.array(key)\n   1535         ax = self.obj._get_axis(axis)\n   1536         l = len(ax)\n   1537         if len(arr) and (arr.max() >= l or arr.min() < -l):\n-> 1538             raise IndexError(\"positional indexers are out-of-bounds\")\n   1539 \n   1540         return True\n   1541 \n   1542     def _getitem_tuple(self, tup):\n\nIndexError: positional indexers are out-of-bounds\n___________________________________________________________________________",
     "output_type": "error",
     "traceback": [
      "\u001b[1;31m---------------------------------------------------------------------------\u001b[0m",
      "\u001b[1;31mRemoteTraceback\u001b[0m                           Traceback (most recent call last)",
      "\u001b[1;31mRemoteTraceback\u001b[0m: \n\"\"\"\nTraceback (most recent call last):\n  File \"/home/antonio/virtualenvs/elbulli/lib/python3.4/site-packages/sklearn/externals/joblib/parallel.py\", line 130, in __call__\n    return self.func(*args, **kwargs)\n  File \"/home/antonio/virtualenvs/elbulli/lib/python3.4/site-packages/sklearn/externals/joblib/parallel.py\", line 72, in __call__\n    return [func(*args, **kwargs) for func, args, kwargs in self.items]\n  File \"/home/antonio/virtualenvs/elbulli/lib/python3.4/site-packages/sklearn/externals/joblib/parallel.py\", line 72, in <listcomp>\n    return [func(*args, **kwargs) for func, args, kwargs in self.items]\n  File \"/home/antonio/virtualenvs/elbulli/lib/python3.4/site-packages/sklearn/cross_validation.py\", line 1524, in _fit_and_score\n    X_train, y_train = _safe_split(estimator, X, y, train)\n  File \"/home/antonio/virtualenvs/elbulli/lib/python3.4/site-packages/sklearn/cross_validation.py\", line 1591, in _safe_split\n    X_subset = safe_indexing(X, indices)\n  File \"/home/antonio/virtualenvs/elbulli/lib/python3.4/site-packages/sklearn/utils/__init__.py\", line 152, in safe_indexing\n    return X.iloc[indices]\n  File \"/home/antonio/virtualenvs/elbulli/lib/python3.4/site-packages/pandas/core/indexing.py\", line 1296, in __getitem__\n    return self._getitem_axis(key, axis=0)\n  File \"/home/antonio/virtualenvs/elbulli/lib/python3.4/site-packages/pandas/core/indexing.py\", line 1599, in _getitem_axis\n    self._is_valid_list_like(key, axis)\n  File \"/home/antonio/virtualenvs/elbulli/lib/python3.4/site-packages/pandas/core/indexing.py\", line 1538, in _is_valid_list_like\n    raise IndexError(\"positional indexers are out-of-bounds\")\nIndexError: positional indexers are out-of-bounds\n\nDuring handling of the above exception, another exception occurred:\n\nTraceback (most recent call last):\n  File \"/usr/lib/python3.4/multiprocessing/pool.py\", line 119, in worker\n    result = (True, func(*args, **kwds))\n  File \"/home/antonio/virtualenvs/elbulli/lib/python3.4/site-packages/sklearn/externals/joblib/parallel.py\", line 140, in __call__\n    raise TransportableException(text, e_type)\nsklearn.externals.joblib.my_exceptions.TransportableException: TransportableException\n___________________________________________________________________________\nIndexError                                         Mon Jul  4 00:17:59 2016\nPID: 16367      Python 3.4.3: /home/antonio/virtualenvs/elbulli/bin/python3\n...........................................................................\n/home/antonio/virtualenvs/elbulli/lib/python3.4/site-packages/sklearn/externals/joblib/parallel.py in __call__(self=<sklearn.externals.joblib.parallel.BatchedCalls object>)\n     67     def __init__(self, iterator_slice):\n     68         self.items = list(iterator_slice)\n     69         self._size = len(self.items)\n     70 \n     71     def __call__(self):\n---> 72         return [func(*args, **kwargs) for func, args, kwargs in self.items]\n        self.items = <class 'list'> instance\n     73 \n     74     def __len__(self):\n     75         return self._size\n     76 \n\n...........................................................................\n/home/antonio/virtualenvs/elbulli/lib/python3.4/site-packages/sklearn/externals/joblib/parallel.py in <listcomp>(.0=<list_iterator object>)\n     67     def __init__(self, iterator_slice):\n     68         self.items = list(iterator_slice)\n     69         self._size = len(self.items)\n     70 \n     71     def __call__(self):\n---> 72         return [func(*args, **kwargs) for func, args, kwargs in self.items]\n        func = <function _fit_and_score>\n        args = <class 'tuple'> instance\n        kwargs = {'error_score': 0, 'return_parameters': True}\n     73 \n     74     def __len__(self):\n     75         return self._size\n     76 \n\n...........................................................................\n/home/antonio/virtualenvs/elbulli/lib/python3.4/site-packages/sklearn/cross_validation.py in _fit_and_score(estimator=Pipeline(steps=[('CountVectorizer', CountVectori...random_state=None, tol=0.0001,\n     verbose=0))]), X=0       i_oporto i_aceite_de_oliva i_agua i_pimi...liva i_huevos i_ajo ...\nName: text, dtype: object, y=0       10\n1       10\n2       10\n3       30\n4   ...3     0\n1454     0\nName: creativity, dtype: int64, scorer=<class 'sklearn.metrics.scorer._PredictScorer'> instance, train=array([  45,   47,   48, ..., 1615, 1616, 1617]), test=array([   0,    1,    2,    3,    4,    5,    6,... 1247, 1248, 1249, 1250, 1251, 1252, 1253, 1254]), verbose=1, parameters={}, fit_params={}, return_train_score=False, return_parameters=True, error_score=0)\n   1519     if parameters is not None:\n   1520         estimator.set_params(**parameters)\n   1521 \n   1522     start_time = time.time()\n   1523 \n-> 1524     X_train, y_train = _safe_split(estimator, X, y, train)\n        X_train = undefined\n        y_train = undefined\n        estimator = Pipeline(steps=[('CountVectorizer', CountVectori...random_state=None, tol=0.0001,\n     verbose=0))])\n        X = 0       i_oporto i_aceite_de_oliva i_agua i_pimi...liva i_huevos i_ajo ...\nName: text, dtype: object\n        y = 0       10\n1       10\n2       10\n3       30\n4   ...3     0\n1454     0\nName: creativity, dtype: int64\n        train = array([  45,   47,   48, ..., 1615, 1616, 1617])\n   1525     X_test, y_test = _safe_split(estimator, X, y, test, train)\n   1526 \n   1527     try:\n   1528         if y_train is None:\n\n...........................................................................\n/home/antonio/virtualenvs/elbulli/lib/python3.4/site-packages/sklearn/cross_validation.py in _safe_split(estimator=Pipeline(steps=[('CountVectorizer', CountVectori...random_state=None, tol=0.0001,\n     verbose=0))]), X=0       i_oporto i_aceite_de_oliva i_agua i_pimi...liva i_huevos i_ajo ...\nName: text, dtype: object, y=0       10\n1       10\n2       10\n3       30\n4   ...3     0\n1454     0\nName: creativity, dtype: int64, indices=array([  45,   47,   48, ..., 1615, 1616, 1617]), train_indices=None)\n   1586             if train_indices is None:\n   1587                 X_subset = X[np.ix_(indices, indices)]\n   1588             else:\n   1589                 X_subset = X[np.ix_(indices, train_indices)]\n   1590         else:\n-> 1591             X_subset = safe_indexing(X, indices)\n        X_subset = undefined\n        X = 0       i_oporto i_aceite_de_oliva i_agua i_pimi...liva i_huevos i_ajo ...\nName: text, dtype: object\n        indices = array([  45,   47,   48, ..., 1615, 1616, 1617])\n   1592 \n   1593     if y is not None:\n   1594         y_subset = safe_indexing(y, indices)\n   1595     else:\n\n...........................................................................\n/home/antonio/virtualenvs/elbulli/lib/python3.4/site-packages/sklearn/utils/__init__.py in safe_indexing(X=0       i_oporto i_aceite_de_oliva i_agua i_pimi...liva i_huevos i_ajo ...\nName: text, dtype: object, indices=array([  45,   47,   48, ..., 1615, 1616, 1617]))\n    147         Indices according to which X will be subsampled.\n    148     \"\"\"\n    149     if hasattr(X, \"iloc\"):\n    150         # Pandas Dataframes and Series\n    151         try:\n--> 152             return X.iloc[indices]\n        X.iloc = <pandas.core.indexing._iLocIndexer object>\n        indices = array([  45,   47,   48, ..., 1615, 1616, 1617])\n    153         except ValueError:\n    154             # Cython typed memoryviews internally used in pandas do not support\n    155             # readonly buffers.\n    156             warnings.warn(\"Copying input dataframe for slicing.\",\n\n...........................................................................\n/home/antonio/virtualenvs/elbulli/lib/python3.4/site-packages/pandas/core/indexing.py in __getitem__(self=<pandas.core.indexing._iLocIndexer object>, key=array([  45,   47,   48, ..., 1615, 1616, 1617]))\n   1291             key = com._apply_if_callable(key, self.obj)\n   1292 \n   1293         if type(key) is tuple:\n   1294             return self._getitem_tuple(key)\n   1295         else:\n-> 1296             return self._getitem_axis(key, axis=0)\n        self._getitem_axis = <bound method _iLocIndexer._getitem_axis of <pandas.core.indexing._iLocIndexer object>>\n        key = array([  45,   47,   48, ..., 1615, 1616, 1617])\n   1297 \n   1298     def _getitem_axis(self, key, axis=0):\n   1299         raise NotImplementedError()\n   1300 \n\n...........................................................................\n/home/antonio/virtualenvs/elbulli/lib/python3.4/site-packages/pandas/core/indexing.py in _getitem_axis(self=<pandas.core.indexing._iLocIndexer object>, key=array([  45,   47,   48, ..., 1615, 1616, 1617]), axis=0)\n   1594         else:\n   1595 \n   1596             if is_list_like_indexer(key):\n   1597 \n   1598                 # validate list bounds\n-> 1599                 self._is_valid_list_like(key, axis)\n        self._is_valid_list_like = <bound method _iLocIndexer._is_valid_list_like of <pandas.core.indexing._iLocIndexer object>>\n        key = array([  45,   47,   48, ..., 1615, 1616, 1617])\n        axis = 0\n   1600 \n   1601                 # force an actual list\n   1602                 key = list(key)\n   1603 \n\n...........................................................................\n/home/antonio/virtualenvs/elbulli/lib/python3.4/site-packages/pandas/core/indexing.py in _is_valid_list_like(self=<pandas.core.indexing._iLocIndexer object>, key=array([  45,   47,   48, ..., 1615, 1616, 1617]), axis=0)\n   1533         # coerce the key to not exceed the maximum size of the index\n   1534         arr = np.array(key)\n   1535         ax = self.obj._get_axis(axis)\n   1536         l = len(ax)\n   1537         if len(arr) and (arr.max() >= l or arr.min() < -l):\n-> 1538             raise IndexError(\"positional indexers are out-of-bounds\")\n   1539 \n   1540         return True\n   1541 \n   1542     def _getitem_tuple(self, tup):\n\nIndexError: positional indexers are out-of-bounds\n___________________________________________________________________________\n\"\"\"",
      "\nThe above exception was the direct cause of the following exception:\n",
      "\u001b[1;31mTransportableException\u001b[0m                    Traceback (most recent call last)",
      "\u001b[1;32m/home/antonio/virtualenvs/elbulli/lib/python3.4/site-packages/sklearn/externals/joblib/parallel.py\u001b[0m in \u001b[0;36mretrieve\u001b[1;34m(self)\u001b[0m\n\u001b[0;32m    726\u001b[0m             \u001b[1;32mtry\u001b[0m\u001b[1;33m:\u001b[0m\u001b[1;33m\u001b[0m\u001b[0m\n\u001b[1;32m--> 727\u001b[1;33m                 \u001b[0mself\u001b[0m\u001b[1;33m.\u001b[0m\u001b[0m_output\u001b[0m\u001b[1;33m.\u001b[0m\u001b[0mextend\u001b[0m\u001b[1;33m(\u001b[0m\u001b[0mjob\u001b[0m\u001b[1;33m.\u001b[0m\u001b[0mget\u001b[0m\u001b[1;33m(\u001b[0m\u001b[1;33m)\u001b[0m\u001b[1;33m)\u001b[0m\u001b[1;33m\u001b[0m\u001b[0m\n\u001b[0m\u001b[0;32m    728\u001b[0m             \u001b[1;32mexcept\u001b[0m \u001b[0mtuple\u001b[0m\u001b[1;33m(\u001b[0m\u001b[0mself\u001b[0m\u001b[1;33m.\u001b[0m\u001b[0mexceptions\u001b[0m\u001b[1;33m)\u001b[0m \u001b[1;32mas\u001b[0m \u001b[0mexception\u001b[0m\u001b[1;33m:\u001b[0m\u001b[1;33m\u001b[0m\u001b[0m\n",
      "\u001b[1;32m/usr/lib/python3.4/multiprocessing/pool.py\u001b[0m in \u001b[0;36mget\u001b[1;34m(self, timeout)\u001b[0m\n\u001b[0;32m    598\u001b[0m         \u001b[1;32melse\u001b[0m\u001b[1;33m:\u001b[0m\u001b[1;33m\u001b[0m\u001b[0m\n\u001b[1;32m--> 599\u001b[1;33m             \u001b[1;32mraise\u001b[0m \u001b[0mself\u001b[0m\u001b[1;33m.\u001b[0m\u001b[0m_value\u001b[0m\u001b[1;33m\u001b[0m\u001b[0m\n\u001b[0m\u001b[0;32m    600\u001b[0m \u001b[1;33m\u001b[0m\u001b[0m\n",
      "\u001b[1;31mTransportableException\u001b[0m: TransportableException\n___________________________________________________________________________\nIndexError                                         Mon Jul  4 00:17:59 2016\nPID: 16367      Python 3.4.3: /home/antonio/virtualenvs/elbulli/bin/python3\n...........................................................................\n/home/antonio/virtualenvs/elbulli/lib/python3.4/site-packages/sklearn/externals/joblib/parallel.py in __call__(self=<sklearn.externals.joblib.parallel.BatchedCalls object>)\n     67     def __init__(self, iterator_slice):\n     68         self.items = list(iterator_slice)\n     69         self._size = len(self.items)\n     70 \n     71     def __call__(self):\n---> 72         return [func(*args, **kwargs) for func, args, kwargs in self.items]\n        self.items = <class 'list'> instance\n     73 \n     74     def __len__(self):\n     75         return self._size\n     76 \n\n...........................................................................\n/home/antonio/virtualenvs/elbulli/lib/python3.4/site-packages/sklearn/externals/joblib/parallel.py in <listcomp>(.0=<list_iterator object>)\n     67     def __init__(self, iterator_slice):\n     68         self.items = list(iterator_slice)\n     69         self._size = len(self.items)\n     70 \n     71     def __call__(self):\n---> 72         return [func(*args, **kwargs) for func, args, kwargs in self.items]\n        func = <function _fit_and_score>\n        args = <class 'tuple'> instance\n        kwargs = {'error_score': 0, 'return_parameters': True}\n     73 \n     74     def __len__(self):\n     75         return self._size\n     76 \n\n...........................................................................\n/home/antonio/virtualenvs/elbulli/lib/python3.4/site-packages/sklearn/cross_validation.py in _fit_and_score(estimator=Pipeline(steps=[('CountVectorizer', CountVectori...random_state=None, tol=0.0001,\n     verbose=0))]), X=0       i_oporto i_aceite_de_oliva i_agua i_pimi...liva i_huevos i_ajo ...\nName: text, dtype: object, y=0       10\n1       10\n2       10\n3       30\n4   ...3     0\n1454     0\nName: creativity, dtype: int64, scorer=<class 'sklearn.metrics.scorer._PredictScorer'> instance, train=array([  45,   47,   48, ..., 1615, 1616, 1617]), test=array([   0,    1,    2,    3,    4,    5,    6,... 1247, 1248, 1249, 1250, 1251, 1252, 1253, 1254]), verbose=1, parameters={}, fit_params={}, return_train_score=False, return_parameters=True, error_score=0)\n   1519     if parameters is not None:\n   1520         estimator.set_params(**parameters)\n   1521 \n   1522     start_time = time.time()\n   1523 \n-> 1524     X_train, y_train = _safe_split(estimator, X, y, train)\n        X_train = undefined\n        y_train = undefined\n        estimator = Pipeline(steps=[('CountVectorizer', CountVectori...random_state=None, tol=0.0001,\n     verbose=0))])\n        X = 0       i_oporto i_aceite_de_oliva i_agua i_pimi...liva i_huevos i_ajo ...\nName: text, dtype: object\n        y = 0       10\n1       10\n2       10\n3       30\n4   ...3     0\n1454     0\nName: creativity, dtype: int64\n        train = array([  45,   47,   48, ..., 1615, 1616, 1617])\n   1525     X_test, y_test = _safe_split(estimator, X, y, test, train)\n   1526 \n   1527     try:\n   1528         if y_train is None:\n\n...........................................................................\n/home/antonio/virtualenvs/elbulli/lib/python3.4/site-packages/sklearn/cross_validation.py in _safe_split(estimator=Pipeline(steps=[('CountVectorizer', CountVectori...random_state=None, tol=0.0001,\n     verbose=0))]), X=0       i_oporto i_aceite_de_oliva i_agua i_pimi...liva i_huevos i_ajo ...\nName: text, dtype: object, y=0       10\n1       10\n2       10\n3       30\n4   ...3     0\n1454     0\nName: creativity, dtype: int64, indices=array([  45,   47,   48, ..., 1615, 1616, 1617]), train_indices=None)\n   1586             if train_indices is None:\n   1587                 X_subset = X[np.ix_(indices, indices)]\n   1588             else:\n   1589                 X_subset = X[np.ix_(indices, train_indices)]\n   1590         else:\n-> 1591             X_subset = safe_indexing(X, indices)\n        X_subset = undefined\n        X = 0       i_oporto i_aceite_de_oliva i_agua i_pimi...liva i_huevos i_ajo ...\nName: text, dtype: object\n        indices = array([  45,   47,   48, ..., 1615, 1616, 1617])\n   1592 \n   1593     if y is not None:\n   1594         y_subset = safe_indexing(y, indices)\n   1595     else:\n\n...........................................................................\n/home/antonio/virtualenvs/elbulli/lib/python3.4/site-packages/sklearn/utils/__init__.py in safe_indexing(X=0       i_oporto i_aceite_de_oliva i_agua i_pimi...liva i_huevos i_ajo ...\nName: text, dtype: object, indices=array([  45,   47,   48, ..., 1615, 1616, 1617]))\n    147         Indices according to which X will be subsampled.\n    148     \"\"\"\n    149     if hasattr(X, \"iloc\"):\n    150         # Pandas Dataframes and Series\n    151         try:\n--> 152             return X.iloc[indices]\n        X.iloc = <pandas.core.indexing._iLocIndexer object>\n        indices = array([  45,   47,   48, ..., 1615, 1616, 1617])\n    153         except ValueError:\n    154             # Cython typed memoryviews internally used in pandas do not support\n    155             # readonly buffers.\n    156             warnings.warn(\"Copying input dataframe for slicing.\",\n\n...........................................................................\n/home/antonio/virtualenvs/elbulli/lib/python3.4/site-packages/pandas/core/indexing.py in __getitem__(self=<pandas.core.indexing._iLocIndexer object>, key=array([  45,   47,   48, ..., 1615, 1616, 1617]))\n   1291             key = com._apply_if_callable(key, self.obj)\n   1292 \n   1293         if type(key) is tuple:\n   1294             return self._getitem_tuple(key)\n   1295         else:\n-> 1296             return self._getitem_axis(key, axis=0)\n        self._getitem_axis = <bound method _iLocIndexer._getitem_axis of <pandas.core.indexing._iLocIndexer object>>\n        key = array([  45,   47,   48, ..., 1615, 1616, 1617])\n   1297 \n   1298     def _getitem_axis(self, key, axis=0):\n   1299         raise NotImplementedError()\n   1300 \n\n...........................................................................\n/home/antonio/virtualenvs/elbulli/lib/python3.4/site-packages/pandas/core/indexing.py in _getitem_axis(self=<pandas.core.indexing._iLocIndexer object>, key=array([  45,   47,   48, ..., 1615, 1616, 1617]), axis=0)\n   1594         else:\n   1595 \n   1596             if is_list_like_indexer(key):\n   1597 \n   1598                 # validate list bounds\n-> 1599                 self._is_valid_list_like(key, axis)\n        self._is_valid_list_like = <bound method _iLocIndexer._is_valid_list_like of <pandas.core.indexing._iLocIndexer object>>\n        key = array([  45,   47,   48, ..., 1615, 1616, 1617])\n        axis = 0\n   1600 \n   1601                 # force an actual list\n   1602                 key = list(key)\n   1603 \n\n...........................................................................\n/home/antonio/virtualenvs/elbulli/lib/python3.4/site-packages/pandas/core/indexing.py in _is_valid_list_like(self=<pandas.core.indexing._iLocIndexer object>, key=array([  45,   47,   48, ..., 1615, 1616, 1617]), axis=0)\n   1533         # coerce the key to not exceed the maximum size of the index\n   1534         arr = np.array(key)\n   1535         ax = self.obj._get_axis(axis)\n   1536         l = len(ax)\n   1537         if len(arr) and (arr.max() >= l or arr.min() < -l):\n-> 1538             raise IndexError(\"positional indexers are out-of-bounds\")\n   1539 \n   1540         return True\n   1541 \n   1542     def _getitem_tuple(self, tup):\n\nIndexError: positional indexers are out-of-bounds\n___________________________________________________________________________",
      "\nDuring handling of the above exception, another exception occurred:\n",
      "\u001b[1;31mJoblibIndexError\u001b[0m                          Traceback (most recent call last)",
      "\u001b[1;32m<ipython-input-131-79fead2bcf0e>\u001b[0m in \u001b[0;36m<module>\u001b[1;34m()\u001b[0m\n\u001b[1;32m----> 1\u001b[1;33m \u001b[0mgrid_search\u001b[0m\u001b[1;33m.\u001b[0m\u001b[0mfit\u001b[0m\u001b[1;33m(\u001b[0m\u001b[0mX_train\u001b[0m\u001b[1;33m,\u001b[0m \u001b[0my_train\u001b[0m\u001b[1;33m)\u001b[0m\u001b[1;33m\u001b[0m\u001b[0m\n\u001b[0m",
      "\u001b[1;32m/home/antonio/virtualenvs/elbulli/lib/python3.4/site-packages/sklearn/grid_search.py\u001b[0m in \u001b[0;36mfit\u001b[1;34m(self, X, y)\u001b[0m\n\u001b[0;32m    802\u001b[0m \u001b[1;33m\u001b[0m\u001b[0m\n\u001b[0;32m    803\u001b[0m         \"\"\"\n\u001b[1;32m--> 804\u001b[1;33m         \u001b[1;32mreturn\u001b[0m \u001b[0mself\u001b[0m\u001b[1;33m.\u001b[0m\u001b[0m_fit\u001b[0m\u001b[1;33m(\u001b[0m\u001b[0mX\u001b[0m\u001b[1;33m,\u001b[0m \u001b[0my\u001b[0m\u001b[1;33m,\u001b[0m \u001b[0mParameterGrid\u001b[0m\u001b[1;33m(\u001b[0m\u001b[0mself\u001b[0m\u001b[1;33m.\u001b[0m\u001b[0mparam_grid\u001b[0m\u001b[1;33m)\u001b[0m\u001b[1;33m)\u001b[0m\u001b[1;33m\u001b[0m\u001b[0m\n\u001b[0m\u001b[0;32m    805\u001b[0m \u001b[1;33m\u001b[0m\u001b[0m\n\u001b[0;32m    806\u001b[0m \u001b[1;33m\u001b[0m\u001b[0m\n",
      "\u001b[1;32m/home/antonio/virtualenvs/elbulli/lib/python3.4/site-packages/sklearn/grid_search.py\u001b[0m in \u001b[0;36m_fit\u001b[1;34m(self, X, y, parameter_iterable)\u001b[0m\n\u001b[0;32m    551\u001b[0m                                     \u001b[0mself\u001b[0m\u001b[1;33m.\u001b[0m\u001b[0mfit_params\u001b[0m\u001b[1;33m,\u001b[0m \u001b[0mreturn_parameters\u001b[0m\u001b[1;33m=\u001b[0m\u001b[1;32mTrue\u001b[0m\u001b[1;33m,\u001b[0m\u001b[1;33m\u001b[0m\u001b[0m\n\u001b[0;32m    552\u001b[0m                                     error_score=self.error_score)\n\u001b[1;32m--> 553\u001b[1;33m                 \u001b[1;32mfor\u001b[0m \u001b[0mparameters\u001b[0m \u001b[1;32min\u001b[0m \u001b[0mparameter_iterable\u001b[0m\u001b[1;33m\u001b[0m\u001b[0m\n\u001b[0m\u001b[0;32m    554\u001b[0m                 for train, test in cv)\n\u001b[0;32m    555\u001b[0m \u001b[1;33m\u001b[0m\u001b[0m\n",
      "\u001b[1;32m/home/antonio/virtualenvs/elbulli/lib/python3.4/site-packages/sklearn/externals/joblib/parallel.py\u001b[0m in \u001b[0;36m__call__\u001b[1;34m(self, iterable)\u001b[0m\n\u001b[0;32m    808\u001b[0m                 \u001b[1;31m# consumption.\u001b[0m\u001b[1;33m\u001b[0m\u001b[1;33m\u001b[0m\u001b[0m\n\u001b[0;32m    809\u001b[0m                 \u001b[0mself\u001b[0m\u001b[1;33m.\u001b[0m\u001b[0m_iterating\u001b[0m \u001b[1;33m=\u001b[0m \u001b[1;32mFalse\u001b[0m\u001b[1;33m\u001b[0m\u001b[0m\n\u001b[1;32m--> 810\u001b[1;33m             \u001b[0mself\u001b[0m\u001b[1;33m.\u001b[0m\u001b[0mretrieve\u001b[0m\u001b[1;33m(\u001b[0m\u001b[1;33m)\u001b[0m\u001b[1;33m\u001b[0m\u001b[0m\n\u001b[0m\u001b[0;32m    811\u001b[0m             \u001b[1;31m# Make sure that we get a last message telling us we are done\u001b[0m\u001b[1;33m\u001b[0m\u001b[1;33m\u001b[0m\u001b[0m\n\u001b[0;32m    812\u001b[0m             \u001b[0melapsed_time\u001b[0m \u001b[1;33m=\u001b[0m \u001b[0mtime\u001b[0m\u001b[1;33m.\u001b[0m\u001b[0mtime\u001b[0m\u001b[1;33m(\u001b[0m\u001b[1;33m)\u001b[0m \u001b[1;33m-\u001b[0m \u001b[0mself\u001b[0m\u001b[1;33m.\u001b[0m\u001b[0m_start_time\u001b[0m\u001b[1;33m\u001b[0m\u001b[0m\n",
      "\u001b[1;32m/home/antonio/virtualenvs/elbulli/lib/python3.4/site-packages/sklearn/externals/joblib/parallel.py\u001b[0m in \u001b[0;36mretrieve\u001b[1;34m(self)\u001b[0m\n\u001b[0;32m    755\u001b[0m                     \u001b[1;31m# a working pool as they expect.\u001b[0m\u001b[1;33m\u001b[0m\u001b[1;33m\u001b[0m\u001b[0m\n\u001b[0;32m    756\u001b[0m                     \u001b[0mself\u001b[0m\u001b[1;33m.\u001b[0m\u001b[0m_initialize_pool\u001b[0m\u001b[1;33m(\u001b[0m\u001b[1;33m)\u001b[0m\u001b[1;33m\u001b[0m\u001b[0m\n\u001b[1;32m--> 757\u001b[1;33m                 \u001b[1;32mraise\u001b[0m \u001b[0mexception\u001b[0m\u001b[1;33m\u001b[0m\u001b[0m\n\u001b[0m\u001b[0;32m    758\u001b[0m \u001b[1;33m\u001b[0m\u001b[0m\n\u001b[0;32m    759\u001b[0m     \u001b[1;32mdef\u001b[0m \u001b[0m__call__\u001b[0m\u001b[1;33m(\u001b[0m\u001b[0mself\u001b[0m\u001b[1;33m,\u001b[0m \u001b[0miterable\u001b[0m\u001b[1;33m)\u001b[0m\u001b[1;33m:\u001b[0m\u001b[1;33m\u001b[0m\u001b[0m\n",
      "\u001b[1;31mJoblibIndexError\u001b[0m: JoblibIndexError\n___________________________________________________________________________\nMultiprocessing exception:\n...........................................................................\n/usr/lib/python3.4/runpy.py in _run_module_as_main(mod_name='ipykernel.__main__', alter_argv=1)\n    165         sys.exit(msg)\n    166     main_globals = sys.modules[\"__main__\"].__dict__\n    167     if alter_argv:\n    168         sys.argv[0] = mod_spec.origin\n    169     return _run_code(code, main_globals, None,\n--> 170                      \"__main__\", mod_spec)\n        mod_spec = ModuleSpec(name='ipykernel.__main__', loader=<_f...b/python3.4/site-packages/ipykernel/__main__.py')\n    171 \n    172 def run_module(mod_name, init_globals=None,\n    173                run_name=None, alter_sys=False):\n    174     \"\"\"Execute a module's code without importing it\n\n...........................................................................\n/usr/lib/python3.4/runpy.py in _run_code(code=<code object <module> at 0x7f1ec741ef60, file \"/...3.4/site-packages/ipykernel/__main__.py\", line 1>, run_globals={'__builtins__': <module 'builtins' (built-in)>, '__cached__': '/home/antonio/virtualenvs/elbulli/lib/python3.4/...ges/ipykernel/__pycache__/__main__.cpython-34.pyc', '__doc__': None, '__file__': '/home/antonio/virtualenvs/elbulli/lib/python3.4/site-packages/ipykernel/__main__.py', '__loader__': <_frozen_importlib.SourceFileLoader object>, '__name__': '__main__', '__package__': 'ipykernel', '__spec__': ModuleSpec(name='ipykernel.__main__', loader=<_f...b/python3.4/site-packages/ipykernel/__main__.py'), 'app': <module 'ipykernel.kernelapp' from '/home/antoni.../python3.4/site-packages/ipykernel/kernelapp.py'>}, init_globals=None, mod_name='__main__', mod_spec=ModuleSpec(name='ipykernel.__main__', loader=<_f...b/python3.4/site-packages/ipykernel/__main__.py'), pkg_name='ipykernel', script_name=None)\n     80                        __cached__ = cached,\n     81                        __doc__ = None,\n     82                        __loader__ = loader,\n     83                        __package__ = pkg_name,\n     84                        __spec__ = mod_spec)\n---> 85     exec(code, run_globals)\n        code = <code object <module> at 0x7f1ec741ef60, file \"/...3.4/site-packages/ipykernel/__main__.py\", line 1>\n        run_globals = {'__builtins__': <module 'builtins' (built-in)>, '__cached__': '/home/antonio/virtualenvs/elbulli/lib/python3.4/...ges/ipykernel/__pycache__/__main__.cpython-34.pyc', '__doc__': None, '__file__': '/home/antonio/virtualenvs/elbulli/lib/python3.4/site-packages/ipykernel/__main__.py', '__loader__': <_frozen_importlib.SourceFileLoader object>, '__name__': '__main__', '__package__': 'ipykernel', '__spec__': ModuleSpec(name='ipykernel.__main__', loader=<_f...b/python3.4/site-packages/ipykernel/__main__.py'), 'app': <module 'ipykernel.kernelapp' from '/home/antoni.../python3.4/site-packages/ipykernel/kernelapp.py'>}\n     86     return run_globals\n     87 \n     88 def _run_module_code(code, init_globals=None,\n     89                     mod_name=None, mod_spec=None,\n\n...........................................................................\n/home/antonio/virtualenvs/elbulli/lib/python3.4/site-packages/ipykernel/__main__.py in <module>()\n      1 \n      2 \n----> 3 \n      4 if __name__ == '__main__':\n      5     from ipykernel import kernelapp as app\n      6     app.launch_new_instance()\n      7 \n      8 \n      9 \n     10 \n\n...........................................................................\n/home/antonio/virtualenvs/elbulli/lib/python3.4/site-packages/traitlets/config/application.py in launch_instance(cls=<class 'ipykernel.kernelapp.IPKernelApp'>, argv=None, **kwargs={})\n    584         \n    585         If a global instance already exists, this reinitializes and starts it\n    586         \"\"\"\n    587         app = cls.instance(**kwargs)\n    588         app.initialize(argv)\n--> 589         app.start()\n        app.start = <bound method IPKernelApp.start of <ipykernel.kernelapp.IPKernelApp object>>\n    590 \n    591 #-----------------------------------------------------------------------------\n    592 # utility functions, for convenience\n    593 #-----------------------------------------------------------------------------\n\n...........................................................................\n/home/antonio/virtualenvs/elbulli/lib/python3.4/site-packages/ipykernel/kernelapp.py in start(self=<ipykernel.kernelapp.IPKernelApp object>)\n    400         \n    401         if self.poller is not None:\n    402             self.poller.start()\n    403         self.kernel.start()\n    404         try:\n--> 405             ioloop.IOLoop.instance().start()\n    406         except KeyboardInterrupt:\n    407             pass\n    408 \n    409 launch_new_instance = IPKernelApp.launch_instance\n\n...........................................................................\n/home/antonio/virtualenvs/elbulli/lib/python3.4/site-packages/zmq/eventloop/ioloop.py in start(self=<zmq.eventloop.ioloop.ZMQIOLoop object>)\n    157             PollIOLoop.configure(ZMQIOLoop)\n    158         return PollIOLoop.current(*args, **kwargs)\n    159     \n    160     def start(self):\n    161         try:\n--> 162             super(ZMQIOLoop, self).start()\n        self.start = <bound method ZMQIOLoop.start of <zmq.eventloop.ioloop.ZMQIOLoop object>>\n    163         except ZMQError as e:\n    164             if e.errno == ETERM:\n    165                 # quietly return on ETERM\n    166                 pass\n\n...........................................................................\n/home/antonio/virtualenvs/elbulli/lib/python3.4/site-packages/tornado/ioloop.py in start(self=<zmq.eventloop.ioloop.ZMQIOLoop object>)\n    878                 self._events.update(event_pairs)\n    879                 while self._events:\n    880                     fd, events = self._events.popitem()\n    881                     try:\n    882                         fd_obj, handler_func = self._handlers[fd]\n--> 883                         handler_func(fd_obj, events)\n        handler_func = <function wrap.<locals>.null_wrapper>\n        fd_obj = <zmq.sugar.socket.Socket object>\n        events = 1\n    884                     except (OSError, IOError) as e:\n    885                         if errno_from_exception(e) == errno.EPIPE:\n    886                             # Happens when the client closes the connection\n    887                             pass\n\n...........................................................................\n/home/antonio/virtualenvs/elbulli/lib/python3.4/site-packages/tornado/stack_context.py in null_wrapper(*args=(<zmq.sugar.socket.Socket object>, 1), **kwargs={})\n    270         # Fast path when there are no active contexts.\n    271         def null_wrapper(*args, **kwargs):\n    272             try:\n    273                 current_state = _state.contexts\n    274                 _state.contexts = cap_contexts[0]\n--> 275                 return fn(*args, **kwargs)\n        args = (<zmq.sugar.socket.Socket object>, 1)\n        kwargs = {}\n    276             finally:\n    277                 _state.contexts = current_state\n    278         null_wrapper._wrapped = True\n    279         return null_wrapper\n\n...........................................................................\n/home/antonio/virtualenvs/elbulli/lib/python3.4/site-packages/zmq/eventloop/zmqstream.py in _handle_events(self=<zmq.eventloop.zmqstream.ZMQStream object>, fd=<zmq.sugar.socket.Socket object>, events=1)\n    435             # dispatch events:\n    436             if events & IOLoop.ERROR:\n    437                 gen_log.error(\"got POLLERR event on ZMQStream, which doesn't make sense\")\n    438                 return\n    439             if events & IOLoop.READ:\n--> 440                 self._handle_recv()\n        self._handle_recv = <bound method ZMQStream._handle_recv of <zmq.eventloop.zmqstream.ZMQStream object>>\n    441                 if not self.socket:\n    442                     return\n    443             if events & IOLoop.WRITE:\n    444                 self._handle_send()\n\n...........................................................................\n/home/antonio/virtualenvs/elbulli/lib/python3.4/site-packages/zmq/eventloop/zmqstream.py in _handle_recv(self=<zmq.eventloop.zmqstream.ZMQStream object>)\n    467                 gen_log.error(\"RECV Error: %s\"%zmq.strerror(e.errno))\n    468         else:\n    469             if self._recv_callback:\n    470                 callback = self._recv_callback\n    471                 # self._recv_callback = None\n--> 472                 self._run_callback(callback, msg)\n        self._run_callback = <bound method ZMQStream._run_callback of <zmq.eventloop.zmqstream.ZMQStream object>>\n        callback = <function wrap.<locals>.null_wrapper>\n        msg = [<zmq.sugar.frame.Frame object>, <zmq.sugar.frame.Frame object>, <zmq.sugar.frame.Frame object>, <zmq.sugar.frame.Frame object>, <zmq.sugar.frame.Frame object>, <zmq.sugar.frame.Frame object>, <zmq.sugar.frame.Frame object>]\n    473                 \n    474         # self.update_state()\n    475         \n    476 \n\n...........................................................................\n/home/antonio/virtualenvs/elbulli/lib/python3.4/site-packages/zmq/eventloop/zmqstream.py in _run_callback(self=<zmq.eventloop.zmqstream.ZMQStream object>, callback=<function wrap.<locals>.null_wrapper>, *args=([<zmq.sugar.frame.Frame object>, <zmq.sugar.frame.Frame object>, <zmq.sugar.frame.Frame object>, <zmq.sugar.frame.Frame object>, <zmq.sugar.frame.Frame object>, <zmq.sugar.frame.Frame object>, <zmq.sugar.frame.Frame object>],), **kwargs={})\n    409         close our socket.\"\"\"\n    410         try:\n    411             # Use a NullContext to ensure that all StackContexts are run\n    412             # inside our blanket exception handler rather than outside.\n    413             with stack_context.NullContext():\n--> 414                 callback(*args, **kwargs)\n        callback = <function wrap.<locals>.null_wrapper>\n        args = ([<zmq.sugar.frame.Frame object>, <zmq.sugar.frame.Frame object>, <zmq.sugar.frame.Frame object>, <zmq.sugar.frame.Frame object>, <zmq.sugar.frame.Frame object>, <zmq.sugar.frame.Frame object>, <zmq.sugar.frame.Frame object>],)\n        kwargs = {}\n    415         except:\n    416             gen_log.error(\"Uncaught exception, closing connection.\",\n    417                           exc_info=True)\n    418             # Close the socket on an uncaught exception from a user callback\n\n...........................................................................\n/home/antonio/virtualenvs/elbulli/lib/python3.4/site-packages/tornado/stack_context.py in null_wrapper(*args=([<zmq.sugar.frame.Frame object>, <zmq.sugar.frame.Frame object>, <zmq.sugar.frame.Frame object>, <zmq.sugar.frame.Frame object>, <zmq.sugar.frame.Frame object>, <zmq.sugar.frame.Frame object>, <zmq.sugar.frame.Frame object>],), **kwargs={})\n    270         # Fast path when there are no active contexts.\n    271         def null_wrapper(*args, **kwargs):\n    272             try:\n    273                 current_state = _state.contexts\n    274                 _state.contexts = cap_contexts[0]\n--> 275                 return fn(*args, **kwargs)\n        args = ([<zmq.sugar.frame.Frame object>, <zmq.sugar.frame.Frame object>, <zmq.sugar.frame.Frame object>, <zmq.sugar.frame.Frame object>, <zmq.sugar.frame.Frame object>, <zmq.sugar.frame.Frame object>, <zmq.sugar.frame.Frame object>],)\n        kwargs = {}\n    276             finally:\n    277                 _state.contexts = current_state\n    278         null_wrapper._wrapped = True\n    279         return null_wrapper\n\n...........................................................................\n/home/antonio/virtualenvs/elbulli/lib/python3.4/site-packages/ipykernel/kernelbase.py in dispatcher(msg=[<zmq.sugar.frame.Frame object>, <zmq.sugar.frame.Frame object>, <zmq.sugar.frame.Frame object>, <zmq.sugar.frame.Frame object>, <zmq.sugar.frame.Frame object>, <zmq.sugar.frame.Frame object>, <zmq.sugar.frame.Frame object>])\n    255         if self.control_stream:\n    256             self.control_stream.on_recv(self.dispatch_control, copy=False)\n    257 \n    258         def make_dispatcher(stream):\n    259             def dispatcher(msg):\n--> 260                 return self.dispatch_shell(stream, msg)\n        msg = [<zmq.sugar.frame.Frame object>, <zmq.sugar.frame.Frame object>, <zmq.sugar.frame.Frame object>, <zmq.sugar.frame.Frame object>, <zmq.sugar.frame.Frame object>, <zmq.sugar.frame.Frame object>, <zmq.sugar.frame.Frame object>]\n    261             return dispatcher\n    262 \n    263         for s in self.shell_streams:\n    264             s.on_recv(make_dispatcher(s), copy=False)\n\n...........................................................................\n/home/antonio/virtualenvs/elbulli/lib/python3.4/site-packages/ipykernel/kernelbase.py in dispatch_shell(self=<ipykernel.ipkernel.IPythonKernel object>, stream=<zmq.eventloop.zmqstream.ZMQStream object>, msg={'buffers': [], 'content': {'allow_stdin': True, 'code': 'grid_search.fit(X_train, y_train)', 'silent': False, 'stop_on_error': True, 'store_history': True, 'user_expressions': {}}, 'header': {'date': '2016-07-04T00:17:59.863701', 'msg_id': '67E66C1549A44AFF8AEB53BCDE2644B5', 'msg_type': 'execute_request', 'session': '80E54FDFF6334C618BFF2DC4FCA953D0', 'username': 'username', 'version': '5.0'}, 'metadata': {}, 'msg_id': '67E66C1549A44AFF8AEB53BCDE2644B5', 'msg_type': 'execute_request', 'parent_header': {}})\n    207             self.log.error(\"UNKNOWN MESSAGE TYPE: %r\", msg_type)\n    208         else:\n    209             self.log.debug(\"%s: %s\", msg_type, msg)\n    210             self.pre_handler_hook()\n    211             try:\n--> 212                 handler(stream, idents, msg)\n        handler = <bound method IPythonKernel.execute_request of <ipykernel.ipkernel.IPythonKernel object>>\n        stream = <zmq.eventloop.zmqstream.ZMQStream object>\n        idents = [b'80E54FDFF6334C618BFF2DC4FCA953D0']\n        msg = {'buffers': [], 'content': {'allow_stdin': True, 'code': 'grid_search.fit(X_train, y_train)', 'silent': False, 'stop_on_error': True, 'store_history': True, 'user_expressions': {}}, 'header': {'date': '2016-07-04T00:17:59.863701', 'msg_id': '67E66C1549A44AFF8AEB53BCDE2644B5', 'msg_type': 'execute_request', 'session': '80E54FDFF6334C618BFF2DC4FCA953D0', 'username': 'username', 'version': '5.0'}, 'metadata': {}, 'msg_id': '67E66C1549A44AFF8AEB53BCDE2644B5', 'msg_type': 'execute_request', 'parent_header': {}}\n    213             except Exception:\n    214                 self.log.error(\"Exception in message handler:\", exc_info=True)\n    215             finally:\n    216                 self.post_handler_hook()\n\n...........................................................................\n/home/antonio/virtualenvs/elbulli/lib/python3.4/site-packages/ipykernel/kernelbase.py in execute_request(self=<ipykernel.ipkernel.IPythonKernel object>, stream=<zmq.eventloop.zmqstream.ZMQStream object>, ident=[b'80E54FDFF6334C618BFF2DC4FCA953D0'], parent={'buffers': [], 'content': {'allow_stdin': True, 'code': 'grid_search.fit(X_train, y_train)', 'silent': False, 'stop_on_error': True, 'store_history': True, 'user_expressions': {}}, 'header': {'date': '2016-07-04T00:17:59.863701', 'msg_id': '67E66C1549A44AFF8AEB53BCDE2644B5', 'msg_type': 'execute_request', 'session': '80E54FDFF6334C618BFF2DC4FCA953D0', 'username': 'username', 'version': '5.0'}, 'metadata': {}, 'msg_id': '67E66C1549A44AFF8AEB53BCDE2644B5', 'msg_type': 'execute_request', 'parent_header': {}})\n    365         if not silent:\n    366             self.execution_count += 1\n    367             self._publish_execute_input(code, parent, self.execution_count)\n    368 \n    369         reply_content = self.do_execute(code, silent, store_history,\n--> 370                                         user_expressions, allow_stdin)\n        user_expressions = {}\n        allow_stdin = True\n    371 \n    372         # Flush output before sending the reply.\n    373         sys.stdout.flush()\n    374         sys.stderr.flush()\n\n...........................................................................\n/home/antonio/virtualenvs/elbulli/lib/python3.4/site-packages/ipykernel/ipkernel.py in do_execute(self=<ipykernel.ipkernel.IPythonKernel object>, code='grid_search.fit(X_train, y_train)', silent=False, store_history=True, user_expressions={}, allow_stdin=True)\n    170 \n    171         reply_content = {}\n    172         # FIXME: the shell calls the exception handler itself.\n    173         shell._reply_content = None\n    174         try:\n--> 175             shell.run_cell(code, store_history=store_history, silent=silent)\n        shell.run_cell = <bound method ZMQInteractiveShell.run_cell of <ipykernel.zmqshell.ZMQInteractiveShell object>>\n        code = 'grid_search.fit(X_train, y_train)'\n        store_history = True\n        silent = False\n    176         except:\n    177             status = u'error'\n    178             # FIXME: this code right now isn't being used yet by default,\n    179             # because the run_cell() call above directly fires off exception\n\n...........................................................................\n/home/antonio/virtualenvs/elbulli/lib/python3.4/site-packages/IPython/core/interactiveshell.py in run_cell(self=<ipykernel.zmqshell.ZMQInteractiveShell object>, raw_cell='grid_search.fit(X_train, y_train)', store_history=True, silent=False, shell_futures=True)\n   2897                 self.displayhook.exec_result = result\n   2898 \n   2899                 # Execute the user code\n   2900                 interactivity = \"none\" if silent else self.ast_node_interactivity\n   2901                 self.run_ast_nodes(code_ast.body, cell_name,\n-> 2902                    interactivity=interactivity, compiler=compiler, result=result)\n        interactivity = 'last_expr'\n        compiler = <IPython.core.compilerop.CachingCompiler object>\n   2903 \n   2904                 # Reset this so later displayed values do not modify the\n   2905                 # ExecutionResult\n   2906                 self.displayhook.exec_result = None\n\n...........................................................................\n/home/antonio/virtualenvs/elbulli/lib/python3.4/site-packages/IPython/core/interactiveshell.py in run_ast_nodes(self=<ipykernel.zmqshell.ZMQInteractiveShell object>, nodelist=[<_ast.Expr object>], cell_name='<ipython-input-131-79fead2bcf0e>', interactivity='last', compiler=<IPython.core.compilerop.CachingCompiler object>, result=<IPython.core.interactiveshell.ExecutionResult object>)\n   3007                     return True\n   3008 \n   3009             for i, node in enumerate(to_run_interactive):\n   3010                 mod = ast.Interactive([node])\n   3011                 code = compiler(mod, cell_name, \"single\")\n-> 3012                 if self.run_code(code, result):\n        self.run_code = <bound method ZMQInteractiveShell.run_code of <ipykernel.zmqshell.ZMQInteractiveShell object>>\n        code = <code object <module> at 0x7f1e8dec8c00, file \"<ipython-input-131-79fead2bcf0e>\", line 1>\n        result = <IPython.core.interactiveshell.ExecutionResult object>\n   3013                     return True\n   3014 \n   3015             # Flush softspace\n   3016             if softspace(sys.stdout, 0):\n\n...........................................................................\n/home/antonio/virtualenvs/elbulli/lib/python3.4/site-packages/IPython/core/interactiveshell.py in run_code(self=<ipykernel.zmqshell.ZMQInteractiveShell object>, code_obj=<code object <module> at 0x7f1e8dec8c00, file \"<ipython-input-131-79fead2bcf0e>\", line 1>, result=<IPython.core.interactiveshell.ExecutionResult object>)\n   3061         outflag = 1  # happens in more places, so it's easier as default\n   3062         try:\n   3063             try:\n   3064                 self.hooks.pre_run_code_hook()\n   3065                 #rprint('Running code', repr(code_obj)) # dbg\n-> 3066                 exec(code_obj, self.user_global_ns, self.user_ns)\n        code_obj = <code object <module> at 0x7f1e8dec8c00, file \"<ipython-input-131-79fead2bcf0e>\", line 1>\n        self.user_global_ns = {'BernoulliNB': <class 'sklearn.naive_bayes.BernoulliNB'>, 'CountVectorizer': <class 'sklearn.feature_extraction.text.CountVectorizer'>, 'GridSearchCV': <class 'sklearn.grid_search.GridSearchCV'>, 'In': ['', 'import json\\nfrom random import randint\\nfrom time...es/text/document_classification_20newsgroups.html', \"elbulli_raw_recipes_df = pd.read_csv('data/dbs/recipes_elbulli_raw.csv')\", \"elbulli_raw_recipes_df['creativity'] = elbulli_r...'] <= 2005 else \\\\\\n              'UNKOWN', axis=1)\", \"elbulli_raw_recipes_df['creativity'].value_counts()\", \"cookpad_size = int(np.average(elbulli_raw_recipes_df['creativity'].value_counts()))\", 'cookpad_size', \"cookpad_raw_recipes_df = pd.read_csv('data/dbs/recipes_cookpad_raw.csv')\", 'cookpad_sample = cookpad_raw_recipes_df.sample(cookpad_size)', 'cookpad_indices = cookpad_sample.index.sort_values()', 'cookpad_indices', 'def my_sample(df, indices=cookpad_indices):\\n    return df.ix[indices]', \"elbulli_raw_recipes_df = pd.read_csv('data/dbs/recipes_elbulli_raw.csv')\", 'elbulli_raw_recipes_df.dtypes', 'elbulli_raw_recipes_df.head()', \"elbulli_raw_recipes_df['ingredients'] = elbulli_...ly(lambda x: json.loads(x['techniques']), axis=1)\", 'elbulli_raw_recipes_df.head()', \"elbulli_raw_recipes_df['creativity'] = elbulli_r...'] <= 2005 else \\\\\\n              'UNKOWN', axis=1)\", 'elbulli_raw_recipes_df.head()', \"cookpad_raw_recipes_df = pd.read_csv('data/dbs/r...aw_recipes_df = my_sample(cookpad_raw_recipes_df)\", ...], 'K': 10, 'KNeighborsClassifier': <class 'sklearn.neighbors.classification.KNeighborsClassifier'>, 'LinearSVC': <class 'sklearn.svm.classes.LinearSVC'>, 'MultinomialNB': <class 'sklearn.naive_bayes.MultinomialNB'>, 'NearestCentroid': <class 'sklearn.neighbors.nearest_centroid.NearestCentroid'>, 'Out': {4: 10    454\n30    389\n20    371\nName: creativity, dtype: int64, 6: 404, 10: Int64Index([   3,   23,   96,  100,  115,  120, ...930, 7970],\n           dtype='int64', length=404), 13: _id             int64\ntitle          object\nyear...nts    object\ntechniques     object\ndtype: object, 14:     _id                                         ...al, asar, cocer, hervido, confitar, cazuela,...  , 16:     _id                                         ...al, asar, cocer, hervido, confitar, cazuela,...  , 18:     _id                                         ...cer, hervido, confitar, cazuela,...          30  , 20: _id             int64\ntitle          object\nyear...nts    object\ntechniques     object\ndtype: object, 21:         _id                        title  year  ...ofreir, cocer, sofreimos, hervir, sofrito, d...  , 23:         _id                        title  year  ...ofreir, cocer, sofreimos, hervir, sofrito, d...  , ...}, ...}\n        self.user_ns = {'BernoulliNB': <class 'sklearn.naive_bayes.BernoulliNB'>, 'CountVectorizer': <class 'sklearn.feature_extraction.text.CountVectorizer'>, 'GridSearchCV': <class 'sklearn.grid_search.GridSearchCV'>, 'In': ['', 'import json\\nfrom random import randint\\nfrom time...es/text/document_classification_20newsgroups.html', \"elbulli_raw_recipes_df = pd.read_csv('data/dbs/recipes_elbulli_raw.csv')\", \"elbulli_raw_recipes_df['creativity'] = elbulli_r...'] <= 2005 else \\\\\\n              'UNKOWN', axis=1)\", \"elbulli_raw_recipes_df['creativity'].value_counts()\", \"cookpad_size = int(np.average(elbulli_raw_recipes_df['creativity'].value_counts()))\", 'cookpad_size', \"cookpad_raw_recipes_df = pd.read_csv('data/dbs/recipes_cookpad_raw.csv')\", 'cookpad_sample = cookpad_raw_recipes_df.sample(cookpad_size)', 'cookpad_indices = cookpad_sample.index.sort_values()', 'cookpad_indices', 'def my_sample(df, indices=cookpad_indices):\\n    return df.ix[indices]', \"elbulli_raw_recipes_df = pd.read_csv('data/dbs/recipes_elbulli_raw.csv')\", 'elbulli_raw_recipes_df.dtypes', 'elbulli_raw_recipes_df.head()', \"elbulli_raw_recipes_df['ingredients'] = elbulli_...ly(lambda x: json.loads(x['techniques']), axis=1)\", 'elbulli_raw_recipes_df.head()', \"elbulli_raw_recipes_df['creativity'] = elbulli_r...'] <= 2005 else \\\\\\n              'UNKOWN', axis=1)\", 'elbulli_raw_recipes_df.head()', \"cookpad_raw_recipes_df = pd.read_csv('data/dbs/r...aw_recipes_df = my_sample(cookpad_raw_recipes_df)\", ...], 'K': 10, 'KNeighborsClassifier': <class 'sklearn.neighbors.classification.KNeighborsClassifier'>, 'LinearSVC': <class 'sklearn.svm.classes.LinearSVC'>, 'MultinomialNB': <class 'sklearn.naive_bayes.MultinomialNB'>, 'NearestCentroid': <class 'sklearn.neighbors.nearest_centroid.NearestCentroid'>, 'Out': {4: 10    454\n30    389\n20    371\nName: creativity, dtype: int64, 6: 404, 10: Int64Index([   3,   23,   96,  100,  115,  120, ...930, 7970],\n           dtype='int64', length=404), 13: _id             int64\ntitle          object\nyear...nts    object\ntechniques     object\ndtype: object, 14:     _id                                         ...al, asar, cocer, hervido, confitar, cazuela,...  , 16:     _id                                         ...al, asar, cocer, hervido, confitar, cazuela,...  , 18:     _id                                         ...cer, hervido, confitar, cazuela,...          30  , 20: _id             int64\ntitle          object\nyear...nts    object\ntechniques     object\ndtype: object, 21:         _id                        title  year  ...ofreir, cocer, sofreimos, hervir, sofrito, d...  , 23:         _id                        title  year  ...ofreir, cocer, sofreimos, hervir, sofrito, d...  , ...}, ...}\n   3067             finally:\n   3068                 # Reset our crash handler in place\n   3069                 sys.excepthook = old_excepthook\n   3070         except SystemExit as e:\n\n...........................................................................\n/home/antonio/git/elbulli/<ipython-input-131-79fead2bcf0e> in <module>()\n----> 1 \n      2 \n      3 \n      4 \n      5 \n      6 grid_search.fit(X_train, y_train)\n      7 \n      8 \n      9 \n     10 \n\n...........................................................................\n/home/antonio/virtualenvs/elbulli/lib/python3.4/site-packages/sklearn/grid_search.py in fit(self=GridSearchCV(cv=sklearn.cross_validation.Stratif...it=True, scoring='f1_weighted',\n       verbose=1), X=0       i_oporto i_aceite_de_oliva i_agua i_pimi...liva i_huevos i_ajo ...\nName: text, dtype: object, y=0       10\n1       10\n2       10\n3       30\n4   ...3     0\n1454     0\nName: creativity, dtype: int64)\n    799         y : array-like, shape = [n_samples] or [n_samples, n_output], optional\n    800             Target relative to X for classification or regression;\n    801             None for unsupervised learning.\n    802 \n    803         \"\"\"\n--> 804         return self._fit(X, y, ParameterGrid(self.param_grid))\n        self._fit = <bound method GridSearchCV._fit of GridSearchCV(...t=True, scoring='f1_weighted',\n       verbose=1)>\n        X = 0       i_oporto i_aceite_de_oliva i_agua i_pimi...liva i_huevos i_ajo ...\nName: text, dtype: object\n        y = 0       10\n1       10\n2       10\n3       30\n4   ...3     0\n1454     0\nName: creativity, dtype: int64\n        self.param_grid = {}\n    805 \n    806 \n    807 class RandomizedSearchCV(BaseSearchCV):\n    808     \"\"\"Randomized search on hyper parameters.\n\n...........................................................................\n/home/antonio/virtualenvs/elbulli/lib/python3.4/site-packages/sklearn/grid_search.py in _fit(self=GridSearchCV(cv=sklearn.cross_validation.Stratif...it=True, scoring='f1_weighted',\n       verbose=1), X=0       i_oporto i_aceite_de_oliva i_agua i_pimi...liva i_huevos i_ajo ...\nName: text, dtype: object, y=0       10\n1       10\n2       10\n3       30\n4   ...3     0\n1454     0\nName: creativity, dtype: int64, parameter_iterable=<sklearn.grid_search.ParameterGrid object>)\n    548         )(\n    549             delayed(_fit_and_score)(clone(base_estimator), X, y, self.scorer_,\n    550                                     train, test, self.verbose, parameters,\n    551                                     self.fit_params, return_parameters=True,\n    552                                     error_score=self.error_score)\n--> 553                 for parameters in parameter_iterable\n        parameters = undefined\n        parameter_iterable = <sklearn.grid_search.ParameterGrid object>\n    554                 for train, test in cv)\n    555 \n    556         # Out is a list of triplet: score, estimator, n_test_samples\n    557         n_fits = len(out)\n\n...........................................................................\n/home/antonio/virtualenvs/elbulli/lib/python3.4/site-packages/sklearn/externals/joblib/parallel.py in __call__(self=Parallel(n_jobs=-1), iterable=<generator object <genexpr>>)\n    805             if pre_dispatch == \"all\" or n_jobs == 1:\n    806                 # The iterable was consumed all at once by the above for loop.\n    807                 # No need to wait for async callbacks to trigger to\n    808                 # consumption.\n    809                 self._iterating = False\n--> 810             self.retrieve()\n        self.retrieve = <bound method Parallel.retrieve of Parallel(n_jobs=-1)>\n    811             # Make sure that we get a last message telling us we are done\n    812             elapsed_time = time.time() - self._start_time\n    813             self._print('Done %3i out of %3i | elapsed: %s finished',\n    814                         (len(self._output), len(self._output),\n\n---------------------------------------------------------------------------\nSub-process traceback:\n---------------------------------------------------------------------------\nIndexError                                         Mon Jul  4 00:17:59 2016\nPID: 16367      Python 3.4.3: /home/antonio/virtualenvs/elbulli/bin/python3\n...........................................................................\n/home/antonio/virtualenvs/elbulli/lib/python3.4/site-packages/sklearn/externals/joblib/parallel.py in __call__(self=<sklearn.externals.joblib.parallel.BatchedCalls object>)\n     67     def __init__(self, iterator_slice):\n     68         self.items = list(iterator_slice)\n     69         self._size = len(self.items)\n     70 \n     71     def __call__(self):\n---> 72         return [func(*args, **kwargs) for func, args, kwargs in self.items]\n        self.items = <class 'list'> instance\n     73 \n     74     def __len__(self):\n     75         return self._size\n     76 \n\n...........................................................................\n/home/antonio/virtualenvs/elbulli/lib/python3.4/site-packages/sklearn/externals/joblib/parallel.py in <listcomp>(.0=<list_iterator object>)\n     67     def __init__(self, iterator_slice):\n     68         self.items = list(iterator_slice)\n     69         self._size = len(self.items)\n     70 \n     71     def __call__(self):\n---> 72         return [func(*args, **kwargs) for func, args, kwargs in self.items]\n        func = <function _fit_and_score>\n        args = <class 'tuple'> instance\n        kwargs = {'error_score': 0, 'return_parameters': True}\n     73 \n     74     def __len__(self):\n     75         return self._size\n     76 \n\n...........................................................................\n/home/antonio/virtualenvs/elbulli/lib/python3.4/site-packages/sklearn/cross_validation.py in _fit_and_score(estimator=Pipeline(steps=[('CountVectorizer', CountVectori...random_state=None, tol=0.0001,\n     verbose=0))]), X=0       i_oporto i_aceite_de_oliva i_agua i_pimi...liva i_huevos i_ajo ...\nName: text, dtype: object, y=0       10\n1       10\n2       10\n3       30\n4   ...3     0\n1454     0\nName: creativity, dtype: int64, scorer=<class 'sklearn.metrics.scorer._PredictScorer'> instance, train=array([  45,   47,   48, ..., 1615, 1616, 1617]), test=array([   0,    1,    2,    3,    4,    5,    6,... 1247, 1248, 1249, 1250, 1251, 1252, 1253, 1254]), verbose=1, parameters={}, fit_params={}, return_train_score=False, return_parameters=True, error_score=0)\n   1519     if parameters is not None:\n   1520         estimator.set_params(**parameters)\n   1521 \n   1522     start_time = time.time()\n   1523 \n-> 1524     X_train, y_train = _safe_split(estimator, X, y, train)\n        X_train = undefined\n        y_train = undefined\n        estimator = Pipeline(steps=[('CountVectorizer', CountVectori...random_state=None, tol=0.0001,\n     verbose=0))])\n        X = 0       i_oporto i_aceite_de_oliva i_agua i_pimi...liva i_huevos i_ajo ...\nName: text, dtype: object\n        y = 0       10\n1       10\n2       10\n3       30\n4   ...3     0\n1454     0\nName: creativity, dtype: int64\n        train = array([  45,   47,   48, ..., 1615, 1616, 1617])\n   1525     X_test, y_test = _safe_split(estimator, X, y, test, train)\n   1526 \n   1527     try:\n   1528         if y_train is None:\n\n...........................................................................\n/home/antonio/virtualenvs/elbulli/lib/python3.4/site-packages/sklearn/cross_validation.py in _safe_split(estimator=Pipeline(steps=[('CountVectorizer', CountVectori...random_state=None, tol=0.0001,\n     verbose=0))]), X=0       i_oporto i_aceite_de_oliva i_agua i_pimi...liva i_huevos i_ajo ...\nName: text, dtype: object, y=0       10\n1       10\n2       10\n3       30\n4   ...3     0\n1454     0\nName: creativity, dtype: int64, indices=array([  45,   47,   48, ..., 1615, 1616, 1617]), train_indices=None)\n   1586             if train_indices is None:\n   1587                 X_subset = X[np.ix_(indices, indices)]\n   1588             else:\n   1589                 X_subset = X[np.ix_(indices, train_indices)]\n   1590         else:\n-> 1591             X_subset = safe_indexing(X, indices)\n        X_subset = undefined\n        X = 0       i_oporto i_aceite_de_oliva i_agua i_pimi...liva i_huevos i_ajo ...\nName: text, dtype: object\n        indices = array([  45,   47,   48, ..., 1615, 1616, 1617])\n   1592 \n   1593     if y is not None:\n   1594         y_subset = safe_indexing(y, indices)\n   1595     else:\n\n...........................................................................\n/home/antonio/virtualenvs/elbulli/lib/python3.4/site-packages/sklearn/utils/__init__.py in safe_indexing(X=0       i_oporto i_aceite_de_oliva i_agua i_pimi...liva i_huevos i_ajo ...\nName: text, dtype: object, indices=array([  45,   47,   48, ..., 1615, 1616, 1617]))\n    147         Indices according to which X will be subsampled.\n    148     \"\"\"\n    149     if hasattr(X, \"iloc\"):\n    150         # Pandas Dataframes and Series\n    151         try:\n--> 152             return X.iloc[indices]\n        X.iloc = <pandas.core.indexing._iLocIndexer object>\n        indices = array([  45,   47,   48, ..., 1615, 1616, 1617])\n    153         except ValueError:\n    154             # Cython typed memoryviews internally used in pandas do not support\n    155             # readonly buffers.\n    156             warnings.warn(\"Copying input dataframe for slicing.\",\n\n...........................................................................\n/home/antonio/virtualenvs/elbulli/lib/python3.4/site-packages/pandas/core/indexing.py in __getitem__(self=<pandas.core.indexing._iLocIndexer object>, key=array([  45,   47,   48, ..., 1615, 1616, 1617]))\n   1291             key = com._apply_if_callable(key, self.obj)\n   1292 \n   1293         if type(key) is tuple:\n   1294             return self._getitem_tuple(key)\n   1295         else:\n-> 1296             return self._getitem_axis(key, axis=0)\n        self._getitem_axis = <bound method _iLocIndexer._getitem_axis of <pandas.core.indexing._iLocIndexer object>>\n        key = array([  45,   47,   48, ..., 1615, 1616, 1617])\n   1297 \n   1298     def _getitem_axis(self, key, axis=0):\n   1299         raise NotImplementedError()\n   1300 \n\n...........................................................................\n/home/antonio/virtualenvs/elbulli/lib/python3.4/site-packages/pandas/core/indexing.py in _getitem_axis(self=<pandas.core.indexing._iLocIndexer object>, key=array([  45,   47,   48, ..., 1615, 1616, 1617]), axis=0)\n   1594         else:\n   1595 \n   1596             if is_list_like_indexer(key):\n   1597 \n   1598                 # validate list bounds\n-> 1599                 self._is_valid_list_like(key, axis)\n        self._is_valid_list_like = <bound method _iLocIndexer._is_valid_list_like of <pandas.core.indexing._iLocIndexer object>>\n        key = array([  45,   47,   48, ..., 1615, 1616, 1617])\n        axis = 0\n   1600 \n   1601                 # force an actual list\n   1602                 key = list(key)\n   1603 \n\n...........................................................................\n/home/antonio/virtualenvs/elbulli/lib/python3.4/site-packages/pandas/core/indexing.py in _is_valid_list_like(self=<pandas.core.indexing._iLocIndexer object>, key=array([  45,   47,   48, ..., 1615, 1616, 1617]), axis=0)\n   1533         # coerce the key to not exceed the maximum size of the index\n   1534         arr = np.array(key)\n   1535         ax = self.obj._get_axis(axis)\n   1536         l = len(ax)\n   1537         if len(arr) and (arr.max() >= l or arr.min() < -l):\n-> 1538             raise IndexError(\"positional indexers are out-of-bounds\")\n   1539 \n   1540         return True\n   1541 \n   1542     def _getitem_tuple(self, tup):\n\nIndexError: positional indexers are out-of-bounds\n___________________________________________________________________________"
     ]
    }
   ],
   "source": [
    "grid_search.fit(X_train, y_train)"
   ]
  },
  {
   "cell_type": "code",
   "execution_count": null,
   "metadata": {
    "collapsed": false
   },
   "outputs": [],
   "source": [
    "# >>> from sklearn.metrics import confusion_matrix\n",
    "# >>> y_true = [1, 0, 1, 0, 1, 0, 1, 0, 1, 0, 1, 1, 2, 2, 2, 2]\n",
    "# >>> y_pred = [1, 0, 0, 0, 1, 1, 1, 0, 0, 0, 1, 1, 2, 2, 2, 1]\n",
    "# >>> print(confusion_matrix(y_true, y_pred))\n",
    "# [[4 1 0]\n",
    "#  [2 5 0]\n",
    "#  [0 1 3]]"
   ]
  },
  {
   "cell_type": "code",
   "execution_count": 107,
   "metadata": {
    "collapsed": true
   },
   "outputs": [],
   "source": [
    "# Params\n",
    "K = 10\n",
    "parameters = {\n",
    "    'vect__max_df': (0.5, 0.75, 1.0),\n",
    "    'tfidf__norm': (None, 'l1', 'l2'),\n",
    "}"
   ]
  },
  {
   "cell_type": "code",
   "execution_count": null,
   "metadata": {
    "collapsed": true
   },
   "outputs": [],
   "source": [
    "# # Classifiers\n",
    "# clf_list = [\n",
    "#     (RidgeClassifier(alpha=.00001, tol=1e-2, solver=\"lsqr\"), \"Ridge classifier\"),\n",
    "#     (Perceptron(alpha=.00001, n_iter=50), \"Perceptron\"),\n",
    "#     (PassiveAggressiveClassifier(n_iter=50), \"Passive-aggressive\"),\n",
    "#     (KNeighborsClassifier(n_neighbors=10), \"kNN\"),\n",
    "#     (RandomForestClassifier(n_estimators=100), \"Random Forest Classifier\"),\n",
    "# #     (RandomForestRegressor(n_estimators=100), \"Random Forest Regressor\"),\n",
    "#     (LinearSVC(loss='squared_hinge', penalty='l2', dual=False, tol=1e-3), 'Linear SVC 1'),\n",
    "#     (SGDClassifier(alpha=.000001, n_iter=50, penalty='l1'), 'SGDClassifier'),\n",
    "# #     (SGDRegressor(alpha=.000001, n_iter=50, penalty='l1'), 'SGDRegressor'),\n",
    "#     (NearestCentroid(), 'Nearest Centroid'),\n",
    "#     (MultinomialNB(alpha=.00001), 'Multinomial NB'),\n",
    "#     (BernoulliNB(alpha=.00001), 'Bernoulli NB'),\n",
    "#     (LinearSVC(penalty=\"l1\", dual=False, tol=1e-3), 'Linear SVC 2'),\n",
    "#     (RidgeClassifier(), \"Ridge classifier\"),\n",
    "#     (Perceptron(), \"Perceptron\"),\n",
    "#     (PassiveAggressiveClassifier(), \"Passive-aggressive\"),\n",
    "#     (KNeighborsClassifier(), \"kNN\"),\n",
    "#     (RandomForestClassifier(), \"Random Forest Classifier\"),\n",
    "# #     (RandomForestRegressor(), \"Random Forest Regressor\"),\n",
    "#     (LinearSVC(), 'Linear SVC'),\n",
    "#     (SGDClassifier(), 'SGDClassifier'),\n",
    "# #     (SGDRegressor(), 'SGDRegressor'),\n",
    "#     (NearestCentroid(), 'Nearest Centroid'),\n",
    "#     (MultinomialNB(), 'Multinomial NB'),\n",
    "#     (BernoulliNB(), 'Bernoulli NB'),\n",
    "# ]"
   ]
  },
  {
   "cell_type": "code",
   "execution_count": null,
   "metadata": {
    "collapsed": false
   },
   "outputs": [],
   "source": [
    "# # Classifiers\n",
    "# clf_list = [\n",
    "#     (LinearSVC(), 'Linear SVC'),\n",
    "#     (LinearSVC(penalty=\"l1\", dual=False, tol=1e-3), 'Linear SVC'),\n",
    "#     (LinearSVC(loss='squared_hinge', penalty='l2', dual=False, tol=1e-3), 'Linear SVC'),\n",
    "#     (LinearSVC(loss='hinge', penalty='l1', dual=True, tol=1e-1, multi_class='crammer_singer', random_state=100), 'Linear SVC'),\n",
    "# ]"
   ]
  },
  {
   "cell_type": "code",
   "execution_count": 110,
   "metadata": {
    "collapsed": false
   },
   "outputs": [
    {
     "data": {
      "text/plain": [
       "16"
      ]
     },
     "execution_count": 110,
     "metadata": {},
     "output_type": "execute_result"
    }
   ],
   "source": [
    "# Classifiers\n",
    "clf_list = []\n",
    "for loss in ['hinge', 'squared_hinge']:\n",
    "    for tol in [0.0001, 0.001, 0.01, 0.1]:\n",
    "        for multi_class in ['ovr', 'crammer_singer']:\n",
    "            clf_list.append((\n",
    "                    LinearSVC(loss=loss, tol=tol, multi_class=multi_class),\n",
    "                    'LinearSVC(loss={}, tol={}, multi_class={})'.format(loss, tol, multi_class)\n",
    "                ))\n",
    "len(clf_list)"
   ]
  },
  {
   "cell_type": "code",
   "execution_count": 118,
   "metadata": {
    "collapsed": false
   },
   "outputs": [
    {
     "name": "stdout",
     "output_type": "stream",
     "text": [
      "________________________________________________________________________________\n",
      "Training: LinearSVC(loss=hinge, tol=0.0001, multi_class=ovr)\n",
      "Pipeline(steps=[('vect', CountVectorizer(analyzer='word', binary=False, decode_error='strict',\n",
      "        dtype=<class 'numpy.int64'>, encoding='utf-8', input='content',\n",
      "        lowercase=True, max_df=1.0, max_features=None, min_df=1,\n",
      "        ngram_range=(1, 1), preprocessor=None, stop_words=None,\n",
      "        strip...e', max_iter=1000, multi_class='ovr',\n",
      "     penalty='l2', random_state=None, tol=0.0001, verbose=0))])\n",
      "train time: 0.232s\n",
      "test time:  0.018s\n",
      "accuracy:   0.968\n",
      "precision:   0.968\n",
      "recall:   0.968\n",
      "classification report:\n"
     ]
    },
    {
     "name": "stderr",
     "output_type": "stream",
     "text": [
      "/home/antonio/virtualenvs/elbulli/lib/python3.4/site-packages/sklearn/metrics/classification.py:1203: DeprecationWarning: The default `weighted` averaging is deprecated, and from version 0.18, use of precision, recall or F-score with multiclass or multilabel data or pos_label=None will result in an exception. Please set an explicit value for `average`, one of (None, 'micro', 'macro', 'weighted', 'samples'). In cross validation use, for instance, scoring=\"f1_weighted\" instead of scoring=\"f1\".\n",
      "  sample_weight=sample_weight)\n",
      "/home/antonio/virtualenvs/elbulli/lib/python3.4/site-packages/sklearn/metrics/classification.py:1304: DeprecationWarning: The default `weighted` averaging is deprecated, and from version 0.18, use of precision, recall or F-score with multiclass or multilabel data or pos_label=None will result in an exception. Please set an explicit value for `average`, one of (None, 'micro', 'macro', 'weighted', 'samples'). In cross validation use, for instance, scoring=\"f1_weighted\" instead of scoring=\"f1\".\n",
      "  sample_weight=sample_weight)\n"
     ]
    },
    {
     "ename": "IndexError",
     "evalue": "list index out of range",
     "output_type": "error",
     "traceback": [
      "\u001b[1;31m---------------------------------------------------------------------------\u001b[0m",
      "\u001b[1;31mIndexError\u001b[0m                                Traceback (most recent call last)",
      "\u001b[1;32m<ipython-input-118-e8ba368073d3>\u001b[0m in \u001b[0;36m<module>\u001b[1;34m()\u001b[0m\n\u001b[0;32m     12\u001b[0m \u001b[1;31m#         grid_search = GridSearchCV(pipeline, parameters, n_jobs=-1, verbose=1)\u001b[0m\u001b[1;33m\u001b[0m\u001b[1;33m\u001b[0m\u001b[0m\n\u001b[0;32m     13\u001b[0m \u001b[1;31m#         benchmark_results = benchmark(grid_search, X_train, X_test, y_train, y_test, name)\u001b[0m\u001b[1;33m\u001b[0m\u001b[1;33m\u001b[0m\u001b[0m\n\u001b[1;32m---> 14\u001b[1;33m         \u001b[0mbenchmark_results\u001b[0m \u001b[1;33m=\u001b[0m \u001b[0mbenchmark\u001b[0m\u001b[1;33m(\u001b[0m\u001b[0mpipeline\u001b[0m\u001b[1;33m,\u001b[0m \u001b[0mX_train\u001b[0m\u001b[1;33m,\u001b[0m \u001b[0mX_test\u001b[0m\u001b[1;33m,\u001b[0m \u001b[0my_train\u001b[0m\u001b[1;33m,\u001b[0m \u001b[0my_test\u001b[0m\u001b[1;33m,\u001b[0m \u001b[0mname\u001b[0m\u001b[1;33m)\u001b[0m\u001b[1;33m\u001b[0m\u001b[0m\n\u001b[0m\u001b[0;32m     15\u001b[0m \u001b[1;31m#         results[name].append(benchmark_results)\u001b[0m\u001b[1;33m\u001b[0m\u001b[1;33m\u001b[0m\u001b[0m\n",
      "\u001b[1;32m<ipython-input-115-7aa51c8bf05e>\u001b[0m in \u001b[0;36mbenchmark\u001b[1;34m(clf, X_train, X_test, y_train, y_test, name)\u001b[0m\n\u001b[0;32m     25\u001b[0m \u001b[1;33m\u001b[0m\u001b[0m\n\u001b[0;32m     26\u001b[0m     \u001b[0mprint\u001b[0m\u001b[1;33m(\u001b[0m\u001b[1;34m\"classification report:\"\u001b[0m\u001b[1;33m)\u001b[0m\u001b[1;33m\u001b[0m\u001b[0m\n\u001b[1;32m---> 27\u001b[1;33m     \u001b[0mprint\u001b[0m\u001b[1;33m(\u001b[0m\u001b[0mmetrics\u001b[0m\u001b[1;33m.\u001b[0m\u001b[0mclassification_report\u001b[0m\u001b[1;33m(\u001b[0m\u001b[0my_test\u001b[0m\u001b[1;33m,\u001b[0m \u001b[0mpred\u001b[0m\u001b[1;33m,\u001b[0m \u001b[0mtarget_names\u001b[0m\u001b[1;33m=\u001b[0m\u001b[1;33m[\u001b[0m\u001b[1;34m'Low'\u001b[0m\u001b[1;33m,\u001b[0m \u001b[1;34m'Medium'\u001b[0m\u001b[1;33m,\u001b[0m \u001b[1;34m'High'\u001b[0m\u001b[1;33m]\u001b[0m\u001b[1;33m)\u001b[0m\u001b[1;33m)\u001b[0m\u001b[1;33m\u001b[0m\u001b[0m\n\u001b[0m\u001b[0;32m     28\u001b[0m \u001b[1;33m\u001b[0m\u001b[0m\n\u001b[0;32m     29\u001b[0m     \u001b[0mprint\u001b[0m\u001b[1;33m(\u001b[0m\u001b[1;34m\"confusion matrix:\"\u001b[0m\u001b[1;33m)\u001b[0m\u001b[1;33m\u001b[0m\u001b[0m\n",
      "\u001b[1;32m/home/antonio/virtualenvs/elbulli/lib/python3.4/site-packages/sklearn/metrics/classification.py\u001b[0m in \u001b[0;36mclassification_report\u001b[1;34m(y_true, y_pred, labels, target_names, sample_weight, digits)\u001b[0m\n\u001b[0;32m   1385\u001b[0m \u001b[1;33m\u001b[0m\u001b[0m\n\u001b[0;32m   1386\u001b[0m     \u001b[1;32mfor\u001b[0m \u001b[0mi\u001b[0m\u001b[1;33m,\u001b[0m \u001b[0mlabel\u001b[0m \u001b[1;32min\u001b[0m \u001b[0menumerate\u001b[0m\u001b[1;33m(\u001b[0m\u001b[0mlabels\u001b[0m\u001b[1;33m)\u001b[0m\u001b[1;33m:\u001b[0m\u001b[1;33m\u001b[0m\u001b[0m\n\u001b[1;32m-> 1387\u001b[1;33m         \u001b[0mvalues\u001b[0m \u001b[1;33m=\u001b[0m \u001b[1;33m[\u001b[0m\u001b[0mtarget_names\u001b[0m\u001b[1;33m[\u001b[0m\u001b[0mi\u001b[0m\u001b[1;33m]\u001b[0m\u001b[1;33m]\u001b[0m\u001b[1;33m\u001b[0m\u001b[0m\n\u001b[0m\u001b[0;32m   1388\u001b[0m         \u001b[1;32mfor\u001b[0m \u001b[0mv\u001b[0m \u001b[1;32min\u001b[0m \u001b[1;33m(\u001b[0m\u001b[0mp\u001b[0m\u001b[1;33m[\u001b[0m\u001b[0mi\u001b[0m\u001b[1;33m]\u001b[0m\u001b[1;33m,\u001b[0m \u001b[0mr\u001b[0m\u001b[1;33m[\u001b[0m\u001b[0mi\u001b[0m\u001b[1;33m]\u001b[0m\u001b[1;33m,\u001b[0m \u001b[0mf1\u001b[0m\u001b[1;33m[\u001b[0m\u001b[0mi\u001b[0m\u001b[1;33m]\u001b[0m\u001b[1;33m)\u001b[0m\u001b[1;33m:\u001b[0m\u001b[1;33m\u001b[0m\u001b[0m\n\u001b[0;32m   1389\u001b[0m             \u001b[0mvalues\u001b[0m \u001b[1;33m+=\u001b[0m \u001b[1;33m[\u001b[0m\u001b[1;34m\"{0:0.{1}f}\"\u001b[0m\u001b[1;33m.\u001b[0m\u001b[0mformat\u001b[0m\u001b[1;33m(\u001b[0m\u001b[0mv\u001b[0m\u001b[1;33m,\u001b[0m \u001b[0mdigits\u001b[0m\u001b[1;33m)\u001b[0m\u001b[1;33m]\u001b[0m\u001b[1;33m\u001b[0m\u001b[0m\n",
      "\u001b[1;31mIndexError\u001b[0m: list index out of range"
     ]
    }
   ],
   "source": [
    "# X_train = X_data\n",
    "# X_test = X_val\n",
    "# y_train = y_data\n",
    "# y_test = y_val\n",
    "\n",
    "for clf, name in clf_list:\n",
    "        pipeline = Pipeline([\n",
    "            ('vect', CountVectorizer()),\n",
    "            ('tfidf', TfidfTransformer(use_idf=True)),\n",
    "            ('clf', clf),\n",
    "        ])\n",
    "#         grid_search = GridSearchCV(pipeline, parameters, n_jobs=-1, verbose=1)\n",
    "#         benchmark_results = benchmark(grid_search, X_train, X_test, y_train, y_test, name)\n",
    "        benchmark_results = benchmark(pipeline, X_train, X_test, y_train, y_test, name)\n",
    "#         results[name].append(benchmark_results)"
   ]
  },
  {
   "cell_type": "code",
   "execution_count": null,
   "metadata": {
    "collapsed": false
   },
   "outputs": [],
   "source": [
    "# split a training set and a test set\n",
    "y_train = y_data\n",
    "y_test = y_val\n",
    "\n",
    "vectorizer = TfidfVectorizer(sublinear_tf=True, max_df=0.5)\n",
    "\n",
    "print(\"Extracting features from the training data using a sparse vectorizer\")\n",
    "X_train = vectorizer.fit_transform(X_data)\n",
    "print(\"n_samples: %d, n_features: %d\" % X_train.shape)\n",
    "print()\n",
    "\n",
    "print(\"Extracting features from the test data using the same vectorizer\")\n",
    "X_test = vectorizer.transform(X_data)\n",
    "print(\"n_samples: %d, n_features: %d\" % X_test.shape)\n",
    "print()"
   ]
  },
  {
   "cell_type": "code",
   "execution_count": null,
   "metadata": {
    "collapsed": false
   },
   "outputs": [],
   "source": [
    "# mapping from integer feature name to original token string\n",
    "feature_names = vectorizer.get_feature_names()\n",
    "opts_select_chi2 = 50\n",
    "\n",
    "print(\"Extracting %d best features by a chi-squared test\" %\n",
    "      opts_select_chi2)\n",
    "ch2 = SelectKBest(chi2, k=opts_select_chi2)\n",
    "X_train = ch2.fit_transform(X_train, y_train)\n",
    "X_test = ch2.transform(X_test)\n",
    "if feature_names:\n",
    "    # keep selected feature names\n",
    "    feature_names = [feature_names[i] for i\n",
    "                     in ch2.get_support(indices=True)]\n",
    "print()\n",
    "\n",
    "feature_names = np.asarray(feature_names)"
   ]
  },
  {
   "cell_type": "code",
   "execution_count": null,
   "metadata": {
    "collapsed": false
   },
   "outputs": [],
   "source": [
    "feature_names"
   ]
  },
  {
   "cell_type": "code",
   "execution_count": null,
   "metadata": {
    "collapsed": false
   },
   "outputs": [],
   "source": [
    "count_d = {\n",
    "    '1987-1997': {},\n",
    "    '1998-2001': {},\n",
    "    '2002-2005': {},\n",
    "}\n",
    "for y in ['1987-1997', '1998-2001', '2002-2005']:\n",
    "    for f in feature_names:\n",
    "        x = f[2:].replace('_', ' ')\n",
    "        if f.startswith('i'):\n",
    "            count_d[y][f] = 0\n",
    "            for r in recipes_df[(int(y.split('-')[0]) <= recipes_df['year']) & (recipes_df['year'] <= int(y.split('-')[1]))].iterrows():\n",
    "                count_d[y][f] += r[1]['ingredients'].count(x)\n",
    "        elif f.startswith('t'):\n",
    "            count_d[y][f] = 0\n",
    "            for r in recipes_df[(int(y.split('-')[0]) <= recipes_df['year']) & (recipes_df['year'] <= int(y.split('-')[1]))].iterrows():\n",
    "                count_d[y][f] += r[1]['techniques'].count(x)"
   ]
  },
  {
   "cell_type": "code",
   "execution_count": null,
   "metadata": {
    "collapsed": false
   },
   "outputs": [],
   "source": [
    "count_d"
   ]
  },
  {
   "cell_type": "code",
   "execution_count": null,
   "metadata": {
    "collapsed": false
   },
   "outputs": [],
   "source": [
    "s1 = pd.Series(count_d['1987-1997'])\n",
    "s2 = pd.Series(count_d['1998-2001'])\n",
    "s3 = pd.Series(count_d['2002-2005'])"
   ]
  },
  {
   "cell_type": "code",
   "execution_count": null,
   "metadata": {
    "collapsed": true
   },
   "outputs": [],
   "source": [
    "df = pd.DataFrame({\n",
    "        '1987-1997': s1,\n",
    "        '1998-2001': s2,\n",
    "        '2002-2005': s3,\n",
    "    })"
   ]
  },
  {
   "cell_type": "code",
   "execution_count": null,
   "metadata": {
    "collapsed": false
   },
   "outputs": [],
   "source": [
    "df.plot(kind='bar')"
   ]
  },
  {
   "cell_type": "code",
   "execution_count": null,
   "metadata": {
    "collapsed": false
   },
   "outputs": [],
   "source": [
    "recipes_df[(1987 <= recipes_df['year']) & (recipes_df['year'] <= 1997)]"
   ]
  },
  {
   "cell_type": "code",
   "execution_count": null,
   "metadata": {
    "collapsed": true
   },
   "outputs": [],
   "source": [
    "ig = nx.read_gexf('data/spanish_ingredients_lexicon_6.gexf')\n",
    "tg = nx.read_gexf('data/spanish_techniques_lexicon_6.gexf')"
   ]
  },
  {
   "cell_type": "code",
   "execution_count": null,
   "metadata": {
    "collapsed": true
   },
   "outputs": [],
   "source": [
    "ingrs = ig.nodes(data=True)\n",
    "techs = tg.nodes(data=True)"
   ]
  },
  {
   "cell_type": "code",
   "execution_count": null,
   "metadata": {
    "collapsed": false
   },
   "outputs": [],
   "source": [
    "ingrs[:2]"
   ]
  },
  {
   "cell_type": "code",
   "execution_count": null,
   "metadata": {
    "collapsed": false
   },
   "outputs": [],
   "source": [
    "top_ingrs = sorted(ingrs, key=lambda x: x[1]['count'], reverse=True)\n",
    "top_techs = sorted(techs, key=lambda x: x[1]['count'], reverse=True)"
   ]
  },
  {
   "cell_type": "code",
   "execution_count": null,
   "metadata": {
    "collapsed": false
   },
   "outputs": [],
   "source": [
    "top_ingrs[:20]"
   ]
  },
  {
   "cell_type": "code",
   "execution_count": null,
   "metadata": {
    "collapsed": false
   },
   "outputs": [],
   "source": [
    "i_aux = top_ingrs[:21]\n",
    "i_aux.remove(('hojas de gelatina', {'count': 164, 'label': 'hojas de gelatina'}))\n",
    "i_aux"
   ]
  },
  {
   "cell_type": "code",
   "execution_count": null,
   "metadata": {
    "collapsed": false
   },
   "outputs": [],
   "source": [
    "top_techs[:10]"
   ]
  },
  {
   "cell_type": "code",
   "execution_count": null,
   "metadata": {
    "collapsed": false
   },
   "outputs": [],
   "source": [
    "t_aux = top_techs[:14]\n",
    "t_aux.remove(('agua', {'count': 891, 'label': 'agua'}))\n",
    "t_aux.remove(('sal', {'count': 648, 'label': 'sal'}))\n",
    "t_aux.remove(('min', {'count': 553, 'label': 'min'}))\n",
    "t_aux.remove(('hirviendo', {'count': 296, 'label': 'hirviendo'}))\n",
    "t_aux"
   ]
  },
  {
   "cell_type": "code",
   "execution_count": null,
   "metadata": {
    "collapsed": false
   },
   "outputs": [],
   "source": [
    "s1"
   ]
  },
  {
   "cell_type": "code",
   "execution_count": null,
   "metadata": {
    "collapsed": true
   },
   "outputs": [],
   "source": [
    "i_d = dict((x[0], x[1]['count']) for x in i_aux)\n",
    "t_d = dict((x[0], x[1]['count']) for x in t_aux)"
   ]
  },
  {
   "cell_type": "code",
   "execution_count": null,
   "metadata": {
    "collapsed": true
   },
   "outputs": [],
   "source": [
    "s1 = pd.Series(i_d)\n",
    "s2 = pd.Series(t_d)"
   ]
  },
  {
   "cell_type": "code",
   "execution_count": null,
   "metadata": {
    "collapsed": false
   },
   "outputs": [],
   "source": [
    "matplotlib.rcParams['figure.figsize'] = (8, 5)\n",
    "s1.plot(kind='bar')"
   ]
  },
  {
   "cell_type": "code",
   "execution_count": null,
   "metadata": {
    "collapsed": false
   },
   "outputs": [],
   "source": [
    "s2.plot(kind='bar')\n",
    "matplotlib.rcParams['figure.figsize'] = (12, 7)"
   ]
  },
  {
   "cell_type": "code",
   "execution_count": null,
   "metadata": {
    "collapsed": true
   },
   "outputs": [],
   "source": []
  }
 ],
 "metadata": {
  "kernelspec": {
   "display_name": "Python 3",
   "language": "python",
   "name": "python3"
  },
  "language_info": {
   "codemirror_mode": {
    "name": "ipython",
    "version": 3
   },
   "file_extension": ".py",
   "mimetype": "text/x-python",
   "name": "python",
   "nbconvert_exporter": "python",
   "pygments_lexer": "ipython3",
   "version": "3.4.3"
  }
 },
 "nbformat": 4,
 "nbformat_minor": 0
}
