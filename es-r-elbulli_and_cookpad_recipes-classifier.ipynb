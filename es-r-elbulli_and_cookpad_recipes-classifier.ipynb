{
 "cells": [
  {
   "cell_type": "code",
   "execution_count": 1,
   "metadata": {
    "collapsed": false
   },
   "outputs": [
    {
     "name": "stderr",
     "output_type": "stream",
     "text": [
      "/home/antonio/virtualenvs/elbulli/lib/python3.4/site-packages/IPython/html.py:14: ShimWarning: The `IPython.html` package has been deprecated. You should import from `notebook` instead. `IPython.html.widgets` has moved to `ipywidgets`.\n",
      "  \"`IPython.html.widgets` has moved to `ipywidgets`.\", ShimWarning)\n"
     ]
    }
   ],
   "source": [
    "import json\n",
    "from time import time\n",
    "\n",
    "import matplotlib\n",
    "import matplotlib.pyplot as plt\n",
    "import networkx as nx\n",
    "import nltk\n",
    "import numpy as np\n",
    "import pandas as pd\n",
    "import seaborn as sns\n",
    "from sklearn import metrics\n",
    "from sklearn.cross_validation import cross_val_score, StratifiedKFold, train_test_split\n",
    "from sklearn.ensemble import RandomForestClassifier, RandomForestRegressor\n",
    "from sklearn.grid_search import GridSearchCV\n",
    "from sklearn.feature_extraction.text import CountVectorizer, TfidfTransformer, TfidfVectorizer\n",
    "from sklearn.feature_selection import SelectKBest, chi2, VarianceThreshold\n",
    "from sklearn.linear_model import PassiveAggressiveClassifier, Perceptron, RidgeClassifier, SGDClassifier, SGDRegressor\n",
    "from sklearn.metrics import precision_recall_fscore_support\n",
    "from sklearn.naive_bayes import BernoulliNB, GaussianNB, MultinomialNB\n",
    "from sklearn.neighbors import KNeighborsClassifier, NearestCentroid\n",
    "from sklearn.pipeline import Pipeline\n",
    "from sklearn.svm import LinearSVC\n",
    "from sklearn.utils.extmath import density"
   ]
  },
  {
   "cell_type": "code",
   "execution_count": 3,
   "metadata": {
    "collapsed": false
   },
   "outputs": [
    {
     "data": {
      "text/plain": [
       "['city=Dubai', 'city=London', 'city=San Fransisco', 'temperature']"
      ]
     },
     "execution_count": 3,
     "metadata": {},
     "output_type": "execute_result"
    }
   ],
   "source": [
    ">>> measurements = [\n",
    "...     {'city': 'Dubai', 'temperature': 33.},\n",
    "...     {'city': 'London', 'temperature': 12.},\n",
    "...     {'city': 'San Fransisco', 'temperature': 18.},\n",
    "... ]\n",
    "\n",
    ">>> from sklearn.feature_extraction import DictVectorizer\n",
    ">>> vec = DictVectorizer()\n",
    "\n",
    ">>> vec.fit_transform(measurements).toarray()\n",
    "# array([[  1.,   0.,   0.,  33.],\n",
    "#        [  0.,   1.,   0.,  12.],\n",
    "#        [  0.,   0.,   1.,  18.]])\n",
    "\n",
    ">>> vec.get_feature_names()\n",
    "# ['city=Dubai', 'city=London', 'city=San Fransisco', 'temperature']"
   ]
  },
  {
   "cell_type": "code",
   "execution_count": 6,
   "metadata": {
    "collapsed": false
   },
   "outputs": [
    {
     "ename": "ValueError",
     "evalue": "could not convert string to float: 't1'",
     "output_type": "error",
     "traceback": [
      "\u001b[1;31m---------------------------------------------------------------------------\u001b[0m",
      "\u001b[1;31mValueError\u001b[0m                                Traceback (most recent call last)",
      "\u001b[1;32m<ipython-input-6-600da3574515>\u001b[0m in \u001b[0;36m<module>\u001b[1;34m()\u001b[0m\n\u001b[0;32m      4\u001b[0m     \u001b[1;33m{\u001b[0m\u001b[1;34m'ingrs'\u001b[0m\u001b[1;33m:\u001b[0m \u001b[1;33m[\u001b[0m\u001b[1;34m'i4'\u001b[0m\u001b[1;33m,\u001b[0m\u001b[1;34m'i5'\u001b[0m\u001b[1;33m,\u001b[0m\u001b[1;34m'i6'\u001b[0m\u001b[1;33m]\u001b[0m\u001b[1;33m,\u001b[0m \u001b[1;34m'techs'\u001b[0m\u001b[1;33m:\u001b[0m \u001b[1;33m[\u001b[0m\u001b[1;34m't1'\u001b[0m\u001b[1;33m,\u001b[0m \u001b[1;34m't4'\u001b[0m\u001b[1;33m]\u001b[0m\u001b[1;33m}\u001b[0m\u001b[1;33m,\u001b[0m\u001b[1;33m\u001b[0m\u001b[0m\n\u001b[0;32m      5\u001b[0m ]\n\u001b[1;32m----> 6\u001b[1;33m \u001b[0mvec\u001b[0m\u001b[1;33m.\u001b[0m\u001b[0mfit_transform\u001b[0m\u001b[1;33m(\u001b[0m\u001b[0mmeasurements\u001b[0m\u001b[1;33m)\u001b[0m\u001b[1;33m.\u001b[0m\u001b[0mtoarray\u001b[0m\u001b[1;33m(\u001b[0m\u001b[1;33m)\u001b[0m\u001b[1;33m\u001b[0m\u001b[0m\n\u001b[0m",
      "\u001b[1;32m/home/antonio/virtualenvs/elbulli/lib/python3.4/site-packages/sklearn/feature_extraction/dict_vectorizer.py\u001b[0m in \u001b[0;36mfit_transform\u001b[1;34m(self, X, y)\u001b[0m\n\u001b[0;32m    224\u001b[0m             \u001b[0mFeature\u001b[0m \u001b[0mvectors\u001b[0m\u001b[1;33m;\u001b[0m \u001b[0malways\u001b[0m \u001b[1;36m2\u001b[0m\u001b[1;33m-\u001b[0m\u001b[0md\u001b[0m\u001b[1;33m.\u001b[0m\u001b[1;33m\u001b[0m\u001b[0m\n\u001b[0;32m    225\u001b[0m         \"\"\"\n\u001b[1;32m--> 226\u001b[1;33m         \u001b[1;32mreturn\u001b[0m \u001b[0mself\u001b[0m\u001b[1;33m.\u001b[0m\u001b[0m_transform\u001b[0m\u001b[1;33m(\u001b[0m\u001b[0mX\u001b[0m\u001b[1;33m,\u001b[0m \u001b[0mfitting\u001b[0m\u001b[1;33m=\u001b[0m\u001b[1;32mTrue\u001b[0m\u001b[1;33m)\u001b[0m\u001b[1;33m\u001b[0m\u001b[0m\n\u001b[0m\u001b[0;32m    227\u001b[0m \u001b[1;33m\u001b[0m\u001b[0m\n\u001b[0;32m    228\u001b[0m     \u001b[1;32mdef\u001b[0m \u001b[0minverse_transform\u001b[0m\u001b[1;33m(\u001b[0m\u001b[0mself\u001b[0m\u001b[1;33m,\u001b[0m \u001b[0mX\u001b[0m\u001b[1;33m,\u001b[0m \u001b[0mdict_type\u001b[0m\u001b[1;33m=\u001b[0m\u001b[0mdict\u001b[0m\u001b[1;33m)\u001b[0m\u001b[1;33m:\u001b[0m\u001b[1;33m\u001b[0m\u001b[0m\n",
      "\u001b[1;32m/home/antonio/virtualenvs/elbulli/lib/python3.4/site-packages/sklearn/feature_extraction/dict_vectorizer.py\u001b[0m in \u001b[0;36m_transform\u001b[1;34m(self, X, fitting)\u001b[0m\n\u001b[0;32m    172\u001b[0m                         \u001b[0mvocab\u001b[0m\u001b[1;33m[\u001b[0m\u001b[0mf\u001b[0m\u001b[1;33m]\u001b[0m \u001b[1;33m=\u001b[0m \u001b[0mlen\u001b[0m\u001b[1;33m(\u001b[0m\u001b[0mvocab\u001b[0m\u001b[1;33m)\u001b[0m\u001b[1;33m\u001b[0m\u001b[0m\n\u001b[0;32m    173\u001b[0m                         \u001b[0mindices\u001b[0m\u001b[1;33m.\u001b[0m\u001b[0mappend\u001b[0m\u001b[1;33m(\u001b[0m\u001b[0mvocab\u001b[0m\u001b[1;33m[\u001b[0m\u001b[0mf\u001b[0m\u001b[1;33m]\u001b[0m\u001b[1;33m)\u001b[0m\u001b[1;33m\u001b[0m\u001b[0m\n\u001b[1;32m--> 174\u001b[1;33m                         \u001b[0mvalues\u001b[0m\u001b[1;33m.\u001b[0m\u001b[0mappend\u001b[0m\u001b[1;33m(\u001b[0m\u001b[0mdtype\u001b[0m\u001b[1;33m(\u001b[0m\u001b[0mv\u001b[0m\u001b[1;33m)\u001b[0m\u001b[1;33m)\u001b[0m\u001b[1;33m\u001b[0m\u001b[0m\n\u001b[0m\u001b[0;32m    175\u001b[0m \u001b[1;33m\u001b[0m\u001b[0m\n\u001b[0;32m    176\u001b[0m             \u001b[0mindptr\u001b[0m\u001b[1;33m.\u001b[0m\u001b[0mappend\u001b[0m\u001b[1;33m(\u001b[0m\u001b[0mlen\u001b[0m\u001b[1;33m(\u001b[0m\u001b[0mindices\u001b[0m\u001b[1;33m)\u001b[0m\u001b[1;33m)\u001b[0m\u001b[1;33m\u001b[0m\u001b[0m\n",
      "\u001b[1;31mValueError\u001b[0m: could not convert string to float: 't1'"
     ]
    }
   ],
   "source": [
    "measurements = [\n",
    "    {'ingrs': ['i1','i2'], 'techs': ['t1']},\n",
    "    {'ingrs': ['i1','i3'], 'techs': ['t2', 't3']},\n",
    "    {'ingrs': ['i4','i5','i6'], 'techs': ['t1', 't4']},\n",
    "]\n",
    "vec.fit_transform(measurements).toarray()"
   ]
  },
  {
   "cell_type": "code",
   "execution_count": 127,
   "metadata": {
    "collapsed": false
   },
   "outputs": [],
   "source": [
    "%matplotlib inline\n",
    "matplotlib.rcParams['figure.figsize'] = (12, 7)\n",
    "matplotlib.rcParams.update({'figure.autolayout': True})\n",
    "font = {'size': 12}\n",
    "matplotlib.rc('font', **font)"
   ]
  },
  {
   "cell_type": "code",
   "execution_count": null,
   "metadata": {
    "collapsed": true
   },
   "outputs": [],
   "source": []
  },
  {
   "cell_type": "code",
   "execution_count": null,
   "metadata": {
    "collapsed": true
   },
   "outputs": [],
   "source": []
  },
  {
   "cell_type": "code",
   "execution_count": null,
   "metadata": {
    "collapsed": true
   },
   "outputs": [],
   "source": []
  },
  {
   "cell_type": "code",
   "execution_count": null,
   "metadata": {
    "collapsed": true
   },
   "outputs": [],
   "source": []
  },
  {
   "cell_type": "markdown",
   "metadata": {
    "collapsed": true
   },
   "source": [
    "# Data"
   ]
  },
  {
   "cell_type": "markdown",
   "metadata": {},
   "source": [
    "## Raw ingredients and techniques"
   ]
  },
  {
   "cell_type": "markdown",
   "metadata": {},
   "source": [
    "### elbulli"
   ]
  },
  {
   "cell_type": "code",
   "execution_count": 2,
   "metadata": {
    "collapsed": false
   },
   "outputs": [],
   "source": [
    "elbulli_raw_recipes_df = pd.read_csv('data/recipes_elbulli_raw.csv')"
   ]
  },
  {
   "cell_type": "code",
   "execution_count": 3,
   "metadata": {
    "collapsed": false
   },
   "outputs": [
    {
     "data": {
      "text/plain": [
       "_id             int64\n",
       "title          object\n",
       "year            int64\n",
       "ingredients    object\n",
       "techniques     object\n",
       "dtype: object"
      ]
     },
     "execution_count": 3,
     "metadata": {},
     "output_type": "execute_result"
    }
   ],
   "source": [
    "elbulli_raw_recipes_df.dtypes"
   ]
  },
  {
   "cell_type": "code",
   "execution_count": 4,
   "metadata": {
    "collapsed": false
   },
   "outputs": [
    {
     "data": {
      "text/html": [
       "<div>\n",
       "<table border=\"1\" class=\"dataframe\">\n",
       "  <thead>\n",
       "    <tr style=\"text-align: right;\">\n",
       "      <th></th>\n",
       "      <th>_id</th>\n",
       "      <th>title</th>\n",
       "      <th>year</th>\n",
       "      <th>ingredients</th>\n",
       "      <th>techniques</th>\n",
       "    </tr>\n",
       "  </thead>\n",
       "  <tbody>\n",
       "    <tr>\n",
       "      <th>0</th>\n",
       "      <td>1</td>\n",
       "      <td>terrina de melón con gelée de oporto</td>\n",
       "      <td>1987</td>\n",
       "      <td>[\"hojas de gelatina\",\"pimienta blanca\",\"oporto...</td>\n",
       "      <td>[\"agua\"]</td>\n",
       "    </tr>\n",
       "    <tr>\n",
       "      <th>1</th>\n",
       "      <td>10</td>\n",
       "      <td>salmonetes Gaudí</td>\n",
       "      <td>1987</td>\n",
       "      <td>[\"vinagre balsámico\",\"pimienta negra\",\"orégano...</td>\n",
       "      <td>[\"en agua\",\"puré\",\"cocción\",\"asar\",\"horno\",\"as...</td>\n",
       "    </tr>\n",
       "    <tr>\n",
       "      <th>2</th>\n",
       "      <td>100</td>\n",
       "      <td>oursins</td>\n",
       "      <td>1990</td>\n",
       "      <td>[\"avellanas tostadas\",\"chocolate\",\"claras de h...</td>\n",
       "      <td>[\"horno\",\"secar\",\"al horno\"]</td>\n",
       "    </tr>\n",
       "    <tr>\n",
       "      <th>3</th>\n",
       "      <td>1000</td>\n",
       "      <td>ravioli sférico de té con cubo helado de limón</td>\n",
       "      <td>2004</td>\n",
       "      <td>[\"limón\",\"agua\",\"alginato sódico\",\"infusión de...</td>\n",
       "      <td>[\"fría\",\"agua\"]</td>\n",
       "    </tr>\n",
       "    <tr>\n",
       "      <th>4</th>\n",
       "      <td>1001</td>\n",
       "      <td>ceps en ámbar de su caldo</td>\n",
       "      <td>2004</td>\n",
       "      <td>[\"pimienta negra\",\"láminas de ceps\",\"ceps\",\"ca...</td>\n",
       "      <td>[\"en agua\",\"hervido\",\"a fuego lento\",\"cocer\",\"...</td>\n",
       "    </tr>\n",
       "  </tbody>\n",
       "</table>\n",
       "</div>"
      ],
      "text/plain": [
       "    _id                                           title  year  \\\n",
       "0     1            terrina de melón con gelée de oporto  1987   \n",
       "1    10                                salmonetes Gaudí  1987   \n",
       "2   100                                         oursins  1990   \n",
       "3  1000  ravioli sférico de té con cubo helado de limón  2004   \n",
       "4  1001                       ceps en ámbar de su caldo  2004   \n",
       "\n",
       "                                         ingredients  \\\n",
       "0  [\"hojas de gelatina\",\"pimienta blanca\",\"oporto...   \n",
       "1  [\"vinagre balsámico\",\"pimienta negra\",\"orégano...   \n",
       "2  [\"avellanas tostadas\",\"chocolate\",\"claras de h...   \n",
       "3  [\"limón\",\"agua\",\"alginato sódico\",\"infusión de...   \n",
       "4  [\"pimienta negra\",\"láminas de ceps\",\"ceps\",\"ca...   \n",
       "\n",
       "                                          techniques  \n",
       "0                                           [\"agua\"]  \n",
       "1  [\"en agua\",\"puré\",\"cocción\",\"asar\",\"horno\",\"as...  \n",
       "2                       [\"horno\",\"secar\",\"al horno\"]  \n",
       "3                                    [\"fría\",\"agua\"]  \n",
       "4  [\"en agua\",\"hervido\",\"a fuego lento\",\"cocer\",\"...  "
      ]
     },
     "execution_count": 4,
     "metadata": {},
     "output_type": "execute_result"
    }
   ],
   "source": [
    "elbulli_raw_recipes_df.head()"
   ]
  },
  {
   "cell_type": "code",
   "execution_count": 6,
   "metadata": {
    "collapsed": false
   },
   "outputs": [],
   "source": [
    "elbulli_raw_recipes_df['ingredients'] = elbulli_raw_recipes_df.apply(lambda x: json.loads(x['ingredients']), axis=1)\n",
    "elbulli_raw_recipes_df['techniques'] = elbulli_raw_recipes_df.apply(lambda x: json.loads(x['techniques']), axis=1)"
   ]
  },
  {
   "cell_type": "code",
   "execution_count": 7,
   "metadata": {
    "collapsed": false
   },
   "outputs": [
    {
     "data": {
      "text/html": [
       "<div>\n",
       "<table border=\"1\" class=\"dataframe\">\n",
       "  <thead>\n",
       "    <tr style=\"text-align: right;\">\n",
       "      <th></th>\n",
       "      <th>_id</th>\n",
       "      <th>title</th>\n",
       "      <th>year</th>\n",
       "      <th>ingredients</th>\n",
       "      <th>techniques</th>\n",
       "      <th>creativity</th>\n",
       "    </tr>\n",
       "  </thead>\n",
       "  <tbody>\n",
       "    <tr>\n",
       "      <th>0</th>\n",
       "      <td>1</td>\n",
       "      <td>terrina de melón con gelée de oporto</td>\n",
       "      <td>1987</td>\n",
       "      <td>[aceite de oliva, agua, gelatina de oporto, ho...</td>\n",
       "      <td>[agua]</td>\n",
       "      <td>10</td>\n",
       "    </tr>\n",
       "    <tr>\n",
       "      <th>1</th>\n",
       "      <td>10</td>\n",
       "      <td>salmonetes Gaudí</td>\n",
       "      <td>1987</td>\n",
       "      <td>[aceite de oliva, anchoa en aceite, calabacín,...</td>\n",
       "      <td>[agua, brunoise, cocción, hervir, horno, marca...</td>\n",
       "      <td>10</td>\n",
       "    </tr>\n",
       "    <tr>\n",
       "      <th>2</th>\n",
       "      <td>100</td>\n",
       "      <td>oursins</td>\n",
       "      <td>1990</td>\n",
       "      <td>[avellanas tostadas, azúcar, cacao en polvo, c...</td>\n",
       "      <td>[horno, secar]</td>\n",
       "      <td>10</td>\n",
       "    </tr>\n",
       "    <tr>\n",
       "      <th>3</th>\n",
       "      <td>1000</td>\n",
       "      <td>ravioli sférico de té con cubo helado de limón</td>\n",
       "      <td>2004</td>\n",
       "      <td>[agua, alginato sódico, azúcar, infusión, limó...</td>\n",
       "      <td>[agua, min]</td>\n",
       "      <td>30</td>\n",
       "    </tr>\n",
       "    <tr>\n",
       "      <th>4</th>\n",
       "      <td>1001</td>\n",
       "      <td>ceps en ámbar de su caldo</td>\n",
       "      <td>2004</td>\n",
       "      <td>[aceite de girasol, aceite de oliva, agua, ajo...</td>\n",
       "      <td>[agua, cazuela, confitar, conservar, escaldar,...</td>\n",
       "      <td>30</td>\n",
       "    </tr>\n",
       "  </tbody>\n",
       "</table>\n",
       "</div>"
      ],
      "text/plain": [
       "    _id                                           title  year  \\\n",
       "0     1            terrina de melón con gelée de oporto  1987   \n",
       "1    10                                salmonetes Gaudí  1987   \n",
       "2   100                                         oursins  1990   \n",
       "3  1000  ravioli sférico de té con cubo helado de limón  2004   \n",
       "4  1001                       ceps en ámbar de su caldo  2004   \n",
       "\n",
       "                                         ingredients  \\\n",
       "0  [aceite de oliva, agua, gelatina de oporto, ho...   \n",
       "1  [aceite de oliva, anchoa en aceite, calabacín,...   \n",
       "2  [avellanas tostadas, azúcar, cacao en polvo, c...   \n",
       "3  [agua, alginato sódico, azúcar, infusión, limó...   \n",
       "4  [aceite de girasol, aceite de oliva, agua, ajo...   \n",
       "\n",
       "                                          techniques  creativity  \n",
       "0                                             [agua]          10  \n",
       "1  [agua, brunoise, cocción, hervir, horno, marca...          10  \n",
       "2                                     [horno, secar]          10  \n",
       "3                                        [agua, min]          30  \n",
       "4  [agua, cazuela, confitar, conservar, escaldar,...          30  "
      ]
     },
     "execution_count": 7,
     "metadata": {},
     "output_type": "execute_result"
    }
   ],
   "source": [
    "recipes_df.head()"
   ]
  },
  {
   "cell_type": "code",
   "execution_count": 4,
   "metadata": {
    "collapsed": true
   },
   "outputs": [],
   "source": [
    "elbulli_raw_recipes_df['creativity'] = elbulli_raw_recipes_df.apply(\n",
    "    lambda x: 10 if 1987 <= x['year'] <= 1997 else \\\n",
    "              20 if 1998 <= x['year'] <= 2001 else \\\n",
    "              30 if 2002 <= x['year'] <= 2005 else \\\n",
    "              'UNKOWN', axis=1)"
   ]
  },
  {
   "cell_type": "code",
   "execution_count": 5,
   "metadata": {
    "collapsed": false,
    "scrolled": true
   },
   "outputs": [
    {
     "data": {
      "text/html": [
       "<div>\n",
       "<table border=\"1\" class=\"dataframe\">\n",
       "  <thead>\n",
       "    <tr style=\"text-align: right;\">\n",
       "      <th></th>\n",
       "      <th>_id</th>\n",
       "      <th>title</th>\n",
       "      <th>year</th>\n",
       "      <th>ingredients</th>\n",
       "      <th>techniques</th>\n",
       "      <th>creativity</th>\n",
       "    </tr>\n",
       "  </thead>\n",
       "  <tbody>\n",
       "    <tr>\n",
       "      <th>0</th>\n",
       "      <td>1</td>\n",
       "      <td>terrina de melón con gelée de oporto</td>\n",
       "      <td>1987</td>\n",
       "      <td>[\"aceite de oliva\",\"agua\",\"gelatina de oporto\"...</td>\n",
       "      <td>[\"agua\"]</td>\n",
       "      <td>10</td>\n",
       "    </tr>\n",
       "    <tr>\n",
       "      <th>1</th>\n",
       "      <td>10</td>\n",
       "      <td>salmonetes Gaudí</td>\n",
       "      <td>1987</td>\n",
       "      <td>[\"aceite de oliva\",\"anchoa en aceite\",\"calabac...</td>\n",
       "      <td>[\"agua\",\"brunoise\",\"cocción\",\"hervir\",\"horno\",...</td>\n",
       "      <td>10</td>\n",
       "    </tr>\n",
       "    <tr>\n",
       "      <th>2</th>\n",
       "      <td>100</td>\n",
       "      <td>oursins</td>\n",
       "      <td>1990</td>\n",
       "      <td>[\"avellanas tostadas\",\"azúcar\",\"cacao en polvo...</td>\n",
       "      <td>[\"horno\",\"secar\"]</td>\n",
       "      <td>10</td>\n",
       "    </tr>\n",
       "    <tr>\n",
       "      <th>3</th>\n",
       "      <td>1000</td>\n",
       "      <td>ravioli sférico de té con cubo helado de limón</td>\n",
       "      <td>2004</td>\n",
       "      <td>[\"agua\",\"alginato sódico\",\"azúcar\",\"infusión\",...</td>\n",
       "      <td>[\"agua\",\"min\"]</td>\n",
       "      <td>30</td>\n",
       "    </tr>\n",
       "    <tr>\n",
       "      <th>4</th>\n",
       "      <td>1001</td>\n",
       "      <td>ceps en ámbar de su caldo</td>\n",
       "      <td>2004</td>\n",
       "      <td>[\"aceite de girasol\",\"aceite de oliva\",\"agua\",...</td>\n",
       "      <td>[\"agua\",\"cazuela\",\"confitar\",\"conservar\",\"esca...</td>\n",
       "      <td>30</td>\n",
       "    </tr>\n",
       "  </tbody>\n",
       "</table>\n",
       "</div>"
      ],
      "text/plain": [
       "    _id                                           title  year  \\\n",
       "0     1            terrina de melón con gelée de oporto  1987   \n",
       "1    10                                salmonetes Gaudí  1987   \n",
       "2   100                                         oursins  1990   \n",
       "3  1000  ravioli sférico de té con cubo helado de limón  2004   \n",
       "4  1001                       ceps en ámbar de su caldo  2004   \n",
       "\n",
       "                                         ingredients  \\\n",
       "0  [\"aceite de oliva\",\"agua\",\"gelatina de oporto\"...   \n",
       "1  [\"aceite de oliva\",\"anchoa en aceite\",\"calabac...   \n",
       "2  [\"avellanas tostadas\",\"azúcar\",\"cacao en polvo...   \n",
       "3  [\"agua\",\"alginato sódico\",\"azúcar\",\"infusión\",...   \n",
       "4  [\"aceite de girasol\",\"aceite de oliva\",\"agua\",...   \n",
       "\n",
       "                                          techniques  creativity  \n",
       "0                                           [\"agua\"]          10  \n",
       "1  [\"agua\",\"brunoise\",\"cocción\",\"hervir\",\"horno\",...          10  \n",
       "2                                  [\"horno\",\"secar\"]          10  \n",
       "3                                     [\"agua\",\"min\"]          30  \n",
       "4  [\"agua\",\"cazuela\",\"confitar\",\"conservar\",\"esca...          30  "
      ]
     },
     "execution_count": 5,
     "metadata": {},
     "output_type": "execute_result"
    }
   ],
   "source": [
    "elbulli_raw_recipes_df.head()"
   ]
  },
  {
   "cell_type": "markdown",
   "metadata": {},
   "source": [
    "### cookpad"
   ]
  },
  {
   "cell_type": "code",
   "execution_count": 20,
   "metadata": {
    "collapsed": false
   },
   "outputs": [],
   "source": [
    "cookpad_raw_recipes_df = pd.read_csv('data/recipes_cookpad_raw.csv')"
   ]
  },
  {
   "cell_type": "code",
   "execution_count": 21,
   "metadata": {
    "collapsed": false
   },
   "outputs": [
    {
     "data": {
      "text/plain": [
       "_id             int64\n",
       "title          object\n",
       "cuisine        object\n",
       "year            int64\n",
       "ingredients    object\n",
       "techniques     object\n",
       "dtype: object"
      ]
     },
     "execution_count": 21,
     "metadata": {},
     "output_type": "execute_result"
    }
   ],
   "source": [
    "cookpad_raw_recipes_df.dtypes"
   ]
  },
  {
   "cell_type": "code",
   "execution_count": 22,
   "metadata": {
    "collapsed": false
   },
   "outputs": [
    {
     "data": {
      "text/html": [
       "<div>\n",
       "<table border=\"1\" class=\"dataframe\">\n",
       "  <thead>\n",
       "    <tr style=\"text-align: right;\">\n",
       "      <th></th>\n",
       "      <th>_id</th>\n",
       "      <th>title</th>\n",
       "      <th>cuisine</th>\n",
       "      <th>year</th>\n",
       "      <th>ingredients</th>\n",
       "      <th>techniques</th>\n",
       "    </tr>\n",
       "  </thead>\n",
       "  <tbody>\n",
       "    <tr>\n",
       "      <th>0</th>\n",
       "      <td>100002</td>\n",
       "      <td>Boquerones en Vinagre al estilo andaluz</td>\n",
       "      <td>España</td>\n",
       "      <td>2009</td>\n",
       "      <td>[\"ajo\",\"perejil\",\"limón\",\"boquerones\",\"vinagre...</td>\n",
       "      <td>[\"macerar\",\"agua\"]</td>\n",
       "    </tr>\n",
       "    <tr>\n",
       "      <th>1</th>\n",
       "      <td>100005</td>\n",
       "      <td>Croquetas marineras</td>\n",
       "      <td>España</td>\n",
       "      <td>2009</td>\n",
       "      <td>[\"oliva\",\"harina\",\"pimienta\",\"huevos\",\"huevo\",...</td>\n",
       "      <td>[\"agua\",\"rebozar\",\"en agua\"]</td>\n",
       "    </tr>\n",
       "    <tr>\n",
       "      <th>2</th>\n",
       "      <td>100007</td>\n",
       "      <td>Bolitas árabes con ensalada</td>\n",
       "      <td>Marruecos</td>\n",
       "      <td>2009</td>\n",
       "      <td>[\"garbanzos\",\"ajo\",\"sal\",\"perejil\",\"pimienta\",...</td>\n",
       "      <td>[\"freír\",\"remojar\",\"sartén\"]</td>\n",
       "    </tr>\n",
       "    <tr>\n",
       "      <th>3</th>\n",
       "      <td>100018</td>\n",
       "      <td>Arroz con leche de mi cosecha</td>\n",
       "      <td>España</td>\n",
       "      <td>2009</td>\n",
       "      <td>[\"canela\",\"azúcar\",\"limón\",\"leche\",\"arroz\",\"sa...</td>\n",
       "      <td>[\"hervir\",\"cocer\",\"agua\",\"a fuego lento\",\"fueg...</td>\n",
       "    </tr>\n",
       "    <tr>\n",
       "      <th>4</th>\n",
       "      <td>100022</td>\n",
       "      <td>Ensalada de Arroz con Jamón</td>\n",
       "      <td>España</td>\n",
       "      <td>2009</td>\n",
       "      <td>[\"nuez\",\"lechuga\",\"jamón serrano\",\"perejil\",\"l...</td>\n",
       "      <td>[\"cocidos\",\"agua\",\"fría\",\"cocido\",\"sal\"]</td>\n",
       "    </tr>\n",
       "  </tbody>\n",
       "</table>\n",
       "</div>"
      ],
      "text/plain": [
       "      _id                                    title    cuisine  year  \\\n",
       "0  100002  Boquerones en Vinagre al estilo andaluz     España  2009   \n",
       "1  100005                      Croquetas marineras     España  2009   \n",
       "2  100007              Bolitas árabes con ensalada  Marruecos  2009   \n",
       "3  100018            Arroz con leche de mi cosecha     España  2009   \n",
       "4  100022              Ensalada de Arroz con Jamón     España  2009   \n",
       "\n",
       "                                         ingredients  \\\n",
       "0  [\"ajo\",\"perejil\",\"limón\",\"boquerones\",\"vinagre...   \n",
       "1  [\"oliva\",\"harina\",\"pimienta\",\"huevos\",\"huevo\",...   \n",
       "2  [\"garbanzos\",\"ajo\",\"sal\",\"perejil\",\"pimienta\",...   \n",
       "3  [\"canela\",\"azúcar\",\"limón\",\"leche\",\"arroz\",\"sa...   \n",
       "4  [\"nuez\",\"lechuga\",\"jamón serrano\",\"perejil\",\"l...   \n",
       "\n",
       "                                          techniques  \n",
       "0                                 [\"macerar\",\"agua\"]  \n",
       "1                       [\"agua\",\"rebozar\",\"en agua\"]  \n",
       "2                       [\"freír\",\"remojar\",\"sartén\"]  \n",
       "3  [\"hervir\",\"cocer\",\"agua\",\"a fuego lento\",\"fueg...  \n",
       "4           [\"cocidos\",\"agua\",\"fría\",\"cocido\",\"sal\"]  "
      ]
     },
     "execution_count": 22,
     "metadata": {},
     "output_type": "execute_result"
    }
   ],
   "source": [
    "cookpad_raw_recipes_df.head()"
   ]
  },
  {
   "cell_type": "code",
   "execution_count": 23,
   "metadata": {
    "collapsed": false
   },
   "outputs": [
    {
     "ename": "ValueError",
     "evalue": "could not broadcast input array from shape (9) into shape (6)",
     "output_type": "error",
     "traceback": [
      "\u001b[1;31m---------------------------------------------------------------------------\u001b[0m",
      "\u001b[1;31mValueError\u001b[0m                                Traceback (most recent call last)",
      "\u001b[1;32m<ipython-input-23-ad441a1f01e8>\u001b[0m in \u001b[0;36m<module>\u001b[1;34m()\u001b[0m\n\u001b[1;32m----> 1\u001b[1;33m \u001b[0mcookpad_raw_recipes_df\u001b[0m\u001b[1;33m[\u001b[0m\u001b[1;34m'ingredients'\u001b[0m\u001b[1;33m]\u001b[0m \u001b[1;33m=\u001b[0m \u001b[0mcookpad_raw_recipes_df\u001b[0m\u001b[1;33m.\u001b[0m\u001b[0mapply\u001b[0m\u001b[1;33m(\u001b[0m\u001b[1;32mlambda\u001b[0m \u001b[0mx\u001b[0m\u001b[1;33m:\u001b[0m \u001b[0mjson\u001b[0m\u001b[1;33m.\u001b[0m\u001b[0mloads\u001b[0m\u001b[1;33m(\u001b[0m\u001b[0mx\u001b[0m\u001b[1;33m[\u001b[0m\u001b[1;34m'ingredients'\u001b[0m\u001b[1;33m]\u001b[0m\u001b[1;33m)\u001b[0m\u001b[1;33m,\u001b[0m \u001b[0maxis\u001b[0m\u001b[1;33m=\u001b[0m\u001b[1;36m1\u001b[0m\u001b[1;33m)\u001b[0m\u001b[1;33m\u001b[0m\u001b[0m\n\u001b[0m\u001b[0;32m      2\u001b[0m \u001b[0mcookpad_raw_recipes_df\u001b[0m\u001b[1;33m[\u001b[0m\u001b[1;34m'techniques'\u001b[0m\u001b[1;33m]\u001b[0m \u001b[1;33m=\u001b[0m \u001b[0mcookpad_raw_recipes_df\u001b[0m\u001b[1;33m.\u001b[0m\u001b[0mapply\u001b[0m\u001b[1;33m(\u001b[0m\u001b[1;32mlambda\u001b[0m \u001b[0mx\u001b[0m\u001b[1;33m:\u001b[0m \u001b[0mjson\u001b[0m\u001b[1;33m.\u001b[0m\u001b[0mloads\u001b[0m\u001b[1;33m(\u001b[0m\u001b[0mx\u001b[0m\u001b[1;33m[\u001b[0m\u001b[1;34m'techniques'\u001b[0m\u001b[1;33m]\u001b[0m\u001b[1;33m)\u001b[0m\u001b[1;33m,\u001b[0m \u001b[0maxis\u001b[0m\u001b[1;33m=\u001b[0m\u001b[1;36m1\u001b[0m\u001b[1;33m)\u001b[0m\u001b[1;33m\u001b[0m\u001b[0m\n",
      "\u001b[1;32m/home/antonio/virtualenvs/elbulli/lib/python3.4/site-packages/pandas/core/frame.py\u001b[0m in \u001b[0;36mapply\u001b[1;34m(self, func, axis, broadcast, raw, reduce, args, **kwds)\u001b[0m\n\u001b[0;32m   4059\u001b[0m                     \u001b[1;32mif\u001b[0m \u001b[0mreduce\u001b[0m \u001b[1;32mis\u001b[0m \u001b[1;32mNone\u001b[0m\u001b[1;33m:\u001b[0m\u001b[1;33m\u001b[0m\u001b[0m\n\u001b[0;32m   4060\u001b[0m                         \u001b[0mreduce\u001b[0m \u001b[1;33m=\u001b[0m \u001b[1;32mTrue\u001b[0m\u001b[1;33m\u001b[0m\u001b[0m\n\u001b[1;32m-> 4061\u001b[1;33m                     \u001b[1;32mreturn\u001b[0m \u001b[0mself\u001b[0m\u001b[1;33m.\u001b[0m\u001b[0m_apply_standard\u001b[0m\u001b[1;33m(\u001b[0m\u001b[0mf\u001b[0m\u001b[1;33m,\u001b[0m \u001b[0maxis\u001b[0m\u001b[1;33m,\u001b[0m \u001b[0mreduce\u001b[0m\u001b[1;33m=\u001b[0m\u001b[0mreduce\u001b[0m\u001b[1;33m)\u001b[0m\u001b[1;33m\u001b[0m\u001b[0m\n\u001b[0m\u001b[0;32m   4062\u001b[0m             \u001b[1;32melse\u001b[0m\u001b[1;33m:\u001b[0m\u001b[1;33m\u001b[0m\u001b[0m\n\u001b[0;32m   4063\u001b[0m                 \u001b[1;32mreturn\u001b[0m \u001b[0mself\u001b[0m\u001b[1;33m.\u001b[0m\u001b[0m_apply_broadcast\u001b[0m\u001b[1;33m(\u001b[0m\u001b[0mf\u001b[0m\u001b[1;33m,\u001b[0m \u001b[0maxis\u001b[0m\u001b[1;33m)\u001b[0m\u001b[1;33m\u001b[0m\u001b[0m\n",
      "\u001b[1;32m/home/antonio/virtualenvs/elbulli/lib/python3.4/site-packages/pandas/core/frame.py\u001b[0m in \u001b[0;36m_apply_standard\u001b[1;34m(self, func, axis, ignore_failures, reduce)\u001b[0m\n\u001b[0;32m   4172\u001b[0m                 \u001b[0mindex\u001b[0m \u001b[1;33m=\u001b[0m \u001b[1;32mNone\u001b[0m\u001b[1;33m\u001b[0m\u001b[0m\n\u001b[0;32m   4173\u001b[0m \u001b[1;33m\u001b[0m\u001b[0m\n\u001b[1;32m-> 4174\u001b[1;33m             \u001b[0mresult\u001b[0m \u001b[1;33m=\u001b[0m \u001b[0mself\u001b[0m\u001b[1;33m.\u001b[0m\u001b[0m_constructor\u001b[0m\u001b[1;33m(\u001b[0m\u001b[0mdata\u001b[0m\u001b[1;33m=\u001b[0m\u001b[0mresults\u001b[0m\u001b[1;33m,\u001b[0m \u001b[0mindex\u001b[0m\u001b[1;33m=\u001b[0m\u001b[0mindex\u001b[0m\u001b[1;33m)\u001b[0m\u001b[1;33m\u001b[0m\u001b[0m\n\u001b[0m\u001b[0;32m   4175\u001b[0m             \u001b[0mresult\u001b[0m\u001b[1;33m.\u001b[0m\u001b[0mcolumns\u001b[0m \u001b[1;33m=\u001b[0m \u001b[0mres_index\u001b[0m\u001b[1;33m\u001b[0m\u001b[0m\n\u001b[0;32m   4176\u001b[0m \u001b[1;33m\u001b[0m\u001b[0m\n",
      "\u001b[1;32m/home/antonio/virtualenvs/elbulli/lib/python3.4/site-packages/pandas/core/frame.py\u001b[0m in \u001b[0;36m__init__\u001b[1;34m(self, data, index, columns, dtype, copy)\u001b[0m\n\u001b[0;32m    222\u001b[0m                                  dtype=dtype, copy=copy)\n\u001b[0;32m    223\u001b[0m         \u001b[1;32melif\u001b[0m \u001b[0misinstance\u001b[0m\u001b[1;33m(\u001b[0m\u001b[0mdata\u001b[0m\u001b[1;33m,\u001b[0m \u001b[0mdict\u001b[0m\u001b[1;33m)\u001b[0m\u001b[1;33m:\u001b[0m\u001b[1;33m\u001b[0m\u001b[0m\n\u001b[1;32m--> 224\u001b[1;33m             \u001b[0mmgr\u001b[0m \u001b[1;33m=\u001b[0m \u001b[0mself\u001b[0m\u001b[1;33m.\u001b[0m\u001b[0m_init_dict\u001b[0m\u001b[1;33m(\u001b[0m\u001b[0mdata\u001b[0m\u001b[1;33m,\u001b[0m \u001b[0mindex\u001b[0m\u001b[1;33m,\u001b[0m \u001b[0mcolumns\u001b[0m\u001b[1;33m,\u001b[0m \u001b[0mdtype\u001b[0m\u001b[1;33m=\u001b[0m\u001b[0mdtype\u001b[0m\u001b[1;33m)\u001b[0m\u001b[1;33m\u001b[0m\u001b[0m\n\u001b[0m\u001b[0;32m    225\u001b[0m         \u001b[1;32melif\u001b[0m \u001b[0misinstance\u001b[0m\u001b[1;33m(\u001b[0m\u001b[0mdata\u001b[0m\u001b[1;33m,\u001b[0m \u001b[0mma\u001b[0m\u001b[1;33m.\u001b[0m\u001b[0mMaskedArray\u001b[0m\u001b[1;33m)\u001b[0m\u001b[1;33m:\u001b[0m\u001b[1;33m\u001b[0m\u001b[0m\n\u001b[0;32m    226\u001b[0m             \u001b[1;32mimport\u001b[0m \u001b[0mnumpy\u001b[0m\u001b[1;33m.\u001b[0m\u001b[0mma\u001b[0m\u001b[1;33m.\u001b[0m\u001b[0mmrecords\u001b[0m \u001b[1;32mas\u001b[0m \u001b[0mmrecords\u001b[0m\u001b[1;33m\u001b[0m\u001b[0m\n",
      "\u001b[1;32m/home/antonio/virtualenvs/elbulli/lib/python3.4/site-packages/pandas/core/frame.py\u001b[0m in \u001b[0;36m_init_dict\u001b[1;34m(self, data, index, columns, dtype)\u001b[0m\n\u001b[0;32m    358\u001b[0m             \u001b[0marrays\u001b[0m \u001b[1;33m=\u001b[0m \u001b[1;33m[\u001b[0m\u001b[0mdata\u001b[0m\u001b[1;33m[\u001b[0m\u001b[0mk\u001b[0m\u001b[1;33m]\u001b[0m \u001b[1;32mfor\u001b[0m \u001b[0mk\u001b[0m \u001b[1;32min\u001b[0m \u001b[0mkeys\u001b[0m\u001b[1;33m]\u001b[0m\u001b[1;33m\u001b[0m\u001b[0m\n\u001b[0;32m    359\u001b[0m \u001b[1;33m\u001b[0m\u001b[0m\n\u001b[1;32m--> 360\u001b[1;33m         \u001b[1;32mreturn\u001b[0m \u001b[0m_arrays_to_mgr\u001b[0m\u001b[1;33m(\u001b[0m\u001b[0marrays\u001b[0m\u001b[1;33m,\u001b[0m \u001b[0mdata_names\u001b[0m\u001b[1;33m,\u001b[0m \u001b[0mindex\u001b[0m\u001b[1;33m,\u001b[0m \u001b[0mcolumns\u001b[0m\u001b[1;33m,\u001b[0m \u001b[0mdtype\u001b[0m\u001b[1;33m=\u001b[0m\u001b[0mdtype\u001b[0m\u001b[1;33m)\u001b[0m\u001b[1;33m\u001b[0m\u001b[0m\n\u001b[0m\u001b[0;32m    361\u001b[0m \u001b[1;33m\u001b[0m\u001b[0m\n\u001b[0;32m    362\u001b[0m     \u001b[1;32mdef\u001b[0m \u001b[0m_init_ndarray\u001b[0m\u001b[1;33m(\u001b[0m\u001b[0mself\u001b[0m\u001b[1;33m,\u001b[0m \u001b[0mvalues\u001b[0m\u001b[1;33m,\u001b[0m \u001b[0mindex\u001b[0m\u001b[1;33m,\u001b[0m \u001b[0mcolumns\u001b[0m\u001b[1;33m,\u001b[0m \u001b[0mdtype\u001b[0m\u001b[1;33m=\u001b[0m\u001b[1;32mNone\u001b[0m\u001b[1;33m,\u001b[0m \u001b[0mcopy\u001b[0m\u001b[1;33m=\u001b[0m\u001b[1;32mFalse\u001b[0m\u001b[1;33m)\u001b[0m\u001b[1;33m:\u001b[0m\u001b[1;33m\u001b[0m\u001b[0m\n",
      "\u001b[1;32m/home/antonio/virtualenvs/elbulli/lib/python3.4/site-packages/pandas/core/frame.py\u001b[0m in \u001b[0;36m_arrays_to_mgr\u001b[1;34m(arrays, arr_names, index, columns, dtype)\u001b[0m\n\u001b[0;32m   5239\u001b[0m     \u001b[0maxes\u001b[0m \u001b[1;33m=\u001b[0m \u001b[1;33m[\u001b[0m\u001b[0m_ensure_index\u001b[0m\u001b[1;33m(\u001b[0m\u001b[0mcolumns\u001b[0m\u001b[1;33m)\u001b[0m\u001b[1;33m,\u001b[0m \u001b[0m_ensure_index\u001b[0m\u001b[1;33m(\u001b[0m\u001b[0mindex\u001b[0m\u001b[1;33m)\u001b[0m\u001b[1;33m]\u001b[0m\u001b[1;33m\u001b[0m\u001b[0m\n\u001b[0;32m   5240\u001b[0m \u001b[1;33m\u001b[0m\u001b[0m\n\u001b[1;32m-> 5241\u001b[1;33m     \u001b[1;32mreturn\u001b[0m \u001b[0mcreate_block_manager_from_arrays\u001b[0m\u001b[1;33m(\u001b[0m\u001b[0marrays\u001b[0m\u001b[1;33m,\u001b[0m \u001b[0marr_names\u001b[0m\u001b[1;33m,\u001b[0m \u001b[0maxes\u001b[0m\u001b[1;33m)\u001b[0m\u001b[1;33m\u001b[0m\u001b[0m\n\u001b[0m\u001b[0;32m   5242\u001b[0m \u001b[1;33m\u001b[0m\u001b[0m\n\u001b[0;32m   5243\u001b[0m \u001b[1;33m\u001b[0m\u001b[0m\n",
      "\u001b[1;32m/home/antonio/virtualenvs/elbulli/lib/python3.4/site-packages/pandas/core/internals.py\u001b[0m in \u001b[0;36mcreate_block_manager_from_arrays\u001b[1;34m(arrays, names, axes)\u001b[0m\n\u001b[0;32m   4002\u001b[0m         \u001b[1;32mreturn\u001b[0m \u001b[0mmgr\u001b[0m\u001b[1;33m\u001b[0m\u001b[0m\n\u001b[0;32m   4003\u001b[0m     \u001b[1;32mexcept\u001b[0m \u001b[0mValueError\u001b[0m \u001b[1;32mas\u001b[0m \u001b[0me\u001b[0m\u001b[1;33m:\u001b[0m\u001b[1;33m\u001b[0m\u001b[0m\n\u001b[1;32m-> 4004\u001b[1;33m         \u001b[0mconstruction_error\u001b[0m\u001b[1;33m(\u001b[0m\u001b[0mlen\u001b[0m\u001b[1;33m(\u001b[0m\u001b[0marrays\u001b[0m\u001b[1;33m)\u001b[0m\u001b[1;33m,\u001b[0m \u001b[0marrays\u001b[0m\u001b[1;33m[\u001b[0m\u001b[1;36m0\u001b[0m\u001b[1;33m]\u001b[0m\u001b[1;33m.\u001b[0m\u001b[0mshape\u001b[0m\u001b[1;33m,\u001b[0m \u001b[0maxes\u001b[0m\u001b[1;33m,\u001b[0m \u001b[0me\u001b[0m\u001b[1;33m)\u001b[0m\u001b[1;33m\u001b[0m\u001b[0m\n\u001b[0m\u001b[0;32m   4005\u001b[0m \u001b[1;33m\u001b[0m\u001b[0m\n\u001b[0;32m   4006\u001b[0m \u001b[1;33m\u001b[0m\u001b[0m\n",
      "\u001b[1;32m/home/antonio/virtualenvs/elbulli/lib/python3.4/site-packages/pandas/core/internals.py\u001b[0m in \u001b[0;36mconstruction_error\u001b[1;34m(tot_items, block_shape, axes, e)\u001b[0m\n\u001b[0;32m   3964\u001b[0m     \u001b[0mimplied\u001b[0m \u001b[1;33m=\u001b[0m \u001b[0mtuple\u001b[0m\u001b[1;33m(\u001b[0m\u001b[0mmap\u001b[0m\u001b[1;33m(\u001b[0m\u001b[0mint\u001b[0m\u001b[1;33m,\u001b[0m \u001b[1;33m[\u001b[0m\u001b[0mlen\u001b[0m\u001b[1;33m(\u001b[0m\u001b[0max\u001b[0m\u001b[1;33m)\u001b[0m \u001b[1;32mfor\u001b[0m \u001b[0max\u001b[0m \u001b[1;32min\u001b[0m \u001b[0maxes\u001b[0m\u001b[1;33m]\u001b[0m\u001b[1;33m)\u001b[0m\u001b[1;33m)\u001b[0m\u001b[1;33m\u001b[0m\u001b[0m\n\u001b[0;32m   3965\u001b[0m     \u001b[1;32mif\u001b[0m \u001b[0mpassed\u001b[0m \u001b[1;33m==\u001b[0m \u001b[0mimplied\u001b[0m \u001b[1;32mand\u001b[0m \u001b[0me\u001b[0m \u001b[1;32mis\u001b[0m \u001b[1;32mnot\u001b[0m \u001b[1;32mNone\u001b[0m\u001b[1;33m:\u001b[0m\u001b[1;33m\u001b[0m\u001b[0m\n\u001b[1;32m-> 3966\u001b[1;33m         \u001b[1;32mraise\u001b[0m \u001b[0me\u001b[0m\u001b[1;33m\u001b[0m\u001b[0m\n\u001b[0m\u001b[0;32m   3967\u001b[0m     \u001b[1;32mif\u001b[0m \u001b[0mblock_shape\u001b[0m\u001b[1;33m[\u001b[0m\u001b[1;36m0\u001b[0m\u001b[1;33m]\u001b[0m \u001b[1;33m==\u001b[0m \u001b[1;36m0\u001b[0m\u001b[1;33m:\u001b[0m\u001b[1;33m\u001b[0m\u001b[0m\n\u001b[0;32m   3968\u001b[0m         \u001b[1;32mraise\u001b[0m \u001b[0mValueError\u001b[0m\u001b[1;33m(\u001b[0m\u001b[1;34m\"Empty data passed with indices specified.\"\u001b[0m\u001b[1;33m)\u001b[0m\u001b[1;33m\u001b[0m\u001b[0m\n",
      "\u001b[1;32m/home/antonio/virtualenvs/elbulli/lib/python3.4/site-packages/pandas/core/internals.py\u001b[0m in \u001b[0;36mcreate_block_manager_from_arrays\u001b[1;34m(arrays, names, axes)\u001b[0m\n\u001b[0;32m   3997\u001b[0m \u001b[1;33m\u001b[0m\u001b[0m\n\u001b[0;32m   3998\u001b[0m     \u001b[1;32mtry\u001b[0m\u001b[1;33m:\u001b[0m\u001b[1;33m\u001b[0m\u001b[0m\n\u001b[1;32m-> 3999\u001b[1;33m         \u001b[0mblocks\u001b[0m \u001b[1;33m=\u001b[0m \u001b[0mform_blocks\u001b[0m\u001b[1;33m(\u001b[0m\u001b[0marrays\u001b[0m\u001b[1;33m,\u001b[0m \u001b[0mnames\u001b[0m\u001b[1;33m,\u001b[0m \u001b[0maxes\u001b[0m\u001b[1;33m)\u001b[0m\u001b[1;33m\u001b[0m\u001b[0m\n\u001b[0m\u001b[0;32m   4000\u001b[0m         \u001b[0mmgr\u001b[0m \u001b[1;33m=\u001b[0m \u001b[0mBlockManager\u001b[0m\u001b[1;33m(\u001b[0m\u001b[0mblocks\u001b[0m\u001b[1;33m,\u001b[0m \u001b[0maxes\u001b[0m\u001b[1;33m)\u001b[0m\u001b[1;33m\u001b[0m\u001b[0m\n\u001b[0;32m   4001\u001b[0m         \u001b[0mmgr\u001b[0m\u001b[1;33m.\u001b[0m\u001b[0m_consolidate_inplace\u001b[0m\u001b[1;33m(\u001b[0m\u001b[1;33m)\u001b[0m\u001b[1;33m\u001b[0m\u001b[0m\n",
      "\u001b[1;32m/home/antonio/virtualenvs/elbulli/lib/python3.4/site-packages/pandas/core/internals.py\u001b[0m in \u001b[0;36mform_blocks\u001b[1;34m(arrays, names, axes)\u001b[0m\n\u001b[0;32m   4094\u001b[0m \u001b[1;33m\u001b[0m\u001b[0m\n\u001b[0;32m   4095\u001b[0m     \u001b[1;32mif\u001b[0m \u001b[0mlen\u001b[0m\u001b[1;33m(\u001b[0m\u001b[0mobject_items\u001b[0m\u001b[1;33m)\u001b[0m \u001b[1;33m>\u001b[0m \u001b[1;36m0\u001b[0m\u001b[1;33m:\u001b[0m\u001b[1;33m\u001b[0m\u001b[0m\n\u001b[1;32m-> 4096\u001b[1;33m         \u001b[0mobject_blocks\u001b[0m \u001b[1;33m=\u001b[0m \u001b[0m_simple_blockify\u001b[0m\u001b[1;33m(\u001b[0m\u001b[0mobject_items\u001b[0m\u001b[1;33m,\u001b[0m \u001b[0mnp\u001b[0m\u001b[1;33m.\u001b[0m\u001b[0mobject_\u001b[0m\u001b[1;33m)\u001b[0m\u001b[1;33m\u001b[0m\u001b[0m\n\u001b[0m\u001b[0;32m   4097\u001b[0m         \u001b[0mblocks\u001b[0m\u001b[1;33m.\u001b[0m\u001b[0mextend\u001b[0m\u001b[1;33m(\u001b[0m\u001b[0mobject_blocks\u001b[0m\u001b[1;33m)\u001b[0m\u001b[1;33m\u001b[0m\u001b[0m\n\u001b[0;32m   4098\u001b[0m \u001b[1;33m\u001b[0m\u001b[0m\n",
      "\u001b[1;32m/home/antonio/virtualenvs/elbulli/lib/python3.4/site-packages/pandas/core/internals.py\u001b[0m in \u001b[0;36m_simple_blockify\u001b[1;34m(tuples, dtype)\u001b[0m\n\u001b[0;32m   4124\u001b[0m     \u001b[1;32mnot\u001b[0m \u001b[1;32mNone\u001b[0m\u001b[1;33m,\u001b[0m \u001b[0mcoerce\u001b[0m \u001b[0mto\u001b[0m \u001b[0mthis\u001b[0m \u001b[0mdtype\u001b[0m\u001b[1;33m\u001b[0m\u001b[0m\n\u001b[0;32m   4125\u001b[0m     \"\"\"\n\u001b[1;32m-> 4126\u001b[1;33m     \u001b[0mvalues\u001b[0m\u001b[1;33m,\u001b[0m \u001b[0mplacement\u001b[0m \u001b[1;33m=\u001b[0m \u001b[0m_stack_arrays\u001b[0m\u001b[1;33m(\u001b[0m\u001b[0mtuples\u001b[0m\u001b[1;33m,\u001b[0m \u001b[0mdtype\u001b[0m\u001b[1;33m)\u001b[0m\u001b[1;33m\u001b[0m\u001b[0m\n\u001b[0m\u001b[0;32m   4127\u001b[0m \u001b[1;33m\u001b[0m\u001b[0m\n\u001b[0;32m   4128\u001b[0m     \u001b[1;31m# CHECK DTYPE?\u001b[0m\u001b[1;33m\u001b[0m\u001b[1;33m\u001b[0m\u001b[0m\n",
      "\u001b[1;32m/home/antonio/virtualenvs/elbulli/lib/python3.4/site-packages/pandas/core/internals.py\u001b[0m in \u001b[0;36m_stack_arrays\u001b[1;34m(tuples, dtype)\u001b[0m\n\u001b[0;32m   4188\u001b[0m     \u001b[0mstacked\u001b[0m \u001b[1;33m=\u001b[0m \u001b[0mnp\u001b[0m\u001b[1;33m.\u001b[0m\u001b[0mempty\u001b[0m\u001b[1;33m(\u001b[0m\u001b[0mshape\u001b[0m\u001b[1;33m,\u001b[0m \u001b[0mdtype\u001b[0m\u001b[1;33m=\u001b[0m\u001b[0mdtype\u001b[0m\u001b[1;33m)\u001b[0m\u001b[1;33m\u001b[0m\u001b[0m\n\u001b[0;32m   4189\u001b[0m     \u001b[1;32mfor\u001b[0m \u001b[0mi\u001b[0m\u001b[1;33m,\u001b[0m \u001b[0marr\u001b[0m \u001b[1;32min\u001b[0m \u001b[0menumerate\u001b[0m\u001b[1;33m(\u001b[0m\u001b[0marrays\u001b[0m\u001b[1;33m)\u001b[0m\u001b[1;33m:\u001b[0m\u001b[1;33m\u001b[0m\u001b[0m\n\u001b[1;32m-> 4190\u001b[1;33m         \u001b[0mstacked\u001b[0m\u001b[1;33m[\u001b[0m\u001b[0mi\u001b[0m\u001b[1;33m]\u001b[0m \u001b[1;33m=\u001b[0m \u001b[0m_asarray_compat\u001b[0m\u001b[1;33m(\u001b[0m\u001b[0marr\u001b[0m\u001b[1;33m)\u001b[0m\u001b[1;33m\u001b[0m\u001b[0m\n\u001b[0m\u001b[0;32m   4191\u001b[0m \u001b[1;33m\u001b[0m\u001b[0m\n\u001b[0;32m   4192\u001b[0m     \u001b[1;32mreturn\u001b[0m \u001b[0mstacked\u001b[0m\u001b[1;33m,\u001b[0m \u001b[0mplacement\u001b[0m\u001b[1;33m\u001b[0m\u001b[0m\n",
      "\u001b[1;31mValueError\u001b[0m: could not broadcast input array from shape (9) into shape (6)"
     ]
    }
   ],
   "source": [
    "cookpad_raw_recipes_df['ingredients'] = cookpad_raw_recipes_df.apply(lambda x: json.loads(x['ingredients']), axis=1)\n",
    "cookpad_raw_recipes_df['techniques'] = cookpad_raw_recipes_df.apply(lambda x: json.loads(x['techniques']), axis=1)"
   ]
  },
  {
   "cell_type": "code",
   "execution_count": null,
   "metadata": {
    "collapsed": false
   },
   "outputs": [],
   "source": [
    "cookpad_raw_recipes_df.head()"
   ]
  },
  {
   "cell_type": "code",
   "execution_count": 4,
   "metadata": {
    "collapsed": true
   },
   "outputs": [],
   "source": [
    "cookpad_raw_recipes_df['creativity'] = cookpad_raw_recipes_df.apply(\n",
    "    lambda x: 0, axis=1)"
   ]
  },
  {
   "cell_type": "code",
   "execution_count": 5,
   "metadata": {
    "collapsed": false,
    "scrolled": true
   },
   "outputs": [
    {
     "data": {
      "text/html": [
       "<div>\n",
       "<table border=\"1\" class=\"dataframe\">\n",
       "  <thead>\n",
       "    <tr style=\"text-align: right;\">\n",
       "      <th></th>\n",
       "      <th>_id</th>\n",
       "      <th>title</th>\n",
       "      <th>year</th>\n",
       "      <th>ingredients</th>\n",
       "      <th>techniques</th>\n",
       "      <th>creativity</th>\n",
       "    </tr>\n",
       "  </thead>\n",
       "  <tbody>\n",
       "    <tr>\n",
       "      <th>0</th>\n",
       "      <td>1</td>\n",
       "      <td>terrina de melón con gelée de oporto</td>\n",
       "      <td>1987</td>\n",
       "      <td>[\"aceite de oliva\",\"agua\",\"gelatina de oporto\"...</td>\n",
       "      <td>[\"agua\"]</td>\n",
       "      <td>10</td>\n",
       "    </tr>\n",
       "    <tr>\n",
       "      <th>1</th>\n",
       "      <td>10</td>\n",
       "      <td>salmonetes Gaudí</td>\n",
       "      <td>1987</td>\n",
       "      <td>[\"aceite de oliva\",\"anchoa en aceite\",\"calabac...</td>\n",
       "      <td>[\"agua\",\"brunoise\",\"cocción\",\"hervir\",\"horno\",...</td>\n",
       "      <td>10</td>\n",
       "    </tr>\n",
       "    <tr>\n",
       "      <th>2</th>\n",
       "      <td>100</td>\n",
       "      <td>oursins</td>\n",
       "      <td>1990</td>\n",
       "      <td>[\"avellanas tostadas\",\"azúcar\",\"cacao en polvo...</td>\n",
       "      <td>[\"horno\",\"secar\"]</td>\n",
       "      <td>10</td>\n",
       "    </tr>\n",
       "    <tr>\n",
       "      <th>3</th>\n",
       "      <td>1000</td>\n",
       "      <td>ravioli sférico de té con cubo helado de limón</td>\n",
       "      <td>2004</td>\n",
       "      <td>[\"agua\",\"alginato sódico\",\"azúcar\",\"infusión\",...</td>\n",
       "      <td>[\"agua\",\"min\"]</td>\n",
       "      <td>30</td>\n",
       "    </tr>\n",
       "    <tr>\n",
       "      <th>4</th>\n",
       "      <td>1001</td>\n",
       "      <td>ceps en ámbar de su caldo</td>\n",
       "      <td>2004</td>\n",
       "      <td>[\"aceite de girasol\",\"aceite de oliva\",\"agua\",...</td>\n",
       "      <td>[\"agua\",\"cazuela\",\"confitar\",\"conservar\",\"esca...</td>\n",
       "      <td>30</td>\n",
       "    </tr>\n",
       "  </tbody>\n",
       "</table>\n",
       "</div>"
      ],
      "text/plain": [
       "    _id                                           title  year  \\\n",
       "0     1            terrina de melón con gelée de oporto  1987   \n",
       "1    10                                salmonetes Gaudí  1987   \n",
       "2   100                                         oursins  1990   \n",
       "3  1000  ravioli sférico de té con cubo helado de limón  2004   \n",
       "4  1001                       ceps en ámbar de su caldo  2004   \n",
       "\n",
       "                                         ingredients  \\\n",
       "0  [\"aceite de oliva\",\"agua\",\"gelatina de oporto\"...   \n",
       "1  [\"aceite de oliva\",\"anchoa en aceite\",\"calabac...   \n",
       "2  [\"avellanas tostadas\",\"azúcar\",\"cacao en polvo...   \n",
       "3  [\"agua\",\"alginato sódico\",\"azúcar\",\"infusión\",...   \n",
       "4  [\"aceite de girasol\",\"aceite de oliva\",\"agua\",...   \n",
       "\n",
       "                                          techniques  creativity  \n",
       "0                                           [\"agua\"]          10  \n",
       "1  [\"agua\",\"brunoise\",\"cocción\",\"hervir\",\"horno\",...          10  \n",
       "2                                  [\"horno\",\"secar\"]          10  \n",
       "3                                     [\"agua\",\"min\"]          30  \n",
       "4  [\"agua\",\"cazuela\",\"confitar\",\"conservar\",\"esca...          30  "
      ]
     },
     "execution_count": 5,
     "metadata": {},
     "output_type": "execute_result"
    }
   ],
   "source": [
    "cookpad_raw_recipes_df.head()"
   ]
  },
  {
   "cell_type": "markdown",
   "metadata": {},
   "source": [
    "### elbulli & cookpad"
   ]
  },
  {
   "cell_type": "code",
   "execution_count": 17,
   "metadata": {
    "collapsed": true
   },
   "outputs": [],
   "source": [
    "raw_recipes_df = elbulli_raw_recipes_df.append(cookpad_raw_recipes_df)"
   ]
  },
  {
   "cell_type": "code",
   "execution_count": 19,
   "metadata": {
    "collapsed": false,
    "scrolled": true
   },
   "outputs": [
    {
     "data": {
      "text/html": [
       "<div>\n",
       "<table border=\"1\" class=\"dataframe\">\n",
       "  <thead>\n",
       "    <tr style=\"text-align: right;\">\n",
       "      <th></th>\n",
       "      <th>_id</th>\n",
       "      <th>cuisine</th>\n",
       "      <th>ingredients</th>\n",
       "      <th>techniques</th>\n",
       "      <th>title</th>\n",
       "      <th>year</th>\n",
       "    </tr>\n",
       "  </thead>\n",
       "  <tbody>\n",
       "    <tr>\n",
       "      <th>0</th>\n",
       "      <td>1</td>\n",
       "      <td>NaN</td>\n",
       "      <td>[\"hojas de gelatina\",\"pimienta blanca\",\"oporto...</td>\n",
       "      <td>[\"agua\"]</td>\n",
       "      <td>terrina de melón con gelée de oporto</td>\n",
       "      <td>1987</td>\n",
       "    </tr>\n",
       "    <tr>\n",
       "      <th>1</th>\n",
       "      <td>10</td>\n",
       "      <td>NaN</td>\n",
       "      <td>[\"vinagre balsámico\",\"pimienta negra\",\"orégano...</td>\n",
       "      <td>[\"en agua\",\"puré\",\"cocción\",\"asar\",\"horno\",\"as...</td>\n",
       "      <td>salmonetes Gaudí</td>\n",
       "      <td>1987</td>\n",
       "    </tr>\n",
       "    <tr>\n",
       "      <th>2</th>\n",
       "      <td>100</td>\n",
       "      <td>NaN</td>\n",
       "      <td>[\"avellanas tostadas\",\"chocolate\",\"claras de h...</td>\n",
       "      <td>[\"horno\",\"secar\",\"al horno\"]</td>\n",
       "      <td>oursins</td>\n",
       "      <td>1990</td>\n",
       "    </tr>\n",
       "    <tr>\n",
       "      <th>3</th>\n",
       "      <td>1000</td>\n",
       "      <td>NaN</td>\n",
       "      <td>[\"limón\",\"agua\",\"alginato sódico\",\"infusión de...</td>\n",
       "      <td>[\"fría\",\"agua\"]</td>\n",
       "      <td>ravioli sférico de té con cubo helado de limón</td>\n",
       "      <td>2004</td>\n",
       "    </tr>\n",
       "    <tr>\n",
       "      <th>4</th>\n",
       "      <td>1001</td>\n",
       "      <td>NaN</td>\n",
       "      <td>[\"pimienta negra\",\"láminas de ceps\",\"ceps\",\"ca...</td>\n",
       "      <td>[\"en agua\",\"hervido\",\"a fuego lento\",\"cocer\",\"...</td>\n",
       "      <td>ceps en ámbar de su caldo</td>\n",
       "      <td>2004</td>\n",
       "    </tr>\n",
       "  </tbody>\n",
       "</table>\n",
       "</div>"
      ],
      "text/plain": [
       "    _id cuisine                                        ingredients  \\\n",
       "0     1     NaN  [\"hojas de gelatina\",\"pimienta blanca\",\"oporto...   \n",
       "1    10     NaN  [\"vinagre balsámico\",\"pimienta negra\",\"orégano...   \n",
       "2   100     NaN  [\"avellanas tostadas\",\"chocolate\",\"claras de h...   \n",
       "3  1000     NaN  [\"limón\",\"agua\",\"alginato sódico\",\"infusión de...   \n",
       "4  1001     NaN  [\"pimienta negra\",\"láminas de ceps\",\"ceps\",\"ca...   \n",
       "\n",
       "                                          techniques  \\\n",
       "0                                           [\"agua\"]   \n",
       "1  [\"en agua\",\"puré\",\"cocción\",\"asar\",\"horno\",\"as...   \n",
       "2                       [\"horno\",\"secar\",\"al horno\"]   \n",
       "3                                    [\"fría\",\"agua\"]   \n",
       "4  [\"en agua\",\"hervido\",\"a fuego lento\",\"cocer\",\"...   \n",
       "\n",
       "                                            title  year  \n",
       "0            terrina de melón con gelée de oporto  1987  \n",
       "1                                salmonetes Gaudí  1987  \n",
       "2                                         oursins  1990  \n",
       "3  ravioli sférico de té con cubo helado de limón  2004  \n",
       "4                       ceps en ámbar de su caldo  2004  "
      ]
     },
     "execution_count": 19,
     "metadata": {},
     "output_type": "execute_result"
    }
   ],
   "source": [
    "raw_recipes_df.head()"
   ]
  },
  {
   "cell_type": "code",
   "execution_count": null,
   "metadata": {
    "collapsed": true
   },
   "outputs": [],
   "source": []
  },
  {
   "cell_type": "code",
   "execution_count": null,
   "metadata": {
    "collapsed": true
   },
   "outputs": [],
   "source": []
  },
  {
   "cell_type": "markdown",
   "metadata": {},
   "source": [
    "## Representative ingredients and techniques"
   ]
  },
  {
   "cell_type": "markdown",
   "metadata": {},
   "source": [
    "### elbulli"
   ]
  },
  {
   "cell_type": "code",
   "execution_count": 2,
   "metadata": {
    "collapsed": false
   },
   "outputs": [],
   "source": [
    "elbulli_repr_recipes_df = pd.read_csv('data/recipes_elbulli_representatives.csv')"
   ]
  },
  {
   "cell_type": "code",
   "execution_count": 3,
   "metadata": {
    "collapsed": false
   },
   "outputs": [
    {
     "data": {
      "text/plain": [
       "_id             int64\n",
       "title          object\n",
       "year            int64\n",
       "ingredients    object\n",
       "techniques     object\n",
       "dtype: object"
      ]
     },
     "execution_count": 3,
     "metadata": {},
     "output_type": "execute_result"
    }
   ],
   "source": [
    "elbulli_repr_recipes_df.dtypes"
   ]
  },
  {
   "cell_type": "code",
   "execution_count": 4,
   "metadata": {
    "collapsed": false
   },
   "outputs": [
    {
     "data": {
      "text/html": [
       "<div>\n",
       "<table border=\"1\" class=\"dataframe\">\n",
       "  <thead>\n",
       "    <tr style=\"text-align: right;\">\n",
       "      <th></th>\n",
       "      <th>_id</th>\n",
       "      <th>title</th>\n",
       "      <th>year</th>\n",
       "      <th>ingredients</th>\n",
       "      <th>techniques</th>\n",
       "    </tr>\n",
       "  </thead>\n",
       "  <tbody>\n",
       "    <tr>\n",
       "      <th>0</th>\n",
       "      <td>1</td>\n",
       "      <td>terrina de melón con gelée de oporto</td>\n",
       "      <td>1987</td>\n",
       "      <td>[\"hojas de gelatina\",\"pimienta blanca\",\"oporto...</td>\n",
       "      <td>[\"agua\"]</td>\n",
       "    </tr>\n",
       "    <tr>\n",
       "      <th>1</th>\n",
       "      <td>10</td>\n",
       "      <td>salmonetes Gaudí</td>\n",
       "      <td>1987</td>\n",
       "      <td>[\"vinagre balsámico\",\"pimienta negra\",\"orégano...</td>\n",
       "      <td>[\"en agua\",\"puré\",\"cocción\",\"asar\",\"horno\",\"as...</td>\n",
       "    </tr>\n",
       "    <tr>\n",
       "      <th>2</th>\n",
       "      <td>100</td>\n",
       "      <td>oursins</td>\n",
       "      <td>1990</td>\n",
       "      <td>[\"avellanas tostadas\",\"chocolate\",\"claras de h...</td>\n",
       "      <td>[\"horno\",\"secar\",\"al horno\"]</td>\n",
       "    </tr>\n",
       "    <tr>\n",
       "      <th>3</th>\n",
       "      <td>1000</td>\n",
       "      <td>ravioli sférico de té con cubo helado de limón</td>\n",
       "      <td>2004</td>\n",
       "      <td>[\"limón\",\"agua\",\"alginato sódico\",\"infusión de...</td>\n",
       "      <td>[\"fría\",\"agua\"]</td>\n",
       "    </tr>\n",
       "    <tr>\n",
       "      <th>4</th>\n",
       "      <td>1001</td>\n",
       "      <td>ceps en ámbar de su caldo</td>\n",
       "      <td>2004</td>\n",
       "      <td>[\"pimienta negra\",\"láminas de ceps\",\"ceps\",\"ca...</td>\n",
       "      <td>[\"en agua\",\"hervido\",\"a fuego lento\",\"cocer\",\"...</td>\n",
       "    </tr>\n",
       "  </tbody>\n",
       "</table>\n",
       "</div>"
      ],
      "text/plain": [
       "    _id                                           title  year  \\\n",
       "0     1            terrina de melón con gelée de oporto  1987   \n",
       "1    10                                salmonetes Gaudí  1987   \n",
       "2   100                                         oursins  1990   \n",
       "3  1000  ravioli sférico de té con cubo helado de limón  2004   \n",
       "4  1001                       ceps en ámbar de su caldo  2004   \n",
       "\n",
       "                                         ingredients  \\\n",
       "0  [\"hojas de gelatina\",\"pimienta blanca\",\"oporto...   \n",
       "1  [\"vinagre balsámico\",\"pimienta negra\",\"orégano...   \n",
       "2  [\"avellanas tostadas\",\"chocolate\",\"claras de h...   \n",
       "3  [\"limón\",\"agua\",\"alginato sódico\",\"infusión de...   \n",
       "4  [\"pimienta negra\",\"láminas de ceps\",\"ceps\",\"ca...   \n",
       "\n",
       "                                          techniques  \n",
       "0                                           [\"agua\"]  \n",
       "1  [\"en agua\",\"puré\",\"cocción\",\"asar\",\"horno\",\"as...  \n",
       "2                       [\"horno\",\"secar\",\"al horno\"]  \n",
       "3                                    [\"fría\",\"agua\"]  \n",
       "4  [\"en agua\",\"hervido\",\"a fuego lento\",\"cocer\",\"...  "
      ]
     },
     "execution_count": 4,
     "metadata": {},
     "output_type": "execute_result"
    }
   ],
   "source": [
    "elbulli_repr_recipes_df.head()"
   ]
  },
  {
   "cell_type": "code",
   "execution_count": 6,
   "metadata": {
    "collapsed": false
   },
   "outputs": [],
   "source": [
    "elbulli_repr_recipes_df['ingredients'] = elbulli_repr_recipes_df.apply(lambda x: json.loads(x['ingredients']), axis=1)\n",
    "elbulli_repr_recipes_df['techniques'] = elbulli_repr_recipes_df.apply(lambda x: json.loads(x['techniques']), axis=1)"
   ]
  },
  {
   "cell_type": "code",
   "execution_count": 7,
   "metadata": {
    "collapsed": false
   },
   "outputs": [
    {
     "data": {
      "text/html": [
       "<div>\n",
       "<table border=\"1\" class=\"dataframe\">\n",
       "  <thead>\n",
       "    <tr style=\"text-align: right;\">\n",
       "      <th></th>\n",
       "      <th>_id</th>\n",
       "      <th>title</th>\n",
       "      <th>year</th>\n",
       "      <th>ingredients</th>\n",
       "      <th>techniques</th>\n",
       "      <th>creativity</th>\n",
       "    </tr>\n",
       "  </thead>\n",
       "  <tbody>\n",
       "    <tr>\n",
       "      <th>0</th>\n",
       "      <td>1</td>\n",
       "      <td>terrina de melón con gelée de oporto</td>\n",
       "      <td>1987</td>\n",
       "      <td>[aceite de oliva, agua, gelatina de oporto, ho...</td>\n",
       "      <td>[agua]</td>\n",
       "      <td>10</td>\n",
       "    </tr>\n",
       "    <tr>\n",
       "      <th>1</th>\n",
       "      <td>10</td>\n",
       "      <td>salmonetes Gaudí</td>\n",
       "      <td>1987</td>\n",
       "      <td>[aceite de oliva, anchoa en aceite, calabacín,...</td>\n",
       "      <td>[agua, brunoise, cocción, hervir, horno, marca...</td>\n",
       "      <td>10</td>\n",
       "    </tr>\n",
       "    <tr>\n",
       "      <th>2</th>\n",
       "      <td>100</td>\n",
       "      <td>oursins</td>\n",
       "      <td>1990</td>\n",
       "      <td>[avellanas tostadas, azúcar, cacao en polvo, c...</td>\n",
       "      <td>[horno, secar]</td>\n",
       "      <td>10</td>\n",
       "    </tr>\n",
       "    <tr>\n",
       "      <th>3</th>\n",
       "      <td>1000</td>\n",
       "      <td>ravioli sférico de té con cubo helado de limón</td>\n",
       "      <td>2004</td>\n",
       "      <td>[agua, alginato sódico, azúcar, infusión, limó...</td>\n",
       "      <td>[agua, min]</td>\n",
       "      <td>30</td>\n",
       "    </tr>\n",
       "    <tr>\n",
       "      <th>4</th>\n",
       "      <td>1001</td>\n",
       "      <td>ceps en ámbar de su caldo</td>\n",
       "      <td>2004</td>\n",
       "      <td>[aceite de girasol, aceite de oliva, agua, ajo...</td>\n",
       "      <td>[agua, cazuela, confitar, conservar, escaldar,...</td>\n",
       "      <td>30</td>\n",
       "    </tr>\n",
       "  </tbody>\n",
       "</table>\n",
       "</div>"
      ],
      "text/plain": [
       "    _id                                           title  year  \\\n",
       "0     1            terrina de melón con gelée de oporto  1987   \n",
       "1    10                                salmonetes Gaudí  1987   \n",
       "2   100                                         oursins  1990   \n",
       "3  1000  ravioli sférico de té con cubo helado de limón  2004   \n",
       "4  1001                       ceps en ámbar de su caldo  2004   \n",
       "\n",
       "                                         ingredients  \\\n",
       "0  [aceite de oliva, agua, gelatina de oporto, ho...   \n",
       "1  [aceite de oliva, anchoa en aceite, calabacín,...   \n",
       "2  [avellanas tostadas, azúcar, cacao en polvo, c...   \n",
       "3  [agua, alginato sódico, azúcar, infusión, limó...   \n",
       "4  [aceite de girasol, aceite de oliva, agua, ajo...   \n",
       "\n",
       "                                          techniques  creativity  \n",
       "0                                             [agua]          10  \n",
       "1  [agua, brunoise, cocción, hervir, horno, marca...          10  \n",
       "2                                     [horno, secar]          10  \n",
       "3                                        [agua, min]          30  \n",
       "4  [agua, cazuela, confitar, conservar, escaldar,...          30  "
      ]
     },
     "execution_count": 7,
     "metadata": {},
     "output_type": "execute_result"
    }
   ],
   "source": [
    "elbulli_repr_recipes_df.head()"
   ]
  },
  {
   "cell_type": "code",
   "execution_count": 4,
   "metadata": {
    "collapsed": true
   },
   "outputs": [],
   "source": [
    "elbulli_repr_recipes_df['creativity'] = elbulli_repr_recipes_df.apply(\n",
    "    lambda x: 10 if 1987 <= x['year'] <= 1997 else \\\n",
    "              20 if 1998 <= x['year'] <= 2001 else \\\n",
    "              30 if 2002 <= x['year'] <= 2005 else \\\n",
    "              'UNKOWN', axis=1)"
   ]
  },
  {
   "cell_type": "code",
   "execution_count": 5,
   "metadata": {
    "collapsed": false,
    "scrolled": true
   },
   "outputs": [
    {
     "data": {
      "text/html": [
       "<div>\n",
       "<table border=\"1\" class=\"dataframe\">\n",
       "  <thead>\n",
       "    <tr style=\"text-align: right;\">\n",
       "      <th></th>\n",
       "      <th>_id</th>\n",
       "      <th>title</th>\n",
       "      <th>year</th>\n",
       "      <th>ingredients</th>\n",
       "      <th>techniques</th>\n",
       "      <th>creativity</th>\n",
       "    </tr>\n",
       "  </thead>\n",
       "  <tbody>\n",
       "    <tr>\n",
       "      <th>0</th>\n",
       "      <td>1</td>\n",
       "      <td>terrina de melón con gelée de oporto</td>\n",
       "      <td>1987</td>\n",
       "      <td>[\"aceite de oliva\",\"agua\",\"gelatina de oporto\"...</td>\n",
       "      <td>[\"agua\"]</td>\n",
       "      <td>10</td>\n",
       "    </tr>\n",
       "    <tr>\n",
       "      <th>1</th>\n",
       "      <td>10</td>\n",
       "      <td>salmonetes Gaudí</td>\n",
       "      <td>1987</td>\n",
       "      <td>[\"aceite de oliva\",\"anchoa en aceite\",\"calabac...</td>\n",
       "      <td>[\"agua\",\"brunoise\",\"cocción\",\"hervir\",\"horno\",...</td>\n",
       "      <td>10</td>\n",
       "    </tr>\n",
       "    <tr>\n",
       "      <th>2</th>\n",
       "      <td>100</td>\n",
       "      <td>oursins</td>\n",
       "      <td>1990</td>\n",
       "      <td>[\"avellanas tostadas\",\"azúcar\",\"cacao en polvo...</td>\n",
       "      <td>[\"horno\",\"secar\"]</td>\n",
       "      <td>10</td>\n",
       "    </tr>\n",
       "    <tr>\n",
       "      <th>3</th>\n",
       "      <td>1000</td>\n",
       "      <td>ravioli sférico de té con cubo helado de limón</td>\n",
       "      <td>2004</td>\n",
       "      <td>[\"agua\",\"alginato sódico\",\"azúcar\",\"infusión\",...</td>\n",
       "      <td>[\"agua\",\"min\"]</td>\n",
       "      <td>30</td>\n",
       "    </tr>\n",
       "    <tr>\n",
       "      <th>4</th>\n",
       "      <td>1001</td>\n",
       "      <td>ceps en ámbar de su caldo</td>\n",
       "      <td>2004</td>\n",
       "      <td>[\"aceite de girasol\",\"aceite de oliva\",\"agua\",...</td>\n",
       "      <td>[\"agua\",\"cazuela\",\"confitar\",\"conservar\",\"esca...</td>\n",
       "      <td>30</td>\n",
       "    </tr>\n",
       "  </tbody>\n",
       "</table>\n",
       "</div>"
      ],
      "text/plain": [
       "    _id                                           title  year  \\\n",
       "0     1            terrina de melón con gelée de oporto  1987   \n",
       "1    10                                salmonetes Gaudí  1987   \n",
       "2   100                                         oursins  1990   \n",
       "3  1000  ravioli sférico de té con cubo helado de limón  2004   \n",
       "4  1001                       ceps en ámbar de su caldo  2004   \n",
       "\n",
       "                                         ingredients  \\\n",
       "0  [\"aceite de oliva\",\"agua\",\"gelatina de oporto\"...   \n",
       "1  [\"aceite de oliva\",\"anchoa en aceite\",\"calabac...   \n",
       "2  [\"avellanas tostadas\",\"azúcar\",\"cacao en polvo...   \n",
       "3  [\"agua\",\"alginato sódico\",\"azúcar\",\"infusión\",...   \n",
       "4  [\"aceite de girasol\",\"aceite de oliva\",\"agua\",...   \n",
       "\n",
       "                                          techniques  creativity  \n",
       "0                                           [\"agua\"]          10  \n",
       "1  [\"agua\",\"brunoise\",\"cocción\",\"hervir\",\"horno\",...          10  \n",
       "2                                  [\"horno\",\"secar\"]          10  \n",
       "3                                     [\"agua\",\"min\"]          30  \n",
       "4  [\"agua\",\"cazuela\",\"confitar\",\"conservar\",\"esca...          30  "
      ]
     },
     "execution_count": 5,
     "metadata": {},
     "output_type": "execute_result"
    }
   ],
   "source": [
    "elbulli_repr_recipes_df.head()"
   ]
  },
  {
   "cell_type": "markdown",
   "metadata": {},
   "source": [
    "### cookpad"
   ]
  },
  {
   "cell_type": "code",
   "execution_count": 20,
   "metadata": {
    "collapsed": false
   },
   "outputs": [],
   "source": [
    "cookpad_repr_recipes_df = pd.read_csv('data/recipes_cookpad_representatives.csv')"
   ]
  },
  {
   "cell_type": "code",
   "execution_count": 21,
   "metadata": {
    "collapsed": false
   },
   "outputs": [
    {
     "data": {
      "text/plain": [
       "_id             int64\n",
       "title          object\n",
       "cuisine        object\n",
       "year            int64\n",
       "ingredients    object\n",
       "techniques     object\n",
       "dtype: object"
      ]
     },
     "execution_count": 21,
     "metadata": {},
     "output_type": "execute_result"
    }
   ],
   "source": [
    "cookpad_repr_recipes_df.dtypes"
   ]
  },
  {
   "cell_type": "code",
   "execution_count": 22,
   "metadata": {
    "collapsed": false
   },
   "outputs": [
    {
     "data": {
      "text/html": [
       "<div>\n",
       "<table border=\"1\" class=\"dataframe\">\n",
       "  <thead>\n",
       "    <tr style=\"text-align: right;\">\n",
       "      <th></th>\n",
       "      <th>_id</th>\n",
       "      <th>title</th>\n",
       "      <th>cuisine</th>\n",
       "      <th>year</th>\n",
       "      <th>ingredients</th>\n",
       "      <th>techniques</th>\n",
       "    </tr>\n",
       "  </thead>\n",
       "  <tbody>\n",
       "    <tr>\n",
       "      <th>0</th>\n",
       "      <td>100002</td>\n",
       "      <td>Boquerones en Vinagre al estilo andaluz</td>\n",
       "      <td>España</td>\n",
       "      <td>2009</td>\n",
       "      <td>[\"ajo\",\"perejil\",\"limón\",\"boquerones\",\"vinagre...</td>\n",
       "      <td>[\"macerar\",\"agua\"]</td>\n",
       "    </tr>\n",
       "    <tr>\n",
       "      <th>1</th>\n",
       "      <td>100005</td>\n",
       "      <td>Croquetas marineras</td>\n",
       "      <td>España</td>\n",
       "      <td>2009</td>\n",
       "      <td>[\"oliva\",\"harina\",\"pimienta\",\"huevos\",\"huevo\",...</td>\n",
       "      <td>[\"agua\",\"rebozar\",\"en agua\"]</td>\n",
       "    </tr>\n",
       "    <tr>\n",
       "      <th>2</th>\n",
       "      <td>100007</td>\n",
       "      <td>Bolitas árabes con ensalada</td>\n",
       "      <td>Marruecos</td>\n",
       "      <td>2009</td>\n",
       "      <td>[\"garbanzos\",\"ajo\",\"sal\",\"perejil\",\"pimienta\",...</td>\n",
       "      <td>[\"freír\",\"remojar\",\"sartén\"]</td>\n",
       "    </tr>\n",
       "    <tr>\n",
       "      <th>3</th>\n",
       "      <td>100018</td>\n",
       "      <td>Arroz con leche de mi cosecha</td>\n",
       "      <td>España</td>\n",
       "      <td>2009</td>\n",
       "      <td>[\"canela\",\"azúcar\",\"limón\",\"leche\",\"arroz\",\"sa...</td>\n",
       "      <td>[\"hervir\",\"cocer\",\"agua\",\"a fuego lento\",\"fueg...</td>\n",
       "    </tr>\n",
       "    <tr>\n",
       "      <th>4</th>\n",
       "      <td>100022</td>\n",
       "      <td>Ensalada de Arroz con Jamón</td>\n",
       "      <td>España</td>\n",
       "      <td>2009</td>\n",
       "      <td>[\"nuez\",\"lechuga\",\"jamón serrano\",\"perejil\",\"l...</td>\n",
       "      <td>[\"cocidos\",\"agua\",\"fría\",\"cocido\",\"sal\"]</td>\n",
       "    </tr>\n",
       "  </tbody>\n",
       "</table>\n",
       "</div>"
      ],
      "text/plain": [
       "      _id                                    title    cuisine  year  \\\n",
       "0  100002  Boquerones en Vinagre al estilo andaluz     España  2009   \n",
       "1  100005                      Croquetas marineras     España  2009   \n",
       "2  100007              Bolitas árabes con ensalada  Marruecos  2009   \n",
       "3  100018            Arroz con leche de mi cosecha     España  2009   \n",
       "4  100022              Ensalada de Arroz con Jamón     España  2009   \n",
       "\n",
       "                                         ingredients  \\\n",
       "0  [\"ajo\",\"perejil\",\"limón\",\"boquerones\",\"vinagre...   \n",
       "1  [\"oliva\",\"harina\",\"pimienta\",\"huevos\",\"huevo\",...   \n",
       "2  [\"garbanzos\",\"ajo\",\"sal\",\"perejil\",\"pimienta\",...   \n",
       "3  [\"canela\",\"azúcar\",\"limón\",\"leche\",\"arroz\",\"sa...   \n",
       "4  [\"nuez\",\"lechuga\",\"jamón serrano\",\"perejil\",\"l...   \n",
       "\n",
       "                                          techniques  \n",
       "0                                 [\"macerar\",\"agua\"]  \n",
       "1                       [\"agua\",\"rebozar\",\"en agua\"]  \n",
       "2                       [\"freír\",\"remojar\",\"sartén\"]  \n",
       "3  [\"hervir\",\"cocer\",\"agua\",\"a fuego lento\",\"fueg...  \n",
       "4           [\"cocidos\",\"agua\",\"fría\",\"cocido\",\"sal\"]  "
      ]
     },
     "execution_count": 22,
     "metadata": {},
     "output_type": "execute_result"
    }
   ],
   "source": [
    "cookpad_repr_recipes_df.head()"
   ]
  },
  {
   "cell_type": "code",
   "execution_count": 23,
   "metadata": {
    "collapsed": false
   },
   "outputs": [
    {
     "ename": "ValueError",
     "evalue": "could not broadcast input array from shape (9) into shape (6)",
     "output_type": "error",
     "traceback": [
      "\u001b[1;31m---------------------------------------------------------------------------\u001b[0m",
      "\u001b[1;31mValueError\u001b[0m                                Traceback (most recent call last)",
      "\u001b[1;32m<ipython-input-23-ad441a1f01e8>\u001b[0m in \u001b[0;36m<module>\u001b[1;34m()\u001b[0m\n\u001b[1;32m----> 1\u001b[1;33m \u001b[0mcookpad_raw_recipes_df\u001b[0m\u001b[1;33m[\u001b[0m\u001b[1;34m'ingredients'\u001b[0m\u001b[1;33m]\u001b[0m \u001b[1;33m=\u001b[0m \u001b[0mcookpad_raw_recipes_df\u001b[0m\u001b[1;33m.\u001b[0m\u001b[0mapply\u001b[0m\u001b[1;33m(\u001b[0m\u001b[1;32mlambda\u001b[0m \u001b[0mx\u001b[0m\u001b[1;33m:\u001b[0m \u001b[0mjson\u001b[0m\u001b[1;33m.\u001b[0m\u001b[0mloads\u001b[0m\u001b[1;33m(\u001b[0m\u001b[0mx\u001b[0m\u001b[1;33m[\u001b[0m\u001b[1;34m'ingredients'\u001b[0m\u001b[1;33m]\u001b[0m\u001b[1;33m)\u001b[0m\u001b[1;33m,\u001b[0m \u001b[0maxis\u001b[0m\u001b[1;33m=\u001b[0m\u001b[1;36m1\u001b[0m\u001b[1;33m)\u001b[0m\u001b[1;33m\u001b[0m\u001b[0m\n\u001b[0m\u001b[0;32m      2\u001b[0m \u001b[0mcookpad_raw_recipes_df\u001b[0m\u001b[1;33m[\u001b[0m\u001b[1;34m'techniques'\u001b[0m\u001b[1;33m]\u001b[0m \u001b[1;33m=\u001b[0m \u001b[0mcookpad_raw_recipes_df\u001b[0m\u001b[1;33m.\u001b[0m\u001b[0mapply\u001b[0m\u001b[1;33m(\u001b[0m\u001b[1;32mlambda\u001b[0m \u001b[0mx\u001b[0m\u001b[1;33m:\u001b[0m \u001b[0mjson\u001b[0m\u001b[1;33m.\u001b[0m\u001b[0mloads\u001b[0m\u001b[1;33m(\u001b[0m\u001b[0mx\u001b[0m\u001b[1;33m[\u001b[0m\u001b[1;34m'techniques'\u001b[0m\u001b[1;33m]\u001b[0m\u001b[1;33m)\u001b[0m\u001b[1;33m,\u001b[0m \u001b[0maxis\u001b[0m\u001b[1;33m=\u001b[0m\u001b[1;36m1\u001b[0m\u001b[1;33m)\u001b[0m\u001b[1;33m\u001b[0m\u001b[0m\n",
      "\u001b[1;32m/home/antonio/virtualenvs/elbulli/lib/python3.4/site-packages/pandas/core/frame.py\u001b[0m in \u001b[0;36mapply\u001b[1;34m(self, func, axis, broadcast, raw, reduce, args, **kwds)\u001b[0m\n\u001b[0;32m   4059\u001b[0m                     \u001b[1;32mif\u001b[0m \u001b[0mreduce\u001b[0m \u001b[1;32mis\u001b[0m \u001b[1;32mNone\u001b[0m\u001b[1;33m:\u001b[0m\u001b[1;33m\u001b[0m\u001b[0m\n\u001b[0;32m   4060\u001b[0m                         \u001b[0mreduce\u001b[0m \u001b[1;33m=\u001b[0m \u001b[1;32mTrue\u001b[0m\u001b[1;33m\u001b[0m\u001b[0m\n\u001b[1;32m-> 4061\u001b[1;33m                     \u001b[1;32mreturn\u001b[0m \u001b[0mself\u001b[0m\u001b[1;33m.\u001b[0m\u001b[0m_apply_standard\u001b[0m\u001b[1;33m(\u001b[0m\u001b[0mf\u001b[0m\u001b[1;33m,\u001b[0m \u001b[0maxis\u001b[0m\u001b[1;33m,\u001b[0m \u001b[0mreduce\u001b[0m\u001b[1;33m=\u001b[0m\u001b[0mreduce\u001b[0m\u001b[1;33m)\u001b[0m\u001b[1;33m\u001b[0m\u001b[0m\n\u001b[0m\u001b[0;32m   4062\u001b[0m             \u001b[1;32melse\u001b[0m\u001b[1;33m:\u001b[0m\u001b[1;33m\u001b[0m\u001b[0m\n\u001b[0;32m   4063\u001b[0m                 \u001b[1;32mreturn\u001b[0m \u001b[0mself\u001b[0m\u001b[1;33m.\u001b[0m\u001b[0m_apply_broadcast\u001b[0m\u001b[1;33m(\u001b[0m\u001b[0mf\u001b[0m\u001b[1;33m,\u001b[0m \u001b[0maxis\u001b[0m\u001b[1;33m)\u001b[0m\u001b[1;33m\u001b[0m\u001b[0m\n",
      "\u001b[1;32m/home/antonio/virtualenvs/elbulli/lib/python3.4/site-packages/pandas/core/frame.py\u001b[0m in \u001b[0;36m_apply_standard\u001b[1;34m(self, func, axis, ignore_failures, reduce)\u001b[0m\n\u001b[0;32m   4172\u001b[0m                 \u001b[0mindex\u001b[0m \u001b[1;33m=\u001b[0m \u001b[1;32mNone\u001b[0m\u001b[1;33m\u001b[0m\u001b[0m\n\u001b[0;32m   4173\u001b[0m \u001b[1;33m\u001b[0m\u001b[0m\n\u001b[1;32m-> 4174\u001b[1;33m             \u001b[0mresult\u001b[0m \u001b[1;33m=\u001b[0m \u001b[0mself\u001b[0m\u001b[1;33m.\u001b[0m\u001b[0m_constructor\u001b[0m\u001b[1;33m(\u001b[0m\u001b[0mdata\u001b[0m\u001b[1;33m=\u001b[0m\u001b[0mresults\u001b[0m\u001b[1;33m,\u001b[0m \u001b[0mindex\u001b[0m\u001b[1;33m=\u001b[0m\u001b[0mindex\u001b[0m\u001b[1;33m)\u001b[0m\u001b[1;33m\u001b[0m\u001b[0m\n\u001b[0m\u001b[0;32m   4175\u001b[0m             \u001b[0mresult\u001b[0m\u001b[1;33m.\u001b[0m\u001b[0mcolumns\u001b[0m \u001b[1;33m=\u001b[0m \u001b[0mres_index\u001b[0m\u001b[1;33m\u001b[0m\u001b[0m\n\u001b[0;32m   4176\u001b[0m \u001b[1;33m\u001b[0m\u001b[0m\n",
      "\u001b[1;32m/home/antonio/virtualenvs/elbulli/lib/python3.4/site-packages/pandas/core/frame.py\u001b[0m in \u001b[0;36m__init__\u001b[1;34m(self, data, index, columns, dtype, copy)\u001b[0m\n\u001b[0;32m    222\u001b[0m                                  dtype=dtype, copy=copy)\n\u001b[0;32m    223\u001b[0m         \u001b[1;32melif\u001b[0m \u001b[0misinstance\u001b[0m\u001b[1;33m(\u001b[0m\u001b[0mdata\u001b[0m\u001b[1;33m,\u001b[0m \u001b[0mdict\u001b[0m\u001b[1;33m)\u001b[0m\u001b[1;33m:\u001b[0m\u001b[1;33m\u001b[0m\u001b[0m\n\u001b[1;32m--> 224\u001b[1;33m             \u001b[0mmgr\u001b[0m \u001b[1;33m=\u001b[0m \u001b[0mself\u001b[0m\u001b[1;33m.\u001b[0m\u001b[0m_init_dict\u001b[0m\u001b[1;33m(\u001b[0m\u001b[0mdata\u001b[0m\u001b[1;33m,\u001b[0m \u001b[0mindex\u001b[0m\u001b[1;33m,\u001b[0m \u001b[0mcolumns\u001b[0m\u001b[1;33m,\u001b[0m \u001b[0mdtype\u001b[0m\u001b[1;33m=\u001b[0m\u001b[0mdtype\u001b[0m\u001b[1;33m)\u001b[0m\u001b[1;33m\u001b[0m\u001b[0m\n\u001b[0m\u001b[0;32m    225\u001b[0m         \u001b[1;32melif\u001b[0m \u001b[0misinstance\u001b[0m\u001b[1;33m(\u001b[0m\u001b[0mdata\u001b[0m\u001b[1;33m,\u001b[0m \u001b[0mma\u001b[0m\u001b[1;33m.\u001b[0m\u001b[0mMaskedArray\u001b[0m\u001b[1;33m)\u001b[0m\u001b[1;33m:\u001b[0m\u001b[1;33m\u001b[0m\u001b[0m\n\u001b[0;32m    226\u001b[0m             \u001b[1;32mimport\u001b[0m \u001b[0mnumpy\u001b[0m\u001b[1;33m.\u001b[0m\u001b[0mma\u001b[0m\u001b[1;33m.\u001b[0m\u001b[0mmrecords\u001b[0m \u001b[1;32mas\u001b[0m \u001b[0mmrecords\u001b[0m\u001b[1;33m\u001b[0m\u001b[0m\n",
      "\u001b[1;32m/home/antonio/virtualenvs/elbulli/lib/python3.4/site-packages/pandas/core/frame.py\u001b[0m in \u001b[0;36m_init_dict\u001b[1;34m(self, data, index, columns, dtype)\u001b[0m\n\u001b[0;32m    358\u001b[0m             \u001b[0marrays\u001b[0m \u001b[1;33m=\u001b[0m \u001b[1;33m[\u001b[0m\u001b[0mdata\u001b[0m\u001b[1;33m[\u001b[0m\u001b[0mk\u001b[0m\u001b[1;33m]\u001b[0m \u001b[1;32mfor\u001b[0m \u001b[0mk\u001b[0m \u001b[1;32min\u001b[0m \u001b[0mkeys\u001b[0m\u001b[1;33m]\u001b[0m\u001b[1;33m\u001b[0m\u001b[0m\n\u001b[0;32m    359\u001b[0m \u001b[1;33m\u001b[0m\u001b[0m\n\u001b[1;32m--> 360\u001b[1;33m         \u001b[1;32mreturn\u001b[0m \u001b[0m_arrays_to_mgr\u001b[0m\u001b[1;33m(\u001b[0m\u001b[0marrays\u001b[0m\u001b[1;33m,\u001b[0m \u001b[0mdata_names\u001b[0m\u001b[1;33m,\u001b[0m \u001b[0mindex\u001b[0m\u001b[1;33m,\u001b[0m \u001b[0mcolumns\u001b[0m\u001b[1;33m,\u001b[0m \u001b[0mdtype\u001b[0m\u001b[1;33m=\u001b[0m\u001b[0mdtype\u001b[0m\u001b[1;33m)\u001b[0m\u001b[1;33m\u001b[0m\u001b[0m\n\u001b[0m\u001b[0;32m    361\u001b[0m \u001b[1;33m\u001b[0m\u001b[0m\n\u001b[0;32m    362\u001b[0m     \u001b[1;32mdef\u001b[0m \u001b[0m_init_ndarray\u001b[0m\u001b[1;33m(\u001b[0m\u001b[0mself\u001b[0m\u001b[1;33m,\u001b[0m \u001b[0mvalues\u001b[0m\u001b[1;33m,\u001b[0m \u001b[0mindex\u001b[0m\u001b[1;33m,\u001b[0m \u001b[0mcolumns\u001b[0m\u001b[1;33m,\u001b[0m \u001b[0mdtype\u001b[0m\u001b[1;33m=\u001b[0m\u001b[1;32mNone\u001b[0m\u001b[1;33m,\u001b[0m \u001b[0mcopy\u001b[0m\u001b[1;33m=\u001b[0m\u001b[1;32mFalse\u001b[0m\u001b[1;33m)\u001b[0m\u001b[1;33m:\u001b[0m\u001b[1;33m\u001b[0m\u001b[0m\n",
      "\u001b[1;32m/home/antonio/virtualenvs/elbulli/lib/python3.4/site-packages/pandas/core/frame.py\u001b[0m in \u001b[0;36m_arrays_to_mgr\u001b[1;34m(arrays, arr_names, index, columns, dtype)\u001b[0m\n\u001b[0;32m   5239\u001b[0m     \u001b[0maxes\u001b[0m \u001b[1;33m=\u001b[0m \u001b[1;33m[\u001b[0m\u001b[0m_ensure_index\u001b[0m\u001b[1;33m(\u001b[0m\u001b[0mcolumns\u001b[0m\u001b[1;33m)\u001b[0m\u001b[1;33m,\u001b[0m \u001b[0m_ensure_index\u001b[0m\u001b[1;33m(\u001b[0m\u001b[0mindex\u001b[0m\u001b[1;33m)\u001b[0m\u001b[1;33m]\u001b[0m\u001b[1;33m\u001b[0m\u001b[0m\n\u001b[0;32m   5240\u001b[0m \u001b[1;33m\u001b[0m\u001b[0m\n\u001b[1;32m-> 5241\u001b[1;33m     \u001b[1;32mreturn\u001b[0m \u001b[0mcreate_block_manager_from_arrays\u001b[0m\u001b[1;33m(\u001b[0m\u001b[0marrays\u001b[0m\u001b[1;33m,\u001b[0m \u001b[0marr_names\u001b[0m\u001b[1;33m,\u001b[0m \u001b[0maxes\u001b[0m\u001b[1;33m)\u001b[0m\u001b[1;33m\u001b[0m\u001b[0m\n\u001b[0m\u001b[0;32m   5242\u001b[0m \u001b[1;33m\u001b[0m\u001b[0m\n\u001b[0;32m   5243\u001b[0m \u001b[1;33m\u001b[0m\u001b[0m\n",
      "\u001b[1;32m/home/antonio/virtualenvs/elbulli/lib/python3.4/site-packages/pandas/core/internals.py\u001b[0m in \u001b[0;36mcreate_block_manager_from_arrays\u001b[1;34m(arrays, names, axes)\u001b[0m\n\u001b[0;32m   4002\u001b[0m         \u001b[1;32mreturn\u001b[0m \u001b[0mmgr\u001b[0m\u001b[1;33m\u001b[0m\u001b[0m\n\u001b[0;32m   4003\u001b[0m     \u001b[1;32mexcept\u001b[0m \u001b[0mValueError\u001b[0m \u001b[1;32mas\u001b[0m \u001b[0me\u001b[0m\u001b[1;33m:\u001b[0m\u001b[1;33m\u001b[0m\u001b[0m\n\u001b[1;32m-> 4004\u001b[1;33m         \u001b[0mconstruction_error\u001b[0m\u001b[1;33m(\u001b[0m\u001b[0mlen\u001b[0m\u001b[1;33m(\u001b[0m\u001b[0marrays\u001b[0m\u001b[1;33m)\u001b[0m\u001b[1;33m,\u001b[0m \u001b[0marrays\u001b[0m\u001b[1;33m[\u001b[0m\u001b[1;36m0\u001b[0m\u001b[1;33m]\u001b[0m\u001b[1;33m.\u001b[0m\u001b[0mshape\u001b[0m\u001b[1;33m,\u001b[0m \u001b[0maxes\u001b[0m\u001b[1;33m,\u001b[0m \u001b[0me\u001b[0m\u001b[1;33m)\u001b[0m\u001b[1;33m\u001b[0m\u001b[0m\n\u001b[0m\u001b[0;32m   4005\u001b[0m \u001b[1;33m\u001b[0m\u001b[0m\n\u001b[0;32m   4006\u001b[0m \u001b[1;33m\u001b[0m\u001b[0m\n",
      "\u001b[1;32m/home/antonio/virtualenvs/elbulli/lib/python3.4/site-packages/pandas/core/internals.py\u001b[0m in \u001b[0;36mconstruction_error\u001b[1;34m(tot_items, block_shape, axes, e)\u001b[0m\n\u001b[0;32m   3964\u001b[0m     \u001b[0mimplied\u001b[0m \u001b[1;33m=\u001b[0m \u001b[0mtuple\u001b[0m\u001b[1;33m(\u001b[0m\u001b[0mmap\u001b[0m\u001b[1;33m(\u001b[0m\u001b[0mint\u001b[0m\u001b[1;33m,\u001b[0m \u001b[1;33m[\u001b[0m\u001b[0mlen\u001b[0m\u001b[1;33m(\u001b[0m\u001b[0max\u001b[0m\u001b[1;33m)\u001b[0m \u001b[1;32mfor\u001b[0m \u001b[0max\u001b[0m \u001b[1;32min\u001b[0m \u001b[0maxes\u001b[0m\u001b[1;33m]\u001b[0m\u001b[1;33m)\u001b[0m\u001b[1;33m)\u001b[0m\u001b[1;33m\u001b[0m\u001b[0m\n\u001b[0;32m   3965\u001b[0m     \u001b[1;32mif\u001b[0m \u001b[0mpassed\u001b[0m \u001b[1;33m==\u001b[0m \u001b[0mimplied\u001b[0m \u001b[1;32mand\u001b[0m \u001b[0me\u001b[0m \u001b[1;32mis\u001b[0m \u001b[1;32mnot\u001b[0m \u001b[1;32mNone\u001b[0m\u001b[1;33m:\u001b[0m\u001b[1;33m\u001b[0m\u001b[0m\n\u001b[1;32m-> 3966\u001b[1;33m         \u001b[1;32mraise\u001b[0m \u001b[0me\u001b[0m\u001b[1;33m\u001b[0m\u001b[0m\n\u001b[0m\u001b[0;32m   3967\u001b[0m     \u001b[1;32mif\u001b[0m \u001b[0mblock_shape\u001b[0m\u001b[1;33m[\u001b[0m\u001b[1;36m0\u001b[0m\u001b[1;33m]\u001b[0m \u001b[1;33m==\u001b[0m \u001b[1;36m0\u001b[0m\u001b[1;33m:\u001b[0m\u001b[1;33m\u001b[0m\u001b[0m\n\u001b[0;32m   3968\u001b[0m         \u001b[1;32mraise\u001b[0m \u001b[0mValueError\u001b[0m\u001b[1;33m(\u001b[0m\u001b[1;34m\"Empty data passed with indices specified.\"\u001b[0m\u001b[1;33m)\u001b[0m\u001b[1;33m\u001b[0m\u001b[0m\n",
      "\u001b[1;32m/home/antonio/virtualenvs/elbulli/lib/python3.4/site-packages/pandas/core/internals.py\u001b[0m in \u001b[0;36mcreate_block_manager_from_arrays\u001b[1;34m(arrays, names, axes)\u001b[0m\n\u001b[0;32m   3997\u001b[0m \u001b[1;33m\u001b[0m\u001b[0m\n\u001b[0;32m   3998\u001b[0m     \u001b[1;32mtry\u001b[0m\u001b[1;33m:\u001b[0m\u001b[1;33m\u001b[0m\u001b[0m\n\u001b[1;32m-> 3999\u001b[1;33m         \u001b[0mblocks\u001b[0m \u001b[1;33m=\u001b[0m \u001b[0mform_blocks\u001b[0m\u001b[1;33m(\u001b[0m\u001b[0marrays\u001b[0m\u001b[1;33m,\u001b[0m \u001b[0mnames\u001b[0m\u001b[1;33m,\u001b[0m \u001b[0maxes\u001b[0m\u001b[1;33m)\u001b[0m\u001b[1;33m\u001b[0m\u001b[0m\n\u001b[0m\u001b[0;32m   4000\u001b[0m         \u001b[0mmgr\u001b[0m \u001b[1;33m=\u001b[0m \u001b[0mBlockManager\u001b[0m\u001b[1;33m(\u001b[0m\u001b[0mblocks\u001b[0m\u001b[1;33m,\u001b[0m \u001b[0maxes\u001b[0m\u001b[1;33m)\u001b[0m\u001b[1;33m\u001b[0m\u001b[0m\n\u001b[0;32m   4001\u001b[0m         \u001b[0mmgr\u001b[0m\u001b[1;33m.\u001b[0m\u001b[0m_consolidate_inplace\u001b[0m\u001b[1;33m(\u001b[0m\u001b[1;33m)\u001b[0m\u001b[1;33m\u001b[0m\u001b[0m\n",
      "\u001b[1;32m/home/antonio/virtualenvs/elbulli/lib/python3.4/site-packages/pandas/core/internals.py\u001b[0m in \u001b[0;36mform_blocks\u001b[1;34m(arrays, names, axes)\u001b[0m\n\u001b[0;32m   4094\u001b[0m \u001b[1;33m\u001b[0m\u001b[0m\n\u001b[0;32m   4095\u001b[0m     \u001b[1;32mif\u001b[0m \u001b[0mlen\u001b[0m\u001b[1;33m(\u001b[0m\u001b[0mobject_items\u001b[0m\u001b[1;33m)\u001b[0m \u001b[1;33m>\u001b[0m \u001b[1;36m0\u001b[0m\u001b[1;33m:\u001b[0m\u001b[1;33m\u001b[0m\u001b[0m\n\u001b[1;32m-> 4096\u001b[1;33m         \u001b[0mobject_blocks\u001b[0m \u001b[1;33m=\u001b[0m \u001b[0m_simple_blockify\u001b[0m\u001b[1;33m(\u001b[0m\u001b[0mobject_items\u001b[0m\u001b[1;33m,\u001b[0m \u001b[0mnp\u001b[0m\u001b[1;33m.\u001b[0m\u001b[0mobject_\u001b[0m\u001b[1;33m)\u001b[0m\u001b[1;33m\u001b[0m\u001b[0m\n\u001b[0m\u001b[0;32m   4097\u001b[0m         \u001b[0mblocks\u001b[0m\u001b[1;33m.\u001b[0m\u001b[0mextend\u001b[0m\u001b[1;33m(\u001b[0m\u001b[0mobject_blocks\u001b[0m\u001b[1;33m)\u001b[0m\u001b[1;33m\u001b[0m\u001b[0m\n\u001b[0;32m   4098\u001b[0m \u001b[1;33m\u001b[0m\u001b[0m\n",
      "\u001b[1;32m/home/antonio/virtualenvs/elbulli/lib/python3.4/site-packages/pandas/core/internals.py\u001b[0m in \u001b[0;36m_simple_blockify\u001b[1;34m(tuples, dtype)\u001b[0m\n\u001b[0;32m   4124\u001b[0m     \u001b[1;32mnot\u001b[0m \u001b[1;32mNone\u001b[0m\u001b[1;33m,\u001b[0m \u001b[0mcoerce\u001b[0m \u001b[0mto\u001b[0m \u001b[0mthis\u001b[0m \u001b[0mdtype\u001b[0m\u001b[1;33m\u001b[0m\u001b[0m\n\u001b[0;32m   4125\u001b[0m     \"\"\"\n\u001b[1;32m-> 4126\u001b[1;33m     \u001b[0mvalues\u001b[0m\u001b[1;33m,\u001b[0m \u001b[0mplacement\u001b[0m \u001b[1;33m=\u001b[0m \u001b[0m_stack_arrays\u001b[0m\u001b[1;33m(\u001b[0m\u001b[0mtuples\u001b[0m\u001b[1;33m,\u001b[0m \u001b[0mdtype\u001b[0m\u001b[1;33m)\u001b[0m\u001b[1;33m\u001b[0m\u001b[0m\n\u001b[0m\u001b[0;32m   4127\u001b[0m \u001b[1;33m\u001b[0m\u001b[0m\n\u001b[0;32m   4128\u001b[0m     \u001b[1;31m# CHECK DTYPE?\u001b[0m\u001b[1;33m\u001b[0m\u001b[1;33m\u001b[0m\u001b[0m\n",
      "\u001b[1;32m/home/antonio/virtualenvs/elbulli/lib/python3.4/site-packages/pandas/core/internals.py\u001b[0m in \u001b[0;36m_stack_arrays\u001b[1;34m(tuples, dtype)\u001b[0m\n\u001b[0;32m   4188\u001b[0m     \u001b[0mstacked\u001b[0m \u001b[1;33m=\u001b[0m \u001b[0mnp\u001b[0m\u001b[1;33m.\u001b[0m\u001b[0mempty\u001b[0m\u001b[1;33m(\u001b[0m\u001b[0mshape\u001b[0m\u001b[1;33m,\u001b[0m \u001b[0mdtype\u001b[0m\u001b[1;33m=\u001b[0m\u001b[0mdtype\u001b[0m\u001b[1;33m)\u001b[0m\u001b[1;33m\u001b[0m\u001b[0m\n\u001b[0;32m   4189\u001b[0m     \u001b[1;32mfor\u001b[0m \u001b[0mi\u001b[0m\u001b[1;33m,\u001b[0m \u001b[0marr\u001b[0m \u001b[1;32min\u001b[0m \u001b[0menumerate\u001b[0m\u001b[1;33m(\u001b[0m\u001b[0marrays\u001b[0m\u001b[1;33m)\u001b[0m\u001b[1;33m:\u001b[0m\u001b[1;33m\u001b[0m\u001b[0m\n\u001b[1;32m-> 4190\u001b[1;33m         \u001b[0mstacked\u001b[0m\u001b[1;33m[\u001b[0m\u001b[0mi\u001b[0m\u001b[1;33m]\u001b[0m \u001b[1;33m=\u001b[0m \u001b[0m_asarray_compat\u001b[0m\u001b[1;33m(\u001b[0m\u001b[0marr\u001b[0m\u001b[1;33m)\u001b[0m\u001b[1;33m\u001b[0m\u001b[0m\n\u001b[0m\u001b[0;32m   4191\u001b[0m \u001b[1;33m\u001b[0m\u001b[0m\n\u001b[0;32m   4192\u001b[0m     \u001b[1;32mreturn\u001b[0m \u001b[0mstacked\u001b[0m\u001b[1;33m,\u001b[0m \u001b[0mplacement\u001b[0m\u001b[1;33m\u001b[0m\u001b[0m\n",
      "\u001b[1;31mValueError\u001b[0m: could not broadcast input array from shape (9) into shape (6)"
     ]
    }
   ],
   "source": [
    "cookpad_repr_recipes_df['ingredients'] = cookpad_repr_recipes_df.apply(lambda x: json.loads(x['ingredients']), axis=1)\n",
    "cookpad_repr_recipes_df['techniques'] = cookpad_repr_recipes_df.apply(lambda x: json.loads(x['techniques']), axis=1)"
   ]
  },
  {
   "cell_type": "code",
   "execution_count": null,
   "metadata": {
    "collapsed": false
   },
   "outputs": [],
   "source": [
    "cookpad_repr_recipes_df.head()"
   ]
  },
  {
   "cell_type": "code",
   "execution_count": 4,
   "metadata": {
    "collapsed": true
   },
   "outputs": [],
   "source": [
    "cookpad_repr_recipes_df['creativity'] = cookpad_repr_recipes_df.apply(\n",
    "    lambda x: 0, axis=1)"
   ]
  },
  {
   "cell_type": "code",
   "execution_count": 5,
   "metadata": {
    "collapsed": false,
    "scrolled": true
   },
   "outputs": [
    {
     "data": {
      "text/html": [
       "<div>\n",
       "<table border=\"1\" class=\"dataframe\">\n",
       "  <thead>\n",
       "    <tr style=\"text-align: right;\">\n",
       "      <th></th>\n",
       "      <th>_id</th>\n",
       "      <th>title</th>\n",
       "      <th>year</th>\n",
       "      <th>ingredients</th>\n",
       "      <th>techniques</th>\n",
       "      <th>creativity</th>\n",
       "    </tr>\n",
       "  </thead>\n",
       "  <tbody>\n",
       "    <tr>\n",
       "      <th>0</th>\n",
       "      <td>1</td>\n",
       "      <td>terrina de melón con gelée de oporto</td>\n",
       "      <td>1987</td>\n",
       "      <td>[\"aceite de oliva\",\"agua\",\"gelatina de oporto\"...</td>\n",
       "      <td>[\"agua\"]</td>\n",
       "      <td>10</td>\n",
       "    </tr>\n",
       "    <tr>\n",
       "      <th>1</th>\n",
       "      <td>10</td>\n",
       "      <td>salmonetes Gaudí</td>\n",
       "      <td>1987</td>\n",
       "      <td>[\"aceite de oliva\",\"anchoa en aceite\",\"calabac...</td>\n",
       "      <td>[\"agua\",\"brunoise\",\"cocción\",\"hervir\",\"horno\",...</td>\n",
       "      <td>10</td>\n",
       "    </tr>\n",
       "    <tr>\n",
       "      <th>2</th>\n",
       "      <td>100</td>\n",
       "      <td>oursins</td>\n",
       "      <td>1990</td>\n",
       "      <td>[\"avellanas tostadas\",\"azúcar\",\"cacao en polvo...</td>\n",
       "      <td>[\"horno\",\"secar\"]</td>\n",
       "      <td>10</td>\n",
       "    </tr>\n",
       "    <tr>\n",
       "      <th>3</th>\n",
       "      <td>1000</td>\n",
       "      <td>ravioli sférico de té con cubo helado de limón</td>\n",
       "      <td>2004</td>\n",
       "      <td>[\"agua\",\"alginato sódico\",\"azúcar\",\"infusión\",...</td>\n",
       "      <td>[\"agua\",\"min\"]</td>\n",
       "      <td>30</td>\n",
       "    </tr>\n",
       "    <tr>\n",
       "      <th>4</th>\n",
       "      <td>1001</td>\n",
       "      <td>ceps en ámbar de su caldo</td>\n",
       "      <td>2004</td>\n",
       "      <td>[\"aceite de girasol\",\"aceite de oliva\",\"agua\",...</td>\n",
       "      <td>[\"agua\",\"cazuela\",\"confitar\",\"conservar\",\"esca...</td>\n",
       "      <td>30</td>\n",
       "    </tr>\n",
       "  </tbody>\n",
       "</table>\n",
       "</div>"
      ],
      "text/plain": [
       "    _id                                           title  year  \\\n",
       "0     1            terrina de melón con gelée de oporto  1987   \n",
       "1    10                                salmonetes Gaudí  1987   \n",
       "2   100                                         oursins  1990   \n",
       "3  1000  ravioli sférico de té con cubo helado de limón  2004   \n",
       "4  1001                       ceps en ámbar de su caldo  2004   \n",
       "\n",
       "                                         ingredients  \\\n",
       "0  [\"aceite de oliva\",\"agua\",\"gelatina de oporto\"...   \n",
       "1  [\"aceite de oliva\",\"anchoa en aceite\",\"calabac...   \n",
       "2  [\"avellanas tostadas\",\"azúcar\",\"cacao en polvo...   \n",
       "3  [\"agua\",\"alginato sódico\",\"azúcar\",\"infusión\",...   \n",
       "4  [\"aceite de girasol\",\"aceite de oliva\",\"agua\",...   \n",
       "\n",
       "                                          techniques  creativity  \n",
       "0                                           [\"agua\"]          10  \n",
       "1  [\"agua\",\"brunoise\",\"cocción\",\"hervir\",\"horno\",...          10  \n",
       "2                                  [\"horno\",\"secar\"]          10  \n",
       "3                                     [\"agua\",\"min\"]          30  \n",
       "4  [\"agua\",\"cazuela\",\"confitar\",\"conservar\",\"esca...          30  "
      ]
     },
     "execution_count": 5,
     "metadata": {},
     "output_type": "execute_result"
    }
   ],
   "source": [
    "cookpad_repr_recipes_df.head()"
   ]
  },
  {
   "cell_type": "markdown",
   "metadata": {},
   "source": [
    "### elbulli & cookpad"
   ]
  },
  {
   "cell_type": "code",
   "execution_count": 17,
   "metadata": {
    "collapsed": true
   },
   "outputs": [],
   "source": [
    "repr_recipes_df = elbulli_repr_recipes_df.append(cookpad_repr_recipes_df)"
   ]
  },
  {
   "cell_type": "code",
   "execution_count": 19,
   "metadata": {
    "collapsed": false,
    "scrolled": true
   },
   "outputs": [
    {
     "data": {
      "text/html": [
       "<div>\n",
       "<table border=\"1\" class=\"dataframe\">\n",
       "  <thead>\n",
       "    <tr style=\"text-align: right;\">\n",
       "      <th></th>\n",
       "      <th>_id</th>\n",
       "      <th>cuisine</th>\n",
       "      <th>ingredients</th>\n",
       "      <th>techniques</th>\n",
       "      <th>title</th>\n",
       "      <th>year</th>\n",
       "    </tr>\n",
       "  </thead>\n",
       "  <tbody>\n",
       "    <tr>\n",
       "      <th>0</th>\n",
       "      <td>1</td>\n",
       "      <td>NaN</td>\n",
       "      <td>[\"hojas de gelatina\",\"pimienta blanca\",\"oporto...</td>\n",
       "      <td>[\"agua\"]</td>\n",
       "      <td>terrina de melón con gelée de oporto</td>\n",
       "      <td>1987</td>\n",
       "    </tr>\n",
       "    <tr>\n",
       "      <th>1</th>\n",
       "      <td>10</td>\n",
       "      <td>NaN</td>\n",
       "      <td>[\"vinagre balsámico\",\"pimienta negra\",\"orégano...</td>\n",
       "      <td>[\"en agua\",\"puré\",\"cocción\",\"asar\",\"horno\",\"as...</td>\n",
       "      <td>salmonetes Gaudí</td>\n",
       "      <td>1987</td>\n",
       "    </tr>\n",
       "    <tr>\n",
       "      <th>2</th>\n",
       "      <td>100</td>\n",
       "      <td>NaN</td>\n",
       "      <td>[\"avellanas tostadas\",\"chocolate\",\"claras de h...</td>\n",
       "      <td>[\"horno\",\"secar\",\"al horno\"]</td>\n",
       "      <td>oursins</td>\n",
       "      <td>1990</td>\n",
       "    </tr>\n",
       "    <tr>\n",
       "      <th>3</th>\n",
       "      <td>1000</td>\n",
       "      <td>NaN</td>\n",
       "      <td>[\"limón\",\"agua\",\"alginato sódico\",\"infusión de...</td>\n",
       "      <td>[\"fría\",\"agua\"]</td>\n",
       "      <td>ravioli sférico de té con cubo helado de limón</td>\n",
       "      <td>2004</td>\n",
       "    </tr>\n",
       "    <tr>\n",
       "      <th>4</th>\n",
       "      <td>1001</td>\n",
       "      <td>NaN</td>\n",
       "      <td>[\"pimienta negra\",\"láminas de ceps\",\"ceps\",\"ca...</td>\n",
       "      <td>[\"en agua\",\"hervido\",\"a fuego lento\",\"cocer\",\"...</td>\n",
       "      <td>ceps en ámbar de su caldo</td>\n",
       "      <td>2004</td>\n",
       "    </tr>\n",
       "  </tbody>\n",
       "</table>\n",
       "</div>"
      ],
      "text/plain": [
       "    _id cuisine                                        ingredients  \\\n",
       "0     1     NaN  [\"hojas de gelatina\",\"pimienta blanca\",\"oporto...   \n",
       "1    10     NaN  [\"vinagre balsámico\",\"pimienta negra\",\"orégano...   \n",
       "2   100     NaN  [\"avellanas tostadas\",\"chocolate\",\"claras de h...   \n",
       "3  1000     NaN  [\"limón\",\"agua\",\"alginato sódico\",\"infusión de...   \n",
       "4  1001     NaN  [\"pimienta negra\",\"láminas de ceps\",\"ceps\",\"ca...   \n",
       "\n",
       "                                          techniques  \\\n",
       "0                                           [\"agua\"]   \n",
       "1  [\"en agua\",\"puré\",\"cocción\",\"asar\",\"horno\",\"as...   \n",
       "2                       [\"horno\",\"secar\",\"al horno\"]   \n",
       "3                                    [\"fría\",\"agua\"]   \n",
       "4  [\"en agua\",\"hervido\",\"a fuego lento\",\"cocer\",\"...   \n",
       "\n",
       "                                            title  year  \n",
       "0            terrina de melón con gelée de oporto  1987  \n",
       "1                                salmonetes Gaudí  1987  \n",
       "2                                         oursins  1990  \n",
       "3  ravioli sférico de té con cubo helado de limón  2004  \n",
       "4                       ceps en ámbar de su caldo  2004  "
      ]
     },
     "execution_count": 19,
     "metadata": {},
     "output_type": "execute_result"
    }
   ],
   "source": [
    "repr_recipes_df.head()"
   ]
  },
  {
   "cell_type": "code",
   "execution_count": null,
   "metadata": {
    "collapsed": true
   },
   "outputs": [],
   "source": []
  },
  {
   "cell_type": "code",
   "execution_count": null,
   "metadata": {
    "collapsed": true
   },
   "outputs": [],
   "source": []
  },
  {
   "cell_type": "markdown",
   "metadata": {},
   "source": [
    "## Superclasses of ingredients and techniques"
   ]
  },
  {
   "cell_type": "markdown",
   "metadata": {},
   "source": [
    "### elbulli"
   ]
  },
  {
   "cell_type": "code",
   "execution_count": 2,
   "metadata": {
    "collapsed": false
   },
   "outputs": [],
   "source": [
    "elbulli_super_recipes_df = pd.read_csv('data/recipes_elbulli_superclasses.csv')"
   ]
  },
  {
   "cell_type": "code",
   "execution_count": 3,
   "metadata": {
    "collapsed": false
   },
   "outputs": [
    {
     "data": {
      "text/plain": [
       "_id             int64\n",
       "title          object\n",
       "year            int64\n",
       "ingredients    object\n",
       "techniques     object\n",
       "dtype: object"
      ]
     },
     "execution_count": 3,
     "metadata": {},
     "output_type": "execute_result"
    }
   ],
   "source": [
    "elbulli_super_recipes_df.dtypes"
   ]
  },
  {
   "cell_type": "code",
   "execution_count": 4,
   "metadata": {
    "collapsed": false
   },
   "outputs": [
    {
     "data": {
      "text/html": [
       "<div>\n",
       "<table border=\"1\" class=\"dataframe\">\n",
       "  <thead>\n",
       "    <tr style=\"text-align: right;\">\n",
       "      <th></th>\n",
       "      <th>_id</th>\n",
       "      <th>title</th>\n",
       "      <th>year</th>\n",
       "      <th>ingredients</th>\n",
       "      <th>techniques</th>\n",
       "    </tr>\n",
       "  </thead>\n",
       "  <tbody>\n",
       "    <tr>\n",
       "      <th>0</th>\n",
       "      <td>1</td>\n",
       "      <td>terrina de melón con gelée de oporto</td>\n",
       "      <td>1987</td>\n",
       "      <td>[\"hojas de gelatina\",\"pimienta blanca\",\"oporto...</td>\n",
       "      <td>[\"agua\"]</td>\n",
       "    </tr>\n",
       "    <tr>\n",
       "      <th>1</th>\n",
       "      <td>10</td>\n",
       "      <td>salmonetes Gaudí</td>\n",
       "      <td>1987</td>\n",
       "      <td>[\"vinagre balsámico\",\"pimienta negra\",\"orégano...</td>\n",
       "      <td>[\"en agua\",\"puré\",\"cocción\",\"asar\",\"horno\",\"as...</td>\n",
       "    </tr>\n",
       "    <tr>\n",
       "      <th>2</th>\n",
       "      <td>100</td>\n",
       "      <td>oursins</td>\n",
       "      <td>1990</td>\n",
       "      <td>[\"avellanas tostadas\",\"chocolate\",\"claras de h...</td>\n",
       "      <td>[\"horno\",\"secar\",\"al horno\"]</td>\n",
       "    </tr>\n",
       "    <tr>\n",
       "      <th>3</th>\n",
       "      <td>1000</td>\n",
       "      <td>ravioli sférico de té con cubo helado de limón</td>\n",
       "      <td>2004</td>\n",
       "      <td>[\"limón\",\"agua\",\"alginato sódico\",\"infusión de...</td>\n",
       "      <td>[\"fría\",\"agua\"]</td>\n",
       "    </tr>\n",
       "    <tr>\n",
       "      <th>4</th>\n",
       "      <td>1001</td>\n",
       "      <td>ceps en ámbar de su caldo</td>\n",
       "      <td>2004</td>\n",
       "      <td>[\"pimienta negra\",\"láminas de ceps\",\"ceps\",\"ca...</td>\n",
       "      <td>[\"en agua\",\"hervido\",\"a fuego lento\",\"cocer\",\"...</td>\n",
       "    </tr>\n",
       "  </tbody>\n",
       "</table>\n",
       "</div>"
      ],
      "text/plain": [
       "    _id                                           title  year  \\\n",
       "0     1            terrina de melón con gelée de oporto  1987   \n",
       "1    10                                salmonetes Gaudí  1987   \n",
       "2   100                                         oursins  1990   \n",
       "3  1000  ravioli sférico de té con cubo helado de limón  2004   \n",
       "4  1001                       ceps en ámbar de su caldo  2004   \n",
       "\n",
       "                                         ingredients  \\\n",
       "0  [\"hojas de gelatina\",\"pimienta blanca\",\"oporto...   \n",
       "1  [\"vinagre balsámico\",\"pimienta negra\",\"orégano...   \n",
       "2  [\"avellanas tostadas\",\"chocolate\",\"claras de h...   \n",
       "3  [\"limón\",\"agua\",\"alginato sódico\",\"infusión de...   \n",
       "4  [\"pimienta negra\",\"láminas de ceps\",\"ceps\",\"ca...   \n",
       "\n",
       "                                          techniques  \n",
       "0                                           [\"agua\"]  \n",
       "1  [\"en agua\",\"puré\",\"cocción\",\"asar\",\"horno\",\"as...  \n",
       "2                       [\"horno\",\"secar\",\"al horno\"]  \n",
       "3                                    [\"fría\",\"agua\"]  \n",
       "4  [\"en agua\",\"hervido\",\"a fuego lento\",\"cocer\",\"...  "
      ]
     },
     "execution_count": 4,
     "metadata": {},
     "output_type": "execute_result"
    }
   ],
   "source": [
    "elbulli_super_recipes_df.head()"
   ]
  },
  {
   "cell_type": "code",
   "execution_count": 6,
   "metadata": {
    "collapsed": false
   },
   "outputs": [],
   "source": [
    "elbulli_super_recipes_df['ingredients'] = elbulli_super_recipes_df.apply(lambda x: json.loads(x['ingredients']), axis=1)\n",
    "elbulli_super_recipes_df['techniques'] = elbulli_super_recipes_df.apply(lambda x: json.loads(x['techniques']), axis=1)"
   ]
  },
  {
   "cell_type": "code",
   "execution_count": 7,
   "metadata": {
    "collapsed": false
   },
   "outputs": [
    {
     "data": {
      "text/html": [
       "<div>\n",
       "<table border=\"1\" class=\"dataframe\">\n",
       "  <thead>\n",
       "    <tr style=\"text-align: right;\">\n",
       "      <th></th>\n",
       "      <th>_id</th>\n",
       "      <th>title</th>\n",
       "      <th>year</th>\n",
       "      <th>ingredients</th>\n",
       "      <th>techniques</th>\n",
       "      <th>creativity</th>\n",
       "    </tr>\n",
       "  </thead>\n",
       "  <tbody>\n",
       "    <tr>\n",
       "      <th>0</th>\n",
       "      <td>1</td>\n",
       "      <td>terrina de melón con gelée de oporto</td>\n",
       "      <td>1987</td>\n",
       "      <td>[aceite de oliva, agua, gelatina de oporto, ho...</td>\n",
       "      <td>[agua]</td>\n",
       "      <td>10</td>\n",
       "    </tr>\n",
       "    <tr>\n",
       "      <th>1</th>\n",
       "      <td>10</td>\n",
       "      <td>salmonetes Gaudí</td>\n",
       "      <td>1987</td>\n",
       "      <td>[aceite de oliva, anchoa en aceite, calabacín,...</td>\n",
       "      <td>[agua, brunoise, cocción, hervir, horno, marca...</td>\n",
       "      <td>10</td>\n",
       "    </tr>\n",
       "    <tr>\n",
       "      <th>2</th>\n",
       "      <td>100</td>\n",
       "      <td>oursins</td>\n",
       "      <td>1990</td>\n",
       "      <td>[avellanas tostadas, azúcar, cacao en polvo, c...</td>\n",
       "      <td>[horno, secar]</td>\n",
       "      <td>10</td>\n",
       "    </tr>\n",
       "    <tr>\n",
       "      <th>3</th>\n",
       "      <td>1000</td>\n",
       "      <td>ravioli sférico de té con cubo helado de limón</td>\n",
       "      <td>2004</td>\n",
       "      <td>[agua, alginato sódico, azúcar, infusión, limó...</td>\n",
       "      <td>[agua, min]</td>\n",
       "      <td>30</td>\n",
       "    </tr>\n",
       "    <tr>\n",
       "      <th>4</th>\n",
       "      <td>1001</td>\n",
       "      <td>ceps en ámbar de su caldo</td>\n",
       "      <td>2004</td>\n",
       "      <td>[aceite de girasol, aceite de oliva, agua, ajo...</td>\n",
       "      <td>[agua, cazuela, confitar, conservar, escaldar,...</td>\n",
       "      <td>30</td>\n",
       "    </tr>\n",
       "  </tbody>\n",
       "</table>\n",
       "</div>"
      ],
      "text/plain": [
       "    _id                                           title  year  \\\n",
       "0     1            terrina de melón con gelée de oporto  1987   \n",
       "1    10                                salmonetes Gaudí  1987   \n",
       "2   100                                         oursins  1990   \n",
       "3  1000  ravioli sférico de té con cubo helado de limón  2004   \n",
       "4  1001                       ceps en ámbar de su caldo  2004   \n",
       "\n",
       "                                         ingredients  \\\n",
       "0  [aceite de oliva, agua, gelatina de oporto, ho...   \n",
       "1  [aceite de oliva, anchoa en aceite, calabacín,...   \n",
       "2  [avellanas tostadas, azúcar, cacao en polvo, c...   \n",
       "3  [agua, alginato sódico, azúcar, infusión, limó...   \n",
       "4  [aceite de girasol, aceite de oliva, agua, ajo...   \n",
       "\n",
       "                                          techniques  creativity  \n",
       "0                                             [agua]          10  \n",
       "1  [agua, brunoise, cocción, hervir, horno, marca...          10  \n",
       "2                                     [horno, secar]          10  \n",
       "3                                        [agua, min]          30  \n",
       "4  [agua, cazuela, confitar, conservar, escaldar,...          30  "
      ]
     },
     "execution_count": 7,
     "metadata": {},
     "output_type": "execute_result"
    }
   ],
   "source": [
    "elbulli_super_recipes_df.head()"
   ]
  },
  {
   "cell_type": "code",
   "execution_count": 4,
   "metadata": {
    "collapsed": true
   },
   "outputs": [],
   "source": [
    "elbulli_super_recipes_df['creativity'] = elbulli_super_recipes_df.apply(\n",
    "    lambda x: 10 if 1987 <= x['year'] <= 1997 else \\\n",
    "              20 if 1998 <= x['year'] <= 2001 else \\\n",
    "              30 if 2002 <= x['year'] <= 2005 else \\\n",
    "              'UNKOWN', axis=1)"
   ]
  },
  {
   "cell_type": "code",
   "execution_count": 5,
   "metadata": {
    "collapsed": false,
    "scrolled": true
   },
   "outputs": [
    {
     "data": {
      "text/html": [
       "<div>\n",
       "<table border=\"1\" class=\"dataframe\">\n",
       "  <thead>\n",
       "    <tr style=\"text-align: right;\">\n",
       "      <th></th>\n",
       "      <th>_id</th>\n",
       "      <th>title</th>\n",
       "      <th>year</th>\n",
       "      <th>ingredients</th>\n",
       "      <th>techniques</th>\n",
       "      <th>creativity</th>\n",
       "    </tr>\n",
       "  </thead>\n",
       "  <tbody>\n",
       "    <tr>\n",
       "      <th>0</th>\n",
       "      <td>1</td>\n",
       "      <td>terrina de melón con gelée de oporto</td>\n",
       "      <td>1987</td>\n",
       "      <td>[\"aceite de oliva\",\"agua\",\"gelatina de oporto\"...</td>\n",
       "      <td>[\"agua\"]</td>\n",
       "      <td>10</td>\n",
       "    </tr>\n",
       "    <tr>\n",
       "      <th>1</th>\n",
       "      <td>10</td>\n",
       "      <td>salmonetes Gaudí</td>\n",
       "      <td>1987</td>\n",
       "      <td>[\"aceite de oliva\",\"anchoa en aceite\",\"calabac...</td>\n",
       "      <td>[\"agua\",\"brunoise\",\"cocción\",\"hervir\",\"horno\",...</td>\n",
       "      <td>10</td>\n",
       "    </tr>\n",
       "    <tr>\n",
       "      <th>2</th>\n",
       "      <td>100</td>\n",
       "      <td>oursins</td>\n",
       "      <td>1990</td>\n",
       "      <td>[\"avellanas tostadas\",\"azúcar\",\"cacao en polvo...</td>\n",
       "      <td>[\"horno\",\"secar\"]</td>\n",
       "      <td>10</td>\n",
       "    </tr>\n",
       "    <tr>\n",
       "      <th>3</th>\n",
       "      <td>1000</td>\n",
       "      <td>ravioli sférico de té con cubo helado de limón</td>\n",
       "      <td>2004</td>\n",
       "      <td>[\"agua\",\"alginato sódico\",\"azúcar\",\"infusión\",...</td>\n",
       "      <td>[\"agua\",\"min\"]</td>\n",
       "      <td>30</td>\n",
       "    </tr>\n",
       "    <tr>\n",
       "      <th>4</th>\n",
       "      <td>1001</td>\n",
       "      <td>ceps en ámbar de su caldo</td>\n",
       "      <td>2004</td>\n",
       "      <td>[\"aceite de girasol\",\"aceite de oliva\",\"agua\",...</td>\n",
       "      <td>[\"agua\",\"cazuela\",\"confitar\",\"conservar\",\"esca...</td>\n",
       "      <td>30</td>\n",
       "    </tr>\n",
       "  </tbody>\n",
       "</table>\n",
       "</div>"
      ],
      "text/plain": [
       "    _id                                           title  year  \\\n",
       "0     1            terrina de melón con gelée de oporto  1987   \n",
       "1    10                                salmonetes Gaudí  1987   \n",
       "2   100                                         oursins  1990   \n",
       "3  1000  ravioli sférico de té con cubo helado de limón  2004   \n",
       "4  1001                       ceps en ámbar de su caldo  2004   \n",
       "\n",
       "                                         ingredients  \\\n",
       "0  [\"aceite de oliva\",\"agua\",\"gelatina de oporto\"...   \n",
       "1  [\"aceite de oliva\",\"anchoa en aceite\",\"calabac...   \n",
       "2  [\"avellanas tostadas\",\"azúcar\",\"cacao en polvo...   \n",
       "3  [\"agua\",\"alginato sódico\",\"azúcar\",\"infusión\",...   \n",
       "4  [\"aceite de girasol\",\"aceite de oliva\",\"agua\",...   \n",
       "\n",
       "                                          techniques  creativity  \n",
       "0                                           [\"agua\"]          10  \n",
       "1  [\"agua\",\"brunoise\",\"cocción\",\"hervir\",\"horno\",...          10  \n",
       "2                                  [\"horno\",\"secar\"]          10  \n",
       "3                                     [\"agua\",\"min\"]          30  \n",
       "4  [\"agua\",\"cazuela\",\"confitar\",\"conservar\",\"esca...          30  "
      ]
     },
     "execution_count": 5,
     "metadata": {},
     "output_type": "execute_result"
    }
   ],
   "source": [
    "elbulli_super_recipes_df.head()"
   ]
  },
  {
   "cell_type": "markdown",
   "metadata": {},
   "source": [
    "### cookpad"
   ]
  },
  {
   "cell_type": "code",
   "execution_count": 20,
   "metadata": {
    "collapsed": false
   },
   "outputs": [],
   "source": [
    "cookpad_super_recipes_df = pd.read_csv('data/recipes_cookpad_superclasses.csv')"
   ]
  },
  {
   "cell_type": "code",
   "execution_count": 21,
   "metadata": {
    "collapsed": false
   },
   "outputs": [
    {
     "data": {
      "text/plain": [
       "_id             int64\n",
       "title          object\n",
       "cuisine        object\n",
       "year            int64\n",
       "ingredients    object\n",
       "techniques     object\n",
       "dtype: object"
      ]
     },
     "execution_count": 21,
     "metadata": {},
     "output_type": "execute_result"
    }
   ],
   "source": [
    "cookpad_super_recipes_df.dtypes"
   ]
  },
  {
   "cell_type": "code",
   "execution_count": 22,
   "metadata": {
    "collapsed": false
   },
   "outputs": [
    {
     "data": {
      "text/html": [
       "<div>\n",
       "<table border=\"1\" class=\"dataframe\">\n",
       "  <thead>\n",
       "    <tr style=\"text-align: right;\">\n",
       "      <th></th>\n",
       "      <th>_id</th>\n",
       "      <th>title</th>\n",
       "      <th>cuisine</th>\n",
       "      <th>year</th>\n",
       "      <th>ingredients</th>\n",
       "      <th>techniques</th>\n",
       "    </tr>\n",
       "  </thead>\n",
       "  <tbody>\n",
       "    <tr>\n",
       "      <th>0</th>\n",
       "      <td>100002</td>\n",
       "      <td>Boquerones en Vinagre al estilo andaluz</td>\n",
       "      <td>España</td>\n",
       "      <td>2009</td>\n",
       "      <td>[\"ajo\",\"perejil\",\"limón\",\"boquerones\",\"vinagre...</td>\n",
       "      <td>[\"macerar\",\"agua\"]</td>\n",
       "    </tr>\n",
       "    <tr>\n",
       "      <th>1</th>\n",
       "      <td>100005</td>\n",
       "      <td>Croquetas marineras</td>\n",
       "      <td>España</td>\n",
       "      <td>2009</td>\n",
       "      <td>[\"oliva\",\"harina\",\"pimienta\",\"huevos\",\"huevo\",...</td>\n",
       "      <td>[\"agua\",\"rebozar\",\"en agua\"]</td>\n",
       "    </tr>\n",
       "    <tr>\n",
       "      <th>2</th>\n",
       "      <td>100007</td>\n",
       "      <td>Bolitas árabes con ensalada</td>\n",
       "      <td>Marruecos</td>\n",
       "      <td>2009</td>\n",
       "      <td>[\"garbanzos\",\"ajo\",\"sal\",\"perejil\",\"pimienta\",...</td>\n",
       "      <td>[\"freír\",\"remojar\",\"sartén\"]</td>\n",
       "    </tr>\n",
       "    <tr>\n",
       "      <th>3</th>\n",
       "      <td>100018</td>\n",
       "      <td>Arroz con leche de mi cosecha</td>\n",
       "      <td>España</td>\n",
       "      <td>2009</td>\n",
       "      <td>[\"canela\",\"azúcar\",\"limón\",\"leche\",\"arroz\",\"sa...</td>\n",
       "      <td>[\"hervir\",\"cocer\",\"agua\",\"a fuego lento\",\"fueg...</td>\n",
       "    </tr>\n",
       "    <tr>\n",
       "      <th>4</th>\n",
       "      <td>100022</td>\n",
       "      <td>Ensalada de Arroz con Jamón</td>\n",
       "      <td>España</td>\n",
       "      <td>2009</td>\n",
       "      <td>[\"nuez\",\"lechuga\",\"jamón serrano\",\"perejil\",\"l...</td>\n",
       "      <td>[\"cocidos\",\"agua\",\"fría\",\"cocido\",\"sal\"]</td>\n",
       "    </tr>\n",
       "  </tbody>\n",
       "</table>\n",
       "</div>"
      ],
      "text/plain": [
       "      _id                                    title    cuisine  year  \\\n",
       "0  100002  Boquerones en Vinagre al estilo andaluz     España  2009   \n",
       "1  100005                      Croquetas marineras     España  2009   \n",
       "2  100007              Bolitas árabes con ensalada  Marruecos  2009   \n",
       "3  100018            Arroz con leche de mi cosecha     España  2009   \n",
       "4  100022              Ensalada de Arroz con Jamón     España  2009   \n",
       "\n",
       "                                         ingredients  \\\n",
       "0  [\"ajo\",\"perejil\",\"limón\",\"boquerones\",\"vinagre...   \n",
       "1  [\"oliva\",\"harina\",\"pimienta\",\"huevos\",\"huevo\",...   \n",
       "2  [\"garbanzos\",\"ajo\",\"sal\",\"perejil\",\"pimienta\",...   \n",
       "3  [\"canela\",\"azúcar\",\"limón\",\"leche\",\"arroz\",\"sa...   \n",
       "4  [\"nuez\",\"lechuga\",\"jamón serrano\",\"perejil\",\"l...   \n",
       "\n",
       "                                          techniques  \n",
       "0                                 [\"macerar\",\"agua\"]  \n",
       "1                       [\"agua\",\"rebozar\",\"en agua\"]  \n",
       "2                       [\"freír\",\"remojar\",\"sartén\"]  \n",
       "3  [\"hervir\",\"cocer\",\"agua\",\"a fuego lento\",\"fueg...  \n",
       "4           [\"cocidos\",\"agua\",\"fría\",\"cocido\",\"sal\"]  "
      ]
     },
     "execution_count": 22,
     "metadata": {},
     "output_type": "execute_result"
    }
   ],
   "source": [
    "cookpad_super_recipes_df.head()"
   ]
  },
  {
   "cell_type": "code",
   "execution_count": 23,
   "metadata": {
    "collapsed": false
   },
   "outputs": [
    {
     "ename": "ValueError",
     "evalue": "could not broadcast input array from shape (9) into shape (6)",
     "output_type": "error",
     "traceback": [
      "\u001b[1;31m---------------------------------------------------------------------------\u001b[0m",
      "\u001b[1;31mValueError\u001b[0m                                Traceback (most recent call last)",
      "\u001b[1;32m<ipython-input-23-ad441a1f01e8>\u001b[0m in \u001b[0;36m<module>\u001b[1;34m()\u001b[0m\n\u001b[1;32m----> 1\u001b[1;33m \u001b[0mcookpad_raw_recipes_df\u001b[0m\u001b[1;33m[\u001b[0m\u001b[1;34m'ingredients'\u001b[0m\u001b[1;33m]\u001b[0m \u001b[1;33m=\u001b[0m \u001b[0mcookpad_raw_recipes_df\u001b[0m\u001b[1;33m.\u001b[0m\u001b[0mapply\u001b[0m\u001b[1;33m(\u001b[0m\u001b[1;32mlambda\u001b[0m \u001b[0mx\u001b[0m\u001b[1;33m:\u001b[0m \u001b[0mjson\u001b[0m\u001b[1;33m.\u001b[0m\u001b[0mloads\u001b[0m\u001b[1;33m(\u001b[0m\u001b[0mx\u001b[0m\u001b[1;33m[\u001b[0m\u001b[1;34m'ingredients'\u001b[0m\u001b[1;33m]\u001b[0m\u001b[1;33m)\u001b[0m\u001b[1;33m,\u001b[0m \u001b[0maxis\u001b[0m\u001b[1;33m=\u001b[0m\u001b[1;36m1\u001b[0m\u001b[1;33m)\u001b[0m\u001b[1;33m\u001b[0m\u001b[0m\n\u001b[0m\u001b[0;32m      2\u001b[0m \u001b[0mcookpad_raw_recipes_df\u001b[0m\u001b[1;33m[\u001b[0m\u001b[1;34m'techniques'\u001b[0m\u001b[1;33m]\u001b[0m \u001b[1;33m=\u001b[0m \u001b[0mcookpad_raw_recipes_df\u001b[0m\u001b[1;33m.\u001b[0m\u001b[0mapply\u001b[0m\u001b[1;33m(\u001b[0m\u001b[1;32mlambda\u001b[0m \u001b[0mx\u001b[0m\u001b[1;33m:\u001b[0m \u001b[0mjson\u001b[0m\u001b[1;33m.\u001b[0m\u001b[0mloads\u001b[0m\u001b[1;33m(\u001b[0m\u001b[0mx\u001b[0m\u001b[1;33m[\u001b[0m\u001b[1;34m'techniques'\u001b[0m\u001b[1;33m]\u001b[0m\u001b[1;33m)\u001b[0m\u001b[1;33m,\u001b[0m \u001b[0maxis\u001b[0m\u001b[1;33m=\u001b[0m\u001b[1;36m1\u001b[0m\u001b[1;33m)\u001b[0m\u001b[1;33m\u001b[0m\u001b[0m\n",
      "\u001b[1;32m/home/antonio/virtualenvs/elbulli/lib/python3.4/site-packages/pandas/core/frame.py\u001b[0m in \u001b[0;36mapply\u001b[1;34m(self, func, axis, broadcast, raw, reduce, args, **kwds)\u001b[0m\n\u001b[0;32m   4059\u001b[0m                     \u001b[1;32mif\u001b[0m \u001b[0mreduce\u001b[0m \u001b[1;32mis\u001b[0m \u001b[1;32mNone\u001b[0m\u001b[1;33m:\u001b[0m\u001b[1;33m\u001b[0m\u001b[0m\n\u001b[0;32m   4060\u001b[0m                         \u001b[0mreduce\u001b[0m \u001b[1;33m=\u001b[0m \u001b[1;32mTrue\u001b[0m\u001b[1;33m\u001b[0m\u001b[0m\n\u001b[1;32m-> 4061\u001b[1;33m                     \u001b[1;32mreturn\u001b[0m \u001b[0mself\u001b[0m\u001b[1;33m.\u001b[0m\u001b[0m_apply_standard\u001b[0m\u001b[1;33m(\u001b[0m\u001b[0mf\u001b[0m\u001b[1;33m,\u001b[0m \u001b[0maxis\u001b[0m\u001b[1;33m,\u001b[0m \u001b[0mreduce\u001b[0m\u001b[1;33m=\u001b[0m\u001b[0mreduce\u001b[0m\u001b[1;33m)\u001b[0m\u001b[1;33m\u001b[0m\u001b[0m\n\u001b[0m\u001b[0;32m   4062\u001b[0m             \u001b[1;32melse\u001b[0m\u001b[1;33m:\u001b[0m\u001b[1;33m\u001b[0m\u001b[0m\n\u001b[0;32m   4063\u001b[0m                 \u001b[1;32mreturn\u001b[0m \u001b[0mself\u001b[0m\u001b[1;33m.\u001b[0m\u001b[0m_apply_broadcast\u001b[0m\u001b[1;33m(\u001b[0m\u001b[0mf\u001b[0m\u001b[1;33m,\u001b[0m \u001b[0maxis\u001b[0m\u001b[1;33m)\u001b[0m\u001b[1;33m\u001b[0m\u001b[0m\n",
      "\u001b[1;32m/home/antonio/virtualenvs/elbulli/lib/python3.4/site-packages/pandas/core/frame.py\u001b[0m in \u001b[0;36m_apply_standard\u001b[1;34m(self, func, axis, ignore_failures, reduce)\u001b[0m\n\u001b[0;32m   4172\u001b[0m                 \u001b[0mindex\u001b[0m \u001b[1;33m=\u001b[0m \u001b[1;32mNone\u001b[0m\u001b[1;33m\u001b[0m\u001b[0m\n\u001b[0;32m   4173\u001b[0m \u001b[1;33m\u001b[0m\u001b[0m\n\u001b[1;32m-> 4174\u001b[1;33m             \u001b[0mresult\u001b[0m \u001b[1;33m=\u001b[0m \u001b[0mself\u001b[0m\u001b[1;33m.\u001b[0m\u001b[0m_constructor\u001b[0m\u001b[1;33m(\u001b[0m\u001b[0mdata\u001b[0m\u001b[1;33m=\u001b[0m\u001b[0mresults\u001b[0m\u001b[1;33m,\u001b[0m \u001b[0mindex\u001b[0m\u001b[1;33m=\u001b[0m\u001b[0mindex\u001b[0m\u001b[1;33m)\u001b[0m\u001b[1;33m\u001b[0m\u001b[0m\n\u001b[0m\u001b[0;32m   4175\u001b[0m             \u001b[0mresult\u001b[0m\u001b[1;33m.\u001b[0m\u001b[0mcolumns\u001b[0m \u001b[1;33m=\u001b[0m \u001b[0mres_index\u001b[0m\u001b[1;33m\u001b[0m\u001b[0m\n\u001b[0;32m   4176\u001b[0m \u001b[1;33m\u001b[0m\u001b[0m\n",
      "\u001b[1;32m/home/antonio/virtualenvs/elbulli/lib/python3.4/site-packages/pandas/core/frame.py\u001b[0m in \u001b[0;36m__init__\u001b[1;34m(self, data, index, columns, dtype, copy)\u001b[0m\n\u001b[0;32m    222\u001b[0m                                  dtype=dtype, copy=copy)\n\u001b[0;32m    223\u001b[0m         \u001b[1;32melif\u001b[0m \u001b[0misinstance\u001b[0m\u001b[1;33m(\u001b[0m\u001b[0mdata\u001b[0m\u001b[1;33m,\u001b[0m \u001b[0mdict\u001b[0m\u001b[1;33m)\u001b[0m\u001b[1;33m:\u001b[0m\u001b[1;33m\u001b[0m\u001b[0m\n\u001b[1;32m--> 224\u001b[1;33m             \u001b[0mmgr\u001b[0m \u001b[1;33m=\u001b[0m \u001b[0mself\u001b[0m\u001b[1;33m.\u001b[0m\u001b[0m_init_dict\u001b[0m\u001b[1;33m(\u001b[0m\u001b[0mdata\u001b[0m\u001b[1;33m,\u001b[0m \u001b[0mindex\u001b[0m\u001b[1;33m,\u001b[0m \u001b[0mcolumns\u001b[0m\u001b[1;33m,\u001b[0m \u001b[0mdtype\u001b[0m\u001b[1;33m=\u001b[0m\u001b[0mdtype\u001b[0m\u001b[1;33m)\u001b[0m\u001b[1;33m\u001b[0m\u001b[0m\n\u001b[0m\u001b[0;32m    225\u001b[0m         \u001b[1;32melif\u001b[0m \u001b[0misinstance\u001b[0m\u001b[1;33m(\u001b[0m\u001b[0mdata\u001b[0m\u001b[1;33m,\u001b[0m \u001b[0mma\u001b[0m\u001b[1;33m.\u001b[0m\u001b[0mMaskedArray\u001b[0m\u001b[1;33m)\u001b[0m\u001b[1;33m:\u001b[0m\u001b[1;33m\u001b[0m\u001b[0m\n\u001b[0;32m    226\u001b[0m             \u001b[1;32mimport\u001b[0m \u001b[0mnumpy\u001b[0m\u001b[1;33m.\u001b[0m\u001b[0mma\u001b[0m\u001b[1;33m.\u001b[0m\u001b[0mmrecords\u001b[0m \u001b[1;32mas\u001b[0m \u001b[0mmrecords\u001b[0m\u001b[1;33m\u001b[0m\u001b[0m\n",
      "\u001b[1;32m/home/antonio/virtualenvs/elbulli/lib/python3.4/site-packages/pandas/core/frame.py\u001b[0m in \u001b[0;36m_init_dict\u001b[1;34m(self, data, index, columns, dtype)\u001b[0m\n\u001b[0;32m    358\u001b[0m             \u001b[0marrays\u001b[0m \u001b[1;33m=\u001b[0m \u001b[1;33m[\u001b[0m\u001b[0mdata\u001b[0m\u001b[1;33m[\u001b[0m\u001b[0mk\u001b[0m\u001b[1;33m]\u001b[0m \u001b[1;32mfor\u001b[0m \u001b[0mk\u001b[0m \u001b[1;32min\u001b[0m \u001b[0mkeys\u001b[0m\u001b[1;33m]\u001b[0m\u001b[1;33m\u001b[0m\u001b[0m\n\u001b[0;32m    359\u001b[0m \u001b[1;33m\u001b[0m\u001b[0m\n\u001b[1;32m--> 360\u001b[1;33m         \u001b[1;32mreturn\u001b[0m \u001b[0m_arrays_to_mgr\u001b[0m\u001b[1;33m(\u001b[0m\u001b[0marrays\u001b[0m\u001b[1;33m,\u001b[0m \u001b[0mdata_names\u001b[0m\u001b[1;33m,\u001b[0m \u001b[0mindex\u001b[0m\u001b[1;33m,\u001b[0m \u001b[0mcolumns\u001b[0m\u001b[1;33m,\u001b[0m \u001b[0mdtype\u001b[0m\u001b[1;33m=\u001b[0m\u001b[0mdtype\u001b[0m\u001b[1;33m)\u001b[0m\u001b[1;33m\u001b[0m\u001b[0m\n\u001b[0m\u001b[0;32m    361\u001b[0m \u001b[1;33m\u001b[0m\u001b[0m\n\u001b[0;32m    362\u001b[0m     \u001b[1;32mdef\u001b[0m \u001b[0m_init_ndarray\u001b[0m\u001b[1;33m(\u001b[0m\u001b[0mself\u001b[0m\u001b[1;33m,\u001b[0m \u001b[0mvalues\u001b[0m\u001b[1;33m,\u001b[0m \u001b[0mindex\u001b[0m\u001b[1;33m,\u001b[0m \u001b[0mcolumns\u001b[0m\u001b[1;33m,\u001b[0m \u001b[0mdtype\u001b[0m\u001b[1;33m=\u001b[0m\u001b[1;32mNone\u001b[0m\u001b[1;33m,\u001b[0m \u001b[0mcopy\u001b[0m\u001b[1;33m=\u001b[0m\u001b[1;32mFalse\u001b[0m\u001b[1;33m)\u001b[0m\u001b[1;33m:\u001b[0m\u001b[1;33m\u001b[0m\u001b[0m\n",
      "\u001b[1;32m/home/antonio/virtualenvs/elbulli/lib/python3.4/site-packages/pandas/core/frame.py\u001b[0m in \u001b[0;36m_arrays_to_mgr\u001b[1;34m(arrays, arr_names, index, columns, dtype)\u001b[0m\n\u001b[0;32m   5239\u001b[0m     \u001b[0maxes\u001b[0m \u001b[1;33m=\u001b[0m \u001b[1;33m[\u001b[0m\u001b[0m_ensure_index\u001b[0m\u001b[1;33m(\u001b[0m\u001b[0mcolumns\u001b[0m\u001b[1;33m)\u001b[0m\u001b[1;33m,\u001b[0m \u001b[0m_ensure_index\u001b[0m\u001b[1;33m(\u001b[0m\u001b[0mindex\u001b[0m\u001b[1;33m)\u001b[0m\u001b[1;33m]\u001b[0m\u001b[1;33m\u001b[0m\u001b[0m\n\u001b[0;32m   5240\u001b[0m \u001b[1;33m\u001b[0m\u001b[0m\n\u001b[1;32m-> 5241\u001b[1;33m     \u001b[1;32mreturn\u001b[0m \u001b[0mcreate_block_manager_from_arrays\u001b[0m\u001b[1;33m(\u001b[0m\u001b[0marrays\u001b[0m\u001b[1;33m,\u001b[0m \u001b[0marr_names\u001b[0m\u001b[1;33m,\u001b[0m \u001b[0maxes\u001b[0m\u001b[1;33m)\u001b[0m\u001b[1;33m\u001b[0m\u001b[0m\n\u001b[0m\u001b[0;32m   5242\u001b[0m \u001b[1;33m\u001b[0m\u001b[0m\n\u001b[0;32m   5243\u001b[0m \u001b[1;33m\u001b[0m\u001b[0m\n",
      "\u001b[1;32m/home/antonio/virtualenvs/elbulli/lib/python3.4/site-packages/pandas/core/internals.py\u001b[0m in \u001b[0;36mcreate_block_manager_from_arrays\u001b[1;34m(arrays, names, axes)\u001b[0m\n\u001b[0;32m   4002\u001b[0m         \u001b[1;32mreturn\u001b[0m \u001b[0mmgr\u001b[0m\u001b[1;33m\u001b[0m\u001b[0m\n\u001b[0;32m   4003\u001b[0m     \u001b[1;32mexcept\u001b[0m \u001b[0mValueError\u001b[0m \u001b[1;32mas\u001b[0m \u001b[0me\u001b[0m\u001b[1;33m:\u001b[0m\u001b[1;33m\u001b[0m\u001b[0m\n\u001b[1;32m-> 4004\u001b[1;33m         \u001b[0mconstruction_error\u001b[0m\u001b[1;33m(\u001b[0m\u001b[0mlen\u001b[0m\u001b[1;33m(\u001b[0m\u001b[0marrays\u001b[0m\u001b[1;33m)\u001b[0m\u001b[1;33m,\u001b[0m \u001b[0marrays\u001b[0m\u001b[1;33m[\u001b[0m\u001b[1;36m0\u001b[0m\u001b[1;33m]\u001b[0m\u001b[1;33m.\u001b[0m\u001b[0mshape\u001b[0m\u001b[1;33m,\u001b[0m \u001b[0maxes\u001b[0m\u001b[1;33m,\u001b[0m \u001b[0me\u001b[0m\u001b[1;33m)\u001b[0m\u001b[1;33m\u001b[0m\u001b[0m\n\u001b[0m\u001b[0;32m   4005\u001b[0m \u001b[1;33m\u001b[0m\u001b[0m\n\u001b[0;32m   4006\u001b[0m \u001b[1;33m\u001b[0m\u001b[0m\n",
      "\u001b[1;32m/home/antonio/virtualenvs/elbulli/lib/python3.4/site-packages/pandas/core/internals.py\u001b[0m in \u001b[0;36mconstruction_error\u001b[1;34m(tot_items, block_shape, axes, e)\u001b[0m\n\u001b[0;32m   3964\u001b[0m     \u001b[0mimplied\u001b[0m \u001b[1;33m=\u001b[0m \u001b[0mtuple\u001b[0m\u001b[1;33m(\u001b[0m\u001b[0mmap\u001b[0m\u001b[1;33m(\u001b[0m\u001b[0mint\u001b[0m\u001b[1;33m,\u001b[0m \u001b[1;33m[\u001b[0m\u001b[0mlen\u001b[0m\u001b[1;33m(\u001b[0m\u001b[0max\u001b[0m\u001b[1;33m)\u001b[0m \u001b[1;32mfor\u001b[0m \u001b[0max\u001b[0m \u001b[1;32min\u001b[0m \u001b[0maxes\u001b[0m\u001b[1;33m]\u001b[0m\u001b[1;33m)\u001b[0m\u001b[1;33m)\u001b[0m\u001b[1;33m\u001b[0m\u001b[0m\n\u001b[0;32m   3965\u001b[0m     \u001b[1;32mif\u001b[0m \u001b[0mpassed\u001b[0m \u001b[1;33m==\u001b[0m \u001b[0mimplied\u001b[0m \u001b[1;32mand\u001b[0m \u001b[0me\u001b[0m \u001b[1;32mis\u001b[0m \u001b[1;32mnot\u001b[0m \u001b[1;32mNone\u001b[0m\u001b[1;33m:\u001b[0m\u001b[1;33m\u001b[0m\u001b[0m\n\u001b[1;32m-> 3966\u001b[1;33m         \u001b[1;32mraise\u001b[0m \u001b[0me\u001b[0m\u001b[1;33m\u001b[0m\u001b[0m\n\u001b[0m\u001b[0;32m   3967\u001b[0m     \u001b[1;32mif\u001b[0m \u001b[0mblock_shape\u001b[0m\u001b[1;33m[\u001b[0m\u001b[1;36m0\u001b[0m\u001b[1;33m]\u001b[0m \u001b[1;33m==\u001b[0m \u001b[1;36m0\u001b[0m\u001b[1;33m:\u001b[0m\u001b[1;33m\u001b[0m\u001b[0m\n\u001b[0;32m   3968\u001b[0m         \u001b[1;32mraise\u001b[0m \u001b[0mValueError\u001b[0m\u001b[1;33m(\u001b[0m\u001b[1;34m\"Empty data passed with indices specified.\"\u001b[0m\u001b[1;33m)\u001b[0m\u001b[1;33m\u001b[0m\u001b[0m\n",
      "\u001b[1;32m/home/antonio/virtualenvs/elbulli/lib/python3.4/site-packages/pandas/core/internals.py\u001b[0m in \u001b[0;36mcreate_block_manager_from_arrays\u001b[1;34m(arrays, names, axes)\u001b[0m\n\u001b[0;32m   3997\u001b[0m \u001b[1;33m\u001b[0m\u001b[0m\n\u001b[0;32m   3998\u001b[0m     \u001b[1;32mtry\u001b[0m\u001b[1;33m:\u001b[0m\u001b[1;33m\u001b[0m\u001b[0m\n\u001b[1;32m-> 3999\u001b[1;33m         \u001b[0mblocks\u001b[0m \u001b[1;33m=\u001b[0m \u001b[0mform_blocks\u001b[0m\u001b[1;33m(\u001b[0m\u001b[0marrays\u001b[0m\u001b[1;33m,\u001b[0m \u001b[0mnames\u001b[0m\u001b[1;33m,\u001b[0m \u001b[0maxes\u001b[0m\u001b[1;33m)\u001b[0m\u001b[1;33m\u001b[0m\u001b[0m\n\u001b[0m\u001b[0;32m   4000\u001b[0m         \u001b[0mmgr\u001b[0m \u001b[1;33m=\u001b[0m \u001b[0mBlockManager\u001b[0m\u001b[1;33m(\u001b[0m\u001b[0mblocks\u001b[0m\u001b[1;33m,\u001b[0m \u001b[0maxes\u001b[0m\u001b[1;33m)\u001b[0m\u001b[1;33m\u001b[0m\u001b[0m\n\u001b[0;32m   4001\u001b[0m         \u001b[0mmgr\u001b[0m\u001b[1;33m.\u001b[0m\u001b[0m_consolidate_inplace\u001b[0m\u001b[1;33m(\u001b[0m\u001b[1;33m)\u001b[0m\u001b[1;33m\u001b[0m\u001b[0m\n",
      "\u001b[1;32m/home/antonio/virtualenvs/elbulli/lib/python3.4/site-packages/pandas/core/internals.py\u001b[0m in \u001b[0;36mform_blocks\u001b[1;34m(arrays, names, axes)\u001b[0m\n\u001b[0;32m   4094\u001b[0m \u001b[1;33m\u001b[0m\u001b[0m\n\u001b[0;32m   4095\u001b[0m     \u001b[1;32mif\u001b[0m \u001b[0mlen\u001b[0m\u001b[1;33m(\u001b[0m\u001b[0mobject_items\u001b[0m\u001b[1;33m)\u001b[0m \u001b[1;33m>\u001b[0m \u001b[1;36m0\u001b[0m\u001b[1;33m:\u001b[0m\u001b[1;33m\u001b[0m\u001b[0m\n\u001b[1;32m-> 4096\u001b[1;33m         \u001b[0mobject_blocks\u001b[0m \u001b[1;33m=\u001b[0m \u001b[0m_simple_blockify\u001b[0m\u001b[1;33m(\u001b[0m\u001b[0mobject_items\u001b[0m\u001b[1;33m,\u001b[0m \u001b[0mnp\u001b[0m\u001b[1;33m.\u001b[0m\u001b[0mobject_\u001b[0m\u001b[1;33m)\u001b[0m\u001b[1;33m\u001b[0m\u001b[0m\n\u001b[0m\u001b[0;32m   4097\u001b[0m         \u001b[0mblocks\u001b[0m\u001b[1;33m.\u001b[0m\u001b[0mextend\u001b[0m\u001b[1;33m(\u001b[0m\u001b[0mobject_blocks\u001b[0m\u001b[1;33m)\u001b[0m\u001b[1;33m\u001b[0m\u001b[0m\n\u001b[0;32m   4098\u001b[0m \u001b[1;33m\u001b[0m\u001b[0m\n",
      "\u001b[1;32m/home/antonio/virtualenvs/elbulli/lib/python3.4/site-packages/pandas/core/internals.py\u001b[0m in \u001b[0;36m_simple_blockify\u001b[1;34m(tuples, dtype)\u001b[0m\n\u001b[0;32m   4124\u001b[0m     \u001b[1;32mnot\u001b[0m \u001b[1;32mNone\u001b[0m\u001b[1;33m,\u001b[0m \u001b[0mcoerce\u001b[0m \u001b[0mto\u001b[0m \u001b[0mthis\u001b[0m \u001b[0mdtype\u001b[0m\u001b[1;33m\u001b[0m\u001b[0m\n\u001b[0;32m   4125\u001b[0m     \"\"\"\n\u001b[1;32m-> 4126\u001b[1;33m     \u001b[0mvalues\u001b[0m\u001b[1;33m,\u001b[0m \u001b[0mplacement\u001b[0m \u001b[1;33m=\u001b[0m \u001b[0m_stack_arrays\u001b[0m\u001b[1;33m(\u001b[0m\u001b[0mtuples\u001b[0m\u001b[1;33m,\u001b[0m \u001b[0mdtype\u001b[0m\u001b[1;33m)\u001b[0m\u001b[1;33m\u001b[0m\u001b[0m\n\u001b[0m\u001b[0;32m   4127\u001b[0m \u001b[1;33m\u001b[0m\u001b[0m\n\u001b[0;32m   4128\u001b[0m     \u001b[1;31m# CHECK DTYPE?\u001b[0m\u001b[1;33m\u001b[0m\u001b[1;33m\u001b[0m\u001b[0m\n",
      "\u001b[1;32m/home/antonio/virtualenvs/elbulli/lib/python3.4/site-packages/pandas/core/internals.py\u001b[0m in \u001b[0;36m_stack_arrays\u001b[1;34m(tuples, dtype)\u001b[0m\n\u001b[0;32m   4188\u001b[0m     \u001b[0mstacked\u001b[0m \u001b[1;33m=\u001b[0m \u001b[0mnp\u001b[0m\u001b[1;33m.\u001b[0m\u001b[0mempty\u001b[0m\u001b[1;33m(\u001b[0m\u001b[0mshape\u001b[0m\u001b[1;33m,\u001b[0m \u001b[0mdtype\u001b[0m\u001b[1;33m=\u001b[0m\u001b[0mdtype\u001b[0m\u001b[1;33m)\u001b[0m\u001b[1;33m\u001b[0m\u001b[0m\n\u001b[0;32m   4189\u001b[0m     \u001b[1;32mfor\u001b[0m \u001b[0mi\u001b[0m\u001b[1;33m,\u001b[0m \u001b[0marr\u001b[0m \u001b[1;32min\u001b[0m \u001b[0menumerate\u001b[0m\u001b[1;33m(\u001b[0m\u001b[0marrays\u001b[0m\u001b[1;33m)\u001b[0m\u001b[1;33m:\u001b[0m\u001b[1;33m\u001b[0m\u001b[0m\n\u001b[1;32m-> 4190\u001b[1;33m         \u001b[0mstacked\u001b[0m\u001b[1;33m[\u001b[0m\u001b[0mi\u001b[0m\u001b[1;33m]\u001b[0m \u001b[1;33m=\u001b[0m \u001b[0m_asarray_compat\u001b[0m\u001b[1;33m(\u001b[0m\u001b[0marr\u001b[0m\u001b[1;33m)\u001b[0m\u001b[1;33m\u001b[0m\u001b[0m\n\u001b[0m\u001b[0;32m   4191\u001b[0m \u001b[1;33m\u001b[0m\u001b[0m\n\u001b[0;32m   4192\u001b[0m     \u001b[1;32mreturn\u001b[0m \u001b[0mstacked\u001b[0m\u001b[1;33m,\u001b[0m \u001b[0mplacement\u001b[0m\u001b[1;33m\u001b[0m\u001b[0m\n",
      "\u001b[1;31mValueError\u001b[0m: could not broadcast input array from shape (9) into shape (6)"
     ]
    }
   ],
   "source": [
    "cookpad_super_recipes_df['ingredients'] = cookpad_super_recipes_df.apply(lambda x: json.loads(x['ingredients']), axis=1)\n",
    "cookpad_super_recipes_df['techniques'] = cookpad_super_recipes_df.apply(lambda x: json.loads(x['techniques']), axis=1)"
   ]
  },
  {
   "cell_type": "code",
   "execution_count": null,
   "metadata": {
    "collapsed": false
   },
   "outputs": [],
   "source": [
    "cookpad_super_recipes_df.head()"
   ]
  },
  {
   "cell_type": "code",
   "execution_count": 4,
   "metadata": {
    "collapsed": true
   },
   "outputs": [],
   "source": [
    "cookpad_super_recipes_df['creativity'] = cookpad_super_recipes_df.apply(\n",
    "    lambda x: 0, axis=1)"
   ]
  },
  {
   "cell_type": "code",
   "execution_count": 5,
   "metadata": {
    "collapsed": false,
    "scrolled": true
   },
   "outputs": [
    {
     "data": {
      "text/html": [
       "<div>\n",
       "<table border=\"1\" class=\"dataframe\">\n",
       "  <thead>\n",
       "    <tr style=\"text-align: right;\">\n",
       "      <th></th>\n",
       "      <th>_id</th>\n",
       "      <th>title</th>\n",
       "      <th>year</th>\n",
       "      <th>ingredients</th>\n",
       "      <th>techniques</th>\n",
       "      <th>creativity</th>\n",
       "    </tr>\n",
       "  </thead>\n",
       "  <tbody>\n",
       "    <tr>\n",
       "      <th>0</th>\n",
       "      <td>1</td>\n",
       "      <td>terrina de melón con gelée de oporto</td>\n",
       "      <td>1987</td>\n",
       "      <td>[\"aceite de oliva\",\"agua\",\"gelatina de oporto\"...</td>\n",
       "      <td>[\"agua\"]</td>\n",
       "      <td>10</td>\n",
       "    </tr>\n",
       "    <tr>\n",
       "      <th>1</th>\n",
       "      <td>10</td>\n",
       "      <td>salmonetes Gaudí</td>\n",
       "      <td>1987</td>\n",
       "      <td>[\"aceite de oliva\",\"anchoa en aceite\",\"calabac...</td>\n",
       "      <td>[\"agua\",\"brunoise\",\"cocción\",\"hervir\",\"horno\",...</td>\n",
       "      <td>10</td>\n",
       "    </tr>\n",
       "    <tr>\n",
       "      <th>2</th>\n",
       "      <td>100</td>\n",
       "      <td>oursins</td>\n",
       "      <td>1990</td>\n",
       "      <td>[\"avellanas tostadas\",\"azúcar\",\"cacao en polvo...</td>\n",
       "      <td>[\"horno\",\"secar\"]</td>\n",
       "      <td>10</td>\n",
       "    </tr>\n",
       "    <tr>\n",
       "      <th>3</th>\n",
       "      <td>1000</td>\n",
       "      <td>ravioli sférico de té con cubo helado de limón</td>\n",
       "      <td>2004</td>\n",
       "      <td>[\"agua\",\"alginato sódico\",\"azúcar\",\"infusión\",...</td>\n",
       "      <td>[\"agua\",\"min\"]</td>\n",
       "      <td>30</td>\n",
       "    </tr>\n",
       "    <tr>\n",
       "      <th>4</th>\n",
       "      <td>1001</td>\n",
       "      <td>ceps en ámbar de su caldo</td>\n",
       "      <td>2004</td>\n",
       "      <td>[\"aceite de girasol\",\"aceite de oliva\",\"agua\",...</td>\n",
       "      <td>[\"agua\",\"cazuela\",\"confitar\",\"conservar\",\"esca...</td>\n",
       "      <td>30</td>\n",
       "    </tr>\n",
       "  </tbody>\n",
       "</table>\n",
       "</div>"
      ],
      "text/plain": [
       "    _id                                           title  year  \\\n",
       "0     1            terrina de melón con gelée de oporto  1987   \n",
       "1    10                                salmonetes Gaudí  1987   \n",
       "2   100                                         oursins  1990   \n",
       "3  1000  ravioli sférico de té con cubo helado de limón  2004   \n",
       "4  1001                       ceps en ámbar de su caldo  2004   \n",
       "\n",
       "                                         ingredients  \\\n",
       "0  [\"aceite de oliva\",\"agua\",\"gelatina de oporto\"...   \n",
       "1  [\"aceite de oliva\",\"anchoa en aceite\",\"calabac...   \n",
       "2  [\"avellanas tostadas\",\"azúcar\",\"cacao en polvo...   \n",
       "3  [\"agua\",\"alginato sódico\",\"azúcar\",\"infusión\",...   \n",
       "4  [\"aceite de girasol\",\"aceite de oliva\",\"agua\",...   \n",
       "\n",
       "                                          techniques  creativity  \n",
       "0                                           [\"agua\"]          10  \n",
       "1  [\"agua\",\"brunoise\",\"cocción\",\"hervir\",\"horno\",...          10  \n",
       "2                                  [\"horno\",\"secar\"]          10  \n",
       "3                                     [\"agua\",\"min\"]          30  \n",
       "4  [\"agua\",\"cazuela\",\"confitar\",\"conservar\",\"esca...          30  "
      ]
     },
     "execution_count": 5,
     "metadata": {},
     "output_type": "execute_result"
    }
   ],
   "source": [
    "cookpad_super_recipes_df.head()"
   ]
  },
  {
   "cell_type": "markdown",
   "metadata": {},
   "source": [
    "### elbulli & cookpad"
   ]
  },
  {
   "cell_type": "code",
   "execution_count": 17,
   "metadata": {
    "collapsed": true
   },
   "outputs": [],
   "source": [
    "super_recipes_df = elbulli_super_recipes_df.append(cookpad_super_recipes_df)"
   ]
  },
  {
   "cell_type": "code",
   "execution_count": 19,
   "metadata": {
    "collapsed": false,
    "scrolled": true
   },
   "outputs": [
    {
     "data": {
      "text/html": [
       "<div>\n",
       "<table border=\"1\" class=\"dataframe\">\n",
       "  <thead>\n",
       "    <tr style=\"text-align: right;\">\n",
       "      <th></th>\n",
       "      <th>_id</th>\n",
       "      <th>cuisine</th>\n",
       "      <th>ingredients</th>\n",
       "      <th>techniques</th>\n",
       "      <th>title</th>\n",
       "      <th>year</th>\n",
       "    </tr>\n",
       "  </thead>\n",
       "  <tbody>\n",
       "    <tr>\n",
       "      <th>0</th>\n",
       "      <td>1</td>\n",
       "      <td>NaN</td>\n",
       "      <td>[\"hojas de gelatina\",\"pimienta blanca\",\"oporto...</td>\n",
       "      <td>[\"agua\"]</td>\n",
       "      <td>terrina de melón con gelée de oporto</td>\n",
       "      <td>1987</td>\n",
       "    </tr>\n",
       "    <tr>\n",
       "      <th>1</th>\n",
       "      <td>10</td>\n",
       "      <td>NaN</td>\n",
       "      <td>[\"vinagre balsámico\",\"pimienta negra\",\"orégano...</td>\n",
       "      <td>[\"en agua\",\"puré\",\"cocción\",\"asar\",\"horno\",\"as...</td>\n",
       "      <td>salmonetes Gaudí</td>\n",
       "      <td>1987</td>\n",
       "    </tr>\n",
       "    <tr>\n",
       "      <th>2</th>\n",
       "      <td>100</td>\n",
       "      <td>NaN</td>\n",
       "      <td>[\"avellanas tostadas\",\"chocolate\",\"claras de h...</td>\n",
       "      <td>[\"horno\",\"secar\",\"al horno\"]</td>\n",
       "      <td>oursins</td>\n",
       "      <td>1990</td>\n",
       "    </tr>\n",
       "    <tr>\n",
       "      <th>3</th>\n",
       "      <td>1000</td>\n",
       "      <td>NaN</td>\n",
       "      <td>[\"limón\",\"agua\",\"alginato sódico\",\"infusión de...</td>\n",
       "      <td>[\"fría\",\"agua\"]</td>\n",
       "      <td>ravioli sférico de té con cubo helado de limón</td>\n",
       "      <td>2004</td>\n",
       "    </tr>\n",
       "    <tr>\n",
       "      <th>4</th>\n",
       "      <td>1001</td>\n",
       "      <td>NaN</td>\n",
       "      <td>[\"pimienta negra\",\"láminas de ceps\",\"ceps\",\"ca...</td>\n",
       "      <td>[\"en agua\",\"hervido\",\"a fuego lento\",\"cocer\",\"...</td>\n",
       "      <td>ceps en ámbar de su caldo</td>\n",
       "      <td>2004</td>\n",
       "    </tr>\n",
       "  </tbody>\n",
       "</table>\n",
       "</div>"
      ],
      "text/plain": [
       "    _id cuisine                                        ingredients  \\\n",
       "0     1     NaN  [\"hojas de gelatina\",\"pimienta blanca\",\"oporto...   \n",
       "1    10     NaN  [\"vinagre balsámico\",\"pimienta negra\",\"orégano...   \n",
       "2   100     NaN  [\"avellanas tostadas\",\"chocolate\",\"claras de h...   \n",
       "3  1000     NaN  [\"limón\",\"agua\",\"alginato sódico\",\"infusión de...   \n",
       "4  1001     NaN  [\"pimienta negra\",\"láminas de ceps\",\"ceps\",\"ca...   \n",
       "\n",
       "                                          techniques  \\\n",
       "0                                           [\"agua\"]   \n",
       "1  [\"en agua\",\"puré\",\"cocción\",\"asar\",\"horno\",\"as...   \n",
       "2                       [\"horno\",\"secar\",\"al horno\"]   \n",
       "3                                    [\"fría\",\"agua\"]   \n",
       "4  [\"en agua\",\"hervido\",\"a fuego lento\",\"cocer\",\"...   \n",
       "\n",
       "                                            title  year  \n",
       "0            terrina de melón con gelée de oporto  1987  \n",
       "1                                salmonetes Gaudí  1987  \n",
       "2                                         oursins  1990  \n",
       "3  ravioli sférico de té con cubo helado de limón  2004  \n",
       "4                       ceps en ámbar de su caldo  2004  "
      ]
     },
     "execution_count": 19,
     "metadata": {},
     "output_type": "execute_result"
    }
   ],
   "source": [
    "super_recipes_df.head()"
   ]
  },
  {
   "cell_type": "code",
   "execution_count": null,
   "metadata": {
    "collapsed": true
   },
   "outputs": [],
   "source": []
  },
  {
   "cell_type": "code",
   "execution_count": null,
   "metadata": {
    "collapsed": true
   },
   "outputs": [],
   "source": []
  },
  {
   "cell_type": "markdown",
   "metadata": {},
   "source": [
    "## Types of ingredients, representative techniques"
   ]
  },
  {
   "cell_type": "markdown",
   "metadata": {},
   "source": [
    "### elbulli"
   ]
  },
  {
   "cell_type": "code",
   "execution_count": 2,
   "metadata": {
    "collapsed": false
   },
   "outputs": [],
   "source": [
    "elbulli_types_recipes_df = pd.read_csv('data/recipes_elbulli_types.csv')"
   ]
  },
  {
   "cell_type": "code",
   "execution_count": 3,
   "metadata": {
    "collapsed": false
   },
   "outputs": [
    {
     "data": {
      "text/plain": [
       "_id             int64\n",
       "title          object\n",
       "year            int64\n",
       "ingredients    object\n",
       "techniques     object\n",
       "dtype: object"
      ]
     },
     "execution_count": 3,
     "metadata": {},
     "output_type": "execute_result"
    }
   ],
   "source": [
    "elbulli_types_recipes_df.dtypes"
   ]
  },
  {
   "cell_type": "code",
   "execution_count": 4,
   "metadata": {
    "collapsed": false
   },
   "outputs": [
    {
     "data": {
      "text/html": [
       "<div>\n",
       "<table border=\"1\" class=\"dataframe\">\n",
       "  <thead>\n",
       "    <tr style=\"text-align: right;\">\n",
       "      <th></th>\n",
       "      <th>_id</th>\n",
       "      <th>title</th>\n",
       "      <th>year</th>\n",
       "      <th>ingredients</th>\n",
       "      <th>techniques</th>\n",
       "    </tr>\n",
       "  </thead>\n",
       "  <tbody>\n",
       "    <tr>\n",
       "      <th>0</th>\n",
       "      <td>1</td>\n",
       "      <td>terrina de melón con gelée de oporto</td>\n",
       "      <td>1987</td>\n",
       "      <td>[\"hojas de gelatina\",\"pimienta blanca\",\"oporto...</td>\n",
       "      <td>[\"agua\"]</td>\n",
       "    </tr>\n",
       "    <tr>\n",
       "      <th>1</th>\n",
       "      <td>10</td>\n",
       "      <td>salmonetes Gaudí</td>\n",
       "      <td>1987</td>\n",
       "      <td>[\"vinagre balsámico\",\"pimienta negra\",\"orégano...</td>\n",
       "      <td>[\"en agua\",\"puré\",\"cocción\",\"asar\",\"horno\",\"as...</td>\n",
       "    </tr>\n",
       "    <tr>\n",
       "      <th>2</th>\n",
       "      <td>100</td>\n",
       "      <td>oursins</td>\n",
       "      <td>1990</td>\n",
       "      <td>[\"avellanas tostadas\",\"chocolate\",\"claras de h...</td>\n",
       "      <td>[\"horno\",\"secar\",\"al horno\"]</td>\n",
       "    </tr>\n",
       "    <tr>\n",
       "      <th>3</th>\n",
       "      <td>1000</td>\n",
       "      <td>ravioli sférico de té con cubo helado de limón</td>\n",
       "      <td>2004</td>\n",
       "      <td>[\"limón\",\"agua\",\"alginato sódico\",\"infusión de...</td>\n",
       "      <td>[\"fría\",\"agua\"]</td>\n",
       "    </tr>\n",
       "    <tr>\n",
       "      <th>4</th>\n",
       "      <td>1001</td>\n",
       "      <td>ceps en ámbar de su caldo</td>\n",
       "      <td>2004</td>\n",
       "      <td>[\"pimienta negra\",\"láminas de ceps\",\"ceps\",\"ca...</td>\n",
       "      <td>[\"en agua\",\"hervido\",\"a fuego lento\",\"cocer\",\"...</td>\n",
       "    </tr>\n",
       "  </tbody>\n",
       "</table>\n",
       "</div>"
      ],
      "text/plain": [
       "    _id                                           title  year  \\\n",
       "0     1            terrina de melón con gelée de oporto  1987   \n",
       "1    10                                salmonetes Gaudí  1987   \n",
       "2   100                                         oursins  1990   \n",
       "3  1000  ravioli sférico de té con cubo helado de limón  2004   \n",
       "4  1001                       ceps en ámbar de su caldo  2004   \n",
       "\n",
       "                                         ingredients  \\\n",
       "0  [\"hojas de gelatina\",\"pimienta blanca\",\"oporto...   \n",
       "1  [\"vinagre balsámico\",\"pimienta negra\",\"orégano...   \n",
       "2  [\"avellanas tostadas\",\"chocolate\",\"claras de h...   \n",
       "3  [\"limón\",\"agua\",\"alginato sódico\",\"infusión de...   \n",
       "4  [\"pimienta negra\",\"láminas de ceps\",\"ceps\",\"ca...   \n",
       "\n",
       "                                          techniques  \n",
       "0                                           [\"agua\"]  \n",
       "1  [\"en agua\",\"puré\",\"cocción\",\"asar\",\"horno\",\"as...  \n",
       "2                       [\"horno\",\"secar\",\"al horno\"]  \n",
       "3                                    [\"fría\",\"agua\"]  \n",
       "4  [\"en agua\",\"hervido\",\"a fuego lento\",\"cocer\",\"...  "
      ]
     },
     "execution_count": 4,
     "metadata": {},
     "output_type": "execute_result"
    }
   ],
   "source": [
    "elbulli_types_recipes_df.head()"
   ]
  },
  {
   "cell_type": "code",
   "execution_count": 6,
   "metadata": {
    "collapsed": false
   },
   "outputs": [],
   "source": [
    "elbulli_types_recipes_df['ingredients'] = elbulli_types_recipes_df.apply(lambda x: json.loads(x['ingredients']), axis=1)\n",
    "elbulli_types_recipes_df['techniques'] = elbulli_types_recipes_df.apply(lambda x: json.loads(x['techniques']), axis=1)"
   ]
  },
  {
   "cell_type": "code",
   "execution_count": 7,
   "metadata": {
    "collapsed": false
   },
   "outputs": [
    {
     "data": {
      "text/html": [
       "<div>\n",
       "<table border=\"1\" class=\"dataframe\">\n",
       "  <thead>\n",
       "    <tr style=\"text-align: right;\">\n",
       "      <th></th>\n",
       "      <th>_id</th>\n",
       "      <th>title</th>\n",
       "      <th>year</th>\n",
       "      <th>ingredients</th>\n",
       "      <th>techniques</th>\n",
       "      <th>creativity</th>\n",
       "    </tr>\n",
       "  </thead>\n",
       "  <tbody>\n",
       "    <tr>\n",
       "      <th>0</th>\n",
       "      <td>1</td>\n",
       "      <td>terrina de melón con gelée de oporto</td>\n",
       "      <td>1987</td>\n",
       "      <td>[aceite de oliva, agua, gelatina de oporto, ho...</td>\n",
       "      <td>[agua]</td>\n",
       "      <td>10</td>\n",
       "    </tr>\n",
       "    <tr>\n",
       "      <th>1</th>\n",
       "      <td>10</td>\n",
       "      <td>salmonetes Gaudí</td>\n",
       "      <td>1987</td>\n",
       "      <td>[aceite de oliva, anchoa en aceite, calabacín,...</td>\n",
       "      <td>[agua, brunoise, cocción, hervir, horno, marca...</td>\n",
       "      <td>10</td>\n",
       "    </tr>\n",
       "    <tr>\n",
       "      <th>2</th>\n",
       "      <td>100</td>\n",
       "      <td>oursins</td>\n",
       "      <td>1990</td>\n",
       "      <td>[avellanas tostadas, azúcar, cacao en polvo, c...</td>\n",
       "      <td>[horno, secar]</td>\n",
       "      <td>10</td>\n",
       "    </tr>\n",
       "    <tr>\n",
       "      <th>3</th>\n",
       "      <td>1000</td>\n",
       "      <td>ravioli sférico de té con cubo helado de limón</td>\n",
       "      <td>2004</td>\n",
       "      <td>[agua, alginato sódico, azúcar, infusión, limó...</td>\n",
       "      <td>[agua, min]</td>\n",
       "      <td>30</td>\n",
       "    </tr>\n",
       "    <tr>\n",
       "      <th>4</th>\n",
       "      <td>1001</td>\n",
       "      <td>ceps en ámbar de su caldo</td>\n",
       "      <td>2004</td>\n",
       "      <td>[aceite de girasol, aceite de oliva, agua, ajo...</td>\n",
       "      <td>[agua, cazuela, confitar, conservar, escaldar,...</td>\n",
       "      <td>30</td>\n",
       "    </tr>\n",
       "  </tbody>\n",
       "</table>\n",
       "</div>"
      ],
      "text/plain": [
       "    _id                                           title  year  \\\n",
       "0     1            terrina de melón con gelée de oporto  1987   \n",
       "1    10                                salmonetes Gaudí  1987   \n",
       "2   100                                         oursins  1990   \n",
       "3  1000  ravioli sférico de té con cubo helado de limón  2004   \n",
       "4  1001                       ceps en ámbar de su caldo  2004   \n",
       "\n",
       "                                         ingredients  \\\n",
       "0  [aceite de oliva, agua, gelatina de oporto, ho...   \n",
       "1  [aceite de oliva, anchoa en aceite, calabacín,...   \n",
       "2  [avellanas tostadas, azúcar, cacao en polvo, c...   \n",
       "3  [agua, alginato sódico, azúcar, infusión, limó...   \n",
       "4  [aceite de girasol, aceite de oliva, agua, ajo...   \n",
       "\n",
       "                                          techniques  creativity  \n",
       "0                                             [agua]          10  \n",
       "1  [agua, brunoise, cocción, hervir, horno, marca...          10  \n",
       "2                                     [horno, secar]          10  \n",
       "3                                        [agua, min]          30  \n",
       "4  [agua, cazuela, confitar, conservar, escaldar,...          30  "
      ]
     },
     "execution_count": 7,
     "metadata": {},
     "output_type": "execute_result"
    }
   ],
   "source": [
    "elbulli_types_recipes_df.head()"
   ]
  },
  {
   "cell_type": "code",
   "execution_count": 4,
   "metadata": {
    "collapsed": true
   },
   "outputs": [],
   "source": [
    "elbulli_types_recipes_df['creativity'] = elbulli_types_recipes_df.apply(\n",
    "    lambda x: 10 if 1987 <= x['year'] <= 1997 else \\\n",
    "              20 if 1998 <= x['year'] <= 2001 else \\\n",
    "              30 if 2002 <= x['year'] <= 2005 else \\\n",
    "              'UNKOWN', axis=1)"
   ]
  },
  {
   "cell_type": "code",
   "execution_count": 5,
   "metadata": {
    "collapsed": false,
    "scrolled": true
   },
   "outputs": [
    {
     "data": {
      "text/html": [
       "<div>\n",
       "<table border=\"1\" class=\"dataframe\">\n",
       "  <thead>\n",
       "    <tr style=\"text-align: right;\">\n",
       "      <th></th>\n",
       "      <th>_id</th>\n",
       "      <th>title</th>\n",
       "      <th>year</th>\n",
       "      <th>ingredients</th>\n",
       "      <th>techniques</th>\n",
       "      <th>creativity</th>\n",
       "    </tr>\n",
       "  </thead>\n",
       "  <tbody>\n",
       "    <tr>\n",
       "      <th>0</th>\n",
       "      <td>1</td>\n",
       "      <td>terrina de melón con gelée de oporto</td>\n",
       "      <td>1987</td>\n",
       "      <td>[\"aceite de oliva\",\"agua\",\"gelatina de oporto\"...</td>\n",
       "      <td>[\"agua\"]</td>\n",
       "      <td>10</td>\n",
       "    </tr>\n",
       "    <tr>\n",
       "      <th>1</th>\n",
       "      <td>10</td>\n",
       "      <td>salmonetes Gaudí</td>\n",
       "      <td>1987</td>\n",
       "      <td>[\"aceite de oliva\",\"anchoa en aceite\",\"calabac...</td>\n",
       "      <td>[\"agua\",\"brunoise\",\"cocción\",\"hervir\",\"horno\",...</td>\n",
       "      <td>10</td>\n",
       "    </tr>\n",
       "    <tr>\n",
       "      <th>2</th>\n",
       "      <td>100</td>\n",
       "      <td>oursins</td>\n",
       "      <td>1990</td>\n",
       "      <td>[\"avellanas tostadas\",\"azúcar\",\"cacao en polvo...</td>\n",
       "      <td>[\"horno\",\"secar\"]</td>\n",
       "      <td>10</td>\n",
       "    </tr>\n",
       "    <tr>\n",
       "      <th>3</th>\n",
       "      <td>1000</td>\n",
       "      <td>ravioli sférico de té con cubo helado de limón</td>\n",
       "      <td>2004</td>\n",
       "      <td>[\"agua\",\"alginato sódico\",\"azúcar\",\"infusión\",...</td>\n",
       "      <td>[\"agua\",\"min\"]</td>\n",
       "      <td>30</td>\n",
       "    </tr>\n",
       "    <tr>\n",
       "      <th>4</th>\n",
       "      <td>1001</td>\n",
       "      <td>ceps en ámbar de su caldo</td>\n",
       "      <td>2004</td>\n",
       "      <td>[\"aceite de girasol\",\"aceite de oliva\",\"agua\",...</td>\n",
       "      <td>[\"agua\",\"cazuela\",\"confitar\",\"conservar\",\"esca...</td>\n",
       "      <td>30</td>\n",
       "    </tr>\n",
       "  </tbody>\n",
       "</table>\n",
       "</div>"
      ],
      "text/plain": [
       "    _id                                           title  year  \\\n",
       "0     1            terrina de melón con gelée de oporto  1987   \n",
       "1    10                                salmonetes Gaudí  1987   \n",
       "2   100                                         oursins  1990   \n",
       "3  1000  ravioli sférico de té con cubo helado de limón  2004   \n",
       "4  1001                       ceps en ámbar de su caldo  2004   \n",
       "\n",
       "                                         ingredients  \\\n",
       "0  [\"aceite de oliva\",\"agua\",\"gelatina de oporto\"...   \n",
       "1  [\"aceite de oliva\",\"anchoa en aceite\",\"calabac...   \n",
       "2  [\"avellanas tostadas\",\"azúcar\",\"cacao en polvo...   \n",
       "3  [\"agua\",\"alginato sódico\",\"azúcar\",\"infusión\",...   \n",
       "4  [\"aceite de girasol\",\"aceite de oliva\",\"agua\",...   \n",
       "\n",
       "                                          techniques  creativity  \n",
       "0                                           [\"agua\"]          10  \n",
       "1  [\"agua\",\"brunoise\",\"cocción\",\"hervir\",\"horno\",...          10  \n",
       "2                                  [\"horno\",\"secar\"]          10  \n",
       "3                                     [\"agua\",\"min\"]          30  \n",
       "4  [\"agua\",\"cazuela\",\"confitar\",\"conservar\",\"esca...          30  "
      ]
     },
     "execution_count": 5,
     "metadata": {},
     "output_type": "execute_result"
    }
   ],
   "source": [
    "elbulli_types_recipes_df.head()"
   ]
  },
  {
   "cell_type": "markdown",
   "metadata": {},
   "source": [
    "### cookpad"
   ]
  },
  {
   "cell_type": "code",
   "execution_count": 20,
   "metadata": {
    "collapsed": false
   },
   "outputs": [],
   "source": [
    "cookpad_types_recipes_df = pd.read_csv('data/recipes_cookpad_types.csv')"
   ]
  },
  {
   "cell_type": "code",
   "execution_count": 21,
   "metadata": {
    "collapsed": false
   },
   "outputs": [
    {
     "data": {
      "text/plain": [
       "_id             int64\n",
       "title          object\n",
       "cuisine        object\n",
       "year            int64\n",
       "ingredients    object\n",
       "techniques     object\n",
       "dtype: object"
      ]
     },
     "execution_count": 21,
     "metadata": {},
     "output_type": "execute_result"
    }
   ],
   "source": [
    "cookpad_types_recipes_df.dtypes"
   ]
  },
  {
   "cell_type": "code",
   "execution_count": 22,
   "metadata": {
    "collapsed": false
   },
   "outputs": [
    {
     "data": {
      "text/html": [
       "<div>\n",
       "<table border=\"1\" class=\"dataframe\">\n",
       "  <thead>\n",
       "    <tr style=\"text-align: right;\">\n",
       "      <th></th>\n",
       "      <th>_id</th>\n",
       "      <th>title</th>\n",
       "      <th>cuisine</th>\n",
       "      <th>year</th>\n",
       "      <th>ingredients</th>\n",
       "      <th>techniques</th>\n",
       "    </tr>\n",
       "  </thead>\n",
       "  <tbody>\n",
       "    <tr>\n",
       "      <th>0</th>\n",
       "      <td>100002</td>\n",
       "      <td>Boquerones en Vinagre al estilo andaluz</td>\n",
       "      <td>España</td>\n",
       "      <td>2009</td>\n",
       "      <td>[\"ajo\",\"perejil\",\"limón\",\"boquerones\",\"vinagre...</td>\n",
       "      <td>[\"macerar\",\"agua\"]</td>\n",
       "    </tr>\n",
       "    <tr>\n",
       "      <th>1</th>\n",
       "      <td>100005</td>\n",
       "      <td>Croquetas marineras</td>\n",
       "      <td>España</td>\n",
       "      <td>2009</td>\n",
       "      <td>[\"oliva\",\"harina\",\"pimienta\",\"huevos\",\"huevo\",...</td>\n",
       "      <td>[\"agua\",\"rebozar\",\"en agua\"]</td>\n",
       "    </tr>\n",
       "    <tr>\n",
       "      <th>2</th>\n",
       "      <td>100007</td>\n",
       "      <td>Bolitas árabes con ensalada</td>\n",
       "      <td>Marruecos</td>\n",
       "      <td>2009</td>\n",
       "      <td>[\"garbanzos\",\"ajo\",\"sal\",\"perejil\",\"pimienta\",...</td>\n",
       "      <td>[\"freír\",\"remojar\",\"sartén\"]</td>\n",
       "    </tr>\n",
       "    <tr>\n",
       "      <th>3</th>\n",
       "      <td>100018</td>\n",
       "      <td>Arroz con leche de mi cosecha</td>\n",
       "      <td>España</td>\n",
       "      <td>2009</td>\n",
       "      <td>[\"canela\",\"azúcar\",\"limón\",\"leche\",\"arroz\",\"sa...</td>\n",
       "      <td>[\"hervir\",\"cocer\",\"agua\",\"a fuego lento\",\"fueg...</td>\n",
       "    </tr>\n",
       "    <tr>\n",
       "      <th>4</th>\n",
       "      <td>100022</td>\n",
       "      <td>Ensalada de Arroz con Jamón</td>\n",
       "      <td>España</td>\n",
       "      <td>2009</td>\n",
       "      <td>[\"nuez\",\"lechuga\",\"jamón serrano\",\"perejil\",\"l...</td>\n",
       "      <td>[\"cocidos\",\"agua\",\"fría\",\"cocido\",\"sal\"]</td>\n",
       "    </tr>\n",
       "  </tbody>\n",
       "</table>\n",
       "</div>"
      ],
      "text/plain": [
       "      _id                                    title    cuisine  year  \\\n",
       "0  100002  Boquerones en Vinagre al estilo andaluz     España  2009   \n",
       "1  100005                      Croquetas marineras     España  2009   \n",
       "2  100007              Bolitas árabes con ensalada  Marruecos  2009   \n",
       "3  100018            Arroz con leche de mi cosecha     España  2009   \n",
       "4  100022              Ensalada de Arroz con Jamón     España  2009   \n",
       "\n",
       "                                         ingredients  \\\n",
       "0  [\"ajo\",\"perejil\",\"limón\",\"boquerones\",\"vinagre...   \n",
       "1  [\"oliva\",\"harina\",\"pimienta\",\"huevos\",\"huevo\",...   \n",
       "2  [\"garbanzos\",\"ajo\",\"sal\",\"perejil\",\"pimienta\",...   \n",
       "3  [\"canela\",\"azúcar\",\"limón\",\"leche\",\"arroz\",\"sa...   \n",
       "4  [\"nuez\",\"lechuga\",\"jamón serrano\",\"perejil\",\"l...   \n",
       "\n",
       "                                          techniques  \n",
       "0                                 [\"macerar\",\"agua\"]  \n",
       "1                       [\"agua\",\"rebozar\",\"en agua\"]  \n",
       "2                       [\"freír\",\"remojar\",\"sartén\"]  \n",
       "3  [\"hervir\",\"cocer\",\"agua\",\"a fuego lento\",\"fueg...  \n",
       "4           [\"cocidos\",\"agua\",\"fría\",\"cocido\",\"sal\"]  "
      ]
     },
     "execution_count": 22,
     "metadata": {},
     "output_type": "execute_result"
    }
   ],
   "source": [
    "cookpad_types_recipes_df.head()"
   ]
  },
  {
   "cell_type": "code",
   "execution_count": 23,
   "metadata": {
    "collapsed": false
   },
   "outputs": [
    {
     "ename": "ValueError",
     "evalue": "could not broadcast input array from shape (9) into shape (6)",
     "output_type": "error",
     "traceback": [
      "\u001b[1;31m---------------------------------------------------------------------------\u001b[0m",
      "\u001b[1;31mValueError\u001b[0m                                Traceback (most recent call last)",
      "\u001b[1;32m<ipython-input-23-ad441a1f01e8>\u001b[0m in \u001b[0;36m<module>\u001b[1;34m()\u001b[0m\n\u001b[1;32m----> 1\u001b[1;33m \u001b[0mcookpad_raw_recipes_df\u001b[0m\u001b[1;33m[\u001b[0m\u001b[1;34m'ingredients'\u001b[0m\u001b[1;33m]\u001b[0m \u001b[1;33m=\u001b[0m \u001b[0mcookpad_raw_recipes_df\u001b[0m\u001b[1;33m.\u001b[0m\u001b[0mapply\u001b[0m\u001b[1;33m(\u001b[0m\u001b[1;32mlambda\u001b[0m \u001b[0mx\u001b[0m\u001b[1;33m:\u001b[0m \u001b[0mjson\u001b[0m\u001b[1;33m.\u001b[0m\u001b[0mloads\u001b[0m\u001b[1;33m(\u001b[0m\u001b[0mx\u001b[0m\u001b[1;33m[\u001b[0m\u001b[1;34m'ingredients'\u001b[0m\u001b[1;33m]\u001b[0m\u001b[1;33m)\u001b[0m\u001b[1;33m,\u001b[0m \u001b[0maxis\u001b[0m\u001b[1;33m=\u001b[0m\u001b[1;36m1\u001b[0m\u001b[1;33m)\u001b[0m\u001b[1;33m\u001b[0m\u001b[0m\n\u001b[0m\u001b[0;32m      2\u001b[0m \u001b[0mcookpad_raw_recipes_df\u001b[0m\u001b[1;33m[\u001b[0m\u001b[1;34m'techniques'\u001b[0m\u001b[1;33m]\u001b[0m \u001b[1;33m=\u001b[0m \u001b[0mcookpad_raw_recipes_df\u001b[0m\u001b[1;33m.\u001b[0m\u001b[0mapply\u001b[0m\u001b[1;33m(\u001b[0m\u001b[1;32mlambda\u001b[0m \u001b[0mx\u001b[0m\u001b[1;33m:\u001b[0m \u001b[0mjson\u001b[0m\u001b[1;33m.\u001b[0m\u001b[0mloads\u001b[0m\u001b[1;33m(\u001b[0m\u001b[0mx\u001b[0m\u001b[1;33m[\u001b[0m\u001b[1;34m'techniques'\u001b[0m\u001b[1;33m]\u001b[0m\u001b[1;33m)\u001b[0m\u001b[1;33m,\u001b[0m \u001b[0maxis\u001b[0m\u001b[1;33m=\u001b[0m\u001b[1;36m1\u001b[0m\u001b[1;33m)\u001b[0m\u001b[1;33m\u001b[0m\u001b[0m\n",
      "\u001b[1;32m/home/antonio/virtualenvs/elbulli/lib/python3.4/site-packages/pandas/core/frame.py\u001b[0m in \u001b[0;36mapply\u001b[1;34m(self, func, axis, broadcast, raw, reduce, args, **kwds)\u001b[0m\n\u001b[0;32m   4059\u001b[0m                     \u001b[1;32mif\u001b[0m \u001b[0mreduce\u001b[0m \u001b[1;32mis\u001b[0m \u001b[1;32mNone\u001b[0m\u001b[1;33m:\u001b[0m\u001b[1;33m\u001b[0m\u001b[0m\n\u001b[0;32m   4060\u001b[0m                         \u001b[0mreduce\u001b[0m \u001b[1;33m=\u001b[0m \u001b[1;32mTrue\u001b[0m\u001b[1;33m\u001b[0m\u001b[0m\n\u001b[1;32m-> 4061\u001b[1;33m                     \u001b[1;32mreturn\u001b[0m \u001b[0mself\u001b[0m\u001b[1;33m.\u001b[0m\u001b[0m_apply_standard\u001b[0m\u001b[1;33m(\u001b[0m\u001b[0mf\u001b[0m\u001b[1;33m,\u001b[0m \u001b[0maxis\u001b[0m\u001b[1;33m,\u001b[0m \u001b[0mreduce\u001b[0m\u001b[1;33m=\u001b[0m\u001b[0mreduce\u001b[0m\u001b[1;33m)\u001b[0m\u001b[1;33m\u001b[0m\u001b[0m\n\u001b[0m\u001b[0;32m   4062\u001b[0m             \u001b[1;32melse\u001b[0m\u001b[1;33m:\u001b[0m\u001b[1;33m\u001b[0m\u001b[0m\n\u001b[0;32m   4063\u001b[0m                 \u001b[1;32mreturn\u001b[0m \u001b[0mself\u001b[0m\u001b[1;33m.\u001b[0m\u001b[0m_apply_broadcast\u001b[0m\u001b[1;33m(\u001b[0m\u001b[0mf\u001b[0m\u001b[1;33m,\u001b[0m \u001b[0maxis\u001b[0m\u001b[1;33m)\u001b[0m\u001b[1;33m\u001b[0m\u001b[0m\n",
      "\u001b[1;32m/home/antonio/virtualenvs/elbulli/lib/python3.4/site-packages/pandas/core/frame.py\u001b[0m in \u001b[0;36m_apply_standard\u001b[1;34m(self, func, axis, ignore_failures, reduce)\u001b[0m\n\u001b[0;32m   4172\u001b[0m                 \u001b[0mindex\u001b[0m \u001b[1;33m=\u001b[0m \u001b[1;32mNone\u001b[0m\u001b[1;33m\u001b[0m\u001b[0m\n\u001b[0;32m   4173\u001b[0m \u001b[1;33m\u001b[0m\u001b[0m\n\u001b[1;32m-> 4174\u001b[1;33m             \u001b[0mresult\u001b[0m \u001b[1;33m=\u001b[0m \u001b[0mself\u001b[0m\u001b[1;33m.\u001b[0m\u001b[0m_constructor\u001b[0m\u001b[1;33m(\u001b[0m\u001b[0mdata\u001b[0m\u001b[1;33m=\u001b[0m\u001b[0mresults\u001b[0m\u001b[1;33m,\u001b[0m \u001b[0mindex\u001b[0m\u001b[1;33m=\u001b[0m\u001b[0mindex\u001b[0m\u001b[1;33m)\u001b[0m\u001b[1;33m\u001b[0m\u001b[0m\n\u001b[0m\u001b[0;32m   4175\u001b[0m             \u001b[0mresult\u001b[0m\u001b[1;33m.\u001b[0m\u001b[0mcolumns\u001b[0m \u001b[1;33m=\u001b[0m \u001b[0mres_index\u001b[0m\u001b[1;33m\u001b[0m\u001b[0m\n\u001b[0;32m   4176\u001b[0m \u001b[1;33m\u001b[0m\u001b[0m\n",
      "\u001b[1;32m/home/antonio/virtualenvs/elbulli/lib/python3.4/site-packages/pandas/core/frame.py\u001b[0m in \u001b[0;36m__init__\u001b[1;34m(self, data, index, columns, dtype, copy)\u001b[0m\n\u001b[0;32m    222\u001b[0m                                  dtype=dtype, copy=copy)\n\u001b[0;32m    223\u001b[0m         \u001b[1;32melif\u001b[0m \u001b[0misinstance\u001b[0m\u001b[1;33m(\u001b[0m\u001b[0mdata\u001b[0m\u001b[1;33m,\u001b[0m \u001b[0mdict\u001b[0m\u001b[1;33m)\u001b[0m\u001b[1;33m:\u001b[0m\u001b[1;33m\u001b[0m\u001b[0m\n\u001b[1;32m--> 224\u001b[1;33m             \u001b[0mmgr\u001b[0m \u001b[1;33m=\u001b[0m \u001b[0mself\u001b[0m\u001b[1;33m.\u001b[0m\u001b[0m_init_dict\u001b[0m\u001b[1;33m(\u001b[0m\u001b[0mdata\u001b[0m\u001b[1;33m,\u001b[0m \u001b[0mindex\u001b[0m\u001b[1;33m,\u001b[0m \u001b[0mcolumns\u001b[0m\u001b[1;33m,\u001b[0m \u001b[0mdtype\u001b[0m\u001b[1;33m=\u001b[0m\u001b[0mdtype\u001b[0m\u001b[1;33m)\u001b[0m\u001b[1;33m\u001b[0m\u001b[0m\n\u001b[0m\u001b[0;32m    225\u001b[0m         \u001b[1;32melif\u001b[0m \u001b[0misinstance\u001b[0m\u001b[1;33m(\u001b[0m\u001b[0mdata\u001b[0m\u001b[1;33m,\u001b[0m \u001b[0mma\u001b[0m\u001b[1;33m.\u001b[0m\u001b[0mMaskedArray\u001b[0m\u001b[1;33m)\u001b[0m\u001b[1;33m:\u001b[0m\u001b[1;33m\u001b[0m\u001b[0m\n\u001b[0;32m    226\u001b[0m             \u001b[1;32mimport\u001b[0m \u001b[0mnumpy\u001b[0m\u001b[1;33m.\u001b[0m\u001b[0mma\u001b[0m\u001b[1;33m.\u001b[0m\u001b[0mmrecords\u001b[0m \u001b[1;32mas\u001b[0m \u001b[0mmrecords\u001b[0m\u001b[1;33m\u001b[0m\u001b[0m\n",
      "\u001b[1;32m/home/antonio/virtualenvs/elbulli/lib/python3.4/site-packages/pandas/core/frame.py\u001b[0m in \u001b[0;36m_init_dict\u001b[1;34m(self, data, index, columns, dtype)\u001b[0m\n\u001b[0;32m    358\u001b[0m             \u001b[0marrays\u001b[0m \u001b[1;33m=\u001b[0m \u001b[1;33m[\u001b[0m\u001b[0mdata\u001b[0m\u001b[1;33m[\u001b[0m\u001b[0mk\u001b[0m\u001b[1;33m]\u001b[0m \u001b[1;32mfor\u001b[0m \u001b[0mk\u001b[0m \u001b[1;32min\u001b[0m \u001b[0mkeys\u001b[0m\u001b[1;33m]\u001b[0m\u001b[1;33m\u001b[0m\u001b[0m\n\u001b[0;32m    359\u001b[0m \u001b[1;33m\u001b[0m\u001b[0m\n\u001b[1;32m--> 360\u001b[1;33m         \u001b[1;32mreturn\u001b[0m \u001b[0m_arrays_to_mgr\u001b[0m\u001b[1;33m(\u001b[0m\u001b[0marrays\u001b[0m\u001b[1;33m,\u001b[0m \u001b[0mdata_names\u001b[0m\u001b[1;33m,\u001b[0m \u001b[0mindex\u001b[0m\u001b[1;33m,\u001b[0m \u001b[0mcolumns\u001b[0m\u001b[1;33m,\u001b[0m \u001b[0mdtype\u001b[0m\u001b[1;33m=\u001b[0m\u001b[0mdtype\u001b[0m\u001b[1;33m)\u001b[0m\u001b[1;33m\u001b[0m\u001b[0m\n\u001b[0m\u001b[0;32m    361\u001b[0m \u001b[1;33m\u001b[0m\u001b[0m\n\u001b[0;32m    362\u001b[0m     \u001b[1;32mdef\u001b[0m \u001b[0m_init_ndarray\u001b[0m\u001b[1;33m(\u001b[0m\u001b[0mself\u001b[0m\u001b[1;33m,\u001b[0m \u001b[0mvalues\u001b[0m\u001b[1;33m,\u001b[0m \u001b[0mindex\u001b[0m\u001b[1;33m,\u001b[0m \u001b[0mcolumns\u001b[0m\u001b[1;33m,\u001b[0m \u001b[0mdtype\u001b[0m\u001b[1;33m=\u001b[0m\u001b[1;32mNone\u001b[0m\u001b[1;33m,\u001b[0m \u001b[0mcopy\u001b[0m\u001b[1;33m=\u001b[0m\u001b[1;32mFalse\u001b[0m\u001b[1;33m)\u001b[0m\u001b[1;33m:\u001b[0m\u001b[1;33m\u001b[0m\u001b[0m\n",
      "\u001b[1;32m/home/antonio/virtualenvs/elbulli/lib/python3.4/site-packages/pandas/core/frame.py\u001b[0m in \u001b[0;36m_arrays_to_mgr\u001b[1;34m(arrays, arr_names, index, columns, dtype)\u001b[0m\n\u001b[0;32m   5239\u001b[0m     \u001b[0maxes\u001b[0m \u001b[1;33m=\u001b[0m \u001b[1;33m[\u001b[0m\u001b[0m_ensure_index\u001b[0m\u001b[1;33m(\u001b[0m\u001b[0mcolumns\u001b[0m\u001b[1;33m)\u001b[0m\u001b[1;33m,\u001b[0m \u001b[0m_ensure_index\u001b[0m\u001b[1;33m(\u001b[0m\u001b[0mindex\u001b[0m\u001b[1;33m)\u001b[0m\u001b[1;33m]\u001b[0m\u001b[1;33m\u001b[0m\u001b[0m\n\u001b[0;32m   5240\u001b[0m \u001b[1;33m\u001b[0m\u001b[0m\n\u001b[1;32m-> 5241\u001b[1;33m     \u001b[1;32mreturn\u001b[0m \u001b[0mcreate_block_manager_from_arrays\u001b[0m\u001b[1;33m(\u001b[0m\u001b[0marrays\u001b[0m\u001b[1;33m,\u001b[0m \u001b[0marr_names\u001b[0m\u001b[1;33m,\u001b[0m \u001b[0maxes\u001b[0m\u001b[1;33m)\u001b[0m\u001b[1;33m\u001b[0m\u001b[0m\n\u001b[0m\u001b[0;32m   5242\u001b[0m \u001b[1;33m\u001b[0m\u001b[0m\n\u001b[0;32m   5243\u001b[0m \u001b[1;33m\u001b[0m\u001b[0m\n",
      "\u001b[1;32m/home/antonio/virtualenvs/elbulli/lib/python3.4/site-packages/pandas/core/internals.py\u001b[0m in \u001b[0;36mcreate_block_manager_from_arrays\u001b[1;34m(arrays, names, axes)\u001b[0m\n\u001b[0;32m   4002\u001b[0m         \u001b[1;32mreturn\u001b[0m \u001b[0mmgr\u001b[0m\u001b[1;33m\u001b[0m\u001b[0m\n\u001b[0;32m   4003\u001b[0m     \u001b[1;32mexcept\u001b[0m \u001b[0mValueError\u001b[0m \u001b[1;32mas\u001b[0m \u001b[0me\u001b[0m\u001b[1;33m:\u001b[0m\u001b[1;33m\u001b[0m\u001b[0m\n\u001b[1;32m-> 4004\u001b[1;33m         \u001b[0mconstruction_error\u001b[0m\u001b[1;33m(\u001b[0m\u001b[0mlen\u001b[0m\u001b[1;33m(\u001b[0m\u001b[0marrays\u001b[0m\u001b[1;33m)\u001b[0m\u001b[1;33m,\u001b[0m \u001b[0marrays\u001b[0m\u001b[1;33m[\u001b[0m\u001b[1;36m0\u001b[0m\u001b[1;33m]\u001b[0m\u001b[1;33m.\u001b[0m\u001b[0mshape\u001b[0m\u001b[1;33m,\u001b[0m \u001b[0maxes\u001b[0m\u001b[1;33m,\u001b[0m \u001b[0me\u001b[0m\u001b[1;33m)\u001b[0m\u001b[1;33m\u001b[0m\u001b[0m\n\u001b[0m\u001b[0;32m   4005\u001b[0m \u001b[1;33m\u001b[0m\u001b[0m\n\u001b[0;32m   4006\u001b[0m \u001b[1;33m\u001b[0m\u001b[0m\n",
      "\u001b[1;32m/home/antonio/virtualenvs/elbulli/lib/python3.4/site-packages/pandas/core/internals.py\u001b[0m in \u001b[0;36mconstruction_error\u001b[1;34m(tot_items, block_shape, axes, e)\u001b[0m\n\u001b[0;32m   3964\u001b[0m     \u001b[0mimplied\u001b[0m \u001b[1;33m=\u001b[0m \u001b[0mtuple\u001b[0m\u001b[1;33m(\u001b[0m\u001b[0mmap\u001b[0m\u001b[1;33m(\u001b[0m\u001b[0mint\u001b[0m\u001b[1;33m,\u001b[0m \u001b[1;33m[\u001b[0m\u001b[0mlen\u001b[0m\u001b[1;33m(\u001b[0m\u001b[0max\u001b[0m\u001b[1;33m)\u001b[0m \u001b[1;32mfor\u001b[0m \u001b[0max\u001b[0m \u001b[1;32min\u001b[0m \u001b[0maxes\u001b[0m\u001b[1;33m]\u001b[0m\u001b[1;33m)\u001b[0m\u001b[1;33m)\u001b[0m\u001b[1;33m\u001b[0m\u001b[0m\n\u001b[0;32m   3965\u001b[0m     \u001b[1;32mif\u001b[0m \u001b[0mpassed\u001b[0m \u001b[1;33m==\u001b[0m \u001b[0mimplied\u001b[0m \u001b[1;32mand\u001b[0m \u001b[0me\u001b[0m \u001b[1;32mis\u001b[0m \u001b[1;32mnot\u001b[0m \u001b[1;32mNone\u001b[0m\u001b[1;33m:\u001b[0m\u001b[1;33m\u001b[0m\u001b[0m\n\u001b[1;32m-> 3966\u001b[1;33m         \u001b[1;32mraise\u001b[0m \u001b[0me\u001b[0m\u001b[1;33m\u001b[0m\u001b[0m\n\u001b[0m\u001b[0;32m   3967\u001b[0m     \u001b[1;32mif\u001b[0m \u001b[0mblock_shape\u001b[0m\u001b[1;33m[\u001b[0m\u001b[1;36m0\u001b[0m\u001b[1;33m]\u001b[0m \u001b[1;33m==\u001b[0m \u001b[1;36m0\u001b[0m\u001b[1;33m:\u001b[0m\u001b[1;33m\u001b[0m\u001b[0m\n\u001b[0;32m   3968\u001b[0m         \u001b[1;32mraise\u001b[0m \u001b[0mValueError\u001b[0m\u001b[1;33m(\u001b[0m\u001b[1;34m\"Empty data passed with indices specified.\"\u001b[0m\u001b[1;33m)\u001b[0m\u001b[1;33m\u001b[0m\u001b[0m\n",
      "\u001b[1;32m/home/antonio/virtualenvs/elbulli/lib/python3.4/site-packages/pandas/core/internals.py\u001b[0m in \u001b[0;36mcreate_block_manager_from_arrays\u001b[1;34m(arrays, names, axes)\u001b[0m\n\u001b[0;32m   3997\u001b[0m \u001b[1;33m\u001b[0m\u001b[0m\n\u001b[0;32m   3998\u001b[0m     \u001b[1;32mtry\u001b[0m\u001b[1;33m:\u001b[0m\u001b[1;33m\u001b[0m\u001b[0m\n\u001b[1;32m-> 3999\u001b[1;33m         \u001b[0mblocks\u001b[0m \u001b[1;33m=\u001b[0m \u001b[0mform_blocks\u001b[0m\u001b[1;33m(\u001b[0m\u001b[0marrays\u001b[0m\u001b[1;33m,\u001b[0m \u001b[0mnames\u001b[0m\u001b[1;33m,\u001b[0m \u001b[0maxes\u001b[0m\u001b[1;33m)\u001b[0m\u001b[1;33m\u001b[0m\u001b[0m\n\u001b[0m\u001b[0;32m   4000\u001b[0m         \u001b[0mmgr\u001b[0m \u001b[1;33m=\u001b[0m \u001b[0mBlockManager\u001b[0m\u001b[1;33m(\u001b[0m\u001b[0mblocks\u001b[0m\u001b[1;33m,\u001b[0m \u001b[0maxes\u001b[0m\u001b[1;33m)\u001b[0m\u001b[1;33m\u001b[0m\u001b[0m\n\u001b[0;32m   4001\u001b[0m         \u001b[0mmgr\u001b[0m\u001b[1;33m.\u001b[0m\u001b[0m_consolidate_inplace\u001b[0m\u001b[1;33m(\u001b[0m\u001b[1;33m)\u001b[0m\u001b[1;33m\u001b[0m\u001b[0m\n",
      "\u001b[1;32m/home/antonio/virtualenvs/elbulli/lib/python3.4/site-packages/pandas/core/internals.py\u001b[0m in \u001b[0;36mform_blocks\u001b[1;34m(arrays, names, axes)\u001b[0m\n\u001b[0;32m   4094\u001b[0m \u001b[1;33m\u001b[0m\u001b[0m\n\u001b[0;32m   4095\u001b[0m     \u001b[1;32mif\u001b[0m \u001b[0mlen\u001b[0m\u001b[1;33m(\u001b[0m\u001b[0mobject_items\u001b[0m\u001b[1;33m)\u001b[0m \u001b[1;33m>\u001b[0m \u001b[1;36m0\u001b[0m\u001b[1;33m:\u001b[0m\u001b[1;33m\u001b[0m\u001b[0m\n\u001b[1;32m-> 4096\u001b[1;33m         \u001b[0mobject_blocks\u001b[0m \u001b[1;33m=\u001b[0m \u001b[0m_simple_blockify\u001b[0m\u001b[1;33m(\u001b[0m\u001b[0mobject_items\u001b[0m\u001b[1;33m,\u001b[0m \u001b[0mnp\u001b[0m\u001b[1;33m.\u001b[0m\u001b[0mobject_\u001b[0m\u001b[1;33m)\u001b[0m\u001b[1;33m\u001b[0m\u001b[0m\n\u001b[0m\u001b[0;32m   4097\u001b[0m         \u001b[0mblocks\u001b[0m\u001b[1;33m.\u001b[0m\u001b[0mextend\u001b[0m\u001b[1;33m(\u001b[0m\u001b[0mobject_blocks\u001b[0m\u001b[1;33m)\u001b[0m\u001b[1;33m\u001b[0m\u001b[0m\n\u001b[0;32m   4098\u001b[0m \u001b[1;33m\u001b[0m\u001b[0m\n",
      "\u001b[1;32m/home/antonio/virtualenvs/elbulli/lib/python3.4/site-packages/pandas/core/internals.py\u001b[0m in \u001b[0;36m_simple_blockify\u001b[1;34m(tuples, dtype)\u001b[0m\n\u001b[0;32m   4124\u001b[0m     \u001b[1;32mnot\u001b[0m \u001b[1;32mNone\u001b[0m\u001b[1;33m,\u001b[0m \u001b[0mcoerce\u001b[0m \u001b[0mto\u001b[0m \u001b[0mthis\u001b[0m \u001b[0mdtype\u001b[0m\u001b[1;33m\u001b[0m\u001b[0m\n\u001b[0;32m   4125\u001b[0m     \"\"\"\n\u001b[1;32m-> 4126\u001b[1;33m     \u001b[0mvalues\u001b[0m\u001b[1;33m,\u001b[0m \u001b[0mplacement\u001b[0m \u001b[1;33m=\u001b[0m \u001b[0m_stack_arrays\u001b[0m\u001b[1;33m(\u001b[0m\u001b[0mtuples\u001b[0m\u001b[1;33m,\u001b[0m \u001b[0mdtype\u001b[0m\u001b[1;33m)\u001b[0m\u001b[1;33m\u001b[0m\u001b[0m\n\u001b[0m\u001b[0;32m   4127\u001b[0m \u001b[1;33m\u001b[0m\u001b[0m\n\u001b[0;32m   4128\u001b[0m     \u001b[1;31m# CHECK DTYPE?\u001b[0m\u001b[1;33m\u001b[0m\u001b[1;33m\u001b[0m\u001b[0m\n",
      "\u001b[1;32m/home/antonio/virtualenvs/elbulli/lib/python3.4/site-packages/pandas/core/internals.py\u001b[0m in \u001b[0;36m_stack_arrays\u001b[1;34m(tuples, dtype)\u001b[0m\n\u001b[0;32m   4188\u001b[0m     \u001b[0mstacked\u001b[0m \u001b[1;33m=\u001b[0m \u001b[0mnp\u001b[0m\u001b[1;33m.\u001b[0m\u001b[0mempty\u001b[0m\u001b[1;33m(\u001b[0m\u001b[0mshape\u001b[0m\u001b[1;33m,\u001b[0m \u001b[0mdtype\u001b[0m\u001b[1;33m=\u001b[0m\u001b[0mdtype\u001b[0m\u001b[1;33m)\u001b[0m\u001b[1;33m\u001b[0m\u001b[0m\n\u001b[0;32m   4189\u001b[0m     \u001b[1;32mfor\u001b[0m \u001b[0mi\u001b[0m\u001b[1;33m,\u001b[0m \u001b[0marr\u001b[0m \u001b[1;32min\u001b[0m \u001b[0menumerate\u001b[0m\u001b[1;33m(\u001b[0m\u001b[0marrays\u001b[0m\u001b[1;33m)\u001b[0m\u001b[1;33m:\u001b[0m\u001b[1;33m\u001b[0m\u001b[0m\n\u001b[1;32m-> 4190\u001b[1;33m         \u001b[0mstacked\u001b[0m\u001b[1;33m[\u001b[0m\u001b[0mi\u001b[0m\u001b[1;33m]\u001b[0m \u001b[1;33m=\u001b[0m \u001b[0m_asarray_compat\u001b[0m\u001b[1;33m(\u001b[0m\u001b[0marr\u001b[0m\u001b[1;33m)\u001b[0m\u001b[1;33m\u001b[0m\u001b[0m\n\u001b[0m\u001b[0;32m   4191\u001b[0m \u001b[1;33m\u001b[0m\u001b[0m\n\u001b[0;32m   4192\u001b[0m     \u001b[1;32mreturn\u001b[0m \u001b[0mstacked\u001b[0m\u001b[1;33m,\u001b[0m \u001b[0mplacement\u001b[0m\u001b[1;33m\u001b[0m\u001b[0m\n",
      "\u001b[1;31mValueError\u001b[0m: could not broadcast input array from shape (9) into shape (6)"
     ]
    }
   ],
   "source": [
    "cookpad_types_recipes_df['ingredients'] = cookpad_types_recipes_df.apply(lambda x: json.loads(x['ingredients']), axis=1)\n",
    "cookpad_types_recipes_df['techniques'] = cookpad_types_recipes_df.apply(lambda x: json.loads(x['techniques']), axis=1)"
   ]
  },
  {
   "cell_type": "code",
   "execution_count": null,
   "metadata": {
    "collapsed": false
   },
   "outputs": [],
   "source": [
    "cookpad_types_recipes_df.head()"
   ]
  },
  {
   "cell_type": "code",
   "execution_count": 4,
   "metadata": {
    "collapsed": true
   },
   "outputs": [],
   "source": [
    "cookpad_types_recipes_df['creativity'] = cookpad_types_recipes_df.apply(\n",
    "    lambda x: 0, axis=1)"
   ]
  },
  {
   "cell_type": "code",
   "execution_count": 5,
   "metadata": {
    "collapsed": false,
    "scrolled": true
   },
   "outputs": [
    {
     "data": {
      "text/html": [
       "<div>\n",
       "<table border=\"1\" class=\"dataframe\">\n",
       "  <thead>\n",
       "    <tr style=\"text-align: right;\">\n",
       "      <th></th>\n",
       "      <th>_id</th>\n",
       "      <th>title</th>\n",
       "      <th>year</th>\n",
       "      <th>ingredients</th>\n",
       "      <th>techniques</th>\n",
       "      <th>creativity</th>\n",
       "    </tr>\n",
       "  </thead>\n",
       "  <tbody>\n",
       "    <tr>\n",
       "      <th>0</th>\n",
       "      <td>1</td>\n",
       "      <td>terrina de melón con gelée de oporto</td>\n",
       "      <td>1987</td>\n",
       "      <td>[\"aceite de oliva\",\"agua\",\"gelatina de oporto\"...</td>\n",
       "      <td>[\"agua\"]</td>\n",
       "      <td>10</td>\n",
       "    </tr>\n",
       "    <tr>\n",
       "      <th>1</th>\n",
       "      <td>10</td>\n",
       "      <td>salmonetes Gaudí</td>\n",
       "      <td>1987</td>\n",
       "      <td>[\"aceite de oliva\",\"anchoa en aceite\",\"calabac...</td>\n",
       "      <td>[\"agua\",\"brunoise\",\"cocción\",\"hervir\",\"horno\",...</td>\n",
       "      <td>10</td>\n",
       "    </tr>\n",
       "    <tr>\n",
       "      <th>2</th>\n",
       "      <td>100</td>\n",
       "      <td>oursins</td>\n",
       "      <td>1990</td>\n",
       "      <td>[\"avellanas tostadas\",\"azúcar\",\"cacao en polvo...</td>\n",
       "      <td>[\"horno\",\"secar\"]</td>\n",
       "      <td>10</td>\n",
       "    </tr>\n",
       "    <tr>\n",
       "      <th>3</th>\n",
       "      <td>1000</td>\n",
       "      <td>ravioli sférico de té con cubo helado de limón</td>\n",
       "      <td>2004</td>\n",
       "      <td>[\"agua\",\"alginato sódico\",\"azúcar\",\"infusión\",...</td>\n",
       "      <td>[\"agua\",\"min\"]</td>\n",
       "      <td>30</td>\n",
       "    </tr>\n",
       "    <tr>\n",
       "      <th>4</th>\n",
       "      <td>1001</td>\n",
       "      <td>ceps en ámbar de su caldo</td>\n",
       "      <td>2004</td>\n",
       "      <td>[\"aceite de girasol\",\"aceite de oliva\",\"agua\",...</td>\n",
       "      <td>[\"agua\",\"cazuela\",\"confitar\",\"conservar\",\"esca...</td>\n",
       "      <td>30</td>\n",
       "    </tr>\n",
       "  </tbody>\n",
       "</table>\n",
       "</div>"
      ],
      "text/plain": [
       "    _id                                           title  year  \\\n",
       "0     1            terrina de melón con gelée de oporto  1987   \n",
       "1    10                                salmonetes Gaudí  1987   \n",
       "2   100                                         oursins  1990   \n",
       "3  1000  ravioli sférico de té con cubo helado de limón  2004   \n",
       "4  1001                       ceps en ámbar de su caldo  2004   \n",
       "\n",
       "                                         ingredients  \\\n",
       "0  [\"aceite de oliva\",\"agua\",\"gelatina de oporto\"...   \n",
       "1  [\"aceite de oliva\",\"anchoa en aceite\",\"calabac...   \n",
       "2  [\"avellanas tostadas\",\"azúcar\",\"cacao en polvo...   \n",
       "3  [\"agua\",\"alginato sódico\",\"azúcar\",\"infusión\",...   \n",
       "4  [\"aceite de girasol\",\"aceite de oliva\",\"agua\",...   \n",
       "\n",
       "                                          techniques  creativity  \n",
       "0                                           [\"agua\"]          10  \n",
       "1  [\"agua\",\"brunoise\",\"cocción\",\"hervir\",\"horno\",...          10  \n",
       "2                                  [\"horno\",\"secar\"]          10  \n",
       "3                                     [\"agua\",\"min\"]          30  \n",
       "4  [\"agua\",\"cazuela\",\"confitar\",\"conservar\",\"esca...          30  "
      ]
     },
     "execution_count": 5,
     "metadata": {},
     "output_type": "execute_result"
    }
   ],
   "source": [
    "cookpad_types_recipes_df.head()"
   ]
  },
  {
   "cell_type": "markdown",
   "metadata": {},
   "source": [
    "### elbulli & cookpad"
   ]
  },
  {
   "cell_type": "code",
   "execution_count": 17,
   "metadata": {
    "collapsed": true
   },
   "outputs": [],
   "source": [
    "types_recipes_df = elbulli_types_recipes_df.append(cookpad_types_recipes_df)"
   ]
  },
  {
   "cell_type": "code",
   "execution_count": 19,
   "metadata": {
    "collapsed": false,
    "scrolled": true
   },
   "outputs": [
    {
     "data": {
      "text/html": [
       "<div>\n",
       "<table border=\"1\" class=\"dataframe\">\n",
       "  <thead>\n",
       "    <tr style=\"text-align: right;\">\n",
       "      <th></th>\n",
       "      <th>_id</th>\n",
       "      <th>cuisine</th>\n",
       "      <th>ingredients</th>\n",
       "      <th>techniques</th>\n",
       "      <th>title</th>\n",
       "      <th>year</th>\n",
       "    </tr>\n",
       "  </thead>\n",
       "  <tbody>\n",
       "    <tr>\n",
       "      <th>0</th>\n",
       "      <td>1</td>\n",
       "      <td>NaN</td>\n",
       "      <td>[\"hojas de gelatina\",\"pimienta blanca\",\"oporto...</td>\n",
       "      <td>[\"agua\"]</td>\n",
       "      <td>terrina de melón con gelée de oporto</td>\n",
       "      <td>1987</td>\n",
       "    </tr>\n",
       "    <tr>\n",
       "      <th>1</th>\n",
       "      <td>10</td>\n",
       "      <td>NaN</td>\n",
       "      <td>[\"vinagre balsámico\",\"pimienta negra\",\"orégano...</td>\n",
       "      <td>[\"en agua\",\"puré\",\"cocción\",\"asar\",\"horno\",\"as...</td>\n",
       "      <td>salmonetes Gaudí</td>\n",
       "      <td>1987</td>\n",
       "    </tr>\n",
       "    <tr>\n",
       "      <th>2</th>\n",
       "      <td>100</td>\n",
       "      <td>NaN</td>\n",
       "      <td>[\"avellanas tostadas\",\"chocolate\",\"claras de h...</td>\n",
       "      <td>[\"horno\",\"secar\",\"al horno\"]</td>\n",
       "      <td>oursins</td>\n",
       "      <td>1990</td>\n",
       "    </tr>\n",
       "    <tr>\n",
       "      <th>3</th>\n",
       "      <td>1000</td>\n",
       "      <td>NaN</td>\n",
       "      <td>[\"limón\",\"agua\",\"alginato sódico\",\"infusión de...</td>\n",
       "      <td>[\"fría\",\"agua\"]</td>\n",
       "      <td>ravioli sférico de té con cubo helado de limón</td>\n",
       "      <td>2004</td>\n",
       "    </tr>\n",
       "    <tr>\n",
       "      <th>4</th>\n",
       "      <td>1001</td>\n",
       "      <td>NaN</td>\n",
       "      <td>[\"pimienta negra\",\"láminas de ceps\",\"ceps\",\"ca...</td>\n",
       "      <td>[\"en agua\",\"hervido\",\"a fuego lento\",\"cocer\",\"...</td>\n",
       "      <td>ceps en ámbar de su caldo</td>\n",
       "      <td>2004</td>\n",
       "    </tr>\n",
       "  </tbody>\n",
       "</table>\n",
       "</div>"
      ],
      "text/plain": [
       "    _id cuisine                                        ingredients  \\\n",
       "0     1     NaN  [\"hojas de gelatina\",\"pimienta blanca\",\"oporto...   \n",
       "1    10     NaN  [\"vinagre balsámico\",\"pimienta negra\",\"orégano...   \n",
       "2   100     NaN  [\"avellanas tostadas\",\"chocolate\",\"claras de h...   \n",
       "3  1000     NaN  [\"limón\",\"agua\",\"alginato sódico\",\"infusión de...   \n",
       "4  1001     NaN  [\"pimienta negra\",\"láminas de ceps\",\"ceps\",\"ca...   \n",
       "\n",
       "                                          techniques  \\\n",
       "0                                           [\"agua\"]   \n",
       "1  [\"en agua\",\"puré\",\"cocción\",\"asar\",\"horno\",\"as...   \n",
       "2                       [\"horno\",\"secar\",\"al horno\"]   \n",
       "3                                    [\"fría\",\"agua\"]   \n",
       "4  [\"en agua\",\"hervido\",\"a fuego lento\",\"cocer\",\"...   \n",
       "\n",
       "                                            title  year  \n",
       "0            terrina de melón con gelée de oporto  1987  \n",
       "1                                salmonetes Gaudí  1987  \n",
       "2                                         oursins  1990  \n",
       "3  ravioli sférico de té con cubo helado de limón  2004  \n",
       "4                       ceps en ámbar de su caldo  2004  "
      ]
     },
     "execution_count": 19,
     "metadata": {},
     "output_type": "execute_result"
    }
   ],
   "source": [
    "types_recipes_df.head()"
   ]
  },
  {
   "cell_type": "code",
   "execution_count": null,
   "metadata": {
    "collapsed": true
   },
   "outputs": [],
   "source": []
  },
  {
   "cell_type": "code",
   "execution_count": null,
   "metadata": {
    "collapsed": true
   },
   "outputs": [],
   "source": []
  },
  {
   "cell_type": "markdown",
   "metadata": {},
   "source": [
    "## Cuisines of ingredients, representative techniques"
   ]
  },
  {
   "cell_type": "markdown",
   "metadata": {},
   "source": [
    "### elbulli"
   ]
  },
  {
   "cell_type": "code",
   "execution_count": 2,
   "metadata": {
    "collapsed": false
   },
   "outputs": [],
   "source": [
    "elbulli_cuis_recipes_df = pd.read_csv('data/recipes_elbulli_cuisines.csv')"
   ]
  },
  {
   "cell_type": "code",
   "execution_count": 3,
   "metadata": {
    "collapsed": false
   },
   "outputs": [
    {
     "data": {
      "text/plain": [
       "_id             int64\n",
       "title          object\n",
       "year            int64\n",
       "ingredients    object\n",
       "techniques     object\n",
       "dtype: object"
      ]
     },
     "execution_count": 3,
     "metadata": {},
     "output_type": "execute_result"
    }
   ],
   "source": [
    "elbulli_cuis_recipes_df.dtypes"
   ]
  },
  {
   "cell_type": "code",
   "execution_count": 4,
   "metadata": {
    "collapsed": false
   },
   "outputs": [
    {
     "data": {
      "text/html": [
       "<div>\n",
       "<table border=\"1\" class=\"dataframe\">\n",
       "  <thead>\n",
       "    <tr style=\"text-align: right;\">\n",
       "      <th></th>\n",
       "      <th>_id</th>\n",
       "      <th>title</th>\n",
       "      <th>year</th>\n",
       "      <th>ingredients</th>\n",
       "      <th>techniques</th>\n",
       "    </tr>\n",
       "  </thead>\n",
       "  <tbody>\n",
       "    <tr>\n",
       "      <th>0</th>\n",
       "      <td>1</td>\n",
       "      <td>terrina de melón con gelée de oporto</td>\n",
       "      <td>1987</td>\n",
       "      <td>[\"hojas de gelatina\",\"pimienta blanca\",\"oporto...</td>\n",
       "      <td>[\"agua\"]</td>\n",
       "    </tr>\n",
       "    <tr>\n",
       "      <th>1</th>\n",
       "      <td>10</td>\n",
       "      <td>salmonetes Gaudí</td>\n",
       "      <td>1987</td>\n",
       "      <td>[\"vinagre balsámico\",\"pimienta negra\",\"orégano...</td>\n",
       "      <td>[\"en agua\",\"puré\",\"cocción\",\"asar\",\"horno\",\"as...</td>\n",
       "    </tr>\n",
       "    <tr>\n",
       "      <th>2</th>\n",
       "      <td>100</td>\n",
       "      <td>oursins</td>\n",
       "      <td>1990</td>\n",
       "      <td>[\"avellanas tostadas\",\"chocolate\",\"claras de h...</td>\n",
       "      <td>[\"horno\",\"secar\",\"al horno\"]</td>\n",
       "    </tr>\n",
       "    <tr>\n",
       "      <th>3</th>\n",
       "      <td>1000</td>\n",
       "      <td>ravioli sférico de té con cubo helado de limón</td>\n",
       "      <td>2004</td>\n",
       "      <td>[\"limón\",\"agua\",\"alginato sódico\",\"infusión de...</td>\n",
       "      <td>[\"fría\",\"agua\"]</td>\n",
       "    </tr>\n",
       "    <tr>\n",
       "      <th>4</th>\n",
       "      <td>1001</td>\n",
       "      <td>ceps en ámbar de su caldo</td>\n",
       "      <td>2004</td>\n",
       "      <td>[\"pimienta negra\",\"láminas de ceps\",\"ceps\",\"ca...</td>\n",
       "      <td>[\"en agua\",\"hervido\",\"a fuego lento\",\"cocer\",\"...</td>\n",
       "    </tr>\n",
       "  </tbody>\n",
       "</table>\n",
       "</div>"
      ],
      "text/plain": [
       "    _id                                           title  year  \\\n",
       "0     1            terrina de melón con gelée de oporto  1987   \n",
       "1    10                                salmonetes Gaudí  1987   \n",
       "2   100                                         oursins  1990   \n",
       "3  1000  ravioli sférico de té con cubo helado de limón  2004   \n",
       "4  1001                       ceps en ámbar de su caldo  2004   \n",
       "\n",
       "                                         ingredients  \\\n",
       "0  [\"hojas de gelatina\",\"pimienta blanca\",\"oporto...   \n",
       "1  [\"vinagre balsámico\",\"pimienta negra\",\"orégano...   \n",
       "2  [\"avellanas tostadas\",\"chocolate\",\"claras de h...   \n",
       "3  [\"limón\",\"agua\",\"alginato sódico\",\"infusión de...   \n",
       "4  [\"pimienta negra\",\"láminas de ceps\",\"ceps\",\"ca...   \n",
       "\n",
       "                                          techniques  \n",
       "0                                           [\"agua\"]  \n",
       "1  [\"en agua\",\"puré\",\"cocción\",\"asar\",\"horno\",\"as...  \n",
       "2                       [\"horno\",\"secar\",\"al horno\"]  \n",
       "3                                    [\"fría\",\"agua\"]  \n",
       "4  [\"en agua\",\"hervido\",\"a fuego lento\",\"cocer\",\"...  "
      ]
     },
     "execution_count": 4,
     "metadata": {},
     "output_type": "execute_result"
    }
   ],
   "source": [
    "elbulli_cuis_recipes_df.head()"
   ]
  },
  {
   "cell_type": "code",
   "execution_count": 6,
   "metadata": {
    "collapsed": false
   },
   "outputs": [],
   "source": [
    "elbulli_cuis_recipes_df['ingredients'] = elbulli_cuis_recipes_df.apply(lambda x: json.loads(x['ingredients']), axis=1)\n",
    "elbulli_cuis_recipes_df['techniques'] = elbulli_cuis_recipes_df.apply(lambda x: json.loads(x['techniques']), axis=1)"
   ]
  },
  {
   "cell_type": "code",
   "execution_count": 7,
   "metadata": {
    "collapsed": false
   },
   "outputs": [
    {
     "data": {
      "text/html": [
       "<div>\n",
       "<table border=\"1\" class=\"dataframe\">\n",
       "  <thead>\n",
       "    <tr style=\"text-align: right;\">\n",
       "      <th></th>\n",
       "      <th>_id</th>\n",
       "      <th>title</th>\n",
       "      <th>year</th>\n",
       "      <th>ingredients</th>\n",
       "      <th>techniques</th>\n",
       "      <th>creativity</th>\n",
       "    </tr>\n",
       "  </thead>\n",
       "  <tbody>\n",
       "    <tr>\n",
       "      <th>0</th>\n",
       "      <td>1</td>\n",
       "      <td>terrina de melón con gelée de oporto</td>\n",
       "      <td>1987</td>\n",
       "      <td>[aceite de oliva, agua, gelatina de oporto, ho...</td>\n",
       "      <td>[agua]</td>\n",
       "      <td>10</td>\n",
       "    </tr>\n",
       "    <tr>\n",
       "      <th>1</th>\n",
       "      <td>10</td>\n",
       "      <td>salmonetes Gaudí</td>\n",
       "      <td>1987</td>\n",
       "      <td>[aceite de oliva, anchoa en aceite, calabacín,...</td>\n",
       "      <td>[agua, brunoise, cocción, hervir, horno, marca...</td>\n",
       "      <td>10</td>\n",
       "    </tr>\n",
       "    <tr>\n",
       "      <th>2</th>\n",
       "      <td>100</td>\n",
       "      <td>oursins</td>\n",
       "      <td>1990</td>\n",
       "      <td>[avellanas tostadas, azúcar, cacao en polvo, c...</td>\n",
       "      <td>[horno, secar]</td>\n",
       "      <td>10</td>\n",
       "    </tr>\n",
       "    <tr>\n",
       "      <th>3</th>\n",
       "      <td>1000</td>\n",
       "      <td>ravioli sférico de té con cubo helado de limón</td>\n",
       "      <td>2004</td>\n",
       "      <td>[agua, alginato sódico, azúcar, infusión, limó...</td>\n",
       "      <td>[agua, min]</td>\n",
       "      <td>30</td>\n",
       "    </tr>\n",
       "    <tr>\n",
       "      <th>4</th>\n",
       "      <td>1001</td>\n",
       "      <td>ceps en ámbar de su caldo</td>\n",
       "      <td>2004</td>\n",
       "      <td>[aceite de girasol, aceite de oliva, agua, ajo...</td>\n",
       "      <td>[agua, cazuela, confitar, conservar, escaldar,...</td>\n",
       "      <td>30</td>\n",
       "    </tr>\n",
       "  </tbody>\n",
       "</table>\n",
       "</div>"
      ],
      "text/plain": [
       "    _id                                           title  year  \\\n",
       "0     1            terrina de melón con gelée de oporto  1987   \n",
       "1    10                                salmonetes Gaudí  1987   \n",
       "2   100                                         oursins  1990   \n",
       "3  1000  ravioli sférico de té con cubo helado de limón  2004   \n",
       "4  1001                       ceps en ámbar de su caldo  2004   \n",
       "\n",
       "                                         ingredients  \\\n",
       "0  [aceite de oliva, agua, gelatina de oporto, ho...   \n",
       "1  [aceite de oliva, anchoa en aceite, calabacín,...   \n",
       "2  [avellanas tostadas, azúcar, cacao en polvo, c...   \n",
       "3  [agua, alginato sódico, azúcar, infusión, limó...   \n",
       "4  [aceite de girasol, aceite de oliva, agua, ajo...   \n",
       "\n",
       "                                          techniques  creativity  \n",
       "0                                             [agua]          10  \n",
       "1  [agua, brunoise, cocción, hervir, horno, marca...          10  \n",
       "2                                     [horno, secar]          10  \n",
       "3                                        [agua, min]          30  \n",
       "4  [agua, cazuela, confitar, conservar, escaldar,...          30  "
      ]
     },
     "execution_count": 7,
     "metadata": {},
     "output_type": "execute_result"
    }
   ],
   "source": [
    "elbulli_cuis_recipes_df.head()"
   ]
  },
  {
   "cell_type": "code",
   "execution_count": 4,
   "metadata": {
    "collapsed": true
   },
   "outputs": [],
   "source": [
    "elbulli_cuis_recipes_df['creativity'] = elbulli_cuis_recipes_df.apply(\n",
    "    lambda x: 10 if 1987 <= x['year'] <= 1997 else \\\n",
    "              20 if 1998 <= x['year'] <= 2001 else \\\n",
    "              30 if 2002 <= x['year'] <= 2005 else \\\n",
    "              'UNKOWN', axis=1)"
   ]
  },
  {
   "cell_type": "code",
   "execution_count": 5,
   "metadata": {
    "collapsed": false,
    "scrolled": true
   },
   "outputs": [
    {
     "data": {
      "text/html": [
       "<div>\n",
       "<table border=\"1\" class=\"dataframe\">\n",
       "  <thead>\n",
       "    <tr style=\"text-align: right;\">\n",
       "      <th></th>\n",
       "      <th>_id</th>\n",
       "      <th>title</th>\n",
       "      <th>year</th>\n",
       "      <th>ingredients</th>\n",
       "      <th>techniques</th>\n",
       "      <th>creativity</th>\n",
       "    </tr>\n",
       "  </thead>\n",
       "  <tbody>\n",
       "    <tr>\n",
       "      <th>0</th>\n",
       "      <td>1</td>\n",
       "      <td>terrina de melón con gelée de oporto</td>\n",
       "      <td>1987</td>\n",
       "      <td>[\"aceite de oliva\",\"agua\",\"gelatina de oporto\"...</td>\n",
       "      <td>[\"agua\"]</td>\n",
       "      <td>10</td>\n",
       "    </tr>\n",
       "    <tr>\n",
       "      <th>1</th>\n",
       "      <td>10</td>\n",
       "      <td>salmonetes Gaudí</td>\n",
       "      <td>1987</td>\n",
       "      <td>[\"aceite de oliva\",\"anchoa en aceite\",\"calabac...</td>\n",
       "      <td>[\"agua\",\"brunoise\",\"cocción\",\"hervir\",\"horno\",...</td>\n",
       "      <td>10</td>\n",
       "    </tr>\n",
       "    <tr>\n",
       "      <th>2</th>\n",
       "      <td>100</td>\n",
       "      <td>oursins</td>\n",
       "      <td>1990</td>\n",
       "      <td>[\"avellanas tostadas\",\"azúcar\",\"cacao en polvo...</td>\n",
       "      <td>[\"horno\",\"secar\"]</td>\n",
       "      <td>10</td>\n",
       "    </tr>\n",
       "    <tr>\n",
       "      <th>3</th>\n",
       "      <td>1000</td>\n",
       "      <td>ravioli sférico de té con cubo helado de limón</td>\n",
       "      <td>2004</td>\n",
       "      <td>[\"agua\",\"alginato sódico\",\"azúcar\",\"infusión\",...</td>\n",
       "      <td>[\"agua\",\"min\"]</td>\n",
       "      <td>30</td>\n",
       "    </tr>\n",
       "    <tr>\n",
       "      <th>4</th>\n",
       "      <td>1001</td>\n",
       "      <td>ceps en ámbar de su caldo</td>\n",
       "      <td>2004</td>\n",
       "      <td>[\"aceite de girasol\",\"aceite de oliva\",\"agua\",...</td>\n",
       "      <td>[\"agua\",\"cazuela\",\"confitar\",\"conservar\",\"esca...</td>\n",
       "      <td>30</td>\n",
       "    </tr>\n",
       "  </tbody>\n",
       "</table>\n",
       "</div>"
      ],
      "text/plain": [
       "    _id                                           title  year  \\\n",
       "0     1            terrina de melón con gelée de oporto  1987   \n",
       "1    10                                salmonetes Gaudí  1987   \n",
       "2   100                                         oursins  1990   \n",
       "3  1000  ravioli sférico de té con cubo helado de limón  2004   \n",
       "4  1001                       ceps en ámbar de su caldo  2004   \n",
       "\n",
       "                                         ingredients  \\\n",
       "0  [\"aceite de oliva\",\"agua\",\"gelatina de oporto\"...   \n",
       "1  [\"aceite de oliva\",\"anchoa en aceite\",\"calabac...   \n",
       "2  [\"avellanas tostadas\",\"azúcar\",\"cacao en polvo...   \n",
       "3  [\"agua\",\"alginato sódico\",\"azúcar\",\"infusión\",...   \n",
       "4  [\"aceite de girasol\",\"aceite de oliva\",\"agua\",...   \n",
       "\n",
       "                                          techniques  creativity  \n",
       "0                                           [\"agua\"]          10  \n",
       "1  [\"agua\",\"brunoise\",\"cocción\",\"hervir\",\"horno\",...          10  \n",
       "2                                  [\"horno\",\"secar\"]          10  \n",
       "3                                     [\"agua\",\"min\"]          30  \n",
       "4  [\"agua\",\"cazuela\",\"confitar\",\"conservar\",\"esca...          30  "
      ]
     },
     "execution_count": 5,
     "metadata": {},
     "output_type": "execute_result"
    }
   ],
   "source": [
    "elbulli_cuis_recipes_df.head()"
   ]
  },
  {
   "cell_type": "markdown",
   "metadata": {},
   "source": [
    "### cookpad"
   ]
  },
  {
   "cell_type": "code",
   "execution_count": 20,
   "metadata": {
    "collapsed": false
   },
   "outputs": [],
   "source": [
    "cookpad_cuis_recipes_df = pd.read_csv('data/recipes_cookpad_cuisines.csv')"
   ]
  },
  {
   "cell_type": "code",
   "execution_count": 21,
   "metadata": {
    "collapsed": false
   },
   "outputs": [
    {
     "data": {
      "text/plain": [
       "_id             int64\n",
       "title          object\n",
       "cuisine        object\n",
       "year            int64\n",
       "ingredients    object\n",
       "techniques     object\n",
       "dtype: object"
      ]
     },
     "execution_count": 21,
     "metadata": {},
     "output_type": "execute_result"
    }
   ],
   "source": [
    "cookpad_cuis_recipes_df.dtypes"
   ]
  },
  {
   "cell_type": "code",
   "execution_count": 22,
   "metadata": {
    "collapsed": false
   },
   "outputs": [
    {
     "data": {
      "text/html": [
       "<div>\n",
       "<table border=\"1\" class=\"dataframe\">\n",
       "  <thead>\n",
       "    <tr style=\"text-align: right;\">\n",
       "      <th></th>\n",
       "      <th>_id</th>\n",
       "      <th>title</th>\n",
       "      <th>cuisine</th>\n",
       "      <th>year</th>\n",
       "      <th>ingredients</th>\n",
       "      <th>techniques</th>\n",
       "    </tr>\n",
       "  </thead>\n",
       "  <tbody>\n",
       "    <tr>\n",
       "      <th>0</th>\n",
       "      <td>100002</td>\n",
       "      <td>Boquerones en Vinagre al estilo andaluz</td>\n",
       "      <td>España</td>\n",
       "      <td>2009</td>\n",
       "      <td>[\"ajo\",\"perejil\",\"limón\",\"boquerones\",\"vinagre...</td>\n",
       "      <td>[\"macerar\",\"agua\"]</td>\n",
       "    </tr>\n",
       "    <tr>\n",
       "      <th>1</th>\n",
       "      <td>100005</td>\n",
       "      <td>Croquetas marineras</td>\n",
       "      <td>España</td>\n",
       "      <td>2009</td>\n",
       "      <td>[\"oliva\",\"harina\",\"pimienta\",\"huevos\",\"huevo\",...</td>\n",
       "      <td>[\"agua\",\"rebozar\",\"en agua\"]</td>\n",
       "    </tr>\n",
       "    <tr>\n",
       "      <th>2</th>\n",
       "      <td>100007</td>\n",
       "      <td>Bolitas árabes con ensalada</td>\n",
       "      <td>Marruecos</td>\n",
       "      <td>2009</td>\n",
       "      <td>[\"garbanzos\",\"ajo\",\"sal\",\"perejil\",\"pimienta\",...</td>\n",
       "      <td>[\"freír\",\"remojar\",\"sartén\"]</td>\n",
       "    </tr>\n",
       "    <tr>\n",
       "      <th>3</th>\n",
       "      <td>100018</td>\n",
       "      <td>Arroz con leche de mi cosecha</td>\n",
       "      <td>España</td>\n",
       "      <td>2009</td>\n",
       "      <td>[\"canela\",\"azúcar\",\"limón\",\"leche\",\"arroz\",\"sa...</td>\n",
       "      <td>[\"hervir\",\"cocer\",\"agua\",\"a fuego lento\",\"fueg...</td>\n",
       "    </tr>\n",
       "    <tr>\n",
       "      <th>4</th>\n",
       "      <td>100022</td>\n",
       "      <td>Ensalada de Arroz con Jamón</td>\n",
       "      <td>España</td>\n",
       "      <td>2009</td>\n",
       "      <td>[\"nuez\",\"lechuga\",\"jamón serrano\",\"perejil\",\"l...</td>\n",
       "      <td>[\"cocidos\",\"agua\",\"fría\",\"cocido\",\"sal\"]</td>\n",
       "    </tr>\n",
       "  </tbody>\n",
       "</table>\n",
       "</div>"
      ],
      "text/plain": [
       "      _id                                    title    cuisine  year  \\\n",
       "0  100002  Boquerones en Vinagre al estilo andaluz     España  2009   \n",
       "1  100005                      Croquetas marineras     España  2009   \n",
       "2  100007              Bolitas árabes con ensalada  Marruecos  2009   \n",
       "3  100018            Arroz con leche de mi cosecha     España  2009   \n",
       "4  100022              Ensalada de Arroz con Jamón     España  2009   \n",
       "\n",
       "                                         ingredients  \\\n",
       "0  [\"ajo\",\"perejil\",\"limón\",\"boquerones\",\"vinagre...   \n",
       "1  [\"oliva\",\"harina\",\"pimienta\",\"huevos\",\"huevo\",...   \n",
       "2  [\"garbanzos\",\"ajo\",\"sal\",\"perejil\",\"pimienta\",...   \n",
       "3  [\"canela\",\"azúcar\",\"limón\",\"leche\",\"arroz\",\"sa...   \n",
       "4  [\"nuez\",\"lechuga\",\"jamón serrano\",\"perejil\",\"l...   \n",
       "\n",
       "                                          techniques  \n",
       "0                                 [\"macerar\",\"agua\"]  \n",
       "1                       [\"agua\",\"rebozar\",\"en agua\"]  \n",
       "2                       [\"freír\",\"remojar\",\"sartén\"]  \n",
       "3  [\"hervir\",\"cocer\",\"agua\",\"a fuego lento\",\"fueg...  \n",
       "4           [\"cocidos\",\"agua\",\"fría\",\"cocido\",\"sal\"]  "
      ]
     },
     "execution_count": 22,
     "metadata": {},
     "output_type": "execute_result"
    }
   ],
   "source": [
    "cookpad_cuis_recipes_df.head()"
   ]
  },
  {
   "cell_type": "code",
   "execution_count": 23,
   "metadata": {
    "collapsed": false
   },
   "outputs": [
    {
     "ename": "ValueError",
     "evalue": "could not broadcast input array from shape (9) into shape (6)",
     "output_type": "error",
     "traceback": [
      "\u001b[1;31m---------------------------------------------------------------------------\u001b[0m",
      "\u001b[1;31mValueError\u001b[0m                                Traceback (most recent call last)",
      "\u001b[1;32m<ipython-input-23-ad441a1f01e8>\u001b[0m in \u001b[0;36m<module>\u001b[1;34m()\u001b[0m\n\u001b[1;32m----> 1\u001b[1;33m \u001b[0mcookpad_raw_recipes_df\u001b[0m\u001b[1;33m[\u001b[0m\u001b[1;34m'ingredients'\u001b[0m\u001b[1;33m]\u001b[0m \u001b[1;33m=\u001b[0m \u001b[0mcookpad_raw_recipes_df\u001b[0m\u001b[1;33m.\u001b[0m\u001b[0mapply\u001b[0m\u001b[1;33m(\u001b[0m\u001b[1;32mlambda\u001b[0m \u001b[0mx\u001b[0m\u001b[1;33m:\u001b[0m \u001b[0mjson\u001b[0m\u001b[1;33m.\u001b[0m\u001b[0mloads\u001b[0m\u001b[1;33m(\u001b[0m\u001b[0mx\u001b[0m\u001b[1;33m[\u001b[0m\u001b[1;34m'ingredients'\u001b[0m\u001b[1;33m]\u001b[0m\u001b[1;33m)\u001b[0m\u001b[1;33m,\u001b[0m \u001b[0maxis\u001b[0m\u001b[1;33m=\u001b[0m\u001b[1;36m1\u001b[0m\u001b[1;33m)\u001b[0m\u001b[1;33m\u001b[0m\u001b[0m\n\u001b[0m\u001b[0;32m      2\u001b[0m \u001b[0mcookpad_raw_recipes_df\u001b[0m\u001b[1;33m[\u001b[0m\u001b[1;34m'techniques'\u001b[0m\u001b[1;33m]\u001b[0m \u001b[1;33m=\u001b[0m \u001b[0mcookpad_raw_recipes_df\u001b[0m\u001b[1;33m.\u001b[0m\u001b[0mapply\u001b[0m\u001b[1;33m(\u001b[0m\u001b[1;32mlambda\u001b[0m \u001b[0mx\u001b[0m\u001b[1;33m:\u001b[0m \u001b[0mjson\u001b[0m\u001b[1;33m.\u001b[0m\u001b[0mloads\u001b[0m\u001b[1;33m(\u001b[0m\u001b[0mx\u001b[0m\u001b[1;33m[\u001b[0m\u001b[1;34m'techniques'\u001b[0m\u001b[1;33m]\u001b[0m\u001b[1;33m)\u001b[0m\u001b[1;33m,\u001b[0m \u001b[0maxis\u001b[0m\u001b[1;33m=\u001b[0m\u001b[1;36m1\u001b[0m\u001b[1;33m)\u001b[0m\u001b[1;33m\u001b[0m\u001b[0m\n",
      "\u001b[1;32m/home/antonio/virtualenvs/elbulli/lib/python3.4/site-packages/pandas/core/frame.py\u001b[0m in \u001b[0;36mapply\u001b[1;34m(self, func, axis, broadcast, raw, reduce, args, **kwds)\u001b[0m\n\u001b[0;32m   4059\u001b[0m                     \u001b[1;32mif\u001b[0m \u001b[0mreduce\u001b[0m \u001b[1;32mis\u001b[0m \u001b[1;32mNone\u001b[0m\u001b[1;33m:\u001b[0m\u001b[1;33m\u001b[0m\u001b[0m\n\u001b[0;32m   4060\u001b[0m                         \u001b[0mreduce\u001b[0m \u001b[1;33m=\u001b[0m \u001b[1;32mTrue\u001b[0m\u001b[1;33m\u001b[0m\u001b[0m\n\u001b[1;32m-> 4061\u001b[1;33m                     \u001b[1;32mreturn\u001b[0m \u001b[0mself\u001b[0m\u001b[1;33m.\u001b[0m\u001b[0m_apply_standard\u001b[0m\u001b[1;33m(\u001b[0m\u001b[0mf\u001b[0m\u001b[1;33m,\u001b[0m \u001b[0maxis\u001b[0m\u001b[1;33m,\u001b[0m \u001b[0mreduce\u001b[0m\u001b[1;33m=\u001b[0m\u001b[0mreduce\u001b[0m\u001b[1;33m)\u001b[0m\u001b[1;33m\u001b[0m\u001b[0m\n\u001b[0m\u001b[0;32m   4062\u001b[0m             \u001b[1;32melse\u001b[0m\u001b[1;33m:\u001b[0m\u001b[1;33m\u001b[0m\u001b[0m\n\u001b[0;32m   4063\u001b[0m                 \u001b[1;32mreturn\u001b[0m \u001b[0mself\u001b[0m\u001b[1;33m.\u001b[0m\u001b[0m_apply_broadcast\u001b[0m\u001b[1;33m(\u001b[0m\u001b[0mf\u001b[0m\u001b[1;33m,\u001b[0m \u001b[0maxis\u001b[0m\u001b[1;33m)\u001b[0m\u001b[1;33m\u001b[0m\u001b[0m\n",
      "\u001b[1;32m/home/antonio/virtualenvs/elbulli/lib/python3.4/site-packages/pandas/core/frame.py\u001b[0m in \u001b[0;36m_apply_standard\u001b[1;34m(self, func, axis, ignore_failures, reduce)\u001b[0m\n\u001b[0;32m   4172\u001b[0m                 \u001b[0mindex\u001b[0m \u001b[1;33m=\u001b[0m \u001b[1;32mNone\u001b[0m\u001b[1;33m\u001b[0m\u001b[0m\n\u001b[0;32m   4173\u001b[0m \u001b[1;33m\u001b[0m\u001b[0m\n\u001b[1;32m-> 4174\u001b[1;33m             \u001b[0mresult\u001b[0m \u001b[1;33m=\u001b[0m \u001b[0mself\u001b[0m\u001b[1;33m.\u001b[0m\u001b[0m_constructor\u001b[0m\u001b[1;33m(\u001b[0m\u001b[0mdata\u001b[0m\u001b[1;33m=\u001b[0m\u001b[0mresults\u001b[0m\u001b[1;33m,\u001b[0m \u001b[0mindex\u001b[0m\u001b[1;33m=\u001b[0m\u001b[0mindex\u001b[0m\u001b[1;33m)\u001b[0m\u001b[1;33m\u001b[0m\u001b[0m\n\u001b[0m\u001b[0;32m   4175\u001b[0m             \u001b[0mresult\u001b[0m\u001b[1;33m.\u001b[0m\u001b[0mcolumns\u001b[0m \u001b[1;33m=\u001b[0m \u001b[0mres_index\u001b[0m\u001b[1;33m\u001b[0m\u001b[0m\n\u001b[0;32m   4176\u001b[0m \u001b[1;33m\u001b[0m\u001b[0m\n",
      "\u001b[1;32m/home/antonio/virtualenvs/elbulli/lib/python3.4/site-packages/pandas/core/frame.py\u001b[0m in \u001b[0;36m__init__\u001b[1;34m(self, data, index, columns, dtype, copy)\u001b[0m\n\u001b[0;32m    222\u001b[0m                                  dtype=dtype, copy=copy)\n\u001b[0;32m    223\u001b[0m         \u001b[1;32melif\u001b[0m \u001b[0misinstance\u001b[0m\u001b[1;33m(\u001b[0m\u001b[0mdata\u001b[0m\u001b[1;33m,\u001b[0m \u001b[0mdict\u001b[0m\u001b[1;33m)\u001b[0m\u001b[1;33m:\u001b[0m\u001b[1;33m\u001b[0m\u001b[0m\n\u001b[1;32m--> 224\u001b[1;33m             \u001b[0mmgr\u001b[0m \u001b[1;33m=\u001b[0m \u001b[0mself\u001b[0m\u001b[1;33m.\u001b[0m\u001b[0m_init_dict\u001b[0m\u001b[1;33m(\u001b[0m\u001b[0mdata\u001b[0m\u001b[1;33m,\u001b[0m \u001b[0mindex\u001b[0m\u001b[1;33m,\u001b[0m \u001b[0mcolumns\u001b[0m\u001b[1;33m,\u001b[0m \u001b[0mdtype\u001b[0m\u001b[1;33m=\u001b[0m\u001b[0mdtype\u001b[0m\u001b[1;33m)\u001b[0m\u001b[1;33m\u001b[0m\u001b[0m\n\u001b[0m\u001b[0;32m    225\u001b[0m         \u001b[1;32melif\u001b[0m \u001b[0misinstance\u001b[0m\u001b[1;33m(\u001b[0m\u001b[0mdata\u001b[0m\u001b[1;33m,\u001b[0m \u001b[0mma\u001b[0m\u001b[1;33m.\u001b[0m\u001b[0mMaskedArray\u001b[0m\u001b[1;33m)\u001b[0m\u001b[1;33m:\u001b[0m\u001b[1;33m\u001b[0m\u001b[0m\n\u001b[0;32m    226\u001b[0m             \u001b[1;32mimport\u001b[0m \u001b[0mnumpy\u001b[0m\u001b[1;33m.\u001b[0m\u001b[0mma\u001b[0m\u001b[1;33m.\u001b[0m\u001b[0mmrecords\u001b[0m \u001b[1;32mas\u001b[0m \u001b[0mmrecords\u001b[0m\u001b[1;33m\u001b[0m\u001b[0m\n",
      "\u001b[1;32m/home/antonio/virtualenvs/elbulli/lib/python3.4/site-packages/pandas/core/frame.py\u001b[0m in \u001b[0;36m_init_dict\u001b[1;34m(self, data, index, columns, dtype)\u001b[0m\n\u001b[0;32m    358\u001b[0m             \u001b[0marrays\u001b[0m \u001b[1;33m=\u001b[0m \u001b[1;33m[\u001b[0m\u001b[0mdata\u001b[0m\u001b[1;33m[\u001b[0m\u001b[0mk\u001b[0m\u001b[1;33m]\u001b[0m \u001b[1;32mfor\u001b[0m \u001b[0mk\u001b[0m \u001b[1;32min\u001b[0m \u001b[0mkeys\u001b[0m\u001b[1;33m]\u001b[0m\u001b[1;33m\u001b[0m\u001b[0m\n\u001b[0;32m    359\u001b[0m \u001b[1;33m\u001b[0m\u001b[0m\n\u001b[1;32m--> 360\u001b[1;33m         \u001b[1;32mreturn\u001b[0m \u001b[0m_arrays_to_mgr\u001b[0m\u001b[1;33m(\u001b[0m\u001b[0marrays\u001b[0m\u001b[1;33m,\u001b[0m \u001b[0mdata_names\u001b[0m\u001b[1;33m,\u001b[0m \u001b[0mindex\u001b[0m\u001b[1;33m,\u001b[0m \u001b[0mcolumns\u001b[0m\u001b[1;33m,\u001b[0m \u001b[0mdtype\u001b[0m\u001b[1;33m=\u001b[0m\u001b[0mdtype\u001b[0m\u001b[1;33m)\u001b[0m\u001b[1;33m\u001b[0m\u001b[0m\n\u001b[0m\u001b[0;32m    361\u001b[0m \u001b[1;33m\u001b[0m\u001b[0m\n\u001b[0;32m    362\u001b[0m     \u001b[1;32mdef\u001b[0m \u001b[0m_init_ndarray\u001b[0m\u001b[1;33m(\u001b[0m\u001b[0mself\u001b[0m\u001b[1;33m,\u001b[0m \u001b[0mvalues\u001b[0m\u001b[1;33m,\u001b[0m \u001b[0mindex\u001b[0m\u001b[1;33m,\u001b[0m \u001b[0mcolumns\u001b[0m\u001b[1;33m,\u001b[0m \u001b[0mdtype\u001b[0m\u001b[1;33m=\u001b[0m\u001b[1;32mNone\u001b[0m\u001b[1;33m,\u001b[0m \u001b[0mcopy\u001b[0m\u001b[1;33m=\u001b[0m\u001b[1;32mFalse\u001b[0m\u001b[1;33m)\u001b[0m\u001b[1;33m:\u001b[0m\u001b[1;33m\u001b[0m\u001b[0m\n",
      "\u001b[1;32m/home/antonio/virtualenvs/elbulli/lib/python3.4/site-packages/pandas/core/frame.py\u001b[0m in \u001b[0;36m_arrays_to_mgr\u001b[1;34m(arrays, arr_names, index, columns, dtype)\u001b[0m\n\u001b[0;32m   5239\u001b[0m     \u001b[0maxes\u001b[0m \u001b[1;33m=\u001b[0m \u001b[1;33m[\u001b[0m\u001b[0m_ensure_index\u001b[0m\u001b[1;33m(\u001b[0m\u001b[0mcolumns\u001b[0m\u001b[1;33m)\u001b[0m\u001b[1;33m,\u001b[0m \u001b[0m_ensure_index\u001b[0m\u001b[1;33m(\u001b[0m\u001b[0mindex\u001b[0m\u001b[1;33m)\u001b[0m\u001b[1;33m]\u001b[0m\u001b[1;33m\u001b[0m\u001b[0m\n\u001b[0;32m   5240\u001b[0m \u001b[1;33m\u001b[0m\u001b[0m\n\u001b[1;32m-> 5241\u001b[1;33m     \u001b[1;32mreturn\u001b[0m \u001b[0mcreate_block_manager_from_arrays\u001b[0m\u001b[1;33m(\u001b[0m\u001b[0marrays\u001b[0m\u001b[1;33m,\u001b[0m \u001b[0marr_names\u001b[0m\u001b[1;33m,\u001b[0m \u001b[0maxes\u001b[0m\u001b[1;33m)\u001b[0m\u001b[1;33m\u001b[0m\u001b[0m\n\u001b[0m\u001b[0;32m   5242\u001b[0m \u001b[1;33m\u001b[0m\u001b[0m\n\u001b[0;32m   5243\u001b[0m \u001b[1;33m\u001b[0m\u001b[0m\n",
      "\u001b[1;32m/home/antonio/virtualenvs/elbulli/lib/python3.4/site-packages/pandas/core/internals.py\u001b[0m in \u001b[0;36mcreate_block_manager_from_arrays\u001b[1;34m(arrays, names, axes)\u001b[0m\n\u001b[0;32m   4002\u001b[0m         \u001b[1;32mreturn\u001b[0m \u001b[0mmgr\u001b[0m\u001b[1;33m\u001b[0m\u001b[0m\n\u001b[0;32m   4003\u001b[0m     \u001b[1;32mexcept\u001b[0m \u001b[0mValueError\u001b[0m \u001b[1;32mas\u001b[0m \u001b[0me\u001b[0m\u001b[1;33m:\u001b[0m\u001b[1;33m\u001b[0m\u001b[0m\n\u001b[1;32m-> 4004\u001b[1;33m         \u001b[0mconstruction_error\u001b[0m\u001b[1;33m(\u001b[0m\u001b[0mlen\u001b[0m\u001b[1;33m(\u001b[0m\u001b[0marrays\u001b[0m\u001b[1;33m)\u001b[0m\u001b[1;33m,\u001b[0m \u001b[0marrays\u001b[0m\u001b[1;33m[\u001b[0m\u001b[1;36m0\u001b[0m\u001b[1;33m]\u001b[0m\u001b[1;33m.\u001b[0m\u001b[0mshape\u001b[0m\u001b[1;33m,\u001b[0m \u001b[0maxes\u001b[0m\u001b[1;33m,\u001b[0m \u001b[0me\u001b[0m\u001b[1;33m)\u001b[0m\u001b[1;33m\u001b[0m\u001b[0m\n\u001b[0m\u001b[0;32m   4005\u001b[0m \u001b[1;33m\u001b[0m\u001b[0m\n\u001b[0;32m   4006\u001b[0m \u001b[1;33m\u001b[0m\u001b[0m\n",
      "\u001b[1;32m/home/antonio/virtualenvs/elbulli/lib/python3.4/site-packages/pandas/core/internals.py\u001b[0m in \u001b[0;36mconstruction_error\u001b[1;34m(tot_items, block_shape, axes, e)\u001b[0m\n\u001b[0;32m   3964\u001b[0m     \u001b[0mimplied\u001b[0m \u001b[1;33m=\u001b[0m \u001b[0mtuple\u001b[0m\u001b[1;33m(\u001b[0m\u001b[0mmap\u001b[0m\u001b[1;33m(\u001b[0m\u001b[0mint\u001b[0m\u001b[1;33m,\u001b[0m \u001b[1;33m[\u001b[0m\u001b[0mlen\u001b[0m\u001b[1;33m(\u001b[0m\u001b[0max\u001b[0m\u001b[1;33m)\u001b[0m \u001b[1;32mfor\u001b[0m \u001b[0max\u001b[0m \u001b[1;32min\u001b[0m \u001b[0maxes\u001b[0m\u001b[1;33m]\u001b[0m\u001b[1;33m)\u001b[0m\u001b[1;33m)\u001b[0m\u001b[1;33m\u001b[0m\u001b[0m\n\u001b[0;32m   3965\u001b[0m     \u001b[1;32mif\u001b[0m \u001b[0mpassed\u001b[0m \u001b[1;33m==\u001b[0m \u001b[0mimplied\u001b[0m \u001b[1;32mand\u001b[0m \u001b[0me\u001b[0m \u001b[1;32mis\u001b[0m \u001b[1;32mnot\u001b[0m \u001b[1;32mNone\u001b[0m\u001b[1;33m:\u001b[0m\u001b[1;33m\u001b[0m\u001b[0m\n\u001b[1;32m-> 3966\u001b[1;33m         \u001b[1;32mraise\u001b[0m \u001b[0me\u001b[0m\u001b[1;33m\u001b[0m\u001b[0m\n\u001b[0m\u001b[0;32m   3967\u001b[0m     \u001b[1;32mif\u001b[0m \u001b[0mblock_shape\u001b[0m\u001b[1;33m[\u001b[0m\u001b[1;36m0\u001b[0m\u001b[1;33m]\u001b[0m \u001b[1;33m==\u001b[0m \u001b[1;36m0\u001b[0m\u001b[1;33m:\u001b[0m\u001b[1;33m\u001b[0m\u001b[0m\n\u001b[0;32m   3968\u001b[0m         \u001b[1;32mraise\u001b[0m \u001b[0mValueError\u001b[0m\u001b[1;33m(\u001b[0m\u001b[1;34m\"Empty data passed with indices specified.\"\u001b[0m\u001b[1;33m)\u001b[0m\u001b[1;33m\u001b[0m\u001b[0m\n",
      "\u001b[1;32m/home/antonio/virtualenvs/elbulli/lib/python3.4/site-packages/pandas/core/internals.py\u001b[0m in \u001b[0;36mcreate_block_manager_from_arrays\u001b[1;34m(arrays, names, axes)\u001b[0m\n\u001b[0;32m   3997\u001b[0m \u001b[1;33m\u001b[0m\u001b[0m\n\u001b[0;32m   3998\u001b[0m     \u001b[1;32mtry\u001b[0m\u001b[1;33m:\u001b[0m\u001b[1;33m\u001b[0m\u001b[0m\n\u001b[1;32m-> 3999\u001b[1;33m         \u001b[0mblocks\u001b[0m \u001b[1;33m=\u001b[0m \u001b[0mform_blocks\u001b[0m\u001b[1;33m(\u001b[0m\u001b[0marrays\u001b[0m\u001b[1;33m,\u001b[0m \u001b[0mnames\u001b[0m\u001b[1;33m,\u001b[0m \u001b[0maxes\u001b[0m\u001b[1;33m)\u001b[0m\u001b[1;33m\u001b[0m\u001b[0m\n\u001b[0m\u001b[0;32m   4000\u001b[0m         \u001b[0mmgr\u001b[0m \u001b[1;33m=\u001b[0m \u001b[0mBlockManager\u001b[0m\u001b[1;33m(\u001b[0m\u001b[0mblocks\u001b[0m\u001b[1;33m,\u001b[0m \u001b[0maxes\u001b[0m\u001b[1;33m)\u001b[0m\u001b[1;33m\u001b[0m\u001b[0m\n\u001b[0;32m   4001\u001b[0m         \u001b[0mmgr\u001b[0m\u001b[1;33m.\u001b[0m\u001b[0m_consolidate_inplace\u001b[0m\u001b[1;33m(\u001b[0m\u001b[1;33m)\u001b[0m\u001b[1;33m\u001b[0m\u001b[0m\n",
      "\u001b[1;32m/home/antonio/virtualenvs/elbulli/lib/python3.4/site-packages/pandas/core/internals.py\u001b[0m in \u001b[0;36mform_blocks\u001b[1;34m(arrays, names, axes)\u001b[0m\n\u001b[0;32m   4094\u001b[0m \u001b[1;33m\u001b[0m\u001b[0m\n\u001b[0;32m   4095\u001b[0m     \u001b[1;32mif\u001b[0m \u001b[0mlen\u001b[0m\u001b[1;33m(\u001b[0m\u001b[0mobject_items\u001b[0m\u001b[1;33m)\u001b[0m \u001b[1;33m>\u001b[0m \u001b[1;36m0\u001b[0m\u001b[1;33m:\u001b[0m\u001b[1;33m\u001b[0m\u001b[0m\n\u001b[1;32m-> 4096\u001b[1;33m         \u001b[0mobject_blocks\u001b[0m \u001b[1;33m=\u001b[0m \u001b[0m_simple_blockify\u001b[0m\u001b[1;33m(\u001b[0m\u001b[0mobject_items\u001b[0m\u001b[1;33m,\u001b[0m \u001b[0mnp\u001b[0m\u001b[1;33m.\u001b[0m\u001b[0mobject_\u001b[0m\u001b[1;33m)\u001b[0m\u001b[1;33m\u001b[0m\u001b[0m\n\u001b[0m\u001b[0;32m   4097\u001b[0m         \u001b[0mblocks\u001b[0m\u001b[1;33m.\u001b[0m\u001b[0mextend\u001b[0m\u001b[1;33m(\u001b[0m\u001b[0mobject_blocks\u001b[0m\u001b[1;33m)\u001b[0m\u001b[1;33m\u001b[0m\u001b[0m\n\u001b[0;32m   4098\u001b[0m \u001b[1;33m\u001b[0m\u001b[0m\n",
      "\u001b[1;32m/home/antonio/virtualenvs/elbulli/lib/python3.4/site-packages/pandas/core/internals.py\u001b[0m in \u001b[0;36m_simple_blockify\u001b[1;34m(tuples, dtype)\u001b[0m\n\u001b[0;32m   4124\u001b[0m     \u001b[1;32mnot\u001b[0m \u001b[1;32mNone\u001b[0m\u001b[1;33m,\u001b[0m \u001b[0mcoerce\u001b[0m \u001b[0mto\u001b[0m \u001b[0mthis\u001b[0m \u001b[0mdtype\u001b[0m\u001b[1;33m\u001b[0m\u001b[0m\n\u001b[0;32m   4125\u001b[0m     \"\"\"\n\u001b[1;32m-> 4126\u001b[1;33m     \u001b[0mvalues\u001b[0m\u001b[1;33m,\u001b[0m \u001b[0mplacement\u001b[0m \u001b[1;33m=\u001b[0m \u001b[0m_stack_arrays\u001b[0m\u001b[1;33m(\u001b[0m\u001b[0mtuples\u001b[0m\u001b[1;33m,\u001b[0m \u001b[0mdtype\u001b[0m\u001b[1;33m)\u001b[0m\u001b[1;33m\u001b[0m\u001b[0m\n\u001b[0m\u001b[0;32m   4127\u001b[0m \u001b[1;33m\u001b[0m\u001b[0m\n\u001b[0;32m   4128\u001b[0m     \u001b[1;31m# CHECK DTYPE?\u001b[0m\u001b[1;33m\u001b[0m\u001b[1;33m\u001b[0m\u001b[0m\n",
      "\u001b[1;32m/home/antonio/virtualenvs/elbulli/lib/python3.4/site-packages/pandas/core/internals.py\u001b[0m in \u001b[0;36m_stack_arrays\u001b[1;34m(tuples, dtype)\u001b[0m\n\u001b[0;32m   4188\u001b[0m     \u001b[0mstacked\u001b[0m \u001b[1;33m=\u001b[0m \u001b[0mnp\u001b[0m\u001b[1;33m.\u001b[0m\u001b[0mempty\u001b[0m\u001b[1;33m(\u001b[0m\u001b[0mshape\u001b[0m\u001b[1;33m,\u001b[0m \u001b[0mdtype\u001b[0m\u001b[1;33m=\u001b[0m\u001b[0mdtype\u001b[0m\u001b[1;33m)\u001b[0m\u001b[1;33m\u001b[0m\u001b[0m\n\u001b[0;32m   4189\u001b[0m     \u001b[1;32mfor\u001b[0m \u001b[0mi\u001b[0m\u001b[1;33m,\u001b[0m \u001b[0marr\u001b[0m \u001b[1;32min\u001b[0m \u001b[0menumerate\u001b[0m\u001b[1;33m(\u001b[0m\u001b[0marrays\u001b[0m\u001b[1;33m)\u001b[0m\u001b[1;33m:\u001b[0m\u001b[1;33m\u001b[0m\u001b[0m\n\u001b[1;32m-> 4190\u001b[1;33m         \u001b[0mstacked\u001b[0m\u001b[1;33m[\u001b[0m\u001b[0mi\u001b[0m\u001b[1;33m]\u001b[0m \u001b[1;33m=\u001b[0m \u001b[0m_asarray_compat\u001b[0m\u001b[1;33m(\u001b[0m\u001b[0marr\u001b[0m\u001b[1;33m)\u001b[0m\u001b[1;33m\u001b[0m\u001b[0m\n\u001b[0m\u001b[0;32m   4191\u001b[0m \u001b[1;33m\u001b[0m\u001b[0m\n\u001b[0;32m   4192\u001b[0m     \u001b[1;32mreturn\u001b[0m \u001b[0mstacked\u001b[0m\u001b[1;33m,\u001b[0m \u001b[0mplacement\u001b[0m\u001b[1;33m\u001b[0m\u001b[0m\n",
      "\u001b[1;31mValueError\u001b[0m: could not broadcast input array from shape (9) into shape (6)"
     ]
    }
   ],
   "source": [
    "cookpad_cuis_recipes_df['ingredients'] = cookpad_cuis_recipes_df.apply(lambda x: json.loads(x['ingredients']), axis=1)\n",
    "cookpad_cuis_recipes_df['techniques'] = cookpad_cuis_recipes_df.apply(lambda x: json.loads(x['techniques']), axis=1)"
   ]
  },
  {
   "cell_type": "code",
   "execution_count": null,
   "metadata": {
    "collapsed": false
   },
   "outputs": [],
   "source": [
    "cookpad_cuis_recipes_df.head()"
   ]
  },
  {
   "cell_type": "code",
   "execution_count": 4,
   "metadata": {
    "collapsed": true
   },
   "outputs": [],
   "source": [
    "cookpad_cuis_recipes_df['creativity'] = cookpad_cuis_recipes_df.apply(\n",
    "    lambda x: 0, axis=1)"
   ]
  },
  {
   "cell_type": "code",
   "execution_count": 5,
   "metadata": {
    "collapsed": false,
    "scrolled": true
   },
   "outputs": [
    {
     "data": {
      "text/html": [
       "<div>\n",
       "<table border=\"1\" class=\"dataframe\">\n",
       "  <thead>\n",
       "    <tr style=\"text-align: right;\">\n",
       "      <th></th>\n",
       "      <th>_id</th>\n",
       "      <th>title</th>\n",
       "      <th>year</th>\n",
       "      <th>ingredients</th>\n",
       "      <th>techniques</th>\n",
       "      <th>creativity</th>\n",
       "    </tr>\n",
       "  </thead>\n",
       "  <tbody>\n",
       "    <tr>\n",
       "      <th>0</th>\n",
       "      <td>1</td>\n",
       "      <td>terrina de melón con gelée de oporto</td>\n",
       "      <td>1987</td>\n",
       "      <td>[\"aceite de oliva\",\"agua\",\"gelatina de oporto\"...</td>\n",
       "      <td>[\"agua\"]</td>\n",
       "      <td>10</td>\n",
       "    </tr>\n",
       "    <tr>\n",
       "      <th>1</th>\n",
       "      <td>10</td>\n",
       "      <td>salmonetes Gaudí</td>\n",
       "      <td>1987</td>\n",
       "      <td>[\"aceite de oliva\",\"anchoa en aceite\",\"calabac...</td>\n",
       "      <td>[\"agua\",\"brunoise\",\"cocción\",\"hervir\",\"horno\",...</td>\n",
       "      <td>10</td>\n",
       "    </tr>\n",
       "    <tr>\n",
       "      <th>2</th>\n",
       "      <td>100</td>\n",
       "      <td>oursins</td>\n",
       "      <td>1990</td>\n",
       "      <td>[\"avellanas tostadas\",\"azúcar\",\"cacao en polvo...</td>\n",
       "      <td>[\"horno\",\"secar\"]</td>\n",
       "      <td>10</td>\n",
       "    </tr>\n",
       "    <tr>\n",
       "      <th>3</th>\n",
       "      <td>1000</td>\n",
       "      <td>ravioli sférico de té con cubo helado de limón</td>\n",
       "      <td>2004</td>\n",
       "      <td>[\"agua\",\"alginato sódico\",\"azúcar\",\"infusión\",...</td>\n",
       "      <td>[\"agua\",\"min\"]</td>\n",
       "      <td>30</td>\n",
       "    </tr>\n",
       "    <tr>\n",
       "      <th>4</th>\n",
       "      <td>1001</td>\n",
       "      <td>ceps en ámbar de su caldo</td>\n",
       "      <td>2004</td>\n",
       "      <td>[\"aceite de girasol\",\"aceite de oliva\",\"agua\",...</td>\n",
       "      <td>[\"agua\",\"cazuela\",\"confitar\",\"conservar\",\"esca...</td>\n",
       "      <td>30</td>\n",
       "    </tr>\n",
       "  </tbody>\n",
       "</table>\n",
       "</div>"
      ],
      "text/plain": [
       "    _id                                           title  year  \\\n",
       "0     1            terrina de melón con gelée de oporto  1987   \n",
       "1    10                                salmonetes Gaudí  1987   \n",
       "2   100                                         oursins  1990   \n",
       "3  1000  ravioli sférico de té con cubo helado de limón  2004   \n",
       "4  1001                       ceps en ámbar de su caldo  2004   \n",
       "\n",
       "                                         ingredients  \\\n",
       "0  [\"aceite de oliva\",\"agua\",\"gelatina de oporto\"...   \n",
       "1  [\"aceite de oliva\",\"anchoa en aceite\",\"calabac...   \n",
       "2  [\"avellanas tostadas\",\"azúcar\",\"cacao en polvo...   \n",
       "3  [\"agua\",\"alginato sódico\",\"azúcar\",\"infusión\",...   \n",
       "4  [\"aceite de girasol\",\"aceite de oliva\",\"agua\",...   \n",
       "\n",
       "                                          techniques  creativity  \n",
       "0                                           [\"agua\"]          10  \n",
       "1  [\"agua\",\"brunoise\",\"cocción\",\"hervir\",\"horno\",...          10  \n",
       "2                                  [\"horno\",\"secar\"]          10  \n",
       "3                                     [\"agua\",\"min\"]          30  \n",
       "4  [\"agua\",\"cazuela\",\"confitar\",\"conservar\",\"esca...          30  "
      ]
     },
     "execution_count": 5,
     "metadata": {},
     "output_type": "execute_result"
    }
   ],
   "source": [
    "cookpad_cuis_recipes_df.head()"
   ]
  },
  {
   "cell_type": "markdown",
   "metadata": {},
   "source": [
    "### elbulli & cookpad"
   ]
  },
  {
   "cell_type": "code",
   "execution_count": 17,
   "metadata": {
    "collapsed": true
   },
   "outputs": [],
   "source": [
    "cuis_recipes_df = elbulli_cuis_recipes_df.append(cookpad_cuis_recipes_df)"
   ]
  },
  {
   "cell_type": "code",
   "execution_count": 19,
   "metadata": {
    "collapsed": false,
    "scrolled": true
   },
   "outputs": [
    {
     "data": {
      "text/html": [
       "<div>\n",
       "<table border=\"1\" class=\"dataframe\">\n",
       "  <thead>\n",
       "    <tr style=\"text-align: right;\">\n",
       "      <th></th>\n",
       "      <th>_id</th>\n",
       "      <th>cuisine</th>\n",
       "      <th>ingredients</th>\n",
       "      <th>techniques</th>\n",
       "      <th>title</th>\n",
       "      <th>year</th>\n",
       "    </tr>\n",
       "  </thead>\n",
       "  <tbody>\n",
       "    <tr>\n",
       "      <th>0</th>\n",
       "      <td>1</td>\n",
       "      <td>NaN</td>\n",
       "      <td>[\"hojas de gelatina\",\"pimienta blanca\",\"oporto...</td>\n",
       "      <td>[\"agua\"]</td>\n",
       "      <td>terrina de melón con gelée de oporto</td>\n",
       "      <td>1987</td>\n",
       "    </tr>\n",
       "    <tr>\n",
       "      <th>1</th>\n",
       "      <td>10</td>\n",
       "      <td>NaN</td>\n",
       "      <td>[\"vinagre balsámico\",\"pimienta negra\",\"orégano...</td>\n",
       "      <td>[\"en agua\",\"puré\",\"cocción\",\"asar\",\"horno\",\"as...</td>\n",
       "      <td>salmonetes Gaudí</td>\n",
       "      <td>1987</td>\n",
       "    </tr>\n",
       "    <tr>\n",
       "      <th>2</th>\n",
       "      <td>100</td>\n",
       "      <td>NaN</td>\n",
       "      <td>[\"avellanas tostadas\",\"chocolate\",\"claras de h...</td>\n",
       "      <td>[\"horno\",\"secar\",\"al horno\"]</td>\n",
       "      <td>oursins</td>\n",
       "      <td>1990</td>\n",
       "    </tr>\n",
       "    <tr>\n",
       "      <th>3</th>\n",
       "      <td>1000</td>\n",
       "      <td>NaN</td>\n",
       "      <td>[\"limón\",\"agua\",\"alginato sódico\",\"infusión de...</td>\n",
       "      <td>[\"fría\",\"agua\"]</td>\n",
       "      <td>ravioli sférico de té con cubo helado de limón</td>\n",
       "      <td>2004</td>\n",
       "    </tr>\n",
       "    <tr>\n",
       "      <th>4</th>\n",
       "      <td>1001</td>\n",
       "      <td>NaN</td>\n",
       "      <td>[\"pimienta negra\",\"láminas de ceps\",\"ceps\",\"ca...</td>\n",
       "      <td>[\"en agua\",\"hervido\",\"a fuego lento\",\"cocer\",\"...</td>\n",
       "      <td>ceps en ámbar de su caldo</td>\n",
       "      <td>2004</td>\n",
       "    </tr>\n",
       "  </tbody>\n",
       "</table>\n",
       "</div>"
      ],
      "text/plain": [
       "    _id cuisine                                        ingredients  \\\n",
       "0     1     NaN  [\"hojas de gelatina\",\"pimienta blanca\",\"oporto...   \n",
       "1    10     NaN  [\"vinagre balsámico\",\"pimienta negra\",\"orégano...   \n",
       "2   100     NaN  [\"avellanas tostadas\",\"chocolate\",\"claras de h...   \n",
       "3  1000     NaN  [\"limón\",\"agua\",\"alginato sódico\",\"infusión de...   \n",
       "4  1001     NaN  [\"pimienta negra\",\"láminas de ceps\",\"ceps\",\"ca...   \n",
       "\n",
       "                                          techniques  \\\n",
       "0                                           [\"agua\"]   \n",
       "1  [\"en agua\",\"puré\",\"cocción\",\"asar\",\"horno\",\"as...   \n",
       "2                       [\"horno\",\"secar\",\"al horno\"]   \n",
       "3                                    [\"fría\",\"agua\"]   \n",
       "4  [\"en agua\",\"hervido\",\"a fuego lento\",\"cocer\",\"...   \n",
       "\n",
       "                                            title  year  \n",
       "0            terrina de melón con gelée de oporto  1987  \n",
       "1                                salmonetes Gaudí  1987  \n",
       "2                                         oursins  1990  \n",
       "3  ravioli sférico de té con cubo helado de limón  2004  \n",
       "4                       ceps en ámbar de su caldo  2004  "
      ]
     },
     "execution_count": 19,
     "metadata": {},
     "output_type": "execute_result"
    }
   ],
   "source": [
    "cuis_recipes_df.head()"
   ]
  },
  {
   "cell_type": "code",
   "execution_count": null,
   "metadata": {
    "collapsed": true
   },
   "outputs": [],
   "source": []
  },
  {
   "cell_type": "code",
   "execution_count": null,
   "metadata": {
    "collapsed": true
   },
   "outputs": [],
   "source": []
  },
  {
   "cell_type": "code",
   "execution_count": null,
   "metadata": {
    "collapsed": true
   },
   "outputs": [],
   "source": []
  },
  {
   "cell_type": "code",
   "execution_count": null,
   "metadata": {
    "collapsed": true
   },
   "outputs": [],
   "source": []
  },
  {
   "cell_type": "code",
   "execution_count": null,
   "metadata": {
    "collapsed": true
   },
   "outputs": [],
   "source": []
  },
  {
   "cell_type": "code",
   "execution_count": null,
   "metadata": {
    "collapsed": true
   },
   "outputs": [],
   "source": []
  },
  {
   "cell_type": "code",
   "execution_count": null,
   "metadata": {
    "collapsed": true
   },
   "outputs": [],
   "source": []
  },
  {
   "cell_type": "code",
   "execution_count": 186,
   "metadata": {
    "collapsed": false
   },
   "outputs": [],
   "source": [
    "def join_ingredients_and_techniques(ingr_list, tech_list):\n",
    "    i_list = ['i_' + '_'.join(x.split()) for x in ingr_list]\n",
    "    t_list = ['t_' + '_'.join(x.split()) for x in tech_list]\n",
    "    \n",
    "#     i_list = [x for x in i_list if x in feature_names]\n",
    "#     t_list = [x for x in t_list if x in feature_names]\n",
    "    \n",
    "    return ' '.join(i_list + t_list)"
   ]
  },
  {
   "cell_type": "code",
   "execution_count": 187,
   "metadata": {
    "collapsed": false
   },
   "outputs": [],
   "source": [
    "columns = ['text', 'creativity']\n",
    "text_df = pd.DataFrame(columns=columns)\n",
    "text_df['creativity'] = recipes_df['creativity']\n",
    "text_df['text'] = recipes_df.apply(lambda x: join_ingredients_and_techniques(x['ingredients'], x['techniques']), axis=1)"
   ]
  },
  {
   "cell_type": "code",
   "execution_count": 188,
   "metadata": {
    "collapsed": false
   },
   "outputs": [
    {
     "data": {
      "text/html": [
       "<div>\n",
       "<table border=\"1\" class=\"dataframe\">\n",
       "  <thead>\n",
       "    <tr style=\"text-align: right;\">\n",
       "      <th></th>\n",
       "      <th>text</th>\n",
       "      <th>creativity</th>\n",
       "    </tr>\n",
       "  </thead>\n",
       "  <tbody>\n",
       "    <tr>\n",
       "      <th>0</th>\n",
       "      <td>i_aceite_de_oliva i_agua i_gelatina_de_oporto ...</td>\n",
       "      <td>10</td>\n",
       "    </tr>\n",
       "    <tr>\n",
       "      <th>1</th>\n",
       "      <td>i_aceite_de_oliva i_anchoa_en_aceite i_calabac...</td>\n",
       "      <td>10</td>\n",
       "    </tr>\n",
       "    <tr>\n",
       "      <th>2</th>\n",
       "      <td>i_avellanas_tostadas i_azúcar i_cacao_en_polvo...</td>\n",
       "      <td>10</td>\n",
       "    </tr>\n",
       "    <tr>\n",
       "      <th>3</th>\n",
       "      <td>i_agua i_alginato_sódico i_azúcar i_infusión i...</td>\n",
       "      <td>30</td>\n",
       "    </tr>\n",
       "    <tr>\n",
       "      <th>4</th>\n",
       "      <td>i_aceite_de_girasol i_aceite_de_oliva i_agua i...</td>\n",
       "      <td>30</td>\n",
       "    </tr>\n",
       "  </tbody>\n",
       "</table>\n",
       "</div>"
      ],
      "text/plain": [
       "                                                text  creativity\n",
       "0  i_aceite_de_oliva i_agua i_gelatina_de_oporto ...          10\n",
       "1  i_aceite_de_oliva i_anchoa_en_aceite i_calabac...          10\n",
       "2  i_avellanas_tostadas i_azúcar i_cacao_en_polvo...          10\n",
       "3  i_agua i_alginato_sódico i_azúcar i_infusión i...          30\n",
       "4  i_aceite_de_girasol i_aceite_de_oliva i_agua i...          30"
      ]
     },
     "execution_count": 188,
     "metadata": {},
     "output_type": "execute_result"
    }
   ],
   "source": [
    "text_df.head()"
   ]
  },
  {
   "cell_type": "code",
   "execution_count": 189,
   "metadata": {
    "collapsed": true
   },
   "outputs": [],
   "source": [
    "X = text_df['text']\n",
    "y = text_df['creativity']\n",
    "X_data, X_val, y_data, y_val = train_test_split(X, y, train_size=0.9, test_size=0.1, random_state=100)"
   ]
  },
  {
   "cell_type": "code",
   "execution_count": 190,
   "metadata": {
    "collapsed": true
   },
   "outputs": [],
   "source": [
    "X_data = X_data.reset_index(drop=True)\n",
    "X_val = X_val.reset_index(drop=True)\n",
    "y_data = y_data.reset_index(drop=True)\n",
    "y_val = y_val.reset_index(drop=True)"
   ]
  },
  {
   "cell_type": "code",
   "execution_count": 191,
   "metadata": {
    "collapsed": false
   },
   "outputs": [
    {
     "data": {
      "text/plain": [
       "10    454\n",
       "30    389\n",
       "20    371\n",
       "Name: creativity, dtype: int64"
      ]
     },
     "execution_count": 191,
     "metadata": {},
     "output_type": "execute_result"
    }
   ],
   "source": [
    "y.value_counts()"
   ]
  },
  {
   "cell_type": "code",
   "execution_count": 192,
   "metadata": {
    "collapsed": false
   },
   "outputs": [],
   "source": [
    "# >>> from sklearn.metrics import confusion_matrix\n",
    "# >>> y_true = [1, 0, 1, 0, 1, 0, 1, 0, 1, 0, 1, 1, 2, 2, 2, 2]\n",
    "# >>> y_pred = [1, 0, 0, 0, 1, 1, 1, 0, 0, 0, 1, 1, 2, 2, 2, 1]\n",
    "# >>> print(confusion_matrix(y_true, y_pred))\n",
    "# [[4 1 0]\n",
    "#  [2 5 0]\n",
    "#  [0 1 3]]"
   ]
  },
  {
   "cell_type": "code",
   "execution_count": 193,
   "metadata": {
    "collapsed": true
   },
   "outputs": [],
   "source": [
    "def benchmark(clf, X_train, X_test, y_train, y_test, name):\n",
    "    print(\"_\" * 80)\n",
    "    print(\"Training: %s\" % name)\n",
    "    print(clf)\n",
    "    \n",
    "    t0 = time()\n",
    "    clf.fit(X_train, y_train)\n",
    "    train_time = time() - t0\n",
    "    print(\"train time: %0.3fs\" % train_time)\n",
    "\n",
    "    t0 = time()\n",
    "    pred = clf.predict(X_test)\n",
    "    test_time = time() - t0\n",
    "    print(\"test time:  %0.3fs\" % test_time)\n",
    "\n",
    "    score = metrics.accuracy_score(y_test, pred)\n",
    "    print(\"accuracy:   %0.3f\" % score)\n",
    "\n",
    "    precision = metrics.precision_score(y_test, pred)\n",
    "    print(\"precision:   %0.3f\" % score)\n",
    "\n",
    "    recall = metrics.recall_score(y_test, pred)\n",
    "    print(\"recall:   %0.3f\" % score)\n",
    "\n",
    "    print(\"classification report:\")\n",
    "    print(metrics.classification_report(y_test, pred, target_names=['Low', 'Medium', 'High']))\n",
    "\n",
    "    print(\"confusion matrix:\")\n",
    "    print(metrics.confusion_matrix(y_test, pred))\n",
    "\n",
    "    print()\n",
    "    return score, precision, recall"
   ]
  },
  {
   "cell_type": "code",
   "execution_count": 194,
   "metadata": {
    "collapsed": true
   },
   "outputs": [],
   "source": [
    "# Params\n",
    "K = 10\n",
    "parameters = {\n",
    "    'vect__max_df': (0.5, 0.75, 1.0),\n",
    "    'tfidf__norm': (None, 'l1', 'l2'),\n",
    "}"
   ]
  },
  {
   "cell_type": "code",
   "execution_count": 195,
   "metadata": {
    "collapsed": true
   },
   "outputs": [],
   "source": [
    "# # Classifiers\n",
    "# clf_list = [\n",
    "#     (RidgeClassifier(alpha=.00001, tol=1e-2, solver=\"lsqr\"), \"Ridge classifier\"),\n",
    "#     (Perceptron(alpha=.00001, n_iter=50), \"Perceptron\"),\n",
    "#     (PassiveAggressiveClassifier(n_iter=50), \"Passive-aggressive\"),\n",
    "#     (KNeighborsClassifier(n_neighbors=10), \"kNN\"),\n",
    "#     (RandomForestClassifier(n_estimators=100), \"Random Forest Classifier\"),\n",
    "# #     (RandomForestRegressor(n_estimators=100), \"Random Forest Regressor\"),\n",
    "#     (LinearSVC(loss='squared_hinge', penalty='l2', dual=False, tol=1e-3), 'Linear SVC 1'),\n",
    "#     (SGDClassifier(alpha=.000001, n_iter=50, penalty='l1'), 'SGDClassifier'),\n",
    "# #     (SGDRegressor(alpha=.000001, n_iter=50, penalty='l1'), 'SGDRegressor'),\n",
    "#     (NearestCentroid(), 'Nearest Centroid'),\n",
    "#     (MultinomialNB(alpha=.00001), 'Multinomial NB'),\n",
    "#     (BernoulliNB(alpha=.00001), 'Bernoulli NB'),\n",
    "#     (LinearSVC(penalty=\"l1\", dual=False, tol=1e-3), 'Linear SVC 2'),\n",
    "#     (RidgeClassifier(), \"Ridge classifier\"),\n",
    "#     (Perceptron(), \"Perceptron\"),\n",
    "#     (PassiveAggressiveClassifier(), \"Passive-aggressive\"),\n",
    "#     (KNeighborsClassifier(), \"kNN\"),\n",
    "#     (RandomForestClassifier(), \"Random Forest Classifier\"),\n",
    "# #     (RandomForestRegressor(), \"Random Forest Regressor\"),\n",
    "#     (LinearSVC(), 'Linear SVC'),\n",
    "#     (SGDClassifier(), 'SGDClassifier'),\n",
    "# #     (SGDRegressor(), 'SGDRegressor'),\n",
    "#     (NearestCentroid(), 'Nearest Centroid'),\n",
    "#     (MultinomialNB(), 'Multinomial NB'),\n",
    "#     (BernoulliNB(), 'Bernoulli NB'),\n",
    "# ]"
   ]
  },
  {
   "cell_type": "code",
   "execution_count": 196,
   "metadata": {
    "collapsed": false
   },
   "outputs": [],
   "source": [
    "# # Classifiers\n",
    "# clf_list = [\n",
    "#     (LinearSVC(), 'Linear SVC'),\n",
    "#     (LinearSVC(penalty=\"l1\", dual=False, tol=1e-3), 'Linear SVC'),\n",
    "#     (LinearSVC(loss='squared_hinge', penalty='l2', dual=False, tol=1e-3), 'Linear SVC'),\n",
    "#     (LinearSVC(loss='hinge', penalty='l1', dual=True, tol=1e-1, multi_class='crammer_singer', random_state=100), 'Linear SVC'),\n",
    "# ]"
   ]
  },
  {
   "cell_type": "code",
   "execution_count": 197,
   "metadata": {
    "collapsed": false
   },
   "outputs": [
    {
     "data": {
      "text/plain": [
       "16"
      ]
     },
     "execution_count": 197,
     "metadata": {},
     "output_type": "execute_result"
    }
   ],
   "source": [
    "# Classifiers\n",
    "clf_list = []\n",
    "for loss in ['hinge', 'squared_hinge']:\n",
    "    for tol in [0.0001, 0.001, 0.01, 0.1]:\n",
    "        for multi_class in ['ovr', 'crammer_singer']:\n",
    "            clf_list.append((\n",
    "                    LinearSVC(loss=loss, tol=tol, multi_class=multi_class),\n",
    "                    'LinearSVC(loss={}, tol={}, multi_class={})'.format(loss, tol, multi_class)\n",
    "                ))\n",
    "len(clf_list)"
   ]
  },
  {
   "cell_type": "code",
   "execution_count": 198,
   "metadata": {
    "collapsed": false
   },
   "outputs": [
    {
     "name": "stdout",
     "output_type": "stream",
     "text": [
      "________________________________________________________________________________\n",
      "Training: LinearSVC(loss=hinge, tol=0.0001, multi_class=ovr)\n",
      "Pipeline(steps=[('vect', CountVectorizer(analyzer='word', binary=False, decode_error='strict',\n",
      "        dtype=<class 'numpy.int64'>, encoding='utf-8', input='content',\n",
      "        lowercase=True, max_df=1.0, max_features=None, min_df=1,\n",
      "        ngram_range=(1, 1), preprocessor=None, stop_words=None,\n",
      "        strip...e', max_iter=1000, multi_class='ovr',\n",
      "     penalty='l2', random_state=None, tol=0.0001, verbose=0))])\n",
      "train time: 0.058s\n",
      "test time:  0.006s\n",
      "accuracy:   0.828\n",
      "precision:   0.828\n",
      "recall:   0.828\n",
      "classification report:\n",
      "             precision    recall  f1-score   support\n",
      "\n",
      "        Low       0.85      0.87      0.86        46\n",
      "     Medium       0.82      0.70      0.76        44\n",
      "       High       0.81      0.94      0.87        32\n",
      "\n",
      "avg / total       0.83      0.83      0.83       122\n",
      "\n",
      "confusion matrix:\n",
      "[[40  5  1]\n",
      " [ 7 31  6]\n",
      " [ 0  2 30]]\n",
      "\n",
      "________________________________________________________________________________\n",
      "Training: LinearSVC(loss=hinge, tol=0.0001, multi_class=crammer_singer)\n",
      "Pipeline(steps=[('vect', CountVectorizer(analyzer='word', binary=False, decode_error='strict',\n",
      "        dtype=<class 'numpy.int64'>, encoding='utf-8', input='content',\n",
      "        lowercase=True, max_df=1.0, max_features=None, min_df=1,\n",
      "        ngram_range=(1, 1), preprocessor=None, stop_words=None,\n",
      "        strip...0,\n",
      "     multi_class='crammer_singer', penalty='l2', random_state=None,\n",
      "     tol=0.0001, verbose=0))])\n",
      "train time: 0.067s"
     ]
    },
    {
     "name": "stderr",
     "output_type": "stream",
     "text": [
      "/home/antonio/virtualenvs/elbulli/lib/python3.4/site-packages/sklearn/metrics/classification.py:1203: DeprecationWarning: The default `weighted` averaging is deprecated, and from version 0.18, use of precision, recall or F-score with multiclass or multilabel data or pos_label=None will result in an exception. Please set an explicit value for `average`, one of (None, 'micro', 'macro', 'weighted', 'samples'). In cross validation use, for instance, scoring=\"f1_weighted\" instead of scoring=\"f1\".\n",
      "  sample_weight=sample_weight)\n",
      "/home/antonio/virtualenvs/elbulli/lib/python3.4/site-packages/sklearn/metrics/classification.py:1304: DeprecationWarning: The default `weighted` averaging is deprecated, and from version 0.18, use of precision, recall or F-score with multiclass or multilabel data or pos_label=None will result in an exception. Please set an explicit value for `average`, one of (None, 'micro', 'macro', 'weighted', 'samples'). In cross validation use, for instance, scoring=\"f1_weighted\" instead of scoring=\"f1\".\n",
      "  sample_weight=sample_weight)\n",
      "/home/antonio/virtualenvs/elbulli/lib/python3.4/site-packages/sklearn/metrics/classification.py:1203: DeprecationWarning: The default `weighted` averaging is deprecated, and from version 0.18, use of precision, recall or F-score with multiclass or multilabel data or pos_label=None will result in an exception. Please set an explicit value for `average`, one of (None, 'micro', 'macro', 'weighted', 'samples'). In cross validation use, for instance, scoring=\"f1_weighted\" instead of scoring=\"f1\".\n",
      "  sample_weight=sample_weight)\n"
     ]
    },
    {
     "name": "stdout",
     "output_type": "stream",
     "text": [
      "\n",
      "test time:  0.005s\n",
      "accuracy:   0.844\n",
      "precision:   0.844\n",
      "recall:   0.844\n",
      "classification report:\n",
      "             precision    recall  f1-score   support\n",
      "\n",
      "        Low       0.93      0.87      0.90        46\n",
      "     Medium       0.82      0.75      0.79        44\n",
      "       High       0.77      0.94      0.85        32\n",
      "\n",
      "avg / total       0.85      0.84      0.84       122\n",
      "\n",
      "confusion matrix:\n",
      "[[40  5  1]\n",
      " [ 3 33  8]\n",
      " [ 0  2 30]]\n",
      "\n",
      "________________________________________________________________________________\n",
      "Training: LinearSVC(loss=hinge, tol=0.001, multi_class=ovr)\n",
      "Pipeline(steps=[('vect', CountVectorizer(analyzer='word', binary=False, decode_error='strict',\n",
      "        dtype=<class 'numpy.int64'>, encoding='utf-8', input='content',\n",
      "        lowercase=True, max_df=1.0, max_features=None, min_df=1,\n",
      "        ngram_range=(1, 1), preprocessor=None, stop_words=None,\n",
      "        strip...ge', max_iter=1000, multi_class='ovr',\n",
      "     penalty='l2', random_state=None, tol=0.001, verbose=0))])\n",
      "train time: 0.047s"
     ]
    },
    {
     "name": "stderr",
     "output_type": "stream",
     "text": [
      "/home/antonio/virtualenvs/elbulli/lib/python3.4/site-packages/sklearn/metrics/classification.py:1304: DeprecationWarning: The default `weighted` averaging is deprecated, and from version 0.18, use of precision, recall or F-score with multiclass or multilabel data or pos_label=None will result in an exception. Please set an explicit value for `average`, one of (None, 'micro', 'macro', 'weighted', 'samples'). In cross validation use, for instance, scoring=\"f1_weighted\" instead of scoring=\"f1\".\n",
      "  sample_weight=sample_weight)\n",
      "/home/antonio/virtualenvs/elbulli/lib/python3.4/site-packages/sklearn/metrics/classification.py:1203: DeprecationWarning: The default `weighted` averaging is deprecated, and from version 0.18, use of precision, recall or F-score with multiclass or multilabel data or pos_label=None will result in an exception. Please set an explicit value for `average`, one of (None, 'micro', 'macro', 'weighted', 'samples'). In cross validation use, for instance, scoring=\"f1_weighted\" instead of scoring=\"f1\".\n",
      "  sample_weight=sample_weight)\n"
     ]
    },
    {
     "name": "stdout",
     "output_type": "stream",
     "text": [
      "\n",
      "test time:  0.005s\n",
      "accuracy:   0.828\n",
      "precision:   0.828\n",
      "recall:   0.828\n",
      "classification report:\n",
      "             precision    recall  f1-score   support\n",
      "\n",
      "        Low       0.85      0.87      0.86        46\n",
      "     Medium       0.82      0.70      0.76        44\n",
      "       High       0.81      0.94      0.87        32\n",
      "\n",
      "avg / total       0.83      0.83      0.83       122\n",
      "\n",
      "confusion matrix:\n",
      "[[40  5  1]\n",
      " [ 7 31  6]\n",
      " [ 0  2 30]]\n",
      "\n",
      "________________________________________________________________________________\n",
      "Training: LinearSVC(loss=hinge, tol=0.001, multi_class=crammer_singer)\n",
      "Pipeline(steps=[('vect', CountVectorizer(analyzer='word', binary=False, decode_error='strict',\n",
      "        dtype=<class 'numpy.int64'>, encoding='utf-8', input='content',\n",
      "        lowercase=True, max_df=1.0, max_features=None, min_df=1,\n",
      "        ngram_range=(1, 1), preprocessor=None, stop_words=None,\n",
      "        strip...00,\n",
      "     multi_class='crammer_singer', penalty='l2', random_state=None,\n",
      "     tol=0.001, verbose=0))])\n",
      "train time: 0.056s"
     ]
    },
    {
     "name": "stderr",
     "output_type": "stream",
     "text": [
      "/home/antonio/virtualenvs/elbulli/lib/python3.4/site-packages/sklearn/metrics/classification.py:1304: DeprecationWarning: The default `weighted` averaging is deprecated, and from version 0.18, use of precision, recall or F-score with multiclass or multilabel data or pos_label=None will result in an exception. Please set an explicit value for `average`, one of (None, 'micro', 'macro', 'weighted', 'samples'). In cross validation use, for instance, scoring=\"f1_weighted\" instead of scoring=\"f1\".\n",
      "  sample_weight=sample_weight)\n",
      "/home/antonio/virtualenvs/elbulli/lib/python3.4/site-packages/sklearn/metrics/classification.py:1203: DeprecationWarning: The default `weighted` averaging is deprecated, and from version 0.18, use of precision, recall or F-score with multiclass or multilabel data or pos_label=None will result in an exception. Please set an explicit value for `average`, one of (None, 'micro', 'macro', 'weighted', 'samples'). In cross validation use, for instance, scoring=\"f1_weighted\" instead of scoring=\"f1\".\n",
      "  sample_weight=sample_weight)\n"
     ]
    },
    {
     "name": "stdout",
     "output_type": "stream",
     "text": [
      "\n",
      "test time:  0.005s\n",
      "accuracy:   0.844\n",
      "precision:   0.844\n",
      "recall:   0.844\n",
      "classification report:\n",
      "             precision    recall  f1-score   support\n",
      "\n",
      "        Low       0.93      0.87      0.90        46\n",
      "     Medium       0.82      0.75      0.79        44\n",
      "       High       0.77      0.94      0.85        32\n",
      "\n",
      "avg / total       0.85      0.84      0.84       122\n",
      "\n",
      "confusion matrix:\n",
      "[[40  5  1]\n",
      " [ 3 33  8]\n",
      " [ 0  2 30]]\n",
      "\n",
      "________________________________________________________________________________\n",
      "Training: LinearSVC(loss=hinge, tol=0.01, multi_class=ovr)\n",
      "Pipeline(steps=[('vect', CountVectorizer(analyzer='word', binary=False, decode_error='strict',\n",
      "        dtype=<class 'numpy.int64'>, encoding='utf-8', input='content',\n",
      "        lowercase=True, max_df=1.0, max_features=None, min_df=1,\n",
      "        ngram_range=(1, 1), preprocessor=None, stop_words=None,\n",
      "        strip...nge', max_iter=1000, multi_class='ovr',\n",
      "     penalty='l2', random_state=None, tol=0.01, verbose=0))])\n",
      "train time: 0.041s"
     ]
    },
    {
     "name": "stderr",
     "output_type": "stream",
     "text": [
      "/home/antonio/virtualenvs/elbulli/lib/python3.4/site-packages/sklearn/metrics/classification.py:1304: DeprecationWarning: The default `weighted` averaging is deprecated, and from version 0.18, use of precision, recall or F-score with multiclass or multilabel data or pos_label=None will result in an exception. Please set an explicit value for `average`, one of (None, 'micro', 'macro', 'weighted', 'samples'). In cross validation use, for instance, scoring=\"f1_weighted\" instead of scoring=\"f1\".\n",
      "  sample_weight=sample_weight)\n",
      "/home/antonio/virtualenvs/elbulli/lib/python3.4/site-packages/sklearn/metrics/classification.py:1203: DeprecationWarning: The default `weighted` averaging is deprecated, and from version 0.18, use of precision, recall or F-score with multiclass or multilabel data or pos_label=None will result in an exception. Please set an explicit value for `average`, one of (None, 'micro', 'macro', 'weighted', 'samples'). In cross validation use, for instance, scoring=\"f1_weighted\" instead of scoring=\"f1\".\n",
      "  sample_weight=sample_weight)\n"
     ]
    },
    {
     "name": "stdout",
     "output_type": "stream",
     "text": [
      "\n",
      "test time:  0.005s\n",
      "accuracy:   0.828\n",
      "precision:   0.828\n",
      "recall:   0.828\n",
      "classification report:\n",
      "             precision    recall  f1-score   support\n",
      "\n",
      "        Low       0.85      0.87      0.86        46\n",
      "     Medium       0.82      0.70      0.76        44\n",
      "       High       0.81      0.94      0.87        32\n",
      "\n",
      "avg / total       0.83      0.83      0.83       122\n",
      "\n",
      "confusion matrix:\n",
      "[[40  5  1]\n",
      " [ 7 31  6]\n",
      " [ 0  2 30]]\n",
      "\n",
      "________________________________________________________________________________\n",
      "Training: LinearSVC(loss=hinge, tol=0.01, multi_class=crammer_singer)\n",
      "Pipeline(steps=[('vect', CountVectorizer(analyzer='word', binary=False, decode_error='strict',\n",
      "        dtype=<class 'numpy.int64'>, encoding='utf-8', input='content',\n",
      "        lowercase=True, max_df=1.0, max_features=None, min_df=1,\n",
      "        ngram_range=(1, 1), preprocessor=None, stop_words=None,\n",
      "        strip...000,\n",
      "     multi_class='crammer_singer', penalty='l2', random_state=None,\n",
      "     tol=0.01, verbose=0))])\n",
      "train time: 0.046s"
     ]
    },
    {
     "name": "stderr",
     "output_type": "stream",
     "text": [
      "/home/antonio/virtualenvs/elbulli/lib/python3.4/site-packages/sklearn/metrics/classification.py:1304: DeprecationWarning: The default `weighted` averaging is deprecated, and from version 0.18, use of precision, recall or F-score with multiclass or multilabel data or pos_label=None will result in an exception. Please set an explicit value for `average`, one of (None, 'micro', 'macro', 'weighted', 'samples'). In cross validation use, for instance, scoring=\"f1_weighted\" instead of scoring=\"f1\".\n",
      "  sample_weight=sample_weight)\n",
      "/home/antonio/virtualenvs/elbulli/lib/python3.4/site-packages/sklearn/metrics/classification.py:1203: DeprecationWarning: The default `weighted` averaging is deprecated, and from version 0.18, use of precision, recall or F-score with multiclass or multilabel data or pos_label=None will result in an exception. Please set an explicit value for `average`, one of (None, 'micro', 'macro', 'weighted', 'samples'). In cross validation use, for instance, scoring=\"f1_weighted\" instead of scoring=\"f1\".\n",
      "  sample_weight=sample_weight)\n"
     ]
    },
    {
     "name": "stdout",
     "output_type": "stream",
     "text": [
      "\n",
      "test time:  0.007s\n",
      "accuracy:   0.844\n",
      "precision:   0.844\n",
      "recall:   0.844\n",
      "classification report:\n",
      "             precision    recall  f1-score   support\n",
      "\n",
      "        Low       0.93      0.87      0.90        46\n",
      "     Medium       0.82      0.75      0.79        44\n",
      "       High       0.77      0.94      0.85        32\n",
      "\n",
      "avg / total       0.85      0.84      0.84       122\n",
      "\n",
      "confusion matrix:\n",
      "[[40  5  1]\n",
      " [ 3 33  8]\n",
      " [ 0  2 30]]\n",
      "\n",
      "________________________________________________________________________________\n",
      "Training: LinearSVC(loss=hinge, tol=0.1, multi_class=ovr)\n",
      "Pipeline(steps=[('vect', CountVectorizer(analyzer='word', binary=False, decode_error='strict',\n",
      "        dtype=<class 'numpy.int64'>, encoding='utf-8', input='content',\n",
      "        lowercase=True, max_df=1.0, max_features=None, min_df=1,\n",
      "        ngram_range=(1, 1), preprocessor=None, stop_words=None,\n",
      "        strip...inge', max_iter=1000, multi_class='ovr',\n",
      "     penalty='l2', random_state=None, tol=0.1, verbose=0))])\n",
      "train time: 0.045s"
     ]
    },
    {
     "name": "stderr",
     "output_type": "stream",
     "text": [
      "/home/antonio/virtualenvs/elbulli/lib/python3.4/site-packages/sklearn/metrics/classification.py:1304: DeprecationWarning: The default `weighted` averaging is deprecated, and from version 0.18, use of precision, recall or F-score with multiclass or multilabel data or pos_label=None will result in an exception. Please set an explicit value for `average`, one of (None, 'micro', 'macro', 'weighted', 'samples'). In cross validation use, for instance, scoring=\"f1_weighted\" instead of scoring=\"f1\".\n",
      "  sample_weight=sample_weight)\n",
      "/home/antonio/virtualenvs/elbulli/lib/python3.4/site-packages/sklearn/metrics/classification.py:1203: DeprecationWarning: The default `weighted` averaging is deprecated, and from version 0.18, use of precision, recall or F-score with multiclass or multilabel data or pos_label=None will result in an exception. Please set an explicit value for `average`, one of (None, 'micro', 'macro', 'weighted', 'samples'). In cross validation use, for instance, scoring=\"f1_weighted\" instead of scoring=\"f1\".\n",
      "  sample_weight=sample_weight)\n"
     ]
    },
    {
     "name": "stdout",
     "output_type": "stream",
     "text": [
      "\n",
      "test time:  0.005s\n",
      "accuracy:   0.828\n",
      "precision:   0.828\n",
      "recall:   0.828\n",
      "classification report:\n",
      "             precision    recall  f1-score   support\n",
      "\n",
      "        Low       0.85      0.87      0.86        46\n",
      "     Medium       0.82      0.70      0.76        44\n",
      "       High       0.81      0.94      0.87        32\n",
      "\n",
      "avg / total       0.83      0.83      0.83       122\n",
      "\n",
      "confusion matrix:\n",
      "[[40  5  1]\n",
      " [ 7 31  6]\n",
      " [ 0  2 30]]\n",
      "\n",
      "________________________________________________________________________________\n",
      "Training: LinearSVC(loss=hinge, tol=0.1, multi_class=crammer_singer)\n",
      "Pipeline(steps=[('vect', CountVectorizer(analyzer='word', binary=False, decode_error='strict',\n",
      "        dtype=<class 'numpy.int64'>, encoding='utf-8', input='content',\n",
      "        lowercase=True, max_df=1.0, max_features=None, min_df=1,\n",
      "        ngram_range=(1, 1), preprocessor=None, stop_words=None,\n",
      "        strip...1000,\n",
      "     multi_class='crammer_singer', penalty='l2', random_state=None,\n",
      "     tol=0.1, verbose=0))])\n",
      "train time: 0.040s\n",
      "test time:  0.004s\n",
      "accuracy:   0.844\n",
      "precision:   0.844\n",
      "recall:   0.844\n",
      "classification report:\n",
      "             precision    recall  f1-score   support\n",
      "\n",
      "        Low       0.93      0.87      0.90        46\n",
      "     Medium       0.82      0.75      0.79        44\n",
      "       High       0.77      0.94      0.85        32\n",
      "\n",
      "avg / total       0.85      0.84      0.84       122\n",
      "\n",
      "confusion matrix:\n",
      "[[40  5  1]\n",
      " [ 3 33  8]\n",
      " [ 0  2 30]]\n",
      "\n",
      "________________________________________________________________________________\n",
      "Training: LinearSVC(loss=squared_hinge, tol=0.0001, multi_class=ovr)\n",
      "Pipeline(steps=[('vect', CountVectorizer(analyzer='word', binary=False, decode_error='strict',\n",
      "        dtype=<class 'numpy.int64'>, encoding='utf-8', input='content',\n",
      "        lowercase=True, max_df=1.0, max_features=None, min_df=1,\n",
      "        ngram_range=(1, 1), preprocessor=None, stop_words=None,\n",
      "        strip...ax_iter=1000,\n",
      "     multi_class='ovr', penalty='l2', random_state=None, tol=0.0001,\n",
      "     verbose=0))])\n",
      "train time: 0.043s\n",
      "test time:  0.004s"
     ]
    },
    {
     "name": "stderr",
     "output_type": "stream",
     "text": [
      "/home/antonio/virtualenvs/elbulli/lib/python3.4/site-packages/sklearn/metrics/classification.py:1304: DeprecationWarning: The default `weighted` averaging is deprecated, and from version 0.18, use of precision, recall or F-score with multiclass or multilabel data or pos_label=None will result in an exception. Please set an explicit value for `average`, one of (None, 'micro', 'macro', 'weighted', 'samples'). In cross validation use, for instance, scoring=\"f1_weighted\" instead of scoring=\"f1\".\n",
      "  sample_weight=sample_weight)\n",
      "/home/antonio/virtualenvs/elbulli/lib/python3.4/site-packages/sklearn/metrics/classification.py:1203: DeprecationWarning: The default `weighted` averaging is deprecated, and from version 0.18, use of precision, recall or F-score with multiclass or multilabel data or pos_label=None will result in an exception. Please set an explicit value for `average`, one of (None, 'micro', 'macro', 'weighted', 'samples'). In cross validation use, for instance, scoring=\"f1_weighted\" instead of scoring=\"f1\".\n",
      "  sample_weight=sample_weight)\n",
      "/home/antonio/virtualenvs/elbulli/lib/python3.4/site-packages/sklearn/metrics/classification.py:1304: DeprecationWarning: The default `weighted` averaging is deprecated, and from version 0.18, use of precision, recall or F-score with multiclass or multilabel data or pos_label=None will result in an exception. Please set an explicit value for `average`, one of (None, 'micro', 'macro', 'weighted', 'samples'). In cross validation use, for instance, scoring=\"f1_weighted\" instead of scoring=\"f1\".\n",
      "  sample_weight=sample_weight)\n",
      "/home/antonio/virtualenvs/elbulli/lib/python3.4/site-packages/sklearn/metrics/classification.py:1203: DeprecationWarning: The default `weighted` averaging is deprecated, and from version 0.18, use of precision, recall or F-score with multiclass or multilabel data or pos_label=None will result in an exception. Please set an explicit value for `average`, one of (None, 'micro', 'macro', 'weighted', 'samples'). In cross validation use, for instance, scoring=\"f1_weighted\" instead of scoring=\"f1\".\n",
      "  sample_weight=sample_weight)\n"
     ]
    },
    {
     "name": "stdout",
     "output_type": "stream",
     "text": [
      "\n",
      "accuracy:   0.852\n",
      "precision:   0.852\n",
      "recall:   0.852\n",
      "classification report:\n",
      "             precision    recall  f1-score   support\n",
      "\n",
      "        Low       0.91      0.85      0.88        46\n",
      "     Medium       0.81      0.80      0.80        44\n",
      "       High       0.83      0.94      0.88        32\n",
      "\n",
      "avg / total       0.85      0.85      0.85       122\n",
      "\n",
      "confusion matrix:\n",
      "[[39  6  1]\n",
      " [ 4 35  5]\n",
      " [ 0  2 30]]\n",
      "\n",
      "________________________________________________________________________________\n",
      "Training: LinearSVC(loss=squared_hinge, tol=0.0001, multi_class=crammer_singer)\n",
      "Pipeline(steps=[('vect', CountVectorizer(analyzer='word', binary=False, decode_error='strict',\n",
      "        dtype=<class 'numpy.int64'>, encoding='utf-8', input='content',\n",
      "        lowercase=True, max_df=1.0, max_features=None, min_df=1,\n",
      "        ngram_range=(1, 1), preprocessor=None, stop_words=None,\n",
      "        strip...0,\n",
      "     multi_class='crammer_singer', penalty='l2', random_state=None,\n",
      "     tol=0.0001, verbose=0))])\n",
      "train time: 0.073s"
     ]
    },
    {
     "name": "stderr",
     "output_type": "stream",
     "text": [
      "/home/antonio/virtualenvs/elbulli/lib/python3.4/site-packages/sklearn/metrics/classification.py:1304: DeprecationWarning: The default `weighted` averaging is deprecated, and from version 0.18, use of precision, recall or F-score with multiclass or multilabel data or pos_label=None will result in an exception. Please set an explicit value for `average`, one of (None, 'micro', 'macro', 'weighted', 'samples'). In cross validation use, for instance, scoring=\"f1_weighted\" instead of scoring=\"f1\".\n",
      "  sample_weight=sample_weight)\n",
      "/home/antonio/virtualenvs/elbulli/lib/python3.4/site-packages/sklearn/metrics/classification.py:1203: DeprecationWarning: The default `weighted` averaging is deprecated, and from version 0.18, use of precision, recall or F-score with multiclass or multilabel data or pos_label=None will result in an exception. Please set an explicit value for `average`, one of (None, 'micro', 'macro', 'weighted', 'samples'). In cross validation use, for instance, scoring=\"f1_weighted\" instead of scoring=\"f1\".\n",
      "  sample_weight=sample_weight)\n"
     ]
    },
    {
     "name": "stdout",
     "output_type": "stream",
     "text": [
      "\n",
      "test time:  0.007s\n",
      "accuracy:   0.844\n",
      "precision:   0.844\n",
      "recall:   0.844\n",
      "classification report:\n",
      "             precision    recall  f1-score   support\n",
      "\n",
      "        Low       0.93      0.87      0.90        46\n",
      "     Medium       0.82      0.75      0.79        44\n",
      "       High       0.77      0.94      0.85        32\n",
      "\n",
      "avg / total       0.85      0.84      0.84       122\n",
      "\n",
      "confusion matrix:\n",
      "[[40  5  1]\n",
      " [ 3 33  8]\n",
      " [ 0  2 30]]\n",
      "\n",
      "________________________________________________________________________________\n",
      "Training: LinearSVC(loss=squared_hinge, tol=0.001, multi_class=ovr)\n",
      "Pipeline(steps=[('vect', CountVectorizer(analyzer='word', binary=False, decode_error='strict',\n",
      "        dtype=<class 'numpy.int64'>, encoding='utf-8', input='content',\n",
      "        lowercase=True, max_df=1.0, max_features=None, min_df=1,\n",
      "        ngram_range=(1, 1), preprocessor=None, stop_words=None,\n",
      "        strip...max_iter=1000,\n",
      "     multi_class='ovr', penalty='l2', random_state=None, tol=0.001,\n",
      "     verbose=0))])\n",
      "train time: 0.057s"
     ]
    },
    {
     "name": "stderr",
     "output_type": "stream",
     "text": [
      "/home/antonio/virtualenvs/elbulli/lib/python3.4/site-packages/sklearn/metrics/classification.py:1304: DeprecationWarning: The default `weighted` averaging is deprecated, and from version 0.18, use of precision, recall or F-score with multiclass or multilabel data or pos_label=None will result in an exception. Please set an explicit value for `average`, one of (None, 'micro', 'macro', 'weighted', 'samples'). In cross validation use, for instance, scoring=\"f1_weighted\" instead of scoring=\"f1\".\n",
      "  sample_weight=sample_weight)\n",
      "/home/antonio/virtualenvs/elbulli/lib/python3.4/site-packages/sklearn/metrics/classification.py:1203: DeprecationWarning: The default `weighted` averaging is deprecated, and from version 0.18, use of precision, recall or F-score with multiclass or multilabel data or pos_label=None will result in an exception. Please set an explicit value for `average`, one of (None, 'micro', 'macro', 'weighted', 'samples'). In cross validation use, for instance, scoring=\"f1_weighted\" instead of scoring=\"f1\".\n",
      "  sample_weight=sample_weight)\n"
     ]
    },
    {
     "name": "stdout",
     "output_type": "stream",
     "text": [
      "\n",
      "test time:  0.007s\n",
      "accuracy:   0.852\n",
      "precision:   0.852\n",
      "recall:   0.852\n",
      "classification report:\n",
      "             precision    recall  f1-score   support\n",
      "\n",
      "        Low       0.91      0.85      0.88        46\n",
      "     Medium       0.81      0.80      0.80        44\n",
      "       High       0.83      0.94      0.88        32\n",
      "\n",
      "avg / total       0.85      0.85      0.85       122\n",
      "\n",
      "confusion matrix:\n",
      "[[39  6  1]\n",
      " [ 4 35  5]\n",
      " [ 0  2 30]]\n",
      "\n",
      "________________________________________________________________________________\n",
      "Training: LinearSVC(loss=squared_hinge, tol=0.001, multi_class=crammer_singer)\n",
      "Pipeline(steps=[('vect', CountVectorizer(analyzer='word', binary=False, decode_error='strict',\n",
      "        dtype=<class 'numpy.int64'>, encoding='utf-8', input='content',\n",
      "        lowercase=True, max_df=1.0, max_features=None, min_df=1,\n",
      "        ngram_range=(1, 1), preprocessor=None, stop_words=None,\n",
      "        strip...00,\n",
      "     multi_class='crammer_singer', penalty='l2', random_state=None,\n",
      "     tol=0.001, verbose=0))])\n",
      "train time: 0.064s"
     ]
    },
    {
     "name": "stderr",
     "output_type": "stream",
     "text": [
      "/home/antonio/virtualenvs/elbulli/lib/python3.4/site-packages/sklearn/metrics/classification.py:1304: DeprecationWarning: The default `weighted` averaging is deprecated, and from version 0.18, use of precision, recall or F-score with multiclass or multilabel data or pos_label=None will result in an exception. Please set an explicit value for `average`, one of (None, 'micro', 'macro', 'weighted', 'samples'). In cross validation use, for instance, scoring=\"f1_weighted\" instead of scoring=\"f1\".\n",
      "  sample_weight=sample_weight)\n",
      "/home/antonio/virtualenvs/elbulli/lib/python3.4/site-packages/sklearn/metrics/classification.py:1203: DeprecationWarning: The default `weighted` averaging is deprecated, and from version 0.18, use of precision, recall or F-score with multiclass or multilabel data or pos_label=None will result in an exception. Please set an explicit value for `average`, one of (None, 'micro', 'macro', 'weighted', 'samples'). In cross validation use, for instance, scoring=\"f1_weighted\" instead of scoring=\"f1\".\n",
      "  sample_weight=sample_weight)\n"
     ]
    },
    {
     "name": "stdout",
     "output_type": "stream",
     "text": [
      "\n",
      "test time:  0.007s\n",
      "accuracy:   0.844\n",
      "precision:   0.844\n",
      "recall:   0.844\n",
      "classification report:\n",
      "             precision    recall  f1-score   support\n",
      "\n",
      "        Low       0.93      0.87      0.90        46\n",
      "     Medium       0.82      0.75      0.79        44\n",
      "       High       0.77      0.94      0.85        32\n",
      "\n",
      "avg / total       0.85      0.84      0.84       122\n",
      "\n",
      "confusion matrix:\n",
      "[[40  5  1]\n",
      " [ 3 33  8]\n",
      " [ 0  2 30]]\n",
      "\n",
      "________________________________________________________________________________\n",
      "Training: LinearSVC(loss=squared_hinge, tol=0.01, multi_class=ovr)\n",
      "Pipeline(steps=[('vect', CountVectorizer(analyzer='word', binary=False, decode_error='strict',\n",
      "        dtype=<class 'numpy.int64'>, encoding='utf-8', input='content',\n",
      "        lowercase=True, max_df=1.0, max_features=None, min_df=1,\n",
      "        ngram_range=(1, 1), preprocessor=None, stop_words=None,\n",
      "        strip... max_iter=1000,\n",
      "     multi_class='ovr', penalty='l2', random_state=None, tol=0.01,\n",
      "     verbose=0))])\n",
      "train time: 0.049s"
     ]
    },
    {
     "name": "stderr",
     "output_type": "stream",
     "text": [
      "/home/antonio/virtualenvs/elbulli/lib/python3.4/site-packages/sklearn/metrics/classification.py:1304: DeprecationWarning: The default `weighted` averaging is deprecated, and from version 0.18, use of precision, recall or F-score with multiclass or multilabel data or pos_label=None will result in an exception. Please set an explicit value for `average`, one of (None, 'micro', 'macro', 'weighted', 'samples'). In cross validation use, for instance, scoring=\"f1_weighted\" instead of scoring=\"f1\".\n",
      "  sample_weight=sample_weight)\n",
      "/home/antonio/virtualenvs/elbulli/lib/python3.4/site-packages/sklearn/metrics/classification.py:1203: DeprecationWarning: The default `weighted` averaging is deprecated, and from version 0.18, use of precision, recall or F-score with multiclass or multilabel data or pos_label=None will result in an exception. Please set an explicit value for `average`, one of (None, 'micro', 'macro', 'weighted', 'samples'). In cross validation use, for instance, scoring=\"f1_weighted\" instead of scoring=\"f1\".\n",
      "  sample_weight=sample_weight)\n"
     ]
    },
    {
     "name": "stdout",
     "output_type": "stream",
     "text": [
      "\n",
      "test time:  0.007s\n",
      "accuracy:   0.852\n",
      "precision:   0.852\n",
      "recall:   0.852\n",
      "classification report:\n",
      "             precision    recall  f1-score   support\n",
      "\n",
      "        Low       0.91      0.85      0.88        46\n",
      "     Medium       0.81      0.80      0.80        44\n",
      "       High       0.83      0.94      0.88        32\n",
      "\n",
      "avg / total       0.85      0.85      0.85       122\n",
      "\n",
      "confusion matrix:\n",
      "[[39  6  1]\n",
      " [ 4 35  5]\n",
      " [ 0  2 30]]\n",
      "\n",
      "________________________________________________________________________________\n",
      "Training: LinearSVC(loss=squared_hinge, tol=0.01, multi_class=crammer_singer)\n",
      "Pipeline(steps=[('vect', CountVectorizer(analyzer='word', binary=False, decode_error='strict',\n",
      "        dtype=<class 'numpy.int64'>, encoding='utf-8', input='content',\n",
      "        lowercase=True, max_df=1.0, max_features=None, min_df=1,\n",
      "        ngram_range=(1, 1), preprocessor=None, stop_words=None,\n",
      "        strip...000,\n",
      "     multi_class='crammer_singer', penalty='l2', random_state=None,\n",
      "     tol=0.01, verbose=0))])\n",
      "train time: 0.062s"
     ]
    },
    {
     "name": "stderr",
     "output_type": "stream",
     "text": [
      "/home/antonio/virtualenvs/elbulli/lib/python3.4/site-packages/sklearn/metrics/classification.py:1304: DeprecationWarning: The default `weighted` averaging is deprecated, and from version 0.18, use of precision, recall or F-score with multiclass or multilabel data or pos_label=None will result in an exception. Please set an explicit value for `average`, one of (None, 'micro', 'macro', 'weighted', 'samples'). In cross validation use, for instance, scoring=\"f1_weighted\" instead of scoring=\"f1\".\n",
      "  sample_weight=sample_weight)\n",
      "/home/antonio/virtualenvs/elbulli/lib/python3.4/site-packages/sklearn/metrics/classification.py:1203: DeprecationWarning: The default `weighted` averaging is deprecated, and from version 0.18, use of precision, recall or F-score with multiclass or multilabel data or pos_label=None will result in an exception. Please set an explicit value for `average`, one of (None, 'micro', 'macro', 'weighted', 'samples'). In cross validation use, for instance, scoring=\"f1_weighted\" instead of scoring=\"f1\".\n",
      "  sample_weight=sample_weight)\n"
     ]
    },
    {
     "name": "stdout",
     "output_type": "stream",
     "text": [
      "\n",
      "test time:  0.007s\n",
      "accuracy:   0.844\n",
      "precision:   0.844\n",
      "recall:   0.844\n",
      "classification report:\n",
      "             precision    recall  f1-score   support\n",
      "\n",
      "        Low       0.93      0.87      0.90        46\n",
      "     Medium       0.82      0.75      0.79        44\n",
      "       High       0.77      0.94      0.85        32\n",
      "\n",
      "avg / total       0.85      0.84      0.84       122\n",
      "\n",
      "confusion matrix:\n",
      "[[40  5  1]\n",
      " [ 3 33  8]\n",
      " [ 0  2 30]]\n",
      "\n",
      "________________________________________________________________________________\n",
      "Training: LinearSVC(loss=squared_hinge, tol=0.1, multi_class=ovr)\n",
      "Pipeline(steps=[('vect', CountVectorizer(analyzer='word', binary=False, decode_error='strict',\n",
      "        dtype=<class 'numpy.int64'>, encoding='utf-8', input='content',\n",
      "        lowercase=True, max_df=1.0, max_features=None, min_df=1,\n",
      "        ngram_range=(1, 1), preprocessor=None, stop_words=None,\n",
      "        strip..., max_iter=1000,\n",
      "     multi_class='ovr', penalty='l2', random_state=None, tol=0.1,\n",
      "     verbose=0))])\n",
      "train time: 0.047s"
     ]
    },
    {
     "name": "stderr",
     "output_type": "stream",
     "text": [
      "/home/antonio/virtualenvs/elbulli/lib/python3.4/site-packages/sklearn/metrics/classification.py:1304: DeprecationWarning: The default `weighted` averaging is deprecated, and from version 0.18, use of precision, recall or F-score with multiclass or multilabel data or pos_label=None will result in an exception. Please set an explicit value for `average`, one of (None, 'micro', 'macro', 'weighted', 'samples'). In cross validation use, for instance, scoring=\"f1_weighted\" instead of scoring=\"f1\".\n",
      "  sample_weight=sample_weight)\n",
      "/home/antonio/virtualenvs/elbulli/lib/python3.4/site-packages/sklearn/metrics/classification.py:1203: DeprecationWarning: The default `weighted` averaging is deprecated, and from version 0.18, use of precision, recall or F-score with multiclass or multilabel data or pos_label=None will result in an exception. Please set an explicit value for `average`, one of (None, 'micro', 'macro', 'weighted', 'samples'). In cross validation use, for instance, scoring=\"f1_weighted\" instead of scoring=\"f1\".\n",
      "  sample_weight=sample_weight)\n"
     ]
    },
    {
     "name": "stdout",
     "output_type": "stream",
     "text": [
      "\n",
      "test time:  0.007s\n",
      "accuracy:   0.852\n",
      "precision:   0.852\n",
      "recall:   0.852\n",
      "classification report:\n",
      "             precision    recall  f1-score   support\n",
      "\n",
      "        Low       0.91      0.85      0.88        46\n",
      "     Medium       0.81      0.80      0.80        44\n",
      "       High       0.83      0.94      0.88        32\n",
      "\n",
      "avg / total       0.85      0.85      0.85       122\n",
      "\n",
      "confusion matrix:\n",
      "[[39  6  1]\n",
      " [ 4 35  5]\n",
      " [ 0  2 30]]\n",
      "\n",
      "________________________________________________________________________________\n",
      "Training: LinearSVC(loss=squared_hinge, tol=0.1, multi_class=crammer_singer)\n",
      "Pipeline(steps=[('vect', CountVectorizer(analyzer='word', binary=False, decode_error='strict',\n",
      "        dtype=<class 'numpy.int64'>, encoding='utf-8', input='content',\n",
      "        lowercase=True, max_df=1.0, max_features=None, min_df=1,\n",
      "        ngram_range=(1, 1), preprocessor=None, stop_words=None,\n",
      "        strip...1000,\n",
      "     multi_class='crammer_singer', penalty='l2', random_state=None,\n",
      "     tol=0.1, verbose=0))])\n",
      "train time: 0.050s"
     ]
    },
    {
     "name": "stderr",
     "output_type": "stream",
     "text": [
      "/home/antonio/virtualenvs/elbulli/lib/python3.4/site-packages/sklearn/metrics/classification.py:1304: DeprecationWarning: The default `weighted` averaging is deprecated, and from version 0.18, use of precision, recall or F-score with multiclass or multilabel data or pos_label=None will result in an exception. Please set an explicit value for `average`, one of (None, 'micro', 'macro', 'weighted', 'samples'). In cross validation use, for instance, scoring=\"f1_weighted\" instead of scoring=\"f1\".\n",
      "  sample_weight=sample_weight)\n",
      "/home/antonio/virtualenvs/elbulli/lib/python3.4/site-packages/sklearn/metrics/classification.py:1203: DeprecationWarning: The default `weighted` averaging is deprecated, and from version 0.18, use of precision, recall or F-score with multiclass or multilabel data or pos_label=None will result in an exception. Please set an explicit value for `average`, one of (None, 'micro', 'macro', 'weighted', 'samples'). In cross validation use, for instance, scoring=\"f1_weighted\" instead of scoring=\"f1\".\n",
      "  sample_weight=sample_weight)\n"
     ]
    },
    {
     "name": "stdout",
     "output_type": "stream",
     "text": [
      "\n",
      "test time:  0.007s\n",
      "accuracy:   0.844\n",
      "precision:   0.844\n",
      "recall:   0.844\n",
      "classification report:\n",
      "             precision    recall  f1-score   support\n",
      "\n",
      "        Low       0.93      0.87      0.90        46\n",
      "     Medium       0.82      0.75      0.79        44\n",
      "       High       0.77      0.94      0.85        32\n",
      "\n",
      "avg / total       0.85      0.84      0.84       122\n",
      "\n",
      "confusion matrix:\n",
      "[[40  5  1]\n",
      " [ 3 33  8]\n",
      " [ 0  2 30]]\n",
      "\n"
     ]
    },
    {
     "name": "stderr",
     "output_type": "stream",
     "text": [
      "/home/antonio/virtualenvs/elbulli/lib/python3.4/site-packages/sklearn/metrics/classification.py:1304: DeprecationWarning: The default `weighted` averaging is deprecated, and from version 0.18, use of precision, recall or F-score with multiclass or multilabel data or pos_label=None will result in an exception. Please set an explicit value for `average`, one of (None, 'micro', 'macro', 'weighted', 'samples'). In cross validation use, for instance, scoring=\"f1_weighted\" instead of scoring=\"f1\".\n",
      "  sample_weight=sample_weight)\n"
     ]
    }
   ],
   "source": [
    "X_train = X_data\n",
    "X_test = X_val\n",
    "y_train = y_data\n",
    "y_test = y_val\n",
    "\n",
    "for clf, name in clf_list:\n",
    "        pipeline = Pipeline([\n",
    "            ('vect', CountVectorizer()),\n",
    "            ('tfidf', TfidfTransformer(use_idf=True)),\n",
    "            ('clf', clf),\n",
    "        ])\n",
    "#         grid_search = GridSearchCV(pipeline, parameters, n_jobs=-1, verbose=1)\n",
    "#         benchmark_results = benchmark(grid_search, X_train, X_test, y_train, y_test, name)\n",
    "        benchmark_results = benchmark(pipeline, X_train, X_test, y_train, y_test, name)\n",
    "#         results[name].append(benchmark_results)"
   ]
  },
  {
   "cell_type": "code",
   "execution_count": 69,
   "metadata": {
    "collapsed": false
   },
   "outputs": [
    {
     "name": "stdout",
     "output_type": "stream",
     "text": [
      "Extracting features from the training data using a sparse vectorizer\n",
      "n_samples: 1092, n_features: 98\n",
      "\n",
      "Extracting features from the test data using the same vectorizer\n",
      "n_samples: 1092, n_features: 98\n",
      "\n"
     ]
    }
   ],
   "source": [
    "# split a training set and a test set\n",
    "y_train = y_data\n",
    "y_test = y_val\n",
    "\n",
    "vectorizer = TfidfVectorizer(sublinear_tf=True, max_df=0.5)\n",
    "\n",
    "print(\"Extracting features from the training data using a sparse vectorizer\")\n",
    "X_train = vectorizer.fit_transform(X_data)\n",
    "print(\"n_samples: %d, n_features: %d\" % X_train.shape)\n",
    "print()\n",
    "\n",
    "print(\"Extracting features from the test data using the same vectorizer\")\n",
    "X_test = vectorizer.transform(X_data)\n",
    "print(\"n_samples: %d, n_features: %d\" % X_test.shape)\n",
    "print()"
   ]
  },
  {
   "cell_type": "code",
   "execution_count": 70,
   "metadata": {
    "collapsed": false
   },
   "outputs": [
    {
     "name": "stdout",
     "output_type": "stream",
     "text": [
      "Extracting 50 best features by a chi-squared test\n",
      "\n"
     ]
    }
   ],
   "source": [
    "# mapping from integer feature name to original token string\n",
    "feature_names = vectorizer.get_feature_names()\n",
    "opts_select_chi2 = 50\n",
    "\n",
    "print(\"Extracting %d best features by a chi-squared test\" %\n",
    "      opts_select_chi2)\n",
    "ch2 = SelectKBest(chi2, k=opts_select_chi2)\n",
    "X_train = ch2.fit_transform(X_train, y_train)\n",
    "X_test = ch2.transform(X_test)\n",
    "if feature_names:\n",
    "    # keep selected feature names\n",
    "    feature_names = [feature_names[i] for i\n",
    "                     in ch2.get_support(indices=True)]\n",
    "print()\n",
    "\n",
    "feature_names = np.asarray(feature_names)"
   ]
  },
  {
   "cell_type": "code",
   "execution_count": 71,
   "metadata": {
    "collapsed": false
   },
   "outputs": [
    {
     "data": {
      "text/plain": [
       "array(['i_aceite_de_oliva_virgen', 'i_aceite_de_oliva_virgen_extra',\n",
       "       'i_agar', 'i_alginato_sódico', 'i_apio', 'i_cebolla_tierna',\n",
       "       'i_cebollino_fresco', 'i_chalotas', 'i_clara_de_huevo_en_polvo',\n",
       "       'i_cobertura', 'i_filetes', 'i_gelatina_fría', 'i_glucosa',\n",
       "       'i_habitas', 'i_harina_de_trigo', 'i_harina_floja', 'i_isomalt',\n",
       "       'i_jarabe_base', 'i_lecite', 'i_lecitina_de_soja',\n",
       "       'i_lecitina_de_soja_en_polvo', 'i_levadura_fresca_prensada',\n",
       "       'i_lima', 'i_mantequilla', 'i_metil', 'i_miel_de_romero',\n",
       "       'i_nata_montada', 'i_nitrógeno_líquido', 'i_perejil_fresco',\n",
       "       'i_perifollo', 'i_pimienta_blanca', 'i_sal_maldon',\n",
       "       'i_sésamo_blanco_japonés_tostado', 'i_tomate_maduro', 'i_tomillo',\n",
       "       'i_tremolina', 'i_trufa_negra', 'i_vinagre_balsámico_tradicional',\n",
       "       'i_xantana', 'i_yogur', 'i_zumo_de_fruta_de_la_pasión',\n",
       "       'i_ácido_ascórbico', 'i_ácido_cítrico_en_polvo', 't_escaldar',\n",
       "       't_gajos', 't_juliana', 't_liofilizar', 't_nitrógeno_líquido',\n",
       "       't_rodajas', 't_sartén'], \n",
       "      dtype='<U31')"
      ]
     },
     "execution_count": 71,
     "metadata": {},
     "output_type": "execute_result"
    }
   ],
   "source": [
    "feature_names"
   ]
  },
  {
   "cell_type": "code",
   "execution_count": 113,
   "metadata": {
    "collapsed": false
   },
   "outputs": [],
   "source": [
    "count_d = {\n",
    "    '1987-1997': {},\n",
    "    '1998-2001': {},\n",
    "    '2002-2005': {},\n",
    "}\n",
    "for y in ['1987-1997', '1998-2001', '2002-2005']:\n",
    "    for f in feature_names:\n",
    "        x = f[2:].replace('_', ' ')\n",
    "        if f.startswith('i'):\n",
    "            count_d[y][f] = 0\n",
    "            for r in recipes_df[(int(y.split('-')[0]) <= recipes_df['year']) & (recipes_df['year'] <= int(y.split('-')[1]))].iterrows():\n",
    "                count_d[y][f] += r[1]['ingredients'].count(x)\n",
    "        elif f.startswith('t'):\n",
    "            count_d[y][f] = 0\n",
    "            for r in recipes_df[(int(y.split('-')[0]) <= recipes_df['year']) & (recipes_df['year'] <= int(y.split('-')[1]))].iterrows():\n",
    "                count_d[y][f] += r[1]['techniques'].count(x)"
   ]
  },
  {
   "cell_type": "code",
   "execution_count": 114,
   "metadata": {
    "collapsed": false
   },
   "outputs": [
    {
     "data": {
      "text/plain": [
       "{'1987-1997': {'i_aceite_de_oliva_virgen': 19,\n",
       "  'i_aceite_de_oliva_virgen_extra': 0,\n",
       "  'i_agar': 0,\n",
       "  'i_alginato_sódico': 0,\n",
       "  'i_apio': 35,\n",
       "  'i_cebolla_tierna': 37,\n",
       "  'i_cebollino_fresco': 89,\n",
       "  'i_chalotas': 25,\n",
       "  'i_clara_de_huevo_en_polvo': 0,\n",
       "  'i_cobertura': 42,\n",
       "  'i_filetes': 18,\n",
       "  'i_gelatina_fría': 0,\n",
       "  'i_glucosa': 96,\n",
       "  'i_habitas': 24,\n",
       "  'i_harina_de_trigo': 73,\n",
       "  'i_harina_floja': 0,\n",
       "  'i_isomalt': 0,\n",
       "  'i_jarabe_base': 48,\n",
       "  'i_lecite': 0,\n",
       "  'i_lecitina_de_soja': 0,\n",
       "  'i_lecitina_de_soja_en_polvo': 0,\n",
       "  'i_levadura_fresca_prensada': 0,\n",
       "  'i_lima': 4,\n",
       "  'i_mantequilla': 125,\n",
       "  'i_metil': 0,\n",
       "  'i_miel_de_romero': 2,\n",
       "  'i_nata_montada': 29,\n",
       "  'i_nitrógeno_líquido': 0,\n",
       "  'i_perejil_fresco': 32,\n",
       "  'i_perifollo': 122,\n",
       "  'i_pimienta_blanca': 27,\n",
       "  'i_sal_maldon': 9,\n",
       "  'i_sésamo_blanco_japonés_tostado': 0,\n",
       "  'i_tomate_maduro': 77,\n",
       "  'i_tomillo': 28,\n",
       "  'i_tremolina': 0,\n",
       "  'i_trufa_negra': 58,\n",
       "  'i_vinagre_balsámico_tradicional': 1,\n",
       "  'i_xantana': 0,\n",
       "  'i_yogur': 5,\n",
       "  'i_zumo_de_fruta_de_la_pasión': 10,\n",
       "  'i_ácido_ascórbico': 1,\n",
       "  'i_ácido_cítrico_en_polvo': 0,\n",
       "  't_escaldar': 195,\n",
       "  't_gajos': 10,\n",
       "  't_juliana': 83,\n",
       "  't_liofilizar': 0,\n",
       "  't_nitrógeno_líquido': 0,\n",
       "  't_rodajas': 73,\n",
       "  't_sartén': 200},\n",
       " '1998-2001': {'i_aceite_de_oliva_virgen': 36,\n",
       "  'i_aceite_de_oliva_virgen_extra': 0,\n",
       "  'i_agar': 1,\n",
       "  'i_alginato_sódico': 0,\n",
       "  'i_apio': 2,\n",
       "  'i_cebolla_tierna': 5,\n",
       "  'i_cebollino_fresco': 0,\n",
       "  'i_chalotas': 0,\n",
       "  'i_clara_de_huevo_en_polvo': 0,\n",
       "  'i_cobertura': 36,\n",
       "  'i_filetes': 0,\n",
       "  'i_gelatina_fría': 0,\n",
       "  'i_glucosa': 126,\n",
       "  'i_habitas': 3,\n",
       "  'i_harina_de_trigo': 39,\n",
       "  'i_harina_floja': 0,\n",
       "  'i_isomalt': 56,\n",
       "  'i_jarabe_base': 53,\n",
       "  'i_lecite': 0,\n",
       "  'i_lecitina_de_soja': 0,\n",
       "  'i_lecitina_de_soja_en_polvo': 0,\n",
       "  'i_levadura_fresca_prensada': 1,\n",
       "  'i_lima': 24,\n",
       "  'i_mantequilla': 65,\n",
       "  'i_metil': 0,\n",
       "  'i_miel_de_romero': 0,\n",
       "  'i_nata_montada': 0,\n",
       "  'i_nitrógeno_líquido': 0,\n",
       "  'i_perejil_fresco': 1,\n",
       "  'i_perifollo': 19,\n",
       "  'i_pimienta_blanca': 8,\n",
       "  'i_sal_maldon': 88,\n",
       "  'i_sésamo_blanco_japonés_tostado': 0,\n",
       "  'i_tomate_maduro': 37,\n",
       "  'i_tomillo': 3,\n",
       "  'i_tremolina': 11,\n",
       "  'i_trufa_negra': 5,\n",
       "  'i_vinagre_balsámico_tradicional': 0,\n",
       "  'i_xantana': 0,\n",
       "  'i_yogur': 6,\n",
       "  'i_zumo_de_fruta_de_la_pasión': 15,\n",
       "  'i_ácido_ascórbico': 0,\n",
       "  'i_ácido_cítrico_en_polvo': 0,\n",
       "  't_escaldar': 67,\n",
       "  't_gajos': 22,\n",
       "  't_juliana': 11,\n",
       "  't_liofilizar': 1,\n",
       "  't_nitrógeno_líquido': 0,\n",
       "  't_rodajas': 18,\n",
       "  't_sartén': 52},\n",
       " '2002-2005': {'i_aceite_de_oliva_virgen': 3,\n",
       "  'i_aceite_de_oliva_virgen_extra': 44,\n",
       "  'i_agar': 19,\n",
       "  'i_alginato_sódico': 33,\n",
       "  'i_apio': 0,\n",
       "  'i_cebolla_tierna': 2,\n",
       "  'i_cebollino_fresco': 3,\n",
       "  'i_chalotas': 0,\n",
       "  'i_clara_de_huevo_en_polvo': 15,\n",
       "  'i_cobertura': 0,\n",
       "  'i_filetes': 0,\n",
       "  'i_gelatina_fría': 13,\n",
       "  'i_glucosa': 62,\n",
       "  'i_habitas': 0,\n",
       "  'i_harina_de_trigo': 9,\n",
       "  'i_harina_floja': 26,\n",
       "  'i_isomalt': 42,\n",
       "  'i_jarabe_base': 1,\n",
       "  'i_lecite': 28,\n",
       "  'i_lecitina_de_soja': 28,\n",
       "  'i_lecitina_de_soja_en_polvo': 32,\n",
       "  'i_levadura_fresca_prensada': 19,\n",
       "  'i_lima': 40,\n",
       "  'i_mantequilla': 36,\n",
       "  'i_metil': 17,\n",
       "  'i_miel_de_romero': 20,\n",
       "  'i_nata_montada': 2,\n",
       "  'i_nitrógeno_líquido': 24,\n",
       "  'i_perejil_fresco': 2,\n",
       "  'i_perifollo': 7,\n",
       "  'i_pimienta_blanca': 0,\n",
       "  'i_sal_maldon': 61,\n",
       "  'i_sésamo_blanco_japonés_tostado': 14,\n",
       "  'i_tomate_maduro': 3,\n",
       "  'i_tomillo': 0,\n",
       "  'i_tremolina': 0,\n",
       "  'i_trufa_negra': 2,\n",
       "  'i_vinagre_balsámico_tradicional': 12,\n",
       "  'i_xantana': 17,\n",
       "  'i_yogur': 23,\n",
       "  'i_zumo_de_fruta_de_la_pasión': 0,\n",
       "  'i_ácido_ascórbico': 24,\n",
       "  'i_ácido_cítrico_en_polvo': 12,\n",
       "  't_escaldar': 65,\n",
       "  't_gajos': 46,\n",
       "  't_juliana': 18,\n",
       "  't_liofilizar': 16,\n",
       "  't_nitrógeno_líquido': 13,\n",
       "  't_rodajas': 13,\n",
       "  't_sartén': 43}}"
      ]
     },
     "execution_count": 114,
     "metadata": {},
     "output_type": "execute_result"
    }
   ],
   "source": [
    "count_d"
   ]
  },
  {
   "cell_type": "code",
   "execution_count": 130,
   "metadata": {
    "collapsed": false
   },
   "outputs": [],
   "source": [
    "s1 = pd.Series(count_d['1987-1997'])\n",
    "s2 = pd.Series(count_d['1998-2001'])\n",
    "s3 = pd.Series(count_d['2002-2005'])"
   ]
  },
  {
   "cell_type": "code",
   "execution_count": 131,
   "metadata": {
    "collapsed": true
   },
   "outputs": [],
   "source": [
    "df = pd.DataFrame({\n",
    "        '1987-1997': s1,\n",
    "        '1998-2001': s2,\n",
    "        '2002-2005': s3,\n",
    "    })"
   ]
  },
  {
   "cell_type": "code",
   "execution_count": 132,
   "metadata": {
    "collapsed": false
   },
   "outputs": [
    {
     "data": {
      "text/plain": [
       "<matplotlib.axes._subplots.AxesSubplot at 0x7f5299724b00>"
      ]
     },
     "execution_count": 132,
     "metadata": {},
     "output_type": "execute_result"
    },
    {
     "name": "stderr",
     "output_type": "stream",
     "text": [
      "/home/antonio/virtualenvs/elbulli/lib/python3.4/site-packages/matplotlib/figure.py:1744: UserWarning: This figure includes Axes that are not compatible with tight_layout, so its results might be incorrect.\n",
      "  warnings.warn(\"This figure includes Axes that are not \"\n"
     ]
    },
    {
     "data": {
      "image/png": "[encoded data removed]",
      "text/plain": [
       "<matplotlib.figure.Figure at 0x7f52999e3a20>"
      ]
     },
     "metadata": {},
     "output_type": "display_data"
    }
   ],
   "source": [
    "df.plot(kind='bar')"
   ]
  },
  {
   "cell_type": "code",
   "execution_count": 105,
   "metadata": {
    "collapsed": false
   },
   "outputs": [
    {
     "data": {
      "text/html": [
       "<div>\n",
       "<table border=\"1\" class=\"dataframe\">\n",
       "  <thead>\n",
       "    <tr style=\"text-align: right;\">\n",
       "      <th></th>\n",
       "      <th>_id</th>\n",
       "      <th>title</th>\n",
       "      <th>year</th>\n",
       "      <th>ingredients</th>\n",
       "      <th>techniques</th>\n",
       "      <th>creativity</th>\n",
       "    </tr>\n",
       "  </thead>\n",
       "  <tbody>\n",
       "    <tr>\n",
       "      <th>0</th>\n",
       "      <td>1</td>\n",
       "      <td>terrina de melón con gelée de oporto</td>\n",
       "      <td>1987</td>\n",
       "      <td>[aceite de oliva, agua, gelatina de oporto, ho...</td>\n",
       "      <td>[agua]</td>\n",
       "      <td>10</td>\n",
       "    </tr>\n",
       "    <tr>\n",
       "      <th>1</th>\n",
       "      <td>10</td>\n",
       "      <td>salmonetes Gaudí</td>\n",
       "      <td>1987</td>\n",
       "      <td>[aceite de oliva, anchoa en aceite, calabacín,...</td>\n",
       "      <td>[agua, brunoise, cocción, hervir, horno, marca...</td>\n",
       "      <td>10</td>\n",
       "    </tr>\n",
       "    <tr>\n",
       "      <th>2</th>\n",
       "      <td>100</td>\n",
       "      <td>oursins</td>\n",
       "      <td>1990</td>\n",
       "      <td>[avellanas tostadas, azúcar, cacao en polvo, c...</td>\n",
       "      <td>[horno, secar]</td>\n",
       "      <td>10</td>\n",
       "    </tr>\n",
       "    <tr>\n",
       "      <th>13</th>\n",
       "      <td>101</td>\n",
       "      <td>diamantes</td>\n",
       "      <td>1990</td>\n",
       "      <td>[azúcar, azúcar lustre, harina de trigo, huevo...</td>\n",
       "      <td>[rodajas]</td>\n",
       "      <td>10</td>\n",
       "    </tr>\n",
       "    <tr>\n",
       "      <th>24</th>\n",
       "      <td>102</td>\n",
       "      <td>coca de berenjena escalivada, bacon y costilli...</td>\n",
       "      <td>1991</td>\n",
       "      <td>[aceite de oliva, aceite de oliva virgen, baco...</td>\n",
       "      <td>[horno, marcar, sal, sartén]</td>\n",
       "      <td>10</td>\n",
       "    </tr>\n",
       "    <tr>\n",
       "      <th>35</th>\n",
       "      <td>103</td>\n",
       "      <td>crudités de alcachofas y parmesano con costill...</td>\n",
       "      <td>1991</td>\n",
       "      <td>[aceite de oliva, ajo, alcachofas, almendras, ...</td>\n",
       "      <td>[agua, cocción, horno, marinar, sal, sartén, t...</td>\n",
       "      <td>10</td>\n",
       "    </tr>\n",
       "    <tr>\n",
       "      <th>46</th>\n",
       "      <td>104</td>\n",
       "      <td>mató con amapola, tomate, anchoas y aceite de ...</td>\n",
       "      <td>1991</td>\n",
       "      <td>[aceite de girasol, aceite de oliva, albahaca ...</td>\n",
       "      <td>[agua, confitar, empanar, hervir, macerar, rod...</td>\n",
       "      <td>10</td>\n",
       "    </tr>\n",
       "    <tr>\n",
       "      <th>57</th>\n",
       "      <td>105</td>\n",
       "      <td>coca de aguacate, anchoas y cebolla tierna al ...</td>\n",
       "      <td>1991</td>\n",
       "      <td>[aceite de oliva virgen, aguacate, anchoas en ...</td>\n",
       "      <td>[agua, juliana, macerar]</td>\n",
       "      <td>10</td>\n",
       "    </tr>\n",
       "    <tr>\n",
       "      <th>68</th>\n",
       "      <td>106</td>\n",
       "      <td>virutas de aguacate con buey de mar</td>\n",
       "      <td>1991</td>\n",
       "      <td>[agua, buey de mar, cebollino fresco, cilantro...</td>\n",
       "      <td>[agua, escaldar, hervir, rellenar, sal]</td>\n",
       "      <td>10</td>\n",
       "    </tr>\n",
       "    <tr>\n",
       "      <th>79</th>\n",
       "      <td>107</td>\n",
       "      <td>sardinitas al azafrán con coliflor y cebolla t...</td>\n",
       "      <td>1991</td>\n",
       "      <td>[aceite de oliva, agua, azafrán, cebolla tiern...</td>\n",
       "      <td>[agua, macerar, rodajas, sal]</td>\n",
       "      <td>10</td>\n",
       "    </tr>\n",
       "    <tr>\n",
       "      <th>90</th>\n",
       "      <td>108</td>\n",
       "      <td>carpaccio de cebolla tierna con ensalada de se...</td>\n",
       "      <td>1991</td>\n",
       "      <td>[aceite de girasol, aceite de oliva, agua, api...</td>\n",
       "      <td>[agua, bastones, cocido, confitar, freír, herv...</td>\n",
       "      <td>10</td>\n",
       "    </tr>\n",
       "    <tr>\n",
       "      <th>101</th>\n",
       "      <td>109</td>\n",
       "      <td>salpicón de sesos de cordero y langostinos con...</td>\n",
       "      <td>1991</td>\n",
       "      <td>[aceite de oliva, agua, ajo, apio, cebolla, ch...</td>\n",
       "      <td>[agua, cocido, confitar, escaldar, gratinar, h...</td>\n",
       "      <td>10</td>\n",
       "    </tr>\n",
       "    <tr>\n",
       "      <th>112</th>\n",
       "      <td>11</td>\n",
       "      <td>suquet de dorada</td>\n",
       "      <td>1987</td>\n",
       "      <td>[aceite de oliva, agua de mar, ajo, alioli, ca...</td>\n",
       "      <td>[agua, brunoise, dorar, hervir, puré, rehogar,...</td>\n",
       "      <td>10</td>\n",
       "    </tr>\n",
       "    <tr>\n",
       "      <th>113</th>\n",
       "      <td>110</td>\n",
       "      <td>empedrat de bacalao y bogavante</td>\n",
       "      <td>1991</td>\n",
       "      <td>[aceite de oliva virgen, bacalao, bacalao desa...</td>\n",
       "      <td>[agua, bastones, hervir, macerar, rodajas, sal]</td>\n",
       "      <td>10</td>\n",
       "    </tr>\n",
       "    <tr>\n",
       "      <th>124</th>\n",
       "      <td>111</td>\n",
       "      <td>calamar relleno de espárragos verdes, setas y ...</td>\n",
       "      <td>1991</td>\n",
       "      <td>[aceite de girasol, aceite de oliva, ajo, cala...</td>\n",
       "      <td>[agua, bastones, confitar, escaldar, hervir, m...</td>\n",
       "      <td>10</td>\n",
       "    </tr>\n",
       "    <tr>\n",
       "      <th>135</th>\n",
       "      <td>112</td>\n",
       "      <td>ensalada de remolacha cruda y cocida con caviar</td>\n",
       "      <td>1991</td>\n",
       "      <td>[aceite de oliva, agua, azúcar, caviar osietra...</td>\n",
       "      <td>[bastones, brunoise, hervir]</td>\n",
       "      <td>10</td>\n",
       "    </tr>\n",
       "    <tr>\n",
       "      <th>146</th>\n",
       "      <td>113</td>\n",
       "      <td>terrina de almendra tierna y trufa negra con b...</td>\n",
       "      <td>1991</td>\n",
       "      <td>[aceite, aceite de oliva, agua, agua de mar, a...</td>\n",
       "      <td>[agua, confitar, ensaladas, escaldar, hervir, ...</td>\n",
       "      <td>10</td>\n",
       "    </tr>\n",
       "    <tr>\n",
       "      <th>157</th>\n",
       "      <td>114</td>\n",
       "      <td>marinada de vieiras y foie-gras de pato</td>\n",
       "      <td>1991</td>\n",
       "      <td>[aceite, aceite de girasol, aceite de oliva, a...</td>\n",
       "      <td>[agua, bastones, brunoise, confitar, macerar, ...</td>\n",
       "      <td>10</td>\n",
       "    </tr>\n",
       "    <tr>\n",
       "      <th>168</th>\n",
       "      <td>115</td>\n",
       "      <td>ostras en dos servicios: frías con terrina de ...</td>\n",
       "      <td>1991</td>\n",
       "      <td>[aceite, aceite de girasol, agua, agua de mar,...</td>\n",
       "      <td>[agua, bastones, confitar, conservar, escaldar...</td>\n",
       "      <td>10</td>\n",
       "    </tr>\n",
       "    <tr>\n",
       "      <th>179</th>\n",
       "      <td>116</td>\n",
       "      <td>ostras en dos servicios: calientes con chalota...</td>\n",
       "      <td>1991</td>\n",
       "      <td>[aceite de oliva, agua de ostras, apio, ceboll...</td>\n",
       "      <td>[agua, conservar, hervir, marcar, reducir, reh...</td>\n",
       "      <td>10</td>\n",
       "    </tr>\n",
       "    <tr>\n",
       "      <th>190</th>\n",
       "      <td>117</td>\n",
       "      <td>xató con cañaíllas</td>\n",
       "      <td>1991</td>\n",
       "      <td>[aceite de girasol, aceite de oliva, ajo, alca...</td>\n",
       "      <td>[agua, escaldar, gajos, hervir, horno, puré, s...</td>\n",
       "      <td>10</td>\n",
       "    </tr>\n",
       "    <tr>\n",
       "      <th>201</th>\n",
       "      <td>118</td>\n",
       "      <td>ensalada de bogavante y sesos de cordero con n...</td>\n",
       "      <td>1991</td>\n",
       "      <td>[aceite de bogavante, aceite de girasol, aceit...</td>\n",
       "      <td>[agua, cocido, confitar, escaldar, hervir, jul...</td>\n",
       "      <td>10</td>\n",
       "    </tr>\n",
       "    <tr>\n",
       "      <th>212</th>\n",
       "      <td>119</td>\n",
       "      <td>ensalada catalana</td>\n",
       "      <td>1991</td>\n",
       "      <td>[aceite de girasol, aceite de oliva, ajo, alca...</td>\n",
       "      <td>[agua, bastones, brunoise, cocido, confitar, e...</td>\n",
       "      <td>10</td>\n",
       "    </tr>\n",
       "    <tr>\n",
       "      <th>223</th>\n",
       "      <td>12</td>\n",
       "      <td>pequeñas escórporas a la mantequilla de romesco</td>\n",
       "      <td>1987</td>\n",
       "      <td>[aceite de oliva, agua de mar, ajo, almendras,...</td>\n",
       "      <td>[agua, emulsionar, horno, juliana, puré, sal, ...</td>\n",
       "      <td>10</td>\n",
       "    </tr>\n",
       "    <tr>\n",
       "      <th>224</th>\n",
       "      <td>120</td>\n",
       "      <td>pizza con cigalas, espárragos verdes y trufa n...</td>\n",
       "      <td>1991</td>\n",
       "      <td>[aceite de girasol, aceite de oliva, cigala, e...</td>\n",
       "      <td>[agua, al dente, fermentar, hervir, horno, rod...</td>\n",
       "      <td>10</td>\n",
       "    </tr>\n",
       "    <tr>\n",
       "      <th>235</th>\n",
       "      <td>121</td>\n",
       "      <td>puerros con cigalas y chantilly de sus huevas</td>\n",
       "      <td>1991</td>\n",
       "      <td>[aceite de oliva, agua, avellanas tostadas, ce...</td>\n",
       "      <td>[agua, confitar, sal, sartén]</td>\n",
       "      <td>10</td>\n",
       "    </tr>\n",
       "    <tr>\n",
       "      <th>241</th>\n",
       "      <td>122</td>\n",
       "      <td>chaud-froid de mollejas de ternera con cigalitas</td>\n",
       "      <td>1991</td>\n",
       "      <td>[aceite de girasol, aceite de oliva, aceite de...</td>\n",
       "      <td>[agua, confitar, jugo, juliana, macerar, rehog...</td>\n",
       "      <td>10</td>\n",
       "    </tr>\n",
       "    <tr>\n",
       "      <th>242</th>\n",
       "      <td>123</td>\n",
       "      <td>ensalada de pasta, sepietas y habitas a la vin...</td>\n",
       "      <td>1991</td>\n",
       "      <td>[aceite de albahaca, aceite de girasol, aceite...</td>\n",
       "      <td>[agua, al dente, escaldar, estofado, hervir, s...</td>\n",
       "      <td>10</td>\n",
       "    </tr>\n",
       "    <tr>\n",
       "      <th>243</th>\n",
       "      <td>124</td>\n",
       "      <td>ensalada de rapets al ajillo de cigalas</td>\n",
       "      <td>1991</td>\n",
       "      <td>[aceite de oliva, ajo, cebollino, cigala, cola...</td>\n",
       "      <td>[agua, dorar, horno, sartén]</td>\n",
       "      <td>10</td>\n",
       "    </tr>\n",
       "    <tr>\n",
       "      <th>244</th>\n",
       "      <td>125</td>\n",
       "      <td>sot-l’y-laisse con alcachofas asadas y bogavante</td>\n",
       "      <td>1991</td>\n",
       "      <td>[aceite de oliva, ajo, alcachofas, almendras, ...</td>\n",
       "      <td>[agua, escaldar, hervir, horno, puré, rellenar...</td>\n",
       "      <td>10</td>\n",
       "    </tr>\n",
       "    <tr>\n",
       "      <th>...</th>\n",
       "      <td>...</td>\n",
       "      <td>...</td>\n",
       "      <td>...</td>\n",
       "      <td>...</td>\n",
       "      <td>...</td>\n",
       "      <td>...</td>\n",
       "    </tr>\n",
       "    <tr>\n",
       "      <th>904</th>\n",
       "      <td>72</td>\n",
       "      <td>pressé de col, foie-gras de pato y trufa negra</td>\n",
       "      <td>1990</td>\n",
       "      <td>[cebollino fresco, foie-gras, foie-gras de pat...</td>\n",
       "      <td>[confitar, escaldar, horno, jugo, secar]</td>\n",
       "      <td>10</td>\n",
       "    </tr>\n",
       "    <tr>\n",
       "      <th>915</th>\n",
       "      <td>73</td>\n",
       "      <td>terrina gelée de buey de mar con sesos de cord...</td>\n",
       "      <td>1990</td>\n",
       "      <td>[aceite, aceite de girasol, agua, almendras ti...</td>\n",
       "      <td>[agua, cocción, cocido, confitar, hervir, horn...</td>\n",
       "      <td>10</td>\n",
       "    </tr>\n",
       "    <tr>\n",
       "      <th>926</th>\n",
       "      <td>74</td>\n",
       "      <td>milhojas de cabeza de ternera y bogavante</td>\n",
       "      <td>1990</td>\n",
       "      <td>[aceite de confitar los rebozuelos, aceite de ...</td>\n",
       "      <td>[agua, al dente, confitar, escaldar, hervir, m...</td>\n",
       "      <td>10</td>\n",
       "    </tr>\n",
       "    <tr>\n",
       "      <th>937</th>\n",
       "      <td>75</td>\n",
       "      <td>bonito con escalivada y romesco</td>\n",
       "      <td>1990</td>\n",
       "      <td>[aceite de girasol, aceite de oliva, agua, ajo...</td>\n",
       "      <td>[agua, escaldar, horno, puré, sal, sartén]</td>\n",
       "      <td>10</td>\n",
       "    </tr>\n",
       "    <tr>\n",
       "      <th>948</th>\n",
       "      <td>76</td>\n",
       "      <td>vichyssoise de mejillones de roca</td>\n",
       "      <td>1990</td>\n",
       "      <td>[aceite de oliva, agua de mejillón, hinojo fre...</td>\n",
       "      <td>[agua, cocción, confitar, hervir, rodajas, sal...</td>\n",
       "      <td>10</td>\n",
       "    </tr>\n",
       "    <tr>\n",
       "      <th>959</th>\n",
       "      <td>77</td>\n",
       "      <td>chipirones rellenos de espárragos verdes y set...</td>\n",
       "      <td>1990</td>\n",
       "      <td>[aceite de girasol, aceite de oliva, aceite de...</td>\n",
       "      <td>[agua, cocción, confitar, escaldar, estofado, ...</td>\n",
       "      <td>10</td>\n",
       "    </tr>\n",
       "    <tr>\n",
       "      <th>970</th>\n",
       "      <td>78</td>\n",
       "      <td>virutas de foie-gras de pato con judías verdes...</td>\n",
       "      <td>1990</td>\n",
       "      <td>[aceite de oliva, almendras tiernas, foie-gras...</td>\n",
       "      <td>[agua, conservar, hervir, jugo, sal]</td>\n",
       "      <td>10</td>\n",
       "    </tr>\n",
       "    <tr>\n",
       "      <th>981</th>\n",
       "      <td>79</td>\n",
       "      <td>salsifís con caracolines</td>\n",
       "      <td>1990</td>\n",
       "      <td>[aceite de oliva, cebollino fresco, harina de ...</td>\n",
       "      <td>[agua, cocido, freír, hervir, presionando, pur...</td>\n",
       "      <td>10</td>\n",
       "    </tr>\n",
       "    <tr>\n",
       "      <th>992</th>\n",
       "      <td>8</td>\n",
       "      <td>nido de judías verdes con pinzas de bogavante ...</td>\n",
       "      <td>1987</td>\n",
       "      <td>[aceite de oliva, avellanas, bogavante, ceboll...</td>\n",
       "      <td>[agua, ensaladas, hervir, juliana, rellenar, s...</td>\n",
       "      <td>10</td>\n",
       "    </tr>\n",
       "    <tr>\n",
       "      <th>993</th>\n",
       "      <td>80</td>\n",
       "      <td>parrillada de verduras con trufa negra y jamón</td>\n",
       "      <td>1990</td>\n",
       "      <td>[aceite de oliva, ajo, ajos tiernos, alcachofa...</td>\n",
       "      <td>[agua, escaldar, hervir, horno, jugo, puré, ro...</td>\n",
       "      <td>10</td>\n",
       "    </tr>\n",
       "    <tr>\n",
       "      <th>1004</th>\n",
       "      <td>81</td>\n",
       "      <td>cigalas con fideuá y sepia</td>\n",
       "      <td>1990</td>\n",
       "      <td>[aceite de girasol, aceite de oliva, ajo, alio...</td>\n",
       "      <td>[agua, cazuela, cocido, dorar, marcar, rehogar...</td>\n",
       "      <td>10</td>\n",
       "    </tr>\n",
       "    <tr>\n",
       "      <th>1015</th>\n",
       "      <td>82</td>\n",
       "      <td>carrilleras y lenguas de cordero confitadas co...</td>\n",
       "      <td>1990</td>\n",
       "      <td>[aceite de girasol, aceite de oliva, agua, ajo...</td>\n",
       "      <td>[agua, cocción, confitar, dorar, escaldar, her...</td>\n",
       "      <td>10</td>\n",
       "    </tr>\n",
       "    <tr>\n",
       "      <th>1026</th>\n",
       "      <td>83</td>\n",
       "      <td>santiaguiños con col, garbanzos y patatas</td>\n",
       "      <td>1990</td>\n",
       "      <td>[aceite de oliva, aceite de santiaguiños, agua...</td>\n",
       "      <td>[a fuego lento, agua, confitar, escaldar, herv...</td>\n",
       "      <td>10</td>\n",
       "    </tr>\n",
       "    <tr>\n",
       "      <th>1037</th>\n",
       "      <td>84</td>\n",
       "      <td>minuta de bacalao con mollejas de ternera, gam...</td>\n",
       "      <td>1990</td>\n",
       "      <td>[aceite de oliva, bacalao, cebollino fresco, f...</td>\n",
       "      <td>[agua, escaldar, hervir, sal, sartén]</td>\n",
       "      <td>10</td>\n",
       "    </tr>\n",
       "    <tr>\n",
       "      <th>1048</th>\n",
       "      <td>85</td>\n",
       "      <td>pajel con cebolla tierna y anchoas</td>\n",
       "      <td>1990</td>\n",
       "      <td>[aceite de girasol, aceite de hierbas frescas,...</td>\n",
       "      <td>[puré, sal, sartén]</td>\n",
       "      <td>10</td>\n",
       "    </tr>\n",
       "    <tr>\n",
       "      <th>1059</th>\n",
       "      <td>86</td>\n",
       "      <td>pallardina de atún al mojo cilantro</td>\n",
       "      <td>1990</td>\n",
       "      <td>[aceite de oliva, aceite de oliva virgen, ajo,...</td>\n",
       "      <td>[agua, cazuela, hervir, puré, rehogar, rodajas...</td>\n",
       "      <td>10</td>\n",
       "    </tr>\n",
       "    <tr>\n",
       "      <th>1070</th>\n",
       "      <td>87</td>\n",
       "      <td>lubina con espárragos verdes, patatas y chalot...</td>\n",
       "      <td>1990</td>\n",
       "      <td>[aceite de oliva, chalotas, espárragos verdes,...</td>\n",
       "      <td>[agua, cocido, dorar, escaldar, glaseado, marc...</td>\n",
       "      <td>10</td>\n",
       "    </tr>\n",
       "    <tr>\n",
       "      <th>1081</th>\n",
       "      <td>88</td>\n",
       "      <td>pequeñas pelayas a la meunière de avellanas</td>\n",
       "      <td>1990</td>\n",
       "      <td>[aceite de avellana, aceite de oliva, avellana...</td>\n",
       "      <td>[agua, juliana, meunière, sal, sartén, vaciar]</td>\n",
       "      <td>10</td>\n",
       "    </tr>\n",
       "    <tr>\n",
       "      <th>1092</th>\n",
       "      <td>89</td>\n",
       "      <td>oreja de cerdo con terrina de patata y gambitas</td>\n",
       "      <td>1990</td>\n",
       "      <td>[aceite de oliva, agua, azúcar, blanqueta de t...</td>\n",
       "      <td>[agua, cocción, confitar, dorar, empanar, herv...</td>\n",
       "      <td>10</td>\n",
       "    </tr>\n",
       "    <tr>\n",
       "      <th>1103</th>\n",
       "      <td>9</td>\n",
       "      <td>canapé de patata, salmonete y puré de trufa de...</td>\n",
       "      <td>1987</td>\n",
       "      <td>[aceite de oliva, nata líquida, patatas, perif...</td>\n",
       "      <td>[agua, escaldar, hervir, marcar, puré, sal, sa...</td>\n",
       "      <td>10</td>\n",
       "    </tr>\n",
       "    <tr>\n",
       "      <th>1104</th>\n",
       "      <td>90</td>\n",
       "      <td>alitas de pollo con langosta</td>\n",
       "      <td>1990</td>\n",
       "      <td>[aceite de oliva, agua, alitas de pollo, cebol...</td>\n",
       "      <td>[a fuego lento, agua, caramelizar, dorar, esca...</td>\n",
       "      <td>10</td>\n",
       "    </tr>\n",
       "    <tr>\n",
       "      <th>1115</th>\n",
       "      <td>91</td>\n",
       "      <td>pichón con cebolla tierna rellena</td>\n",
       "      <td>1990</td>\n",
       "      <td>[aceite de oliva, agua, ajo, azúcar, blanqueta...</td>\n",
       "      <td>[a fuego lento, agua, brunoise, cocción, cocid...</td>\n",
       "      <td>10</td>\n",
       "    </tr>\n",
       "    <tr>\n",
       "      <th>1126</th>\n",
       "      <td>92</td>\n",
       "      <td>mollejas de ternera con calamares</td>\n",
       "      <td>1990</td>\n",
       "      <td>[aceite de oliva, agua, alubias, azúcar, blanq...</td>\n",
       "      <td>[agua, cocción, dorar, hervir, horno, juliana,...</td>\n",
       "      <td>10</td>\n",
       "    </tr>\n",
       "    <tr>\n",
       "      <th>1137</th>\n",
       "      <td>93</td>\n",
       "      <td>tarta de piña al cilantro</td>\n",
       "      <td>1990</td>\n",
       "      <td>[azúcar, azúcar lustre, cilantro en grano, cil...</td>\n",
       "      <td>[agua, baño maría, gratinar]</td>\n",
       "      <td>10</td>\n",
       "    </tr>\n",
       "    <tr>\n",
       "      <th>1148</th>\n",
       "      <td>94</td>\n",
       "      <td>tejas de cacao y sorbete de cacao al pipermint</td>\n",
       "      <td>1990</td>\n",
       "      <td>[agua, azúcar, cacao, cacao en polvo, chocolat...</td>\n",
       "      <td>[agua, hervir]</td>\n",
       "      <td>10</td>\n",
       "    </tr>\n",
       "    <tr>\n",
       "      <th>1159</th>\n",
       "      <td>95</td>\n",
       "      <td>gratén de peras con sorbete de peras</td>\n",
       "      <td>1990</td>\n",
       "      <td>[agua, azúcar, azúcar lustre, crema pastelera,...</td>\n",
       "      <td>[a fuego lento, agua, baño maría, cocción, gra...</td>\n",
       "      <td>10</td>\n",
       "    </tr>\n",
       "    <tr>\n",
       "      <th>1170</th>\n",
       "      <td>96</td>\n",
       "      <td>buñuelos de plátano con sorbete de mojito</td>\n",
       "      <td>1990</td>\n",
       "      <td>[aceite de oliva, agua, azúcar, azúcar moreno,...</td>\n",
       "      <td>[agua, caramelizar, dorar, escaldar, freír, ma...</td>\n",
       "      <td>10</td>\n",
       "    </tr>\n",
       "    <tr>\n",
       "      <th>1181</th>\n",
       "      <td>97</td>\n",
       "      <td>pressé de albaricoque con parfait glacé de mie...</td>\n",
       "      <td>1990</td>\n",
       "      <td>[agua, albaricoques, albaricoques en almíbar, ...</td>\n",
       "      <td>[a fuego lento, agua, cocción, cocido, presion...</td>\n",
       "      <td>10</td>\n",
       "    </tr>\n",
       "    <tr>\n",
       "      <th>1192</th>\n",
       "      <td>98</td>\n",
       "      <td>parfait glacé de piña y kirsch con chocolate n...</td>\n",
       "      <td>1990</td>\n",
       "      <td>[agua, azúcar, chocolate, cobertura, dados de ...</td>\n",
       "      <td>[agua, puré]</td>\n",
       "      <td>10</td>\n",
       "    </tr>\n",
       "    <tr>\n",
       "      <th>1203</th>\n",
       "      <td>99</td>\n",
       "      <td>sneckens</td>\n",
       "      <td>1990</td>\n",
       "      <td>[agua, azúcar, brioche, harina, huevos enteros...</td>\n",
       "      <td>[agua, fermentar, rodajas]</td>\n",
       "      <td>10</td>\n",
       "    </tr>\n",
       "  </tbody>\n",
       "</table>\n",
       "<p>454 rows × 6 columns</p>\n",
       "</div>"
      ],
      "text/plain": [
       "      _id                                              title  year  \\\n",
       "0       1               terrina de melón con gelée de oporto  1987   \n",
       "1      10                                   salmonetes Gaudí  1987   \n",
       "2     100                                            oursins  1990   \n",
       "13    101                                          diamantes  1990   \n",
       "24    102  coca de berenjena escalivada, bacon y costilli...  1991   \n",
       "35    103  crudités de alcachofas y parmesano con costill...  1991   \n",
       "46    104  mató con amapola, tomate, anchoas y aceite de ...  1991   \n",
       "57    105  coca de aguacate, anchoas y cebolla tierna al ...  1991   \n",
       "68    106                virutas de aguacate con buey de mar  1991   \n",
       "79    107  sardinitas al azafrán con coliflor y cebolla t...  1991   \n",
       "90    108  carpaccio de cebolla tierna con ensalada de se...  1991   \n",
       "101   109  salpicón de sesos de cordero y langostinos con...  1991   \n",
       "112    11                                   suquet de dorada  1987   \n",
       "113   110                    empedrat de bacalao y bogavante  1991   \n",
       "124   111  calamar relleno de espárragos verdes, setas y ...  1991   \n",
       "135   112    ensalada de remolacha cruda y cocida con caviar  1991   \n",
       "146   113  terrina de almendra tierna y trufa negra con b...  1991   \n",
       "157   114            marinada de vieiras y foie-gras de pato  1991   \n",
       "168   115  ostras en dos servicios: frías con terrina de ...  1991   \n",
       "179   116  ostras en dos servicios: calientes con chalota...  1991   \n",
       "190   117                                 xató con cañaíllas  1991   \n",
       "201   118  ensalada de bogavante y sesos de cordero con n...  1991   \n",
       "212   119                                  ensalada catalana  1991   \n",
       "223    12    pequeñas escórporas a la mantequilla de romesco  1987   \n",
       "224   120  pizza con cigalas, espárragos verdes y trufa n...  1991   \n",
       "235   121      puerros con cigalas y chantilly de sus huevas  1991   \n",
       "241   122   chaud-froid de mollejas de ternera con cigalitas  1991   \n",
       "242   123  ensalada de pasta, sepietas y habitas a la vin...  1991   \n",
       "243   124            ensalada de rapets al ajillo de cigalas  1991   \n",
       "244   125   sot-l’y-laisse con alcachofas asadas y bogavante  1991   \n",
       "...   ...                                                ...   ...   \n",
       "904    72     pressé de col, foie-gras de pato y trufa negra  1990   \n",
       "915    73  terrina gelée de buey de mar con sesos de cord...  1990   \n",
       "926    74          milhojas de cabeza de ternera y bogavante  1990   \n",
       "937    75                    bonito con escalivada y romesco  1990   \n",
       "948    76                  vichyssoise de mejillones de roca  1990   \n",
       "959    77  chipirones rellenos de espárragos verdes y set...  1990   \n",
       "970    78  virutas de foie-gras de pato con judías verdes...  1990   \n",
       "981    79                           salsifís con caracolines  1990   \n",
       "992     8  nido de judías verdes con pinzas de bogavante ...  1987   \n",
       "993    80     parrillada de verduras con trufa negra y jamón  1990   \n",
       "1004   81                         cigalas con fideuá y sepia  1990   \n",
       "1015   82  carrilleras y lenguas de cordero confitadas co...  1990   \n",
       "1026   83          santiaguiños con col, garbanzos y patatas  1990   \n",
       "1037   84  minuta de bacalao con mollejas de ternera, gam...  1990   \n",
       "1048   85                 pajel con cebolla tierna y anchoas  1990   \n",
       "1059   86                pallardina de atún al mojo cilantro  1990   \n",
       "1070   87  lubina con espárragos verdes, patatas y chalot...  1990   \n",
       "1081   88        pequeñas pelayas a la meunière de avellanas  1990   \n",
       "1092   89    oreja de cerdo con terrina de patata y gambitas  1990   \n",
       "1103    9  canapé de patata, salmonete y puré de trufa de...  1987   \n",
       "1104   90                       alitas de pollo con langosta  1990   \n",
       "1115   91                  pichón con cebolla tierna rellena  1990   \n",
       "1126   92                  mollejas de ternera con calamares  1990   \n",
       "1137   93                          tarta de piña al cilantro  1990   \n",
       "1148   94     tejas de cacao y sorbete de cacao al pipermint  1990   \n",
       "1159   95               gratén de peras con sorbete de peras  1990   \n",
       "1170   96          buñuelos de plátano con sorbete de mojito  1990   \n",
       "1181   97  pressé de albaricoque con parfait glacé de mie...  1990   \n",
       "1192   98  parfait glacé de piña y kirsch con chocolate n...  1990   \n",
       "1203   99                                           sneckens  1990   \n",
       "\n",
       "                                            ingredients  \\\n",
       "0     [aceite de oliva, agua, gelatina de oporto, ho...   \n",
       "1     [aceite de oliva, anchoa en aceite, calabacín,...   \n",
       "2     [avellanas tostadas, azúcar, cacao en polvo, c...   \n",
       "13    [azúcar, azúcar lustre, harina de trigo, huevo...   \n",
       "24    [aceite de oliva, aceite de oliva virgen, baco...   \n",
       "35    [aceite de oliva, ajo, alcachofas, almendras, ...   \n",
       "46    [aceite de girasol, aceite de oliva, albahaca ...   \n",
       "57    [aceite de oliva virgen, aguacate, anchoas en ...   \n",
       "68    [agua, buey de mar, cebollino fresco, cilantro...   \n",
       "79    [aceite de oliva, agua, azafrán, cebolla tiern...   \n",
       "90    [aceite de girasol, aceite de oliva, agua, api...   \n",
       "101   [aceite de oliva, agua, ajo, apio, cebolla, ch...   \n",
       "112   [aceite de oliva, agua de mar, ajo, alioli, ca...   \n",
       "113   [aceite de oliva virgen, bacalao, bacalao desa...   \n",
       "124   [aceite de girasol, aceite de oliva, ajo, cala...   \n",
       "135   [aceite de oliva, agua, azúcar, caviar osietra...   \n",
       "146   [aceite, aceite de oliva, agua, agua de mar, a...   \n",
       "157   [aceite, aceite de girasol, aceite de oliva, a...   \n",
       "168   [aceite, aceite de girasol, agua, agua de mar,...   \n",
       "179   [aceite de oliva, agua de ostras, apio, ceboll...   \n",
       "190   [aceite de girasol, aceite de oliva, ajo, alca...   \n",
       "201   [aceite de bogavante, aceite de girasol, aceit...   \n",
       "212   [aceite de girasol, aceite de oliva, ajo, alca...   \n",
       "223   [aceite de oliva, agua de mar, ajo, almendras,...   \n",
       "224   [aceite de girasol, aceite de oliva, cigala, e...   \n",
       "235   [aceite de oliva, agua, avellanas tostadas, ce...   \n",
       "241   [aceite de girasol, aceite de oliva, aceite de...   \n",
       "242   [aceite de albahaca, aceite de girasol, aceite...   \n",
       "243   [aceite de oliva, ajo, cebollino, cigala, cola...   \n",
       "244   [aceite de oliva, ajo, alcachofas, almendras, ...   \n",
       "...                                                 ...   \n",
       "904   [cebollino fresco, foie-gras, foie-gras de pat...   \n",
       "915   [aceite, aceite de girasol, agua, almendras ti...   \n",
       "926   [aceite de confitar los rebozuelos, aceite de ...   \n",
       "937   [aceite de girasol, aceite de oliva, agua, ajo...   \n",
       "948   [aceite de oliva, agua de mejillón, hinojo fre...   \n",
       "959   [aceite de girasol, aceite de oliva, aceite de...   \n",
       "970   [aceite de oliva, almendras tiernas, foie-gras...   \n",
       "981   [aceite de oliva, cebollino fresco, harina de ...   \n",
       "992   [aceite de oliva, avellanas, bogavante, ceboll...   \n",
       "993   [aceite de oliva, ajo, ajos tiernos, alcachofa...   \n",
       "1004  [aceite de girasol, aceite de oliva, ajo, alio...   \n",
       "1015  [aceite de girasol, aceite de oliva, agua, ajo...   \n",
       "1026  [aceite de oliva, aceite de santiaguiños, agua...   \n",
       "1037  [aceite de oliva, bacalao, cebollino fresco, f...   \n",
       "1048  [aceite de girasol, aceite de hierbas frescas,...   \n",
       "1059  [aceite de oliva, aceite de oliva virgen, ajo,...   \n",
       "1070  [aceite de oliva, chalotas, espárragos verdes,...   \n",
       "1081  [aceite de avellana, aceite de oliva, avellana...   \n",
       "1092  [aceite de oliva, agua, azúcar, blanqueta de t...   \n",
       "1103  [aceite de oliva, nata líquida, patatas, perif...   \n",
       "1104  [aceite de oliva, agua, alitas de pollo, cebol...   \n",
       "1115  [aceite de oliva, agua, ajo, azúcar, blanqueta...   \n",
       "1126  [aceite de oliva, agua, alubias, azúcar, blanq...   \n",
       "1137  [azúcar, azúcar lustre, cilantro en grano, cil...   \n",
       "1148  [agua, azúcar, cacao, cacao en polvo, chocolat...   \n",
       "1159  [agua, azúcar, azúcar lustre, crema pastelera,...   \n",
       "1170  [aceite de oliva, agua, azúcar, azúcar moreno,...   \n",
       "1181  [agua, albaricoques, albaricoques en almíbar, ...   \n",
       "1192  [agua, azúcar, chocolate, cobertura, dados de ...   \n",
       "1203  [agua, azúcar, brioche, harina, huevos enteros...   \n",
       "\n",
       "                                             techniques  creativity  \n",
       "0                                                [agua]          10  \n",
       "1     [agua, brunoise, cocción, hervir, horno, marca...          10  \n",
       "2                                        [horno, secar]          10  \n",
       "13                                            [rodajas]          10  \n",
       "24                         [horno, marcar, sal, sartén]          10  \n",
       "35    [agua, cocción, horno, marinar, sal, sartén, t...          10  \n",
       "46    [agua, confitar, empanar, hervir, macerar, rod...          10  \n",
       "57                             [agua, juliana, macerar]          10  \n",
       "68              [agua, escaldar, hervir, rellenar, sal]          10  \n",
       "79                        [agua, macerar, rodajas, sal]          10  \n",
       "90    [agua, bastones, cocido, confitar, freír, herv...          10  \n",
       "101   [agua, cocido, confitar, escaldar, gratinar, h...          10  \n",
       "112   [agua, brunoise, dorar, hervir, puré, rehogar,...          10  \n",
       "113     [agua, bastones, hervir, macerar, rodajas, sal]          10  \n",
       "124   [agua, bastones, confitar, escaldar, hervir, m...          10  \n",
       "135                        [bastones, brunoise, hervir]          10  \n",
       "146   [agua, confitar, ensaladas, escaldar, hervir, ...          10  \n",
       "157   [agua, bastones, brunoise, confitar, macerar, ...          10  \n",
       "168   [agua, bastones, confitar, conservar, escaldar...          10  \n",
       "179   [agua, conservar, hervir, marcar, reducir, reh...          10  \n",
       "190   [agua, escaldar, gajos, hervir, horno, puré, s...          10  \n",
       "201   [agua, cocido, confitar, escaldar, hervir, jul...          10  \n",
       "212   [agua, bastones, brunoise, cocido, confitar, e...          10  \n",
       "223   [agua, emulsionar, horno, juliana, puré, sal, ...          10  \n",
       "224   [agua, al dente, fermentar, hervir, horno, rod...          10  \n",
       "235                       [agua, confitar, sal, sartén]          10  \n",
       "241   [agua, confitar, jugo, juliana, macerar, rehog...          10  \n",
       "242   [agua, al dente, escaldar, estofado, hervir, s...          10  \n",
       "243                        [agua, dorar, horno, sartén]          10  \n",
       "244   [agua, escaldar, hervir, horno, puré, rellenar...          10  \n",
       "...                                                 ...         ...  \n",
       "904            [confitar, escaldar, horno, jugo, secar]          10  \n",
       "915   [agua, cocción, cocido, confitar, hervir, horn...          10  \n",
       "926   [agua, al dente, confitar, escaldar, hervir, m...          10  \n",
       "937          [agua, escaldar, horno, puré, sal, sartén]          10  \n",
       "948   [agua, cocción, confitar, hervir, rodajas, sal...          10  \n",
       "959   [agua, cocción, confitar, escaldar, estofado, ...          10  \n",
       "970                [agua, conservar, hervir, jugo, sal]          10  \n",
       "981   [agua, cocido, freír, hervir, presionando, pur...          10  \n",
       "992   [agua, ensaladas, hervir, juliana, rellenar, s...          10  \n",
       "993   [agua, escaldar, hervir, horno, jugo, puré, ro...          10  \n",
       "1004  [agua, cazuela, cocido, dorar, marcar, rehogar...          10  \n",
       "1015  [agua, cocción, confitar, dorar, escaldar, her...          10  \n",
       "1026  [a fuego lento, agua, confitar, escaldar, herv...          10  \n",
       "1037              [agua, escaldar, hervir, sal, sartén]          10  \n",
       "1048                                [puré, sal, sartén]          10  \n",
       "1059  [agua, cazuela, hervir, puré, rehogar, rodajas...          10  \n",
       "1070  [agua, cocido, dorar, escaldar, glaseado, marc...          10  \n",
       "1081     [agua, juliana, meunière, sal, sartén, vaciar]          10  \n",
       "1092  [agua, cocción, confitar, dorar, empanar, herv...          10  \n",
       "1103  [agua, escaldar, hervir, marcar, puré, sal, sa...          10  \n",
       "1104  [a fuego lento, agua, caramelizar, dorar, esca...          10  \n",
       "1115  [a fuego lento, agua, brunoise, cocción, cocid...          10  \n",
       "1126  [agua, cocción, dorar, hervir, horno, juliana,...          10  \n",
       "1137                       [agua, baño maría, gratinar]          10  \n",
       "1148                                     [agua, hervir]          10  \n",
       "1159  [a fuego lento, agua, baño maría, cocción, gra...          10  \n",
       "1170  [agua, caramelizar, dorar, escaldar, freír, ma...          10  \n",
       "1181  [a fuego lento, agua, cocción, cocido, presion...          10  \n",
       "1192                                       [agua, puré]          10  \n",
       "1203                         [agua, fermentar, rodajas]          10  \n",
       "\n",
       "[454 rows x 6 columns]"
      ]
     },
     "execution_count": 105,
     "metadata": {},
     "output_type": "execute_result"
    }
   ],
   "source": [
    "recipes_df[(1987 <= recipes_df['year']) & (recipes_df['year'] <= 1997)]"
   ]
  },
  {
   "cell_type": "code",
   "execution_count": 199,
   "metadata": {
    "collapsed": true
   },
   "outputs": [],
   "source": [
    "ig = nx.read_gexf('data/spanish_ingredients_lexicon_6.gexf')\n",
    "tg = nx.read_gexf('data/spanish_techniques_lexicon_6.gexf')"
   ]
  },
  {
   "cell_type": "code",
   "execution_count": 200,
   "metadata": {
    "collapsed": true
   },
   "outputs": [],
   "source": [
    "ingrs = ig.nodes(data=True)\n",
    "techs = tg.nodes(data=True)"
   ]
  },
  {
   "cell_type": "code",
   "execution_count": 201,
   "metadata": {
    "collapsed": false
   },
   "outputs": [
    {
     "data": {
      "text/plain": [
       "[('jugos de aceitunas verdes',\n",
       "  {'count': 0, 'label': 'jugos de aceitunas verdes'}),\n",
       " ('levaduras saflageres s-23',\n",
       "  {'count': 0, 'label': 'levaduras saflageres s-23'})]"
      ]
     },
     "execution_count": 201,
     "metadata": {},
     "output_type": "execute_result"
    }
   ],
   "source": [
    "ingrs[:2]"
   ]
  },
  {
   "cell_type": "code",
   "execution_count": 202,
   "metadata": {
    "collapsed": false
   },
   "outputs": [],
   "source": [
    "top_ingrs = sorted(ingrs, key=lambda x: x[1]['count'], reverse=True)\n",
    "top_techs = sorted(techs, key=lambda x: x[1]['count'], reverse=True)"
   ]
  },
  {
   "cell_type": "code",
   "execution_count": 203,
   "metadata": {
    "collapsed": false
   },
   "outputs": [
    {
     "data": {
      "text/plain": [
       "[('agua', {'count': 891, 'label': 'agua'}),\n",
       " ('sal', {'count': 624, 'label': 'sal'}),\n",
       " ('azúcar', {'count': 529, 'label': 'azúcar'}),\n",
       " ('aceite de oliva', {'count': 463, 'label': 'aceite de oliva'}),\n",
       " ('glucosa', {'count': 284, 'label': 'glucosa'}),\n",
       " ('aceite de girasol', {'count': 260, 'label': 'aceite de girasol'}),\n",
       " ('hoja de gelatina', {'count': 253, 'label': 'hoja de gelatina'}),\n",
       " ('nata líquida', {'count': 251, 'label': 'nata líquida'}),\n",
       " ('mantequilla', {'count': 226, 'label': 'mantequilla'}),\n",
       " ('pimienta negra', {'count': 168, 'label': 'pimienta negra'}),\n",
       " ('hojas de gelatina', {'count': 164, 'label': 'hojas de gelatina'}),\n",
       " ('sal maldon', {'count': 158, 'label': 'sal maldon'}),\n",
       " ('leche', {'count': 155, 'label': 'leche'}),\n",
       " ('perifollo', {'count': 148, 'label': 'perifollo'}),\n",
       " ('agar-agar en polvo', {'count': 143, 'label': 'agar-agar en polvo'}),\n",
       " ('cebolla', {'count': 135, 'label': 'cebolla'}),\n",
       " ('n|2o', {'count': 130, 'label': 'n|2o'}),\n",
       " ('fondant', {'count': 128, 'label': 'fondant'}),\n",
       " ('zanahoria', {'count': 125, 'label': 'zanahoria'}),\n",
       " ('limón', {'count': 124, 'label': 'limón'})]"
      ]
     },
     "execution_count": 203,
     "metadata": {},
     "output_type": "execute_result"
    }
   ],
   "source": [
    "top_ingrs[:20]"
   ]
  },
  {
   "cell_type": "code",
   "execution_count": 204,
   "metadata": {
    "collapsed": false
   },
   "outputs": [
    {
     "data": {
      "text/plain": [
       "[('agua', {'count': 891, 'label': 'agua'}),\n",
       " ('sal', {'count': 624, 'label': 'sal'}),\n",
       " ('azúcar', {'count': 529, 'label': 'azúcar'}),\n",
       " ('aceite de oliva', {'count': 463, 'label': 'aceite de oliva'}),\n",
       " ('glucosa', {'count': 284, 'label': 'glucosa'}),\n",
       " ('aceite de girasol', {'count': 260, 'label': 'aceite de girasol'}),\n",
       " ('hoja de gelatina', {'count': 253, 'label': 'hoja de gelatina'}),\n",
       " ('nata líquida', {'count': 251, 'label': 'nata líquida'}),\n",
       " ('mantequilla', {'count': 226, 'label': 'mantequilla'}),\n",
       " ('pimienta negra', {'count': 168, 'label': 'pimienta negra'}),\n",
       " ('sal maldon', {'count': 158, 'label': 'sal maldon'}),\n",
       " ('leche', {'count': 155, 'label': 'leche'}),\n",
       " ('perifollo', {'count': 148, 'label': 'perifollo'}),\n",
       " ('agar-agar en polvo', {'count': 143, 'label': 'agar-agar en polvo'}),\n",
       " ('cebolla', {'count': 135, 'label': 'cebolla'}),\n",
       " ('n|2o', {'count': 130, 'label': 'n|2o'}),\n",
       " ('fondant', {'count': 128, 'label': 'fondant'}),\n",
       " ('zanahoria', {'count': 125, 'label': 'zanahoria'}),\n",
       " ('limón', {'count': 124, 'label': 'limón'}),\n",
       " ('harina de trigo', {'count': 121, 'label': 'harina de trigo'})]"
      ]
     },
     "execution_count": 204,
     "metadata": {},
     "output_type": "execute_result"
    }
   ],
   "source": [
    "i_aux = top_ingrs[:21]\n",
    "i_aux.remove(('hojas de gelatina', {'count': 164, 'label': 'hojas de gelatina'}))\n",
    "i_aux"
   ]
  },
  {
   "cell_type": "code",
   "execution_count": 205,
   "metadata": {
    "collapsed": false
   },
   "outputs": [
    {
     "data": {
      "text/plain": [
       "[('agua', {'count': 891, 'label': 'agua'}),\n",
       " ('sal', {'count': 648, 'label': 'sal'}),\n",
       " ('min', {'count': 553, 'label': 'min'}),\n",
       " ('en agua', {'count': 435, 'label': 'en agua'}),\n",
       " ('hervir', {'count': 391, 'label': 'hervir'}),\n",
       " ('horno', {'count': 369, 'label': 'horno'}),\n",
       " ('hirviendo', {'count': 296, 'label': 'hirviendo'}),\n",
       " ('sartén', {'count': 295, 'label': 'sartén'}),\n",
       " ('puré', {'count': 245, 'label': 'puré'}),\n",
       " ('reducir', {'count': 230, 'label': 'reducir'})]"
      ]
     },
     "execution_count": 205,
     "metadata": {},
     "output_type": "execute_result"
    }
   ],
   "source": [
    "top_techs[:10]"
   ]
  },
  {
   "cell_type": "code",
   "execution_count": 206,
   "metadata": {
    "collapsed": false
   },
   "outputs": [
    {
     "data": {
      "text/plain": [
       "[('en agua', {'count': 435, 'label': 'en agua'}),\n",
       " ('hervir', {'count': 391, 'label': 'hervir'}),\n",
       " ('horno', {'count': 369, 'label': 'horno'}),\n",
       " ('sartén', {'count': 295, 'label': 'sartén'}),\n",
       " ('puré', {'count': 245, 'label': 'puré'}),\n",
       " ('reducir', {'count': 230, 'label': 'reducir'}),\n",
       " ('jugo', {'count': 225, 'label': 'jugo'}),\n",
       " ('secar', {'count': 210, 'label': 'secar'}),\n",
       " ('escaldar', {'count': 203, 'label': 'escaldar'}),\n",
       " ('a fuego lento', {'count': 191, 'label': 'a fuego lento'})]"
      ]
     },
     "execution_count": 206,
     "metadata": {},
     "output_type": "execute_result"
    }
   ],
   "source": [
    "t_aux = top_techs[:14]\n",
    "t_aux.remove(('agua', {'count': 891, 'label': 'agua'}))\n",
    "t_aux.remove(('sal', {'count': 648, 'label': 'sal'}))\n",
    "t_aux.remove(('min', {'count': 553, 'label': 'min'}))\n",
    "t_aux.remove(('hirviendo', {'count': 296, 'label': 'hirviendo'}))\n",
    "t_aux"
   ]
  },
  {
   "cell_type": "code",
   "execution_count": 213,
   "metadata": {
    "collapsed": false
   },
   "outputs": [
    {
     "data": {
      "text/plain": [
       "aceite de girasol     260\n",
       "aceite de oliva       463\n",
       "agar-agar en polvo    143\n",
       "agua                  891\n",
       "azúcar                529\n",
       "cebolla               135\n",
       "fondant               128\n",
       "glucosa               284\n",
       "harina de trigo       121\n",
       "hoja de gelatina      253\n",
       "leche                 155\n",
       "limón                 124\n",
       "mantequilla           226\n",
       "nata líquida          251\n",
       "n|2o                  130\n",
       "perifollo             148\n",
       "pimienta negra        168\n",
       "sal                   624\n",
       "sal maldon            158\n",
       "zanahoria             125\n",
       "dtype: int64"
      ]
     },
     "execution_count": 213,
     "metadata": {},
     "output_type": "execute_result"
    }
   ],
   "source": [
    "s1"
   ]
  },
  {
   "cell_type": "code",
   "execution_count": 207,
   "metadata": {
    "collapsed": true
   },
   "outputs": [],
   "source": [
    "i_d = dict((x[0], x[1]['count']) for x in i_aux)\n",
    "t_d = dict((x[0], x[1]['count']) for x in t_aux)"
   ]
  },
  {
   "cell_type": "code",
   "execution_count": 208,
   "metadata": {
    "collapsed": true
   },
   "outputs": [],
   "source": [
    "s1 = pd.Series(i_d)\n",
    "s2 = pd.Series(t_d)"
   ]
  },
  {
   "cell_type": "code",
   "execution_count": 209,
   "metadata": {
    "collapsed": false
   },
   "outputs": [
    {
     "data": {
      "text/plain": [
       "<matplotlib.axes._subplots.AxesSubplot at 0x7f5293b214a8>"
      ]
     },
     "execution_count": 209,
     "metadata": {},
     "output_type": "execute_result"
    },
    {
     "name": "stderr",
     "output_type": "stream",
     "text": [
      "/home/antonio/virtualenvs/elbulli/lib/python3.4/site-packages/matplotlib/figure.py:1744: UserWarning: This figure includes Axes that are not compatible with tight_layout, so its results might be incorrect.\n",
      "  warnings.warn(\"This figure includes Axes that are not \"\n"
     ]
    },
    {
     "data": {
      "image/png": "[encoded data removed]",
      "text/plain": [
       "<matplotlib.figure.Figure at 0x7f5293b1c7b8>"
      ]
     },
     "metadata": {},
     "output_type": "display_data"
    }
   ],
   "source": [
    "matplotlib.rcParams['figure.figsize'] = (8, 5)\n",
    "s1.plot(kind='bar')"
   ]
  },
  {
   "cell_type": "code",
   "execution_count": 214,
   "metadata": {
    "collapsed": false
   },
   "outputs": [
    {
     "name": "stderr",
     "output_type": "stream",
     "text": [
      "/home/antonio/virtualenvs/elbulli/lib/python3.4/site-packages/matplotlib/figure.py:1744: UserWarning: This figure includes Axes that are not compatible with tight_layout, so its results might be incorrect.\n",
      "  warnings.warn(\"This figure includes Axes that are not \"\n"
     ]
    },
    {
     "data": {
      "image/png": "[encoded data removed]",
      "text/plain": [
       "<matplotlib.figure.Figure at 0x7f5293ee4080>"
      ]
     },
     "metadata": {},
     "output_type": "display_data"
    }
   ],
   "source": [
    "s2.plot(kind='bar')\n",
    "matplotlib.rcParams['figure.figsize'] = (12, 7)"
   ]
  },
  {
   "cell_type": "code",
   "execution_count": null,
   "metadata": {
    "collapsed": true
   },
   "outputs": [],
   "source": []
  }
 ],
 "metadata": {
  "kernelspec": {
   "display_name": "Python 3",
   "language": "python",
   "name": "python3"
  },
  "language_info": {
   "codemirror_mode": {
    "name": "ipython",
    "version": 3
   },
   "file_extension": ".py",
   "mimetype": "text/x-python",
   "name": "python",
   "nbconvert_exporter": "python",
   "pygments_lexer": "ipython3",
   "version": "3.4.3"
  }
 },
 "nbformat": 4,
 "nbformat_minor": 0
}
