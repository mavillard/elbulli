{
 "cells": [
  {
   "cell_type": "code",
   "execution_count": 1,
   "metadata": {
    "collapsed": true
   },
   "outputs": [],
   "source": [
    "import shlex\n",
    "\n",
    "import nltk\n",
    "from nltk.corpus import cess_esp\n",
    "from pymongo import MongoClient"
   ]
  },
  {
   "cell_type": "markdown",
   "metadata": {},
   "source": [
    "# Tagger"
   ]
  },
  {
   "cell_type": "code",
   "execution_count": 2,
   "metadata": {
    "collapsed": false
   },
   "outputs": [],
   "source": [
    "tagged_sp_sents = cess_esp.tagged_sents()"
   ]
  },
  {
   "cell_type": "code",
   "execution_count": 3,
   "metadata": {
    "collapsed": true
   },
   "outputs": [],
   "source": [
    "size = int(len(tagged_sp_sents) * 0.1)\n",
    "train_sp_sents = tagged_sp_sents[size:]\n",
    "test_sp_sents = tagged_sp_sents[:size]"
   ]
  },
  {
   "cell_type": "code",
   "execution_count": 4,
   "metadata": {
    "collapsed": false
   },
   "outputs": [
    {
     "data": {
      "text/plain": [
       "True"
      ]
     },
     "execution_count": 4,
     "metadata": {},
     "output_type": "execute_result"
    }
   ],
   "source": [
    "len(tagged_sp_sents) == len(train_sp_sents) + len(test_sp_sents)"
   ]
  },
  {
   "cell_type": "code",
   "execution_count": 5,
   "metadata": {
    "collapsed": true
   },
   "outputs": [],
   "source": [
    "tagged_sp_words = cess_esp.tagged_words()"
   ]
  },
  {
   "cell_type": "code",
   "execution_count": 6,
   "metadata": {
    "collapsed": false
   },
   "outputs": [
    {
     "data": {
      "text/plain": [
       "[('sps00', 25272),\n",
       " ('ncms000', 11428),\n",
       " ('Fc', 11420),\n",
       " ('ncfs000', 11008),\n",
       " ('da0fs0', 6838),\n",
       " ('da0ms0', 6012),\n",
       " ('rg', 5937),\n",
       " ('Fp', 5866),\n",
       " ('cc', 5854),\n",
       " ('ncmp000', 5711)]"
      ]
     },
     "execution_count": 6,
     "metadata": {},
     "output_type": "execute_result"
    }
   ],
   "source": [
    "tags = [tag for (word, tag) in tagged_sp_words]\n",
    "most_freq_tags = nltk.FreqDist(tags)\n",
    "most_freq_tags.most_common()[:10]"
   ]
  },
  {
   "cell_type": "code",
   "execution_count": 7,
   "metadata": {
    "collapsed": false
   },
   "outputs": [],
   "source": [
    "default_tag = 'ncms000'"
   ]
  },
  {
   "cell_type": "code",
   "execution_count": 8,
   "metadata": {
    "collapsed": false
   },
   "outputs": [],
   "source": [
    "t0 = nltk.DefaultTagger(default_tag)\n",
    "t1 = nltk.UnigramTagger(train_sp_sents, backoff=t0)\n",
    "t2 = nltk.BigramTagger(train_sp_sents, backoff=t1)\n",
    "sp_tagger = nltk.TrigramTagger(train_sp_sents, backoff=t2)"
   ]
  },
  {
   "cell_type": "code",
   "execution_count": 9,
   "metadata": {
    "collapsed": false
   },
   "outputs": [
    {
     "data": {
      "text/plain": [
       "0.8842381786339755"
      ]
     },
     "execution_count": 9,
     "metadata": {},
     "output_type": "execute_result"
    }
   ],
   "source": [
    "sp_tagger.evaluate(test_sp_sents)"
   ]
  },
  {
   "cell_type": "markdown",
   "metadata": {},
   "source": [
    "# Lemmatizer"
   ]
  },
  {
   "cell_type": "code",
   "execution_count": 10,
   "metadata": {
    "collapsed": false
   },
   "outputs": [],
   "source": [
    "client = MongoClient()\n",
    "client.drop_database('sp_lexicon')\n",
    "db = client.sp_lexicon"
   ]
  },
  {
   "cell_type": "code",
   "execution_count": 11,
   "metadata": {
    "collapsed": false
   },
   "outputs": [
    {
     "name": "stdout",
     "output_type": "stream",
     "text": [
      "CPU times: user 12.3 s, sys: 60 ms, total: 12.4 s\n",
      "Wall time: 19.2 s\n"
     ]
    }
   ],
   "source": [
    "%%time\n",
    "\n",
    "import csv\n",
    "\n",
    "with open('data/sp_lexicon.csv') as f:\n",
    "    reader = csv.reader(\n",
    "        f,\n",
    "        delimiter=' ',\n",
    "    )\n",
    "    docs = []\n",
    "    count = 0\n",
    "    for row in reader:\n",
    "        for i in range(1, len(row[1:]), 2):\n",
    "            entry = {}\n",
    "            entry['flexion'] = row[0]\n",
    "            entry['lemma'] = row[i]\n",
    "            entry['eagle'] = row[i+1].lower()\n",
    "            docs.append(entry)\n",
    "            count += 1\n",
    "        if count % 1000 == 0:\n",
    "            db.lexicon.insert_many(docs)\n",
    "            docs = []"
   ]
  },
  {
   "cell_type": "code",
   "execution_count": 12,
   "metadata": {
    "collapsed": false
   },
   "outputs": [
    {
     "data": {
      "text/plain": [
       "668000"
      ]
     },
     "execution_count": 12,
     "metadata": {},
     "output_type": "execute_result"
    }
   ],
   "source": [
    "db.lexicon.count()"
   ]
  },
  {
   "cell_type": "markdown",
   "metadata": {},
   "source": [
    "# Parser"
   ]
  },
  {
   "cell_type": "code",
   "execution_count": 13,
   "metadata": {
    "collapsed": true
   },
   "outputs": [],
   "source": [
    "def split_ingredients(ingr_str):\n",
    "    ingr_set = set()\n",
    "    ingr_list_1 = ingr_str.split(', ')\n",
    "    for ingr_1 in ingr_list_1:\n",
    "        ingr_list_2 = ingr_1.split(' / ')\n",
    "        for ingr_2 in ingr_list_2:\n",
    "            ingr_list_3 = ingr_2.split(' y ')\n",
    "            for ingr_3 in ingr_list_3:\n",
    "                ingr_set.add(ingr_3)\n",
    "    return ingr_set\n",
    "\n",
    "def any_noun(ingr):\n",
    "#     result = False\n",
    "#     tokens = nltk.word_tokenize(ingr)\n",
    "#     tags = sp_tagger.tag(tokens)\n",
    "#     if any(map(lambda x: x[1].startswith('n'), tags)):\n",
    "#         result = True\n",
    "#     else:\n",
    "#         for word in tokens:\n",
    "#             rs = db.lexicon.find({'flexion': word})\n",
    "#             if any(map(lambda x: x['eagle'].startswith('n'), rs)):\n",
    "#                 result = True\n",
    "#                 break\n",
    "#     return result\n",
    "    return True"
   ]
  },
  {
   "cell_type": "code",
   "execution_count": 14,
   "metadata": {
    "collapsed": true
   },
   "outputs": [],
   "source": [
    "# states\n",
    "# 'NODETYPES', 'EDGETYPES', 'NODE', 'NODEFIELDS', 'EDGES', 'EDGEFIELDS', 'NOTHING'\n",
    "current_st = 'NOTHING'"
   ]
  },
  {
   "cell_type": "code",
   "execution_count": 15,
   "metadata": {
    "collapsed": true
   },
   "outputs": [],
   "source": [
    "ingredients = set()"
   ]
  },
  {
   "cell_type": "code",
   "execution_count": 16,
   "metadata": {
    "collapsed": false
   },
   "outputs": [],
   "source": [
    "path_db = 'data/BulliCompletoEditado.nlg'\n",
    "with open(path_db) as f:\n",
    "    for line in f:\n",
    "        stripped_line = line.strip()\n",
    "        if stripped_line == '\"<NodesTypes>\"' and current_st == 'NOTHING':\n",
    "            current_st = 'NODETYPES'\n",
    "        elif stripped_line == '\"<EndNodesTypes>\"' and current_st == 'NODETYPES':\n",
    "            current_st = 'NOTHING'\n",
    "        elif stripped_line == '\"<EdgesTypes>\"' and current_st == 'NOTHING':\n",
    "            current_st = 'EDGETYPES'\n",
    "        elif stripped_line == '\"<EndEdgesTypes>\"' and current_st == 'EDGETYPES':\n",
    "            current_st = 'NOTHING'\n",
    "        elif stripped_line == '\"<Nodes>\"' and current_st == 'NOTHING':\n",
    "            current_st = 'NODEFIELDS'\n",
    "        elif stripped_line == '\"<EndNodes>\"' and current_st == 'NODE':\n",
    "            current_st = 'NOTHING'\n",
    "        elif stripped_line == '\"<Edges>\"' and current_st == 'NOTHING':\n",
    "            current_st = 'EDGEFIELDS'\n",
    "        elif stripped_line == '\"<EndEdges>\"' and current_st == 'EDGE':\n",
    "            current_st = 'NOTHING'\n",
    "        elif current_st == 'NODETYPES':\n",
    "            pass\n",
    "        elif current_st == 'EDGETYPES':\n",
    "            pass\n",
    "        elif current_st == 'NODEFIELDS':\n",
    "            current_st = 'NODE'\n",
    "        elif current_st == 'EDGEFIELDS':\n",
    "            current_st = 'EDGE'\n",
    "        elif current_st == 'NODE':\n",
    "            if stripped_line.endswith('\"sabor\"'):\n",
    "                values = shlex.split(stripped_line)\n",
    "                ide = values[0]\n",
    "                name = ide[len('sabor:'):]\n",
    "                ingrs = split_ingredients(name)\n",
    "                for ingr in ingrs:\n",
    "                    if any_noun(ingr):\n",
    "                        ingredients.add(ingr)\n",
    "#                     else:\n",
    "#                         print('SABOR:', ingr)\n",
    "            elif stripped_line.endswith('\"ingrediente\"'):\n",
    "                values = shlex.split(stripped_line)\n",
    "                ide = values[0]\n",
    "                name = ide\n",
    "                ingrs = split_ingredients(name)\n",
    "                for ingr in ingrs:\n",
    "                    if any_noun(ingr):\n",
    "                        ingredients.add(ingr)\n",
    "#                     else:\n",
    "#                         print('INGREDIENTE:', ingr)\n",
    "        elif current_st == 'EDGE':\n",
    "            pass"
   ]
  },
  {
   "cell_type": "code",
   "execution_count": 17,
   "metadata": {
    "collapsed": false
   },
   "outputs": [
    {
     "data": {
      "text/plain": [
       "1923"
      ]
     },
     "execution_count": 17,
     "metadata": {},
     "output_type": "execute_result"
    }
   ],
   "source": [
    "len(ingredients)"
   ]
  },
  {
   "cell_type": "code",
   "execution_count": 18,
   "metadata": {
    "collapsed": true
   },
   "outputs": [],
   "source": [
    "with open('data/ingredients/elbulli_ingredients.txt', 'w') as f:\n",
    "    f.write('\\n'.join(sorted(ingredients)))"
   ]
  },
  {
   "cell_type": "code",
   "execution_count": null,
   "metadata": {
    "collapsed": true
   },
   "outputs": [],
   "source": []
  }
 ],
 "metadata": {
  "kernelspec": {
   "display_name": "Python 3",
   "language": "python",
   "name": "python3"
  },
  "language_info": {
   "codemirror_mode": {
    "name": "ipython",
    "version": 3
   },
   "file_extension": ".py",
   "mimetype": "text/x-python",
   "name": "python",
   "nbconvert_exporter": "python",
   "pygments_lexer": "ipython3",
   "version": "3.4.3"
  }
 },
 "nbformat": 4,
 "nbformat_minor": 0
}
