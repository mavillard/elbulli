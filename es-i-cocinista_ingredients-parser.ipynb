{
 "cells": [
  {
   "cell_type": "code",
   "execution_count": 1,
   "metadata": {
    "collapsed": false
   },
   "outputs": [],
   "source": [
    "from bs4 import BeautifulSoup"
   ]
  },
  {
   "cell_type": "code",
   "execution_count": 2,
   "metadata": {
    "collapsed": false
   },
   "outputs": [],
   "source": [
    "def trim(s):\n",
    "    return ' '.join(s.split())"
   ]
  },
  {
   "cell_type": "code",
   "execution_count": 3,
   "metadata": {
    "collapsed": true
   },
   "outputs": [],
   "source": [
    "def clean(l):\n",
    "    r = []\n",
    "    for e in l:\n",
    "        if e not in [\n",
    "        ]:\n",
    "            x = e.strip().lower().replace('_', ' ')\n",
    "            x = x.split(' (')[0]\n",
    "            r.append(x)\n",
    "    return r"
   ]
  },
  {
   "cell_type": "code",
   "execution_count": 4,
   "metadata": {
    "collapsed": false
   },
   "outputs": [
    {
     "name": "stdout",
     "output_type": "stream",
     "text": [
      "ablandador de carne\n",
      "ácido ascórbico\n",
      "ácido cítrico\n",
      "ácido málico\n",
      "ácido tartárico\n",
      "agar agar\n",
      "albúmina\n",
      "alginato\n",
      "azúcar carbonatado\n",
      "azúcar glas\n",
      "bicarbonato sódico\n",
      "bifidobacterias\n",
      "=======\n",
      "carbonato de calcio\n",
      "carragenato\n",
      "citrato de sodio\n",
      "cloruro de calcio\n",
      "cmc\n",
      "concentrado de uva california connoisseur\n",
      "concentrado de uva cellar 7\n",
      "cremor tártaro\n",
      "crumiel\n",
      "dextrosa\n",
      "esencia de humo\n",
      "espesantes y gelificantes\n",
      "=======\n",
      "fécula de patata\n",
      "fondant\n",
      "fruta liofilizada\n",
      "gelatina\n",
      "glicerina\n",
      "gluconolactato\n",
      "goma arábiga\n",
      "goma de garrofín\n",
      "goma de tragacanto\n",
      "goma gellan\n",
      "goma guar\n",
      "goma konjac\n",
      "=======\n",
      "irish moss\n",
      "isomalt\n",
      "kudzu\n",
      "lactato de calcio\n",
      "lactosa\n",
      "lecitina\n",
      "levadura safale s-04\n",
      "levadura safale us-05\n",
      "levadura safbrew t-58\n",
      "levadura safbrew wb-06\n",
      "levadura saflager s-23\n",
      "levadura saflager w-34/70\n",
      "=======\n",
      "maltodextrina\n",
      "mentol\n",
      "metabisulfito\n",
      "metilcelulosa\n",
      "obulato\n",
      "pectina\n",
      "raíz de maranta\n",
      "resumen hidrocoloides\n",
      "sal nitro\n",
      "sales de calcio\n",
      "sorbitol\n",
      "sosa cáustica\n",
      "=======\n",
      "sulfato de calcio\n",
      "tagatosa\n",
      "transglutaminasa\n",
      "tripa de colágeno\n",
      "tripa fibrosa\n",
      "vainillina\n",
      "xantana\n",
      "xilitol\n",
      "yopol\n",
      "=======\n"
     ]
    }
   ],
   "source": [
    "ingredients = set()\n",
    "\n",
    "for i in range(1, 7):\n",
    "    npag = str(i)\n",
    "    with open('data/ingredients/es/cocinista/cocinista_spanish_ingredients_' + npag + '.html') as f:\n",
    "        soup = BeautifulSoup(f.read(), 'html.parser')\n",
    "        elems = soup.select('div#main div#ingredientes-ls div.ingrediente h2 a')\n",
    "        ingrs = map(lambda x: trim(x['title']), elems)\n",
    "        clean_ingrs = clean(ingrs)\n",
    "        for ci in clean_ingrs:\n",
    "            print(ci)\n",
    "        print('=======')\n",
    "        ingredients = ingredients.union(clean_ingrs)\n",
    "\n",
    "with open('data/ingredients/cocinista_spanish_ingredients.txt', 'w') as f:\n",
    "    f.write('\\n'.join(sorted(ingredients)))"
   ]
  },
  {
   "cell_type": "code",
   "execution_count": null,
   "metadata": {
    "collapsed": true
   },
   "outputs": [],
   "source": []
  }
 ],
 "metadata": {
  "kernelspec": {
   "display_name": "Python 3",
   "language": "python",
   "name": "python3"
  },
  "language_info": {
   "codemirror_mode": {
    "name": "ipython",
    "version": 3
   },
   "file_extension": ".py",
   "mimetype": "text/x-python",
   "name": "python",
   "nbconvert_exporter": "python",
   "pygments_lexer": "ipython3",
   "version": "3.4.3"
  }
 },
 "nbformat": 4,
 "nbformat_minor": 0
}
