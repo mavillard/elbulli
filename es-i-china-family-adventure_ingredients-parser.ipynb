{
 "cells": [
  {
   "cell_type": "code",
   "execution_count": 1,
   "metadata": {
    "collapsed": false
   },
   "outputs": [],
   "source": [
    "from bs4 import BeautifulSoup"
   ]
  },
  {
   "cell_type": "code",
   "execution_count": 2,
   "metadata": {
    "collapsed": false
   },
   "outputs": [],
   "source": [
    "def trim(s):\n",
    "    return ' '.join(s.split())"
   ]
  },
  {
   "cell_type": "code",
   "execution_count": 3,
   "metadata": {
    "collapsed": true
   },
   "outputs": [],
   "source": [
    "def clean(l):\n",
    "    r = []\n",
    "    for e in l:\n",
    "        if e not in [\n",
    "        ]:\n",
    "            x = e.strip().lower().replace('_', ' ')\n",
    "            x = x.split(' (')[0]\n",
    "            r.append(x)\n",
    "    return r"
   ]
  },
  {
   "cell_type": "code",
   "execution_count": 6,
   "metadata": {
    "collapsed": false
   },
   "outputs": [],
   "source": [
    "with open('data/ingredients/es/china-family-adventure/china-family-adventure_spanish_ingredients.html') as f:\n",
    "    soup = BeautifulSoup(f.read(), 'html.parser')\n",
    "    elems = soup.select('div.content-box table tr td b font[size=+1]')\n",
    "    ingrs = list(map(lambda x: trim(x.text), elems))"
   ]
  },
  {
   "cell_type": "code",
   "execution_count": 7,
   "metadata": {
    "collapsed": false
   },
   "outputs": [
    {
     "data": {
      "text/plain": [
       "['Ajo',\n",
       " 'Jengibre',\n",
       " 'Cebollitas Verdes',\n",
       " 'Chiles o Ajíes',\n",
       " 'Cilantro o Perejil Chino',\n",
       " 'Salsa de Soya',\n",
       " 'Salsa de Ostras',\n",
       " 'Aceite de Ajonjolí',\n",
       " 'Polvo de Cinco Especias',\n",
       " 'Salsa de Chiles o Ajíes',\n",
       " 'Pasta de Chile o Ajíes',\n",
       " 'Vinagre de Arroz o Chinkiang',\n",
       " 'Salsa de Ciruela',\n",
       " 'Salsa o Pasta de Frijol Negro',\n",
       " 'Bok Choy',\n",
       " 'Berenjena China',\n",
       " 'Repollo Chino',\n",
       " 'Gai Lan o Brócoli Chino',\n",
       " 'Brotes o Frijolitos de Soya',\n",
       " 'Arvejas Chinas',\n",
       " 'Rábano Blanco',\n",
       " 'Hongos Chinos (Dried)',\n",
       " 'Brotes de Bambú',\n",
       " 'Chorizos Chinos',\n",
       " 'Envolturas de Rollitos de Primavera',\n",
       " 'Tofu o Queso de Soya',\n",
       " 'Tallarines o Fideos',\n",
       " 'Fideos de Arroz',\n",
       " 'Arroz',\n",
       " 'Té Chino']"
      ]
     },
     "execution_count": 7,
     "metadata": {},
     "output_type": "execute_result"
    }
   ],
   "source": [
    "ingrs"
   ]
  },
  {
   "cell_type": "code",
   "execution_count": 4,
   "metadata": {
    "collapsed": false
   },
   "outputs": [
    {
     "name": "stdout",
     "output_type": "stream",
     "text": [
      "Ajo\n",
      "Jengibre\n",
      "Cebollitas Verdes\n",
      "Chiles o Ajíes\n",
      "Cilantro o Perejil Chino\n",
      "Salsa de Soya\n",
      "Salsa de Ostras\n",
      "Aceite de Ajonjolí\n",
      "Polvo de Cinco Especias\n",
      "Salsa de Chiles o Ajíes\n",
      "Pasta de Chile o Ajíes\n",
      "Vinagre de Arroz o Chinkiang\n",
      "Salsa de Ciruela\n",
      "Salsa o Pasta de Frijol Negro\n",
      "Bok Choy\n",
      "Berenjena China\n",
      "Repollo Chino\n",
      "Gai Lan o Brócoli Chino\n",
      "Brotes o Frijolitos de Soya\n",
      "Arvejas Chinas\n",
      "Rábano Blanco\n",
      "Hongos Chinos (Dried)\n",
      "Brotes de Bambú\n",
      "Chorizos Chinos\n",
      "Envolturas de Rollitos de Primavera\n",
      "Tofu o Queso de Soya\n",
      "Tallarines o Fideos\n",
      "Fideos de Arroz\n",
      "Arroz\n",
      "Té Chino\n"
     ]
    }
   ],
   "source": [
    "ingredients = set()\n",
    "\n",
    "with open('data/ingredients/es/china-family-adventure/china-family-adventure_spanish_ingredients.html') as f:\n",
    "    soup = BeautifulSoup(f.read(), 'html.parser')\n",
    "    elems = soup.select('div.content-box table tr td b font[size=+1]')\n",
    "    ingrs = map(lambda x: trim(x.text), elems)\n",
    "    clean_ingrs = ingrs#clean(ingrs)\n",
    "    for ci in clean_ingrs:\n",
    "        if ci[0].lower() != ci[1].lower():\n",
    "            print(ci)\n",
    "    ingredients = ingredients.union(clean_ingrs)\n",
    "\n",
    "# with open('data/ingredients/enfemenino_spanish_ingredients.txt', 'w') as f:\n",
    "#     f.write('\\n'.join(sorted(ingredients)))"
   ]
  },
  {
   "cell_type": "code",
   "execution_count": null,
   "metadata": {
    "collapsed": true
   },
   "outputs": [],
   "source": []
  }
 ],
 "metadata": {
  "kernelspec": {
   "display_name": "Python 3",
   "language": "python",
   "name": "python3"
  },
  "language_info": {
   "codemirror_mode": {
    "name": "ipython",
    "version": 3
   },
   "file_extension": ".py",
   "mimetype": "text/x-python",
   "name": "python",
   "nbconvert_exporter": "python",
   "pygments_lexer": "ipython3",
   "version": "3.4.3"
  }
 },
 "nbformat": 4,
 "nbformat_minor": 0
}
