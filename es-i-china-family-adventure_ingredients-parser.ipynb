{
 "cells": [
  {
   "cell_type": "code",
   "execution_count": 1,
   "metadata": {
    "collapsed": false
   },
   "outputs": [],
   "source": [
    "from bs4 import BeautifulSoup"
   ]
  },
  {
   "cell_type": "code",
   "execution_count": 2,
   "metadata": {
    "collapsed": false
   },
   "outputs": [],
   "source": [
    "def trim(s):\n",
    "    return ' '.join(s.split())"
   ]
  },
  {
   "cell_type": "code",
   "execution_count": 3,
   "metadata": {
    "collapsed": false
   },
   "outputs": [],
   "source": [
    "def clean(l):\n",
    "    r = []\n",
    "    for e in l:\n",
    "        x = e.strip().lower()\n",
    "        if x == 'brotes o frijolitos de soya':\n",
    "            x = ['brotes de soya']\n",
    "        elif x == 'chiles o ajíes':\n",
    "            x = ['chiles o ajíes o chile']\n",
    "        elif x == 'hongos chinos (dried)':\n",
    "            x = ['hongos chinos']\n",
    "        elif x == 'pasta de chile o ajíes':\n",
    "            x = ['pasta de chile o pasta de ajíes']\n",
    "        elif x == 'salsa de chiles o ajíes':\n",
    "            x = ['salsa de chiles o salsa de ajíes']\n",
    "        elif x == 'salsa o pasta de frijol negro':\n",
    "            x = ['salsa de frijol negro o pasta de frijol negro']\n",
    "        elif x == 'tallarines o fideos':\n",
    "            x = ['tallarines', 'fideos']\n",
    "        else:\n",
    "            x = [x]\n",
    "        r.extend(x)\n",
    "    return set(r)"
   ]
  },
  {
   "cell_type": "code",
   "execution_count": 4,
   "metadata": {
    "collapsed": false
   },
   "outputs": [],
   "source": [
    "ingredients = set()\n",
    "\n",
    "with open('data/ingredients/es/china-family-adventure/china-family-adventure_spanish_ingredients.html') as f:\n",
    "    soup = BeautifulSoup(f.read(), 'html.parser')\n",
    "    elems = soup.select('div.content-box table tr td b font[size=+1]')\n",
    "    ingrs = clean(map(lambda x: trim(x.text), elems))\n",
    "    ingredients = ingredients.union(ingrs)\n",
    "\n",
    "ingredients = sorted(ingredients)"
   ]
  },
  {
   "cell_type": "code",
   "execution_count": 5,
   "metadata": {
    "collapsed": false
   },
   "outputs": [
    {
     "data": {
      "text/plain": [
       "31"
      ]
     },
     "execution_count": 5,
     "metadata": {},
     "output_type": "execute_result"
    }
   ],
   "source": [
    "len(ingredients)"
   ]
  },
  {
   "cell_type": "code",
   "execution_count": 6,
   "metadata": {
    "collapsed": false
   },
   "outputs": [
    {
     "data": {
      "text/plain": [
       "['aceite de ajonjolí',\n",
       " 'ajo',\n",
       " 'arroz',\n",
       " 'arvejas chinas',\n",
       " 'berenjena china',\n",
       " 'bok choy',\n",
       " 'brotes de bambú',\n",
       " 'brotes de soya',\n",
       " 'cebollitas verdes',\n",
       " 'chiles o ajíes o chile',\n",
       " 'chorizos chinos',\n",
       " 'cilantro o perejil chino',\n",
       " 'envolturas de rollitos de primavera',\n",
       " 'fideos',\n",
       " 'fideos de arroz',\n",
       " 'gai lan o brócoli chino',\n",
       " 'hongos chinos',\n",
       " 'jengibre',\n",
       " 'pasta de chile o pasta de ajíes',\n",
       " 'polvo de cinco especias',\n",
       " 'repollo chino',\n",
       " 'rábano blanco',\n",
       " 'salsa de chiles o salsa de ajíes',\n",
       " 'salsa de ciruela',\n",
       " 'salsa de frijol negro o pasta de frijol negro',\n",
       " 'salsa de ostras',\n",
       " 'salsa de soya',\n",
       " 'tallarines',\n",
       " 'tofu o queso de soya',\n",
       " 'té chino',\n",
       " 'vinagre de arroz o chinkiang']"
      ]
     },
     "execution_count": 6,
     "metadata": {},
     "output_type": "execute_result"
    }
   ],
   "source": [
    "ingredients"
   ]
  },
  {
   "cell_type": "code",
   "execution_count": 7,
   "metadata": {
    "collapsed": false
   },
   "outputs": [],
   "source": [
    "with open('data/ingredients/es_china-family-adventure_ingredients.txt', 'w') as f:\n",
    "    f.write('\\n'.join(ingredients))"
   ]
  },
  {
   "cell_type": "code",
   "execution_count": null,
   "metadata": {
    "collapsed": true
   },
   "outputs": [],
   "source": []
  }
 ],
 "metadata": {
  "kernelspec": {
   "display_name": "Python 3",
   "language": "python",
   "name": "python3"
  },
  "language_info": {
   "codemirror_mode": {
    "name": "ipython",
    "version": 3
   },
   "file_extension": ".py",
   "mimetype": "text/x-python",
   "name": "python",
   "nbconvert_exporter": "python",
   "pygments_lexer": "ipython3",
   "version": "3.4.3"
  }
 },
 "nbformat": 4,
 "nbformat_minor": 0
}
