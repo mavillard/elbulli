{
 "cells": [
  {
   "cell_type": "code",
   "execution_count": 1,
   "metadata": {
    "collapsed": false
   },
   "outputs": [],
   "source": [
    "import requests\n",
    "from bs4 import BeautifulSoup"
   ]
  },
  {
   "cell_type": "code",
   "execution_count": 2,
   "metadata": {
    "collapsed": false
   },
   "outputs": [],
   "source": [
    "with open('data/techniques/es/wikipedia/wikipedia_spanish_categoria_tecnicas_culinarias.html', 'w') as f:\n",
    "    url = 'https://es.wikipedia.org/wiki/Categoría:Técnicas_culinarias'\n",
    "    response = requests.get(url)\n",
    "    if response.ok:\n",
    "        soup = BeautifulSoup(response.content, 'html.parser')\n",
    "        f.write(soup.prettify())\n",
    "\n",
    "with open('data/techniques/es/wikipedia/wikipedia_spanish_categoria_platos_tecnica_culinaria.html', 'w') as f:\n",
    "    url = 'https://es.wikipedia.org/wiki/Categoría:Platos_por_técnica_culinaria'\n",
    "    response = requests.get(url)\n",
    "    if response.ok:\n",
    "        soup = BeautifulSoup(response.content, 'html.parser')\n",
    "        f.write(soup.prettify())\n",
    "\n",
    "with open('data/techniques/es/wikipedia/wikipedia_spanish_categoria_platos_cocinados_mesa.html', 'w') as f:\n",
    "    url = 'https://es.wikipedia.org/wiki/Categoría:Platos_cocinados_en_la_mesa'\n",
    "    response = requests.get(url)\n",
    "    if response.ok:\n",
    "        soup = BeautifulSoup(response.content, 'html.parser')\n",
    "        f.write(soup.prettify())\n",
    "\n",
    "with open('data/techniques/es/wikipedia/wikipedia_spanish_categoria_tecnicas_corte.html', 'w') as f:\n",
    "    url = 'https://es.wikipedia.org/wiki/Categoría:Técnicas_de_corte'\n",
    "    response = requests.get(url)\n",
    "    if response.ok:\n",
    "        soup = BeautifulSoup(response.content, 'html.parser')\n",
    "        f.write(soup.prettify())\n",
    "\n",
    "with open('data/techniques/es/wikipedia/wikipedia_spanish_categoria_coccion_alimentaria.html', 'w') as f:\n",
    "    url = 'https://es.wikipedia.org/wiki/Categoría:Cocción_alimentaria'\n",
    "    response = requests.get(url)\n",
    "    if response.ok:\n",
    "        soup = BeautifulSoup(response.content, 'html.parser')\n",
    "        f.write(soup.prettify())"
   ]
  },
  {
   "cell_type": "code",
   "execution_count": null,
   "metadata": {
    "collapsed": true
   },
   "outputs": [],
   "source": []
  }
 ],
 "metadata": {
  "kernelspec": {
   "display_name": "Python 3",
   "language": "python",
   "name": "python3"
  },
  "language_info": {
   "codemirror_mode": {
    "name": "ipython",
    "version": 3
   },
   "file_extension": ".py",
   "mimetype": "text/x-python",
   "name": "python",
   "nbconvert_exporter": "python",
   "pygments_lexer": "ipython3",
   "version": "3.4.3"
  }
 },
 "nbformat": 4,
 "nbformat_minor": 0
}
