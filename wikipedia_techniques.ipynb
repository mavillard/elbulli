{
 "cells": [
  {
   "cell_type": "code",
   "execution_count": 16,
   "metadata": {
    "collapsed": false
   },
   "outputs": [],
   "source": [
    "import requests\n",
    "from bs4 import BeautifulSoup\n",
    "from nltk.stem import WordNetLemmatizer"
   ]
  },
  {
   "cell_type": "code",
   "execution_count": 17,
   "metadata": {
    "collapsed": false
   },
   "outputs": [],
   "source": [
    "with open('data/techniques/wikipedia_category_cooking_techniques.html', 'w') as f:\n",
    "    url = 'https://en.wikipedia.org/wiki/Category:Cooking_techniques'\n",
    "    response = requests.get(url)\n",
    "    if response.ok:\n",
    "        soup = BeautifulSoup(response.content, 'html.parser')\n",
    "        f.write(soup.prettify())\n",
    "\n",
    "with open('data/techniques/wikipedia_template_cooking_techniques.html', 'w') as f:\n",
    "    url = 'https://en.wikipedia.org/wiki/Template:Cooking_techniques'\n",
    "    response = requests.get(url)\n",
    "    if response.ok:\n",
    "        soup = BeautifulSoup(response.content, 'html.parser')\n",
    "        f.write(soup.prettify())\n",
    "\n",
    "with open('data/techniques/wikipedia_category_cutting_techniques.html', 'w') as f:\n",
    "    url = 'https://en.wikipedia.org/wiki/Category:Cutting_techniques_(cooking)'\n",
    "    response = requests.get(url)\n",
    "    if response.ok:\n",
    "        soup = BeautifulSoup(response.content, 'html.parser')\n",
    "        f.write(soup.prettify())\n",
    "\n",
    "with open('data/techniques/wikipedia_list_cooking_techniques.html', 'w') as f:\n",
    "    url = 'https://en.wikipedia.org/wiki/List_of_cooking_techniques'\n",
    "    response = requests.get(url)\n",
    "    if response.ok:\n",
    "        soup = BeautifulSoup(response.content, 'html.parser')\n",
    "        f.write(soup.prettify())\n",
    "\n",
    "with open('data/techniques/wikipedia_chinese_cooking_techniques.html', 'w') as f:\n",
    "    url = 'https://en.wikipedia.org/wiki/Chinese_cooking_techniques'\n",
    "    response = requests.get(url)\n",
    "    if response.ok:\n",
    "        soup = BeautifulSoup(response.content, 'html.parser')\n",
    "        f.write(soup.prettify())\n",
    "\n",
    "with open('data/techniques/wikipedia_outline_food_preparation.html', 'w') as f:\n",
    "    url = 'https://en.wikipedia.org/wiki/Outline_of_food_preparation'\n",
    "    response = requests.get(url)\n",
    "    if response.ok:\n",
    "        soup = BeautifulSoup(response.content, 'html.parser')\n",
    "        f.write(soup.prettify())\n",
    "\n",
    "with open('data/techniques/wikipedia_cooking_methods.html', 'w') as f:\n",
    "    url = 'https://en.wikipedia.org/wiki/Cooking'\n",
    "    response = requests.get(url)\n",
    "    if response.ok:\n",
    "        soup = BeautifulSoup(response.content, 'html.parser')\n",
    "        f.write(soup.prettify())"
   ]
  },
  {
   "cell_type": "code",
   "execution_count": 18,
   "metadata": {
    "collapsed": true
   },
   "outputs": [],
   "source": [
    "def infinitive(words):\n",
    "    aux = []\n",
    "    lemmatizer = WordNetLemmatizer()\n",
    "    word_list = words.split()\n",
    "    for word in word_list:\n",
    "        if word != 'cook' and word != 'cooking':\n",
    "            if word.endswith('ing'):\n",
    "                inf = lemmatizer.lemmatize(word.lower(), 'v')\n",
    "                aux.append(inf)\n",
    "                if inf == word:\n",
    "                    print('NO INFINITIVE FOR', word)\n",
    "            else:\n",
    "                aux.append(word.lower())\n",
    "    result = ' '.join(aux)\n",
    "    return result"
   ]
  },
  {
   "cell_type": "code",
   "execution_count": 19,
   "metadata": {
    "collapsed": false
   },
   "outputs": [],
   "source": [
    "techniques = set()"
   ]
  },
  {
   "cell_type": "code",
   "execution_count": 28,
   "metadata": {
    "collapsed": true
   },
   "outputs": [],
   "source": [
    "def clean_1(l):\n",
    "    r = []\n",
    "    for e in l:\n",
    "        if e not in [\n",
    "            'Template:Cooking techniques',\n",
    "            'List of cooking techniques',\n",
    "            'List of twice-baked foods',\n",
    "        ]:\n",
    "            x = e.strip().lower().replace('_', ' ')\n",
    "            x = x.split(' (')[0]\n",
    "            x = infinitive(x)\n",
    "            r.append(x)\n",
    "    return r"
   ]
  },
  {
   "cell_type": "code",
   "execution_count": 30,
   "metadata": {
    "collapsed": false
   },
   "outputs": [
    {
     "name": "stdout",
     "output_type": "stream",
     "text": [
      "NO INFINITIVE FOR broasting\n",
      "NO INFINITIVE FOR juicing\n",
      "NO INFINITIVE FOR parbaking\n",
      "NO INFINITIVE FOR sautéing\n",
      "Ok\n"
     ]
    }
   ],
   "source": [
    "techniques = set()\n",
    "url = 'https://en.wikipedia.org/wiki/Category:Cooking_techniques'\n",
    "response = requests.get(url)\n",
    "if response.ok:\n",
    "    soup = BeautifulSoup(response.content, 'html.parser')\n",
    "    elems = soup.select('div#mw-pages div.mw-category-group ul li a')\n",
    "    techs = map(lambda x: x['title'], elems)\n",
    "    clean_techs = clean_1(techs)\n",
    "    techniques = techniques.union(clean_techs)\n",
    "    print('Ok')"
   ]
  },
  {
   "cell_type": "code",
   "execution_count": 37,
   "metadata": {
    "collapsed": false
   },
   "outputs": [],
   "source": [
    "def clean_2(l):\n",
    "    r = []\n",
    "    for e in l:\n",
    "        if e not in [\n",
    "            't',\n",
    "            'e',\n",
    "            'List of cooking appliances',\n",
    "            'Outdoor cooking',\n",
    "            'Food preparation',\n",
    "            'Food preservation',\n",
    "            'Food safety'\n",
    "        ]:\n",
    "            x = e.strip().lower().replace('_', ' ')\n",
    "            if '(' in x:\n",
    "                x1, x2 = x.split('(')\n",
    "                x1 = infinitive(x1[:-1])\n",
    "                x2 = infinitive(x2[:-1])\n",
    "                r.append(x1)\n",
    "                if x2 not in ['modern', 'traditional']:\n",
    "                    r.append(x2)\n",
    "            elif '/' in x:\n",
    "                x1, x2 = x.split('/')\n",
    "                x1 = infinitive(x1)\n",
    "                x2 = infinitive(x2)\n",
    "                r.append(x1)\n",
    "                r.append(x2)\n",
    "            else:\n",
    "                x = infinitive(x)\n",
    "                r.append(x)\n",
    "    return r"
   ]
  },
  {
   "cell_type": "code",
   "execution_count": 40,
   "metadata": {
    "collapsed": false
   },
   "outputs": [
    {
     "name": "stdout",
     "output_type": "stream",
     "text": [
      "NO INFINITIVE FOR charbroiling\n",
      "NO INFINITIVE FOR sautéing\n",
      "Ok\n"
     ]
    },
    {
     "data": {
      "text/plain": [
       "{'air fry',\n",
       " 'bain-marie',\n",
       " 'bake',\n",
       " 'bao',\n",
       " 'barbecue',\n",
       " 'blacken',\n",
       " 'blanch',\n",
       " 'boil',\n",
       " 'braise',\n",
       " 'brown',\n",
       " 'chao',\n",
       " 'charbroiling',\n",
       " 'coddle',\n",
       " 'cream',\n",
       " 'cure',\n",
       " 'decoction',\n",
       " 'deep fry',\n",
       " 'double boil',\n",
       " 'double steam',\n",
       " 'dry roast',\n",
       " 'ferment',\n",
       " 'flambé',\n",
       " 'fricassee',\n",
       " 'gentle fry',\n",
       " 'grill',\n",
       " 'hot salt fry',\n",
       " 'indirect grill',\n",
       " 'infusion',\n",
       " 'microwave',\n",
       " 'pan fry',\n",
       " 'parboil',\n",
       " 'pickle',\n",
       " 'plank',\n",
       " 'poach',\n",
       " 'pressure',\n",
       " 'pressure fry',\n",
       " 'reduction',\n",
       " 'roast',\n",
       " 'rotisserie',\n",
       " 'sautéing',\n",
       " 'sear',\n",
       " 'shallow fry',\n",
       " 'shock',\n",
       " 'simmer',\n",
       " 'slow cooker',\n",
       " 'smoke',\n",
       " 'smother',\n",
       " 'sour',\n",
       " 'sous-vide',\n",
       " 'steam',\n",
       " 'steep',\n",
       " 'stew',\n",
       " 'stir fry',\n",
       " 'sweat',\n",
       " 'thermal',\n",
       " 'toast'}"
      ]
     },
     "execution_count": 40,
     "metadata": {},
     "output_type": "execute_result"
    }
   ],
   "source": [
    "techniques = set()\n",
    "url = 'https://en.wikipedia.org/wiki/Template:Cooking_techniques'\n",
    "response = requests.get(url)\n",
    "if response.ok:\n",
    "    soup = BeautifulSoup(response.content, 'html.parser')\n",
    "    elems = soup.select('div#mw-content-text table ul li a')\n",
    "    techs = map(lambda x: x.string, elems)\n",
    "    clean_techs = clean_2(techs)\n",
    "    techniques = techniques.union(clean_techs)\n",
    "    print('Ok')\n",
    "techniques\n"
   ]
  },
  {
   "cell_type": "code",
   "execution_count": 41,
   "metadata": {
    "collapsed": true
   },
   "outputs": [],
   "source": [
    "def clean_3(l):\n",
    "    r = []\n",
    "    for e in l:\n",
    "        if e not in [\n",
    "            'List of culinary knife cuts',\n",
    "        ]:\n",
    "            x = e.strip().lower().replace('_', ' ')\n",
    "            x = infinitive(x)\n",
    "            r.append(x)\n",
    "    return r"
   ]
  },
  {
   "cell_type": "code",
   "execution_count": 42,
   "metadata": {
    "collapsed": false
   },
   "outputs": [
    {
     "name": "stdout",
     "output_type": "stream",
     "text": [
      "NO INFINITIVE FOR crinkle-cutting\n",
      "Ok\n"
     ]
    },
    {
     "data": {
      "text/plain": [
       "{'accordion cut',\n",
       " 'allumette',\n",
       " 'brunoise',\n",
       " 'butterfly',\n",
       " 'chiffonade',\n",
       " 'crinkle-cutting',\n",
       " 'dice',\n",
       " 'julienne',\n",
       " 'meat carve',\n",
       " 'mince'}"
      ]
     },
     "execution_count": 42,
     "metadata": {},
     "output_type": "execute_result"
    }
   ],
   "source": [
    "techniques=set()\n",
    "url = 'https://en.wikipedia.org/wiki/Category:Cutting_techniques_(cooking)'\n",
    "response = requests.get(url)\n",
    "if response.ok:\n",
    "    soup = BeautifulSoup(response.content, 'html.parser')\n",
    "    elems = soup.select('div#mw-pages div.mw-category-group ul li a')\n",
    "    techs = map(lambda x: x['title'], elems)\n",
    "    clean_techs = clean_3(techs)\n",
    "    techniques = techniques.union(clean_techs)\n",
    "    print('Ok')\n",
    "techniques"
   ]
  },
  {
   "cell_type": "code",
   "execution_count": 43,
   "metadata": {
    "collapsed": true
   },
   "outputs": [],
   "source": [
    "def clean_4(l):\n",
    "    r = []\n",
    "    for e in l:\n",
    "        if e not in [\n",
    "            'Chinese cooking techniques',\n",
    "            'Manifold Destiny',\n",
    "            'Meat cooking techniques',\n",
    "            'Vietnamese cooking techniques',\n",
    "        ]:\n",
    "            x = e.strip().lower().replace('_', ' ')\n",
    "            x = x.split(' (')[0]\n",
    "            x = infinitive(x)\n",
    "            r.append(x)\n",
    "    return r"
   ]
  },
  {
   "cell_type": "code",
   "execution_count": 44,
   "metadata": {
    "collapsed": false
   },
   "outputs": [
    {
     "name": "stdout",
     "output_type": "stream",
     "text": [
      "NO INFINITIVE FOR broasting\n",
      "NO INFINITIVE FOR charbroiling\n",
      "NO INFINITIVE FOR cheesemaking\n",
      "NO INFINITIVE FOR juicing\n",
      "NO INFINITIVE FOR parbaking\n",
      "NO INFINITIVE FOR sautéing\n",
      "NO INFINITIVE FOR swissing\n",
      "Ok\n"
     ]
    },
    {
     "data": {
      "text/plain": [
       "{'air',\n",
       " 'amandine',\n",
       " 'amylolytic process',\n",
       " 'anti-griddle',\n",
       " 'backwoods',\n",
       " 'baghaar',\n",
       " 'bake',\n",
       " 'barbecue',\n",
       " 'baste',\n",
       " 'blacken',\n",
       " 'blanch',\n",
       " 'boil',\n",
       " 'braise',\n",
       " 'bread',\n",
       " 'brine',\n",
       " 'broasting',\n",
       " 'brochette',\n",
       " 'brown',\n",
       " 'buccan',\n",
       " 'can',\n",
       " 'candy make',\n",
       " 'caramelization',\n",
       " 'carry over',\n",
       " 'casserole',\n",
       " 'charbroiling',\n",
       " 'chaunk',\n",
       " 'cheesemaking',\n",
       " 'clay pot',\n",
       " 'coddle',\n",
       " 'concasse',\n",
       " 'conche',\n",
       " 'confit',\n",
       " 'cream',\n",
       " 'culinary triangle',\n",
       " 'curdle',\n",
       " 'cure',\n",
       " 'cured fish',\n",
       " 'deep fry',\n",
       " 'deglaze',\n",
       " 'degrease',\n",
       " 'dough sheet',\n",
       " 'dredge',\n",
       " 'dry',\n",
       " 'dry roast',\n",
       " 'dum pukht',\n",
       " 'dutch oven',\n",
       " 'earth oven',\n",
       " 'egg wash',\n",
       " 'en papillote',\n",
       " 'en vessie',\n",
       " 'engastration',\n",
       " 'engine',\n",
       " 'fermentation',\n",
       " 'flambé',\n",
       " 'flash pasteurization',\n",
       " 'flattop grill',\n",
       " 'foam',\n",
       " 'fondue',\n",
       " 'food preservation',\n",
       " 'food steamer',\n",
       " 'fruit preserves',\n",
       " 'fry',\n",
       " 'gentle fry',\n",
       " 'glaze',\n",
       " 'grill',\n",
       " 'hibachi',\n",
       " 'high-altitude',\n",
       " 'home can',\n",
       " 'homogenization',\n",
       " 'hot salt fry',\n",
       " 'huff paste',\n",
       " 'hāngi',\n",
       " 'indirect grill',\n",
       " 'infusion',\n",
       " 'jug',\n",
       " 'juicing',\n",
       " 'kalua',\n",
       " 'karaage',\n",
       " 'kho',\n",
       " 'kinpira',\n",
       " 'liquid nitrogen',\n",
       " 'low-temperature',\n",
       " 'maceration',\n",
       " 'marination',\n",
       " 'microwave',\n",
       " 'mongolian barbecue',\n",
       " 'nappage',\n",
       " 'nixtamalization',\n",
       " 'outdoor',\n",
       " 'pan fry',\n",
       " 'parbaking',\n",
       " 'parboil',\n",
       " 'pascalization',\n",
       " 'paste',\n",
       " 'pasteurization',\n",
       " 'pasteurized eggs',\n",
       " 'pellicle',\n",
       " 'pickle',\n",
       " 'pig roast',\n",
       " 'pit barbecue',\n",
       " 'poach',\n",
       " 'pre-ferment',\n",
       " 'pressure',\n",
       " 'pressure fry',\n",
       " 'proof',\n",
       " 'purée',\n",
       " 'red',\n",
       " 'reduction',\n",
       " 'render',\n",
       " 'rice',\n",
       " 'rillettes',\n",
       " 'roast',\n",
       " 'robatayaki',\n",
       " 'rotisserie',\n",
       " 'sautéing',\n",
       " 'schwenker',\n",
       " 'sear',\n",
       " 'season',\n",
       " 'separate eggs',\n",
       " 'shallow fry',\n",
       " 'shirred eggs',\n",
       " 'shrivel',\n",
       " 'simmer',\n",
       " 'slow cooker',\n",
       " 'smoke',\n",
       " 'smother',\n",
       " 'sour',\n",
       " 'sous-vide',\n",
       " 'spatchcock',\n",
       " 'spherification',\n",
       " 'steam',\n",
       " 'steep',\n",
       " 'stew',\n",
       " 'stir fry',\n",
       " 'straight dough',\n",
       " 'stuff',\n",
       " 'sugar pan',\n",
       " 'supreme',\n",
       " 'sweat',\n",
       " 'swissing',\n",
       " 'syringe',\n",
       " 'tandoor',\n",
       " 'tataki',\n",
       " 'tenderize',\n",
       " 'teriyaki',\n",
       " 'thermal',\n",
       " 'thermal immersion circulator',\n",
       " 'thermization',\n",
       " 'thicken',\n",
       " 'transglutaminase',\n",
       " 'turbo',\n",
       " 'turkey fryer',\n",
       " 'with alcohol',\n",
       " 'wok'}"
      ]
     },
     "execution_count": 44,
     "metadata": {},
     "output_type": "execute_result"
    }
   ],
   "source": [
    "techniques=set()\n",
    "url = 'https://en.wikipedia.org/wiki/List_of_cooking_techniques'\n",
    "response = requests.get(url)\n",
    "if response.ok:\n",
    "    soup = BeautifulSoup(response.content, 'html.parser')\n",
    "    elems = soup.select('div#bodyContent h3 ~ ul:nth-of-type(1) li > a:nth-of-type(1)')\n",
    "    techs = map(lambda x: x.string, elems)\n",
    "    clean_techs = clean_4(techs)\n",
    "    techniques = techniques.union(clean_techs)\n",
    "    print('Ok')\n",
    "techniques"
   ]
  },
  {
   "cell_type": "code",
   "execution_count": 45,
   "metadata": {
    "collapsed": true
   },
   "outputs": [],
   "source": [
    "def clean_5(l):\n",
    "    r = []\n",
    "    for e in l:\n",
    "        x = e.strip().lower().replace('_', ' ')\n",
    "        if 'or' in x:\n",
    "            x1, x2 = x.split(' or ')\n",
    "            x1 = infinitive(x1)\n",
    "            x2 = infinitive(x2)\n",
    "            r.append(x1)\n",
    "            r.append(x2)\n",
    "        else:\n",
    "            x = infinitive(x)\n",
    "            r.append(x)\n",
    "    return r"
   ]
  },
  {
   "cell_type": "code",
   "execution_count": 47,
   "metadata": {
    "collapsed": false
   },
   "outputs": [
    {
     "name": "stdout",
     "output_type": "stream",
     "text": [
      "NO INFINITIVE FOR sautéing\n",
      "NO INFINITIVE FOR flash-frying\n",
      "Ok\n"
     ]
    },
    {
     "data": {
      "text/plain": [
       "{'bake',\n",
       " 'bake stew',\n",
       " 'braise',\n",
       " 'decoction',\n",
       " 'deep fry',\n",
       " 'dress',\n",
       " 'dry stir-fry',\n",
       " 'dry wok stir-fry',\n",
       " 'dry-fry',\n",
       " 'extreme-heat stir-fry',\n",
       " 'flash-frying',\n",
       " 'fry',\n",
       " 'gradual simmer',\n",
       " 'high heat sautéing',\n",
       " 'high heat stir fry',\n",
       " 'jellify',\n",
       " 'marinate',\n",
       " 'moist stir-fry',\n",
       " 'pan fry',\n",
       " 'pickle',\n",
       " 'plain stir-fry',\n",
       " 'quick boil',\n",
       " 'roast',\n",
       " 'scald',\n",
       " 'scramble stir-fry',\n",
       " 'simple stir-fry',\n",
       " 'slow red',\n",
       " 'smoke',\n",
       " 'steam',\n",
       " 'stir fry'}"
      ]
     },
     "execution_count": 47,
     "metadata": {},
     "output_type": "execute_result"
    }
   ],
   "source": [
    "techniques=set()\n",
    "url = 'https://en.wikipedia.org/wiki/Chinese_cooking_techniques'\n",
    "response = requests.get(url)\n",
    "if response.ok:\n",
    "    soup = BeautifulSoup(response.content, 'html.parser')\n",
    "    elems = soup.select('div#bodyContent table.wikitable tr > td:nth-of-type(1)')\n",
    "    techs = map(lambda x: x.text, elems)\n",
    "    clean_techs = clean_5(techs)\n",
    "    techniques = techniques.union(clean_techs)\n",
    "    print('Ok')\n",
    "techniques"
   ]
  },
  {
   "cell_type": "code",
   "execution_count": 48,
   "metadata": {
    "collapsed": true
   },
   "outputs": [],
   "source": [
    "def clean_6(l):\n",
    "    r = []\n",
    "    for e in l:\n",
    "        x = e.strip().lower().replace('_', ' ')\n",
    "        x = infinitive(x)\n",
    "        r.append(x)\n",
    "    return r"
   ]
  },
  {
   "cell_type": "code",
   "execution_count": 51,
   "metadata": {
    "collapsed": false
   },
   "outputs": [
    {
     "name": "stdout",
     "output_type": "stream",
     "text": [
      "Ok\n"
     ]
    },
    {
     "data": {
      "text/plain": [
       "['Baking',\n",
       " 'Blind baking',\n",
       " 'Boiling',\n",
       " 'Blanching',\n",
       " 'Braising',\n",
       " 'Coddling',\n",
       " 'Infusion',\n",
       " 'Pressure cooking',\n",
       " 'Simmering',\n",
       " 'Poaching',\n",
       " 'Steaming',\n",
       " 'Double steaming',\n",
       " 'Steeping',\n",
       " 'Stewing',\n",
       " 'Vacuum flask cooking',\n",
       " 'Frying',\n",
       " 'Microwave oven',\n",
       " 'Smoking',\n",
       " 'Brining',\n",
       " 'Ceviche',\n",
       " 'Drying',\n",
       " 'Fermentation',\n",
       " 'Marinating',\n",
       " 'Pickling',\n",
       " 'Salting',\n",
       " 'Seasoning',\n",
       " 'Souring',\n",
       " 'Sprouting',\n",
       " 'Sugaring',\n",
       " 'Basting',\n",
       " 'Cutting',\n",
       " 'Chopping',\n",
       " 'Dicing',\n",
       " 'Grating',\n",
       " 'Julienning',\n",
       " 'Mincing',\n",
       " 'Peeling',\n",
       " 'Shaving',\n",
       " 'Kneading',\n",
       " 'Milling',\n",
       " 'Mixing',\n",
       " 'Blending',\n",
       " 'Vacuum Filling',\n",
       " 'Baking',\n",
       " 'Broiling',\n",
       " 'Frying',\n",
       " 'Microwaving',\n",
       " 'Roasting',\n",
       " 'Hot Smoking']"
      ]
     },
     "execution_count": 51,
     "metadata": {},
     "output_type": "execute_result"
    }
   ],
   "source": [
    "techniques=set()\n",
    "url = 'https://en.wikipedia.org/wiki/Outline_of_food_preparation'\n",
    "response = requests.get(url)\n",
    "if response.ok:\n",
    "    soup = BeautifulSoup(response.content, 'html.parser')\n",
    "    elems = soup.select('div#bodyContent h4 + ul li > a:nth-of-type(1), div#bodyContent h3 + ul li > a:nth-of-type(1), div#bodyContent h4 > span:nth-of-type(1)')\n",
    "    techs = map(lambda x: x.text, elems)\n",
    "#     clean_techs = clean_6(techs)\n",
    "#     techniques = techniques.union(clean_techs)\n",
    "    print('Ok')\n",
    "# techniques\n",
    "list(techs)\n",
    "Grilling not found!!"
   ]
  },
  {
   "cell_type": "code",
   "execution_count": 34,
   "metadata": {
    "collapsed": true
   },
   "outputs": [],
   "source": [
    "def clean_7(l):\n",
    "    r = []\n",
    "    for e in l:\n",
    "        x = e.strip().lower().replace('_', ' ')\n",
    "        x = infinitive(x)\n",
    "        r.append(x)\n",
    "    return r"
   ]
  },
  {
   "cell_type": "code",
   "execution_count": 14,
   "metadata": {
    "collapsed": false
   },
   "outputs": [
    {
     "ename": "NameError",
     "evalue": "name 'clean_7' is not defined",
     "output_type": "error",
     "traceback": [
      "\u001b[1;31m---------------------------------------------------------------------------\u001b[0m",
      "\u001b[1;31mNameError\u001b[0m                                 Traceback (most recent call last)",
      "\u001b[1;32m<ipython-input-14-174136d0c8f0>\u001b[0m in \u001b[0;36m<module>\u001b[1;34m()\u001b[0m\n\u001b[0;32m      5\u001b[0m     \u001b[0melems\u001b[0m \u001b[1;33m=\u001b[0m \u001b[0msoup\u001b[0m\u001b[1;33m.\u001b[0m\u001b[0mselect\u001b[0m\u001b[1;33m(\u001b[0m\u001b[1;34m'div#bodyContent dl dd a'\u001b[0m\u001b[1;33m)\u001b[0m\u001b[1;33m\u001b[0m\u001b[0m\n\u001b[0;32m      6\u001b[0m     \u001b[0mtechs\u001b[0m \u001b[1;33m=\u001b[0m \u001b[0mmap\u001b[0m\u001b[1;33m(\u001b[0m\u001b[1;32mlambda\u001b[0m \u001b[0mx\u001b[0m\u001b[1;33m:\u001b[0m \u001b[0mx\u001b[0m\u001b[1;33m.\u001b[0m\u001b[0mtext\u001b[0m\u001b[1;33m,\u001b[0m \u001b[0melems\u001b[0m\u001b[1;33m)\u001b[0m\u001b[1;33m\u001b[0m\u001b[0m\n\u001b[1;32m----> 7\u001b[1;33m     \u001b[0mclean_techs\u001b[0m \u001b[1;33m=\u001b[0m \u001b[0mclean_7\u001b[0m\u001b[1;33m(\u001b[0m\u001b[0mtechs\u001b[0m\u001b[1;33m)\u001b[0m\u001b[1;33m\u001b[0m\u001b[0m\n\u001b[0m\u001b[0;32m      8\u001b[0m     \u001b[0mtechniques\u001b[0m \u001b[1;33m=\u001b[0m \u001b[0mtechniques\u001b[0m\u001b[1;33m.\u001b[0m\u001b[0munion\u001b[0m\u001b[1;33m(\u001b[0m\u001b[0mclean_techs\u001b[0m\u001b[1;33m)\u001b[0m\u001b[1;33m\u001b[0m\u001b[0m\n\u001b[0;32m      9\u001b[0m     \u001b[0mprint\u001b[0m\u001b[1;33m(\u001b[0m\u001b[1;34m'Ok'\u001b[0m\u001b[1;33m)\u001b[0m\u001b[1;33m\u001b[0m\u001b[0m\n",
      "\u001b[1;31mNameError\u001b[0m: name 'clean_7' is not defined"
     ]
    }
   ],
   "source": [
    "url = 'https://en.wikipedia.org/wiki/Cooking'\n",
    "response = requests.get(url)\n",
    "if response.ok:\n",
    "    soup = BeautifulSoup(response.content, 'html.parser')\n",
    "    elems = soup.select('div#bodyContent dl dd a')\n",
    "    techs = map(lambda x: x.text, elems)\n",
    "    clean_techs = clean_7(techs)\n",
    "    techniques = techniques.union(clean_techs)\n",
    "    print('Ok')"
   ]
  },
  {
   "cell_type": "code",
   "execution_count": null,
   "metadata": {
    "collapsed": true
   },
   "outputs": [],
   "source": [
    "\n",
    "# with open('data/ingredients/wikipedia_techniques.txt', 'w') as f:\n",
    "#     f.write('\\n'.join(sorted(techniques)))"
   ]
  }
 ],
 "metadata": {
  "kernelspec": {
   "display_name": "Python 3",
   "language": "python",
   "name": "python3"
  },
  "language_info": {
   "codemirror_mode": {
    "name": "ipython",
    "version": 3
   },
   "file_extension": ".py",
   "mimetype": "text/x-python",
   "name": "python",
   "nbconvert_exporter": "python",
   "pygments_lexer": "ipython3",
   "version": "3.4.3"
  }
 },
 "nbformat": 4,
 "nbformat_minor": 0
}
