{
 "cells": [
  {
   "cell_type": "code",
   "execution_count": 1,
   "metadata": {
    "collapsed": false
   },
   "outputs": [],
   "source": [
    "import requests\n",
    "from bs4 import BeautifulSoup\n",
    "from nltk.stem import WordNetLemmatizer"
   ]
  },
  {
   "cell_type": "code",
   "execution_count": 2,
   "metadata": {
    "collapsed": true
   },
   "outputs": [],
   "source": [
    "def infinitive(words):\n",
    "    aux = []\n",
    "    lemmatizer = WordNetLemmatizer()\n",
    "    word_list = words.split()\n",
    "    for word in word_list:\n",
    "        if word != 'cook' and word != 'cooking':\n",
    "            if word.endswith('ing'):\n",
    "                aux.append(lemmatizer.lemmatize(word.lower(), 'v'))\n",
    "            else:\n",
    "                aux.append(word.lower())\n",
    "    result = ' '.join(aux)\n",
    "    return result"
   ]
  },
  {
   "cell_type": "code",
   "execution_count": 3,
   "metadata": {
    "collapsed": false
   },
   "outputs": [],
   "source": [
    "techniques = set()"
   ]
  },
  {
   "cell_type": "code",
   "execution_count": 4,
   "metadata": {
    "collapsed": true
   },
   "outputs": [],
   "source": [
    "def clean_1(l):\n",
    "    r = []\n",
    "    for e in l:\n",
    "        if e not in [\n",
    "            'Template:cooking techniques',\n",
    "            'List of cooking techniques',\n",
    "            'List of twice-baked foods',\n",
    "            'Low-temperature cooking'\n",
    "        ]:\n",
    "            x = e.strip().lower().replace('_', ' ')\n",
    "            x = x.split(' (')[0]\n",
    "            x = infinitive(x)\n",
    "            r.append(x)\n",
    "    return r"
   ]
  },
  {
   "cell_type": "code",
   "execution_count": 5,
   "metadata": {
    "collapsed": false
   },
   "outputs": [],
   "source": [
    "url = 'https://en.wikipedia.org/wiki/Category:Cooking_techniques'\n",
    "response = requests.get(url)\n",
    "if response.ok:\n",
    "    soup = BeautifulSoup(response.content, 'html.parser')\n",
    "    elems = soup.select('div#mw-pages div.mw-category-group ul li a')\n",
    "    techs = map(lambda x: x['title'], elems)\n",
    "    clean_techs = clean_1(techs)\n",
    "    techniques = techniques.union(clean_techs)"
   ]
  },
  {
   "cell_type": "code",
   "execution_count": 6,
   "metadata": {
    "collapsed": false
   },
   "outputs": [],
   "source": [
    "def clean_2(l):\n",
    "    r = []\n",
    "    for e in l:\n",
    "        if e not in [\n",
    "            't',\n",
    "            'e',\n",
    "            'modern',\n",
    "            'traditional',\n",
    "            'List of cooking appliances',\n",
    "            'Outdoor cooking',\n",
    "            'Food preparation',\n",
    "            'Food preservation',\n",
    "            'Food safety'\n",
    "        ]:\n",
    "            x = e.strip().lower().replace('_', ' ')\n",
    "            if '(' in x:\n",
    "                x1, x2 = x.split('(')\n",
    "                x1 = infinitive(x1[:-1])\n",
    "                x2 = infinitive(x2[:-1])\n",
    "                r.append(x1)\n",
    "                r.append(x2)\n",
    "            elif '/' in x:\n",
    "                x1, x2 = x.split('/')\n",
    "                x1 = infinitive(x1)\n",
    "                x2 = infinitive(x2)\n",
    "                r.append(x1)\n",
    "                r.append(x2)\n",
    "            else:\n",
    "                x = infinitive(x)\n",
    "                r.append(x)\n",
    "    return r"
   ]
  },
  {
   "cell_type": "code",
   "execution_count": 7,
   "metadata": {
    "collapsed": false
   },
   "outputs": [],
   "source": [
    "url = 'https://en.wikipedia.org/wiki/Template:Cooking_techniques'\n",
    "response = requests.get(url)\n",
    "if response.ok:\n",
    "    soup = BeautifulSoup(response.content, 'html.parser')\n",
    "    elems = soup.select('div#mw-content-text table ul li a')\n",
    "    techs = map(lambda x: x.string, elems)\n",
    "    clean_techs = clean_2(techs)\n",
    "    techniques = techniques.union(clean_techs)"
   ]
  },
  {
   "cell_type": "code",
   "execution_count": 8,
   "metadata": {
    "collapsed": true
   },
   "outputs": [],
   "source": [
    "def clean_3(l):\n",
    "    r = []\n",
    "    for e in l:\n",
    "        if e not in [\n",
    "            'List of culinary knife cuts',\n",
    "        ]:\n",
    "            x = e.strip().lower().replace('_', ' ')\n",
    "            x = infinitive(x)\n",
    "            r.append(x)\n",
    "    return r"
   ]
  },
  {
   "cell_type": "code",
   "execution_count": 9,
   "metadata": {
    "collapsed": false
   },
   "outputs": [],
   "source": [
    "url = 'https://en.wikipedia.org/wiki/Category:Cutting_techniques_(cooking)'\n",
    "response = requests.get(url)\n",
    "if response.ok:\n",
    "    soup = BeautifulSoup(response.content, 'html.parser')\n",
    "    elems = soup.select('div#mw-pages div.mw-category-group ul li a')\n",
    "    techs = map(lambda x: x['title'], elems)\n",
    "    clean_techs = clean_3(techs)\n",
    "    techniques = techniques.union(clean_techs)"
   ]
  },
  {
   "cell_type": "code",
   "execution_count": 10,
   "metadata": {
    "collapsed": true
   },
   "outputs": [],
   "source": [
    "def clean_4(l):\n",
    "    r = []\n",
    "    for e in l:\n",
    "        if e not in [\n",
    "            'Chinese cooking techniques',\n",
    "        ]:\n",
    "            x = e.strip().lower().replace('_', ' ')\n",
    "            x = x.split(' (')[0]\n",
    "            x = infinitive(x)\n",
    "            r.append(x)\n",
    "    return r"
   ]
  },
  {
   "cell_type": "code",
   "execution_count": 11,
   "metadata": {
    "collapsed": false
   },
   "outputs": [],
   "source": [
    "url = 'https://en.wikipedia.org/wiki/List_of_cooking_techniques'\n",
    "response = requests.get(url)\n",
    "if response.ok:\n",
    "    soup = BeautifulSoup(response.content, 'html.parser')\n",
    "    elems = soup.select('div#content h3 ~ ul:nth-of-type(1) li')\n",
    "    elems_aux = map(lambda x: x.find('a'), elems)\n",
    "    techs = map(lambda x: x.string, elems_aux)\n",
    "    clean_techs = clean_4(techs)\n",
    "    techniques = techniques.union(clean_techs)"
   ]
  },
  {
   "cell_type": "code",
   "execution_count": 116,
   "metadata": {
    "collapsed": true
   },
   "outputs": [],
   "source": [
    "def clean_5(l):\n",
    "    r = []\n",
    "    for e in l:\n",
    "        x = e.strip().lower().replace('_', ' ')\n",
    "        if 'or' in x:\n",
    "            x1, x2 = x.split(' or ')\n",
    "            x1 = infinitive(x1)\n",
    "            x2 = infinitive(x2)\n",
    "            r.append(x1)\n",
    "            r.append(x2)\n",
    "        else:\n",
    "            x = infinitive(x)\n",
    "            r.append(x)\n",
    "    return r"
   ]
  },
  {
   "cell_type": "code",
   "execution_count": 119,
   "metadata": {
    "collapsed": false
   },
   "outputs": [],
   "source": [
    "url = 'https://en.wikipedia.org/wiki/Chinese_cooking_techniques'\n",
    "response = requests.get(url)\n",
    "if response.ok:\n",
    "    soup = BeautifulSoup(response.content, 'html.parser')\n",
    "    elems = soup.select('div#bodyContent table.wikitable tr > td:nth-of-type(1)')\n",
    "    techs = map(lambda x: x.text, elems)\n",
    "    clean_techs = clean_5(techs)\n",
    "    techniques = techniques.union(clean_techs)"
   ]
  },
  {
   "cell_type": "code",
   "execution_count": null,
   "metadata": {
    "collapsed": true
   },
   "outputs": [],
   "source": [
    "\n",
    "# with open('data/ingredients/wikipedia_techniques.txt', 'w') as f:\n",
    "#     f.write('\\n'.join(sorted(techniques)))"
   ]
  }
 ],
 "metadata": {
  "kernelspec": {
   "display_name": "Python 3",
   "language": "python",
   "name": "python3"
  },
  "language_info": {
   "codemirror_mode": {
    "name": "ipython",
    "version": 3
   },
   "file_extension": ".py",
   "mimetype": "text/x-python",
   "name": "python",
   "nbconvert_exporter": "python",
   "pygments_lexer": "ipython3",
   "version": "3.4.3"
  }
 },
 "nbformat": 4,
 "nbformat_minor": 0
}
