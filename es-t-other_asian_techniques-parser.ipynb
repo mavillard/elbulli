{
 "cells": [
  {
   "cell_type": "code",
   "execution_count": 2,
   "metadata": {
    "collapsed": false
   },
   "outputs": [
    {
     "data": {
      "text/plain": [
       "4"
      ]
     },
     "execution_count": 2,
     "metadata": {},
     "output_type": "execute_result"
    }
   ],
   "source": [
    "# http://japonismo.com/blog/estilos-cocina-japonesa\n",
    "techniques1 = set(map(lambda x: x.lower(), [\n",
    "    'yakimono o asado a la plancha o asado a la parrilla', 'agemono o frituras', 'nimono o estofados',\n",
    "    'nabemono o cocinado en cazuela', 'itamemono o salteados', 'suimono o shirumono o sopa', 'tsukemono o encurtidos',\n",
    "    'sunomono o avinagrados o aliñados con vinagre', 'aemono o ensaladas', 'namamono o crudos'\n",
    "]))\n",
    "len(techniques1)"
   ]
  },
  {
   "cell_type": "code",
   "execution_count": 2,
   "metadata": {
    "collapsed": false
   },
   "outputs": [
    {
     "data": {
      "text/plain": [
       "4"
      ]
     },
     "execution_count": 2,
     "metadata": {},
     "output_type": "execute_result"
    }
   ],
   "source": [
    "# https://es.wikipedia.org/wiki/Gastronomía_de_Japón\n",
    "techniques2 = set(map(lambda x: x.lower(), [\n",
    "    'Agemono o frito', 'Donburi', 'Yakimono o asado en plancha', 'Nabemono o cocinado en cazuela', 'Men-rui o Menrui',\n",
    "    'Gohanmono', 'Sashimi o crudo', 'Suimono o Shirumono o sopa', 'Wagashi', 'Dagashi', 'Yogashi'\n",
    "]))\n",
    "len(techniques2)"
   ]
  },
  {
   "cell_type": "code",
   "execution_count": null,
   "metadata": {
    "collapsed": true
   },
   "outputs": [],
   "source": [
    "# https://www.facebook.com/ExplorandoLaVerdaderaComidaChinaMilenaria/posts/531252260238392\n",
    "techniques3 = set(map(lambda x: x.lower(), [\n",
    "    'a baja temperatura', 'chao o salteado o wok', 'bao', 'zheng o al vapor', 'jiang o a la plancha', \n",
    "    'zhu o hervir', 'zha o freir', 'shao o braseado', 'HongShao', 'BaiShao', 'GanShao',\n",
    "    'men o braseado o a la brasa', 'dun o guisado', 'lu', 'kao o asar',\n",
    "]))\n",
    "len(techniques3)"
   ]
  },
  {
   "cell_type": "code",
   "execution_count": null,
   "metadata": {
    "collapsed": true
   },
   "outputs": [],
   "source": [
    "# http://www.gastronoming.com/2013/09/04/gastronomia-asiatica-las-cocinas-de-china/\n",
    "techniques4 = set(map(lambda x: x.lower(), [\n",
    "    'Chuan o Szechuan o Sichuan', 'Lu o Shandong', 'Yue o Guangzhou o Guandong o cantonesa', 'Min o Fujian',\n",
    "    'Su o Jiangsu', 'Xiang o Hunan', 'Hui o Anhui', 'Jing o Zhejiang',\n",
    "]))\n",
    "len(techniques4)"
   ]
  },
  {
   "cell_type": "code",
   "execution_count": null,
   "metadata": {
    "collapsed": true
   },
   "outputs": [],
   "source": [
    "# http://www.slideshare.net/mcrivero/cocina-china\n",
    "techniques5 = set(map(lambda x: x.lower(), [\n",
    "    'Lu o Shandong', 'Yue o Guangzhou', 'Chuan o Szechuan o Sichuan', 'Xiang o Hunan', 'Min o Fujian', 'Zhe o Zhejiang',\n",
    "    'Su o Jiangsu', 'Wan o Anhui',\n",
    "]))\n",
    "len(techniques5)"
   ]
  },
  {
   "cell_type": "code",
   "execution_count": null,
   "metadata": {
    "collapsed": true
   },
   "outputs": [],
   "source": [
    "# http://www.viaje-a-china.com/cultura/tecnicas-de-cocina-china.htm\n",
    "techniques6 = set(map(lambda x: x.lower(), [\n",
    "    'sofreir o sofrito', 'stir-fry', 'freir o frito', 'al vapor', 'guiso rojo o cocinado rojo', 'hervir o hervido',\n",
    "    'asar o asado',\n",
    "]))\n",
    "len(techniques6)"
   ]
  },
  {
   "cell_type": "code",
   "execution_count": null,
   "metadata": {
    "collapsed": true
   },
   "outputs": [],
   "source": [
    "# www.slideshare.net/twilight27jazz/tecnicas-culinarias-de-asia\n",
    "techniques7 = set(map(lambda x: x.lower(), [\n",
    "    'tandori', 'yakitori', 'salazón'\n",
    "]))\n",
    "len(techniques7)"
   ]
  }
 ],
 "metadata": {
  "kernelspec": {
   "display_name": "Python 3",
   "language": "python",
   "name": "python3"
  },
  "language_info": {
   "codemirror_mode": {
    "name": "ipython",
    "version": 3
   },
   "file_extension": ".py",
   "mimetype": "text/x-python",
   "name": "python",
   "nbconvert_exporter": "python",
   "pygments_lexer": "ipython3",
   "version": "3.4.3"
  }
 },
 "nbformat": 4,
 "nbformat_minor": 0
}
