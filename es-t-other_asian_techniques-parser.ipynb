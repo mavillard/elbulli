{
 "cells": [
  {
   "cell_type": "code",
   "execution_count": 1,
   "metadata": {
    "collapsed": false
   },
   "outputs": [
    {
     "data": {
      "text/plain": [
       "10"
      ]
     },
     "execution_count": 1,
     "metadata": {},
     "output_type": "execute_result"
    }
   ],
   "source": [
    "# http://japonismo.com/blog/estilos-cocina-japonesa\n",
    "techniques1 = set(map(lambda x: x.lower(), [\n",
    "    'yakimono o asado a la plancha o asado a la parrilla', 'agemono o frituras', 'nimono o estofados',\n",
    "    'nabemono o cocinado en cazuela', 'itamemono o salteados', 'suimono o shirumono o sopa', 'tsukemono o encurtidos o encurtido',\n",
    "    'sunomono o avinagrados o aliñados con vinagre', 'aemono o ensaladas', 'namamono o crudos'\n",
    "]))\n",
    "len(techniques1)"
   ]
  },
  {
   "cell_type": "code",
   "execution_count": 2,
   "metadata": {
    "collapsed": false
   },
   "outputs": [
    {
     "data": {
      "text/plain": [
       "11"
      ]
     },
     "execution_count": 2,
     "metadata": {},
     "output_type": "execute_result"
    }
   ],
   "source": [
    "# https://es.wikipedia.org/wiki/Gastronomía_de_Japón\n",
    "techniques2 = set(map(lambda x: x.lower(), [\n",
    "    'Agemono o frito', 'Donburi', 'Yakimono o asado en plancha', 'Nabemono o cocinado en cazuela', 'Men-rui o Menrui',\n",
    "    'Gohanmono', 'Sashimi o crudo', 'Suimono o Shirumono o sopa', 'Wagashi', 'Dagashi', 'Yogashi'\n",
    "]))\n",
    "len(techniques2)"
   ]
  },
  {
   "cell_type": "code",
   "execution_count": 3,
   "metadata": {
    "collapsed": false
   },
   "outputs": [
    {
     "data": {
      "text/plain": [
       "15"
      ]
     },
     "execution_count": 3,
     "metadata": {},
     "output_type": "execute_result"
    }
   ],
   "source": [
    "# https://www.facebook.com/ExplorandoLaVerdaderaComidaChinaMilenaria/posts/531252260238392\n",
    "techniques3 = set(map(lambda x: x.lower(), [\n",
    "    'a baja temperatura', 'chao o salteado o wok', 'bao', 'zheng o al vapor', 'jiang o a la plancha', \n",
    "    'zhu o hervir', 'zha o freir', 'shao o braseado', 'HongShao', 'BaiShao', 'GanShao',\n",
    "    'men o braseado o a la brasa', 'dun o guisado', 'lu', 'kao o asar',\n",
    "]))\n",
    "len(techniques3)"
   ]
  },
  {
   "cell_type": "code",
   "execution_count": 4,
   "metadata": {
    "collapsed": false
   },
   "outputs": [
    {
     "data": {
      "text/plain": [
       "8"
      ]
     },
     "execution_count": 4,
     "metadata": {},
     "output_type": "execute_result"
    }
   ],
   "source": [
    "# http://www.gastronoming.com/2013/09/04/gastronomia-asiatica-las-cocinas-de-china/\n",
    "techniques4 = set(map(lambda x: x.lower(), [\n",
    "    'Chuan o Szechuan o Sichuan', 'Lu o Shandong', 'Yue o Guangzhou o Guandong o cantonesa', 'Min o Fujian',\n",
    "    'Su o Jiangsu', 'Xiang o Hunan', 'Hui o Anhui', 'Jing o Zhejiang',\n",
    "]))\n",
    "len(techniques4)"
   ]
  },
  {
   "cell_type": "code",
   "execution_count": 5,
   "metadata": {
    "collapsed": false
   },
   "outputs": [
    {
     "data": {
      "text/plain": [
       "8"
      ]
     },
     "execution_count": 5,
     "metadata": {},
     "output_type": "execute_result"
    }
   ],
   "source": [
    "# http://www.slideshare.net/mcrivero/cocina-china\n",
    "techniques5 = set(map(lambda x: x.lower(), [\n",
    "    'Lu o Shandong', 'Yue o Guangzhou', 'Chuan o Szechuan o Sichuan', 'Xiang o Hunan', 'Min o Fujian', 'Zhe o Zhejiang',\n",
    "    'Su o Jiangsu', 'Wan o Anhui',\n",
    "]))\n",
    "len(techniques5)"
   ]
  },
  {
   "cell_type": "code",
   "execution_count": 6,
   "metadata": {
    "collapsed": false
   },
   "outputs": [
    {
     "data": {
      "text/plain": [
       "7"
      ]
     },
     "execution_count": 6,
     "metadata": {},
     "output_type": "execute_result"
    }
   ],
   "source": [
    "# http://www.viaje-a-china.com/cultura/tecnicas-de-cocina-china.htm\n",
    "techniques6 = set(map(lambda x: x.lower(), [\n",
    "    'sofreir o sofrito', 'stir-fry', 'freir o frito', 'al vapor', 'guiso rojo o cocinado rojo', 'hervir o hervido',\n",
    "    'asar o asado',\n",
    "]))\n",
    "len(techniques6)"
   ]
  },
  {
   "cell_type": "code",
   "execution_count": 7,
   "metadata": {
    "collapsed": false
   },
   "outputs": [
    {
     "data": {
      "text/plain": [
       "3"
      ]
     },
     "execution_count": 7,
     "metadata": {},
     "output_type": "execute_result"
    }
   ],
   "source": [
    "# www.slideshare.net/twilight27jazz/tecnicas-culinarias-de-asia\n",
    "techniques7 = set(map(lambda x: x.lower(), [\n",
    "    'tandori', 'yakitori', 'salazón'\n",
    "]))\n",
    "len(techniques7)"
   ]
  },
  {
   "cell_type": "code",
   "execution_count": 8,
   "metadata": {
    "collapsed": true
   },
   "outputs": [],
   "source": [
    "techniques = techniques1.union(techniques2) \\\n",
    "                        .union(techniques3) \\\n",
    "                        .union(techniques4) \\\n",
    "                        .union(techniques5) \\\n",
    "                        .union(techniques6) \\\n",
    "                        .union(techniques7)\n",
    "techniques = sorted(techniques)"
   ]
  },
  {
   "cell_type": "code",
   "execution_count": 9,
   "metadata": {
    "collapsed": false
   },
   "outputs": [
    {
     "data": {
      "text/plain": [
       "55"
      ]
     },
     "execution_count": 9,
     "metadata": {},
     "output_type": "execute_result"
    }
   ],
   "source": [
    "len(techniques)"
   ]
  },
  {
   "cell_type": "code",
   "execution_count": 10,
   "metadata": {
    "collapsed": false
   },
   "outputs": [
    {
     "data": {
      "text/plain": [
       "['a baja temperatura',\n",
       " 'aemono o ensaladas',\n",
       " 'agemono o frito',\n",
       " 'agemono o frituras',\n",
       " 'al vapor',\n",
       " 'asar o asado',\n",
       " 'baishao',\n",
       " 'bao',\n",
       " 'chao o salteado o wok',\n",
       " 'chuan o szechuan o sichuan',\n",
       " 'dagashi',\n",
       " 'donburi',\n",
       " 'dun o guisado',\n",
       " 'freir o frito',\n",
       " 'ganshao',\n",
       " 'gohanmono',\n",
       " 'guiso rojo o cocinado rojo',\n",
       " 'hervir o hervido',\n",
       " 'hongshao',\n",
       " 'hui o anhui',\n",
       " 'itamemono o salteados',\n",
       " 'jiang o a la plancha',\n",
       " 'jing o zhejiang',\n",
       " 'kao o asar',\n",
       " 'lu',\n",
       " 'lu o shandong',\n",
       " 'men o braseado o a la brasa',\n",
       " 'men-rui o menrui',\n",
       " 'min o fujian',\n",
       " 'nabemono o cocinado en cazuela',\n",
       " 'namamono o crudos',\n",
       " 'nimono o estofados',\n",
       " 'salazón',\n",
       " 'sashimi o crudo',\n",
       " 'shao o braseado',\n",
       " 'sofreir o sofrito',\n",
       " 'stir-fry',\n",
       " 'su o jiangsu',\n",
       " 'suimono o shirumono o sopa',\n",
       " 'sunomono o avinagrados o aliñados con vinagre',\n",
       " 'tandori',\n",
       " 'tsukemono o encurtidos o encurtido',\n",
       " 'wagashi',\n",
       " 'wan o anhui',\n",
       " 'xiang o hunan',\n",
       " 'yakimono o asado a la plancha o asado a la parrilla',\n",
       " 'yakimono o asado en plancha',\n",
       " 'yakitori',\n",
       " 'yogashi',\n",
       " 'yue o guangzhou',\n",
       " 'yue o guangzhou o guandong o cantonesa',\n",
       " 'zha o freir',\n",
       " 'zhe o zhejiang',\n",
       " 'zheng o al vapor',\n",
       " 'zhu o hervir']"
      ]
     },
     "execution_count": 10,
     "metadata": {},
     "output_type": "execute_result"
    }
   ],
   "source": [
    "techniques"
   ]
  },
  {
   "cell_type": "code",
   "execution_count": 11,
   "metadata": {
    "collapsed": true
   },
   "outputs": [],
   "source": [
    "with open('data/techniques/es_other_asian_techniques.txt', 'w') as f:\n",
    "    f.write('\\n'.join(techniques))"
   ]
  },
  {
   "cell_type": "code",
   "execution_count": null,
   "metadata": {
    "collapsed": true
   },
   "outputs": [],
   "source": []
  }
 ],
 "metadata": {
  "kernelspec": {
   "display_name": "Python 3",
   "language": "python",
   "name": "python3"
  },
  "language_info": {
   "codemirror_mode": {
    "name": "ipython",
    "version": 3
   },
   "file_extension": ".py",
   "mimetype": "text/x-python",
   "name": "python",
   "nbconvert_exporter": "python",
   "pygments_lexer": "ipython3",
   "version": "3.4.3"
  }
 },
 "nbformat": 4,
 "nbformat_minor": 0
}
