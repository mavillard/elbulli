{
 "cells": [
  {
   "cell_type": "code",
   "execution_count": 1,
   "metadata": {
    "collapsed": false
   },
   "outputs": [],
   "source": [
    "import requests\n",
    "from bs4 import BeautifulSoup"
   ]
  },
  {
   "cell_type": "code",
   "execution_count": 2,
   "metadata": {
    "collapsed": false
   },
   "outputs": [],
   "source": [
    "with open('data/techniques/en/wikipedia/wikipedia_category_cooking_techniques.html', 'w') as f:\n",
    "    url = 'https://en.wikipedia.org/wiki/Category:Cooking_techniques'\n",
    "    response = requests.get(url)\n",
    "    if response.ok:\n",
    "        soup = BeautifulSoup(response.content, 'html.parser')\n",
    "        f.write(soup.prettify())\n",
    "\n",
    "with open('data/techniques/en/wikipedia/wikipedia_template_cooking_techniques.html', 'w') as f:\n",
    "    url = 'https://en.wikipedia.org/wiki/Template:Cooking_techniques'\n",
    "    response = requests.get(url)\n",
    "    if response.ok:\n",
    "        soup = BeautifulSoup(response.content, 'html.parser')\n",
    "        f.write(soup.prettify())\n",
    "\n",
    "with open('data/techniques/en/wikipedia/wikipedia_category_cutting_techniques.html', 'w') as f:\n",
    "    url = 'https://en.wikipedia.org/wiki/Category:Cutting_techniques_(cooking)'\n",
    "    response = requests.get(url)\n",
    "    if response.ok:\n",
    "        soup = BeautifulSoup(response.content, 'html.parser')\n",
    "        f.write(soup.prettify())\n",
    "\n",
    "with open('data/techniques/en/wikipedia/wikipedia_list_cooking_techniques.html', 'w') as f:\n",
    "    url = 'https://en.wikipedia.org/wiki/List_of_cooking_techniques'\n",
    "    response = requests.get(url)\n",
    "    if response.ok:\n",
    "        soup = BeautifulSoup(response.content, 'html.parser')\n",
    "        f.write(soup.prettify())\n",
    "\n",
    "with open('data/techniques/en/wikipedia/wikipedia_chinese_cooking_techniques.html', 'w') as f:\n",
    "    url = 'https://en.wikipedia.org/wiki/Chinese_cooking_techniques'\n",
    "    response = requests.get(url)\n",
    "    if response.ok:\n",
    "        soup = BeautifulSoup(response.content, 'html.parser')\n",
    "        f.write(soup.prettify())\n",
    "\n",
    "with open('data/techniques/en/wikipedia/wikipedia_outline_food_preparation.html', 'w') as f:\n",
    "    url = 'https://en.wikipedia.org/wiki/Outline_of_food_preparation'\n",
    "    response = requests.get(url)\n",
    "    if response.ok:\n",
    "        soup = BeautifulSoup(response.content, 'html.parser')\n",
    "        f.write(soup.prettify())\n",
    "\n",
    "with open('data/techniques/en/wikipedia/wikipedia_cooking_methods.html', 'w') as f:\n",
    "    url = 'https://en.wikipedia.org/wiki/Cooking'\n",
    "    response = requests.get(url)\n",
    "    if response.ok:\n",
    "        soup = BeautifulSoup(response.content, 'html.parser')\n",
    "        f.write(soup.prettify())"
   ]
  },
  {
   "cell_type": "code",
   "execution_count": null,
   "metadata": {
    "collapsed": true
   },
   "outputs": [],
   "source": []
  }
 ],
 "metadata": {
  "kernelspec": {
   "display_name": "Python 3",
   "language": "python",
   "name": "python3"
  },
  "language_info": {
   "codemirror_mode": {
    "name": "ipython",
    "version": 3
   },
   "file_extension": ".py",
   "mimetype": "text/x-python",
   "name": "python",
   "nbconvert_exporter": "python",
   "pygments_lexer": "ipython3",
   "version": "3.4.3"
  }
 },
 "nbformat": 4,
 "nbformat_minor": 0
}
