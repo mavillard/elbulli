{
 "cells": [
  {
   "cell_type": "code",
   "execution_count": 17,
   "metadata": {
    "collapsed": false
   },
   "outputs": [],
   "source": [
    "import os\n",
    "\n",
    "from bs4 import BeautifulSoup"
   ]
  },
  {
   "cell_type": "code",
   "execution_count": 38,
   "metadata": {
    "collapsed": false
   },
   "outputs": [
    {
     "name": "stdout",
     "output_type": "stream",
     "text": [
      "6902\n",
      "\"Indian Naan I\"\n",
      "1 1/2 teaspoons active dry yeast\n",
      "2 cups bread flour\n",
      "1 teaspoon salt\n",
      "9 tablespoons water\n",
      "2 tablespoons clarified butter\n",
      "\n",
      "6903\n",
      "\"Grandma\\u0027s English Muffin Bread\"\n",
      "3 cups all-purpose flour\n",
      "2 1/4 teaspoons active dry yeast\n",
      "1/2 tablespoon white sugar\n",
      "1 teaspoon salt\n",
      "1/8 teaspoon baking powder\n",
      "1 cup warm milk\n",
      "1/4 cup water\n",
      "\n",
      "6905\n",
      "\"Apple Scones\"\n",
      "2 cups all-purpose flour\n",
      "1/4 cup white sugar\n",
      "2 teaspoons baking powder\n",
      "1/2 teaspoon baking soda\n",
      "1/2 teaspoon salt\n",
      "1/4 cup butter, chilled\n",
      "1 apple - peeled, cored and shredded\n",
      "1/2 cup milk\n",
      "2 tablespoons milk\n",
      "2 tablespoons white sugar\n",
      "1/2 teaspoon ground cinnamon\n",
      "\n",
      "6904\n",
      "\"Chocolate Filled Muffins\"\n",
      "2 cups all-purpose flour\n",
      "3/4 cup white sugar\n",
      "1/4 cup unsweetened cocoa powder\n",
      "3 teaspoons baking powder\n",
      "1/2 teaspoon salt\n",
      "1/2 teaspoon ground cinnamon\n",
      "1 egg\n",
      "1 cup milk\n",
      "1/3 cup vegetable oil\n",
      "1/4 cup instant powdered milk\n",
      "2 tablespoons hot water\n",
      "1 teaspoon butter\n",
      "1/4 teaspoon almond extract\n",
      "1 cup flaked coconut\n",
      "\n",
      "6901\n",
      "\"Zucchini Pineapple Loaf\"\n",
      "2 eggs\n",
      "1/2 cup vegetable oil\n",
      "1 cup white sugar\n",
      "1 cup grated zucchini\n",
      "1/2 cup crushed pineapple, drained\n",
      "1 teaspoon vanilla extract\n",
      "2 cups all-purpose flour\n",
      "1 teaspoon baking soda\n",
      "1/2 teaspoon baking powder\n",
      "1/2 teaspoon salt\n",
      "3/4 teaspoon ground cinnamon\n",
      "1/4 teaspoon ground nutmeg\n",
      "1/2 cup chopped walnuts\n",
      "\n"
     ]
    }
   ],
   "source": [
    "for folder_name in os.listdir('data/allrecipes/'):\n",
    "    folder_path = 'data/allrecipes/' + folder_name\n",
    "    for file_name in os.listdir(folder_path):\n",
    "        file_path = folder_path + '/' + file_name\n",
    "        with open(file_path) as f:\n",
    "            soup = BeautifulSoup(f.read(), 'html.parser')\n",
    "            info = soup.find('recipe-signup')\n",
    "            print(info['data-id'])\n",
    "            print(info['data-title'])\n",
    "            ingredients = soup.find_all('span', 'recipe-ingred_txt', 'itemprop=ingredient')\n",
    "            for ingredient in ingredients:\n",
    "                if 'itemprop' in ingredient.attrs and ingredient['itemprop'] == 'ingredients':\n",
    "                    print(ingredient.string.strip())\n",
    "            print()"
   ]
  },
  {
   "cell_type": "code",
   "execution_count": 4,
   "metadata": {
    "collapsed": false
   },
   "outputs": [
    {
     "name": "stdout",
     "output_type": "stream",
     "text": [
      "Total urls: 5\n",
      "Total recipes: 1\n",
      "Recipe errors: 0\n",
      "Response errors: 0\n"
     ]
    }
   ],
   "source": [
    "total_urls  = 0\n",
    "total_recipes = 0\n",
    "recipe_errors = 0\n",
    "response_errors = 0\n",
    "\n",
    "base_url = 'http://allrecipes.com/recipe/'\n",
    "lower_limit = 6663\n",
    "upper_limit = 246200\n",
    "# for ide in range(lower_limit, upper_limit + 1):\n",
    "for ide in range(6901, 6906):\n",
    "    try:\n",
    "        str_id = str(ide)\n",
    "        folder_path = 'data/allrecipes/' + str(ide // 1000 * 1000)\n",
    "        if not os.path.exists(folder_path):\n",
    "            os.makedirs(folder_path)\n",
    "        file_path = folder_path + '/' + str_id + '.html'\n",
    "        if not os.path.isfile(file_path):\n",
    "            url = base_url + str_id\n",
    "            response = requests.get(url)\n",
    "            if response.ok:\n",
    "                soup = BeautifulSoup(response.content, 'html.parser')\n",
    "                if is_a_valid_recipe(soup):\n",
    "                    with open(file_path, 'w') as f:\n",
    "                        f.write(soup.prettify())\n",
    "                        total_recipes += 1\n",
    "                else:\n",
    "                    recipe_errors += 1\n",
    "            else:\n",
    "                response_errors += 1\n",
    "    except:\n",
    "        pass\n",
    "    total_urls += 1\n",
    "    if total_urls % 1000 == 0:\n",
    "        print(total_urls, 'processed.')\n",
    "\n",
    "print('Total urls:', total_urls)\n",
    "print('Total recipes:', total_recipes)\n",
    "print('Recipe errors:', recipe_errors)\n",
    "print('Response errors:', response_errors)"
   ]
  },
  {
   "cell_type": "code",
   "execution_count": 15,
   "metadata": {
    "collapsed": false
   },
   "outputs": [],
   "source": [
    "url = 'http://allrecipes.com/recipe/139620'\n",
    "url = 'http://allrecipes.com/recipe//8919'\n",
    "r = requests.get(url, headers={'referer': 'http://allrecipes.com/recipes/231/world-cuisine/european/'})\n",
    "soup = BeautifulSoup(r.content, 'html.parser')"
   ]
  },
  {
   "cell_type": "code",
   "execution_count": 16,
   "metadata": {
    "collapsed": true
   },
   "outputs": [],
   "source": [
    "with open('test.html', 'w') as f:\n",
    "    f.write(soup.prettify())"
   ]
  },
  {
   "cell_type": "code",
   "execution_count": null,
   "metadata": {
    "collapsed": true
   },
   "outputs": [],
   "source": []
  }
 ],
 "metadata": {
  "kernelspec": {
   "display_name": "Python 3",
   "language": "python",
   "name": "python3"
  },
  "language_info": {
   "codemirror_mode": {
    "name": "ipython",
    "version": 3
   },
   "file_extension": ".py",
   "mimetype": "text/x-python",
   "name": "python",
   "nbconvert_exporter": "python",
   "pygments_lexer": "ipython3",
   "version": "3.4.3"
  }
 },
 "nbformat": 4,
 "nbformat_minor": 0
}
