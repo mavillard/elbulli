{
 "cells": [
  {
   "cell_type": "code",
   "execution_count": 1,
   "metadata": {
    "collapsed": false
   },
   "outputs": [
    {
     "data": {
      "text/plain": [
       "4"
      ]
     },
     "execution_count": 1,
     "metadata": {},
     "output_type": "execute_result"
    }
   ],
   "source": [
    "# http://www.muyinteresante.es/ciencia/articulo/cuatro-tecnicas-modernas-de-cocina-que-deberias-conocer-721372833429\n",
    "techniques1 = set(map(lambda x: x.lower(), [\n",
    "    'esferificación', 'rotavapor', 'nitrógeno líquido', 'olla a depresión',\n",
    "]))\n",
    "len(techniques1)"
   ]
  },
  {
   "cell_type": "code",
   "execution_count": 2,
   "metadata": {
    "collapsed": false
   },
   "outputs": [
    {
     "data": {
      "text/plain": [
       "5"
      ]
     },
     "execution_count": 2,
     "metadata": {},
     "output_type": "execute_result"
    }
   ],
   "source": [
    "# http://www.saberysabor.com/c/tecnicas-cocina-profesional\n",
    "techniques2 = set(map(lambda x: x.lower(), [\n",
    "    '3D', 'nitrógeno líquido', 'recapado', 'hidrolizado o hidrolización', 'al vacío',\n",
    "]))\n",
    "len(techniques2)"
   ]
  },
  {
   "cell_type": "code",
   "execution_count": 3,
   "metadata": {
    "collapsed": false
   },
   "outputs": [
    {
     "data": {
      "text/plain": [
       "6"
      ]
     },
     "execution_count": 3,
     "metadata": {},
     "output_type": "execute_result"
    }
   ],
   "source": [
    "# http://www.heraldo.es/noticias/sociedad/nuevas_tecnicas_para_mejorar_cocina_tradicional.html\n",
    "techniques3 = set(map(lambda x: x.lower(), [\n",
    "    'espesado', 'gelificacion', 'clarificación', 'nitrogeno líquido', 'al vacío', 'filtración',\n",
    "]))\n",
    "len(techniques3)"
   ]
  },
  {
   "cell_type": "code",
   "execution_count": 4,
   "metadata": {
    "collapsed": false
   },
   "outputs": [
    {
     "data": {
      "text/plain": [
       "10"
      ]
     },
     "execution_count": 4,
     "metadata": {},
     "output_type": "execute_result"
    }
   ],
   "source": [
    "# http://www.guiarepsol.com/es/gastronomia/top-de-gastronomia/decalogo-de-tecnicas-culinarias-de-vanguardia/\n",
    "techniques4 = set(map(lambda x: x.lower(), [\n",
    "    'Deconstrucción', 'Esferificación', 'Aires', 'Gelificante o gelificación', 'Nitrógeno líquido', 'Liofilización',\n",
    "    'Cocción al vacío o al vacío', 'Cocción a baja temperatura', '3D', 'Espumas',\n",
    "]))\n",
    "len(techniques4)"
   ]
  },
  {
   "cell_type": "code",
   "execution_count": 5,
   "metadata": {
    "collapsed": false
   },
   "outputs": [
    {
     "data": {
      "text/plain": [
       "6"
      ]
     },
     "execution_count": 5,
     "metadata": {},
     "output_type": "execute_result"
    }
   ],
   "source": [
    "# http://www.directoalpaladar.com/tag/tecnicas-de-cocina\n",
    "techniques5 = set(map(lambda x: x.lower(), [\n",
    "    'concassé/concasser', 'macerar', 'marinar', 'chiffonade', 'no knead bread', 'esfericación/sfericación'\n",
    "]))\n",
    "len(techniques5)"
   ]
  },
  {
   "cell_type": "code",
   "execution_count": 6,
   "metadata": {
    "collapsed": false
   },
   "outputs": [
    {
     "data": {
      "text/plain": [
       "7"
      ]
     },
     "execution_count": 6,
     "metadata": {},
     "output_type": "execute_result"
    }
   ],
   "source": [
    "# https://gastromolecular.wordpress.com/category/tecnicas/\n",
    "techniques6 = set(map(lambda x: x.lower(), [\n",
    "    'sifón', 'esferificación', 'emulsión', 'nitrogeno líquido', 'deconstrucción', 'construccionismo', 'gelificación'\n",
    "]))\n",
    "len(techniques6)"
   ]
  },
  {
   "cell_type": "code",
   "execution_count": 7,
   "metadata": {
    "collapsed": true
   },
   "outputs": [],
   "source": [
    "techniques = techniques1.union(techniques2) \\\n",
    "                        .union(techniques3) \\\n",
    "                        .union(techniques4) \\\n",
    "                        .union(techniques5) \\\n",
    "                        .union(techniques6)\n",
    "techniques = sorted(techniques)"
   ]
  },
  {
   "cell_type": "code",
   "execution_count": 8,
   "metadata": {
    "collapsed": false
   },
   "outputs": [
    {
     "data": {
      "text/plain": [
       "30"
      ]
     },
     "execution_count": 8,
     "metadata": {},
     "output_type": "execute_result"
    }
   ],
   "source": [
    "len(techniques)"
   ]
  },
  {
   "cell_type": "code",
   "execution_count": 9,
   "metadata": {
    "collapsed": false
   },
   "outputs": [
    {
     "data": {
      "text/plain": [
       "['3d',\n",
       " 'aires',\n",
       " 'al vacío',\n",
       " 'chiffonade',\n",
       " 'clarificación',\n",
       " 'cocción a baja temperatura',\n",
       " 'cocción al vacío o al vacío',\n",
       " 'concassé/concasser',\n",
       " 'construccionismo',\n",
       " 'deconstrucción',\n",
       " 'emulsión',\n",
       " 'esfericación/sfericación',\n",
       " 'esferificación',\n",
       " 'espesado',\n",
       " 'espumas',\n",
       " 'filtración',\n",
       " 'gelificacion',\n",
       " 'gelificación',\n",
       " 'gelificante o gelificación',\n",
       " 'hidrolizado o hidrolización',\n",
       " 'liofilización',\n",
       " 'macerar',\n",
       " 'marinar',\n",
       " 'nitrogeno líquido',\n",
       " 'nitrógeno líquido',\n",
       " 'no knead bread',\n",
       " 'olla a depresión',\n",
       " 'recapado',\n",
       " 'rotavapor',\n",
       " 'sifón']"
      ]
     },
     "execution_count": 9,
     "metadata": {},
     "output_type": "execute_result"
    }
   ],
   "source": [
    "techniques"
   ]
  },
  {
   "cell_type": "code",
   "execution_count": 10,
   "metadata": {
    "collapsed": true
   },
   "outputs": [],
   "source": [
    "with open('data/techniques/es_other_high_cuisine_techniques.txt', 'w') as f:\n",
    "    f.write('\\n'.join(techniques))"
   ]
  },
  {
   "cell_type": "code",
   "execution_count": null,
   "metadata": {
    "collapsed": true
   },
   "outputs": [],
   "source": []
  }
 ],
 "metadata": {
  "kernelspec": {
   "display_name": "Python 3",
   "language": "python",
   "name": "python3"
  },
  "language_info": {
   "codemirror_mode": {
    "name": "ipython",
    "version": 3
   },
   "file_extension": ".py",
   "mimetype": "text/x-python",
   "name": "python",
   "nbconvert_exporter": "python",
   "pygments_lexer": "ipython3",
   "version": "3.4.3"
  }
 },
 "nbformat": 4,
 "nbformat_minor": 0
}
