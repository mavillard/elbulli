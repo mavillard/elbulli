{
 "cells": [
  {
   "cell_type": "code",
   "execution_count": 2,
   "metadata": {
    "collapsed": false
   },
   "outputs": [
    {
     "data": {
      "text/plain": [
       "4"
      ]
     },
     "execution_count": 2,
     "metadata": {},
     "output_type": "execute_result"
    }
   ],
   "source": [
    "# http://www.muyinteresante.es/ciencia/articulo/cuatro-tecnicas-modernas-de-cocina-que-deberias-conocer-721372833429\n",
    "techniques1 = set(map(lambda x: x.lower(), [\n",
    "    'esferificación', 'rotavapor', 'nitrógeno líquido', 'olla a depresión',\n",
    "]))\n",
    "len(techniques1)"
   ]
  },
  {
   "cell_type": "code",
   "execution_count": 2,
   "metadata": {
    "collapsed": false
   },
   "outputs": [
    {
     "data": {
      "text/plain": [
       "4"
      ]
     },
     "execution_count": 2,
     "metadata": {},
     "output_type": "execute_result"
    }
   ],
   "source": [
    "# http://www.saberysabor.com/c/tecnicas-cocina-profesional\n",
    "techniques2 = set(map(lambda x: x.lower(), [\n",
    "    '3D', 'nitrógeno líquido', 'recapado', 'hidrolizado o hidrolización', 'al vacío',\n",
    "]))\n",
    "len(techniques2)"
   ]
  },
  {
   "cell_type": "code",
   "execution_count": 2,
   "metadata": {
    "collapsed": false
   },
   "outputs": [
    {
     "data": {
      "text/plain": [
       "4"
      ]
     },
     "execution_count": 2,
     "metadata": {},
     "output_type": "execute_result"
    }
   ],
   "source": [
    "# https://gastromolecular.wordpress.com/category/tecnicas/\n",
    "techniques6 = set(map(lambda x: x.lower(), [\n",
    "    'sifón', 'esferificación', 'emulsión', 'nitrogeno líquido', 'deconstrucción', 'construccionismo', 'gelificación'\n",
    "]))\n",
    "len(techniques6)"
   ]
  },
  {
   "cell_type": "code",
   "execution_count": 2,
   "metadata": {
    "collapsed": false
   },
   "outputs": [
    {
     "data": {
      "text/plain": [
       "4"
      ]
     },
     "execution_count": 2,
     "metadata": {},
     "output_type": "execute_result"
    }
   ],
   "source": [
    "# http://www.heraldo.es/noticias/sociedad/nuevas_tecnicas_para_mejorar_cocina_tradicional.html\n",
    "techniques3 = set(map(lambda x: x.lower(), [\n",
    "    'espesado', 'gelificacion', 'clarificación', 'nitrogeno líquido', 'al vacío', 'filtración',\n",
    "]))\n",
    "len(techniques3)"
   ]
  },
  {
   "cell_type": "code",
   "execution_count": 2,
   "metadata": {
    "collapsed": false
   },
   "outputs": [
    {
     "data": {
      "text/plain": [
       "4"
      ]
     },
     "execution_count": 2,
     "metadata": {},
     "output_type": "execute_result"
    }
   ],
   "source": [
    "# http://www.guiarepsol.com/es/gastronomia/top-de-gastronomia/decalogo-de-tecnicas-culinarias-de-vanguardia/\n",
    "techniques4 = set(map(lambda x: x.lower(), [\n",
    "    'Deconstrucción', 'Esferificación', 'Aires', 'Gelificante o gelificación', 'Nitrógeno líquido', 'Liofilización',\n",
    "    'Cocción al vacío', 'Cocción a baja temperatura', '3D', 'Espumas',\n",
    "]))\n",
    "len(techniques4)"
   ]
  },
  {
   "cell_type": "code",
   "execution_count": 2,
   "metadata": {
    "collapsed": false
   },
   "outputs": [
    {
     "data": {
      "text/plain": [
       "4"
      ]
     },
     "execution_count": 2,
     "metadata": {},
     "output_type": "execute_result"
    }
   ],
   "source": [
    "# http://www.directoalpaladar.com/tag/tecnicas-de-cocina\n",
    "techniques5 = set(map(lambda x: x.lower(), [\n",
    "    'concassé/concasser', 'macerar', 'marinar', 'chiffonade', 'no knead bread', 'esfericación/sfericación'\n",
    "]))\n",
    "len(techniques5)"
   ]
  }
 ],
 "metadata": {
  "kernelspec": {
   "display_name": "Python 3",
   "language": "python",
   "name": "python3"
  },
  "language_info": {
   "codemirror_mode": {
    "name": "ipython",
    "version": 3
   },
   "file_extension": ".py",
   "mimetype": "text/x-python",
   "name": "python",
   "nbconvert_exporter": "python",
   "pygments_lexer": "ipython3",
   "version": "3.4.3"
  }
 },
 "nbformat": 4,
 "nbformat_minor": 0
}
