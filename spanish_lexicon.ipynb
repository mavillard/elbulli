{
 "cells": [
  {
   "cell_type": "code",
   "execution_count": 1,
   "metadata": {
    "collapsed": false
   },
   "outputs": [],
   "source": [
    "import itertools\n",
    "import os\n",
    "import pickle\n",
    "from collections import defaultdict\n",
    "\n",
    "import networkx as nx\n",
    "import nltk\n",
    "from nltk.corpus import cess_esp\n",
    "from nltk.corpus import wordnet as wn\n",
    "from pymongo import MongoClient"
   ]
  },
  {
   "cell_type": "code",
   "execution_count": 65,
   "metadata": {
    "collapsed": true
   },
   "outputs": [],
   "source": [
    "client = MongoClient()\n",
    "client.drop_database('lexicon')\n",
    "db = client.lexicon"
   ]
  },
  {
   "cell_type": "markdown",
   "metadata": {},
   "source": [
    "# Lexicon"
   ]
  },
  {
   "cell_type": "code",
   "execution_count": 66,
   "metadata": {
    "collapsed": false
   },
   "outputs": [
    {
     "name": "stdout",
     "output_type": "stream",
     "text": [
      "CPU times: user 12.6 s, sys: 72 ms, total: 12.7 s\n",
      "Wall time: 19 s\n"
     ]
    }
   ],
   "source": [
    "%%time\n",
    "\n",
    "import csv\n",
    "\n",
    "with open('data/sp_lexicon.csv') as f:\n",
    "    reader = csv.reader(\n",
    "        f,\n",
    "        delimiter=' ',\n",
    "    )\n",
    "    docs = []\n",
    "    count = 0\n",
    "    for row in reader:\n",
    "        for i in range(1, len(row[1:]), 2):\n",
    "            entry = {}\n",
    "            entry['flexion'] = row[0].lower()\n",
    "            entry['lemma'] = row[i].lower()\n",
    "            entry['eagle'] = row[i+1].lower()\n",
    "            docs.append(entry)\n",
    "            count += 1\n",
    "        if count % 1000 == 0:\n",
    "            db.es_lexicon.insert_many(docs)\n",
    "            docs = []\n",
    "    db.es_lexicon.insert_many(docs)\n",
    "    docs = []"
   ]
  },
  {
   "cell_type": "code",
   "execution_count": 15,
   "metadata": {
    "collapsed": false
   },
   "outputs": [
    {
     "data": {
      "text/plain": [
       "668825"
      ]
     },
     "execution_count": 15,
     "metadata": {},
     "output_type": "execute_result"
    }
   ],
   "source": [
    "db.es_lexicon.count()"
   ]
  },
  {
   "cell_type": "code",
   "execution_count": 56,
   "metadata": {
    "collapsed": false
   },
   "outputs": [
    {
     "data": {
      "text/plain": [
       "'å'"
      ]
     },
     "execution_count": 56,
     "metadata": {},
     "output_type": "execute_result"
    }
   ],
   "source": [
    "'Å'.lower()"
   ]
  },
  {
   "cell_type": "code",
   "execution_count": null,
   "metadata": {
    "collapsed": true
   },
   "outputs": [],
   "source": []
  },
  {
   "cell_type": "markdown",
   "metadata": {},
   "source": [
    "# POS tagger"
   ]
  },
  {
   "cell_type": "code",
   "execution_count": 4,
   "metadata": {
    "collapsed": false
   },
   "outputs": [],
   "source": [
    "tagged_sp_sents = cess_esp.tagged_sents()"
   ]
  },
  {
   "cell_type": "code",
   "execution_count": 5,
   "metadata": {
    "collapsed": false
   },
   "outputs": [],
   "source": [
    "size = int(len(tagged_sp_sents) * 0.1)\n",
    "train_sp_sents = tagged_sp_sents[size:]\n",
    "test_sp_sents = tagged_sp_sents[:size]"
   ]
  },
  {
   "cell_type": "code",
   "execution_count": 6,
   "metadata": {
    "collapsed": false
   },
   "outputs": [
    {
     "data": {
      "text/plain": [
       "True"
      ]
     },
     "execution_count": 6,
     "metadata": {},
     "output_type": "execute_result"
    }
   ],
   "source": [
    "len(tagged_sp_sents) == len(train_sp_sents) + len(test_sp_sents)"
   ]
  },
  {
   "cell_type": "code",
   "execution_count": 7,
   "metadata": {
    "collapsed": true
   },
   "outputs": [],
   "source": [
    "tagged_sp_words = cess_esp.tagged_words()"
   ]
  },
  {
   "cell_type": "code",
   "execution_count": 8,
   "metadata": {
    "collapsed": false
   },
   "outputs": [
    {
     "data": {
      "text/plain": [
       "[('sps00', 25272),\n",
       " ('ncms000', 11428),\n",
       " ('Fc', 11420),\n",
       " ('ncfs000', 11008),\n",
       " ('da0fs0', 6838),\n",
       " ('da0ms0', 6012),\n",
       " ('rg', 5937),\n",
       " ('Fp', 5866),\n",
       " ('cc', 5854),\n",
       " ('ncmp000', 5711)]"
      ]
     },
     "execution_count": 8,
     "metadata": {},
     "output_type": "execute_result"
    }
   ],
   "source": [
    "tags = [tag for (word, tag) in tagged_sp_words]\n",
    "most_freq_tags = nltk.FreqDist(tags)\n",
    "most_freq_tags.most_common()[:10]"
   ]
  },
  {
   "cell_type": "code",
   "execution_count": 9,
   "metadata": {
    "collapsed": true
   },
   "outputs": [],
   "source": [
    "default_tag = 'ncms000'"
   ]
  },
  {
   "cell_type": "code",
   "execution_count": 10,
   "metadata": {
    "collapsed": true
   },
   "outputs": [],
   "source": [
    "t0 = nltk.DefaultTagger(None)\n",
    "t1 = nltk.UnigramTagger(train_sp_sents, backoff=t0)\n",
    "t2 = nltk.BigramTagger(train_sp_sents, backoff=t1)\n",
    "sp_tagger = nltk.TrigramTagger(train_sp_sents, backoff=t2)"
   ]
  },
  {
   "cell_type": "code",
   "execution_count": 11,
   "metadata": {
    "collapsed": false
   },
   "outputs": [
    {
     "data": {
      "text/plain": [
       "0.8813485113835376"
      ]
     },
     "execution_count": 11,
     "metadata": {},
     "output_type": "execute_result"
    }
   ],
   "source": [
    "sp_tagger.evaluate(test_sp_sents)"
   ]
  },
  {
   "cell_type": "code",
   "execution_count": 73,
   "metadata": {
    "collapsed": false
   },
   "outputs": [
    {
     "data": {
      "text/plain": [
       "[('del', 'noun')]"
      ]
     },
     "execution_count": 73,
     "metadata": {},
     "output_type": "execute_result"
    }
   ],
   "source": [
    "tagger('del')"
   ]
  },
  {
   "cell_type": "code",
   "execution_count": 44,
   "metadata": {
    "collapsed": false
   },
   "outputs": [
    {
     "data": {
      "text/plain": [
       "[{'_id': ObjectId('5701d778a688eb3304f2b5f5'),\n",
       "  'eagle': 'NCFS000',\n",
       "  'flexion': 'salsa',\n",
       "  'lemma': 'salsa'}]"
      ]
     },
     "execution_count": 44,
     "metadata": {},
     "output_type": "execute_result"
    }
   ],
   "source": [
    "list(db.es_lexicon.find({'flexion': 'salsa'}))"
   ]
  },
  {
   "cell_type": "code",
   "execution_count": 46,
   "metadata": {
    "collapsed": true
   },
   "outputs": [],
   "source": [
    "nonascii = ['á', 'ã', 'ç', 'è', 'é', 'ê', 'í', 'ñ', 'ò', 'ó', 'ú', 'ü', 'ō']"
   ]
  },
  {
   "cell_type": "code",
   "execution_count": 48,
   "metadata": {
    "collapsed": false
   },
   "outputs": [],
   "source": [
    "nonascii2 = list(map(lambda x: x.upper(), nonascii))"
   ]
  },
  {
   "cell_type": "code",
   "execution_count": 49,
   "metadata": {
    "collapsed": false
   },
   "outputs": [
    {
     "data": {
      "text/plain": [
       "['Á', 'Ã', 'Ç', 'È', 'É', 'Ê', 'Í', 'Ñ', 'Ò', 'Ó', 'Ú', 'Ü', 'Ō']"
      ]
     },
     "execution_count": 49,
     "metadata": {},
     "output_type": "execute_result"
    }
   ],
   "source": [
    "nonascii2"
   ]
  },
  {
   "cell_type": "code",
   "execution_count": 50,
   "metadata": {
    "collapsed": false
   },
   "outputs": [
    {
     "data": {
      "text/plain": [
       "['á', 'ã', 'ç', 'è', 'é', 'ê', 'í', 'ñ', 'ò', 'ó', 'ú', 'ü', 'ō']"
      ]
     },
     "execution_count": 50,
     "metadata": {},
     "output_type": "execute_result"
    }
   ],
   "source": [
    "list(map(lambda x: x.lower(), nonascii2))"
   ]
  },
  {
   "cell_type": "markdown",
   "metadata": {
    "collapsed": true
   },
   "source": [
    "# Ingredients"
   ]
  },
  {
   "cell_type": "code",
   "execution_count": 2,
   "metadata": {
    "collapsed": true
   },
   "outputs": [],
   "source": [
    "def is_spanish_ingredients_file(filename):\n",
    "    return filename.startswith('es_') and filename.endswith('_ingredients.txt')"
   ]
  },
  {
   "cell_type": "code",
   "execution_count": 17,
   "metadata": {
    "collapsed": false
   },
   "outputs": [],
   "source": [
    "graph_syn = nx.Graph()\n",
    "ingredients_root = 'data/ingredients/'\n",
    "for e in os.listdir(ingredients_root):\n",
    "    file_path = ingredients_root + e\n",
    "    if os.path.isfile(file_path):\n",
    "        if is_spanish_ingredients_file(e):\n",
    "            with open(file_path) as f:\n",
    "                for line in f:\n",
    "                    syn_set = set()\n",
    "                    ingrs1 = line.strip()\n",
    "                    for ingrs2 in ingrs1.split(' / '):\n",
    "                        for ingrs3 in ingrs2.split(' o '):\n",
    "                            for ingr in ingrs3.split(' - '):\n",
    "                                syn_set.add(ingr)\n",
    "                                if not ingr in graph_syn:\n",
    "                                    graph_syn.add_node(ingr, count=1)\n",
    "                                else:\n",
    "                                    graph_syn.node[ingr]['count'] += 1\n",
    "                    syn_set = list(syn_set)\n",
    "                    i1 = syn_set[0]\n",
    "                    for i2 in syn_set[1:]:\n",
    "                        graph_syn.add_edge(i1, i2)"
   ]
  },
  {
   "cell_type": "code",
   "execution_count": 21,
   "metadata": {
    "collapsed": false
   },
   "outputs": [
    {
     "data": {
      "text/plain": [
       "3322"
      ]
     },
     "execution_count": 21,
     "metadata": {},
     "output_type": "execute_result"
    }
   ],
   "source": [
    "len(graph_syn)"
   ]
  },
  {
   "cell_type": "code",
   "execution_count": 22,
   "metadata": {
    "collapsed": false
   },
   "outputs": [
    {
     "data": {
      "text/plain": [
       "3221"
      ]
     },
     "execution_count": 22,
     "metadata": {},
     "output_type": "execute_result"
    }
   ],
   "source": [
    "nx.number_connected_components(graph_syn)"
   ]
  },
  {
   "cell_type": "code",
   "execution_count": 19,
   "metadata": {
    "collapsed": false
   },
   "outputs": [
    {
     "data": {
      "text/plain": [
       "['crema', 'de', 'foie-gras', 'de', 'pato']"
      ]
     },
     "execution_count": 19,
     "metadata": {},
     "output_type": "execute_result"
    }
   ],
   "source": [
    "nltk.word_tokenize('crema de foie-gras de pato')"
   ]
  },
  {
   "cell_type": "code",
   "execution_count": 75,
   "metadata": {
    "collapsed": false
   },
   "outputs": [
    {
     "data": {
      "text/plain": [
       "[('crema', 'noun'),\n",
       " ('de', 'prep'),\n",
       " ('foie-gras', 'noun'),\n",
       " ('de', 'prep'),\n",
       " ('pato', 'noun')]"
      ]
     },
     "execution_count": 75,
     "metadata": {},
     "output_type": "execute_result"
    }
   ],
   "source": [
    "ingredient_tagger('crema de foie-gras de pato')"
   ]
  },
  {
   "cell_type": "code",
   "execution_count": 31,
   "metadata": {
    "collapsed": false
   },
   "outputs": [],
   "source": [
    "nonascii = set()\n",
    "for ingr in graph_syn.nodes_iter():\n",
    "#     q = ingr.replace(' ', 'xxx')\n",
    "#     if not q.isalpha():\n",
    "#         print(q.replace('xxx', ' '))\n",
    "    if not is_ascii(ingr):\n",
    "        for c in ingr:\n",
    "            if not is_ascii(c):\n",
    "                nonascii.add(c)"
   ]
  },
  {
   "cell_type": "code",
   "execution_count": 23,
   "metadata": {
    "collapsed": false
   },
   "outputs": [],
   "source": [
    "lengths = set()\n",
    "for ingr in graph_syn.nodes_iter():\n",
    "    tokens = nltk.word_tokenize(ingr)\n",
    "    lengths.add(len(tokens))"
   ]
  },
  {
   "cell_type": "code",
   "execution_count": 24,
   "metadata": {
    "collapsed": false
   },
   "outputs": [
    {
     "data": {
      "text/plain": [
       "{1, 2, 3, 4, 5, 6, 7, 8, 9, 10}"
      ]
     },
     "execution_count": 24,
     "metadata": {},
     "output_type": "execute_result"
    }
   ],
   "source": [
    "lengths"
   ]
  },
  {
   "cell_type": "code",
   "execution_count": 89,
   "metadata": {
    "collapsed": true
   },
   "outputs": [],
   "source": [
    "tag_mapping = {\n",
    "    'a': 'adj',\n",
    "    'r': 'adv',\n",
    "    'd': 'det',\n",
    "    'n': 'noun',\n",
    "    'v': 'verb',\n",
    "    'p': 'pron',\n",
    "    'c': 'conj',\n",
    "    'i': 'interj',\n",
    "    's': 'prep',\n",
    "    'f': 'punt',\n",
    "    'z': 'num',\n",
    "    'w': 'date-time',\n",
    "}\n",
    "\n",
    "def ingredient_tagger(x):\n",
    "    result = []\n",
    "    tokens = nltk.word_tokenize(x)\n",
    "    if len(tokens) == 1:\n",
    "        result.append((x, 'noun'))\n",
    "    else:\n",
    "        tags = sp_tagger.tag(tokens)\n",
    "        for token, tag in tags:\n",
    "            if not tag:\n",
    "                res = db.es_lexicon.find({'flexion': token})\n",
    "                for r in res:\n",
    "                    categ = tag_mapping[r['eagle'][0]]\n",
    "                    if not tag:\n",
    "                        tag = categ\n",
    "                    elif categ == 'num' and tag not in ['verb', 'adj', 'noun']:\n",
    "                        tag = categ\n",
    "                    elif categ == 'verb' and tag not in ['adj', 'noun']:\n",
    "                        tag = categ\n",
    "                    elif categ == 'adj' and tag not in ['noun']:\n",
    "                        tag = categ\n",
    "                    elif categ == 'noun':\n",
    "                        tag = categ\n",
    "                        break\n",
    "                if not tag:\n",
    "                    tag = 'noun'\n",
    "                result.append((token, tag))\n",
    "            else:\n",
    "                result.append((token, tag_mapping[tag.lower()[0]]))\n",
    "    return result"
   ]
  },
  {
   "cell_type": "code",
   "execution_count": 137,
   "metadata": {
    "collapsed": false
   },
   "outputs": [],
   "source": [
    "# Numbers\n",
    "def numbers(x):\n",
    "    return x.replace(' 1 ', ' uno ') \\\n",
    "            .replace(' 2 ', ' dos ') \\\n",
    "            .replace(' 3 ', ' tres ') \\\n",
    "            .replace(' 4 ', ' cuatro ') \\\n",
    "            .replace(' 5 ', ' cinco ') \\\n",
    "            .replace(' 6 ', ' seis ') \\\n",
    "            .replace(' 7 ', ' siete ') \\\n",
    "            .replace(' 8 ', ' ocho ') \\\n",
    "            .replace(' 9 ', ' nueve ')\n",
    "\n",
    "# Accent marks on vowels - {'á', 'ã', 'ç', 'è', 'é', 'ê', 'í', 'ñ', 'ò', 'ó', 'ú', 'ü', 'ō'}\n",
    "def accent_marks(x):\n",
    "    return x.replace('á', 'a') \\\n",
    "            .replace('ã', 'a') \\\n",
    "            .replace('è', 'e') \\\n",
    "            .replace('é', 'e') \\\n",
    "            .replace('ê', 'e') \\\n",
    "            .replace('í', 'i') \\\n",
    "            .replace('ò', 'o') \\\n",
    "            .replace('ó', 'o') \\\n",
    "            .replace('ō', 'o') \\\n",
    "            .replace('ú', 'u') \\\n",
    "            .replace('ü', 'u')\n",
    "\n",
    "# Non-ascii consonants - {'á', 'ã', 'ç', 'è', 'é', 'ê', 'í', 'ñ', 'ò', 'ó', 'ú', 'ü', 'ō'}\n",
    "def nonascii_consonants(x):\n",
    "    return x.replace('ç', 'c') \\\n",
    "            .replace('ñ', 'n')\n",
    "    \n",
    "# Dashes (-)\n",
    "def dashes1(x):\n",
    "    return x.replace('-', '')\n",
    "\n",
    "def dashes2(x):\n",
    "    return x.replace('-', ' ')\n",
    "\n",
    "# POS tags\n",
    "# ADJETIVOS .... A ADJ ...... X\n",
    "# ADVERBIOS .... R ADV\n",
    "# DETERMINANTES  D DET\n",
    "# NOMBRES ...... N NOUN ..... X\n",
    "# VERBOS ....... V VERB ..... X\n",
    "# PRONOMBRES ... P PRON\n",
    "# CONJUNCIONES . C CONJ\n",
    "# INTERJECCIONES I INTERJ\n",
    "# PREPOSICIONES  S PREP\n",
    "# PUNTUACIÓN ... F PUNTUATION\n",
    "# NUMERALES .... Z NUM ...... X\n",
    "# FECHAS Y HORAS W DATE-TIME\n",
    "def pos_tags(x):\n",
    "    tags = ingredient_tagger(x)\n",
    "    filtered = [token\n",
    "                for token, tag in tags\n",
    "                if tag in ['num', 'verb', 'adj', 'noun']]\n",
    "    return ' '.join(filtered)\n",
    "\n",
    "funcs = [pos_tags, numbers, accent_marks, nonascii_consonants, dashes1, dashes2] # pos_tags first\n",
    "combinations = []\n",
    "for i in range(1, len(funcs) + 1):\n",
    "    combinations.append(list(itertools.combinations(funcs, i)))\n",
    "combinations = [c for comb in combinations for c in comb]\n",
    "\n",
    "def normalize_old(ingredient):\n",
    "    result = set()\n",
    "    for c in combinations:\n",
    "        x = ingredient\n",
    "        for f in c:\n",
    "            x = f(x)\n",
    "        result.add(x)\n",
    "    return result\n",
    "\n",
    "def normalize(ingredient): # dynamic programming version\n",
    "    d = {}\n",
    "    for f in funcs:\n",
    "        d[f] = {}\n",
    "    result = set()\n",
    "    for c in combinations:\n",
    "        x = ingredient\n",
    "        for f in c:\n",
    "            if not x in d[f]:\n",
    "                d[f][x] = f(x)\n",
    "            x = d[f][x]\n",
    "        result.add(x)\n",
    "    return result"
   ]
  },
  {
   "cell_type": "code",
   "execution_count": 138,
   "metadata": {
    "collapsed": false
   },
   "outputs": [
    {
     "data": {
      "text/plain": [
       "[('ácido', 'noun'), ('de', 'prep'), ('5', 'num'), ('piñas', 'noun')]"
      ]
     },
     "execution_count": 138,
     "metadata": {},
     "output_type": "execute_result"
    }
   ],
   "source": [
    "ingredient_tagger('ácido de 5 piñas')"
   ]
  },
  {
   "cell_type": "code",
   "execution_count": 139,
   "metadata": {
    "collapsed": false
   },
   "outputs": [
    {
     "data": {
      "text/plain": [
       "[('ácido', 'noun'), ('de', 'prep'), ('cinco', 'det'), ('piñas', 'noun')]"
      ]
     },
     "execution_count": 139,
     "metadata": {},
     "output_type": "execute_result"
    }
   ],
   "source": [
    "ingredient_tagger('ácido de cinco piñas')"
   ]
  },
  {
   "cell_type": "code",
   "execution_count": 141,
   "metadata": {
    "collapsed": false
   },
   "outputs": [
    {
     "name": "stdout",
     "output_type": "stream",
     "text": [
      "CPU times: user 4 ms, sys: 0 ns, total: 4 ms\n",
      "Wall time: 288 ms\n"
     ]
    },
    {
     "data": {
      "text/plain": [
       "{'acido 5 pinas',\n",
       " 'acido 5 piñas',\n",
       " 'acido cinco pinas',\n",
       " 'acido cinco piñas',\n",
       " 'acido de 5 pinas',\n",
       " 'acido de 5 piñas',\n",
       " 'acido de cinco pinas',\n",
       " 'acido de cinco piñas',\n",
       " 'ácido 5 pinas',\n",
       " 'ácido 5 piñas',\n",
       " 'ácido cinco pinas',\n",
       " 'ácido cinco piñas',\n",
       " 'ácido de 5 pinas',\n",
       " 'ácido de 5 piñas',\n",
       " 'ácido de cinco pinas',\n",
       " 'ácido de cinco piñas'}"
      ]
     },
     "execution_count": 141,
     "metadata": {},
     "output_type": "execute_result"
    }
   ],
   "source": [
    "%%time\n",
    "normalize('ácido de 5 piñas')"
   ]
  },
  {
   "cell_type": "code",
   "execution_count": 142,
   "metadata": {
    "collapsed": false
   },
   "outputs": [
    {
     "name": "stdout",
     "output_type": "stream",
     "text": [
      "CPU times: user 36 ms, sys: 0 ns, total: 36 ms\n",
      "Wall time: 8.02 s\n"
     ]
    },
    {
     "data": {
      "text/plain": [
       "{'acido 5 pinas',\n",
       " 'acido 5 piñas',\n",
       " 'acido cinco pinas',\n",
       " 'acido cinco piñas',\n",
       " 'acido de 5 pinas',\n",
       " 'acido de 5 piñas',\n",
       " 'acido de cinco pinas',\n",
       " 'acido de cinco piñas',\n",
       " 'ácido 5 pinas',\n",
       " 'ácido 5 piñas',\n",
       " 'ácido cinco pinas',\n",
       " 'ácido cinco piñas',\n",
       " 'ácido de 5 pinas',\n",
       " 'ácido de 5 piñas',\n",
       " 'ácido de cinco pinas',\n",
       " 'ácido de cinco piñas'}"
      ]
     },
     "execution_count": 142,
     "metadata": {},
     "output_type": "execute_result"
    }
   ],
   "source": [
    "%%time\n",
    "normalize_old('ácido de 5 piñas')"
   ]
  },
  {
   "cell_type": "code",
   "execution_count": 81,
   "metadata": {
    "collapsed": false
   },
   "outputs": [],
   "source": []
  },
  {
   "cell_type": "code",
   "execution_count": 19,
   "metadata": {
    "collapsed": false
   },
   "outputs": [
    {
     "data": {
      "text/plain": [
       "[('ácido', 'ncms000'), ('de', 'sps00'), ('5', 'Z'), ('piñas', None)]"
      ]
     },
     "execution_count": 19,
     "metadata": {},
     "output_type": "execute_result"
    }
   ],
   "source": [
    "pos_tags('ácido de 5 piñas')"
   ]
  },
  {
   "cell_type": "code",
   "execution_count": 93,
   "metadata": {
    "collapsed": false
   },
   "outputs": [
    {
     "ename": "TypeError",
     "evalue": "unhashable type: 'list'",
     "output_type": "error",
     "traceback": [
      "\u001b[1;31m---------------------------------------------------------------------------\u001b[0m",
      "\u001b[1;31mTypeError\u001b[0m                                 Traceback (most recent call last)",
      "\u001b[1;32m<ipython-input-93-108839137af0>\u001b[0m in \u001b[0;36m<module>\u001b[1;34m()\u001b[0m\n\u001b[0;32m      4\u001b[0m     \u001b[1;32mfor\u001b[0m \u001b[0mf\u001b[0m \u001b[1;32min\u001b[0m \u001b[0mc\u001b[0m\u001b[1;33m:\u001b[0m\u001b[1;33m\u001b[0m\u001b[0m\n\u001b[0;32m      5\u001b[0m         \u001b[0mx\u001b[0m \u001b[1;33m=\u001b[0m \u001b[0mf\u001b[0m\u001b[1;33m(\u001b[0m\u001b[0mx\u001b[0m\u001b[1;33m)\u001b[0m\u001b[1;33m\u001b[0m\u001b[0m\n\u001b[1;32m----> 6\u001b[1;33m     \u001b[0mres\u001b[0m\u001b[1;33m.\u001b[0m\u001b[0madd\u001b[0m\u001b[1;33m(\u001b[0m\u001b[0mx\u001b[0m\u001b[1;33m)\u001b[0m\u001b[1;33m\u001b[0m\u001b[0m\n\u001b[0m\u001b[0;32m      7\u001b[0m \u001b[0mres\u001b[0m\u001b[1;33m\u001b[0m\u001b[0m\n",
      "\u001b[1;31mTypeError\u001b[0m: unhashable type: 'list'"
     ]
    }
   ],
   "source": [
    "res = set()\n",
    "for c in combinations:\n",
    "    x = 'ácido de 5 piñas'\n",
    "    for f in c:\n",
    "        x = f(x)\n",
    "    res.add(x)\n",
    "res"
   ]
  },
  {
   "cell_type": "code",
   "execution_count": 82,
   "metadata": {
    "collapsed": false
   },
   "outputs": [
    {
     "data": {
      "text/plain": [
       "{'acido de 5 pinas',\n",
       " 'acido de 5 piñas',\n",
       " 'acido de cinco pinas',\n",
       " 'acido de cinco piñas',\n",
       " 'ácido de 5 pinas',\n",
       " 'ácido de 5 piñas',\n",
       " 'ácido de cinco pinas',\n",
       " 'ácido de cinco piñas'}"
      ]
     },
     "execution_count": 82,
     "metadata": {},
     "output_type": "execute_result"
    }
   ],
   "source": [
    "res = set()\n",
    "for c in combinations:\n",
    "    x = 'ácido de 5 piñas'\n",
    "    for f in c:\n",
    "        x = f(x)\n",
    "    res.add(x)\n",
    "res"
   ]
  },
  {
   "cell_type": "code",
   "execution_count": 47,
   "metadata": {
    "collapsed": false
   },
   "outputs": [
    {
     "name": "stdout",
     "output_type": "stream",
     "text": [
      "['helado de cinco piñas']\n",
      "['helado de 5 piñas']\n",
      "['helado de 5 pinas']\n",
      "['helado de 5 piñas', 'helado de 5 piñas']\n"
     ]
    }
   ],
   "source": [
    "for f in funcs:\n",
    "    print(f('ácido de 5 piñas'))"
   ]
  },
  {
   "cell_type": "code",
   "execution_count": 56,
   "metadata": {
    "collapsed": false
   },
   "outputs": [
    {
     "data": {
      "text/plain": [
       "[(1,),\n",
       " (2,),\n",
       " (3,),\n",
       " (4,),\n",
       " (1, 2),\n",
       " (1, 3),\n",
       " (1, 4),\n",
       " (2, 3),\n",
       " (2, 4),\n",
       " (3, 4),\n",
       " (1, 2, 3),\n",
       " (1, 2, 4),\n",
       " (1, 3, 4),\n",
       " (2, 3, 4),\n",
       " (1, 2, 3, 4)]"
      ]
     },
     "execution_count": 56,
     "metadata": {},
     "output_type": "execute_result"
    }
   ],
   "source": [
    "import itertools\n",
    "r = []\n",
    "for i in range(1, len([1,2,3,4]) + 1):\n",
    "    r.append(list(itertools.combinations([1,2,3,4], i)))\n",
    "[y for x in r for y in x]"
   ]
  },
  {
   "cell_type": "code",
   "execution_count": 28,
   "metadata": {
    "collapsed": true
   },
   "outputs": [],
   "source": [
    "def is_ascii(s):\n",
    "    return all(ord(c) < 128 for c in s)"
   ]
  },
  {
   "cell_type": "code",
   "execution_count": 69,
   "metadata": {
    "collapsed": false
   },
   "outputs": [
    {
     "data": {
      "text/plain": [
       "3238"
      ]
     },
     "execution_count": 69,
     "metadata": {},
     "output_type": "execute_result"
    }
   ],
   "source": [
    "for length in lengths:\n",
    "    for ingr in graph_syn.nodes_iter():\n",
    "        tokens = nltk.word_tokenize(ingr)\n",
    "        if len(tokens) == length:\n",
    "            lemmatized = lemmatize(tokens)\n",
    "            if not lemmatized in graph_syn:\n",
    "                graph_syn.add_node(lemmatized, count=1)\n",
    "            else:\n",
    "                graph_syn.node[lemmatized]['count'] += 1\n",
    "            graph_syn.add_edge(ingr, lemmatized)"
   ]
  },
  {
   "cell_type": "code",
   "execution_count": 71,
   "metadata": {
    "collapsed": false
   },
   "outputs": [
    {
     "data": {
      "text/plain": [
       "{'algas'}"
      ]
     },
     "execution_count": 71,
     "metadata": {},
     "output_type": "execute_result"
    }
   ],
   "source": [
    "nx.node_connected_component(graph_syn, 'algas')"
   ]
  },
  {
   "cell_type": "code",
   "execution_count": 46,
   "metadata": {
    "collapsed": false
   },
   "outputs": [],
   "source": [
    "for line in all_lines:\n",
    "    syn_set = set()\n",
    "    ingrs1 = line.strip()\n",
    "    for ingrs2 in ingrs1.split(' / '):\n",
    "        for ingr in ingrs2.split(' o '):\n",
    "            syn_set.add(ingr)\n",
    "    syn_set = list(syn_set)\n",
    "    i1 = syn_set[0]\n",
    "    for i2 in syn_set[1:]:\n",
    "        graph_syn.add_edge(i1, i2)"
   ]
  },
  {
   "cell_type": "code",
   "execution_count": 45,
   "metadata": {
    "collapsed": true
   },
   "outputs": [],
   "source": [
    "def normalize(expr):\n",
    "    pass\n",
    "\n",
    "def lemmatize(expr):\n",
    "    pass"
   ]
  },
  {
   "cell_type": "code",
   "execution_count": 46,
   "metadata": {
    "collapsed": false
   },
   "outputs": [],
   "source": [
    "for line in all_lines:\n",
    "    syn_set = set()\n",
    "    ingrs1 = line.strip()\n",
    "    for ingrs2 in ingrs1.split(' / '):\n",
    "        for ingr in ingrs2.split(' o '):\n",
    "            lemmatized = lemmatize(ingr)\n",
    "            if not lemmatized in graph_syn:\n",
    "                graph_syn.add_node(lemmatized, count=1, is_lemma=True, is_repr=False)\n",
    "            else:\n",
    "                graph_syn.node[lemmatized]['count'] += 1\n",
    "                graph_syn.node[lemmatized]['is_lemma'] = True\n",
    "            syn_set.add(ingr)\n",
    "            syn_set.add(lemmatized)\n",
    "    syn_set = list(syn_set)\n",
    "    i1 = syn_set[0]\n",
    "    for i2 in syn_set[1:]:\n",
    "        graph_syn.add_edge(i1, i2)"
   ]
  },
  {
   "cell_type": "code",
   "execution_count": 25,
   "metadata": {
    "collapsed": true
   },
   "outputs": [],
   "source": [
    "g=nx.Graph()"
   ]
  },
  {
   "cell_type": "code",
   "execution_count": 26,
   "metadata": {
    "collapsed": true
   },
   "outputs": [],
   "source": [
    "g.add_edge(1, 1, b=5)"
   ]
  },
  {
   "cell_type": "code",
   "execution_count": 27,
   "metadata": {
    "collapsed": false
   },
   "outputs": [
    {
     "data": {
      "text/plain": [
       "[(1, 1, {'b': 5})]"
      ]
     },
     "execution_count": 27,
     "metadata": {},
     "output_type": "execute_result"
    }
   ],
   "source": [
    "g.edges(data=True)"
   ]
  },
  {
   "cell_type": "code",
   "execution_count": null,
   "metadata": {
    "collapsed": true
   },
   "outputs": [],
   "source": []
  },
  {
   "cell_type": "code",
   "execution_count": 28,
   "metadata": {
    "collapsed": true
   },
   "outputs": [],
   "source": [
    "g.add_node(1, {'a':3})"
   ]
  },
  {
   "cell_type": "code",
   "execution_count": 29,
   "metadata": {
    "collapsed": false
   },
   "outputs": [
    {
     "data": {
      "text/plain": [
       "[(1, {'a': 3})]"
      ]
     },
     "execution_count": 29,
     "metadata": {},
     "output_type": "execute_result"
    }
   ],
   "source": [
    "g.nodes(data=True)"
   ]
  },
  {
   "cell_type": "code",
   "execution_count": 26,
   "metadata": {
    "collapsed": false
   },
   "outputs": [],
   "source": [
    "g.node[1]['a'] += 1"
   ]
  },
  {
   "cell_type": "code",
   "execution_count": 5,
   "metadata": {
    "collapsed": false
   },
   "outputs": [
    {
     "data": {
      "text/plain": [
       "nltk.probability.FreqDist"
      ]
     },
     "execution_count": 5,
     "metadata": {},
     "output_type": "execute_result"
    }
   ],
   "source": [
    "type(nltk.FreqDist())"
   ]
  },
  {
   "cell_type": "code",
   "execution_count": 6,
   "metadata": {
    "collapsed": true
   },
   "outputs": [],
   "source": [
    "def lemmatizer(x):\n",
    "    return nltk.FreqDist(x)"
   ]
  },
  {
   "cell_type": "code",
   "execution_count": 12,
   "metadata": {
    "collapsed": false
   },
   "outputs": [],
   "source": [
    "xxx=lemmatizer()"
   ]
  },
  {
   "cell_type": "code",
   "execution_count": null,
   "metadata": {
    "collapsed": true
   },
   "outputs": [],
   "source": [
    "def add_es_ingredient(ingredient):\n",
    "    #ingredient tiene format \"salsa de soja o salsa de soya\" -> esto no puede ir en las funciones clean\n",
    "    #pq entonces se pierde la info de que son ingredientes sinonimos\n",
    "    #puede estar en singular o plurar\n",
    "    #hay que lematizar la expresion (ingredient) completa, eliminar preps, arts... segun mi criterio\n",
    "    #hay que guardar todas las posibles variantes del ingredient y su lematizacion\n",
    "    #guardar esta funcion en un obj pickle y \"exportarla\" donde sea necesario"
   ]
  },
  {
   "cell_type": "code",
   "execution_count": 28,
   "metadata": {
    "collapsed": false
   },
   "outputs": [],
   "source": [
    "if __name__=='__main__':\n",
    "    with open('pickle/lemmatizer.pickle', 'wb') as f:\n",
    "        pickle.dump(xxx, f)"
   ]
  },
  {
   "cell_type": "code",
   "execution_count": 24,
   "metadata": {
    "collapsed": true
   },
   "outputs": [],
   "source": [
    "class A:\n",
    "    def lemmatizer(self, x):\n",
    "        return nltk.FreqDist(x)"
   ]
  },
  {
   "cell_type": "code",
   "execution_count": 25,
   "metadata": {
    "collapsed": true
   },
   "outputs": [],
   "source": [
    "xxx = A()"
   ]
  },
  {
   "cell_type": "code",
   "execution_count": 26,
   "metadata": {
    "collapsed": false
   },
   "outputs": [
    {
     "data": {
      "text/plain": [
       "Counter({'a': 2, 'b': 1})"
      ]
     },
     "execution_count": 26,
     "metadata": {},
     "output_type": "execute_result"
    }
   ],
   "source": [
    "xxx.lemmatizer(['a','a','b'])"
   ]
  },
  {
   "cell_type": "code",
   "execution_count": 38,
   "metadata": {
    "collapsed": false
   },
   "outputs": [
    {
     "name": "stdout",
     "output_type": "stream",
     "text": [
      "['aceite']\n",
      "['óleo']\n",
      "['petróleo']\n",
      "[]\n",
      "[]\n",
      "[]\n"
     ]
    }
   ],
   "source": [
    ">>> from nltk.corpus import wordnet as wn\n",
    "for ss in wn.synsets('oil'):\n",
    "    print(ss.lemma_names('spa'))"
   ]
  },
  {
   "cell_type": "code",
   "execution_count": 69,
   "metadata": {
    "collapsed": false
   },
   "outputs": [
    {
     "data": {
      "text/plain": [
       "<bound method WordNetCorpusReader.langs of <WordNetCorpusReader in '/home/antonio/nltk_data/corpora/wordnet'>>"
      ]
     },
     "execution_count": 69,
     "metadata": {},
     "output_type": "execute_result"
    }
   ],
   "source": [
    "wn.langs"
   ]
  },
  {
   "cell_type": "code",
   "execution_count": 70,
   "metadata": {
    "collapsed": false
   },
   "outputs": [
    {
     "ename": "ImportError",
     "evalue": "cannot import name 'omw'",
     "output_type": "error",
     "traceback": [
      "\u001b[1;31m---------------------------------------------------------------------------\u001b[0m",
      "\u001b[1;31mImportError\u001b[0m                               Traceback (most recent call last)",
      "\u001b[1;32m<ipython-input-70-77520f454251>\u001b[0m in \u001b[0;36m<module>\u001b[1;34m()\u001b[0m\n\u001b[1;32m----> 1\u001b[1;33m \u001b[1;32mfrom\u001b[0m \u001b[0mnltk\u001b[0m\u001b[1;33m.\u001b[0m\u001b[0mcorpus\u001b[0m \u001b[1;32mimport\u001b[0m \u001b[0momw\u001b[0m\u001b[1;33m\u001b[0m\u001b[0m\n\u001b[0m",
      "\u001b[1;31mImportError\u001b[0m: cannot import name 'omw'"
     ]
    }
   ],
   "source": [
    "from nltk.corpus import omw"
   ]
  },
  {
   "cell_type": "code",
   "execution_count": 83,
   "metadata": {
    "collapsed": false
   },
   "outputs": [],
   "source": [
    "l=wn.lemmas('cane', lang='ita')[0]"
   ]
  },
  {
   "cell_type": "code",
   "execution_count": 92,
   "metadata": {
    "collapsed": false
   },
   "outputs": [
    {
     "data": {
      "text/plain": [
       "Synset('dog.n.01')"
      ]
     },
     "execution_count": 92,
     "metadata": {},
     "output_type": "execute_result"
    }
   ],
   "source": [
    "l.synset()"
   ]
  },
  {
   "cell_type": "code",
   "execution_count": 93,
   "metadata": {
    "collapsed": false
   },
   "outputs": [
    {
     "data": {
      "text/plain": [
       "Lemma('dog.n.01.cane')"
      ]
     },
     "execution_count": 93,
     "metadata": {},
     "output_type": "execute_result"
    }
   ],
   "source": [
    "l"
   ]
  },
  {
   "cell_type": "code",
   "execution_count": 25,
   "metadata": {
    "collapsed": false
   },
   "outputs": [],
   "source": [
    "ls = wn.lemmas('amaba', lang='spa')"
   ]
  },
  {
   "cell_type": "code",
   "execution_count": 26,
   "metadata": {
    "collapsed": false
   },
   "outputs": [],
   "source": [
    "for x in ls:\n",
    "    print(x.name())"
   ]
  },
  {
   "cell_type": "code",
   "execution_count": null,
   "metadata": {
    "collapsed": true
   },
   "outputs": [],
   "source": [
    "lematizar solamente usando mi lexicon en español\n",
    "si no existe la palabra y no se puede lematizar, quitar s final si existe\n",
    "esto aplica a adj y noun, poco probable encontrar un verbo"
   ]
  }
 ],
 "metadata": {
  "kernelspec": {
   "display_name": "Python 3",
   "language": "python",
   "name": "python3"
  },
  "language_info": {
   "codemirror_mode": {
    "name": "ipython",
    "version": 3
   },
   "file_extension": ".py",
   "mimetype": "text/x-python",
   "name": "python",
   "nbconvert_exporter": "python",
   "pygments_lexer": "ipython3",
   "version": "3.4.3"
  }
 },
 "nbformat": 4,
 "nbformat_minor": 0
}
