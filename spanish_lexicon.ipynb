{
 "cells": [
  {
   "cell_type": "code",
   "execution_count": 1,
   "metadata": {
    "collapsed": false
   },
   "outputs": [],
   "source": [
    "import itertools\n",
    "import os\n",
    "import pickle\n",
    "from collections import defaultdict\n",
    "\n",
    "import networkx as nx\n",
    "import nltk\n",
    "from nltk.corpus import cess_esp\n",
    "from nltk.corpus import wordnet as wn\n",
    "from pymongo import MongoClient"
   ]
  },
  {
   "cell_type": "code",
   "execution_count": 2,
   "metadata": {
    "collapsed": true
   },
   "outputs": [],
   "source": [
    "client = MongoClient()\n",
    "# client.drop_database('lexicon')\n",
    "db = client.lexicon"
   ]
  },
  {
   "cell_type": "markdown",
   "metadata": {},
   "source": [
    "# Lexicon"
   ]
  },
  {
   "cell_type": "code",
   "execution_count": 3,
   "metadata": {
    "collapsed": false
   },
   "outputs": [
    {
     "name": "stdout",
     "output_type": "stream",
     "text": [
      "CPU times: user 12.3 s, sys: 88 ms, total: 12.4 s\n",
      "Wall time: 18.2 s\n"
     ]
    }
   ],
   "source": [
    "%%time\n",
    "\n",
    "import csv\n",
    "\n",
    "with open('data/sp_lexicon.csv') as f:\n",
    "    reader = csv.reader(\n",
    "        f,\n",
    "        delimiter=' ',\n",
    "    )\n",
    "    docs = []\n",
    "    count = 0\n",
    "    for row in reader:\n",
    "        for i in range(1, len(row[1:]), 2):\n",
    "            entry = {}\n",
    "            entry['flexion'] = row[0].lower()\n",
    "            entry['lemma'] = row[i].lower()\n",
    "            entry['eagle'] = row[i+1].lower()\n",
    "            docs.append(entry)\n",
    "            count += 1\n",
    "        if count % 1000 == 0:\n",
    "            db.es_lexicon.insert_many(docs)\n",
    "            docs = []\n",
    "    db.es_lexicon.insert_many(docs)\n",
    "    docs = []"
   ]
  },
  {
   "cell_type": "code",
   "execution_count": 4,
   "metadata": {
    "collapsed": false
   },
   "outputs": [
    {
     "data": {
      "text/plain": [
       "668825"
      ]
     },
     "execution_count": 4,
     "metadata": {},
     "output_type": "execute_result"
    }
   ],
   "source": [
    "db.es_lexicon.count()"
   ]
  },
  {
   "cell_type": "markdown",
   "metadata": {},
   "source": [
    "# POS tagger"
   ]
  },
  {
   "cell_type": "code",
   "execution_count": 5,
   "metadata": {
    "collapsed": false
   },
   "outputs": [],
   "source": [
    "tagged_sp_sents = cess_esp.tagged_sents()"
   ]
  },
  {
   "cell_type": "code",
   "execution_count": 6,
   "metadata": {
    "collapsed": false
   },
   "outputs": [],
   "source": [
    "size = int(len(tagged_sp_sents) * 0.1)\n",
    "train_sp_sents = tagged_sp_sents[size:]\n",
    "test_sp_sents = tagged_sp_sents[:size]"
   ]
  },
  {
   "cell_type": "code",
   "execution_count": 7,
   "metadata": {
    "collapsed": false
   },
   "outputs": [
    {
     "data": {
      "text/plain": [
       "True"
      ]
     },
     "execution_count": 7,
     "metadata": {},
     "output_type": "execute_result"
    }
   ],
   "source": [
    "len(tagged_sp_sents) == len(train_sp_sents) + len(test_sp_sents)"
   ]
  },
  {
   "cell_type": "code",
   "execution_count": 8,
   "metadata": {
    "collapsed": true
   },
   "outputs": [],
   "source": [
    "tagged_sp_words = cess_esp.tagged_words()"
   ]
  },
  {
   "cell_type": "code",
   "execution_count": 9,
   "metadata": {
    "collapsed": false
   },
   "outputs": [
    {
     "data": {
      "text/plain": [
       "[('sps00', 25272),\n",
       " ('ncms000', 11428),\n",
       " ('Fc', 11420),\n",
       " ('ncfs000', 11008),\n",
       " ('da0fs0', 6838),\n",
       " ('da0ms0', 6012),\n",
       " ('rg', 5937),\n",
       " ('Fp', 5866),\n",
       " ('cc', 5854),\n",
       " ('ncmp000', 5711)]"
      ]
     },
     "execution_count": 9,
     "metadata": {},
     "output_type": "execute_result"
    }
   ],
   "source": [
    "tags = [tag for (word, tag) in tagged_sp_words]\n",
    "most_freq_tags = nltk.FreqDist(tags)\n",
    "most_freq_tags.most_common()[:10]"
   ]
  },
  {
   "cell_type": "code",
   "execution_count": 10,
   "metadata": {
    "collapsed": true
   },
   "outputs": [],
   "source": [
    "default_tag = 'ncms000'"
   ]
  },
  {
   "cell_type": "code",
   "execution_count": 11,
   "metadata": {
    "collapsed": true
   },
   "outputs": [],
   "source": [
    "t0 = nltk.DefaultTagger(None)\n",
    "t1 = nltk.UnigramTagger(train_sp_sents, backoff=t0)\n",
    "t2 = nltk.BigramTagger(train_sp_sents, backoff=t1)\n",
    "sp_tagger = nltk.TrigramTagger(train_sp_sents, backoff=t2)"
   ]
  },
  {
   "cell_type": "code",
   "execution_count": 12,
   "metadata": {
    "collapsed": false
   },
   "outputs": [
    {
     "data": {
      "text/plain": [
       "0.8809982486865149"
      ]
     },
     "execution_count": 12,
     "metadata": {},
     "output_type": "execute_result"
    }
   ],
   "source": [
    "sp_tagger.evaluate(test_sp_sents)"
   ]
  },
  {
   "cell_type": "markdown",
   "metadata": {
    "collapsed": true
   },
   "source": [
    "# Ingredients"
   ]
  },
  {
   "cell_type": "code",
   "execution_count": 13,
   "metadata": {
    "collapsed": true
   },
   "outputs": [],
   "source": [
    "def is_spanish_ingredients_file(filename):\n",
    "    return filename.startswith('es_') and filename.endswith('_ingredients.txt')"
   ]
  },
  {
   "cell_type": "code",
   "execution_count": 14,
   "metadata": {
    "collapsed": false
   },
   "outputs": [],
   "source": [
    "graph_syn = nx.Graph()\n",
    "ingredients_root = 'data/ingredients/'\n",
    "for e in os.listdir(ingredients_root):\n",
    "    file_path = ingredients_root + e\n",
    "    if os.path.isfile(file_path):\n",
    "        if is_spanish_ingredients_file(e):\n",
    "            with open(file_path) as f:\n",
    "                for line in f:\n",
    "                    syn_set = set()\n",
    "                    ingrs1 = line.strip()\n",
    "                    for ingrs2 in ingrs1.split(' / '):\n",
    "                        for ingrs3 in ingrs2.split(' o '):\n",
    "                            for ingr in ingrs3.split(' - '):\n",
    "                                syn_set.add(ingr)\n",
    "                                if not ingr in graph_syn:\n",
    "                                    graph_syn.add_node(ingr, count=1)\n",
    "                                else:\n",
    "                                    graph_syn.node[ingr]['count'] += 1\n",
    "                    syn_set = list(syn_set)\n",
    "                    i1 = syn_set[0]\n",
    "                    for i2 in syn_set[1:]:\n",
    "                        graph_syn.add_edge(i1, i2)"
   ]
  },
  {
   "cell_type": "code",
   "execution_count": 15,
   "metadata": {
    "collapsed": false
   },
   "outputs": [
    {
     "data": {
      "text/plain": [
       "3322"
      ]
     },
     "execution_count": 15,
     "metadata": {},
     "output_type": "execute_result"
    }
   ],
   "source": [
    "len(graph_syn)"
   ]
  },
  {
   "cell_type": "code",
   "execution_count": 16,
   "metadata": {
    "collapsed": false
   },
   "outputs": [
    {
     "data": {
      "text/plain": [
       "3221"
      ]
     },
     "execution_count": 16,
     "metadata": {},
     "output_type": "execute_result"
    }
   ],
   "source": [
    "nx.number_connected_components(graph_syn)"
   ]
  },
  {
   "cell_type": "code",
   "execution_count": 17,
   "metadata": {
    "collapsed": false
   },
   "outputs": [],
   "source": [
    "lengths = set()\n",
    "for ingr in graph_syn.nodes_iter():\n",
    "    tokens = nltk.word_tokenize(ingr)\n",
    "    lengths.add(len(tokens))"
   ]
  },
  {
   "cell_type": "code",
   "execution_count": 18,
   "metadata": {
    "collapsed": false
   },
   "outputs": [
    {
     "data": {
      "text/plain": [
       "{1, 2, 3, 4, 5, 6, 7, 8, 9, 10}"
      ]
     },
     "execution_count": 18,
     "metadata": {},
     "output_type": "execute_result"
    }
   ],
   "source": [
    "lengths"
   ]
  },
  {
   "cell_type": "code",
   "execution_count": 38,
   "metadata": {
    "collapsed": false
   },
   "outputs": [],
   "source": [
    "res = list(db.es_lexicon.find({'flexion': 'vivo'}))"
   ]
  },
  {
   "cell_type": "code",
   "execution_count": 41,
   "metadata": {
    "collapsed": false
   },
   "outputs": [
    {
     "data": {
      "text/plain": [
       "['verb', 'adj', 'noun']"
      ]
     },
     "execution_count": 41,
     "metadata": {},
     "output_type": "execute_result"
    }
   ],
   "source": [
    "list(map(lambda x: tag_mapping[x['eagle'][0]], res))"
   ]
  },
  {
   "cell_type": "code",
   "execution_count": 100,
   "metadata": {
    "collapsed": true
   },
   "outputs": [],
   "source": [
    "tag_mapping = {\n",
    "    'a': 'adj',\n",
    "    'r': 'adv',\n",
    "    'd': 'det',\n",
    "    'n': 'noun',\n",
    "    'v': 'verb',\n",
    "    'p': 'pron',\n",
    "    'c': 'conj',\n",
    "    'i': 'interj',\n",
    "    's': 'prep',\n",
    "    'f': 'punt',\n",
    "    'z': 'num',\n",
    "    'w': 'date-time',\n",
    "}\n",
    "\n",
    "def has_category(category, entries):\n",
    "    return category in map(lambda x: tag_mapping[x['eagle'][0]], entries)\n",
    "\n",
    "def is_number(x):\n",
    "    return x in ['un', 'una', 'dos', 'tres', 'cuatro', 'cinco', 'seis', 'siete', 'ocho', 'nueve']\n",
    "\n",
    "def ingredient_tagger(x):\n",
    "    result = []\n",
    "    tokens = nltk.word_tokenize(x)\n",
    "    if len(tokens) == 1:\n",
    "        result.append((x, 'noun'))\n",
    "    else:\n",
    "        tags = sp_tagger.tag(tokens)\n",
    "        for token, tag in tags:\n",
    "            if not tag:\n",
    "                res = list(db.es_lexicon.find({'flexion': token}))\n",
    "                if res:\n",
    "                    if has_category('noun', res):\n",
    "                        tag = 'noun'\n",
    "                    elif has_category('adj', res):\n",
    "                        tag = 'adj'\n",
    "                    elif has_category('verb', res):\n",
    "                        tag = 'verb'\n",
    "                    elif has_category('num', res):\n",
    "                        tag = 'num'\n",
    "                    else:\n",
    "                        tag = tag_mapping[res[0]['eagle'][0]]\n",
    "                else:\n",
    "                    tag = 'noun'\n",
    "                result.append((token, tag))\n",
    "            elif is_number(token):\n",
    "                result.append((token, 'num'))\n",
    "            else:\n",
    "                result.append((token, tag_mapping[tag.lower()[0]]))\n",
    "    return result"
   ]
  },
  {
   "cell_type": "code",
   "execution_count": 76,
   "metadata": {
    "collapsed": false
   },
   "outputs": [],
   "source": [
    "# Numbers\n",
    "def numbers(x):\n",
    "    return x.replace(' 1 ', ' uno ') \\\n",
    "            .replace(' 2 ', ' dos ') \\\n",
    "            .replace(' 3 ', ' tres ') \\\n",
    "            .replace(' 4 ', ' cuatro ') \\\n",
    "            .replace(' 5 ', ' cinco ') \\\n",
    "            .replace(' 6 ', ' seis ') \\\n",
    "            .replace(' 7 ', ' siete ') \\\n",
    "            .replace(' 8 ', ' ocho ') \\\n",
    "            .replace(' 9 ', ' nueve ')\n",
    "\n",
    "# Accent marks on vowels - {'á', 'ã', 'ç', 'è', 'é', 'ê', 'í', 'ñ', 'ò', 'ó', 'ú', 'ü', 'ō'}\n",
    "def accent_marks(x):\n",
    "    return x.replace('á', 'a') \\\n",
    "            .replace('ã', 'a') \\\n",
    "            .replace('è', 'e') \\\n",
    "            .replace('é', 'e') \\\n",
    "            .replace('ê', 'e') \\\n",
    "            .replace('í', 'i') \\\n",
    "            .replace('ò', 'o') \\\n",
    "            .replace('ó', 'o') \\\n",
    "            .replace('ō', 'o') \\\n",
    "            .replace('ú', 'u') \\\n",
    "            .replace('ü', 'u')\n",
    "\n",
    "# Non-ascii consonants - {'á', 'ã', 'ç', 'è', 'é', 'ê', 'í', 'ñ', 'ò', 'ó', 'ú', 'ü', 'ō'}\n",
    "def nonascii_consonants(x):\n",
    "    return x.replace('ç', 'c') \\\n",
    "            .replace('ñ', 'n')\n",
    "    \n",
    "# Dashes (-)\n",
    "def dashes1(x):\n",
    "    return x.replace('-', '')\n",
    "\n",
    "def dashes2(x):\n",
    "    return x.replace('-', ' ')\n",
    "\n",
    "# POS tags\n",
    "# ADJETIVOS .... A ADJ ...... X\n",
    "# ADVERBIOS .... R ADV\n",
    "# DETERMINANTES  D DET\n",
    "# NOMBRES ...... N NOUN ..... X\n",
    "# VERBOS ....... V VERB ..... X\n",
    "# PRONOMBRES ... P PRON\n",
    "# CONJUNCIONES . C CONJ\n",
    "# INTERJECCIONES I INTERJ\n",
    "# PREPOSICIONES  S PREP\n",
    "# PUNTUACIÓN ... F PUNTUATION\n",
    "# NUMERALES .... Z NUM ...... X\n",
    "# FECHAS Y HORAS W DATE-TIME\n",
    "def pos_tags(x):\n",
    "    tags = ingredient_tagger(x)\n",
    "    filtered = [token\n",
    "                for token, tag in tags\n",
    "                if tag in ['num', 'verb', 'adj', 'noun']\n",
    "               ]\n",
    "    return ' '.join(filtered)\n",
    "\n",
    "funcs = [pos_tags, numbers, accent_marks, nonascii_consonants, dashes1, dashes2] # pos_tags first\n",
    "combinations = []\n",
    "for i in range(1, len(funcs) + 1):\n",
    "    combinations.append(list(itertools.combinations(funcs, i)))\n",
    "combinations = [c for comb in combinations for c in comb]\n",
    "\n",
    "# def normalize(ingredient): # time consuming\n",
    "#     result = set()\n",
    "#     for c in combinations:\n",
    "#         x = ingredient\n",
    "#         for f in c:\n",
    "#             x = f(x)\n",
    "#         result.add(x)\n",
    "#     return result\n",
    "\n",
    "def normalize(ingredient): # dynamic programming version\n",
    "    d = {}\n",
    "    for f in funcs:\n",
    "        d[f] = {}\n",
    "    result = set()\n",
    "    for c in combinations:\n",
    "        x = ingredient\n",
    "        for f in c:\n",
    "            if not x in d[f]:\n",
    "                d[f][x] = f(x)\n",
    "            x = d[f][x]\n",
    "        result.add(x)\n",
    "    return result"
   ]
  },
  {
   "cell_type": "code",
   "execution_count": 78,
   "metadata": {
    "collapsed": false
   },
   "outputs": [
    {
     "data": {
      "text/plain": [
       "{'acido 5 pinas',\n",
       " 'acido 5 piñas',\n",
       " 'acido cinco pinas',\n",
       " 'acido cinco piñas',\n",
       " 'acido de 5 pinas',\n",
       " 'acido de 5 piñas',\n",
       " 'acido de cinco pinas',\n",
       " 'acido de cinco piñas',\n",
       " 'ácido 5 pinas',\n",
       " 'ácido 5 piñas',\n",
       " 'ácido cinco pinas',\n",
       " 'ácido cinco piñas',\n",
       " 'ácido de 5 pinas',\n",
       " 'ácido de 5 piñas',\n",
       " 'ácido de cinco pinas',\n",
       " 'ácido de cinco piñas'}"
      ]
     },
     "execution_count": 78,
     "metadata": {},
     "output_type": "execute_result"
    }
   ],
   "source": [
    "normalize('ácido de 5 piñas')"
   ]
  },
  {
   "cell_type": "code",
   "execution_count": 101,
   "metadata": {
    "collapsed": true
   },
   "outputs": [],
   "source": [
    "def first(cat, entries):\n",
    "    for e in entries:\n",
    "        if e['eagle'][0] == cat:\n",
    "            break\n",
    "    return e\n",
    "\n",
    "def singularize(x):\n",
    "    sing = x\n",
    "    if x.endswith('s') and not is_number(x):\n",
    "        res = list(db.es_lexicon.find({'flexion': x}))\n",
    "        if res:\n",
    "            if has_category('noun', res):\n",
    "                r = first('n', res)\n",
    "                eagle = r['eagle'][:3] + 's' + r['eagle'][4:]\n",
    "            elif has_category('adj', res):\n",
    "                r = first('a', res)\n",
    "                eagle = r['eagle'][:4] + 's' + r['eagle'][5:]\n",
    "            elif has_category('verb', res):\n",
    "                r = first('v', res)\n",
    "                eagle = r['eagle'][:5] + 's' + r['eagle'][6:]\n",
    "            elif has_category('det', res):\n",
    "                r = first('d', res)\n",
    "                eagle = r['eagle'][:4] + 's' + r['eagle'][5:]\n",
    "            elif has_category('pron', res):\n",
    "                r = first('p', res)\n",
    "                eagle = r['eagle'][:4] + 's' + r['eagle'][5:]\n",
    "            elif has_category('prep', res):\n",
    "                r = first('s', res)\n",
    "                eagle = r['eagle'][:3] + 's' + r['eagle'][4:]\n",
    "            else:\n",
    "                r = res[0]\n",
    "                eagle = r['eagle']\n",
    "            lemma = r['lemma']\n",
    "            s = db.es_lexicon.find_one({'lemma': lemma, 'eagle': eagle})\n",
    "            if s:\n",
    "                sing = s['flexion']\n",
    "    return sing\n",
    "\n",
    "def lemmatize(ingredient):\n",
    "    tokens = nltk.word_tokenize(ingredient)\n",
    "    return ' '.join((map(singularize, tokens)))"
   ]
  },
  {
   "cell_type": "code",
   "execution_count": 102,
   "metadata": {
    "collapsed": false
   },
   "outputs": [
    {
     "data": {
      "text/plain": [
       "'dos'"
      ]
     },
     "execution_count": 102,
     "metadata": {},
     "output_type": "execute_result"
    }
   ],
   "source": [
    "singularize('dos')"
   ]
  },
  {
   "cell_type": "code",
   "execution_count": 85,
   "metadata": {
    "collapsed": false
   },
   "outputs": [
    {
     "data": {
      "text/plain": [
       "[]"
      ]
     },
     "execution_count": 85,
     "metadata": {},
     "output_type": "execute_result"
    }
   ],
   "source": [
    "list(db.es_lexicon.find({'flexion': 'vivo', 'lemma': 'vivira'}))"
   ]
  },
  {
   "cell_type": "code",
   "execution_count": 69,
   "metadata": {
    "collapsed": false
   },
   "outputs": [
    {
     "data": {
      "text/plain": [
       "3238"
      ]
     },
     "execution_count": 69,
     "metadata": {},
     "output_type": "execute_result"
    }
   ],
   "source": [
    "for length in lengths:\n",
    "    for ingr in graph_syn.nodes_iter():\n",
    "        tokens = nltk.word_tokenize(ingr)\n",
    "        if len(tokens) == length:\n",
    "            lemmatized = lemmatize(tokens)\n",
    "            if not lemmatized in graph_syn:\n",
    "                graph_syn.add_node(lemmatized, count=1)\n",
    "            else:\n",
    "                graph_syn.node[lemmatized]['count'] += 1\n",
    "            graph_syn.add_edge(ingr, lemmatized)"
   ]
  },
  {
   "cell_type": "code",
   "execution_count": 71,
   "metadata": {
    "collapsed": false
   },
   "outputs": [
    {
     "data": {
      "text/plain": [
       "{'algas'}"
      ]
     },
     "execution_count": 71,
     "metadata": {},
     "output_type": "execute_result"
    }
   ],
   "source": [
    "nx.node_connected_component(graph_syn, 'algas')"
   ]
  },
  {
   "cell_type": "code",
   "execution_count": 46,
   "metadata": {
    "collapsed": false
   },
   "outputs": [],
   "source": [
    "for line in all_lines:\n",
    "    syn_set = set()\n",
    "    ingrs1 = line.strip()\n",
    "    for ingrs2 in ingrs1.split(' / '):\n",
    "        for ingr in ingrs2.split(' o '):\n",
    "            syn_set.add(ingr)\n",
    "    syn_set = list(syn_set)\n",
    "    i1 = syn_set[0]\n",
    "    for i2 in syn_set[1:]:\n",
    "        graph_syn.add_edge(i1, i2)"
   ]
  },
  {
   "cell_type": "code",
   "execution_count": 31,
   "metadata": {
    "collapsed": false
   },
   "outputs": [],
   "source": [
    "nonascii = set()\n",
    "for ingr in graph_syn.nodes_iter():\n",
    "#     q = ingr.replace(' ', 'xxx')\n",
    "#     if not q.isalpha():\n",
    "#         print(q.replace('xxx', ' '))\n",
    "    if not is_ascii(ingr):\n",
    "        for c in ingr:\n",
    "            if not is_ascii(c):\n",
    "                nonascii.add(c)"
   ]
  },
  {
   "cell_type": "code",
   "execution_count": 45,
   "metadata": {
    "collapsed": true
   },
   "outputs": [],
   "source": [
    "def normalize(expr):\n",
    "    pass\n",
    "\n",
    "def lemmatize(expr):\n",
    "    pass"
   ]
  },
  {
   "cell_type": "code",
   "execution_count": 46,
   "metadata": {
    "collapsed": false
   },
   "outputs": [],
   "source": [
    "for line in all_lines:\n",
    "    syn_set = set()\n",
    "    ingrs1 = line.strip()\n",
    "    for ingrs2 in ingrs1.split(' / '):\n",
    "        for ingr in ingrs2.split(' o '):\n",
    "            lemmatized = lemmatize(ingr)\n",
    "            if not lemmatized in graph_syn:\n",
    "                graph_syn.add_node(lemmatized, count=1, is_lemma=True, is_repr=False)\n",
    "            else:\n",
    "                graph_syn.node[lemmatized]['count'] += 1\n",
    "                graph_syn.node[lemmatized]['is_lemma'] = True\n",
    "            syn_set.add(ingr)\n",
    "            syn_set.add(lemmatized)\n",
    "    syn_set = list(syn_set)\n",
    "    i1 = syn_set[0]\n",
    "    for i2 in syn_set[1:]:\n",
    "        graph_syn.add_edge(i1, i2)"
   ]
  },
  {
   "cell_type": "code",
   "execution_count": 25,
   "metadata": {
    "collapsed": true
   },
   "outputs": [],
   "source": [
    "g=nx.Graph()"
   ]
  },
  {
   "cell_type": "code",
   "execution_count": 26,
   "metadata": {
    "collapsed": true
   },
   "outputs": [],
   "source": [
    "g.add_edge(1, 1, b=5)"
   ]
  },
  {
   "cell_type": "code",
   "execution_count": 27,
   "metadata": {
    "collapsed": false
   },
   "outputs": [
    {
     "data": {
      "text/plain": [
       "[(1, 1, {'b': 5})]"
      ]
     },
     "execution_count": 27,
     "metadata": {},
     "output_type": "execute_result"
    }
   ],
   "source": [
    "g.edges(data=True)"
   ]
  },
  {
   "cell_type": "code",
   "execution_count": null,
   "metadata": {
    "collapsed": true
   },
   "outputs": [],
   "source": []
  },
  {
   "cell_type": "code",
   "execution_count": 28,
   "metadata": {
    "collapsed": true
   },
   "outputs": [],
   "source": [
    "g.add_node(1, {'a':3})"
   ]
  },
  {
   "cell_type": "code",
   "execution_count": 29,
   "metadata": {
    "collapsed": false
   },
   "outputs": [
    {
     "data": {
      "text/plain": [
       "[(1, {'a': 3})]"
      ]
     },
     "execution_count": 29,
     "metadata": {},
     "output_type": "execute_result"
    }
   ],
   "source": [
    "g.nodes(data=True)"
   ]
  },
  {
   "cell_type": "code",
   "execution_count": 26,
   "metadata": {
    "collapsed": false
   },
   "outputs": [],
   "source": [
    "g.node[1]['a'] += 1"
   ]
  },
  {
   "cell_type": "code",
   "execution_count": 5,
   "metadata": {
    "collapsed": false
   },
   "outputs": [
    {
     "data": {
      "text/plain": [
       "nltk.probability.FreqDist"
      ]
     },
     "execution_count": 5,
     "metadata": {},
     "output_type": "execute_result"
    }
   ],
   "source": [
    "type(nltk.FreqDist())"
   ]
  },
  {
   "cell_type": "code",
   "execution_count": 6,
   "metadata": {
    "collapsed": true
   },
   "outputs": [],
   "source": [
    "def lemmatizer(x):\n",
    "    return nltk.FreqDist(x)"
   ]
  },
  {
   "cell_type": "code",
   "execution_count": 12,
   "metadata": {
    "collapsed": false
   },
   "outputs": [],
   "source": [
    "xxx=lemmatizer()"
   ]
  },
  {
   "cell_type": "code",
   "execution_count": null,
   "metadata": {
    "collapsed": true
   },
   "outputs": [],
   "source": [
    "def add_es_ingredient(ingredient):\n",
    "    #ingredient tiene format \"salsa de soja o salsa de soya\" -> esto no puede ir en las funciones clean\n",
    "    #pq entonces se pierde la info de que son ingredientes sinonimos\n",
    "    #puede estar en singular o plurar\n",
    "    #hay que lematizar la expresion (ingredient) completa, eliminar preps, arts... segun mi criterio\n",
    "    #hay que guardar todas las posibles variantes del ingredient y su lematizacion\n",
    "    #guardar esta funcion en un obj pickle y \"exportarla\" donde sea necesario"
   ]
  },
  {
   "cell_type": "code",
   "execution_count": 28,
   "metadata": {
    "collapsed": false
   },
   "outputs": [],
   "source": [
    "if __name__=='__main__':\n",
    "    with open('pickle/lemmatizer.pickle', 'wb') as f:\n",
    "        pickle.dump(xxx, f)"
   ]
  },
  {
   "cell_type": "code",
   "execution_count": 24,
   "metadata": {
    "collapsed": true
   },
   "outputs": [],
   "source": [
    "class A:\n",
    "    def lemmatizer(self, x):\n",
    "        return nltk.FreqDist(x)"
   ]
  },
  {
   "cell_type": "code",
   "execution_count": 25,
   "metadata": {
    "collapsed": true
   },
   "outputs": [],
   "source": [
    "xxx = A()"
   ]
  },
  {
   "cell_type": "code",
   "execution_count": 26,
   "metadata": {
    "collapsed": false
   },
   "outputs": [
    {
     "data": {
      "text/plain": [
       "Counter({'a': 2, 'b': 1})"
      ]
     },
     "execution_count": 26,
     "metadata": {},
     "output_type": "execute_result"
    }
   ],
   "source": [
    "xxx.lemmatizer(['a','a','b'])"
   ]
  },
  {
   "cell_type": "code",
   "execution_count": 38,
   "metadata": {
    "collapsed": false
   },
   "outputs": [
    {
     "name": "stdout",
     "output_type": "stream",
     "text": [
      "['aceite']\n",
      "['óleo']\n",
      "['petróleo']\n",
      "[]\n",
      "[]\n",
      "[]\n"
     ]
    }
   ],
   "source": [
    ">>> from nltk.corpus import wordnet as wn\n",
    "for ss in wn.synsets('oil'):\n",
    "    print(ss.lemma_names('spa'))"
   ]
  },
  {
   "cell_type": "code",
   "execution_count": 69,
   "metadata": {
    "collapsed": false
   },
   "outputs": [
    {
     "data": {
      "text/plain": [
       "<bound method WordNetCorpusReader.langs of <WordNetCorpusReader in '/home/antonio/nltk_data/corpora/wordnet'>>"
      ]
     },
     "execution_count": 69,
     "metadata": {},
     "output_type": "execute_result"
    }
   ],
   "source": [
    "wn.langs"
   ]
  },
  {
   "cell_type": "code",
   "execution_count": 70,
   "metadata": {
    "collapsed": false
   },
   "outputs": [
    {
     "ename": "ImportError",
     "evalue": "cannot import name 'omw'",
     "output_type": "error",
     "traceback": [
      "\u001b[1;31m---------------------------------------------------------------------------\u001b[0m",
      "\u001b[1;31mImportError\u001b[0m                               Traceback (most recent call last)",
      "\u001b[1;32m<ipython-input-70-77520f454251>\u001b[0m in \u001b[0;36m<module>\u001b[1;34m()\u001b[0m\n\u001b[1;32m----> 1\u001b[1;33m \u001b[1;32mfrom\u001b[0m \u001b[0mnltk\u001b[0m\u001b[1;33m.\u001b[0m\u001b[0mcorpus\u001b[0m \u001b[1;32mimport\u001b[0m \u001b[0momw\u001b[0m\u001b[1;33m\u001b[0m\u001b[0m\n\u001b[0m",
      "\u001b[1;31mImportError\u001b[0m: cannot import name 'omw'"
     ]
    }
   ],
   "source": [
    "from nltk.corpus import omw"
   ]
  },
  {
   "cell_type": "code",
   "execution_count": 83,
   "metadata": {
    "collapsed": false
   },
   "outputs": [],
   "source": [
    "l=wn.lemmas('cane', lang='ita')[0]"
   ]
  },
  {
   "cell_type": "code",
   "execution_count": 92,
   "metadata": {
    "collapsed": false
   },
   "outputs": [
    {
     "data": {
      "text/plain": [
       "Synset('dog.n.01')"
      ]
     },
     "execution_count": 92,
     "metadata": {},
     "output_type": "execute_result"
    }
   ],
   "source": [
    "l.synset()"
   ]
  },
  {
   "cell_type": "code",
   "execution_count": 93,
   "metadata": {
    "collapsed": false
   },
   "outputs": [
    {
     "data": {
      "text/plain": [
       "Lemma('dog.n.01.cane')"
      ]
     },
     "execution_count": 93,
     "metadata": {},
     "output_type": "execute_result"
    }
   ],
   "source": [
    "l"
   ]
  },
  {
   "cell_type": "code",
   "execution_count": 25,
   "metadata": {
    "collapsed": false
   },
   "outputs": [],
   "source": [
    "ls = wn.lemmas('amaba', lang='spa')"
   ]
  },
  {
   "cell_type": "code",
   "execution_count": 26,
   "metadata": {
    "collapsed": false
   },
   "outputs": [],
   "source": [
    "for x in ls:\n",
    "    print(x.name())"
   ]
  },
  {
   "cell_type": "code",
   "execution_count": null,
   "metadata": {
    "collapsed": true
   },
   "outputs": [],
   "source": [
    "lematizar solamente usando mi lexicon en español\n",
    "si no existe la palabra y no se puede lematizar, quitar s final si existe\n",
    "esto aplica a adj y noun, poco probable encontrar un verbo"
   ]
  }
 ],
 "metadata": {
  "kernelspec": {
   "display_name": "Python 3",
   "language": "python",
   "name": "python3"
  },
  "language_info": {
   "codemirror_mode": {
    "name": "ipython",
    "version": 3
   },
   "file_extension": ".py",
   "mimetype": "text/x-python",
   "name": "python",
   "nbconvert_exporter": "python",
   "pygments_lexer": "ipython3",
   "version": "3.4.3"
  }
 },
 "nbformat": 4,
 "nbformat_minor": 0
}
