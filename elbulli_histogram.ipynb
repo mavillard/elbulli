{
 "cells": [
  {
   "cell_type": "code",
   "execution_count": 1,
   "metadata": {
    "collapsed": true
   },
   "outputs": [],
   "source": [
    "import csv\n",
    "import os\n",
    "import string\n",
    "from collections import Counter\n",
    "from collections import defaultdict\n",
    "\n",
    "import nltk"
   ]
  },
  {
   "cell_type": "code",
   "execution_count": 2,
   "metadata": {
    "collapsed": true
   },
   "outputs": [],
   "source": [
    "spanish_stopwords = set()\n",
    "with open('data/spanish_stopwords.txt') as f:\n",
    "    for line in f:\n",
    "        word = line.strip()\n",
    "        spanish_stopwords.add(word)"
   ]
  },
  {
   "cell_type": "code",
   "execution_count": 3,
   "metadata": {
    "collapsed": false
   },
   "outputs": [
    {
     "name": "stdout",
     "output_type": "stream",
     "text": [
      "CPU times: user 11.2 s, sys: 24 ms, total: 11.2 s\n",
      "Wall time: 11.5 s\n"
     ]
    }
   ],
   "source": [
    "%%time\n",
    "\n",
    "alltokens = defaultdict(int)\n",
    "count = 0\n",
    "rows = []\n",
    "\n",
    "path = 'data/recipes/elbulli/'\n",
    "for folder in os.listdir(path):\n",
    "    for filename in os.listdir(path + folder):\n",
    "        with open(path + folder + '/' + filename) as f:\n",
    "            text = ''\n",
    "            for line in f:\n",
    "                line = line.strip()\n",
    "                if line.startswith('&titol') or \\\n",
    "                    line.startswith('&ingredientselaboracio') or \\\n",
    "                    line.startswith('&descripcioelaboracio') or \\\n",
    "                    line.startswith('&acabatipresentacio') or \\\n",
    "                    line.startswith('&titolelaboracio'):\n",
    "                        equals_index = line.index('=')\n",
    "                        text += line[equals_index + 1:].lower() + ' - '\n",
    "            tokens = nltk.word_tokenize(text)\n",
    "            for token in tokens:\n",
    "                token = token.strip(string.punctuation)\n",
    "                alltokens[token] += 1"
   ]
  },
  {
   "cell_type": "code",
   "execution_count": 4,
   "metadata": {
    "collapsed": false
   },
   "outputs": [],
   "source": [
    "histogram = {}\n",
    "for token in alltokens:\n",
    "    conditions = [\n",
    "        len(token) > 2,\n",
    "        token not in spanish_stopwords,\n",
    "        token not in string.punctuation,\n",
    "        any(map(lambda x: x.isalpha(), token)),\n",
    "#         alltokens[token] > 1,\n",
    "    ]\n",
    "    if all(conditions):\n",
    "        histogram[token] = alltokens[token]"
   ]
  },
  {
   "cell_type": "code",
   "execution_count": 5,
   "metadata": {
    "collapsed": false
   },
   "outputs": [],
   "source": [
    "counter = Counter(histogram)"
   ]
  },
  {
   "cell_type": "code",
   "execution_count": 6,
   "metadata": {
    "collapsed": false
   },
   "outputs": [
    {
     "data": {
      "text/plain": [
       "6653"
      ]
     },
     "execution_count": 6,
     "metadata": {},
     "output_type": "execute_result"
    }
   ],
   "source": [
    "len(counter)"
   ]
  },
  {
   "cell_type": "code",
   "execution_count": 7,
   "metadata": {
    "collapsed": false
   },
   "outputs": [
    {
     "data": {
      "text/plain": [
       "[('agua', 6653),\n",
       " ('aceite', 3943),\n",
       " ('poner', 3872),\n",
       " ('sal', 3436),\n",
       " ('guardar', 2809),\n",
       " ('dejar', 2658),\n",
       " ('nevera', 2521),\n",
       " ('cortar', 2302),\n",
       " ('azúcar', 2275),\n",
       " ('gelatina', 2261)]"
      ]
     },
     "execution_count": 7,
     "metadata": {},
     "output_type": "execute_result"
    }
   ],
   "source": [
    "counter.most_common(10)"
   ]
  },
  {
   "cell_type": "code",
   "execution_count": 8,
   "metadata": {
    "collapsed": false
   },
   "outputs": [],
   "source": [
    "with open('data/elbulli_words.csv', 'w') as f:\n",
    "    writer = csv.writer(\n",
    "        f,\n",
    "        delimiter=',',\n",
    "        quotechar='\"',\n",
    "        quoting=csv.QUOTE_MINIMAL\n",
    "    )\n",
    "    for word, freq in counter.most_common():\n",
    "        writer.writerow([word, freq])"
   ]
  },
  {
   "cell_type": "code",
   "execution_count": 9,
   "metadata": {
    "collapsed": true
   },
   "outputs": [],
   "source": [
    "# # Sort spanish_stopwords.txt\n",
    "\n",
    "# spanish_stopwords = set()\n",
    "# with open('data/spanish_stopwords.txt') as f:\n",
    "#     for line in f:\n",
    "#         word = line.strip()\n",
    "#         spanish_stopwords.add(word)\n",
    "\n",
    "# spanish_stopwords = sorted(spanish_stopwords)\n",
    "# with open('data/spanish_stopwords.txt', 'w') as f:\n",
    "#     for word in spanish_stopwords:\n",
    "#         f.write(word + '\\n')"
   ]
  },
  {
   "cell_type": "code",
   "execution_count": null,
   "metadata": {
    "collapsed": true
   },
   "outputs": [],
   "source": []
  }
 ],
 "metadata": {
  "kernelspec": {
   "display_name": "Python 3",
   "language": "python",
   "name": "python3"
  },
  "language_info": {
   "codemirror_mode": {
    "name": "ipython",
    "version": 3
   },
   "file_extension": ".py",
   "mimetype": "text/x-python",
   "name": "python",
   "nbconvert_exporter": "python",
   "pygments_lexer": "ipython3",
   "version": "3.4.3"
  }
 },
 "nbformat": 4,
 "nbformat_minor": 0
}
