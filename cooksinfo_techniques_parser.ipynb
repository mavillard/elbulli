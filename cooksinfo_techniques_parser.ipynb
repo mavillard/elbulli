{
 "cells": [
  {
   "cell_type": "code",
   "execution_count": 1,
   "metadata": {
    "collapsed": false
   },
   "outputs": [],
   "source": [
    "from bs4 import BeautifulSoup\n",
    "from nltk.stem import WordNetLemmatizer"
   ]
  },
  {
   "cell_type": "code",
   "execution_count": 2,
   "metadata": {
    "collapsed": true
   },
   "outputs": [],
   "source": [
    "def inf_ing(v_ing):\n",
    "    inf = v_ing\n",
    "    if v_ing == 'de-seeding':\n",
    "        inf = 'de-seed'\n",
    "    elif v_ing == 'sautéing':\n",
    "        inf = 'sauté'\n",
    "    else:\n",
    "        inf = WordNetLemmatizer().lemmatize(v_ing.lower(), 'v')\n",
    "    return inf\n",
    "\n",
    "def infinitive(words):\n",
    "    aux = []\n",
    "    word_list = words.split()\n",
    "    for word in word_list:\n",
    "        if word != 'cook' and word != 'cooking':\n",
    "            if word.endswith('ing'):\n",
    "                inf = inf_ing(word.lower())\n",
    "                aux.append(inf)\n",
    "                if inf == word:\n",
    "                    print('NO INFINITIVE FOR', word)\n",
    "            else:\n",
    "                aux.append(word.lower())\n",
    "    result = ' '.join(aux)\n",
    "    return result\n",
    "\n",
    "def trim(s):\n",
    "    return ' '.join(s.split())"
   ]
  },
  {
   "cell_type": "code",
   "execution_count": 3,
   "metadata": {
    "collapsed": true
   },
   "outputs": [],
   "source": [
    "def clean(l):\n",
    "    r = []\n",
    "    for e in l:\n",
    "        x = e.strip().lower().replace('_', ' ')\n",
    "        x = infinitive(x)\n",
    "        r.append(x)\n",
    "    return r"
   ]
  },
  {
   "cell_type": "code",
   "execution_count": 4,
   "metadata": {
    "collapsed": false
   },
   "outputs": [],
   "source": [
    "techniques = set()\n",
    "\n",
    "with open('data/techniques/bbcfood_techniques.html') as f:\n",
    "    soup = BeautifulSoup(f.read(), 'html.parser')\n",
    "    elems = ['beating', 'chopping', 'creaming', 'crimping', 'deboning', 'de-seeding', 'dicing', 'filleting', 'glazing', 'grating', 'peeling', 'rolling', 'shredding', 'skinning', 'slicing', 'tenderizing', 'zesting', 'baking', 'boiling', 'braising', 'broiling', 'frying', 'grilling', 'roasting', 'poaching', 'sautéing', 'steaming', 'stewing', 'chilling', 'freezing', 'browning', 'carving', 'deglazing', 'jointing', 'saucing', 'scalding', 'scoring', 'searing', 'skimming']\n",
    "    techs = map(lambda x: trim(x), elems)\n",
    "    clean_techs = clean(techs)\n",
    "    techniques = techniques.union(clean_techs)\n",
    "\n",
    "with open('data/techniques/cooksinfo_techniques.txt', 'w') as f:\n",
    "    f.write('\\n'.join(sorted(techniques)))"
   ]
  },
  {
   "cell_type": "code",
   "execution_count": 5,
   "metadata": {
    "collapsed": false
   },
   "outputs": [
    {
     "data": {
      "text/plain": [
       "39"
      ]
     },
     "execution_count": 5,
     "metadata": {},
     "output_type": "execute_result"
    }
   ],
   "source": [
    "len(techniques)"
   ]
  },
  {
   "cell_type": "code",
   "execution_count": null,
   "metadata": {
    "collapsed": true
   },
   "outputs": [],
   "source": []
  }
 ],
 "metadata": {
  "kernelspec": {
   "display_name": "Python 3",
   "language": "python",
   "name": "python3"
  },
  "language_info": {
   "codemirror_mode": {
    "name": "ipython",
    "version": 3
   },
   "file_extension": ".py",
   "mimetype": "text/x-python",
   "name": "python",
   "nbconvert_exporter": "python",
   "pygments_lexer": "ipython3",
   "version": "3.4.3"
  }
 },
 "nbformat": 4,
 "nbformat_minor": 0
}
