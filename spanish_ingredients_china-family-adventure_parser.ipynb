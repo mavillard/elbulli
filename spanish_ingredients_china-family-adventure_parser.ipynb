{
 "cells": [
  {
   "cell_type": "code",
   "execution_count": 1,
   "metadata": {
    "collapsed": false
   },
   "outputs": [],
   "source": [
    "from bs4 import BeautifulSoup"
   ]
  },
  {
   "cell_type": "code",
   "execution_count": 2,
   "metadata": {
    "collapsed": false
   },
   "outputs": [],
   "source": [
    "def trim(s):\n",
    "    return ' '.join(s.split())"
   ]
  },
  {
   "cell_type": "code",
   "execution_count": 3,
   "metadata": {
    "collapsed": true
   },
   "outputs": [],
   "source": [
    "def clean(l):\n",
    "    r = []\n",
    "    for e in l:\n",
    "        if e not in [\n",
    "        ]:\n",
    "            x = e.strip().lower().replace('_', ' ')\n",
    "            x = x.split(' (')[0]\n",
    "            r.append(x)\n",
    "    return r"
   ]
  },
  {
   "cell_type": "code",
   "execution_count": 15,
   "metadata": {
    "collapsed": false
   },
   "outputs": [
    {
     "name": "stdout",
     "output_type": "stream",
     "text": [
      "ajo\n",
      "jengibre\n",
      "cebollitas verdes\n",
      "chiles o ajíes\n",
      "cilantro o perejil chino\n",
      "salsa de soya\n",
      "salsa de ostras\n",
      "aceite de ajonjolí\n",
      "polvo de cinco especias\n",
      "salsa de chiles o ajíes\n",
      "pasta de chile o ajíes\n",
      "vinagre de arroz o chinkiang\n",
      "salsa de ciruela\n",
      "salsa o pasta de frijol negro\n",
      "bok choy\n",
      "berenjena china\n",
      "repollo chino\n",
      "gai lan o brócoli chino\n",
      "brotes o frijolitos de soya\n",
      "arvejas chinas\n",
      "rábano blanco\n",
      "hongos chinos\n",
      "brotes de bambú\n",
      "chorizos chinos\n",
      "envolturas de rollitos de primavera\n",
      "tofu o queso de soya\n",
      "tallarines o fideos\n",
      "fideos de arroz\n",
      "arroz\n",
      "té chino\n"
     ]
    }
   ],
   "source": [
    "ingredients = set()\n",
    "\n",
    "with open('data/ingredients/es/china-family-adventure/china-family-adventure_spanish_ingredients.html') as f:\n",
    "    soup = BeautifulSoup(f.read(), 'html.parser')\n",
    "    elems = soup.select('body div.content-box tr td b font[size=+1]')\n",
    "    ingrs = map(lambda x: trim(x.text), elems)\n",
    "    clean_ingrs = clean(ingrs)\n",
    "    for ci in clean_ingrs:\n",
    "        print(ci)\n",
    "    ingredients = ingredients.union(clean_ingrs)\n",
    "\n",
    "with open('data/ingredients/china-family-adventure_spanish_ingredients.txt', 'w') as f:\n",
    "    f.write('\\n'.join(sorted(ingredients)))"
   ]
  },
  {
   "cell_type": "code",
   "execution_count": null,
   "metadata": {
    "collapsed": true
   },
   "outputs": [],
   "source": []
  }
 ],
 "metadata": {
  "kernelspec": {
   "display_name": "Python 3",
   "language": "python",
   "name": "python3"
  },
  "language_info": {
   "codemirror_mode": {
    "name": "ipython",
    "version": 3
   },
   "file_extension": ".py",
   "mimetype": "text/x-python",
   "name": "python",
   "nbconvert_exporter": "python",
   "pygments_lexer": "ipython3",
   "version": "3.4.3"
  }
 },
 "nbformat": 4,
 "nbformat_minor": 0
}
