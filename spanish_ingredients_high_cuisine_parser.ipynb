{
 "cells": [
  {
   "cell_type": "code",
   "execution_count": 1,
   "metadata": {
    "collapsed": false
   },
   "outputs": [
    {
     "data": {
      "text/plain": [
       "58"
      ]
     },
     "execution_count": 1,
     "metadata": {},
     "output_type": "execute_result"
    }
   ],
   "source": [
    "# http://llenatudespensa.com/Catalogo/Mostrar/ingredientes-alta-cocina_57.html\n",
    "ingredients1 = set(map(lambda x: x.lower(), [\n",
    "    'Vinagre de crema balsámica clásica', 'Vinagre de crema balsámica de trufa', 'Vinagre de crema balsámica de higos',\n",
    "    'Vinagre de crema balsámica de frutos del bosque', 'Crema balsámica glaze clasica', 'Crema balsámica de limón',\n",
    "    'Vinagre de vino Pedro Ximenez', 'Vinagre de jerez solera', 'Vinagre de Jerez Macetilla',\n",
    "    'Vinagre de vino Pedro Ximenez', 'Vinagre balsamico de modena', 'Vinagre balsamico de modena',\n",
    "    'Aceite virgen extra de oliva con ceps', 'Aceite de pepitas de uva con trufa negra',\n",
    "    'Aceite de oliva virgen extra con ajo', 'Aceite de oliva virgen extra con guindilla',\n",
    "    'Aceite de oliva virgen extra con albahaca', 'Aceite de oliva virgen extra con setas', 'Aceite ahumado de haya',\n",
    "    'Tinta de calamar', 'Crema tartufata', 'Crema tartufata Blanca', 'Crema de bogavante', 'Txangurro natural',\n",
    "    'Pate de aceituna negra', 'Pate de aceituna negra', 'Confitura Naranja Dulce', 'Confitura Albaricoque',\n",
    "    'Confitura Naranja Dulce', 'Confitura Diet Albaricoque', 'Confitura Naranja Amarga', 'Confitura Cabello De Angel',\n",
    "    'Confitura de tomate rojo de la huerta', 'Cebolla confitada artesana', 'Confitura Diet Naranja Amarga',\n",
    "    'Confitura Diet Melocotón', 'Confitura Diet Fresa', 'Confitura Cereza Negra', 'Confitura Melocotón',\n",
    "    'Confitura Fresa', 'Confitura Diet Ciruela', 'Confitura Tomate', 'Confitura Arandanos',\n",
    "    'Confitura Petalos De Violeta', 'Confitura Frambuesa', 'Mermelada pimiento', 'Mermelada manzana',\n",
    "    'Mermelada cebolla', 'Tomate confitado artesano', 'Confitura Petalos De Rosa', 'Confitura Naranja Dulce',\n",
    "    'Nata Spray / Nata montada', 'Nata Cocina', 'Nata Performance', 'Nata Cocina Advantage',\n",
    "    'Nata Cocina Excellence / Nata Pasteleria', 'Mantequilla extra seca', 'Margarina Risso Ambar',\n",
    "    'Sal de vino de garnacha centenaria', 'Sal', 'Sal ahumada', 'Pimentón dulce de la Vera', 'Azafran del Jiloca',\n",
    "    'Azafran del Jiloca'\n",
    "]))\n",
    "len(ingredients1)"
   ]
  },
  {
   "cell_type": "code",
   "execution_count": 5,
   "metadata": {
    "collapsed": false,
    "scrolled": false
   },
   "outputs": [
    {
     "data": {
      "text/plain": [
       "'vinagre balsamico de modena, confitura arandanos, margarina risso ambar, crema balsámica glaze clasica, confitura petalos de violeta, crema tartufata blanca, crema tartufata, nata performance, crema balsámica de limón, mermelada cebolla, confitura frambuesa, aceite de oliva virgen extra con setas, cebolla confitada artesana, confitura fresa, vinagre de crema balsámica de trufa, aceite ahumado de haya, confitura diet ciruela, confitura naranja dulce, confitura diet fresa, mermelada manzana, confitura naranja amarga, confitura diet naranja amarga, confitura melocotón, mermelada pimiento, vinagre de crema balsámica de frutos del bosque, azafran del jiloca, vinagre de jerez macetilla, aceite de pepitas de uva con trufa negra, confitura diet melocotón, sal de vino de garnacha centenaria, pimentón dulce de la vera, vinagre de crema balsámica clásica, vinagre de vino pedro ximenez, crema de bogavante, nata cocina advantage, sal, confitura de tomate rojo de la huerta, confitura petalos de rosa, aceite de oliva virgen extra con ajo, confitura cereza negra, confitura albaricoque, vinagre de crema balsámica de higos, sal ahumada, confitura tomate, tinta de calamar, pate de aceituna negra, vinagre de jerez solera, aceite de oliva virgen extra con guindilla, nata spray / nata montada, confitura cabello de angel, aceite de oliva virgen extra con albahaca, nata cocina excellence / nata pasteleria, tomate confitado artesano, confitura diet albaricoque, mantequilla extra seca, aceite virgen extra de oliva con ceps, txangurro natural, nata cocina'"
      ]
     },
     "execution_count": 5,
     "metadata": {},
     "output_type": "execute_result"
    }
   ],
   "source": [
    "', '.join(ingredients1)"
   ]
  },
  {
   "cell_type": "code",
   "execution_count": 4,
   "metadata": {
    "collapsed": false
   },
   "outputs": [
    {
     "ename": "IndentationError",
     "evalue": "unexpected indent (<ipython-input-4-7fea31644e80>, line 2)",
     "output_type": "error",
     "traceback": [
      "\u001b[1;36m  File \u001b[1;32m\"<ipython-input-4-7fea31644e80>\"\u001b[1;36m, line \u001b[1;32m2\u001b[0m\n\u001b[1;33m    'aceite de oliva virgen extra con ajo',\u001b[0m\n\u001b[1;37m    ^\u001b[0m\n\u001b[1;31mIndentationError\u001b[0m\u001b[1;31m:\u001b[0m unexpected indent\n"
     ]
    }
   ],
   "source": [
    "'aceite ahumado de haya',\n",
    " 'aceite de oliva virgen extra con ajo',\n",
    " 'aceite de oliva virgen extra con albahaca',\n",
    " 'aceite de oliva virgen extra con guindilla',\n",
    " 'aceite de oliva virgen extra con setas',\n",
    " 'aceite de pepitas de uva con trufa negra',\n",
    " 'aceite virgen extra de oliva con ceps',\n",
    " 'azafran del jiloca',\n",
    " 'cebolla confitada artesana',\n",
    " 'confitura albaricoque',\n",
    " 'confitura arandanos',\n",
    " 'confitura cabello de angel',\n",
    " 'confitura cereza negra',\n",
    " 'confitura de tomate rojo de la huerta',\n",
    " 'confitura diet albaricoque',\n",
    " 'confitura diet ciruela',\n",
    " 'confitura diet fresa',\n",
    " 'confitura diet melocotón',\n",
    " 'confitura diet naranja amarga',\n",
    " 'confitura frambuesa',\n",
    " 'confitura fresa',\n",
    " 'confitura melocotón',\n",
    " 'confitura naranja amarga',\n",
    " 'confitura naranja dulce',\n",
    " 'confitura petalos de rosa',\n",
    " 'confitura petalos de violeta',\n",
    " 'confitura tomate',\n",
    " 'crema balsámica de limón',\n",
    " 'crema balsámica glaze clasica',\n",
    " 'crema de bogavante',\n",
    " 'crema tartufata',\n",
    " 'crema tartufata blanca',\n",
    " 'mantequilla extra seca',\n",
    " 'margarina risso ambar',\n",
    " 'mermelada cebolla',\n",
    " 'mermelada manzana',\n",
    " 'mermelada pimiento',\n",
    " 'nata cocina',\n",
    " 'nata cocina advantage',\n",
    " 'nata cocina excellence / nata pasteleria',\n",
    " 'nata performance',\n",
    " 'nata spray / nata montada',\n",
    " 'pate de aceituna negra',\n",
    " 'pimentón dulce de la vera',\n",
    " 'sal',\n",
    " 'sal ahumada',\n",
    " 'sal de vino de garnacha centenaria',\n",
    " 'tinta de calamar',\n",
    " 'tomate confitado artesano',\n",
    " 'txangurro natural',\n",
    " 'vinagre balsamico de modena',\n",
    " 'vinagre de crema balsámica clásica',\n",
    " 'vinagre de crema balsámica de frutos del bosque',\n",
    " 'vinagre de crema balsámica de higos',\n",
    " 'vinagre de crema balsámica de trufa',\n",
    " 'vinagre de jerez macetilla',\n",
    " 'vinagre de jerez solera',\n",
    " 'vinagre de vino pedro ximenez'"
   ]
  },
  {
   "cell_type": "code",
   "execution_count": 1,
   "metadata": {
    "collapsed": false
   },
   "outputs": [
    {
     "data": {
      "text/plain": [
       "75"
      ]
     },
     "execution_count": 1,
     "metadata": {},
     "output_type": "execute_result"
    }
   ],
   "source": [
    "# https://www.cocinista.es/web/es/cocina-molecular.html\n",
    "ingredients2 = set(map(lambda x: x.lower(), [\n",
    "    'Fizzy', 'Sparkys', 'Bicarbonato de sodio', 'Crémor tártaro', 'Crémor tártaro', 'Acido Cítrico', 'Acido Cítrico',\n",
    "    'Ácido Tartárico', 'Tartrol - ácido tartárico', 'Lecite', 'Glice', 'Albúmina', 'Albúmina', 'Emulsionante en pasta',\n",
    "    'Clara de huevo pasteurizada', 'Aireante en escamas', 'Sucro', 'Agar', 'Agar Agar en polvo', 'Gelatina en polvo',\n",
    "    'Lecitina de soja', 'Goma de Garrofín', 'Algin', 'Alginato de Sodio', 'Alginato de Sodio', 'Calcic',\n",
    "    'Cloruro de calcio', 'Gluco', 'Xantana', 'Goma Xantana', 'Citras', 'Lactato de Calcio', 'Lactato de Calcio',\n",
    "    'Lactato de Calcio', 'Citrato', 'Goma Xantana', 'Goma Xantana', 'Alginato de Sodio',\n",
    "    'Almidón de patata en polvo fino', 'Polvo de tilosa CMC', 'CMC', 'Goma Americana', 'Goma arábiga en polvo',\n",
    "    'Goma arábiga', 'Pectina citrus', 'Goma guar', 'Goma guar', 'Goma de Garrofín', 'Goma de Garrofín', 'Pectina',\n",
    "    'Goma Konjac', 'Goma Konjac', 'Fécula de tapioca', 'Fécula de patata', 'Almidón de maíz', 'Almidón de arroz',\n",
    "    'Goma Gellan', 'Goma Gellan', 'Gari', 'Perlas de tapioca grandes', 'Agar', 'Agar agar en polvo',\n",
    "    'Agar Agar en polvo', 'Agar Agar en polvo', 'Iota', 'Kappa', 'Carragenato kappa', 'Gellan', 'Gelatina en polvo',\n",
    "    'Metil', 'Agar agar', 'Goma de tragacanto', 'Goma tara', 'Pectina', 'Pectina citrus', 'Pectina de manzana nappage',\n",
    "    'Goma Konjac', 'Goma Konjac', 'Almidón de maíz', 'Goma Gellan', 'Goma Gellan', 'Agar agar', 'Carragenato de Sodio',\n",
    "    'Lyoframbuesa (frambuesa liofilizada)', 'Lyogrosella (grosella liofilizada)', 'Lyofresa (fresas liofilizadas)',\n",
    "    'Lyomango (mango liofilizado)', 'Yopol', 'Sparkys', 'Crumiel', 'Transglutaminasa EB', 'Glicerina', 'Malto',\n",
    "    'Lactosa', 'Goma de tragacanto', 'Colorante verde natural', 'Isomalt', 'Acido Cítrico', 'Edulcorante con sucralosa',\n",
    "    'Eritritol', 'Sorbitol al 70%', 'Ácido ascórbico', 'Citras', 'Acido Cítrico', 'Ácido ascórbico', 'Dextrosa',\n",
    "    'Maltodextrina', 'Colorante oro'\n",
    "]))\n",
    "len(ingredients2)"
   ]
  },
  {
   "cell_type": "code",
   "execution_count": 2,
   "metadata": {
    "collapsed": false
   },
   "outputs": [
    {
     "data": {
      "text/plain": [
       "4"
      ]
     },
     "execution_count": 2,
     "metadata": {},
     "output_type": "execute_result"
    }
   ],
   "source": [
    "# http://www.cocinasemana.com/ingredientes/articulo/gastronomia-molecular/22627\n",
    "ingredients3 = set(map(lambda x: x.lower(), [\n",
    "    'Alginato de sodio', 'Azúcar efervescente', 'Xatana', 'Nitrógeno líquido',\n",
    "]))\n",
    "len(ingredients3)"
   ]
  },
  {
   "cell_type": "code",
   "execution_count": null,
   "metadata": {
    "collapsed": true
   },
   "outputs": [],
   "source": []
  }
 ],
 "metadata": {
  "kernelspec": {
   "display_name": "Python 3",
   "language": "python",
   "name": "python3"
  },
  "language_info": {
   "codemirror_mode": {
    "name": "ipython",
    "version": 3
   },
   "file_extension": ".py",
   "mimetype": "text/x-python",
   "name": "python",
   "nbconvert_exporter": "python",
   "pygments_lexer": "ipython3",
   "version": "3.4.3"
  }
 },
 "nbformat": 4,
 "nbformat_minor": 0
}
