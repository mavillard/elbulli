{
 "cells": [
  {
   "cell_type": "code",
   "execution_count": 1,
   "metadata": {
    "collapsed": false
   },
   "outputs": [
    {
     "data": {
      "text/plain": [
       "95"
      ]
     },
     "execution_count": 1,
     "metadata": {},
     "output_type": "execute_result"
    }
   ],
   "source": [
    "# https://es.wikipedia.org/wiki/Gastronomía_de_Japón\n",
    "ingredients1 = set(map(lambda x: x.lower(), [\n",
    "    'Arroz', 'Arroz glutinoso', 'Nira o puerro chino', 'espinacas', 'pepino', 'berenjena', 'gobó', 'rábano daikon',\n",
    "    'batata', 'renkon o raíz de loto', 'takenoko o brotes de bambú', 'negi o cebolla verde', 'Fuki', 'moyashi', 'Goya',\n",
    "    'Retasu o Lechuga', 'Sansai', 'Konnyaku o Shirataki', 'Hongos', 'Shiitake', 'Matsutake', 'Enokitake', 'Nameko',\n",
    "    'Shimeji', 'Tsukemono o vegetales en vinagre', 'Marisco', 'Nori o Alga Nori', 'Konbu o Alga Konbu',\n",
    "    'Wakame o Alga Wakame', 'Hijiki o Alga Hijiki', 'Chikuwa', 'Niboshi', 'sepia seca', 'Kamaboko', 'Satsuma age',\n",
    "    'Tallarines', 'Udon', 'Soba', 'Sōmen', 'Ramen', 'Huevos', 'Carne', 'cerdo', 'vaca', 'pollo', 'cordero', 'caballo',\n",
    "    'Legumbres', 'soja', 'azuki', 'Eda-mame', 'Miso', 'Salsa de soja', 'Tofu o Agedoufu', 'Yuba', 'Fruta', 'caqui',\n",
    "    'pera Nashi', 'Mikan', 'Ume Yuzu', 'Frutos secos', 'castaña', 'Harina Katakuriko', 'Katakuriko', 'harina de Kudzu',\n",
    "    'arroz molido', 'harina de Soba', 'harina de trigo', 'Shō-yu o salsa de soja', 'Dashi', 'Mirin', 'Azúcar',\n",
    "    'Vinagre de arroz', 'Miso', 'Sake', 'Konbu', 'Katsuobushi', 'Niboshi', 'Cebolla', 'Ajo', 'Puerro', 'Cebollino',\n",
    "    'Chalote', 'Semillas de sésamo', 'Aceite de sésamo', 'Sal de sésamo o Gomashio', 'Furikake', 'Nueces', 'Cacahuetes',\n",
    "    'Wasabi', 'daikon', 'Mostaza', 'Pimiento rojo', 'Jengibre', 'hojas de Shiso', 'Sansho', 'Cítricos'\n",
    "]))\n",
    "len(ingredients1)"
   ]
  },
  {
   "cell_type": "code",
   "execution_count": 2,
   "metadata": {
    "collapsed": false
   },
   "outputs": [
    {
     "data": {
      "text/plain": [
       "24"
      ]
     },
     "execution_count": 2,
     "metadata": {},
     "output_type": "execute_result"
    }
   ],
   "source": [
    "# http://obentotime.com/ingredientes-japoneses/\n",
    "ingredients2 = set(map(lambda x: x.lower(), [\n",
    "    'Aceite de sésamo', 'Algas', 'Alga konbu', 'Alga nori', 'Alga wakame', 'Arroz', 'Daikon', 'Dashi o Caldo de bonito',\n",
    "    'Hakumai', 'Harusame', 'Jengibre', 'Mirin', 'Miso', 'Mochi', 'Ramen', 'Sake', 'Shiitake', 'Soba',\n",
    "    'Shoyu o Salsa de soja', 'Tofu', 'Udon', 'Umeboshi', 'Vinagre de arroz', 'Wasabi'\n",
    "]))\n",
    "len(ingredients2)"
   ]
  },
  {
   "cell_type": "code",
   "execution_count": 3,
   "metadata": {
    "collapsed": false
   },
   "outputs": [
    {
     "data": {
      "text/plain": [
       "31"
      ]
     },
     "execution_count": 3,
     "metadata": {},
     "output_type": "execute_result"
    }
   ],
   "source": [
    "# http://www.enciclopediadegastronomia.es/recetas/cocinas-exoticas/cocina-japonesa/ingredientes-de-cocina-japonesa.html\n",
    "ingredients3 = set(map(lambda x: x.lower(), [\n",
    "    'Algas', 'Azuki', 'Daikon', 'Dashi no moto', 'Enokidake o enokitake', 'Gomame', 'Gomashio', 'Jengibre',\n",
    "    'Katsuobushi', 'Mirin', 'Miso', 'Niboshi', 'Renkon o raíz de loto', 'Saifun o fideos de soja', 'Sake',\n",
    "    'Salsa de soja', 'Sansho no kona', 'Shichimi togarashi o pimienta japonesa', 'Ichimi Togarashi o guindilla en polvo',\n",
    "    'Shiitake', 'Shiritaki', 'Soba', 'Somen', 'Su o Vinagre de sake', 'Tentsuyu', 'Dashi', 'Tofu', 'Tsukemono', 'Udon',\n",
    "    'Umeboshi', 'Wasabe o wasabi'\n",
    "]))\n",
    "len(ingredients3)"
   ]
  },
  {
   "cell_type": "code",
   "execution_count": 4,
   "metadata": {
    "collapsed": false
   },
   "outputs": [
    {
     "data": {
      "text/plain": [
       "18"
      ]
     },
     "execution_count": 4,
     "metadata": {},
     "output_type": "execute_result"
    }
   ],
   "source": [
    "# http://elcomidista.elpais.com/elcomidista/2013/09/12/articulo/1378962000_137896.html\n",
    "ingredients4 = set(map(lambda x: x.lower(), [\n",
    "    'arroz', 'fideos', 'wasabi', 'soja', 'yakisoba', 'teriyaki', 'pasta de miso', 'Jengibre', 'vinagre de arroz',\n",
    "    'Katsuobushi', 'caldo dashi', 'alagas', 'Wakame', 'Nori', 'Kombu', 'Sésamos o ajonjolí', 'té matcha', 'panko'\n",
    "]))\n",
    "len(ingredients4)"
   ]
  },
  {
   "cell_type": "code",
   "execution_count": 5,
   "metadata": {
    "collapsed": false
   },
   "outputs": [
    {
     "data": {
      "text/plain": [
       "22"
      ]
     },
     "execution_count": 5,
     "metadata": {},
     "output_type": "execute_result"
    }
   ],
   "source": [
    "# http://www.condospalillos.com/blog/2013/03/05/cocina-japonesa-para-principiantes-1-ingredientes-basicos\n",
    "ingredients5 = set(map(lambda x: x.lower(), [\n",
    "    'DASHI', 'Katsuo dashi', 'Konbu dashi', 'Niboshi dashi', 'Shiitake dashi', 'Ichiban dashi', 'Niban dashi', 'SAKE',\n",
    "    'MISO', 'Hatcho Miso', 'Komé Miso', 'Genmai Miso', 'Mugí miso', 'Aka miso', 'Shiro miso', 'ACEITE DE SÉSAMO',\n",
    "    'VINAGRE DE ARROZ', 'MIRIN', 'SALSA DE SOJA', 'SALSA TONKATSU', 'WASABI', 'ARROZ JAPONÉS'\n",
    "]))\n",
    "len(ingredients5)"
   ]
  },
  {
   "cell_type": "code",
   "execution_count": 6,
   "metadata": {
    "collapsed": false
   },
   "outputs": [
    {
     "data": {
      "text/plain": [
       "19"
      ]
     },
     "execution_count": 6,
     "metadata": {},
     "output_type": "execute_result"
    }
   ],
   "source": [
    "# http://japonismo.com/blog/16-ingredientes-basicos-comida-japonesa\n",
    "ingredients6 = set(map(lambda x: x.lower(), [\n",
    "    'arroz o kome', 'salsa de soja o shōyu', 'sake', 'mirin', 'dashi o hon-dashi', 'katsuobushi',\n",
    "    'pan rallado japonés o panko', 'alga nori', 'vinagre de arroz o su', 'salsa Worcestershire', 'salsa tonkatsu',\n",
    "    'salsa yakisoba', 'salsa okonomiyaki', 'salsa takoyaki', 'mayonesa japonesa', 'rábano picante japonés o wasabi',\n",
    "    'siete especias o shichimi togarashi', 'semillas de sésamo o goma', 'alga wakame'\n",
    "]))\n",
    "len(ingredients6)"
   ]
  },
  {
   "cell_type": "code",
   "execution_count": 7,
   "metadata": {
    "collapsed": false
   },
   "outputs": [
    {
     "data": {
      "text/plain": [
       "14"
      ]
     },
     "execution_count": 7,
     "metadata": {},
     "output_type": "execute_result"
    }
   ],
   "source": [
    "# http://elcomidista.elpais.com/elcomidista/2013/04/16/articulo/1366090954_136609.html\n",
    "ingredients7 = set(map(lambda x: x.lower(), [\n",
    "    'Salsa de soja', 'Aceite de sésamo', 'Aceite de cacahuete', 'Salsa de chile', 'aceite de chile', 'Jengibre',\n",
    "    'Polvo de cinco especias', 'vinagre de arroz', 'Doufu', 'fideos', 'Verduras encurtidas', 'Brotes de bambú',\n",
    "    'Setas chinas', 'Salsa hoisin'\n",
    "]))\n",
    "len(ingredients7)"
   ]
  },
  {
   "cell_type": "code",
   "execution_count": 8,
   "metadata": {
    "collapsed": false
   },
   "outputs": [
    {
     "data": {
      "text/plain": [
       "18"
      ]
     },
     "execution_count": 8,
     "metadata": {},
     "output_type": "execute_result"
    }
   ],
   "source": [
    "# https://es.wikipedia.org/wiki/Gastronomía_de_China\n",
    "ingredients8 = set(map(lambda x: x.lower(), [\n",
    "    'Polvo Cinco Especias o Polvo Cinco Sabores', 'Brotes de soja o Dientes de Dragón', 'Salsa de tamarindo',\n",
    "    'Porotos o alubias Tausi o Porotos Negros Salados', 'Pak Choy', 'Algas', 'Camarones secos', 'Pulpo crudo',\n",
    "    'Cebollino', 'Jengibre', 'Fideos de arroz', 'Pimienta Szechuan', 'Aceite de ajonjolí', 'Vino de arroz',\n",
    "    'Salsa de ostras', 'Salsa de pescado', 'Bambú', 'Salsa soja'\n",
    "]))\n",
    "len(ingredients8)"
   ]
  },
  {
   "cell_type": "code",
   "execution_count": 9,
   "metadata": {
    "collapsed": false
   },
   "outputs": [
    {
     "data": {
      "text/plain": [
       "7"
      ]
     },
     "execution_count": 9,
     "metadata": {},
     "output_type": "execute_result"
    }
   ],
   "source": [
    "# http://www.imujer.com/gourmet/8391/7-ingredientes-que-encontraras-en-una-cocina-china\n",
    "ingredients9 = set(map(lambda x: x.lower(), [\n",
    "    'Salsa de soja', 'Vino de arroz', 'Aceite de sésamo', 'Pimienta de sichuan', 'Vinagre de arroz', 'Melón de invierno',\n",
    "    'Polvo de 5 especias'\n",
    "]))\n",
    "len(ingredients9)"
   ]
  },
  {
   "cell_type": "code",
   "execution_count": 10,
   "metadata": {
    "collapsed": false
   },
   "outputs": [
    {
     "data": {
      "text/plain": [
       "39"
      ]
     },
     "execution_count": 10,
     "metadata": {},
     "output_type": "execute_result"
    }
   ],
   "source": [
    "# http://www.guiamiguelin.com/china/ingredientes.html\n",
    "ingredients10 = set(map(lambda x: x.lower(), [\n",
    "    'té', 'té verde', 'té negro', 'soja o soya', 'salsa de soja', 'pasta de soja', 'brotes de soja', 'cuajada de soja',\n",
    "    'hojas de cuajada de soja', 'alubias de soja saldas', 'alubias de soja amarillas', 'alubias de soja negras', 'sal',\n",
    "    'pimienta', 'azúcar', 'mostaza', 'agar-agar', 'cabellos de algas', 'aabalone', 'badiana o anís estrellado',\n",
    "    'brotes de bambú', 'hojas secas de bambú', 'nidos de salangana o collocalia esculenta o nido de golondrinas',\n",
    "    'queso de semillas', 'huevos milenarios', 'cinco especias en polvo o polvo de cinco especias', 'raíz de jengibre',\n",
    "    'hojas de loto', 'glutamato', 'setas chinas negras', 'fideos chinos', 'salsa de ostras', 'salchicha china',\n",
    "    'trepang o pepino de mar', 'aleta de tiburón', 'salsa de camarón', 'castaña de agua', 'calamares secos', 'durian'\n",
    "]))\n",
    "len(ingredients10)"
   ]
  },
  {
   "cell_type": "code",
   "execution_count": 11,
   "metadata": {
    "collapsed": false
   },
   "outputs": [
    {
     "data": {
      "text/plain": [
       "9"
      ]
     },
     "execution_count": 11,
     "metadata": {},
     "output_type": "execute_result"
    }
   ],
   "source": [
    "# http://hoy.com.do/ingredientes-tipicos-de-la-cocina-china/\n",
    "ingredients11 = set(map(lambda x: x.lower(), [\n",
    "    'Ajinomoto o glutamato monosódico o glutamato de monosodio', 'Salsa de ostras', 'Polvo de cinco especias',\n",
    "    'Salsa de ciruela', 'Salsa de soya', 'Salsa Chu Hou', 'Salsa para chancho asado', 'chancho o cerdo', 'Salsa Hoisin'\n",
    "]))\n",
    "len(ingredients11)"
   ]
  },
  {
   "cell_type": "code",
   "execution_count": 12,
   "metadata": {
    "collapsed": false
   },
   "outputs": [
    {
     "data": {
      "text/plain": [
       "68"
      ]
     },
     "execution_count": 12,
     "metadata": {},
     "output_type": "execute_result"
    }
   ],
   "source": [
    "# http://bartjapanworld.blogspot.ca/2013/06/ingredientes-esenciales-de-la.html\n",
    "ingredients12 = set(map(lambda x: x.lower(), [\n",
    "    'Arroz glutinoso', 'Nira o puerro chino', 'boniatos o batatas', 'espinacas', 'pepino', 'berenjena',\n",
    "    'renkon o raíz de loto', 'takenoko o brotes de bambú', 'negi o cebolla verde', 'Daikon o rábano daikon',\n",
    "    'Moyashi o mame moyashi', 'Sansai', 'Konnyaku', 'Shiitake', 'Matsutake', 'Enokitake', 'Nameko', 'Shimeji',\n",
    "    'tsukemono o encurtidos o verduras encurtidas o encurtido de verduras', 'Salsa de soja', 'miso', 'vinagre de arroz',\n",
    "    'mirin', 'nuka', 'sake', 'albaricoques', 'nabos', 'lechuga china', 'pepinos', 'espinaca', 'nori', 'kombu', 'wakame',\n",
    "    'Hijiki o hiziki', 'surimi', 'chikuwa', 'niboshi', 'Kamaboko', 'Udon', 'Soba', 'Sōmen', 'Ramen', 'huevos de gallina',\n",
    "    'huevos de codorniz', 'cerdo', 'vaca', 'pollo', 'cordero', 'miso', 'tofu', 'Shō-yu o salsa de soja', 'Dashi',\n",
    "    'mirin', 'Katsuobushi', 'Cebolla', 'Ajo', 'Puerro', 'Cebollino', 'Semillas de sésamo', 'Aceite de sésamo',\n",
    "    'Sal de sésamo o Gomashio', 'Furikake', 'Wasabi', 'daikon', 'Mostaza', 'Pimiento rojo', 'Jengibre', 'hojas de Shiso',\n",
    "    'Sansho', 'Cítricos'\n",
    "]))\n",
    "len(ingredients12)"
   ]
  },
  {
   "cell_type": "code",
   "execution_count": 13,
   "metadata": {
    "collapsed": false
   },
   "outputs": [
    {
     "data": {
      "text/plain": [
       "13"
      ]
     },
     "execution_count": 13,
     "metadata": {},
     "output_type": "execute_result"
    }
   ],
   "source": [
    "# http://tucasanueva.com.mx/gourmet/sabias-que/ingredientes-tipicos-de-la-cocina-oriental/\n",
    "ingredients13 = set(map(lambda x: x.lower(), [\n",
    "    'Algas', 'Soya', 'Hojas de loto', 'Raíz de loto', 'atún', 'bonito', 'caballa', 'pez globo', 'perca',\n",
    "    'aleta de tiburón', 'niboshi', 'Kobe', 'pollo'\n",
    "]))\n",
    "len(ingredients13)"
   ]
  },
  {
   "cell_type": "code",
   "execution_count": 14,
   "metadata": {
    "collapsed": false
   },
   "outputs": [
    {
     "data": {
      "text/plain": [
       "30"
      ]
     },
     "execution_count": 14,
     "metadata": {},
     "output_type": "execute_result"
    }
   ],
   "source": [
    "# http://www.sabororiental.com/los-ingredientes-basicos/\n",
    "ingredients14 = set(map(lambda x: x.lower(), [\n",
    "    'Candlenut / Nuez de la India', 'Jengibre', 'Galanga / jengibre azul', 'Lemon grass', 'Cebolla tierna', 'Lima',\n",
    "    'Lime leaves / Hojas de lima', 'Chalota', 'Semillas de cilantro', 'Azúcar de palma cocotera', 'Chiles / Guindillas',\n",
    "    'Cebolla Frita', 'Salsa de soja', 'Salsa soja oscura', 'Salsa soja dulce / Kecap manis / Ketjap manis',\n",
    "    'Fish Sauce / salsa de pescado', 'Leche de coco', 'Aceite de sésamo', 'Sriracha', 'Oyster sauce / salsa de ostras',\n",
    "    'Fideos de arroz fino', 'Fideos de arroz ancho', 'Fideos de huevo', 'pasta de tamarindo', 'Pasta de rollitos',\n",
    "    'pasta de wonton', 'Harina de tapioca', 'harina white bun', 'Salsa dulce y picante / Sweet chili sauce',\n",
    "    'Salsa Hoi Sin'\n",
    "]))\n",
    "len(ingredients14)"
   ]
  },
  {
   "cell_type": "code",
   "execution_count": 15,
   "metadata": {
    "collapsed": false
   },
   "outputs": [],
   "source": [
    "ingredients = ingredients1.union(ingredients2) \\\n",
    "                          .union(ingredients3) \\\n",
    "                          .union(ingredients4) \\\n",
    "                          .union(ingredients5) \\\n",
    "                          .union(ingredients6) \\\n",
    "                          .union(ingredients7) \\\n",
    "                          .union(ingredients8) \\\n",
    "                          .union(ingredients9) \\\n",
    "                          .union(ingredients10) \\\n",
    "                          .union(ingredients11) \\\n",
    "                          .union(ingredients12) \\\n",
    "                          .union(ingredients13) \\\n",
    "                          .union(ingredients14)\n",
    "ingredients = sorted(ingredients)"
   ]
  },
  {
   "cell_type": "code",
   "execution_count": 16,
   "metadata": {
    "collapsed": false
   },
   "outputs": [
    {
     "data": {
      "text/plain": [
       "276"
      ]
     },
     "execution_count": 16,
     "metadata": {},
     "output_type": "execute_result"
    }
   ],
   "source": [
    "len(ingredients)"
   ]
  },
  {
   "cell_type": "code",
   "execution_count": 17,
   "metadata": {
    "collapsed": false
   },
   "outputs": [
    {
     "data": {
      "text/plain": [
       "['aabalone',\n",
       " 'aceite de ajonjolí',\n",
       " 'aceite de cacahuete',\n",
       " 'aceite de chile',\n",
       " 'aceite de sésamo',\n",
       " 'agar-agar',\n",
       " 'ajinomoto o glutamato monosódico o glutamato de monosodio',\n",
       " 'ajo',\n",
       " 'aka miso',\n",
       " 'alagas',\n",
       " 'albaricoques',\n",
       " 'aleta de tiburón',\n",
       " 'alga konbu',\n",
       " 'alga nori',\n",
       " 'alga wakame',\n",
       " 'algas',\n",
       " 'alubias de soja amarillas',\n",
       " 'alubias de soja negras',\n",
       " 'alubias de soja saldas',\n",
       " 'arroz',\n",
       " 'arroz glutinoso',\n",
       " 'arroz japonés',\n",
       " 'arroz molido',\n",
       " 'arroz o kome',\n",
       " 'atún',\n",
       " 'azuki',\n",
       " 'azúcar',\n",
       " 'azúcar de palma cocotera',\n",
       " 'badiana o anís estrellado',\n",
       " 'bambú',\n",
       " 'batata',\n",
       " 'berenjena',\n",
       " 'boniatos o batatas',\n",
       " 'bonito',\n",
       " 'brotes de bambú',\n",
       " 'brotes de soja',\n",
       " 'brotes de soja o dientes de dragón',\n",
       " 'caballa',\n",
       " 'caballo',\n",
       " 'cabellos de algas',\n",
       " 'cacahuetes',\n",
       " 'calamares secos',\n",
       " 'caldo dashi',\n",
       " 'camarones secos',\n",
       " 'candlenut / nuez de la india',\n",
       " 'caqui',\n",
       " 'carne',\n",
       " 'castaña',\n",
       " 'castaña de agua',\n",
       " 'cebolla',\n",
       " 'cebolla frita',\n",
       " 'cebolla tierna',\n",
       " 'cebollino',\n",
       " 'cerdo',\n",
       " 'chalota',\n",
       " 'chalote',\n",
       " 'chancho o cerdo',\n",
       " 'chikuwa',\n",
       " 'chiles / guindillas',\n",
       " 'cinco especias en polvo o polvo de cinco especias',\n",
       " 'cordero',\n",
       " 'cuajada de soja',\n",
       " 'cítricos',\n",
       " 'daikon',\n",
       " 'daikon o rábano daikon',\n",
       " 'dashi',\n",
       " 'dashi no moto',\n",
       " 'dashi o caldo de bonito',\n",
       " 'dashi o hon-dashi',\n",
       " 'doufu',\n",
       " 'durian',\n",
       " 'eda-mame',\n",
       " 'enokidake o enokitake',\n",
       " 'enokitake',\n",
       " 'espinaca',\n",
       " 'espinacas',\n",
       " 'fideos',\n",
       " 'fideos chinos',\n",
       " 'fideos de arroz',\n",
       " 'fideos de arroz ancho',\n",
       " 'fideos de arroz fino',\n",
       " 'fideos de huevo',\n",
       " 'fish sauce / salsa de pescado',\n",
       " 'fruta',\n",
       " 'frutos secos',\n",
       " 'fuki',\n",
       " 'furikake',\n",
       " 'galanga / jengibre azul',\n",
       " 'genmai miso',\n",
       " 'glutamato',\n",
       " 'gobó',\n",
       " 'gomame',\n",
       " 'gomashio',\n",
       " 'goya',\n",
       " 'hakumai',\n",
       " 'harina de kudzu',\n",
       " 'harina de soba',\n",
       " 'harina de tapioca',\n",
       " 'harina de trigo',\n",
       " 'harina katakuriko',\n",
       " 'harina white bun',\n",
       " 'harusame',\n",
       " 'hatcho miso',\n",
       " 'hijiki o alga hijiki',\n",
       " 'hijiki o hiziki',\n",
       " 'hojas de cuajada de soja',\n",
       " 'hojas de loto',\n",
       " 'hojas de shiso',\n",
       " 'hojas secas de bambú',\n",
       " 'hongos',\n",
       " 'huevos',\n",
       " 'huevos de codorniz',\n",
       " 'huevos de gallina',\n",
       " 'huevos milenarios',\n",
       " 'ichiban dashi',\n",
       " 'ichimi togarashi o guindilla en polvo',\n",
       " 'jengibre',\n",
       " 'kamaboko',\n",
       " 'katakuriko',\n",
       " 'katsuo dashi',\n",
       " 'katsuobushi',\n",
       " 'kobe',\n",
       " 'kombu',\n",
       " 'komé miso',\n",
       " 'konbu',\n",
       " 'konbu dashi',\n",
       " 'konbu o alga konbu',\n",
       " 'konnyaku',\n",
       " 'konnyaku o shirataki',\n",
       " 'leche de coco',\n",
       " 'lechuga china',\n",
       " 'legumbres',\n",
       " 'lemon grass',\n",
       " 'lima',\n",
       " 'lime leaves / hojas de lima',\n",
       " 'marisco',\n",
       " 'matsutake',\n",
       " 'mayonesa japonesa',\n",
       " 'melón de invierno',\n",
       " 'mikan',\n",
       " 'mirin',\n",
       " 'miso',\n",
       " 'mochi',\n",
       " 'mostaza',\n",
       " 'moyashi',\n",
       " 'moyashi o mame moyashi',\n",
       " 'mugí miso',\n",
       " 'nabos',\n",
       " 'nameko',\n",
       " 'negi o cebolla verde',\n",
       " 'niban dashi',\n",
       " 'niboshi',\n",
       " 'niboshi dashi',\n",
       " 'nidos de salangana o collocalia esculenta o nido de golondrinas',\n",
       " 'nira o puerro chino',\n",
       " 'nori',\n",
       " 'nori o alga nori',\n",
       " 'nueces',\n",
       " 'nuka',\n",
       " 'oyster sauce / salsa de ostras',\n",
       " 'pak choy',\n",
       " 'pan rallado japonés o panko',\n",
       " 'panko',\n",
       " 'pasta de miso',\n",
       " 'pasta de rollitos',\n",
       " 'pasta de soja',\n",
       " 'pasta de tamarindo',\n",
       " 'pasta de wonton',\n",
       " 'pepino',\n",
       " 'pepinos',\n",
       " 'pera nashi',\n",
       " 'perca',\n",
       " 'pez globo',\n",
       " 'pimienta',\n",
       " 'pimienta de sichuan',\n",
       " 'pimienta szechuan',\n",
       " 'pimiento rojo',\n",
       " 'pollo',\n",
       " 'polvo cinco especias o polvo cinco sabores',\n",
       " 'polvo de 5 especias',\n",
       " 'polvo de cinco especias',\n",
       " 'porotos o alubias tausi o porotos negros salados',\n",
       " 'puerro',\n",
       " 'pulpo crudo',\n",
       " 'queso de semillas',\n",
       " 'ramen',\n",
       " 'raíz de jengibre',\n",
       " 'raíz de loto',\n",
       " 'renkon o raíz de loto',\n",
       " 'retasu o lechuga',\n",
       " 'rábano daikon',\n",
       " 'rábano picante japonés o wasabi',\n",
       " 'saifun o fideos de soja',\n",
       " 'sake',\n",
       " 'sal',\n",
       " 'sal de sésamo o gomashio',\n",
       " 'salchicha china',\n",
       " 'salsa chu hou',\n",
       " 'salsa de camarón',\n",
       " 'salsa de chile',\n",
       " 'salsa de ciruela',\n",
       " 'salsa de ostras',\n",
       " 'salsa de pescado',\n",
       " 'salsa de soja',\n",
       " 'salsa de soja o shōyu',\n",
       " 'salsa de soya',\n",
       " 'salsa de tamarindo',\n",
       " 'salsa dulce y picante / sweet chili sauce',\n",
       " 'salsa hoi sin',\n",
       " 'salsa hoisin',\n",
       " 'salsa okonomiyaki',\n",
       " 'salsa para chancho asado',\n",
       " 'salsa soja',\n",
       " 'salsa soja dulce / kecap manis / ketjap manis',\n",
       " 'salsa soja oscura',\n",
       " 'salsa takoyaki',\n",
       " 'salsa tonkatsu',\n",
       " 'salsa worcestershire',\n",
       " 'salsa yakisoba',\n",
       " 'sansai',\n",
       " 'sansho',\n",
       " 'sansho no kona',\n",
       " 'satsuma age',\n",
       " 'semillas de cilantro',\n",
       " 'semillas de sésamo',\n",
       " 'semillas de sésamo o goma',\n",
       " 'sepia seca',\n",
       " 'setas chinas',\n",
       " 'setas chinas negras',\n",
       " 'shichimi togarashi o pimienta japonesa',\n",
       " 'shiitake',\n",
       " 'shiitake dashi',\n",
       " 'shimeji',\n",
       " 'shiritaki',\n",
       " 'shiro miso',\n",
       " 'shoyu o salsa de soja',\n",
       " 'shō-yu o salsa de soja',\n",
       " 'siete especias o shichimi togarashi',\n",
       " 'soba',\n",
       " 'soja',\n",
       " 'soja o soya',\n",
       " 'somen',\n",
       " 'soya',\n",
       " 'sriracha',\n",
       " 'su o vinagre de sake',\n",
       " 'surimi',\n",
       " 'sésamos o ajonjolí',\n",
       " 'sōmen',\n",
       " 'takenoko o brotes de bambú',\n",
       " 'tallarines',\n",
       " 'tentsuyu',\n",
       " 'teriyaki',\n",
       " 'tofu',\n",
       " 'tofu o agedoufu',\n",
       " 'trepang o pepino de mar',\n",
       " 'tsukemono',\n",
       " 'tsukemono o encurtidos o verduras encurtidas o encurtido de verduras',\n",
       " 'tsukemono o vegetales en vinagre',\n",
       " 'té',\n",
       " 'té matcha',\n",
       " 'té negro',\n",
       " 'té verde',\n",
       " 'udon',\n",
       " 'ume yuzu',\n",
       " 'umeboshi',\n",
       " 'vaca',\n",
       " 'verduras encurtidas',\n",
       " 'vinagre de arroz',\n",
       " 'vinagre de arroz o su',\n",
       " 'vino de arroz',\n",
       " 'wakame',\n",
       " 'wakame o alga wakame',\n",
       " 'wasabe o wasabi',\n",
       " 'wasabi',\n",
       " 'yakisoba',\n",
       " 'yuba']"
      ]
     },
     "execution_count": 17,
     "metadata": {},
     "output_type": "execute_result"
    }
   ],
   "source": [
    "ingredients"
   ]
  },
  {
   "cell_type": "code",
   "execution_count": 18,
   "metadata": {
    "collapsed": true
   },
   "outputs": [],
   "source": [
    "with open('data/ingredients/es_other_asian_ingredients.txt', 'w') as f:\n",
    "    f.write('\\n'.join(ingredients))"
   ]
  },
  {
   "cell_type": "code",
   "execution_count": null,
   "metadata": {
    "collapsed": true
   },
   "outputs": [],
   "source": []
  }
 ],
 "metadata": {
  "kernelspec": {
   "display_name": "Python 3",
   "language": "python",
   "name": "python3"
  },
  "language_info": {
   "codemirror_mode": {
    "name": "ipython",
    "version": 3
   },
   "file_extension": ".py",
   "mimetype": "text/x-python",
   "name": "python",
   "nbconvert_exporter": "python",
   "pygments_lexer": "ipython3",
   "version": "3.4.3"
  }
 },
 "nbformat": 4,
 "nbformat_minor": 0
}
