{
 "cells": [
  {
   "cell_type": "code",
   "execution_count": 6,
   "metadata": {
    "collapsed": false
   },
   "outputs": [
    {
     "data": {
      "text/plain": [
       "11"
      ]
     },
     "execution_count": 6,
     "metadata": {},
     "output_type": "execute_result"
    }
   ],
   "source": [
    "# https://es.wikipedia.org/wiki/Gastronomía_de_Japón\n",
    "ingredients1 = set(map(lambda x: x.lower(), [\n",
    "    'Arroz', 'Arroz glutinoso', 'Nira (puerro chino)', 'espinacas', 'pepino', 'berenjena', 'gobó', 'rábano daikon',\n",
    "    'batata', 'renkon (raíz de loto)', 'takenoko (brotes de bambú)', 'negi (cebolla verde)', 'Fuki', 'moyashi', 'Goya',\n",
    "    'Retasu (Lechuga)', 'Sansai', 'Konnyaku (Shirataki)', 'Hongos', 'Shiitake', 'Matsutake', 'Enokitake', 'Nameko',\n",
    "    'Shimeji', 'Tsukemono (vegetales en vinagre)', 'Marisco', 'Nori (Alga Nori)', 'Konbu (Alga Konbu)',\n",
    "    'Wakame (Alga Wakame)', 'Hijiki (Alga Hijiki)', 'Chikuwa', 'Niboshi', 'sepia seca', 'Kamaboko', 'Satsuma age',\n",
    "    'Tallarines', 'Udon', 'Soba', 'Sōmen', 'Ramen', 'Huevos', 'Carne', 'cerdo', 'vaca', 'pollo', 'cordero', 'caballo',\n",
    "    'Legumbres', 'soja', 'azuki', 'Eda-mame', 'Miso', 'Salsa de soja', 'Tofu (Agedoufu)', 'Yuba', 'Fruta', 'caqui',\n",
    "    'pera Nashi', 'Mikan', 'Ume Yuzu', 'Frutos secos', 'castaña', 'Harina Katakuriko', 'Katakuriko', 'harina de Kudzu',\n",
    "    'arroz molido', 'harina de Soba', 'harina de trigo', 'Shō-yu (salsa de soja)', 'Dashi', 'Mirin', 'Azúcar',\n",
    "    'Vinagre de arroz', 'Miso', 'Sake', 'Konbu', 'Katsuobushi', 'Niboshi', 'Cebolla', 'Ajo', 'Puerro', 'Cebollino',\n",
    "    'Chalote', 'Semillas de sésamo', 'Aceite de sésamo', 'Sal de sésamo (Gomashio)', 'Furikake', 'Nueces', 'Cacahuetes',\n",
    "    'Wasabi', 'daikon', 'Mostaza', 'Pimiento rojo', 'Jengibre', 'hojas de Shiso', 'Sansho', 'Cítricos'\n",
    "]))\n",
    "len(ingredients1)"
   ]
  },
  {
   "cell_type": "code",
   "execution_count": 6,
   "metadata": {
    "collapsed": false
   },
   "outputs": [
    {
     "data": {
      "text/plain": [
       "11"
      ]
     },
     "execution_count": 6,
     "metadata": {},
     "output_type": "execute_result"
    }
   ],
   "source": [
    "# http://obentotime.com/ingredientes-japoneses/\n",
    "ingredients2 = set(map(lambda x: x.lower(), [\n",
    "    'Aceite de sésamo', 'Algas', 'Alga konbu', 'Alga nori', 'Alga wakame', 'Arroz', 'Daikon', 'Dashi (Caldo de bonito)',\n",
    "    'Hakumai', 'Harusame', 'Jengibre', 'Mirin', 'Miso', 'Mochi', 'Ramen', 'Sake', 'Shiitake', 'Soba',\n",
    "    'Shoyu (Salsa de soja)', 'Tofu', 'Udon', 'Umeboshi', 'Vinagre de arroz', 'Wasabi'\n",
    "]))\n",
    "len(ingredients2)"
   ]
  },
  {
   "cell_type": "code",
   "execution_count": 6,
   "metadata": {
    "collapsed": false
   },
   "outputs": [
    {
     "data": {
      "text/plain": [
       "11"
      ]
     },
     "execution_count": 6,
     "metadata": {},
     "output_type": "execute_result"
    }
   ],
   "source": [
    "# http://www.enciclopediadegastronomia.es/recetas/cocinas-exoticas/cocina-japonesa/ingredientes-de-cocina-japonesa.html\n",
    "ingredients3 = set(map(lambda x: x.lower(), [\n",
    "    'Algas', 'Azuki', 'Daikon', 'Dashi no moto', 'Enokidake', 'Gomame', 'Gomashio', 'Jengibre', 'Katsuobushi', 'Mirin',\n",
    "    'Miso', 'Niboshi', 'Renkon (raíz de loto)', 'Saifun (fideos de soja)', 'Sake', 'Salsa de soja', 'Sansho no kona',\n",
    "    'Shichimi togarashi (pimienta japonesa)', 'Ichimi Togarashi (guindilla en polvo)', 'Shiitake', 'Shiritaki', 'Soba',\n",
    "    'Somen', 'Su (Vinagre de sake)', 'Tentsuyu', 'Dashi', 'Tofu', 'Tsukemono', 'Udon', 'Umeboshi', 'Wasabe (wasabi)'\n",
    "]))\n",
    "len(ingredients3)"
   ]
  },
  {
   "cell_type": "code",
   "execution_count": 6,
   "metadata": {
    "collapsed": false
   },
   "outputs": [
    {
     "data": {
      "text/plain": [
       "11"
      ]
     },
     "execution_count": 6,
     "metadata": {},
     "output_type": "execute_result"
    }
   ],
   "source": [
    "# http://elcomidista.elpais.com/elcomidista/2013/09/12/articulo/1378962000_137896.html\n",
    "ingredients4 = set(map(lambda x: x.lower(), [\n",
    "    'arroz', 'fideos', 'wasabi', 'soja', 'yakisoba', 'teriyaki', 'pasta de miso', 'Jengibre', 'vinagre de arroz',\n",
    "    'Katsuobushi', 'caldo dashi', 'alagas', 'Wakame', 'Nori', 'Kombu', 'Sésamos o ajanjolí', 'té matcha', 'panko'\n",
    "]))\n",
    "len(ingredients4)"
   ]
  },
  {
   "cell_type": "code",
   "execution_count": 6,
   "metadata": {
    "collapsed": false
   },
   "outputs": [
    {
     "data": {
      "text/plain": [
       "11"
      ]
     },
     "execution_count": 6,
     "metadata": {},
     "output_type": "execute_result"
    }
   ],
   "source": [
    "# http://www.condospalillos.com/blog/2013/03/05/cocina-japonesa-para-principiantes-1-ingredientes-basicos\n",
    "ingredients5 = set(map(lambda x: x.lower(), [\n",
    "    'DASHI', 'Katsuo dashi', 'Konbu dashi', 'Niboshi dashi', 'Shiitake dashi', 'Ichiban dashi', 'Niban dashi', 'SAKE',\n",
    "    'MISO', 'Hatcho Miso', 'Komé Miso', 'Genmai Miso', 'Mugí miso', 'Aka miso', 'Shiro miso', 'ACEITE DE SÉSAMO',\n",
    "    'VINAGRE DE ARROZ', 'MIRIN', 'SALSA DE SOJA', 'SALSA TONKATSU', 'WASABI', 'ARROZ JAPONÉS'\n",
    "]))\n",
    "len(ingredients5)"
   ]
  },
  {
   "cell_type": "code",
   "execution_count": 6,
   "metadata": {
    "collapsed": false
   },
   "outputs": [
    {
     "data": {
      "text/plain": [
       "11"
      ]
     },
     "execution_count": 6,
     "metadata": {},
     "output_type": "execute_result"
    }
   ],
   "source": [
    "# http://japonismo.com/blog/16-ingredientes-basicos-comida-japonesa\n",
    "ingredients6 = set(map(lambda x: x.lower(), [\n",
    "    'arroz o kome', 'salsa de soja o shōyu', 'sake', 'mirin', 'dashi o hon-dashi', 'katsuobushi',\n",
    "    'pan rallado japonés o panko', 'alga nori', 'vinagre de arroz o su', 'salsa Worcestershire', 'salsa tonkatsu',\n",
    "    'salsa yakisoba', 'salsa okonomiyaki', 'salsa takoyaki', 'mayonesa japonesa', 'rábano picante japonés o wasabi',\n",
    "    'siete especias o shichimi togarashi', 'semillas de sésamo o goma', 'alga wakame'\n",
    "]))\n",
    "len(ingredients6)"
   ]
  },
  {
   "cell_type": "code",
   "execution_count": 6,
   "metadata": {
    "collapsed": false
   },
   "outputs": [
    {
     "data": {
      "text/plain": [
       "11"
      ]
     },
     "execution_count": 6,
     "metadata": {},
     "output_type": "execute_result"
    }
   ],
   "source": [
    "# http://elcomidista.elpais.com/elcomidista/2013/04/16/articulo/1366090954_136609.html\n",
    "ingredients7 = set(map(lambda x: x.lower(), [\n",
    "    'Salsa de soja', 'Aceite de sésamo', 'Aceite de cacahuete', 'Salsa de chile', 'aceite de chile', 'Jengibre',\n",
    "    'Polvo de cinco especias', 'vinagre de arroz', 'Doufu', 'fideos', 'Verduras encurtidas', 'Brotes de bambú',\n",
    "    'Setas chinas', 'Salsa hoisin'\n",
    "]))\n",
    "len(ingredients7)"
   ]
  },
  {
   "cell_type": "code",
   "execution_count": 6,
   "metadata": {
    "collapsed": false
   },
   "outputs": [
    {
     "data": {
      "text/plain": [
       "11"
      ]
     },
     "execution_count": 6,
     "metadata": {},
     "output_type": "execute_result"
    }
   ],
   "source": [
    "# https://es.wikipedia.org/wiki/Gastronom%C3%ADa_de_China\n",
    "ingredients8 = set(map(lambda x: x.lower(), [\n",
    "    'Polvo Cinco Especias o Polvo Cinco Sabores', 'Brotes de soja o Dientes de Dragón', 'Salsa de tamarindo',\n",
    "    'Porotos o alubias Tausi o Porotos Negros Salados', 'Pak Choy', 'Algas', 'Camarones secos', 'Pulpo crudo',\n",
    "    'Cebollino', 'Jengibre', 'Fideos de arroz', 'Pimienta Szechuan', 'Aceite de ajonjolí', 'Vino de arroz',\n",
    "    'Salsa de ostras', 'Salsa de pescado', 'Bambú', 'Salsa soja'\n",
    "]))\n",
    "len(ingredients8)"
   ]
  },
  {
   "cell_type": "code",
   "execution_count": 6,
   "metadata": {
    "collapsed": false
   },
   "outputs": [
    {
     "data": {
      "text/plain": [
       "11"
      ]
     },
     "execution_count": 6,
     "metadata": {},
     "output_type": "execute_result"
    }
   ],
   "source": [
    "# http://www.imujer.com/gourmet/8391/7-ingredientes-que-encontraras-en-una-cocina-china\n",
    "ingredients9 = set(map(lambda x: x.lower(), [\n",
    "    'Salsa de soja', 'Vino de arroz', 'Aceite de sésamo', 'Pimienta de sichuan', 'Vinagre de arroz', 'Melón de invierno',\n",
    "    'Polvo de 5 especias'\n",
    "]))\n",
    "len(ingredients9)"
   ]
  },
  {
   "cell_type": "code",
   "execution_count": 6,
   "metadata": {
    "collapsed": false
   },
   "outputs": [
    {
     "data": {
      "text/plain": [
       "11"
      ]
     },
     "execution_count": 6,
     "metadata": {},
     "output_type": "execute_result"
    }
   ],
   "source": [
    "# http://www.guiamiguelin.com/china/ingredientes.html\n",
    "ingredients10 = set(map(lambda x: x.lower(), [\n",
    "    'té', 'té verde', 'té negro', 'soja o soya', 'salsa de soja', 'pasta de soja', 'brotes de soja', 'cuajada de soja',\n",
    "    'hojas de cuajada de soja', 'alubias de soja saldas', 'alubias de soja amarillas', 'alubias de soja negras', 'sal',\n",
    "    'pimienta', 'azúcar', 'mostaza', 'agar-agar', 'cabellos de algas', 'aabalone', 'badiana o anís estrellado',\n",
    "    'brotes de bambú', 'hojas secas de bambú', 'nidos de salangana o collocalia esculenta o nido de golondrinas',\n",
    "    'queso de semillas', 'huevos milenarios', 'cinco especias en polvo o polvo de cinco especias', 'raíz de jengibre',\n",
    "    'hojas de loto', 'glutamato', 'setas chinas negras', 'fideos chinos', 'salsa de ostras', 'salchicha china',\n",
    "    'trepang o pepino de mar', 'aleta de tiburón', 'salsa de camarón', 'castaña de agua', 'calamares secos', 'durian'\n",
    "]))\n",
    "len(ingredients10)"
   ]
  },
  {
   "cell_type": "code",
   "execution_count": 6,
   "metadata": {
    "collapsed": false
   },
   "outputs": [
    {
     "data": {
      "text/plain": [
       "11"
      ]
     },
     "execution_count": 6,
     "metadata": {},
     "output_type": "execute_result"
    }
   ],
   "source": [
    "# http://hoy.com.do/ingredientes-tipicos-de-la-cocina-china/\n",
    "ingredients11 = set(map(lambda x: x.lower(), [\n",
    "    'Ajinomoto o glutamato monosódico o glutamato de monosodio', 'Salsa de ostras', 'Polvo de cinco especias',\n",
    "    'Salsa de ciruela', 'Salsa de soya', 'Salsa Chu Hou', 'Salsa para chancho asado', 'chancho o cerdo', 'Salsa Hoisin'\n",
    "]))\n",
    "len(ingredients11)"
   ]
  },
  {
   "cell_type": "code",
   "execution_count": 6,
   "metadata": {
    "collapsed": false
   },
   "outputs": [
    {
     "data": {
      "text/plain": [
       "11"
      ]
     },
     "execution_count": 6,
     "metadata": {},
     "output_type": "execute_result"
    }
   ],
   "source": [
    "# http://bartjapanworld.blogspot.ca/2013/06/ingredientes-esenciales-de-la.html\n",
    "ingredients12 = set(map(lambda x: x.lower(), [\n",
    "    'Arroz glutinoso', 'Nira (puerro chino)', 'boniatos o batatas', 'espinacas', 'pepino', 'berenjena',\n",
    "    'renkon (raíz de loto)', 'takenoko (brotes de bambú)', 'negi (cebolla verde)', 'Daikon o rábano daikon',\n",
    "    'Moyashi o mame moyashi', 'Sansai', 'Konnyaku', 'Shiitake', 'Matsutake', 'Enokitake', 'Nameko', 'Shimeji',\n",
    "    'tsukemono o encurtidos o verduras encurtidas o encurtido de verduras', 'Salsa de soja', 'miso', 'vinagre de arroz',\n",
    "    'mirin', 'nuka', 'sake', 'albaricoques', 'nabos', 'lechuga china', 'pepinos', 'espinaca', 'nori', 'kombu', 'wakame',\n",
    "    'Hijiki o hiziki', 'surimi', 'chikuwa', 'niboshi', 'Kamaboko', 'Udon', 'Soba', 'Sōmen', 'Ramen', 'huevos de gallina',\n",
    "    'huevos de codorniz', 'cerdo', 'vaca', 'pollo', 'cordero', 'miso', 'tofu', 'Shō-yu o salsa de soja', 'Dashi',\n",
    "    'mirin', 'Katsuobushi', 'Cebolla', 'Ajo', 'Puerro', 'Cebollino', 'Semillas de sésamo', 'Aceite de sésamo',\n",
    "    'Sal de sésamo (Gomashio)', 'Furikake', 'Wasabi', 'daikon', 'Mostaza', 'Pimiento rojo', 'Jengibre', 'hojas de Shiso',\n",
    "    'Sansho', 'Cítricos'\n",
    "]))\n",
    "len(ingredients12)"
   ]
  },
  {
   "cell_type": "code",
   "execution_count": 7,
   "metadata": {
    "collapsed": false
   },
   "outputs": [],
   "source": [
    "ingredients = ingredients1.union(ingredients2) \\\n",
    "                          .union(ingredients3) \\\n",
    "                          .union(ingredients4) \\\n",
    "                          .union(ingredients5)"
   ]
  },
  {
   "cell_type": "code",
   "execution_count": 8,
   "metadata": {
    "collapsed": false
   },
   "outputs": [
    {
     "data": {
      "text/plain": [
       "405"
      ]
     },
     "execution_count": 8,
     "metadata": {},
     "output_type": "execute_result"
    }
   ],
   "source": [
    "len(ingredients)"
   ]
  },
  {
   "cell_type": "code",
   "execution_count": 9,
   "metadata": {
    "collapsed": true
   },
   "outputs": [],
   "source": [
    "with open('data/ingredients/other_sources_spanish_ingredients.txt', 'w') as f:\n",
    "    f.write('\\n'.join(sorted(ingredients)))"
   ]
  }
 ],
 "metadata": {
  "kernelspec": {
   "display_name": "Python 3",
   "language": "python",
   "name": "python3"
  },
  "language_info": {
   "codemirror_mode": {
    "name": "ipython",
    "version": 3
   },
   "file_extension": ".py",
   "mimetype": "text/x-python",
   "name": "python",
   "nbconvert_exporter": "python",
   "pygments_lexer": "ipython3",
   "version": "3.4.3"
  }
 },
 "nbformat": 4,
 "nbformat_minor": 0
}
