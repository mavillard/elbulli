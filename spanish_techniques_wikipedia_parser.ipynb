{
 "cells": [
  {
   "cell_type": "code",
   "execution_count": 1,
   "metadata": {
    "collapsed": false
   },
   "outputs": [],
   "source": [
    "from bs4 import BeautifulSoup"
   ]
  },
  {
   "cell_type": "code",
   "execution_count": 2,
   "metadata": {
    "collapsed": false
   },
   "outputs": [],
   "source": [
    "def trim(s):\n",
    "    return ' '.join(s.split())"
   ]
  },
  {
   "cell_type": "code",
   "execution_count": 3,
   "metadata": {
    "collapsed": false
   },
   "outputs": [],
   "source": [
    "techniques = set()"
   ]
  },
  {
   "cell_type": "code",
   "execution_count": 4,
   "metadata": {
    "collapsed": true
   },
   "outputs": [],
   "source": [
    "def clean_1(l):\n",
    "    r = []\n",
    "    for e in l:\n",
    "        if e not in [\n",
    "#             'Template:Cooking techniques',\n",
    "#             'List of cooking techniques',\n",
    "#             'List of twice-baked foods',\n",
    "        ]:\n",
    "            x = e.strip().lower().replace('_', ' ')\n",
    "            x = x.split(' (')[0]\n",
    "            r.append(x)\n",
    "    return r"
   ]
  },
  {
   "cell_type": "code",
   "execution_count": 5,
   "metadata": {
    "collapsed": false
   },
   "outputs": [
    {
     "name": "stdout",
     "output_type": "stream",
     "text": [
      "Ahumados\n",
      "Alimentos crudos\n",
      "Asado\n",
      "Barbacoa\n",
      "Cocción alimentaria\n",
      "Comida en pincho\n",
      "Encurtidos\n",
      "Estofados\n",
      "Fermentaciones\n",
      "Flambeados\n",
      "Platos por técnica culinaria\n",
      "Preservación de alimentos\n",
      "Repostería\n",
      "Sándwiches\n",
      "Técnicas de corte\n",
      "Al dente\n",
      "Baño María\n",
      "Bhuna\n",
      "Braseado\n",
      "Caramelización\n",
      "Chaunk\n",
      "Clarificar\n",
      "Cocción a fuego lento\n",
      "Cocina al vacío\n",
      "Cocinado a baja temperatura\n",
      "Concasse\n",
      "Conchado\n",
      "Conche\n",
      "Conserva\n",
      "Dorar\n",
      "Dum pukht\n",
      "Empanado\n",
      "Escaldado\n",
      "Escalfado\n",
      "Esferificación\n",
      "Fondue\n",
      "Fritura\n",
      "Fritura a presión\n",
      "Glaseado\n",
      "Gratinado\n",
      "Guisado\n",
      "Guiso\n",
      "Horno de microondas\n",
      "Huevos al plato\n",
      "Kinpira\n",
      "Licuado\n",
      "Marcado\n",
      "Marinado\n",
      "Mechar\n",
      "Meunière\n",
      "Mise en place\n",
      "Napar\n",
      "Olla a presión\n",
      "Papillot\n",
      "Plancha de cocina\n",
      "Punto de humeo\n",
      "Puré\n",
      "Reacción de Maillard\n",
      "Rebozado\n",
      "Reducción (gastronomía)\n",
      "Relleno (gastronomía)\n",
      "Rosticería\n",
      "Roux\n",
      "Salazón\n",
      "Salmuera\n",
      "Salsa española\n",
      "Salteado\n",
      "Secado\n",
      "Sofreír\n",
      "Sofrito\n",
      "Stir frying\n",
      "Tataki\n",
      "Tatemar\n",
      "Tempura\n",
      "Triángulo culinario\n",
      "Wok hei\n"
     ]
    }
   ],
   "source": [
    "with open('data/techniques/es/wikipedia/wikipedia_spanish_categoria_tecnicas_culinarias.html') as f:\n",
    "    soup = BeautifulSoup(f.read(), 'html.parser')\n",
    "    elems = soup.select('div#mw-content-text div.mw-category-group ul li a')\n",
    "    techs = map(lambda x: trim(x.text), elems)\n",
    "    for t in techs:\n",
    "        print(t)\n",
    "    clean_techs = clean_1(techs)\n",
    "    techniques = techniques.union(clean_techs)"
   ]
  },
  {
   "cell_type": "code",
   "execution_count": 6,
   "metadata": {
    "collapsed": false
   },
   "outputs": [],
   "source": [
    "def clean_2(l):\n",
    "    r = []\n",
    "    for e in l:\n",
    "        if e not in [\n",
    "            't',\n",
    "            'e',\n",
    "            'List of cooking appliances',\n",
    "            'Outdoor cooking',\n",
    "            'Food preparation',\n",
    "            'Food preservation',\n",
    "            'Food safety'\n",
    "        ]:\n",
    "            x = e.strip().lower().replace('_', ' ')\n",
    "            if '(' in x:\n",
    "                x1, x2 = x.split('(')\n",
    "                x1 = x1[:-1]\n",
    "                x2 = x2[:-1]\n",
    "                r.append(x1)\n",
    "                if x2 not in ['modern', 'traditional']:\n",
    "                    r.append(x2)\n",
    "            elif '/' in x:\n",
    "                x1, x2 = x.split('/')\n",
    "                r.append(x1)\n",
    "                r.append(x2)\n",
    "            else:\n",
    "                r.append(x)\n",
    "    return r"
   ]
  },
  {
   "cell_type": "code",
   "execution_count": 7,
   "metadata": {
    "collapsed": false
   },
   "outputs": [
    {
     "name": "stdout",
     "output_type": "stream",
     "text": [
      "Platos cocinados en la mesa\n",
      "Productos horneados\n",
      "Calçotada\n",
      "Cebolla caramelizada\n",
      "Teppanyaki\n",
      "Teriyaki\n"
     ]
    }
   ],
   "source": [
    "with open('data/techniques/es/wikipedia/wikipedia_spanish_categoria_platos_tecnica_culinaria.html') as f:\n",
    "    soup = BeautifulSoup(f.read(), 'html.parser')\n",
    "    elems = soup.select('div#mw-content-text ul li a')\n",
    "    techs = map(lambda x: trim(x.text), elems)\n",
    "    for t in techs:\n",
    "        print(t)\n",
    "    clean_techs = clean_2(techs)\n",
    "    techniques = techniques.union(clean_techs)"
   ]
  },
  {
   "cell_type": "code",
   "execution_count": 8,
   "metadata": {
    "collapsed": true
   },
   "outputs": [],
   "source": [
    "def clean_3(l):\n",
    "    r = []\n",
    "    for e in l:\n",
    "        if e not in [\n",
    "            'List of culinary knife cuts',\n",
    "        ]:\n",
    "            x = e.strip().lower().replace('_', ' ')\n",
    "            r.append(x)\n",
    "    return r"
   ]
  },
  {
   "cell_type": "code",
   "execution_count": 9,
   "metadata": {
    "collapsed": false
   },
   "outputs": [
    {
     "name": "stdout",
     "output_type": "stream",
     "text": [
      "Fondue\n",
      "Hot pot\n",
      "Nabemono\n",
      "Okonomiyaki\n",
      "Raclette\n",
      "Samgyeopsal\n",
      "Shabu-shabu\n",
      "Sukiyaki\n",
      "Yakiniku\n"
     ]
    }
   ],
   "source": [
    "with open('data/techniques/es/wikipedia/wikipedia_spanish_categoria_platos_cocinados_mesa.html') as f:\n",
    "    soup = BeautifulSoup(f.read(), 'html.parser')\n",
    "    elems = soup.select('div#mw-pages div.mw-category-group ul li a')\n",
    "    techs = map(lambda x: trim(x['title']), elems)\n",
    "    for t in techs:\n",
    "        print(t)\n",
    "    clean_techs = clean_3(techs)\n",
    "    techniques = techniques.union(clean_techs)"
   ]
  },
  {
   "cell_type": "code",
   "execution_count": 10,
   "metadata": {
    "collapsed": true
   },
   "outputs": [],
   "source": [
    "def clean_4(l):\n",
    "    r = []\n",
    "    for e in l:\n",
    "        if e not in [\n",
    "            'Chinese cooking techniques',\n",
    "            'Manifold Destiny',\n",
    "            'Meat cooking techniques',\n",
    "            'Vietnamese cooking techniques',\n",
    "        ]:\n",
    "            x = e.strip().lower().replace('_', ' ')\n",
    "            x = x.split(' (')[0]\n",
    "            r.append(x)\n",
    "    return r"
   ]
  },
  {
   "cell_type": "code",
   "execution_count": 11,
   "metadata": {
    "collapsed": false
   },
   "outputs": [
    {
     "name": "stdout",
     "output_type": "stream",
     "text": [
      "Brunoise\n",
      "Chiffonade\n",
      "Jardinera (cocina)\n",
      "Juliana\n",
      "Macedonia de frutas\n",
      "Mandolina (utensilio)\n",
      "Mirepoix (gastronomía)\n",
      "Trinchar\n"
     ]
    }
   ],
   "source": [
    "with open('data/techniques/es/wikipedia/wikipedia_spanish_categoria_tecnicas_corte.html') as f:\n",
    "    soup = BeautifulSoup(f.read(), 'html.parser')\n",
    "    elems = soup.select('div#mw-pages div.mw-category-group ul li a')\n",
    "    techs = map(lambda x: trim(x.string), elems)\n",
    "    for t in techs:\n",
    "        print(t)\n",
    "    clean_techs = clean_4(techs)\n",
    "    techniques = techniques.union(clean_techs)"
   ]
  },
  {
   "cell_type": "code",
   "execution_count": 12,
   "metadata": {
    "collapsed": true
   },
   "outputs": [],
   "source": [
    "def clean_5(l):\n",
    "    r = []\n",
    "    for e in l:\n",
    "        x = e.strip().lower().replace('_', ' ')\n",
    "        if 'or' in x:\n",
    "            x1, x2 = x.split(' or ')\n",
    "            r.append(x1)\n",
    "            r.append(x2)\n",
    "        else:\n",
    "            r.append(x)\n",
    "    return r"
   ]
  },
  {
   "cell_type": "code",
   "execution_count": 15,
   "metadata": {
    "collapsed": false
   },
   "outputs": [
    {
     "name": "stdout",
     "output_type": "stream",
     "text": [
      "Recipientes de cocción\n",
      "Cocidos\n",
      "Cocción roja\n",
      "Cocina de retención del calor\n",
      "Nixtamalización\n",
      "Sancochar\n",
      "Sous-vide\n"
     ]
    }
   ],
   "source": [
    "with open('data/techniques/es/wikipedia/wikipedia_spanish_categoria_coccion_alimentaria.html') as f:\n",
    "    soup = BeautifulSoup(f.read(), 'html.parser')\n",
    "    elems = soup.select('div#mw-content-text ul li a')\n",
    "    techs = map(lambda x: trim(x.string), elems)\n",
    "    for t in techs:\n",
    "        print(t)\n",
    "    clean_techs = clean_5(techs)\n",
    "    techniques = techniques.union(clean_techs)"
   ]
  },
  {
   "cell_type": "code",
   "execution_count": 14,
   "metadata": {
    "collapsed": false
   },
   "outputs": [
    {
     "data": {
      "text/plain": [
       "0"
      ]
     },
     "execution_count": 14,
     "metadata": {},
     "output_type": "execute_result"
    }
   ],
   "source": [
    "len(techniques)"
   ]
  },
  {
   "cell_type": "code",
   "execution_count": 19,
   "metadata": {
    "collapsed": true
   },
   "outputs": [],
   "source": [
    "with open('data/techniques/wikipedia_spanish_techniques.txt', 'w') as f:\n",
    "    f.write('\\n'.join(sorted(techniques)))"
   ]
  },
  {
   "cell_type": "code",
   "execution_count": null,
   "metadata": {
    "collapsed": true
   },
   "outputs": [],
   "source": []
  }
 ],
 "metadata": {
  "kernelspec": {
   "display_name": "Python 3",
   "language": "python",
   "name": "python3"
  },
  "language_info": {
   "codemirror_mode": {
    "name": "ipython",
    "version": 3
   },
   "file_extension": ".py",
   "mimetype": "text/x-python",
   "name": "python",
   "nbconvert_exporter": "python",
   "pygments_lexer": "ipython3",
   "version": "3.4.3"
  }
 },
 "nbformat": 4,
 "nbformat_minor": 0
}
