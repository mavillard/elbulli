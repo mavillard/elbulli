{
 "cells": [
  {
   "cell_type": "code",
   "execution_count": 1,
   "metadata": {
    "collapsed": false
   },
   "outputs": [],
   "source": [
    "import string\n",
    "\n",
    "import requests\n",
    "from bs4 import BeautifulSoup"
   ]
  },
  {
   "cell_type": "code",
   "execution_count": 2,
   "metadata": {
    "collapsed": false
   },
   "outputs": [
    {
     "name": "stdout",
     "output_type": "stream",
     "text": [
      "Total urls: 26\n",
      "Total ingredients: 1088\n",
      "Response errors: 0\n",
      "Other errors: 0\n"
     ]
    }
   ],
   "source": [
    "total_urls  = 0\n",
    "total_ingredients = 0\n",
    "# ingredient_errors = 0\n",
    "response_errors = 0\n",
    "other_errors = 0\n",
    "ingredients = set()\n",
    "\n",
    "base_url = 'http://www.bbc.co.uk/food/ingredients/by/letter/'\n",
    "letters = string.ascii_lowercase\n",
    "for letter in letters:\n",
    "    try:\n",
    "        url = base_url + letter\n",
    "        response = requests.get(url)\n",
    "        if response.ok:\n",
    "            soup = BeautifulSoup(response.content, 'html.parser')\n",
    "            elems = soup.find_all('li', 'resource', 'food')\n",
    "            ings = list(map(lambda x: x['id'].strip().lower().replace('_', ' '), elems))\n",
    "            ingredients = ingredients.union(ings)\n",
    "            total_ingredients += len(ings)\n",
    "        else:\n",
    "            response_errors += 1\n",
    "    except:\n",
    "        other_errors += 1\n",
    "    total_urls += 1\n",
    "\n",
    "with open('data/ingredients/bbcfood_ingredients.txt', 'w') as f:\n",
    "    f.write('\\n'.join(sorted(ingredients)))\n",
    "\n",
    "print('Total urls:', total_urls)\n",
    "print('Total ingredients:', total_ingredients)\n",
    "# print('Ingredient errors:', ingredient_errors)\n",
    "print('Response errors:', response_errors)\n",
    "print('Other errors:', other_errors)"
   ]
  },
  {
   "cell_type": "code",
   "execution_count": null,
   "metadata": {
    "collapsed": true
   },
   "outputs": [],
   "source": []
  }
 ],
 "metadata": {
  "kernelspec": {
   "display_name": "Python 3",
   "language": "python",
   "name": "python3"
  },
  "language_info": {
   "codemirror_mode": {
    "name": "ipython",
    "version": 3
   },
   "file_extension": ".py",
   "mimetype": "text/x-python",
   "name": "python",
   "nbconvert_exporter": "python",
   "pygments_lexer": "ipython3",
   "version": "3.4.3"
  }
 },
 "nbformat": 4,
 "nbformat_minor": 0
}
