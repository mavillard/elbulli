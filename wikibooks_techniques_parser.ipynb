{
 "cells": [
  {
   "cell_type": "code",
   "execution_count": 1,
   "metadata": {
    "collapsed": false
   },
   "outputs": [],
   "source": [
    "from bs4 import BeautifulSoup"
   ]
  },
  {
   "cell_type": "code",
   "execution_count": 2,
   "metadata": {
    "collapsed": false
   },
   "outputs": [],
   "source": [
    "def trim(s):\n",
    "    return ' '.join(s.split())"
   ]
  },
  {
   "cell_type": "code",
   "execution_count": 3,
   "metadata": {
    "collapsed": false
   },
   "outputs": [],
   "source": [
    "def clean(l):\n",
    "    r = []\n",
    "    for e in l:\n",
    "        x = e.strip().lower()\n",
    "        x = x[len('cookbook:'):]\n",
    "        if x == 'backyard grilling':\n",
    "            x = ['backyard grilling or grilling or grill or grilled']\n",
    "        elif x == 'barbecue cooking':\n",
    "            x = ['barbecue cooking or barbecue']\n",
    "        elif x == 'barbecue tips':\n",
    "            x = []\n",
    "        elif x == 'barbecuing':\n",
    "            x = ['barbecuing or barbacue or barbacued']\n",
    "        elif x == 'beaten egg':\n",
    "            x = ['beaten or beat or beating']\n",
    "        elif x == 'boiled pasta':\n",
    "            x = ['boiled or boil or boiling']\n",
    "        elif x == 'camp cooking':\n",
    "            x = []\n",
    "        elif x == 'clay pot cooking':\n",
    "            x = ['clay pot cooking or clay pot']\n",
    "        elif x == 'cold water candy test':\n",
    "            x = []\n",
    "        elif x == 'cooking techniques':\n",
    "            x = []\n",
    "        elif x == 'knife skills':\n",
    "            x = []\n",
    "        elif x == 'mastering the art of cooking paellas':\n",
    "            x = []\n",
    "        elif x == 'microwave cooking':\n",
    "            x = ['microwave cooking or microwave or microwaving or microwaved']\n",
    "        elif x == 'outdoor cooking':\n",
    "            x = []\n",
    "        elif x == 'paella cooking techniques':\n",
    "            x = []\n",
    "        elif x == 'pressure cooking':\n",
    "            x = ['pressure cooking or pressure or pressuring or pressured']\n",
    "        elif x == 'roasting nuts':\n",
    "            x = ['roasting or roast or roasted']\n",
    "        elif x == 'secrets to great ribs':\n",
    "            x = []\n",
    "        elif x == 'separating eggs':\n",
    "            x = []\n",
    "        elif x == 'stir-frying':\n",
    "            x = ['stir-frying or stir frying or stir fry or stir-fry']\n",
    "        else:\n",
    "            x = [x]\n",
    "        r.extend(x)\n",
    "    return set(r)"
   ]
  },
  {
   "cell_type": "code",
   "execution_count": 8,
   "metadata": {
    "collapsed": false
   },
   "outputs": [],
   "source": [
    "techniques1 = set()\n",
    "\n",
    "with open('data/techniques/en/wikibooks/wikibooks_category_cooking_techniques.html') as f:\n",
    "    soup = BeautifulSoup(f.read(), 'html.parser')\n",
    "    elems = soup.select('div#mw-pages div.mw-category-group ul li a')\n",
    "    techs = clean(map(lambda x: trim(x['title']), elems))\n",
    "    techniques1 = techniques1.union(techs)\n",
    "\n",
    "techniques1 = sorted(techniques1)"
   ]
  },
  {
   "cell_type": "code",
   "execution_count": 6,
   "metadata": {
    "collapsed": true
   },
   "outputs": [],
   "source": [
    "def clean_4(l):\n",
    "    r = []\n",
    "    for e in l:\n",
    "        if e not in [\n",
    "            'Roasting Nuts',\n",
    "            'Cold Water Candy Test',\n",
    "            'Spice rubs',\n",
    "            'Knife skills',\n",
    "            'Melting chocolate',\n",
    "        ]:\n",
    "            x = e.strip().lower().replace('_', ' ')\n",
    "            if 'and' in x:\n",
    "                x1, x2 = x.split(' and ')\n",
    "                r.append(x1)\n",
    "                r.append(x2)\n",
    "            else:\n",
    "                x = x.split(' (')[0]\n",
    "                r.append(x)\n",
    "    return r"
   ]
  },
  {
   "cell_type": "code",
   "execution_count": 7,
   "metadata": {
    "collapsed": false
   },
   "outputs": [],
   "source": [
    "with open('data/techniques/en/wikibooks/wikibooks_cookbook_cooking_techniques.html') as f:\n",
    "    soup = BeautifulSoup(f.read(), 'html.parser')\n",
    "    elems = soup.select('div#bodyContent h2 ~ ul:nth-of-type(1) li > a:nth-of-type(1), div#bodyContent h3 ~ ul:nth-of-type(1) li > a:nth-of-type(1)')\n",
    "    techs = map(lambda x: trim(x.string), elems)\n",
    "    clean_techs = clean_4(techs)\n",
    "    techniques = techniques.union(clean_techs)"
   ]
  },
  {
   "cell_type": "code",
   "execution_count": 8,
   "metadata": {
    "collapsed": false
   },
   "outputs": [
    {
     "data": {
      "text/plain": [
       "75"
      ]
     },
     "execution_count": 8,
     "metadata": {},
     "output_type": "execute_result"
    }
   ],
   "source": [
    "len(techniques)"
   ]
  },
  {
   "cell_type": "code",
   "execution_count": 9,
   "metadata": {
    "collapsed": true
   },
   "outputs": [],
   "source": [
    "with open('data/techniques/wikibooks_techniques.txt', 'w') as f:\n",
    "    f.write('\\n'.join(sorted(techniques)))"
   ]
  },
  {
   "cell_type": "code",
   "execution_count": null,
   "metadata": {
    "collapsed": true
   },
   "outputs": [],
   "source": []
  }
 ],
 "metadata": {
  "kernelspec": {
   "display_name": "Python 3",
   "language": "python",
   "name": "python3"
  },
  "language_info": {
   "codemirror_mode": {
    "name": "ipython",
    "version": 3
   },
   "file_extension": ".py",
   "mimetype": "text/x-python",
   "name": "python",
   "nbconvert_exporter": "python",
   "pygments_lexer": "ipython3",
   "version": "3.4.3"
  }
 },
 "nbformat": 4,
 "nbformat_minor": 0
}
