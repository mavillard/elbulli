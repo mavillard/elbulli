{
 "cells": [
  {
   "cell_type": "code",
   "execution_count": 1,
   "metadata": {
    "collapsed": false
   },
   "outputs": [],
   "source": [
    "from bs4 import BeautifulSoup"
   ]
  },
  {
   "cell_type": "code",
   "execution_count": 2,
   "metadata": {
    "collapsed": false
   },
   "outputs": [],
   "source": [
    "def trim(s):\n",
    "    return ' '.join(s.split())"
   ]
  },
  {
   "cell_type": "code",
   "execution_count": 3,
   "metadata": {
    "collapsed": false
   },
   "outputs": [],
   "source": [
    "techniques = set()"
   ]
  },
  {
   "cell_type": "code",
   "execution_count": 4,
   "metadata": {
    "collapsed": true
   },
   "outputs": [],
   "source": [
    "def clean_1(l):\n",
    "    r = []\n",
    "    for e in l:\n",
    "        if e not in [\n",
    "            'Cookbook:Cooking Techniques',\n",
    "            'Cookbook:Barbecue Tips',\n",
    "            'Cookbook:Beaten Egg',\n",
    "            'Cookbook:Boiled Pasta',\n",
    "            'Cookbook:Boiling Rice',\n",
    "            'Cookbook:Camp Cooking',\n",
    "            'Cookbook:Cold Water Candy Test',\n",
    "            'Cookbook:Knife Skills',\n",
    "            'Cookbook:Mastering the Art of Cooking Paellas',\n",
    "            'Cookbook:Outdoor Cooking',\n",
    "            'Cookbook:Paella Cooking Techniques',\n",
    "            'Cookbook:Roasting Nuts',\n",
    "            'Cookbook:Secrets to Great Ribs',\n",
    "            'Cookbook:Separating Eggs',\n",
    "        ]:\n",
    "            x = e.strip().lower().replace('_', ' ')\n",
    "            x = x[len('Cookbook:'):]\n",
    "            x = x.split(' (')[0]\n",
    "            r.append(x)\n",
    "    return r"
   ]
  },
  {
   "cell_type": "code",
   "execution_count": 5,
   "metadata": {
    "collapsed": false
   },
   "outputs": [],
   "source": [
    "with open('data/techniques/wikibooks_category_cooking_techniques.html') as f:\n",
    "    soup = BeautifulSoup(f.read(), 'html.parser')\n",
    "    elems = soup.select('div#mw-pages div.mw-category-group ul li a')\n",
    "    techs = map(lambda x: trim(x['title']), elems)\n",
    "    clean_techs = clean_1(techs)\n",
    "    techniques = techniques.union(clean_techs)"
   ]
  },
  {
   "cell_type": "code",
   "execution_count": 6,
   "metadata": {
    "collapsed": true
   },
   "outputs": [],
   "source": [
    "def clean_4(l):\n",
    "    r = []\n",
    "    for e in l:\n",
    "        if e not in [\n",
    "            'Roasting Nuts',\n",
    "            'Cold Water Candy Test',\n",
    "            'Spice rubs',\n",
    "            'Knife skills',\n",
    "            'Melting chocolate',\n",
    "        ]:\n",
    "            x = e.strip().lower().replace('_', ' ')\n",
    "            if 'and' in x:\n",
    "                x1, x2 = x.split(' and ')\n",
    "                r.append(x1)\n",
    "                r.append(x2)\n",
    "            else:\n",
    "                x = x.split(' (')[0]\n",
    "                r.append(x)\n",
    "    return r"
   ]
  },
  {
   "cell_type": "code",
   "execution_count": 7,
   "metadata": {
    "collapsed": false
   },
   "outputs": [],
   "source": [
    "with open('data/techniques/wikibooks_cookbook_cooking_techniques.html') as f:\n",
    "    soup = BeautifulSoup(f.read(), 'html.parser')\n",
    "    elems = soup.select('div#bodyContent h2 ~ ul:nth-of-type(1) li > a:nth-of-type(1), div#bodyContent h3 ~ ul:nth-of-type(1) li > a:nth-of-type(1)')\n",
    "    techs = map(lambda x: trim(x.string), elems)\n",
    "    clean_techs = clean_4(techs)\n",
    "    techniques = techniques.union(clean_techs)"
   ]
  },
  {
   "cell_type": "code",
   "execution_count": 8,
   "metadata": {
    "collapsed": false
   },
   "outputs": [
    {
     "data": {
      "text/plain": [
       "75"
      ]
     },
     "execution_count": 8,
     "metadata": {},
     "output_type": "execute_result"
    }
   ],
   "source": [
    "len(techniques)"
   ]
  },
  {
   "cell_type": "code",
   "execution_count": 9,
   "metadata": {
    "collapsed": true
   },
   "outputs": [],
   "source": [
    "with open('data/techniques/wikibooks_techniques.txt', 'w') as f:\n",
    "    f.write('\\n'.join(sorted(techniques)))"
   ]
  },
  {
   "cell_type": "code",
   "execution_count": null,
   "metadata": {
    "collapsed": true
   },
   "outputs": [],
   "source": []
  }
 ],
 "metadata": {
  "kernelspec": {
   "display_name": "Python 3",
   "language": "python",
   "name": "python3"
  },
  "language_info": {
   "codemirror_mode": {
    "name": "ipython",
    "version": 3
   },
   "file_extension": ".py",
   "mimetype": "text/x-python",
   "name": "python",
   "nbconvert_exporter": "python",
   "pygments_lexer": "ipython3",
   "version": "3.4.3"
  }
 },
 "nbformat": 4,
 "nbformat_minor": 0
}
