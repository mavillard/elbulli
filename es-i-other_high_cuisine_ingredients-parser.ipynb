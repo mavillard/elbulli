{
 "cells": [
  {
   "cell_type": "code",
   "execution_count": 1,
   "metadata": {
    "collapsed": false
   },
   "outputs": [
    {
     "data": {
      "text/plain": [
       "58"
      ]
     },
     "execution_count": 1,
     "metadata": {},
     "output_type": "execute_result"
    }
   ],
   "source": [
    "# http://llenatudespensa.com/Catalogo/Mostrar/ingredientes-alta-cocina_57.html\n",
    "ingredients1 = set(map(lambda x: x.lower(), [\n",
    "    'Vinagre de crema balsámica clásica', 'Vinagre de crema balsámica de trufa', 'Vinagre de crema balsámica de higos',\n",
    "    'Vinagre de crema balsámica de frutos del bosque', 'Crema balsámica glaze clasica', 'Crema balsámica de limón',\n",
    "    'Vinagre de vino Pedro Ximénez', 'Vinagre de jerez solera', 'Vinagre de Jerez Macetilla',\n",
    "    'Vinagre de vino Pedro Ximénez', 'Vinagre balsámico de modena', 'Vinagre balsámico de modena',\n",
    "    'Aceite virgen extra de oliva con ceps', 'Aceite de pepitas de uva con trufa negra',\n",
    "    'Aceite de oliva virgen extra con ajo', 'Aceite de oliva virgen extra con guindilla',\n",
    "    'Aceite de oliva virgen extra con albahaca', 'Aceite de oliva virgen extra con setas', 'Aceite ahumado de haya',\n",
    "    'Tinta de calamar', 'Crema tartufata', 'Crema tartufata Blanca', 'Crema de bogavante', 'Txangurro natural',\n",
    "    'Pate de aceituna negra', 'Pate de aceituna negra', 'Confitura Naranja Dulce', 'Confitura Albaricoque',\n",
    "    'Confitura Naranja Dulce', 'Confitura Diet Albaricoque', 'Confitura Naranja Amarga', 'Confitura Cabello De Angel',\n",
    "    'Confitura de tomate rojo de la huerta', 'Cebolla confitada artesana', 'Confitura Diet Naranja Amarga',\n",
    "    'Confitura Diet Melocotón', 'Confitura Diet Fresa', 'Confitura Cereza Negra', 'Confitura Melocotón',\n",
    "    'Confitura Fresa', 'Confitura Diet Ciruela', 'Confitura Tomate', 'Confitura Arandanos',\n",
    "    'Confitura Petalos De Violeta', 'Confitura Frambuesa', 'Mermelada pimiento', 'Mermelada manzana',\n",
    "    'Mermelada cebolla', 'Tomate confitado artesano', 'Confitura Petalos De Rosa', 'Confitura Naranja Dulce',\n",
    "    'Nata Spray / Nata montada', 'Nata Cocina', 'Nata Performance', 'Nata Cocina Advantage',\n",
    "    'Nata Cocina Excellence / Nata Pastelería', 'Mantequilla extra seca', 'Margarina Risso Ambar',\n",
    "    'Sal de vino de garnacha centenaria', 'Sal', 'Sal ahumada', 'Pimentón dulce de la Vera', 'Azafran del Jiloca',\n",
    "    'Azafran del Jiloca'\n",
    "]))\n",
    "len(ingredients1)"
   ]
  },
  {
   "cell_type": "code",
   "execution_count": 2,
   "metadata": {
    "collapsed": false
   },
   "outputs": [
    {
     "data": {
      "text/plain": [
       "76"
      ]
     },
     "execution_count": 2,
     "metadata": {},
     "output_type": "execute_result"
    }
   ],
   "source": [
    "# https://www.cocinista.es/web/es/cocina-molecular.html\n",
    "ingredients2 = set(map(lambda x: x.lower(), [\n",
    "    'Fizzy', 'Sparkys', 'Bicarbonato de sodio', 'Crémor tártaro', 'Crémor tártaro', 'Acido Cítrico', 'Acido Cítrico',\n",
    "    'Ácido Tartárico', 'Tartrol o ácido tartárico', 'Lecite', 'Glice', 'Albúmina', 'Albúmina', 'Emulsionante en pasta',\n",
    "    'Clara de huevo pasteurizada', 'Aireante en escamas', 'Sucro', 'Agar o agar agar o agar-agar', 'Agar Agar en polvo',\n",
    "    'Gelatina en polvo', 'Lecitina de soja', 'Goma de Garrofín', 'Algin', 'Alginato de Sodio', 'Alginato de Sodio',\n",
    "    'Calcic', 'Cloruro de calcio', 'Gluco', 'Xantana', 'Goma Xantana', 'Citras', 'Lactato de Calcio',\n",
    "    'Lactato de Calcio', 'Lactato de Calcio', 'Citrato', 'Goma Xantana', 'Goma Xantana', 'Alginato de Sodio',\n",
    "    'Almidón de patata en polvo fino', 'Polvo de tilosa CMC', 'CMC', 'Goma Americana', 'Goma arábiga en polvo',\n",
    "    'Goma arábiga', 'Pectina citrus', 'Goma guar', 'Goma guar', 'Goma de Garrofín', 'Goma de Garrofín', 'Pectina',\n",
    "    'Goma Konjac', 'Goma Konjac', 'Fécula de tapioca', 'Fécula de patata', 'Almidón de maíz', 'Almidón de arroz',\n",
    "    'Goma Gellan', 'Goma Gellan', 'Gari', 'Perlas de tapioca grandes', 'Agar', 'Agar agar en polvo',\n",
    "    'Agar Agar en polvo', 'Agar Agar en polvo', 'Iota', 'Kappa', 'Carragenato kappa', 'Gellan', 'Gelatina en polvo',\n",
    "    'Metil', 'Agar agar', 'Goma de tragacanto', 'Goma tara', 'Pectina', 'Pectina citrus', 'Pectina de manzana nappage',\n",
    "    'Goma Konjac', 'Goma Konjac', 'Almidón de maíz', 'Goma Gellan', 'Goma Gellan', 'Agar agar', 'Carragenato de Sodio',\n",
    "    'Lyoframbuesa o frambuesa liofilizada', 'Lyogrosella o grosella liofilizada', 'Lyofresa o fresas liofilizadas',\n",
    "    'Lyomango o mango liofilizado', 'Yopol', 'Sparkys', 'Crumiel', 'Transglutaminasa EB', 'Glicerina', 'Malto',\n",
    "    'Lactosa', 'Goma de tragacanto', 'Colorante verde natural', 'Isomalt', 'Acido Cítrico', 'Edulcorante con sucralosa',\n",
    "    'Eritritol', 'Sorbitol al 70%', 'Ácido ascórbico', 'Citras', 'Acido Cítrico', 'Ácido ascórbico', 'Dextrosa',\n",
    "    'Maltodextrina', 'Colorante oro'\n",
    "]))\n",
    "len(ingredients2)"
   ]
  },
  {
   "cell_type": "code",
   "execution_count": 3,
   "metadata": {
    "collapsed": false
   },
   "outputs": [
    {
     "data": {
      "text/plain": [
       "4"
      ]
     },
     "execution_count": 3,
     "metadata": {},
     "output_type": "execute_result"
    }
   ],
   "source": [
    "# http://www.cocinasemana.com/ingredientes/articulo/gastronomia-molecular/22627\n",
    "ingredients3 = set(map(lambda x: x.lower(), [\n",
    "    'Alginato de sodio', 'Azúcar efervescente', 'Xatana', 'Nitrógeno líquido',\n",
    "]))\n",
    "len(ingredients3)"
   ]
  },
  {
   "cell_type": "code",
   "execution_count": 4,
   "metadata": {
    "collapsed": true
   },
   "outputs": [],
   "source": [
    "ingredients = ingredients1.union(ingredients2) \\\n",
    "                          .union(ingredients3)\n",
    "ingredients = sorted(ingredients)"
   ]
  },
  {
   "cell_type": "code",
   "execution_count": 5,
   "metadata": {
    "collapsed": false
   },
   "outputs": [
    {
     "data": {
      "text/plain": [
       "137"
      ]
     },
     "execution_count": 5,
     "metadata": {},
     "output_type": "execute_result"
    }
   ],
   "source": [
    "len(ingredients)"
   ]
  },
  {
   "cell_type": "code",
   "execution_count": 6,
   "metadata": {
    "collapsed": false
   },
   "outputs": [
    {
     "data": {
      "text/plain": [
       "['aceite ahumado de haya',\n",
       " 'aceite de oliva virgen extra con ajo',\n",
       " 'aceite de oliva virgen extra con albahaca',\n",
       " 'aceite de oliva virgen extra con guindilla',\n",
       " 'aceite de oliva virgen extra con setas',\n",
       " 'aceite de pepitas de uva con trufa negra',\n",
       " 'aceite virgen extra de oliva con ceps',\n",
       " 'acido cítrico',\n",
       " 'agar',\n",
       " 'agar agar',\n",
       " 'agar agar en polvo',\n",
       " 'agar o agar agar o agar-agar',\n",
       " 'aireante en escamas',\n",
       " 'albúmina',\n",
       " 'algin',\n",
       " 'alginato de sodio',\n",
       " 'almidón de arroz',\n",
       " 'almidón de maíz',\n",
       " 'almidón de patata en polvo fino',\n",
       " 'azafran del jiloca',\n",
       " 'azúcar efervescente',\n",
       " 'bicarbonato de sodio',\n",
       " 'calcic',\n",
       " 'carragenato de sodio',\n",
       " 'carragenato kappa',\n",
       " 'cebolla confitada artesana',\n",
       " 'citras',\n",
       " 'citrato',\n",
       " 'clara de huevo pasteurizada',\n",
       " 'cloruro de calcio',\n",
       " 'cmc',\n",
       " 'colorante oro',\n",
       " 'colorante verde natural',\n",
       " 'confitura albaricoque',\n",
       " 'confitura arandanos',\n",
       " 'confitura cabello de angel',\n",
       " 'confitura cereza negra',\n",
       " 'confitura de tomate rojo de la huerta',\n",
       " 'confitura diet albaricoque',\n",
       " 'confitura diet ciruela',\n",
       " 'confitura diet fresa',\n",
       " 'confitura diet melocotón',\n",
       " 'confitura diet naranja amarga',\n",
       " 'confitura frambuesa',\n",
       " 'confitura fresa',\n",
       " 'confitura melocotón',\n",
       " 'confitura naranja amarga',\n",
       " 'confitura naranja dulce',\n",
       " 'confitura petalos de rosa',\n",
       " 'confitura petalos de violeta',\n",
       " 'confitura tomate',\n",
       " 'crema balsámica de limón',\n",
       " 'crema balsámica glaze clasica',\n",
       " 'crema de bogavante',\n",
       " 'crema tartufata',\n",
       " 'crema tartufata blanca',\n",
       " 'crumiel',\n",
       " 'crémor tártaro',\n",
       " 'dextrosa',\n",
       " 'edulcorante con sucralosa',\n",
       " 'emulsionante en pasta',\n",
       " 'eritritol',\n",
       " 'fizzy',\n",
       " 'fécula de patata',\n",
       " 'fécula de tapioca',\n",
       " 'gari',\n",
       " 'gelatina en polvo',\n",
       " 'gellan',\n",
       " 'glice',\n",
       " 'glicerina',\n",
       " 'gluco',\n",
       " 'goma americana',\n",
       " 'goma arábiga',\n",
       " 'goma arábiga en polvo',\n",
       " 'goma de garrofín',\n",
       " 'goma de tragacanto',\n",
       " 'goma gellan',\n",
       " 'goma guar',\n",
       " 'goma konjac',\n",
       " 'goma tara',\n",
       " 'goma xantana',\n",
       " 'iota',\n",
       " 'isomalt',\n",
       " 'kappa',\n",
       " 'lactato de calcio',\n",
       " 'lactosa',\n",
       " 'lecite',\n",
       " 'lecitina de soja',\n",
       " 'lyoframbuesa o frambuesa liofilizada',\n",
       " 'lyofresa o fresas liofilizadas',\n",
       " 'lyogrosella o grosella liofilizada',\n",
       " 'lyomango o mango liofilizado',\n",
       " 'malto',\n",
       " 'maltodextrina',\n",
       " 'mantequilla extra seca',\n",
       " 'margarina risso ambar',\n",
       " 'mermelada cebolla',\n",
       " 'mermelada manzana',\n",
       " 'mermelada pimiento',\n",
       " 'metil',\n",
       " 'nata cocina',\n",
       " 'nata cocina advantage',\n",
       " 'nata cocina excellence / nata pastelería',\n",
       " 'nata performance',\n",
       " 'nata spray / nata montada',\n",
       " 'nitrógeno líquido',\n",
       " 'pate de aceituna negra',\n",
       " 'pectina',\n",
       " 'pectina citrus',\n",
       " 'pectina de manzana nappage',\n",
       " 'perlas de tapioca grandes',\n",
       " 'pimentón dulce de la vera',\n",
       " 'polvo de tilosa cmc',\n",
       " 'sal',\n",
       " 'sal ahumada',\n",
       " 'sal de vino de garnacha centenaria',\n",
       " 'sorbitol al 70%',\n",
       " 'sparkys',\n",
       " 'sucro',\n",
       " 'tartrol o ácido tartárico',\n",
       " 'tinta de calamar',\n",
       " 'tomate confitado artesano',\n",
       " 'transglutaminasa eb',\n",
       " 'txangurro natural',\n",
       " 'vinagre balsámico de modena',\n",
       " 'vinagre de crema balsámica clásica',\n",
       " 'vinagre de crema balsámica de frutos del bosque',\n",
       " 'vinagre de crema balsámica de higos',\n",
       " 'vinagre de crema balsámica de trufa',\n",
       " 'vinagre de jerez macetilla',\n",
       " 'vinagre de jerez solera',\n",
       " 'vinagre de vino pedro ximénez',\n",
       " 'xantana',\n",
       " 'xatana',\n",
       " 'yopol',\n",
       " 'ácido ascórbico',\n",
       " 'ácido tartárico']"
      ]
     },
     "execution_count": 6,
     "metadata": {},
     "output_type": "execute_result"
    }
   ],
   "source": [
    "ingredients"
   ]
  },
  {
   "cell_type": "code",
   "execution_count": 7,
   "metadata": {
    "collapsed": true
   },
   "outputs": [],
   "source": [
    "with open('data/ingredients/es_other_high_cuisine_ingredients.txt', 'w') as f:\n",
    "    f.write('\\n'.join(ingredients))"
   ]
  },
  {
   "cell_type": "code",
   "execution_count": null,
   "metadata": {
    "collapsed": true
   },
   "outputs": [],
   "source": []
  }
 ],
 "metadata": {
  "kernelspec": {
   "display_name": "Python 3",
   "language": "python",
   "name": "python3"
  },
  "language_info": {
   "codemirror_mode": {
    "name": "ipython",
    "version": 3
   },
   "file_extension": ".py",
   "mimetype": "text/x-python",
   "name": "python",
   "nbconvert_exporter": "python",
   "pygments_lexer": "ipython3",
   "version": "3.4.3"
  }
 },
 "nbformat": 4,
 "nbformat_minor": 0
}
