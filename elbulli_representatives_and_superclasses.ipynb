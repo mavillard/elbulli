{
 "cells": [
  {
   "cell_type": "code",
   "execution_count": 1,
   "metadata": {
    "collapsed": true
   },
   "outputs": [],
   "source": [
    "import os\n",
    "\n",
    "import networkx as nx\n",
    "import nltk\n",
    "from pymongo import MongoClient"
   ]
  },
  {
   "cell_type": "code",
   "execution_count": 2,
   "metadata": {
    "collapsed": true
   },
   "outputs": [],
   "source": [
    "client = MongoClient()\n",
    "# client.drop_database('recipes')\n",
    "db = client.recipes"
   ]
  },
  {
   "cell_type": "code",
   "execution_count": 7,
   "metadata": {
    "collapsed": true
   },
   "outputs": [],
   "source": [
    "def add_node(g, n):\n",
    "    if not n in g:\n",
    "        g.add_node(n, count=0)"
   ]
  },
  {
   "cell_type": "code",
   "execution_count": 6,
   "metadata": {
    "collapsed": true
   },
   "outputs": [],
   "source": [
    "def add_edge(g, n1, n2):\n",
    "    if n1 != n2 and not nx.has_path(g, n1, n2):\n",
    "        g.add_edge(n1, n2)"
   ]
  },
  {
   "cell_type": "code",
   "execution_count": 3,
   "metadata": {
    "collapsed": true
   },
   "outputs": [],
   "source": [
    "ingredients_graph = nx.read_gexf('data/elbulli_ingredients_lexicon_1.gexf')"
   ]
  },
  {
   "cell_type": "code",
   "execution_count": 4,
   "metadata": {
    "collapsed": true
   },
   "outputs": [],
   "source": [
    "techniques_graph = nx.read_gexf('data/elbulli_techniques_lexicon_1.gexf')"
   ]
  },
  {
   "cell_type": "markdown",
   "metadata": {},
   "source": [
    "# Representatives"
   ]
  },
  {
   "cell_type": "code",
   "execution_count": 9,
   "metadata": {
    "collapsed": false
   },
   "outputs": [],
   "source": [
    "for n in ingredients_graph.nodes():\n",
    "    if ingredients_graph.node[n]['count'] == 0:\n",
    "        neighbors = ingredients_graph.neighbors(n)\n",
    "        ingredients_graph.remove_node(n)\n",
    "        if len(neighbors) > 1:\n",
    "            add_edge(ingredients_graph, neighbors[0], neighbors[1])"
   ]
  },
  {
   "cell_type": "code",
   "execution_count": 10,
   "metadata": {
    "collapsed": false
   },
   "outputs": [
    {
     "data": {
      "text/plain": [
       "1609"
      ]
     },
     "execution_count": 10,
     "metadata": {},
     "output_type": "execute_result"
    }
   ],
   "source": [
    "len(ingredients_graph)"
   ]
  },
  {
   "cell_type": "code",
   "execution_count": 11,
   "metadata": {
    "collapsed": false
   },
   "outputs": [
    {
     "data": {
      "text/plain": [
       "221"
      ]
     },
     "execution_count": 11,
     "metadata": {},
     "output_type": "execute_result"
    }
   ],
   "source": [
    "ingredients_graph.number_of_edges()"
   ]
  },
  {
   "cell_type": "code",
   "execution_count": 12,
   "metadata": {
    "collapsed": false
   },
   "outputs": [
    {
     "data": {
      "text/plain": [
       "1388"
      ]
     },
     "execution_count": 12,
     "metadata": {},
     "output_type": "execute_result"
    }
   ],
   "source": [
    "nx.number_connected_components(ingredients_graph)"
   ]
  },
  {
   "cell_type": "code",
   "execution_count": 13,
   "metadata": {
    "collapsed": false
   },
   "outputs": [],
   "source": [
    "for n in techniques_graph.nodes():\n",
    "    if techniques_graph.node[n]['count'] == 0:\n",
    "        neighbors = techniques_graph.neighbors(n)\n",
    "        techniques_graph.remove_node(n)\n",
    "        if len(neighbors) > 1:\n",
    "            add_edge(techniques_graph, neighbors[0], neighbors[1])"
   ]
  },
  {
   "cell_type": "code",
   "execution_count": 14,
   "metadata": {
    "collapsed": false
   },
   "outputs": [
    {
     "data": {
      "text/plain": [
       "181"
      ]
     },
     "execution_count": 14,
     "metadata": {},
     "output_type": "execute_result"
    }
   ],
   "source": [
    "len(techniques_graph)"
   ]
  },
  {
   "cell_type": "code",
   "execution_count": 15,
   "metadata": {
    "collapsed": false
   },
   "outputs": [
    {
     "data": {
      "text/plain": [
       "94"
      ]
     },
     "execution_count": 15,
     "metadata": {},
     "output_type": "execute_result"
    }
   ],
   "source": [
    "techniques_graph.number_of_edges()"
   ]
  },
  {
   "cell_type": "code",
   "execution_count": 16,
   "metadata": {
    "collapsed": false
   },
   "outputs": [
    {
     "data": {
      "text/plain": [
       "87"
      ]
     },
     "execution_count": 16,
     "metadata": {},
     "output_type": "execute_result"
    }
   ],
   "source": [
    "nx.number_connected_components(techniques_graph)"
   ]
  },
  {
   "cell_type": "code",
   "execution_count": 9,
   "metadata": {
    "collapsed": false
   },
   "outputs": [],
   "source": [
    "repr_ingredients_dict = {}\n",
    "\n",
    "for syns in nx.connected_components(ingredients_graph):\n",
    "    max_ingr = ''\n",
    "    max_count = 0\n",
    "    for ingr in syns:\n",
    "        dat = ingredients_graph.node[ingr]\n",
    "        if dat['count'] > max_count:\n",
    "            max_ingr = ingr\n",
    "            max_count = dat['count']\n",
    "    if max_ingr:\n",
    "        for ingr in syns:\n",
    "            dat = ingredients_graph.node[ingr]\n",
    "            if dat['count'] > 0:\n",
    "                repr_ingredients_dict[ingr] = max_ingr"
   ]
  },
  {
   "cell_type": "code",
   "execution_count": 10,
   "metadata": {
    "collapsed": false
   },
   "outputs": [
    {
     "data": {
      "text/plain": [
       "'aceite de oliva'"
      ]
     },
     "execution_count": 10,
     "metadata": {},
     "output_type": "execute_result"
    }
   ],
   "source": [
    "repr_ingredients_dict['aceite de olivas']"
   ]
  },
  {
   "cell_type": "code",
   "execution_count": 11,
   "metadata": {
    "collapsed": false
   },
   "outputs": [
    {
     "data": {
      "text/plain": [
       "1609"
      ]
     },
     "execution_count": 11,
     "metadata": {},
     "output_type": "execute_result"
    }
   ],
   "source": [
    "len(repr_ingredients_dict)"
   ]
  },
  {
   "cell_type": "code",
   "execution_count": 12,
   "metadata": {
    "collapsed": false
   },
   "outputs": [],
   "source": [
    "repr_techniques_dict = {}\n",
    "\n",
    "for syns in nx.connected_components(techniques_graph):\n",
    "    max_tech = ''\n",
    "    max_count = 0\n",
    "    for tech in syns:\n",
    "        dat = techniques_graph.node[tech]\n",
    "        if dat['count'] > max_count:\n",
    "            max_tech = tech\n",
    "            max_count = dat['count']\n",
    "    if max_tech:\n",
    "        for tech in syns:\n",
    "            dat = techniques_graph.node[tech]\n",
    "            if dat['count'] > 0:\n",
    "                repr_techniques_dict[tech] = max_tech"
   ]
  },
  {
   "cell_type": "code",
   "execution_count": 13,
   "metadata": {
    "collapsed": false
   },
   "outputs": [
    {
     "data": {
      "text/plain": [
       "181"
      ]
     },
     "execution_count": 13,
     "metadata": {},
     "output_type": "execute_result"
    }
   ],
   "source": [
    "len(repr_techniques_dict)"
   ]
  },
  {
   "cell_type": "code",
   "execution_count": 14,
   "metadata": {
    "collapsed": false
   },
   "outputs": [
    {
     "data": {
      "text/plain": [
       "'horno'"
      ]
     },
     "execution_count": 14,
     "metadata": {},
     "output_type": "execute_result"
    }
   ],
   "source": [
    "repr_techniques_dict['al horno']"
   ]
  },
  {
   "cell_type": "code",
   "execution_count": 18,
   "metadata": {
    "collapsed": false
   },
   "outputs": [
    {
     "data": {
      "text/plain": [
       "1370"
      ]
     },
     "execution_count": 18,
     "metadata": {},
     "output_type": "execute_result"
    }
   ],
   "source": [
    "len(set(repr_ingredients_dict.values()))"
   ]
  },
  {
   "cell_type": "code",
   "execution_count": 19,
   "metadata": {
    "collapsed": false
   },
   "outputs": [
    {
     "data": {
      "text/plain": [
       "84"
      ]
     },
     "execution_count": 19,
     "metadata": {},
     "output_type": "execute_result"
    }
   ],
   "source": [
    "len(set(repr_techniques_dict.values()))"
   ]
  },
  {
   "cell_type": "code",
   "execution_count": null,
   "metadata": {
    "collapsed": true
   },
   "outputs": [],
   "source": []
  },
  {
   "cell_type": "code",
   "execution_count": null,
   "metadata": {
    "collapsed": true
   },
   "outputs": [],
   "source": []
  },
  {
   "cell_type": "code",
   "execution_count": null,
   "metadata": {
    "collapsed": true
   },
   "outputs": [],
   "source": []
  },
  {
   "cell_type": "code",
   "execution_count": null,
   "metadata": {
    "collapsed": true
   },
   "outputs": [],
   "source": []
  },
  {
   "cell_type": "code",
   "execution_count": null,
   "metadata": {
    "collapsed": true
   },
   "outputs": [],
   "source": []
  },
  {
   "cell_type": "code",
   "execution_count": 22,
   "metadata": {
    "collapsed": false
   },
   "outputs": [
    {
     "name": "stdout",
     "output_type": "stream",
     "text": [
      "100 rows inserted\n",
      "200 rows inserted\n",
      "300 rows inserted\n",
      "400 rows inserted\n",
      "500 rows inserted\n",
      "600 rows inserted\n",
      "700 rows inserted\n",
      "800 rows inserted\n",
      "900 rows inserted\n",
      "1000 rows inserted\n",
      "1100 rows inserted\n",
      "1200 rows inserted\n",
      "1214 rows inserted\n"
     ]
    }
   ],
   "source": [
    "db.drop_collection('elbulli')\n",
    "\n",
    "count = 0\n",
    "rows = []\n",
    "\n",
    "for row in db.elbulli_aux.find():\n",
    "    repr_ingredients = set()\n",
    "    for ingr in row['ingredients']:\n",
    "        r = repr_ingredients_dict[ingr]\n",
    "        repr_ingredients.add(r)\n",
    "    row['ingredients'] = sorted(repr_ingredients)\n",
    "    repr_techniques = set()\n",
    "    for tech in row['techniques']:\n",
    "        r = repr_techniques_dict[tech]\n",
    "        repr_techniques.add(r)\n",
    "    row['techniques'] = sorted(repr_techniques)\n",
    "    rows.append(row)\n",
    "    \n",
    "    count += 1\n",
    "    if count % 100 == 0:\n",
    "        db.elbulli.insert_many(rows)\n",
    "        rows = []\n",
    "        print(count, 'rows inserted')\n",
    "db.elbulli.insert_many(rows)\n",
    "rows = []\n",
    "print(count, 'rows inserted')"
   ]
  },
  {
   "cell_type": "code",
   "execution_count": null,
   "metadata": {
    "collapsed": true
   },
   "outputs": [],
   "source": []
  }
 ],
 "metadata": {
  "kernelspec": {
   "display_name": "Python 3",
   "language": "python",
   "name": "python3"
  },
  "language_info": {
   "codemirror_mode": {
    "name": "ipython",
    "version": 3
   },
   "file_extension": ".py",
   "mimetype": "text/x-python",
   "name": "python",
   "nbconvert_exporter": "python",
   "pygments_lexer": "ipython3",
   "version": "3.4.3"
  }
 },
 "nbformat": 4,
 "nbformat_minor": 0
}
