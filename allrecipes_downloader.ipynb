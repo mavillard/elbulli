{
 "cells": [
  {
   "cell_type": "code",
   "execution_count": 1,
   "metadata": {
    "collapsed": false
   },
   "outputs": [],
   "source": [
    "import os\n",
    "\n",
    "import requests\n",
    "from bs4 import BeautifulSoup"
   ]
  },
  {
   "cell_type": "code",
   "execution_count": 2,
   "metadata": {
    "collapsed": false
   },
   "outputs": [],
   "source": [
    "def is_a_valid_recipe(soup):\n",
    "    title = soup.title.string\n",
    "    ingredients = soup.find('section', 'recipe-ingredients')\n",
    "    instructions = soup.find('section', 'recipe-directions')\n",
    "    result = title != 'Allrecipes - File Not Found' and bool(ingredients) and bool(instructions)\n",
    "    return result"
   ]
  },
  {
   "cell_type": "code",
   "execution_count": 4,
   "metadata": {
    "collapsed": false
   },
   "outputs": [
    {
     "name": "stdout",
     "output_type": "stream",
     "text": [
      "Total urls: 5\n",
      "Total recipes: 1\n",
      "Recipe errors: 0\n",
      "Response errors: 0\n"
     ]
    }
   ],
   "source": [
    "total_urls  = 0\n",
    "total_recipes = 0\n",
    "recipe_errors = 0\n",
    "response_errors = 0\n",
    "other_errors = 0\n",
    "\n",
    "base_url = 'http://allrecipes.com/recipe/'\n",
    "lower_limit = 1\n",
    "upper_limit = 300000\n",
    "# for ide in range(lower_limit, upper_limit + 1):\n",
    "for ide in range(6901, 6906):\n",
    "    try:\n",
    "        str_id = str(ide)\n",
    "        folder_path = 'data/allrecipes/' + str(ide // 1000 * 1000)\n",
    "        if not os.path.exists(folder_path):\n",
    "            os.makedirs(folder_path)\n",
    "        file_path = folder_path + '/' + str_id + '.html'\n",
    "        if not os.path.isfile(file_path):\n",
    "            url = base_url + str_id\n",
    "            response = requests.get(url)\n",
    "            if response.ok:\n",
    "                soup = BeautifulSoup(response.content, 'html.parser')\n",
    "                if is_a_valid_recipe(soup):\n",
    "                    with open(file_path, 'w') as f:\n",
    "                        f.write(soup.prettify())\n",
    "                        total_recipes += 1\n",
    "                else:\n",
    "                    recipe_errors += 1\n",
    "            else:\n",
    "                response_errors += 1\n",
    "    except:\n",
    "        other_errors += 1\n",
    "    total_urls += 1\n",
    "#     if total_urls % 1000 == 0:\n",
    "#         print(total_urls, 'urls processed.')\n",
    "\n",
    "print('Total urls:', total_urls)\n",
    "print('Total recipes:', total_recipes)\n",
    "print('Recipe errors:', recipe_errors)\n",
    "print('Response errors:', response_errors)\n",
    "print('Other errors:', other_errors)"
   ]
  },
  {
   "cell_type": "code",
   "execution_count": null,
   "metadata": {
    "collapsed": true
   },
   "outputs": [],
   "source": []
  }
 ],
 "metadata": {
  "kernelspec": {
   "display_name": "Python 3",
   "language": "python",
   "name": "python3"
  },
  "language_info": {
   "codemirror_mode": {
    "name": "ipython",
    "version": 3
   },
   "file_extension": ".py",
   "mimetype": "text/x-python",
   "name": "python",
   "nbconvert_exporter": "python",
   "pygments_lexer": "ipython3",
   "version": "3.4.3"
  }
 },
 "nbformat": 4,
 "nbformat_minor": 0
}
